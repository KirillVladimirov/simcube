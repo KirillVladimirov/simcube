{
 "cells": [
  {
   "cell_type": "code",
   "execution_count": 1,
   "metadata": {},
   "outputs": [
    {
     "name": "stderr",
     "output_type": "stream",
     "text": [
      "/home/science/rbc_projects/rbcpro-ml-lab/venv/lib/python3.7/site-packages/nltk/decorators.py:68: DeprecationWarning: `formatargspec` is deprecated since Python 3.5. Use `signature` and the `Signature` object directly\n",
      "  regargs, varargs, varkwargs, defaults, formatvalue=lambda value: \"\"\n",
      "/home/science/rbc_projects/rbcpro-ml-lab/venv/lib/python3.7/site-packages/nltk/lm/counter.py:15: DeprecationWarning: Using or importing the ABCs from 'collections' instead of from 'collections.abc' is deprecated, and in 3.8 it will stop working\n",
      "  from collections import Sequence, defaultdict\n",
      "/home/science/rbc_projects/rbcpro-ml-lab/venv/lib/python3.7/site-packages/nltk/lm/vocabulary.py:13: DeprecationWarning: Using or importing the ABCs from 'collections' instead of from 'collections.abc' is deprecated, and in 3.8 it will stop working\n",
      "  from collections import Counter, Iterable\n"
     ]
    }
   ],
   "source": [
    "import glob\n",
    "import logging\n",
    "import os\n",
    "import re\n",
    "import uuid\n",
    "from pathlib import Path\n",
    "from pymongo import MongoClient\n",
    "import artm\n",
    "import click\n",
    "import mlflow\n",
    "from tqdm.notebook import tqdm\n",
    "import nltk\n",
    "\n",
    "import multiprocessing as mp"
   ]
  },
  {
   "cell_type": "code",
   "execution_count": 2,
   "metadata": {},
   "outputs": [],
   "source": [
    "logging.basicConfig(format='%(asctime)s : %(levelname)s : %(message)s', level=logging.INFO)"
   ]
  },
  {
   "cell_type": "code",
   "execution_count": 3,
   "metadata": {},
   "outputs": [],
   "source": [
    "raw_data_path = os.path.join(\"..\", \"..\", \"data\", \"raw\")\n",
    "processed_data_path = os.path.join(\"..\", \"..\", \"data\", \"processed\")\n",
    "models_path = os.path.join(\"..\", \"..\", \"models\")\n",
    "experiments_path = os.path.join(\"..\", \"..\", \"experiments\")"
   ]
  },
  {
   "cell_type": "code",
   "execution_count": 4,
   "metadata": {},
   "outputs": [],
   "source": [
    "# Создание файла с данными для обучения"
   ]
  },
  {
   "cell_type": "code",
   "execution_count": 6,
   "metadata": {},
   "outputs": [
    {
     "name": "stderr",
     "output_type": "stream",
     "text": [
      "2020-03-30 20:11:41,557 : INFO : Loading main dataset...\n"
     ]
    }
   ],
   "source": [
    "logging.info(\"Loading main dataset...\")\n",
    "client = MongoClient('localhost', 27017)\n",
    "db = client.publicru_test\n",
    "collection = db.documents_collection"
   ]
  },
  {
   "cell_type": "code",
   "execution_count": 7,
   "metadata": {},
   "outputs": [],
   "source": [
    "result = collection.find({}).skip(1000).limit(1)\n",
    "document = result[0]"
   ]
  },
  {
   "cell_type": "code",
   "execution_count": 8,
   "metadata": {},
   "outputs": [],
   "source": [
    "text, bigrams, trigrams = [], [], []\n",
    "for para in document[\"t_body\"][0]:\n",
    "    for sent in para:\n",
    "        bigrams += list(nltk.bigrams(sent))\n",
    "        trigrams += list(nltk.trigrams(sent))\n",
    "        text += sent\n",
    "bigrams = [\"!\".join(b) for b in bigrams]\n",
    "trigrams = [\"!\".join(t) for t in trigrams]\n",
    "#             title = document['t_title'][0] if document['t_title'] else []\n",
    "title = document['t_title'][0][0][0] if document['t_title'][0][0] else []\n",
    "parts = [f\"{document['_id']}\"]\n",
    "parts += ['|@title']  + title\n",
    "parts += ['|@text']  + text\n",
    "parts += ['|@bigrams']  + bigrams\n",
    "parts += ['|@trigrams']  + trigrams\n",
    "post = ' '.join(parts)"
   ]
  },
  {
   "cell_type": "code",
   "execution_count": 9,
   "metadata": {},
   "outputs": [
    {
     "data": {
      "text/plain": [
       "'5e7854ecc59124ce04bed321 |@title чат_S помощь_S |@text аукцион_S рубрика_S вести_V информационный_A центр_S ъ рисунок_S сергей_S голосов_S покупатель_S любить_V общаться_V интернет_S магазин_S данные_S последний_A опрос_S проводить_V facebook половина_S потребитель_S предпочитать_V онлайн_ADV покупка_S сайт_S функция_S чат_S вывод_S коммуникация_S мессенджер_S набирать_V сила_S собираться_V замедляться_V будущее_S респондент_S пользоваться_V мессенджер_S коммерческий_A цель_S посылать_V сообщение_S ожидать_V активный_A переписка_S следующий_A использование_S приложение_S переписка_S являться_V прерогатива_S молодой_A миллениал_S предпочитать_V мессенджер_S звонок_S почта_S отставать_V родитель_S поколение_S х_S практически_ADV вровень_ADV идти_V бебибумер_S рождаться_V мировой_A война_S покупатель_S любить_V пользоваться_V услуга_S обратный_A связь_S быстрый_A отклик_S спрашивать_V товар_S услуга_S местонахождение_S часы_S работа_S магазин_S взаимодействие_S онлайн_ADV магазин_S мессенджер_S клиент_S оставлять_V отзыв_S публиковать_V фото_S покупка_S подготовка_S материал_S использовать_V информация_S die welt marketwatch busi insid pbs org reuter guardian |@bigrams рубрика_S!вести_V вести_V!информационный_A информационный_A!центр_S центр_S!ъ рисунок_S!сергей_S сергей_S!голосов_S покупатель_S!любить_V любить_V!общаться_V общаться_V!интернет_S интернет_S!магазин_S данные_S!последний_A последний_A!опрос_S опрос_S!проводить_V проводить_V!facebook facebook!половина_S половина_S!потребитель_S потребитель_S!предпочитать_V предпочитать_V!онлайн_ADV онлайн_ADV!покупка_S покупка_S!сайт_S сайт_S!функция_S функция_S!чат_S вывод_S!коммуникация_S коммуникация_S!мессенджер_S мессенджер_S!набирать_V набирать_V!сила_S сила_S!собираться_V собираться_V!замедляться_V замедляться_V!будущее_S респондент_S!пользоваться_V пользоваться_V!мессенджер_S мессенджер_S!коммерческий_A коммерческий_A!цель_S цель_S!посылать_V посылать_V!сообщение_S ожидать_V!активный_A активный_A!переписка_S переписка_S!следующий_A использование_S!приложение_S приложение_S!переписка_S переписка_S!являться_V являться_V!прерогатива_S прерогатива_S!молодой_A миллениал_S!предпочитать_V предпочитать_V!мессенджер_S мессенджер_S!звонок_S звонок_S!почта_S отставать_V!родитель_S родитель_S!поколение_S поколение_S!х_S х_S!практически_ADV практически_ADV!вровень_ADV вровень_ADV!идти_V идти_V!бебибумер_S бебибумер_S!рождаться_V рождаться_V!мировой_A мировой_A!война_S покупатель_S!любить_V любить_V!пользоваться_V пользоваться_V!услуга_S услуга_S!обратный_A обратный_A!связь_S связь_S!быстрый_A быстрый_A!отклик_S отклик_S!спрашивать_V спрашивать_V!товар_S товар_S!услуга_S услуга_S!местонахождение_S местонахождение_S!часы_S часы_S!работа_S работа_S!магазин_S взаимодействие_S!онлайн_ADV онлайн_ADV!магазин_S магазин_S!мессенджер_S мессенджер_S!клиент_S клиент_S!оставлять_V оставлять_V!отзыв_S отзыв_S!публиковать_V публиковать_V!фото_S фото_S!покупка_S подготовка_S!материал_S материал_S!использовать_V использовать_V!информация_S информация_S!die die!welt welt!marketwatch marketwatch!busi busi!insid insid!pbs pbs!org org!reuter reuter!guardian |@trigrams рубрика_S!вести_V!информационный_A вести_V!информационный_A!центр_S информационный_A!центр_S!ъ рисунок_S!сергей_S!голосов_S покупатель_S!любить_V!общаться_V любить_V!общаться_V!интернет_S общаться_V!интернет_S!магазин_S данные_S!последний_A!опрос_S последний_A!опрос_S!проводить_V опрос_S!проводить_V!facebook проводить_V!facebook!половина_S facebook!половина_S!потребитель_S половина_S!потребитель_S!предпочитать_V потребитель_S!предпочитать_V!онлайн_ADV предпочитать_V!онлайн_ADV!покупка_S онлайн_ADV!покупка_S!сайт_S покупка_S!сайт_S!функция_S сайт_S!функция_S!чат_S вывод_S!коммуникация_S!мессенджер_S коммуникация_S!мессенджер_S!набирать_V мессенджер_S!набирать_V!сила_S набирать_V!сила_S!собираться_V сила_S!собираться_V!замедляться_V собираться_V!замедляться_V!будущее_S респондент_S!пользоваться_V!мессенджер_S пользоваться_V!мессенджер_S!коммерческий_A мессенджер_S!коммерческий_A!цель_S коммерческий_A!цель_S!посылать_V цель_S!посылать_V!сообщение_S ожидать_V!активный_A!переписка_S активный_A!переписка_S!следующий_A использование_S!приложение_S!переписка_S приложение_S!переписка_S!являться_V переписка_S!являться_V!прерогатива_S являться_V!прерогатива_S!молодой_A миллениал_S!предпочитать_V!мессенджер_S предпочитать_V!мессенджер_S!звонок_S мессенджер_S!звонок_S!почта_S отставать_V!родитель_S!поколение_S родитель_S!поколение_S!х_S поколение_S!х_S!практически_ADV х_S!практически_ADV!вровень_ADV практически_ADV!вровень_ADV!идти_V вровень_ADV!идти_V!бебибумер_S идти_V!бебибумер_S!рождаться_V бебибумер_S!рождаться_V!мировой_A рождаться_V!мировой_A!война_S покупатель_S!любить_V!пользоваться_V любить_V!пользоваться_V!услуга_S пользоваться_V!услуга_S!обратный_A услуга_S!обратный_A!связь_S обратный_A!связь_S!быстрый_A связь_S!быстрый_A!отклик_S быстрый_A!отклик_S!спрашивать_V отклик_S!спрашивать_V!товар_S спрашивать_V!товар_S!услуга_S товар_S!услуга_S!местонахождение_S услуга_S!местонахождение_S!часы_S местонахождение_S!часы_S!работа_S часы_S!работа_S!магазин_S взаимодействие_S!онлайн_ADV!магазин_S онлайн_ADV!магазин_S!мессенджер_S магазин_S!мессенджер_S!клиент_S мессенджер_S!клиент_S!оставлять_V клиент_S!оставлять_V!отзыв_S оставлять_V!отзыв_S!публиковать_V отзыв_S!публиковать_V!фото_S публиковать_V!фото_S!покупка_S подготовка_S!материал_S!использовать_V материал_S!использовать_V!информация_S использовать_V!информация_S!die информация_S!die!welt die!welt!marketwatch welt!marketwatch!busi marketwatch!busi!insid busi!insid!pbs insid!pbs!org pbs!org!reuter org!reuter!guardian'"
      ]
     },
     "execution_count": 9,
     "metadata": {},
     "output_type": "execute_result"
    }
   ],
   "source": [
    "post"
   ]
  },
  {
   "cell_type": "code",
   "execution_count": 16,
   "metadata": {},
   "outputs": [],
   "source": [
    "def create_corpus_file(collection, path_folder):\n",
    "    with open(os.path.join(experiments_path, path_folder, 'vowpal_wabbit_corpus.txt'), 'w') as the_file:\n",
    "        mongo_filter = {\n",
    "            \"t_title\": {\"$exists\": True}, \n",
    "            \"t_body\": {\"$exists\": True}, \n",
    "            \"edition_name\": { \"$in\": [\"РБК Журнал\", \"Российская газета\"]}, \n",
    "            \"words_count\": {\"$gt\": 300}\n",
    "        }\n",
    "        for document in tqdm(\n",
    "                collection.find(mongo_filter, {\"_id\": 1, \"t_title\": 1, \"t_body\": 1}, no_cursor_timeout=True)):\n",
    "            text, bigrams, trigrams = [], [], []\n",
    "            for para in document[\"t_body\"][0]:\n",
    "                for sent in para:\n",
    "                    bigrams += list(nltk.bigrams(sent))\n",
    "                    trigrams += list(nltk.trigrams(sent))\n",
    "                    text += sent\n",
    "            bigrams = [\"!\".join(b) for b in bigrams]\n",
    "            trigrams = [\"!\".join(t) for t in trigrams]\n",
    "#             title = document['t_title'][0] if document['t_title'] else []\n",
    "            title = document['t_title'][0]\n",
    "            if title:\n",
    "                title = title[0][0] if title[0] else []\n",
    "            parts = [f\"{document['_id']}\"]\n",
    "            parts += ['|@title']  + title\n",
    "            parts += ['|@text']  + text\n",
    "            parts += ['|@bigrams']  + bigrams\n",
    "            parts += ['|@trigrams']  + trigrams\n",
    "            post = ' '.join(parts)\n",
    "            the_file.write(f\"{post}\\n\")"
   ]
  },
  {
   "cell_type": "code",
   "execution_count": 17,
   "metadata": {},
   "outputs": [],
   "source": [
    "def preparing_batch(path_folder):\n",
    "    if len(glob.glob(os.path.join(experiments_path, path_folder, 'batches', '*.batch'))) > 1:\n",
    "        logging.info(\"Remove old batches.\")\n",
    "        pth = Path(os.path.join(experiments_path, path_folder, 'batches'))\n",
    "        for child in pth.glob('*'):\n",
    "            if child.is_file():\n",
    "                child.unlink()\n",
    "        pth.rmdir()\n",
    "\n",
    "    logging.info(\"Generate batches files...\")\n",
    "    batch_vectorizer = artm.BatchVectorizer(\n",
    "        data_path=os.path.join(experiments_path, path_folder, 'vowpal_wabbit_corpus.txt'),\n",
    "        data_format='vowpal_wabbit',\n",
    "        batch_size=5000,\n",
    "        target_folder=os.path.join(experiments_path, path_folder, 'batches'),\n",
    "    )\n",
    "    logging.info(\"Gathering dictionary...\")\n",
    "    dictionary = batch_vectorizer.dictionary\n",
    "    dictionary.save_text(dictionary_path=os.path.join(experiments_path, path_folder, 'dictionary.txt'))"
   ]
  },
  {
   "cell_type": "code",
   "execution_count": 18,
   "metadata": {},
   "outputs": [],
   "source": [
    "data_folder = \"multiclass_model_test\""
   ]
  },
  {
   "cell_type": "code",
   "execution_count": 19,
   "metadata": {},
   "outputs": [
    {
     "name": "stderr",
     "output_type": "stream",
     "text": [
      "2020-03-30 20:14:15,132 : INFO : Original dataset size: 588456\n",
      "2020-03-30 20:14:16,258 : INFO : Working dataset size: 23612\n"
     ]
    }
   ],
   "source": [
    "# mongo_filter = {\"words_count\": {\"$gt\": 400}}\n",
    "mongo_filter = {\"edition_name\": { \"$in\": [\"РБК Журнал\", \"Российская газета\"]}, \"words_count\": {\"$gt\": 300}}\n",
    "logging.info(f\"Original dataset size: {collection.count_documents({})}\")\n",
    "logging.info(f\"Working dataset size: {collection.count_documents(mongo_filter)}\")"
   ]
  },
  {
   "cell_type": "code",
   "execution_count": 20,
   "metadata": {},
   "outputs": [
    {
     "name": "stderr",
     "output_type": "stream",
     "text": [
      "2020-03-30 20:14:16,270 : INFO : Creating corpus file in vw format...\n"
     ]
    },
    {
     "data": {
      "application/vnd.jupyter.widget-view+json": {
       "model_id": "1a726ff846cf4621a72bd30dafa4bb39",
       "version_major": 2,
       "version_minor": 0
      },
      "text/plain": [
       "HBox(children=(FloatProgress(value=1.0, bar_style='info', max=1.0), HTML(value='')))"
      ]
     },
     "metadata": {},
     "output_type": "display_data"
    },
    {
     "name": "stdout",
     "output_type": "stream",
     "text": [
      "\n"
     ]
    },
    {
     "name": "stderr",
     "output_type": "stream",
     "text": [
      "2020-03-30 20:14:44,107 : INFO : Done.\n",
      "2020-03-30 20:14:44,109 : INFO : Preparing batches for artm model...\n",
      "2020-03-30 20:14:44,111 : INFO : Generate batches files...\n",
      "2020-03-30 20:17:54,353 : INFO : Gathering dictionary...\n",
      "2020-03-30 20:19:46,930 : INFO : Finish.\n"
     ]
    }
   ],
   "source": [
    "logging.info(\"Creating corpus file in vw format...\")\n",
    "Path(os.path.join(experiments_path, data_folder)).mkdir(parents=True, exist_ok=True)\n",
    "create_corpus_file(collection, data_folder)\n",
    "logging.info(\"Done.\")\n",
    "\n",
    "logging.info(\"Preparing batches for artm model...\")\n",
    "preparing_batch(data_folder)\n",
    "logging.info(\"Finish.\")"
   ]
  },
  {
   "cell_type": "code",
   "execution_count": null,
   "metadata": {},
   "outputs": [],
   "source": []
  },
  {
   "cell_type": "code",
   "execution_count": null,
   "metadata": {},
   "outputs": [],
   "source": []
  },
  {
   "cell_type": "code",
   "execution_count": null,
   "metadata": {},
   "outputs": [],
   "source": []
  },
  {
   "cell_type": "code",
   "execution_count": null,
   "metadata": {},
   "outputs": [],
   "source": []
  },
  {
   "cell_type": "code",
   "execution_count": 13,
   "metadata": {},
   "outputs": [
    {
     "name": "stderr",
     "output_type": "stream",
     "text": [
      "<>:25: DeprecationWarning: invalid escape sequence \\d\n",
      "<>:25: DeprecationWarning: invalid escape sequence \\d\n",
      "<>:25: DeprecationWarning: invalid escape sequence \\d\n",
      "<ipython-input-13-e4b371bae770>:25: DeprecationWarning: invalid escape sequence \\d\n",
      "  regex = \"\\d+\"\n"
     ]
    }
   ],
   "source": [
    "def load_batches(path_folder, min_df):\n",
    "    \"\"\"\n",
    "    path_folder: string, folder with vowpal_wabbit_corpus.txt and batches/\n",
    "    min_df: integer, minimal document frequency \n",
    "    \"\"\"\n",
    "    if len(glob.glob(os.path.join(experiments_path, path_folder, 'batches', '*.batch'))) < 1:\n",
    "        logging.info(\"Generating batches files...\")\n",
    "        bv = artm.BatchVectorizer(\n",
    "            data_path=os.path.join(experiments_path, path_folder, 'vowpal_wabbit_corpus.txt'),\n",
    "            data_format='vowpal_wabbit',\n",
    "            batch_size=2000,\n",
    "            target_folder=os.path.join(experiments_path, path_folder, 'batches'),\n",
    "        )\n",
    "        dictionary = bv.dictionary\n",
    "        dictionary.save_text(dictionary_path=os.path.join(experiments_path, path_folder, 'dictionary.txt'))\n",
    "    else:\n",
    "        logging.info(\"Loading batches files...\")\n",
    "        bv = artm.BatchVectorizer(\n",
    "            data_path=os.path.join(experiments_path, path_folder, 'batches'),\n",
    "            data_format='batches',\n",
    "        )\n",
    "        dictionary = artm.Dictionary()\n",
    "        dictionary.load_text(dictionary_path=os.path.join(experiments_path, path_folder, 'dictionary.txt'))\n",
    "\n",
    "    regex = \"\\d+\"\n",
    "    match = re.findall(regex, str(dictionary))\n",
    "    logging.info(f\"Original dictionary size: {int(match[-1])} words.\")\n",
    "    dictionary.filter(min_df=min_df, inplace=True)\n",
    "    match = re.findall(regex, str(dictionary))\n",
    "    logging.info(f\"Filtered dictionary size: {int(match[-1])} words.\")\n",
    "    return bv, dictionary\n"
   ]
  },
  {
   "cell_type": "code",
   "execution_count": 14,
   "metadata": {},
   "outputs": [],
   "source": [
    "def create_topic_names(topic_count=200, background_topic_count=20):\n",
    "    objective_topics = ['objective_topic_' + str(x) for x in range(0, topic_count - background_topic_count)]\n",
    "    background_topics = ['background_topic_' + str(x) for x in range(topic_count - background_topic_count, topic_count)]\n",
    "    all_topics = objective_topics + background_topics\n",
    "\n",
    "    return all_topics, objective_topics, background_topics"
   ]
  },
  {
   "cell_type": "code",
   "execution_count": 15,
   "metadata": {},
   "outputs": [],
   "source": [
    "def print_measures(model):\n",
    "    logging.info('Sparsity Title Phi: {0:.3f}'.format(model.score_tracker['SparsityPhiTitleScore'].last_value))\n",
    "    logging.info('Sparsity Text Phi: {0:.3f}'.format(model.score_tracker['SparsityPhiTextScore'].last_value))\n",
    "    logging.info('Sparsity Bigrams Phi: {0:.3f}'.format(model.score_tracker['SparsityPhiBigramsScore'].last_value))\n",
    "    logging.info('Sparsity Trigrams Phi: {0:.3f}'.format(model.score_tracker['SparsityPhiTrigramsScore'].last_value))\n",
    "    logging.info('Sparsity Theta: {0:.3f}'.format(model.score_tracker['SparsityThetaScore'].last_value))\n",
    "    logging.info('Kernel title contrast: {0:.3f}'.format(model.score_tracker['TopicKernelTitleScore'].last_average_contrast))\n",
    "    logging.info('Kernel text contrast: {0:.3f}'.format(model.score_tracker['TopicKernelTextScore'].last_average_contrast))\n",
    "    logging.info('Kernel bigrams contrast: {0:.3f}'.format(model.score_tracker['TopicKernelBigramsScore'].last_average_contrast))\n",
    "    logging.info('Kernel trigrams contrast: {0:.3f}'.format(model.score_tracker['TopicKernelTrigramsScore'].last_average_contrast))\n",
    "    logging.info('Kernel title purity: {0:.3f}'.format(model.score_tracker['TopicKernelTitleScore'].last_average_purity))\n",
    "    logging.info('Kernel text purity: {0:.3f}'.format(model.score_tracker['TopicKernelTextScore'].last_average_purity))\n",
    "    logging.info('Kernel bigrams purity: {0:.3f}'.format(model.score_tracker['TopicKernelBigramsScore'].last_average_purity))\n",
    "    logging.info('Kernel trigrams purity: {0:.3f}'.format(model.score_tracker['TopicKernelTrigramsScore'].last_average_purity))\n",
    "    logging.info('Perplexity: {0:.3f}'.format(model.score_tracker['PerplexityScore'].last_value))"
   ]
  },
  {
   "cell_type": "code",
   "execution_count": 16,
   "metadata": {},
   "outputs": [],
   "source": [
    "def generate_name():\n",
    "    return str(uuid.uuid1())"
   ]
  },
  {
   "cell_type": "code",
   "execution_count": 17,
   "metadata": {},
   "outputs": [],
   "source": [
    "def mlflow_log_metrics(model):\n",
    "    mlflow.log_metrics({\n",
    "        \"DeccorPhi\": model.regularizers['DeccorPhi'].tau,\n",
    "        \"SmoothPhi\": model.regularizers['SmoothPhi'].tau,\n",
    "        \"SmoothTheta\": model.regularizers['SmoothTheta'].tau,\n",
    "        \"SparsePhi\": model.regularizers['SparsePhi'].tau,\n",
    "        \"SparseTheta\": model.regularizers['SparseTheta'].tau,\n",
    "        \"SparsityPhiTitleScore\": model.score_tracker['SparsityPhiTitleScore'].last_value,\n",
    "        \"SparsityPhiTextScore\": model.score_tracker['SparsityPhiTextScore'].last_value,\n",
    "        \"SparsityPhiBigramsScore\": model.score_tracker['SparsityPhiBigramsScore'].last_value,\n",
    "        \"SparsityPhiTrigramsScore\": model.score_tracker['SparsityPhiTrigramsScore'].last_value,\n",
    "        \"SparsityThetaScore\": model.score_tracker['SparsityThetaScore'].last_value,\n",
    "        \"KernelContrastTitleScore\": model.score_tracker['TopicKernelTitleScore'].last_average_contrast,\n",
    "        \"KernelContrastTextScore\": model.score_tracker['TopicKernelTextScore'].last_average_contrast,\n",
    "        \"KernelContrastBigramsScore\": model.score_tracker['TopicKernelBigramsScore'].last_average_contrast,\n",
    "        \"KernelContrastTrigramsScore\": model.score_tracker['TopicKernelTrigramsScore'].last_average_contrast,\n",
    "        \"TopicPurityTitleScore\": model.score_tracker['TopicKernelTitleScore'].last_average_purity,\n",
    "        \"TopicPurityTextScore\": model.score_tracker['TopicKernelTextScore'].last_average_purity,\n",
    "        \"TopicPurityBigramsScore\": model.score_tracker['TopicKernelBigramsScore'].last_average_purity,\n",
    "        \"TopicPurityTrigramsScore\": model.score_tracker['TopicKernelTrigramsScore'].last_average_purity,\n",
    "        \"PerplexityScore\": model.score_tracker['PerplexityScore'].last_value,\n",
    "    }, step=model.num_phi_updates)"
   ]
  },
  {
   "cell_type": "code",
   "execution_count": 18,
   "metadata": {},
   "outputs": [],
   "source": [
    "def next_step(i, model, batch_vectorizer, step_size, dataset_name):\n",
    "    model_name = generate_name()\n",
    "    logging.info(model_name)\n",
    "\n",
    "    for _ in tqdm(range(step_size)):\n",
    "        model.fit_offline(batch_vectorizer=batch_vectorizer, num_collection_passes=1)\n",
    "        mlflow_log_metrics(model)\n",
    "    print_measures(model)\n",
    "\n",
    "    Path(os.path.join(experiments_path, 'models')).mkdir(parents=True, exist_ok=True)\n",
    "    model_dir_name = os.path.join(experiments_path, 'models', f\"{model_name}\")\n",
    "    model.dump_artm_model(model_dir_name)\n",
    "    mlflow.set_tag(f\"model_dump_{i}\", model_dir_name)\n",
    "    mlflow.log_artifacts(model_dir_name)"
   ]
  },
  {
   "cell_type": "code",
   "execution_count": null,
   "metadata": {},
   "outputs": [],
   "source": []
  },
  {
   "cell_type": "code",
   "execution_count": 26,
   "metadata": {},
   "outputs": [],
   "source": [
    "dataset_name = \"multiclass_model_test\"\n",
    "min_df = 6\n",
    "num_all_topics = 200\n",
    "num_background_topics = 10\n",
    "step_size = 20"
   ]
  },
  {
   "cell_type": "code",
   "execution_count": 27,
   "metadata": {},
   "outputs": [
    {
     "name": "stderr",
     "output_type": "stream",
     "text": [
      "2020-03-30 22:59:42,616 : INFO : Loading batches files...\n",
      "2020-03-30 23:02:13,465 : INFO : Original dictionary size: 13350950 words.\n",
      "2020-03-30 23:02:18,859 : INFO : Filtered dictionary size: 324844 words.\n"
     ]
    }
   ],
   "source": [
    "bv, dictionary = load_batches(dataset_name, min_df)"
   ]
  },
  {
   "cell_type": "code",
   "execution_count": 28,
   "metadata": {},
   "outputs": [],
   "source": [
    "all_topics, objective_topics, background_topics = create_topic_names(num_all_topics, num_background_topics)"
   ]
  },
  {
   "cell_type": "code",
   "execution_count": 29,
   "metadata": {},
   "outputs": [],
   "source": [
    "scores_artm = [\n",
    "        artm.PerplexityScore(name='PerplexityScore', dictionary=dictionary, class_ids=[\"@title\", \"@text\", \"@bigrams\", \"@trigrams\"]),\n",
    "        artm.SparsityPhiScore(name='SparsityPhiTitleScore', topic_names=objective_topics, class_id=\"@title\"),\n",
    "        artm.SparsityPhiScore(name='SparsityPhiTextScore', topic_names=objective_topics, class_id=\"@text\"),\n",
    "        artm.SparsityPhiScore(name='SparsityPhiBigramsScore', topic_names=objective_topics, class_id=\"@bigrams\"),\n",
    "        artm.SparsityPhiScore(name='SparsityPhiTrigramsScore', topic_names=objective_topics, class_id=\"@trigrams\"),\n",
    "        artm.SparsityThetaScore(name='SparsityThetaScore', topic_names=objective_topics),\n",
    "        artm.TopTokensScore(name='TopTokensTitleScore', num_tokens=20, topic_names=objective_topics, dictionary=dictionary, class_id=\"@title\"),\n",
    "        artm.TopTokensScore(name='TopTokensTextScore', num_tokens=20, topic_names=objective_topics, dictionary=dictionary, class_id=\"@text\"),\n",
    "        artm.TopTokensScore(name='TopTokensBigramsScore', num_tokens=20, topic_names=objective_topics, dictionary=dictionary, class_id=\"@bigrams\"),\n",
    "        artm.TopTokensScore(name='TopTokensTrigramsScore', num_tokens=20, topic_names=objective_topics, dictionary=dictionary, class_id=\"@trigrams\"),\n",
    "        artm.TopicKernelScore(name='TopicKernelTitleScore', class_id=\"@title\", probability_mass_threshold=0.25,\n",
    "                              topic_names=objective_topics, dictionary=dictionary),\n",
    "        artm.TopicKernelScore(name='TopicKernelTextScore', class_id=\"@text\", probability_mass_threshold=0.25,\n",
    "                              topic_names=objective_topics, dictionary=dictionary),\n",
    "        artm.TopicKernelScore(name='TopicKernelBigramsScore', class_id=\"@bigrams\", probability_mass_threshold=0.25,\n",
    "                              topic_names=objective_topics, dictionary=dictionary),\n",
    "        artm.TopicKernelScore(name='TopicKernelTrigramsScore', class_id=\"@trigrams\", probability_mass_threshold=0.25,\n",
    "                              topic_names=objective_topics, dictionary=dictionary),\n",
    "    ]"
   ]
  },
  {
   "cell_type": "code",
   "execution_count": 30,
   "metadata": {},
   "outputs": [],
   "source": [
    "regularizers_artm = [\n",
    "        artm.DecorrelatorPhiRegularizer(name='DeccorPhi', topic_names=objective_topics, gamma=0, tau=0),\n",
    "        artm.SmoothSparsePhiRegularizer(name='SparsePhi', topic_names=objective_topics, dictionary=dictionary, gamma=0,\n",
    "                                        tau=0),\n",
    "        artm.SmoothSparsePhiRegularizer(name='SmoothPhi', topic_names=background_topics, dictionary=dictionary, gamma=0,\n",
    "                                        tau=0),\n",
    "        artm.SmoothSparseThetaRegularizer(name='SparseTheta', topic_names=objective_topics, tau=0),\n",
    "        artm.SmoothSparseThetaRegularizer(name='SmoothTheta', topic_names=background_topics, tau=0),\n",
    "        artm.TopicSelectionThetaRegularizer(name='TopicSelectionTheta', topic_names=objective_topics, tau=0)\n",
    "    ]"
   ]
  },
  {
   "cell_type": "code",
   "execution_count": 31,
   "metadata": {},
   "outputs": [],
   "source": [
    "model = artm.ARTM(\n",
    "        num_topics=num_all_topics,\n",
    "        topic_names=all_topics,\n",
    "        class_ids={'@title': 3.0, '@text': 1.0, \"@bigrams\": 2.0, \"@trigrams\": 4.0},\n",
    "        num_processors=mp.cpu_count() - 1,\n",
    "        num_document_passes=2,\n",
    "        regularizers=regularizers_artm,\n",
    "        scores=scores_artm,\n",
    "        dictionary=dictionary,\n",
    "        cache_theta=False,\n",
    "        seed=42,\n",
    "        show_progress_bars=False\n",
    "    )"
   ]
  },
  {
   "cell_type": "code",
   "execution_count": 32,
   "metadata": {},
   "outputs": [
    {
     "name": "stderr",
     "output_type": "stream",
     "text": [
      "2020-03-30 23:02:29,859 : INFO : Run learning...\n",
      "2020-03-30 23:02:29,909 : INFO : 62bdf61e-72c1-11ea-971c-2532616bfce2\n"
     ]
    },
    {
     "data": {
      "application/vnd.jupyter.widget-view+json": {
       "model_id": "887489d3ebfa4ebaba46d56796960469",
       "version_major": 2,
       "version_minor": 0
      },
      "text/plain": [
       "HBox(children=(FloatProgress(value=0.0, max=20.0), HTML(value='')))"
      ]
     },
     "metadata": {},
     "output_type": "display_data"
    },
    {
     "name": "stderr",
     "output_type": "stream",
     "text": [
      "2020-03-30 23:47:34,668 : INFO : Sparsity Title Phi: 0.368\n",
      "2020-03-30 23:47:34,669 : INFO : Sparsity Text Phi: 0.401\n",
      "2020-03-30 23:47:34,670 : INFO : Sparsity Bigrams Phi: 0.516\n",
      "2020-03-30 23:47:34,671 : INFO : Sparsity Trigrams Phi: 0.707\n",
      "2020-03-30 23:47:34,672 : INFO : Sparsity Theta: 0.000\n",
      "2020-03-30 23:47:34,697 : INFO : Kernel title contrast: 0.456\n"
     ]
    },
    {
     "name": "stdout",
     "output_type": "stream",
     "text": [
      "\n"
     ]
    },
    {
     "name": "stderr",
     "output_type": "stream",
     "text": [
      "2020-03-30 23:47:35,023 : INFO : Kernel text contrast: 0.496\n",
      "2020-03-30 23:47:36,443 : INFO : Kernel bigrams contrast: 0.484\n",
      "2020-03-30 23:47:36,925 : INFO : Kernel trigrams contrast: 0.603\n",
      "2020-03-30 23:47:37,089 : INFO : Kernel title purity: 0.306\n",
      "2020-03-30 23:47:37,408 : INFO : Kernel text purity: 0.199\n",
      "2020-03-30 23:47:38,855 : INFO : Kernel bigrams purity: 0.422\n",
      "2020-03-30 23:47:39,327 : INFO : Kernel trigrams purity: 0.661\n",
      "2020-03-30 23:47:39,452 : INFO : Perplexity: 16.159\n",
      "2020-03-30 23:47:46,139 : INFO : b5bdd8ce-72c7-11ea-971c-2532616bfce2\n"
     ]
    },
    {
     "data": {
      "application/vnd.jupyter.widget-view+json": {
       "model_id": "33f04494400d46c5b22b1344d2b112b3",
       "version_major": 2,
       "version_minor": 0
      },
      "text/plain": [
       "HBox(children=(FloatProgress(value=0.0, max=20.0), HTML(value='')))"
      ]
     },
     "metadata": {},
     "output_type": "display_data"
    },
    {
     "name": "stderr",
     "output_type": "stream",
     "text": [
      "2020-03-31 00:36:02,860 : INFO : Sparsity Title Phi: 0.880\n",
      "2020-03-31 00:36:02,862 : INFO : Sparsity Text Phi: 0.801\n",
      "2020-03-31 00:36:02,864 : INFO : Sparsity Bigrams Phi: 0.913\n",
      "2020-03-31 00:36:02,866 : INFO : Sparsity Trigrams Phi: 0.953\n",
      "2020-03-31 00:36:02,867 : INFO : Sparsity Theta: 0.000\n",
      "2020-03-31 00:36:02,945 : INFO : Kernel title contrast: 0.469\n"
     ]
    },
    {
     "name": "stdout",
     "output_type": "stream",
     "text": [
      "\n"
     ]
    },
    {
     "name": "stderr",
     "output_type": "stream",
     "text": [
      "2020-03-31 00:36:03,828 : INFO : Kernel text contrast: 0.506\n",
      "2020-03-31 00:36:07,524 : INFO : Kernel bigrams contrast: 0.501\n",
      "2020-03-31 00:36:08,874 : INFO : Kernel trigrams contrast: 0.631\n",
      "2020-03-31 00:36:08,966 : INFO : Kernel title purity: 0.348\n",
      "2020-03-31 00:36:09,860 : INFO : Kernel text purity: 0.246\n",
      "2020-03-31 00:36:13,636 : INFO : Kernel bigrams purity: 0.475\n",
      "2020-03-31 00:36:15,006 : INFO : Kernel trigrams purity: 0.720\n",
      "2020-03-31 00:36:15,049 : INFO : Perplexity: 15.760\n",
      "2020-03-31 00:36:20,839 : INFO : 7f09b6e8-72ce-11ea-971c-2532616bfce2\n"
     ]
    },
    {
     "data": {
      "application/vnd.jupyter.widget-view+json": {
       "model_id": "7203be25e5c84a9dbe271781a47b50b9",
       "version_major": 2,
       "version_minor": 0
      },
      "text/plain": [
       "HBox(children=(FloatProgress(value=0.0, max=20.0), HTML(value='')))"
      ]
     },
     "metadata": {},
     "output_type": "display_data"
    },
    {
     "name": "stderr",
     "output_type": "stream",
     "text": [
      "2020-03-31 01:25:57,477 : INFO : Sparsity Title Phi: 0.925\n",
      "2020-03-31 01:25:57,478 : INFO : Sparsity Text Phi: 0.858\n",
      "2020-03-31 01:25:57,480 : INFO : Sparsity Bigrams Phi: 0.941\n",
      "2020-03-31 01:25:57,481 : INFO : Sparsity Trigrams Phi: 0.968\n",
      "2020-03-31 01:25:57,482 : INFO : Sparsity Theta: 0.000\n",
      "2020-03-31 01:25:57,564 : INFO : Kernel title contrast: 0.484\n"
     ]
    },
    {
     "name": "stdout",
     "output_type": "stream",
     "text": [
      "\n"
     ]
    },
    {
     "name": "stderr",
     "output_type": "stream",
     "text": [
      "2020-03-31 01:25:58,933 : INFO : Kernel text contrast: 0.508\n",
      "2020-03-31 01:26:04,824 : INFO : Kernel bigrams contrast: 0.509\n",
      "2020-03-31 01:26:06,872 : INFO : Kernel trigrams contrast: 0.644\n",
      "2020-03-31 01:26:06,982 : INFO : Kernel title purity: 0.367\n",
      "2020-03-31 01:26:08,356 : INFO : Kernel text purity: 0.271\n",
      "2020-03-31 01:26:14,275 : INFO : Kernel bigrams purity: 0.500\n",
      "2020-03-31 01:26:16,365 : INFO : Kernel trigrams purity: 0.745\n",
      "2020-03-31 01:26:16,406 : INFO : Perplexity: 15.695\n",
      "2020-03-31 01:26:22,278 : INFO : 7c090848-72d5-11ea-971c-2532616bfce2\n"
     ]
    },
    {
     "data": {
      "application/vnd.jupyter.widget-view+json": {
       "model_id": "260f76456a324f42aa228a0cce01344f",
       "version_major": 2,
       "version_minor": 0
      },
      "text/plain": [
       "HBox(children=(FloatProgress(value=0.0, max=20.0), HTML(value='')))"
      ]
     },
     "metadata": {},
     "output_type": "display_data"
    },
    {
     "name": "stderr",
     "output_type": "stream",
     "text": [
      "2020-03-31 02:17:47,430 : INFO : Sparsity Title Phi: 0.951\n",
      "2020-03-31 02:17:47,431 : INFO : Sparsity Text Phi: 0.911\n",
      "2020-03-31 02:17:47,433 : INFO : Sparsity Bigrams Phi: 0.958\n",
      "2020-03-31 02:17:47,435 : INFO : Sparsity Trigrams Phi: 0.978\n",
      "2020-03-31 02:17:47,437 : INFO : Sparsity Theta: 0.075\n",
      "2020-03-31 02:17:47,547 : INFO : Kernel title contrast: 0.483\n"
     ]
    },
    {
     "name": "stdout",
     "output_type": "stream",
     "text": [
      "\n"
     ]
    },
    {
     "name": "stderr",
     "output_type": "stream",
     "text": [
      "2020-03-31 02:17:49,352 : INFO : Kernel text contrast: 0.508\n",
      "2020-03-31 02:17:57,485 : INFO : Kernel bigrams contrast: 0.512\n",
      "2020-03-31 02:18:00,238 : INFO : Kernel trigrams contrast: 0.648\n",
      "2020-03-31 02:18:00,382 : INFO : Kernel title purity: 0.373\n",
      "2020-03-31 02:18:02,212 : INFO : Kernel text purity: 0.276\n",
      "2020-03-31 02:18:10,269 : INFO : Kernel bigrams purity: 0.507\n",
      "2020-03-31 02:18:13,023 : INFO : Kernel trigrams purity: 0.752\n",
      "2020-03-31 02:18:13,065 : INFO : Perplexity: 15.602\n",
      "2020-03-31 02:18:19,299 : INFO : bdeca36c-72dc-11ea-971c-2532616bfce2\n"
     ]
    },
    {
     "data": {
      "application/vnd.jupyter.widget-view+json": {
       "model_id": "376843afecca41938e785037bdc11f47",
       "version_major": 2,
       "version_minor": 0
      },
      "text/plain": [
       "HBox(children=(FloatProgress(value=0.0, max=20.0), HTML(value='')))"
      ]
     },
     "metadata": {},
     "output_type": "display_data"
    },
    {
     "name": "stderr",
     "output_type": "stream",
     "text": [
      "2020-03-31 03:12:03,378 : INFO : Sparsity Title Phi: 0.953\n",
      "2020-03-31 03:12:03,380 : INFO : Sparsity Text Phi: 0.916\n",
      "2020-03-31 03:12:03,382 : INFO : Sparsity Bigrams Phi: 0.960\n",
      "2020-03-31 03:12:03,384 : INFO : Sparsity Trigrams Phi: 0.979\n",
      "2020-03-31 03:12:03,385 : INFO : Sparsity Theta: 0.166\n",
      "2020-03-31 03:12:03,518 : INFO : Kernel title contrast: 0.482\n"
     ]
    },
    {
     "name": "stdout",
     "output_type": "stream",
     "text": [
      "\n"
     ]
    },
    {
     "name": "stderr",
     "output_type": "stream",
     "text": [
      "2020-03-31 03:12:05,790 : INFO : Kernel text contrast: 0.509\n",
      "2020-03-31 03:12:16,003 : INFO : Kernel bigrams contrast: 0.513\n",
      "2020-03-31 03:12:19,459 : INFO : Kernel trigrams contrast: 0.650\n",
      "2020-03-31 03:12:19,631 : INFO : Kernel title purity: 0.375\n",
      "2020-03-31 03:12:21,927 : INFO : Kernel text purity: 0.276\n",
      "2020-03-31 03:12:32,306 : INFO : Kernel bigrams purity: 0.511\n",
      "2020-03-31 03:12:35,787 : INFO : Kernel trigrams purity: 0.758\n",
      "2020-03-31 03:12:35,835 : INFO : Perplexity: 15.540\n",
      "2020-03-31 03:12:42,424 : INFO : 56e5fd6e-72e4-11ea-971c-2532616bfce2\n"
     ]
    },
    {
     "data": {
      "application/vnd.jupyter.widget-view+json": {
       "model_id": "0332357de92c4b1aabc9affed195dbdc",
       "version_major": 2,
       "version_minor": 0
      },
      "text/plain": [
       "HBox(children=(FloatProgress(value=0.0, max=20.0), HTML(value='')))"
      ]
     },
     "metadata": {},
     "output_type": "display_data"
    },
    {
     "name": "stderr",
     "output_type": "stream",
     "text": [
      "2020-03-31 04:08:29,040 : INFO : Sparsity Title Phi: 0.954\n",
      "2020-03-31 04:08:29,042 : INFO : Sparsity Text Phi: 0.918\n",
      "2020-03-31 04:08:29,044 : INFO : Sparsity Bigrams Phi: 0.961\n",
      "2020-03-31 04:08:29,046 : INFO : Sparsity Trigrams Phi: 0.979\n",
      "2020-03-31 04:08:29,048 : INFO : Sparsity Theta: 0.256\n"
     ]
    },
    {
     "name": "stdout",
     "output_type": "stream",
     "text": [
      "\n"
     ]
    },
    {
     "name": "stderr",
     "output_type": "stream",
     "text": [
      "2020-03-31 04:08:29,206 : INFO : Kernel title contrast: 0.482\n",
      "2020-03-31 04:08:31,951 : INFO : Kernel text contrast: 0.509\n",
      "2020-03-31 04:08:44,304 : INFO : Kernel bigrams contrast: 0.514\n",
      "2020-03-31 04:08:48,552 : INFO : Kernel trigrams contrast: 0.652\n",
      "2020-03-31 04:08:48,759 : INFO : Kernel title purity: 0.377\n",
      "2020-03-31 04:08:51,479 : INFO : Kernel text purity: 0.274\n",
      "2020-03-31 04:09:03,933 : INFO : Kernel bigrams purity: 0.512\n",
      "2020-03-31 04:09:08,170 : INFO : Kernel trigrams purity: 0.760\n",
      "2020-03-31 04:09:08,223 : INFO : Perplexity: 15.491\n",
      "2020-03-31 04:09:15,295 : INFO : 3d3509a2-72ec-11ea-971c-2532616bfce2\n"
     ]
    },
    {
     "data": {
      "application/vnd.jupyter.widget-view+json": {
       "model_id": "aab04b4046684ba592bfae2cdedaf9e0",
       "version_major": 2,
       "version_minor": 0
      },
      "text/plain": [
       "HBox(children=(FloatProgress(value=0.0, max=20.0), HTML(value='')))"
      ]
     },
     "metadata": {},
     "output_type": "display_data"
    },
    {
     "name": "stderr",
     "output_type": "stream",
     "text": [
      "2020-03-31 05:07:18,804 : INFO : Sparsity Title Phi: 0.955\n",
      "2020-03-31 05:07:18,807 : INFO : Sparsity Text Phi: 0.919\n",
      "2020-03-31 05:07:18,809 : INFO : Sparsity Bigrams Phi: 0.961\n",
      "2020-03-31 05:07:18,811 : INFO : Sparsity Trigrams Phi: 0.980\n",
      "2020-03-31 05:07:18,814 : INFO : Sparsity Theta: 0.335\n"
     ]
    },
    {
     "name": "stdout",
     "output_type": "stream",
     "text": [
      "\n"
     ]
    },
    {
     "name": "stderr",
     "output_type": "stream",
     "text": [
      "2020-03-31 05:07:18,995 : INFO : Kernel title contrast: 0.482\n",
      "2020-03-31 05:07:22,189 : INFO : Kernel text contrast: 0.509\n",
      "2020-03-31 05:07:36,818 : INFO : Kernel bigrams contrast: 0.514\n",
      "2020-03-31 05:07:41,844 : INFO : Kernel trigrams contrast: 0.653\n",
      "2020-03-31 05:07:42,065 : INFO : Kernel title purity: 0.374\n",
      "2020-03-31 05:07:45,217 : INFO : Kernel text purity: 0.272\n",
      "2020-03-31 05:07:59,931 : INFO : Kernel bigrams purity: 0.512\n",
      "2020-03-31 05:08:04,935 : INFO : Kernel trigrams purity: 0.762\n",
      "2020-03-31 05:08:04,983 : INFO : Perplexity: 15.449\n",
      "2020-03-31 05:08:12,378 : INFO : 7978fc4a-72f4-11ea-971c-2532616bfce2\n"
     ]
    },
    {
     "data": {
      "application/vnd.jupyter.widget-view+json": {
       "model_id": "393ff8af34d043569802da218788cf4c",
       "version_major": 2,
       "version_minor": 0
      },
      "text/plain": [
       "HBox(children=(FloatProgress(value=0.0, max=20.0), HTML(value='')))"
      ]
     },
     "metadata": {},
     "output_type": "display_data"
    },
    {
     "name": "stderr",
     "output_type": "stream",
     "text": [
      "2020-03-31 06:08:51,631 : INFO : Sparsity Title Phi: 0.955\n",
      "2020-03-31 06:08:51,634 : INFO : Sparsity Text Phi: 0.920\n",
      "2020-03-31 06:08:51,635 : INFO : Sparsity Bigrams Phi: 0.961\n",
      "2020-03-31 06:08:51,637 : INFO : Sparsity Trigrams Phi: 0.980\n",
      "2020-03-31 06:08:51,639 : INFO : Sparsity Theta: 0.402\n"
     ]
    },
    {
     "name": "stdout",
     "output_type": "stream",
     "text": [
      "\n"
     ]
    },
    {
     "name": "stderr",
     "output_type": "stream",
     "text": [
      "2020-03-31 06:08:51,849 : INFO : Kernel title contrast: 0.482\n",
      "2020-03-31 06:08:55,383 : INFO : Kernel text contrast: 0.508\n",
      "2020-03-31 06:09:12,871 : INFO : Kernel bigrams contrast: 0.514\n",
      "2020-03-31 06:09:18,553 : INFO : Kernel trigrams contrast: 0.653\n",
      "2020-03-31 06:09:18,803 : INFO : Kernel title purity: 0.374\n",
      "2020-03-31 06:09:22,383 : INFO : Kernel text purity: 0.269\n",
      "2020-03-31 06:09:39,868 : INFO : Kernel bigrams purity: 0.511\n",
      "2020-03-31 06:09:45,521 : INFO : Kernel trigrams purity: 0.762\n",
      "2020-03-31 06:09:45,569 : INFO : Perplexity: 15.413\n",
      "2020-03-31 06:09:53,368 : INFO : 176f48c0-72fd-11ea-971c-2532616bfce2\n"
     ]
    },
    {
     "data": {
      "application/vnd.jupyter.widget-view+json": {
       "model_id": "971315cfc4b4433ab88e2cf91dcb34b3",
       "version_major": 2,
       "version_minor": 0
      },
      "text/plain": [
       "HBox(children=(FloatProgress(value=0.0, max=20.0), HTML(value='')))"
      ]
     },
     "metadata": {},
     "output_type": "display_data"
    },
    {
     "name": "stderr",
     "output_type": "stream",
     "text": [
      "2020-03-31 07:13:36,241 : INFO : Sparsity Title Phi: 0.955\n",
      "2020-03-31 07:13:36,243 : INFO : Sparsity Text Phi: 0.920\n",
      "2020-03-31 07:13:36,245 : INFO : Sparsity Bigrams Phi: 0.962\n",
      "2020-03-31 07:13:36,248 : INFO : Sparsity Trigrams Phi: 0.980\n",
      "2020-03-31 07:13:36,250 : INFO : Sparsity Theta: 0.460\n"
     ]
    },
    {
     "name": "stdout",
     "output_type": "stream",
     "text": [
      "\n"
     ]
    },
    {
     "name": "stderr",
     "output_type": "stream",
     "text": [
      "2020-03-31 07:13:36,482 : INFO : Kernel title contrast: 0.482\n",
      "2020-03-31 07:13:40,578 : INFO : Kernel text contrast: 0.507\n",
      "2020-03-31 07:14:00,555 : INFO : Kernel bigrams contrast: 0.514\n",
      "2020-03-31 07:14:06,943 : INFO : Kernel trigrams contrast: 0.653\n",
      "2020-03-31 07:14:07,233 : INFO : Kernel title purity: 0.374\n",
      "2020-03-31 07:14:11,253 : INFO : Kernel text purity: 0.265\n",
      "2020-03-31 07:14:31,158 : INFO : Kernel bigrams purity: 0.510\n",
      "2020-03-31 07:14:37,505 : INFO : Kernel trigrams purity: 0.762\n",
      "2020-03-31 07:14:37,566 : INFO : Perplexity: 15.382\n",
      "2020-03-31 07:14:45,642 : INFO : Finish\n"
     ]
    }
   ],
   "source": [
    "logging.info(\"Run learning...\")\n",
    "mlflow.set_experiment(dataset_name)\n",
    "with mlflow.start_run():\n",
    "\n",
    "    # этап 1 - сильная декорреляция + сглаживание\n",
    "    # Sparse < 0\n",
    "    # Smooth > 0\n",
    "    model.regularizers['DeccorPhi'].tau = 0.005\n",
    "    model.regularizers['SmoothPhi'].tau = 0.4\n",
    "    model.regularizers['SmoothTheta'].tau = 0.4\n",
    "    next_step(1, model, bv, step_size, dataset_name)\n",
    "\n",
    "    model.regularizers['DeccorPhi'].tau = 0.015\n",
    "    model.regularizers['SmoothPhi'].tau = 0.6\n",
    "    model.regularizers['SmoothTheta'].tau = 0.6\n",
    "    next_step(2, model, bv, step_size, dataset_name)\n",
    "\n",
    "    model.regularizers['DeccorPhi'].tau = 0.03\n",
    "    model.regularizers['SmoothPhi'].tau = 0.8\n",
    "    model.regularizers['SmoothTheta'].tau = 0.8\n",
    "    next_step(3, model, bv, step_size, dataset_name)\n",
    "\n",
    "    # этап 2 - подключение разреживания предметных, постепенное увеличение разреживания\n",
    "    # Sparse < 0\n",
    "    # Smooth > 0\n",
    "    model.regularizers['SparsePhi'].tau = -0.0001\n",
    "    model.regularizers['SparseTheta'].tau = -0.1\n",
    "    next_step(4, model, bv, step_size, dataset_name)\n",
    "\n",
    "    model.regularizers['SparsePhi'].tau = -0.0002\n",
    "    model.regularizers['SparseTheta'].tau = -0.2\n",
    "    next_step(5, model, bv, step_size, dataset_name)\n",
    "\n",
    "    model.regularizers['SparsePhi'].tau = -0.0003\n",
    "    model.regularizers['SparseTheta'].tau = -0.3\n",
    "    next_step(6, model, bv, step_size, dataset_name)\n",
    "\n",
    "    # этап 3\n",
    "    # Sparse < 0\n",
    "    # Smooth > 0\n",
    "    model.regularizers['SparsePhi'].tau = -0.0005\n",
    "    model.regularizers['SparseTheta'].tau = -0.4\n",
    "    next_step(7, model, bv, step_size, dataset_name)\n",
    "\n",
    "    model.regularizers['SparsePhi'].tau = -0.0006\n",
    "    model.regularizers['SparseTheta'].tau = -0.5\n",
    "    next_step(8, model, bv, step_size, dataset_name)\n",
    "\n",
    "    model.regularizers['SparsePhi'].tau = -0.0007\n",
    "    model.regularizers['SparseTheta'].tau = -0.6\n",
    "    next_step(9, model, bv, step_size, dataset_name)\n",
    "\n",
    "logging.info(\"Finish\")"
   ]
  },
  {
   "cell_type": "code",
   "execution_count": null,
   "metadata": {},
   "outputs": [],
   "source": []
  },
  {
   "cell_type": "code",
   "execution_count": 55,
   "metadata": {},
   "outputs": [],
   "source": [
    "%%time\n",
    "\n",
    "with open(\"myfile.txt\",\"w\") as f:\n",
    "    topics_tokens = \"\"\n",
    "    for i, topic_name in enumerate(model.topic_names[:190]):\n",
    "        f.write(f\"topic_name: {i+1}\\n\\n\")\n",
    "\n",
    "        titles = \" \".join([word.split(\"_\")[0] for word in model.score_tracker['TopTokensTitleScore'].last_tokens[topic_name]])\n",
    "        f.write(f\"title keywords: {titles}\\n\\n\")\n",
    "       \n",
    "        texts = \" \".join([word.split(\"_\")[0] for word in model.score_tracker['TopTokensTextScore'].last_tokens[topic_name]])\n",
    "        f.write(f\"text keywords: {texts}\\n\\n\")\n",
    "\n",
    "        bigrams = []\n",
    "        for bigram in model.score_tracker['TopTokensBigramsScore'].last_tokens[topic_name]:\n",
    "            words = []\n",
    "            for word in bigram.split(\"!\"):\n",
    "                words.append(word.split(\"_\")[0])\n",
    "            bigrams.append(\"_\".join(words))\n",
    "        f.write(f\"bigram keywords: {' '.join(bigrams)}\\n\\n\")\n",
    "        \n",
    "        trigrams = []\n",
    "        for trigram in model.score_tracker['TopTokensTrigramsScore'].last_tokens[topic_name]:\n",
    "            words = []\n",
    "            for word in trigram.split(\"!\"):\n",
    "                words.append(word.split(\"_\")[0])\n",
    "            trigrams.append(\"_\".join(words))\n",
    "        f.write(f\"trigram keywords: {' '.join(trigrams)}\\n{'-'*100}\\n\\n\\n\\n\")"
   ]
  },
  {
   "cell_type": "code",
   "execution_count": null,
   "metadata": {},
   "outputs": [],
   "source": []
  },
  {
   "cell_type": "code",
   "execution_count": null,
   "metadata": {},
   "outputs": [],
   "source": []
  },
  {
   "cell_type": "code",
   "execution_count": null,
   "metadata": {},
   "outputs": [],
   "source": []
  },
  {
   "cell_type": "code",
   "execution_count": null,
   "metadata": {},
   "outputs": [],
   "source": []
  },
  {
   "cell_type": "code",
   "execution_count": null,
   "metadata": {},
   "outputs": [],
   "source": []
  },
  {
   "cell_type": "code",
   "execution_count": null,
   "metadata": {},
   "outputs": [],
   "source": []
  },
  {
   "cell_type": "code",
   "execution_count": null,
   "metadata": {},
   "outputs": [],
   "source": []
  },
  {
   "cell_type": "code",
   "execution_count": null,
   "metadata": {},
   "outputs": [],
   "source": []
  },
  {
   "cell_type": "code",
   "execution_count": null,
   "metadata": {},
   "outputs": [],
   "source": []
  },
  {
   "cell_type": "code",
   "execution_count": null,
   "metadata": {},
   "outputs": [],
   "source": []
  },
  {
   "cell_type": "code",
   "execution_count": null,
   "metadata": {},
   "outputs": [],
   "source": []
  },
  {
   "cell_type": "code",
   "execution_count": null,
   "metadata": {},
   "outputs": [],
   "source": []
  }
 ],
 "metadata": {
  "kernelspec": {
   "display_name": "Python 3",
   "language": "python",
   "name": "python3"
  },
  "language_info": {
   "codemirror_mode": {
    "name": "ipython",
    "version": 3
   },
   "file_extension": ".py",
   "mimetype": "text/x-python",
   "name": "python",
   "nbconvert_exporter": "python",
   "pygments_lexer": "ipython3",
   "version": "3.8.1"
  }
 },
 "nbformat": 4,
 "nbformat_minor": 4
}
