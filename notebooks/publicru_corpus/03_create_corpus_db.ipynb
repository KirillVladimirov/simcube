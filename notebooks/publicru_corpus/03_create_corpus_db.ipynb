{
 "cells": [
  {
   "cell_type": "code",
   "execution_count": 9,
   "metadata": {},
   "outputs": [],
   "source": [
    "from pymongo import MongoClient\n",
    "import pandas as pd\n",
    "import os"
   ]
  },
  {
   "cell_type": "code",
   "execution_count": 5,
   "metadata": {},
   "outputs": [],
   "source": [
    "client = MongoClient('localhost', 27017)"
   ]
  },
  {
   "cell_type": "code",
   "execution_count": 6,
   "metadata": {},
   "outputs": [],
   "source": [
    "db = client.publicru_test"
   ]
  },
  {
   "cell_type": "code",
   "execution_count": 7,
   "metadata": {},
   "outputs": [],
   "source": [
    "collection = db.documents_collection"
   ]
  },
  {
   "cell_type": "code",
   "execution_count": 15,
   "metadata": {},
   "outputs": [
    {
     "data": {
      "text/plain": [
       "2478"
      ]
     },
     "execution_count": 15,
     "metadata": {},
     "output_type": "execute_result"
    }
   ],
   "source": [
    "result = collection.delete_many({})\n",
    "result.deleted_count"
   ]
  },
  {
   "cell_type": "code",
   "execution_count": 10,
   "metadata": {},
   "outputs": [],
   "source": [
    "raw_data_path = os.path.join(\"..\", \"..\", \"data\", \"raw\")\n",
    "processed_data_path = os.path.join(\"..\", \"..\", \"data\", \"processed\")\n",
    "models_path = os.path.join(\"..\", \"..\", \"models\")\n",
    "experiments_path = os.path.join(\"..\", \"..\", \"experiments\")"
   ]
  },
  {
   "cell_type": "code",
   "execution_count": 11,
   "metadata": {},
   "outputs": [],
   "source": [
    "df_processed_documents =  pd.read_csv(os.path.join(raw_data_path, \"publicru-dataset-2020-03-16\", \"lib_public_document.csv\"), index_col=\"id\")"
   ]
  },
  {
   "cell_type": "code",
   "execution_count": 12,
   "metadata": {},
   "outputs": [],
   "source": [
    "df_processed_documents[\"doc_id\"] = df_processed_documents.index"
   ]
  },
  {
   "cell_type": "code",
   "execution_count": 13,
   "metadata": {},
   "outputs": [
    {
     "data": {
      "text/html": [
       "<div>\n",
       "<style scoped>\n",
       "    .dataframe tbody tr th:only-of-type {\n",
       "        vertical-align: middle;\n",
       "    }\n",
       "\n",
       "    .dataframe tbody tr th {\n",
       "        vertical-align: top;\n",
       "    }\n",
       "\n",
       "    .dataframe thead th {\n",
       "        text-align: right;\n",
       "    }\n",
       "</style>\n",
       "<table border=\"1\" class=\"dataframe\">\n",
       "  <thead>\n",
       "    <tr style=\"text-align: right;\">\n",
       "      <th></th>\n",
       "      <th>content_api_id</th>\n",
       "      <th>title</th>\n",
       "      <th>annotation</th>\n",
       "      <th>body</th>\n",
       "      <th>pages</th>\n",
       "      <th>authors</th>\n",
       "      <th>size</th>\n",
       "      <th>last_modified</th>\n",
       "      <th>issue_id</th>\n",
       "      <th>pages_visual</th>\n",
       "      <th>doc_id</th>\n",
       "    </tr>\n",
       "    <tr>\n",
       "      <th>id</th>\n",
       "      <th></th>\n",
       "      <th></th>\n",
       "      <th></th>\n",
       "      <th></th>\n",
       "      <th></th>\n",
       "      <th></th>\n",
       "      <th></th>\n",
       "      <th></th>\n",
       "      <th></th>\n",
       "      <th></th>\n",
       "      <th></th>\n",
       "    </tr>\n",
       "  </thead>\n",
       "  <tbody>\n",
       "    <tr>\n",
       "      <th>325</th>\n",
       "      <td>182582609</td>\n",
       "      <td>Эффект слабого рубля</td>\n",
       "      <td>Мы взяли две компании с сопоставимой выручкой ...</td>\n",
       "      <td>&lt;body&gt;&lt;p&gt;&lt;b&gt;Мы взяли две компании с сопоставим...</td>\n",
       "      <td>[70, 71]</td>\n",
       "      <td>NaN</td>\n",
       "      <td>40754</td>\n",
       "      <td>2016-11-24 13:15:42.057148+00:00</td>\n",
       "      <td>9</td>\n",
       "      <td>['70', '71']</td>\n",
       "      <td>325</td>\n",
       "    </tr>\n",
       "    <tr>\n",
       "      <th>21225</th>\n",
       "      <td>175907949</td>\n",
       "      <td>РОССТАТ</td>\n",
       "      <td>Индексы потребительских цен на товары и услуги...</td>\n",
       "      <td>&lt;body&gt;&lt;p&gt;&lt;b&gt;Индексы потребительских цен на тов...</td>\n",
       "      <td>[4]</td>\n",
       "      <td>NaN</td>\n",
       "      <td>28483</td>\n",
       "      <td>2016-11-24 23:46:59.007647+00:00</td>\n",
       "      <td>599</td>\n",
       "      <td>['4']</td>\n",
       "      <td>21225</td>\n",
       "    </tr>\n",
       "    <tr>\n",
       "      <th>21226</th>\n",
       "      <td>175907948</td>\n",
       "      <td>Неотложка с планшетом</td>\n",
       "      <td>ЗДОРОВЬЕ . В системе ЕМИАС зарегистрировались ...</td>\n",
       "      <td>&lt;body&gt;&lt;p&gt;&lt;b&gt;ЗДОРОВЬЕ&lt;/b&gt; &lt;/p&gt;\\n&lt;p&gt;В системе ЕМ...</td>\n",
       "      <td>[4]</td>\n",
       "      <td>Сергей Жуков</td>\n",
       "      <td>30346</td>\n",
       "      <td>2016-11-24 23:46:59.090845+00:00</td>\n",
       "      <td>599</td>\n",
       "      <td>['4']</td>\n",
       "      <td>21226</td>\n",
       "    </tr>\n",
       "    <tr>\n",
       "      <th>1638</th>\n",
       "      <td>183704356</td>\n",
       "      <td>ПРОГНОЗЫ НОМЕРА</td>\n",
       "      <td>К 2017-2018 годам ныне растущий агрокомплекс с...</td>\n",
       "      <td>&lt;body&gt;&lt;p&gt;К 2017-2018 годам ныне растущий агрок...</td>\n",
       "      <td>[5]</td>\n",
       "      <td>NaN</td>\n",
       "      <td>818</td>\n",
       "      <td>2016-11-24 14:16:32.322323+00:00</td>\n",
       "      <td>42</td>\n",
       "      <td>['5']</td>\n",
       "      <td>1638</td>\n",
       "    </tr>\n",
       "    <tr>\n",
       "      <th>2</th>\n",
       "      <td>154615279</td>\n",
       "      <td>ТАНЕЦ НЕНАСТОЯЩЕГО ЛЕБЕДЯ</td>\n",
       "      <td>ПЕРЕД НАМИ КАК БУДТО СЦЕНА ИЗ БАЛЕТА: ДВА МИСТ...</td>\n",
       "      <td>&lt;body&gt;&lt;p&gt;ПЕРЕД НАМИ КАК БУДТО СЦЕНА ИЗ БАЛЕТА:...</td>\n",
       "      <td>[60, 61]</td>\n",
       "      <td>NaN</td>\n",
       "      <td>44550</td>\n",
       "      <td>2016-11-24 13:01:38.412930+00:00</td>\n",
       "      <td>1</td>\n",
       "      <td>['60', '61']</td>\n",
       "      <td>2</td>\n",
       "    </tr>\n",
       "  </tbody>\n",
       "</table>\n",
       "</div>"
      ],
      "text/plain": [
       "       content_api_id                      title  \\\n",
       "id                                                 \n",
       "325         182582609       Эффект слабого рубля   \n",
       "21225       175907949                    РОССТАТ   \n",
       "21226       175907948      Неотложка с планшетом   \n",
       "1638        183704356            ПРОГНОЗЫ НОМЕРА   \n",
       "2           154615279  ТАНЕЦ НЕНАСТОЯЩЕГО ЛЕБЕДЯ   \n",
       "\n",
       "                                              annotation  \\\n",
       "id                                                         \n",
       "325    Мы взяли две компании с сопоставимой выручкой ...   \n",
       "21225  Индексы потребительских цен на товары и услуги...   \n",
       "21226  ЗДОРОВЬЕ . В системе ЕМИАС зарегистрировались ...   \n",
       "1638   К 2017-2018 годам ныне растущий агрокомплекс с...   \n",
       "2      ПЕРЕД НАМИ КАК БУДТО СЦЕНА ИЗ БАЛЕТА: ДВА МИСТ...   \n",
       "\n",
       "                                                    body     pages  \\\n",
       "id                                                                   \n",
       "325    <body><p><b>Мы взяли две компании с сопоставим...  [70, 71]   \n",
       "21225  <body><p><b>Индексы потребительских цен на тов...       [4]   \n",
       "21226  <body><p><b>ЗДОРОВЬЕ</b> </p>\\n<p>В системе ЕМ...       [4]   \n",
       "1638   <body><p>К 2017-2018 годам ныне растущий агрок...       [5]   \n",
       "2      <body><p>ПЕРЕД НАМИ КАК БУДТО СЦЕНА ИЗ БАЛЕТА:...  [60, 61]   \n",
       "\n",
       "            authors   size                     last_modified  issue_id  \\\n",
       "id                                                                       \n",
       "325             NaN  40754  2016-11-24 13:15:42.057148+00:00         9   \n",
       "21225           NaN  28483  2016-11-24 23:46:59.007647+00:00       599   \n",
       "21226  Сергей Жуков  30346  2016-11-24 23:46:59.090845+00:00       599   \n",
       "1638            NaN    818  2016-11-24 14:16:32.322323+00:00        42   \n",
       "2               NaN  44550  2016-11-24 13:01:38.412930+00:00         1   \n",
       "\n",
       "       pages_visual  doc_id  \n",
       "id                           \n",
       "325    ['70', '71']     325  \n",
       "21225         ['4']   21225  \n",
       "21226         ['4']   21226  \n",
       "1638          ['5']    1638  \n",
       "2      ['60', '61']       2  "
      ]
     },
     "execution_count": 13,
     "metadata": {},
     "output_type": "execute_result"
    }
   ],
   "source": [
    "df_processed_documents.head()"
   ]
  },
  {
   "cell_type": "code",
   "execution_count": 14,
   "metadata": {},
   "outputs": [
    {
     "data": {
      "text/plain": [
       "['content_api_id',\n",
       " 'title',\n",
       " 'annotation',\n",
       " 'body',\n",
       " 'pages',\n",
       " 'authors',\n",
       " 'size',\n",
       " 'last_modified',\n",
       " 'issue_id',\n",
       " 'pages_visual',\n",
       " 'doc_id']"
      ]
     },
     "execution_count": 14,
     "metadata": {},
     "output_type": "execute_result"
    }
   ],
   "source": [
    "df_processed_documents.columns.tolist()"
   ]
  },
  {
   "cell_type": "code",
   "execution_count": 18,
   "metadata": {},
   "outputs": [
    {
     "name": "stdout",
     "output_type": "stream",
     "text": [
      "CPU times: user 1min 27s, sys: 254 ms, total: 1min 27s\n",
      "Wall time: 1min 27s\n"
     ]
    }
   ],
   "source": [
    "%%time\n",
    "\n",
    "posts = [ {\n",
    "    \"doc_id\": row[\"doc_id\"],\n",
    "    \"title\": row[\"title\"],\n",
    "    \"body\": row[\"body\"],\n",
    "    \"annotation\": row[\"annotation\"],\n",
    "    \"authors\": row[\"authors\"],\n",
    "    \"issue_id\": row[\"issue_id\"],\n",
    "}  for _, row in df_processed_documents.iterrows()]"
   ]
  },
  {
   "cell_type": "code",
   "execution_count": 19,
   "metadata": {},
   "outputs": [
    {
     "name": "stdout",
     "output_type": "stream",
     "text": [
      "CPU times: user 21.8 s, sys: 5.45 s, total: 27.3 s\n",
      "Wall time: 53.4 s\n"
     ]
    },
    {
     "data": {
      "text/plain": [
       "<pymongo.results.InsertManyResult at 0x7efea9380050>"
      ]
     },
     "execution_count": 19,
     "metadata": {},
     "output_type": "execute_result"
    }
   ],
   "source": [
    "%%time\n",
    "\n",
    "collection.insert_many(posts)"
   ]
  },
  {
   "cell_type": "code",
   "execution_count": 20,
   "metadata": {},
   "outputs": [
    {
     "data": {
      "text/plain": [
       "582052"
      ]
     },
     "execution_count": 20,
     "metadata": {},
     "output_type": "execute_result"
    }
   ],
   "source": [
    "collection.count_documents({})"
   ]
  },
  {
   "cell_type": "code",
   "execution_count": 39,
   "metadata": {},
   "outputs": [],
   "source": [
    "tags = collection.distinct(\"issue_id\")"
   ]
  },
  {
   "cell_type": "code",
   "execution_count": 41,
   "metadata": {},
   "outputs": [
    {
     "data": {
      "text/plain": [
       "19448"
      ]
     },
     "execution_count": 41,
     "metadata": {},
     "output_type": "execute_result"
    }
   ],
   "source": [
    "len(tags)"
   ]
  },
  {
   "cell_type": "code",
   "execution_count": null,
   "metadata": {},
   "outputs": [],
   "source": []
  }
 ],
 "metadata": {
  "kernelspec": {
   "display_name": "Python 3",
   "language": "python",
   "name": "python3"
  },
  "language_info": {
   "codemirror_mode": {
    "name": "ipython",
    "version": 3
   },
   "file_extension": ".py",
   "mimetype": "text/x-python",
   "name": "python",
   "nbconvert_exporter": "python",
   "pygments_lexer": "ipython3",
   "version": "3.7.4"
  }
 },
 "nbformat": 4,
 "nbformat_minor": 4
}
