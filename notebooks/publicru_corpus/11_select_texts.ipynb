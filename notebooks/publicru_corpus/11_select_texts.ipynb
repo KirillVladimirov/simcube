{
 "cells": [
  {
   "cell_type": "code",
   "execution_count": 16,
   "metadata": {},
   "outputs": [],
   "source": [
    "from pymongo import MongoClient\n",
    "import pandas as pd\n",
    "import matplotlib.pyplot as plt"
   ]
  },
  {
   "cell_type": "code",
   "execution_count": 42,
   "metadata": {},
   "outputs": [],
   "source": [
    "plt.rcParams[\"figure.figsize\"] = (20,15)\n",
    "pd.options.display.max_rows = 999"
   ]
  },
  {
   "cell_type": "code",
   "execution_count": 2,
   "metadata": {},
   "outputs": [],
   "source": [
    "client = MongoClient('localhost', 27017)\n",
    "db = client.publicru_test\n",
    "collection = db.documents_collection"
   ]
  },
  {
   "cell_type": "code",
   "execution_count": 4,
   "metadata": {},
   "outputs": [
    {
     "data": {
      "text/plain": [
       "0"
      ]
     },
     "execution_count": 4,
     "metadata": {},
     "output_type": "execute_result"
    }
   ],
   "source": [
    "collection.count_documents({\"t_body\": {\"$exists\": False}})"
   ]
  },
  {
   "cell_type": "code",
   "execution_count": 85,
   "metadata": {},
   "outputs": [
    {
     "data": {
      "text/plain": [
       "583478"
      ]
     },
     "execution_count": 85,
     "metadata": {},
     "output_type": "execute_result"
    }
   ],
   "source": [
    "collection.count_documents({\"paras_count\": {\"$exists\": True}})"
   ]
  },
  {
   "cell_type": "code",
   "execution_count": null,
   "metadata": {},
   "outputs": [],
   "source": [
    "# \"paras_count\" - количество параграфов\n",
    "# \"sents_count\" - количество предложений\n",
    "# \"words_count\" - количество слов\n",
    "# \"vocab_count\" - размер словаря\n",
    "# \"hapax_count\" - количество слов, используемых только 1 раз в тексте\n",
    "# \"hapax_index\" - отношение хапакс к размеру словаря\n",
    "# \"ttr\" - отношение размера словаря к количеству слов в тексте\n",
    "# \"sppar\" - отношение предложений к абзацам\n",
    "# \"wpsen\" - отношения слов к предложениям"
   ]
  },
  {
   "cell_type": "code",
   "execution_count": 86,
   "metadata": {},
   "outputs": [],
   "source": [
    "df = pd.DataFrame(list(collection.find({}, { \n",
    "    \"doc_id\": 1, \n",
    "    \"title\": 1, \n",
    "    \"annotation\": 1,\n",
    "    \"edition_name\": 1,\n",
    "    \"paras_count\": 1, \n",
    "    \"sents_count\": 1, \n",
    "    \"words_count\": 1, \n",
    "    \"vocab_count\": 1, \n",
    "    \"hapax_count\": 1, \n",
    "    \"hapax_index\": 1,\n",
    "    \"ttr\": 1,\n",
    "    \"sppar\": 1,\n",
    "    \"wpsen\": 1,\n",
    "})))"
   ]
  },
  {
   "cell_type": "code",
   "execution_count": 87,
   "metadata": {},
   "outputs": [
    {
     "data": {
      "text/html": [
       "<div>\n",
       "<style scoped>\n",
       "    .dataframe tbody tr th:only-of-type {\n",
       "        vertical-align: middle;\n",
       "    }\n",
       "\n",
       "    .dataframe tbody tr th {\n",
       "        vertical-align: top;\n",
       "    }\n",
       "\n",
       "    .dataframe thead th {\n",
       "        text-align: right;\n",
       "    }\n",
       "</style>\n",
       "<table border=\"1\" class=\"dataframe\">\n",
       "  <thead>\n",
       "    <tr style=\"text-align: right;\">\n",
       "      <th></th>\n",
       "      <th>_id</th>\n",
       "      <th>title</th>\n",
       "      <th>annotation</th>\n",
       "      <th>edition_name</th>\n",
       "      <th>doc_id</th>\n",
       "      <th>hapax_count</th>\n",
       "      <th>hapax_index</th>\n",
       "      <th>paras_count</th>\n",
       "      <th>sents_count</th>\n",
       "      <th>sppar</th>\n",
       "      <th>ttr</th>\n",
       "      <th>vocab_count</th>\n",
       "      <th>words_count</th>\n",
       "      <th>wpsen</th>\n",
       "    </tr>\n",
       "  </thead>\n",
       "  <tbody>\n",
       "    <tr>\n",
       "      <th>0</th>\n",
       "      <td>5e7854ebc59124ce04becf39</td>\n",
       "      <td>Эффект слабого рубля</td>\n",
       "      <td>Мы взяли две компании с сопоставимой выручкой ...</td>\n",
       "      <td>РБК Журнал</td>\n",
       "      <td>325</td>\n",
       "      <td>25.0</td>\n",
       "      <td>0.806</td>\n",
       "      <td>1.0</td>\n",
       "      <td>4.0</td>\n",
       "      <td>4.000</td>\n",
       "      <td>0.838</td>\n",
       "      <td>31.0</td>\n",
       "      <td>37.0</td>\n",
       "      <td>9.250</td>\n",
       "    </tr>\n",
       "    <tr>\n",
       "      <th>1</th>\n",
       "      <td>5e7854ebc59124ce04becf3a</td>\n",
       "      <td>РОССТАТ</td>\n",
       "      <td>Индексы потребительских цен на товары и услуги...</td>\n",
       "      <td>Российская газета</td>\n",
       "      <td>21225</td>\n",
       "      <td>14.0</td>\n",
       "      <td>0.933</td>\n",
       "      <td>2.0</td>\n",
       "      <td>2.0</td>\n",
       "      <td>1.000</td>\n",
       "      <td>0.938</td>\n",
       "      <td>15.0</td>\n",
       "      <td>16.0</td>\n",
       "      <td>8.000</td>\n",
       "    </tr>\n",
       "    <tr>\n",
       "      <th>2</th>\n",
       "      <td>5e7854ebc59124ce04becf3b</td>\n",
       "      <td>Неотложка с планшетом</td>\n",
       "      <td>ЗДОРОВЬЕ . В системе ЕМИАС зарегистрировались ...</td>\n",
       "      <td>Российская газета</td>\n",
       "      <td>21226</td>\n",
       "      <td>118.0</td>\n",
       "      <td>0.776</td>\n",
       "      <td>8.0</td>\n",
       "      <td>25.0</td>\n",
       "      <td>3.125</td>\n",
       "      <td>0.717</td>\n",
       "      <td>152.0</td>\n",
       "      <td>212.0</td>\n",
       "      <td>8.480</td>\n",
       "    </tr>\n",
       "    <tr>\n",
       "      <th>3</th>\n",
       "      <td>5e7854ebc59124ce04becf3c</td>\n",
       "      <td>ПРОГНОЗЫ НОМЕРА</td>\n",
       "      <td>К 2017-2018 годам ныне растущий агрокомплекс с...</td>\n",
       "      <td>Эксперт</td>\n",
       "      <td>1638</td>\n",
       "      <td>54.0</td>\n",
       "      <td>0.931</td>\n",
       "      <td>3.0</td>\n",
       "      <td>7.0</td>\n",
       "      <td>2.333</td>\n",
       "      <td>0.935</td>\n",
       "      <td>58.0</td>\n",
       "      <td>62.0</td>\n",
       "      <td>8.857</td>\n",
       "    </tr>\n",
       "    <tr>\n",
       "      <th>4</th>\n",
       "      <td>5e7854ebc59124ce04becf3d</td>\n",
       "      <td>ТАНЕЦ НЕНАСТОЯЩЕГО ЛЕБЕДЯ</td>\n",
       "      <td>ПЕРЕД НАМИ КАК БУДТО СЦЕНА ИЗ БАЛЕТА: ДВА МИСТ...</td>\n",
       "      <td>РБК Журнал</td>\n",
       "      <td>2</td>\n",
       "      <td>41.0</td>\n",
       "      <td>0.976</td>\n",
       "      <td>1.0</td>\n",
       "      <td>5.0</td>\n",
       "      <td>5.000</td>\n",
       "      <td>0.977</td>\n",
       "      <td>42.0</td>\n",
       "      <td>43.0</td>\n",
       "      <td>8.600</td>\n",
       "    </tr>\n",
       "  </tbody>\n",
       "</table>\n",
       "</div>"
      ],
      "text/plain": [
       "                        _id                      title  \\\n",
       "0  5e7854ebc59124ce04becf39       Эффект слабого рубля   \n",
       "1  5e7854ebc59124ce04becf3a                    РОССТАТ   \n",
       "2  5e7854ebc59124ce04becf3b      Неотложка с планшетом   \n",
       "3  5e7854ebc59124ce04becf3c            ПРОГНОЗЫ НОМЕРА   \n",
       "4  5e7854ebc59124ce04becf3d  ТАНЕЦ НЕНАСТОЯЩЕГО ЛЕБЕДЯ   \n",
       "\n",
       "                                          annotation       edition_name  \\\n",
       "0  Мы взяли две компании с сопоставимой выручкой ...         РБК Журнал   \n",
       "1  Индексы потребительских цен на товары и услуги...  Российская газета   \n",
       "2  ЗДОРОВЬЕ . В системе ЕМИАС зарегистрировались ...  Российская газета   \n",
       "3  К 2017-2018 годам ныне растущий агрокомплекс с...            Эксперт   \n",
       "4  ПЕРЕД НАМИ КАК БУДТО СЦЕНА ИЗ БАЛЕТА: ДВА МИСТ...         РБК Журнал   \n",
       "\n",
       "   doc_id  hapax_count  hapax_index  paras_count  sents_count  sppar    ttr  \\\n",
       "0     325         25.0        0.806          1.0          4.0  4.000  0.838   \n",
       "1   21225         14.0        0.933          2.0          2.0  1.000  0.938   \n",
       "2   21226        118.0        0.776          8.0         25.0  3.125  0.717   \n",
       "3    1638         54.0        0.931          3.0          7.0  2.333  0.935   \n",
       "4       2         41.0        0.976          1.0          5.0  5.000  0.977   \n",
       "\n",
       "   vocab_count  words_count  wpsen  \n",
       "0         31.0         37.0  9.250  \n",
       "1         15.0         16.0  8.000  \n",
       "2        152.0        212.0  8.480  \n",
       "3         58.0         62.0  8.857  \n",
       "4         42.0         43.0  8.600  "
      ]
     },
     "execution_count": 87,
     "metadata": {},
     "output_type": "execute_result"
    }
   ],
   "source": [
    "df.head()"
   ]
  },
  {
   "cell_type": "code",
   "execution_count": 88,
   "metadata": {},
   "outputs": [
    {
     "name": "stdout",
     "output_type": "stream",
     "text": [
      "<class 'pandas.core.frame.DataFrame'>\n",
      "RangeIndex: 588456 entries, 0 to 588455\n",
      "Data columns (total 14 columns):\n",
      " #   Column        Non-Null Count   Dtype  \n",
      "---  ------        --------------   -----  \n",
      " 0   _id           588456 non-null  object \n",
      " 1   title         588456 non-null  object \n",
      " 2   annotation    588451 non-null  object \n",
      " 3   edition_name  588456 non-null  object \n",
      " 4   doc_id        588456 non-null  int64  \n",
      " 5   hapax_count   583598 non-null  float64\n",
      " 6   hapax_index   583598 non-null  float64\n",
      " 7   paras_count   583598 non-null  float64\n",
      " 8   sents_count   583598 non-null  float64\n",
      " 9   sppar         583598 non-null  float64\n",
      " 10  ttr           583598 non-null  float64\n",
      " 11  vocab_count   583598 non-null  float64\n",
      " 12  words_count   583598 non-null  float64\n",
      " 13  wpsen         583598 non-null  float64\n",
      "dtypes: float64(9), int64(1), object(4)\n",
      "memory usage: 62.9+ MB\n"
     ]
    }
   ],
   "source": [
    "df.info()"
   ]
  },
  {
   "cell_type": "code",
   "execution_count": 89,
   "metadata": {},
   "outputs": [
    {
     "data": {
      "image/png": "[encoded data removed]",
      "text/plain": [
       "<Figure size 1440x1080 with 1 Axes>"
      ]
     },
     "metadata": {
      "needs_background": "light"
     },
     "output_type": "display_data"
    }
   ],
   "source": [
    "ax = df[\"hapax_count\"].plot.hist(bins=200, alpha=0.5)"
   ]
  },
  {
   "cell_type": "code",
   "execution_count": 43,
   "metadata": {},
   "outputs": [
    {
     "data": {
      "text/html": [
       "<div>\n",
       "<style scoped>\n",
       "    .dataframe tbody tr th:only-of-type {\n",
       "        vertical-align: middle;\n",
       "    }\n",
       "\n",
       "    .dataframe tbody tr th {\n",
       "        vertical-align: top;\n",
       "    }\n",
       "\n",
       "    .dataframe thead th {\n",
       "        text-align: right;\n",
       "    }\n",
       "</style>\n",
       "<table border=\"1\" class=\"dataframe\">\n",
       "  <thead>\n",
       "    <tr style=\"text-align: right;\">\n",
       "      <th></th>\n",
       "      <th>_id</th>\n",
       "      <th>title</th>\n",
       "      <th>annotation</th>\n",
       "      <th>edition_name</th>\n",
       "      <th>doc_id</th>\n",
       "      <th>hapax_count</th>\n",
       "      <th>hapax_index</th>\n",
       "      <th>paras_count</th>\n",
       "      <th>sents_count</th>\n",
       "      <th>sppar</th>\n",
       "      <th>ttr</th>\n",
       "      <th>vocab_count</th>\n",
       "      <th>words_count</th>\n",
       "      <th>wpsen</th>\n",
       "    </tr>\n",
       "  </thead>\n",
       "  <tbody>\n",
       "    <tr>\n",
       "      <th>39</th>\n",
       "      <td>5e7854ebc59124ce04becf60</td>\n",
       "      <td>Рождественская бизнес-сказка</td>\n",
       "      <td>На рынке есть условия для того, чтобы средний ...</td>\n",
       "      <td>Эксперт</td>\n",
       "      <td>378</td>\n",
       "      <td>980.0</td>\n",
       "      <td>0.631</td>\n",
       "      <td>84.0</td>\n",
       "      <td>316.0</td>\n",
       "      <td>3.762</td>\n",
       "      <td>0.499</td>\n",
       "      <td>1552.0</td>\n",
       "      <td>3108.0</td>\n",
       "      <td>9.835</td>\n",
       "    </tr>\n",
       "    <tr>\n",
       "      <th>46</th>\n",
       "      <td>5e7854ebc59124ce04becf67</td>\n",
       "      <td>СВОЯ ПЕРЕРАБОТКА: КАК ЗНАКОМЫЕ ПУТИНА И СОБЯНИ...</td>\n",
       "      <td>ТЕКСТ: СЕРГЕЙ ТИТОВ. МОЛОДОМУ БИЗНЕСМЕНУ ДМИТР...</td>\n",
       "      <td>РБК Журнал</td>\n",
       "      <td>135</td>\n",
       "      <td>728.0</td>\n",
       "      <td>0.620</td>\n",
       "      <td>79.0</td>\n",
       "      <td>261.0</td>\n",
       "      <td>3.304</td>\n",
       "      <td>0.458</td>\n",
       "      <td>1174.0</td>\n",
       "      <td>2564.0</td>\n",
       "      <td>9.824</td>\n",
       "    </tr>\n",
       "    <tr>\n",
       "      <th>47</th>\n",
       "      <td>5e7854ebc59124ce04becf68</td>\n",
       "      <td>КОРПОРАЦИЯ «ТАНЧИКИ»</td>\n",
       "      <td>ИСТОРИЯ WARGAMING НАЧАЛАСЬ В МИНСКОЙ КВАРТИРЕ ...</td>\n",
       "      <td>РБК Журнал</td>\n",
       "      <td>137</td>\n",
       "      <td>816.0</td>\n",
       "      <td>0.687</td>\n",
       "      <td>77.0</td>\n",
       "      <td>214.0</td>\n",
       "      <td>2.779</td>\n",
       "      <td>0.515</td>\n",
       "      <td>1188.0</td>\n",
       "      <td>2308.0</td>\n",
       "      <td>10.785</td>\n",
       "    </tr>\n",
       "    <tr>\n",
       "      <th>53</th>\n",
       "      <td>5e7854ebc59124ce04becf6e</td>\n",
       "      <td>НЕФТЕГАЗОВЫЙ ИНТЕРНЕТ</td>\n",
       "      <td>ФОНД РАЗВИТИЯ ИНТЕРНЕТ-ИНИЦИАТИВ, ПРИДУМАННЫЙ ...</td>\n",
       "      <td>РБК Журнал</td>\n",
       "      <td>138</td>\n",
       "      <td>553.0</td>\n",
       "      <td>0.679</td>\n",
       "      <td>49.0</td>\n",
       "      <td>161.0</td>\n",
       "      <td>3.286</td>\n",
       "      <td>0.493</td>\n",
       "      <td>815.0</td>\n",
       "      <td>1653.0</td>\n",
       "      <td>10.267</td>\n",
       "    </tr>\n",
       "    <tr>\n",
       "      <th>134</th>\n",
       "      <td>5e7854ebc59124ce04becfbf</td>\n",
       "      <td>Добро на посадку</td>\n",
       "      <td>Только в «РГ» . Александр Бастрыкин: СКР преде...</td>\n",
       "      <td>Российская газета</td>\n",
       "      <td>21495</td>\n",
       "      <td>535.0</td>\n",
       "      <td>0.629</td>\n",
       "      <td>69.0</td>\n",
       "      <td>160.0</td>\n",
       "      <td>2.319</td>\n",
       "      <td>0.472</td>\n",
       "      <td>851.0</td>\n",
       "      <td>1802.0</td>\n",
       "      <td>11.262</td>\n",
       "    </tr>\n",
       "    <tr>\n",
       "      <th>...</th>\n",
       "      <td>...</td>\n",
       "      <td>...</td>\n",
       "      <td>...</td>\n",
       "      <td>...</td>\n",
       "      <td>...</td>\n",
       "      <td>...</td>\n",
       "      <td>...</td>\n",
       "      <td>...</td>\n",
       "      <td>...</td>\n",
       "      <td>...</td>\n",
       "      <td>...</td>\n",
       "      <td>...</td>\n",
       "      <td>...</td>\n",
       "      <td>...</td>\n",
       "    </tr>\n",
       "    <tr>\n",
       "      <th>47796</th>\n",
       "      <td>5e785512c59124ce04bf89ed</td>\n",
       "      <td>Анафилактический шок: 4 ошибки врачей и как их...</td>\n",
       "      <td>ВАЖНОЕ В СТАТЬЕ. 1 Поручите врачу составлять д...</td>\n",
       "      <td>Заместитель главного врача</td>\n",
       "      <td>619398</td>\n",
       "      <td>516.0</td>\n",
       "      <td>0.616</td>\n",
       "      <td>192.0</td>\n",
       "      <td>327.0</td>\n",
       "      <td>1.703</td>\n",
       "      <td>0.465</td>\n",
       "      <td>837.0</td>\n",
       "      <td>1799.0</td>\n",
       "      <td>5.502</td>\n",
       "    </tr>\n",
       "    <tr>\n",
       "      <th>47809</th>\n",
       "      <td>5e785512c59124ce04bf89fa</td>\n",
       "      <td>ГДЕ ЛЮБОВЬ</td>\n",
       "      <td>Пройти через развод и остаться человеком. Любо...</td>\n",
       "      <td>Русский Репортер</td>\n",
       "      <td>118634</td>\n",
       "      <td>848.0</td>\n",
       "      <td>0.679</td>\n",
       "      <td>256.0</td>\n",
       "      <td>628.0</td>\n",
       "      <td>2.453</td>\n",
       "      <td>0.516</td>\n",
       "      <td>1249.0</td>\n",
       "      <td>2419.0</td>\n",
       "      <td>3.852</td>\n",
       "    </tr>\n",
       "    <tr>\n",
       "      <th>47948</th>\n",
       "      <td>5e785512c59124ce04bf8a85</td>\n",
       "      <td>БАЛАНСИРОВКА НА ГРАНИ</td>\n",
       "      <td>КАК НОВЫЙ АМЕРИКАНСКИЙ СТИЛЬ ВХОДИТ В КЛИНЧ С ...</td>\n",
       "      <td>Огонек</td>\n",
       "      <td>121666</td>\n",
       "      <td>616.0</td>\n",
       "      <td>0.726</td>\n",
       "      <td>33.0</td>\n",
       "      <td>118.0</td>\n",
       "      <td>3.576</td>\n",
       "      <td>0.596</td>\n",
       "      <td>849.0</td>\n",
       "      <td>1425.0</td>\n",
       "      <td>12.076</td>\n",
       "    </tr>\n",
       "    <tr>\n",
       "      <th>47986</th>\n",
       "      <td>5e785512c59124ce04bf8aab</td>\n",
       "      <td>Соловецкие ценности</td>\n",
       "      <td>СПЕЦИАЛЬНЫЙ РЕПОРТАЖ. Именно в этом месте пони...</td>\n",
       "      <td>Российская газета. Неделя</td>\n",
       "      <td>122503</td>\n",
       "      <td>526.0</td>\n",
       "      <td>0.786</td>\n",
       "      <td>53.0</td>\n",
       "      <td>231.0</td>\n",
       "      <td>4.358</td>\n",
       "      <td>0.712</td>\n",
       "      <td>669.0</td>\n",
       "      <td>940.0</td>\n",
       "      <td>4.069</td>\n",
       "    </tr>\n",
       "    <tr>\n",
       "      <th>47989</th>\n",
       "      <td>5e785512c59124ce04bf8aae</td>\n",
       "      <td>Наконец-то революция</td>\n",
       "      <td>ДОКУМЕНТЫ ИСТОРИИ. «Теперя мы будем пить через...</td>\n",
       "      <td>Российская газета. Неделя</td>\n",
       "      <td>122551</td>\n",
       "      <td>640.0</td>\n",
       "      <td>0.795</td>\n",
       "      <td>77.0</td>\n",
       "      <td>178.0</td>\n",
       "      <td>2.312</td>\n",
       "      <td>0.727</td>\n",
       "      <td>805.0</td>\n",
       "      <td>1107.0</td>\n",
       "      <td>6.219</td>\n",
       "    </tr>\n",
       "  </tbody>\n",
       "</table>\n",
       "<p>1221 rows × 14 columns</p>\n",
       "</div>"
      ],
      "text/plain": [
       "                            _id  \\\n",
       "39     5e7854ebc59124ce04becf60   \n",
       "46     5e7854ebc59124ce04becf67   \n",
       "47     5e7854ebc59124ce04becf68   \n",
       "53     5e7854ebc59124ce04becf6e   \n",
       "134    5e7854ebc59124ce04becfbf   \n",
       "...                         ...   \n",
       "47796  5e785512c59124ce04bf89ed   \n",
       "47809  5e785512c59124ce04bf89fa   \n",
       "47948  5e785512c59124ce04bf8a85   \n",
       "47986  5e785512c59124ce04bf8aab   \n",
       "47989  5e785512c59124ce04bf8aae   \n",
       "\n",
       "                                                   title  \\\n",
       "39                          Рождественская бизнес-сказка   \n",
       "46     СВОЯ ПЕРЕРАБОТКА: КАК ЗНАКОМЫЕ ПУТИНА И СОБЯНИ...   \n",
       "47                                  КОРПОРАЦИЯ «ТАНЧИКИ»   \n",
       "53                                 НЕФТЕГАЗОВЫЙ ИНТЕРНЕТ   \n",
       "134                                     Добро на посадку   \n",
       "...                                                  ...   \n",
       "47796  Анафилактический шок: 4 ошибки врачей и как их...   \n",
       "47809                                         ГДЕ ЛЮБОВЬ   \n",
       "47948                              БАЛАНСИРОВКА НА ГРАНИ   \n",
       "47986                                Соловецкие ценности   \n",
       "47989                               Наконец-то революция   \n",
       "\n",
       "                                              annotation  \\\n",
       "39     На рынке есть условия для того, чтобы средний ...   \n",
       "46     ТЕКСТ: СЕРГЕЙ ТИТОВ. МОЛОДОМУ БИЗНЕСМЕНУ ДМИТР...   \n",
       "47     ИСТОРИЯ WARGAMING НАЧАЛАСЬ В МИНСКОЙ КВАРТИРЕ ...   \n",
       "53     ФОНД РАЗВИТИЯ ИНТЕРНЕТ-ИНИЦИАТИВ, ПРИДУМАННЫЙ ...   \n",
       "134    Только в «РГ» . Александр Бастрыкин: СКР преде...   \n",
       "...                                                  ...   \n",
       "47796  ВАЖНОЕ В СТАТЬЕ. 1 Поручите врачу составлять д...   \n",
       "47809  Пройти через развод и остаться человеком. Любо...   \n",
       "47948  КАК НОВЫЙ АМЕРИКАНСКИЙ СТИЛЬ ВХОДИТ В КЛИНЧ С ...   \n",
       "47986  СПЕЦИАЛЬНЫЙ РЕПОРТАЖ. Именно в этом месте пони...   \n",
       "47989  ДОКУМЕНТЫ ИСТОРИИ. «Теперя мы будем пить через...   \n",
       "\n",
       "                     edition_name  doc_id  hapax_count  hapax_index  \\\n",
       "39                        Эксперт     378        980.0        0.631   \n",
       "46                     РБК Журнал     135        728.0        0.620   \n",
       "47                     РБК Журнал     137        816.0        0.687   \n",
       "53                     РБК Журнал     138        553.0        0.679   \n",
       "134             Российская газета   21495        535.0        0.629   \n",
       "...                           ...     ...          ...          ...   \n",
       "47796  Заместитель главного врача  619398        516.0        0.616   \n",
       "47809            Русский Репортер  118634        848.0        0.679   \n",
       "47948                      Огонек  121666        616.0        0.726   \n",
       "47986   Российская газета. Неделя  122503        526.0        0.786   \n",
       "47989   Российская газета. Неделя  122551        640.0        0.795   \n",
       "\n",
       "       paras_count  sents_count  sppar    ttr  vocab_count  words_count  \\\n",
       "39            84.0        316.0  3.762  0.499       1552.0       3108.0   \n",
       "46            79.0        261.0  3.304  0.458       1174.0       2564.0   \n",
       "47            77.0        214.0  2.779  0.515       1188.0       2308.0   \n",
       "53            49.0        161.0  3.286  0.493        815.0       1653.0   \n",
       "134           69.0        160.0  2.319  0.472        851.0       1802.0   \n",
       "...            ...          ...    ...    ...          ...          ...   \n",
       "47796        192.0        327.0  1.703  0.465        837.0       1799.0   \n",
       "47809        256.0        628.0  2.453  0.516       1249.0       2419.0   \n",
       "47948         33.0        118.0  3.576  0.596        849.0       1425.0   \n",
       "47986         53.0        231.0  4.358  0.712        669.0        940.0   \n",
       "47989         77.0        178.0  2.312  0.727        805.0       1107.0   \n",
       "\n",
       "        wpsen  \n",
       "39      9.835  \n",
       "46      9.824  \n",
       "47     10.785  \n",
       "53     10.267  \n",
       "134    11.262  \n",
       "...       ...  \n",
       "47796   5.502  \n",
       "47809   3.852  \n",
       "47948  12.076  \n",
       "47986   4.069  \n",
       "47989   6.219  \n",
       "\n",
       "[1221 rows x 14 columns]"
      ]
     },
     "execution_count": 43,
     "metadata": {},
     "output_type": "execute_result"
    }
   ],
   "source": [
    "df[df[\"hapax_count\"] > 500]"
   ]
  },
  {
   "cell_type": "code",
   "execution_count": 90,
   "metadata": {},
   "outputs": [
    {
     "data": {
      "image/png": "[encoded data removed]",
      "text/plain": [
       "<Figure size 1440x1080 with 1 Axes>"
      ]
     },
     "metadata": {
      "needs_background": "light"
     },
     "output_type": "display_data"
    }
   ],
   "source": [
    "ax = df[\"hapax_index\"].plot.hist(bins=200, alpha=0.5)"
   ]
  },
  {
   "cell_type": "code",
   "execution_count": 69,
   "metadata": {},
   "outputs": [
    {
     "data": {
      "text/html": [
       "<div>\n",
       "<style scoped>\n",
       "    .dataframe tbody tr th:only-of-type {\n",
       "        vertical-align: middle;\n",
       "    }\n",
       "\n",
       "    .dataframe tbody tr th {\n",
       "        vertical-align: top;\n",
       "    }\n",
       "\n",
       "    .dataframe thead th {\n",
       "        text-align: right;\n",
       "    }\n",
       "</style>\n",
       "<table border=\"1\" class=\"dataframe\">\n",
       "  <thead>\n",
       "    <tr style=\"text-align: right;\">\n",
       "      <th></th>\n",
       "      <th>_id</th>\n",
       "      <th>title</th>\n",
       "      <th>annotation</th>\n",
       "      <th>edition_name</th>\n",
       "      <th>doc_id</th>\n",
       "      <th>hapax_count</th>\n",
       "      <th>hapax_index</th>\n",
       "      <th>paras_count</th>\n",
       "      <th>sents_count</th>\n",
       "      <th>sppar</th>\n",
       "      <th>ttr</th>\n",
       "      <th>vocab_count</th>\n",
       "      <th>words_count</th>\n",
       "      <th>wpsen</th>\n",
       "    </tr>\n",
       "  </thead>\n",
       "  <tbody>\n",
       "    <tr>\n",
       "      <th>356</th>\n",
       "      <td>5e7854ebc59124ce04bed09d</td>\n",
       "      <td>«Яблоко» далеко не падает</td>\n",
       "      <td>. .</td>\n",
       "      <td>Компания</td>\n",
       "      <td>3438</td>\n",
       "      <td>0.0</td>\n",
       "      <td>0.0</td>\n",
       "      <td>0.0</td>\n",
       "      <td>0.0</td>\n",
       "      <td>0.0</td>\n",
       "      <td>0.0</td>\n",
       "      <td>0.0</td>\n",
       "      <td>0.0</td>\n",
       "      <td>0.0</td>\n",
       "    </tr>\n",
       "    <tr>\n",
       "      <th>548</th>\n",
       "      <td>5e7854ebc59124ce04bed15d</td>\n",
       "      <td>Индикаторы</td>\n",
       "      <td>. . . . . . . . . . . . . . . . . . . . . . . .</td>\n",
       "      <td>Коммерсантъ</td>\n",
       "      <td>5610</td>\n",
       "      <td>0.0</td>\n",
       "      <td>0.0</td>\n",
       "      <td>0.0</td>\n",
       "      <td>0.0</td>\n",
       "      <td>0.0</td>\n",
       "      <td>0.0</td>\n",
       "      <td>0.0</td>\n",
       "      <td>0.0</td>\n",
       "      <td>0.0</td>\n",
       "    </tr>\n",
       "    <tr>\n",
       "      <th>735</th>\n",
       "      <td>5e7854ebc59124ce04bed218</td>\n",
       "      <td>Индикаторы</td>\n",
       "      <td>. . . . . . . . . . . . . . . . . . .</td>\n",
       "      <td>Коммерсантъ</td>\n",
       "      <td>6365</td>\n",
       "      <td>0.0</td>\n",
       "      <td>0.0</td>\n",
       "      <td>0.0</td>\n",
       "      <td>0.0</td>\n",
       "      <td>0.0</td>\n",
       "      <td>0.0</td>\n",
       "      <td>0.0</td>\n",
       "      <td>0.0</td>\n",
       "      <td>0.0</td>\n",
       "    </tr>\n",
       "    <tr>\n",
       "      <th>793</th>\n",
       "      <td>5e7854ebc59124ce04bed252</td>\n",
       "      <td>200 крупнейших российских банков по размеру чи...</td>\n",
       "      <td>. . . .</td>\n",
       "      <td>Профиль</td>\n",
       "      <td>12039</td>\n",
       "      <td>0.0</td>\n",
       "      <td>0.0</td>\n",
       "      <td>0.0</td>\n",
       "      <td>0.0</td>\n",
       "      <td>0.0</td>\n",
       "      <td>0.0</td>\n",
       "      <td>0.0</td>\n",
       "      <td>0.0</td>\n",
       "      <td>0.0</td>\n",
       "    </tr>\n",
       "    <tr>\n",
       "      <th>931</th>\n",
       "      <td>5e7854ebc59124ce04bed2dc</td>\n",
       "      <td>NON-STOP | ОПРОС</td>\n",
       "      <td>. .</td>\n",
       "      <td>Московский комсомолец</td>\n",
       "      <td>17960</td>\n",
       "      <td>0.0</td>\n",
       "      <td>0.0</td>\n",
       "      <td>0.0</td>\n",
       "      <td>0.0</td>\n",
       "      <td>0.0</td>\n",
       "      <td>0.0</td>\n",
       "      <td>0.0</td>\n",
       "      <td>0.0</td>\n",
       "      <td>0.0</td>\n",
       "    </tr>\n",
       "  </tbody>\n",
       "</table>\n",
       "</div>"
      ],
      "text/plain": [
       "                          _id  \\\n",
       "356  5e7854ebc59124ce04bed09d   \n",
       "548  5e7854ebc59124ce04bed15d   \n",
       "735  5e7854ebc59124ce04bed218   \n",
       "793  5e7854ebc59124ce04bed252   \n",
       "931  5e7854ebc59124ce04bed2dc   \n",
       "\n",
       "                                                 title  \\\n",
       "356                          «Яблоко» далеко не падает   \n",
       "548                                         Индикаторы   \n",
       "735                                         Индикаторы   \n",
       "793  200 крупнейших российских банков по размеру чи...   \n",
       "931                                   NON-STOP | ОПРОС   \n",
       "\n",
       "                                          annotation           edition_name  \\\n",
       "356                                              . .               Компания   \n",
       "548  . . . . . . . . . . . . . . . . . . . . . . . .            Коммерсантъ   \n",
       "735            . . . . . . . . . . . . . . . . . . .            Коммерсантъ   \n",
       "793                                          . . . .                Профиль   \n",
       "931                                              . .  Московский комсомолец   \n",
       "\n",
       "     doc_id  hapax_count  hapax_index  paras_count  sents_count  sppar  ttr  \\\n",
       "356    3438          0.0          0.0          0.0          0.0    0.0  0.0   \n",
       "548    5610          0.0          0.0          0.0          0.0    0.0  0.0   \n",
       "735    6365          0.0          0.0          0.0          0.0    0.0  0.0   \n",
       "793   12039          0.0          0.0          0.0          0.0    0.0  0.0   \n",
       "931   17960          0.0          0.0          0.0          0.0    0.0  0.0   \n",
       "\n",
       "     vocab_count  words_count  wpsen  \n",
       "356          0.0          0.0    0.0  \n",
       "548          0.0          0.0    0.0  \n",
       "735          0.0          0.0    0.0  \n",
       "793          0.0          0.0    0.0  \n",
       "931          0.0          0.0    0.0  "
      ]
     },
     "execution_count": 69,
     "metadata": {},
     "output_type": "execute_result"
    }
   ],
   "source": [
    "df[df[\"hapax_index\"] == 0].head()"
   ]
  },
  {
   "cell_type": "code",
   "execution_count": 73,
   "metadata": {},
   "outputs": [
    {
     "data": {
      "text/html": [
       "<div>\n",
       "<style scoped>\n",
       "    .dataframe tbody tr th:only-of-type {\n",
       "        vertical-align: middle;\n",
       "    }\n",
       "\n",
       "    .dataframe tbody tr th {\n",
       "        vertical-align: top;\n",
       "    }\n",
       "\n",
       "    .dataframe thead th {\n",
       "        text-align: right;\n",
       "    }\n",
       "</style>\n",
       "<table border=\"1\" class=\"dataframe\">\n",
       "  <thead>\n",
       "    <tr style=\"text-align: right;\">\n",
       "      <th></th>\n",
       "      <th>doc_id</th>\n",
       "      <th>hapax_count</th>\n",
       "      <th>hapax_index</th>\n",
       "      <th>paras_count</th>\n",
       "      <th>sents_count</th>\n",
       "      <th>sppar</th>\n",
       "      <th>ttr</th>\n",
       "      <th>vocab_count</th>\n",
       "      <th>words_count</th>\n",
       "      <th>wpsen</th>\n",
       "    </tr>\n",
       "  </thead>\n",
       "  <tbody>\n",
       "    <tr>\n",
       "      <th>count</th>\n",
       "      <td>1816.000000</td>\n",
       "      <td>1816.000000</td>\n",
       "      <td>1816.000000</td>\n",
       "      <td>1816.000000</td>\n",
       "      <td>1816.000000</td>\n",
       "      <td>1816.000000</td>\n",
       "      <td>1816.000000</td>\n",
       "      <td>1816.000000</td>\n",
       "      <td>1816.000000</td>\n",
       "      <td>1816.000000</td>\n",
       "    </tr>\n",
       "    <tr>\n",
       "      <th>mean</th>\n",
       "      <td>177155.395925</td>\n",
       "      <td>33.227423</td>\n",
       "      <td>0.100678</td>\n",
       "      <td>55.049559</td>\n",
       "      <td>78.910242</td>\n",
       "      <td>0.526557</td>\n",
       "      <td>0.068636</td>\n",
       "      <td>103.118943</td>\n",
       "      <td>1023.331498</td>\n",
       "      <td>4.398723</td>\n",
       "    </tr>\n",
       "    <tr>\n",
       "      <th>std</th>\n",
       "      <td>149425.612458</td>\n",
       "      <td>82.706161</td>\n",
       "      <td>0.154327</td>\n",
       "      <td>240.852558</td>\n",
       "      <td>337.194685</td>\n",
       "      <td>1.016120</td>\n",
       "      <td>0.122644</td>\n",
       "      <td>250.293001</td>\n",
       "      <td>4412.207195</td>\n",
       "      <td>7.537832</td>\n",
       "    </tr>\n",
       "    <tr>\n",
       "      <th>min</th>\n",
       "      <td>238.000000</td>\n",
       "      <td>0.000000</td>\n",
       "      <td>0.000000</td>\n",
       "      <td>0.000000</td>\n",
       "      <td>0.000000</td>\n",
       "      <td>0.000000</td>\n",
       "      <td>0.000000</td>\n",
       "      <td>0.000000</td>\n",
       "      <td>0.000000</td>\n",
       "      <td>0.000000</td>\n",
       "    </tr>\n",
       "    <tr>\n",
       "      <th>25%</th>\n",
       "      <td>76266.750000</td>\n",
       "      <td>0.000000</td>\n",
       "      <td>0.000000</td>\n",
       "      <td>0.000000</td>\n",
       "      <td>0.000000</td>\n",
       "      <td>0.000000</td>\n",
       "      <td>0.000000</td>\n",
       "      <td>0.000000</td>\n",
       "      <td>0.000000</td>\n",
       "      <td>0.000000</td>\n",
       "    </tr>\n",
       "    <tr>\n",
       "      <th>50%</th>\n",
       "      <td>146166.000000</td>\n",
       "      <td>0.000000</td>\n",
       "      <td>0.000000</td>\n",
       "      <td>0.000000</td>\n",
       "      <td>0.000000</td>\n",
       "      <td>0.000000</td>\n",
       "      <td>0.000000</td>\n",
       "      <td>0.000000</td>\n",
       "      <td>0.000000</td>\n",
       "      <td>0.000000</td>\n",
       "    </tr>\n",
       "    <tr>\n",
       "      <th>75%</th>\n",
       "      <td>251490.500000</td>\n",
       "      <td>27.250000</td>\n",
       "      <td>0.264500</td>\n",
       "      <td>20.000000</td>\n",
       "      <td>30.000000</td>\n",
       "      <td>1.048000</td>\n",
       "      <td>0.117000</td>\n",
       "      <td>90.250000</td>\n",
       "      <td>332.000000</td>\n",
       "      <td>8.811000</td>\n",
       "    </tr>\n",
       "    <tr>\n",
       "      <th>max</th>\n",
       "      <td>923158.000000</td>\n",
       "      <td>893.000000</td>\n",
       "      <td>0.399000</td>\n",
       "      <td>5337.000000</td>\n",
       "      <td>8637.000000</td>\n",
       "      <td>11.875000</td>\n",
       "      <td>0.588000</td>\n",
       "      <td>3259.000000</td>\n",
       "      <td>114835.000000</td>\n",
       "      <td>46.844000</td>\n",
       "    </tr>\n",
       "  </tbody>\n",
       "</table>\n",
       "</div>"
      ],
      "text/plain": [
       "              doc_id  hapax_count  hapax_index  paras_count  sents_count  \\\n",
       "count    1816.000000  1816.000000  1816.000000  1816.000000  1816.000000   \n",
       "mean   177155.395925    33.227423     0.100678    55.049559    78.910242   \n",
       "std    149425.612458    82.706161     0.154327   240.852558   337.194685   \n",
       "min       238.000000     0.000000     0.000000     0.000000     0.000000   \n",
       "25%     76266.750000     0.000000     0.000000     0.000000     0.000000   \n",
       "50%    146166.000000     0.000000     0.000000     0.000000     0.000000   \n",
       "75%    251490.500000    27.250000     0.264500    20.000000    30.000000   \n",
       "max    923158.000000   893.000000     0.399000  5337.000000  8637.000000   \n",
       "\n",
       "             sppar          ttr  vocab_count    words_count        wpsen  \n",
       "count  1816.000000  1816.000000  1816.000000    1816.000000  1816.000000  \n",
       "mean      0.526557     0.068636   103.118943    1023.331498     4.398723  \n",
       "std       1.016120     0.122644   250.293001    4412.207195     7.537832  \n",
       "min       0.000000     0.000000     0.000000       0.000000     0.000000  \n",
       "25%       0.000000     0.000000     0.000000       0.000000     0.000000  \n",
       "50%       0.000000     0.000000     0.000000       0.000000     0.000000  \n",
       "75%       1.048000     0.117000    90.250000     332.000000     8.811000  \n",
       "max      11.875000     0.588000  3259.000000  114835.000000    46.844000  "
      ]
     },
     "execution_count": 73,
     "metadata": {},
     "output_type": "execute_result"
    }
   ],
   "source": [
    "df[df[\"hapax_index\"] < 0.4].describe()"
   ]
  },
  {
   "cell_type": "code",
   "execution_count": 74,
   "metadata": {},
   "outputs": [
    {
     "data": {
      "text/plain": [
       "114835.0"
      ]
     },
     "execution_count": 74,
     "metadata": {},
     "output_type": "execute_result"
    }
   ],
   "source": [
    "df[df[\"hapax_index\"] < 0.4][\"words_count\"].max()"
   ]
  },
  {
   "cell_type": "code",
   "execution_count": 79,
   "metadata": {},
   "outputs": [
    {
     "data": {
      "text/plain": [
       "array(['О перечне, формах и порядке составления и представления форм отчетности кредитных организаций в Центральный банк Российской Федерации'],\n",
       "      dtype=object)"
      ]
     },
     "execution_count": 79,
     "metadata": {},
     "output_type": "execute_result"
    }
   ],
   "source": [
    "df[df[\"words_count\"] == 114835.0][\"title\"].values"
   ]
  },
  {
   "cell_type": "code",
   "execution_count": 80,
   "metadata": {},
   "outputs": [
    {
     "data": {
      "text/plain": [
       "array(['УКАЗАНИЕ. 24 ноября 2016 года № 4212-У. Зарегистрировано Министерством юстиции Российской Федерации 14 декабря 2016 года .'],\n",
       "      dtype=object)"
      ]
     },
     "execution_count": 80,
     "metadata": {},
     "output_type": "execute_result"
    }
   ],
   "source": [
    "df[df[\"words_count\"] == 114835.0][\"annotation\"].values"
   ]
  },
  {
   "cell_type": "code",
   "execution_count": 45,
   "metadata": {},
   "outputs": [
    {
     "data": {
      "text/plain": [
       "Вестник Банка России                                                                     237\n",
       "Коммерсантъ                                                                              157\n",
       "Российская газета                                                                         76\n",
       "Таможенные ведомости                                                                      65\n",
       "Московский комсомолец                                                                     27\n",
       "Комсомольская правда                                                                      18\n",
       "Ценообразование и сметное нормирование в строительстве                                    16\n",
       "Компания                                                                                  16\n",
       "Заработная плата. Расчеты. Учет. Налоги                                                   12\n",
       "Главбух                                                                                   12\n",
       "Вестник экономического правосудия Российской Федерации                                    12\n",
       "Военно-промышленный курьер                                                                10\n",
       "Хозяйство и право                                                                          8\n",
       "Официальные документы в образовании                                                        8\n",
       "Ежедневные новости - Подмосковье                                                           7\n",
       "Арбитражная практика                                                                       7\n",
       "Учет. Налоги. Право                                                                        7\n",
       "Ведомости                                                                                  6\n",
       "Новая газета                                                                               5\n",
       "Огонек                                                                                     5\n",
       "Справочник специалиста по охране труда                                                     4\n",
       "РБК Стиль                                                                                  4\n",
       "Независимая газета                                                                         4\n",
       "Российская экономика - прогнозы и тенденции                                                4\n",
       "Генеральный Директор                                                                       4\n",
       "РБК Газета                                                                                 3\n",
       "Профиль                                                                                    3\n",
       "Законодательство                                                                           3\n",
       "Библиотека инженера по охране труда                                                        3\n",
       "Коммерсантъ WEEKEND                                                                        3\n",
       "Черные металлы                                                                             3\n",
       "Elle                                                                                       3\n",
       "Строительная газета                                                                        3\n",
       "Бюджет                                                                                     3\n",
       "Статистический бюллетень Банка России                                                      2\n",
       "Независимое военное обозрение                                                              2\n",
       "Maxim                                                                                      2\n",
       "RWAY. Информационно-аналитический бюллетень рынка недвижимости                             2\n",
       "Счастливые родители                                                                        2\n",
       "Вестник ценообразования и сметного нормирования                                            2\n",
       "Инвестиции в России                                                                        2\n",
       "Российское военное обозрение                                                               2\n",
       "Пищевая промышленность                                                                     2\n",
       "Закон                                                                                      2\n",
       "Локомотив                                                                                  2\n",
       "Коммерсантъ-Деньги                                                                         1\n",
       "Интеллектуальная собственность. Промышленная собственность                                 1\n",
       "Известия высших учебных заведений. Черная металлургия                                      1\n",
       "Железнодорожный транспорт                                                                  1\n",
       "Таможня                                                                                    1\n",
       "PSYCHOLOGIES                                                                               1\n",
       "Проблемы прогнозирования                                                                   1\n",
       "АПК: Экономика, управление                                                                 1\n",
       "Пресс-служба                                                                               1\n",
       "Металлоснабжение и сбыт                                                                    1\n",
       "Налогообложение, учет и отчетность в коммерческом банке                                    1\n",
       "Справочник секретаря и офис-менеджера                                                      1\n",
       "Финансовый директор                                                                        1\n",
       "Экономика и управление                                                                     1\n",
       "Санэпидконтроль. Охрана труда                                                              1\n",
       "Атомная энергетика                                                                         1\n",
       "Налоги. Законодательство. Комментарии.                                                     1\n",
       "Кадровая служба и управление персоналом предприятия                                        1\n",
       "Молл                                                                                       1\n",
       "Имущественные отношения в Российской Федерации                                             1\n",
       "IT-Expert                                                                                  1\n",
       "Российская газета. Неделя                                                                  1\n",
       "ШЕФ-АРТ/CHEFART                                                                            1\n",
       "PUBLISH/ДИЗАЙН. ВЕРСТКА. ПЕЧАТЬ                                                            1\n",
       "ТестИК                                                                                     1\n",
       "Российский налоговый курьер                                                                1\n",
       "Деловой Петербург                                                                          1\n",
       "Секретарское дело                                                                          1\n",
       "Открытое образование                                                                       1\n",
       "Совершенно секретно                                                                        1\n",
       "Комсомольская правда. Еженедельник                                                         1\n",
       "Гудок 1520                                                                                 1\n",
       "Технологии и средства связи                                                                1\n",
       "Фармацевтический вестник                                                                   1\n",
       "Директор по безопасности                                                                   1\n",
       "Российская экономика: прогнозы и тенденции                                                 1\n",
       "Экономика и учет труда                                                                     1\n",
       "ИСУП                                                                                       1\n",
       "Газовая промышленность                                                                     1\n",
       "Linux Format                                                                               1\n",
       "Интеллектуальная собственность. Авторское право и смежные права                            1\n",
       "Банковские технологии                                                                      1\n",
       "WindowsITPro                                                                               1\n",
       "Ремедиум                                                                                   1\n",
       "Информационный бюллетень о нормативной, методической и типовой проектной документации      1\n",
       "Коммерсантъ-Власть                                                                         1\n",
       "Системы безопасности                                                                       1\n",
       "Известия                                                                                   1\n",
       "Вопросы новой экономики                                                                    1\n",
       "Name: edition_name, dtype: int64"
      ]
     },
     "execution_count": 45,
     "metadata": {},
     "output_type": "execute_result"
    }
   ],
   "source": [
    "df[df[\"hapax_index\"] < 0.5][\"edition_name\"].value_counts()"
   ]
  },
  {
   "cell_type": "code",
   "execution_count": 47,
   "metadata": {},
   "outputs": [
    {
     "data": {
      "text/plain": [
       "72.48009650180941"
      ]
     },
     "execution_count": 47,
     "metadata": {},
     "output_type": "execute_result"
    }
   ],
   "source": [
    "df[df[\"hapax_index\"] < 0.5][\"paras_count\"].mean()"
   ]
  },
  {
   "cell_type": "code",
   "execution_count": 49,
   "metadata": {},
   "outputs": [
    {
     "data": {
      "text/plain": [
       "115.7816646562123"
      ]
     },
     "execution_count": 49,
     "metadata": {},
     "output_type": "execute_result"
    }
   ],
   "source": [
    "df[df[\"hapax_index\"] < 0.5][\"sents_count\"].mean()"
   ]
  },
  {
   "cell_type": "code",
   "execution_count": 50,
   "metadata": {},
   "outputs": [
    {
     "data": {
      "text/plain": [
       "1431.3088057901086"
      ]
     },
     "execution_count": 50,
     "metadata": {},
     "output_type": "execute_result"
    }
   ],
   "source": [
    "df[df[\"hapax_index\"] < 0.5][\"words_count\"].mean()"
   ]
  },
  {
   "cell_type": "code",
   "execution_count": 91,
   "metadata": {},
   "outputs": [
    {
     "data": {
      "image/png": "[encoded data removed]",
      "text/plain": [
       "<Figure size 1440x1080 with 1 Axes>"
      ]
     },
     "metadata": {
      "needs_background": "light"
     },
     "output_type": "display_data"
    }
   ],
   "source": [
    "ax = df[\"words_count\"].plot.hist(bins=100, alpha=0.5)"
   ]
  },
  {
   "cell_type": "code",
   "execution_count": 54,
   "metadata": {},
   "outputs": [
    {
     "data": {
      "text/plain": [
       "count     48000.000000\n",
       "mean        338.661313\n",
       "std         814.328985\n",
       "min           0.000000\n",
       "25%          87.000000\n",
       "50%         203.000000\n",
       "75%         413.000000\n",
       "max      114835.000000\n",
       "Name: words_count, dtype: float64"
      ]
     },
     "execution_count": 54,
     "metadata": {},
     "output_type": "execute_result"
    }
   ],
   "source": [
    "df[\"words_count\"].describe()"
   ]
  },
  {
   "cell_type": "code",
   "execution_count": null,
   "metadata": {},
   "outputs": [],
   "source": []
  },
  {
   "cell_type": "code",
   "execution_count": null,
   "metadata": {},
   "outputs": [],
   "source": []
  },
  {
   "cell_type": "code",
   "execution_count": null,
   "metadata": {},
   "outputs": [],
   "source": []
  },
  {
   "cell_type": "code",
   "execution_count": null,
   "metadata": {},
   "outputs": [],
   "source": []
  },
  {
   "cell_type": "code",
   "execution_count": null,
   "metadata": {},
   "outputs": [],
   "source": []
  },
  {
   "cell_type": "code",
   "execution_count": null,
   "metadata": {},
   "outputs": [],
   "source": []
  },
  {
   "cell_type": "code",
   "execution_count": null,
   "metadata": {},
   "outputs": [],
   "source": []
  },
  {
   "cell_type": "code",
   "execution_count": null,
   "metadata": {},
   "outputs": [],
   "source": []
  },
  {
   "cell_type": "code",
   "execution_count": null,
   "metadata": {},
   "outputs": [],
   "source": []
  },
  {
   "cell_type": "code",
   "execution_count": null,
   "metadata": {},
   "outputs": [],
   "source": []
  },
  {
   "cell_type": "code",
   "execution_count": null,
   "metadata": {},
   "outputs": [],
   "source": []
  },
  {
   "cell_type": "code",
   "execution_count": null,
   "metadata": {},
   "outputs": [],
   "source": []
  },
  {
   "cell_type": "code",
   "execution_count": null,
   "metadata": {},
   "outputs": [],
   "source": []
  },
  {
   "cell_type": "code",
   "execution_count": null,
   "metadata": {},
   "outputs": [],
   "source": []
  },
  {
   "cell_type": "code",
   "execution_count": null,
   "metadata": {},
   "outputs": [],
   "source": []
  },
  {
   "cell_type": "code",
   "execution_count": null,
   "metadata": {},
   "outputs": [],
   "source": []
  },
  {
   "cell_type": "code",
   "execution_count": null,
   "metadata": {},
   "outputs": [],
   "source": []
  },
  {
   "cell_type": "code",
   "execution_count": null,
   "metadata": {},
   "outputs": [],
   "source": []
  },
  {
   "cell_type": "code",
   "execution_count": null,
   "metadata": {},
   "outputs": [],
   "source": []
  }
 ],
 "metadata": {
  "kernelspec": {
   "display_name": "Python 3",
   "language": "python",
   "name": "python3"
  },
  "language_info": {
   "codemirror_mode": {
    "name": "ipython",
    "version": 3
   },
   "file_extension": ".py",
   "mimetype": "text/x-python",
   "name": "python",
   "nbconvert_exporter": "python",
   "pygments_lexer": "ipython3",
   "version": "3.7.4"
  }
 },
 "nbformat": 4,
 "nbformat_minor": 4
}
