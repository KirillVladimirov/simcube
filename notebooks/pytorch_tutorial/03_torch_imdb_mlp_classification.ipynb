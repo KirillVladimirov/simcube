{
 "cells": [
  {
   "cell_type": "code",
   "execution_count": 1,
   "metadata": {},
   "outputs": [],
   "source": [
    "import torch\n",
    "import torch.nn as nn\n",
    "import torch.nn.functional as F\n",
    "import torch.optim as optim\n",
    "from torch.utils.data import Dataset\n",
    "from torch.utils.data import DataLoader"
   ]
  },
  {
   "cell_type": "code",
   "execution_count": 2,
   "metadata": {},
   "outputs": [],
   "source": [
    "%load_ext autoreload\n",
    "%autoreload 2\n",
    "\n",
    "import warnings\n",
    "warnings.filterwarnings('ignore')"
   ]
  },
  {
   "cell_type": "code",
   "execution_count": 3,
   "metadata": {},
   "outputs": [],
   "source": [
    "import pandas as pd\n",
    "import numpy as np\n",
    "from sklearn.model_selection import train_test_split\n",
    "from sklearn.metrics import accuracy_score\n",
    "import re\n",
    "import string\n",
    "import copy\n",
    "import datetime\n",
    "import traceback\n",
    "import random\n",
    "from collections import Counter\n",
    "from IPython.display import clear_output\n",
    "from tqdm.notebook import tqdm\n",
    "\n",
    "import matplotlib.pyplot as plt\n",
    "%matplotlib inline"
   ]
  },
  {
   "cell_type": "code",
   "execution_count": 4,
   "metadata": {},
   "outputs": [],
   "source": [
    "def preprocess_text(text):\n",
    "    text = text.lower()\n",
    "    text = re.sub(r\"([.,!?])\", r\" \\1 \", text)\n",
    "    text = re.sub(r\"[^a-zA-Z.,!?]+\", r\" \", text)\n",
    "    return text"
   ]
  },
  {
   "cell_type": "code",
   "execution_count": null,
   "metadata": {},
   "outputs": [],
   "source": []
  },
  {
   "cell_type": "code",
   "execution_count": 5,
   "metadata": {},
   "outputs": [],
   "source": [
    "class Vocabulary:\n",
    "    \n",
    "    def __init__(self, token2index=None, add_unk=True, unk_token=\"<UNK>\"):\n",
    "        if token2index is None:\n",
    "            token2index = {}\n",
    "        self._token2index = token2index\n",
    "        self._add_unk = add_unk\n",
    "        self._unk_token = unk_token\n",
    "        self._index2token = {index: token for token, index in self._token2index.items()}\n",
    "        self.unk_index = -1\n",
    "        if add_unk:\n",
    "            self.unk_index = self.add_token(unk_token)\n",
    "            \n",
    "    def add_token(self, token):\n",
    "        if token in self._token2index:\n",
    "            index = self._token2index[token]\n",
    "        else:\n",
    "            index = len(self._token2index)\n",
    "            self._token2index[token] = index\n",
    "            self._index2token[index] = token\n",
    "        return index\n",
    "        \n",
    "    def lookup_token(self, token):\n",
    "        if self._add_unk:\n",
    "            return self._token2index.get(token, self.unk_index)\n",
    "        else:\n",
    "            return self._token2index[token]\n",
    "        \n",
    "    def lookup_index(self, index):\n",
    "        if index not in self._index2token:\n",
    "            raise KeyError(\"the index (%d) is not in the Vocabulary\" % index)\n",
    "        return self._index2token[index]\n",
    "    \n",
    "    @classmethod\n",
    "    def from_serializable(cls, contents):\n",
    "        return cls(**contents)\n",
    "    \n",
    "    def to_serializable(self):\n",
    "        return {\n",
    "            'token_to_idx': self._token2index,\n",
    "            'add_unk': self._add_unk,\n",
    "            'unk_token': self._unk_token\n",
    "        }\n",
    "        \n",
    "    def __str__(self):\n",
    "        return \"<Vocabulary(size=%d)>\" % len(self)\n",
    "    \n",
    "    def __len__(self):\n",
    "        return len(self._token2index)\n",
    "\n",
    "\n",
    "class ReviewVectorizer:\n",
    "    \n",
    "    def __init__(self, review_vocab, rating_vocab):\n",
    "        self.review_vocab = review_vocab\n",
    "        self.rating_vocab = rating_vocab\n",
    "    \n",
    "    def vectorize(self, review):\n",
    "        one_hot = np.zeros(len(self.review_vocab), dtype=np.float32)\n",
    "        for token in review.split(\" \"):\n",
    "            if token not in string.punctuation:\n",
    "                one_hot[self.review_vocab.lookup_token(token)] = 1\n",
    "        return one_hot\n",
    "\n",
    "    @classmethod\n",
    "    def from_dataframe(cls, dataframe, config):\n",
    "        review_vocab = Vocabulary(add_unk=True)\n",
    "        rating_vocab = Vocabulary(add_unk=False)\n",
    "        # Добавить рейтинги\n",
    "        for rating in sorted(set(dataframe['sentiment'])):\n",
    "            rating_vocab.add_token(rating)\n",
    "        # Добавить часто встречающиеся слова, если число вхождений\n",
    "        # больше указанного\n",
    "        word_counts = Counter()\n",
    "        for review in dataframe['review']:\n",
    "            for word in review.split(\" \"):\n",
    "                if word not in string.punctuation:\n",
    "                    word_counts[word] += 1\n",
    "        for word, count in word_counts.items():\n",
    "            if count > config.cutoff:\n",
    "                review_vocab.add_token(word)\n",
    "        return cls(review_vocab, rating_vocab)\n",
    "\n",
    "\n",
    "class ReviewDataset(Dataset):\n",
    "    \n",
    "    def __init__(self, config, dataframe, vectorizer):\n",
    "        self.review_df = dataframe\n",
    "        self.train_df, self.test_df = train_test_split(dataframe, test_size=config.test_size, random_state=config.randon_seed)\n",
    "        self.train_size = len(self.train_df)\n",
    "        self.test_size = len(self.test_df)\n",
    "        self._vectorizer = vectorizer\n",
    "        self._lookup_dict = {\n",
    "            'train': (self.train_df, self.train_size),\n",
    "            'test': (self.test_df, self.test_size)\n",
    "        }\n",
    "        self._target_split = None\n",
    "        self._target_df = None\n",
    "        self._target_size = None\n",
    "        self.set_split('train')\n",
    "        \n",
    "    def __len__(self):\n",
    "        return self._target_size\n",
    "    \n",
    "    def __getitem__(self, index):\n",
    "        row = self._target_df.iloc[index]\n",
    "        return {\n",
    "            'text': self._vectorizer.vectorize(row['review']),\n",
    "            'target': self._vectorizer.rating_vocab.lookup_token(row['sentiment'])\n",
    "        }\n",
    "    \n",
    "    def set_split(self, split='train'):\n",
    "        self._target_split = split\n",
    "        self._target_df, self._target_size = self._lookup_dict[split]\n",
    "    \n",
    "    def get_vectorizer(self):\n",
    "        return self._vectorizer\n",
    "    \n",
    "    def get_num_batches(self, batch_size):\n",
    "        return len(self) // batch_size\n",
    "    \n",
    "    @classmethod\n",
    "    def load_dataset_and_make_vectorizer(cls, config):\n",
    "        review_df = pd.read_csv(config.dataset_file)\n",
    "        review_df[\"review\"] = review_df[\"review\"].apply(preprocess_text)\n",
    "        return cls(config, review_df, ReviewVectorizer.from_dataframe(review_df, config))"
   ]
  },
  {
   "cell_type": "code",
   "execution_count": null,
   "metadata": {},
   "outputs": [],
   "source": []
  },
  {
   "cell_type": "code",
   "execution_count": 6,
   "metadata": {},
   "outputs": [],
   "source": [
    "def set_random_seed(value=0, cuda=True):\n",
    "    random.seed(value)\n",
    "    np.random.seed(value)\n",
    "    torch.manual_seed(value)\n",
    "    if cuda:\n",
    "        torch.cuda.manual_seed(value)\n",
    "        torch.backends.cudnn.deterministic = True\n",
    "\n",
    "def handle_dirs(dirpath):\n",
    "    if not os.path.exists(dirpath):\n",
    "        os.makedirs(dirpath)"
   ]
  },
  {
   "cell_type": "code",
   "execution_count": 7,
   "metadata": {},
   "outputs": [],
   "source": [
    "def generate_batches(dataset, batch_size, shuffle=True, drop_last=True, device=\"cpu\"):\n",
    "    dataloader = DataLoader(dataset=dataset, batch_size=batch_size, shuffle=shuffle, drop_last=drop_last)\n",
    "    for data_dict in dataloader:\n",
    "        out_data_dict = {}\n",
    "        for name, tensor in data_dict.items():\n",
    "            out_data_dict[name] = data_dict[name].to(device)\n",
    "        yield out_data_dict"
   ]
  },
  {
   "cell_type": "code",
   "execution_count": 8,
   "metadata": {},
   "outputs": [],
   "source": [
    "def compute_accuracy(y_pred, y_target):\n",
    "    y_target = y_target.cpu()\n",
    "    y_pred_indices = (torch.sigmoid(y_pred)>0.5).cpu().long()#.max(dim=1)[1]\n",
    "    n_correct = torch.eq(y_pred_indices, y_target).sum().item()\n",
    "    return n_correct / len(y_pred_indices) * 100"
   ]
  },
  {
   "cell_type": "code",
   "execution_count": 9,
   "metadata": {},
   "outputs": [],
   "source": [
    "class ReviewClassifier(nn.Module):\n",
    "    \n",
    "    def __init__(self, num_features):\n",
    "        super(ReviewClassifier, self).__init__()\n",
    "        self.fc1 = nn.Linear(in_features=num_features, out_features=1)\n",
    " \n",
    "    def forward(self, x_in, apply_sigmoid=False):\n",
    "        # x_in.shape = (batch, num_features)\n",
    "        y_out = self.fc1(x_in).squeeze()\n",
    "        if apply_sigmoid:\n",
    "            y_out = torch.sigmoid(y_out)\n",
    "        return y_out"
   ]
  },
  {
   "cell_type": "code",
   "execution_count": 43,
   "metadata": {},
   "outputs": [],
   "source": [
    "class MultilayerPerceptron(nn.Module):\n",
    "    \n",
    "    def __init__(self, num_features, num_hidden):\n",
    "        super(MultilayerPerceptron, self).__init__()\n",
    "        self.fc1 = nn.Linear(in_features=num_features, out_features=num_hidden)\n",
    "        self.fc2 = nn.Linear(in_features=num_hidden, out_features=1)\n",
    " \n",
    "    def forward(self, x_in, apply_sigmoid=False):\n",
    "        # x_in.shape = (batch, num_features)\n",
    "        intermediate = F.relu(self.fc1(x_in))\n",
    "        output = self.fc2(intermediate)\n",
    "        if apply_sigmoid:\n",
    "            output = torch.sigmoid(output)\n",
    "        return output.squeeze()"
   ]
  },
  {
   "cell_type": "code",
   "execution_count": 25,
   "metadata": {},
   "outputs": [],
   "source": [
    "def model_size(model):\n",
    "    print(model)\n",
    "    print(\"All parameters: \", sum(p.numel() for p in model.parameters()))\n",
    "    print(\"Trainable parameters: \", sum(p.numel() for p in model.parameters() if p.requires_grad))\n",
    "    print(\"Model's state_dict:\")\n",
    "    for param_tensor in model.state_dict():\n",
    "        print(param_tensor, \"\\t\", model.state_dict()[param_tensor].size())"
   ]
  },
  {
   "cell_type": "code",
   "execution_count": null,
   "metadata": {},
   "outputs": [],
   "source": []
  },
  {
   "cell_type": "code",
   "execution_count": 26,
   "metadata": {},
   "outputs": [],
   "source": [
    "class ConfigClassification:\n",
    "    randon_seed = 42\n",
    "    root = \"../../data/raw/_classification_text/\"\n",
    "    dataset_file = \"../../data/raw/_classification_text/IMDB Dataset.csv\"\n",
    "    test_size = 0.3\n",
    "    batch_size = 64\n",
    "    cutoff = 3\n",
    "    model_state_file='model.pth'\n",
    "    save_dir='model_storage/'\n",
    "    vectorizer_file='vectorizer.json'\n",
    "    batch_size=128\n",
    "    early_stopping_criteria=5\n",
    "    learning_rate=0.001\n",
    "    num_epochs=100\n",
    "    cuda=True\n",
    "    loss_func=None\n",
    "    optimizer=None\n",
    "    scheduler=None\n",
    "    dataloader_workers_n=12\n",
    "    early_stopping_patience=5\n",
    "    num_hidden=2000"
   ]
  },
  {
   "cell_type": "code",
   "execution_count": 27,
   "metadata": {},
   "outputs": [],
   "source": [
    "config = ConfigClassification()"
   ]
  },
  {
   "cell_type": "code",
   "execution_count": 28,
   "metadata": {},
   "outputs": [],
   "source": [
    "if not torch.cuda.is_available():\n",
    "    config.cuda = False\n",
    "config.device = torch.device(\"cuda\" if config.cuda else \"cpu\")"
   ]
  },
  {
   "cell_type": "code",
   "execution_count": 29,
   "metadata": {},
   "outputs": [],
   "source": [
    "set_random_seed(config.randon_seed, config.cuda)"
   ]
  },
  {
   "cell_type": "code",
   "execution_count": 30,
   "metadata": {},
   "outputs": [
    {
     "name": "stdout",
     "output_type": "stream",
     "text": [
      "CPU times: user 13.4 s, sys: 85.3 ms, total: 13.5 s\n",
      "Wall time: 13.5 s\n"
     ]
    }
   ],
   "source": [
    "%%time\n",
    "\n",
    "dataset = ReviewDataset.load_dataset_and_make_vectorizer(config)"
   ]
  },
  {
   "cell_type": "code",
   "execution_count": 31,
   "metadata": {},
   "outputs": [],
   "source": [
    "vectorizer = dataset.get_vectorizer()"
   ]
  },
  {
   "cell_type": "code",
   "execution_count": 44,
   "metadata": {},
   "outputs": [],
   "source": [
    "classifier = MultilayerPerceptron(num_features=len(vectorizer.review_vocab), num_hidden=config.num_hidden)"
   ]
  },
  {
   "cell_type": "code",
   "execution_count": 45,
   "metadata": {},
   "outputs": [],
   "source": [
    "config.loss_func = nn.BCEWithLogitsLoss()\n",
    "config.optimizer = optim.Adam(classifier.parameters(), lr=config.learning_rate)\n",
    "config.scheduler = optim.lr_scheduler.ReduceLROnPlateau(optimizer=config.optimizer, mode='min', factor=0.5, patience=5)"
   ]
  },
  {
   "cell_type": "code",
   "execution_count": 46,
   "metadata": {},
   "outputs": [
    {
     "name": "stdout",
     "output_type": "stream",
     "text": [
      "MultilayerPerceptron(\n",
      "  (fc1): Linear(in_features=43718, out_features=2000, bias=True)\n",
      "  (fc2): Linear(in_features=2000, out_features=1, bias=True)\n",
      ")\n",
      "All parameters:  87440001\n",
      "Trainable parameters:  87440001\n",
      "Model's state_dict:\n",
      "fc1.weight \t torch.Size([2000, 43718])\n",
      "fc1.bias \t torch.Size([2000])\n",
      "fc2.weight \t torch.Size([1, 2000])\n",
      "fc2.bias \t torch.Size([1])\n"
     ]
    }
   ],
   "source": [
    "model_size(classifier)"
   ]
  },
  {
   "cell_type": "code",
   "execution_count": null,
   "metadata": {},
   "outputs": [],
   "source": []
  },
  {
   "cell_type": "code",
   "execution_count": null,
   "metadata": {},
   "outputs": [],
   "source": []
  },
  {
   "cell_type": "code",
   "execution_count": 47,
   "metadata": {},
   "outputs": [],
   "source": [
    "def train_eval_loop(model, dataset, config):\n",
    "    model = model.to(config.device)\n",
    "    optimizer = config.optimizer\n",
    "    scheduler = config.scheduler\n",
    "    criterion = config.loss_func\n",
    "    \n",
    "    best_val_loss = float('inf')\n",
    "    best_epoch_i = 0\n",
    "    best_model = copy.deepcopy(model)\n",
    "    \n",
    "    history_mean_train_loss = []\n",
    "    history_mean_val_loss = [] \n",
    "\n",
    "    dataset.set_split('train')\n",
    "    train_bar = tqdm(desc='split=train', total=dataset.get_num_batches(config.batch_size), position=1, leave=True)\n",
    "\n",
    "    dataset.set_split('test')\n",
    "    val_bar = tqdm(desc='split=test', total=dataset.get_num_batches(config.batch_size), position=1, leave=True)\n",
    "\n",
    "    for epoch_i in tqdm(range(config.num_epochs), desc='training routine',  total=config.num_epochs, position=0):\n",
    "        try:\n",
    "            epoch_start = datetime.datetime.now()\n",
    "            print(f'Epoch {epoch_i}')\n",
    "            dataset.set_split('train')\n",
    "            train_dataloader = generate_batches(dataset, batch_size=config.batch_size, device=config.device)\n",
    "            running_loss = 0.0\n",
    "            running_acc = 0.0\n",
    "            \n",
    "            classifier.train()\n",
    "            mean_train_loss = 0\n",
    "            train_batches_n = 0\n",
    "            for batch_index, batch_dict in enumerate(train_dataloader):\n",
    "                # Процедура обучения состоит из пяти шагов:\n",
    "                # Шаг 1. Обнуляем градиенты\n",
    "                optimizer.zero_grad()\n",
    "                # Шаг 2. Вычисляем выходные значения\n",
    "                y_pred = classifier(x_in=batch_dict['text'].float())\n",
    "                # Шаг 3. Вычисляем функцию потерь\n",
    "                loss = criterion(y_pred, batch_dict['target'].float())\n",
    "                loss_batch = loss.item()\n",
    "                running_loss += (loss_batch - running_loss) / (batch_index + 1)\n",
    "                # Шаг 4. Получаем градиенты на основе функции потерь\n",
    "                loss.backward()\n",
    "                # Шаг 5. Оптимизатор обновляет значения параметров по градиентам\n",
    "                optimizer.step()\n",
    "                # -----------------------------------------\n",
    "                # Вычисляем точность\n",
    "                acc_batch = compute_accuracy(y_pred, batch_dict['target'])\n",
    "                running_acc += (acc_batch - running_acc) / (batch_index + 1)\n",
    "\n",
    "                train_bar.set_postfix(loss=running_loss, \n",
    "                                  acc=running_acc, \n",
    "                                  epoch=epoch_i)\n",
    "                train_bar.update()\n",
    "                mean_train_loss += float(loss)\n",
    "                train_batches_n += 1\n",
    "\n",
    "            mean_train_loss /= train_batches_n\n",
    "            \n",
    "            print('Epoch: {}, {:0.2f} сек'.format(epoch_i, (datetime.datetime.now() - epoch_start).total_seconds()))\n",
    "            \n",
    "            running_loss = 0.\n",
    "            running_acc = 0.\n",
    "            mean_val_loss = 0\n",
    "            val_batches_n = 0\n",
    "            classifier.eval()\n",
    "            dataset.set_split('test')\n",
    "            val_dataloader = generate_batches(dataset, batch_size=config.batch_size, device=config.device)\n",
    "            with torch.no_grad():\n",
    "                for batch_index, batch_dict in enumerate(val_dataloader):\n",
    "                    # Шаг 1. Вычисляем выходные значения\n",
    "                    y_pred = classifier(x_in=batch_dict['text'].float())\n",
    "                    # Шаг 2. Вычисляем функцию потерь\n",
    "                    loss = criterion(y_pred, batch_dict['target'].float())\n",
    "                    loss_batch = loss.item()\n",
    "                    running_loss += (loss_batch - running_loss) / (batch_index + 1)\n",
    "                    # Шаг 3. Вычисляем точность\n",
    "                    acc_batch = compute_accuracy(y_pred, batch_dict['target'])\n",
    "                    running_acc += (acc_batch - running_acc) / (batch_index + 1)\n",
    "\n",
    "                    val_bar.set_postfix(loss=running_loss, \n",
    "                                acc=running_acc, \n",
    "                                epoch=epoch_i)\n",
    "                    val_bar.update()\n",
    "                    mean_val_loss += float(loss)\n",
    "                    val_batches_n += 1\n",
    "\n",
    "            mean_val_loss /= val_batches_n\n",
    "            \n",
    "            history_mean_train_loss.append(mean_train_loss)\n",
    "            history_mean_val_loss.append(mean_val_loss)\n",
    "            \n",
    "            train_bar.n = 0\n",
    "            val_bar.n = 0\n",
    "            \n",
    "            if mean_val_loss < best_val_loss:\n",
    "                best_epoch_i = epoch_i\n",
    "                best_val_loss = mean_val_loss\n",
    "                best_model = copy.deepcopy(model)\n",
    "                print('Новая лучшая модель!')\n",
    "            elif epoch_i - best_epoch_i > config.early_stopping_patience:\n",
    "                print('Модель не улучшилась за последние {} эпох, прекращаем обучение'.format( config.early_stopping_patience))\n",
    "                break\n",
    "    \n",
    "            # visualizing training process\n",
    "            if (epoch_i + 1) % 2 == 0:\n",
    "                clear_output(True)\n",
    "                plt.plot(history_mean_train_loss, label='train_loss')\n",
    "                plt.plot(history_mean_val_loss, label='valid_loss')\n",
    "                plt.legend()\n",
    "                plt.show()\n",
    "                \n",
    "        except KeyboardInterrupt:\n",
    "            print('Досрочно остановлено пользователем')\n",
    "            break\n",
    "        except Exception as ex:\n",
    "            print('Ошибка при обучении: {}\\n{}'.format(ex, traceback.format_exc()))\n",
    "            break\n",
    "            \n",
    "    return best_val_loss, best_model"
   ]
  },
  {
   "cell_type": "code",
   "execution_count": null,
   "metadata": {},
   "outputs": [],
   "source": []
  },
  {
   "cell_type": "code",
   "execution_count": 48,
   "metadata": {},
   "outputs": [
    {
     "data": {
      "image/png": "[encoded data removed]",
      "text/plain": [
       "<Figure size 432x288 with 1 Axes>"
      ]
     },
     "metadata": {
      "needs_background": "light"
     },
     "output_type": "display_data"
    },
    {
     "name": "stdout",
     "output_type": "stream",
     "text": [
      "Epoch 6\n",
      "Досрочно остановлено пользователем\n"
     ]
    }
   ],
   "source": [
    "best_val_loss, best_model = train_eval_loop(classifier, dataset, config)"
   ]
  },
  {
   "cell_type": "code",
   "execution_count": null,
   "metadata": {},
   "outputs": [],
   "source": []
  },
  {
   "cell_type": "code",
   "execution_count": null,
   "metadata": {},
   "outputs": [],
   "source": [
    "dataset.set_split('test')\n",
    "batch_generator = generate_batches(dataset, batch_size=config.batch_size, device=config.device)\n",
    "running_loss = 0.\n",
    "running_acc = 0.\n",
    "classifier.eval()\n",
    "for batch_index, batch_dict in enumerate(batch_generator):\n",
    "    # вычисление выходных значений\n",
    "    y_pred = classifier(x_in=batch_dict['text'].float())\n",
    "    # вычисление потерь\n",
    "    loss = config.loss_func(y_pred, batch_dict['target'].float())\n",
    "    loss_batch = loss.item()\n",
    "    running_loss += (loss_batch - running_loss) / (batch_index + 1)\n",
    "    # вычисление точности\n",
    "    acc_batch = compute_accuracy(y_pred, batch_dict['target'])\n",
    "    running_acc += (acc_batch - running_acc) / (batch_index + 1)\n",
    "\n",
    "print(\"Test loss: {:.3f}\".format(running_loss))\n",
    "print(\"Test Accuracy: {:.2f}\".format(running_acc))"
   ]
  },
  {
   "cell_type": "code",
   "execution_count": null,
   "metadata": {},
   "outputs": [],
   "source": []
  },
  {
   "cell_type": "code",
   "execution_count": null,
   "metadata": {},
   "outputs": [],
   "source": [
    "# Сортировка весов\n",
    "fc1_weights = classifier.fc1.weight.detach()[0]\n",
    "_, indices = torch.sort(fc1_weights, dim=0, descending=True)\n",
    "indices = indices.cpu().numpy().tolist()\n",
    "# Топ-20 позитивных слов\n",
    "print(\"Influential words in Positive Reviews:\")\n",
    "print(\"--------------------------------------\")\n",
    "for i in range(20):\n",
    "    print(vectorizer.review_vocab.lookup_index(indices[i]))"
   ]
  },
  {
   "cell_type": "code",
   "execution_count": null,
   "metadata": {},
   "outputs": [],
   "source": [
    "# Топ-20 негативных слов\n",
    "print(\"Influential words in Negative Reviews:\")\n",
    "print(\"--------------------------------------\")\n",
    "indices.reverse()\n",
    "for i in range(20):\n",
    "    print(vectorizer.review_vocab.lookup_index(indices[i]))"
   ]
  },
  {
   "cell_type": "code",
   "execution_count": null,
   "metadata": {},
   "outputs": [],
   "source": []
  },
  {
   "cell_type": "code",
   "execution_count": null,
   "metadata": {},
   "outputs": [],
   "source": [
    "# torch.save({\n",
    "#             'epoch': epoch,\n",
    "#             'model_state_dict': model.state_dict(),\n",
    "#             'optimizer_state_dict': optimizer.state_dict(),\n",
    "#             'loss': loss,\n",
    "#             ...\n",
    "#             }, PATH)"
   ]
  },
  {
   "cell_type": "code",
   "execution_count": null,
   "metadata": {},
   "outputs": [],
   "source": [
    "# model = TheModelClass(*args, **kwargs)\n",
    "# optimizer = TheOptimizerClass(*args, **kwargs)\n",
    "\n",
    "# checkpoint = torch.load(PATH)\n",
    "# model.load_state_dict(checkpoint['model_state_dict'])\n",
    "# optimizer.load_state_dict(checkpoint['optimizer_state_dict'])\n",
    "# epoch = checkpoint['epoch']\n",
    "# loss = checkpoint['loss']\n",
    "\n",
    "# model.eval()\n",
    "# # - or -\n",
    "# model.train()"
   ]
  },
  {
   "cell_type": "code",
   "execution_count": null,
   "metadata": {},
   "outputs": [],
   "source": []
  },
  {
   "cell_type": "code",
   "execution_count": null,
   "metadata": {},
   "outputs": [],
   "source": []
  },
  {
   "cell_type": "code",
   "execution_count": null,
   "metadata": {},
   "outputs": [],
   "source": []
  },
  {
   "cell_type": "code",
   "execution_count": null,
   "metadata": {},
   "outputs": [],
   "source": []
  },
  {
   "cell_type": "code",
   "execution_count": null,
   "metadata": {},
   "outputs": [],
   "source": []
  },
  {
   "cell_type": "code",
   "execution_count": null,
   "metadata": {},
   "outputs": [],
   "source": []
  },
  {
   "cell_type": "code",
   "execution_count": null,
   "metadata": {},
   "outputs": [],
   "source": []
  },
  {
   "cell_type": "code",
   "execution_count": null,
   "metadata": {},
   "outputs": [],
   "source": []
  },
  {
   "cell_type": "code",
   "execution_count": null,
   "metadata": {},
   "outputs": [],
   "source": []
  },
  {
   "cell_type": "code",
   "execution_count": null,
   "metadata": {},
   "outputs": [],
   "source": []
  },
  {
   "cell_type": "code",
   "execution_count": null,
   "metadata": {},
   "outputs": [],
   "source": []
  }
 ],
 "metadata": {
  "kernelspec": {
   "display_name": "Python 3",
   "language": "python",
   "name": "python3"
  },
  "language_info": {
   "codemirror_mode": {
    "name": "ipython",
    "version": 3
   },
   "file_extension": ".py",
   "mimetype": "text/x-python",
   "name": "python",
   "nbconvert_exporter": "python",
   "pygments_lexer": "ipython3",
   "version": "3.6.9"
  }
 },
 "nbformat": 4,
 "nbformat_minor": 4
}
