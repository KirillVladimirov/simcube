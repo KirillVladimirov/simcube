{
 "cells": [
  {
   "cell_type": "markdown",
   "metadata": {},
   "source": [
    "## Transformer, Self-Attention и моделирование языка"
   ]
  },
  {
   "cell_type": "code",
   "execution_count": 1,
   "metadata": {},
   "outputs": [],
   "source": [
    "%load_ext autoreload\n",
    "%autoreload 2\n",
    "\n",
    "import warnings\n",
    "warnings.filterwarnings('ignore')\n",
    "\n",
    "import matplotlib.pyplot as plt\n",
    "%matplotlib inline\n",
    "\n",
    "import numpy as np\n",
    "\n",
    "import torch\n",
    "from torch import nn\n",
    "from torch.nn import functional as F\n",
    "from torch.utils.data import DataLoader\n",
    "\n",
    "import datetime\n",
    "import copy\n",
    "from IPython.display import clear_output\n",
    "import youtokentome as yttm\n",
    "\n",
    "import simcube\n",
    "from simcube.data import tokenize_corpus, build_vocabulary, \\\n",
    "    save_texts_to_file, LanguageModelDataset, load_war_and_piece_chunks, \\\n",
    "    GreedyGenerator, BeamGenerator\n",
    "from simcube.pipeline import train_eval_loop, init_random_seed\n",
    "from simcube.base import get_params_number\n",
    "\n",
    "init_random_seed()\n",
    "\n",
    "plt.rcParams[\"figure.figsize\"] = (15,10)"
   ]
  },
  {
   "cell_type": "markdown",
   "metadata": {},
   "source": [
    "## Загрузка текстов и разбиение на обучающую и тестовую подвыборки"
   ]
  },
  {
   "cell_type": "code",
   "execution_count": 2,
   "metadata": {},
   "outputs": [
    {
     "data": {
      "text/plain": [
       "7976"
      ]
     },
     "execution_count": 2,
     "metadata": {},
     "output_type": "execute_result"
    }
   ],
   "source": [
    "# Если Вы запускаете ноутбук на colab или kaggle, добавьте в начало пути ./stepik-dl-nlp\n",
    "all_chunks = load_war_and_piece_chunks('../../data/raw/war_and_peace.txt')\n",
    "len(all_chunks)"
   ]
  },
  {
   "cell_type": "code",
   "execution_count": 3,
   "metadata": {},
   "outputs": [
    {
     "name": "stdout",
     "output_type": "stream",
     "text": [
      "у нее был грипп, как она говорила (грипп был тогда новое\n",
      "слово, употреблявшееся только редкими). В записочках, разосланных утром с\n",
      "красным лакеем, было написано без различия во всех:\n",
      "  \"Si vous n'avez\n"
     ]
    }
   ],
   "source": [
    "print(all_chunks[10])"
   ]
  },
  {
   "cell_type": "code",
   "execution_count": 4,
   "metadata": {},
   "outputs": [
    {
     "name": "stdout",
     "output_type": "stream",
     "text": [
      "Размер обучающей выборки 5583\n",
      "Размер валидационной выборки 2393\n"
     ]
    }
   ],
   "source": [
    "np.random.shuffle(all_chunks)\n",
    "\n",
    "TRAIN_SPLIT = int(len(all_chunks) * 0.7)\n",
    "train_texts = all_chunks[:TRAIN_SPLIT]\n",
    "test_texts = all_chunks[TRAIN_SPLIT:]\n",
    "\n",
    "print('Размер обучающей выборки', len(train_texts))\n",
    "print('Размер валидационной выборки', len(test_texts))"
   ]
  },
  {
   "cell_type": "code",
   "execution_count": 6,
   "metadata": {},
   "outputs": [
    {
     "data": {
      "text/plain": [
       "' от восторга, с толпою\\nпобежал за ним.\\n\\n                  XXI.\\n\\n    На площади куда поехал государь, стояли лицом к лицу справа батальон\\nпреображенцев, слева батальон французской гвардии в медвежьих ш'"
      ]
     },
     "execution_count": 6,
     "metadata": {},
     "output_type": "execute_result"
    }
   ],
   "source": [
    "train_texts[0]"
   ]
  },
  {
   "cell_type": "markdown",
   "metadata": {},
   "source": [
    "## Токенизация корпуса с помощью BPE"
   ]
  },
  {
   "cell_type": "markdown",
   "metadata": {},
   "source": [
    "BPE - Byte Pair Encoding\n",
    "\n",
    "YouTokenToMe - быстрая реализация BPE"
   ]
  },
  {
   "cell_type": "code",
   "execution_count": 7,
   "metadata": {},
   "outputs": [],
   "source": [
    "VOCAB_SIZE = 1000"
   ]
  },
  {
   "cell_type": "code",
   "execution_count": 8,
   "metadata": {},
   "outputs": [],
   "source": [
    "BPE_MODEL_FILENAME = '../../data/processed/war_and_peace_bpe.yttm'\n",
    "TRAIN_TEXTS_FILENAME = '../../data/processed/war_and_peace_bpe_train.txt'"
   ]
  },
  {
   "cell_type": "code",
   "execution_count": 9,
   "metadata": {},
   "outputs": [],
   "source": [
    "save_texts_to_file(train_texts, TRAIN_TEXTS_FILENAME)\n",
    "yttm.BPE.train(data=TRAIN_TEXTS_FILENAME, vocab_size=VOCAB_SIZE, model=BPE_MODEL_FILENAME);"
   ]
  },
  {
   "cell_type": "code",
   "execution_count": 10,
   "metadata": {},
   "outputs": [],
   "source": [
    "tokenizer = yttm.BPE(BPE_MODEL_FILENAME)"
   ]
  },
  {
   "cell_type": "code",
   "execution_count": 11,
   "metadata": {},
   "outputs": [
    {
     "name": "stdout",
     "output_type": "stream",
     "text": [
      "<PAD> <UNK> <BOS> <EOS> ▁ о а е и н т с л р в к , д м у п я г ь ы з б . ч й - ж ш e х ю s ц a n r i u o t щ э П l Н ф А В m d c О ? ! К Д Б p М v Р \" ) С ( ' ; И Т ё 1 h : Я 2 q f Г ъ b g Ч Э 0 3 Е 5 ] [ j 4 I z Л З 6 8 M A 9 7 У Ж V L x X Ф Ш y C Х J B P D E N S k Ц R Q O T ` w Ю H U F G K Ь W Й * & # Щ Z / ▁с ▁п ▁в ▁н то ▁о ▁и ▁к го ал ра ст но ▁- ▁по ен ▁д ер ел ▁б ро ▁не ко во ка ▁ч ▁м ри ▁на ло ть на ли ла ▁з ▁е ▁у ▁т ре ва ни ся сь ак ▁что ру ет ▁ко ▁бы ми ны ня да ▁то ди хо ▁за ▁го ем ▁г ▁он ол ени ▁от ки ви ну каз е, ▁э та ▁П ти ши ▁при ▁вы ▁ра му ▁Н ▁ж ов ▁вс ле ▁А до ▁В ▁про ▁мо ля ▁как мо ▁во казал ры ▁его ма ▁об сто ▁это ль й, ▁сказал ере не ▁а ▁до ▁О ▁я ▁К ▁кото ▁сво ▁кня ▁Д м, у, ше ▁Б али по чи ▁но сти ▁ни си ча ста ель ▁из ве лу ала де ▁Ан вори ▁М ▁под ▁ка ▁d .. ша ... за ска жи ще es я, лся ▁со че лы зь сть ско ou ▁ли ▁хо ▁ви ▁ст ень ▁ру ря енно ▁Пь ▁так ме ты ▁p ▁Р ги га дел лю сно re же ▁раз ▁( со те ду ку ▁се ски ▁c ▁С ▁ва вши ▁все тель бе en вал ▁l ▁дру ▁было ▁И on ▁говори ▁пос гда ту ▁сто ели щи ать лько ▁бу вы ▁Пьер ▁пере ▁Ро дре ▁ему ▁Т дно ▁пре ▁Андре ▁a вер ю, би ство ез ▁са ▁ф вая ▁Росто ▁Он ▁зна ар сп ▁она ▁которы а, ▁сп ▁m ▁был ▁же ▁всё ▁гла чал сь, бо ды ▁ми ▁те ву й. ▁ду er жени ▁голо х, ▁ве ▁(сно ▁князь ▁(сноска шел фи ба ▁лю ▁ста мот бы ▁лиц ▁бол ▁вз ▁На е. жа кой ▁Бо ть, ело ▁та енны ▁de ▁Я в, et го, нц ми, ▁s -то елов ai ▁си ало ▁да ▁гра ▁только т, ела гля ▁свое ▁ш ▁1 ▁оп м. ться ходи ▁буд qu са ха ▁которо жно ▁v гу ▁\" лов ▁ты шь ous ера ▁улы тельно ▁Кня ▁ее ▁еще ▁рас ▁n рем ▁ро вно ▁ме ▁Г к, пи ный нно ▁ре ▁пол ▁обра ▁им ▁qu ▁свои я. дь елове ▁и, жал фиц ясь ным ерь ▁челове ▁глаза оло ▁оста ▁Дени сов дя an ▁По ▁себ ▁слу па ▁ле ▁жи ▁боль су ▁для ▁ц ▁чу ка, ▁сказала ять ался аль e, ет, вля ▁Не рел ▁ло на, нул ▁Ч ▁ма лась бу ▁Э ▁t ман ей ▁была роси ▁него ск нцу ▁после гра ▁были ▁Ростов мы ▁эти ▁мне ▁сол ▁Андрей ▁офиц ▁врем ща ех ▁княз ▁х ▁бо ▁пер ▁говорил и, ri ▁он, нима ств ▁Е ▁мог ранцу ▁ком те, сту вать ▁дол н, le ят лись ▁бе ▁граф ▁Князь чень ▁вер ▁Доло ные шо ▁мы ▁сло ▁лицо ▁исп ▁[ ▁Долохо ва, чно ему ▁улыб ▁сдел ▁му ▁ча вор ▁пред ▁одно te ▁f зи перь ▁моло ▁2 ▁солда ▁мен руг ▁комна ▁смот нулся ца eu жет ения ▁et вет нов ражени ▁когда oi чего ▁стра ▁чтобы ▁Денисов ▁Ни ю. казы ▁хот ▁pa ки, зы ▁уже ▁кра ▁они ▁ба ▁хоро ались ком ного ▁Ва ▁пи вше дин ав се вст ▁друго ▁очень спо ▁францу ков лен ▁будто ▁вас ▁су ал, ▁княж ▁Ми ▁Но зна х. ▁который om ▁ту ▁перед ▁отве том нт ▁пра об ne ▁Ку est ▁од ▁пу ▁Она ▁Анна нови ▁теперь ▁опять ▁сов ная говори ▁Л ▁этого ▁де ▁Ната ▁vous ▁поло ▁стоя арь зов ▁гу ▁que ▁j ющи вой ▁воз ▁себя ной вство ных ение ▁дел ▁жен ем, нь ▁Что ▁мину стви ▁спроси ▁З дет ▁офицер ent ский ▁этот ку, ▁то, ▁кри ▁Марь лыш ▁ар ▁вп ▁ожи ▁ку зо ния ▁Во дол ми. ▁la ▁ch ▁le ▁Нико ▁поч ную ▁двер ▁подо ▁обе ▁коман сили ▁или ке л, ▁Это me ▁неп жели ▁вой у. ▁чем сте му, ние ют мал ▁ла ▁нес ▁разго ▁Мо вали is ▁Вы енер ▁Миха ▁взгля ▁которые ▁зак ▁сы il дар ▁меня он стро ▁M ую кры ее ▁продол ▁мал сы ▁пла вший кон ▁ничего друг ва. ▁Ба ▁Михай ▁сле ром жен ▁огля ▁види ▁дело ▁Бори ▁ша стоя ров ▁быть но, ся, ▁зам воль ▁Со our ▁себе пра ского ▁Никола ▁Куту кая ▁без казать ▁время ными вала in ▁друг на. ▁обрати ▁Как ▁что-то ▁Ну, ▁чи кий лаго ▁князя вл ▁их ▁Пав ▁сер ▁своего ▁вес ▁вот ▁Михайлов соб рая ▁бра ▁че ▁всех ниц ▁нас ▁жиз ais ▁свою ехал ▁Ко ▁каз ▁само кра ▁он. д, про ▁тем ▁молодо сколько ▁u ▁b ▁A ere дер ▁пе ▁команди вшись ▁останови ▁лоша сты ▁взя ▁генер ра, стно да, ▁доро us жд ▁может ▁Да ▁сидел ▁сторо ▁надо юще ▁тре ть. чь ▁ну ▁чувство ▁госу ▁Пьера ▁мол ▁малень ▁Наташа кое им ▁вдруг it ▁l' ли, мер ▁Багра вого ▁л ним ▁непри ▁други ▁спросил ▁будет ▁пото и. ▁своей ▁княги кого ez ▁Баграти ▁доб ▁па ▁люб жала ▁Ж пу ▁расс ▁арми ▁рука лось ▁Павлов ▁Васили ▁ок ▁видел ▁У оль дом ▁впере ▁начал ▁особ ▁где кто тер ▁вст шь, ▁сча ▁бле дал ▁mon жду ▁сме ▁прои ливо ▁вам ерез 'est вя ▁мой ▁Ту ▁рус ▁день ▁ши ▁ди ственно ▁g дро ▁улыба ▁дума ку. ▁лу ▁3 ▁кре ▁его. ете виц каза стя шая ▁отвечал ▁всегда цо ▁com ch ▁Пьер, ▁ско res шла жу ▁более ▁выражени ▁есть ны, ской ▁благо гла тя ▁сам ▁того, ▁вели ▁спо елы та, ▁сла ы,\n"
     ]
    }
   ],
   "source": [
    "print(' '.join(tokenizer.vocab()))"
   ]
  },
  {
   "cell_type": "code",
   "execution_count": 12,
   "metadata": {},
   "outputs": [
    {
     "data": {
      "text/plain": [
       "1000"
      ]
     },
     "execution_count": 12,
     "metadata": {},
     "output_type": "execute_result"
    }
   ],
   "source": [
    "len(tokenizer.vocab())"
   ]
  },
  {
   "cell_type": "code",
   "execution_count": 13,
   "metadata": {},
   "outputs": [
    {
     "name": "stdout",
     "output_type": "stream",
     "text": [
      "[[210, 238, 244, 13, 317, 16, 147, 200, 12, 265, 35, 161, 337, 490, 203, 269, 447, 4, 111, 111, 96, 27, 415, 148, 176, 551, 201, 726, 199, 161, 848, 889, 772, 23, 16, 690, 179, 585, 18, 154, 412, 19, 382, 157, 186, 635, 10, 518, 774, 363, 670, 157, 793, 37, 7, 426, 791, 186, 635, 10, 518, 774, 650, 25, 988, 206, 186, 13, 201, 8, 149, 474, 17, 275, 31, 23, 8, 34, 444]]\n"
     ]
    }
   ],
   "source": [
    "print(tokenizer.encode(train_texts[:1]))"
   ]
  },
  {
   "cell_type": "code",
   "execution_count": 14,
   "metadata": {},
   "outputs": [],
   "source": [
    "train_token_ids = tokenizer.encode(train_texts, bos=True, eos=True)\n",
    "test_token_ids = tokenizer.encode(test_texts, bos=True, eos=True)"
   ]
  },
  {
   "cell_type": "code",
   "execution_count": 15,
   "metadata": {},
   "outputs": [
    {
     "data": {
      "image/png": "[encoded data removed]",
      "text/plain": [
       "<Figure size 1080x720 with 1 Axes>"
      ]
     },
     "metadata": {
      "needs_background": "light"
     },
     "output_type": "display_data"
    }
   ],
   "source": [
    "plt.hist([len(sent) for sent in train_token_ids], bins=30)\n",
    "plt.title('Распределение длин фрагментов в токенах')\n",
    "plt.yscale('log');"
   ]
  },
  {
   "cell_type": "code",
   "execution_count": 16,
   "metadata": {},
   "outputs": [
    {
     "data": {
      "image/png": "[encoded data removed]",
      "text/plain": [
       "<Figure size 1080x720 with 1 Axes>"
      ]
     },
     "metadata": {
      "needs_background": "light"
     },
     "output_type": "display_data"
    }
   ],
   "source": [
    "token_counts = np.bincount([token_id for text in train_token_ids for token_id in text])\n",
    "plt.hist(token_counts, bins=100)\n",
    "plt.title('Распределение количества упоминаний токенов')\n",
    "plt.yscale('log');"
   ]
  },
  {
   "cell_type": "code",
   "execution_count": 17,
   "metadata": {},
   "outputs": [
    {
     "name": "stdout",
     "output_type": "stream",
     "text": [
      "Количество случаев с неизвестными n-граммами символов в валидационной выборке 0\n"
     ]
    }
   ],
   "source": [
    "unknown_subwords_in_test = sum(1 for text in test_token_ids for token_id in text if token_id == 1)\n",
    "print('Количество случаев с неизвестными n-граммами символов в валидационной выборке', unknown_subwords_in_test)"
   ]
  },
  {
   "cell_type": "markdown",
   "metadata": {},
   "source": [
    "## Подготовка датасетов для PyTorch"
   ]
  },
  {
   "cell_type": "code",
   "execution_count": 16,
   "metadata": {},
   "outputs": [],
   "source": [
    "CHUNK_LENGTH = 80\n",
    "\n",
    "train_dataset = LanguageModelDataset(train_token_ids, chunk_length=CHUNK_LENGTH)\n",
    "test_dataset = LanguageModelDataset(test_token_ids, chunk_length=CHUNK_LENGTH)"
   ]
  },
  {
   "cell_type": "code",
   "execution_count": 17,
   "metadata": {},
   "outputs": [
    {
     "data": {
      "text/plain": [
       "(array([  2, 210, 238, 244,  13, 317,  16, 147, 200,  12, 265,  35, 161,\n",
       "        337, 490, 203, 269, 447,   4, 111, 111,  96,  27, 415, 148, 176,\n",
       "        551, 201, 726, 199, 161, 848, 889, 772,  23,  16, 690, 179, 585,\n",
       "         18, 154, 412,  19, 382, 157, 186, 635,  10, 518, 774, 363, 670,\n",
       "        157, 793,  37,   7, 426, 791, 186, 635,  10, 518, 774, 650,  25,\n",
       "        988, 206, 186,  13, 201,   8, 149, 474,  17, 275,  31,  23,   8,\n",
       "         34, 444]),\n",
       " array([210, 238, 244,  13, 317,  16, 147, 200,  12, 265,  35, 161, 337,\n",
       "        490, 203, 269, 447,   4, 111, 111,  96,  27, 415, 148, 176, 551,\n",
       "        201, 726, 199, 161, 848, 889, 772,  23,  16, 690, 179, 585,  18,\n",
       "        154, 412,  19, 382, 157, 186, 635,  10, 518, 774, 363, 670, 157,\n",
       "        793,  37,   7, 426, 791, 186, 635,  10, 518, 774, 650,  25, 988,\n",
       "        206, 186,  13, 201,   8, 149, 474,  17, 275,  31,  23,   8,  34,\n",
       "        444,   3]))"
      ]
     },
     "execution_count": 17,
     "metadata": {},
     "output_type": "execute_result"
    }
   ],
   "source": [
    "train_dataset[0]"
   ]
  },
  {
   "cell_type": "code",
   "execution_count": 18,
   "metadata": {},
   "outputs": [
    {
     "data": {
      "text/plain": [
       "['<BOS> от восторга, с толпою побежал за ним. XXI. На площади куда поехал государь, стояли лицом к лицу справа батальон преображенцев, слева батальон французской гвардии в медвежьих ш',\n",
       " 'от восторга, с толпою побежал за ним. XXI. На площади куда поехал государь, стояли лицом к лицу справа батальон преображенцев, слева батальон французской гвардии в медвежьих ш<EOS>']"
      ]
     },
     "execution_count": 18,
     "metadata": {},
     "output_type": "execute_result"
    }
   ],
   "source": [
    "tokenizer.decode(list(train_dataset[0]))"
   ]
  },
  {
   "cell_type": "markdown",
   "metadata": {},
   "source": [
    "## Общие классы и функции"
   ]
  },
  {
   "cell_type": "markdown",
   "metadata": {},
   "source": [
    "### Маска зависимостей"
   ]
  },
  {
   "cell_type": "code",
   "execution_count": 35,
   "metadata": {},
   "outputs": [],
   "source": [
    "def make_target_dependency_mask(length):\n",
    "    full_mask = torch.ones(length, length)\n",
    "    ignore_mask = torch.tril(full_mask) < 1\n",
    "    full_mask.masked_fill_(ignore_mask, float('-inf'))\n",
    "    full_mask.masked_fill_(~ignore_mask, 0)\n",
    "    return full_mask"
   ]
  },
  {
   "cell_type": "code",
   "execution_count": 36,
   "metadata": {},
   "outputs": [
    {
     "data": {
      "text/plain": [
       "tensor([[0., -inf, -inf, -inf, -inf, -inf, -inf, -inf, -inf, -inf],\n",
       "        [0., 0., -inf, -inf, -inf, -inf, -inf, -inf, -inf, -inf],\n",
       "        [0., 0., 0., -inf, -inf, -inf, -inf, -inf, -inf, -inf],\n",
       "        [0., 0., 0., 0., -inf, -inf, -inf, -inf, -inf, -inf],\n",
       "        [0., 0., 0., 0., 0., -inf, -inf, -inf, -inf, -inf],\n",
       "        [0., 0., 0., 0., 0., 0., -inf, -inf, -inf, -inf],\n",
       "        [0., 0., 0., 0., 0., 0., 0., -inf, -inf, -inf],\n",
       "        [0., 0., 0., 0., 0., 0., 0., 0., -inf, -inf],\n",
       "        [0., 0., 0., 0., 0., 0., 0., 0., 0., -inf],\n",
       "        [0., 0., 0., 0., 0., 0., 0., 0., 0., 0.]])"
      ]
     },
     "execution_count": 36,
     "metadata": {},
     "output_type": "execute_result"
    }
   ],
   "source": [
    "make_target_dependency_mask(10)"
   ]
  },
  {
   "cell_type": "markdown",
   "metadata": {},
   "source": [
    "### Кодирование позиции"
   ]
  },
  {
   "cell_type": "code",
   "execution_count": 37,
   "metadata": {},
   "outputs": [],
   "source": [
    "def make_positional_encoding(max_length, embedding_size):\n",
    "    time = np.pi * torch.arange(0, max_length).float()\n",
    "    freq_dividers = torch.arange(1, embedding_size // 2 + 1).float()\n",
    "    inputs = time[:, None] / freq_dividers[None, :]\n",
    "    \n",
    "    result = torch.zeros(max_length, embedding_size)\n",
    "    result[:, 0::2] = torch.sin(inputs)\n",
    "    result[:, 1::2] = torch.cos(inputs)\n",
    "    return result"
   ]
  },
  {
   "cell_type": "code",
   "execution_count": 38,
   "metadata": {},
   "outputs": [
    {
     "data": {
      "image/png": "[encoded data removed]",
      "text/plain": [
       "<Figure size 1080x360 with 1 Axes>"
      ]
     },
     "metadata": {
      "needs_background": "light"
     },
     "output_type": "display_data"
    }
   ],
   "source": [
    "sample_pos_codes = make_positional_encoding(30, 30)\n",
    "plt.plot(sample_pos_codes[:, ::3].numpy());\n",
    "plt.gcf().set_size_inches((15, 5))"
   ]
  },
  {
   "cell_type": "markdown",
   "metadata": {},
   "source": [
    "### Основной класс - языковая модель"
   ]
  },
  {
   "cell_type": "code",
   "execution_count": 25,
   "metadata": {},
   "outputs": [],
   "source": [
    "class LanguageModel(nn.Module):\n",
    "    def __init__(self, vocab_size, embedding_size, backbone, emb_dropout=0.0):\n",
    "        super().__init__()\n",
    "        self.embedding_size = embedding_size\n",
    "        self.embeddings = nn.Embedding(vocab_size, embedding_size, padding_idx=0)\n",
    "        self.emb_dropout = nn.Dropout(emb_dropout)\n",
    "        self.backbone = backbone\n",
    "        self.out = nn.Linear(embedding_size, vocab_size)\n",
    "    \n",
    "    def forward(self, seed_token_ids):\n",
    "        \"\"\"\n",
    "            seed_token_ids - BatchSize x MaxInLen\n",
    "        \"\"\"\n",
    "        batch_size, max_in_length = seed_token_ids.shape\n",
    "\n",
    "        seed_padding_mask = seed_token_ids == 0\n",
    "        dependency_mask = make_target_dependency_mask(max_in_length) \\\n",
    "            .to(seed_token_ids.device)\n",
    "        \n",
    "        seed_embs = self.embeddings(seed_token_ids)  # BatchSize x MaxInLen x EmbSize\n",
    "        pos_codes = make_positional_encoding(max_in_length,\n",
    "                                             self.embedding_size).unsqueeze(0).to(seed_embs.device)\n",
    "        seed_embs = seed_embs + pos_codes\n",
    "        seed_embs = self.emb_dropout(seed_embs)\n",
    "\n",
    "        # BatchSize x TargetLen x EmbSize\n",
    "        target_features = seed_embs\n",
    "        target_features = self.backbone(seed_embs,\n",
    "                                        mask=dependency_mask,\n",
    "                                        src_key_padding_mask=seed_padding_mask)\n",
    "        logits = self.out(target_features)  # BatchSize x TargetLen x VocabSize\n",
    "        return logits"
   ]
  },
  {
   "cell_type": "markdown",
   "metadata": {},
   "source": [
    "### Утилиты для обучения - функция потерь и расписание изменения длины градиентного шага"
   ]
  },
  {
   "cell_type": "code",
   "execution_count": 26,
   "metadata": {},
   "outputs": [],
   "source": [
    "def lm_cross_entropy(pred, target):\n",
    "    \"\"\"\n",
    "    pred - BatchSize x TargetLen x VocabSize\n",
    "    target - BatchSize x TargetLen\n",
    "    \"\"\"\n",
    "    pred_flat = pred.view(-1, pred.shape[-1])  # BatchSize*TargetLen x VocabSize\n",
    "    target_flat = target.view(-1)  # BatchSize*TargetLen\n",
    "    return F.cross_entropy(pred_flat, target_flat, ignore_index=0)\n",
    "\n",
    "\n",
    "def lr_scheduler(optimizer):\n",
    "    return torch.optim.lr_scheduler.ReduceLROnPlateau(optimizer,\n",
    "                                                      patience=20,\n",
    "                                                      factor=0.5,\n",
    "                                                      verbose=True)"
   ]
  },
  {
   "cell_type": "markdown",
   "metadata": {},
   "source": [
    "## Реализация Transformer из PyTorch 1.2"
   ]
  },
  {
   "cell_type": "code",
   "execution_count": 27,
   "metadata": {},
   "outputs": [],
   "source": [
    "def copy_data_to_device(data, device):\n",
    "    if torch.is_tensor(data):\n",
    "        return data.to(device)\n",
    "    elif isinstance(data, (list, tuple)):\n",
    "        return [copy_data_to_device(elem, device) for elem in data]\n",
    "    raise ValueError('Недопустимый тип данных {}'.format(type(data)))\n"
   ]
  },
  {
   "cell_type": "code",
   "execution_count": 28,
   "metadata": {},
   "outputs": [],
   "source": [
    "def train_eval_loop(model, train_dataset, val_dataset,\n",
    "                    criterion,\n",
    "                    lr=1e-4,\n",
    "                    epoch_n=10,\n",
    "                    batch_size=32,\n",
    "                    device=None,\n",
    "                    early_stopping_patience=10,\n",
    "                    l2_reg_alpha=0,\n",
    "                    max_batches_per_epoch_train=10000,\n",
    "                    max_batches_per_epoch_val=1000,\n",
    "                    data_loader_ctor=DataLoader,\n",
    "                    optimizer_ctor=None,\n",
    "                    lr_scheduler_ctor=None,\n",
    "                    shuffle_train=True,\n",
    "                    dataloader_workers_n=0):\n",
    "    \"\"\"\n",
    "    Цикл для обучения модели. После каждой эпохи качество модели оценивается по отложенной выборке.\n",
    "    :param model: torch.nn.Module - обучаемая модель\n",
    "    :param train_dataset: torch.utils.data.Dataset - данные для обучения\n",
    "    :param val_dataset: torch.utils.data.Dataset - данные для оценки качества\n",
    "    :param criterion: функция потерь для настройки модели\n",
    "    :param lr: скорость обучения\n",
    "    :param epoch_n: максимальное количество эпох\n",
    "    :param batch_size: количество примеров, обрабатываемых моделью за одну итерацию\n",
    "    :param device: cuda/cpu - устройство, на котором выполнять вычисления\n",
    "    :param early_stopping_patience: наибольшее количество эпох, в течение которых допускается\n",
    "        отсутствие улучшения модели, чтобы обучение продолжалось.\n",
    "    :param l2_reg_alpha: коэффициент L2-регуляризации\n",
    "    :param max_batches_per_epoch_train: максимальное количество итераций на одну эпоху обучения\n",
    "    :param max_batches_per_epoch_val: максимальное количество итераций на одну эпоху валидации\n",
    "    :param data_loader_ctor: функция для создания объекта, преобразующего датасет в батчи\n",
    "        (по умолчанию torch.utils.data.DataLoader)\n",
    "    :return: кортеж из двух элементов:\n",
    "        - среднее значение функции потерь на валидации на лучшей эпохе\n",
    "        - лучшая модель\n",
    "    \"\"\"\n",
    "    if device is None:\n",
    "        device = 'cuda' if torch.cuda.is_available() else 'cpu'\n",
    "    print(f\"Выбранное устройство: {device}\")\n",
    "    device = torch.device(device)\n",
    "    model.to(device)\n",
    "\n",
    "    if optimizer_ctor is None:\n",
    "        optimizer = torch.optim.Adam(model.parameters(), lr=lr, weight_decay=l2_reg_alpha)\n",
    "    else:\n",
    "        optimizer = optimizer_ctor(model.parameters(), lr=lr)\n",
    "\n",
    "    if lr_scheduler_ctor is not None:\n",
    "        lr_scheduler = lr_scheduler_ctor(optimizer)\n",
    "    else:\n",
    "        lr_scheduler = None\n",
    "\n",
    "    train_dataloader = data_loader_ctor(train_dataset, batch_size=batch_size, shuffle=shuffle_train,\n",
    "                                        num_workers=dataloader_workers_n)\n",
    "    val_dataloader = data_loader_ctor(val_dataset, batch_size=batch_size, shuffle=False,\n",
    "                                      num_workers=dataloader_workers_n)\n",
    "\n",
    "    best_val_loss = float('inf')\n",
    "    best_epoch_i = 0\n",
    "    best_model = copy.deepcopy(model)\n",
    "\n",
    "    history_mean_train_loss = []\n",
    "    history_mean_val_loss = []  \n",
    "    \n",
    "    for epoch_i in range(epoch_n):\n",
    "        try:\n",
    "            epoch_start = datetime.datetime.now()\n",
    "#             print('Эпоха {}'.format(epoch_i))\n",
    "\n",
    "            model.train()\n",
    "            mean_train_loss = 0\n",
    "            train_batches_n = 0\n",
    "            for batch_i, (batch_x, batch_y) in enumerate(train_dataloader):\n",
    "                if batch_i > max_batches_per_epoch_train:\n",
    "                    break\n",
    "\n",
    "                batch_x = copy_data_to_device(batch_x, device)\n",
    "                batch_y = copy_data_to_device(batch_y, device)\n",
    "\n",
    "                pred = model(batch_x)\n",
    "                loss = criterion(pred, batch_y)\n",
    "\n",
    "                model.zero_grad()\n",
    "                loss.backward()\n",
    "\n",
    "                optimizer.step()\n",
    "\n",
    "                mean_train_loss += float(loss)\n",
    "                train_batches_n += 1\n",
    "\n",
    "            mean_train_loss /= train_batches_n\n",
    "#             print('Эпоха: {} итераций, {:0.2f} сек'.format(train_batches_n, (datetime.datetime.now() - epoch_start).total_seconds()))\n",
    "#             print('Среднее значение функции потерь на обучении', mean_train_loss)\n",
    "\n",
    "            model.eval()\n",
    "            mean_val_loss = 0\n",
    "            val_batches_n = 0\n",
    "\n",
    "            with torch.no_grad():\n",
    "                for batch_i, (batch_x, batch_y) in enumerate(val_dataloader):\n",
    "                    if batch_i > max_batches_per_epoch_val:\n",
    "                        break\n",
    "\n",
    "                    batch_x = copy_data_to_device(batch_x, device)\n",
    "                    batch_y = copy_data_to_device(batch_y, device)\n",
    "\n",
    "                    pred = model(batch_x)\n",
    "                    loss = criterion(pred, batch_y)\n",
    "\n",
    "                    mean_val_loss += float(loss)\n",
    "                    val_batches_n += 1\n",
    "\n",
    "            mean_val_loss /= val_batches_n\n",
    "#             print('Среднее значение функции потерь на валидации', mean_val_loss)\n",
    "\n",
    "            if mean_val_loss < best_val_loss:\n",
    "                best_epoch_i = epoch_i\n",
    "                best_val_loss = mean_val_loss\n",
    "                best_model = copy.deepcopy(model)\n",
    "#                 print('Новая лучшая модель!')\n",
    "            elif epoch_i - best_epoch_i > early_stopping_patience:\n",
    "#                 print('Модель не улучшилась за последние {} эпох, прекращаем обучение'.format( early_stopping_patience))\n",
    "                break\n",
    "\n",
    "            if lr_scheduler is not None:\n",
    "                lr_scheduler.step(mean_val_loss)\n",
    "\n",
    "            history_mean_train_loss.append(mean_train_loss)\n",
    "            history_mean_val_loss.append(mean_val_loss)\n",
    "    \n",
    "            # visualizing training process\n",
    "            if (epoch_i + 1) % 10 == 0:\n",
    "                clear_output(True)\n",
    "                plt.plot(history_mean_train_loss, label='train_loss')\n",
    "                plt.plot(history_mean_val_loss, label='valid_loss')\n",
    "                plt.legend()\n",
    "                plt.show()\n",
    "        \n",
    "            print()\n",
    "        except KeyboardInterrupt:\n",
    "            print('Досрочно остановлено пользователем')\n",
    "            break\n",
    "        except Exception as ex:\n",
    "            print('Ошибка при обучении: {}\\n{}'.format(ex, traceback.format_exc()))\n",
    "            break\n",
    "\n",
    "    return best_val_loss, best_model"
   ]
  },
  {
   "cell_type": "code",
   "execution_count": 29,
   "metadata": {},
   "outputs": [],
   "source": [
    "class BatchFirstTransformerEncoder(nn.Module):\n",
    "    def __init__(self, *args, **kwargs):\n",
    "        super().__init__()\n",
    "        self.impl = nn.TransformerEncoder(*args, **kwargs)\n",
    "        self.initialize_weights()\n",
    "    \n",
    "    def forward(self, src, *args, **kwargs):\n",
    "        src = src.transpose(0, 1).contiguous()  # MaxInLen  x BatchSize x EmbSize\n",
    "        result = self.impl(src, *args, **kwargs)  # TargetLen x BatchSize x EmbSize\n",
    "        result = result.transpose(0, 1).contiguous()  # BatchSize x TargetLen x EmbSize\n",
    "        return result\n",
    "    \n",
    "    def initialize_weights(self):\n",
    "        for param in self.impl.parameters():\n",
    "            if param.dim() > 1:\n",
    "                nn.init.xavier_uniform_(param)"
   ]
  },
  {
   "cell_type": "code",
   "execution_count": 30,
   "metadata": {},
   "outputs": [],
   "source": [
    "torch_transf_model = LanguageModel(\n",
    "    tokenizer.vocab_size(),\n",
    "    256,\n",
    "    BatchFirstTransformerEncoder(\n",
    "       nn.TransformerEncoderLayer(\n",
    "           d_model=256,\n",
    "           nhead=16,\n",
    "           dim_feedforward=512,\n",
    "           dropout=0.1),\n",
    "       num_layers=3),\n",
    "    emb_dropout=0.1\n",
    ")"
   ]
  },
  {
   "cell_type": "code",
   "execution_count": 31,
   "metadata": {},
   "outputs": [
    {
     "name": "stdout",
     "output_type": "stream",
     "text": [
      "Количество параметров 2094312\n"
     ]
    }
   ],
   "source": [
    "print('Количество параметров', get_params_number(torch_transf_model))"
   ]
  },
  {
   "cell_type": "code",
   "execution_count": 94,
   "metadata": {},
   "outputs": [
    {
     "data": {
      "image/png": "[encoded data removed]",
      "text/plain": [
       "<Figure size 1080x720 with 1 Axes>"
      ]
     },
     "metadata": {
      "needs_background": "light"
     },
     "output_type": "display_data"
    },
    {
     "name": "stdout",
     "output_type": "stream",
     "text": [
      "\n",
      "CPU times: user 1h 2min 8s, sys: 4.27 s, total: 1h 2min 13s\n",
      "Wall time: 53min 10s\n"
     ]
    }
   ],
   "source": [
    "%%time\n",
    "\n",
    "best_val_loss, best_torch_transf_model = train_eval_loop(torch_transf_model, train_dataset, test_dataset,\n",
    "    lm_cross_entropy,\n",
    "    lr=2e-3,\n",
    "    epoch_n=2000,\n",
    "    batch_size=512,\n",
    "    device='cuda',\n",
    "    early_stopping_patience=50,\n",
    "    max_batches_per_epoch_train=1000,\n",
    "    max_batches_per_epoch_val=1000,\n",
    "    lr_scheduler_ctor=lr_scheduler\n",
    ")"
   ]
  },
  {
   "cell_type": "code",
   "execution_count": 96,
   "metadata": {},
   "outputs": [],
   "source": [
    "torch.save(best_torch_transf_model.state_dict(), '../../data/models/war_and_peace_torch_transf_best.pth')"
   ]
  },
  {
   "cell_type": "code",
   "execution_count": 32,
   "metadata": {},
   "outputs": [
    {
     "data": {
      "text/plain": [
       "<All keys matched successfully>"
      ]
     },
     "execution_count": 32,
     "metadata": {},
     "output_type": "execute_result"
    }
   ],
   "source": [
    "torch_transf_model.load_state_dict(torch.load('../../data/models/war_and_peace_torch_transf_best.pth'))"
   ]
  },
  {
   "cell_type": "code",
   "execution_count": 120,
   "metadata": {},
   "outputs": [
    {
     "name": "stdout",
     "output_type": "stream",
     "text": [
      "total 230M\n",
      "drwxrwxr-x 2 science science 4,0K Apr  4 19:25 .\n",
      "drwxrwxr-x 8 science science 4,0K Apr  2 17:58 ..\n",
      "-rw-rw-r-- 1 science science 339K Apr  3 15:22 sentence_level_pos.pth\n",
      "-rw-rw-r-- 1 science science 1,8M Apr  2 17:58 sgns.pth\n",
      "-rw-rw-r-- 1 science science 189K Apr  3 12:34 single_token_pos.pth\n",
      "-rw-rw-r-- 1 science science 8,0M Apr  4 19:25 war_and_peace_torch_transf_best.pth\n",
      "-rw-rw-r-- 1 science science  88M Apr  2 20:21 word2vec_publicru_init_weight.pth\n",
      "-rw-rw-r-- 1 science science 132M Apr  3 11:33 word2vec_publicru.pth\n"
     ]
    }
   ],
   "source": [
    "!ls -lah ../../data/models"
   ]
  },
  {
   "cell_type": "markdown",
   "metadata": {},
   "source": [
    "## Генерация текста с помощью языковой модели"
   ]
  },
  {
   "cell_type": "markdown",
   "metadata": {},
   "source": [
    "### Жадная генерация"
   ]
  },
  {
   "cell_type": "code",
   "execution_count": 33,
   "metadata": {},
   "outputs": [],
   "source": [
    "greedy_generator = GreedyGenerator(torch_transf_model, tokenizer)"
   ]
  },
  {
   "cell_type": "code",
   "execution_count": 124,
   "metadata": {},
   "outputs": [
    {
     "name": "stdout",
     "output_type": "stream",
     "text": [
      "сказала княжна, оглядывая Бонапарте. Жюли, вы, как будто не знаете, что вы, не знаете, что вы научения? Такая ваш не понимаете в жен\n",
      "CPU times: user 1.36 s, sys: 8.24 ms, total: 1.36 s\n",
      "Wall time: 223 ms\n"
     ]
    }
   ],
   "source": [
    "%%time\n",
    "\n",
    "print(greedy_generator('сказала княжна, оглядывая Бона'))"
   ]
  },
  {
   "cell_type": "code",
   "execution_count": 125,
   "metadata": {},
   "outputs": [
    {
     "name": "stdout",
     "output_type": "stream",
     "text": [
      "смеялась княжна, оглядывая Наполеона. В то время, как из которой он приехал, еще в чем дело, он не мог разобрать, где и когда ему увидал возвращающегося\n"
     ]
    }
   ],
   "source": [
    "print(greedy_generator('смеялась княжна, оглядывая Наполе'))"
   ]
  },
  {
   "cell_type": "code",
   "execution_count": 126,
   "metadata": {},
   "outputs": [
    {
     "name": "stdout",
     "output_type": "stream",
     "text": [
      "сказала княжна, оглядывая Кутузвался на куртфель и задумался. - Да. - Cont vous avez protifeee au rev\n"
     ]
    }
   ],
   "source": [
    "print(greedy_generator('сказала княжна, оглядывая Кутуз'))"
   ]
  },
  {
   "cell_type": "code",
   "execution_count": 131,
   "metadata": {},
   "outputs": [
    {
     "name": "stdout",
     "output_type": "stream",
     "text": [
      "Кутузову своего адъютанта. Видно было, что Кутузов и хотел сказать, что Кутузовумяря, не ушел отставал, и\n"
     ]
    }
   ],
   "source": [
    "print(greedy_generator('Кутузов'))"
   ]
  },
  {
   "cell_type": "code",
   "execution_count": 130,
   "metadata": {},
   "outputs": [
    {
     "name": "stdout",
     "output_type": "stream",
     "text": [
      "сказал Кутузов, оглядывая Наполеона и проводил его к маленькой княгине и, заставив закрыв глаза и нагнувшись, поехал к нему. Ростов принял его и, ув\n"
     ]
    }
   ],
   "source": [
    "print(greedy_generator('сказал Кутузов, оглядывая Наполеона'))"
   ]
  },
  {
   "cell_type": "code",
   "execution_count": null,
   "metadata": {},
   "outputs": [],
   "source": []
  },
  {
   "cell_type": "code",
   "execution_count": 39,
   "metadata": {},
   "outputs": [
    {
     "name": "stdout",
     "output_type": "stream",
     "text": [
      "Надо жить вра. \"Шенгерский дорог\", думал он, загал обращаясь к француженскому. - Il est sui m'a\n"
     ]
    }
   ],
   "source": [
    "# Надо жить, надо любить, надо верить.\n",
    "print(greedy_generator('Надо жить'))"
   ]
  },
  {
   "cell_type": "code",
   "execution_count": 40,
   "metadata": {},
   "outputs": [
    {
     "name": "stdout",
     "output_type": "stream",
     "text": [
      "Последнее время мне стало жить тяжело для офице посие мардше. Его было несчастство. И скорее, ли я разобравляю его поручения Бонапарта\n"
     ]
    }
   ],
   "source": [
    "# Последнее время мне стало жить тяжело. Я вижу, я стал понимать слишком много.\n",
    "print(greedy_generator('Последнее время мне стало жить тяжело'))"
   ]
  },
  {
   "cell_type": "code",
   "execution_count": 41,
   "metadata": {},
   "outputs": [
    {
     "name": "stdout",
     "output_type": "stream",
     "text": [
      "Кто всё поймет! Претри учтоже и вместе с темная армию mon ридине. Имприонием роту и близалит про\n"
     ]
    }
   ],
   "source": [
    "# Кто всё поймет, тот всё и простит.\n",
    "print(greedy_generator('Кто всё поймет'))"
   ]
  },
  {
   "cell_type": "code",
   "execution_count": 42,
   "metadata": {},
   "outputs": [
    {
     "name": "stdout",
     "output_type": "stream",
     "text": [
      "Сражение выигрывает тот же почтительной жестокий удар перед ряды и с высоко главнокомандующего шел в сени. Справа книл По-\n"
     ]
    }
   ],
   "source": [
    "# Сражение выигрывает тот, кто твердо решил его выиграть!\n",
    "print(greedy_generator('Сражение выигрывает тот'))"
   ]
  },
  {
   "cell_type": "code",
   "execution_count": 43,
   "metadata": {},
   "outputs": [
    {
     "name": "stdout",
     "output_type": "stream",
     "text": [
      "Несмотря на товарищая, как бы вы были волны люди, женившие ту то самое блестящие, глазах, благородным, она привычно тут други\n"
     ]
    }
   ],
   "source": [
    "# Несмотря на то, что доктора лечили его, пускали кровь и давали пить лекарства, он всё-таки выздоровел.\n",
    "print(greedy_generator('Несмотря на то'))"
   ]
  },
  {
   "cell_type": "code",
   "execution_count": 44,
   "metadata": {},
   "outputs": [
    {
     "name": "stdout",
     "output_type": "stream",
     "text": [
      "давали пить лекарства и испуганно оглядывалась, что он с неизменем и не спрашивал его во весь роде должен ей догадать полк,\n"
     ]
    }
   ],
   "source": [
    "# Несмотря на то, что доктора лечили его, пускали кровь и давали пить лекарства, он всё-таки выздоровел.\n",
    "print(greedy_generator('давали пить лекарства'))"
   ]
  },
  {
   "cell_type": "code",
   "execution_count": 45,
   "metadata": {},
   "outputs": [
    {
     "name": "stdout",
     "output_type": "stream",
     "text": [
      "Мы не столько любим людей за то добром. Види, который слушая людими предполитали назад сидел на кресла, придле по никогда не понимая, они задум\n"
     ]
    }
   ],
   "source": [
    "# Мы не столько любим людей за то добро, которое они сделали нам, сколько за то добро, которое сделали им мы.\n",
    "print(greedy_generator('Мы не столько любим людей за то добро'))"
   ]
  },
  {
   "cell_type": "code",
   "execution_count": 46,
   "metadata": {},
   "outputs": [
    {
     "name": "stdout",
     "output_type": "stream",
     "text": [
      "Ничем не может владеть человек. В этаку с Петрд`ор Вюсь теперь воображжавшему ему Анна Павловна, но порыдавая ему необходимость\n"
     ]
    }
   ],
   "source": [
    "# Ничем не может владеть человек, пока боится смерти. А кто не боится её, тому принадлежит всё.\n",
    "print(greedy_generator('Ничем не может владеть человек'))"
   ]
  },
  {
   "cell_type": "markdown",
   "metadata": {},
   "source": [
    "### Генерация с помощью лучевого поиска - Beam Search"
   ]
  },
  {
   "cell_type": "code",
   "execution_count": 48,
   "metadata": {},
   "outputs": [],
   "source": [
    "beam_generator = BeamGenerator(torch_transf_model, tokenizer)"
   ]
  },
  {
   "cell_type": "code",
   "execution_count": 103,
   "metadata": {},
   "outputs": [
    {
     "name": "stdout",
     "output_type": "stream",
     "text": [
      "****\n",
      "2.5131449607796212\n",
      "сказала княжна, оглядывая Наполеона. - C'est la campagne. Non, je vous citerains, que je vous crois que je\n",
      "\n",
      "****\n",
      "2.5222256173024693\n",
      "сказала княжна, оглядывая Наполеона. - C'est la prince Hipole, 49 - говорил Лаврушка. - Voyons, 19\n",
      "\n",
      "****\n",
      "2.5800589159144995\n",
      "сказала княжна, оглядывая Наполеона. - C'est la prince Hipole, 49 - отвечал он. Княгиня, улыбаясь и отчаянно взмахнул\n",
      "\n",
      "****\n",
      "2.6016618394571585\n",
      "сказала княжна, оглядывая Наполеона. - C'est la prince Hipole, 49 - отвечал он. Княгиня, улыбаясь и отчаянно взмахну\n",
      "\n",
      "****\n",
      "2.619141115341512\n",
      "сказала княжна, оглядывая Наполеона. - C'est la prince Hipole, 49 - отвечал он. Княгиня, улыбаясь и раскрываясь от нее. Она\n",
      "\n",
      "CPU times: user 5.38 s, sys: 44.1 ms, total: 5.42 s\n",
      "Wall time: 853 ms\n"
     ]
    }
   ],
   "source": [
    "%%time\n",
    "\n",
    "beam_gen_variants = beam_generator('сказала княжна, оглядывая Наполе',\n",
    "                                   beamsize=5,\n",
    "                                   return_hypotheses_n=5)\n",
    "\n",
    "for score, pred_txt in beam_gen_variants:\n",
    "    print('****')\n",
    "    print(score)\n",
    "    print(pred_txt)\n",
    "    print()"
   ]
  },
  {
   "cell_type": "code",
   "execution_count": 104,
   "metadata": {},
   "outputs": [
    {
     "name": "stdout",
     "output_type": "stream",
     "text": [
      "****\n",
      "1.499354916812134\n",
      "сказала княжна, оглядывая Наполеона. XVIII. Пройдя коридор, флигель-адъютант учтивостью передал Болкон\n",
      "\n",
      "****\n",
      "1.532520912537454\n",
      "сказала княжна, оглядывая Наполеон, приставши прежде к плоту, быстрыми шагами пошел вперед и, встречая Александра, подал ему ру\n",
      "\n",
      "****\n",
      "1.7461463614648138\n",
      "сказала княжна, оглядывая Наполеона. XVIII. Пройдя коридор, состоял из себя в Лысых Горах. Маленький Николушка\n",
      "\n",
      "****\n",
      "1.926889580968508\n",
      "сказала княжна, оглядывая Наполеон, приставши прежде к плоту, быстрыми шагами пошел вперед и, встречаящими глазами глядя на Ростова. -\n",
      "\n",
      "****\n",
      "1.98223439477454\n",
      "сказала княжна, оглядывая Наполеон, приставши прежде к плоту, быстрыми шагами пошел вперед и, встречаящими, толстыми пальцами, т\n",
      "\n",
      "****\n",
      "2.010063183344271\n",
      "сказала княжна, оглядывая Наполеон, приставши прежде к плоту, быстрыми шагами пошел вперед и, встречая пошел вперед и, обращаясь к князю\n",
      "\n",
      "****\n",
      "2.158409435379314\n",
      "сказала княжна, оглядывая Наполеон, приставши прежде к плоту, быстрыми шагами пошел вперед и, встречаящими глазами глядя на Ростова, как\n",
      "\n",
      "****\n",
      "2.183185038807958\n",
      "сказала княжна, оглядывая Наполеон, приставши прежде к плоту, быстрыми шагами пошел вперед и, встречаящими глазами глядя на Ростова, по\n",
      "\n",
      "****\n",
      "2.2411780233996264\n",
      "сказала княжна, оглядывая Наполеон, приставши прежде к плоту, быстрыми шагами пошел вперед и, встречаящими глазами глядя на Ростова. Росто\n",
      "\n",
      "****\n",
      "2.2414976650987333\n",
      "сказала княжна, оглядывая Наполеона. - C'est la prince Hipole, 49 - говорил Лицо ее вдруг разгорелось, выражая отчая\n",
      "\n",
      "****\n",
      "2.3056435500933308\n",
      "сказала княжна, оглядывая Наполеон, приставши прежде к плоту, быстрыми шагами пошел вперед и, встречаящими, толстыми пальцами, по\n",
      "\n",
      "****\n",
      "2.3211254025330557\n",
      "сказала княжна, оглядывая Наполеон, приставши прежде к плоту, быстрыми шагами пошел вперед и, встречаящими глазами глядя на Ростова. К\n",
      "\n",
      "****\n",
      "2.3570853634223807\n",
      "сказала княжна, оглядывая Наполеон, приставши прежде к плоту, быстрыми шагами пошел вперед и, встречаящими глазами глядя на Ростова, и\n",
      "\n",
      "****\n",
      "2.4036370633648456\n",
      "сказала княжна, оглядывая Наполеон, приставши прежде к плоту, быстрыми шагами пошел вперед и, встречаящими глазами глядя на Ростова. Он\n",
      "\n",
      "****\n",
      "2.418383470156795\n",
      "сказала княжна, оглядывая Наполеон, приставши прежде к плоту, быстрыми шагами пошел вперед и, встречаящими, толстыми пальцами, б\n",
      "\n",
      "****\n",
      "2.4445841091098104\n",
      "сказала княжна, оглядывая Наполеон, приставши прежде к плоту, быстрыми шагами пошел вперед и, встречаящими, толстыми пальцами, ш\n",
      "\n",
      "****\n",
      "2.4556565245408466\n",
      "сказала княжна, оглядывая Наполеон, приставши прежде к плоту, быстрыми шагами пошел вперед и, встречаящими глазами глядя на Ростова, не\n",
      "\n",
      "****\n",
      "2.4595413175792715\n",
      "сказала княжна, оглядывая Наполеон, приставши прежде к плоту, быстрыми шагами пошел вперед и, встречаящими глазами глядя на Ростова. \"\n",
      "\n",
      "****\n",
      "2.4630561624402074\n",
      "сказала княжна, оглядывая Наполеон, приставши прежде к плоту, быстрыми шагами пошел вперед и, встречаящими глазами глядя на Ростова. Р\n",
      "\n",
      "****\n",
      "2.5067586005534204\n",
      "сказала княжна, оглядывая Наполеон, приставши прежде к плоту, быстрыми шагами пошел вперед и, встречаящими глазами глядя на Ростова, в\n",
      "\n",
      "CPU times: user 37.4 s, sys: 164 ms, total: 37.6 s\n",
      "Wall time: 6.13 s\n"
     ]
    }
   ],
   "source": [
    "%%time\n",
    "\n",
    "beam_gen_variants = beam_generator('сказала княжна, оглядывая Наполе',\n",
    "                                   beamsize=20,\n",
    "                                   return_hypotheses_n=20)\n",
    "\n",
    "for score, pred_txt in beam_gen_variants:\n",
    "    print('****')\n",
    "    print(score)\n",
    "    print(pred_txt)\n",
    "    print()"
   ]
  },
  {
   "cell_type": "code",
   "execution_count": 105,
   "metadata": {},
   "outputs": [
    {
     "name": "stdout",
     "output_type": "stream",
     "text": [
      "****\n",
      "1.0487984976048306\n",
      "сказала княжна, оглядывая Наполеона. В этот самый день Ростов, пользуясь темнотой, чтобы не быть узнанным, в статском платье, приехал в Ти\n",
      "\n",
      "****\n",
      "1.413859259105773\n",
      "сказала княжна, оглядывая Наполеона. В этот самый день Ростов, пользуясь темнотой, чтобы не быть узнанным, в статском платье в клубе,\n",
      "\n",
      "****\n",
      "1.4474844868924677\n",
      "сказала княжна, оглядывая Наполеона. В этот самый день Ростов, пользуясь темнотой, чтобы не быть узнанным, в статском платья графиня и за\n",
      "\n",
      "****\n",
      "1.4864090233885703\n",
      "сказала княжна, оглядывая Наполеона. В этот самый день Ростов, пользуясь темнотой, чтобы не быть узнанным, в статском платьях вечер,\n",
      "\n",
      "****\n",
      "1.499354916812134\n",
      "сказала княжна, оглядывая Наполеона. XVIII. Пройдя коридор, флигель-адъютант учтивостью передал Болкон\n",
      "\n",
      "****\n",
      "1.5033953497327401\n",
      "сказала княжна, оглядывая Наполеона. В этот самый день Ростов, пользуясь темнотой, чтобы не быть узнанным, в статском платьях французов. На\n",
      "\n",
      "****\n",
      "1.5236502484726269\n",
      "сказала княжна, оглядывая Наполеона. В этот самый день Ростов, пользуясь темнотой, чтобы не быть узнанным, в статском платьях и прислу\n",
      "\n",
      "****\n",
      "1.5302799140259116\n",
      "сказала княжна, оглядывая Наполеона. В этот самый день Ростов, пользуясь темнотой, чтобы не быть узнанным, в старого князя Андрея чем-то особенным от\n",
      "\n",
      "****\n",
      "1.532520912537454\n",
      "сказала княжна, оглядывая Наполеон, приставши прежде к плоту, быстрыми шагами пошел вперед и, встречая Александра, подал ему ру\n",
      "\n",
      "****\n",
      "1.5341740130884878\n",
      "сказала княжна, оглядывая Наполеона. В этот самый день Ростов, пользуясь темнотой, чтобы не быть узнанным, в статском платье в гостиную и\n",
      "\n",
      "****\n",
      "1.5382894336819644\n",
      "сказала княжна, оглядывая Наполеона. В этот самый день Ростов, пользуясь темнотой, чтобы не быть узнанным, в статском платьях французов, который\n",
      "\n",
      "****\n",
      "1.5696991533710958\n",
      "сказала княжна, оглядывая Наполеона. XVII. Пройдя коридор, флигель-адъютант учтивостью передал Болконско\n",
      "\n",
      "****\n",
      "1.5823840735086803\n",
      "сказала княжна, оглядывая Наполеона. В этот самый день Ростов, пользуясь темнотой, чтобы не быть узнанным, в статском платьями русских после\n",
      "\n",
      "****\n",
      "1.5829743991276632\n",
      "сказала княжна, оглядывая Наполеона. В этот самый день Ростов, пользуясь темнотой, чтобы не быть узнанным, в статском платье, и о том, что\n",
      "\n",
      "****\n",
      "1.5863484397970937\n",
      "сказала княжна, оглядывая Наполеона. В этот самый день Ростов, пользуясь темнотой, чтобы не быть узнанным, в статском обществе самым им\n",
      "\n",
      "****\n",
      "1.5924558890385891\n",
      "сказала княжна, оглядывая Наполеона. В этот самый день Ростов, пользуясь темнотой, чтобы не быть узнанным, в статском платье в гостиную.\n",
      "\n",
      "****\n",
      "1.6333705660038975\n",
      "сказала княжна, оглядывая Наполеона. В этот самый день Ростов, пользуясь темнотой, чтобы не быть узнанным, в статском общественным положением,\n",
      "\n",
      "****\n",
      "1.6362040480530666\n",
      "сказала княжна, оглядывая Наполеона. В этот самый день Ростов, пользуясь темнотой, чтобы не быть узнанным, в статском платьях весьма ва\n",
      "\n",
      "****\n",
      "1.6391842685700113\n",
      "сказала княжна, оглядывая Наполеона. В этот самый день Ростов, пользуясь темнотой, чтобы не быть узнанным, в статском платьями русских и\n",
      "\n",
      "****\n",
      "1.6399209280470242\n",
      "сказала княжна, оглядывая Наполеона. В этот самый день Ростов, пользуясь темнотой, чтобы не быть узнанным, в статском платьями, промежут\n",
      "\n",
      "CPU times: user 2min 59s, sys: 687 ms, total: 3min\n",
      "Wall time: 39.8 s\n"
     ]
    }
   ],
   "source": [
    "%%time\n",
    "\n",
    "beam_gen_variants = beam_generator('сказала княжна, оглядывая Наполе',\n",
    "                                   beamsize=100,\n",
    "                                   return_hypotheses_n=20)\n",
    "\n",
    "for score, pred_txt in beam_gen_variants:\n",
    "    print('****')\n",
    "    print(score)\n",
    "    print(pred_txt)\n",
    "    print()"
   ]
  },
  {
   "cell_type": "code",
   "execution_count": null,
   "metadata": {},
   "outputs": [],
   "source": []
  },
  {
   "cell_type": "code",
   "execution_count": null,
   "metadata": {},
   "outputs": [],
   "source": []
  },
  {
   "cell_type": "code",
   "execution_count": null,
   "metadata": {},
   "outputs": [],
   "source": []
  },
  {
   "cell_type": "code",
   "execution_count": 49,
   "metadata": {},
   "outputs": [
    {
     "name": "stdout",
     "output_type": "stream",
     "text": [
      "****\n",
      "3.9369850661779773\n",
      "Надо жить для других, он очень хорош, сколько раз усх просить только трудца. - Нет. - Здорова Бого Бога, - сказал он\n",
      "\n",
      "****\n",
      "3.947147864303324\n",
      "Надо жить для других, он очень хорош, сколько раз усх просить только трудца. - Нет. - Здорова Бого Богу, - сказал Пьер\n",
      "\n",
      "****\n",
      "3.9574465267916867\n",
      "Надо жить для других, он очень хорош, сколько раз усх просить только трудца. - Нет. - Здорова Бого Богу, - сказал он.\n",
      "\n",
      "****\n",
      "4.016480814582185\n",
      "Надо жить для других, он очень хорош, сколько раз усх просить только трудца. - Нет. - Здорова Бого Бога, - сказал он,\n",
      "\n",
      "****\n",
      "4.019147925479852\n",
      "Надо жить для других, он очень хорош, сколько раз усх просить только трудца. - Нет. - Здорова Бога, - сказал фельд\n",
      "\n"
     ]
    }
   ],
   "source": [
    "# Надо жить, надо любить, надо верить.\n",
    "beam_gen_variants = beam_generator('Надо жить',\n",
    "                                   beamsize=5,\n",
    "                                   return_hypotheses_n=5)\n",
    "\n",
    "for score, pred_txt in beam_gen_variants:\n",
    "    print('****')\n",
    "    print(score)\n",
    "    print(pred_txt)\n",
    "    print()"
   ]
  },
  {
   "cell_type": "code",
   "execution_count": 50,
   "metadata": {},
   "outputs": [
    {
     "name": "stdout",
     "output_type": "stream",
     "text": [
      "****\n",
      "3.0512463603234106\n",
      "Последнее время мне стало жить тяжело. Я дышу, ты хочу стало быть назначен? В случаешься свитским... Княжна Марья его. - Неужели\n",
      "\n",
      "****\n",
      "3.0802601361018156\n",
      "Последнее время мне стало жить тяжело. Я дышу, ты хочу стало быть назначен? В случаешься свитским, мысли, дам весьма вашей\n",
      "\n",
      "****\n",
      "3.087793502206499\n",
      "Последнее время мне стало жить тяжело. Я дышу, ты хочу стало быть назначен? В случаешься свитским... Княжна Марьна Марья должно было\n",
      "\n",
      "****\n",
      "3.0987682605310134\n",
      "Последнее время мне стало жить тяжело. Я дышу, ты хочу стало быть назначен? В случаешься свитским, мысли, дам весьма ваше в\n",
      "\n",
      "****\n",
      "3.1691239841797287\n",
      "Последнее время мне стало жить тяжело. Я дышу, ты хочу стало быть назначен? В случаешься свитским... Княжна Марья беспокойно и\n",
      "\n"
     ]
    }
   ],
   "source": [
    "# Последнее время мне стало жить тяжело. Я вижу, я стал понимать слишком много.\n",
    "beam_gen_variants = beam_generator('Последнее время мне стало жить тяжело',\n",
    "                                   beamsize=5,\n",
    "                                   return_hypotheses_n=5)\n",
    "\n",
    "for score, pred_txt in beam_gen_variants:\n",
    "    print('****')\n",
    "    print(score)\n",
    "    print(pred_txt)\n",
    "    print()"
   ]
  },
  {
   "cell_type": "code",
   "execution_count": 51,
   "metadata": {},
   "outputs": [
    {
     "name": "stdout",
     "output_type": "stream",
     "text": [
      "****\n",
      "2.563996190134474\n",
      "Кто всё поймет! - закричал Денисов, ударясь, хотя по стол и не отвечал. - Сказавлогра! - кричал один адъютант. -\n",
      "\n",
      "****\n",
      "3.026596468532409\n",
      "Кто всё поймет! - закричал Денисов, ударясь, хотя по стол и не отвечал. - Сказавлогра! - кричал один адъютанту, -\n",
      "\n",
      "****\n",
      "3.0348943817097473\n",
      "Кто всё поймет! - закричал Денисов, ударясь, хотя по стол и не отвечал. - Сказавлогра! - кричал один адъютант. По\n",
      "\n",
      "****\n",
      "3.1256275155688984\n",
      "Кто всё поймет! - закричал Денисов, ударясь, хотя по стол и не отвечал. - Сказавлогра! - кричал один адъютант. Ко\n",
      "\n",
      "****\n",
      "3.2664371942844816\n",
      "Кто всё поймет! - закричал Денисов, ударясь, хотя по стол и не отвечал. - Сказавлогра! - кричал один адъютанту, по\n",
      "\n"
     ]
    }
   ],
   "source": [
    "# Кто всё поймет, тот всё и простит.\n",
    "beam_gen_variants = beam_generator('Кто всё поймет',\n",
    "                                   beamsize=5,\n",
    "                                   return_hypotheses_n=5)\n",
    "\n",
    "for score, pred_txt in beam_gen_variants:\n",
    "    print('****')\n",
    "    print(score)\n",
    "    print(pred_txt)\n",
    "    print()"
   ]
  },
  {
   "cell_type": "code",
   "execution_count": 52,
   "metadata": {},
   "outputs": [
    {
     "name": "stdout",
     "output_type": "stream",
     "text": [
      "****\n",
      "2.9913233840245175\n",
      "Сражение выигрывает тот несмотря на то, что последнелй ноти в середине России. С вечера между эскадроном и неприятельскими пере\n",
      "\n",
      "****\n",
      "3.082797979601616\n",
      "Сражение выигрывает тот несмотря на то, что последнелй ноти в середине России. С вечера между эскадроном и неприятельскими от\n",
      "\n",
      "****\n",
      "3.097740829768173\n",
      "Сражение выигрывает тот несмотря на то, что последнелй ноти в середине России. С вечера между эскадроном и непринявший приема\n",
      "\n",
      "****\n",
      "3.2278968112304596\n",
      "Сражение выигрывает тот несмотря на то, что последнелй ноти в середине России. С вечера между эскадроном и неприятельскими ст\n",
      "\n",
      "****\n",
      "3.271437624756343\n",
      "Сражение выигрывает тот несмотря на то, что последнелй ноти в середине России. С вечера между эскадроном и непринявший приказани\n",
      "\n"
     ]
    }
   ],
   "source": [
    "# Сражение выигрывает тот, кто твердо решил его выиграть!\n",
    "beam_gen_variants = beam_generator('Сражение выигрывает тот',\n",
    "                                   beamsize=5,\n",
    "                                   return_hypotheses_n=5)\n",
    "\n",
    "for score, pred_txt in beam_gen_variants:\n",
    "    print('****')\n",
    "    print(score)\n",
    "    print(pred_txt)\n",
    "    print()"
   ]
  },
  {
   "cell_type": "code",
   "execution_count": 53,
   "metadata": {},
   "outputs": [
    {
     "name": "stdout",
     "output_type": "stream",
     "text": [
      "****\n",
      "2.665524030733145\n",
      "Несмотря на тому, что происходило в исполнение, приединил Ростованной Ростову, едва удерживался от смеха, и с радостно\n",
      "\n",
      "****\n",
      "3.133284570295625\n",
      "Несмотря на тому, что происходило в исполнение, приединил Ростованной Ростову, едва удерживался от смеха, и с радост\n",
      "\n",
      "****\n",
      "3.1940841853827915\n",
      "Несмотря на тому, что происходило в исполнение, приединил Ростованной Ростову, едва удерживался от смеха, и с радость\n",
      "\n",
      "****\n",
      "3.2499209138098704\n",
      "Несмотря на тому, что происходило в исполнение, приединил Ростованной Ростову, ей мать перепуская дурною, отцыпал\n",
      "\n",
      "****\n",
      "3.3091002613525067\n",
      "Несмотря на тому, что происходило в исполнение, приехав в своих гостином показала, не совсем отношении к нему столу\n",
      "\n"
     ]
    }
   ],
   "source": [
    "# Несмотря на то, что доктора лечили его, пускали кровь и давали пить лекарства, он всё-таки выздоровел.\n",
    "beam_gen_variants = beam_generator('Несмотря на то',\n",
    "                                   beamsize=5,\n",
    "                                   return_hypotheses_n=5)\n",
    "\n",
    "for score, pred_txt in beam_gen_variants:\n",
    "    print('****')\n",
    "    print(score)\n",
    "    print(pred_txt)\n",
    "    print()"
   ]
  },
  {
   "cell_type": "code",
   "execution_count": 54,
   "metadata": {},
   "outputs": [
    {
     "name": "stdout",
     "output_type": "stream",
     "text": [
      "****\n",
      "3.285374232700893\n",
      "давали пить лекарства юнкер треплярства красивым ртом медлилительно улыбнулся и, не побольшого роском мундире,\n",
      "\n",
      "****\n",
      "3.789569309779576\n",
      "давали пить лекарства юнкер стоял дома. - За ним мост! это вам? - послышались крикнул сзади. - Несвицкий, пока\n",
      "\n",
      "****\n",
      "3.8113459178379605\n",
      "давали пить лекарства юнкер стоял дома. - За ним мост! это вам? - послышались крикнул сзади. - Несвицкий, пой\n",
      "\n",
      "****\n",
      "3.8755273818969727\n",
      "давали пить лекарства юнкер треплярства красивым ртом медлилительно улыбнулся и, не побольшого роском мундире.\n",
      "\n",
      "****\n",
      "3.94135434286935\n",
      "давали пить лекарства юнкер треплярства красивым ртом медлилительно улыбнулся и, не побольшого роском мундире и\n",
      "\n"
     ]
    }
   ],
   "source": [
    "# Несмотря на то, что доктора лечили его, пускали кровь и давали пить лекарства, он всё-таки выздоровел.\n",
    "beam_gen_variants = beam_generator('давали пить лекарства',\n",
    "                                   beamsize=5,\n",
    "                                   return_hypotheses_n=5)\n",
    "\n",
    "for score, pred_txt in beam_gen_variants:\n",
    "    print('****')\n",
    "    print(score)\n",
    "    print(pred_txt)\n",
    "    print()"
   ]
  },
  {
   "cell_type": "code",
   "execution_count": 55,
   "metadata": {},
   "outputs": [
    {
     "name": "stdout",
     "output_type": "stream",
     "text": [
      "****\n",
      "3.0958118398060726\n",
      "Мы не столько любим людей за то добродетелью. (сноска 86) [Отеши, мои поэтом,] (сноска 87) Это шутилер,] (сноска 89) Как\n",
      "\n",
      "****\n",
      "3.2361905880242796\n",
      "Мы не столько любим людей за то добродетелью. (сноска 86) [Отеши, мои поэтом,] (сноска 87) Это шутилер,] (сноска 89) Это\n",
      "\n",
      "****\n",
      "3.4029223712946286\n",
      "Мы не столько любим людей за то добродетелью. (сноска 48) Это Маша, что значит вина, (сноска 49) Бедупов, вы желаете помнить вас\n",
      "\n",
      "****\n",
      "3.409481278609872\n",
      "Мы не столько любим людей за то добродетелью. (сноска 86) [Отеши, мои поэтом,] (сноска 87) Это шутилер,] (сноска 8) Это ста\n",
      "\n",
      "****\n",
      "3.430809654423984\n",
      "Мы не столько любим людей за то добродетелью. (сноска 86) [Отеши, мои поэтом,] (сноска 87) Это шутилер,] (сноска 89) [\n",
      "\n"
     ]
    }
   ],
   "source": [
    "# Мы не столько любим людей за то добро, которое они сделали нам, сколько за то добро, которое сделали им мы.\n",
    "beam_gen_variants = beam_generator('Мы не столько любим людей за то добро',\n",
    "                                   beamsize=5,\n",
    "                                   return_hypotheses_n=5)\n",
    "\n",
    "for score, pred_txt in beam_gen_variants:\n",
    "    print('****')\n",
    "    print(score)\n",
    "    print(pred_txt)\n",
    "    print()"
   ]
  },
  {
   "cell_type": "code",
   "execution_count": 60,
   "metadata": {},
   "outputs": [
    {
     "name": "stdout",
     "output_type": "stream",
     "text": [
      "****\n",
      "2.012100668579291\n",
      "Ничем не может владеть человек до<EOS>\n",
      "\n",
      "****\n",
      "2.34731494604109\n",
      "Ничем не может владеть человек. (сноска 20) Это истовоя графини. (сноска 21) [Что такое] (сноска 202) [между нами, мой милый князь,\n",
      "\n",
      "****\n",
      "2.4798495618471628\n",
      "Ничем не может владеть человек. (сноска 20) Это верно. (сноска 21) Ах, Со время, (сноска 21) Моичера! (сноска 29) [очно!] (сноска 23)\n",
      "\n",
      "****\n",
      "2.505705792570498\n",
      "Ничем не может владеть человек. (сноска 4) Не прошло работа хорошого. (сноска 9) [милая Элен,] (сноска 9) [Я вас.] (сноска 6\n",
      "\n",
      "****\n",
      "2.511066533557619\n",
      "Ничем не может владеть человек. (сноска 20) Это верно. (сноска 21) Это Соня просто, что боится, (сноска 216) [словено,] (сноска 27) [\n",
      "\n",
      "****\n",
      "2.5147689609762987\n",
      "Ничем не может владеть человек. (сноска 4) Ах, я так переры. (сноска 41) [Каша, вы бидите.] (сноска 4) [Что вы хоти\n",
      "\n",
      "****\n",
      "2.5207048635465488\n",
      "Ничем не может владеть человек. (сноска 4) [Очень равно.] (сноска 5) Ах, мой милый Пьер,] (сноска 6) [Андрей,] (сноска 156) [\n",
      "\n",
      "****\n",
      "2.5351008628463987\n",
      "Ничем не может владеть человек. (сноска 20) Это верно. (сноска 21) Ах, Со время, (сноска 21) Моичера! (сноска 29) [очно!] (сноска 24)\n",
      "\n",
      "****\n",
      "2.5433342067624025\n",
      "Ничем не может владеть человек. (сноска 4) Ах, я так переры. (сноска 41) [Каша, вы бидите.] (сноска 4) [Что вы хоть\n",
      "\n",
      "****\n",
      "2.556616473161555\n",
      "Ничем не может владеть человек. (сноска 4) [Очень равно.] (сноска 5) Ах, мой милый Пьер,] (сноска 6) [Андрей,] (сноска 15) [В\n",
      "\n",
      "****\n",
      "2.5703151207578765\n",
      "Ничем не может владеть человек. (сноска 20) Это истовоя графини. (сноска 21) [Что такое] (сноска 202) [между нами, мой милый князь И\n",
      "\n",
      "****\n",
      "2.576658724352807\n",
      "Ничем не может владеть человек. (сноска 20) Это истовоя графини. (сноска 21) [Что такое] (сноска 202) [между нами, мой милый князь)\n",
      "\n",
      "****\n",
      "2.607131471428302\n",
      "Ничем не может владеть человек. (сноска 4) [Очень равно.] (сноска 5) Ах, мой милый Пьер,] (сноска 6) [Андрей,] (сноска 65) [\n",
      "\n",
      "****\n",
      "2.6087255517203425\n",
      "Ничем не может владеть человек. (сноска 20) Это Масонство, (сноска 21) Вы видите, но это, какое другое дело, (сноска 22) Катишь о спаси\n",
      "\n",
      "****\n",
      "2.609220455093241\n",
      "Ничем не может владеть человек. (сноска 4) Не прошло работа хорошого. (сноска 9) [милая Элен,] (сноска 90) [Я очень милый.]\n",
      "\n",
      "****\n",
      "2.6120234831011038\n",
      "Ничем не может владеть человек. (сноска 4) [Очень равно.] (сноска 5) Ах, мой милый Пьер,] (сноска 6) [Андрей,] (сноска 156) Б\n",
      "\n",
      "****\n",
      "2.6184683108613496\n",
      "Ничем не может владеть человек. (сноска 4) [Очень равно.] (сноска 5) Ах, мой милый Пьер,] (сноска 6) [Андрей,] (сноска 67) [\n",
      "\n",
      "****\n",
      "2.6383013031250973\n",
      "Ничем не может владеть человек. (сноска 4) [Очень равно.] (сноска 14) Я желен, мой милый,] (сноска 15) [Поже! Боже мой!]\n",
      "\n",
      "****\n",
      "2.6530469130645162\n",
      "Ничем не может владеть человек. (сноска 4) [Очень равно.] (сноска 5) Ах, мой милый Пьер,] (сноска 6) [Андрей,] (сноска 68) [\n",
      "\n",
      "****\n",
      "2.6683189420800213\n",
      "Ничем не может владеть человек. (сноска 4) Не мой.] (сноска 41) [Очень добро,] (сноска 64) [Отец,] (сноска 65) [По\n",
      "\n"
     ]
    }
   ],
   "source": [
    "# Ничем не может владеть человек, пока боится смерти. А кто не боится её, тому принадлежит всё.\n",
    "beam_gen_variants = beam_generator('Ничем не может владеть человек',\n",
    "                                   beamsize=100,\n",
    "                                   return_hypotheses_n=20)\n",
    "\n",
    "for score, pred_txt in beam_gen_variants:\n",
    "    print('****')\n",
    "    print(score)\n",
    "    print(pred_txt)\n",
    "    print()"
   ]
  },
  {
   "cell_type": "code",
   "execution_count": null,
   "metadata": {},
   "outputs": [],
   "source": []
  },
  {
   "cell_type": "code",
   "execution_count": null,
   "metadata": {},
   "outputs": [],
   "source": []
  },
  {
   "cell_type": "markdown",
   "metadata": {},
   "source": [
    "## Собственная реализация MultiHeadAttention"
   ]
  },
  {
   "cell_type": "code",
   "execution_count": 25,
   "metadata": {},
   "outputs": [],
   "source": [
    "def my_multihead_attention(queries, keys, values,\n",
    "                           keys_padding_mask, dependency_mask,\n",
    "                           is_training,\n",
    "                           weights_dropout):\n",
    "    \"\"\"\n",
    "    queries - BatchSize x ValuesLen x HeadN x KeySize\n",
    "    keys - BatchSize x KeysLen x HeadN x KeySize\n",
    "    values - BatchSize x KeysLen x HeadN x ValueSize\n",
    "    keys_padding_mask - BatchSize x KeysLen\n",
    "    dependency_mask - ValuesLen x KeysLen\n",
    "    is_training - bool\n",
    "    weights_dropout - float\n",
    "    \n",
    "    result - tuple of two:\n",
    "        - BatchSize x ValuesLen x HeadN x ValueSize - resulting features\n",
    "        - BatchSize x ValuesLen x KeysLen x HeadN - attention map\n",
    "    \"\"\"\n",
    "\n",
    "    # BatchSize x ValuesLen x KeysLen x HeadN\n",
    "    relevances = torch.einsum('bvhs,bkhs->bvkh', (queries, keys))\n",
    "    \n",
    "    # замаскировать элементы, выходящие за длины последовательностей ключей\n",
    "    padding_mask_expanded = keys_padding_mask[:, None, :, None].expand_as(relevances)\n",
    "    relevances.masked_fill_(padding_mask_expanded, float('-inf'))\n",
    "    \n",
    "    # замаскировать пары <выходная позиция, входная позиция>\n",
    "    relevances = relevances + dependency_mask[None, :, :, None].expand_as(relevances)\n",
    "    \n",
    "    normed_rels = F.softmax(relevances, dim=2)    \n",
    "    normed_rels = F.dropout(normed_rels, weights_dropout, is_training)\n",
    "    \n",
    "    # BatchSize x ValuesLen x KeysLen x HeadN x 1\n",
    "    normed_rels_expanded = normed_rels.unsqueeze(-1)\n",
    "    \n",
    "    # BatchSize x 1 x KeysLen x HeadN x ValueSize\n",
    "    values_expanded = values.unsqueeze(1)\n",
    "    \n",
    "    # BatchSize x ValuesLen x KeysLen x HeadN x ValueSize\n",
    "    weighted_values = normed_rels_expanded * values_expanded\n",
    "    result = weighted_values.sum(2)  # BatchSize x ValuesLen x HeadN x ValueSize\n",
    "    \n",
    "    return result, normed_rels"
   ]
  },
  {
   "cell_type": "markdown",
   "metadata": {},
   "source": [
    "## Self-Attention - это Attention, в котором ключи, значения и запросы вычисляются из элементов одной и той же последовательности"
   ]
  },
  {
   "cell_type": "code",
   "execution_count": 26,
   "metadata": {},
   "outputs": [],
   "source": [
    "class MyMultiheadSelfAttention(nn.Module):\n",
    "    def __init__(self, model_size, n_heads, dropout=0):\n",
    "        super().__init__()\n",
    "        assert model_size % n_heads == 0, 'Размерность модели должна делиться нацело на количество голов'\n",
    "        self.n_heads = n_heads\n",
    "\n",
    "        self.queries_proj = nn.Linear(model_size, model_size)\n",
    "        self.keys_proj = nn.Linear(model_size, model_size)\n",
    "        self.values_proj = nn.Linear(model_size, model_size)\n",
    "        \n",
    "        self.dropout = dropout\n",
    "\n",
    "        self.last_attention_map = None\n",
    "    \n",
    "    def forward(self, sequence, padding_mask, dependency_mask):\n",
    "        \"\"\"\n",
    "        sequence - BatchSize x Len x ModelSize\n",
    "        padding_mask - BatchSize x Len\n",
    "        dependency_mask - Len x Len\n",
    "        \n",
    "        result - BatchSize x Len x ModelSize\n",
    "        \"\"\"\n",
    "        batch_size, max_len, model_size = sequence.shape\n",
    "        \n",
    "        queries_flat = self.queries_proj(sequence)  # BatchSize x Len x ModelSize\n",
    "        queries = queries_flat.view(batch_size, max_len, self.n_heads, -1)\n",
    "        \n",
    "        keys_flat = self.keys_proj(sequence)  # BatchSize x Len x ModelSize\n",
    "        keys = keys_flat.view(batch_size, max_len, self.n_heads, -1)\n",
    "        \n",
    "        values_flat = self.values_proj(sequence)  # BatchSize x Len x ModelSize\n",
    "        values = values_flat.view(batch_size, max_len, self.n_heads, -1)\n",
    "        \n",
    "        # BatchSize x Len x HeadsN x ValueSize\n",
    "        result, att_map = my_multihead_attention(queries, keys, values,\n",
    "                                                 padding_mask, dependency_mask,\n",
    "                                                 self.training, self.dropout)\n",
    "        result_flat = result.view(batch_size, max_len, model_size)\n",
    "        \n",
    "        self.last_attention_map = att_map.detach()\n",
    "\n",
    "        return result_flat"
   ]
  },
  {
   "cell_type": "markdown",
   "metadata": {},
   "source": [
    "## Один слой трансформера - Self-Attention, Feed-Forward, skip-connections, LayerNorm"
   ]
  },
  {
   "cell_type": "code",
   "execution_count": 27,
   "metadata": {},
   "outputs": [],
   "source": [
    "class MyTransformerEncoderLayer(nn.Module):\n",
    "    def __init__(self, model_size, n_heads, dim_feedforward, dropout):\n",
    "        super().__init__()\n",
    "        self.self_attention = MyMultiheadSelfAttention(model_size,\n",
    "                                                       n_heads,\n",
    "                                                       dropout=dropout)\n",
    "        self.first_dropout = nn.Dropout(dropout)\n",
    "        self.first_norm = nn.LayerNorm(model_size)\n",
    "        \n",
    "        self.feedforward = nn.Sequential(\n",
    "            nn.Linear(model_size, dim_feedforward),\n",
    "            nn.ReLU(),\n",
    "            nn.Dropout(dropout),\n",
    "            nn.Linear(dim_feedforward, model_size),\n",
    "            nn.Dropout(dropout)\n",
    "        )\n",
    "        self.second_norm = nn.LayerNorm(model_size)\n",
    "    \n",
    "    def forward(self, sequence, padding_mask, dependency_mask):\n",
    "        att_features = self.self_attention(sequence, padding_mask, dependency_mask)\n",
    "\n",
    "        sequence = sequence + self.first_dropout(att_features)\n",
    "        sequence = self.first_norm(sequence)\n",
    "        \n",
    "        sequence = sequence + self.feedforward(sequence)\n",
    "        sequence = self.second_norm(sequence)\n",
    "        return sequence\n"
   ]
  },
  {
   "cell_type": "markdown",
   "metadata": {},
   "source": [
    "## Энкодер Трансформера - стопка из нескольких слоёв"
   ]
  },
  {
   "cell_type": "code",
   "execution_count": 28,
   "metadata": {},
   "outputs": [],
   "source": [
    "class MyTransformerEncoder(nn.Module):\n",
    "    def __init__(self, n_layers, **layer_kwargs):\n",
    "        super().__init__()\n",
    "        self.layers = nn.ModuleList([\n",
    "            MyTransformerEncoderLayer(**layer_kwargs)\n",
    "            for _ in range(n_layers)\n",
    "        ])\n",
    "        self.initialize_weights()\n",
    "\n",
    "    def forward(self, sequence, mask, src_key_padding_mask):\n",
    "        for layer in self.layers:\n",
    "            sequence = layer(sequence, src_key_padding_mask, mask)\n",
    "        return sequence\n",
    "\n",
    "    def initialize_weights(self):\n",
    "        for param in self.parameters():\n",
    "            if param.dim() > 1:\n",
    "                nn.init.xavier_uniform_(param)"
   ]
  },
  {
   "cell_type": "markdown",
   "metadata": {},
   "source": [
    "## Попробуем обучить языковую модель с нашим Трансформером"
   ]
  },
  {
   "cell_type": "code",
   "execution_count": 29,
   "metadata": {},
   "outputs": [],
   "source": [
    "my_transf_model = LanguageModel(tokenizer.vocab_size(),\n",
    "                                256,\n",
    "                                MyTransformerEncoder(\n",
    "                                    n_layers=3,\n",
    "                                    model_size=256,\n",
    "                                    n_heads=16,\n",
    "                                    dim_feedforward=512,\n",
    "                                    dropout=0.1),\n",
    "                                emb_dropout=0.1)"
   ]
  },
  {
   "cell_type": "code",
   "execution_count": 30,
   "metadata": {},
   "outputs": [
    {
     "name": "stdout",
     "output_type": "stream",
     "text": [
      "Количество параметров 1896936\n"
     ]
    }
   ],
   "source": [
    "print('Количество параметров', get_params_number(my_transf_model))"
   ]
  },
  {
   "cell_type": "code",
   "execution_count": 31,
   "metadata": {},
   "outputs": [
    {
     "data": {
      "text/plain": [
       "17288"
      ]
     },
     "execution_count": 31,
     "metadata": {},
     "output_type": "execute_result"
    }
   ],
   "source": [
    "torch.cuda.empty_cache()\n",
    "import gc\n",
    "gc.collect()"
   ]
  },
  {
   "cell_type": "code",
   "execution_count": 38,
   "metadata": {},
   "outputs": [
    {
     "data": {
      "image/png": "[encoded data removed]",
      "text/plain": [
       "<Figure size 1080x720 with 1 Axes>"
      ]
     },
     "metadata": {
      "needs_background": "light"
     },
     "output_type": "display_data"
    },
    {
     "name": "stdout",
     "output_type": "stream",
     "text": [
      "\n",
      "\n",
      "\n",
      "\n",
      "\n",
      "\n",
      "\n"
     ]
    }
   ],
   "source": [
    "best_val_loss, best_my_transf_model = train_eval_loop(my_transf_model,\n",
    "                                         train_dataset,\n",
    "                                         test_dataset,\n",
    "                                         lm_cross_entropy,\n",
    "                                         lr=2e-3,\n",
    "                                         epoch_n=2000,\n",
    "                                         batch_size=128,\n",
    "                                         device='cuda',\n",
    "                                         early_stopping_patience=50,\n",
    "                                         max_batches_per_epoch_train=1000,\n",
    "                                         max_batches_per_epoch_val=1000,\n",
    "                                         lr_scheduler_ctor=lr_scheduler)"
   ]
  },
  {
   "cell_type": "code",
   "execution_count": 39,
   "metadata": {},
   "outputs": [],
   "source": [
    "torch.save(best_my_transf_model.state_dict(), '../../data/models/war_and_peace_my_transf_best.pth')"
   ]
  },
  {
   "cell_type": "code",
   "execution_count": null,
   "metadata": {},
   "outputs": [],
   "source": [
    "my_transf_model.load_state_dict(torch.load('../../data/models/war_and_peace_my_transf_best.pth'))"
   ]
  },
  {
   "cell_type": "markdown",
   "metadata": {},
   "source": [
    "## Наша реализация - жадная генерация"
   ]
  },
  {
   "cell_type": "code",
   "execution_count": 40,
   "metadata": {},
   "outputs": [],
   "source": [
    "my_greedy_generator = GreedyGenerator(my_transf_model, tokenizer)"
   ]
  },
  {
   "cell_type": "code",
   "execution_count": 41,
   "metadata": {},
   "outputs": [
    {
     "data": {
      "text/plain": [
       "'сказала княжна, оглядывая Андрей, и морщился от болись, как будто от порносил его. - VII. Подложи широкая пехоты, дрожащи'"
      ]
     },
     "execution_count": 41,
     "metadata": {},
     "output_type": "execute_result"
    }
   ],
   "source": [
    "my_greedy_generator('сказала княжна, оглядывая Андре')"
   ]
  },
  {
   "cell_type": "markdown",
   "metadata": {},
   "source": [
    "## Визуализация карт внимания"
   ]
  },
  {
   "cell_type": "code",
   "execution_count": 42,
   "metadata": {},
   "outputs": [],
   "source": [
    "def plot_attention_maps(model, input_string, tokenizer, device='cuda', max_heads=2, figsize=(16, 10)):\n",
    "    device = torch.device(device)\n",
    "\n",
    "    token_ids = tokenizer.encode([input_string])[0]\n",
    "\n",
    "    token_strs = [tokenizer.id_to_subword(i) for i in token_ids]\n",
    "    in_len = len(token_ids)\n",
    "    ticks = np.arange(0, in_len)\n",
    "\n",
    "    model.to(device)\n",
    "    model.eval()\n",
    "\n",
    "    in_batch = torch.tensor(token_ids).unsqueeze(0).to(device)\n",
    "    model(in_batch)\n",
    "\n",
    "    for module in model.modules():\n",
    "        if isinstance(module, MyMultiheadSelfAttention):\n",
    "            cur_last_attention_map = module.last_attention_map[0].cpu().numpy()\n",
    "            n_heads = cur_last_attention_map.shape[-1]\n",
    "            n_heads_to_vis = min(n_heads, max_heads)\n",
    "\n",
    "            fig, axes = plt.subplots(1, n_heads_to_vis)\n",
    "            fig.set_size_inches(figsize)\n",
    "            for head_i in range(n_heads_to_vis):\n",
    "                ax = axes[head_i]\n",
    "                ax.imshow(cur_last_attention_map[..., head_i])\n",
    "\n",
    "                ax.set_yticks(ticks)\n",
    "                ax.set_ylim(bottom=in_len - 0.5, top=-0.5)\n",
    "                ax.set_yticklabels(token_strs)\n",
    "\n",
    "                ax.set_xticks(ticks)\n",
    "                ax.set_xticklabels(token_strs)"
   ]
  },
  {
   "cell_type": "code",
   "execution_count": 43,
   "metadata": {},
   "outputs": [
    {
     "data": {
      "image/png": "[encoded data removed]",
      "text/plain": [
       "<Figure size 1152x720 with 2 Axes>"
      ]
     },
     "metadata": {
      "needs_background": "light"
     },
     "output_type": "display_data"
    },
    {
     "data": {
      "image/png": "[encoded data removed]",
      "text/plain": [
       "<Figure size 1152x720 with 2 Axes>"
      ]
     },
     "metadata": {
      "needs_background": "light"
     },
     "output_type": "display_data"
    },
    {
     "data": {
      "image/png": "[encoded data removed]",
      "text/plain": [
       "<Figure size 1152x720 with 2 Axes>"
      ]
     },
     "metadata": {
      "needs_background": "light"
     },
     "output_type": "display_data"
    }
   ],
   "source": [
    "plot_attention_maps(my_transf_model, 'сказал Кутузов, оглядывая Бонапарта', tokenizer)"
   ]
  },
  {
   "cell_type": "code",
   "execution_count": null,
   "metadata": {},
   "outputs": [],
   "source": []
  },
  {
   "cell_type": "code",
   "execution_count": null,
   "metadata": {},
   "outputs": [],
   "source": []
  },
  {
   "cell_type": "code",
   "execution_count": null,
   "metadata": {},
   "outputs": [],
   "source": []
  },
  {
   "cell_type": "code",
   "execution_count": null,
   "metadata": {},
   "outputs": [],
   "source": []
  },
  {
   "cell_type": "code",
   "execution_count": null,
   "metadata": {},
   "outputs": [],
   "source": []
  },
  {
   "cell_type": "code",
   "execution_count": null,
   "metadata": {},
   "outputs": [],
   "source": []
  },
  {
   "cell_type": "code",
   "execution_count": null,
   "metadata": {},
   "outputs": [],
   "source": []
  },
  {
   "cell_type": "code",
   "execution_count": null,
   "metadata": {},
   "outputs": [],
   "source": []
  },
  {
   "cell_type": "code",
   "execution_count": null,
   "metadata": {},
   "outputs": [],
   "source": []
  }
 ],
 "metadata": {
  "kernelspec": {
   "display_name": "Python 3",
   "language": "python",
   "name": "python3"
  },
  "language_info": {
   "codemirror_mode": {
    "name": "ipython",
    "version": 3
   },
   "file_extension": ".py",
   "mimetype": "text/x-python",
   "name": "python",
   "nbconvert_exporter": "python",
   "pygments_lexer": "ipython3",
   "version": "3.6.9"
  }
 },
 "nbformat": 4,
 "nbformat_minor": 4
}
