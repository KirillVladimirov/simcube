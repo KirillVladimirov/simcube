{
 "cells": [
  {
   "cell_type": "code",
   "execution_count": 2,
   "metadata": {},
   "outputs": [],
   "source": [
    "%load_ext autoreload\n",
    "%autoreload 2\n",
    "\n",
    "import warnings\n",
    "warnings.filterwarnings('ignore')\n",
    "\n",
    "import os\n",
    "\n",
    "import numpy as np\n",
    "import matplotlib.pyplot as plt\n",
    "%matplotlib inline\n",
    "\n",
    "import torch, torch.nn as nn\n",
    "import torch.nn.functional as F\n",
    "from torch.autograd import Variable\n",
    "\n",
    "from IPython.display import clear_output\n",
    "from random import sample\n",
    "\n",
    "plt.rcParams[\"figure.figsize\"] = (15,10)"
   ]
  },
  {
   "cell_type": "markdown",
   "metadata": {},
   "source": [
    "## Генерация текста с помощью RNN"
   ]
  },
  {
   "cell_type": "code",
   "execution_count": 3,
   "metadata": {},
   "outputs": [],
   "source": [
    "# Если Вы запускаете ноутбук на colab или kaggle, добавьте в начало пути ./stepik-dl-nlp\n",
    "with open('../../data/raw/russian_names.txt') as input_file:\n",
    "    names = input_file.read()[:-1].split('\\n')\n",
    "    names = [' ' + line for line in names]"
   ]
  },
  {
   "cell_type": "code",
   "execution_count": 4,
   "metadata": {},
   "outputs": [
    {
     "data": {
      "text/plain": [
       "[' Ababko', ' Abaev', ' Abagyan', ' Abaidulin', ' Abaidullin']"
      ]
     },
     "execution_count": 4,
     "metadata": {},
     "output_type": "execute_result"
    }
   ],
   "source": [
    "names[:5]"
   ]
  },
  {
   "cell_type": "code",
   "execution_count": 5,
   "metadata": {},
   "outputs": [
    {
     "data": {
      "text/plain": [
       "9384"
      ]
     },
     "execution_count": 5,
     "metadata": {},
     "output_type": "execute_result"
    }
   ],
   "source": [
    "len(names)"
   ]
  },
  {
   "cell_type": "code",
   "execution_count": 6,
   "metadata": {},
   "outputs": [
    {
     "data": {
      "text/plain": [
       "21"
      ]
     },
     "execution_count": 6,
     "metadata": {},
     "output_type": "execute_result"
    }
   ],
   "source": [
    "max(map(len, names))"
   ]
  },
  {
   "cell_type": "code",
   "execution_count": 7,
   "metadata": {},
   "outputs": [
    {
     "data": {
      "image/png": "[encoded data removed]",
      "text/plain": [
       "<Figure size 1080x720 with 1 Axes>"
      ]
     },
     "metadata": {
      "needs_background": "light"
     },
     "output_type": "display_data"
    }
   ],
   "source": [
    "plt.title('Name length distribution')\n",
    "plt.hist(list(map(len, names)), bins=20);\n",
    "plt.yscale(\"log\")"
   ]
  },
  {
   "cell_type": "markdown",
   "metadata": {},
   "source": [
    "## Препроцессинг"
   ]
  },
  {
   "cell_type": "code",
   "execution_count": 8,
   "metadata": {},
   "outputs": [
    {
     "name": "stdout",
     "output_type": "stream",
     "text": [
      "num_tokens: 51\n"
     ]
    }
   ],
   "source": [
    "#all unique characters go here\n",
    "tokens = list(set(''.join(names)))\n",
    "\n",
    "num_tokens = len(tokens)\n",
    "print ('num_tokens:', num_tokens)"
   ]
  },
  {
   "cell_type": "code",
   "execution_count": 9,
   "metadata": {},
   "outputs": [],
   "source": [
    "token_to_id = {token: idx for idx, token in enumerate(tokens)}"
   ]
  },
  {
   "cell_type": "code",
   "execution_count": 10,
   "metadata": {},
   "outputs": [
    {
     "data": {
      "text/plain": [
       "17"
      ]
     },
     "execution_count": 10,
     "metadata": {},
     "output_type": "execute_result"
    }
   ],
   "source": [
    "token_to_id[' ']"
   ]
  },
  {
   "cell_type": "code",
   "execution_count": 11,
   "metadata": {},
   "outputs": [
    {
     "data": {
      "text/plain": [
       "array([[17, 17, 17, 17, 17, 17, 17, 17, 17, 17],\n",
       "       [17, 17, 17, 17, 17, 17, 17, 17, 17, 17],\n",
       "       [17, 17, 17, 17, 17, 17, 17, 17, 17, 17],\n",
       "       [17, 17, 17, 17, 17, 17, 17, 17, 17, 17],\n",
       "       [17, 17, 17, 17, 17, 17, 17, 17, 17, 17]], dtype=int32)"
      ]
     },
     "execution_count": 11,
     "metadata": {},
     "output_type": "execute_result"
    }
   ],
   "source": [
    "# Создание матрицы из пробельных элементов\n",
    "np.zeros([5, 10], 'int32') + token_to_id[' ']"
   ]
  },
  {
   "cell_type": "code",
   "execution_count": 12,
   "metadata": {},
   "outputs": [
    {
     "name": "stdout",
     "output_type": "stream",
     "text": [
      "Seems alright!\n"
     ]
    }
   ],
   "source": [
    "assert len(tokens) == len(token_to_id), \"dictionaries must have same size\"\n",
    "\n",
    "for i in range(num_tokens):\n",
    "    assert token_to_id[tokens[i]] == i, \"token identifier must be it's position in tokens list\"\n",
    "\n",
    "print(\"Seems alright!\")"
   ]
  },
  {
   "cell_type": "code",
   "execution_count": 13,
   "metadata": {},
   "outputs": [],
   "source": [
    "def to_matrix(data, token_to_id, max_len=None, dtype='int32', batch_first = True):\n",
    "    \"\"\"Casts a list of names into rnn-digestable matrix\"\"\"\n",
    "    \n",
    "    max_len = max_len or max(map(len, data))\n",
    "    data_ix = np.zeros([len(data), max_len], dtype) + token_to_id[' ']\n",
    "\n",
    "    for i in range(len(data)):\n",
    "        line_ix = [token_to_id[char] for char in data[i]]\n",
    "        data_ix[i, :len(line_ix[:max_len])] = line_ix[:max_len]\n",
    "        \n",
    "    if not batch_first: # convert [batch, time] into [time, batch]\n",
    "        data_ix = np.transpose(data_ix)\n",
    "\n",
    "    return data_ix"
   ]
  },
  {
   "cell_type": "code",
   "execution_count": 14,
   "metadata": {},
   "outputs": [
    {
     "name": "stdout",
     "output_type": "stream",
     "text": [
      " Ababko\n",
      " Chihachev\n",
      " Isaikov\n",
      " Nakhamkin\n",
      " Utropov\n",
      "[[17 39 24 25 24 23 15 17 17 17]\n",
      " [17  1 19 12 19 25 41 19  9 31]\n",
      " [17 20  0 25 12 23 15 31 17 17]\n",
      " [17  8 25 23 19 25  2 23 12 40]\n",
      " [17 13  4 32 15 36 15 31 17 17]]\n"
     ]
    }
   ],
   "source": [
    "#Example: cast 4 names to matrices, pad with zeros\n",
    "print('\\n'.join(names[::2000]))\n",
    "print(to_matrix(names[::2000], token_to_id))"
   ]
  },
  {
   "cell_type": "code",
   "execution_count": null,
   "metadata": {},
   "outputs": [],
   "source": []
  },
  {
   "cell_type": "code",
   "execution_count": 15,
   "metadata": {},
   "outputs": [],
   "source": [
    "class CharRNNCell(nn.Module):\n",
    "    \"\"\"\n",
    "    Implement the scheme above as torch module\n",
    "    \"\"\"\n",
    "    def __init__(self, num_tokens=len(tokens), embedding_size=16, rnn_num_units=64):\n",
    "        super(self.__class__,self).__init__()\n",
    "        self.num_units = rnn_num_units\n",
    "        \n",
    "        self.embedding = nn.Embedding(num_tokens, embedding_size)\n",
    "        self.rnn_update = nn.Linear(embedding_size + rnn_num_units, rnn_num_units)\n",
    "        self.rnn_to_logits = nn.Linear(rnn_num_units, num_tokens)\n",
    "        \n",
    "    def forward(self, x, h_prev):\n",
    "        \"\"\"\n",
    "        This method computes h_next(x, h_prev) and log P(x_next | h_next)\n",
    "        We'll call it repeatedly to produce the whole sequence.\n",
    "        \n",
    "        :param x: batch of character ids, variable containing vector of int64\n",
    "        :param h_prev: previous rnn hidden states, variable containing matrix [batch, rnn_num_units] of float32\n",
    "        \"\"\"\n",
    "        # get vector embedding of x\n",
    "        x_emb = self.embedding(x)\n",
    "        \n",
    "        # compute next hidden state using self.rnn_update\n",
    "        x_and_h = torch.cat([x_emb, h_prev], dim=1) #YOUR CODE HERE\n",
    "        h_next = self.rnn_update(x_and_h) #YOUR CODE HERE\n",
    "        \n",
    "        h_next = F.tanh(h_next)\n",
    "        \n",
    "        assert h_next.size() == h_prev.size()\n",
    "        \n",
    "        #compute logits for next character probs\n",
    "        logits = self.rnn_to_logits(h_next)\n",
    "        \n",
    "        return h_next, F.log_softmax(logits, -1)\n",
    "    \n",
    "    def initial_state(self, batch_size):\n",
    "        \"\"\" return rnn state before it processes first input (aka h0) \"\"\"\n",
    "        return Variable(torch.zeros(batch_size, self.num_units))"
   ]
  },
  {
   "cell_type": "code",
   "execution_count": 23,
   "metadata": {},
   "outputs": [],
   "source": [
    "char_rnn = CharRNNCell(num_tokens, 16, 64)"
   ]
  },
  {
   "cell_type": "code",
   "execution_count": 43,
   "metadata": {},
   "outputs": [
    {
     "data": {
      "text/plain": [
       "9315"
      ]
     },
     "execution_count": 43,
     "metadata": {},
     "output_type": "execute_result"
    }
   ],
   "source": [
    "sum(t.numel() for t in char_rnn.parameters())"
   ]
  },
  {
   "cell_type": "code",
   "execution_count": 25,
   "metadata": {},
   "outputs": [
    {
     "data": {
      "text/plain": [
       "array([[12, 38, 40, 26, 40, 32, 11, 12, 12, 12],\n",
       "       [12, 43,  3, 10,  3, 26, 24,  3, 15, 50],\n",
       "       [12, 31, 33, 26, 10, 32, 11, 50, 12, 12],\n",
       "       [12, 45, 26, 32,  3, 26, 44, 32, 10, 27],\n",
       "       [12, 20, 13, 28, 11, 17, 11, 50, 12, 12]], dtype=int32)"
      ]
     },
     "execution_count": 25,
     "metadata": {},
     "output_type": "execute_result"
    }
   ],
   "source": [
    "batch = to_matrix(names[::2000], token_to_id)\n",
    "batch"
   ]
  },
  {
   "cell_type": "code",
   "execution_count": 28,
   "metadata": {},
   "outputs": [
    {
     "data": {
      "text/plain": [
       "array([12, 12, 12, 12, 12], dtype=int32)"
      ]
     },
     "execution_count": 28,
     "metadata": {},
     "output_type": "execute_result"
    }
   ],
   "source": [
    "inp = batch[: , 0]\n",
    "inp"
   ]
  },
  {
   "cell_type": "code",
   "execution_count": 33,
   "metadata": {},
   "outputs": [
    {
     "data": {
      "text/plain": [
       "(5,)"
      ]
     },
     "execution_count": 33,
     "metadata": {},
     "output_type": "execute_result"
    }
   ],
   "source": [
    "inp.shape"
   ]
  },
  {
   "cell_type": "code",
   "execution_count": 30,
   "metadata": {},
   "outputs": [
    {
     "data": {
      "text/plain": [
       "tensor([[ 0.3901,  0.3248,  1.0714,  0.1552, -0.2723, -0.5799, -0.5407, -1.7678,\n",
       "          1.0579,  0.6705,  0.1688,  1.3666, -0.2150,  0.8479,  0.8304, -0.3768],\n",
       "        [ 0.3901,  0.3248,  1.0714,  0.1552, -0.2723, -0.5799, -0.5407, -1.7678,\n",
       "          1.0579,  0.6705,  0.1688,  1.3666, -0.2150,  0.8479,  0.8304, -0.3768],\n",
       "        [ 0.3901,  0.3248,  1.0714,  0.1552, -0.2723, -0.5799, -0.5407, -1.7678,\n",
       "          1.0579,  0.6705,  0.1688,  1.3666, -0.2150,  0.8479,  0.8304, -0.3768],\n",
       "        [ 0.3901,  0.3248,  1.0714,  0.1552, -0.2723, -0.5799, -0.5407, -1.7678,\n",
       "          1.0579,  0.6705,  0.1688,  1.3666, -0.2150,  0.8479,  0.8304, -0.3768],\n",
       "        [ 0.3901,  0.3248,  1.0714,  0.1552, -0.2723, -0.5799, -0.5407, -1.7678,\n",
       "          1.0579,  0.6705,  0.1688,  1.3666, -0.2150,  0.8479,  0.8304, -0.3768]],\n",
       "       grad_fn=<EmbeddingBackward>)"
      ]
     },
     "execution_count": 30,
     "metadata": {},
     "output_type": "execute_result"
    }
   ],
   "source": [
    "x_emb = char_rnn.embedding(torch.LongTensor(inp))\n",
    "x_emb"
   ]
  },
  {
   "cell_type": "code",
   "execution_count": 35,
   "metadata": {},
   "outputs": [
    {
     "data": {
      "text/plain": [
       "tensor([[0., 0., 0., 0., 0., 0., 0., 0., 0., 0., 0., 0., 0., 0., 0., 0., 0., 0., 0., 0., 0., 0., 0., 0.,\n",
       "         0., 0., 0., 0., 0., 0., 0., 0., 0., 0., 0., 0., 0., 0., 0., 0., 0., 0., 0., 0., 0., 0., 0., 0.,\n",
       "         0., 0., 0., 0., 0., 0., 0., 0., 0., 0., 0., 0., 0., 0., 0., 0.],\n",
       "        [0., 0., 0., 0., 0., 0., 0., 0., 0., 0., 0., 0., 0., 0., 0., 0., 0., 0., 0., 0., 0., 0., 0., 0.,\n",
       "         0., 0., 0., 0., 0., 0., 0., 0., 0., 0., 0., 0., 0., 0., 0., 0., 0., 0., 0., 0., 0., 0., 0., 0.,\n",
       "         0., 0., 0., 0., 0., 0., 0., 0., 0., 0., 0., 0., 0., 0., 0., 0.],\n",
       "        [0., 0., 0., 0., 0., 0., 0., 0., 0., 0., 0., 0., 0., 0., 0., 0., 0., 0., 0., 0., 0., 0., 0., 0.,\n",
       "         0., 0., 0., 0., 0., 0., 0., 0., 0., 0., 0., 0., 0., 0., 0., 0., 0., 0., 0., 0., 0., 0., 0., 0.,\n",
       "         0., 0., 0., 0., 0., 0., 0., 0., 0., 0., 0., 0., 0., 0., 0., 0.],\n",
       "        [0., 0., 0., 0., 0., 0., 0., 0., 0., 0., 0., 0., 0., 0., 0., 0., 0., 0., 0., 0., 0., 0., 0., 0.,\n",
       "         0., 0., 0., 0., 0., 0., 0., 0., 0., 0., 0., 0., 0., 0., 0., 0., 0., 0., 0., 0., 0., 0., 0., 0.,\n",
       "         0., 0., 0., 0., 0., 0., 0., 0., 0., 0., 0., 0., 0., 0., 0., 0.],\n",
       "        [0., 0., 0., 0., 0., 0., 0., 0., 0., 0., 0., 0., 0., 0., 0., 0., 0., 0., 0., 0., 0., 0., 0., 0.,\n",
       "         0., 0., 0., 0., 0., 0., 0., 0., 0., 0., 0., 0., 0., 0., 0., 0., 0., 0., 0., 0., 0., 0., 0., 0.,\n",
       "         0., 0., 0., 0., 0., 0., 0., 0., 0., 0., 0., 0., 0., 0., 0., 0.]])"
      ]
     },
     "execution_count": 35,
     "metadata": {},
     "output_type": "execute_result"
    }
   ],
   "source": [
    "h0 = char_rnn.initial_state(inp.size)\n",
    "h0"
   ]
  },
  {
   "cell_type": "code",
   "execution_count": 38,
   "metadata": {},
   "outputs": [
    {
     "data": {
      "text/plain": [
       "tensor([[ 0.3901,  0.3248,  1.0714,  0.1552, -0.2723, -0.5799, -0.5407, -1.7678,\n",
       "          1.0579,  0.6705,  0.1688,  1.3666, -0.2150,  0.8479,  0.8304, -0.3768,\n",
       "          0.0000,  0.0000,  0.0000,  0.0000,  0.0000,  0.0000,  0.0000,  0.0000,\n",
       "          0.0000,  0.0000,  0.0000,  0.0000,  0.0000,  0.0000,  0.0000,  0.0000,\n",
       "          0.0000,  0.0000,  0.0000,  0.0000,  0.0000,  0.0000,  0.0000,  0.0000,\n",
       "          0.0000,  0.0000,  0.0000,  0.0000,  0.0000,  0.0000,  0.0000,  0.0000,\n",
       "          0.0000,  0.0000,  0.0000,  0.0000,  0.0000,  0.0000,  0.0000,  0.0000,\n",
       "          0.0000,  0.0000,  0.0000,  0.0000,  0.0000,  0.0000,  0.0000,  0.0000,\n",
       "          0.0000,  0.0000,  0.0000,  0.0000,  0.0000,  0.0000,  0.0000,  0.0000,\n",
       "          0.0000,  0.0000,  0.0000,  0.0000,  0.0000,  0.0000,  0.0000,  0.0000],\n",
       "        [ 0.3901,  0.3248,  1.0714,  0.1552, -0.2723, -0.5799, -0.5407, -1.7678,\n",
       "          1.0579,  0.6705,  0.1688,  1.3666, -0.2150,  0.8479,  0.8304, -0.3768,\n",
       "          0.0000,  0.0000,  0.0000,  0.0000,  0.0000,  0.0000,  0.0000,  0.0000,\n",
       "          0.0000,  0.0000,  0.0000,  0.0000,  0.0000,  0.0000,  0.0000,  0.0000,\n",
       "          0.0000,  0.0000,  0.0000,  0.0000,  0.0000,  0.0000,  0.0000,  0.0000,\n",
       "          0.0000,  0.0000,  0.0000,  0.0000,  0.0000,  0.0000,  0.0000,  0.0000,\n",
       "          0.0000,  0.0000,  0.0000,  0.0000,  0.0000,  0.0000,  0.0000,  0.0000,\n",
       "          0.0000,  0.0000,  0.0000,  0.0000,  0.0000,  0.0000,  0.0000,  0.0000,\n",
       "          0.0000,  0.0000,  0.0000,  0.0000,  0.0000,  0.0000,  0.0000,  0.0000,\n",
       "          0.0000,  0.0000,  0.0000,  0.0000,  0.0000,  0.0000,  0.0000,  0.0000],\n",
       "        [ 0.3901,  0.3248,  1.0714,  0.1552, -0.2723, -0.5799, -0.5407, -1.7678,\n",
       "          1.0579,  0.6705,  0.1688,  1.3666, -0.2150,  0.8479,  0.8304, -0.3768,\n",
       "          0.0000,  0.0000,  0.0000,  0.0000,  0.0000,  0.0000,  0.0000,  0.0000,\n",
       "          0.0000,  0.0000,  0.0000,  0.0000,  0.0000,  0.0000,  0.0000,  0.0000,\n",
       "          0.0000,  0.0000,  0.0000,  0.0000,  0.0000,  0.0000,  0.0000,  0.0000,\n",
       "          0.0000,  0.0000,  0.0000,  0.0000,  0.0000,  0.0000,  0.0000,  0.0000,\n",
       "          0.0000,  0.0000,  0.0000,  0.0000,  0.0000,  0.0000,  0.0000,  0.0000,\n",
       "          0.0000,  0.0000,  0.0000,  0.0000,  0.0000,  0.0000,  0.0000,  0.0000,\n",
       "          0.0000,  0.0000,  0.0000,  0.0000,  0.0000,  0.0000,  0.0000,  0.0000,\n",
       "          0.0000,  0.0000,  0.0000,  0.0000,  0.0000,  0.0000,  0.0000,  0.0000],\n",
       "        [ 0.3901,  0.3248,  1.0714,  0.1552, -0.2723, -0.5799, -0.5407, -1.7678,\n",
       "          1.0579,  0.6705,  0.1688,  1.3666, -0.2150,  0.8479,  0.8304, -0.3768,\n",
       "          0.0000,  0.0000,  0.0000,  0.0000,  0.0000,  0.0000,  0.0000,  0.0000,\n",
       "          0.0000,  0.0000,  0.0000,  0.0000,  0.0000,  0.0000,  0.0000,  0.0000,\n",
       "          0.0000,  0.0000,  0.0000,  0.0000,  0.0000,  0.0000,  0.0000,  0.0000,\n",
       "          0.0000,  0.0000,  0.0000,  0.0000,  0.0000,  0.0000,  0.0000,  0.0000,\n",
       "          0.0000,  0.0000,  0.0000,  0.0000,  0.0000,  0.0000,  0.0000,  0.0000,\n",
       "          0.0000,  0.0000,  0.0000,  0.0000,  0.0000,  0.0000,  0.0000,  0.0000,\n",
       "          0.0000,  0.0000,  0.0000,  0.0000,  0.0000,  0.0000,  0.0000,  0.0000,\n",
       "          0.0000,  0.0000,  0.0000,  0.0000,  0.0000,  0.0000,  0.0000,  0.0000],\n",
       "        [ 0.3901,  0.3248,  1.0714,  0.1552, -0.2723, -0.5799, -0.5407, -1.7678,\n",
       "          1.0579,  0.6705,  0.1688,  1.3666, -0.2150,  0.8479,  0.8304, -0.3768,\n",
       "          0.0000,  0.0000,  0.0000,  0.0000,  0.0000,  0.0000,  0.0000,  0.0000,\n",
       "          0.0000,  0.0000,  0.0000,  0.0000,  0.0000,  0.0000,  0.0000,  0.0000,\n",
       "          0.0000,  0.0000,  0.0000,  0.0000,  0.0000,  0.0000,  0.0000,  0.0000,\n",
       "          0.0000,  0.0000,  0.0000,  0.0000,  0.0000,  0.0000,  0.0000,  0.0000,\n",
       "          0.0000,  0.0000,  0.0000,  0.0000,  0.0000,  0.0000,  0.0000,  0.0000,\n",
       "          0.0000,  0.0000,  0.0000,  0.0000,  0.0000,  0.0000,  0.0000,  0.0000,\n",
       "          0.0000,  0.0000,  0.0000,  0.0000,  0.0000,  0.0000,  0.0000,  0.0000,\n",
       "          0.0000,  0.0000,  0.0000,  0.0000,  0.0000,  0.0000,  0.0000,  0.0000]],\n",
       "       grad_fn=<CatBackward>)"
      ]
     },
     "execution_count": 38,
     "metadata": {},
     "output_type": "execute_result"
    }
   ],
   "source": [
    "l1 = torch.cat([x_emb, h0], dim=1)\n",
    "l1"
   ]
  },
  {
   "cell_type": "code",
   "execution_count": 40,
   "metadata": {},
   "outputs": [
    {
     "data": {
      "text/plain": [
       "torch.Size([5, 80])"
      ]
     },
     "execution_count": 40,
     "metadata": {},
     "output_type": "execute_result"
    }
   ],
   "source": [
    "l1.size()"
   ]
  },
  {
   "cell_type": "code",
   "execution_count": 44,
   "metadata": {},
   "outputs": [
    {
     "data": {
      "text/plain": [
       "tensor([[ 0.0776,  0.0523,  0.2613, -0.0008, -0.1856,  0.1299, -0.2940, -0.2944,\n",
       "          0.0318,  0.0820, -0.2477,  0.2265,  0.0541,  0.0404,  0.0517, -0.4075,\n",
       "          0.4332, -0.3924,  0.3622, -0.0440,  0.3989, -0.0227,  0.4254, -0.2303,\n",
       "         -0.2139,  0.3318,  0.0992, -0.3486, -0.0106,  0.2222, -0.2136,  0.2970,\n",
       "         -0.1860, -0.3328, -0.4963,  0.3921, -0.3033, -0.0415, -0.1516, -0.1799,\n",
       "          0.2754, -0.0751,  0.1060, -0.4273,  0.1153, -0.0657,  0.0458,  0.1649,\n",
       "          0.2454,  0.2234, -0.0257, -0.3205, -0.1437,  0.2978,  0.2131, -0.1713,\n",
       "          0.0008,  0.0316, -0.2648,  0.1251,  0.3118, -0.2417,  0.1199, -0.1904],\n",
       "        [ 0.0776,  0.0523,  0.2613, -0.0008, -0.1856,  0.1299, -0.2940, -0.2944,\n",
       "          0.0318,  0.0820, -0.2477,  0.2265,  0.0541,  0.0404,  0.0517, -0.4075,\n",
       "          0.4332, -0.3924,  0.3622, -0.0440,  0.3989, -0.0227,  0.4254, -0.2303,\n",
       "         -0.2139,  0.3318,  0.0992, -0.3486, -0.0106,  0.2222, -0.2136,  0.2970,\n",
       "         -0.1860, -0.3328, -0.4963,  0.3921, -0.3033, -0.0415, -0.1516, -0.1799,\n",
       "          0.2754, -0.0751,  0.1060, -0.4273,  0.1153, -0.0657,  0.0458,  0.1649,\n",
       "          0.2454,  0.2234, -0.0257, -0.3205, -0.1437,  0.2978,  0.2131, -0.1713,\n",
       "          0.0008,  0.0316, -0.2648,  0.1251,  0.3118, -0.2417,  0.1199, -0.1904],\n",
       "        [ 0.0776,  0.0523,  0.2613, -0.0008, -0.1856,  0.1299, -0.2940, -0.2944,\n",
       "          0.0318,  0.0820, -0.2477,  0.2265,  0.0541,  0.0404,  0.0517, -0.4075,\n",
       "          0.4332, -0.3924,  0.3622, -0.0440,  0.3989, -0.0227,  0.4254, -0.2303,\n",
       "         -0.2139,  0.3318,  0.0992, -0.3486, -0.0106,  0.2222, -0.2136,  0.2970,\n",
       "         -0.1860, -0.3328, -0.4963,  0.3921, -0.3033, -0.0415, -0.1516, -0.1799,\n",
       "          0.2754, -0.0751,  0.1060, -0.4273,  0.1153, -0.0657,  0.0458,  0.1649,\n",
       "          0.2454,  0.2234, -0.0257, -0.3205, -0.1437,  0.2978,  0.2131, -0.1713,\n",
       "          0.0008,  0.0316, -0.2648,  0.1251,  0.3118, -0.2417,  0.1199, -0.1904],\n",
       "        [ 0.0776,  0.0523,  0.2613, -0.0008, -0.1856,  0.1299, -0.2940, -0.2944,\n",
       "          0.0318,  0.0820, -0.2477,  0.2265,  0.0541,  0.0404,  0.0517, -0.4075,\n",
       "          0.4332, -0.3924,  0.3622, -0.0440,  0.3989, -0.0227,  0.4254, -0.2303,\n",
       "         -0.2139,  0.3318,  0.0992, -0.3486, -0.0106,  0.2222, -0.2136,  0.2970,\n",
       "         -0.1860, -0.3328, -0.4963,  0.3921, -0.3033, -0.0415, -0.1516, -0.1799,\n",
       "          0.2754, -0.0751,  0.1060, -0.4273,  0.1153, -0.0657,  0.0458,  0.1649,\n",
       "          0.2454,  0.2234, -0.0257, -0.3205, -0.1437,  0.2978,  0.2131, -0.1713,\n",
       "          0.0008,  0.0316, -0.2648,  0.1251,  0.3118, -0.2417,  0.1199, -0.1904],\n",
       "        [ 0.0776,  0.0523,  0.2613, -0.0008, -0.1856,  0.1299, -0.2940, -0.2944,\n",
       "          0.0318,  0.0820, -0.2477,  0.2265,  0.0541,  0.0404,  0.0517, -0.4075,\n",
       "          0.4332, -0.3924,  0.3622, -0.0440,  0.3989, -0.0227,  0.4254, -0.2303,\n",
       "         -0.2139,  0.3318,  0.0992, -0.3486, -0.0106,  0.2222, -0.2136,  0.2970,\n",
       "         -0.1860, -0.3328, -0.4963,  0.3921, -0.3033, -0.0415, -0.1516, -0.1799,\n",
       "          0.2754, -0.0751,  0.1060, -0.4273,  0.1153, -0.0657,  0.0458,  0.1649,\n",
       "          0.2454,  0.2234, -0.0257, -0.3205, -0.1437,  0.2978,  0.2131, -0.1713,\n",
       "          0.0008,  0.0316, -0.2648,  0.1251,  0.3118, -0.2417,  0.1199, -0.1904]],\n",
       "       grad_fn=<AddmmBackward>)"
      ]
     },
     "execution_count": 44,
     "metadata": {},
     "output_type": "execute_result"
    }
   ],
   "source": [
    "h_next = char_rnn.rnn_update(l1)\n",
    "h_next"
   ]
  },
  {
   "cell_type": "code",
   "execution_count": 45,
   "metadata": {},
   "outputs": [
    {
     "data": {
      "text/plain": [
       "tensor([[ 0.0775,  0.0522,  0.2555, -0.0008, -0.1835,  0.1292, -0.2858, -0.2862,\n",
       "          0.0318,  0.0818, -0.2427,  0.2227,  0.0540,  0.0403,  0.0517, -0.3864,\n",
       "          0.4080, -0.3734,  0.3471, -0.0440,  0.3790, -0.0227,  0.4015, -0.2263,\n",
       "         -0.2107,  0.3201,  0.0989, -0.3351, -0.0106,  0.2186, -0.2104,  0.2886,\n",
       "         -0.1839, -0.3211, -0.4592,  0.3732, -0.2943, -0.0414, -0.1505, -0.1780,\n",
       "          0.2687, -0.0749,  0.1056, -0.4031,  0.1148, -0.0656,  0.0457,  0.1635,\n",
       "          0.2406,  0.2197, -0.0257, -0.3100, -0.1427,  0.2893,  0.2099, -0.1696,\n",
       "          0.0008,  0.0316, -0.2588,  0.1245,  0.3021, -0.2371,  0.1193, -0.1881],\n",
       "        [ 0.0775,  0.0522,  0.2555, -0.0008, -0.1835,  0.1292, -0.2858, -0.2862,\n",
       "          0.0318,  0.0818, -0.2427,  0.2227,  0.0540,  0.0403,  0.0517, -0.3864,\n",
       "          0.4080, -0.3734,  0.3471, -0.0440,  0.3790, -0.0227,  0.4015, -0.2263,\n",
       "         -0.2107,  0.3201,  0.0989, -0.3351, -0.0106,  0.2186, -0.2104,  0.2886,\n",
       "         -0.1839, -0.3211, -0.4592,  0.3732, -0.2943, -0.0414, -0.1505, -0.1780,\n",
       "          0.2687, -0.0749,  0.1056, -0.4031,  0.1148, -0.0656,  0.0457,  0.1635,\n",
       "          0.2406,  0.2197, -0.0257, -0.3100, -0.1427,  0.2893,  0.2099, -0.1696,\n",
       "          0.0008,  0.0316, -0.2588,  0.1245,  0.3021, -0.2371,  0.1193, -0.1881],\n",
       "        [ 0.0775,  0.0522,  0.2555, -0.0008, -0.1835,  0.1292, -0.2858, -0.2862,\n",
       "          0.0318,  0.0818, -0.2427,  0.2227,  0.0540,  0.0403,  0.0517, -0.3864,\n",
       "          0.4080, -0.3734,  0.3471, -0.0440,  0.3790, -0.0227,  0.4015, -0.2263,\n",
       "         -0.2107,  0.3201,  0.0989, -0.3351, -0.0106,  0.2186, -0.2104,  0.2886,\n",
       "         -0.1839, -0.3211, -0.4592,  0.3732, -0.2943, -0.0414, -0.1505, -0.1780,\n",
       "          0.2687, -0.0749,  0.1056, -0.4031,  0.1148, -0.0656,  0.0457,  0.1635,\n",
       "          0.2406,  0.2197, -0.0257, -0.3100, -0.1427,  0.2893,  0.2099, -0.1696,\n",
       "          0.0008,  0.0316, -0.2588,  0.1245,  0.3021, -0.2371,  0.1193, -0.1881],\n",
       "        [ 0.0775,  0.0522,  0.2555, -0.0008, -0.1835,  0.1292, -0.2858, -0.2862,\n",
       "          0.0318,  0.0818, -0.2427,  0.2227,  0.0540,  0.0403,  0.0517, -0.3864,\n",
       "          0.4080, -0.3734,  0.3471, -0.0440,  0.3790, -0.0227,  0.4015, -0.2263,\n",
       "         -0.2107,  0.3201,  0.0989, -0.3351, -0.0106,  0.2186, -0.2104,  0.2886,\n",
       "         -0.1839, -0.3211, -0.4592,  0.3732, -0.2943, -0.0414, -0.1505, -0.1780,\n",
       "          0.2687, -0.0749,  0.1056, -0.4031,  0.1148, -0.0656,  0.0457,  0.1635,\n",
       "          0.2406,  0.2197, -0.0257, -0.3100, -0.1427,  0.2893,  0.2099, -0.1696,\n",
       "          0.0008,  0.0316, -0.2588,  0.1245,  0.3021, -0.2371,  0.1193, -0.1881],\n",
       "        [ 0.0775,  0.0522,  0.2555, -0.0008, -0.1835,  0.1292, -0.2858, -0.2862,\n",
       "          0.0318,  0.0818, -0.2427,  0.2227,  0.0540,  0.0403,  0.0517, -0.3864,\n",
       "          0.4080, -0.3734,  0.3471, -0.0440,  0.3790, -0.0227,  0.4015, -0.2263,\n",
       "         -0.2107,  0.3201,  0.0989, -0.3351, -0.0106,  0.2186, -0.2104,  0.2886,\n",
       "         -0.1839, -0.3211, -0.4592,  0.3732, -0.2943, -0.0414, -0.1505, -0.1780,\n",
       "          0.2687, -0.0749,  0.1056, -0.4031,  0.1148, -0.0656,  0.0457,  0.1635,\n",
       "          0.2406,  0.2197, -0.0257, -0.3100, -0.1427,  0.2893,  0.2099, -0.1696,\n",
       "          0.0008,  0.0316, -0.2588,  0.1245,  0.3021, -0.2371,  0.1193, -0.1881]],\n",
       "       grad_fn=<TanhBackward>)"
      ]
     },
     "execution_count": 45,
     "metadata": {},
     "output_type": "execute_result"
    }
   ],
   "source": [
    "h_next = F.tanh(h_next)\n",
    "h_next"
   ]
  },
  {
   "cell_type": "code",
   "execution_count": 46,
   "metadata": {},
   "outputs": [
    {
     "data": {
      "text/plain": [
       "tensor([[-0.0048,  0.1866,  0.2054,  0.1296,  0.1129, -0.4171,  0.1326,  0.0375,\n",
       "          0.3578,  0.0793,  0.0236, -0.0038,  0.1010,  0.0122, -0.0866, -0.0330,\n",
       "          0.0072,  0.0787, -0.0778, -0.1932, -0.1322,  0.1510, -0.1436,  0.0562,\n",
       "          0.1397,  0.1126, -0.0769,  0.1422,  0.0673, -0.2324,  0.0437,  0.0891,\n",
       "         -0.1790, -0.0217,  0.0529, -0.2338,  0.2361, -0.2565,  0.1758,  0.2131,\n",
       "         -0.0592, -0.1109, -0.3076,  0.0822,  0.1606, -0.2114,  0.3347, -0.0340,\n",
       "          0.2252, -0.1721,  0.1129],\n",
       "        [-0.0048,  0.1866,  0.2054,  0.1296,  0.1129, -0.4171,  0.1326,  0.0375,\n",
       "          0.3578,  0.0793,  0.0236, -0.0038,  0.1010,  0.0122, -0.0866, -0.0330,\n",
       "          0.0072,  0.0787, -0.0778, -0.1932, -0.1322,  0.1510, -0.1436,  0.0562,\n",
       "          0.1397,  0.1126, -0.0769,  0.1422,  0.0673, -0.2324,  0.0437,  0.0891,\n",
       "         -0.1790, -0.0217,  0.0529, -0.2338,  0.2361, -0.2565,  0.1758,  0.2131,\n",
       "         -0.0592, -0.1109, -0.3076,  0.0822,  0.1606, -0.2114,  0.3347, -0.0340,\n",
       "          0.2252, -0.1721,  0.1129],\n",
       "        [-0.0048,  0.1866,  0.2054,  0.1296,  0.1129, -0.4171,  0.1326,  0.0375,\n",
       "          0.3578,  0.0793,  0.0236, -0.0038,  0.1010,  0.0122, -0.0866, -0.0330,\n",
       "          0.0072,  0.0787, -0.0778, -0.1932, -0.1322,  0.1510, -0.1436,  0.0562,\n",
       "          0.1397,  0.1126, -0.0769,  0.1422,  0.0673, -0.2324,  0.0437,  0.0891,\n",
       "         -0.1790, -0.0217,  0.0529, -0.2338,  0.2361, -0.2565,  0.1758,  0.2131,\n",
       "         -0.0592, -0.1109, -0.3076,  0.0822,  0.1606, -0.2114,  0.3347, -0.0340,\n",
       "          0.2252, -0.1721,  0.1129],\n",
       "        [-0.0048,  0.1866,  0.2054,  0.1296,  0.1129, -0.4171,  0.1326,  0.0375,\n",
       "          0.3578,  0.0793,  0.0236, -0.0038,  0.1010,  0.0122, -0.0866, -0.0330,\n",
       "          0.0072,  0.0787, -0.0778, -0.1932, -0.1322,  0.1510, -0.1436,  0.0562,\n",
       "          0.1397,  0.1126, -0.0769,  0.1422,  0.0673, -0.2324,  0.0437,  0.0891,\n",
       "         -0.1790, -0.0217,  0.0529, -0.2338,  0.2361, -0.2565,  0.1758,  0.2131,\n",
       "         -0.0592, -0.1109, -0.3076,  0.0822,  0.1606, -0.2114,  0.3347, -0.0340,\n",
       "          0.2252, -0.1721,  0.1129],\n",
       "        [-0.0048,  0.1866,  0.2054,  0.1296,  0.1129, -0.4171,  0.1326,  0.0375,\n",
       "          0.3578,  0.0793,  0.0236, -0.0038,  0.1010,  0.0122, -0.0866, -0.0330,\n",
       "          0.0072,  0.0787, -0.0778, -0.1932, -0.1322,  0.1510, -0.1436,  0.0562,\n",
       "          0.1397,  0.1126, -0.0769,  0.1422,  0.0673, -0.2324,  0.0437,  0.0891,\n",
       "         -0.1790, -0.0217,  0.0529, -0.2338,  0.2361, -0.2565,  0.1758,  0.2131,\n",
       "         -0.0592, -0.1109, -0.3076,  0.0822,  0.1606, -0.2114,  0.3347, -0.0340,\n",
       "          0.2252, -0.1721,  0.1129]], grad_fn=<AddmmBackward>)"
      ]
     },
     "execution_count": 46,
     "metadata": {},
     "output_type": "execute_result"
    }
   ],
   "source": [
    "logits = char_rnn.rnn_to_logits(h_next)\n",
    "logits"
   ]
  },
  {
   "cell_type": "code",
   "execution_count": 60,
   "metadata": {},
   "outputs": [
    {
     "data": {
      "text/plain": [
       "tensor([[-3.9668, -3.7754, -3.7566, -3.8323, -3.8491, -4.3791, -3.8293, -3.9245,\n",
       "         -3.6042, -3.8827, -3.9384, -3.9658, -3.8610, -3.9498, -4.0486, -3.9950,\n",
       "         -3.9548, -3.8833, -4.0398, -4.1551, -4.0941, -3.8110, -4.1056, -3.9058,\n",
       "         -3.8222, -3.8493, -4.0388, -3.8198, -3.8947, -4.1944, -3.9183, -3.8729,\n",
       "         -4.1410, -3.9837, -3.9091, -4.1958, -3.7259, -4.2185, -3.7861, -3.7489,\n",
       "         -4.0211, -4.0729, -4.2696, -3.8798, -3.8014, -4.1734, -3.6273, -3.9960,\n",
       "         -3.7367, -4.1341, -3.8491],\n",
       "        [-3.9668, -3.7754, -3.7566, -3.8323, -3.8491, -4.3791, -3.8293, -3.9245,\n",
       "         -3.6042, -3.8827, -3.9384, -3.9658, -3.8610, -3.9498, -4.0486, -3.9950,\n",
       "         -3.9548, -3.8833, -4.0398, -4.1551, -4.0941, -3.8110, -4.1056, -3.9058,\n",
       "         -3.8222, -3.8493, -4.0388, -3.8198, -3.8947, -4.1944, -3.9183, -3.8729,\n",
       "         -4.1410, -3.9837, -3.9091, -4.1958, -3.7259, -4.2185, -3.7861, -3.7489,\n",
       "         -4.0211, -4.0729, -4.2696, -3.8798, -3.8014, -4.1734, -3.6273, -3.9960,\n",
       "         -3.7367, -4.1341, -3.8491],\n",
       "        [-3.9668, -3.7754, -3.7566, -3.8323, -3.8491, -4.3791, -3.8293, -3.9245,\n",
       "         -3.6042, -3.8827, -3.9384, -3.9658, -3.8610, -3.9498, -4.0486, -3.9950,\n",
       "         -3.9548, -3.8833, -4.0398, -4.1551, -4.0941, -3.8110, -4.1056, -3.9058,\n",
       "         -3.8222, -3.8493, -4.0388, -3.8198, -3.8947, -4.1944, -3.9183, -3.8729,\n",
       "         -4.1410, -3.9837, -3.9091, -4.1958, -3.7259, -4.2185, -3.7861, -3.7489,\n",
       "         -4.0211, -4.0729, -4.2696, -3.8798, -3.8014, -4.1734, -3.6273, -3.9960,\n",
       "         -3.7367, -4.1341, -3.8491],\n",
       "        [-3.9668, -3.7754, -3.7566, -3.8323, -3.8491, -4.3791, -3.8293, -3.9245,\n",
       "         -3.6042, -3.8827, -3.9384, -3.9658, -3.8610, -3.9498, -4.0486, -3.9950,\n",
       "         -3.9548, -3.8833, -4.0398, -4.1551, -4.0941, -3.8110, -4.1056, -3.9058,\n",
       "         -3.8222, -3.8493, -4.0388, -3.8198, -3.8947, -4.1944, -3.9183, -3.8729,\n",
       "         -4.1410, -3.9837, -3.9091, -4.1958, -3.7259, -4.2185, -3.7861, -3.7489,\n",
       "         -4.0211, -4.0729, -4.2696, -3.8798, -3.8014, -4.1734, -3.6273, -3.9960,\n",
       "         -3.7367, -4.1341, -3.8491],\n",
       "        [-3.9668, -3.7754, -3.7566, -3.8323, -3.8491, -4.3791, -3.8293, -3.9245,\n",
       "         -3.6042, -3.8827, -3.9384, -3.9658, -3.8610, -3.9498, -4.0486, -3.9950,\n",
       "         -3.9548, -3.8833, -4.0398, -4.1551, -4.0941, -3.8110, -4.1056, -3.9058,\n",
       "         -3.8222, -3.8493, -4.0388, -3.8198, -3.8947, -4.1944, -3.9183, -3.8729,\n",
       "         -4.1410, -3.9837, -3.9091, -4.1958, -3.7259, -4.2185, -3.7861, -3.7489,\n",
       "         -4.0211, -4.0729, -4.2696, -3.8798, -3.8014, -4.1734, -3.6273, -3.9960,\n",
       "         -3.7367, -4.1341, -3.8491]], grad_fn=<LogSoftmaxBackward>)"
      ]
     },
     "execution_count": 60,
     "metadata": {},
     "output_type": "execute_result"
    }
   ],
   "source": [
    "result0 = F.log_softmax(logits, dim=-1)\n",
    "result0"
   ]
  },
  {
   "cell_type": "code",
   "execution_count": 55,
   "metadata": {},
   "outputs": [
    {
     "data": {
      "text/plain": [
       "torch.Tensor"
      ]
     },
     "execution_count": 55,
     "metadata": {},
     "output_type": "execute_result"
    }
   ],
   "source": [
    "type(result0)"
   ]
  },
  {
   "cell_type": "code",
   "execution_count": 58,
   "metadata": {},
   "outputs": [
    {
     "data": {
      "text/plain": [
       "torch.Size([5, 51])"
      ]
     },
     "execution_count": 58,
     "metadata": {},
     "output_type": "execute_result"
    }
   ],
   "source": [
    "result0.size()"
   ]
  },
  {
   "cell_type": "code",
   "execution_count": 70,
   "metadata": {},
   "outputs": [],
   "source": [
    "char_rnn = CharRNNCell(num_tokens, 16, 64)\n",
    "batch_ix = torch.tensor(to_matrix(names[::2000], token_to_id), dtype=torch.int64)\n",
    "batch_size, max_length = batch_ix.size()\n",
    "hid_state = char_rnn.initial_state(batch_size)\n",
    "logprobs = []\n",
    "\n",
    "for x_t in batch_ix.transpose(0,1):\n",
    "    hid_state, logp_next = char_rnn(x_t, hid_state)  \n",
    "    logprobs.append(logp_next)"
   ]
  },
  {
   "cell_type": "code",
   "execution_count": 71,
   "metadata": {},
   "outputs": [
    {
     "data": {
      "text/plain": [
       "[tensor([[-3.8980, -3.9461, -3.8081, -4.1693, -3.8329, -4.0937, -4.0180, -3.8074,\n",
       "          -3.7639, -3.8589, -4.1835, -3.9556, -3.7933, -4.0354, -3.8820, -4.0612,\n",
       "          -3.9662, -4.1059, -3.9049, -4.0919, -3.6900, -3.8962, -3.7824, -3.9531,\n",
       "          -3.9925, -4.0465, -3.8014, -3.9354, -4.0799, -3.9172, -3.8433, -3.9533,\n",
       "          -3.9749, -3.9307, -3.8852, -4.0809, -3.8206, -3.9140, -3.9971, -3.9659,\n",
       "          -3.9754, -4.0042, -3.9116, -3.7102, -3.8653, -3.7976, -3.9990, -4.1605,\n",
       "          -3.8681, -3.9075, -4.0226],\n",
       "         [-3.8980, -3.9461, -3.8081, -4.1693, -3.8329, -4.0937, -4.0180, -3.8074,\n",
       "          -3.7639, -3.8589, -4.1835, -3.9556, -3.7933, -4.0354, -3.8820, -4.0612,\n",
       "          -3.9662, -4.1059, -3.9049, -4.0919, -3.6900, -3.8962, -3.7824, -3.9531,\n",
       "          -3.9925, -4.0465, -3.8014, -3.9354, -4.0799, -3.9172, -3.8433, -3.9533,\n",
       "          -3.9749, -3.9307, -3.8852, -4.0809, -3.8206, -3.9140, -3.9971, -3.9659,\n",
       "          -3.9754, -4.0042, -3.9116, -3.7102, -3.8653, -3.7976, -3.9990, -4.1605,\n",
       "          -3.8681, -3.9075, -4.0226],\n",
       "         [-3.8980, -3.9461, -3.8081, -4.1693, -3.8329, -4.0937, -4.0180, -3.8074,\n",
       "          -3.7639, -3.8589, -4.1835, -3.9556, -3.7933, -4.0354, -3.8820, -4.0612,\n",
       "          -3.9662, -4.1059, -3.9049, -4.0919, -3.6900, -3.8962, -3.7824, -3.9531,\n",
       "          -3.9925, -4.0465, -3.8014, -3.9354, -4.0799, -3.9172, -3.8433, -3.9533,\n",
       "          -3.9749, -3.9307, -3.8852, -4.0809, -3.8206, -3.9140, -3.9971, -3.9659,\n",
       "          -3.9754, -4.0042, -3.9116, -3.7102, -3.8653, -3.7976, -3.9990, -4.1605,\n",
       "          -3.8681, -3.9075, -4.0226],\n",
       "         [-3.8980, -3.9461, -3.8081, -4.1693, -3.8329, -4.0937, -4.0180, -3.8074,\n",
       "          -3.7639, -3.8589, -4.1835, -3.9556, -3.7933, -4.0354, -3.8820, -4.0612,\n",
       "          -3.9662, -4.1059, -3.9049, -4.0919, -3.6900, -3.8962, -3.7824, -3.9531,\n",
       "          -3.9925, -4.0465, -3.8014, -3.9354, -4.0799, -3.9172, -3.8433, -3.9533,\n",
       "          -3.9749, -3.9307, -3.8852, -4.0809, -3.8206, -3.9140, -3.9971, -3.9659,\n",
       "          -3.9754, -4.0042, -3.9116, -3.7102, -3.8653, -3.7976, -3.9990, -4.1605,\n",
       "          -3.8681, -3.9075, -4.0226],\n",
       "         [-3.8980, -3.9461, -3.8081, -4.1693, -3.8329, -4.0937, -4.0180, -3.8074,\n",
       "          -3.7639, -3.8589, -4.1835, -3.9556, -3.7933, -4.0354, -3.8820, -4.0612,\n",
       "          -3.9662, -4.1059, -3.9049, -4.0919, -3.6900, -3.8962, -3.7824, -3.9531,\n",
       "          -3.9925, -4.0465, -3.8014, -3.9354, -4.0799, -3.9172, -3.8433, -3.9533,\n",
       "          -3.9749, -3.9307, -3.8852, -4.0809, -3.8206, -3.9140, -3.9971, -3.9659,\n",
       "          -3.9754, -4.0042, -3.9116, -3.7102, -3.8653, -3.7976, -3.9990, -4.1605,\n",
       "          -3.8681, -3.9075, -4.0226]], grad_fn=<LogSoftmaxBackward>),\n",
       " tensor([[-3.8962, -3.8647, -3.7740, -4.0602, -3.9101, -4.2479, -4.2991, -3.7086,\n",
       "          -4.0361, -3.8284, -4.0809, -4.1298, -3.9898, -3.9145, -4.0156, -3.9007,\n",
       "          -4.1713, -4.1212, -4.0422, -3.8177, -3.9522, -4.0798, -3.5319, -3.8793,\n",
       "          -4.0897, -3.8557, -3.8492, -3.8559, -3.9025, -4.0540, -4.0973, -3.7592,\n",
       "          -4.1175, -3.5992, -3.7671, -3.9067, -3.8691, -4.0719, -3.8317, -4.0354,\n",
       "          -4.0376, -3.8612, -3.8899, -3.9707, -3.8422, -3.8907, -3.9093, -4.0972,\n",
       "          -3.7623, -4.1127, -3.8321],\n",
       "         [-3.9430, -4.1057, -3.5800, -4.1199, -3.9556, -3.9063, -4.0935, -3.6583,\n",
       "          -3.8430, -3.8675, -4.3368, -4.0512, -3.9607, -4.0265, -3.7251, -3.9262,\n",
       "          -4.2044, -4.3027, -3.8146, -3.6652, -3.8768, -3.8537, -3.5591, -3.8798,\n",
       "          -4.1224, -4.0460, -4.0609, -4.1560, -4.0067, -3.9560, -3.8925, -4.0067,\n",
       "          -3.9389, -3.8381, -3.7101, -3.8495, -3.7872, -3.8791, -3.8050, -3.9726,\n",
       "          -4.0882, -3.9013, -3.8395, -4.0720, -3.9476, -3.9754, -3.7445, -4.2441,\n",
       "          -3.9467, -3.9969, -4.2256],\n",
       "         [-3.7965, -3.9334, -3.9658, -3.9793, -3.6363, -4.1632, -3.9413, -4.0745,\n",
       "          -3.8030, -4.0428, -4.0572, -4.0973, -3.6131, -3.8582, -4.1336, -3.9574,\n",
       "          -4.0144, -4.1657, -3.7770, -4.1687, -3.8242, -3.9987, -3.9795, -3.9011,\n",
       "          -3.9833, -3.5894, -3.9520, -3.8351, -3.8962, -4.1513, -3.8627, -3.7410,\n",
       "          -3.8352, -3.8468, -3.6663, -4.2059, -4.1238, -4.3092, -4.1348, -3.9835,\n",
       "          -4.0927, -4.0348, -3.9276, -3.9249, -3.8791, -3.9778, -4.0468, -3.7690,\n",
       "          -3.6203, -4.0276, -3.9075],\n",
       "         [-4.2920, -4.0350, -3.9959, -4.0251, -3.9400, -4.1328, -4.1144, -3.6252,\n",
       "          -3.7207, -3.8845, -4.4269, -4.1961, -3.8376, -3.8833, -3.9705, -3.6028,\n",
       "          -4.0668, -4.3330, -3.9315, -3.5504, -3.7658, -3.6273, -3.7300, -3.9292,\n",
       "          -4.1168, -3.8618, -4.3358, -3.9329, -3.7229, -4.0830, -3.9612, -4.0198,\n",
       "          -3.8983, -3.7307, -4.0208, -4.1080, -4.1435, -3.7972, -3.6767, -3.8443,\n",
       "          -4.0257, -3.9152, -3.6385, -4.2242, -3.9760, -3.9460, -3.9177, -4.0457,\n",
       "          -4.0063, -3.8304, -4.1248],\n",
       "         [-3.9990, -3.9058, -3.8962, -3.9370, -3.6604, -4.1309, -4.0229, -3.7283,\n",
       "          -3.8941, -4.1502, -4.1443, -3.9948, -3.7554, -3.8856, -3.6344, -3.6526,\n",
       "          -3.8800, -4.3180, -3.7999, -3.8542, -3.9900, -3.7070, -3.7926, -3.6106,\n",
       "          -4.0705, -4.0326, -4.0970, -3.9900, -3.7339, -4.1445, -4.0834, -3.7987,\n",
       "          -3.8702, -3.8808, -3.6448, -4.0048, -3.8863, -4.2254, -4.0755, -3.9446,\n",
       "          -4.1019, -3.9395, -3.8102, -4.3032, -4.3196, -3.9028, -3.9985, -4.1379,\n",
       "          -3.8091, -4.0128, -4.1843]], grad_fn=<LogSoftmaxBackward>),\n",
       " tensor([[-3.8182, -4.3709, -3.8676, -3.8263, -4.0920, -3.9148, -4.1390, -4.1147,\n",
       "          -3.6757, -3.9003, -3.9696, -4.1061, -3.6490, -3.9634, -4.1829, -3.9350,\n",
       "          -4.1727, -4.0442, -3.6964, -3.6110, -3.8052, -3.8817, -3.8049, -4.1477,\n",
       "          -3.8871, -3.5500, -4.1084, -4.0959, -3.9730, -4.0655, -4.0475, -3.8324,\n",
       "          -3.8153, -4.0347, -3.8536, -3.8887, -4.1579, -4.0220, -4.0368, -3.9994,\n",
       "          -3.9599, -4.0684, -3.9958, -4.2080, -3.8052, -4.2626, -3.6940, -3.5707,\n",
       "          -3.9813, -3.8623, -3.8860],\n",
       "         [-4.1538, -4.0431, -3.6784, -3.9216, -4.0115, -4.1382, -3.8938, -3.8244,\n",
       "          -3.6721, -3.9100, -4.2429, -4.0817, -3.5938, -4.1672, -3.8503, -4.0230,\n",
       "          -3.8807, -4.3566, -3.7209, -3.9921, -3.7388, -3.6708, -3.7890, -3.9898,\n",
       "          -4.1042, -3.9309, -4.0725, -4.2237, -4.0023, -3.9824, -3.8781, -3.7119,\n",
       "          -4.0488, -4.0661, -3.7145, -3.9190, -3.8913, -3.9482, -3.8332, -3.8912,\n",
       "          -3.9034, -4.2759, -3.7589, -4.0113, -4.0999, -3.9435, -3.9188, -4.2636,\n",
       "          -3.5669, -4.1114, -3.9315],\n",
       "         [-4.0341, -4.1917, -3.9012, -3.8104, -4.1342, -3.8404, -3.6145, -4.2413,\n",
       "          -3.6167, -3.9772, -4.2596, -4.0783, -3.9399, -4.0124, -3.5614, -3.7130,\n",
       "          -3.6557, -4.0957, -4.2023, -3.4959, -4.0271, -3.6718, -3.8952, -3.9275,\n",
       "          -3.8120, -3.8597, -4.1450, -3.7923, -3.9136, -4.0202, -4.2132, -3.7312,\n",
       "          -4.1663, -4.2087, -3.9389, -3.9745, -3.8051, -3.8427, -3.8868, -3.8314,\n",
       "          -3.8941, -3.8169, -3.9210, -4.2818, -4.0330, -4.1757, -3.8578, -4.1532,\n",
       "          -4.3088, -3.8200, -4.2774],\n",
       "         [-3.7240, -4.0920, -3.9330, -4.0381, -3.5532, -3.8744, -4.1436, -4.1080,\n",
       "          -3.9653, -4.0769, -4.0979, -4.1888, -3.8761, -3.9157, -3.8725, -4.0438,\n",
       "          -4.0508, -4.1992, -3.8591, -3.6227, -3.9170, -3.6786, -4.0862, -3.7744,\n",
       "          -4.0125, -3.8159, -3.9971, -3.8839, -3.6895, -4.2114, -4.0210, -3.7911,\n",
       "          -3.6665, -4.0644, -3.9497, -4.0466, -4.1536, -3.8775, -3.8416, -4.0725,\n",
       "          -3.9838, -3.7547, -4.0011, -4.1778, -3.8214, -4.2400, -3.8120, -3.8027,\n",
       "          -4.0209, -3.9276, -3.8789],\n",
       "         [-4.0187, -4.1957, -3.7940, -4.1961, -4.0626, -4.1521, -3.8387, -3.8485,\n",
       "          -3.9323, -3.8688, -3.9909, -3.9763, -3.9703, -4.0841, -4.1467, -3.7423,\n",
       "          -4.1318, -3.9676, -4.1117, -3.9266, -3.8808, -3.7239, -3.6122, -4.1170,\n",
       "          -3.9815, -3.7420, -4.0330, -3.8181, -3.8975, -3.8407, -3.8998, -3.9315,\n",
       "          -4.0264, -3.9434, -3.6769, -3.9467, -3.9260, -4.0646, -3.9521, -4.0753,\n",
       "          -3.9244, -3.6604, -3.9716, -4.0875, -3.6302, -3.8522, -3.8854, -4.1686,\n",
       "          -4.1296, -3.7477, -3.9934]], grad_fn=<LogSoftmaxBackward>),\n",
       " tensor([[-3.7932, -4.2405, -4.0066, -3.9560, -3.6759, -3.7220, -4.0338, -4.4860,\n",
       "          -3.8561, -4.1443, -4.0236, -4.2270, -3.7753, -3.9302, -3.9049, -4.2030,\n",
       "          -3.9741, -3.9087, -3.8022, -3.5212, -3.9851, -4.0018, -4.1106, -3.8735,\n",
       "          -3.8171, -3.8478, -4.0811, -3.8011, -3.9247, -4.2310, -4.0845, -3.6241,\n",
       "          -3.6259, -4.1646, -4.0638, -4.0624, -4.1355, -3.9384, -3.9371, -3.9321,\n",
       "          -3.9420, -3.7793, -4.0091, -4.0743, -3.7219, -4.2109, -3.7339, -3.6380,\n",
       "          -4.0758, -3.8325, -3.9869],\n",
       "         [-3.9628, -4.0440, -3.7871, -3.9289, -3.8335, -3.9891, -3.8740, -3.7251,\n",
       "          -3.9614, -3.7352, -4.1127, -4.0380, -3.9869, -3.9334, -3.6920, -3.6446,\n",
       "          -4.0436, -4.4189, -3.9637, -3.9576, -4.1994, -3.6991, -3.8385, -3.6915,\n",
       "          -3.9507, -3.9748, -4.0858, -4.3010, -3.6557, -4.0538, -3.9630, -3.9110,\n",
       "          -3.8443, -3.8679, -3.6221, -3.8249, -4.1387, -3.8937, -3.8329, -3.8051,\n",
       "          -4.0044, -3.9285, -3.8043, -4.1542, -4.1905, -3.9945, -4.0439, -4.3587,\n",
       "          -3.9421, -4.1512, -3.9364],\n",
       "         [-3.7167, -4.2629, -3.9660, -3.9797, -3.5710, -3.6088, -4.0572, -4.2429,\n",
       "          -3.8638, -3.9899, -3.8963, -4.2651, -3.8715, -3.9303, -4.0024, -3.9928,\n",
       "          -3.9878, -3.9747, -3.8172, -3.6784, -3.8594, -3.9254, -4.0897, -3.9207,\n",
       "          -4.0599, -3.9037, -4.1359, -3.9398, -3.8491, -4.1785, -4.0432, -3.7441,\n",
       "          -3.8427, -4.1522, -3.9537, -4.0363, -3.9090, -4.0392, -3.9678, -4.0166,\n",
       "          -3.8748, -3.6847, -3.9810, -4.0295, -3.6749, -4.2893, -3.8215, -3.6143,\n",
       "          -4.2290, -3.8631, -3.9627],\n",
       "         [-4.0152, -4.2991, -3.8849, -3.9318, -4.2930, -4.1757, -4.1622, -3.9271,\n",
       "          -3.7014, -3.7428, -4.0953, -4.1026, -3.7827, -4.1757, -4.1558, -4.1529,\n",
       "          -4.0315, -4.0336, -3.7696, -3.7111, -3.5552, -3.8912, -3.6782, -4.3323,\n",
       "          -3.9493, -3.8254, -3.8249, -3.9831, -4.0907, -3.9403, -3.9430, -3.9012,\n",
       "          -3.9780, -4.1859, -4.1698, -3.9787, -3.8116, -3.8486, -3.9523, -4.0144,\n",
       "          -3.8676, -4.0791, -3.8796, -3.6522, -3.7099, -3.9562, -3.8193, -3.9264,\n",
       "          -3.8667, -3.7137, -3.8455],\n",
       "         [-4.0452, -3.7934, -4.0480, -4.1208, -3.7396, -4.2833, -4.1679, -3.9187,\n",
       "          -3.6671, -3.9531, -4.4206, -4.1159, -3.7170, -3.8474, -4.0378, -3.9494,\n",
       "          -3.8897, -4.1170, -3.8490, -3.9556, -3.6782, -3.8667, -3.9790, -3.9402,\n",
       "          -4.1295, -3.7674, -4.0352, -3.8437, -3.7626, -4.2527, -3.9813, -3.7996,\n",
       "          -4.0248, -3.7503, -4.1345, -4.2073, -4.2150, -3.9056, -3.6804, -3.8276,\n",
       "          -4.0073, -3.9324, -3.7319, -3.8532, -3.9850, -3.8410, -4.0992, -3.8818,\n",
       "          -3.7269, -3.9237, -3.8523]], grad_fn=<LogSoftmaxBackward>),\n",
       " tensor([[-3.8684, -4.3382, -3.9811, -3.9511, -4.1498, -4.1306, -4.0283, -4.2223,\n",
       "          -3.7206, -3.9428, -3.9446, -4.2929, -3.6800, -4.1252, -4.1672, -4.0514,\n",
       "          -4.1078, -3.9137, -3.6663, -3.6043, -3.7679, -3.9169, -3.7757, -4.1633,\n",
       "          -3.9844, -3.5931, -4.0465, -3.9299, -3.8384, -4.1405, -3.9113, -3.6803,\n",
       "          -3.7499, -4.0795, -4.0407, -3.9537, -3.9699, -4.0958, -4.0950, -4.0444,\n",
       "          -3.9794, -3.9738, -3.9513, -3.9351, -3.6740, -4.2328, -3.8419, -3.6928,\n",
       "          -3.8942, -3.6452, -3.8900],\n",
       "         [-4.0729, -4.1362, -3.8432, -3.8093, -4.2164, -4.1775, -3.8655, -3.8351,\n",
       "          -3.5552, -3.9447, -3.9808, -3.9041, -3.7243, -4.0785, -4.0224, -3.8187,\n",
       "          -3.8322, -4.2347, -3.6360, -4.0244, -3.7328, -3.6468, -3.8393, -4.1592,\n",
       "          -4.0339, -3.7492, -4.0223, -4.0108, -3.9224, -3.9107, -4.0394, -3.8418,\n",
       "          -4.1604, -4.1835, -3.5686, -4.0307, -3.8630, -4.1571, -4.0480, -4.1244,\n",
       "          -3.8967, -4.0770, -3.8101, -3.9995, -3.9519, -3.9434, -3.9801, -4.0894,\n",
       "          -3.7712, -3.8492, -4.1210],\n",
       "         [-4.0903, -4.0282, -3.9044, -4.1089, -3.9652, -4.0782, -3.7855, -3.8714,\n",
       "          -3.9484, -3.5605, -4.0276, -4.2394, -3.9911, -4.2226, -3.5551, -3.8142,\n",
       "          -4.1110, -4.2521, -4.0632, -4.1353, -4.1037, -3.8250, -3.9298, -3.7191,\n",
       "          -4.0229, -4.0390, -3.9562, -4.2454, -3.4991, -4.1619, -3.7876, -3.7971,\n",
       "          -3.9174, -3.8809, -3.9443, -3.7712, -3.9479, -3.9792, -3.7803, -3.7712,\n",
       "          -4.0761, -3.7157, -3.8211, -3.9501, -3.9921, -4.0715, -4.0806, -4.5511,\n",
       "          -3.7819, -3.7745, -3.8213],\n",
       "         [-4.1496, -4.0270, -3.6610, -3.8796, -3.9152, -4.0503, -4.0801, -3.8276,\n",
       "          -3.7093, -4.0825, -4.1656, -4.0559, -3.6985, -4.0892, -3.8470, -3.9782,\n",
       "          -3.8157, -4.2806, -3.6846, -3.7955, -3.8576, -3.6569, -3.7769, -3.9194,\n",
       "          -4.0400, -4.1124, -4.0871, -4.0926, -4.0065, -3.9288, -4.0361, -3.6318,\n",
       "          -3.9722, -4.0315, -3.6316, -4.0007, -3.7478, -4.0095, -3.9285, -3.9824,\n",
       "          -3.8615, -4.2088, -3.6344, -4.0672, -4.2224, -3.9793, -3.9065, -4.2042,\n",
       "          -3.7453, -4.1913, -4.0337],\n",
       "         [-3.8934, -4.1092, -3.8885, -4.0396, -4.3651, -4.2967, -4.1739, -4.0289,\n",
       "          -3.5906, -4.1172, -4.1689, -4.2225, -3.8494, -3.8343, -4.3892, -3.7609,\n",
       "          -4.1083, -3.9780, -3.6990, -3.5214, -3.6299, -3.6877, -3.4959, -4.2963,\n",
       "          -3.8575, -3.5218, -4.1271, -3.8218, -4.0395, -3.9720, -3.9774, -3.7960,\n",
       "          -3.8621, -4.0266, -3.8566, -4.1499, -3.9363, -3.9968, -4.1088, -4.1772,\n",
       "          -3.9385, -4.1425, -3.8450, -3.9811, -3.7195, -3.9853, -3.8479, -3.7138,\n",
       "          -4.0628, -3.9028, -4.2011]], grad_fn=<LogSoftmaxBackward>),\n",
       " tensor([[-3.9379, -4.2088, -3.8250, -4.0549, -4.1911, -4.0246, -4.1973, -3.9732,\n",
       "          -3.7119, -3.8901, -4.1182, -4.1387, -3.7924, -4.0421, -4.0179, -4.1814,\n",
       "          -3.8785, -3.9421, -3.7977, -3.5481, -3.6696, -3.9932, -3.6799, -4.1531,\n",
       "          -3.9486, -4.0450, -3.9289, -3.9423, -4.2300, -3.9320, -3.9798, -3.7292,\n",
       "          -3.9929, -4.0214, -4.0616, -3.9829, -3.8028, -3.7817, -3.9556, -3.9294,\n",
       "          -3.7992, -4.1507, -3.8377, -3.7278, -3.7746, -4.0593, -3.8401, -4.0187,\n",
       "          -3.9916, -3.7815, -3.9362],\n",
       "         [-3.8233, -4.2644, -3.9819, -3.8334, -3.5991, -3.6417, -4.0995, -4.3458,\n",
       "          -3.8162, -4.1312, -4.0497, -4.1412, -3.8024, -3.8711, -3.9951, -4.0174,\n",
       "          -3.9982, -4.0169, -3.8757, -3.5687, -3.8582, -3.8261, -4.0765, -4.0200,\n",
       "          -3.8846, -3.7680, -4.1032, -3.7890, -3.9534, -4.2071, -4.1942, -3.8257,\n",
       "          -3.7241, -4.2282, -3.9543, -4.0488, -4.1909, -3.9798, -4.0233, -4.0648,\n",
       "          -3.8144, -3.6686, -3.9724, -4.1688, -3.7835, -4.0840, -3.6951, -3.5061,\n",
       "          -4.1806, -3.9735, -4.0028],\n",
       "         [-3.9402, -4.1591, -3.8983, -3.9842, -4.2028, -4.1550, -4.0990, -3.7889,\n",
       "          -3.6820, -3.7702, -4.0600, -3.9367, -3.8914, -4.0236, -4.0799, -3.8981,\n",
       "          -3.9318, -4.1176, -3.8556, -3.7918, -3.6063, -3.7947, -3.6397, -4.2479,\n",
       "          -4.0327, -3.8642, -3.9707, -3.9293, -4.0795, -3.8049, -3.9766, -4.0067,\n",
       "          -4.0855, -4.0604, -3.8274, -3.9978, -3.8746, -3.9296, -4.0069, -4.1361,\n",
       "          -3.8068, -4.0679, -3.8682, -3.8305, -3.7354, -4.0454, -3.8634, -4.0199,\n",
       "          -4.0022, -3.7059, -3.9784],\n",
       "         [-3.7823, -4.2849, -4.0274, -3.8508, -3.6183, -3.5867, -3.8817, -4.3318,\n",
       "          -3.8061, -4.0665, -4.0537, -4.1161, -3.6804, -3.9219, -3.9565, -3.9293,\n",
       "          -4.0230, -4.0054, -3.8792, -3.6133, -3.9536, -3.8241, -4.0913, -3.9614,\n",
       "          -3.8594, -3.7498, -4.2056, -3.8303, -3.9484, -4.1833, -4.0759, -3.8972,\n",
       "          -3.6647, -4.1751, -3.8524, -4.0338, -4.1213, -3.9865, -3.9676, -4.1329,\n",
       "          -3.9595, -3.7524, -3.9862, -4.2205, -3.7951, -4.1477, -3.6727, -3.6245,\n",
       "          -4.2291, -4.0139, -4.0591],\n",
       "         [-4.0481, -4.0328, -3.8206, -4.1368, -4.1049, -4.0941, -4.1800, -3.7550,\n",
       "          -3.7976, -3.8863, -4.2608, -4.0349, -3.7812, -4.0259, -3.7471, -3.8696,\n",
       "          -4.0026, -4.1452, -3.7064, -3.6475, -3.7865, -3.8383, -3.6853, -3.8027,\n",
       "          -4.0129, -3.9548, -4.1132, -4.1670, -3.8715, -3.9755, -3.9280, -3.7878,\n",
       "          -3.7134, -3.8135, -4.1115, -3.9309, -3.9115, -3.8305, -3.8873, -3.8239,\n",
       "          -4.0530, -4.0864, -3.8205, -3.9617, -4.0674, -4.0317, -3.8137, -4.1477,\n",
       "          -4.0384, -3.8474, -4.2310]], grad_fn=<LogSoftmaxBackward>),\n",
       " tensor([[-4.0827, -4.0552, -3.9667, -4.0669, -4.1771, -4.0557, -4.1069, -4.2013,\n",
       "          -3.6916, -3.9675, -4.1802, -4.3716, -3.6295, -3.9573, -4.1908, -3.9289,\n",
       "          -4.0449, -3.8667, -3.7555, -3.5266, -3.6236, -3.8099, -3.5398, -4.2104,\n",
       "          -3.9182, -3.7892, -4.2622, -3.8764, -4.1765, -3.9721, -3.9005, -3.6641,\n",
       "          -3.6696, -3.9321, -4.0036, -4.0761, -3.8632, -3.9032, -4.0831, -4.0051,\n",
       "          -3.8779, -4.3661, -3.7909, -3.9348, -3.7397, -4.0110, -3.8086, -3.7046,\n",
       "          -4.0625, -3.9997, -4.1440],\n",
       "         [-4.0342, -3.9819, -4.0406, -4.1199, -3.9974, -4.2572, -3.7865, -4.0150,\n",
       "          -3.9746, -3.7578, -4.0015, -4.2947, -3.8869, -4.1043, -3.7966, -3.8863,\n",
       "          -3.9082, -4.0593, -4.0548, -3.9136, -4.0511, -3.7885, -4.0306, -3.7090,\n",
       "          -4.1053, -3.9764, -3.9617, -4.2442, -3.3911, -4.1997, -3.8663, -3.6066,\n",
       "          -3.9069, -3.8245, -4.1333, -3.8509, -3.7911, -4.0061, -3.8526, -3.7400,\n",
       "          -4.0462, -3.8191, -3.9388, -3.8314, -4.0572, -4.1461, -4.0708, -4.3107,\n",
       "          -3.7602, -3.7274, -3.7413],\n",
       "         [-4.0943, -4.1044, -3.9102, -3.9750, -4.2309, -4.0488, -4.2833, -4.2015,\n",
       "          -3.6492, -4.0153, -4.1180, -4.3302, -3.7137, -3.8711, -4.2476, -4.0088,\n",
       "          -4.0734, -3.9086, -3.6688, -3.5466, -3.5338, -3.7875, -3.6268, -4.2941,\n",
       "          -3.8761, -3.7682, -4.1790, -3.9361, -4.1974, -3.9688, -4.0203, -3.6740,\n",
       "          -3.7254, -4.0317, -4.0335, -4.0674, -4.0182, -3.8793, -4.1555, -3.9624,\n",
       "          -3.7649, -4.3314, -3.8194, -3.9057, -3.6899, -3.9584, -3.7648, -3.6060,\n",
       "          -4.0333, -3.9177, -4.1198],\n",
       "         [-3.8981, -4.1799, -3.9557, -3.9225, -4.0812, -4.0765, -4.0212, -4.0214,\n",
       "          -3.8362, -3.7725, -4.0143, -4.0926, -3.7780, -4.1660, -3.8073, -4.0699,\n",
       "          -3.8038, -4.0457, -3.7460, -3.8293, -3.7964, -3.9725, -3.8034, -3.8931,\n",
       "          -4.0076, -3.9459, -3.8292, -4.1312, -3.8515, -4.1385, -4.0161, -3.6724,\n",
       "          -3.9898, -4.0794, -4.1451, -3.8270, -3.6662, -4.0531, -4.0281, -3.8728,\n",
       "          -3.9749, -3.9874, -3.9349, -3.6832, -4.0001, -4.0418, -3.9392, -4.0515,\n",
       "          -3.7692, -3.7975, -3.9671],\n",
       "         [-4.0086, -4.0414, -3.9971, -4.1156, -4.2667, -4.2694, -4.0159, -4.0586,\n",
       "          -3.6937, -3.9618, -4.2076, -4.2522, -3.7057, -3.9359, -4.3409, -3.8559,\n",
       "          -4.0804, -3.9398, -3.7367, -3.6183, -3.5736, -3.7729, -3.4455, -4.2466,\n",
       "          -3.9474, -3.5966, -4.2380, -3.8330, -4.1294, -3.9444, -3.8338, -3.7835,\n",
       "          -3.7091, -3.9718, -3.9122, -4.0959, -3.9865, -3.9426, -4.0490, -4.0732,\n",
       "          -3.9584, -4.3089, -3.8142, -4.0004, -3.7088, -3.9518, -3.9096, -3.7181,\n",
       "          -3.9242, -3.9475, -4.1573]], grad_fn=<LogSoftmaxBackward>),\n",
       " tensor([[-3.8647, -3.9006, -3.7730, -4.2925, -3.8412, -4.0343, -4.1006, -3.7523,\n",
       "          -3.8444, -3.8980, -4.2496, -3.9688, -3.6966, -4.0736, -3.8078, -4.0920,\n",
       "          -3.9391, -4.1093, -3.8490, -3.9606, -3.8049, -4.0119, -3.7222, -3.8395,\n",
       "          -4.0008, -4.1083, -3.8400, -3.9346, -4.1404, -3.9412, -3.8392, -3.7707,\n",
       "          -3.8911, -3.8279, -3.9526, -4.0705, -3.7447, -3.8738, -3.9403, -3.9579,\n",
       "          -4.0810, -4.0781, -3.8651, -3.7410, -3.9681, -3.8392, -3.9199, -4.2393,\n",
       "          -3.9143, -4.0191, -4.0819],\n",
       "         [-4.0519, -4.1308, -3.8262, -3.8650, -4.0945, -4.2100, -3.8784, -3.6848,\n",
       "          -3.6375, -4.0937, -3.9557, -3.8789, -3.8617, -4.1037, -4.0338, -3.7734,\n",
       "          -3.7957, -4.1655, -3.7533, -3.9387, -3.8349, -3.6207, -3.8614, -4.0433,\n",
       "          -3.9906, -3.9672, -4.0299, -3.9716, -3.8602, -3.8998, -4.0844, -3.8818,\n",
       "          -4.1380, -4.2007, -3.5213, -4.0318, -3.6801, -4.0984, -3.9530, -4.1918,\n",
       "          -3.8692, -3.9371, -3.6949, -4.0809, -4.0195, -3.9999, -4.0369, -4.2484,\n",
       "          -3.8912, -3.8370, -4.0113],\n",
       "         [-3.8678, -3.7173, -3.8321, -4.2595, -4.3073, -4.3224, -4.1638, -3.7645,\n",
       "          -4.1060, -3.7156, -4.0864, -4.3943, -4.1219, -3.8833, -4.0023, -3.9723,\n",
       "          -4.1944, -3.9717, -4.0593, -3.5975, -4.1323, -4.1129, -3.7123, -3.7051,\n",
       "          -4.1113, -4.0614, -3.9329, -4.2578, -3.7439, -4.1528, -3.9508, -3.4979,\n",
       "          -4.0606, -3.3288, -3.9993, -3.6223, -3.7395, -3.7304, -3.6802, -3.9189,\n",
       "          -4.0598, -4.0857, -3.8854, -3.8415, -4.0172, -4.0148, -3.9830, -4.2886,\n",
       "          -3.8572, -4.1936, -3.8262],\n",
       "         [-3.9748, -4.2197, -3.8516, -3.9837, -4.1066, -3.9076, -4.0723, -3.8551,\n",
       "          -3.7078, -3.7558, -4.0658, -4.0557, -3.7692, -4.0283, -4.1550, -3.9638,\n",
       "          -3.9422, -4.0013, -3.8429, -3.6996, -3.6271, -3.9427, -3.5898, -4.1668,\n",
       "          -3.9604, -4.0127, -4.1296, -4.0097, -4.2676, -3.8803, -3.9134, -3.9213,\n",
       "          -4.0367, -4.0069, -3.8379, -3.9537, -3.7613, -3.8991, -3.9865, -3.9856,\n",
       "          -3.8221, -4.1127, -3.7969, -3.8540, -3.8114, -4.0238, -3.8607, -3.9156,\n",
       "          -4.0135, -3.9703, -4.0091],\n",
       "         [-3.8416, -3.7154, -3.8097, -4.1938, -4.2836, -4.3739, -4.2818, -3.7269,\n",
       "          -4.1217, -3.7565, -4.0845, -4.4149, -4.1834, -3.8075, -4.0239, -4.0515,\n",
       "          -4.1581, -4.0023, -4.0235, -3.5692, -4.0982, -4.0850, -3.7708, -3.7442,\n",
       "          -4.1263, -4.0273, -3.8523, -4.2393, -3.7521, -4.1589, -4.0556, -3.5306,\n",
       "          -4.0945, -3.3598, -4.0171, -3.6414, -3.8325, -3.6786, -3.6796, -3.9061,\n",
       "          -3.9507, -4.0765, -3.9274, -3.8248, -4.0033, -3.9979, -3.9934, -4.2346,\n",
       "          -3.8552, -4.1680, -3.7206]], grad_fn=<LogSoftmaxBackward>),\n",
       " tensor([[-3.8906, -3.8602, -3.8508, -4.2043, -3.7156, -4.1151, -3.9447, -3.7956,\n",
       "          -3.8003, -3.8180, -4.3605, -3.9856, -3.7377, -4.0219, -3.8450, -3.9721,\n",
       "          -4.0202, -4.1988, -4.0157, -4.1157, -3.7340, -3.8655, -3.7044, -3.9175,\n",
       "          -4.0677, -3.9625, -3.9010, -3.8757, -4.0734, -3.9022, -3.7986, -3.9708,\n",
       "          -3.9715, -3.8317, -3.7601, -4.0982, -3.8205, -3.9566, -3.9266, -3.9558,\n",
       "          -4.0095, -4.0155, -3.8995, -3.8567, -3.9890, -3.7860, -4.0069, -4.1629,\n",
       "          -3.8140, -4.0994, -3.9908],\n",
       "         [-3.9385, -4.2755, -3.9198, -3.8622, -4.1242, -3.8316, -4.1915, -4.0986,\n",
       "          -3.8114, -3.8877, -3.8120, -4.1869, -3.9183, -3.9835, -4.0883, -3.8188,\n",
       "          -4.0763, -3.9021, -3.9426, -3.6707, -3.8668, -3.7591, -3.7617, -4.1692,\n",
       "          -3.8377, -3.8148, -4.0465, -3.8671, -3.9444, -3.9919, -4.2295, -3.8304,\n",
       "          -3.8341, -4.1352, -3.9120, -3.8441, -4.0869, -3.9680, -4.1259, -4.0735,\n",
       "          -3.6424, -3.7832, -3.9469, -4.1266, -3.6645, -4.0306, -3.7031, -3.8711,\n",
       "          -4.2150, -3.7907, -3.9369],\n",
       "         [-3.9684, -3.8201, -3.8777, -4.2113, -3.8611, -4.0579, -3.9669, -3.7242,\n",
       "          -3.8061, -3.7560, -4.1876, -3.8826, -3.7872, -4.0953, -3.8883, -3.8793,\n",
       "          -4.0585, -4.0111, -3.9856, -4.1166, -3.7392, -3.9110, -3.6605, -3.9976,\n",
       "          -3.8985, -4.0582, -3.9174, -3.9471, -4.1183, -3.8288, -3.8667, -4.0302,\n",
       "          -3.8990, -3.9588, -3.8335, -4.0381, -3.7252, -3.9019, -3.8974, -4.1323,\n",
       "          -4.1100, -3.9824, -3.9471, -3.8482, -3.8860, -3.8114, -3.8711, -4.1094,\n",
       "          -4.0264, -4.0398, -3.9889],\n",
       "         [-4.0346, -4.0004, -3.8202, -4.0651, -3.8356, -3.9238, -3.9502, -3.7582,\n",
       "          -3.9889, -3.6261, -4.0841, -4.1849, -3.9478, -4.0868, -3.4767, -3.8004,\n",
       "          -4.0154, -4.3863, -4.0050, -4.0033, -4.1692, -3.8036, -3.9080, -3.5864,\n",
       "          -4.0423, -4.1557, -4.0572, -4.3326, -3.6466, -4.0640, -3.9140, -3.7844,\n",
       "          -3.8345, -3.7490, -3.7713, -3.7489, -4.0712, -3.8463, -3.8004, -3.7314,\n",
       "          -3.9727, -3.9602, -3.7848, -4.1178, -4.1370, -4.1003, -4.0430, -4.5140,\n",
       "          -3.8909, -4.0466, -3.9098],\n",
       "         [-3.9757, -3.8171, -3.8461, -4.2155, -3.8923, -4.0467, -3.9619, -3.7599,\n",
       "          -3.7809, -3.7669, -4.1747, -3.9003, -3.7792, -4.0791, -3.8887, -3.8878,\n",
       "          -4.1033, -4.0018, -3.9561, -4.0916, -3.7343, -3.9182, -3.6520, -3.9993,\n",
       "          -3.8709, -4.0497, -3.9139, -3.9582, -4.1343, -3.8557, -3.8567, -4.0191,\n",
       "          -3.8871, -3.9560, -3.8243, -4.0440, -3.7313, -3.9123, -3.9093, -4.1088,\n",
       "          -4.1255, -3.9800, -3.9744, -3.8451, -3.8878, -3.8151, -3.8545, -4.0958,\n",
       "          -4.0153, -4.0610, -4.0017]], grad_fn=<LogSoftmaxBackward>),\n",
       " tensor([[-3.8155, -3.9288, -3.7510, -4.1675, -3.7140, -4.0629, -4.0217, -3.7991,\n",
       "          -3.7558, -3.8691, -4.2991, -3.9767, -3.7663, -3.8981, -3.8570, -3.9854,\n",
       "          -4.0076, -4.2782, -3.9152, -4.0828, -3.7247, -3.8772, -3.7767, -3.8779,\n",
       "          -4.0573, -3.9729, -3.8710, -3.9628, -4.0924, -3.9291, -3.8639, -3.9394,\n",
       "          -4.0779, -3.8410, -3.7129, -4.1181, -3.8659, -3.9600, -3.9654, -3.8955,\n",
       "          -3.9597, -4.0301, -3.9273, -3.8253, -3.9744, -3.8415, -4.0207, -4.1410,\n",
       "          -3.8408, -4.0631, -4.0086],\n",
       "         [-3.8585, -3.7889, -3.9125, -4.1734, -4.3592, -4.2948, -4.0931, -3.9292,\n",
       "          -4.0195, -3.5900, -3.9842, -4.3444, -4.1754, -3.9073, -4.0274, -3.9758,\n",
       "          -4.0936, -3.8911, -4.0663, -3.7008, -4.0572, -4.1192, -3.7810, -3.8482,\n",
       "          -4.0275, -3.9983, -3.8564, -4.1859, -3.7204, -4.1641, -4.0245, -3.5906,\n",
       "          -4.1635, -3.4615, -4.0787, -3.6460, -3.8317, -3.8316, -3.7229, -3.8832,\n",
       "          -3.9513, -3.9593, -3.9774, -3.7147, -3.9142, -4.0249, -3.9908, -4.1901,\n",
       "          -3.8307, -3.9406, -3.7938],\n",
       "         [-3.9095, -3.9404, -3.8146, -4.1287, -3.8044, -4.0441, -4.0771, -3.7903,\n",
       "          -3.7606, -3.8149, -4.2157, -3.9703, -3.7719, -4.0048, -3.8418, -4.0420,\n",
       "          -3.9863, -4.1967, -3.9165, -4.1716, -3.7110, -3.8905, -3.7773, -3.9558,\n",
       "          -3.9882, -3.9871, -3.8386, -3.9010, -4.0786, -3.9319, -3.9249, -3.9344,\n",
       "          -4.0367, -3.9111, -3.8086, -4.0324, -3.9413, -3.9623, -4.0460, -3.9186,\n",
       "          -3.9087, -3.9686, -3.9015, -3.8091, -3.9034, -3.7635, -3.9544, -4.1674,\n",
       "          -3.8010, -3.9516, -3.9662],\n",
       "         [-3.9860, -3.7565, -4.0532, -4.1383, -4.2040, -4.4545, -3.7961, -3.7625,\n",
       "          -4.0398, -3.7861, -3.9655, -4.0962, -4.0498, -3.9516, -3.6930, -3.7038,\n",
       "          -3.9708, -4.1076, -4.1909, -3.8691, -4.0099, -3.7488, -3.9188, -3.7174,\n",
       "          -4.1303, -3.9765, -3.9764, -4.3193, -3.3928, -4.0316, -3.9662, -3.7663,\n",
       "          -3.9806, -3.6392, -3.9275, -3.7802, -3.7114, -3.9268, -3.8802, -3.9468,\n",
       "          -4.0232, -3.9983, -4.0515, -3.8868, -4.0457, -4.1821, -3.9837, -4.4358,\n",
       "          -3.9246, -3.7646, -3.8596],\n",
       "         [-3.9056, -3.9527, -3.8304, -4.1300, -3.8090, -4.0470, -4.0642, -3.7861,\n",
       "          -3.7616, -3.8168, -4.2328, -3.9569, -3.7514, -4.0156, -3.8480, -4.0321,\n",
       "          -3.9680, -4.1912, -3.9209, -4.1622, -3.7025, -3.9030, -3.7622, -3.9537,\n",
       "          -3.9946, -3.9762, -3.8510, -3.8874, -4.0805, -3.9302, -3.9189, -3.9274,\n",
       "          -4.0330, -3.9195, -3.8195, -4.0301, -3.9355, -3.9673, -4.0456, -3.9277,\n",
       "          -3.9149, -3.9801, -3.8803, -3.8146, -3.9124, -3.7582, -3.9644, -4.1659,\n",
       "          -3.8010, -3.9586, -3.9789]], grad_fn=<LogSoftmaxBackward>)]"
      ]
     },
     "execution_count": 71,
     "metadata": {},
     "output_type": "execute_result"
    }
   ],
   "source": [
    "logprobs"
   ]
  },
  {
   "cell_type": "code",
   "execution_count": 74,
   "metadata": {},
   "outputs": [],
   "source": [
    "logp_seq = torch.stack(logprobs, dim=1)"
   ]
  },
  {
   "cell_type": "code",
   "execution_count": 75,
   "metadata": {},
   "outputs": [
    {
     "data": {
      "text/plain": [
       "torch.Size([5, 10, 51])"
      ]
     },
     "execution_count": 75,
     "metadata": {},
     "output_type": "execute_result"
    }
   ],
   "source": [
    "logp_seq.size()"
   ]
  },
  {
   "cell_type": "code",
   "execution_count": null,
   "metadata": {},
   "outputs": [],
   "source": []
  },
  {
   "cell_type": "code",
   "execution_count": null,
   "metadata": {},
   "outputs": [],
   "source": []
  },
  {
   "cell_type": "code",
   "execution_count": null,
   "metadata": {},
   "outputs": [],
   "source": []
  },
  {
   "cell_type": "code",
   "execution_count": null,
   "metadata": {},
   "outputs": [],
   "source": []
  },
  {
   "cell_type": "code",
   "execution_count": null,
   "metadata": {},
   "outputs": [],
   "source": []
  },
  {
   "cell_type": "code",
   "execution_count": null,
   "metadata": {},
   "outputs": [],
   "source": []
  },
  {
   "cell_type": "code",
   "execution_count": 76,
   "metadata": {},
   "outputs": [],
   "source": [
    "def rnn_loop(rnn: nn.Module, batch_index: int) -> torch.Tensor:\n",
    "    \"\"\"\n",
    "    Computes log P(next_character) for all time-steps in names_ix\n",
    "    :param names_ix: an int32 matrix of shape [batch, time], output of to_matrix(names)\n",
    "    \"\"\"\n",
    "    batch_size, max_length = batch_index.size()\n",
    "    hid_state = rnn.initial_state(batch_size)\n",
    "    logprobs = []\n",
    "\n",
    "    for x_t in batch_index.transpose(0,1):\n",
    "        hid_state, logp_next = rnn(x_t, hid_state)  \n",
    "        logprobs.append(logp_next)\n",
    "        \n",
    "    return torch.stack(logprobs, dim=1)"
   ]
  },
  {
   "cell_type": "code",
   "execution_count": 77,
   "metadata": {},
   "outputs": [],
   "source": [
    "char_rnn = CharRNNCell(num_tokens, 16, 64)\n",
    "batch_ix = torch.tensor(to_matrix(names[::2000], token_to_id), dtype=torch.int64)\n",
    "logp_seq = rnn_loop(char_rnn, batch_ix)"
   ]
  },
  {
   "cell_type": "code",
   "execution_count": 78,
   "metadata": {},
   "outputs": [
    {
     "data": {
      "text/plain": [
       "(torch.Size([5, 10]), torch.Size([5, 10, 51]))"
      ]
     },
     "execution_count": 78,
     "metadata": {},
     "output_type": "execute_result"
    }
   ],
   "source": [
    "batch_ix.size(), logp_seq.size()"
   ]
  },
  {
   "cell_type": "code",
   "execution_count": 91,
   "metadata": {},
   "outputs": [
    {
     "data": {
      "text/plain": [
       "torch.Size([5, 9, 51])"
      ]
     },
     "execution_count": 91,
     "metadata": {},
     "output_type": "execute_result"
    }
   ],
   "source": [
    "predictions_logp = logp_seq[:, :-1]\n",
    "predictions_logp.size()"
   ]
  },
  {
   "cell_type": "code",
   "execution_count": 92,
   "metadata": {},
   "outputs": [
    {
     "data": {
      "text/plain": [
       "torch.Size([5, 9])"
      ]
     },
     "execution_count": 92,
     "metadata": {},
     "output_type": "execute_result"
    }
   ],
   "source": [
    "actual_next_tokens = batch_ix[:, 1:]\n",
    "actual_next_tokens.size()"
   ]
  },
  {
   "cell_type": "code",
   "execution_count": 93,
   "metadata": {},
   "outputs": [
    {
     "data": {
      "text/plain": [
       "tensor([[[-4.0072],\n",
       "         [-4.0946],\n",
       "         [-4.0579],\n",
       "         [-3.9928],\n",
       "         [-3.9396],\n",
       "         [-3.6662],\n",
       "         [-3.9661],\n",
       "         [-3.8958],\n",
       "         [-3.9319]],\n",
       "\n",
       "        [[-3.9762],\n",
       "         [-3.7695],\n",
       "         [-3.9163],\n",
       "         [-4.0667],\n",
       "         [-4.1251],\n",
       "         [-3.9309],\n",
       "         [-3.8895],\n",
       "         [-3.7349],\n",
       "         [-4.2551]],\n",
       "\n",
       "        [[-3.8030],\n",
       "         [-3.9704],\n",
       "         [-4.0099],\n",
       "         [-3.9246],\n",
       "         [-3.6592],\n",
       "         [-3.7803],\n",
       "         [-4.0446],\n",
       "         [-3.8256],\n",
       "         [-4.0526]],\n",
       "\n",
       "        [[-4.0144],\n",
       "         [-4.1921],\n",
       "         [-3.9622],\n",
       "         [-4.1527],\n",
       "         [-4.1473],\n",
       "         [-3.9330],\n",
       "         [-3.6048],\n",
       "         [-3.7301],\n",
       "         [-3.9448]],\n",
       "\n",
       "        [[-3.8913],\n",
       "         [-4.0487],\n",
       "         [-3.6997],\n",
       "         [-3.6459],\n",
       "         [-3.6878],\n",
       "         [-4.1115],\n",
       "         [-4.2032],\n",
       "         [-3.7273],\n",
       "         [-4.0588]]], grad_fn=<GatherBackward>)"
      ]
     },
     "execution_count": 93,
     "metadata": {},
     "output_type": "execute_result"
    }
   ],
   "source": [
    "logp_next = torch.gather(predictions_logp, dim=2, index=actual_next_tokens[:, :, None])\n",
    "logp_next"
   ]
  },
  {
   "cell_type": "code",
   "execution_count": 94,
   "metadata": {},
   "outputs": [
    {
     "data": {
      "text/plain": [
       "tensor(3.9343, grad_fn=<NegBackward>)"
      ]
     },
     "execution_count": 94,
     "metadata": {},
     "output_type": "execute_result"
    }
   ],
   "source": [
    "loss = -logp_next.mean()\n",
    "loss"
   ]
  },
  {
   "cell_type": "code",
   "execution_count": null,
   "metadata": {},
   "outputs": [],
   "source": []
  },
  {
   "cell_type": "code",
   "execution_count": null,
   "metadata": {},
   "outputs": [],
   "source": []
  },
  {
   "cell_type": "code",
   "execution_count": 31,
   "metadata": {},
   "outputs": [],
   "source": [
    "def lm_cross_entropy(pred, target):\n",
    "    \"\"\"\n",
    "    pred - BatchSize x TargetLen x VocabSize\n",
    "    target - BatchSize x TargetLen\n",
    "    \"\"\"\n",
    "    pred_flat = pred.view(-1, pred.shape[-1])  # BatchSize*TargetLen x VocabSize\n",
    "    target_flat = target.view(-1)  # BatchSize*TargetLen\n",
    "    return F.cross_entropy(pred_flat, target_flat, ignore_index=0)\n",
    "\n",
    "\n",
    "def lr_scheduler(optimizer):\n",
    "    return torch.optim.lr_scheduler.ReduceLROnPlateau(optimizer,\n",
    "                                                      patience=20,\n",
    "                                                      factor=0.5,\n",
    "                                                      verbose=True)"
   ]
  },
  {
   "cell_type": "code",
   "execution_count": 96,
   "metadata": {},
   "outputs": [],
   "source": [
    "char_rnn = CharRNNCell()\n",
    "opt = torch.optim.Adam(char_rnn.parameters())\n",
    "history = []"
   ]
  },
  {
   "cell_type": "code",
   "execution_count": 97,
   "metadata": {},
   "outputs": [
    {
     "name": "stdout",
     "output_type": "stream",
     "text": [
      "Количество параметров 9315\n"
     ]
    }
   ],
   "source": [
    "print('Количество параметров', sum(np.product(t.shape) for t in char_rnn.parameters()))"
   ]
  },
  {
   "cell_type": "code",
   "execution_count": 98,
   "metadata": {},
   "outputs": [
    {
     "data": {
      "image/png": "[encoded data removed]",
      "text/plain": [
       "<Figure size 1080x720 with 1 Axes>"
      ]
     },
     "metadata": {
      "needs_background": "light"
     },
     "output_type": "display_data"
    },
    {
     "name": "stdout",
     "output_type": "stream",
     "text": [
      "CPU times: user 25min 26s, sys: 1min 11s, total: 26min 38s\n",
      "Wall time: 3min 12s\n"
     ]
    }
   ],
   "source": [
    "%%time\n",
    "\n",
    "# MAX_LENGTH = max(map(len, names))\n",
    "MAX_LENGTH = 15\n",
    "BATCH_SIZE = 1024\n",
    "\n",
    "for i in range(1000):\n",
    "    batch_ix = to_matrix(sample(names, BATCH_SIZE), token_to_id, max_len=MAX_LENGTH)\n",
    "    batch_ix = torch.tensor(batch_ix, dtype=torch.int64)\n",
    "    \n",
    "    logp_seq = rnn_loop(char_rnn, batch_ix)\n",
    "    \n",
    "    # compute loss\n",
    "    predictions_logp = logp_seq[:, :-1]\n",
    "    actual_next_tokens = batch_ix[:, 1:]\n",
    "\n",
    "    loss = -torch.mean(torch.gather(predictions_logp, dim=2, index=actual_next_tokens[:,:,None]))###YOUR CODE\n",
    "    \n",
    "    # train with backprop\n",
    "    loss.backward()\n",
    "    opt.step()\n",
    "    opt.zero_grad()\n",
    "    \n",
    "    # visualizing training process\n",
    "    history.append(loss.data.numpy())\n",
    "    if (i + 1) % 100 == 0:\n",
    "        clear_output(True)\n",
    "        plt.plot(history,label='loss')\n",
    "        plt.legend()\n",
    "        plt.show()\n",
    "\n",
    "assert np.mean(history[:10]) > np.mean(history[-10:]), \"RNN didn't converge.\""
   ]
  },
  {
   "cell_type": "code",
   "execution_count": null,
   "metadata": {},
   "outputs": [],
   "source": []
  },
  {
   "cell_type": "code",
   "execution_count": null,
   "metadata": {},
   "outputs": [],
   "source": []
  },
  {
   "cell_type": "code",
   "execution_count": 123,
   "metadata": {},
   "outputs": [],
   "source": []
  },
  {
   "cell_type": "code",
   "execution_count": 17,
   "metadata": {},
   "outputs": [],
   "source": [
    "from torch.utils.data import DataLoader"
   ]
  },
  {
   "cell_type": "code",
   "execution_count": 125,
   "metadata": {},
   "outputs": [],
   "source": []
  },
  {
   "cell_type": "code",
   "execution_count": null,
   "metadata": {},
   "outputs": [],
   "source": []
  },
  {
   "cell_type": "code",
   "execution_count": null,
   "metadata": {},
   "outputs": [],
   "source": []
  },
  {
   "cell_type": "code",
   "execution_count": 18,
   "metadata": {},
   "outputs": [],
   "source": [
    "def copy_data_to_device(data, device):\n",
    "    if torch.is_tensor(data):\n",
    "        return data.to(device)\n",
    "    elif isinstance(data, (list, tuple)):\n",
    "        return [copy_data_to_device(elem, device) for elem in data]\n",
    "    raise ValueError('Недопустимый тип данных {}'.format(type(data)))"
   ]
  },
  {
   "cell_type": "code",
   "execution_count": 37,
   "metadata": {},
   "outputs": [],
   "source": [
    "def train_eval_loop(model, train_dataset, val_dataset,\n",
    "                    criterion,\n",
    "                    lr=1e-4,\n",
    "                    epoch_n=10,\n",
    "                    batch_size=32,\n",
    "                    device=None,\n",
    "                    early_stopping_patience=10,\n",
    "                    l2_reg_alpha=0,\n",
    "                    max_batches_per_epoch_train=10000,\n",
    "                    max_batches_per_epoch_val=1000,\n",
    "                    data_loader_ctor=DataLoader,\n",
    "                    optimizer_ctor=None,\n",
    "                    lr_scheduler_ctor=None,\n",
    "                    shuffle_train=True,\n",
    "                    dataloader_workers_n=0):\n",
    "    \"\"\"\n",
    "    Цикл для обучения модели. После каждой эпохи качество модели оценивается по отложенной выборке.\n",
    "    :param model: torch.nn.Module - обучаемая модель\n",
    "    :param train_dataset: torch.utils.data.Dataset - данные для обучения\n",
    "    :param val_dataset: torch.utils.data.Dataset - данные для оценки качества\n",
    "    :param criterion: функция потерь для настройки модели\n",
    "    :param lr: скорость обучения\n",
    "    :param epoch_n: максимальное количество эпох\n",
    "    :param batch_size: количество примеров, обрабатываемых моделью за одну итерацию\n",
    "    :param device: cuda/cpu - устройство, на котором выполнять вычисления\n",
    "    :param early_stopping_patience: наибольшее количество эпох, в течение которых допускается\n",
    "        отсутствие улучшения модели, чтобы обучение продолжалось.\n",
    "    :param l2_reg_alpha: коэффициент L2-регуляризации\n",
    "    :param max_batches_per_epoch_train: максимальное количество итераций на одну эпоху обучения\n",
    "    :param max_batches_per_epoch_val: максимальное количество итераций на одну эпоху валидации\n",
    "    :param data_loader_ctor: функция для создания объекта, преобразующего датасет в батчи\n",
    "        (по умолчанию torch.utils.data.DataLoader)\n",
    "    :return: кортеж из двух элементов:\n",
    "        - среднее значение функции потерь на валидации на лучшей эпохе\n",
    "        - лучшая модель\n",
    "    \"\"\"\n",
    "    if device is None:\n",
    "        device = 'cuda' if torch.cuda.is_available() else 'cpu'\n",
    "    print(f\"Выбранное устройство: {device}\")\n",
    "    device = torch.device(device)\n",
    "    model.to(device)\n",
    "\n",
    "    if optimizer_ctor is None:\n",
    "        optimizer = torch.optim.Adam(model.parameters(), lr=lr, weight_decay=l2_reg_alpha)\n",
    "    else:\n",
    "        optimizer = optimizer_ctor(model.parameters(), lr=lr)\n",
    "\n",
    "    if lr_scheduler_ctor is not None:\n",
    "        lr_scheduler = lr_scheduler_ctor(optimizer)\n",
    "    else:\n",
    "        lr_scheduler = None\n",
    "\n",
    "    train_dataloader = data_loader_ctor(train_dataset, batch_size=batch_size, shuffle=shuffle_train,\n",
    "                                        num_workers=dataloader_workers_n)\n",
    "    val_dataloader = data_loader_ctor(val_dataset, batch_size=batch_size, shuffle=False,\n",
    "                                      num_workers=dataloader_workers_n)\n",
    "\n",
    "    best_val_loss = float('inf')\n",
    "    best_epoch_i = 0\n",
    "    best_model = copy.deepcopy(model)\n",
    "\n",
    "    history_mean_train_loss = []\n",
    "    history_mean_val_loss = []  \n",
    "    \n",
    "    for epoch_i in range(epoch_n):\n",
    "        try:\n",
    "            epoch_start = datetime.datetime.now()\n",
    "            print('Эпоха {}'.format(epoch_i))\n",
    "\n",
    "            model.train()\n",
    "            mean_train_loss = 0\n",
    "            train_batches_n = 0\n",
    "            for batch_i, (batch_x, batch_y) in enumerate(train_dataloader):\n",
    "                if batch_i > max_batches_per_epoch_train:\n",
    "                    break\n",
    "\n",
    "                batch_x = copy_data_to_device(batch_x, device)\n",
    "                batch_y = copy_data_to_device(batch_y, device)\n",
    "               \n",
    "                pred = rnn_loop(model, batch_x)\n",
    "#                 pred = model(batch_x)\n",
    "                loss = criterion(pred, batch_y)\n",
    "\n",
    "                model.zero_grad()\n",
    "                loss.backward()\n",
    "\n",
    "                optimizer.step()\n",
    "\n",
    "                mean_train_loss += float(loss)\n",
    "                train_batches_n += 1\n",
    "                \n",
    "            mean_train_loss /= train_batches_n\n",
    "            print('Эпоха: {} итераций, {:0.2f} сек'.format(train_batches_n, (datetime.datetime.now() - epoch_start).total_seconds()))\n",
    "            print('Среднее значение функции потерь на обучении', mean_train_loss)\n",
    "\n",
    "            model.eval()\n",
    "            mean_val_loss = 0\n",
    "            val_batches_n = 0\n",
    "\n",
    "            with torch.no_grad():\n",
    "                for batch_i, (batch_x, batch_y) in enumerate(val_dataloader):\n",
    "                    if batch_i > max_batches_per_epoch_val:\n",
    "                        break\n",
    "\n",
    "                    batch_x = copy_data_to_device(batch_x, device)\n",
    "                    batch_y = copy_data_to_device(batch_y, device)\n",
    "\n",
    "#                     pred = model(batch_x)\n",
    "                    pred = rnn_loop(model, batch_x)\n",
    "                    loss = criterion(pred, batch_y)\n",
    "\n",
    "                    mean_val_loss += float(loss)\n",
    "                    val_batches_n += 1\n",
    "\n",
    "            mean_val_loss /= val_batches_n\n",
    "            print('Среднее значение функции потерь на валидации', mean_val_loss)\n",
    "\n",
    "            if mean_val_loss < best_val_loss:\n",
    "                best_epoch_i = epoch_i\n",
    "                best_val_loss = mean_val_loss\n",
    "                best_model = copy.deepcopy(model)\n",
    "                print('Новая лучшая модель!')\n",
    "            elif epoch_i - best_epoch_i > early_stopping_patience:\n",
    "                print('Модель не улучшилась за последние {} эпох, прекращаем обучение'.format( early_stopping_patience))\n",
    "                break\n",
    "\n",
    "            if lr_scheduler is not None:\n",
    "                lr_scheduler.step(mean_val_loss)\n",
    "\n",
    "            history_mean_train_loss.append(mean_train_loss)\n",
    "            history_mean_val_loss.append(mean_val_loss)\n",
    "    \n",
    "            # visualizing training process\n",
    "            if (epoch_i + 1) % 2 == 0:\n",
    "                clear_output(True)\n",
    "                plt.plot(history_mean_train_loss, label='train_loss')\n",
    "                plt.plot(history_mean_val_loss, label='valid_loss')\n",
    "                plt.legend()\n",
    "                plt.show()\n",
    "        \n",
    "            print()\n",
    "        except KeyboardInterrupt:\n",
    "            print('Досрочно остановлено пользователем')\n",
    "            break\n",
    "        except Exception as ex:\n",
    "            print('Ошибка при обучении: {}\\n{}'.format(ex, traceback.format_exc()))\n",
    "            break\n",
    "\n",
    "    return best_val_loss, best_model"
   ]
  },
  {
   "cell_type": "code",
   "execution_count": 20,
   "metadata": {},
   "outputs": [],
   "source": [
    "from torch.utils.data import Dataset\n",
    "import copy\n",
    "import traceback\n",
    "import datetime"
   ]
  },
  {
   "cell_type": "code",
   "execution_count": 129,
   "metadata": {},
   "outputs": [],
   "source": [
    "class LanguageModelDataset(Dataset):\n",
    "    def __init__(self, names, vocab, max_length=100, pad_value=0):\n",
    "        self.names = names\n",
    "        self.max_length = max_length\n",
    "        self.pad_value = pad_value\n",
    "        self.vocab = vocab\n",
    "        \n",
    "    def __len__(self):\n",
    "        return len(self.names)\n",
    "\n",
    "    def __getitem__(self, item):\n",
    "        text = self.names[item]\n",
    "        text_to_id = self.to_matrix(text)\n",
    "        seed_part = torch.from_numpy(text_to_id[:self.max_length-1].astype(\"int64\"))\n",
    "        target_part = torch.from_numpy(text_to_id[1:].astype(\"int64\"))\n",
    "        return seed_part, target_part\n",
    "\n",
    "    def to_matrix(self, data):\n",
    "        \"\"\"\n",
    "        Casts a list of names into rnn-digestable matrix\n",
    "        \"\"\"\n",
    "        data_ix = np.zeros(self.max_length, 'int32') + self.vocab[' ']\n",
    "        line_ix = [self.vocab[char] for char in data]\n",
    "        data_ix[:len(line_ix[:self.max_length])] = line_ix[:self.max_length]\n",
    "        return data_ix"
   ]
  },
  {
   "cell_type": "code",
   "execution_count": 130,
   "metadata": {},
   "outputs": [
    {
     "name": "stdout",
     "output_type": "stream",
     "text": [
      "Размер обучающей выборки 6568\n",
      "Размер валидационной выборки 2816\n"
     ]
    }
   ],
   "source": [
    "np.random.shuffle(names)\n",
    "\n",
    "TRAIN_SPLIT = int(len(names) * 0.7)\n",
    "train_texts = names[:TRAIN_SPLIT]\n",
    "test_texts = names[TRAIN_SPLIT:]\n",
    "\n",
    "print('Размер обучающей выборки', len(train_texts))\n",
    "print('Размер валидационной выборки', len(test_texts))"
   ]
  },
  {
   "cell_type": "code",
   "execution_count": 131,
   "metadata": {},
   "outputs": [],
   "source": [
    "MAX_LENGTH = 15\n",
    "\n",
    "train_dataset = LanguageModelDataset(\n",
    "    train_texts, \n",
    "    token_to_id, \n",
    "    max_length=MAX_LENGTH, \n",
    "    pad_value=token_to_id[\" \"]\n",
    ")\n",
    "test_dataset = LanguageModelDataset(\n",
    "    test_texts, \n",
    "    token_to_id, \n",
    "    max_length=MAX_LENGTH, \n",
    "    pad_value=token_to_id[\" \"]\n",
    ")"
   ]
  },
  {
   "cell_type": "code",
   "execution_count": 132,
   "metadata": {},
   "outputs": [],
   "source": [
    "train_dataloader = DataLoader(\n",
    "    train_dataset, \n",
    "    batch_size=32, \n",
    "    shuffle=True,\n",
    "    num_workers=1\n",
    ")\n",
    "val_dataloader = DataLoader(\n",
    "    test_dataset, \n",
    "    batch_size=32, \n",
    "    shuffle=False,\n",
    "    num_workers=1\n",
    ")"
   ]
  },
  {
   "cell_type": "code",
   "execution_count": 133,
   "metadata": {},
   "outputs": [],
   "source": [
    "for batch_i, (batch_x, batch_y) in enumerate(train_dataloader):\n",
    "#     batch_i, (batch_x, batch_y)\n",
    "    break"
   ]
  },
  {
   "cell_type": "code",
   "execution_count": null,
   "metadata": {},
   "outputs": [],
   "source": []
  },
  {
   "cell_type": "code",
   "execution_count": 28,
   "metadata": {},
   "outputs": [],
   "source": [
    "class CharRNNCell(nn.Module):\n",
    "    \"\"\"\n",
    "    Implement the scheme above as torch module\n",
    "    \"\"\"\n",
    "    def __init__(self, num_tokens=len(tokens), embedding_size=16, rnn_num_units=64):\n",
    "        super(self.__class__,self).__init__()\n",
    "        self.num_units = rnn_num_units\n",
    "        \n",
    "        self.embedding = nn.Embedding(num_tokens, embedding_size)\n",
    "        self.rnn_update = nn.Linear(embedding_size + rnn_num_units, rnn_num_units)\n",
    "        self.rnn_to_logits = nn.Linear(rnn_num_units, num_tokens)\n",
    "        \n",
    "    def forward(self, x, h_prev):\n",
    "        \"\"\"\n",
    "        This method computes h_next(x, h_prev) and log P(x_next | h_next)\n",
    "        We'll call it repeatedly to produce the whole sequence.\n",
    "        \n",
    "        :param x: batch of character ids, variable containing vector of int64\n",
    "        :param h_prev: previous rnn hidden states, variable containing matrix [batch, rnn_num_units] of float32\n",
    "        \"\"\"\n",
    "        # get vector embedding of x\n",
    "        x_emb = self.embedding(x)\n",
    "        \n",
    "        # compute next hidden state using self.rnn_update\n",
    "        x_and_h = torch.cat([x_emb, h_prev], dim=1) #YOUR CODE HERE\n",
    "        h_next = self.rnn_update(x_and_h) #YOUR CODE HERE\n",
    "        \n",
    "        h_next = F.tanh(h_next)\n",
    "        \n",
    "        assert h_next.size() == h_prev.size()\n",
    "        \n",
    "        #compute logits for next character probs\n",
    "        logits = self.rnn_to_logits(h_next)\n",
    "        \n",
    "        return h_next, F.log_softmax(logits, -1)\n",
    "    \n",
    "    def initial_state(self, batch_size):\n",
    "        \"\"\" return rnn state before it processes first input (aka h0) \"\"\"\n",
    "        return Variable(torch.zeros(batch_size, self.num_units))"
   ]
  },
  {
   "cell_type": "code",
   "execution_count": 34,
   "metadata": {},
   "outputs": [],
   "source": [
    "def rnn_loop(rnn: nn.Module, batch_index: int) -> torch.Tensor:\n",
    "    \"\"\"\n",
    "    Computes log P(next_character) for all time-steps in names_ix\n",
    "    :param names_ix: an int32 matrix of shape [batch, time], output of to_matrix(names)\n",
    "    \"\"\"\n",
    "    batch_size, max_length = batch_index.size()\n",
    "    hid_state = rnn.initial_state(batch_size)\n",
    "    logprobs = []\n",
    "\n",
    "    for x_t in batch_index.transpose(0,1):\n",
    "        hid_state, logp_next = rnn(x_t, hid_state)  \n",
    "        logprobs.append(logp_next)\n",
    "        \n",
    "    return torch.stack(logprobs, dim=1)"
   ]
  },
  {
   "cell_type": "code",
   "execution_count": 35,
   "metadata": {},
   "outputs": [],
   "source": [
    "char_rnn = CharRNNCell()\n",
    "opt = torch.optim.Adam(char_rnn.parameters())\n",
    "history = []"
   ]
  },
  {
   "cell_type": "code",
   "execution_count": 38,
   "metadata": {},
   "outputs": [
    {
     "data": {
      "image/png": "[encoded data removed]",
      "text/plain": [
       "<Figure size 1080x720 with 1 Axes>"
      ]
     },
     "metadata": {
      "needs_background": "light"
     },
     "output_type": "display_data"
    },
    {
     "name": "stdout",
     "output_type": "stream",
     "text": [
      "\n",
      "Эпоха 104\n",
      "Эпоха: 103 итераций, 3.06 сек\n",
      "Среднее значение функции потерь на обучении 1.0126099603847392\n",
      "Среднее значение функции потерь на валидации 1.1230373192917218\n",
      "Модель не улучшилась за последние 50 эпох, прекращаем обучение\n",
      "CPU times: user 53min 21s, sys: 2min 4s, total: 55min 26s\n",
      "Wall time: 5min 58s\n"
     ]
    }
   ],
   "source": [
    "%%time\n",
    "\n",
    "best_val_loss, best_torch_transf_model = train_eval_loop(char_rnn, train_dataset, test_dataset,\n",
    "    lm_cross_entropy,\n",
    "    lr=2e-3,\n",
    "    epoch_n=5000,\n",
    "    batch_size=64,\n",
    "    device='cpu',\n",
    "    early_stopping_patience=50,\n",
    "    max_batches_per_epoch_train=1000,\n",
    "    max_batches_per_epoch_val=1000,\n",
    "    lr_scheduler_ctor=lr_scheduler\n",
    ")"
   ]
  },
  {
   "cell_type": "code",
   "execution_count": 39,
   "metadata": {},
   "outputs": [
    {
     "data": {
      "text/plain": [
       "CharRNNCell(\n",
       "  (embedding): Embedding(51, 16)\n",
       "  (rnn_update): Linear(in_features=80, out_features=64, bias=True)\n",
       "  (rnn_to_logits): Linear(in_features=64, out_features=51, bias=True)\n",
       ")"
      ]
     },
     "execution_count": 39,
     "metadata": {},
     "output_type": "execute_result"
    }
   ],
   "source": [
    "best_torch_transf_model"
   ]
  },
  {
   "cell_type": "code",
   "execution_count": null,
   "metadata": {},
   "outputs": [],
   "source": []
  },
  {
   "cell_type": "code",
   "execution_count": null,
   "metadata": {},
   "outputs": [],
   "source": []
  },
  {
   "cell_type": "code",
   "execution_count": 40,
   "metadata": {},
   "outputs": [],
   "source": [
    "def generate_sample(char_rnn, seed_phrase=' ', max_length=MAX_LENGTH, temperature=1.0):\n",
    "    '''\n",
    "    The function generates text given a phrase of length at least SEQ_LENGTH.\n",
    "    :param seed_phrase: prefix characters. The RNN is asked to continue the phrase\n",
    "    :param max_length: maximum output length, including seed_phrase\n",
    "    :param temperature: coefficient for sampling.  higher temperature produces more chaotic outputs,\n",
    "                        smaller temperature converges to the single most likely output\n",
    "    '''\n",
    "    \n",
    "    x_sequence = [token_to_id[token] for token in seed_phrase]\n",
    "    x_sequence = torch.tensor([x_sequence], dtype=torch.int64)\n",
    "    hid_state = char_rnn.initial_state(batch_size=1)\n",
    "    \n",
    "    #feed the seed phrase, if any\n",
    "    for i in range(len(seed_phrase) - 1):\n",
    "        hid_state, _ = char_rnn(x_sequence[:, i], hid_state)\n",
    "    \n",
    "    #start generating\n",
    "    for _ in range(max_length - len(seed_phrase)):\n",
    "        hid_state, logp_next = char_rnn(x_sequence[:, -1], hid_state)\n",
    "        p_next = F.softmax(logp_next / temperature, dim=-1).data.numpy()[0]\n",
    "        \n",
    "        # sample next token and push it back into x_sequence\n",
    "        next_ix = np.random.choice(len(tokens), p=p_next)\n",
    "        next_ix = torch.tensor([[next_ix]], dtype=torch.int64)\n",
    "        x_sequence = torch.cat([x_sequence, next_ix], dim=1)\n",
    "        \n",
    "    return ''.join([tokens[ix] for ix in x_sequence.data.numpy()[0]])"
   ]
  },
  {
   "cell_type": "code",
   "execution_count": 41,
   "metadata": {},
   "outputs": [
    {
     "name": "stdout",
     "output_type": "stream",
     "text": [
      "  Golovlazdev  \n",
      "  Vyazilyankiev\n",
      "  Abanov       \n",
      "  Velyarnien   \n",
      "  Yakovazavolko\n",
      "  Bachakov     \n",
      "  Lozfin       \n",
      "  Abragubovich \n",
      "  Abanimtin    \n",
      "  Meliman      \n"
     ]
    }
   ],
   "source": [
    "for _ in range(10):\n",
    "    print(generate_sample(best_torch_transf_model))"
   ]
  },
  {
   "cell_type": "code",
   "execution_count": 42,
   "metadata": {},
   "outputs": [
    {
     "name": "stdout",
     "output_type": "stream",
     "text": [
      " Arovenko      \n",
      " Arkin         \n",
      " Arovich       \n",
      " Arovlyanov    \n",
      " Arovlyakov    \n",
      " Arovich       \n",
      " Arkov         \n",
      " Arihin        \n",
      " Arov          \n",
      " Arykhin       \n"
     ]
    }
   ],
   "source": [
    "for _ in range(10):\n",
    "    print(generate_sample(char_rnn, seed_phrase=' Ar'))"
   ]
  },
  {
   "cell_type": "code",
   "execution_count": 134,
   "metadata": {},
   "outputs": [],
   "source": [
    "class CharRNNLoop(nn.Module):\n",
    "    def __init__(self, num_tokens=num_tokens, emb_size=16, rnn_num_units=64):\n",
    "        super(self.__class__, self).__init__()\n",
    "        self.emb = nn.Embedding(num_tokens, emb_size)\n",
    "        self.rnn = nn.RNN(emb_size, rnn_num_units, batch_first=True)\n",
    "        self.hid_to_logits = nn.Linear(rnn_num_units, num_tokens)\n",
    "        \n",
    "    def forward(self, x):\n",
    "        assert isinstance(x, Variable) and isinstance(x.data, torch.LongTensor)\n",
    "        h_seq, _ = self.rnn(self.emb(x))\n",
    "        next_logits = self.hid_to_logits(h_seq)\n",
    "        next_logp = F.log_softmax(next_logits, dim=-1)\n",
    "        return next_logp"
   ]
  },
  {
   "cell_type": "code",
   "execution_count": 139,
   "metadata": {},
   "outputs": [],
   "source": [
    "def train_eval_loop(model, train_dataset, val_dataset,\n",
    "                    criterion,\n",
    "                    lr=1e-4,\n",
    "                    epoch_n=10,\n",
    "                    batch_size=32,\n",
    "                    device=None,\n",
    "                    early_stopping_patience=10,\n",
    "                    l2_reg_alpha=0,\n",
    "                    max_batches_per_epoch_train=10000,\n",
    "                    max_batches_per_epoch_val=1000,\n",
    "                    data_loader_ctor=DataLoader,\n",
    "                    optimizer_ctor=None,\n",
    "                    lr_scheduler_ctor=None,\n",
    "                    shuffle_train=True,\n",
    "                    dataloader_workers_n=0):\n",
    "    \"\"\"\n",
    "    Цикл для обучения модели. После каждой эпохи качество модели оценивается по отложенной выборке.\n",
    "    :param model: torch.nn.Module - обучаемая модель\n",
    "    :param train_dataset: torch.utils.data.Dataset - данные для обучения\n",
    "    :param val_dataset: torch.utils.data.Dataset - данные для оценки качества\n",
    "    :param criterion: функция потерь для настройки модели\n",
    "    :param lr: скорость обучения\n",
    "    :param epoch_n: максимальное количество эпох\n",
    "    :param batch_size: количество примеров, обрабатываемых моделью за одну итерацию\n",
    "    :param device: cuda/cpu - устройство, на котором выполнять вычисления\n",
    "    :param early_stopping_patience: наибольшее количество эпох, в течение которых допускается\n",
    "        отсутствие улучшения модели, чтобы обучение продолжалось.\n",
    "    :param l2_reg_alpha: коэффициент L2-регуляризации\n",
    "    :param max_batches_per_epoch_train: максимальное количество итераций на одну эпоху обучения\n",
    "    :param max_batches_per_epoch_val: максимальное количество итераций на одну эпоху валидации\n",
    "    :param data_loader_ctor: функция для создания объекта, преобразующего датасет в батчи\n",
    "        (по умолчанию torch.utils.data.DataLoader)\n",
    "    :return: кортеж из двух элементов:\n",
    "        - среднее значение функции потерь на валидации на лучшей эпохе\n",
    "        - лучшая модель\n",
    "    \"\"\"\n",
    "    if device is None:\n",
    "        device = 'cuda' if torch.cuda.is_available() else 'cpu'\n",
    "    print(f\"Выбранное устройство: {device}\")\n",
    "    device = torch.device(device)\n",
    "    model.to(device)\n",
    "\n",
    "    if optimizer_ctor is None:\n",
    "        optimizer = torch.optim.Adam(model.parameters(), lr=lr, weight_decay=l2_reg_alpha)\n",
    "    else:\n",
    "        optimizer = optimizer_ctor(model.parameters(), lr=lr)\n",
    "\n",
    "    if lr_scheduler_ctor is not None:\n",
    "        lr_scheduler = lr_scheduler_ctor(optimizer)\n",
    "    else:\n",
    "        lr_scheduler = None\n",
    "\n",
    "    train_dataloader = data_loader_ctor(train_dataset, batch_size=batch_size, shuffle=shuffle_train,\n",
    "                                        num_workers=dataloader_workers_n)\n",
    "    val_dataloader = data_loader_ctor(val_dataset, batch_size=batch_size, shuffle=False,\n",
    "                                      num_workers=dataloader_workers_n)\n",
    "\n",
    "    best_val_loss = float('inf')\n",
    "    best_epoch_i = 0\n",
    "    best_model = copy.deepcopy(model)\n",
    "\n",
    "    history_mean_train_loss = []\n",
    "    history_mean_val_loss = []  \n",
    "    \n",
    "    for epoch_i in range(epoch_n):\n",
    "        try:\n",
    "            epoch_start = datetime.datetime.now()\n",
    "            print('Эпоха {}'.format(epoch_i))\n",
    "\n",
    "            model.train()\n",
    "            mean_train_loss = 0\n",
    "            train_batches_n = 0\n",
    "            for batch_i, (batch_x, batch_y) in enumerate(train_dataloader):\n",
    "                if batch_i > max_batches_per_epoch_train:\n",
    "                    break\n",
    "\n",
    "                batch_x = copy_data_to_device(batch_x, device)\n",
    "                batch_y = copy_data_to_device(batch_y, device)\n",
    "            \n",
    "                # pred = rnn_loop(model, batch_x)\n",
    "                pred = model(batch_x)\n",
    "                loss = criterion(pred, batch_y)\n",
    "\n",
    "                model.zero_grad()\n",
    "                loss.backward()\n",
    "\n",
    "                optimizer.step()\n",
    "\n",
    "                mean_train_loss += float(loss)\n",
    "                train_batches_n += 1\n",
    "                \n",
    "            mean_train_loss /= train_batches_n\n",
    "            print('Эпоха: {} итераций, {:0.2f} сек'.format(train_batches_n, (datetime.datetime.now() - epoch_start).total_seconds()))\n",
    "            print('Среднее значение функции потерь на обучении', mean_train_loss)\n",
    "\n",
    "            model.eval()\n",
    "            mean_val_loss = 0\n",
    "            val_batches_n = 0\n",
    "\n",
    "            with torch.no_grad():\n",
    "                for batch_i, (batch_x, batch_y) in enumerate(val_dataloader):\n",
    "                    if batch_i > max_batches_per_epoch_val:\n",
    "                        break\n",
    "\n",
    "                    batch_x = copy_data_to_device(batch_x, device)\n",
    "                    batch_y = copy_data_to_device(batch_y, device)\n",
    "\n",
    "                    pred = model(batch_x)\n",
    "#                     pred = rnn_loop(model, batch_x)\n",
    "                    loss = criterion(pred, batch_y)\n",
    "\n",
    "                    mean_val_loss += float(loss)\n",
    "                    val_batches_n += 1\n",
    "\n",
    "            mean_val_loss /= val_batches_n\n",
    "            print('Среднее значение функции потерь на валидации', mean_val_loss)\n",
    "\n",
    "            if mean_val_loss < best_val_loss:\n",
    "                best_epoch_i = epoch_i\n",
    "                best_val_loss = mean_val_loss\n",
    "                best_model = copy.deepcopy(model)\n",
    "                print('Новая лучшая модель!')\n",
    "            elif epoch_i - best_epoch_i > early_stopping_patience:\n",
    "                print('Модель не улучшилась за последние {} эпох, прекращаем обучение'.format( early_stopping_patience))\n",
    "                break\n",
    "\n",
    "            if lr_scheduler is not None:\n",
    "                lr_scheduler.step(mean_val_loss)\n",
    "\n",
    "            history_mean_train_loss.append(mean_train_loss)\n",
    "            history_mean_val_loss.append(mean_val_loss)\n",
    "    \n",
    "            # visualizing training process\n",
    "            if (epoch_i + 1) % 2 == 0:\n",
    "                clear_output(True)\n",
    "                plt.plot(history_mean_train_loss, label='train_loss')\n",
    "                plt.plot(history_mean_val_loss, label='valid_loss')\n",
    "                plt.legend()\n",
    "                plt.show()\n",
    "        \n",
    "            print()\n",
    "        except KeyboardInterrupt:\n",
    "            print('Досрочно остановлено пользователем')\n",
    "            break\n",
    "        except Exception as ex:\n",
    "            print('Ошибка при обучении: {}\\n{}'.format(ex, traceback.format_exc()))\n",
    "            break\n",
    "\n",
    "    return best_val_loss, best_model"
   ]
  },
  {
   "cell_type": "code",
   "execution_count": 140,
   "metadata": {},
   "outputs": [],
   "source": [
    "model = CharRNNLoop()\n",
    "opt = torch.optim.Adam(model.parameters())\n",
    "history = []"
   ]
  },
  {
   "cell_type": "code",
   "execution_count": 141,
   "metadata": {},
   "outputs": [
    {
     "name": "stdout",
     "output_type": "stream",
     "text": [
      "Количество параметров 9379\n"
     ]
    }
   ],
   "source": [
    "print('Количество параметров', sum(np.product(t.shape) for t in model.parameters()))"
   ]
  },
  {
   "cell_type": "code",
   "execution_count": 142,
   "metadata": {},
   "outputs": [
    {
     "data": {
      "image/png": "[encoded data removed]",
      "text/plain": [
       "<Figure size 1080x720 with 1 Axes>"
      ]
     },
     "metadata": {
      "needs_background": "light"
     },
     "output_type": "display_data"
    },
    {
     "name": "stdout",
     "output_type": "stream",
     "text": [
      "\n",
      "Эпоха 134\n",
      "Эпоха: 103 итераций, 1.70 сек\n",
      "Среднее значение функции потерь на обучении 0.994394686036897\n",
      "Среднее значение функции потерь на валидации 1.1299108998341993\n",
      "\n",
      "Эпоха 135\n",
      "Эпоха: 103 итераций, 1.72 сек\n",
      "Среднее значение функции потерь на обучении 0.9944440768760385\n",
      "Среднее значение функции потерь на валидации 1.1297293495048175\n",
      "Модель не улучшилась за последние 50 эпох, прекращаем обучение\n",
      "CPU times: user 34min 49s, sys: 1min 12s, total: 36min 2s\n",
      "Wall time: 4min 47s\n"
     ]
    }
   ],
   "source": [
    "%%time\n",
    "\n",
    "best_val_loss, best_torch_transf_model = train_eval_loop(model, train_dataset, test_dataset,\n",
    "    lm_cross_entropy,\n",
    "    lr=2e-3,\n",
    "    epoch_n=5000,\n",
    "    batch_size=64,\n",
    "    device='cpu',\n",
    "    early_stopping_patience=50,\n",
    "    max_batches_per_epoch_train=1000,\n",
    "    max_batches_per_epoch_val=1000,\n",
    "    lr_scheduler_ctor=lr_scheduler\n",
    ")"
   ]
  },
  {
   "cell_type": "code",
   "execution_count": 80,
   "metadata": {},
   "outputs": [],
   "source": [
    "# the model applies over the whole sequence\n",
    "batch_ix = to_matrix(sample(names, 32), token_to_id, max_len=MAX_LENGTH)\n",
    "batch_ix = Variable(torch.LongTensor(batch_ix))\n",
    "\n",
    "logp_seq = model(batch_ix)\n",
    "\n",
    "# compute loss\n",
    "loss = F.nll_loss(logp_seq[:, 1:].contiguous().view(-1, num_tokens), \n",
    "                  batch_ix[:, :-1].contiguous().view(-1))\n",
    "\n",
    "loss.backward()"
   ]
  },
  {
   "cell_type": "code",
   "execution_count": 81,
   "metadata": {},
   "outputs": [
    {
     "data": {
      "image/png": "[encoded data removed]",
      "text/plain": [
       "<Figure size 1080x720 with 1 Axes>"
      ]
     },
     "metadata": {
      "needs_background": "light"
     },
     "output_type": "display_data"
    },
    {
     "name": "stdout",
     "output_type": "stream",
     "text": [
      "CPU times: user 1h 26min 33s, sys: 2min 59s, total: 1h 29min 32s\n",
      "Wall time: 12min 21s\n"
     ]
    }
   ],
   "source": [
    "%%time\n",
    "\n",
    "# MAX_LENGTH = max(map(len, names))\n",
    "MAX_LENGTH = 15\n",
    "BATCH_SIZE = 1024\n",
    "\n",
    "\n",
    "for i in range(4000):\n",
    "    batch_ix = to_matrix(sample(names, BATCH_SIZE), token_to_id, max_len=MAX_LENGTH)\n",
    "    batch_ix = torch.tensor(batch_ix, dtype=torch.int64)\n",
    "    \n",
    "    logp_seq = model(batch_ix)\n",
    "    \n",
    "    # compute loss\n",
    "    predictions_logp = logp_seq[:, :-1]\n",
    "    actual_next_tokens = batch_ix[:, 1:]\n",
    "\n",
    "    loss = -torch.mean(torch.gather(predictions_logp, dim=2, index=actual_next_tokens[:,:,None]))\n",
    "    \n",
    "    # train with backprop\n",
    "    loss.backward()\n",
    "    opt.step()\n",
    "    opt.zero_grad()\n",
    "    \n",
    "    history.append(loss.data.numpy())\n",
    "    if (i + 1) % 100 == 0:\n",
    "        clear_output(True)\n",
    "        plt.plot(history, label='loss')\n",
    "        plt.legend()\n",
    "        plt.show()\n",
    "\n",
    "assert np.mean(history[:25]) > np.mean(history[-25:]), \"RNN didn't converge.\""
   ]
  },
  {
   "cell_type": "code",
   "execution_count": 50,
   "metadata": {},
   "outputs": [
    {
     "ename": "AttributeError",
     "evalue": "'CharRNNLoop' object has no attribute 'initial_state'",
     "output_type": "error",
     "traceback": [
      "\u001b[0;31m---------------------------------------------------------------------------\u001b[0m",
      "\u001b[0;31mAttributeError\u001b[0m                            Traceback (most recent call last)",
      "\u001b[0;32m<ipython-input-50-582da32fe167>\u001b[0m in \u001b[0;36m<module>\u001b[0;34m\u001b[0m\n\u001b[1;32m      1\u001b[0m \u001b[0;32mfor\u001b[0m \u001b[0m_\u001b[0m \u001b[0;32min\u001b[0m \u001b[0mrange\u001b[0m\u001b[0;34m(\u001b[0m\u001b[0;36m10\u001b[0m\u001b[0;34m)\u001b[0m\u001b[0;34m:\u001b[0m\u001b[0;34m\u001b[0m\u001b[0;34m\u001b[0m\u001b[0m\n\u001b[0;32m----> 2\u001b[0;31m     \u001b[0mprint\u001b[0m\u001b[0;34m(\u001b[0m\u001b[0mgenerate_sample\u001b[0m\u001b[0;34m(\u001b[0m\u001b[0mbest_torch_transf_model\u001b[0m\u001b[0;34m)\u001b[0m\u001b[0;34m)\u001b[0m\u001b[0;34m\u001b[0m\u001b[0;34m\u001b[0m\u001b[0m\n\u001b[0m",
      "\u001b[0;32m<ipython-input-40-1501bc583bdd>\u001b[0m in \u001b[0;36mgenerate_sample\u001b[0;34m(char_rnn, seed_phrase, max_length, temperature)\u001b[0m\n\u001b[1;32m     10\u001b[0m     \u001b[0mx_sequence\u001b[0m \u001b[0;34m=\u001b[0m \u001b[0;34m[\u001b[0m\u001b[0mtoken_to_id\u001b[0m\u001b[0;34m[\u001b[0m\u001b[0mtoken\u001b[0m\u001b[0;34m]\u001b[0m \u001b[0;32mfor\u001b[0m \u001b[0mtoken\u001b[0m \u001b[0;32min\u001b[0m \u001b[0mseed_phrase\u001b[0m\u001b[0;34m]\u001b[0m\u001b[0;34m\u001b[0m\u001b[0;34m\u001b[0m\u001b[0m\n\u001b[1;32m     11\u001b[0m     \u001b[0mx_sequence\u001b[0m \u001b[0;34m=\u001b[0m \u001b[0mtorch\u001b[0m\u001b[0;34m.\u001b[0m\u001b[0mtensor\u001b[0m\u001b[0;34m(\u001b[0m\u001b[0;34m[\u001b[0m\u001b[0mx_sequence\u001b[0m\u001b[0;34m]\u001b[0m\u001b[0;34m,\u001b[0m \u001b[0mdtype\u001b[0m\u001b[0;34m=\u001b[0m\u001b[0mtorch\u001b[0m\u001b[0;34m.\u001b[0m\u001b[0mint64\u001b[0m\u001b[0;34m)\u001b[0m\u001b[0;34m\u001b[0m\u001b[0;34m\u001b[0m\u001b[0m\n\u001b[0;32m---> 12\u001b[0;31m     \u001b[0mhid_state\u001b[0m \u001b[0;34m=\u001b[0m \u001b[0mchar_rnn\u001b[0m\u001b[0;34m.\u001b[0m\u001b[0minitial_state\u001b[0m\u001b[0;34m(\u001b[0m\u001b[0mbatch_size\u001b[0m\u001b[0;34m=\u001b[0m\u001b[0;36m1\u001b[0m\u001b[0;34m)\u001b[0m\u001b[0;34m\u001b[0m\u001b[0;34m\u001b[0m\u001b[0m\n\u001b[0m\u001b[1;32m     13\u001b[0m \u001b[0;34m\u001b[0m\u001b[0m\n\u001b[1;32m     14\u001b[0m     \u001b[0;31m#feed the seed phrase, if any\u001b[0m\u001b[0;34m\u001b[0m\u001b[0;34m\u001b[0m\u001b[0;34m\u001b[0m\u001b[0m\n",
      "\u001b[0;32m~/projects/simcube/venv/lib/python3.8/site-packages/torch/nn/modules/module.py\u001b[0m in \u001b[0;36m__getattr__\u001b[0;34m(self, name)\u001b[0m\n\u001b[1;32m    573\u001b[0m             \u001b[0;32mif\u001b[0m \u001b[0mname\u001b[0m \u001b[0;32min\u001b[0m \u001b[0mmodules\u001b[0m\u001b[0;34m:\u001b[0m\u001b[0;34m\u001b[0m\u001b[0;34m\u001b[0m\u001b[0m\n\u001b[1;32m    574\u001b[0m                 \u001b[0;32mreturn\u001b[0m \u001b[0mmodules\u001b[0m\u001b[0;34m[\u001b[0m\u001b[0mname\u001b[0m\u001b[0;34m]\u001b[0m\u001b[0;34m\u001b[0m\u001b[0;34m\u001b[0m\u001b[0m\n\u001b[0;32m--> 575\u001b[0;31m         raise AttributeError(\"'{}' object has no attribute '{}'\".format(\n\u001b[0m\u001b[1;32m    576\u001b[0m             type(self).__name__, name))\n\u001b[1;32m    577\u001b[0m \u001b[0;34m\u001b[0m\u001b[0m\n",
      "\u001b[0;31mAttributeError\u001b[0m: 'CharRNNLoop' object has no attribute 'initial_state'"
     ]
    }
   ],
   "source": [
    "for _ in range(10):\n",
    "    print(generate_sample(char_rnn))"
   ]
  },
  {
   "cell_type": "code",
   "execution_count": null,
   "metadata": {},
   "outputs": [],
   "source": []
  },
  {
   "cell_type": "code",
   "execution_count": 121,
   "metadata": {},
   "outputs": [],
   "source": [
    "from simcube.pipeline import init_random_seed, copy_data_to_device"
   ]
  },
  {
   "cell_type": "code",
   "execution_count": 122,
   "metadata": {},
   "outputs": [],
   "source": [
    "init_random_seed(42)"
   ]
  },
  {
   "cell_type": "code",
   "execution_count": 123,
   "metadata": {},
   "outputs": [],
   "source": [
    "class CharRNNLoop(nn.Module):\n",
    "    def __init__(self, num_tokens=num_tokens, emb_size=16, rnn_num_units=64):\n",
    "        super(self.__class__, self).__init__()\n",
    "        self.emb = nn.Embedding(num_tokens, emb_size)\n",
    "        self.rnn = nn.RNN(emb_size, rnn_num_units, batch_first=True)\n",
    "        self.hid_to_logits = nn.Linear(rnn_num_units, num_tokens)\n",
    "        \n",
    "    def forward(self, x):\n",
    "#         assert isinstance(x, Variable) and isinstance(x.data, torch.LongTensor)\n",
    "        h_seq, _ = self.rnn(self.emb(x))\n",
    "        next_logits = self.hid_to_logits(h_seq)\n",
    "        next_logp = F.log_softmax(next_logits, dim=-1)\n",
    "        return next_logp"
   ]
  },
  {
   "cell_type": "code",
   "execution_count": 124,
   "metadata": {},
   "outputs": [],
   "source": [
    "MAX_LENGTH = 18\n",
    "BATCH_SIZE = 1024"
   ]
  },
  {
   "cell_type": "code",
   "execution_count": 125,
   "metadata": {},
   "outputs": [],
   "source": [
    "device = 'cuda' if torch.cuda.is_available() else 'cpu'"
   ]
  },
  {
   "cell_type": "code",
   "execution_count": 126,
   "metadata": {},
   "outputs": [],
   "source": [
    "device = torch.device(device)"
   ]
  },
  {
   "cell_type": "code",
   "execution_count": 127,
   "metadata": {},
   "outputs": [],
   "source": [
    "model = CharRNNLoop(emb_size=32)\n",
    "opt = torch.optim.Adam(model.parameters())\n",
    "history = []"
   ]
  },
  {
   "cell_type": "code",
   "execution_count": 128,
   "metadata": {},
   "outputs": [
    {
     "data": {
      "text/plain": [
       "CharRNNLoop(\n",
       "  (emb): Embedding(51, 32)\n",
       "  (rnn): RNN(32, 64, batch_first=True)\n",
       "  (hid_to_logits): Linear(in_features=64, out_features=51, bias=True)\n",
       ")"
      ]
     },
     "execution_count": 128,
     "metadata": {},
     "output_type": "execute_result"
    }
   ],
   "source": [
    "model.to(device)"
   ]
  },
  {
   "cell_type": "code",
   "execution_count": 129,
   "metadata": {},
   "outputs": [
    {
     "name": "stdout",
     "output_type": "stream",
     "text": [
      "Количество параметров 11219\n"
     ]
    }
   ],
   "source": [
    "print('Количество параметров', sum(np.product(t.shape) for t in model.parameters()))"
   ]
  },
  {
   "cell_type": "code",
   "execution_count": 130,
   "metadata": {},
   "outputs": [
    {
     "data": {
      "image/png": "[encoded data removed]",
      "text/plain": [
       "<Figure size 1080x720 with 1 Axes>"
      ]
     },
     "metadata": {
      "needs_background": "light"
     },
     "output_type": "display_data"
    },
    {
     "name": "stdout",
     "output_type": "stream",
     "text": [
      "CPU times: user 43 s, sys: 415 ms, total: 43.5 s\n",
      "Wall time: 43.1 s\n"
     ]
    }
   ],
   "source": [
    "%%time\n",
    "\n",
    "for i in range(4000):\n",
    "    batch_ix = to_matrix(sample(names, BATCH_SIZE), token_to_id, max_len=MAX_LENGTH)\n",
    "    batch_ix = torch.tensor(batch_ix, dtype=torch.int64)\n",
    "    batch_ix = copy_data_to_device(batch_ix, device)\n",
    "    \n",
    "    logp_seq = model(batch_ix)\n",
    "    \n",
    "    # compute loss\n",
    "    predictions_logp = logp_seq[:, :-1]\n",
    "    actual_next_tokens = batch_ix[:, 1:]\n",
    "        \n",
    "    loss = -torch.mean(torch.gather(predictions_logp, dim=2, index=actual_next_tokens[:,:,None]))\n",
    "    \n",
    "    # train with backprop\n",
    "    loss.backward()\n",
    "    opt.step()\n",
    "    opt.zero_grad()\n",
    "    \n",
    "    history.append(loss.data.cpu().numpy())\n",
    "    if (i + 1) % 100 == 0:\n",
    "        clear_output(True)\n",
    "        plt.plot(history, label='loss')\n",
    "        plt.legend()\n",
    "        plt.show()\n",
    "\n",
    "assert np.mean(history[:25]) > np.mean(history[-25:]), \"RNN didn't converge.\""
   ]
  },
  {
   "cell_type": "code",
   "execution_count": 63,
   "metadata": {},
   "outputs": [],
   "source": [
    "def generate_sample(char_rnn, seed_phrase=' ', max_length=MAX_LENGTH, temperature=1.0):\n",
    "    '''\n",
    "    The function generates text given a phrase of length at least SEQ_LENGTH.\n",
    "    :param seed_phrase: prefix characters. The RNN is asked to continue the phrase\n",
    "    :param max_length: maximum output length, including seed_phrase\n",
    "    :param temperature: coefficient for sampling.  higher temperature produces more chaotic outputs,\n",
    "                        smaller temperature converges to the single most likely output\n",
    "    '''\n",
    "    \n",
    "    x_sequence = [token_to_id[token] for token in seed_phrase]\n",
    "    x_sequence = torch.tensor([x_sequence, ], dtype=torch.int64)\n",
    "    hid_state = char_rnn.initial_state(batch_size=1)\n",
    "    \n",
    "    #feed the seed phrase, if any\n",
    "    for i in range(len(seed_phrase) - 1):\n",
    "        hid_state, _ = char_rnn(x_sequence[:, i], hid_state)\n",
    "    \n",
    "    #start generating\n",
    "    for _ in range(max_length - len(seed_phrase)):\n",
    "        hid_state, logp_next = char_rnn(x_sequence[:, -1], hid_state)\n",
    "        p_next = F.softmax(logp_next / temperature, dim=-1).data.numpy()[0]\n",
    "        \n",
    "        # sample next token and push it back into x_sequence\n",
    "        next_ix = np.random.choice(len(tokens), p=p_next)\n",
    "        next_ix = torch.tensor([[next_ix]], dtype=torch.int64)\n",
    "        x_sequence = torch.cat([x_sequence, next_ix], dim=1)\n",
    "        \n",
    "    return ''.join([tokens[ix] for ix in x_sequence.data.numpy()[0]])"
   ]
  },
  {
   "cell_type": "code",
   "execution_count": 143,
   "metadata": {},
   "outputs": [],
   "source": [
    "def generate_sample(char_rnn, seed_phrase=' ', max_length=MAX_LENGTH, temperature=1.0):\n",
    "    '''\n",
    "    The function generates text given a phrase of length at least SEQ_LENGTH.\n",
    "    :param seed_phrase: prefix characters. The RNN is asked to continue the phrase\n",
    "    :param max_length: maximum output length, including seed_phrase\n",
    "    :param temperature: coefficient for sampling.  higher temperature produces more chaotic outputs,\n",
    "                        smaller temperature converges to the single most likely output\n",
    "    '''\n",
    "    \n",
    "    x_sequence = [token_to_id[token] for token in seed_phrase]\n",
    "    x_sequence = torch.tensor([x_sequence, ], dtype=torch.int64)\n",
    "    \n",
    "    #start generating\n",
    "    for _ in range(max_length - len(seed_phrase)):\n",
    "        logp_next = char_rnn(x_sequence,)\n",
    "        p_next = F.softmax(logp_next / temperature, dim=-1).data.numpy()[0][0]\n",
    "        \n",
    "        # sample next token and push it back into x_sequence\n",
    "        next_ix = np.random.choice(len(tokens), p=p_next)\n",
    "        next_ix = torch.tensor([[next_ix]], dtype=torch.int64)\n",
    "        x_sequence = torch.cat([x_sequence, next_ix], dim=1)\n",
    "        \n",
    "    return ''.join([tokens[ix] for ix in x_sequence.data.numpy()[0]])"
   ]
  },
  {
   "cell_type": "code",
   "execution_count": null,
   "metadata": {},
   "outputs": [],
   "source": []
  },
  {
   "cell_type": "code",
   "execution_count": 148,
   "metadata": {},
   "outputs": [
    {
     "name": "stdout",
     "output_type": "stream",
     "text": [
      "Trumphrzzzzzzzz\n",
      "Trumpzzzlzzzzzc\n",
      "Trumpdhnzzzzzzz\n",
      "Trumpzzzzrzhzrz\n",
      "Trumpzzrrzrizrz\n",
      "Trumpzhzzzzzorz\n",
      "Trumprzzzzzzzzz\n",
      "Trumpzzrzhclzzz\n",
      "Trumpzhzzihrzzr\n",
      "Trumpnzzzlznzzz\n"
     ]
    }
   ],
   "source": [
    "for _ in range(10):\n",
    "    print(generate_sample(best_torch_transf_model, seed_phrase=\"Trump\"))"
   ]
  },
  {
   "cell_type": "code",
   "execution_count": 146,
   "metadata": {},
   "outputs": [
    {
     "name": "stdout",
     "output_type": "stream",
     "text": [
      " VDHGZMZYBGLSAD\n",
      " YVYRDGTVLBZZOA\n",
      " YBTSYYODJVSPPO\n",
      " AVJMGGLTADMRMY\n",
      " HADVVHLTPGSPAB\n",
      " YYASAJPGYSDZNA\n",
      " JMJAZTZYBBMEHV\n",
      " GZZJYZJZJDJBBB\n",
      " GASGMBSVDRZVZB\n",
      " FHPESTRJAATBYC\n"
     ]
    }
   ],
   "source": [
    "for _ in range(10):\n",
    "    print(generate_sample(best_torch_transf_model))"
   ]
  },
  {
   "cell_type": "code",
   "execution_count": null,
   "metadata": {},
   "outputs": [],
   "source": []
  },
  {
   "cell_type": "code",
   "execution_count": null,
   "metadata": {},
   "outputs": [],
   "source": [
    "# the model applies over the whole sequence\n",
    "batch_ix = to_matrix(sample(names, 32), token_to_id, max_len=MAX_LENGTH)\n",
    "batch_ix = Variable(torch.IntTensor(batch_ix))\n",
    "\n",
    "logp_seq = model(batch_ix)\n",
    "\n",
    "# compute loss\n",
    "loss = F.nll_loss(logp_seq[:, 1:].contiguous().view(-1, num_tokens), \n",
    "                  batch_ix[:, :-1].contiguous().view(-1))\n",
    "\n",
    "loss.backward()"
   ]
  },
  {
   "cell_type": "code",
   "execution_count": null,
   "metadata": {},
   "outputs": [],
   "source": []
  },
  {
   "cell_type": "code",
   "execution_count": 32,
   "metadata": {},
   "outputs": [],
   "source": [
    "# Если Вы запускаете ноутбук на colab или kaggle, добавьте в начало пути ./stepik-dl-nlp\n",
    "with open('../../data/raw/author_quotes.txt') as input_file:\n",
    "    quotes = input_file.read()[:-1].split('\\n')\n",
    "    quotes = [' ' + line for line in quotes]"
   ]
  },
  {
   "cell_type": "code",
   "execution_count": 33,
   "metadata": {},
   "outputs": [
    {
     "data": {
      "text/plain": [
       "[' If you live to be a hundred, I want to live to be a hundred minus one day so I never have to live without you.',\n",
       " \" Promise me you'll always remember: You're braver than you believe, and stronger than you seem, and smarter than you think.\",\n",
       " ' Did you ever stop to think, and forget to start again?',\n",
       " ' Organizing is what you do before you do something, so that when you do it, it is not all mixed up.',\n",
       " ' Weeds are flowers too, once you get to know them.']"
      ]
     },
     "execution_count": 33,
     "metadata": {},
     "output_type": "execute_result"
    }
   ],
   "source": [
    "quotes[:5]"
   ]
  },
  {
   "cell_type": "code",
   "execution_count": 34,
   "metadata": {},
   "outputs": [],
   "source": [
    "tokens = list(set(''.join(quotes)))\n",
    "token_to_id = {token: idx for idx, token in enumerate(tokens)}\n",
    "num_tokens = len(tokens)"
   ]
  },
  {
   "cell_type": "code",
   "execution_count": null,
   "metadata": {},
   "outputs": [],
   "source": []
  },
  {
   "cell_type": "code",
   "execution_count": null,
   "metadata": {},
   "outputs": [],
   "source": []
  },
  {
   "cell_type": "code",
   "execution_count": null,
   "metadata": {},
   "outputs": [],
   "source": []
  },
  {
   "cell_type": "code",
   "execution_count": null,
   "metadata": {},
   "outputs": [],
   "source": []
  },
  {
   "cell_type": "code",
   "execution_count": null,
   "metadata": {},
   "outputs": [],
   "source": []
  },
  {
   "cell_type": "code",
   "execution_count": null,
   "metadata": {},
   "outputs": [],
   "source": []
  },
  {
   "cell_type": "code",
   "execution_count": null,
   "metadata": {},
   "outputs": [],
   "source": []
  },
  {
   "cell_type": "code",
   "execution_count": null,
   "metadata": {},
   "outputs": [],
   "source": []
  },
  {
   "cell_type": "code",
   "execution_count": null,
   "metadata": {},
   "outputs": [],
   "source": []
  },
  {
   "cell_type": "code",
   "execution_count": null,
   "metadata": {},
   "outputs": [],
   "source": []
  },
  {
   "cell_type": "code",
   "execution_count": null,
   "metadata": {},
   "outputs": [],
   "source": []
  },
  {
   "cell_type": "code",
   "execution_count": null,
   "metadata": {},
   "outputs": [],
   "source": []
  }
 ],
 "metadata": {
  "kernelspec": {
   "display_name": "Python 3",
   "language": "python",
   "name": "python3"
  },
  "language_info": {
   "codemirror_mode": {
    "name": "ipython",
    "version": 3
   },
   "file_extension": ".py",
   "mimetype": "text/x-python",
   "name": "python",
   "nbconvert_exporter": "python",
   "pygments_lexer": "ipython3",
   "version": "3.8.1"
  }
 },
 "nbformat": 4,
 "nbformat_minor": 4
}
