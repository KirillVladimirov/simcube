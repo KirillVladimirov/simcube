{
 "cells": [
  {
   "cell_type": "code",
   "execution_count": 1,
   "metadata": {},
   "outputs": [],
   "source": [
    "%load_ext autoreload\n",
    "%autoreload 2\n",
    "\n",
    "import warnings\n",
    "warnings.filterwarnings('ignore')\n",
    "\n",
    "import matplotlib.pyplot as plt\n",
    "%matplotlib inline\n",
    "\n",
    "import numpy as np\n",
    "\n",
    "import torch\n",
    "from torch import nn\n",
    "from torch.nn import functional as F\n",
    "from torch.utils.data import DataLoader\n",
    "\n",
    "import datetime\n",
    "import copy\n",
    "from IPython.display import clear_output\n",
    "import youtokentome as yttm\n",
    "\n",
    "import simcube\n",
    "from simcube.data import tokenize_corpus, build_vocabulary, \\\n",
    "    save_texts_to_file, LanguageModelDataset, load_war_and_piece_chunks, \\\n",
    "    GreedyGenerator, BeamGenerator\n",
    "from simcube.pipeline import train_eval_loop, init_random_seed\n",
    "from simcube.base import get_params_number\n",
    "\n",
    "init_random_seed()\n",
    "\n",
    "plt.rcParams[\"figure.figsize\"] = (15,10)"
   ]
  },
  {
   "cell_type": "code",
   "execution_count": null,
   "metadata": {},
   "outputs": [],
   "source": [
    "# Init signature:\n",
    "# nn.Embedding(\n",
    "#     num_embeddings,\n",
    "#     embedding_dim,\n",
    "#     padding_idx=None,\n",
    "#     max_norm=None,\n",
    "#     norm_type=2.0,\n",
    "#     scale_grad_by_freq=False,\n",
    "#     sparse=False,\n",
    "#     _weight=None,\n",
    "# )\n",
    "# Docstring:     \n",
    "# A simple lookup table that stores embeddings of a fixed dictionary and size.\n",
    "\n",
    "# This module is often used to store word embeddings and retrieve them using indices.\n",
    "# The input to the module is a list of indices, and the output is the corresponding\n",
    "# word embeddings.\n",
    "\n",
    "nn.Embedding()"
   ]
  },
  {
   "cell_type": "code",
   "execution_count": 2,
   "metadata": {},
   "outputs": [],
   "source": [
    "import numpy as np"
   ]
  },
  {
   "cell_type": "code",
   "execution_count": 4,
   "metadata": {},
   "outputs": [],
   "source": [
    "b = np.array([0.1, 0.5, 0.3, 0.1])"
   ]
  },
  {
   "cell_type": "code",
   "execution_count": 5,
   "metadata": {},
   "outputs": [],
   "source": [
    "a = np.array([[1, 0, 1, 0], [0, 1, 3, 0], [2, 3, 0, 0]])"
   ]
  },
  {
   "cell_type": "code",
   "execution_count": 6,
   "metadata": {},
   "outputs": [
    {
     "data": {
      "text/plain": [
       "array([0.4, 1.4, 1.7])"
      ]
     },
     "execution_count": 6,
     "metadata": {},
     "output_type": "execute_result"
    }
   ],
   "source": [
    "a.dot(b)"
   ]
  },
  {
   "cell_type": "code",
   "execution_count": null,
   "metadata": {},
   "outputs": [],
   "source": []
  },
  {
   "cell_type": "code",
   "execution_count": 8,
   "metadata": {},
   "outputs": [],
   "source": [
    "a = np.array([[1, 0, 1, 0], [0, 1, 3, 0], [2, 3, 0, 0]])"
   ]
  },
  {
   "cell_type": "code",
   "execution_count": 9,
   "metadata": {},
   "outputs": [],
   "source": [
    "q = np.array([0, 0, 1])"
   ]
  },
  {
   "cell_type": "code",
   "execution_count": 10,
   "metadata": {},
   "outputs": [
    {
     "data": {
      "text/plain": [
       "array([2, 3, 0, 0])"
      ]
     },
     "execution_count": 10,
     "metadata": {},
     "output_type": "execute_result"
    }
   ],
   "source": [
    "q.dot(a)"
   ]
  },
  {
   "cell_type": "code",
   "execution_count": 11,
   "metadata": {},
   "outputs": [],
   "source": [
    "from scipy.special import softmax"
   ]
  },
  {
   "cell_type": "code",
   "execution_count": 12,
   "metadata": {},
   "outputs": [
    {
     "data": {
      "text/plain": [
       "array([0.25069239, 0.68145256, 0.03392753, 0.03392753])"
      ]
     },
     "execution_count": 12,
     "metadata": {},
     "output_type": "execute_result"
    }
   ],
   "source": [
    "softmax(q.dot(a))"
   ]
  },
  {
   "cell_type": "code",
   "execution_count": 13,
   "metadata": {},
   "outputs": [
    {
     "data": {
      "text/plain": [
       "array([0.28461991, 0.78323514, 2.54574246])"
      ]
     },
     "execution_count": 13,
     "metadata": {},
     "output_type": "execute_result"
    }
   ],
   "source": [
    "a.dot(softmax(q.dot(a)))"
   ]
  },
  {
   "cell_type": "code",
   "execution_count": null,
   "metadata": {},
   "outputs": [],
   "source": []
  },
  {
   "cell_type": "code",
   "execution_count": 112,
   "metadata": {},
   "outputs": [],
   "source": [
    "vect = np.array([[0.3504305689198156, 0.871844425624726, 0.29345316540775357, 0.49159320438393916, 0.16391992930609034, 0.24589641847050037, 0.34921020303336925, 0.09968814035867879, 0.8652385667745919, 0.00906484385602968, 0.6134586521086117, 0.08104312584086149, 0.643129733435556, 0.6610968673257929, 0.6825169003800382], [0.005641686042561211, 0.3397733866278605, 0.4408793722092307, 0.6618752692611525, 0.4192615374283991, 0.6718589897811911, 0.23503584107912667, 0.9972834040264165, 0.6907780153811639, 0.5160598448726361, 0.4200243418824855, 0.7745997472321381, 0.9124177261957108, 0.627661131744206, 0.7792319239076758], [0.44947044223343224, 0.39851993627332394, 0.27645205987950927, 0.3360502940952873, 0.20207394761469466, 0.27730469648938627, 0.9647449489128369, 0.38480306917172535, 0.7014748335636187, 0.5616919724157547, 0.3082991954077743, 0.43320540280287834, 0.7682716834674514, 0.04669826413239708, 0.7975639937877288], [0.3529089999231677, 0.5085801437940869, 0.6686697864089949, 0.9579051761714787, 0.14893344048972235, 0.6504801381978066, 0.6554087909852483, 0.2182290972559655, 0.8874805349214916, 0.8549111586624765, 0.2256959432511686, 0.7090739886051667, 0.9215898392742404, 0.8361038069049278, 0.9807575571901945], [0.93096165894251, 0.21204415175966806, 0.005393301311816812, 0.6868163541395496, 0.17651743121260177, 0.4276211882347165, 0.7172630747046246, 0.6222321154458413, 0.782866044726867, 0.9401403417712956, 0.6009251310321828, 0.7689712777389628, 0.011137370287858661, 0.6750220130270511, 0.3656918897133191], [0.344423832576648, 0.5200078573131781, 0.08090528060543856, 0.6187002344784092, 0.24428489996011238, 0.18400539459399, 0.40308101020726217, 0.19255989698913867, 0.8010944590934469, 0.20324438899818598, 0.4927144298170735, 0.03783988662477278, 0.7705093963091103, 0.2520865403496373, 0.40266725180440743], [0.6681310493060861, 0.2801674372250399, 0.6224648405839522, 0.6287746784150413, 0.864080498689899, 0.23833127705610258, 0.20311743810136906, 0.6646132937899738, 0.23575457417289924, 0.1869625695994146, 0.7712148738157554, 0.15237041670323637, 0.2763150373902683, 0.46500408886101585, 0.991468614310106], [0.47955269815875845, 0.18371674117676162, 0.4749895427072034, 0.5127159626377625, 0.14327300286458633, 0.5921086963579639, 0.21467664382766927, 0.08984875049424312, 0.5619088573772313, 0.6324525220346037, 0.65145500723789, 0.5118736033583858, 0.3791794826772541, 0.7062193547285907, 0.12888775429739185], [0.8936198110390413, 0.1499351596848777, 0.23230300209801535, 0.6275970485906217, 0.14179412142521963, 0.44590423506527455, 0.6398118989481705, 0.44025473834142315, 0.9690917160909921, 0.7329911430579539, 0.4723409208689966, 0.30051845327308735, 0.6517065287372249, 0.11682964074366375, 0.3356912564688531], [0.5819483213886298, 0.12715730125007862, 0.6624081011547434, 0.27210122174739293, 0.3321414469174103, 0.6738692045564213, 0.49979407643990537, 0.923095453187033, 0.8688108133354637, 0.29672803800781, 0.8422355709858387, 0.22967466587429908, 0.48606633908371566, 0.3302629931498261, 0.9271715208940098], [0.814229644181095, 0.6269508015754929, 0.19067116118180638, 0.6597416333912787, 0.3042396495694798, 0.5349586078017191, 0.9889297007928726, 0.5059647631701082, 0.6586214714303461, 0.19972197385065704, 0.730120041302739, 0.9254129585548022, 0.7774768791337286, 0.5880525770183761, 0.4404909426586451], [0.8393608070151912, 0.551470751477307, 0.3776646281929925, 0.7403545806778788, 0.01464073752506101, 0.49682079457661743, 0.12829037985166736, 0.8323709714882789, 0.4861583628986299, 0.10966510942571872, 0.36384711262095637, 0.008343156485128067, 0.05481969871494197, 0.11036480291979456, 0.3495717657917], [0.575668909069271, 0.1948209406820347, 0.5066632418120769, 0.5610866065811511, 0.7503051258152065, 0.20250301475454058, 0.9387177222181186, 0.4214964558859865, 0.2441688535705906, 0.2852282954051667, 0.7185375048873539, 0.09961745251862686, 0.507873295740294, 0.9713796833363287, 0.8218946227484244], [0.14519733396011691, 0.07264015089790021, 0.7254237309701331, 0.7437297525624584, 0.3465971472185204, 0.6489212261982703, 0.2152569561085349, 0.6476151760429897, 0.2045187871395916, 0.9599712380254137, 0.28554199184758966, 0.7701922251424572, 0.7095119328780166, 0.7579558453415812, 0.4251898428876446]])\n",
    "                \n",
    "Q = np.array([0.30760147020407946, 0.1528992448227442, 0.9387231083505163, 0.12201982125460176, 0.3159744925438269, 0.555332538642272, \n",
    "              0.8654043562058316, 0.5523485724329922, 0.6405492495162189, 0.8421217300945876, 0.03415012932624606, 0.0914780538557024, \n",
    "              0.745151636966557, 0.9885343010237021, 0.02289480154711454])"
   ]
  },
  {
   "cell_type": "code",
   "execution_count": 115,
   "metadata": {},
   "outputs": [],
   "source": [
    "# from scipy.special import softmax\n",
    "\n",
    "def softmax(z):\n",
    "    z -= np.max(z)\n",
    "    sm = (np.exp(z).T / np.sum(np.exp(z), axis=0)).T\n",
    "    return sm\n",
    "\n",
    "def attention(features, query):\n",
    "    \"\"\"\n",
    "    features - InLen x EmbSize - features of elements of input sequence\n",
    "    query - EmbSize - features of query object\n",
    "\n",
    "    returns vector of size EmbSize - features, aggregated according to the query\n",
    "    \"\"\"\n",
    "    result = softmax(query.dot(features.T))\n",
    "    return result"
   ]
  },
  {
   "cell_type": "code",
   "execution_count": 116,
   "metadata": {},
   "outputs": [
    {
     "data": {
      "text/plain": [
       "array([0.02902208, 0.09907626, 0.0485058 , 0.22835242, 0.06944933,\n",
       "       0.02040724, 0.03002252, 0.0423537 , 0.05911434, 0.07735371,\n",
       "       0.0911031 , 0.01519346, 0.08483444, 0.1052116 ])"
      ]
     },
     "execution_count": 116,
     "metadata": {},
     "output_type": "execute_result"
    }
   ],
   "source": [
    "attention(vect, Q)"
   ]
  },
  {
   "cell_type": "code",
   "execution_count": null,
   "metadata": {},
   "outputs": [],
   "source": []
  },
  {
   "cell_type": "code",
   "execution_count": null,
   "metadata": {},
   "outputs": [],
   "source": []
  },
  {
   "cell_type": "code",
   "execution_count": null,
   "metadata": {},
   "outputs": [],
   "source": []
  },
  {
   "cell_type": "code",
   "execution_count": null,
   "metadata": {},
   "outputs": [],
   "source": []
  },
  {
   "cell_type": "code",
   "execution_count": null,
   "metadata": {},
   "outputs": [],
   "source": []
  },
  {
   "cell_type": "code",
   "execution_count": null,
   "metadata": {},
   "outputs": [],
   "source": []
  },
  {
   "cell_type": "code",
   "execution_count": null,
   "metadata": {},
   "outputs": [],
   "source": []
  },
  {
   "cell_type": "code",
   "execution_count": null,
   "metadata": {},
   "outputs": [],
   "source": []
  },
  {
   "cell_type": "code",
   "execution_count": null,
   "metadata": {},
   "outputs": [],
   "source": []
  },
  {
   "cell_type": "code",
   "execution_count": null,
   "metadata": {},
   "outputs": [],
   "source": []
  },
  {
   "cell_type": "code",
   "execution_count": null,
   "metadata": {},
   "outputs": [],
   "source": []
  },
  {
   "cell_type": "code",
   "execution_count": 16,
   "metadata": {},
   "outputs": [
    {
     "data": {
      "text/plain": [
       "array([[1, 0, 1, 0],\n",
       "       [0, 1, 3, 0],\n",
       "       [2, 3, 0, 0]])"
      ]
     },
     "execution_count": 16,
     "metadata": {},
     "output_type": "execute_result"
    }
   ],
   "source": [
    "a"
   ]
  },
  {
   "cell_type": "code",
   "execution_count": 18,
   "metadata": {},
   "outputs": [
    {
     "data": {
      "text/plain": [
       "array([[ 2,  3,  2],\n",
       "       [ 3, 10,  3],\n",
       "       [ 2,  3, 13]])"
      ]
     },
     "execution_count": 18,
     "metadata": {},
     "output_type": "execute_result"
    }
   ],
   "source": [
    "a.dot(a.T)"
   ]
  },
  {
   "cell_type": "code",
   "execution_count": 25,
   "metadata": {},
   "outputs": [
    {
     "data": {
      "text/plain": [
       "array([[2.11941558e-01, 5.76116885e-01, 2.11941558e-01],\n",
       "       [9.10221936e-04, 9.98179556e-01, 9.10221936e-04],\n",
       "       [1.67006637e-05, 4.53971105e-05, 9.99937902e-01]])"
      ]
     },
     "execution_count": 25,
     "metadata": {},
     "output_type": "execute_result"
    }
   ],
   "source": [
    "softmax(a.dot(a.T), axis=1)"
   ]
  },
  {
   "cell_type": "code",
   "execution_count": 23,
   "metadata": {},
   "outputs": [
    {
     "data": {
      "text/plain": [
       "array([[2.11974959e-01, 5.76207679e-01, 2.21181736e+00],\n",
       "       [9.60323927e-04, 9.98315747e-01, 3.00072393e+00],\n",
       "       [2.14672223e-01, 3.57065555e+00, 2.14672223e-01],\n",
       "       [0.00000000e+00, 0.00000000e+00, 0.00000000e+00]])"
      ]
     },
     "execution_count": 23,
     "metadata": {},
     "output_type": "execute_result"
    }
   ],
   "source": [
    "a.dot(softmax(a.dot(a.T), axis=0))"
   ]
  },
  {
   "cell_type": "code",
   "execution_count": null,
   "metadata": {},
   "outputs": [],
   "source": []
  },
  {
   "cell_type": "code",
   "execution_count": 26,
   "metadata": {},
   "outputs": [],
   "source": [
    "b = np.array([[1, 0, 1, 0], [0, 1, 1, 0]])"
   ]
  },
  {
   "cell_type": "code",
   "execution_count": 30,
   "metadata": {},
   "outputs": [
    {
     "data": {
      "text/plain": [
       "array([[1, 0, 1, 0],\n",
       "       [0, 1, 1, 0],\n",
       "       [1, 1, 2, 0],\n",
       "       [0, 0, 0, 0]])"
      ]
     },
     "execution_count": 30,
     "metadata": {},
     "output_type": "execute_result"
    }
   ],
   "source": [
    "logits = b.T.dot(b)\n",
    "logits"
   ]
  },
  {
   "cell_type": "code",
   "execution_count": 34,
   "metadata": {},
   "outputs": [
    {
     "data": {
      "text/plain": [
       "array([[0.73105858, 0.5       ],\n",
       "       [0.5       , 0.73105858],\n",
       "       [0.73105858, 0.73105858],\n",
       "       [0.5       , 0.5       ]])"
      ]
     },
     "execution_count": 34,
     "metadata": {},
     "output_type": "execute_result"
    }
   ],
   "source": [
    "b.dot(softmax(logits, axis=0)).T"
   ]
  },
  {
   "cell_type": "code",
   "execution_count": null,
   "metadata": {},
   "outputs": [],
   "source": []
  },
  {
   "cell_type": "code",
   "execution_count": 37,
   "metadata": {},
   "outputs": [],
   "source": [
    "projk = np.array([[1, 0], [0, 0]])\n",
    "projq = np.array([[0, 1], [0, 0]])\n",
    "projv = np.array([[1, 0], [0, 1]])"
   ]
  },
  {
   "cell_type": "code",
   "execution_count": 39,
   "metadata": {},
   "outputs": [],
   "source": [
    "bais = np.array([[0, ], [0, ]])"
   ]
  },
  {
   "cell_type": "code",
   "execution_count": 83,
   "metadata": {},
   "outputs": [
    {
     "data": {
      "text/plain": [
       "array([[1, 0],\n",
       "       [0, 1],\n",
       "       [1, 1],\n",
       "       [0, 0]])"
      ]
     },
     "execution_count": 83,
     "metadata": {},
     "output_type": "execute_result"
    }
   ],
   "source": [
    "inp = np.array([[1, 0, 1, 0], [0, 1, 1, 0]])\n",
    "inp.T"
   ]
  },
  {
   "cell_type": "code",
   "execution_count": 57,
   "metadata": {},
   "outputs": [],
   "source": [
    "K = inp.T.dot(projk.T)\n",
    "Q = inp.T.dot(projq.T)\n",
    "V = inp.T.dot(projv.T)"
   ]
  },
  {
   "cell_type": "code",
   "execution_count": 58,
   "metadata": {},
   "outputs": [
    {
     "data": {
      "text/plain": [
       "array([[1, 0],\n",
       "       [0, 0],\n",
       "       [1, 0],\n",
       "       [0, 0]])"
      ]
     },
     "execution_count": 58,
     "metadata": {},
     "output_type": "execute_result"
    }
   ],
   "source": [
    "K"
   ]
  },
  {
   "cell_type": "code",
   "execution_count": 59,
   "metadata": {},
   "outputs": [
    {
     "data": {
      "text/plain": [
       "array([[0, 0],\n",
       "       [1, 0],\n",
       "       [1, 0],\n",
       "       [0, 0]])"
      ]
     },
     "execution_count": 59,
     "metadata": {},
     "output_type": "execute_result"
    }
   ],
   "source": [
    "Q"
   ]
  },
  {
   "cell_type": "code",
   "execution_count": 60,
   "metadata": {},
   "outputs": [
    {
     "data": {
      "text/plain": [
       "array([[1, 0],\n",
       "       [0, 1],\n",
       "       [1, 1],\n",
       "       [0, 0]])"
      ]
     },
     "execution_count": 60,
     "metadata": {},
     "output_type": "execute_result"
    }
   ],
   "source": [
    "V"
   ]
  },
  {
   "cell_type": "code",
   "execution_count": 62,
   "metadata": {},
   "outputs": [
    {
     "data": {
      "text/plain": [
       "array([[0, 0, 0, 0],\n",
       "       [1, 0, 1, 0],\n",
       "       [1, 0, 1, 0],\n",
       "       [0, 0, 0, 0]])"
      ]
     },
     "execution_count": 62,
     "metadata": {},
     "output_type": "execute_result"
    }
   ],
   "source": [
    "logits = Q.dot(K.T)\n",
    "logits"
   ]
  },
  {
   "cell_type": "code",
   "execution_count": 80,
   "metadata": {},
   "outputs": [
    {
     "data": {
      "text/plain": [
       "array([[0.25      , 0.25      , 0.25      , 0.25      ],\n",
       "       [0.36552929, 0.13447071, 0.36552929, 0.13447071],\n",
       "       [0.36552929, 0.13447071, 0.36552929, 0.13447071],\n",
       "       [0.25      , 0.25      , 0.25      , 0.25      ]])"
      ]
     },
     "execution_count": 80,
     "metadata": {},
     "output_type": "execute_result"
    }
   ],
   "source": [
    "attscore = softmax(logits, axis=1)\n",
    "attscore"
   ]
  },
  {
   "cell_type": "code",
   "execution_count": 81,
   "metadata": {},
   "outputs": [
    {
     "data": {
      "text/plain": [
       "array([[0.5       , 0.5       ],\n",
       "       [0.73105858, 0.5       ],\n",
       "       [0.73105858, 0.5       ],\n",
       "       [0.5       , 0.5       ]])"
      ]
     },
     "execution_count": 81,
     "metadata": {},
     "output_type": "execute_result"
    }
   ],
   "source": [
    "attscore.dot(V)"
   ]
  },
  {
   "cell_type": "code",
   "execution_count": null,
   "metadata": {},
   "outputs": [],
   "source": []
  },
  {
   "cell_type": "code",
   "execution_count": 122,
   "metadata": {},
   "outputs": [],
   "source": [
    "features = [[0.5175129778200084, 0.13021330700949507], [-0.3578609445921744, -0.07768163060380659], [-0.046577477754636734, -0.12288550821838619], [0.4424092505449793, -1.431399548551344], [0.753992222548331, -1.1210257338970167], [1.6736061037504428, -1.9789731491226337], [-1.4985152255486565, -1.6614802556117283], [-0.610065708073959, -0.8475335063027695], [-0.1657640783522184, -1.7079776825852762], [0.7857341373616981, 0.2956255012408635], [-0.49243028413686984, 0.01065675311085114], [0.20598401523943788, -0.6339670563637549], [-0.15698934123474126, 0.9516567843056503], [-0.08965595798444444, 0.9923765422389716], [-0.9649404480809814, -0.6203623955866846]]\n",
    "proj_k = [[-0.4777373377067222, 1.384780896738418], [1.5537173245233542, -1.6151073640132454]]\n",
    "bias_k = [0.34068677065672126, -1.7225350645946451]\n",
    "proj_q = [[1.667192089239799, 0.9072106203091014], [1.0017863742909645, -0.8578876449703756]]\n",
    "bias_q = [-0.3811843050970959, -0.15922065479353645]\n",
    "proj_v = [[2.396375885002737, 0.23995979796695774], [0.21631803999882093, -0.6475173781192963]]\n",
    "bias_v = [1.448781271879823, -0.7144164516316529]\n",
    "\n",
    "features = np.array(features)\n",
    "proj_k = np.array(proj_k)\n",
    "bias_k = np.array(bias_k)\n",
    "proj_q = np.array(proj_q)\n",
    "bias_q = np.array(bias_q)\n",
    "proj_v = np.array(proj_v)\n",
    "bias_v = np.array(bias_v)"
   ]
  },
  {
   "cell_type": "code",
   "execution_count": 142,
   "metadata": {},
   "outputs": [
    {
     "data": {
      "text/plain": [
       "(15, 2)"
      ]
     },
     "execution_count": 142,
     "metadata": {},
     "output_type": "execute_result"
    }
   ],
   "source": [
    "features.shape"
   ]
  },
  {
   "cell_type": "code",
   "execution_count": 144,
   "metadata": {},
   "outputs": [
    {
     "data": {
      "text/plain": [
       "((2, 2), (2,))"
      ]
     },
     "execution_count": 144,
     "metadata": {},
     "output_type": "execute_result"
    }
   ],
   "source": [
    "proj_k.shape, bias_k.shape"
   ]
  },
  {
   "cell_type": "code",
   "execution_count": 150,
   "metadata": {},
   "outputs": [
    {
     "data": {
      "text/plain": [
       "(15, 2)"
      ]
     },
     "execution_count": 150,
     "metadata": {},
     "output_type": "execute_result"
    }
   ],
   "source": [
    "(features.dot(proj_k.T) + bias_k).shape"
   ]
  },
  {
   "cell_type": "code",
   "execution_count": 151,
   "metadata": {},
   "outputs": [
    {
     "data": {
      "text/plain": [
       "(15, 15)"
      ]
     },
     "execution_count": 151,
     "metadata": {},
     "output_type": "execute_result"
    }
   ],
   "source": [
    "K = features.dot(proj_k.T) + bias_k\n",
    "Q = features.dot(proj_q.T) + bias_q\n",
    "V = features.dot(proj_v.T) + bias_v\n",
    "\n",
    "logits = Q.dot(K.T)\n",
    "logits.shape"
   ]
  },
  {
   "cell_type": "code",
   "execution_count": 178,
   "metadata": {},
   "outputs": [
    {
     "data": {
      "text/plain": [
       "(15, 15)"
      ]
     },
     "execution_count": 178,
     "metadata": {},
     "output_type": "execute_result"
    }
   ],
   "source": [
    "attscore = softmax(logits.T, 1)\n",
    "attscore.shape"
   ]
  },
  {
   "cell_type": "code",
   "execution_count": 179,
   "metadata": {},
   "outputs": [
    {
     "data": {
      "text/plain": [
       "array([[5.55467453e-02, 1.20023437e-01, 7.05290204e-02, 3.10537116e-02,\n",
       "        3.18138831e-02, 5.76301999e-03, 7.79609258e-02, 4.82618077e-02,\n",
       "        3.61240283e-02, 5.59959451e-02, 1.64155866e-01, 4.58318071e-02,\n",
       "        5.15079531e-01, 5.17699398e-01, 7.47039578e-02],\n",
       "       [1.42508509e-02, 5.08101348e-02, 2.21884676e-02, 1.78459515e-03,\n",
       "        1.93628441e-03, 7.08721908e-05, 1.71207654e-02, 1.16294630e-02,\n",
       "        2.57703208e-03, 1.36374473e-02, 8.46179911e-02, 7.06182471e-03,\n",
       "        5.17215069e-01, 5.12685727e-01, 3.00832853e-02],\n",
       "       [2.83628840e-02, 9.70989071e-02, 4.65899051e-02, 9.94572277e-03,\n",
       "        9.34638815e-03, 7.33720096e-04, 7.47121069e-02, 3.53255812e-02,\n",
       "        1.52533116e-02, 2.56736005e-02, 1.48268671e-01, 2.19863379e-02,\n",
       "        5.17215069e-01, 5.05849263e-01, 7.29755926e-02],\n",
       "       [4.29588176e-05, 5.75342601e-04, 2.84370098e-04, 1.33520178e-02,\n",
       "        2.78067218e-03, 5.44974394e-03, 7.61386057e-01, 6.66284334e-03,\n",
       "        9.34997006e-02, 1.64973963e-05, 6.44320476e-04, 1.06753317e-03,\n",
       "        3.22464370e-05, 2.55189273e-05, 6.23009219e-03],\n",
       "       [1.72932210e-04, 1.47530302e-03, 8.28973340e-04, 3.41039215e-02,\n",
       "        8.88796964e-03, 2.09298691e-02, 7.61386057e-01, 1.23894901e-02,\n",
       "        1.68466525e-01, 7.83725774e-05, 1.59232542e-03, 3.03867180e-03,\n",
       "        1.19487406e-04, 9.85517725e-05, 1.04942504e-02],\n",
       "       [2.01076661e-07, 3.50949705e-06, 2.43032725e-06, 1.71254910e-02,\n",
       "        1.37898231e-03, 1.00868007e-01, 7.61386057e-01, 5.73680395e-04,\n",
       "        2.32611141e-01, 4.92631046e-08, 2.64793026e-06, 6.68496602e-05,\n",
       "        5.29152307e-09, 3.75166410e-09, 1.93332700e-04],\n",
       "       [2.49474216e-04, 7.77074349e-03, 2.03303522e-03, 1.07148119e-03,\n",
       "        3.21847490e-04, 1.24841422e-05, 7.61386057e-01, 1.54944446e-02,\n",
       "        9.29092981e-03, 9.85504608e-05, 1.39104923e-02, 1.19503879e-03,\n",
       "        5.71891600e-03, 4.54766849e-03, 4.91036854e-02],\n",
       "       [8.56220199e-03, 8.00068675e-02, 2.99701482e-02, 1.35242778e-02,\n",
       "        7.15400114e-03, 5.25975015e-04, 7.61386057e-01, 7.46506574e-02,\n",
       "        4.70497634e-02, 5.18924432e-03, 1.27638134e-01, 1.78930592e-02,\n",
       "        1.37302787e-01, 1.21510970e-01, 1.74014344e-01],\n",
       "       [2.13019267e-05, 4.70567831e-04, 1.86862758e-04, 4.06655605e-03,\n",
       "        7.68670644e-04, 6.15264464e-04, 7.61386057e-01, 4.93224116e-03,\n",
       "        3.85270452e-02, 7.26718387e-06, 5.93137906e-04, 4.99015067e-04,\n",
       "        3.29433288e-05, 2.53000173e-05, 6.28713433e-03],\n",
       "       [6.95514499e-02, 1.14630545e-01, 7.44951169e-02, 4.02088408e-02,\n",
       "        4.49690625e-02, 1.12639787e-02, 5.49060424e-02, 4.37611658e-02,\n",
       "        3.89404946e-02, 7.58957743e-02, 1.49723284e-01, 5.34538935e-02,\n",
       "        5.04919797e-01, 5.17699398e-01, 6.00033421e-02],\n",
       "       [9.34981776e-03, 3.13376305e-02, 1.32256618e-02, 5.62817094e-04,\n",
       "        6.97767996e-04, 1.64141205e-05, 5.24878048e-03, 5.04307535e-03,\n",
       "        7.31579561e-04, 9.56599069e-03, 5.47094552e-02, 3.27433092e-03,\n",
       "        5.13775649e-01, 5.17699398e-01, 1.47331422e-02],\n",
       "       [8.35984620e-03, 4.78713687e-02, 2.36943785e-02, 4.90454068e-02,\n",
       "        2.51003658e-02, 7.93513232e-03, 7.61386057e-01, 7.23062625e-02,\n",
       "        1.36342751e-01, 5.38431909e-03, 6.37394061e-02, 2.68875259e-02,\n",
       "        3.88566084e-02, 3.49412525e-02, 1.05163049e-01],\n",
       "       [3.16537486e-03, 3.24127503e-03, 1.66427608e-03, 9.25341522e-06,\n",
       "        2.73732583e-05, 2.91547554e-07, 9.63888519e-06, 9.66392658e-05,\n",
       "        4.10913374e-06, 5.64656827e-03, 5.92204563e-03, 1.96744740e-04,\n",
       "        4.47534840e-01, 5.17699398e-01, 3.14849372e-04],\n",
       "       [3.35419113e-03, 3.21185974e-03, 1.69125620e-03, 9.92156102e-06,\n",
       "        2.99781213e-05, 3.46808378e-07, 8.88373015e-06, 9.46902861e-05,\n",
       "        4.21160100e-06, 6.10054722e-03, 5.80019075e-03, 2.05166216e-04,\n",
       "        4.45357491e-01, 5.17699398e-01, 2.99166242e-04],\n",
       "       [1.09096546e-02, 8.71877557e-02, 2.98318242e-02, 2.55788734e-03,\n",
       "        1.91179457e-03, 4.42212872e-05, 1.35161552e-01, 3.25451125e-02,\n",
       "        6.78794481e-03, 7.85837994e-03, 1.57388875e-01, 9.24618251e-03,\n",
       "        5.17215069e-01, 4.77537039e-01, 1.04345800e-01]])"
      ]
     },
     "execution_count": 179,
     "metadata": {},
     "output_type": "execute_result"
    }
   ],
   "source": [
    "attscore"
   ]
  },
  {
   "cell_type": "code",
   "execution_count": 176,
   "metadata": {},
   "outputs": [
    {
     "data": {
      "text/plain": [
       "array([[0.5176994 ],\n",
       "       [0.51721507],\n",
       "       [0.51721507],\n",
       "       [0.76138606],\n",
       "       [0.76138606],\n",
       "       [0.76138606],\n",
       "       [0.76138606],\n",
       "       [0.76138606],\n",
       "       [0.76138606],\n",
       "       [0.5176994 ],\n",
       "       [0.5176994 ],\n",
       "       [0.76138606],\n",
       "       [0.5176994 ],\n",
       "       [0.5176994 ],\n",
       "       [0.51721507]])"
      ]
     },
     "execution_count": 176,
     "metadata": {},
     "output_type": "execute_result"
    }
   ],
   "source": [
    "np.max(attscore, axis=1, keepdims=True)"
   ]
  },
  {
   "cell_type": "code",
   "execution_count": 181,
   "metadata": {},
   "outputs": [
    {
     "data": {
      "text/plain": [
       "(15, 2)"
      ]
     },
     "execution_count": 181,
     "metadata": {},
     "output_type": "execute_result"
    }
   ],
   "source": [
    "result = attscore.dot(V)\n",
    "result.shape"
   ]
  },
  {
   "cell_type": "code",
   "execution_count": 177,
   "metadata": {},
   "outputs": [],
   "source": [
    "def softmax(z, axis=None):\n",
    "    z -= np.max(z, axis=axis, keepdims=True)\n",
    "    sm = (np.exp(z).T / np.sum(np.exp(z), axis=axis, keepdims=True)).T\n",
    "    return sm"
   ]
  },
  {
   "cell_type": "code",
   "execution_count": 188,
   "metadata": {},
   "outputs": [],
   "source": [
    "def self_attention(features, proj_k, bias_k, proj_q, bias_q, proj_v, bias_v):\n",
    "    \"\"\"\n",
    "    features - InLen x EmbSize - features of elements of input sequence\n",
    "    proj_k - EmbSize x EmbSize - projection matrix to make keys from features\n",
    "    bias_k - EmbSize - bias vector to make keys from features\n",
    "    proj_q - EmbSize x EmbSize - projection matrix to make queries from features\n",
    "    bias_q - EmbSize - bias vector to make queries from features\n",
    "    proj_v - EmbSize x EmbSize - projection matrix to make values from features\n",
    "    bias_v - EmbSize - bias vector to make values from features\n",
    "\n",
    "    returns InLen x EmbSize\n",
    "    \"\"\"\n",
    "    K = features.dot(proj_k.T) + bias_k\n",
    "    Q = features.dot(proj_q.T) + bias_q\n",
    "    V = features.dot(proj_v.T) + bias_v\n",
    "    \n",
    "    logits = Q.dot(K.T)\n",
    "    attscore = softmax(logits.T, 1)\n",
    "    result = attscore.dot(V)\n",
    "    return result"
   ]
  },
  {
   "cell_type": "code",
   "execution_count": 189,
   "metadata": {},
   "outputs": [
    {
     "data": {
      "text/plain": [
       "array([[ 1.99133153, -1.79413867],\n",
       "       [ 1.54161946, -1.57177382],\n",
       "       [ 1.56964794, -1.70587708],\n",
       "       [-1.8149447 ,  0.06451833],\n",
       "       [-1.62625824,  0.10642735],\n",
       "       [-1.24156256,  0.2100383 ],\n",
       "       [-1.95021025, -0.03134702],\n",
       "       [-1.49339022, -0.61521177],\n",
       "       [-1.90142675,  0.03809897],\n",
       "       [ 2.25853056, -1.77374872],\n",
       "       [ 1.51890826, -1.51343532],\n",
       "       [-1.48165871, -0.19396076],\n",
       "       [ 1.37785593, -1.33820154],\n",
       "       [ 1.37710993, -1.33558151],\n",
       "       [ 1.14012603, -1.64840473]])"
      ]
     },
     "execution_count": 189,
     "metadata": {},
     "output_type": "execute_result"
    }
   ],
   "source": [
    "self_attention(features, proj_k, bias_k, proj_q, bias_q, proj_v, bias_v)"
   ]
  },
  {
   "cell_type": "code",
   "execution_count": null,
   "metadata": {},
   "outputs": [],
   "source": []
  },
  {
   "cell_type": "code",
   "execution_count": 184,
   "metadata": {},
   "outputs": [],
   "source": [
    "answer = np.array([[1.3828516277455327, -0.7052491362196253], [1.2990231347325174, 0.07313412990950195], [1.7291639000678214, 0.057097555962845575], [4.9977493686508465, 0.9611194260544597], [4.92077627317798, 0.9417305419570732], [5.027240226701748, 0.9675417617162317], [5.008405848246054, 0.9647146788718596], [4.617706670795201, 0.8915957294670733], [5.018586540911721, 0.966041694502124], [1.4121709865145842, -1.0082854213057408], [0.8082085153678329, -0.02863474439053916], [4.261630070405553, 0.7878600291134995], [1.1488305812076605, -1.1882802581002707], [1.1929080669359462, -1.220148314614849], [3.9068303877684656, 0.7744398548226676]])"
   ]
  },
  {
   "cell_type": "code",
   "execution_count": 185,
   "metadata": {},
   "outputs": [
    {
     "data": {
      "text/plain": [
       "(15, 2)"
      ]
     },
     "execution_count": 185,
     "metadata": {},
     "output_type": "execute_result"
    }
   ],
   "source": [
    "answer.shape"
   ]
  },
  {
   "cell_type": "code",
   "execution_count": null,
   "metadata": {},
   "outputs": [],
   "source": []
  },
  {
   "cell_type": "code",
   "execution_count": null,
   "metadata": {},
   "outputs": [],
   "source": []
  },
  {
   "cell_type": "code",
   "execution_count": null,
   "metadata": {},
   "outputs": [],
   "source": []
  },
  {
   "cell_type": "code",
   "execution_count": null,
   "metadata": {},
   "outputs": [],
   "source": []
  },
  {
   "cell_type": "code",
   "execution_count": null,
   "metadata": {},
   "outputs": [],
   "source": []
  },
  {
   "cell_type": "code",
   "execution_count": null,
   "metadata": {},
   "outputs": [],
   "source": []
  },
  {
   "cell_type": "code",
   "execution_count": null,
   "metadata": {},
   "outputs": [],
   "source": []
  },
  {
   "cell_type": "code",
   "execution_count": null,
   "metadata": {},
   "outputs": [],
   "source": []
  },
  {
   "cell_type": "code",
   "execution_count": 88,
   "metadata": {},
   "outputs": [
    {
     "data": {
      "text/plain": [
       "(array([1, 0, 1, 0]), array([0, 1, 1, 0]))"
      ]
     },
     "execution_count": 88,
     "metadata": {},
     "output_type": "execute_result"
    }
   ],
   "source": [
    "inp = np.array([[1, 0, 1, 0], [0, 1, 1, 0]])\n",
    "inp[0], inp[1]"
   ]
  },
  {
   "cell_type": "code",
   "execution_count": 93,
   "metadata": {},
   "outputs": [
    {
     "data": {
      "text/plain": [
       "(array([[1, 0, 1, 0]]), array([[0, 1, 1, 0]]))"
      ]
     },
     "execution_count": 93,
     "metadata": {},
     "output_type": "execute_result"
    }
   ],
   "source": [
    "emb1 = np.expand_dims(inp[0], axis=0)\n",
    "emb2 = np.expand_dims(inp[1], axis=0)\n",
    "emb1, emb2"
   ]
  },
  {
   "cell_type": "code",
   "execution_count": 86,
   "metadata": {},
   "outputs": [],
   "source": [
    "projk1 = np.array([[1, 0], [0, 0]])\n",
    "projk2 = np.array([[0, 1], [0, 0]])\n",
    "\n",
    "projq1 = np.array([[0, 1], [1, 0]])\n",
    "projq2 = np.array([[1, 1], [1, 1]])\n",
    "\n",
    "projv1 = np.array([[1,], [0,]])\n",
    "projv2 = np.array([[0,], [1,]])"
   ]
  },
  {
   "cell_type": "code",
   "execution_count": 98,
   "metadata": {},
   "outputs": [],
   "source": [
    "K1 = inp.T.dot(projk1.T)\n",
    "Q1 = inp.T.dot(projq1.T)"
   ]
  },
  {
   "cell_type": "code",
   "execution_count": 99,
   "metadata": {},
   "outputs": [],
   "source": [
    "K2 = inp.T.dot(projk2.T)\n",
    "Q2 = inp.T.dot(projq2.T)"
   ]
  },
  {
   "cell_type": "code",
   "execution_count": 101,
   "metadata": {},
   "outputs": [],
   "source": [
    "V1 = emb1.T.dot(projv1.T)\n",
    "V2 = emb2.T.dot(projv2.T)"
   ]
  },
  {
   "cell_type": "code",
   "execution_count": 102,
   "metadata": {},
   "outputs": [],
   "source": [
    "logits1 = Q1.dot(K1.T)\n",
    "logits2 = Q2.dot(K2.T)"
   ]
  },
  {
   "cell_type": "code",
   "execution_count": 103,
   "metadata": {},
   "outputs": [
    {
     "data": {
      "text/plain": [
       "(array([[0, 0, 0, 0],\n",
       "        [1, 0, 1, 0],\n",
       "        [1, 0, 1, 0],\n",
       "        [0, 0, 0, 0]]),\n",
       " array([[0, 1, 1, 0],\n",
       "        [0, 1, 1, 0],\n",
       "        [0, 2, 2, 0],\n",
       "        [0, 0, 0, 0]]))"
      ]
     },
     "execution_count": 103,
     "metadata": {},
     "output_type": "execute_result"
    }
   ],
   "source": [
    "logits1, logits2"
   ]
  },
  {
   "cell_type": "code",
   "execution_count": 104,
   "metadata": {},
   "outputs": [],
   "source": [
    "attscore1 = softmax(logits1, axis=1)\n",
    "attscore2 = softmax(logits2, axis=1)"
   ]
  },
  {
   "cell_type": "code",
   "execution_count": 105,
   "metadata": {},
   "outputs": [
    {
     "data": {
      "text/plain": [
       "array([[0.5       , 0.        ],\n",
       "       [0.73105858, 0.        ],\n",
       "       [0.73105858, 0.        ],\n",
       "       [0.5       , 0.        ]])"
      ]
     },
     "execution_count": 105,
     "metadata": {},
     "output_type": "execute_result"
    }
   ],
   "source": [
    "attscore1.dot(V1)"
   ]
  },
  {
   "cell_type": "code",
   "execution_count": 106,
   "metadata": {},
   "outputs": [
    {
     "data": {
      "text/plain": [
       "array([[0.        , 0.73105858],\n",
       "       [0.        , 0.73105858],\n",
       "       [0.        , 0.88079708],\n",
       "       [0.        , 0.5       ]])"
      ]
     },
     "execution_count": 106,
     "metadata": {},
     "output_type": "execute_result"
    }
   ],
   "source": [
    "attscore2.dot(V2)"
   ]
  },
  {
   "cell_type": "code",
   "execution_count": 107,
   "metadata": {},
   "outputs": [
    {
     "data": {
      "text/plain": [
       "array([[0.5       , 0.73105858],\n",
       "       [0.73105858, 0.73105858],\n",
       "       [0.73105858, 0.88079708],\n",
       "       [0.5       , 0.5       ]])"
      ]
     },
     "execution_count": 107,
     "metadata": {},
     "output_type": "execute_result"
    }
   ],
   "source": [
    "attscore1.dot(V1) + attscore2.dot(V2)"
   ]
  },
  {
   "cell_type": "code",
   "execution_count": null,
   "metadata": {},
   "outputs": [],
   "source": []
  },
  {
   "cell_type": "code",
   "execution_count": 3,
   "metadata": {},
   "outputs": [],
   "source": [
    "documents = [\n",
    "    \"Казнить нельзя, помиловать. Нельзя наказывать.\",\n",
    "    \"Казнить, нельзя помиловать. Нельзя освободить.\",\n",
    "    \"Нельзя не помиловать.\",\n",
    "    \"Обязательно освободить.\"\n",
    "]"
   ]
  },
  {
   "cell_type": "code",
   "execution_count": 4,
   "metadata": {},
   "outputs": [
    {
     "data": {
      "text/plain": [
       "['Казнить нельзя, помиловать. Нельзя наказывать.',\n",
       " 'Казнить, нельзя помиловать. Нельзя освободить.',\n",
       " 'Нельзя не помиловать.',\n",
       " 'Обязательно освободить.']"
      ]
     },
     "execution_count": 4,
     "metadata": {},
     "output_type": "execute_result"
    }
   ],
   "source": [
    "documents"
   ]
  },
  {
   "cell_type": "code",
   "execution_count": 31,
   "metadata": {},
   "outputs": [],
   "source": [
    "from nltk.tokenize import word_tokenize\n",
    "import string\n",
    "from collections import Counter, defaultdict"
   ]
  },
  {
   "cell_type": "code",
   "execution_count": 25,
   "metadata": {},
   "outputs": [],
   "source": [
    "tokenized_documents = []\n",
    "for doc in documents:\n",
    "    tokenized_documents.append([token.lower() for token in word_tokenize(doc) if token not in list(string.punctuation)])"
   ]
  },
  {
   "cell_type": "code",
   "execution_count": 26,
   "metadata": {},
   "outputs": [
    {
     "data": {
      "text/plain": [
       "[['казнить', 'нельзя', 'помиловать', 'нельзя', 'наказывать'],\n",
       " ['казнить', 'нельзя', 'помиловать', 'нельзя', 'освободить'],\n",
       " ['нельзя', 'не', 'помиловать'],\n",
       " ['обязательно', 'освободить']]"
      ]
     },
     "execution_count": 26,
     "metadata": {},
     "output_type": "execute_result"
    }
   ],
   "source": [
    "tokenized_documents"
   ]
  },
  {
   "cell_type": "code",
   "execution_count": 55,
   "metadata": {},
   "outputs": [],
   "source": [
    "vocub = Counter()\n",
    "for doc in tokenized_documents:\n",
    "    vocub += Counter(set(doc))"
   ]
  },
  {
   "cell_type": "code",
   "execution_count": 56,
   "metadata": {},
   "outputs": [
    {
     "data": {
      "text/plain": [
       "Counter({'помиловать': 3,\n",
       "         'наказывать': 1,\n",
       "         'казнить': 2,\n",
       "         'нельзя': 3,\n",
       "         'освободить': 2,\n",
       "         'не': 1,\n",
       "         'обязательно': 1})"
      ]
     },
     "execution_count": 56,
     "metadata": {},
     "output_type": "execute_result"
    }
   ],
   "source": [
    "vocub"
   ]
  },
  {
   "cell_type": "code",
   "execution_count": null,
   "metadata": {},
   "outputs": [],
   "source": [
    "vocub = defaultdict()\n",
    "for doc in tokenized_documents:\n",
    "    vocub += Counter(doc)"
   ]
  },
  {
   "cell_type": "code",
   "execution_count": 57,
   "metadata": {},
   "outputs": [],
   "source": [
    "vocub = sorted(vocub.items(), key=lambda item: item[1], reverse=True)"
   ]
  },
  {
   "cell_type": "code",
   "execution_count": 58,
   "metadata": {},
   "outputs": [
    {
     "data": {
      "text/plain": [
       "[('помиловать', 3),\n",
       " ('нельзя', 3),\n",
       " ('казнить', 2),\n",
       " ('освободить', 2),\n",
       " ('наказывать', 1),\n",
       " ('не', 1),\n",
       " ('обязательно', 1)]"
      ]
     },
     "execution_count": 58,
     "metadata": {},
     "output_type": "execute_result"
    }
   ],
   "source": [
    "vocub"
   ]
  },
  {
   "cell_type": "code",
   "execution_count": 46,
   "metadata": {},
   "outputs": [
    {
     "ename": "NameError",
     "evalue": "name 'x' is not defined",
     "output_type": "error",
     "traceback": [
      "\u001b[0;31m---------------------------------------------------------------------------\u001b[0m",
      "\u001b[0;31mNameError\u001b[0m                                 Traceback (most recent call last)",
      "\u001b[0;32m<ipython-input-46-febc5de2dd2d>\u001b[0m in \u001b[0;36m<module>\u001b[0;34m\u001b[0m\n\u001b[0;32m----> 1\u001b[0;31m \u001b[0mmap\u001b[0m\u001b[0;34m(\u001b[0m\u001b[0;32mlambda\u001b[0m \u001b[0mx\u001b[0m\u001b[0;34m:\u001b[0m \u001b[0mx\u001b[0m\u001b[0;34m[\u001b[0m\u001b[0;36m0\u001b[0m\u001b[0;34m]\u001b[0m\u001b[0;34m,\u001b[0m \u001b[0mx\u001b[0m\u001b[0;34m[\u001b[0m\u001b[0;36m1\u001b[0m\u001b[0;34m]\u001b[0m\u001b[0;34m/\u001b[0m\u001b[0mlen\u001b[0m\u001b[0;34m(\u001b[0m\u001b[0mvocub\u001b[0m\u001b[0;34m)\u001b[0m\u001b[0;34m,\u001b[0m \u001b[0mvocub\u001b[0m\u001b[0;34m)\u001b[0m\u001b[0;34m\u001b[0m\u001b[0;34m\u001b[0m\u001b[0m\n\u001b[0m",
      "\u001b[0;31mNameError\u001b[0m: name 'x' is not defined"
     ]
    }
   ],
   "source": [
    "map(lambda x: x[0], x[1]/len(tokenized_documents), vocub)  "
   ]
  },
  {
   "cell_type": "code",
   "execution_count": 59,
   "metadata": {},
   "outputs": [
    {
     "data": {
      "text/plain": [
       "[0.75, 0.75, 0.5, 0.5, 0.25, 0.25, 0.25]"
      ]
     },
     "execution_count": 59,
     "metadata": {},
     "output_type": "execute_result"
    }
   ],
   "source": [
    "list(map(lambda x: x[1]/len(tokenized_documents), vocub))"
   ]
  },
  {
   "cell_type": "code",
   "execution_count": 53,
   "metadata": {},
   "outputs": [
    {
     "data": {
      "text/plain": [
       "7"
      ]
     },
     "execution_count": 53,
     "metadata": {},
     "output_type": "execute_result"
    }
   ],
   "source": [
    "len(vocub)"
   ]
  },
  {
   "cell_type": "code",
   "execution_count": null,
   "metadata": {},
   "outputs": [],
   "source": []
  },
  {
   "cell_type": "code",
   "execution_count": 60,
   "metadata": {},
   "outputs": [
    {
     "name": "stdout",
     "output_type": "stream",
     "text": [
      "1.50 -0.50 -0.50 0.87 -0.76 0.60 0.16\n",
      "-0.50 -0.50 -0.50 0.87 0.18 0.60 0.16\n",
      "-0.50 1.50 -0.50 -0.87 -0.76 0.29 1.04\n",
      "-0.50 -0.50 1.50 -0.87 1.34 -1.48 -1.36\n"
     ]
    }
   ],
   "source": [
    "from sklearn.feature_extraction.text import CountVectorizer,TfidfVectorizer\n",
    "from sklearn.preprocessing import StandardScaler\n",
    "import numpy as np\n",
    "\n",
    "corpus = [\n",
    "    'Казнить нельзя, помиловать. Нельзя наказывать.',\n",
    "    'Казнить, нельзя помиловать. Нельзя освободить.',\n",
    "    'Нельзя не помиловать.',\n",
    "    'Обязательно освободить.']\n",
    "\n",
    "#Получаем счетчики слов\n",
    "TF = CountVectorizer().fit_transform(corpus)\n",
    "\n",
    "#Строим IDF. К сожалению, в этом задании нам нужно только vectorizer.idf_\n",
    "#Для стандартных случаев на этой строке все вычисления и заканчиваются.\n",
    "#Обычно  TFIDF = vectorizer.fit_transform(corpus)\n",
    "vectorizer = TfidfVectorizer(smooth_idf=False, use_idf=True)\n",
    "vectorizer.fit_transform(corpus)\n",
    "\n",
    "## из IDF  в DF\n",
    "word_doc_freq = 1/np.exp(vectorizer.idf_ - 1)\n",
    "\n",
    "#TF нормируем и сглаживаем логарифмом (требование задания)\n",
    "TFIDF = np.log(TF/TF.sum(axis=1)+1) / word_doc_freq \n",
    "\n",
    "#Масштабируем признаки\n",
    "scaledTFIDF = StandardScaler().fit_transform(TFIDF)\n",
    "\n",
    "#Домножаем на np.sqrt((4-1)/4) для перевода из DDOF(0) в DDOF(1) для 4 текстов\n",
    "#(требование задания) \n",
    "scaledTFIDF *= np.sqrt(3/4)\n",
    "\n",
    "#Вывод в порядке возрастания DF\n",
    "for l in scaledTFIDF[:,np.argsort(word_doc_freq)]:\n",
    "    print (\" \".join([ \"%.2f\" % d for d in l]))"
   ]
  },
  {
   "cell_type": "code",
   "execution_count": null,
   "metadata": {},
   "outputs": [],
   "source": []
  },
  {
   "cell_type": "code",
   "execution_count": null,
   "metadata": {},
   "outputs": [],
   "source": []
  },
  {
   "cell_type": "code",
   "execution_count": null,
   "metadata": {},
   "outputs": [],
   "source": []
  },
  {
   "cell_type": "code",
   "execution_count": null,
   "metadata": {},
   "outputs": [],
   "source": []
  },
  {
   "cell_type": "code",
   "execution_count": 4,
   "metadata": {},
   "outputs": [],
   "source": [
    "import sys\n",
    "import ast\n",
    "import numpy as np"
   ]
  },
  {
   "cell_type": "code",
   "execution_count": 5,
   "metadata": {},
   "outputs": [],
   "source": [
    "def parse_array(s):\n",
    "    return np.array(ast.literal_eval(s))\n",
    "\n",
    "def read_array():\n",
    "    return parse_array(sys.stdin.readline())\n",
    "\n",
    "def write_array(arr):\n",
    "    print(repr(arr.tolist()))\n"
   ]
  },
  {
   "cell_type": "code",
   "execution_count": 6,
   "metadata": {},
   "outputs": [],
   "source": [
    "i_a = [[0.6046018907385543, 0.0812964077275945, 0.6366439552273822, 0.20134327995534496], \n",
    "       [0.8106187774962709, 0.4395507898340978, 0.8290096270213004, 0.05773841312522798], \n",
    "       [0.938964520620817, 0.3860407857274528, 0.21318174478828456, 0.07860176987690048], \n",
    "       [0.04840110723428537, 0.6411287103553837, 0.509253427569025, 0.7094441369109541], \n",
    "       [0.691552879511939, 0.4979735285634219, 0.07060470682483455, 0.7631262538014161]]\n",
    "i_b = 2"
   ]
  },
  {
   "cell_type": "code",
   "execution_count": 7,
   "metadata": {},
   "outputs": [],
   "source": [
    "o_a = [[0.8106187774962709, 0.4395507898340978, 0.8290096270213004, 0.20134327995534496], \n",
    "       [0.938964520620817, 0.4395507898340978, 0.8290096270213004, 0.07860176987690048], \n",
    "       [0.938964520620817, 0.6411287103553837, 0.509253427569025, 0.7094441369109541], \n",
    "       [0.691552879511939, 0.6411287103553837, 0.509253427569025, 0.7631262538014161]]\n",
    "o_b = [[1.0, 1.0, 1.0, 0.0], \n",
    "       [1.0, 0.0, 0.0, 1.0], \n",
    "       [0.0, 1.0, 1.0, 1.0], \n",
    "       [1.0, 0.0, 0.0, 1.0]]"
   ]
  },
  {
   "cell_type": "code",
   "execution_count": 9,
   "metadata": {},
   "outputs": [
    {
     "data": {
      "text/plain": [
       "array([0.81061878, 0.43955079, 0.82900963, 0.20134328])"
      ]
     },
     "execution_count": 9,
     "metadata": {},
     "output_type": "execute_result"
    }
   ],
   "source": [
    "field = [[0.6046018907385543, 0.0812964077275945, 0.6366439552273822, 0.20134327995534496], \n",
    "       [0.8106187774962709, 0.4395507898340978, 0.8290096270213004, 0.05773841312522798],]\n",
    "np.amax(field, axis=0)"
   ]
  },
  {
   "cell_type": "code",
   "execution_count": 13,
   "metadata": {},
   "outputs": [
    {
     "data": {
      "text/plain": [
       "array([1, 1, 1, 0])"
      ]
     },
     "execution_count": 13,
     "metadata": {},
     "output_type": "execute_result"
    }
   ],
   "source": [
    "field = [[0.6046018907385543, 0.0812964077275945, 0.6366439552273822, 0.20134327995534496], \n",
    "       [0.8106187774962709, 0.4395507898340978, 0.8290096270213004, 0.05773841312522798],]\n",
    "\n",
    "np.argmax(field, axis=0)"
   ]
  },
  {
   "cell_type": "code",
   "execution_count": 16,
   "metadata": {},
   "outputs": [],
   "source": [
    "def max_pooling(features, kernel_size):\n",
    "    \"\"\"\n",
    "    features - InLen x EmbSize - features of elements of input sequence\n",
    "    kernel_size - positive integer - size of sliding window\n",
    "\n",
    "    returns tuple of two matrices of shape OutLen x EmbSize:\n",
    "         - output features (main result)\n",
    "         - relative indices of maximum elements for each position of sliding window\n",
    "    \"\"\"\n",
    "    result = []\n",
    "    indices = []\n",
    "    for i in range(len(features) - kernel_size + 1):\n",
    "        field = features[i:i+kernel_size]\n",
    "        result.append(np.amax(field, axis=0))\n",
    "        indices.append(np.argmax(field, axis=0))\n",
    "    return np.array(result), np.array(indices)"
   ]
  },
  {
   "cell_type": "code",
   "execution_count": 17,
   "metadata": {},
   "outputs": [
    {
     "data": {
      "text/plain": [
       "(array([[0.81061878, 0.43955079, 0.82900963, 0.20134328],\n",
       "        [0.93896452, 0.43955079, 0.82900963, 0.07860177],\n",
       "        [0.93896452, 0.64112871, 0.50925343, 0.70944414],\n",
       "        [0.69155288, 0.64112871, 0.50925343, 0.76312625]]),\n",
       " array([[1, 1, 1, 0],\n",
       "        [1, 0, 0, 1],\n",
       "        [0, 1, 1, 1],\n",
       "        [1, 0, 0, 1]]))"
      ]
     },
     "execution_count": 17,
     "metadata": {},
     "output_type": "execute_result"
    }
   ],
   "source": [
    "max_pooling(i_a, i_b)"
   ]
  },
  {
   "cell_type": "code",
   "execution_count": null,
   "metadata": {},
   "outputs": [],
   "source": [
    "features = read_array()\n",
    "kernel_size = int(sys.stdin.readline())\n",
    "\n",
    "result, indices = max_pooling(features, kernel_size)\n",
    "\n",
    "write_array(result)\n",
    "write_array(indices)"
   ]
  },
  {
   "cell_type": "code",
   "execution_count": null,
   "metadata": {},
   "outputs": [],
   "source": []
  },
  {
   "cell_type": "code",
   "execution_count": null,
   "metadata": {},
   "outputs": [],
   "source": []
  },
  {
   "cell_type": "code",
   "execution_count": 18,
   "metadata": {},
   "outputs": [],
   "source": [
    "features = [[-1.2420542766989977, -0.045100789663994285, 1.858151857421511, 0.10732741246325356], \n",
    "            [-1.480497780371414, -0.12486054931133332, -0.18422425981847368, -1.4228130362490647], \n",
    "            [-0.8417536968892625, 0.9802583655274091, -0.18413492661665792, -1.5582607186399924], \n",
    "            [1.325799250424393, 0.08149768959330334, -1.454876921308986, 0.1408031456023352], \n",
    "            [0.1637602967235608, -0.21250114632967532, 0.8362859721448469, 0.717774697701287], \n",
    "            [-0.7641399532198978, -2.112568530488304, 0.20121440705964902, 0.015624280892385661], \n",
    "            [1.3862200103422582, 0.6508694196448389, -1.162417318743681, 1.5202488401790915], \n",
    "            [1.3947418297193952, -1.013483406336198, -2.0608332074129545, -1.733019236247151], \n",
    "            [1.0932612618870112, 0.8071262618398916, 0.15924519176972282, -0.6885825807454318]]\n",
    "kernel_size = 6\n",
    "indices = [[3.0, 2.0, 0.0, 4.0], \n",
    "           [5.0, 1.0, 3.0, 5.0], \n",
    "           [5.0, 0.0, 2.0, 4.0], \n",
    "           [4.0, 5.0, 1.0, 3.0]]\n",
    "dldout = [[-0.0763791951131031, -0.8729161683329371, 0.7454337173675266, -2.508470377801969], \n",
    "          [-0.9080189656976042, 0.6952579391985969, 0.2829942797947518, 0.35396918585149195], \n",
    "          [0.339009358836277, -1.9496823733556254, -0.11017174942549533, 1.4591363247582954], \n",
    "          [-1.1161622731011638, -2.371055190136431, -1.174384738333498, 0.4672192180206214]]"
   ]
  },
  {
   "cell_type": "code",
   "execution_count": 45,
   "metadata": {},
   "outputs": [],
   "source": [
    "features = np.array(features)\n",
    "indices = np.array(indices)\n",
    "dldout = np.array(dldout)"
   ]
  },
  {
   "cell_type": "code",
   "execution_count": 68,
   "metadata": {},
   "outputs": [],
   "source": [
    "dldfeatures = [[0.0, 0.0, 0.7454337173675266, 0.0], \n",
    "               [0.0, 0.0, 0.0, 0.0], \n",
    "               [0.0, -2.1273406024899657, 0.0, 0.0], \n",
    "               [-0.0763791951131031, 0.0, 0.0, 0.0], \n",
    "               [0.0, 0.0, -1.0015622079642417, -2.508470377801969], \n",
    "               [0.0, 0.0, 0.0, 0.0], \n",
    "               [-0.9080189656976042, 0.0, 0.0, 2.2803247286304087], \n",
    "               [-0.7771529142648868, 0.0, 0.0, 0.0], \n",
    "               [0.0, -2.371055190136431, 0.0, 0.0]]"
   ]
  },
  {
   "cell_type": "code",
   "execution_count": 22,
   "metadata": {},
   "outputs": [
    {
     "data": {
      "text/plain": [
       "array([[0., 0., 0., 0.],\n",
       "       [0., 0., 0., 0.],\n",
       "       [0., 0., 0., 0.],\n",
       "       [0., 0., 0., 0.],\n",
       "       [0., 0., 0., 0.],\n",
       "       [0., 0., 0., 0.],\n",
       "       [0., 0., 0., 0.],\n",
       "       [0., 0., 0., 0.],\n",
       "       [0., 0., 0., 0.]])"
      ]
     },
     "execution_count": 22,
     "metadata": {},
     "output_type": "execute_result"
    }
   ],
   "source": [
    "base = np.zeros((len(features), len(features[0])))\n",
    "base"
   ]
  },
  {
   "cell_type": "code",
   "execution_count": null,
   "metadata": {},
   "outputs": [],
   "source": []
  },
  {
   "cell_type": "code",
   "execution_count": null,
   "metadata": {},
   "outputs": [],
   "source": []
  },
  {
   "cell_type": "code",
   "execution_count": null,
   "metadata": {},
   "outputs": [],
   "source": [
    "import sys\n",
    "import ast\n",
    "import numpy as np\n",
    "\n",
    "\n",
    "def parse_array(s):\n",
    "    return np.array(ast.literal_eval(s))\n",
    "\n",
    "def read_array():\n",
    "    return parse_array(sys.stdin.readline())\n",
    "\n",
    "def write_array(arr):\n",
    "    print(repr(arr.tolist()))"
   ]
  },
  {
   "cell_type": "code",
   "execution_count": 76,
   "metadata": {},
   "outputs": [],
   "source": [
    "def max_pooling_dldfeatures(features, kernel_size, indices, dldout):\n",
    "    \"\"\"\n",
    "    features - InLen x EmbSize - features of elements of input sequence\n",
    "    kernel_size - positive integer - size of sliding window\n",
    "    indices - OutLen x EmbSize - relative indices of maximum elements for each window position\n",
    "    dldout - OutLen x EmbSize - partial derivative of loss function with respect to outputs of max_pooling layer\n",
    "\n",
    "    returns InLen x EmbSize\n",
    "    \"\"\"\n",
    "    base = np.zeros((len(features), len(features[0])))\n",
    "    for i in range(len(indices)):\n",
    "        base_i = np.zeros((len(features), len(features[0])))\n",
    "        for j, indx in enumerate(indices[i]):\n",
    "            base_i[int(indx+i), j] = dldout[i, j]\n",
    "        print(base_i)\n",
    "        base += base_i\n",
    "    return base"
   ]
  },
  {
   "cell_type": "code",
   "execution_count": 77,
   "metadata": {},
   "outputs": [
    {
     "name": "stdout",
     "output_type": "stream",
     "text": [
      "[[ 0.          0.          0.74543372  0.        ]\n",
      " [ 0.          0.          0.          0.        ]\n",
      " [ 0.         -0.87291617  0.          0.        ]\n",
      " [-0.0763792   0.          0.          0.        ]\n",
      " [ 0.          0.          0.         -2.50847038]\n",
      " [ 0.          0.          0.          0.        ]\n",
      " [ 0.          0.          0.          0.        ]\n",
      " [ 0.          0.          0.          0.        ]\n",
      " [ 0.          0.          0.          0.        ]]\n",
      "[[ 0.          0.          0.          0.        ]\n",
      " [ 0.          0.          0.          0.        ]\n",
      " [ 0.          0.69525794  0.          0.        ]\n",
      " [ 0.          0.          0.          0.        ]\n",
      " [ 0.          0.          0.28299428  0.        ]\n",
      " [ 0.          0.          0.          0.        ]\n",
      " [-0.90801897  0.          0.          0.35396919]\n",
      " [ 0.          0.          0.          0.        ]\n",
      " [ 0.          0.          0.          0.        ]]\n",
      "[[ 0.          0.          0.          0.        ]\n",
      " [ 0.          0.          0.          0.        ]\n",
      " [ 0.         -1.94968237  0.          0.        ]\n",
      " [ 0.          0.          0.          0.        ]\n",
      " [ 0.          0.         -0.11017175  0.        ]\n",
      " [ 0.          0.          0.          0.        ]\n",
      " [ 0.          0.          0.          1.45913632]\n",
      " [ 0.33900936  0.          0.          0.        ]\n",
      " [ 0.          0.          0.          0.        ]]\n",
      "[[ 0.          0.          0.          0.        ]\n",
      " [ 0.          0.          0.          0.        ]\n",
      " [ 0.          0.          0.          0.        ]\n",
      " [ 0.          0.          0.          0.        ]\n",
      " [ 0.          0.         -1.17438474  0.        ]\n",
      " [ 0.          0.          0.          0.        ]\n",
      " [ 0.          0.          0.          0.46721922]\n",
      " [-1.11616227  0.          0.          0.        ]\n",
      " [ 0.         -2.37105519  0.          0.        ]]\n"
     ]
    },
    {
     "data": {
      "text/plain": [
       "array([[ 0.        ,  0.        ,  0.74543372,  0.        ],\n",
       "       [ 0.        ,  0.        ,  0.        ,  0.        ],\n",
       "       [ 0.        , -2.1273406 ,  0.        ,  0.        ],\n",
       "       [-0.0763792 ,  0.        ,  0.        ,  0.        ],\n",
       "       [ 0.        ,  0.        , -1.00156221, -2.50847038],\n",
       "       [ 0.        ,  0.        ,  0.        ,  0.        ],\n",
       "       [-0.90801897,  0.        ,  0.        ,  2.28032473],\n",
       "       [-0.77715291,  0.        ,  0.        ,  0.        ],\n",
       "       [ 0.        , -2.37105519,  0.        ,  0.        ]])"
      ]
     },
     "execution_count": 77,
     "metadata": {},
     "output_type": "execute_result"
    }
   ],
   "source": [
    "max_pooling_dldfeatures(features, kernel_size, indices, dldout)"
   ]
  },
  {
   "cell_type": "code",
   "execution_count": 75,
   "metadata": {},
   "outputs": [
    {
     "data": {
      "text/plain": [
       "array([[ 0.        ,  0.        ,  0.74543372,  0.        ],\n",
       "       [ 0.        ,  0.        ,  0.        ,  0.        ],\n",
       "       [ 0.        , -2.1273406 ,  0.        ,  0.        ],\n",
       "       [-0.0763792 ,  0.        ,  0.        ,  0.        ],\n",
       "       [ 0.        ,  0.        , -1.00156221, -2.50847038],\n",
       "       [ 0.        ,  0.        ,  0.        ,  0.        ],\n",
       "       [-0.90801897,  0.        ,  0.        ,  2.28032473],\n",
       "       [-0.77715291,  0.        ,  0.        ,  0.        ],\n",
       "       [ 0.        , -2.37105519,  0.        ,  0.        ]])"
      ]
     },
     "execution_count": 75,
     "metadata": {},
     "output_type": "execute_result"
    }
   ],
   "source": [
    "np.array(dldfeatures)"
   ]
  },
  {
   "cell_type": "code",
   "execution_count": null,
   "metadata": {},
   "outputs": [],
   "source": [
    "features = read_array()\n",
    "kernel_size = int(sys.stdin.readline())\n",
    "indices = read_array().astype('uint32')\n",
    "dldout = read_array()\n",
    "\n",
    "dldfeatures = max_pooling_dldfeatures(features, kernel_size, indices, dldout)\n",
    "\n",
    "write_array(dldfeatures)"
   ]
  },
  {
   "cell_type": "code",
   "execution_count": null,
   "metadata": {},
   "outputs": [],
   "source": []
  },
  {
   "cell_type": "code",
   "execution_count": null,
   "metadata": {},
   "outputs": [],
   "source": []
  },
  {
   "cell_type": "code",
   "execution_count": 78,
   "metadata": {},
   "outputs": [],
   "source": [
    "vect = [0.7903253367110061, 0.1738679257213426, 0.6840758121402977, -1.4921922753864911, -0.20701526564877176, -0.13343908330179777, 0.27078275189785883, -0.47987385916752834, 1.762361457920409, -0.6382574781276095, -1.476682298043406, 0.13308403857533435, 0.08629164346752129, -0.15274120983311792, 0.03422761142701722, 2.0977915122558075, -0.09695813983037735, 1.145554587286743]"
   ]
  },
  {
   "cell_type": "code",
   "execution_count": 80,
   "metadata": {},
   "outputs": [],
   "source": [
    "result = [0.06860598204389033, 0.03703718180652343, 0.06169051603553571, 0.006999663809155501, 0.02530593948353462, 0.02723806143745914, 0.040806327204274295, 0.019262891730251305, 0.18134764032840614, 0.01644130749673833, 0.007109074723334883, 0.03555704949423753, 0.033931576448048006, 0.0267173505099923, 0.032210162471156406, 0.25362223807297396, 0.028250079060620836, 0.09786695784386741]"
   ]
  },
  {
   "cell_type": "code",
   "execution_count": 81,
   "metadata": {},
   "outputs": [],
   "source": [
    "vect = np.array(vect)\n",
    "result = np.array(result)"
   ]
  },
  {
   "cell_type": "code",
   "execution_count": 82,
   "metadata": {},
   "outputs": [
    {
     "data": {
      "text/plain": [
       "array([ 0.79032534,  0.17386793,  0.68407581, -1.49219228, -0.20701527,\n",
       "       -0.13343908,  0.27078275, -0.47987386,  1.76236146, -0.63825748,\n",
       "       -1.4766823 ,  0.13308404,  0.08629164, -0.15274121,  0.03422761,\n",
       "        2.09779151, -0.09695814,  1.14555459])"
      ]
     },
     "execution_count": 82,
     "metadata": {},
     "output_type": "execute_result"
    }
   ],
   "source": [
    "vect"
   ]
  },
  {
   "cell_type": "code",
   "execution_count": 83,
   "metadata": {},
   "outputs": [
    {
     "data": {
      "text/plain": [
       "array([0.06860598, 0.03703718, 0.06169052, 0.00699966, 0.02530594,\n",
       "       0.02723806, 0.04080633, 0.01926289, 0.18134764, 0.01644131,\n",
       "       0.00710907, 0.03555705, 0.03393158, 0.02671735, 0.03221016,\n",
       "       0.25362224, 0.02825008, 0.09786696])"
      ]
     },
     "execution_count": 83,
     "metadata": {},
     "output_type": "execute_result"
    }
   ],
   "source": [
    "result"
   ]
  },
  {
   "cell_type": "code",
   "execution_count": 84,
   "metadata": {},
   "outputs": [
    {
     "data": {
      "text/plain": [
       "array([0.06860598, 0.03703718, 0.06169052, 0.00699966, 0.02530594,\n",
       "       0.02723806, 0.04080633, 0.01926289, 0.18134764, 0.01644131,\n",
       "       0.00710907, 0.03555705, 0.03393158, 0.02671735, 0.03221016,\n",
       "       0.25362224, 0.02825008, 0.09786696])"
      ]
     },
     "execution_count": 84,
     "metadata": {},
     "output_type": "execute_result"
    }
   ],
   "source": [
    "np.exp(vect)/np.sum(np.exp(vect))"
   ]
  },
  {
   "cell_type": "code",
   "execution_count": null,
   "metadata": {},
   "outputs": [],
   "source": []
  },
  {
   "cell_type": "code",
   "execution_count": 85,
   "metadata": {},
   "outputs": [],
   "source": [
    "vect = [-0.36170314084137395, 1.531638983431016, -1.7131284538840788, -0.9027503682845508, -0.8591376176087115, 0.16481576122888014, 0.2286590883015934, 0.4686776665093307, -0.4880318948728026, 0.13865483857501165, -1.0740873577508447, -1.1693607815929845, 0.6388250392697977]"
   ]
  },
  {
   "cell_type": "code",
   "execution_count": 88,
   "metadata": {},
   "outputs": [],
   "source": [
    "result = [[0.04520990642005896, -0.01496136384662353, -0.0005831584750616379, -0.0013113823146393676, -0.001369840806658998, -0.0038138833133273915, -0.004065315035397694, -0.005168124298133092, -0.0019853599968400696, -0.0037154023993240717, -0.0011048889071803723, -0.0010044813810742047, -0.006126705645798535], [-0.01496136384662353, 0.2158579197223101, -0.0038730635991859903, -0.008709582942971316, -0.00909783668048341, -0.02533001450562798, -0.026999905439354373, -0.03432424452555928, -0.013185824889586901, -0.024675950714133716, -0.007338151103938566, -0.006671291663363668, -0.04069068981148138], [-0.0005831584750616379, -0.0038730635991859903, 0.012135730472354804, -0.0003394788843793973, -0.0003546120941472776, -0.000987303883778268, -0.0010523922714690001, -0.0013378776360475466, -0.0005139521780146152, -0.0009618100285956132, -0.0002860237242683219, -0.00026003112503520596, -0.0015860265723719278], [-0.0013113823146393676, -0.008709582942971316, -0.0003394788843793973, 0.026866394590907443, -0.0007974368009876185, -0.0022202075554586314, -0.0023665755911748154, -0.003008563102643473, -0.0011557540971131601, -0.0021628780434165113, -0.0006431981521542989, -0.0005847470854143117, -0.003566590020554541], [-0.001369840806658998, -0.00909783668048341, -0.0003546120941472776, -0.0007974368009876185, 0.02802849045258695, -0.0023191794450546825, -0.002472072240600495, -0.003142678120181134, -0.0012072750310990093, -0.0022592943115246175, -0.0006718704879216859, -0.000610813803292534, -0.0037255806306354905], [-0.0038138833133273915, -0.02533001450562798, -0.000987303883778268, -0.0022202075554586314, -0.0023191794450546825, 0.07389852776941823, -0.006882693975777504, -0.008749781422376342, -0.0033612709398950754, -0.006290281931106346, -0.0018706083437909523, -0.0017006155464219198, -0.010372686906803137], [-0.004065315035397694, -0.026999905439354373, -0.0010523922714690001, -0.0023665755911748154, -0.002472072240600495, -0.006882693975777504, 0.07831657234824194, -0.009326614122810346, -0.0035828640174308843, -0.006704971183060923, -0.0019939289172219475, -0.0018127292794043132, -0.011056510274539641], [-0.005168124298133092, -0.03432424452555928, -0.0013378776360475466, -0.003008563102643473, -0.003142678120181134, -0.008749781422376342, -0.009326614122810346, 0.09703166928519828, -0.004554797457063466, -0.008523847275730119, -0.002534827533934738, -0.002304473368792744, -0.014055840421926011], [-0.0019853599968400696, -0.013185824889586901, -0.0005139521780146152, -0.0011557540971131601, -0.0012072750310990093, -0.0033612709398950754, -0.0035828640174308843, -0.004554797457063466, 0.040080235966119454, -0.0032744772424536947, -0.0009737662823977987, -0.0008852746134293082, -0.005399619220795473], [-0.0037154023993240717, -0.024675950714133716, -0.0009618100285956132, -0.0021628780434165113, -0.0022592943115246175, -0.006290281931106346, -0.006704971183060923, -0.008523847275730119, -0.0032744772424536947, 0.07215276857928996, -0.001822306074344211, -0.001656702778353048, -0.010104846597247093], [-0.0011048889071803723, -0.007338151103938566, -0.0002860237242683219, -0.0006431981521542989, -0.0006718704879216859, -0.0018706083437909523, -0.0019939289172219475, -0.002534827533934738, -0.0009737662823977987, -0.001822306074344211, 0.02273722712642639, -0.0004926714055603228, -0.003004986193713176], [-0.0010044813810742047, -0.006671291663363668, -0.00026003112503520596, -0.0005847470854143117, -0.000610813803292534, -0.0017006155464219198, -0.0018127292794043132, -0.002304473368792744, -0.0008852746134293082, -0.001656702778353048, -0.0004926714055603228, 0.020715738092779736, -0.0027319060426381574], [-0.006126705645798535, -0.04069068981148138, -0.0015860265723719278, -0.003566590020554541, -0.0037255806306354905, -0.010372686906803137, -0.011056510274539641, -0.014055840421926011, -0.005399619220795473, -0.010104846597247093, -0.003004986193713176, -0.0027319060426381574, 0.11242198833850454]]"
   ]
  },
  {
   "cell_type": "code",
   "execution_count": 89,
   "metadata": {},
   "outputs": [],
   "source": [
    "vect = np.array(vect)\n",
    "result = np.array(result)"
   ]
  },
  {
   "cell_type": "code",
   "execution_count": 90,
   "metadata": {},
   "outputs": [
    {
     "data": {
      "text/plain": [
       "array([-0.36170314,  1.53163898, -1.71312845, -0.90275037, -0.85913762,\n",
       "        0.16481576,  0.22865909,  0.46867767, -0.48803189,  0.13865484,\n",
       "       -1.07408736, -1.16936078,  0.63882504])"
      ]
     },
     "execution_count": 90,
     "metadata": {},
     "output_type": "execute_result"
    }
   ],
   "source": [
    "vect"
   ]
  },
  {
   "cell_type": "code",
   "execution_count": 91,
   "metadata": {},
   "outputs": [
    {
     "data": {
      "text/plain": [
       "array([[ 0.04520991, -0.01496136, -0.00058316, -0.00131138, -0.00136984,\n",
       "        -0.00381388, -0.00406532, -0.00516812, -0.00198536, -0.0037154 ,\n",
       "        -0.00110489, -0.00100448, -0.00612671],\n",
       "       [-0.01496136,  0.21585792, -0.00387306, -0.00870958, -0.00909784,\n",
       "        -0.02533001, -0.02699991, -0.03432424, -0.01318582, -0.02467595,\n",
       "        -0.00733815, -0.00667129, -0.04069069],\n",
       "       [-0.00058316, -0.00387306,  0.01213573, -0.00033948, -0.00035461,\n",
       "        -0.0009873 , -0.00105239, -0.00133788, -0.00051395, -0.00096181,\n",
       "        -0.00028602, -0.00026003, -0.00158603],\n",
       "       [-0.00131138, -0.00870958, -0.00033948,  0.02686639, -0.00079744,\n",
       "        -0.00222021, -0.00236658, -0.00300856, -0.00115575, -0.00216288,\n",
       "        -0.0006432 , -0.00058475, -0.00356659],\n",
       "       [-0.00136984, -0.00909784, -0.00035461, -0.00079744,  0.02802849,\n",
       "        -0.00231918, -0.00247207, -0.00314268, -0.00120728, -0.00225929,\n",
       "        -0.00067187, -0.00061081, -0.00372558],\n",
       "       [-0.00381388, -0.02533001, -0.0009873 , -0.00222021, -0.00231918,\n",
       "         0.07389853, -0.00688269, -0.00874978, -0.00336127, -0.00629028,\n",
       "        -0.00187061, -0.00170062, -0.01037269],\n",
       "       [-0.00406532, -0.02699991, -0.00105239, -0.00236658, -0.00247207,\n",
       "        -0.00688269,  0.07831657, -0.00932661, -0.00358286, -0.00670497,\n",
       "        -0.00199393, -0.00181273, -0.01105651],\n",
       "       [-0.00516812, -0.03432424, -0.00133788, -0.00300856, -0.00314268,\n",
       "        -0.00874978, -0.00932661,  0.09703167, -0.0045548 , -0.00852385,\n",
       "        -0.00253483, -0.00230447, -0.01405584],\n",
       "       [-0.00198536, -0.01318582, -0.00051395, -0.00115575, -0.00120728,\n",
       "        -0.00336127, -0.00358286, -0.0045548 ,  0.04008024, -0.00327448,\n",
       "        -0.00097377, -0.00088527, -0.00539962],\n",
       "       [-0.0037154 , -0.02467595, -0.00096181, -0.00216288, -0.00225929,\n",
       "        -0.00629028, -0.00670497, -0.00852385, -0.00327448,  0.07215277,\n",
       "        -0.00182231, -0.0016567 , -0.01010485],\n",
       "       [-0.00110489, -0.00733815, -0.00028602, -0.0006432 , -0.00067187,\n",
       "        -0.00187061, -0.00199393, -0.00253483, -0.00097377, -0.00182231,\n",
       "         0.02273723, -0.00049267, -0.00300499],\n",
       "       [-0.00100448, -0.00667129, -0.00026003, -0.00058475, -0.00061081,\n",
       "        -0.00170062, -0.00181273, -0.00230447, -0.00088527, -0.0016567 ,\n",
       "        -0.00049267,  0.02071574, -0.00273191],\n",
       "       [-0.00612671, -0.04069069, -0.00158603, -0.00356659, -0.00372558,\n",
       "        -0.01037269, -0.01105651, -0.01405584, -0.00539962, -0.01010485,\n",
       "        -0.00300499, -0.00273191,  0.11242199]])"
      ]
     },
     "execution_count": 91,
     "metadata": {},
     "output_type": "execute_result"
    }
   ],
   "source": [
    "result"
   ]
  },
  {
   "cell_type": "code",
   "execution_count": null,
   "metadata": {},
   "outputs": [],
   "source": []
  },
  {
   "cell_type": "code",
   "execution_count": 102,
   "metadata": {},
   "outputs": [],
   "source": [
    "def softmax(z):\n",
    "    z -= np.max(z)\n",
    "    sm = (np.exp(z).T / np.sum(np.exp(z), axis=0)).T\n",
    "    return sm\n",
    "\n",
    "def dsoftmax_dx(x):\n",
    "    \"\"\"\n",
    "    x - vector of n elements - input\n",
    "\n",
    "    returns matrix n x n\n",
    "    \"\"\"\n",
    "    x = softmax(x)\n",
    "    s = x.reshape(-1,1)\n",
    "    return np.diagflat(s) - np.dot(s, s.T)\n",
    "\n"
   ]
  },
  {
   "cell_type": "code",
   "execution_count": 103,
   "metadata": {},
   "outputs": [
    {
     "data": {
      "text/plain": [
       "array([[ 0.04520991, -0.01496136, -0.00058316, -0.00131138, -0.00136984,\n",
       "        -0.00381388, -0.00406532, -0.00516812, -0.00198536, -0.0037154 ,\n",
       "        -0.00110489, -0.00100448, -0.00612671],\n",
       "       [-0.01496136,  0.21585792, -0.00387306, -0.00870958, -0.00909784,\n",
       "        -0.02533001, -0.02699991, -0.03432424, -0.01318582, -0.02467595,\n",
       "        -0.00733815, -0.00667129, -0.04069069],\n",
       "       [-0.00058316, -0.00387306,  0.01213573, -0.00033948, -0.00035461,\n",
       "        -0.0009873 , -0.00105239, -0.00133788, -0.00051395, -0.00096181,\n",
       "        -0.00028602, -0.00026003, -0.00158603],\n",
       "       [-0.00131138, -0.00870958, -0.00033948,  0.02686639, -0.00079744,\n",
       "        -0.00222021, -0.00236658, -0.00300856, -0.00115575, -0.00216288,\n",
       "        -0.0006432 , -0.00058475, -0.00356659],\n",
       "       [-0.00136984, -0.00909784, -0.00035461, -0.00079744,  0.02802849,\n",
       "        -0.00231918, -0.00247207, -0.00314268, -0.00120728, -0.00225929,\n",
       "        -0.00067187, -0.00061081, -0.00372558],\n",
       "       [-0.00381388, -0.02533001, -0.0009873 , -0.00222021, -0.00231918,\n",
       "         0.07389853, -0.00688269, -0.00874978, -0.00336127, -0.00629028,\n",
       "        -0.00187061, -0.00170062, -0.01037269],\n",
       "       [-0.00406532, -0.02699991, -0.00105239, -0.00236658, -0.00247207,\n",
       "        -0.00688269,  0.07831657, -0.00932661, -0.00358286, -0.00670497,\n",
       "        -0.00199393, -0.00181273, -0.01105651],\n",
       "       [-0.00516812, -0.03432424, -0.00133788, -0.00300856, -0.00314268,\n",
       "        -0.00874978, -0.00932661,  0.09703167, -0.0045548 , -0.00852385,\n",
       "        -0.00253483, -0.00230447, -0.01405584],\n",
       "       [-0.00198536, -0.01318582, -0.00051395, -0.00115575, -0.00120728,\n",
       "        -0.00336127, -0.00358286, -0.0045548 ,  0.04008024, -0.00327448,\n",
       "        -0.00097377, -0.00088527, -0.00539962],\n",
       "       [-0.0037154 , -0.02467595, -0.00096181, -0.00216288, -0.00225929,\n",
       "        -0.00629028, -0.00670497, -0.00852385, -0.00327448,  0.07215277,\n",
       "        -0.00182231, -0.0016567 , -0.01010485],\n",
       "       [-0.00110489, -0.00733815, -0.00028602, -0.0006432 , -0.00067187,\n",
       "        -0.00187061, -0.00199393, -0.00253483, -0.00097377, -0.00182231,\n",
       "         0.02273723, -0.00049267, -0.00300499],\n",
       "       [-0.00100448, -0.00667129, -0.00026003, -0.00058475, -0.00061081,\n",
       "        -0.00170062, -0.00181273, -0.00230447, -0.00088527, -0.0016567 ,\n",
       "        -0.00049267,  0.02071574, -0.00273191],\n",
       "       [-0.00612671, -0.04069069, -0.00158603, -0.00356659, -0.00372558,\n",
       "        -0.01037269, -0.01105651, -0.01405584, -0.00539962, -0.01010485,\n",
       "        -0.00300499, -0.00273191,  0.11242199]])"
      ]
     },
     "execution_count": 103,
     "metadata": {},
     "output_type": "execute_result"
    }
   ],
   "source": [
    "dsoftmax_dx(vect)"
   ]
  },
  {
   "cell_type": "code",
   "execution_count": null,
   "metadata": {},
   "outputs": [],
   "source": []
  },
  {
   "cell_type": "code",
   "execution_count": null,
   "metadata": {},
   "outputs": [],
   "source": []
  },
  {
   "cell_type": "code",
   "execution_count": null,
   "metadata": {},
   "outputs": [],
   "source": []
  },
  {
   "cell_type": "code",
   "execution_count": null,
   "metadata": {},
   "outputs": [],
   "source": []
  },
  {
   "cell_type": "code",
   "execution_count": null,
   "metadata": {},
   "outputs": [],
   "source": []
  },
  {
   "cell_type": "code",
   "execution_count": null,
   "metadata": {},
   "outputs": [],
   "source": []
  },
  {
   "cell_type": "code",
   "execution_count": null,
   "metadata": {},
   "outputs": [],
   "source": []
  },
  {
   "cell_type": "code",
   "execution_count": null,
   "metadata": {},
   "outputs": [],
   "source": []
  },
  {
   "cell_type": "code",
   "execution_count": null,
   "metadata": {},
   "outputs": [],
   "source": []
  },
  {
   "cell_type": "code",
   "execution_count": null,
   "metadata": {},
   "outputs": [],
   "source": []
  },
  {
   "cell_type": "code",
   "execution_count": null,
   "metadata": {},
   "outputs": [],
   "source": []
  },
  {
   "cell_type": "code",
   "execution_count": null,
   "metadata": {},
   "outputs": [],
   "source": []
  }
 ],
 "metadata": {
  "kernelspec": {
   "display_name": "Python 3",
   "language": "python",
   "name": "python3"
  },
  "language_info": {
   "codemirror_mode": {
    "name": "ipython",
    "version": 3
   },
   "file_extension": ".py",
   "mimetype": "text/x-python",
   "name": "python",
   "nbconvert_exporter": "python",
   "pygments_lexer": "ipython3",
   "version": "3.6.9"
  }
 },
 "nbformat": 4,
 "nbformat_minor": 4
}
