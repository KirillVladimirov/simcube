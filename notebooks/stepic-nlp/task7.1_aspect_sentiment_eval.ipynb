{
 "cells": [
  {
   "cell_type": "code",
   "execution_count": 1,
   "metadata": {},
   "outputs": [
    {
     "data": {
      "text/plain": [
       "<torch._C.Generator at 0x7fb08c335210>"
      ]
     },
     "execution_count": 1,
     "metadata": {},
     "output_type": "execute_result"
    }
   ],
   "source": [
    "import torch\n",
    "import torch.nn as nn\n",
    "import torch.nn.functional as F\n",
    "import torch.optim as optim\n",
    "\n",
    "import random\n",
    "import numpy as np\n",
    "import matplotlib.pyplot as plt\n",
    "%matplotlib inline\n",
    "\n",
    "torch.manual_seed(1)"
   ]
  },
  {
   "cell_type": "code",
   "execution_count": 2,
   "metadata": {},
   "outputs": [],
   "source": [
    "from simcube.sentiment_utils import parse_xml_aspect, show_markup,prepare_data, generate_markup"
   ]
  },
  {
   "cell_type": "code",
   "execution_count": 3,
   "metadata": {},
   "outputs": [],
   "source": [
    "from nltk.tokenize import RegexpTokenizer\n",
    "\n",
    "word_tokenizer = RegexpTokenizer('\\w+|\\$[\\d\\.]+|\\S+')"
   ]
  },
  {
   "cell_type": "code",
   "execution_count": 4,
   "metadata": {},
   "outputs": [],
   "source": [
    "xml_train = '../../data/raw/SentiRuEval_car_markup_train.xml'\n",
    "xml_test  = '../../data/raw/SentiRuEval_car_markup_test.xml'"
   ]
  },
  {
   "cell_type": "code",
   "execution_count": 5,
   "metadata": {},
   "outputs": [],
   "source": [
    "texts_w_aspect_spans = parse_xml_aspect(xml_train)\n",
    "texts_w_aspect_spans = [(text.lower(),spans) for text, spans in texts_w_aspect_spans]\n",
    "training_data        = prepare_data(texts_w_aspect_spans, word_tokenizer.tokenize)\n",
    "\n",
    "texts_w_aspect_spans = parse_xml_aspect(xml_test)\n",
    "texts_w_aspect_spans = [(text.lower(),spans) for text, spans in texts_w_aspect_spans]\n",
    "test_data            = prepare_data(texts_w_aspect_spans, word_tokenizer.tokenize)"
   ]
  },
  {
   "cell_type": "code",
   "execution_count": 6,
   "metadata": {},
   "outputs": [
    {
     "data": {
      "text/plain": [
       "(2210, 1922)"
      ]
     },
     "execution_count": 6,
     "metadata": {},
     "output_type": "execute_result"
    }
   ],
   "source": [
    "len(training_data), len(test_data)"
   ]
  },
  {
   "cell_type": "code",
   "execution_count": 7,
   "metadata": {},
   "outputs": [
    {
     "data": {
      "text/html": [
       "<div class=\"tex2jax_ignore\" style=\"white-space: pre-wrap\"><span style=\"padding: 2px; border-radius: 4px; border: 1px solid #d7ccc8; background: #efebe9\">все так чисто ,<span style=\"vertical-align: middle; margin-left: 2px; font-size: 0.7em; color: #a1887f;\">Other</span></span> <span style=\"padding: 2px; border-radius: 4px; border: 1px solid #ffe0b2; background: #fff3e0\">опрятно<span style=\"vertical-align: middle; margin-left: 2px; font-size: 0.7em; color: #ffb74d;\">Comfort</span></span> <span style=\"padding: 2px; border-radius: 4px; border: 1px solid #d7ccc8; background: #efebe9\">, светло и тепло , что я сразу же очутился в своей тарелке .<span style=\"vertical-align: middle; margin-left: 2px; font-size: 0.7em; color: #a1887f;\">Other</span></span></div>"
      ],
      "text/plain": [
       "<IPython.core.display.HTML object>"
      ]
     },
     "metadata": {},
     "output_type": "display_data"
    }
   ],
   "source": [
    "test_recipe, test_tags = training_data[400]\n",
    "\n",
    "text, spans = generate_markup(test_recipe, test_tags) \n",
    "\n",
    "show_markup(text, spans)"
   ]
  },
  {
   "cell_type": "code",
   "execution_count": 8,
   "metadata": {},
   "outputs": [],
   "source": [
    "from collections import Counter\n",
    "from collections import defaultdict\n",
    "\n",
    "def form_vocabulary_and_tagset(words_w_tags):\n",
    "    dictionary = defaultdict(Counter)\n",
    "    for words,tags in words_w_tags: \n",
    "        for word, tag in zip(words, tags):\n",
    "            dictionary[tag].update([word])      \n",
    "    return dictionary, set(dictionary.keys())"
   ]
  },
  {
   "cell_type": "code",
   "execution_count": 9,
   "metadata": {},
   "outputs": [],
   "source": [
    "word_counter, labels = form_vocabulary_and_tagset(training_data)"
   ]
  },
  {
   "cell_type": "code",
   "execution_count": 10,
   "metadata": {},
   "outputs": [
    {
     "name": "stdout",
     "output_type": "stream",
     "text": [
      "478\tin B-Comfort\n",
      "584\tin B-Driveability\n",
      "169\tin B-Costs\n",
      "60\tin B-Safety\n",
      "189\tin B-Appearance\n",
      "393\tin I-Driveability\n",
      "300\tin I-Reliability\n",
      "49\tin I-Safety\n",
      "236\tin B-Whole\n",
      "103\tin I-Appearance\n",
      "97\tin I-Costs\n",
      "284\tin I-Comfort\n",
      "464\tin B-Reliability\n",
      "200\tin I-Whole\n",
      "4933\tin Other\n"
     ]
    }
   ],
   "source": [
    "for label in labels:\n",
    "    num_words = len(word_counter[label])\n",
    "    print(f'{num_words}\\tin {label}')"
   ]
  },
  {
   "cell_type": "code",
   "execution_count": 11,
   "metadata": {
    "collapsed": true,
    "jupyter": {
     "outputs_hidden": true
    }
   },
   "outputs": [
    {
     "data": {
      "text/plain": [
       "[('в', 29),\n",
       " ('салоне', 17),\n",
       " ('места', 15),\n",
       " ('сиденья', 14),\n",
       " ('багажник', 12),\n",
       " ('сидений', 10),\n",
       " ('салона', 9),\n",
       " ('на', 8),\n",
       " ('для', 6),\n",
       " ('сидения', 5),\n",
       " ('багажника', 5),\n",
       " ('с', 5),\n",
       " ('и', 5),\n",
       " ('комплектации', 5),\n",
       " ('не', 5),\n",
       " ('автомобиля', 4),\n",
       " ('задние', 4),\n",
       " ('управления', 4),\n",
       " ('салон', 4),\n",
       " ('автомобиле', 3),\n",
       " ('тесно', 3),\n",
       " ('отделение', 3),\n",
       " ('передач', 3),\n",
       " ('фар', 3),\n",
       " ('стекло', 3),\n",
       " ('хватает', 3),\n",
       " ('приборов', 3),\n",
       " ('ног', 3),\n",
       " ('двери', 2),\n",
       " ('пластик', 2),\n",
       " ('авто', 2),\n",
       " ('машины', 2),\n",
       " ('колонка', 2),\n",
       " ('все', 2),\n",
       " ('пассажиров', 2),\n",
       " ('панели', 2),\n",
       " ('диване', 2),\n",
       " ('обслуживании', 2),\n",
       " ('заднем', 2),\n",
       " ('водителя', 2),\n",
       " ('от', 2),\n",
       " ('панель', 2),\n",
       " ('эксплуатации', 2),\n",
       " ('универсал', 2),\n",
       " ('-контроль', 2),\n",
       " ('передних', 2),\n",
       " ('потолок', 2),\n",
       " ('достаточно', 2),\n",
       " ('магнитолу', 2),\n",
       " ('удобно', 2),\n",
       " ('системы', 2),\n",
       " ('сидениях', 2),\n",
       " ('арок', 2),\n",
       " ('chery', 2),\n",
       " ('qq6', 2),\n",
       " ('1', 2),\n",
       " ('.1', 2),\n",
       " ('стучит', 2),\n",
       " ('безопасности', 2),\n",
       " ('\"космо\"', 1),\n",
       " ('руссифицированный', 1),\n",
       " ('удобные', 1),\n",
       " ('колонке', 1),\n",
       " ('всяких', 1),\n",
       " ('опций', 1),\n",
       " ('шумы', 1),\n",
       " ('логане', 1),\n",
       " ('бояться', 1),\n",
       " ('за', 1),\n",
       " ('усталость', 1),\n",
       " ('болела', 1),\n",
       " ('focus', 1),\n",
       " ('2', 1),\n",
       " ('седан', 1),\n",
       " ('автомат', 1),\n",
       " ('уно', 1),\n",
       " ('больше', 1),\n",
       " ('руле', 1),\n",
       " ('подлокотник', 1),\n",
       " (')', 1),\n",
       " ('заднего', 1),\n",
       " ('вида', 1),\n",
       " ('спортивный', 1),\n",
       " ('болид', 1),\n",
       " ('пластика', 1),\n",
       " ('экран', 1),\n",
       " ('бизнес', 1),\n",
       " ('-класс', 1),\n",
       " ('открывать', 1),\n",
       " ('окна', 1),\n",
       " ('полка', 1),\n",
       " ('акустики', 1),\n",
       " ('двигатель', 1),\n",
       " ('зад', 1),\n",
       " ('диваном', 1),\n",
       " ('подлокотником', 1),\n",
       " ('свет', 1),\n",
       " ('топливного', 1),\n",
       " ('бака', 1),\n",
       " ('компьютере', 1),\n",
       " ('-проигрывателе', 1),\n",
       " ('кпп', 1),\n",
       " ('тесноты', 1),\n",
       " ('мультимедийный', 1),\n",
       " ('плеер', 1),\n",
       " ('тихо', 1),\n",
       " ('диванчик', 1),\n",
       " ('только', 1),\n",
       " ('задний', 1),\n",
       " ('дива', 1),\n",
       " ('пакетам', 1),\n",
       " ('поясница', 1),\n",
       " ('-ноги', 1),\n",
       " ('зеркал', 1),\n",
       " ('запаска', 1),\n",
       " ('кнопок', 1),\n",
       " ('легкостью', 1),\n",
       " ('поместиться', 1),\n",
       " ('переднего', 1),\n",
       " ('пассажира', 1),\n",
       " ('положение', 1),\n",
       " ('прогревается', 1),\n",
       " ('температуры', 1),\n",
       " ('нагрева', 1),\n",
       " ('салазках', 1),\n",
       " ('ужасно', 1),\n",
       " ('части', 1),\n",
       " ('хайса', 1),\n",
       " ('люк', 1),\n",
       " ('кондиционера', 1),\n",
       " ('нам', 1),\n",
       " ('мест', 1),\n",
       " ('субары', 1),\n",
       " ('огромной', 1),\n",
       " ('баранкой', 1),\n",
       " ('своих', 1),\n",
       " ('местах', 1),\n",
       " ('неудобств', 1),\n",
       " ('появлялись', 1),\n",
       " ('скрипы', 1),\n",
       " ('часть', 1),\n",
       " ('пространства', 1),\n",
       " ('подогревает', 1),\n",
       " ('зонный', 1),\n",
       " ('климат', 1),\n",
       " ('расположены', 1),\n",
       " ('бардачке', 1),\n",
       " ('оркестр', 1),\n",
       " ('правой', 1),\n",
       " ('панеле', 1),\n",
       " ('подсветкой', 1),\n",
       " ('приносит', 1),\n",
       " ('дискомфорта', 1),\n",
       " ('что', 1),\n",
       " ('вмещается', 1),\n",
       " ('долго', 1),\n",
       " ('отличается', 1),\n",
       " ('просторностью', 1),\n",
       " ('коленки', 1),\n",
       " ('спина', 1),\n",
       " ('лихвой', 1),\n",
       " ('хватит', 1),\n",
       " ('совсем', 1),\n",
       " ('комфортно', 1),\n",
       " ('багаж', 1),\n",
       " ('создает', 1),\n",
       " ('раздражающих', 1),\n",
       " ('звуков', 1),\n",
       " ('бензином', 1),\n",
       " ('включить', 1),\n",
       " ('печку', 1),\n",
       " ('машина', 1),\n",
       " ('дверки', 1),\n",
       " ('кнопки', 1),\n",
       " ('переключения', 1),\n",
       " ('система', 1),\n",
       " ('гарнитурой', 1),\n",
       " ('планка', 1),\n",
       " ('под', 1),\n",
       " ('рукой', 1),\n",
       " ('навязчиво', 1),\n",
       " ('опель', 1),\n",
       " ('автомагнитола', 1),\n",
       " ('водить', 1),\n",
       " ('регулируются', 1),\n",
       " ('комплектацию', 1),\n",
       " ('фары', 1),\n",
       " ('кожа', 1),\n",
       " ('внутри', 1),\n",
       " ('холодно', 1),\n",
       " ('ноги', 1),\n",
       " ('s', 1),\n",
       " ('магнитола', 1),\n",
       " ('сd', 1),\n",
       " ('диски', 1),\n",
       " ('стекла', 1),\n",
       " ('компьютер', 1),\n",
       " ('сидеть', 1),\n",
       " ('греет', 1),\n",
       " ('орет', 1),\n",
       " ('ремонте', 1),\n",
       " ('дверь', 1),\n",
       " ('руля', 1),\n",
       " ('управляется', 1),\n",
       " ('тормоза', 1),\n",
       " ('-подъёмники', 1),\n",
       " ('свободно', 1),\n",
       " ('мягко', 1),\n",
       " ('сиденье', 1),\n",
       " ('магнитолой', 1),\n",
       " ('зеркала', 1),\n",
       " ('маленький', 1),\n",
       " ('контроль', 1),\n",
       " ('жарко', 1),\n",
       " ('холодный', 1),\n",
       " ('воздух', 1),\n",
       " ('замерзают', 1),\n",
       " ('тепловой', 1),\n",
       " ('удар', 1),\n",
       " ('арки', 1),\n",
       " ('pioneer', 1),\n",
       " ('аудио', 1),\n",
       " ('припарковаться', 1),\n",
       " ('кресло', 1),\n",
       " ('управлять', 1),\n",
       " ('шумов', 1),\n",
       " ('сидении', 1),\n",
       " ('кресел', 1),\n",
       " ('задних', 1),\n",
       " ('мало', 1),\n",
       " ('довольно', 1),\n",
       " ('мал', 1),\n",
       " ('как', 1),\n",
       " ('болтается', 1),\n",
       " ('бензин', 1),\n",
       " ('баке', 1),\n",
       " ('колесных', 1),\n",
       " ('отсеке', 1),\n",
       " ('тахометра', 1),\n",
       " ('упираюсь', 1),\n",
       " ('так', 1),\n",
       " ('много', 1),\n",
       " ('мульимедиа', 1),\n",
       " ('климатом', 1),\n",
       " ('мелочей', 1),\n",
       " ('плпстиком', 1),\n",
       " ('поддержка', 1),\n",
       " ('со', 1),\n",
       " ('двора', 1),\n",
       " ('шума', 1),\n",
       " ('вибраций', 1),\n",
       " ('ваши', 1),\n",
       " ('позвоночники', 1),\n",
       " ('размер', 1),\n",
       " ('дисплей', 1),\n",
       " ('обогревом', 1),\n",
       " ('\"калины\"', 1),\n",
       " ('при', 1),\n",
       " ('вождении', 1),\n",
       " ('чистится', 1),\n",
       " ('всех', 1),\n",
       " ('вещей', 1),\n",
       " ('есть', 1),\n",
       " ('место', 1),\n",
       " ('автомагнитолы', 1),\n",
       " ('небольшой', 1),\n",
       " ('-контроля', 1),\n",
       " ('гремит', 1),\n",
       " ('корпуса', 1),\n",
       " ('автомобилю', 1),\n",
       " ('дверей', 1),\n",
       " ('полная', 1),\n",
       " ('тишина', 1),\n",
       " ('kangoo', 1),\n",
       " ('удобны', 1),\n",
       " ('ремни', 1),\n",
       " ('присутствует', 1),\n",
       " ('помещается', 1),\n",
       " ('поддержки', 1),\n",
       " ('спины', 1),\n",
       " ('круиз', 1),\n",
       " ('контороли', 1),\n",
       " ('багажного', 1),\n",
       " ('отдела', 1)]"
      ]
     },
     "execution_count": 11,
     "metadata": {},
     "output_type": "execute_result"
    }
   ],
   "source": [
    "word_counter['I-Comfort'].most_common()"
   ]
  },
  {
   "cell_type": "code",
   "execution_count": 12,
   "metadata": {},
   "outputs": [],
   "source": [
    "class TagConverter():\n",
    "    def __init__(self, tags):\n",
    "        self.idx_to_tag  = sorted(tags)\n",
    "        self.tag_to_idx  = {tag:idx for idx,tag in enumerate(self.idx_to_tag)}\n",
    "        \n",
    "    def tags_to_index(self, words):\n",
    "        return torch.tensor([self.tag_to_idx[w] for w in words], dtype=torch.long)\n",
    "    \n",
    "    def indices_to_tags(self, indices):\n",
    "        return [self.idx_to_tag[i] for i in indices]"
   ]
  },
  {
   "cell_type": "code",
   "execution_count": 13,
   "metadata": {},
   "outputs": [],
   "source": [
    "tag_converter = TagConverter(labels)"
   ]
  },
  {
   "cell_type": "code",
   "execution_count": 14,
   "metadata": {},
   "outputs": [
    {
     "data": {
      "text/html": [
       "<div class=\"tex2jax_ignore\" style=\"white-space: pre-wrap\"><span style=\"padding: 2px; border-radius: 4px; border: 1px solid #ffcdd2; background: #ffebee\">автомобиль<span style=\"vertical-align: middle; margin-left: 2px; font-size: 0.7em; color: #e57373;\">Whole</span></span> <span style=\"padding: 2px; border-radius: 4px; border: 1px solid #d7ccc8; background: #efebe9\">принадлежит дяде .<span style=\"vertical-align: middle; margin-left: 2px; font-size: 0.7em; color: #a1887f;\">Other</span></span></div>"
      ],
      "text/plain": [
       "<IPython.core.display.HTML object>"
      ]
     },
     "metadata": {},
     "output_type": "display_data"
    },
    {
     "name": "stdout",
     "output_type": "stream",
     "text": [
      "tensor([ 6, 14, 14, 14])\n",
      "\n"
     ]
    },
    {
     "data": {
      "text/html": [
       "<div class=\"tex2jax_ignore\" style=\"white-space: pre-wrap\"><span style=\"padding: 2px; border-radius: 4px; border: 1px solid #ffcdd2; background: #ffebee\">автомобиль<span style=\"vertical-align: middle; margin-left: 2px; font-size: 0.7em; color: #e57373;\">Whole</span></span> <span style=\"padding: 2px; border-radius: 4px; border: 1px solid #d7ccc8; background: #efebe9\">принадлежит дяде .<span style=\"vertical-align: middle; margin-left: 2px; font-size: 0.7em; color: #a1887f;\">Other</span></span></div>"
      ],
      "text/plain": [
       "<IPython.core.display.HTML object>"
      ]
     },
     "metadata": {},
     "output_type": "display_data"
    }
   ],
   "source": [
    "test_recipe, test_tags = training_data[321]\n",
    "\n",
    "# оригинал\n",
    "text, spans = generate_markup(test_recipe, test_tags) \n",
    "show_markup(text, spans)\n",
    "\n",
    "# кодируем только тэги:\n",
    "encoded_tags = tag_converter.tags_to_index(test_tags)\n",
    "print(encoded_tags)\n",
    "print()\n",
    "\n",
    "# декодируем тэги:\n",
    "decoded_tags = tag_converter.indices_to_tags(encoded_tags)\n",
    "\n",
    "text, spans = generate_markup(test_recipe, decoded_tags) \n",
    "show_markup(text, spans)"
   ]
  },
  {
   "cell_type": "code",
   "execution_count": 22,
   "metadata": {},
   "outputs": [],
   "source": [
    "import zipfile\n",
    "import gensim\n",
    "import wget\n",
    "\n",
    "model_url = 'http://vectors.nlpl.eu/repository/11/187.zip'\n",
    "wget.download(model_url)\n",
    "model_file = '../../data/raw/' + model_url.split('/')[-1]"
   ]
  },
  {
   "cell_type": "code",
   "execution_count": 25,
   "metadata": {},
   "outputs": [
    {
     "data": {
      "text/plain": [
       "'../../data/raw/187.zip'"
      ]
     },
     "execution_count": 25,
     "metadata": {},
     "output_type": "execute_result"
    }
   ],
   "source": [
    "model_file"
   ]
  },
  {
   "cell_type": "code",
   "execution_count": 29,
   "metadata": {},
   "outputs": [],
   "source": [
    "w2v_model = gensim.models.KeyedVectors.load('vectors_nlpl_187/model.model')"
   ]
  },
  {
   "cell_type": "code",
   "execution_count": 43,
   "metadata": {},
   "outputs": [
    {
     "name": "stdout",
     "output_type": "stream",
     "text": [
      "тачаночка\n",
      "тачанка 0.7318679094314575\n",
      "тачанк 0.6545170545578003\n",
      "бричка 0.627240777015686\n",
      "двуколка 0.610139012336731\n",
      "тачка 0.5886926054954529\n",
      "бараночка 0.5879709720611572\n",
      "паночка 0.573016881942749\n",
      "эмка 0.5701597929000854\n",
      "саничка 0.565357506275177\n",
      "каретка 0.5643386244773865\n",
      "\n",
      "\n",
      "двиганчик\n",
      "движка 0.4994381070137024\n",
      "танчик 0.4963422417640686\n",
      "двигай 0.4941864609718323\n",
      "двигатели 0.48835229873657227\n",
      "движа 0.4803929924964905\n",
      "двигун 0.46693849563598633\n",
      "движок 0.4630592465400696\n",
      "моторчик 0.45433372259140015\n",
      "шарк 0.4522787034511566\n",
      "движ 0.452262818813324\n",
      "\n",
      "\n",
      "ковервертолет\n",
      "вертолет 0.743363618850708\n",
      "ковер-самолет 0.6644095778465271\n",
      "вертолетная 0.6616967916488647\n",
      "вертолетчика 0.6364192962646484\n",
      "вертолёт 0.6328296065330505\n",
      "самолет 0.6245843768119812\n",
      "ковре-самолет 0.6201825141906738\n",
      "вертолетчик 0.6189783811569214\n",
      "гидросамолет 0.6109312176704407\n",
      "вертолетный 0.6071040630340576\n",
      "\n",
      "\n",
      "ауди\n",
      "bmw 0.7961359620094299\n",
      "бмв 0.7914925813674927\n",
      "аудь 0.7911134958267212\n",
      "тойота 0.7723557353019714\n",
      "мерседес 0.7654416561126709\n",
      "mw 0.7585864067077637\n",
      "bmv 0.7522681951522827\n",
      "форд 0.7281615734100342\n",
      "тойот 0.7268385887145996\n",
      "лексус 0.7258473038673401\n",
      "\n",
      "\n",
      "мерседес\n",
      "бмв 0.8659982085227966\n",
      "лимузин 0.860617995262146\n",
      "иномарка 0.8573694229125977\n",
      "джип 0.8514877557754517\n",
      "мерс 0.8464375734329224\n",
      "тойота 0.838029682636261\n",
      "авто 0.8256708383560181\n",
      "bmw 0.811417818069458\n",
      "лимузина 0.7964949607849121\n",
      "фольксваген 0.7937252521514893\n",
      "\n",
      "\n"
     ]
    }
   ],
   "source": [
    "words = ['тачаночка', 'двиганчик', 'ковервертолет', 'ауди', 'мерседес']\n",
    "\n",
    "for word in words:\n",
    "    print(word)\n",
    "\n",
    "    for i in w2v_model.most_similar(positive=[word], topn=10):\n",
    "        nearest_word      = i[0]\n",
    "        cosine_similarity = i[1]\n",
    "        print(nearest_word, cosine_similarity)\n",
    "    print('\\n')"
   ]
  },
  {
   "cell_type": "code",
   "execution_count": 31,
   "metadata": {},
   "outputs": [],
   "source": [
    "class WordConverter:\n",
    "    def __init__(self, w2v_model):\n",
    "        self.w2v_model = w2v_model\n",
    "\n",
    "    def convert(self, words):\n",
    "        embeddings = [self.w2v_model.get_vector(word) for word in words]\n",
    "        embeddings = torch.FloatTensor(embeddings)\n",
    "        return embeddings"
   ]
  },
  {
   "cell_type": "code",
   "execution_count": 32,
   "metadata": {},
   "outputs": [
    {
     "data": {
      "text/plain": [
       "torch.Size([27, 300])"
      ]
     },
     "execution_count": 32,
     "metadata": {},
     "output_type": "execute_result"
    }
   ],
   "source": [
    "word_converter = WordConverter(w2v_model)\n",
    "\n",
    "words,_ = training_data[333]\n",
    "vectors = word_converter.convert(words)\n",
    "\n",
    "vectors.shape"
   ]
  },
  {
   "cell_type": "code",
   "execution_count": 33,
   "metadata": {},
   "outputs": [],
   "source": [
    "EMBEDDING_DIM = 300\n",
    "HIDDEN_DIM    = 32\n",
    "TAGSET_SIZE   = len(tag_converter.tag_to_idx)"
   ]
  },
  {
   "cell_type": "code",
   "execution_count": 34,
   "metadata": {},
   "outputs": [],
   "source": [
    "class LSTMTagger(nn.Module):\n",
    "    def __init__(self, embedding_dim, hidden_dim, output_dim, word_converter):\n",
    "        super(LSTMTagger, self).__init__()\n",
    "        tagset_size = len(tag_converter.tag_to_idx)\n",
    "        \n",
    "        self.word_converter = word_converter\n",
    "        self.lstm           = nn.LSTM(embedding_dim, hidden_dim, bidirectional=True)\n",
    "        self.hidden2tag     = nn.Linear(2*hidden_dim, output_dim)\n",
    "\n",
    "    def forward(self, words):\n",
    "        embeds      = self.word_converter.convert(words)\n",
    "        lstm_out, _ = self.lstm(embeds.view(len(words), 1, -1))\n",
    "        tag_space   = self.hidden2tag(lstm_out.view(len(words), -1))\n",
    "        tag_scores  = F.log_softmax(tag_space, dim=1)\n",
    "        return tag_scores\n",
    "    \n",
    "    def predict_tags(self, words):\n",
    "        with torch.no_grad():\n",
    "            tags_pred = model(words).numpy()\n",
    "            tags_pred = np.argmax(tags_pred, axis=1)  \n",
    "        return tags_pred"
   ]
  },
  {
   "cell_type": "code",
   "execution_count": 35,
   "metadata": {},
   "outputs": [
    {
     "name": "stdout",
     "output_type": "stream",
     "text": [
      "478\tin B-Comfort\n",
      "584\tin B-Driveability\n",
      "169\tin B-Costs\n",
      "60\tin B-Safety\n",
      "189\tin B-Appearance\n",
      "393\tin I-Driveability\n",
      "300\tin I-Reliability\n",
      "49\tin I-Safety\n",
      "236\tin B-Whole\n",
      "103\tin I-Appearance\n",
      "97\tin I-Costs\n",
      "284\tin I-Comfort\n",
      "464\tin B-Reliability\n",
      "200\tin I-Whole\n",
      "4933\tin Other\n"
     ]
    }
   ],
   "source": [
    "for label in labels:\n",
    "    num_words = len(word_counter[label])\n",
    "    print(f'{num_words}\\tin {label}')"
   ]
  },
  {
   "cell_type": "code",
   "execution_count": 36,
   "metadata": {},
   "outputs": [
    {
     "name": "stdout",
     "output_type": "stream",
     "text": [
      "[('Other', 4933),\n",
      " ('B-Driveability', 584),\n",
      " ('B-Comfort', 478),\n",
      " ('B-Reliability', 464),\n",
      " ('I-Driveability', 393),\n",
      " ('I-Reliability', 300),\n",
      " ('I-Comfort', 284),\n",
      " ('B-Whole', 236),\n",
      " ('I-Whole', 200),\n",
      " ('B-Appearance', 189),\n",
      " ('B-Costs', 169),\n",
      " ('I-Appearance', 103),\n",
      " ('I-Costs', 97),\n",
      " ('B-Safety', 60),\n",
      " ('I-Safety', 49)]\n",
      "tensor([ 26.7865,  10.5913,  29.9565,   8.6689,  10.9109,  84.3775,  21.4519,\n",
      "         49.1519,  17.8262,  52.1923,  12.8821,  16.8755, 103.3194,  25.3133,\n",
      "          1.0263])\n"
     ]
    }
   ],
   "source": [
    "from collections import Counter\n",
    "from pprint import pprint\n",
    "\n",
    "tag_counter = Counter()\n",
    "for label in labels:\n",
    "    tag_counter[label] = len(word_counter[label])\n",
    "        \n",
    "pprint(tag_counter.most_common())\n",
    "\n",
    "\n",
    "class_weights = torch.ones(15)\n",
    "class_divs    = torch.ones(15)\n",
    "\n",
    "for tag, inv_weight in tag_counter.most_common():\n",
    "    tag_idx             = tag_converter.tags_to_index([tag])\n",
    "    class_divs[tag_idx] = inv_weight\n",
    "    \n",
    "norm       = torch.norm(class_divs, p=2, dim=0).detach()\n",
    "class_divs = class_divs.div(norm.expand_as(class_divs))\n",
    "\n",
    "class_weights /= class_divs\n",
    "\n",
    "print(class_weights.detach())"
   ]
  },
  {
   "cell_type": "code",
   "execution_count": 38,
   "metadata": {},
   "outputs": [],
   "source": [
    "model         = LSTMTagger(EMBEDDING_DIM, HIDDEN_DIM, TAGSET_SIZE, word_converter)\n",
    "loss_function = nn.NLLLoss(class_weights) \n",
    "optimizer     = optim.SGD(model.parameters(), lr=0.1)"
   ]
  },
  {
   "cell_type": "code",
   "execution_count": 39,
   "metadata": {},
   "outputs": [
    {
     "data": {
      "image/png": "[encoded data removed]",
      "text/plain": [
       "<Figure size 864x576 with 1 Axes>"
      ]
     },
     "metadata": {
      "needs_background": "light"
     },
     "output_type": "display_data"
    },
    {
     "name": "stdout",
     "output_type": "stream",
     "text": [
      "negative log likelihood loss\n",
      "\tnegative log likelihood loss \t (min:    0.004, max:    3.988, cur:    0.628)\n"
     ]
    }
   ],
   "source": [
    "from livelossplot import PlotLosses\n",
    "\n",
    "liveplot = PlotLosses()\n",
    "\n",
    "for epoch in range(5): \n",
    "    for i, (recipe, tags) in enumerate(training_data):\n",
    "        \n",
    "        model.zero_grad()\n",
    "        \n",
    "        tag_predicted = model(recipe) # <- теперь передаем предложение, а не список индексов слов\n",
    "        tag_ground    = tag_converter.tags_to_index(tags) \n",
    "        \n",
    "        \n",
    "        loss = loss_function(tag_predicted, tag_ground)\n",
    "        loss.backward()\n",
    "        optimizer.step()\n",
    "        \n",
    "        if i % 100 == 0:\n",
    "            liveplot.update({'negative log likelihood loss': loss})\n",
    "            liveplot.draw()"
   ]
  },
  {
   "cell_type": "code",
   "execution_count": 40,
   "metadata": {},
   "outputs": [
    {
     "data": {
      "image/png": "[encoded data removed]",
      "text/plain": [
       "<Figure size 864x576 with 1 Axes>"
      ]
     },
     "metadata": {
      "needs_background": "light"
     },
     "output_type": "display_data"
    },
    {
     "name": "stdout",
     "output_type": "stream",
     "text": [
      "negative log likelihood loss\n",
      "\tnegative log likelihood loss \t (min:    0.000, max:    3.988, cur:    0.096)\n"
     ]
    }
   ],
   "source": [
    "for epoch in range(5): \n",
    "    for i, (recipe, tags) in enumerate(training_data):\n",
    "        \n",
    "        model.zero_grad()\n",
    "        \n",
    "        tag_predicted = model(recipe) # <- теперь передаем предложение, а не список индексов слов\n",
    "        tag_ground    = tag_converter.tags_to_index(tags) \n",
    "        \n",
    "        \n",
    "        loss = loss_function(tag_predicted, tag_ground)\n",
    "        loss.backward()\n",
    "        optimizer.step()\n",
    "        \n",
    "        if i % 100 == 0:\n",
    "            liveplot.update({'negative log likelihood loss': loss})\n",
    "            liveplot.draw()"
   ]
  },
  {
   "cell_type": "code",
   "execution_count": 41,
   "metadata": {},
   "outputs": [],
   "source": [
    "def predict_tags(model, recipe):\n",
    "    encoded_tags   = model.predict_tags(recipe)      # предсказанные тэги (номера)\n",
    "    decoded_tags   = tag_converter.indices_to_tags(encoded_tags) # номер тэга -> тэг\n",
    "    return decoded_tags"
   ]
  },
  {
   "cell_type": "code",
   "execution_count": 42,
   "metadata": {},
   "outputs": [
    {
     "name": "stdout",
     "output_type": "stream",
     "text": [
      "истинные тэги:\n"
     ]
    },
    {
     "data": {
      "text/html": [
       "<div class=\"tex2jax_ignore\" style=\"white-space: pre-wrap\"><span style=\"padding: 2px; border-radius: 4px; border: 1px solid #bbdefb; background: #e3f2fd\">ест<span style=\"vertical-align: middle; margin-left: 2px; font-size: 0.7em; color: #64b5f6;\">Driveability</span></span> <span style=\"padding: 2px; border-radius: 4px; border: 1px solid #d7ccc8; background: #efebe9\">не много где -то шесть с половиной литров .<span style=\"vertical-align: middle; margin-left: 2px; font-size: 0.7em; color: #a1887f;\">Other</span></span></div>"
      ],
      "text/plain": [
       "<IPython.core.display.HTML object>"
      ]
     },
     "metadata": {},
     "output_type": "display_data"
    },
    {
     "name": "stdout",
     "output_type": "stream",
     "text": [
      "предсказанные тэги:\n"
     ]
    },
    {
     "data": {
      "text/html": [
       "<div class=\"tex2jax_ignore\" style=\"white-space: pre-wrap\"><span style=\"padding: 2px; border-radius: 4px; border: 1px solid #bbdefb; background: #e3f2fd\">ест<span style=\"vertical-align: middle; margin-left: 2px; font-size: 0.7em; color: #64b5f6;\">Driveability</span></span> <span style=\"padding: 2px; border-radius: 4px; border: 1px solid #d7ccc8; background: #efebe9\">не<span style=\"vertical-align: middle; margin-left: 2px; font-size: 0.7em; color: #a1887f;\">Other</span></span> <span style=\"padding: 2px; border-radius: 4px; border: 1px solid #ffe0b2; background: #fff3e0\">много<span style=\"vertical-align: middle; margin-left: 2px; font-size: 0.7em; color: #ffb74d;\">Comfort</span></span> <span style=\"padding: 2px; border-radius: 4px; border: 1px solid #d7ccc8; background: #efebe9\">где -то шесть с половиной литров .<span style=\"vertical-align: middle; margin-left: 2px; font-size: 0.7em; color: #a1887f;\">Other</span></span></div>"
      ],
      "text/plain": [
       "<IPython.core.display.HTML object>"
      ]
     },
     "metadata": {},
     "output_type": "display_data"
    },
    {
     "name": "stdout",
     "output_type": "stream",
     "text": [
      "\n",
      "истинные тэги:\n"
     ]
    },
    {
     "data": {
      "text/html": [
       "<div class=\"tex2jax_ignore\" style=\"white-space: pre-wrap\"><span style=\"padding: 2px; border-radius: 4px; border: 1px solid #d7ccc8; background: #efebe9\">белая на удивление , раньше я была против такого<span style=\"vertical-align: middle; margin-left: 2px; font-size: 0.7em; color: #a1887f;\">Other</span></span> <span style=\"padding: 2px; border-radius: 4px; border: 1px solid #bbdefb; background: #e3f2fd\">цвета<span style=\"vertical-align: middle; margin-left: 2px; font-size: 0.7em; color: #64b5f6;\">Appearance</span></span> <span style=\"padding: 2px; border-radius: 4px; border: 1px solid #d7ccc8; background: #efebe9\">, меня удивила .<span style=\"vertical-align: middle; margin-left: 2px; font-size: 0.7em; color: #a1887f;\">Other</span></span></div>"
      ],
      "text/plain": [
       "<IPython.core.display.HTML object>"
      ]
     },
     "metadata": {},
     "output_type": "display_data"
    },
    {
     "name": "stdout",
     "output_type": "stream",
     "text": [
      "предсказанные тэги:\n"
     ]
    },
    {
     "data": {
      "text/html": [
       "<div class=\"tex2jax_ignore\" style=\"white-space: pre-wrap\"><span style=\"padding: 2px; border-radius: 4px; border: 1px solid #d7ccc8; background: #efebe9\">белая на удивление , раньше я была против такого<span style=\"vertical-align: middle; margin-left: 2px; font-size: 0.7em; color: #a1887f;\">Other</span></span> <span style=\"padding: 2px; border-radius: 4px; border: 1px solid #bbdefb; background: #e3f2fd\">цвета<span style=\"vertical-align: middle; margin-left: 2px; font-size: 0.7em; color: #64b5f6;\">Appearance</span></span> <span style=\"padding: 2px; border-radius: 4px; border: 1px solid #d7ccc8; background: #efebe9\">, меня удивила .<span style=\"vertical-align: middle; margin-left: 2px; font-size: 0.7em; color: #a1887f;\">Other</span></span></div>"
      ],
      "text/plain": [
       "<IPython.core.display.HTML object>"
      ]
     },
     "metadata": {},
     "output_type": "display_data"
    },
    {
     "name": "stdout",
     "output_type": "stream",
     "text": [
      "\n",
      "истинные тэги:\n"
     ]
    },
    {
     "data": {
      "text/html": [
       "<div class=\"tex2jax_ignore\" style=\"white-space: pre-wrap\"><span style=\"padding: 2px; border-radius: 4px; border: 1px solid #d7ccc8; background: #efebe9\">относительно<span style=\"vertical-align: middle; margin-left: 2px; font-size: 0.7em; color: #a1887f;\">Other</span></span> <span style=\"padding: 2px; border-radius: 4px; border: 1px solid #bbdefb; background: #e3f2fd\">топливоэкономный<span style=\"vertical-align: middle; margin-left: 2px; font-size: 0.7em; color: #64b5f6;\">Driveability</span></span> <span style=\"padding: 2px; border-radius: 4px; border: 1px solid #d7ccc8; background: #efebe9\">(10 лттров на 100км ).<span style=\"vertical-align: middle; margin-left: 2px; font-size: 0.7em; color: #a1887f;\">Other</span></span></div>"
      ],
      "text/plain": [
       "<IPython.core.display.HTML object>"
      ]
     },
     "metadata": {},
     "output_type": "display_data"
    },
    {
     "name": "stdout",
     "output_type": "stream",
     "text": [
      "предсказанные тэги:\n"
     ]
    },
    {
     "data": {
      "text/html": [
       "<div class=\"tex2jax_ignore\" style=\"white-space: pre-wrap\"><span style=\"padding: 2px; border-radius: 4px; border: 1px solid #d7ccc8; background: #efebe9\">относительно<span style=\"vertical-align: middle; margin-left: 2px; font-size: 0.7em; color: #a1887f;\">Other</span></span> <span style=\"padding: 2px; border-radius: 4px; border: 1px solid #ffcdd2; background: #ffebee\">топливоэкономный<span style=\"vertical-align: middle; margin-left: 2px; font-size: 0.7em; color: #e57373;\">Costs</span></span> <span style=\"padding: 2px; border-radius: 4px; border: 1px solid #d7ccc8; background: #efebe9\">(10 лттров на 100км ).<span style=\"vertical-align: middle; margin-left: 2px; font-size: 0.7em; color: #a1887f;\">Other</span></span></div>"
      ],
      "text/plain": [
       "<IPython.core.display.HTML object>"
      ]
     },
     "metadata": {},
     "output_type": "display_data"
    },
    {
     "name": "stdout",
     "output_type": "stream",
     "text": [
      "\n",
      "истинные тэги:\n"
     ]
    },
    {
     "data": {
      "text/html": [
       "<div class=\"tex2jax_ignore\" style=\"white-space: pre-wrap\"><span style=\"padding: 2px; border-radius: 4px; border: 1px solid #bbdefb; background: #e3f2fd\">неровности<span style=\"vertical-align: middle; margin-left: 2px; font-size: 0.7em; color: #64b5f6;\">Driveability</span></span> <span style=\"padding: 2px; border-radius: 4px; border: 1px solid #d7ccc8; background: #efebe9\">наших дорог не столь ощутимы .<span style=\"vertical-align: middle; margin-left: 2px; font-size: 0.7em; color: #a1887f;\">Other</span></span></div>"
      ],
      "text/plain": [
       "<IPython.core.display.HTML object>"
      ]
     },
     "metadata": {},
     "output_type": "display_data"
    },
    {
     "name": "stdout",
     "output_type": "stream",
     "text": [
      "предсказанные тэги:\n"
     ]
    },
    {
     "data": {
      "text/html": [
       "<div class=\"tex2jax_ignore\" style=\"white-space: pre-wrap\"><span style=\"padding: 2px; border-radius: 4px; border: 1px solid #bbdefb; background: #e3f2fd\">неровности наших дорог не<span style=\"vertical-align: middle; margin-left: 2px; font-size: 0.7em; color: #64b5f6;\">Driveability</span></span> <span style=\"padding: 2px; border-radius: 4px; border: 1px solid #ffe0b2; background: #fff3e0\">столь<span style=\"vertical-align: middle; margin-left: 2px; font-size: 0.7em; color: #ffb74d;\">Comfort</span></span> <span style=\"padding: 2px; border-radius: 4px; border: 1px solid #bbdefb; background: #e3f2fd\">ощутимы<span style=\"vertical-align: middle; margin-left: 2px; font-size: 0.7em; color: #64b5f6;\">Driveability</span></span> <span style=\"padding: 2px; border-radius: 4px; border: 1px solid #d7ccc8; background: #efebe9\">.<span style=\"vertical-align: middle; margin-left: 2px; font-size: 0.7em; color: #a1887f;\">Other</span></span></div>"
      ],
      "text/plain": [
       "<IPython.core.display.HTML object>"
      ]
     },
     "metadata": {},
     "output_type": "display_data"
    },
    {
     "name": "stdout",
     "output_type": "stream",
     "text": [
      "\n",
      "истинные тэги:\n"
     ]
    },
    {
     "data": {
      "text/html": [
       "<div class=\"tex2jax_ignore\" style=\"white-space: pre-wrap\"><span style=\"padding: 2px; border-radius: 4px; border: 1px solid #bbdefb; background: #e3f2fd\">оппозитный мотор<span style=\"vertical-align: middle; margin-left: 2px; font-size: 0.7em; color: #64b5f6;\">Driveability</span></span> <span style=\"padding: 2px; border-radius: 4px; border: 1px solid #d7ccc8; background: #efebe9\">при серьёзных нагрузках имеет небольшой<span style=\"vertical-align: middle; margin-left: 2px; font-size: 0.7em; color: #a1887f;\">Other</span></span> <span style=\"padding: 2px; border-radius: 4px; border: 1px solid #bbdefb; background: #e3f2fd\">расход масла<span style=\"vertical-align: middle; margin-left: 2px; font-size: 0.7em; color: #64b5f6;\">Driveability</span></span></div>"
      ],
      "text/plain": [
       "<IPython.core.display.HTML object>"
      ]
     },
     "metadata": {},
     "output_type": "display_data"
    },
    {
     "name": "stdout",
     "output_type": "stream",
     "text": [
      "предсказанные тэги:\n"
     ]
    },
    {
     "data": {
      "text/html": [
       "<div class=\"tex2jax_ignore\" style=\"white-space: pre-wrap\"><span style=\"padding: 2px; border-radius: 4px; border: 1px solid #d7ccc8; background: #efebe9\">оппозитный<span style=\"vertical-align: middle; margin-left: 2px; font-size: 0.7em; color: #a1887f;\">Other</span></span> <span style=\"padding: 2px; border-radius: 4px; border: 1px solid #bbdefb; background: #e3f2fd\">мотор<span style=\"vertical-align: middle; margin-left: 2px; font-size: 0.7em; color: #64b5f6;\">Driveability</span></span> <span style=\"padding: 2px; border-radius: 4px; border: 1px solid #d7ccc8; background: #efebe9\">при серьёзных<span style=\"vertical-align: middle; margin-left: 2px; font-size: 0.7em; color: #a1887f;\">Other</span></span> <span style=\"padding: 2px; border-radius: 4px; border: 1px solid #bbdefb; background: #e3f2fd\">нагрузках<span style=\"vertical-align: middle; margin-left: 2px; font-size: 0.7em; color: #64b5f6;\">Driveability</span></span> <span style=\"padding: 2px; border-radius: 4px; border: 1px solid #d7ccc8; background: #efebe9\">имеет небольшой<span style=\"vertical-align: middle; margin-left: 2px; font-size: 0.7em; color: #a1887f;\">Other</span></span> <span style=\"padding: 2px; border-radius: 4px; border: 1px solid #bbdefb; background: #e3f2fd\">расход<span style=\"vertical-align: middle; margin-left: 2px; font-size: 0.7em; color: #64b5f6;\">Driveability</span></span> <span style=\"padding: 2px; border-radius: 4px; border: 1px solid #ffcdd2; background: #ffebee\">масла<span style=\"vertical-align: middle; margin-left: 2px; font-size: 0.7em; color: #e57373;\">Costs</span></span></div>"
      ],
      "text/plain": [
       "<IPython.core.display.HTML object>"
      ]
     },
     "metadata": {},
     "output_type": "display_data"
    },
    {
     "name": "stdout",
     "output_type": "stream",
     "text": [
      "\n",
      "истинные тэги:\n"
     ]
    },
    {
     "data": {
      "text/html": [
       "<div class=\"tex2jax_ignore\" style=\"white-space: pre-wrap\"><span style=\"padding: 2px; border-radius: 4px; border: 1px solid #d7ccc8; background: #efebe9\">в принципе<span style=\"vertical-align: middle; margin-left: 2px; font-size: 0.7em; color: #a1887f;\">Other</span></span> <span style=\"padding: 2px; border-radius: 4px; border: 1px solid #ffcdd2; background: #ffebee\">машина<span style=\"vertical-align: middle; margin-left: 2px; font-size: 0.7em; color: #e57373;\">Whole</span></span> <span style=\"padding: 2px; border-radius: 4px; border: 1px solid #d7ccc8; background: #efebe9\">не плохая , но чувствуются недоработки .<span style=\"vertical-align: middle; margin-left: 2px; font-size: 0.7em; color: #a1887f;\">Other</span></span></div>"
      ],
      "text/plain": [
       "<IPython.core.display.HTML object>"
      ]
     },
     "metadata": {},
     "output_type": "display_data"
    },
    {
     "name": "stdout",
     "output_type": "stream",
     "text": [
      "предсказанные тэги:\n"
     ]
    },
    {
     "data": {
      "text/html": [
       "<div class=\"tex2jax_ignore\" style=\"white-space: pre-wrap\"><span style=\"padding: 2px; border-radius: 4px; border: 1px solid #d7ccc8; background: #efebe9\">в принципе<span style=\"vertical-align: middle; margin-left: 2px; font-size: 0.7em; color: #a1887f;\">Other</span></span> <span style=\"padding: 2px; border-radius: 4px; border: 1px solid #ffcdd2; background: #ffebee\">машина<span style=\"vertical-align: middle; margin-left: 2px; font-size: 0.7em; color: #e57373;\">Whole</span></span> <span style=\"padding: 2px; border-radius: 4px; border: 1px solid #d7ccc8; background: #efebe9\">не плохая , но чувствуются недоработки .<span style=\"vertical-align: middle; margin-left: 2px; font-size: 0.7em; color: #a1887f;\">Other</span></span></div>"
      ],
      "text/plain": [
       "<IPython.core.display.HTML object>"
      ]
     },
     "metadata": {},
     "output_type": "display_data"
    },
    {
     "name": "stdout",
     "output_type": "stream",
     "text": [
      "\n",
      "истинные тэги:\n"
     ]
    },
    {
     "data": {
      "text/html": [
       "<div class=\"tex2jax_ignore\" style=\"white-space: pre-wrap\"><span style=\"padding: 2px; border-radius: 4px; border: 1px solid #d7ccc8; background: #efebe9\">то же<span style=\"vertical-align: middle; margin-left: 2px; font-size: 0.7em; color: #a1887f;\">Other</span></span> <span style=\"padding: 2px; border-radius: 4px; border: 1px solid #bbdefb; background: #e3f2fd\">очертание кузова<span style=\"vertical-align: middle; margin-left: 2px; font-size: 0.7em; color: #64b5f6;\">Appearance</span></span></div>"
      ],
      "text/plain": [
       "<IPython.core.display.HTML object>"
      ]
     },
     "metadata": {},
     "output_type": "display_data"
    },
    {
     "name": "stdout",
     "output_type": "stream",
     "text": [
      "предсказанные тэги:\n"
     ]
    },
    {
     "data": {
      "text/html": [
       "<div class=\"tex2jax_ignore\" style=\"white-space: pre-wrap\"><span style=\"padding: 2px; border-radius: 4px; border: 1px solid #d7ccc8; background: #efebe9\">то же<span style=\"vertical-align: middle; margin-left: 2px; font-size: 0.7em; color: #a1887f;\">Other</span></span> <span style=\"padding: 2px; border-radius: 4px; border: 1px solid #ffe0b2; background: #fff3e0\">очертание<span style=\"vertical-align: middle; margin-left: 2px; font-size: 0.7em; color: #ffb74d;\">Comfort</span></span> <span style=\"padding: 2px; border-radius: 4px; border: 1px solid #bbdefb; background: #e3f2fd\">кузова<span style=\"vertical-align: middle; margin-left: 2px; font-size: 0.7em; color: #64b5f6;\">Appearance</span></span></div>"
      ],
      "text/plain": [
       "<IPython.core.display.HTML object>"
      ]
     },
     "metadata": {},
     "output_type": "display_data"
    },
    {
     "name": "stdout",
     "output_type": "stream",
     "text": [
      "\n",
      "истинные тэги:\n"
     ]
    },
    {
     "data": {
      "text/html": [
       "<div class=\"tex2jax_ignore\" style=\"white-space: pre-wrap\"><span style=\"padding: 2px; border-radius: 4px; border: 1px solid #ffe0b2; background: #fff3e0\">объем багажника<span style=\"vertical-align: middle; margin-left: 2px; font-size: 0.7em; color: #ffb74d;\">Comfort</span></span> <span style=\"padding: 2px; border-radius: 4px; border: 1px solid #d7ccc8; background: #efebe9\">не сравним со многими<span style=\"vertical-align: middle; margin-left: 2px; font-size: 0.7em; color: #a1887f;\">Other</span></span> <span style=\"padding: 2px; border-radius: 4px; border: 1px solid #ffe0b2; background: #fff3e0\">джипами<span style=\"vertical-align: middle; margin-left: 2px; font-size: 0.7em; color: #ffb74d;\">Comfort</span></span> <span style=\"padding: 2px; border-radius: 4px; border: 1px solid #d7ccc8; background: #efebe9\">! так что смело уложите все свои чемоданы , когда соберетесь на моря !<span style=\"vertical-align: middle; margin-left: 2px; font-size: 0.7em; color: #a1887f;\">Other</span></span> <span style=\"padding: 2px; border-radius: 4px; border: 1px solid #bbdefb; background: #e3f2fd\">машинка на дороге держится<span style=\"vertical-align: middle; margin-left: 2px; font-size: 0.7em; color: #64b5f6;\">Driveability</span></span> <span style=\"padding: 2px; border-radius: 4px; border: 1px solid #d7ccc8; background: #efebe9\">хорошо ,<span style=\"vertical-align: middle; margin-left: 2px; font-size: 0.7em; color: #a1887f;\">Other</span></span> <span style=\"padding: 2px; border-radius: 4px; border: 1px solid #bbdefb; background: #e3f2fd\">не виляет на скорости<span style=\"vertical-align: middle; margin-left: 2px; font-size: 0.7em; color: #64b5f6;\">Driveability</span></span></div>"
      ],
      "text/plain": [
       "<IPython.core.display.HTML object>"
      ]
     },
     "metadata": {},
     "output_type": "display_data"
    },
    {
     "name": "stdout",
     "output_type": "stream",
     "text": [
      "предсказанные тэги:\n"
     ]
    },
    {
     "data": {
      "text/html": [
       "<div class=\"tex2jax_ignore\" style=\"white-space: pre-wrap\"><span style=\"padding: 2px; border-radius: 4px; border: 1px solid #bbdefb; background: #e3f2fd\">объем<span style=\"vertical-align: middle; margin-left: 2px; font-size: 0.7em; color: #64b5f6;\">Driveability</span></span> <span style=\"padding: 2px; border-radius: 4px; border: 1px solid #ffe0b2; background: #fff3e0\">багажника<span style=\"vertical-align: middle; margin-left: 2px; font-size: 0.7em; color: #ffb74d;\">Comfort</span></span> <span style=\"padding: 2px; border-radius: 4px; border: 1px solid #d7ccc8; background: #efebe9\">не сравним со многими<span style=\"vertical-align: middle; margin-left: 2px; font-size: 0.7em; color: #a1887f;\">Other</span></span> <span style=\"padding: 2px; border-radius: 4px; border: 1px solid #ffcdd2; background: #ffebee\">джипами<span style=\"vertical-align: middle; margin-left: 2px; font-size: 0.7em; color: #e57373;\">Whole</span></span> <span style=\"padding: 2px; border-radius: 4px; border: 1px solid #d7ccc8; background: #efebe9\">! так что смело уложите все свои<span style=\"vertical-align: middle; margin-left: 2px; font-size: 0.7em; color: #a1887f;\">Other</span></span> <span style=\"padding: 2px; border-radius: 4px; border: 1px solid #ffe0b2; background: #fff3e0\">чемоданы<span style=\"vertical-align: middle; margin-left: 2px; font-size: 0.7em; color: #ffb74d;\">Comfort</span></span> <span style=\"padding: 2px; border-radius: 4px; border: 1px solid #d7ccc8; background: #efebe9\">, когда соберетесь на моря !<span style=\"vertical-align: middle; margin-left: 2px; font-size: 0.7em; color: #a1887f;\">Other</span></span> <span style=\"padding: 2px; border-radius: 4px; border: 1px solid #bbdefb; background: #e3f2fd\">машинка<span style=\"vertical-align: middle; margin-left: 2px; font-size: 0.7em; color: #64b5f6;\">Driveability</span></span> <span style=\"padding: 2px; border-radius: 4px; border: 1px solid #d7ccc8; background: #efebe9\">на дороге<span style=\"vertical-align: middle; margin-left: 2px; font-size: 0.7em; color: #a1887f;\">Other</span></span> <span style=\"padding: 2px; border-radius: 4px; border: 1px solid #ffcdd2; background: #ffebee\">держится<span style=\"vertical-align: middle; margin-left: 2px; font-size: 0.7em; color: #e57373;\">Costs</span></span> <span style=\"padding: 2px; border-radius: 4px; border: 1px solid #d7ccc8; background: #efebe9\">хорошо , не<span style=\"vertical-align: middle; margin-left: 2px; font-size: 0.7em; color: #a1887f;\">Other</span></span> <span style=\"padding: 2px; border-radius: 4px; border: 1px solid #bbdefb; background: #e3f2fd\">виляет на скорости<span style=\"vertical-align: middle; margin-left: 2px; font-size: 0.7em; color: #64b5f6;\">Driveability</span></span></div>"
      ],
      "text/plain": [
       "<IPython.core.display.HTML object>"
      ]
     },
     "metadata": {},
     "output_type": "display_data"
    },
    {
     "name": "stdout",
     "output_type": "stream",
     "text": [
      "\n",
      "истинные тэги:\n"
     ]
    },
    {
     "data": {
      "text/html": [
       "<div class=\"tex2jax_ignore\" style=\"white-space: pre-wrap\"><span style=\"padding: 2px; border-radius: 4px; border: 1px solid #d7ccc8; background: #efebe9\">буквально в декабре сделали себе с мужем подарок - купили<span style=\"vertical-align: middle; margin-left: 2px; font-size: 0.7em; color: #a1887f;\">Other</span></span> <span style=\"padding: 2px; border-radius: 4px; border: 1px solid #ffcdd2; background: #ffebee\">ладу калину 2<span style=\"vertical-align: middle; margin-left: 2px; font-size: 0.7em; color: #e57373;\">Whole</span></span> <span style=\"padding: 2px; border-radius: 4px; border: 1px solid #d7ccc8; background: #efebe9\">!!!<span style=\"vertical-align: middle; margin-left: 2px; font-size: 0.7em; color: #a1887f;\">Other</span></span> <span style=\"padding: 2px; border-radius: 4px; border: 1px solid #bbdefb; background: #e3f2fd\">машина выглядит<span style=\"vertical-align: middle; margin-left: 2px; font-size: 0.7em; color: #64b5f6;\">Appearance</span></span> <span style=\"padding: 2px; border-radius: 4px; border: 1px solid #d7ccc8; background: #efebe9\">на все 100 ! мне в ней понравилось и<span style=\"vertical-align: middle; margin-left: 2px; font-size: 0.7em; color: #a1887f;\">Other</span></span> <span style=\"padding: 2px; border-radius: 4px; border: 1px solid #bbdefb; background: #e3f2fd\">оформление<span style=\"vertical-align: middle; margin-left: 2px; font-size: 0.7em; color: #64b5f6;\">Appearance</span></span> <span style=\"padding: 2px; border-radius: 4px; border: 1px solid #d7ccc8; background: #efebe9\">(все сделано на 5 +), и<span style=\"vertical-align: middle; margin-left: 2px; font-size: 0.7em; color: #a1887f;\">Other</span></span> <span style=\"padding: 2px; border-radius: 4px; border: 1px solid #bbdefb; background: #e3f2fd\">ход<span style=\"vertical-align: middle; margin-left: 2px; font-size: 0.7em; color: #64b5f6;\">Driveability</span></span> <span style=\"padding: 2px; border-radius: 4px; border: 1px solid #d7ccc8; background: #efebe9\">(спокойный,<span style=\"vertical-align: middle; margin-left: 2px; font-size: 0.7em; color: #a1887f;\">Other</span></span> <span style=\"padding: 2px; border-radius: 4px; border: 1px solid #bbdefb; background: #e3f2fd\">плавный<span style=\"vertical-align: middle; margin-left: 2px; font-size: 0.7em; color: #64b5f6;\">Driveability</span></span> <span style=\"padding: 2px; border-radius: 4px; border: 1px solid #d7ccc8; background: #efebe9\">).<span style=\"vertical-align: middle; margin-left: 2px; font-size: 0.7em; color: #a1887f;\">Other</span></span></div>"
      ],
      "text/plain": [
       "<IPython.core.display.HTML object>"
      ]
     },
     "metadata": {},
     "output_type": "display_data"
    },
    {
     "name": "stdout",
     "output_type": "stream",
     "text": [
      "предсказанные тэги:\n"
     ]
    },
    {
     "data": {
      "text/html": [
       "<div class=\"tex2jax_ignore\" style=\"white-space: pre-wrap\"><span style=\"padding: 2px; border-radius: 4px; border: 1px solid #d7ccc8; background: #efebe9\">буквально в декабре сделали себе с мужем подарок -<span style=\"vertical-align: middle; margin-left: 2px; font-size: 0.7em; color: #a1887f;\">Other</span></span> <span style=\"padding: 2px; border-radius: 4px; border: 1px solid #ffcdd2; background: #ffebee\">купили ладу калину<span style=\"vertical-align: middle; margin-left: 2px; font-size: 0.7em; color: #e57373;\">Whole</span></span> <span style=\"padding: 2px; border-radius: 4px; border: 1px solid #d7ccc8; background: #efebe9\">2 !!!<span style=\"vertical-align: middle; margin-left: 2px; font-size: 0.7em; color: #a1887f;\">Other</span></span> <span style=\"padding: 2px; border-radius: 4px; border: 1px solid #ffcdd2; background: #ffebee\">машина<span style=\"vertical-align: middle; margin-left: 2px; font-size: 0.7em; color: #e57373;\">Whole</span></span> <span style=\"padding: 2px; border-radius: 4px; border: 1px solid #bbdefb; background: #e3f2fd\">выглядит<span style=\"vertical-align: middle; margin-left: 2px; font-size: 0.7em; color: #64b5f6;\">Appearance</span></span> <span style=\"padding: 2px; border-radius: 4px; border: 1px solid #d7ccc8; background: #efebe9\">на все 100 ! мне в ней понравилось и оформление (все сделано на 5 +), и<span style=\"vertical-align: middle; margin-left: 2px; font-size: 0.7em; color: #a1887f;\">Other</span></span> <span style=\"padding: 2px; border-radius: 4px; border: 1px solid #bbdefb; background: #e3f2fd\">ход<span style=\"vertical-align: middle; margin-left: 2px; font-size: 0.7em; color: #64b5f6;\">Driveability</span></span> <span style=\"padding: 2px; border-radius: 4px; border: 1px solid #d7ccc8; background: #efebe9\">(спокойный,<span style=\"vertical-align: middle; margin-left: 2px; font-size: 0.7em; color: #a1887f;\">Other</span></span> <span style=\"padding: 2px; border-radius: 4px; border: 1px solid #bbdefb; background: #e3f2fd\">плавный<span style=\"vertical-align: middle; margin-left: 2px; font-size: 0.7em; color: #64b5f6;\">Driveability</span></span> <span style=\"padding: 2px; border-radius: 4px; border: 1px solid #d7ccc8; background: #efebe9\">).<span style=\"vertical-align: middle; margin-left: 2px; font-size: 0.7em; color: #a1887f;\">Other</span></span></div>"
      ],
      "text/plain": [
       "<IPython.core.display.HTML object>"
      ]
     },
     "metadata": {},
     "output_type": "display_data"
    },
    {
     "name": "stdout",
     "output_type": "stream",
     "text": [
      "\n",
      "истинные тэги:\n"
     ]
    },
    {
     "data": {
      "text/html": [
       "<div class=\"tex2jax_ignore\" style=\"white-space: pre-wrap\"><span style=\"padding: 2px; border-radius: 4px; border: 1px solid #ffcdd2; background: #ffebee\">машина<span style=\"vertical-align: middle; margin-left: 2px; font-size: 0.7em; color: #e57373;\">Whole</span></span> <span style=\"padding: 2px; border-radius: 4px; border: 1px solid #d7ccc8; background: #efebe9\">друга , а в основном на пассажирском сидении .<span style=\"vertical-align: middle; margin-left: 2px; font-size: 0.7em; color: #a1887f;\">Other</span></span></div>"
      ],
      "text/plain": [
       "<IPython.core.display.HTML object>"
      ]
     },
     "metadata": {},
     "output_type": "display_data"
    },
    {
     "name": "stdout",
     "output_type": "stream",
     "text": [
      "предсказанные тэги:\n"
     ]
    },
    {
     "data": {
      "text/html": [
       "<div class=\"tex2jax_ignore\" style=\"white-space: pre-wrap\"><span style=\"padding: 2px; border-radius: 4px; border: 1px solid #ffcdd2; background: #ffebee\">машина<span style=\"vertical-align: middle; margin-left: 2px; font-size: 0.7em; color: #e57373;\">Whole</span></span> <span style=\"padding: 2px; border-radius: 4px; border: 1px solid #d7ccc8; background: #efebe9\">друга , а в основном на<span style=\"vertical-align: middle; margin-left: 2px; font-size: 0.7em; color: #a1887f;\">Other</span></span> <span style=\"padding: 2px; border-radius: 4px; border: 1px solid #ffe0b2; background: #fff3e0\">пассажирском сидении<span style=\"vertical-align: middle; margin-left: 2px; font-size: 0.7em; color: #ffb74d;\">Comfort</span></span> <span style=\"padding: 2px; border-radius: 4px; border: 1px solid #d7ccc8; background: #efebe9\">.<span style=\"vertical-align: middle; margin-left: 2px; font-size: 0.7em; color: #a1887f;\">Other</span></span></div>"
      ],
      "text/plain": [
       "<IPython.core.display.HTML object>"
      ]
     },
     "metadata": {},
     "output_type": "display_data"
    },
    {
     "name": "stdout",
     "output_type": "stream",
     "text": [
      "\n"
     ]
    }
   ],
   "source": [
    "for i in range(0,10):\n",
    "\n",
    "    recipe, tags = test_data[np.random.randint(0,1000)]\n",
    "    \n",
    "    tags_pred    = predict_tags(model, recipe)\n",
    "\n",
    "    print('истинные тэги:')\n",
    "    text, spans = generate_markup(recipe, tags) \n",
    "    show_markup(text, spans)\n",
    "\n",
    "    print('предсказанные тэги:')\n",
    "    text, spans = generate_markup(recipe, tags_pred) \n",
    "\n",
    "    show_markup(text, spans)\n",
    "    print()"
   ]
  },
  {
   "cell_type": "code",
   "execution_count": 44,
   "metadata": {},
   "outputs": [],
   "source": [
    "from simcube.sentiment_utils import plot_confusion_matrix"
   ]
  },
  {
   "cell_type": "code",
   "execution_count": 45,
   "metadata": {},
   "outputs": [],
   "source": [
    "ordered_tags = [\n",
    " 'Other',\n",
    " 'B-Whole',\n",
    " 'I-Whole',\n",
    " 'B-Driveability',\n",
    " 'I-Driveability',\n",
    " 'B-Appearance',\n",
    " 'I-Appearance',\n",
    " 'B-Reliability',\n",
    " 'I-Reliability',\n",
    " 'B-Comfort',\n",
    " 'I-Comfort',\n",
    " 'B-Costs',\n",
    " 'I-Costs',\n",
    " 'B-Safety',\n",
    " 'I-Safety']"
   ]
  },
  {
   "cell_type": "code",
   "execution_count": 47,
   "metadata": {},
   "outputs": [],
   "source": [
    "y_pred = []\n",
    "y_true = []\n",
    "\n",
    "for sentence, tags in test_data:\n",
    "    y_pred += predict_tags(model, sentence)\n",
    "    y_true += tags"
   ]
  },
  {
   "cell_type": "code",
   "execution_count": 48,
   "metadata": {},
   "outputs": [
    {
     "data": {
      "image/png": "[encoded data removed]",
      "text/plain": [
       "<Figure size 720x720 with 2 Axes>"
      ]
     },
     "metadata": {
      "needs_background": "light"
     },
     "output_type": "display_data"
    }
   ],
   "source": [
    "plot_confusion_matrix(y_true, y_pred, classes=ordered_tags, normalize=True, \n",
    "                      title='Нормализованная матрица ошибок')\n",
    "plt.show()"
   ]
  },
  {
   "cell_type": "code",
   "execution_count": null,
   "metadata": {},
   "outputs": [],
   "source": []
  },
  {
   "cell_type": "code",
   "execution_count": null,
   "metadata": {},
   "outputs": [],
   "source": []
  },
  {
   "cell_type": "code",
   "execution_count": null,
   "metadata": {},
   "outputs": [],
   "source": []
  },
  {
   "cell_type": "code",
   "execution_count": null,
   "metadata": {},
   "outputs": [],
   "source": []
  },
  {
   "cell_type": "code",
   "execution_count": null,
   "metadata": {},
   "outputs": [],
   "source": []
  },
  {
   "cell_type": "code",
   "execution_count": null,
   "metadata": {},
   "outputs": [],
   "source": []
  },
  {
   "cell_type": "code",
   "execution_count": null,
   "metadata": {},
   "outputs": [],
   "source": []
  }
 ],
 "metadata": {
  "kernelspec": {
   "display_name": "Python 3",
   "language": "python",
   "name": "python3"
  },
  "language_info": {
   "codemirror_mode": {
    "name": "ipython",
    "version": 3
   },
   "file_extension": ".py",
   "mimetype": "text/x-python",
   "name": "python",
   "nbconvert_exporter": "python",
   "pygments_lexer": "ipython3",
   "version": "3.8.1"
  }
 },
 "nbformat": 4,
 "nbformat_minor": 4
}
