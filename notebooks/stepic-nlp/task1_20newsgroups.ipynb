{
 "cells": [
  {
   "cell_type": "markdown",
   "metadata": {},
   "source": [
    "## Тематическая классификация длинных текстов - TFIDF и LogReg"
   ]
  },
  {
   "cell_type": "code",
   "execution_count": 1,
   "metadata": {},
   "outputs": [],
   "source": [
    "import warnings\n",
    "warnings.filterwarnings('ignore')"
   ]
  },
  {
   "cell_type": "code",
   "execution_count": 2,
   "metadata": {},
   "outputs": [],
   "source": [
    "from sklearn.datasets import fetch_20newsgroups\n",
    "from sklearn.metrics import accuracy_score\n",
    "\n",
    "import numpy as np # linear algebra\n",
    "import pandas as pd # data processing, CSV file I/O (e.g. pd.read_csv)\n",
    "import nltk.corpus\n",
    "import os\n",
    "\n",
    "import matplotlib.pyplot as plt\n",
    "%matplotlib inline\n",
    "\n",
    "import collections\n",
    "\n",
    "import torch\n",
    "from torch import nn\n",
    "from torch.nn import functional as F\n",
    "\n",
    "import simcube\n",
    "from simcube.data import \\\n",
    "    tokenize_text_simple_regex, \\\n",
    "    tokenize_corpus, \\\n",
    "    build_vocabulary, \\\n",
    "    vectorize_texts, \\\n",
    "    SparseFeaturesDataset\n",
    "from simcube.pipeline import \\\n",
    "    train_eval_loop, \\\n",
    "    predict_with_model, \\\n",
    "    init_random_seed\n",
    "import logging\n",
    "from pprint import pprint"
   ]
  },
  {
   "cell_type": "code",
   "execution_count": 3,
   "metadata": {},
   "outputs": [],
   "source": [
    "init_random_seed()\n",
    "logging.basicConfig(format='%(asctime)s : %(levelname)s : %(message)s', level=logging.INFO)\n",
    "plt.rcParams[\"figure.figsize\"] = (15,10)"
   ]
  },
  {
   "cell_type": "markdown",
   "metadata": {},
   "source": [
    "## Предобработка текстов и подготовка признаков"
   ]
  },
  {
   "cell_type": "code",
   "execution_count": 4,
   "metadata": {},
   "outputs": [],
   "source": [
    "from sklearn.datasets import load_files"
   ]
  },
  {
   "cell_type": "code",
   "execution_count": 5,
   "metadata": {},
   "outputs": [],
   "source": [
    "target_dir = \"../../data/raw/20news_home/\"\n",
    "train_source = load_files(os.path.join(target_dir, \"20news-bydate-train\"), encoding='latin1')\n",
    "test_source = load_files(os.path.join(target_dir, \"20news-bydate-test\"), encoding='latin1')"
   ]
  },
  {
   "cell_type": "code",
   "execution_count": 6,
   "metadata": {},
   "outputs": [
    {
     "name": "stdout",
     "output_type": "stream",
     "text": [
      "Количество обучающих текстов 11314\n",
      "Количество тестовых текстов 7532\n",
      "\n",
      "From: cubbie@garnet.berkeley.edu (                               )\n",
      "Subject: Re: Cubs behind Marlins? How?\n",
      "Article-I.D.: agate.1pt592$f9a\n",
      "Organization: University of California, Berkeley\n",
      "Lines: 12\n",
      "NNTP-Posting-Host: garnet.berkeley.edu\n",
      "\n",
      "\n",
      "gajarsky@pilot.njin.net writes:\n",
      "\n",
      "morgan and guzman will have era's 1 run higher than last year, and\n",
      " the cubs will be idiots and not pitch harkey as much as hibbard.\n",
      " castillo won't be good (i think he's a stud pitcher)\n",
      "\n",
      "       This season so far, Morgan and Guzman helped to lead the Cubs\n",
      "       at top in ERA, even better than THE rotation at Atlanta.\n",
      "       Cubs ERA at 0.056 while Braves at 0.059. We know it is early\n",
      "       in the season, we Cubs fans have learned how to enjoy the\n",
      "       short triumph while it is still there.\n",
      "\n",
      "Метка 9\n"
     ]
    }
   ],
   "source": [
    "print('Количество обучающих текстов', len(train_source['data']))\n",
    "print('Количество тестовых текстов', len(test_source['data']))\n",
    "print()\n",
    "print(train_source['data'][0].strip())\n",
    "\n",
    "print()\n",
    "print('Метка', train_source['target'][0])"
   ]
  },
  {
   "cell_type": "markdown",
   "metadata": {},
   "source": [
    "## Подготовка признаков"
   ]
  },
  {
   "cell_type": "code",
   "execution_count": 7,
   "metadata": {},
   "outputs": [
    {
     "name": "stdout",
     "output_type": "stream",
     "text": [
      "from cubbie garnet berkeley subject cubs behind marlins article agate 1pt592 organization university california berkeley lines nntp posting host garnet berkeley gajarsky pilot njin writes morgan guzman will have higher than last year cubs will idiots pitch harkey much hibbard castillo good think stud pitcher this season morgan guzman helped lead cubs even better than rotation atlanta cubs while braves know early season cubs fans have learned enjoy short triumph while still there\n"
     ]
    }
   ],
   "source": [
    "train_tokenized = tokenize_corpus(train_source['data'])\n",
    "test_tokenized = tokenize_corpus(test_source['data'])\n",
    "\n",
    "print(' '.join(train_tokenized[0]))"
   ]
  },
  {
   "cell_type": "code",
   "execution_count": 8,
   "metadata": {},
   "outputs": [
    {
     "data": {
      "text/plain": [
       "['from',\n",
       " 'cubbie',\n",
       " 'garnet',\n",
       " 'berkeley',\n",
       " 'subject',\n",
       " 'cubs',\n",
       " 'behind',\n",
       " 'marlins',\n",
       " 'article',\n",
       " 'agate',\n",
       " '1pt592',\n",
       " 'organization',\n",
       " 'university',\n",
       " 'california',\n",
       " 'berkeley',\n",
       " 'lines',\n",
       " 'nntp',\n",
       " 'posting',\n",
       " 'host',\n",
       " 'garnet',\n",
       " 'berkeley',\n",
       " 'gajarsky',\n",
       " 'pilot',\n",
       " 'njin',\n",
       " 'writes',\n",
       " 'morgan',\n",
       " 'guzman',\n",
       " 'will',\n",
       " 'have',\n",
       " 'higher',\n",
       " 'than',\n",
       " 'last',\n",
       " 'year',\n",
       " 'cubs',\n",
       " 'will',\n",
       " 'idiots',\n",
       " 'pitch',\n",
       " 'harkey',\n",
       " 'much',\n",
       " 'hibbard',\n",
       " 'castillo',\n",
       " 'good',\n",
       " 'think',\n",
       " 'stud',\n",
       " 'pitcher',\n",
       " 'this',\n",
       " 'season',\n",
       " 'morgan',\n",
       " 'guzman',\n",
       " 'helped',\n",
       " 'lead',\n",
       " 'cubs',\n",
       " 'even',\n",
       " 'better',\n",
       " 'than',\n",
       " 'rotation',\n",
       " 'atlanta',\n",
       " 'cubs',\n",
       " 'while',\n",
       " 'braves',\n",
       " 'know',\n",
       " 'early',\n",
       " 'season',\n",
       " 'cubs',\n",
       " 'fans',\n",
       " 'have',\n",
       " 'learned',\n",
       " 'enjoy',\n",
       " 'short',\n",
       " 'triumph',\n",
       " 'while',\n",
       " 'still',\n",
       " 'there']"
      ]
     },
     "execution_count": 8,
     "metadata": {},
     "output_type": "execute_result"
    }
   ],
   "source": [
    "train_tokenized[0]"
   ]
  },
  {
   "cell_type": "code",
   "execution_count": 9,
   "metadata": {},
   "outputs": [],
   "source": [
    "MAX_DF = 0.8\n",
    "MIN_COUNT = 5\n",
    "vocabulary, word_doc_freq = build_vocabulary(train_tokenized, max_doc_freq=MAX_DF, min_count=MIN_COUNT)\n",
    "UNIQUE_WORDS_N = len(vocabulary)"
   ]
  },
  {
   "cell_type": "code",
   "execution_count": 10,
   "metadata": {},
   "outputs": [
    {
     "name": "stdout",
     "output_type": "stream",
     "text": [
      "Количество уникальных токенов 21628\n",
      "[('that', 0),\n",
      " ('this', 1),\n",
      " ('have', 2),\n",
      " ('with', 3),\n",
      " ('writes', 4),\n",
      " ('article', 5),\n",
      " ('posting', 6),\n",
      " ('host', 7),\n",
      " ('nntp', 8),\n",
      " ('there', 9)]\n",
      "[('ugle', 21618),\n",
      " ('envoy', 21619),\n",
      " ('revisit', 21620),\n",
      " ('vowed', 21621),\n",
      " ('gruesome', 21622),\n",
      " ('porter', 21623),\n",
      " ('tuberculosis', 21624),\n",
      " ('davy', 21625),\n",
      " ('displaced', 21626),\n",
      " ('clemente', 21627)]\n"
     ]
    }
   ],
   "source": [
    "print('Количество уникальных токенов', UNIQUE_WORDS_N)\n",
    "pprint(list(vocabulary.items())[:10])\n",
    "pprint(list(vocabulary.items())[-10:])"
   ]
  },
  {
   "cell_type": "code",
   "execution_count": 13,
   "metadata": {},
   "outputs": [
    {
     "data": {
      "text/plain": [
       "array([0.7079724 , 0.6014672 , 0.5914796 , 0.5626657 , 0.5084851 ,\n",
       "       0.46597135, 0.44953156, 0.4277886 , 0.42222026, 0.3997702 ],\n",
       "      dtype=float32)"
      ]
     },
     "execution_count": 13,
     "metadata": {},
     "output_type": "execute_result"
    }
   ],
   "source": [
    "word_doc_freq[:10]"
   ]
  },
  {
   "cell_type": "code",
   "execution_count": 14,
   "metadata": {},
   "outputs": [
    {
     "data": {
      "image/png": "[encoded data removed]",
      "text/plain": [
       "<Figure size 1080x720 with 1 Axes>"
      ]
     },
     "metadata": {
      "needs_background": "light"
     },
     "output_type": "display_data"
    }
   ],
   "source": [
    "plt.hist(word_doc_freq, bins=20)\n",
    "plt.title('Распределение относительных частот слов')\n",
    "plt.yscale('log');"
   ]
  },
  {
   "cell_type": "code",
   "execution_count": 15,
   "metadata": {},
   "outputs": [
    {
     "name": "stdout",
     "output_type": "stream",
     "text": [
      "Размерность матрицы признаков обучающей выборки (11314, 21628)\n",
      "Размерность матрицы признаков тестовой выборки (11314, 21628)\n",
      "\n",
      "Количество ненулевых элементов в обучающей выборке 1126792\n",
      "Процент заполненности матрицы признаков 0.46%\n",
      "\n",
      "Количество ненулевых элементов в обучающей выборке 721529\n",
      "Процент заполненности матрицы признаков 0.44%\n"
     ]
    }
   ],
   "source": [
    "VECTORIZATION_MODE = 'tfidf'\n",
    "train_vectors = vectorize_texts(train_tokenized, vocabulary, word_doc_freq, mode=VECTORIZATION_MODE)\n",
    "test_vectors = vectorize_texts(test_tokenized, vocabulary, word_doc_freq, mode=VECTORIZATION_MODE)\n",
    "\n",
    "print('Размерность матрицы признаков обучающей выборки', train_vectors.shape)\n",
    "print('Размерность матрицы признаков тестовой выборки', train_vectors.shape)\n",
    "print()\n",
    "print('Количество ненулевых элементов в обучающей выборке', train_vectors.nnz)\n",
    "print('Процент заполненности матрицы признаков {:.2f}%'.format(train_vectors.nnz * 100 / (train_vectors.shape[0] * train_vectors.shape[1])))\n",
    "print()\n",
    "print('Количество ненулевых элементов в обучающей выборке', test_vectors.nnz)\n",
    "print('Процент заполненности матрицы признаков {:.2f}%'.format(test_vectors.nnz * 100 / (test_vectors.shape[0] * test_vectors.shape[1])))"
   ]
  },
  {
   "cell_type": "code",
   "execution_count": 16,
   "metadata": {},
   "outputs": [
    {
     "data": {
      "image/png": "[encoded data removed]",
      "text/plain": [
       "<Figure size 1080x720 with 1 Axes>"
      ]
     },
     "metadata": {
      "needs_background": "light"
     },
     "output_type": "display_data"
    }
   ],
   "source": [
    "plt.hist(train_vectors.data, bins=20)\n",
    "plt.title('Распределение весов признаков')\n",
    "plt.yscale('log');"
   ]
  },
  {
   "cell_type": "markdown",
   "metadata": {},
   "source": [
    "## Распределение классов"
   ]
  },
  {
   "cell_type": "code",
   "execution_count": 17,
   "metadata": {},
   "outputs": [
    {
     "name": "stdout",
     "output_type": "stream",
     "text": [
      "Количество уникальных меток 20\n"
     ]
    }
   ],
   "source": [
    "UNIQUE_LABELS_N = len(set(train_source['target']))\n",
    "print('Количество уникальных меток', UNIQUE_LABELS_N)"
   ]
  },
  {
   "cell_type": "code",
   "execution_count": 18,
   "metadata": {},
   "outputs": [
    {
     "data": {
      "image/png": "[encoded data removed]",
      "text/plain": [
       "<Figure size 1080x720 with 1 Axes>"
      ]
     },
     "metadata": {
      "needs_background": "light"
     },
     "output_type": "display_data"
    }
   ],
   "source": [
    "plt.hist(train_source['target'], bins=np.arange(0, 21))\n",
    "plt.title('Распределение меток в обучающей выборке');"
   ]
  },
  {
   "cell_type": "code",
   "execution_count": 19,
   "metadata": {},
   "outputs": [
    {
     "data": {
      "image/png": "[encoded data removed]",
      "text/plain": [
       "<Figure size 1080x720 with 1 Axes>"
      ]
     },
     "metadata": {
      "needs_background": "light"
     },
     "output_type": "display_data"
    }
   ],
   "source": [
    "plt.hist(test_source['target'], bins=np.arange(0, 21))\n",
    "plt.title('Распределение меток в тестовой выборке');"
   ]
  },
  {
   "cell_type": "markdown",
   "metadata": {},
   "source": [
    "## PyTorch Dataset"
   ]
  },
  {
   "cell_type": "code",
   "execution_count": 20,
   "metadata": {},
   "outputs": [],
   "source": [
    "train_dataset = SparseFeaturesDataset(train_vectors, train_source['target'])\n",
    "test_dataset = SparseFeaturesDataset(test_vectors, test_source['target'])"
   ]
  },
  {
   "cell_type": "markdown",
   "metadata": {},
   "source": [
    "## Обучение модели на PyTorch"
   ]
  },
  {
   "cell_type": "code",
   "execution_count": 27,
   "metadata": {},
   "outputs": [
    {
     "data": {
      "text/plain": [
       "(21628, 20)"
      ]
     },
     "execution_count": 27,
     "metadata": {},
     "output_type": "execute_result"
    }
   ],
   "source": [
    "UNIQUE_WORDS_N, UNIQUE_LABELS_N"
   ]
  },
  {
   "cell_type": "code",
   "execution_count": 28,
   "metadata": {},
   "outputs": [],
   "source": [
    "model = nn.Linear(UNIQUE_WORDS_N, UNIQUE_LABELS_N)\n",
    "\n",
    "# Эпоха 138\n",
    "# Эпоха: 45 итераций, 1.97 сек\n",
    "# Среднее значение функции потерь на обучении 0.00280743472588559\n",
    "# Среднее значение функции потерь на валидации 0.9742347379525502\n",
    "# Модель не улучшилась за последние 10 эпох, прекращаем обучение\n",
    "# CPU times: user 7min 26s, sys: 1.67 s, total: 7min 27s\n",
    "# Wall time: 7min 27s\n",
    "\n",
    "# Среднее значение функции потерь на обучении 0.003090830286964774\n",
    "# Доля верных ответов 0.9994696835778681                             \n",
    "# Среднее значение функции потерь на валидации 0.9725616574287415\n",
    "# Доля верных ответов 0.7586298459904408"
   ]
  },
  {
   "cell_type": "code",
   "execution_count": 29,
   "metadata": {},
   "outputs": [],
   "source": [
    "class ManualLinearRegression(nn.Module):\n",
    "    def __init__(self):\n",
    "        super().__init__()\n",
    "        MIDL_LAYER = 1000\n",
    "        self.input = nn.Linear(UNIQUE_WORDS_N, MIDL_LAYER)\n",
    "        self.output = nn.Linear(MIDL_LAYER, UNIQUE_LABELS_N)\n",
    "        \n",
    "    def forward(self, x):\n",
    "        # Computes the outputs / predictions\n",
    "        return self.output(self.input(x))\n",
    "    \n",
    "model = ManualLinearRegression()\n",
    "\n",
    "# Эпоха 12\n",
    "# Эпоха: 45 итераций, 2.61 сек\n",
    "# Среднее значение функции потерь на обучении 0.006256493656352783\n",
    "# Среднее значение функции потерь на валидации 1.8941650629043578\n",
    "# Модель не улучшилась за последние 10 эпох, прекращаем обучение\n",
    "# CPU times: user 52.9 s, sys: 725 ms, total: 53.6 s\n",
    "# Wall time: 53.5 s\n",
    "    \n",
    "# Среднее значение функции потерь на обучении 0.10674776136875153\n",
    "# Доля верных ответов 0.9854162983913736                           \n",
    "# Среднее значение функции потерь на валидации 1.7581244707107544\n",
    "# Доля верных ответов 0.6980881571959638   "
   ]
  },
  {
   "cell_type": "code",
   "execution_count": 34,
   "metadata": {},
   "outputs": [],
   "source": [
    "class ManualLinearRegression(nn.Module):\n",
    "    def __init__(self):\n",
    "        super().__init__()\n",
    "        MIDL_LAYER = 1000\n",
    "        self.input = nn.Linear(UNIQUE_WORDS_N, MIDL_LAYER)\n",
    "        self.drop_layer = nn.Dropout(p=0.3)\n",
    "        self.output = nn.Linear(MIDL_LAYER, UNIQUE_LABELS_N)\n",
    "        \n",
    "    def forward(self, x):\n",
    "        x = self.drop_layer(self.input(x))\n",
    "        return self.output(x)\n",
    "    \n",
    "model = ManualLinearRegression()\n",
    "\n",
    "# Эпоха 11\n",
    "# Эпоха: 45 итераций, 2.64 сек\n",
    "# Среднее значение функции потерь на обучении 0.1649884796804852\n",
    "# Среднее значение функции потерь на валидации 14.34724661509196\n",
    "# Модель не улучшилась за последние 10 эпох, прекращаем обучение\n",
    "# CPU times: user 48.3 s, sys: 656 ms, total: 49 s\n",
    "# Wall time: 48.9 s\n",
    "    \n",
    "# Среднее значение функции потерь на обучении 0.16051970422267914\n",
    "# Доля верных ответов 0.9930175004419304                             \n",
    "# Среднее значение функции потерь на валидации 4.858534336090088\n",
    "# Доля верных ответов 0.6858736059479554   "
   ]
  },
  {
   "cell_type": "code",
   "execution_count": 36,
   "metadata": {},
   "outputs": [
    {
     "name": "stdout",
     "output_type": "stream",
     "text": [
      "Эпоха 0\n",
      "Эпоха: 45 итераций, 2.69 сек\n",
      "Среднее значение функции потерь на обучении 0.15894512861139246\n",
      "Среднее значение функции потерь на валидации 4.90213159720103\n",
      "Новая лучшая модель!\n",
      "\n",
      "Эпоха 1\n",
      "Эпоха: 45 итераций, 2.64 сек\n",
      "Среднее значение функции потерь на обучении 0.38719557697574297\n",
      "Среднее значение функции потерь на валидации 8.131339645385742\n",
      "\n",
      "Эпоха 2\n",
      "Эпоха: 45 итераций, 2.64 сек\n",
      "Среднее значение функции потерь на обучении 0.4772060551577144\n",
      "Среднее значение функции потерь на валидации 9.481128581364949\n",
      "\n",
      "Эпоха 3\n",
      "Эпоха: 45 итераций, 2.65 сек\n",
      "Среднее значение функции потерь на обучении 0.7688176721334458\n",
      "Среднее значение функции потерь на валидации 12.354978307088215\n",
      "\n",
      "Эпоха 4\n",
      "Эпоха: 45 итераций, 2.64 сек\n",
      "Среднее значение функции потерь на обучении 0.6946823997630014\n",
      "Среднее значение функции потерь на валидации 20.267900721232095\n",
      "\n",
      "Эпоха 5\n",
      "Эпоха: 45 итераций, 2.64 сек\n",
      "Среднее значение функции потерь на обучении 0.8399546039394207\n",
      "Среднее значение функции потерь на валидации 15.66856501897176\n",
      "\n",
      "Эпоха 6\n",
      "Эпоха: 45 итераций, 2.65 сек\n",
      "Среднее значение функции потерь на обучении 0.7948815298875174\n",
      "Среднее значение функции потерь на валидации 16.05469331741333\n",
      "Epoch     7: reducing learning rate of group 0 to 5.0000e-02.\n",
      "\n",
      "Эпоха 7\n",
      "Эпоха: 45 итераций, 2.65 сек\n",
      "Среднее значение функции потерь на обучении 0.5085334748956888\n",
      "Среднее значение функции потерь на валидации 14.085828304290771\n",
      "\n",
      "Эпоха 8\n",
      "Эпоха: 45 итераций, 2.65 сек\n",
      "Среднее значение функции потерь на обучении 0.2089052723513709\n",
      "Среднее значение функции потерь на валидации 17.010519981384277\n",
      "\n",
      "Эпоха 9\n",
      "Эпоха: 45 итераций, 2.65 сек\n",
      "Среднее значение функции потерь на обучении 0.17892045908504062\n",
      "Среднее значение функции потерь на валидации 15.69148785273234\n",
      "\n",
      "Эпоха 10\n",
      "Эпоха: 45 итераций, 2.69 сек\n",
      "Среднее значение функции потерь на обучении 0.132119506266382\n",
      "Среднее значение функции потерь на валидации 14.373055013020833\n",
      "\n",
      "Эпоха 11\n",
      "Эпоха: 45 итераций, 2.64 сек\n",
      "Среднее значение функции потерь на обучении 0.1649884796804852\n",
      "Среднее значение функции потерь на валидации 14.34724661509196\n",
      "Модель не улучшилась за последние 10 эпох, прекращаем обучение\n",
      "CPU times: user 48.3 s, sys: 656 ms, total: 49 s\n",
      "Wall time: 48.9 s\n"
     ]
    }
   ],
   "source": [
    "%%time\n",
    "\n",
    "scheduler = lambda optim: torch.optim.lr_scheduler.ReduceLROnPlateau(\n",
    "    optim, \n",
    "    patience=5, \n",
    "    factor=0.5, \n",
    "    verbose=True\n",
    ")\n",
    "\n",
    "best_val_loss, best_model = train_eval_loop(\n",
    "    model=model,\n",
    "    train_dataset=train_dataset,\n",
    "    val_dataset=test_dataset,\n",
    "    criterion=F.cross_entropy,\n",
    "    lr=1e-1,\n",
    "    epoch_n=200,\n",
    "    batch_size=256,\n",
    "    l2_reg_alpha=0,\n",
    "    lr_scheduler_ctor=scheduler\n",
    ")"
   ]
  },
  {
   "cell_type": "markdown",
   "metadata": {},
   "source": [
    "## Оценка качества"
   ]
  },
  {
   "cell_type": "code",
   "execution_count": 37,
   "metadata": {},
   "outputs": [
    {
     "name": "stderr",
     "output_type": "stream",
     "text": [
      "100%|██████████| 354/353.5625 [00:02<00:00, 161.28it/s]\n",
      "  7%|▋         | 16/235.375 [00:00<00:01, 159.55it/s]"
     ]
    },
    {
     "name": "stdout",
     "output_type": "stream",
     "text": [
      "Среднее значение функции потерь на обучении 0.16051970422267914\n",
      "Доля верных ответов 0.9930175004419304\n",
      "\n"
     ]
    },
    {
     "name": "stderr",
     "output_type": "stream",
     "text": [
      "236it [00:01, 163.91it/s]                             \n"
     ]
    },
    {
     "name": "stdout",
     "output_type": "stream",
     "text": [
      "Среднее значение функции потерь на валидации 4.858534336090088\n",
      "Доля верных ответов 0.6858736059479554\n"
     ]
    }
   ],
   "source": [
    "train_pred = predict_with_model(best_model, train_dataset)\n",
    "\n",
    "train_loss = F.cross_entropy(torch.from_numpy(train_pred),\n",
    "                             torch.from_numpy(train_source['target']).long())\n",
    "\n",
    "print('Среднее значение функции потерь на обучении', float(train_loss))\n",
    "print('Доля верных ответов', accuracy_score(train_source['target'], train_pred.argmax(-1)))\n",
    "print()\n",
    "\n",
    "\n",
    "\n",
    "test_pred = predict_with_model(best_model, test_dataset)\n",
    "\n",
    "test_loss = F.cross_entropy(torch.from_numpy(test_pred),\n",
    "                            torch.from_numpy(test_source['target']).long())\n",
    "\n",
    "print('Среднее значение функции потерь на валидации', float(test_loss))\n",
    "print('Доля верных ответов', accuracy_score(test_source['target'], test_pred.argmax(-1)))"
   ]
  },
  {
   "cell_type": "markdown",
   "metadata": {},
   "source": [
    "## Альтернативная реализация на scikit-learn"
   ]
  },
  {
   "cell_type": "code",
   "execution_count": 24,
   "metadata": {},
   "outputs": [],
   "source": [
    "from sklearn.feature_extraction.text import TfidfVectorizer\n",
    "from sklearn.pipeline import Pipeline\n",
    "from sklearn.linear_model import LogisticRegression"
   ]
  },
  {
   "cell_type": "code",
   "execution_count": 25,
   "metadata": {},
   "outputs": [
    {
     "name": "stdout",
     "output_type": "stream",
     "text": [
      "CPU times: user 4min 30s, sys: 4min 26s, total: 8min 56s\n",
      "Wall time: 25.2 s\n"
     ]
    },
    {
     "data": {
      "text/plain": [
       "Pipeline(memory=None,\n",
       "         steps=[('vect',\n",
       "                 TfidfVectorizer(analyzer='word', binary=False,\n",
       "                                 decode_error='strict',\n",
       "                                 dtype=<class 'numpy.float64'>,\n",
       "                                 encoding='utf-8', input='content',\n",
       "                                 lowercase=True, max_df=0.8, max_features=None,\n",
       "                                 min_df=5, ngram_range=(1, 1), norm='l2',\n",
       "                                 preprocessor=None, smooth_idf=True,\n",
       "                                 stop_words=None, strip_accents=None,\n",
       "                                 sublinear_tf=False,\n",
       "                                 token_pattern='(...\n",
       "                                 tokenizer=<function tokenize_text_simple_regex at 0x7f4580afd0d0>,\n",
       "                                 use_idf=True, vocabulary=None)),\n",
       "                ('cls',\n",
       "                 LogisticRegression(C=1.0, class_weight=None, dual=False,\n",
       "                                    fit_intercept=True, intercept_scaling=1,\n",
       "                                    l1_ratio=None, max_iter=100,\n",
       "                                    multi_class='auto', n_jobs=None,\n",
       "                                    penalty='l2', random_state=None,\n",
       "                                    solver='lbfgs', tol=0.0001, verbose=0,\n",
       "                                    warm_start=False))],\n",
       "         verbose=False)"
      ]
     },
     "execution_count": 25,
     "metadata": {},
     "output_type": "execute_result"
    }
   ],
   "source": [
    "%%time\n",
    "\n",
    "sklearn_pipeline = Pipeline((('vect', TfidfVectorizer(tokenizer=tokenize_text_simple_regex,\n",
    "                                                      max_df=MAX_DF,\n",
    "                                                      min_df=MIN_COUNT)),\n",
    "                             ('cls', LogisticRegression())))\n",
    "sklearn_pipeline.fit(train_source['data'], train_source['target']);"
   ]
  },
  {
   "cell_type": "markdown",
   "metadata": {},
   "source": [
    "## Оценка качества"
   ]
  },
  {
   "cell_type": "code",
   "execution_count": 26,
   "metadata": {},
   "outputs": [
    {
     "name": "stdout",
     "output_type": "stream",
     "text": [
      "Среднее значение функции потерь на обучении 2.4954788918634194\n",
      "Доля верных ответов 0.9716280714159449\n",
      "\n",
      "Среднее значение функции потерь на валидации 2.6539022582384146\n",
      "Доля верных ответов 0.8190387679235263\n"
     ]
    }
   ],
   "source": [
    "sklearn_train_pred = sklearn_pipeline.predict_proba(train_source['data'])\n",
    "sklearn_train_loss = F.cross_entropy(torch.from_numpy(sklearn_train_pred),\n",
    "                                                 torch.from_numpy(train_source['target']))\n",
    "print('Среднее значение функции потерь на обучении', float(sklearn_train_loss))\n",
    "print('Доля верных ответов', accuracy_score(train_source['target'], sklearn_train_pred.argmax(-1)))\n",
    "print()\n",
    "\n",
    "sklearn_test_pred = sklearn_pipeline.predict_proba(test_source['data'])\n",
    "sklearn_test_loss = F.cross_entropy(torch.from_numpy(sklearn_test_pred),\n",
    "                                                torch.from_numpy(test_source['target']))\n",
    "print('Среднее значение функции потерь на валидации', float(sklearn_test_loss))\n",
    "print('Доля верных ответов', accuracy_score(test_source['target'], sklearn_test_pred.argmax(-1)))"
   ]
  },
  {
   "cell_type": "code",
   "execution_count": null,
   "metadata": {},
   "outputs": [],
   "source": []
  },
  {
   "cell_type": "code",
   "execution_count": null,
   "metadata": {},
   "outputs": [],
   "source": []
  }
 ],
 "metadata": {
  "kernelspec": {
   "display_name": "Python 3",
   "language": "python",
   "name": "python3"
  },
  "language_info": {
   "codemirror_mode": {
    "name": "ipython",
    "version": 3
   },
   "file_extension": ".py",
   "mimetype": "text/x-python",
   "name": "python",
   "nbconvert_exporter": "python",
   "pygments_lexer": "ipython3",
   "version": "3.8.1"
  }
 },
 "nbformat": 4,
 "nbformat_minor": 4
}
