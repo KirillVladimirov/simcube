{
 "cells": [
  {
   "cell_type": "code",
   "execution_count": 1,
   "metadata": {},
   "outputs": [],
   "source": [
    "%load_ext autoreload\n",
    "%autoreload 2\n",
    "\n",
    "import warnings\n",
    "warnings.filterwarnings('ignore')\n",
    "\n",
    "import random\n",
    "import pandas as pd\n",
    "import numpy as np\n",
    "\n",
    "import matplotlib.pyplot as plt\n",
    "%matplotlib inline\n",
    "\n",
    "import torch\n",
    "from torch import nn\n",
    "from torch.nn import functional as F\n",
    "\n",
    "import simcube\n",
    "\n",
    "from simcube.data import \\\n",
    "    tokenize_corpus, \\\n",
    "    build_vocabulary, \\\n",
    "    texts_to_token_ids, \\\n",
    "    PaddedSequenceDataset, \\\n",
    "    Embeddings\n",
    "\n",
    "from simcube.pipeline import \\\n",
    "    train_eval_loop, \\\n",
    "    predict_with_model, \\\n",
    "    init_random_seed\n",
    "\n",
    "from simcube.visualization import plot_vectors\n",
    "\n",
    "init_random_seed()"
   ]
  },
  {
   "cell_type": "markdown",
   "metadata": {},
   "source": [
    "## Загрузка данных и подготовка корпуса"
   ]
  },
  {
   "cell_type": "code",
   "execution_count": 2,
   "metadata": {},
   "outputs": [
    {
     "name": "stdout",
     "output_type": "stream",
     "text": [
      "Обучающая выборка 125344\n",
      "Тестовая выборка 53719\n",
      "\n",
      "1/4 cup sour cream\n",
      "10 ounces swordfish, red snapper or other firm-fleshed fish\n",
      "1 tablespoon minced basil leaves\n",
      "Handful fresh parsley, finely minced\n",
      "4 ounces lard or butter, plus more for brushing tops\n",
      "4 to 5 green cardamom pods\n",
      "1 stick ( 1/4 pound) unsalted butter, softened\n",
      "1/4 teaspoon red pepper flakes, preferably Turkish or Aleppo (see note), more to taste\n",
      "1 tablespoon fresh lemon juice\n",
      "1/4 cup scallions, thinly sliced\n"
     ]
    }
   ],
   "source": [
    "full_dataset = list(pd.read_csv('../../data/raw/nyt-ingredients-snapshot-2015.csv')['input'].dropna())\n",
    "random.shuffle(full_dataset)\n",
    "\n",
    "TRAIN_VAL_SPLIT = int(len(full_dataset) * 0.7)\n",
    "train_source = full_dataset[:TRAIN_VAL_SPLIT]\n",
    "test_source = full_dataset[TRAIN_VAL_SPLIT:]\n",
    "print(\"Обучающая выборка\", len(train_source))\n",
    "print(\"Тестовая выборка\", len(test_source))\n",
    "print()\n",
    "print('\\n'.join(train_source[:10]))"
   ]
  },
  {
   "cell_type": "code",
   "execution_count": 5,
   "metadata": {},
   "outputs": [],
   "source": [
    "# Дистрибутивная семантика\n",
    "# эта наука занимается изучением смыслов слов\n",
    "# Смысл слова описывается тем контестом, в котором слово обычно употребляется\n",
    "\n",
    "# Методы дистрибутивной семантики пытаются извлечь смысл слов, анализируя распределения\n",
    "# вероятностей совместной встречаемости слов в рамках одго фрагмента текста \n",
    "# или вероятностей встретить одни слова в контексте других"
   ]
  },
  {
   "cell_type": "code",
   "execution_count": 6,
   "metadata": {},
   "outputs": [
    {
     "name": "stdout",
     "output_type": "stream",
     "text": [
      "sour cream\n",
      "ounces swordfish snapper other firm fleshed fish\n",
      "tablespoon minced basil leaves\n",
      "handful fresh parsley finely minced\n",
      "ounces lard butter plus more brushing tops\n",
      "green cardamom pods\n",
      "stick pound unsalted butter softened\n",
      "teaspoon pepper flakes preferably turkish aleppo note more taste\n",
      "tablespoon fresh lemon juice\n",
      "scallions thinly sliced\n"
     ]
    }
   ],
   "source": [
    "# токенизируем\n",
    "train_tokenized = tokenize_corpus(train_source)\n",
    "test_tokenized = tokenize_corpus(test_source)\n",
    "print('\\n'.join(' '.join(sent) for sent in train_tokenized[:10]))"
   ]
  },
  {
   "cell_type": "code",
   "execution_count": 7,
   "metadata": {},
   "outputs": [
    {
     "name": "stdout",
     "output_type": "stream",
     "text": [
      "Размер словаря 2267\n",
      "[('<PAD>', 0), ('tablespoons', 1), ('teaspoon', 2), ('chopped', 3), ('salt', 4), ('pepper', 5), ('cups', 6), ('ground', 7), ('fresh', 8), ('tablespoon', 9)]\n"
     ]
    }
   ],
   "source": [
    "# строим словарь\n",
    "vocabulary, word_doc_freq = build_vocabulary(train_tokenized, max_doc_freq=0.9, min_count=5, pad_word='<PAD>')\n",
    "print(\"Размер словаря\", len(vocabulary))\n",
    "print(list(vocabulary.items())[:10])"
   ]
  },
  {
   "cell_type": "code",
   "execution_count": 8,
   "metadata": {},
   "outputs": [
    {
     "name": "stdout",
     "output_type": "stream",
     "text": [
      "222 52\n",
      "22 878 574 127 246 707 181\n",
      "9 19 88 33\n",
      "517 8 43 15 19\n",
      "22 586 20 45 47 648 649\n",
      "59 329 535\n",
      "200 12 50 20 266\n",
      "2 5 140 78 1208 735 153 47 10\n",
      "9 8 31 25\n",
      "98 65 27\n"
     ]
    }
   ],
   "source": [
    "# отображаем в номера токенов\n",
    "train_token_ids = texts_to_token_ids(train_tokenized, vocabulary)\n",
    "test_token_ids = texts_to_token_ids(test_tokenized, vocabulary)\n",
    "\n",
    "print('\\n'.join(' '.join(str(t) for t in sent) for sent in train_token_ids[:10]))"
   ]
  },
  {
   "cell_type": "code",
   "execution_count": 9,
   "metadata": {},
   "outputs": [
    {
     "data": {
      "image/png": "[encoded data removed]",
      "text/plain": [
       "<Figure size 432x288 with 1 Axes>"
      ]
     },
     "metadata": {
      "needs_background": "light"
     },
     "output_type": "display_data"
    }
   ],
   "source": [
    "plt.hist([len(s) for s in train_token_ids], bins=20);\n",
    "plt.title('Гистограмма длин предложений');"
   ]
  },
  {
   "cell_type": "code",
   "execution_count": 11,
   "metadata": {},
   "outputs": [],
   "source": [
    "MAX_SENTENCE_LEN = 20\n",
    "train_dataset = PaddedSequenceDataset(train_token_ids,\n",
    "                                      np.zeros(len(train_token_ids)),\n",
    "                                      out_len=MAX_SENTENCE_LEN)\n",
    "test_dataset = PaddedSequenceDataset(test_token_ids,\n",
    "                                     np.zeros(len(test_token_ids)),\n",
    "                                     out_len=MAX_SENTENCE_LEN)"
   ]
  },
  {
   "cell_type": "code",
   "execution_count": 12,
   "metadata": {},
   "outputs": [
    {
     "name": "stdout",
     "output_type": "stream",
     "text": [
      "(tensor([222,  52,   0,   0,   0,   0,   0,   0,   0,   0,   0,   0,   0,   0,\n",
      "          0,   0,   0,   0,   0,   0]), tensor(0))\n"
     ]
    }
   ],
   "source": [
    "print(train_dataset[0])"
   ]
  },
  {
   "cell_type": "code",
   "execution_count": 13,
   "metadata": {},
   "outputs": [
    {
     "name": "stdout",
     "output_type": "stream",
     "text": [
      "(tensor([ 22, 878, 574, 127, 246, 707, 181,   0,   0,   0,   0,   0,   0,   0,\n",
      "          0,   0,   0,   0,   0,   0]), tensor(0))\n"
     ]
    }
   ],
   "source": [
    "print(train_dataset[1])"
   ]
  },
  {
   "cell_type": "markdown",
   "metadata": {},
   "source": [
    "## Алгоритм обучения - Skip Gram Negative Sampling"
   ]
  },
  {
   "cell_type": "code",
   "execution_count": 57,
   "metadata": {},
   "outputs": [],
   "source": [
    "# Skip Gram - моделирует распределение соседей при условии центрального слова\n",
    "# CBOW, continuous bag of words - моделирует распределение центрального слова при условии известных соседей"
   ]
  },
  {
   "cell_type": "code",
   "execution_count": 14,
   "metadata": {},
   "outputs": [],
   "source": [
    "# Skip Gram - предсказываем соседние слова по центральному слову\n",
    "# Negative Sampling - аппроксимация softmax"
   ]
  },
  {
   "cell_type": "code",
   "execution_count": 15,
   "metadata": {},
   "outputs": [],
   "source": [
    "def make_diag_mask(size, radius):\n",
    "    \"\"\"Квадратная матрица размера Size x Size с двумя полосами ширины radius вдоль главной диагонали\"\"\"\n",
    "    idxs = torch.arange(size)\n",
    "    abs_idx_diff = (idxs.unsqueeze(0) - idxs.unsqueeze(1)).abs()\n",
    "    mask = ((abs_idx_diff <= radius) & (abs_idx_diff > 0)).float()\n",
    "    return mask"
   ]
  },
  {
   "cell_type": "code",
   "execution_count": 16,
   "metadata": {},
   "outputs": [
    {
     "data": {
      "text/plain": [
       "tensor([[0., 1., 1., 1., 0., 0., 0., 0., 0., 0.],\n",
       "        [1., 0., 1., 1., 1., 0., 0., 0., 0., 0.],\n",
       "        [1., 1., 0., 1., 1., 1., 0., 0., 0., 0.],\n",
       "        [1., 1., 1., 0., 1., 1., 1., 0., 0., 0.],\n",
       "        [0., 1., 1., 1., 0., 1., 1., 1., 0., 0.],\n",
       "        [0., 0., 1., 1., 1., 0., 1., 1., 1., 0.],\n",
       "        [0., 0., 0., 1., 1., 1., 0., 1., 1., 1.],\n",
       "        [0., 0., 0., 0., 1., 1., 1., 0., 1., 1.],\n",
       "        [0., 0., 0., 0., 0., 1., 1., 1., 0., 1.],\n",
       "        [0., 0., 0., 0., 0., 0., 1., 1., 1., 0.]])"
      ]
     },
     "execution_count": 16,
     "metadata": {},
     "output_type": "execute_result"
    }
   ],
   "source": [
    "make_diag_mask(10, 3)"
   ]
  },
  {
   "cell_type": "code",
   "execution_count": 17,
   "metadata": {},
   "outputs": [],
   "source": [
    "class SkipGramNegativeSamplingTrainer(nn.Module):\n",
    "    def __init__(self, vocab_size, emb_size, sentence_len, radius=5, negative_samples_n=5):\n",
    "        super().__init__()\n",
    "        self.vocab_size = vocab_size\n",
    "        self.negative_samples_n = negative_samples_n\n",
    "\n",
    "        self.center_emb = nn.Embedding(self.vocab_size, emb_size, padding_idx=0)\n",
    "        self.center_emb.weight.data.uniform_(-1.0 / emb_size, 1.0 / emb_size)\n",
    "        self.center_emb.weight.data[0] = 0\n",
    "\n",
    "        self.context_emb = nn.Embedding(self.vocab_size, emb_size, padding_idx=0)        \n",
    "        self.context_emb.weight.data.uniform_(-1.0 / emb_size, 1.0 / emb_size)\n",
    "        self.context_emb.weight.data[0] = 0\n",
    "\n",
    "        self.positive_sim_mask = make_diag_mask(sentence_len, radius)\n",
    "    \n",
    "    def forward(self, sentences):\n",
    "        \"\"\"sentences - Batch x MaxSentLength - идентификаторы токенов\"\"\"\n",
    "        batch_size = sentences.shape[0]\n",
    "        center_embeddings = self.center_emb(sentences)  # Batch x MaxSentLength x EmbSize\n",
    "\n",
    "        # оценить сходство с настоящими соседними словами\n",
    "        positive_context_embs = self.context_emb(sentences).permute(0, 2, 1)  # Batch x EmbSize x MaxSentLength\n",
    "        positive_sims = torch.bmm(center_embeddings, positive_context_embs)  # Batch x MaxSentLength x MaxSentLength\n",
    "        positive_probs = torch.sigmoid(positive_sims)\n",
    "\n",
    "        # увеличить оценку вероятности встретить эти пары слов вместе\n",
    "        positive_mask = self.positive_sim_mask.to(positive_sims.device)\n",
    "        positive_loss = F.binary_cross_entropy(positive_probs * positive_mask,\n",
    "                                               positive_mask.expand_as(positive_probs))\n",
    "\n",
    "        # выбрать случайные \"отрицательные\" слова\n",
    "        negative_words = torch.randint(1, self.vocab_size,\n",
    "                                       size=(batch_size, self.negative_samples_n),\n",
    "                                       device=sentences.device)  # Batch x NegSamplesN\n",
    "        negative_context_embs = self.context_emb(negative_words).permute(0, 2, 1)  # Batch x EmbSize x NegSamplesN\n",
    "        negative_sims = torch.bmm(center_embeddings, negative_context_embs)  # Batch x MaxSentLength x NegSamplesN\n",
    "        \n",
    "        # уменьшить оценку вероятность встретить эти пары слов вместе\n",
    "        negative_loss = F.binary_cross_entropy_with_logits(negative_sims,\n",
    "                                                           negative_sims.new_zeros(negative_sims.shape))\n",
    "\n",
    "        return positive_loss + negative_loss\n",
    "\n",
    "\n",
    "def no_loss(pred, target):\n",
    "    \"\"\"Фиктивная функция потерь - когда модель сама считает функцию потерь\"\"\"\n",
    "    return pred"
   ]
  },
  {
   "cell_type": "markdown",
   "metadata": {},
   "source": [
    "## Обучение"
   ]
  },
  {
   "cell_type": "code",
   "execution_count": 21,
   "metadata": {},
   "outputs": [],
   "source": [
    "trainer = SkipGramNegativeSamplingTrainer(\n",
    "    len(vocabulary), \n",
    "    100, \n",
    "    MAX_SENTENCE_LEN, \n",
    "    radius=5, \n",
    "    negative_samples_n=25\n",
    ")"
   ]
  },
  {
   "cell_type": "code",
   "execution_count": 23,
   "metadata": {},
   "outputs": [
    {
     "name": "stdout",
     "output_type": "stream",
     "text": [
      "Выбранное устройство: cuda\n",
      "Эпоха 0\n",
      "Эпоха: 2001 итераций, 6.05 сек\n",
      "Среднее значение функции потерь на обучении 0.879846481875382\n",
      "Среднее значение функции потерь на валидации 0.8782594562464477\n",
      "Новая лучшая модель!\n",
      "\n",
      "Эпоха 1\n",
      "Эпоха: 2001 итераций, 5.21 сек\n",
      "Среднее значение функции потерь на обучении 0.8781611629273521\n",
      "Среднее значение функции потерь на валидации 0.8777611416307565\n",
      "Новая лучшая модель!\n",
      "\n",
      "CPU times: user 23.9 s, sys: 734 ms, total: 24.7 s\n",
      "Wall time: 24.5 s\n"
     ]
    }
   ],
   "source": [
    "%%time\n",
    "\n",
    "best_val_loss, best_model = train_eval_loop(trainer, train_dataset, test_dataset,\n",
    "    no_loss,\n",
    "    lr=1e-2,\n",
    "    epoch_n=2,\n",
    "    batch_size=8,\n",
    "    early_stopping_patience=10,\n",
    "    max_batches_per_epoch_train=2000,\n",
    "    max_batches_per_epoch_val=len(test_dataset),\n",
    "    lr_scheduler_ctor=lambda optim: torch.optim.lr_scheduler.ReduceLROnPlateau(optim, patience=1, verbose=True)\n",
    ")"
   ]
  },
  {
   "cell_type": "code",
   "execution_count": 26,
   "metadata": {},
   "outputs": [],
   "source": [
    "torch.save(trainer.state_dict(), '../../data/models/sgns.pth')"
   ]
  },
  {
   "cell_type": "code",
   "execution_count": 27,
   "metadata": {},
   "outputs": [
    {
     "data": {
      "text/plain": [
       "<All keys matched successfully>"
      ]
     },
     "execution_count": 27,
     "metadata": {},
     "output_type": "execute_result"
    }
   ],
   "source": [
    "trainer.load_state_dict(torch.load('../../data/models/sgns.pth'))"
   ]
  },
  {
   "cell_type": "markdown",
   "metadata": {},
   "source": [
    "## Исследуем характеристики полученных векторов"
   ]
  },
  {
   "cell_type": "code",
   "execution_count": 28,
   "metadata": {},
   "outputs": [],
   "source": [
    "embeddings = Embeddings(trainer.center_emb.weight.detach().cpu().numpy(), vocabulary)"
   ]
  },
  {
   "cell_type": "code",
   "execution_count": 29,
   "metadata": {},
   "outputs": [
    {
     "data": {
      "text/plain": [
       "[('chicken', 0.9999339),\n",
       " ('broth', 0.5569482),\n",
       " ('stock', 0.53195727),\n",
       " ('turkey', 0.51217765),\n",
       " ('breast', 0.50822675),\n",
       " ('skinless', 0.45503742),\n",
       " ('boneless', 0.45112085),\n",
       " ('quarts', 0.44986263),\n",
       " ('duck', 0.43958414),\n",
       " ('sodium', 0.41927022)]"
      ]
     },
     "execution_count": 29,
     "metadata": {},
     "output_type": "execute_result"
    }
   ],
   "source": [
    "embeddings.most_similar('chicken')"
   ]
  },
  {
   "cell_type": "code",
   "execution_count": 30,
   "metadata": {},
   "outputs": [
    {
     "data": {
      "text/plain": [
       "[('coffee', 0.9999544),\n",
       " ('masa', 0.3695662),\n",
       " ('sifted', 0.3660916),\n",
       " ('grained', 0.3592787),\n",
       " ('instant', 0.35635707),\n",
       " ('praline', 0.35306114),\n",
       " ('fancy', 0.3171711),\n",
       " ('grainy', 0.31357557),\n",
       " ('breads', 0.30714795),\n",
       " ('espresso', 0.3030763)]"
      ]
     },
     "execution_count": 30,
     "metadata": {},
     "output_type": "execute_result"
    }
   ],
   "source": [
    "embeddings.most_similar('coffee')"
   ]
  },
  {
   "cell_type": "code",
   "execution_count": 31,
   "metadata": {},
   "outputs": [
    {
     "data": {
      "text/plain": [
       "[('cacao', 0.9918212),\n",
       " ('cheese', 0.9071052),\n",
       " ('cottage', 0.7697627),\n",
       " ('chocolate', 0.71812797),\n",
       " ('valrhona', 0.6817431),\n",
       " ('goat', 0.6635976),\n",
       " ('stew', 0.6351927),\n",
       " ('monterey', 0.6309929),\n",
       " ('although', 0.62445354),\n",
       " ('crema', 0.6236236)]"
      ]
     },
     "execution_count": 31,
     "metadata": {},
     "output_type": "execute_result"
    }
   ],
   "source": [
    "embeddings.analogy('cake', 'cacao', 'cheese')"
   ]
  },
  {
   "cell_type": "code",
   "execution_count": 32,
   "metadata": {},
   "outputs": [
    {
     "name": "stdout",
     "output_type": "stream",
     "text": [
      "(18, 100)\n"
     ]
    }
   ],
   "source": [
    "test_words = ['salad', 'fish', 'salmon', 'sauvignon', 'beef', 'pork', 'steak', 'beer', \n",
    "              'cake', 'coffee', 'sausage', 'wine', 'merlot', 'zinfandel', \n",
    "              'trout', 'chardonnay', 'champagne', 'cacao']\n",
    "test_vectors = embeddings.get_vectors(*test_words)\n",
    "print(test_vectors.shape)"
   ]
  },
  {
   "cell_type": "code",
   "execution_count": 33,
   "metadata": {},
   "outputs": [
    {
     "data": {
      "image/png": "[encoded data removed]",
      "text/plain": [
       "<Figure size 720x720 with 1 Axes>"
      ]
     },
     "metadata": {
      "needs_background": "light"
     },
     "output_type": "display_data"
    }
   ],
   "source": [
    "fig, ax = plt.subplots()\n",
    "fig.set_size_inches((10, 10))\n",
    "plot_vectors(test_vectors, test_words, how='svd', ax=ax)"
   ]
  },
  {
   "cell_type": "markdown",
   "metadata": {},
   "source": [
    "## Обучение Word2Vec с помощью Gensim"
   ]
  },
  {
   "cell_type": "code",
   "execution_count": 34,
   "metadata": {},
   "outputs": [],
   "source": [
    "import gensim"
   ]
  },
  {
   "cell_type": "code",
   "execution_count": 36,
   "metadata": {},
   "outputs": [
    {
     "name": "stdout",
     "output_type": "stream",
     "text": [
      "CPU times: user 18.3 s, sys: 120 ms, total: 18.4 s\n",
      "Wall time: 5.24 s\n"
     ]
    }
   ],
   "source": [
    "%%time\n",
    "\n",
    "word2vec = gensim.models.Word2Vec(\n",
    "    sentences=train_tokenized, \n",
    "    size=100,\n",
    "    window=5, \n",
    "    min_count=5, \n",
    "    workers=24,\n",
    "    sg=1, \n",
    "    iter=10\n",
    ")"
   ]
  },
  {
   "cell_type": "code",
   "execution_count": 37,
   "metadata": {},
   "outputs": [
    {
     "data": {
      "text/plain": [
       "[('duck', 0.7388399839401245),\n",
       " ('thighs', 0.7044893503189087),\n",
       " ('pheasant', 0.693988025188446),\n",
       " ('simmering', 0.6856342554092407),\n",
       " ('drumsticks', 0.682977557182312),\n",
       " ('turkey', 0.6816940903663635),\n",
       " ('defatted', 0.6567668914794922),\n",
       " ('breasts', 0.6559194326400757),\n",
       " ('rabbit', 0.6544360518455505),\n",
       " ('chickens', 0.6531239748001099)]"
      ]
     },
     "execution_count": 37,
     "metadata": {},
     "output_type": "execute_result"
    }
   ],
   "source": [
    "word2vec.wv.most_similar('chicken')"
   ]
  },
  {
   "cell_type": "code",
   "execution_count": 38,
   "metadata": {},
   "outputs": [
    {
     "data": {
      "text/plain": [
       "[('espresso', 0.871442437171936),\n",
       " ('brewed', 0.7680679559707642),\n",
       " ('instant', 0.6789559721946716),\n",
       " ('process', 0.6784331798553467),\n",
       " ('grinder', 0.6719653010368347),\n",
       " ('spices', 0.6662553548812866),\n",
       " ('west', 0.6434237957000732),\n",
       " ('garam', 0.6430879831314087),\n",
       " ('dutch', 0.6400915384292603),\n",
       " ('sweetened', 0.6370556354522705)]"
      ]
     },
     "execution_count": 38,
     "metadata": {},
     "output_type": "execute_result"
    }
   ],
   "source": [
    "word2vec.wv.most_similar('coffee')"
   ]
  },
  {
   "cell_type": "code",
   "execution_count": 39,
   "metadata": {},
   "outputs": [],
   "source": [
    "gensim_words = [w for w in test_words if w in word2vec.wv.vocab]\n",
    "gensim_vectors = np.stack([word2vec.wv[w] for w in gensim_words])"
   ]
  },
  {
   "cell_type": "code",
   "execution_count": 40,
   "metadata": {},
   "outputs": [
    {
     "data": {
      "image/png": "[encoded data removed]",
      "text/plain": [
       "<Figure size 720x720 with 1 Axes>"
      ]
     },
     "metadata": {
      "needs_background": "light"
     },
     "output_type": "display_data"
    }
   ],
   "source": [
    "fig, ax = plt.subplots()\n",
    "fig.set_size_inches((10, 10))\n",
    "plot_vectors(gensim_vectors, test_words, how='svd', ax=ax)"
   ]
  },
  {
   "cell_type": "markdown",
   "metadata": {},
   "source": [
    "## Загрузка предобученного Word2Vec"
   ]
  },
  {
   "cell_type": "markdown",
   "metadata": {},
   "source": [
    "Источники готовых векторов:\n",
    "\n",
    "https://rusvectores.org/ru/ - для русского языка\n",
    "\n",
    "https://wikipedia2vec.github.io/wikipedia2vec/pretrained/ - много разных языков"
   ]
  },
  {
   "cell_type": "code",
   "execution_count": 42,
   "metadata": {},
   "outputs": [],
   "source": [
    "import gensim.downloader as api"
   ]
  },
  {
   "cell_type": "code",
   "execution_count": 43,
   "metadata": {},
   "outputs": [
    {
     "name": "stdout",
     "output_type": "stream",
     "text": [
      "fasttext-wiki-news-subwords-300\n",
      "conceptnet-numberbatch-17-06-300\n",
      "word2vec-ruscorpora-300\n",
      "word2vec-google-news-300\n",
      "glove-wiki-gigaword-50\n",
      "glove-wiki-gigaword-100\n",
      "glove-wiki-gigaword-200\n",
      "glove-wiki-gigaword-300\n",
      "glove-twitter-25\n",
      "glove-twitter-50\n",
      "glove-twitter-100\n",
      "glove-twitter-200\n",
      "__testing_word2vec-matrix-synopsis\n"
     ]
    }
   ],
   "source": [
    "available_models = api.info()['models'].keys()\n",
    "print('\\n'.join(available_models))"
   ]
  },
  {
   "cell_type": "code",
   "execution_count": 44,
   "metadata": {
    "collapsed": true,
    "jupyter": {
     "outputs_hidden": true
    }
   },
   "outputs": [
    {
     "data": {
      "text/plain": [
       "{'corpora': {'semeval-2016-2017-task3-subtaskBC': {'num_records': -1,\n",
       "   'record_format': 'dict',\n",
       "   'file_size': 6344358,\n",
       "   'reader_code': 'https://github.com/RaRe-Technologies/gensim-data/releases/download/semeval-2016-2017-task3-subtaskB-eng/__init__.py',\n",
       "   'license': 'All files released for the task are free for general research use',\n",
       "   'fields': {'2016-train': ['...'],\n",
       "    '2016-dev': ['...'],\n",
       "    '2017-test': ['...'],\n",
       "    '2016-test': ['...']},\n",
       "   'description': 'SemEval 2016 / 2017 Task 3 Subtask B and C datasets contain train+development (317 original questions, 3,169 related questions, and 31,690 comments), and test datasets in English. The description of the tasks and the collected data is given in sections 3 and 4.1 of the task paper http://alt.qcri.org/semeval2016/task3/data/uploads/semeval2016-task3-report.pdf linked in section “Papers” of https://github.com/RaRe-Technologies/gensim-data/issues/18.',\n",
       "   'checksum': '701ea67acd82e75f95e1d8e62fb0ad29',\n",
       "   'file_name': 'semeval-2016-2017-task3-subtaskBC.gz',\n",
       "   'read_more': ['http://alt.qcri.org/semeval2017/task3/',\n",
       "    'http://alt.qcri.org/semeval2017/task3/data/uploads/semeval2017-task3.pdf',\n",
       "    'https://github.com/RaRe-Technologies/gensim-data/issues/18',\n",
       "    'https://github.com/Witiko/semeval-2016_2017-task3-subtaskB-english'],\n",
       "   'parts': 1},\n",
       "  'semeval-2016-2017-task3-subtaskA-unannotated': {'num_records': 189941,\n",
       "   'record_format': 'dict',\n",
       "   'file_size': 234373151,\n",
       "   'reader_code': 'https://github.com/RaRe-Technologies/gensim-data/releases/download/semeval-2016-2017-task3-subtaskA-unannotated-eng/__init__.py',\n",
       "   'license': 'These datasets are free for general research use.',\n",
       "   'fields': {'THREAD_SEQUENCE': '',\n",
       "    'RelQuestion': {'RELQ_CATEGORY': 'question category, according to the Qatar Living taxonomy',\n",
       "     'RELQ_DATE': 'date of posting',\n",
       "     'RELQ_ID': 'question indentifier',\n",
       "     'RELQ_USERID': 'identifier of the user asking the question',\n",
       "     'RELQ_USERNAME': 'name of the user asking the question',\n",
       "     'RelQBody': 'body of question',\n",
       "     'RelQSubject': 'subject of question'},\n",
       "    'RelComments': [{'RelCText': 'text of answer',\n",
       "      'RELC_USERID': 'identifier of the user posting the comment',\n",
       "      'RELC_ID': 'comment identifier',\n",
       "      'RELC_USERNAME': 'name of the user posting the comment',\n",
       "      'RELC_DATE': 'date of posting'}]},\n",
       "   'description': 'SemEval 2016 / 2017 Task 3 Subtask A unannotated dataset contains 189,941 questions and 1,894,456 comments in English collected from the Community Question Answering (CQA) web forum of Qatar Living. These can be used as a corpus for language modelling.',\n",
       "   'checksum': '2de0e2f2c4f91c66ae4fcf58d50ba816',\n",
       "   'file_name': 'semeval-2016-2017-task3-subtaskA-unannotated.gz',\n",
       "   'read_more': ['http://alt.qcri.org/semeval2016/task3/',\n",
       "    'http://alt.qcri.org/semeval2016/task3/data/uploads/semeval2016-task3-report.pdf',\n",
       "    'https://github.com/RaRe-Technologies/gensim-data/issues/18',\n",
       "    'https://github.com/Witiko/semeval-2016_2017-task3-subtaskA-unannotated-english'],\n",
       "   'parts': 1},\n",
       "  'patent-2017': {'num_records': 353197,\n",
       "   'record_format': 'dict',\n",
       "   'file_size': 3087262469,\n",
       "   'reader_code': 'https://github.com/RaRe-Technologies/gensim-data/releases/download/patent-2017/__init__.py',\n",
       "   'license': 'not found',\n",
       "   'description': \"Patent Grant Full Text. Contains the full text including tables, sequence data and 'in-line' mathematical expressions of each patent grant issued in 2017.\",\n",
       "   'checksum-0': '818501f0b9af62d3b88294d86d509f8f',\n",
       "   'checksum-1': '66c05635c1d3c7a19b4a335829d09ffa',\n",
       "   'file_name': 'patent-2017.gz',\n",
       "   'read_more': ['http://patents.reedtech.com/pgrbft.php'],\n",
       "   'parts': 2},\n",
       "  'quora-duplicate-questions': {'num_records': 404290,\n",
       "   'record_format': 'dict',\n",
       "   'file_size': 21684784,\n",
       "   'reader_code': 'https://github.com/RaRe-Technologies/gensim-data/releases/download/quora-duplicate-questions/__init__.py',\n",
       "   'license': 'probably https://www.quora.com/about/tos',\n",
       "   'fields': {'question1': 'the full text of each question',\n",
       "    'question2': 'the full text of each question',\n",
       "    'qid1': 'unique ids of each question',\n",
       "    'qid2': 'unique ids of each question',\n",
       "    'id': 'the id of a training set question pair',\n",
       "    'is_duplicate': 'the target variable, set to 1 if question1 and question2 have essentially the same meaning, and 0 otherwise'},\n",
       "   'description': 'Over 400,000 lines of potential question duplicate pairs. Each line contains IDs for each question in the pair, the full text for each question, and a binary value that indicates whether the line contains a duplicate pair or not.',\n",
       "   'checksum': 'd7cfa7fbc6e2ec71ab74c495586c6365',\n",
       "   'file_name': 'quora-duplicate-questions.gz',\n",
       "   'read_more': ['https://data.quora.com/First-Quora-Dataset-Release-Question-Pairs'],\n",
       "   'parts': 1},\n",
       "  'wiki-english-20171001': {'num_records': 4924894,\n",
       "   'record_format': 'dict',\n",
       "   'file_size': 6516051717,\n",
       "   'reader_code': 'https://github.com/RaRe-Technologies/gensim-data/releases/download/wiki-english-20171001/__init__.py',\n",
       "   'license': 'https://dumps.wikimedia.org/legal.html',\n",
       "   'fields': {'section_texts': 'list of body of sections',\n",
       "    'section_titles': 'list of titles of sections',\n",
       "    'title': 'Title of wiki article'},\n",
       "   'description': 'Extracted Wikipedia dump from October 2017. Produced by `python -m gensim.scripts.segment_wiki -f enwiki-20171001-pages-articles.xml.bz2 -o wiki-en.gz`',\n",
       "   'checksum-0': 'a7d7d7fd41ea7e2d7fa32ec1bb640d71',\n",
       "   'checksum-1': 'b2683e3356ffbca3b6c2dca6e9801f9f',\n",
       "   'checksum-2': 'c5cde2a9ae77b3c4ebce804f6df542c2',\n",
       "   'checksum-3': '00b71144ed5e3aeeb885de84f7452b81',\n",
       "   'file_name': 'wiki-english-20171001.gz',\n",
       "   'read_more': ['https://dumps.wikimedia.org/enwiki/20171001/'],\n",
       "   'parts': 4},\n",
       "  'text8': {'num_records': 1701,\n",
       "   'record_format': 'list of str (tokens)',\n",
       "   'file_size': 33182058,\n",
       "   'reader_code': 'https://github.com/RaRe-Technologies/gensim-data/releases/download/text8/__init__.py',\n",
       "   'license': 'not found',\n",
       "   'description': 'First 100,000,000 bytes of plain text from Wikipedia. Used for testing purposes; see wiki-english-* for proper full Wikipedia datasets.',\n",
       "   'checksum': '68799af40b6bda07dfa47a32612e5364',\n",
       "   'file_name': 'text8.gz',\n",
       "   'read_more': ['http://mattmahoney.net/dc/textdata.html'],\n",
       "   'parts': 1},\n",
       "  'fake-news': {'num_records': 12999,\n",
       "   'record_format': 'dict',\n",
       "   'file_size': 20102776,\n",
       "   'reader_code': 'https://github.com/RaRe-Technologies/gensim-data/releases/download/fake-news/__init__.py',\n",
       "   'license': 'https://creativecommons.org/publicdomain/zero/1.0/',\n",
       "   'fields': {'crawled': 'date the story was archived',\n",
       "    'ord_in_thread': '',\n",
       "    'published': 'date published',\n",
       "    'participants_count': 'number of participants',\n",
       "    'shares': 'number of Facebook shares',\n",
       "    'replies_count': 'number of replies',\n",
       "    'main_img_url': 'image from story',\n",
       "    'spam_score': 'data from webhose.io',\n",
       "    'uuid': 'unique identifier',\n",
       "    'language': 'data from webhose.io',\n",
       "    'title': 'title of story',\n",
       "    'country': 'data from webhose.io',\n",
       "    'domain_rank': 'data from webhose.io',\n",
       "    'author': 'author of story',\n",
       "    'comments': 'number of Facebook comments',\n",
       "    'site_url': 'site URL from BS detector',\n",
       "    'text': 'text of story',\n",
       "    'thread_title': '',\n",
       "    'type': 'type of website (label from BS detector)',\n",
       "    'likes': 'number of Facebook likes'},\n",
       "   'description': \"News dataset, contains text and metadata from 244 websites and represents 12,999 posts in total from a specific window of 30 days. The data was pulled using the webhose.io API, and because it's coming from their crawler, not all websites identified by their BS Detector are present in this dataset. Data sources that were missing a label were simply assigned a label of 'bs'. There are (ostensibly) no genuine, reliable, or trustworthy news sources represented in this dataset (so far), so don't trust anything you read.\",\n",
       "   'checksum': '5e64e942df13219465927f92dcefd5fe',\n",
       "   'file_name': 'fake-news.gz',\n",
       "   'read_more': ['https://www.kaggle.com/mrisdal/fake-news'],\n",
       "   'parts': 1},\n",
       "  '20-newsgroups': {'num_records': 18846,\n",
       "   'record_format': 'dict',\n",
       "   'file_size': 14483581,\n",
       "   'reader_code': 'https://github.com/RaRe-Technologies/gensim-data/releases/download/20-newsgroups/__init__.py',\n",
       "   'license': 'not found',\n",
       "   'fields': {'topic': 'name of topic (20 variant of possible values)',\n",
       "    'set': \"marker of original split (possible values 'train' and 'test')\",\n",
       "    'data': '',\n",
       "    'id': 'original id inferred from folder name'},\n",
       "   'description': 'The notorious collection of approximately 20,000 newsgroup posts, partitioned (nearly) evenly across 20 different newsgroups.',\n",
       "   'checksum': 'c92fd4f6640a86d5ba89eaad818a9891',\n",
       "   'file_name': '20-newsgroups.gz',\n",
       "   'read_more': ['http://qwone.com/~jason/20Newsgroups/'],\n",
       "   'parts': 1},\n",
       "  '__testing_matrix-synopsis': {'description': '[THIS IS ONLY FOR TESTING] Synopsis of the movie matrix.',\n",
       "   'checksum': '1767ac93a089b43899d54944b07d9dc5',\n",
       "   'file_name': '__testing_matrix-synopsis.gz',\n",
       "   'read_more': ['http://www.imdb.com/title/tt0133093/plotsummary?ref_=ttpl_pl_syn#synopsis'],\n",
       "   'parts': 1},\n",
       "  '__testing_multipart-matrix-synopsis': {'description': '[THIS IS ONLY FOR TESTING] Synopsis of the movie matrix.',\n",
       "   'checksum-0': 'c8b0c7d8cf562b1b632c262a173ac338',\n",
       "   'checksum-1': '5ff7fc6818e9a5d9bc1cf12c35ed8b96',\n",
       "   'checksum-2': '966db9d274d125beaac7987202076cba',\n",
       "   'file_name': '__testing_multipart-matrix-synopsis.gz',\n",
       "   'read_more': ['http://www.imdb.com/title/tt0133093/plotsummary?ref_=ttpl_pl_syn#synopsis'],\n",
       "   'parts': 3}},\n",
       " 'models': {'fasttext-wiki-news-subwords-300': {'num_records': 999999,\n",
       "   'file_size': 1005007116,\n",
       "   'base_dataset': 'Wikipedia 2017, UMBC webbase corpus and statmt.org news dataset (16B tokens)',\n",
       "   'reader_code': 'https://github.com/RaRe-Technologies/gensim-data/releases/download/fasttext-wiki-news-subwords-300/__init__.py',\n",
       "   'license': 'https://creativecommons.org/licenses/by-sa/3.0/',\n",
       "   'parameters': {'dimension': 300},\n",
       "   'description': '1 million word vectors trained on Wikipedia 2017, UMBC webbase corpus and statmt.org news dataset (16B tokens).',\n",
       "   'read_more': ['https://fasttext.cc/docs/en/english-vectors.html',\n",
       "    'https://arxiv.org/abs/1712.09405',\n",
       "    'https://arxiv.org/abs/1607.01759'],\n",
       "   'checksum': 'de2bb3a20c46ce65c9c131e1ad9a77af',\n",
       "   'file_name': 'fasttext-wiki-news-subwords-300.gz',\n",
       "   'parts': 1},\n",
       "  'conceptnet-numberbatch-17-06-300': {'num_records': 1917247,\n",
       "   'file_size': 1225497562,\n",
       "   'base_dataset': 'ConceptNet, word2vec, GloVe, and OpenSubtitles 2016',\n",
       "   'reader_code': 'https://github.com/RaRe-Technologies/gensim-data/releases/download/conceptnet-numberbatch-17-06-300/__init__.py',\n",
       "   'license': 'https://github.com/commonsense/conceptnet-numberbatch/blob/master/LICENSE.txt',\n",
       "   'parameters': {'dimension': 300},\n",
       "   'description': 'ConceptNet Numberbatch consists of state-of-the-art semantic vectors (also known as word embeddings) that can be used directly as a representation of word meanings or as a starting point for further machine learning. ConceptNet Numberbatch is part of the ConceptNet open data project. ConceptNet provides lots of ways to compute with word meanings, one of which is word embeddings. ConceptNet Numberbatch is a snapshot of just the word embeddings. It is built using an ensemble that combines data from ConceptNet, word2vec, GloVe, and OpenSubtitles 2016, using a variation on retrofitting.',\n",
       "   'read_more': ['http://aaai.org/ocs/index.php/AAAI/AAAI17/paper/view/14972',\n",
       "    'https://github.com/commonsense/conceptnet-numberbatch',\n",
       "    'http://conceptnet.io/'],\n",
       "   'checksum': 'fd642d457adcd0ea94da0cd21b150847',\n",
       "   'file_name': 'conceptnet-numberbatch-17-06-300.gz',\n",
       "   'parts': 1},\n",
       "  'word2vec-ruscorpora-300': {'num_records': 184973,\n",
       "   'file_size': 208427381,\n",
       "   'base_dataset': 'Russian National Corpus (about 250M words)',\n",
       "   'reader_code': 'https://github.com/RaRe-Technologies/gensim-data/releases/download/word2vec-ruscorpora-300/__init__.py',\n",
       "   'license': 'https://creativecommons.org/licenses/by/4.0/deed.en',\n",
       "   'parameters': {'dimension': 300, 'window_size': 10},\n",
       "   'description': 'Word2vec Continuous Skipgram vectors trained on full Russian National Corpus (about 250M words). The model contains 185K words.',\n",
       "   'preprocessing': 'The corpus was lemmatized and tagged with Universal PoS',\n",
       "   'read_more': ['https://www.academia.edu/24306935/WebVectors_a_Toolkit_for_Building_Web_Interfaces_for_Vector_Semantic_Models',\n",
       "    'http://rusvectores.org/en/',\n",
       "    'https://github.com/RaRe-Technologies/gensim-data/issues/3'],\n",
       "   'checksum': '9bdebdc8ae6d17d20839dd9b5af10bc4',\n",
       "   'file_name': 'word2vec-ruscorpora-300.gz',\n",
       "   'parts': 1},\n",
       "  'word2vec-google-news-300': {'num_records': 3000000,\n",
       "   'file_size': 1743563840,\n",
       "   'base_dataset': 'Google News (about 100 billion words)',\n",
       "   'reader_code': 'https://github.com/RaRe-Technologies/gensim-data/releases/download/word2vec-google-news-300/__init__.py',\n",
       "   'license': 'not found',\n",
       "   'parameters': {'dimension': 300},\n",
       "   'description': \"Pre-trained vectors trained on a part of the Google News dataset (about 100 billion words). The model contains 300-dimensional vectors for 3 million words and phrases. The phrases were obtained using a simple data-driven approach described in 'Distributed Representations of Words and Phrases and their Compositionality' (https://code.google.com/archive/p/word2vec/).\",\n",
       "   'read_more': ['https://code.google.com/archive/p/word2vec/',\n",
       "    'https://arxiv.org/abs/1301.3781',\n",
       "    'https://arxiv.org/abs/1310.4546',\n",
       "    'https://www.microsoft.com/en-us/research/publication/linguistic-regularities-in-continuous-space-word-representations/?from=http%3A%2F%2Fresearch.microsoft.com%2Fpubs%2F189726%2Frvecs.pdf'],\n",
       "   'checksum': 'a5e5354d40acb95f9ec66d5977d140ef',\n",
       "   'file_name': 'word2vec-google-news-300.gz',\n",
       "   'parts': 1},\n",
       "  'glove-wiki-gigaword-50': {'num_records': 400000,\n",
       "   'file_size': 69182535,\n",
       "   'base_dataset': 'Wikipedia 2014 + Gigaword 5 (6B tokens, uncased)',\n",
       "   'reader_code': 'https://github.com/RaRe-Technologies/gensim-data/releases/download/glove-wiki-gigaword-50/__init__.py',\n",
       "   'license': 'http://opendatacommons.org/licenses/pddl/',\n",
       "   'parameters': {'dimension': 50},\n",
       "   'description': 'Pre-trained vectors based on Wikipedia 2014 + Gigaword, 5.6B tokens, 400K vocab, uncased (https://nlp.stanford.edu/projects/glove/).',\n",
       "   'preprocessing': 'Converted to w2v format with `python -m gensim.scripts.glove2word2vec -i <fname> -o glove-wiki-gigaword-50.txt`.',\n",
       "   'read_more': ['https://nlp.stanford.edu/projects/glove/',\n",
       "    'https://nlp.stanford.edu/pubs/glove.pdf'],\n",
       "   'checksum': 'c289bc5d7f2f02c6dc9f2f9b67641813',\n",
       "   'file_name': 'glove-wiki-gigaword-50.gz',\n",
       "   'parts': 1},\n",
       "  'glove-wiki-gigaword-100': {'num_records': 400000,\n",
       "   'file_size': 134300434,\n",
       "   'base_dataset': 'Wikipedia 2014 + Gigaword 5 (6B tokens, uncased)',\n",
       "   'reader_code': 'https://github.com/RaRe-Technologies/gensim-data/releases/download/glove-wiki-gigaword-100/__init__.py',\n",
       "   'license': 'http://opendatacommons.org/licenses/pddl/',\n",
       "   'parameters': {'dimension': 100},\n",
       "   'description': 'Pre-trained vectors based on Wikipedia 2014 + Gigaword 5.6B tokens, 400K vocab, uncased (https://nlp.stanford.edu/projects/glove/).',\n",
       "   'preprocessing': 'Converted to w2v format with `python -m gensim.scripts.glove2word2vec -i <fname> -o glove-wiki-gigaword-100.txt`.',\n",
       "   'read_more': ['https://nlp.stanford.edu/projects/glove/',\n",
       "    'https://nlp.stanford.edu/pubs/glove.pdf'],\n",
       "   'checksum': '40ec481866001177b8cd4cb0df92924f',\n",
       "   'file_name': 'glove-wiki-gigaword-100.gz',\n",
       "   'parts': 1},\n",
       "  'glove-wiki-gigaword-200': {'num_records': 400000,\n",
       "   'file_size': 264336934,\n",
       "   'base_dataset': 'Wikipedia 2014 + Gigaword 5 (6B tokens, uncased)',\n",
       "   'reader_code': 'https://github.com/RaRe-Technologies/gensim-data/releases/download/glove-wiki-gigaword-200/__init__.py',\n",
       "   'license': 'http://opendatacommons.org/licenses/pddl/',\n",
       "   'parameters': {'dimension': 200},\n",
       "   'description': 'Pre-trained vectors based on Wikipedia 2014 + Gigaword, 5.6B tokens, 400K vocab, uncased (https://nlp.stanford.edu/projects/glove/).',\n",
       "   'preprocessing': 'Converted to w2v format with `python -m gensim.scripts.glove2word2vec -i <fname> -o glove-wiki-gigaword-200.txt`.',\n",
       "   'read_more': ['https://nlp.stanford.edu/projects/glove/',\n",
       "    'https://nlp.stanford.edu/pubs/glove.pdf'],\n",
       "   'checksum': '59652db361b7a87ee73834a6c391dfc1',\n",
       "   'file_name': 'glove-wiki-gigaword-200.gz',\n",
       "   'parts': 1},\n",
       "  'glove-wiki-gigaword-300': {'num_records': 400000,\n",
       "   'file_size': 394362229,\n",
       "   'base_dataset': 'Wikipedia 2014 + Gigaword 5 (6B tokens, uncased)',\n",
       "   'reader_code': 'https://github.com/RaRe-Technologies/gensim-data/releases/download/glove-wiki-gigaword-300/__init__.py',\n",
       "   'license': 'http://opendatacommons.org/licenses/pddl/',\n",
       "   'parameters': {'dimension': 300},\n",
       "   'description': 'Pre-trained vectors based on Wikipedia 2014 + Gigaword, 5.6B tokens, 400K vocab, uncased (https://nlp.stanford.edu/projects/glove/).',\n",
       "   'preprocessing': 'Converted to w2v format with `python -m gensim.scripts.glove2word2vec -i <fname> -o glove-wiki-gigaword-300.txt`.',\n",
       "   'read_more': ['https://nlp.stanford.edu/projects/glove/',\n",
       "    'https://nlp.stanford.edu/pubs/glove.pdf'],\n",
       "   'checksum': '29e9329ac2241937d55b852e8284e89b',\n",
       "   'file_name': 'glove-wiki-gigaword-300.gz',\n",
       "   'parts': 1},\n",
       "  'glove-twitter-25': {'num_records': 1193514,\n",
       "   'file_size': 109885004,\n",
       "   'base_dataset': 'Twitter (2B tweets, 27B tokens, 1.2M vocab, uncased)',\n",
       "   'reader_code': 'https://github.com/RaRe-Technologies/gensim-data/releases/download/glove-twitter-25/__init__.py',\n",
       "   'license': 'http://opendatacommons.org/licenses/pddl/',\n",
       "   'parameters': {'dimension': 25},\n",
       "   'description': 'Pre-trained vectors based on 2B tweets, 27B tokens, 1.2M vocab, uncased (https://nlp.stanford.edu/projects/glove/).',\n",
       "   'preprocessing': 'Converted to w2v format with `python -m gensim.scripts.glove2word2vec -i <fname> -o glove-twitter-25.txt`.',\n",
       "   'read_more': ['https://nlp.stanford.edu/projects/glove/',\n",
       "    'https://nlp.stanford.edu/pubs/glove.pdf'],\n",
       "   'checksum': '50db0211d7e7a2dcd362c6b774762793',\n",
       "   'file_name': 'glove-twitter-25.gz',\n",
       "   'parts': 1},\n",
       "  'glove-twitter-50': {'num_records': 1193514,\n",
       "   'file_size': 209216938,\n",
       "   'base_dataset': 'Twitter (2B tweets, 27B tokens, 1.2M vocab, uncased)',\n",
       "   'reader_code': 'https://github.com/RaRe-Technologies/gensim-data/releases/download/glove-twitter-50/__init__.py',\n",
       "   'license': 'http://opendatacommons.org/licenses/pddl/',\n",
       "   'parameters': {'dimension': 50},\n",
       "   'description': 'Pre-trained vectors based on 2B tweets, 27B tokens, 1.2M vocab, uncased (https://nlp.stanford.edu/projects/glove/)',\n",
       "   'preprocessing': 'Converted to w2v format with `python -m gensim.scripts.glove2word2vec -i <fname> -o glove-twitter-50.txt`.',\n",
       "   'read_more': ['https://nlp.stanford.edu/projects/glove/',\n",
       "    'https://nlp.stanford.edu/pubs/glove.pdf'],\n",
       "   'checksum': 'c168f18641f8c8a00fe30984c4799b2b',\n",
       "   'file_name': 'glove-twitter-50.gz',\n",
       "   'parts': 1},\n",
       "  'glove-twitter-100': {'num_records': 1193514,\n",
       "   'file_size': 405932991,\n",
       "   'base_dataset': 'Twitter (2B tweets, 27B tokens, 1.2M vocab, uncased)',\n",
       "   'reader_code': 'https://github.com/RaRe-Technologies/gensim-data/releases/download/glove-twitter-100/__init__.py',\n",
       "   'license': 'http://opendatacommons.org/licenses/pddl/',\n",
       "   'parameters': {'dimension': 100},\n",
       "   'description': 'Pre-trained vectors based on  2B tweets, 27B tokens, 1.2M vocab, uncased (https://nlp.stanford.edu/projects/glove/)',\n",
       "   'preprocessing': 'Converted to w2v format with `python -m gensim.scripts.glove2word2vec -i <fname> -o glove-twitter-100.txt`.',\n",
       "   'read_more': ['https://nlp.stanford.edu/projects/glove/',\n",
       "    'https://nlp.stanford.edu/pubs/glove.pdf'],\n",
       "   'checksum': 'b04f7bed38756d64cf55b58ce7e97b15',\n",
       "   'file_name': 'glove-twitter-100.gz',\n",
       "   'parts': 1},\n",
       "  'glove-twitter-200': {'num_records': 1193514,\n",
       "   'file_size': 795373100,\n",
       "   'base_dataset': 'Twitter (2B tweets, 27B tokens, 1.2M vocab, uncased)',\n",
       "   'reader_code': 'https://github.com/RaRe-Technologies/gensim-data/releases/download/glove-twitter-200/__init__.py',\n",
       "   'license': 'http://opendatacommons.org/licenses/pddl/',\n",
       "   'parameters': {'dimension': 200},\n",
       "   'description': 'Pre-trained vectors based on 2B tweets, 27B tokens, 1.2M vocab, uncased (https://nlp.stanford.edu/projects/glove/).',\n",
       "   'preprocessing': 'Converted to w2v format with `python -m gensim.scripts.glove2word2vec -i <fname> -o glove-twitter-200.txt`.',\n",
       "   'read_more': ['https://nlp.stanford.edu/projects/glove/',\n",
       "    'https://nlp.stanford.edu/pubs/glove.pdf'],\n",
       "   'checksum': 'e52e8392d1860b95d5308a525817d8f9',\n",
       "   'file_name': 'glove-twitter-200.gz',\n",
       "   'parts': 1},\n",
       "  '__testing_word2vec-matrix-synopsis': {'description': '[THIS IS ONLY FOR TESTING] Word vecrors of the movie matrix.',\n",
       "   'parameters': {'dimensions': 50},\n",
       "   'preprocessing': 'Converted to w2v using a preprocessed corpus. Converted to w2v format with `python3.5 -m gensim.models.word2vec -train <input_filename> -iter 50 -output <output_filename>`.',\n",
       "   'read_more': [],\n",
       "   'checksum': '534dcb8b56a360977a269b7bfc62d124',\n",
       "   'file_name': '__testing_word2vec-matrix-synopsis.gz',\n",
       "   'parts': 1}}}"
      ]
     },
     "execution_count": 44,
     "metadata": {},
     "output_type": "execute_result"
    }
   ],
   "source": [
    "api.info()"
   ]
  },
  {
   "cell_type": "code",
   "execution_count": 46,
   "metadata": {
    "collapsed": true,
    "jupyter": {
     "outputs_hidden": true
    }
   },
   "outputs": [
    {
     "data": {
      "text/plain": [
       "10"
      ]
     },
     "execution_count": 46,
     "metadata": {},
     "output_type": "execute_result"
    }
   ],
   "source": [
    "len(api.info()[\"corpora\"])"
   ]
  },
  {
   "cell_type": "code",
   "execution_count": 48,
   "metadata": {
    "collapsed": true,
    "jupyter": {
     "outputs_hidden": true
    }
   },
   "outputs": [
    {
     "data": {
      "text/plain": [
       "{'fasttext-wiki-news-subwords-300': {'num_records': 999999,\n",
       "  'file_size': 1005007116,\n",
       "  'base_dataset': 'Wikipedia 2017, UMBC webbase corpus and statmt.org news dataset (16B tokens)',\n",
       "  'reader_code': 'https://github.com/RaRe-Technologies/gensim-data/releases/download/fasttext-wiki-news-subwords-300/__init__.py',\n",
       "  'license': 'https://creativecommons.org/licenses/by-sa/3.0/',\n",
       "  'parameters': {'dimension': 300},\n",
       "  'description': '1 million word vectors trained on Wikipedia 2017, UMBC webbase corpus and statmt.org news dataset (16B tokens).',\n",
       "  'read_more': ['https://fasttext.cc/docs/en/english-vectors.html',\n",
       "   'https://arxiv.org/abs/1712.09405',\n",
       "   'https://arxiv.org/abs/1607.01759'],\n",
       "  'checksum': 'de2bb3a20c46ce65c9c131e1ad9a77af',\n",
       "  'file_name': 'fasttext-wiki-news-subwords-300.gz',\n",
       "  'parts': 1},\n",
       " 'conceptnet-numberbatch-17-06-300': {'num_records': 1917247,\n",
       "  'file_size': 1225497562,\n",
       "  'base_dataset': 'ConceptNet, word2vec, GloVe, and OpenSubtitles 2016',\n",
       "  'reader_code': 'https://github.com/RaRe-Technologies/gensim-data/releases/download/conceptnet-numberbatch-17-06-300/__init__.py',\n",
       "  'license': 'https://github.com/commonsense/conceptnet-numberbatch/blob/master/LICENSE.txt',\n",
       "  'parameters': {'dimension': 300},\n",
       "  'description': 'ConceptNet Numberbatch consists of state-of-the-art semantic vectors (also known as word embeddings) that can be used directly as a representation of word meanings or as a starting point for further machine learning. ConceptNet Numberbatch is part of the ConceptNet open data project. ConceptNet provides lots of ways to compute with word meanings, one of which is word embeddings. ConceptNet Numberbatch is a snapshot of just the word embeddings. It is built using an ensemble that combines data from ConceptNet, word2vec, GloVe, and OpenSubtitles 2016, using a variation on retrofitting.',\n",
       "  'read_more': ['http://aaai.org/ocs/index.php/AAAI/AAAI17/paper/view/14972',\n",
       "   'https://github.com/commonsense/conceptnet-numberbatch',\n",
       "   'http://conceptnet.io/'],\n",
       "  'checksum': 'fd642d457adcd0ea94da0cd21b150847',\n",
       "  'file_name': 'conceptnet-numberbatch-17-06-300.gz',\n",
       "  'parts': 1},\n",
       " 'word2vec-ruscorpora-300': {'num_records': 184973,\n",
       "  'file_size': 208427381,\n",
       "  'base_dataset': 'Russian National Corpus (about 250M words)',\n",
       "  'reader_code': 'https://github.com/RaRe-Technologies/gensim-data/releases/download/word2vec-ruscorpora-300/__init__.py',\n",
       "  'license': 'https://creativecommons.org/licenses/by/4.0/deed.en',\n",
       "  'parameters': {'dimension': 300, 'window_size': 10},\n",
       "  'description': 'Word2vec Continuous Skipgram vectors trained on full Russian National Corpus (about 250M words). The model contains 185K words.',\n",
       "  'preprocessing': 'The corpus was lemmatized and tagged with Universal PoS',\n",
       "  'read_more': ['https://www.academia.edu/24306935/WebVectors_a_Toolkit_for_Building_Web_Interfaces_for_Vector_Semantic_Models',\n",
       "   'http://rusvectores.org/en/',\n",
       "   'https://github.com/RaRe-Technologies/gensim-data/issues/3'],\n",
       "  'checksum': '9bdebdc8ae6d17d20839dd9b5af10bc4',\n",
       "  'file_name': 'word2vec-ruscorpora-300.gz',\n",
       "  'parts': 1},\n",
       " 'word2vec-google-news-300': {'num_records': 3000000,\n",
       "  'file_size': 1743563840,\n",
       "  'base_dataset': 'Google News (about 100 billion words)',\n",
       "  'reader_code': 'https://github.com/RaRe-Technologies/gensim-data/releases/download/word2vec-google-news-300/__init__.py',\n",
       "  'license': 'not found',\n",
       "  'parameters': {'dimension': 300},\n",
       "  'description': \"Pre-trained vectors trained on a part of the Google News dataset (about 100 billion words). The model contains 300-dimensional vectors for 3 million words and phrases. The phrases were obtained using a simple data-driven approach described in 'Distributed Representations of Words and Phrases and their Compositionality' (https://code.google.com/archive/p/word2vec/).\",\n",
       "  'read_more': ['https://code.google.com/archive/p/word2vec/',\n",
       "   'https://arxiv.org/abs/1301.3781',\n",
       "   'https://arxiv.org/abs/1310.4546',\n",
       "   'https://www.microsoft.com/en-us/research/publication/linguistic-regularities-in-continuous-space-word-representations/?from=http%3A%2F%2Fresearch.microsoft.com%2Fpubs%2F189726%2Frvecs.pdf'],\n",
       "  'checksum': 'a5e5354d40acb95f9ec66d5977d140ef',\n",
       "  'file_name': 'word2vec-google-news-300.gz',\n",
       "  'parts': 1},\n",
       " 'glove-wiki-gigaword-50': {'num_records': 400000,\n",
       "  'file_size': 69182535,\n",
       "  'base_dataset': 'Wikipedia 2014 + Gigaword 5 (6B tokens, uncased)',\n",
       "  'reader_code': 'https://github.com/RaRe-Technologies/gensim-data/releases/download/glove-wiki-gigaword-50/__init__.py',\n",
       "  'license': 'http://opendatacommons.org/licenses/pddl/',\n",
       "  'parameters': {'dimension': 50},\n",
       "  'description': 'Pre-trained vectors based on Wikipedia 2014 + Gigaword, 5.6B tokens, 400K vocab, uncased (https://nlp.stanford.edu/projects/glove/).',\n",
       "  'preprocessing': 'Converted to w2v format with `python -m gensim.scripts.glove2word2vec -i <fname> -o glove-wiki-gigaword-50.txt`.',\n",
       "  'read_more': ['https://nlp.stanford.edu/projects/glove/',\n",
       "   'https://nlp.stanford.edu/pubs/glove.pdf'],\n",
       "  'checksum': 'c289bc5d7f2f02c6dc9f2f9b67641813',\n",
       "  'file_name': 'glove-wiki-gigaword-50.gz',\n",
       "  'parts': 1},\n",
       " 'glove-wiki-gigaword-100': {'num_records': 400000,\n",
       "  'file_size': 134300434,\n",
       "  'base_dataset': 'Wikipedia 2014 + Gigaword 5 (6B tokens, uncased)',\n",
       "  'reader_code': 'https://github.com/RaRe-Technologies/gensim-data/releases/download/glove-wiki-gigaword-100/__init__.py',\n",
       "  'license': 'http://opendatacommons.org/licenses/pddl/',\n",
       "  'parameters': {'dimension': 100},\n",
       "  'description': 'Pre-trained vectors based on Wikipedia 2014 + Gigaword 5.6B tokens, 400K vocab, uncased (https://nlp.stanford.edu/projects/glove/).',\n",
       "  'preprocessing': 'Converted to w2v format with `python -m gensim.scripts.glove2word2vec -i <fname> -o glove-wiki-gigaword-100.txt`.',\n",
       "  'read_more': ['https://nlp.stanford.edu/projects/glove/',\n",
       "   'https://nlp.stanford.edu/pubs/glove.pdf'],\n",
       "  'checksum': '40ec481866001177b8cd4cb0df92924f',\n",
       "  'file_name': 'glove-wiki-gigaword-100.gz',\n",
       "  'parts': 1},\n",
       " 'glove-wiki-gigaword-200': {'num_records': 400000,\n",
       "  'file_size': 264336934,\n",
       "  'base_dataset': 'Wikipedia 2014 + Gigaword 5 (6B tokens, uncased)',\n",
       "  'reader_code': 'https://github.com/RaRe-Technologies/gensim-data/releases/download/glove-wiki-gigaword-200/__init__.py',\n",
       "  'license': 'http://opendatacommons.org/licenses/pddl/',\n",
       "  'parameters': {'dimension': 200},\n",
       "  'description': 'Pre-trained vectors based on Wikipedia 2014 + Gigaword, 5.6B tokens, 400K vocab, uncased (https://nlp.stanford.edu/projects/glove/).',\n",
       "  'preprocessing': 'Converted to w2v format with `python -m gensim.scripts.glove2word2vec -i <fname> -o glove-wiki-gigaword-200.txt`.',\n",
       "  'read_more': ['https://nlp.stanford.edu/projects/glove/',\n",
       "   'https://nlp.stanford.edu/pubs/glove.pdf'],\n",
       "  'checksum': '59652db361b7a87ee73834a6c391dfc1',\n",
       "  'file_name': 'glove-wiki-gigaword-200.gz',\n",
       "  'parts': 1},\n",
       " 'glove-wiki-gigaword-300': {'num_records': 400000,\n",
       "  'file_size': 394362229,\n",
       "  'base_dataset': 'Wikipedia 2014 + Gigaword 5 (6B tokens, uncased)',\n",
       "  'reader_code': 'https://github.com/RaRe-Technologies/gensim-data/releases/download/glove-wiki-gigaword-300/__init__.py',\n",
       "  'license': 'http://opendatacommons.org/licenses/pddl/',\n",
       "  'parameters': {'dimension': 300},\n",
       "  'description': 'Pre-trained vectors based on Wikipedia 2014 + Gigaword, 5.6B tokens, 400K vocab, uncased (https://nlp.stanford.edu/projects/glove/).',\n",
       "  'preprocessing': 'Converted to w2v format with `python -m gensim.scripts.glove2word2vec -i <fname> -o glove-wiki-gigaword-300.txt`.',\n",
       "  'read_more': ['https://nlp.stanford.edu/projects/glove/',\n",
       "   'https://nlp.stanford.edu/pubs/glove.pdf'],\n",
       "  'checksum': '29e9329ac2241937d55b852e8284e89b',\n",
       "  'file_name': 'glove-wiki-gigaword-300.gz',\n",
       "  'parts': 1},\n",
       " 'glove-twitter-25': {'num_records': 1193514,\n",
       "  'file_size': 109885004,\n",
       "  'base_dataset': 'Twitter (2B tweets, 27B tokens, 1.2M vocab, uncased)',\n",
       "  'reader_code': 'https://github.com/RaRe-Technologies/gensim-data/releases/download/glove-twitter-25/__init__.py',\n",
       "  'license': 'http://opendatacommons.org/licenses/pddl/',\n",
       "  'parameters': {'dimension': 25},\n",
       "  'description': 'Pre-trained vectors based on 2B tweets, 27B tokens, 1.2M vocab, uncased (https://nlp.stanford.edu/projects/glove/).',\n",
       "  'preprocessing': 'Converted to w2v format with `python -m gensim.scripts.glove2word2vec -i <fname> -o glove-twitter-25.txt`.',\n",
       "  'read_more': ['https://nlp.stanford.edu/projects/glove/',\n",
       "   'https://nlp.stanford.edu/pubs/glove.pdf'],\n",
       "  'checksum': '50db0211d7e7a2dcd362c6b774762793',\n",
       "  'file_name': 'glove-twitter-25.gz',\n",
       "  'parts': 1},\n",
       " 'glove-twitter-50': {'num_records': 1193514,\n",
       "  'file_size': 209216938,\n",
       "  'base_dataset': 'Twitter (2B tweets, 27B tokens, 1.2M vocab, uncased)',\n",
       "  'reader_code': 'https://github.com/RaRe-Technologies/gensim-data/releases/download/glove-twitter-50/__init__.py',\n",
       "  'license': 'http://opendatacommons.org/licenses/pddl/',\n",
       "  'parameters': {'dimension': 50},\n",
       "  'description': 'Pre-trained vectors based on 2B tweets, 27B tokens, 1.2M vocab, uncased (https://nlp.stanford.edu/projects/glove/)',\n",
       "  'preprocessing': 'Converted to w2v format with `python -m gensim.scripts.glove2word2vec -i <fname> -o glove-twitter-50.txt`.',\n",
       "  'read_more': ['https://nlp.stanford.edu/projects/glove/',\n",
       "   'https://nlp.stanford.edu/pubs/glove.pdf'],\n",
       "  'checksum': 'c168f18641f8c8a00fe30984c4799b2b',\n",
       "  'file_name': 'glove-twitter-50.gz',\n",
       "  'parts': 1},\n",
       " 'glove-twitter-100': {'num_records': 1193514,\n",
       "  'file_size': 405932991,\n",
       "  'base_dataset': 'Twitter (2B tweets, 27B tokens, 1.2M vocab, uncased)',\n",
       "  'reader_code': 'https://github.com/RaRe-Technologies/gensim-data/releases/download/glove-twitter-100/__init__.py',\n",
       "  'license': 'http://opendatacommons.org/licenses/pddl/',\n",
       "  'parameters': {'dimension': 100},\n",
       "  'description': 'Pre-trained vectors based on  2B tweets, 27B tokens, 1.2M vocab, uncased (https://nlp.stanford.edu/projects/glove/)',\n",
       "  'preprocessing': 'Converted to w2v format with `python -m gensim.scripts.glove2word2vec -i <fname> -o glove-twitter-100.txt`.',\n",
       "  'read_more': ['https://nlp.stanford.edu/projects/glove/',\n",
       "   'https://nlp.stanford.edu/pubs/glove.pdf'],\n",
       "  'checksum': 'b04f7bed38756d64cf55b58ce7e97b15',\n",
       "  'file_name': 'glove-twitter-100.gz',\n",
       "  'parts': 1},\n",
       " 'glove-twitter-200': {'num_records': 1193514,\n",
       "  'file_size': 795373100,\n",
       "  'base_dataset': 'Twitter (2B tweets, 27B tokens, 1.2M vocab, uncased)',\n",
       "  'reader_code': 'https://github.com/RaRe-Technologies/gensim-data/releases/download/glove-twitter-200/__init__.py',\n",
       "  'license': 'http://opendatacommons.org/licenses/pddl/',\n",
       "  'parameters': {'dimension': 200},\n",
       "  'description': 'Pre-trained vectors based on 2B tweets, 27B tokens, 1.2M vocab, uncased (https://nlp.stanford.edu/projects/glove/).',\n",
       "  'preprocessing': 'Converted to w2v format with `python -m gensim.scripts.glove2word2vec -i <fname> -o glove-twitter-200.txt`.',\n",
       "  'read_more': ['https://nlp.stanford.edu/projects/glove/',\n",
       "   'https://nlp.stanford.edu/pubs/glove.pdf'],\n",
       "  'checksum': 'e52e8392d1860b95d5308a525817d8f9',\n",
       "  'file_name': 'glove-twitter-200.gz',\n",
       "  'parts': 1},\n",
       " '__testing_word2vec-matrix-synopsis': {'description': '[THIS IS ONLY FOR TESTING] Word vecrors of the movie matrix.',\n",
       "  'parameters': {'dimensions': 50},\n",
       "  'preprocessing': 'Converted to w2v using a preprocessed corpus. Converted to w2v format with `python3.5 -m gensim.models.word2vec -train <input_filename> -iter 50 -output <output_filename>`.',\n",
       "  'read_more': [],\n",
       "  'checksum': '534dcb8b56a360977a269b7bfc62d124',\n",
       "  'file_name': '__testing_word2vec-matrix-synopsis.gz',\n",
       "  'parts': 1}}"
      ]
     },
     "execution_count": 48,
     "metadata": {},
     "output_type": "execute_result"
    }
   ],
   "source": [
    "api.info()[\"models\"]"
   ]
  },
  {
   "cell_type": "code",
   "execution_count": 49,
   "metadata": {},
   "outputs": [
    {
     "name": "stdout",
     "output_type": "stream",
     "text": [
      "[--------------------------------------------------] 0.0% 0.0/1662.8MB downloaded"
     ]
    },
    {
     "ename": "KeyboardInterrupt",
     "evalue": "",
     "output_type": "error",
     "traceback": [
      "\u001b[0;31m---------------------------------------------------------------------------\u001b[0m",
      "\u001b[0;31mKeyboardInterrupt\u001b[0m                         Traceback (most recent call last)",
      "\u001b[0;32m<ipython-input-49-3ad8fb980b1b>\u001b[0m in \u001b[0;36m<module>\u001b[0;34m\u001b[0m\n\u001b[0;32m----> 1\u001b[0;31m \u001b[0mpretrained\u001b[0m \u001b[0;34m=\u001b[0m \u001b[0mapi\u001b[0m\u001b[0;34m.\u001b[0m\u001b[0mload\u001b[0m\u001b[0;34m(\u001b[0m\u001b[0;34m'word2vec-google-news-300'\u001b[0m\u001b[0;34m)\u001b[0m\u001b[0;34m\u001b[0m\u001b[0;34m\u001b[0m\u001b[0m\n\u001b[0m",
      "\u001b[0;32m~/projects/simcube/venv/lib/python3.8/site-packages/gensim/downloader.py\u001b[0m in \u001b[0;36mload\u001b[0;34m(name, return_path)\u001b[0m\n\u001b[1;32m    493\u001b[0m     \u001b[0mpath\u001b[0m \u001b[0;34m=\u001b[0m \u001b[0mos\u001b[0m\u001b[0;34m.\u001b[0m\u001b[0mpath\u001b[0m\u001b[0;34m.\u001b[0m\u001b[0mjoin\u001b[0m\u001b[0;34m(\u001b[0m\u001b[0mfolder_dir\u001b[0m\u001b[0;34m,\u001b[0m \u001b[0mfile_name\u001b[0m\u001b[0;34m)\u001b[0m\u001b[0;34m\u001b[0m\u001b[0;34m\u001b[0m\u001b[0m\n\u001b[1;32m    494\u001b[0m     \u001b[0;32mif\u001b[0m \u001b[0;32mnot\u001b[0m \u001b[0mos\u001b[0m\u001b[0;34m.\u001b[0m\u001b[0mpath\u001b[0m\u001b[0;34m.\u001b[0m\u001b[0mexists\u001b[0m\u001b[0;34m(\u001b[0m\u001b[0mfolder_dir\u001b[0m\u001b[0;34m)\u001b[0m\u001b[0;34m:\u001b[0m\u001b[0;34m\u001b[0m\u001b[0;34m\u001b[0m\u001b[0m\n\u001b[0;32m--> 495\u001b[0;31m         \u001b[0m_download\u001b[0m\u001b[0;34m(\u001b[0m\u001b[0mname\u001b[0m\u001b[0;34m)\u001b[0m\u001b[0;34m\u001b[0m\u001b[0;34m\u001b[0m\u001b[0m\n\u001b[0m\u001b[1;32m    496\u001b[0m \u001b[0;34m\u001b[0m\u001b[0m\n\u001b[1;32m    497\u001b[0m     \u001b[0;32mif\u001b[0m \u001b[0mreturn_path\u001b[0m\u001b[0;34m:\u001b[0m\u001b[0;34m\u001b[0m\u001b[0;34m\u001b[0m\u001b[0m\n",
      "\u001b[0;32m~/projects/simcube/venv/lib/python3.8/site-packages/gensim/downloader.py\u001b[0m in \u001b[0;36m_download\u001b[0;34m(name)\u001b[0m\n\u001b[1;32m    393\u001b[0m         \u001b[0mfname\u001b[0m \u001b[0;34m=\u001b[0m \u001b[0;34m\"{fname}.gz\"\u001b[0m\u001b[0;34m.\u001b[0m\u001b[0mformat\u001b[0m\u001b[0;34m(\u001b[0m\u001b[0mfname\u001b[0m\u001b[0;34m=\u001b[0m\u001b[0mname\u001b[0m\u001b[0;34m)\u001b[0m\u001b[0;34m\u001b[0m\u001b[0;34m\u001b[0m\u001b[0m\n\u001b[1;32m    394\u001b[0m         \u001b[0mdst_path\u001b[0m \u001b[0;34m=\u001b[0m \u001b[0mos\u001b[0m\u001b[0;34m.\u001b[0m\u001b[0mpath\u001b[0m\u001b[0;34m.\u001b[0m\u001b[0mjoin\u001b[0m\u001b[0;34m(\u001b[0m\u001b[0mtmp_dir\u001b[0m\u001b[0;34m,\u001b[0m \u001b[0mfname\u001b[0m\u001b[0;34m)\u001b[0m\u001b[0;34m\u001b[0m\u001b[0;34m\u001b[0m\u001b[0m\n\u001b[0;32m--> 395\u001b[0;31m         \u001b[0murllib\u001b[0m\u001b[0;34m.\u001b[0m\u001b[0murlretrieve\u001b[0m\u001b[0;34m(\u001b[0m\u001b[0murl_data\u001b[0m\u001b[0;34m,\u001b[0m \u001b[0mdst_path\u001b[0m\u001b[0;34m,\u001b[0m \u001b[0mreporthook\u001b[0m\u001b[0;34m=\u001b[0m\u001b[0m_progress\u001b[0m\u001b[0;34m)\u001b[0m\u001b[0;34m\u001b[0m\u001b[0;34m\u001b[0m\u001b[0m\n\u001b[0m\u001b[1;32m    396\u001b[0m         \u001b[0;32mif\u001b[0m \u001b[0m_calculate_md5_checksum\u001b[0m\u001b[0;34m(\u001b[0m\u001b[0mdst_path\u001b[0m\u001b[0;34m)\u001b[0m \u001b[0;34m==\u001b[0m \u001b[0m_get_checksum\u001b[0m\u001b[0;34m(\u001b[0m\u001b[0mname\u001b[0m\u001b[0;34m)\u001b[0m\u001b[0;34m:\u001b[0m\u001b[0;34m\u001b[0m\u001b[0;34m\u001b[0m\u001b[0m\n\u001b[1;32m    397\u001b[0m             \u001b[0msys\u001b[0m\u001b[0;34m.\u001b[0m\u001b[0mstdout\u001b[0m\u001b[0;34m.\u001b[0m\u001b[0mwrite\u001b[0m\u001b[0;34m(\u001b[0m\u001b[0;34m\"\\n\"\u001b[0m\u001b[0;34m)\u001b[0m\u001b[0;34m\u001b[0m\u001b[0;34m\u001b[0m\u001b[0m\n",
      "\u001b[0;32m/usr/local/lib/python3.8/urllib/request.py\u001b[0m in \u001b[0;36murlretrieve\u001b[0;34m(url, filename, reporthook, data)\u001b[0m\n\u001b[1;32m    274\u001b[0m \u001b[0;34m\u001b[0m\u001b[0m\n\u001b[1;32m    275\u001b[0m             \u001b[0;32mwhile\u001b[0m \u001b[0;32mTrue\u001b[0m\u001b[0;34m:\u001b[0m\u001b[0;34m\u001b[0m\u001b[0;34m\u001b[0m\u001b[0m\n\u001b[0;32m--> 276\u001b[0;31m                 \u001b[0mblock\u001b[0m \u001b[0;34m=\u001b[0m \u001b[0mfp\u001b[0m\u001b[0;34m.\u001b[0m\u001b[0mread\u001b[0m\u001b[0;34m(\u001b[0m\u001b[0mbs\u001b[0m\u001b[0;34m)\u001b[0m\u001b[0;34m\u001b[0m\u001b[0;34m\u001b[0m\u001b[0m\n\u001b[0m\u001b[1;32m    277\u001b[0m                 \u001b[0;32mif\u001b[0m \u001b[0;32mnot\u001b[0m \u001b[0mblock\u001b[0m\u001b[0;34m:\u001b[0m\u001b[0;34m\u001b[0m\u001b[0;34m\u001b[0m\u001b[0m\n\u001b[1;32m    278\u001b[0m                     \u001b[0;32mbreak\u001b[0m\u001b[0;34m\u001b[0m\u001b[0;34m\u001b[0m\u001b[0m\n",
      "\u001b[0;32m/usr/local/lib/python3.8/http/client.py\u001b[0m in \u001b[0;36mread\u001b[0;34m(self, amt)\u001b[0m\n\u001b[1;32m    452\u001b[0m             \u001b[0;31m# Amount is given, implement using readinto\u001b[0m\u001b[0;34m\u001b[0m\u001b[0;34m\u001b[0m\u001b[0;34m\u001b[0m\u001b[0m\n\u001b[1;32m    453\u001b[0m             \u001b[0mb\u001b[0m \u001b[0;34m=\u001b[0m \u001b[0mbytearray\u001b[0m\u001b[0;34m(\u001b[0m\u001b[0mamt\u001b[0m\u001b[0;34m)\u001b[0m\u001b[0;34m\u001b[0m\u001b[0;34m\u001b[0m\u001b[0m\n\u001b[0;32m--> 454\u001b[0;31m             \u001b[0mn\u001b[0m \u001b[0;34m=\u001b[0m \u001b[0mself\u001b[0m\u001b[0;34m.\u001b[0m\u001b[0mreadinto\u001b[0m\u001b[0;34m(\u001b[0m\u001b[0mb\u001b[0m\u001b[0;34m)\u001b[0m\u001b[0;34m\u001b[0m\u001b[0;34m\u001b[0m\u001b[0m\n\u001b[0m\u001b[1;32m    455\u001b[0m             \u001b[0;32mreturn\u001b[0m \u001b[0mmemoryview\u001b[0m\u001b[0;34m(\u001b[0m\u001b[0mb\u001b[0m\u001b[0;34m)\u001b[0m\u001b[0;34m[\u001b[0m\u001b[0;34m:\u001b[0m\u001b[0mn\u001b[0m\u001b[0;34m]\u001b[0m\u001b[0;34m.\u001b[0m\u001b[0mtobytes\u001b[0m\u001b[0;34m(\u001b[0m\u001b[0;34m)\u001b[0m\u001b[0;34m\u001b[0m\u001b[0;34m\u001b[0m\u001b[0m\n\u001b[1;32m    456\u001b[0m         \u001b[0;32melse\u001b[0m\u001b[0;34m:\u001b[0m\u001b[0;34m\u001b[0m\u001b[0;34m\u001b[0m\u001b[0m\n",
      "\u001b[0;32m/usr/local/lib/python3.8/http/client.py\u001b[0m in \u001b[0;36mreadinto\u001b[0;34m(self, b)\u001b[0m\n\u001b[1;32m    496\u001b[0m         \u001b[0;31m# connection, and the user is reading more bytes than will be provided\u001b[0m\u001b[0;34m\u001b[0m\u001b[0;34m\u001b[0m\u001b[0;34m\u001b[0m\u001b[0m\n\u001b[1;32m    497\u001b[0m         \u001b[0;31m# (for example, reading in 1k chunks)\u001b[0m\u001b[0;34m\u001b[0m\u001b[0;34m\u001b[0m\u001b[0;34m\u001b[0m\u001b[0m\n\u001b[0;32m--> 498\u001b[0;31m         \u001b[0mn\u001b[0m \u001b[0;34m=\u001b[0m \u001b[0mself\u001b[0m\u001b[0;34m.\u001b[0m\u001b[0mfp\u001b[0m\u001b[0;34m.\u001b[0m\u001b[0mreadinto\u001b[0m\u001b[0;34m(\u001b[0m\u001b[0mb\u001b[0m\u001b[0;34m)\u001b[0m\u001b[0;34m\u001b[0m\u001b[0;34m\u001b[0m\u001b[0m\n\u001b[0m\u001b[1;32m    499\u001b[0m         \u001b[0;32mif\u001b[0m \u001b[0;32mnot\u001b[0m \u001b[0mn\u001b[0m \u001b[0;32mand\u001b[0m \u001b[0mb\u001b[0m\u001b[0;34m:\u001b[0m\u001b[0;34m\u001b[0m\u001b[0;34m\u001b[0m\u001b[0m\n\u001b[1;32m    500\u001b[0m             \u001b[0;31m# Ideally, we would raise IncompleteRead if the content-length\u001b[0m\u001b[0;34m\u001b[0m\u001b[0;34m\u001b[0m\u001b[0;34m\u001b[0m\u001b[0m\n",
      "\u001b[0;32m/usr/local/lib/python3.8/socket.py\u001b[0m in \u001b[0;36mreadinto\u001b[0;34m(self, b)\u001b[0m\n\u001b[1;32m    667\u001b[0m         \u001b[0;32mwhile\u001b[0m \u001b[0;32mTrue\u001b[0m\u001b[0;34m:\u001b[0m\u001b[0;34m\u001b[0m\u001b[0;34m\u001b[0m\u001b[0m\n\u001b[1;32m    668\u001b[0m             \u001b[0;32mtry\u001b[0m\u001b[0;34m:\u001b[0m\u001b[0;34m\u001b[0m\u001b[0;34m\u001b[0m\u001b[0m\n\u001b[0;32m--> 669\u001b[0;31m                 \u001b[0;32mreturn\u001b[0m \u001b[0mself\u001b[0m\u001b[0;34m.\u001b[0m\u001b[0m_sock\u001b[0m\u001b[0;34m.\u001b[0m\u001b[0mrecv_into\u001b[0m\u001b[0;34m(\u001b[0m\u001b[0mb\u001b[0m\u001b[0;34m)\u001b[0m\u001b[0;34m\u001b[0m\u001b[0;34m\u001b[0m\u001b[0m\n\u001b[0m\u001b[1;32m    670\u001b[0m             \u001b[0;32mexcept\u001b[0m \u001b[0mtimeout\u001b[0m\u001b[0;34m:\u001b[0m\u001b[0;34m\u001b[0m\u001b[0;34m\u001b[0m\u001b[0m\n\u001b[1;32m    671\u001b[0m                 \u001b[0mself\u001b[0m\u001b[0;34m.\u001b[0m\u001b[0m_timeout_occurred\u001b[0m \u001b[0;34m=\u001b[0m \u001b[0;32mTrue\u001b[0m\u001b[0;34m\u001b[0m\u001b[0;34m\u001b[0m\u001b[0m\n",
      "\u001b[0;32m/usr/local/lib/python3.8/ssl.py\u001b[0m in \u001b[0;36mrecv_into\u001b[0;34m(self, buffer, nbytes, flags)\u001b[0m\n\u001b[1;32m   1239\u001b[0m                   \u001b[0;34m\"non-zero flags not allowed in calls to recv_into() on %s\"\u001b[0m \u001b[0;34m%\u001b[0m\u001b[0;34m\u001b[0m\u001b[0;34m\u001b[0m\u001b[0m\n\u001b[1;32m   1240\u001b[0m                   self.__class__)\n\u001b[0;32m-> 1241\u001b[0;31m             \u001b[0;32mreturn\u001b[0m \u001b[0mself\u001b[0m\u001b[0;34m.\u001b[0m\u001b[0mread\u001b[0m\u001b[0;34m(\u001b[0m\u001b[0mnbytes\u001b[0m\u001b[0;34m,\u001b[0m \u001b[0mbuffer\u001b[0m\u001b[0;34m)\u001b[0m\u001b[0;34m\u001b[0m\u001b[0;34m\u001b[0m\u001b[0m\n\u001b[0m\u001b[1;32m   1242\u001b[0m         \u001b[0;32melse\u001b[0m\u001b[0;34m:\u001b[0m\u001b[0;34m\u001b[0m\u001b[0;34m\u001b[0m\u001b[0m\n\u001b[1;32m   1243\u001b[0m             \u001b[0;32mreturn\u001b[0m \u001b[0msuper\u001b[0m\u001b[0;34m(\u001b[0m\u001b[0;34m)\u001b[0m\u001b[0;34m.\u001b[0m\u001b[0mrecv_into\u001b[0m\u001b[0;34m(\u001b[0m\u001b[0mbuffer\u001b[0m\u001b[0;34m,\u001b[0m \u001b[0mnbytes\u001b[0m\u001b[0;34m,\u001b[0m \u001b[0mflags\u001b[0m\u001b[0;34m)\u001b[0m\u001b[0;34m\u001b[0m\u001b[0;34m\u001b[0m\u001b[0m\n",
      "\u001b[0;32m/usr/local/lib/python3.8/ssl.py\u001b[0m in \u001b[0;36mread\u001b[0;34m(self, len, buffer)\u001b[0m\n\u001b[1;32m   1097\u001b[0m         \u001b[0;32mtry\u001b[0m\u001b[0;34m:\u001b[0m\u001b[0;34m\u001b[0m\u001b[0;34m\u001b[0m\u001b[0m\n\u001b[1;32m   1098\u001b[0m             \u001b[0;32mif\u001b[0m \u001b[0mbuffer\u001b[0m \u001b[0;32mis\u001b[0m \u001b[0;32mnot\u001b[0m \u001b[0;32mNone\u001b[0m\u001b[0;34m:\u001b[0m\u001b[0;34m\u001b[0m\u001b[0;34m\u001b[0m\u001b[0m\n\u001b[0;32m-> 1099\u001b[0;31m                 \u001b[0;32mreturn\u001b[0m \u001b[0mself\u001b[0m\u001b[0;34m.\u001b[0m\u001b[0m_sslobj\u001b[0m\u001b[0;34m.\u001b[0m\u001b[0mread\u001b[0m\u001b[0;34m(\u001b[0m\u001b[0mlen\u001b[0m\u001b[0;34m,\u001b[0m \u001b[0mbuffer\u001b[0m\u001b[0;34m)\u001b[0m\u001b[0;34m\u001b[0m\u001b[0;34m\u001b[0m\u001b[0m\n\u001b[0m\u001b[1;32m   1100\u001b[0m             \u001b[0;32melse\u001b[0m\u001b[0;34m:\u001b[0m\u001b[0;34m\u001b[0m\u001b[0;34m\u001b[0m\u001b[0m\n\u001b[1;32m   1101\u001b[0m                 \u001b[0;32mreturn\u001b[0m \u001b[0mself\u001b[0m\u001b[0;34m.\u001b[0m\u001b[0m_sslobj\u001b[0m\u001b[0;34m.\u001b[0m\u001b[0mread\u001b[0m\u001b[0;34m(\u001b[0m\u001b[0mlen\u001b[0m\u001b[0;34m)\u001b[0m\u001b[0;34m\u001b[0m\u001b[0;34m\u001b[0m\u001b[0m\n",
      "\u001b[0;31mKeyboardInterrupt\u001b[0m: "
     ]
    }
   ],
   "source": [
    "pretrained = api.load('word2vec-google-news-300')"
   ]
  },
  {
   "cell_type": "code",
   "execution_count": null,
   "metadata": {},
   "outputs": [],
   "source": [
    "pretrained.most_similar('cheese')"
   ]
  },
  {
   "cell_type": "code",
   "execution_count": null,
   "metadata": {},
   "outputs": [],
   "source": [
    "pretrained.most_similar(positive=['man', 'queen'], negative=['king'])"
   ]
  },
  {
   "cell_type": "code",
   "execution_count": null,
   "metadata": {},
   "outputs": [],
   "source": [
    "pretrained_words = [w for w in test_words if w in pretrained.vocab]\n",
    "pretrained_vectors = np.stack([pretrained[w] for w in pretrained_words])"
   ]
  },
  {
   "cell_type": "code",
   "execution_count": null,
   "metadata": {},
   "outputs": [],
   "source": [
    "fig, ax = plt.subplots()\n",
    "fig.set_size_inches((10, 10))\n",
    "plot_vectors(pretrained_vectors, test_words, how='svd', ax=ax)"
   ]
  },
  {
   "cell_type": "markdown",
   "metadata": {},
   "source": [
    "## Заключение\n",
    "Реализовали Skip Gram Negative Sampling на PyTorch\n",
    "\n",
    "Обучили на корпусе рецептов\n",
    "\n",
    "Сходство слов модель выучила неплохо\n",
    "\n",
    "Для аналогий мало данных\n",
    "\n",
    "Обучили SGNS с помощью библиотеки Gensim\n",
    "\n",
    "Загрузили веса Word2Vec, полученные с помощью большого корпуса (GoogleNews)\n",
    "\n",
    "Списки похожих слов отличаются!\n",
    "\n",
    "Аналогии работают"
   ]
  },
  {
   "cell_type": "code",
   "execution_count": null,
   "metadata": {},
   "outputs": [],
   "source": []
  },
  {
   "cell_type": "code",
   "execution_count": null,
   "metadata": {},
   "outputs": [],
   "source": []
  }
 ],
 "metadata": {
  "kernelspec": {
   "display_name": "Python 3",
   "language": "python",
   "name": "python3"
  },
  "language_info": {
   "codemirror_mode": {
    "name": "ipython",
    "version": 3
   },
   "file_extension": ".py",
   "mimetype": "text/x-python",
   "name": "python",
   "nbconvert_exporter": "python",
   "pygments_lexer": "ipython3",
   "version": "3.8.1"
  }
 },
 "nbformat": 4,
 "nbformat_minor": 4
}
