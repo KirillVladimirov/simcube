{
 "cells": [
  {
   "cell_type": "code",
   "execution_count": 1,
   "metadata": {},
   "outputs": [],
   "source": [
    "import torch\n",
    "import torch.nn as nn\n",
    "import torch.optim as optim\n",
    "import torch.nn.functional as F\n",
    "from torchtext.data import Field, BucketIterator\n",
    "\n",
    "import matplotlib.pyplot as plt\n",
    "import matplotlib.ticker as ticker\n",
    "\n",
    "import spacy\n",
    "import pandas as pd\n",
    "\n",
    "import random\n",
    "import math\n",
    "import time"
   ]
  },
  {
   "cell_type": "code",
   "execution_count": 2,
   "metadata": {},
   "outputs": [
    {
     "data": {
      "text/html": [
       "<div>\n",
       "<style scoped>\n",
       "    .dataframe tbody tr th:only-of-type {\n",
       "        vertical-align: middle;\n",
       "    }\n",
       "\n",
       "    .dataframe tbody tr th {\n",
       "        vertical-align: top;\n",
       "    }\n",
       "\n",
       "    .dataframe thead th {\n",
       "        text-align: right;\n",
       "    }\n",
       "</style>\n",
       "<table border=\"1\" class=\"dataframe\">\n",
       "  <thead>\n",
       "    <tr style=\"text-align: right;\">\n",
       "      <th></th>\n",
       "      <th>abstract</th>\n",
       "      <th>title</th>\n",
       "    </tr>\n",
       "  </thead>\n",
       "  <tbody>\n",
       "    <tr>\n",
       "      <th>0</th>\n",
       "      <td>we consider the problem of utility maximizatio...</td>\n",
       "      <td>on optimal investment with processes of long o...</td>\n",
       "    </tr>\n",
       "    <tr>\n",
       "      <th>1</th>\n",
       "      <td>in this paper we provide an explicit formula f...</td>\n",
       "      <td>boolean complexes for ferrers graphs</td>\n",
       "    </tr>\n",
       "    <tr>\n",
       "      <th>2</th>\n",
       "      <td>kinesin-5, also known as eg5 in vertebrates is...</td>\n",
       "      <td>relative velocity of sliding of microtubules b...</td>\n",
       "    </tr>\n",
       "    <tr>\n",
       "      <th>3</th>\n",
       "      <td>we discuss the transition paths in a coupled b...</td>\n",
       "      <td>bifurcation of transition paths induced by cou...</td>\n",
       "    </tr>\n",
       "    <tr>\n",
       "      <th>4</th>\n",
       "      <td>two types of room temperature detectors of ter...</td>\n",
       "      <td>all-electric detectors of the polarization sta...</td>\n",
       "    </tr>\n",
       "  </tbody>\n",
       "</table>\n",
       "</div>"
      ],
      "text/plain": [
       "                                            abstract  \\\n",
       "0  we consider the problem of utility maximizatio...   \n",
       "1  in this paper we provide an explicit formula f...   \n",
       "2  kinesin-5, also known as eg5 in vertebrates is...   \n",
       "3  we discuss the transition paths in a coupled b...   \n",
       "4  two types of room temperature detectors of ter...   \n",
       "\n",
       "                                               title  \n",
       "0  on optimal investment with processes of long o...  \n",
       "1               boolean complexes for ferrers graphs  \n",
       "2  relative velocity of sliding of microtubules b...  \n",
       "3  bifurcation of transition paths induced by cou...  \n",
       "4  all-electric detectors of the polarization sta...  "
      ]
     },
     "execution_count": 2,
     "metadata": {},
     "output_type": "execute_result"
    }
   ],
   "source": [
    "df = pd.read_csv(\"../../data/raw/title-generation/train.csv\")\n",
    "df.head()"
   ]
  },
  {
   "cell_type": "code",
   "execution_count": 3,
   "metadata": {},
   "outputs": [
    {
     "data": {
      "text/plain": [
       "(135000, 2)"
      ]
     },
     "execution_count": 3,
     "metadata": {},
     "output_type": "execute_result"
    }
   ],
   "source": [
    "df.shape"
   ]
  },
  {
   "cell_type": "code",
   "execution_count": 4,
   "metadata": {},
   "outputs": [],
   "source": [
    "SEED = 1234\n",
    "\n",
    "random.seed(SEED)\n",
    "torch.manual_seed(SEED)\n",
    "torch.backends.cudnn.deterministic = True"
   ]
  },
  {
   "cell_type": "code",
   "execution_count": 5,
   "metadata": {},
   "outputs": [],
   "source": [
    "spacy_en = spacy.load('en_core_web_sm')"
   ]
  },
  {
   "cell_type": "code",
   "execution_count": 6,
   "metadata": {},
   "outputs": [],
   "source": [
    "def tokenize(text):\n",
    "    \"\"\"\n",
    "    Tokenizes English text from a string into a list of strings (tokens)\n",
    "    \"\"\"\n",
    "    return [tok.text for tok in spacy_en.tokenizer(text) if not tok.text.isspace()]"
   ]
  },
  {
   "cell_type": "code",
   "execution_count": 7,
   "metadata": {},
   "outputs": [
    {
     "data": {
      "text/plain": [
       "'we consider the problem of utility maximization for investors with power utility functions. building on the earlier work larsen et al. (2016), we prove that the value of the problem is a frechet-differentiable function of the drift of the price process, provided that this drift lies in a suitable banach space.   we then study optimal investment problems with non-markovian driving processes. in such models there is no hope to get a formula for the achievable maximal utility. applying results of the first part of the paper we provide first order expansions for certain problems involving fractional brownian motion either in the drift or in the volatility. we also point out how asymptotic results can be derived for models with strong mean reversion.'"
      ]
     },
     "execution_count": 7,
     "metadata": {},
     "output_type": "execute_result"
    }
   ],
   "source": [
    "df[\"abstract\"].loc[0]"
   ]
  },
  {
   "cell_type": "code",
   "execution_count": 8,
   "metadata": {
    "collapsed": true,
    "jupyter": {
     "outputs_hidden": true
    }
   },
   "outputs": [
    {
     "data": {
      "text/plain": [
       "['we',\n",
       " 'consider',\n",
       " 'the',\n",
       " 'problem',\n",
       " 'of',\n",
       " 'utility',\n",
       " 'maximization',\n",
       " 'for',\n",
       " 'investors',\n",
       " 'with',\n",
       " 'power',\n",
       " 'utility',\n",
       " 'functions',\n",
       " '.',\n",
       " 'building',\n",
       " 'on',\n",
       " 'the',\n",
       " 'earlier',\n",
       " 'work',\n",
       " 'larsen',\n",
       " 'et',\n",
       " 'al',\n",
       " '.',\n",
       " '(',\n",
       " '2016',\n",
       " ')',\n",
       " ',',\n",
       " 'we',\n",
       " 'prove',\n",
       " 'that',\n",
       " 'the',\n",
       " 'value',\n",
       " 'of',\n",
       " 'the',\n",
       " 'problem',\n",
       " 'is',\n",
       " 'a',\n",
       " 'frechet',\n",
       " '-',\n",
       " 'differentiable',\n",
       " 'function',\n",
       " 'of',\n",
       " 'the',\n",
       " 'drift',\n",
       " 'of',\n",
       " 'the',\n",
       " 'price',\n",
       " 'process',\n",
       " ',',\n",
       " 'provided',\n",
       " 'that',\n",
       " 'this',\n",
       " 'drift',\n",
       " 'lies',\n",
       " 'in',\n",
       " 'a',\n",
       " 'suitable',\n",
       " 'banach',\n",
       " 'space',\n",
       " '.',\n",
       " 'we',\n",
       " 'then',\n",
       " 'study',\n",
       " 'optimal',\n",
       " 'investment',\n",
       " 'problems',\n",
       " 'with',\n",
       " 'non',\n",
       " '-',\n",
       " 'markovian',\n",
       " 'driving',\n",
       " 'processes',\n",
       " '.',\n",
       " 'in',\n",
       " 'such',\n",
       " 'models',\n",
       " 'there',\n",
       " 'is',\n",
       " 'no',\n",
       " 'hope',\n",
       " 'to',\n",
       " 'get',\n",
       " 'a',\n",
       " 'formula',\n",
       " 'for',\n",
       " 'the',\n",
       " 'achievable',\n",
       " 'maximal',\n",
       " 'utility',\n",
       " '.',\n",
       " 'applying',\n",
       " 'results',\n",
       " 'of',\n",
       " 'the',\n",
       " 'first',\n",
       " 'part',\n",
       " 'of',\n",
       " 'the',\n",
       " 'paper',\n",
       " 'we',\n",
       " 'provide',\n",
       " 'first',\n",
       " 'order',\n",
       " 'expansions',\n",
       " 'for',\n",
       " 'certain',\n",
       " 'problems',\n",
       " 'involving',\n",
       " 'fractional',\n",
       " 'brownian',\n",
       " 'motion',\n",
       " 'either',\n",
       " 'in',\n",
       " 'the',\n",
       " 'drift',\n",
       " 'or',\n",
       " 'in',\n",
       " 'the',\n",
       " 'volatility',\n",
       " '.',\n",
       " 'we',\n",
       " 'also',\n",
       " 'point',\n",
       " 'out',\n",
       " 'how',\n",
       " 'asymptotic',\n",
       " 'results',\n",
       " 'can',\n",
       " 'be',\n",
       " 'derived',\n",
       " 'for',\n",
       " 'models',\n",
       " 'with',\n",
       " 'strong',\n",
       " 'mean',\n",
       " 'reversion',\n",
       " '.']"
      ]
     },
     "execution_count": 8,
     "metadata": {},
     "output_type": "execute_result"
    }
   ],
   "source": [
    "tokenize(df[\"abstract\"].loc[0])"
   ]
  },
  {
   "cell_type": "code",
   "execution_count": null,
   "metadata": {},
   "outputs": [],
   "source": []
  },
  {
   "cell_type": "code",
   "execution_count": 9,
   "metadata": {},
   "outputs": [],
   "source": [
    "from torchtext.data import Field, BucketIterator\n",
    "from torchtext import data\n",
    "from torchtext import vocab"
   ]
  },
  {
   "cell_type": "code",
   "execution_count": 10,
   "metadata": {},
   "outputs": [],
   "source": [
    "TEXT = Field(tokenize=tokenize,\n",
    "            init_token = '<sos>', \n",
    "            eos_token = '<eos>', \n",
    "            include_lengths = True,\n",
    "            lower = True)"
   ]
  },
  {
   "cell_type": "code",
   "execution_count": 11,
   "metadata": {},
   "outputs": [],
   "source": [
    "trn_data_fields = [(\"src\", TEXT),\n",
    "                   (\"trg\", TEXT)]\n",
    "\n",
    "dataset = data.TabularDataset(\n",
    "    path='../../data/raw/title-generation/train.csv',\n",
    "    format='csv',\n",
    "    skip_header=True,\n",
    "    fields=trn_data_fields\n",
    ")\n",
    "\n",
    "train_data, valid_data, test_data = dataset.split(split_ratio=[0.98, 0.01, 0.01])"
   ]
  },
  {
   "cell_type": "code",
   "execution_count": 12,
   "metadata": {},
   "outputs": [],
   "source": [
    "# trainds, valds = data.TabularDataset.splits(\n",
    "#     path='./data', \n",
    "#     format='csv', \n",
    "#     train='traindf.csv', \n",
    "#     validation='valdf.csv', \n",
    "#     fields=train_val_fields, \n",
    "#     skip_header=True\n",
    "# )"
   ]
  },
  {
   "cell_type": "code",
   "execution_count": 13,
   "metadata": {},
   "outputs": [
    {
     "data": {
      "text/plain": [
       "torchtext.data.dataset.Dataset"
      ]
     },
     "execution_count": 13,
     "metadata": {},
     "output_type": "execute_result"
    }
   ],
   "source": [
    "type(train_data)"
   ]
  },
  {
   "cell_type": "code",
   "execution_count": 14,
   "metadata": {},
   "outputs": [
    {
     "data": {
      "text/plain": [
       "(132300, 1350, 1350)"
      ]
     },
     "execution_count": 14,
     "metadata": {},
     "output_type": "execute_result"
    }
   ],
   "source": [
    "len(train_data), len(valid_data), len(test_data)"
   ]
  },
  {
   "cell_type": "code",
   "execution_count": 15,
   "metadata": {},
   "outputs": [
    {
     "data": {
      "text/plain": [
       "dict_items([('src', <torchtext.data.field.Field object at 0x7f9c8f1beb38>), ('trg', <torchtext.data.field.Field object at 0x7f9c8f1beb38>)])"
      ]
     },
     "execution_count": 15,
     "metadata": {},
     "output_type": "execute_result"
    }
   ],
   "source": [
    "train_data.fields.items()"
   ]
  },
  {
   "cell_type": "code",
   "execution_count": 16,
   "metadata": {},
   "outputs": [
    {
     "data": {
      "text/plain": [
       "torchtext.data.example.Example"
      ]
     },
     "execution_count": 16,
     "metadata": {},
     "output_type": "execute_result"
    }
   ],
   "source": [
    "ex = train_data[0]\n",
    "type(ex)"
   ]
  },
  {
   "cell_type": "code",
   "execution_count": 17,
   "metadata": {
    "collapsed": true,
    "jupyter": {
     "outputs_hidden": true
    }
   },
   "outputs": [
    {
     "data": {
      "text/plain": [
       "['we',\n",
       " 'quantify',\n",
       " 'the',\n",
       " 'contributions',\n",
       " 'of',\n",
       " 'hyperfine',\n",
       " 'and',\n",
       " 'spin',\n",
       " '-',\n",
       " 'orbit',\n",
       " 'mediated',\n",
       " 'singlet',\n",
       " '-',\n",
       " 'triplet',\n",
       " 'mixing',\n",
       " 'in',\n",
       " 'weakly',\n",
       " 'coupled',\n",
       " 'inas',\n",
       " 'quantum',\n",
       " 'dots',\n",
       " 'by',\n",
       " 'electron',\n",
       " 'transport',\n",
       " 'spectroscopy',\n",
       " 'in',\n",
       " 'the',\n",
       " 'pauli',\n",
       " 'spin',\n",
       " 'blockade',\n",
       " 'regime',\n",
       " '.',\n",
       " 'in',\n",
       " 'contrast',\n",
       " 'to',\n",
       " 'double',\n",
       " 'dots',\n",
       " 'in',\n",
       " 'gaas',\n",
       " ',',\n",
       " 'the',\n",
       " 'spin',\n",
       " '-',\n",
       " 'orbit',\n",
       " 'coupling',\n",
       " 'is',\n",
       " 'found',\n",
       " 'to',\n",
       " 'be',\n",
       " 'more',\n",
       " 'than',\n",
       " 'two',\n",
       " 'orders',\n",
       " 'of',\n",
       " 'magnitudes',\n",
       " 'larger',\n",
       " 'than',\n",
       " 'the',\n",
       " 'hyperfine',\n",
       " 'mixing',\n",
       " 'energy',\n",
       " '.',\n",
       " 'it',\n",
       " 'is',\n",
       " 'already',\n",
       " 'effective',\n",
       " 'at',\n",
       " 'magnetic',\n",
       " 'fields',\n",
       " 'of',\n",
       " 'a',\n",
       " 'few',\n",
       " 'mt',\n",
       " ',',\n",
       " 'where',\n",
       " 'deviations',\n",
       " 'from',\n",
       " 'hyperfine',\n",
       " 'mixing',\n",
       " 'are',\n",
       " 'observed',\n",
       " '.']"
      ]
     },
     "execution_count": 17,
     "metadata": {},
     "output_type": "execute_result"
    }
   ],
   "source": [
    "ex.src"
   ]
  },
  {
   "cell_type": "code",
   "execution_count": 18,
   "metadata": {},
   "outputs": [
    {
     "data": {
      "text/plain": [
       "['spin', 'state', 'mixing', 'in', 'inas', 'double', 'quantum', 'dots']"
      ]
     },
     "execution_count": 18,
     "metadata": {},
     "output_type": "execute_result"
    }
   ],
   "source": [
    "ex.trg"
   ]
  },
  {
   "cell_type": "code",
   "execution_count": null,
   "metadata": {},
   "outputs": [],
   "source": []
  },
  {
   "cell_type": "code",
   "execution_count": 19,
   "metadata": {},
   "outputs": [
    {
     "name": "stdout",
     "output_type": "stream",
     "text": [
      "Unique tokens in vocabulary: 40501\n"
     ]
    }
   ],
   "source": [
    "TEXT.build_vocab(train_data, min_freq = 7)\n",
    "print(f\"Unique tokens in vocabulary: {len(TEXT.vocab)}\")"
   ]
  },
  {
   "cell_type": "code",
   "execution_count": null,
   "metadata": {},
   "outputs": [],
   "source": []
  },
  {
   "cell_type": "code",
   "execution_count": null,
   "metadata": {},
   "outputs": [],
   "source": []
  },
  {
   "cell_type": "code",
   "execution_count": 20,
   "metadata": {},
   "outputs": [],
   "source": [
    "# python -m gensim.downloader --download glove-wiki-gigaword-300"
   ]
  },
  {
   "cell_type": "code",
   "execution_count": 21,
   "metadata": {},
   "outputs": [],
   "source": [
    "vec = vocab.Vectors('/home/science/gensim-data/glove-wiki-gigaword-300/glove-wiki-gigaword-300.gz')"
   ]
  },
  {
   "cell_type": "code",
   "execution_count": 22,
   "metadata": {},
   "outputs": [],
   "source": [
    "TEXT.build_vocab(train_data, valid_data, test_data, vectors=vec, min_freq = 7)"
   ]
  },
  {
   "cell_type": "code",
   "execution_count": 23,
   "metadata": {},
   "outputs": [
    {
     "name": "stdout",
     "output_type": "stream",
     "text": [
      "Unique tokens in vocabulary: 40938\n"
     ]
    }
   ],
   "source": [
    "print(f\"Unique tokens in vocabulary: {len(TEXT.vocab)}\")"
   ]
  },
  {
   "cell_type": "code",
   "execution_count": 24,
   "metadata": {},
   "outputs": [
    {
     "name": "stdout",
     "output_type": "stream",
     "text": [
      "torch.Size([40938, 300])\n"
     ]
    }
   ],
   "source": [
    "print(TEXT.vocab.vectors.shape)"
   ]
  },
  {
   "cell_type": "code",
   "execution_count": 25,
   "metadata": {},
   "outputs": [
    {
     "data": {
      "text/plain": [
       "tensor([ 4.6560e-02,  2.1318e-01, -7.4364e-03, -4.5854e-01, -3.5639e-02,\n",
       "         2.3643e-01, -2.8836e-01,  2.1521e-01, -1.3486e-01, -1.6413e+00,\n",
       "        -2.6091e-01,  3.2434e-02,  5.6621e-02, -4.3296e-02, -2.1672e-02,\n",
       "         2.2476e-01, -7.5129e-02, -6.7018e-02, -1.4247e-01,  3.8825e-02,\n",
       "        -1.8951e-01,  2.9977e-01,  3.9305e-01,  1.7887e-01, -1.7343e-01,\n",
       "        -2.1178e-01,  2.3617e-01, -6.3681e-02, -4.2318e-01, -1.1661e-01,\n",
       "         9.3754e-02,  1.7296e-01, -3.3073e-01,  4.9112e-01, -6.8995e-01,\n",
       "        -9.2462e-02,  2.4742e-01, -1.7991e-01,  9.7908e-02,  8.3118e-02,\n",
       "         1.5299e-01, -2.7276e-01, -3.8934e-02,  5.4453e-01,  5.3737e-01,\n",
       "         2.9105e-01, -7.3514e-03,  4.7880e-02, -4.0760e-01, -2.6759e-02,\n",
       "         1.7919e-01,  1.0977e-02, -1.0963e-01, -2.6395e-01,  7.3990e-02,\n",
       "         2.6236e-01, -1.5080e-01,  3.4623e-01,  2.5758e-01,  1.1971e-01,\n",
       "        -3.7135e-02, -7.1593e-02,  4.3898e-01, -4.0764e-02,  1.6425e-02,\n",
       "        -4.4640e-01,  1.7197e-01,  4.6246e-02,  5.8639e-02,  4.1499e-02,\n",
       "         5.3948e-01,  5.2495e-01,  1.1361e-01, -4.8315e-02, -3.6385e-01,\n",
       "         1.8704e-01,  9.2761e-02, -1.1129e-01, -4.2085e-01,  1.3992e-01,\n",
       "        -3.9338e-01, -6.7945e-02,  1.2188e-01,  1.6707e-01,  7.5169e-02,\n",
       "        -1.5529e-02, -1.9499e-01,  1.9638e-01,  5.3194e-02,  2.5170e-01,\n",
       "        -3.4845e-01, -1.0638e-01, -3.4692e-01, -1.9024e-01, -2.0040e-01,\n",
       "         1.2154e-01, -2.9208e-01,  2.3353e-02, -1.1618e-01, -3.5768e-01,\n",
       "         6.2304e-02,  3.5884e-01,  2.9060e-02,  7.3005e-03,  4.9482e-03,\n",
       "        -1.5048e-01, -1.2313e-01,  1.9337e-01,  1.2173e-01,  4.4503e-01,\n",
       "         2.5147e-01,  1.0781e-01, -1.7716e-01,  3.8691e-02,  8.1530e-02,\n",
       "         1.4667e-01,  6.3666e-02,  6.1332e-02, -7.5569e-02, -3.7724e-01,\n",
       "         1.5850e-02, -3.0342e-01,  2.8374e-01, -4.2013e-02, -4.0715e-02,\n",
       "        -1.5269e-01,  7.4980e-02,  1.5577e-01,  1.0433e-01,  3.1393e-01,\n",
       "         1.9309e-01,  1.9429e-01,  1.5185e-01, -1.0192e-01, -1.8785e-02,\n",
       "         2.0791e-01,  1.3366e-01,  1.9038e-01, -2.5558e-01,  3.0400e-01,\n",
       "        -1.8960e-02,  2.0147e-01, -4.2110e-01, -7.5156e-03, -2.7977e-01,\n",
       "        -1.9314e-01,  4.6204e-02,  1.9971e-01, -3.0207e-01,  2.5735e-01,\n",
       "         6.8107e-01, -1.9409e-01,  2.3984e-01,  2.2493e-01,  6.5224e-01,\n",
       "        -1.3561e-01, -1.7383e-01, -4.8209e-02, -1.1860e-01,  2.1588e-03,\n",
       "        -1.9525e-02,  1.1948e-01,  1.9346e-01, -4.0820e-01, -8.2966e-02,\n",
       "         1.6626e-01, -1.0601e-01,  3.5861e-01,  1.6922e-01,  7.2590e-02,\n",
       "        -2.4803e-01, -1.0024e-01, -5.2491e-01, -1.7745e-01, -3.6647e-01,\n",
       "         2.6180e-01, -1.2077e-02,  8.3190e-02, -2.1528e-01,  4.1045e-01,\n",
       "         2.9136e-01,  3.0869e-01,  7.8864e-02,  3.2207e-01, -4.1023e-02,\n",
       "        -1.0970e-01, -9.2041e-02, -1.2339e-01, -1.6416e-01,  3.5382e-01,\n",
       "        -8.2774e-02,  3.3171e-01, -2.4738e-01, -4.8928e-02,  1.5746e-01,\n",
       "         1.8988e-01, -2.6642e-02,  6.3315e-02, -1.0673e-02,  3.4089e-01,\n",
       "         1.4106e+00,  1.3417e-01,  2.8191e-01, -2.5940e-01,  5.5267e-02,\n",
       "        -5.2425e-02, -2.5789e-01,  1.9127e-02, -2.2084e-02,  3.2113e-01,\n",
       "         6.8818e-02,  5.1207e-01,  1.6478e-01, -2.0194e-01,  2.9232e-01,\n",
       "         9.8575e-02,  1.3145e-02, -1.0652e-01,  1.3510e-01, -4.5332e-02,\n",
       "         2.0697e-01, -4.8425e-01, -4.4706e-01,  3.3305e-03,  2.9264e-03,\n",
       "        -1.0975e-01, -2.3325e-01,  2.2442e-01, -1.0503e-01,  1.2339e-01,\n",
       "         1.0978e-01,  4.8994e-02, -2.5157e-01,  4.0319e-01,  3.5318e-01,\n",
       "         1.8651e-01, -2.3622e-02, -1.2734e-01,  1.1475e-01,  2.7359e-01,\n",
       "        -2.1866e-01,  1.5794e-02,  8.1754e-01, -2.3792e-02, -8.5469e-01,\n",
       "        -1.6203e-01,  1.8076e-01,  2.8014e-02, -1.4340e-01,  1.3139e-03,\n",
       "        -9.1735e-02, -8.9704e-02,  1.1105e-01, -1.6703e-01,  6.8377e-02,\n",
       "        -8.7388e-02, -3.9789e-02,  1.4184e-02,  2.1187e-01,  2.8579e-01,\n",
       "        -2.8797e-01, -5.8996e-02, -3.2436e-02, -4.7009e-03, -1.7052e-01,\n",
       "        -3.4741e-02, -1.1489e-01,  7.5093e-02,  9.9526e-02,  4.8183e-02,\n",
       "        -7.3775e-02, -4.1817e-01,  4.1268e-03,  4.4414e-01, -1.6062e-01,\n",
       "         1.4294e-01, -2.2628e+00, -2.7347e-02,  8.1311e-01,  7.7417e-01,\n",
       "        -2.5639e-01, -1.1576e-01, -1.1982e-01, -2.1363e-01,  2.8429e-02,\n",
       "         2.7261e-01,  3.1026e-02,  9.6782e-02,  6.7769e-03,  1.4082e-01,\n",
       "        -1.3064e-02, -2.9686e-01, -7.9913e-02,  1.9500e-01,  3.1549e-02,\n",
       "         2.8506e-01, -8.7461e-02,  9.0611e-03, -2.0989e-01,  5.3913e-02])"
      ]
     },
     "execution_count": 25,
     "metadata": {},
     "output_type": "execute_result"
    }
   ],
   "source": [
    "TEXT.vocab.vectors[TEXT.vocab.stoi['the']]"
   ]
  },
  {
   "cell_type": "code",
   "execution_count": null,
   "metadata": {},
   "outputs": [],
   "source": []
  },
  {
   "cell_type": "code",
   "execution_count": 26,
   "metadata": {},
   "outputs": [],
   "source": [
    "BATCH_SIZE = 64\n",
    "\n",
    "device = torch.device('cuda' if torch.cuda.is_available() else 'cpu')\n",
    "\n",
    "train_iterator, valid_iterator, test_iterator = BucketIterator.splits(\n",
    "    (train_data, valid_data, test_data), \n",
    "     batch_size = BATCH_SIZE,\n",
    "     sort_within_batch = True,\n",
    "     sort_key = lambda x : len(x.src),\n",
    "     device = device)"
   ]
  },
  {
   "cell_type": "code",
   "execution_count": 27,
   "metadata": {},
   "outputs": [
    {
     "data": {
      "text/plain": [
       "device(type='cuda')"
      ]
     },
     "execution_count": 27,
     "metadata": {},
     "output_type": "execute_result"
    }
   ],
   "source": [
    "device"
   ]
  },
  {
   "cell_type": "code",
   "execution_count": 28,
   "metadata": {},
   "outputs": [
    {
     "name": "stdout",
     "output_type": "stream",
     "text": [
      "2068 22 22\n"
     ]
    }
   ],
   "source": [
    "print(len(train_iterator), len(valid_iterator), len(test_iterator))"
   ]
  },
  {
   "cell_type": "code",
   "execution_count": 29,
   "metadata": {},
   "outputs": [],
   "source": [
    "# batch = next(iter(traindl)) # BucketIterator return a batch object\n",
    "# print(type(batch))\n",
    "# # torchtext.data.batch.Batch\n",
    "\n",
    "# print(batch.Sentiment) # labels of the batch\n",
    "# # tensor([ 0,  0,  0], device='cuda:0')\n",
    "\n",
    "# print(batch.SentimentText) # text index and length of the batch\n",
    "# # (tensor([[  204,   107,   956],\n",
    "# #         [   29,  3176,   112],\n",
    "# #         [ 4391,   195,    28],\n",
    "# #         [ 1413,    57,    57],\n",
    "# #         [   19,    32,    26],\n",
    "# #         [   32,   114,  5138]], device='cuda:0'),\n",
    "# # tensor([ 6,  6,  6], device='cuda:0'))\n",
    "\n",
    "# print(batch.dataset.fields)"
   ]
  },
  {
   "cell_type": "code",
   "execution_count": 30,
   "metadata": {},
   "outputs": [],
   "source": [
    "batch = next(iter(train_iterator))"
   ]
  },
  {
   "cell_type": "code",
   "execution_count": 31,
   "metadata": {},
   "outputs": [
    {
     "name": "stdout",
     "output_type": "stream",
     "text": [
      "<class 'torchtext.data.batch.Batch'>\n"
     ]
    }
   ],
   "source": [
    "print(type(batch))"
   ]
  },
  {
   "cell_type": "code",
   "execution_count": 32,
   "metadata": {},
   "outputs": [
    {
     "name": "stdout",
     "output_type": "stream",
     "text": [
      "(tensor([[   2,    2,    2,  ...,    2,    2,    2],\n",
      "        [3909,  164,   21,  ...,   21,   13, 1642],\n",
      "        [3252,  150,   47,  ...,   47,   96,   29],\n",
      "        ...,\n",
      "        [ 423,   35,  489,  ...,    6,    6,    6],\n",
      "        [   6,    6,    6,  ...,    3,    3,    3],\n",
      "        [   3,    3,    3,  ...,    1,    1,    1]], device='cuda:0'), tensor([143, 143, 143, 143, 143, 143, 143, 143, 143, 143, 143, 143, 143, 143,\n",
      "        143, 143, 143, 143, 143, 143, 143, 143, 143, 143, 143, 143, 143, 143,\n",
      "        143, 143, 143, 143, 143, 143, 143, 142, 142, 142, 142, 142, 142, 142,\n",
      "        142, 142, 142, 142, 142, 142, 142, 142, 142, 142, 142, 142, 142, 142,\n",
      "        142, 142, 142, 142, 142, 142, 142, 142], device='cuda:0'))\n"
     ]
    }
   ],
   "source": [
    "print(batch.src)"
   ]
  },
  {
   "cell_type": "code",
   "execution_count": 33,
   "metadata": {},
   "outputs": [
    {
     "name": "stdout",
     "output_type": "stream",
     "text": [
      "(tensor([[   2,    2,    2,  ...,    2,    2,    2],\n",
      "        [3252,  127,  790,  ...,  343,    9,    9],\n",
      "        [  25,  280,  342,  ..., 1294,  553,   59],\n",
      "        ...,\n",
      "        [   1,    1,    1,  ...,    1,  547,    1],\n",
      "        [   1,    1,    1,  ...,    1,  503,    1],\n",
      "        [   1,    1,    1,  ...,    1,    3,    1]], device='cuda:0'), tensor([13, 11, 10, 15, 11, 14,  8,  8, 14, 18, 15, 12, 16,  6, 17,  7, 12,  9,\n",
      "        11, 17,  9, 12,  9, 18, 12, 16,  8, 16, 17, 11, 11, 15, 15, 15, 14, 13,\n",
      "        12, 14,  8, 10, 14,  8, 15, 13,  8,  9, 17,  5, 17, 11,  9, 14, 13, 11,\n",
      "        16, 15, 19, 10, 13, 11, 16, 11, 20, 10], device='cuda:0'))\n"
     ]
    }
   ],
   "source": [
    "print(batch.trg)"
   ]
  },
  {
   "cell_type": "code",
   "execution_count": 34,
   "metadata": {},
   "outputs": [
    {
     "name": "stdout",
     "output_type": "stream",
     "text": [
      "{'src': <torchtext.data.field.Field object at 0x7f9c8f1beb38>, 'trg': <torchtext.data.field.Field object at 0x7f9c8f1beb38>}\n"
     ]
    }
   ],
   "source": [
    "print(batch.dataset.fields)"
   ]
  },
  {
   "cell_type": "code",
   "execution_count": null,
   "metadata": {},
   "outputs": [],
   "source": []
  },
  {
   "cell_type": "code",
   "execution_count": 35,
   "metadata": {},
   "outputs": [],
   "source": [
    "class BatchGenerator:\n",
    "    def __init__(self, dl, x_field, y_field):\n",
    "        self.dl, self.x_field, self.y_field = dl, x_field, y_field\n",
    "        \n",
    "    def __len__(self):\n",
    "        return len(self.dl)\n",
    "    \n",
    "    def __iter__(self):\n",
    "        for batch in self.dl:\n",
    "            X = getattr(batch, self.x_field)\n",
    "            y = getattr(batch, self.y_field)\n",
    "            yield (X,y)"
   ]
  },
  {
   "cell_type": "code",
   "execution_count": 36,
   "metadata": {},
   "outputs": [],
   "source": [
    "train_batch_it = BatchGenerator(train_iterator, 'src', 'trg')"
   ]
  },
  {
   "cell_type": "code",
   "execution_count": 37,
   "metadata": {},
   "outputs": [
    {
     "name": "stdout",
     "output_type": "stream",
     "text": [
      "((tensor([[    2,     2,     2,  ...,     2,     2,     2],\n",
      "        [ 5015,  4303,    11,  ...,    13,    13,   123],\n",
      "        [ 4914,  3113,    21,  ...,    96,   329,     9],\n",
      "        ...,\n",
      "        [38743,     6,     6,  ...,     3,     3,     3],\n",
      "        [    6,     3,     3,  ...,     1,     1,     1],\n",
      "        [    3,     1,     1,  ...,     1,     1,     1]], device='cuda:0'), tensor([112, 111, 111, 111, 111, 111, 111, 111, 111, 111, 111, 111, 111, 111,\n",
      "        111, 111, 111, 111, 111, 111, 111, 111, 111, 111, 111, 111, 111, 111,\n",
      "        111, 111, 111, 111, 111, 111, 111, 111, 111, 111, 111, 110, 110, 110,\n",
      "        110, 110, 110, 110, 110, 110, 110, 110, 110, 110, 110, 110, 110, 110,\n",
      "        110, 110, 110, 110, 110, 110, 110, 110], device='cuda:0')), (tensor([[   2,    2,    2,  ...,    2,    2,    2],\n",
      "        [   4,  215,   54,  ...,  179, 3869, 1037],\n",
      "        [8501,  132,   10,  ...,  193, 1119,  166],\n",
      "        ...,\n",
      "        [   1,    1,    1,  ...,    1,    1,    1],\n",
      "        [   1,    1,    1,  ...,    1,    1,    1],\n",
      "        [   1,    1,    1,  ...,    1,    1,    1]], device='cuda:0'), tensor([14, 15, 26, 17,  7, 10, 10, 17, 11, 13, 12, 11, 16,  9,  4, 18, 10, 10,\n",
      "         8,  6, 12, 16, 11, 10,  9,  9, 10, 10, 15, 12, 10, 13,  9, 11, 19, 16,\n",
      "        18,  6, 10, 12, 12,  9,  9,  9,  7, 12, 11,  9, 21,  8,  8, 32, 12,  9,\n",
      "         8, 14,  7, 12,  7, 10, 14, 17, 12,  9], device='cuda:0')))\n"
     ]
    }
   ],
   "source": [
    "print(next(iter(train_batch_it)))"
   ]
  },
  {
   "cell_type": "code",
   "execution_count": null,
   "metadata": {},
   "outputs": [],
   "source": []
  },
  {
   "cell_type": "code",
   "execution_count": 38,
   "metadata": {},
   "outputs": [],
   "source": [
    "class Encoder(nn.Module):\n",
    "    def __init__(self, input_dim, emb_dim, enc_hid_dim, dec_hid_dim, dropout):\n",
    "        super().__init__()\n",
    "        \n",
    "        self.embedding = nn.Embedding(input_dim, emb_dim)\n",
    "        \n",
    "        self.rnn = nn.GRU(emb_dim, enc_hid_dim, bidirectional = True)\n",
    "        \n",
    "        self.fc = nn.Linear(enc_hid_dim * 2, dec_hid_dim)\n",
    "        \n",
    "        self.dropout = nn.Dropout(dropout)\n",
    "        \n",
    "    def forward(self, src, src_len):\n",
    "        \n",
    "        #src = [src sent len, batch size]\n",
    "        #src_len = [src sent len]\n",
    "        \n",
    "        embedded = self.dropout(self.embedding(src))\n",
    "        \n",
    "        #embedded = [src sent len, batch size, emb dim]\n",
    "                \n",
    "        packed_embedded = nn.utils.rnn.pack_padded_sequence(embedded, src_len)\n",
    "                \n",
    "        packed_outputs, hidden = self.rnn(packed_embedded)\n",
    "                                 \n",
    "        #packed_outputs is a packed sequence containing all hidden states\n",
    "        #hidden is now from the final non-padded element in the batch\n",
    "            \n",
    "        outputs, _ = nn.utils.rnn.pad_packed_sequence(packed_outputs) \n",
    "            \n",
    "        #outputs is now a non-packed sequence, all hidden states obtained\n",
    "        #  when the input is a pad token are all zeros\n",
    "            \n",
    "        #outputs = [sent len, batch size, hid dim * num directions]\n",
    "        #hidden = [n layers * num directions, batch size, hid dim]\n",
    "        \n",
    "        #hidden is stacked [forward_1, backward_1, forward_2, backward_2, ...]\n",
    "        #outputs are always from the last layer\n",
    "        \n",
    "        #hidden [-2, :, : ] is the last of the forwards RNN \n",
    "        #hidden [-1, :, : ] is the last of the backwards RNN\n",
    "        \n",
    "        #initial decoder hidden is final hidden state of the forwards and backwards \n",
    "        #  encoder RNNs fed through a linear layer\n",
    "        hidden = torch.tanh(self.fc(torch.cat((hidden[-2,:,:], hidden[-1,:,:]), dim = 1)))\n",
    "        \n",
    "        #outputs = [sent len, batch size, enc hid dim * 2]\n",
    "        #hidden = [batch size, dec hid dim]\n",
    "        \n",
    "        return outputs, hidden"
   ]
  },
  {
   "cell_type": "code",
   "execution_count": 39,
   "metadata": {},
   "outputs": [],
   "source": [
    "class Attention(nn.Module):\n",
    "    def __init__(self, enc_hid_dim, dec_hid_dim):\n",
    "        super().__init__()\n",
    "        \n",
    "        self.attn = nn.Linear((enc_hid_dim * 2) + dec_hid_dim, dec_hid_dim)\n",
    "        self.v = nn.Parameter(torch.rand(dec_hid_dim))\n",
    "        \n",
    "    def forward(self, hidden, encoder_outputs, mask):\n",
    "        \n",
    "        #hidden = [batch size, dec hid dim]\n",
    "        #encoder_outputs = [src sent len, batch size, enc hid dim * 2]\n",
    "        #mask = [batch size, src sent len]\n",
    "        \n",
    "        batch_size = encoder_outputs.shape[1]\n",
    "        src_len = encoder_outputs.shape[0]\n",
    "        \n",
    "        #repeat encoder hidden state src_len times\n",
    "        hidden = hidden.unsqueeze(1).repeat(1, src_len, 1)\n",
    "        \n",
    "        encoder_outputs = encoder_outputs.permute(1, 0, 2)\n",
    "        \n",
    "        #hidden = [batch size, src sent len, dec hid dim]\n",
    "        #encoder_outputs = [batch size, src sent len, enc hid dim * 2]\n",
    "        \n",
    "        energy = torch.tanh(self.attn(torch.cat((hidden, encoder_outputs), dim = 2))) \n",
    "        \n",
    "        #energy = [batch size, src sent len, dec hid dim]\n",
    "                \n",
    "        energy = energy.permute(0, 2, 1)\n",
    "        \n",
    "        #energy = [batch size, dec hid dim, src sent len]\n",
    "        \n",
    "        #v = [dec hid dim]\n",
    "        \n",
    "        v = self.v.repeat(batch_size, 1).unsqueeze(1)\n",
    "        \n",
    "        #v = [batch size, 1, dec hid dim]\n",
    "            \n",
    "        attention = torch.bmm(v, energy).squeeze(1)\n",
    "        \n",
    "        #attention = [batch size, src sent len]\n",
    "        \n",
    "        attention = attention.masked_fill(mask == 0, -1e10)\n",
    "        \n",
    "        return F.softmax(attention, dim = 1)"
   ]
  },
  {
   "cell_type": "code",
   "execution_count": 40,
   "metadata": {},
   "outputs": [],
   "source": [
    "class Decoder(nn.Module):\n",
    "    def __init__(self, output_dim, emb_dim, enc_hid_dim, dec_hid_dim, dropout, attention):\n",
    "        super().__init__()\n",
    "\n",
    "        self.output_dim = output_dim\n",
    "        self.attention = attention\n",
    "        \n",
    "        self.embedding = nn.Embedding(output_dim, emb_dim)\n",
    "        \n",
    "        self.rnn = nn.GRU((enc_hid_dim * 2) + emb_dim, dec_hid_dim)\n",
    "        \n",
    "        self.out = nn.Linear((enc_hid_dim * 2) + dec_hid_dim + emb_dim, output_dim)\n",
    "        \n",
    "        self.dropout = nn.Dropout(dropout)\n",
    "        \n",
    "    def forward(self, input, hidden, encoder_outputs, mask):\n",
    "             \n",
    "        #input = [batch size]\n",
    "        #hidden = [batch size, dec hid dim]\n",
    "        #encoder_outputs = [src sent len, batch size, enc hid dim * 2]\n",
    "        #mask = [batch size, src sent len]\n",
    "        \n",
    "        input = input.unsqueeze(0)\n",
    "        \n",
    "        #input = [1, batch size]\n",
    "        \n",
    "        embedded = self.dropout(self.embedding(input))\n",
    "        \n",
    "        #embedded = [1, batch size, emb dim]\n",
    "        \n",
    "        a = self.attention(hidden, encoder_outputs, mask)\n",
    "                \n",
    "        #a = [batch size, src sent len]\n",
    "        \n",
    "        a = a.unsqueeze(1)\n",
    "        \n",
    "        #a = [batch size, 1, src sent len]\n",
    "        \n",
    "        encoder_outputs = encoder_outputs.permute(1, 0, 2)\n",
    "        \n",
    "        #encoder_outputs = [batch size, src sent len, enc hid dim * 2]\n",
    "        \n",
    "        weighted = torch.bmm(a, encoder_outputs)\n",
    "        \n",
    "        #weighted = [batch size, 1, enc hid dim * 2]\n",
    "        \n",
    "        weighted = weighted.permute(1, 0, 2)\n",
    "        \n",
    "        #weighted = [1, batch size, enc hid dim * 2]\n",
    "        \n",
    "        rnn_input = torch.cat((embedded, weighted), dim = 2)\n",
    "        \n",
    "        #rnn_input = [1, batch size, (enc hid dim * 2) + emb dim]\n",
    "            \n",
    "        output, hidden = self.rnn(rnn_input, hidden.unsqueeze(0))\n",
    "        \n",
    "        #output = [sent len, batch size, dec hid dim * n directions]\n",
    "        #hidden = [n layers * n directions, batch size, dec hid dim]\n",
    "        \n",
    "        #sent len, n layers and n directions will always be 1 in this decoder, therefore:\n",
    "        #output = [1, batch size, dec hid dim]\n",
    "        #hidden = [1, batch size, dec hid dim]\n",
    "        #this also means that output == hidden\n",
    "        assert (output == hidden).all()\n",
    "        \n",
    "        embedded = embedded.squeeze(0)\n",
    "        output = output.squeeze(0)\n",
    "        weighted = weighted.squeeze(0)\n",
    "        \n",
    "        output = self.out(torch.cat((output, weighted, embedded), dim = 1))\n",
    "        \n",
    "        #output = [bsz, output dim]\n",
    "        \n",
    "        return output, hidden.squeeze(0), a.squeeze(1)"
   ]
  },
  {
   "cell_type": "code",
   "execution_count": 41,
   "metadata": {},
   "outputs": [],
   "source": [
    "class Seq2Seq(nn.Module):\n",
    "    def __init__(self, encoder, decoder, pad_idx, sos_idx, eos_idx, device):\n",
    "        super().__init__()\n",
    "        \n",
    "        self.encoder = encoder\n",
    "        self.decoder = decoder\n",
    "        self.pad_idx = pad_idx\n",
    "        self.sos_idx = sos_idx\n",
    "        self.eos_idx = eos_idx\n",
    "        self.device = device\n",
    "        \n",
    "    def create_mask(self, src):\n",
    "        mask = (src != self.pad_idx).permute(1, 0)\n",
    "        return mask\n",
    "        \n",
    "    def forward(self, src, src_len, trg, teacher_forcing_ratio = 0.5):\n",
    "        \n",
    "        #src = [src sent len, batch size]\n",
    "        #src_len = [batch size]\n",
    "        #trg = [trg sent len, batch size]\n",
    "        #teacher_forcing_ratio is probability to use teacher forcing\n",
    "        #e.g. if teacher_forcing_ratio is 0.75 we use teacher forcing 75% of the time\n",
    "        \n",
    "        if trg is None:\n",
    "            assert teacher_forcing_ratio == 0, \"Must be zero during inference\"\n",
    "            inference = True\n",
    "            trg = torch.zeros((100, src.shape[1])).long().fill_(self.sos_idx).to(src.device)\n",
    "        else:\n",
    "            inference = False\n",
    "            \n",
    "        batch_size = src.shape[1]\n",
    "        max_len = trg.shape[0]\n",
    "        trg_vocab_size = self.decoder.output_dim\n",
    "        \n",
    "        #tensor to store decoder outputs\n",
    "        outputs = torch.zeros(max_len, batch_size, trg_vocab_size).to(self.device)\n",
    "        \n",
    "        #tensor to store attention\n",
    "        attentions = torch.zeros(max_len, batch_size, src.shape[0]).to(self.device)\n",
    "        \n",
    "        #encoder_outputs is all hidden states of the input sequence, back and forwards\n",
    "        #hidden is the final forward and backward hidden states, passed through a linear layer\n",
    "        encoder_outputs, hidden = self.encoder(src, src_len)\n",
    "                \n",
    "        #first input to the decoder is the <sos> tokens\n",
    "        input = trg[0,:]\n",
    "        \n",
    "        mask = self.create_mask(src)\n",
    "                \n",
    "        #mask = [batch size, src sent len]\n",
    "                \n",
    "        for t in range(1, max_len):\n",
    "            \n",
    "            #insert input token embedding, previous hidden state, all encoder hidden states \n",
    "            # and mask\n",
    "            #receive output tensor (predictions), new hidden state and attention tensor\n",
    "            output, hidden, attention = self.decoder(input, hidden, encoder_outputs, mask)\n",
    "            \n",
    "            #place predictions in a tensor holding predictions for each token\n",
    "            outputs[t] = output\n",
    "            \n",
    "            #place attentions in a tensor holding attention value for each input token\n",
    "            attentions[t] = attention\n",
    "            \n",
    "            #decide if we are going to use teacher forcing or not\n",
    "            teacher_force = random.random() < teacher_forcing_ratio\n",
    "            \n",
    "            #get the highest predicted token from our predictions\n",
    "            top1 = output.argmax(1) \n",
    "            \n",
    "            #if teacher forcing, use actual next token as next input\n",
    "            #if not, use predicted token\n",
    "            input = trg[t] if teacher_force else top1\n",
    "            \n",
    "            #if doing inference and next token/prediction is an eos token then stop\n",
    "            if inference and input.item() == self.eos_idx:\n",
    "                return outputs[:t], attentions[:t]\n",
    "            \n",
    "        return outputs, attentions"
   ]
  },
  {
   "cell_type": "code",
   "execution_count": 42,
   "metadata": {},
   "outputs": [],
   "source": [
    "INPUT_DIM = len(TEXT.vocab)\n",
    "OUTPUT_DIM = len(TEXT.vocab)\n",
    "ENC_EMB_DIM = 300\n",
    "DEC_EMB_DIM = 300\n",
    "ENC_HID_DIM = 64\n",
    "DEC_HID_DIM = 64\n",
    "ENC_DROPOUT = 0.8\n",
    "DEC_DROPOUT = 0.8\n",
    "PAD_IDX = TEXT.vocab.stoi['<pad>']\n",
    "SOS_IDX = TEXT.vocab.stoi['<sos>']\n",
    "EOS_IDX = TEXT.vocab.stoi['<eos>']\n",
    "\n",
    "attn = Attention(ENC_HID_DIM, DEC_HID_DIM)\n",
    "enc = Encoder(INPUT_DIM, ENC_EMB_DIM, ENC_HID_DIM, DEC_HID_DIM, ENC_DROPOUT)\n",
    "dec = Decoder(OUTPUT_DIM, DEC_EMB_DIM, ENC_HID_DIM, DEC_HID_DIM, DEC_DROPOUT, attn)\n",
    "\n"
   ]
  },
  {
   "cell_type": "code",
   "execution_count": 43,
   "metadata": {},
   "outputs": [
    {
     "data": {
      "text/plain": [
       "40938"
      ]
     },
     "execution_count": 43,
     "metadata": {},
     "output_type": "execute_result"
    }
   ],
   "source": [
    "INPUT_DIM"
   ]
  },
  {
   "cell_type": "code",
   "execution_count": 44,
   "metadata": {},
   "outputs": [
    {
     "data": {
      "text/plain": [
       "(1, 2, 3)"
      ]
     },
     "execution_count": 44,
     "metadata": {},
     "output_type": "execute_result"
    }
   ],
   "source": [
    "PAD_IDX, SOS_IDX, EOS_IDX"
   ]
  },
  {
   "cell_type": "code",
   "execution_count": 45,
   "metadata": {},
   "outputs": [],
   "source": [
    "def init_weights(m):\n",
    "    for name, param in m.named_parameters():\n",
    "        if 'weight' in name:\n",
    "            nn.init.normal_(param.data, mean=0, std=0.01)\n",
    "        else:\n",
    "            nn.init.constant_(param.data, 0)\n"
   ]
  },
  {
   "cell_type": "code",
   "execution_count": 46,
   "metadata": {},
   "outputs": [
    {
     "data": {
      "text/plain": [
       "Seq2Seq(\n",
       "  (encoder): Encoder(\n",
       "    (embedding): Embedding(40938, 300)\n",
       "    (rnn): GRU(300, 64, bidirectional=True)\n",
       "    (fc): Linear(in_features=128, out_features=64, bias=True)\n",
       "    (dropout): Dropout(p=0.8, inplace=False)\n",
       "  )\n",
       "  (decoder): Decoder(\n",
       "    (attention): Attention(\n",
       "      (attn): Linear(in_features=192, out_features=64, bias=True)\n",
       "    )\n",
       "    (embedding): Embedding(40938, 300)\n",
       "    (rnn): GRU(428, 64)\n",
       "    (out): Linear(in_features=492, out_features=40938, bias=True)\n",
       "    (dropout): Dropout(p=0.8, inplace=False)\n",
       "  )\n",
       ")"
      ]
     },
     "execution_count": 46,
     "metadata": {},
     "output_type": "execute_result"
    }
   ],
   "source": [
    "model = Seq2Seq(enc, dec, PAD_IDX, SOS_IDX, EOS_IDX, device).to(device)\n",
    "model.apply(init_weights)"
   ]
  },
  {
   "cell_type": "code",
   "execution_count": 47,
   "metadata": {},
   "outputs": [
    {
     "name": "stdout",
     "output_type": "stream",
     "text": [
      "The model has 45,001,298 trainable parameters\n"
     ]
    }
   ],
   "source": [
    "def count_parameters(model):\n",
    "    return sum(p.numel() for p in model.parameters() if p.requires_grad)\n",
    "\n",
    "print(f'The model has {count_parameters(model):,} trainable parameters')"
   ]
  },
  {
   "cell_type": "code",
   "execution_count": null,
   "metadata": {},
   "outputs": [],
   "source": []
  },
  {
   "cell_type": "code",
   "execution_count": 48,
   "metadata": {},
   "outputs": [],
   "source": [
    "optimizer = optim.Adam(model.parameters())\n",
    "criterion = nn.CrossEntropyLoss(ignore_index = PAD_IDX)"
   ]
  },
  {
   "cell_type": "code",
   "execution_count": null,
   "metadata": {},
   "outputs": [],
   "source": []
  },
  {
   "cell_type": "code",
   "execution_count": 49,
   "metadata": {},
   "outputs": [],
   "source": [
    "import matplotlib\n",
    "matplotlib.rcParams.update({'figure.figsize': (16, 12), 'font.size': 14})\n",
    "import matplotlib.pyplot as plt\n",
    "%matplotlib inline\n",
    "from IPython.display import clear_output\n",
    "\n",
    "\n",
    "def train(model, iterator, optimizer, criterion, clip, train_history=None, valid_history=None):\n",
    "    \n",
    "    model.train()\n",
    "    \n",
    "    epoch_loss = 0\n",
    "    history = []\n",
    "    for i, batch in enumerate(iterator):\n",
    "        \n",
    "        src, src_len = batch.src\n",
    "        trg, trg_len = batch.trg\n",
    "        \n",
    "        optimizer.zero_grad()\n",
    "        \n",
    "        output, attetion = model(src, src_len, trg)\n",
    "        \n",
    "        #trg = [trg sent len, batch size]\n",
    "        #output = [trg sent len, batch size, output dim]\n",
    "        \n",
    "        output = output[1:].view(-1, output.shape[-1])\n",
    "        trg = trg[1:].view(-1)\n",
    "        \n",
    "        #trg = [(trg sent len - 1) * batch size]\n",
    "        #output = [(trg sent len - 1) * batch size, output dim]\n",
    "        \n",
    "        loss = criterion(output, trg)\n",
    "        \n",
    "        loss.backward()\n",
    "        \n",
    "        torch.nn.utils.clip_grad_norm_(model.parameters(), clip)\n",
    "        \n",
    "        optimizer.step()\n",
    "        \n",
    "        epoch_loss += loss.item()\n",
    "        \n",
    "        history.append(loss.cpu().data.numpy())\n",
    "        if (i+1)%10==0:\n",
    "            fig, ax = plt.subplots(nrows=1, ncols=2, figsize=(12, 8))\n",
    "\n",
    "            clear_output(True)\n",
    "            ax[0].plot(history, label='train loss')\n",
    "            ax[0].set_xlabel('Batch')\n",
    "            ax[0].set_title('Train loss')\n",
    "            if train_history is not None:\n",
    "                ax[1].plot(train_history, label='general train history')\n",
    "                ax[1].set_xlabel('Epoch')\n",
    "            if valid_history is not None:\n",
    "                ax[1].plot(valid_history, label='general valid history')\n",
    "            plt.legend()\n",
    "            \n",
    "            plt.show()\n",
    "        \n",
    "    return epoch_loss / len(iterator)"
   ]
  },
  {
   "cell_type": "code",
   "execution_count": 50,
   "metadata": {},
   "outputs": [],
   "source": [
    "def evaluate(model, iterator, criterion):\n",
    "    \n",
    "    model.eval()\n",
    "    \n",
    "    epoch_loss = 0\n",
    "    \n",
    "    with torch.no_grad():\n",
    "    \n",
    "        for i, batch in enumerate(iterator):\n",
    "\n",
    "            src, src_len = batch.src\n",
    "            trg, trg_len = batch.trg\n",
    "\n",
    "            output, attention = model(src, src_len, trg, 0) #turn off teacher forcing\n",
    "\n",
    "            #trg = [trg sent len, batch size]\n",
    "            #output = [trg sent len, batch size, output dim]\n",
    "\n",
    "            output = output[1:].view(-1, output.shape[-1])\n",
    "            trg = trg[1:].view(-1)\n",
    "\n",
    "            #trg = [(trg sent len - 1) * batch size]\n",
    "            #output = [(trg sent len - 1) * batch size, output dim]\n",
    "\n",
    "            loss = criterion(output, trg)\n",
    "\n",
    "            epoch_loss += loss.item()\n",
    "        \n",
    "    return epoch_loss / len(iterator)"
   ]
  },
  {
   "cell_type": "code",
   "execution_count": 51,
   "metadata": {},
   "outputs": [],
   "source": [
    "def epoch_time(start_time, end_time):\n",
    "    elapsed_time = end_time - start_time\n",
    "    elapsed_mins = int(elapsed_time / 60)\n",
    "    elapsed_secs = int(elapsed_time - (elapsed_mins * 60))\n",
    "    return elapsed_mins, elapsed_secs"
   ]
  },
  {
   "cell_type": "code",
   "execution_count": 52,
   "metadata": {},
   "outputs": [
    {
     "data": {
      "image/png": "[encoded data removed]",
      "text/plain": [
       "<Figure size 864x576 with 2 Axes>"
      ]
     },
     "metadata": {
      "needs_background": "light"
     },
     "output_type": "display_data"
    },
    {
     "name": "stdout",
     "output_type": "stream",
     "text": [
      "Epoch: 05 | Time: 14m 30s\n",
      "\tTrain Loss: 5.009 | Train PPL: 149.700\n",
      "\t Val. Loss: 5.656 |  Val. PPL: 285.912\n"
     ]
    }
   ],
   "source": [
    "MODEL_NAME = 'models/lstm_baseline.pt'\n",
    "N_EPOCHS = 5\n",
    "CLIP = 1\n",
    "\n",
    "train_history = []\n",
    "valid_history = []\n",
    "\n",
    "best_valid_loss = float('inf')\n",
    "\n",
    "for epoch in range(N_EPOCHS):\n",
    "    \n",
    "    start_time = time.time()\n",
    "    \n",
    "    train_loss = train(model, train_iterator, optimizer, criterion, CLIP, train_history, valid_history)\n",
    "    valid_loss = evaluate(model, valid_iterator, criterion)\n",
    "    \n",
    "    end_time = time.time()\n",
    "    \n",
    "    epoch_mins, epoch_secs = epoch_time(start_time, end_time)\n",
    "    \n",
    "    if valid_loss < best_valid_loss:\n",
    "        best_valid_loss = valid_loss\n",
    "        torch.save(model.state_dict(), MODEL_NAME)\n",
    "        \n",
    "        \n",
    "    train_history.append(train_loss)\n",
    "    valid_history.append(valid_loss)\n",
    "    \n",
    "    print(f'Epoch: {epoch+1:02} | Time: {epoch_mins}m {epoch_secs}s')\n",
    "    print(f'\\tTrain Loss: {train_loss:.3f} | Train PPL: {math.exp(train_loss):7.3f}')\n",
    "    print(f'\\t Val. Loss: {valid_loss:.3f} |  Val. PPL: {math.exp(valid_loss):7.3f}')"
   ]
  },
  {
   "cell_type": "code",
   "execution_count": null,
   "metadata": {},
   "outputs": [],
   "source": []
  },
  {
   "cell_type": "code",
   "execution_count": null,
   "metadata": {},
   "outputs": [],
   "source": [
    "for epoch in range(N_EPOCHS):\n",
    "    \n",
    "    start_time = time.time()\n",
    "    \n",
    "    train_loss = train(model, train_iterator, optimizer, criterion, CLIP, train_history, valid_history)\n",
    "    valid_loss = evaluate(model, valid_iterator, criterion)\n",
    "    \n",
    "    end_time = time.time()\n",
    "    \n",
    "    epoch_mins, epoch_secs = epoch_time(start_time, end_time)\n",
    "    \n",
    "    if valid_loss < best_valid_loss:\n",
    "        best_valid_loss = valid_loss\n",
    "        torch.save(model.state_dict(), MODEL_NAME)\n",
    "        \n",
    "        \n",
    "    train_history.append(train_loss)\n",
    "    valid_history.append(valid_loss)\n",
    "    \n",
    "    print(f'Epoch: {epoch+1:02} | Time: {epoch_mins}m {epoch_secs}s')\n",
    "    print(f'\\tTrain Loss: {train_loss:.3f} | Train PPL: {math.exp(train_loss):7.3f}')\n",
    "    print(f'\\t Val. Loss: {valid_loss:.3f} |  Val. PPL: {math.exp(valid_loss):7.3f}')"
   ]
  },
  {
   "cell_type": "code",
   "execution_count": null,
   "metadata": {},
   "outputs": [],
   "source": []
  },
  {
   "cell_type": "code",
   "execution_count": null,
   "metadata": {},
   "outputs": [],
   "source": []
  },
  {
   "cell_type": "code",
   "execution_count": 53,
   "metadata": {},
   "outputs": [
    {
     "name": "stdout",
     "output_type": "stream",
     "text": [
      "| Test Loss: 5.714 | Test PPL: 302.992 |\n"
     ]
    }
   ],
   "source": [
    "# for cpu usage\n",
    "model.load_state_dict(torch.load(MODEL_NAME, map_location=torch.device('cpu')))\n",
    "\n",
    "# for gpu usage\n",
    "# model.load_state_dict(torch.load(MODEL_NAME), map_location=torch.device('cpu'))\n",
    "\n",
    "\n",
    "test_loss = evaluate(model, test_iterator, criterion)\n",
    "\n",
    "print(f'| Test Loss: {test_loss:.3f} | Test PPL: {math.exp(test_loss):7.3f} |')"
   ]
  },
  {
   "cell_type": "code",
   "execution_count": 54,
   "metadata": {},
   "outputs": [],
   "source": [
    "def translate_sentence(model, tokenized_sentence):\n",
    "    model.eval()\n",
    "    tokenized_sentence = ['<sos>'] + [t.lower() for t in tokenized_sentence] + ['<eos>']\n",
    "    numericalized = [TEXT.vocab.stoi[t] for t in tokenized_sentence] \n",
    "    sentence_length = torch.LongTensor([len(numericalized)]).to(device) \n",
    "    tensor = torch.LongTensor(numericalized).unsqueeze(1).to(device) \n",
    "    translation_tensor_logits, attention = model(tensor, sentence_length, None, 0) \n",
    "    translation_tensor = torch.argmax(translation_tensor_logits.squeeze(1), 1)\n",
    "    translation = [TEXT.vocab.itos[t] for t in translation_tensor]\n",
    "    translation, attention = translation[1:], attention[1:]\n",
    "    return translation, attention"
   ]
  },
  {
   "cell_type": "code",
   "execution_count": 55,
   "metadata": {},
   "outputs": [],
   "source": [
    "def display_attention(sentence, translation, attention):\n",
    "    \n",
    "    fig = plt.figure(figsize=(30,50))\n",
    "    ax = fig.add_subplot(111)\n",
    "    \n",
    "    attention = attention.squeeze(1).cpu().detach().numpy().T\n",
    "    \n",
    "    cax = ax.matshow(attention, cmap='bone')\n",
    "   \n",
    "    ax.tick_params(labelsize=12)\n",
    "    ax.set_yticklabels(['']+['<sos>']+[t.lower() for t in sentence]+['<eos>'])\n",
    "    ax.set_xticklabels(['']+translation, rotation=80)\n",
    "\n",
    "    ax.xaxis.set_major_locator(ticker.MultipleLocator(1))\n",
    "    ax.yaxis.set_major_locator(ticker.MultipleLocator(1))\n",
    "\n",
    "    plt.show()\n",
    "    plt.close()"
   ]
  },
  {
   "cell_type": "code",
   "execution_count": null,
   "metadata": {},
   "outputs": [],
   "source": []
  },
  {
   "cell_type": "code",
   "execution_count": null,
   "metadata": {},
   "outputs": [],
   "source": []
  },
  {
   "cell_type": "code",
   "execution_count": 56,
   "metadata": {},
   "outputs": [
    {
     "name": "stdout",
     "output_type": "stream",
     "text": [
      "src = ['the', 'integrated', 'completed', 'likelihood', '(', 'icl', ')', 'criterion', 'has', 'proven', 'to', 'be', 'a', 'very', 'popular', 'approach', 'in', 'model', '-', 'based', 'clustering', 'through', 'automatically', 'choosing', 'the', 'number', 'of', 'clusters', 'in', 'a', 'mixture', 'model', '.', 'this', 'approach', 'effectively', 'maximises', 'the', 'complete', 'data', 'likelihood', ',', 'thereby', 'including', 'the', 'allocation', 'of', 'observations', 'to', 'clusters', 'in', 'the', 'model', 'selection', 'criterion', '.', 'however', 'for', 'practical', 'implementation', 'one', 'needs', 'to', 'introduce', 'an', 'approximation', 'in', 'order', 'to', 'estimate', 'the', 'icl', '.', 'our', 'contribution', 'here', 'is', 'to', 'illustrate', 'that', 'through', 'the', 'use', 'of', 'conjugate', 'priors', 'one', 'can', 'derive', 'an', 'exact', 'expression', 'for', 'icl', 'and', 'so', 'avoiding', 'any', 'approximation', '.', 'moreover', ',', 'we', 'illustrate', 'how', 'one', 'can', 'find', 'both', 'the', 'number', 'of', 'clusters', 'and', 'the', 'best', 'allocation', 'of', 'observations', 'in', 'one', 'algorithmic', 'framework', '.', 'the', 'performance', 'of', 'our', 'algorithm', 'is', 'presented', 'on', 'several', 'simulated', 'and', 'real', 'examples', '.']\n",
      "trg = ['choosing', 'the', 'number', 'of', 'clusters', 'in', 'a', 'finite', 'mixture', 'model', 'using', 'an', 'exact', 'integrated', 'completed', 'likelihood', 'criterion']\n"
     ]
    }
   ],
   "source": [
    "example_idx = 100\n",
    "\n",
    "src = vars(train_data.examples[example_idx])['src']\n",
    "trg = vars(train_data.examples[example_idx])['trg']\n",
    "\n",
    "print(f'src = {src}')\n",
    "print(f'trg = {trg}')"
   ]
  },
  {
   "cell_type": "code",
   "execution_count": 57,
   "metadata": {},
   "outputs": [
    {
     "name": "stdout",
     "output_type": "stream",
     "text": [
      "predicted trg = ['a', 'model', 'for', 'for', 'mixture', 'models']\n"
     ]
    }
   ],
   "source": [
    "translation, attention = translate_sentence(model, src)\n",
    "\n",
    "print(f'predicted trg = {translation}')"
   ]
  },
  {
   "cell_type": "code",
   "execution_count": 58,
   "metadata": {
    "scrolled": true
   },
   "outputs": [
    {
     "data": {
      "image/png": "[encoded data removed]",
      "text/plain": [
       "<Figure size 2160x3600 with 1 Axes>"
      ]
     },
     "metadata": {
      "needs_background": "light"
     },
     "output_type": "display_data"
    }
   ],
   "source": [
    "display_attention(src, translation, attention)"
   ]
  },
  {
   "cell_type": "code",
   "execution_count": 59,
   "metadata": {},
   "outputs": [
    {
     "name": "stdout",
     "output_type": "stream",
     "text": [
      "Оригинальный заголовок:  diversity and its decomposition into variety , balance and disparity\n",
      "Предсказанный заголовок:  a of of of\n",
      "-----------------------------------\n",
      "Оригинальный заголовок:  improving the johnson - lindenstrauss lemma\n",
      "Предсказанный заголовок:  on the of of - - -\n",
      "-----------------------------------\n",
      "Оригинальный заголовок:  the mean - field approximation model of company 's income growth\n",
      "Предсказанный заголовок:  the of income distribution of income income distribution\n",
      "-----------------------------------\n",
      "Оригинальный заголовок:  efficient inference of protein structural ensembles\n",
      "Предсказанный заголовок:  protein - of protein folding\n",
      "-----------------------------------\n",
      "Оригинальный заголовок:  financial black swans driven by ultrafast machine ecology\n",
      "Предсказанный заголовок:  the of of of of of of the\n",
      "-----------------------------------\n",
      "Оригинальный заголовок:  tracking dynamic point processes on networks\n",
      "Предсказанный заголовок:  a temporal structure of temporal networks\n",
      "-----------------------------------\n",
      "Оригинальный заголовок:  deeply virtual compton scattering off the neutron\n",
      "Предсказанный заголовок:  the of of of of light scattering\n",
      "-----------------------------------\n",
      "Оригинальный заголовок:  optimal binary classifier aggregation for general losses\n",
      "Предсказанный заголовок:  learning - margin classifiers\n",
      "-----------------------------------\n",
      "Оригинальный заголовок:  globally adaptive quantile regression with ultra - high dimensional data\n",
      "Предсказанный заголовок:  quantile quantile regression for quantile regression\n",
      "-----------------------------------\n",
      "Оригинальный заголовок:  requirements for secure clock synchronization\n",
      "Предсказанный заголовок:  a - of wireless communications in wireless communications\n",
      "-----------------------------------\n",
      "Оригинальный заголовок:  distributions of historic market data -- implied and realized volatility\n",
      "Предсказанный заголовок:  the implied volatility of the implied volatility\n",
      "-----------------------------------\n",
      "Оригинальный заголовок:  building classifiers to predict the start of glucose - lowering pharmacotherapy using belgian health expenditure data\n",
      "Предсказанный заголовок:  a : a of of of of\n",
      "-----------------------------------\n",
      "Оригинальный заголовок:  optimal electrostatic space tower ( mast , new space elevator )\n",
      "Предсказанный заголовок:  <unk> <unk> <unk> <unk> <unk> <unk> <unk> <unk> <unk> <unk> <unk> <unk> <unk> <unk>\n",
      "-----------------------------------\n",
      "Оригинальный заголовок:  citrate synthase proteins in extremophilic organisms : studies within a structure - based model\n",
      "Предсказанный заголовок:  protein folding of protein folding of protein folding\n",
      "-----------------------------------\n",
      "Оригинальный заголовок:  sudden transitions in coupled opinion and epidemic dynamics with vaccination\n",
      "Предсказанный заголовок:  a of of of epidemic model\n",
      "-----------------------------------\n",
      "Оригинальный заголовок:  reinforcement learning for matrix computations : pagerank as an example\n",
      "Предсказанный заголовок:  learning learning for online learning\n",
      "-----------------------------------\n",
      "Оригинальный заголовок:  level spacings in random matrix theory and coulomb blockade peaks in quantum dots\n",
      "Предсказанный заголовок:  the of of of of quantum dot\n",
      "-----------------------------------\n",
      "Оригинальный заголовок:  stochastic synchronization of genetic oscillators induced by mirna\n",
      "Предсказанный заголовок:  a of of of of of signaling in a signaling\n",
      "-----------------------------------\n",
      "Оригинальный заголовок:  comment : the essential role of pair matching\n",
      "Предсказанный заголовок:  comment on the - - - - -\n",
      "-----------------------------------\n",
      "Оригинальный заголовок:  many body localization in heisenberg xxz magnet in a random field\n",
      "Предсказанный заголовок:  the of of of spin -\n",
      "-----------------------------------\n",
      "Оригинальный заголовок:  variational particle approximations\n",
      "Предсказанный заголовок:  variational inference for variational inference\n",
      "-----------------------------------\n",
      "Оригинальный заголовок:  local charged states in la_{0.89}sr_{0.11}mno_3 single crystals\n",
      "Предсказанный заголовок:  electronic structure of the - of in the <unk>\n",
      "-----------------------------------\n",
      "Оригинальный заголовок:  the effects of latent infection on the dynamics of hiv\n",
      "Предсказанный заголовок:  a of hiv infection in hiv infection in hiv infection\n",
      "-----------------------------------\n",
      "Оригинальный заголовок:  search for photospheric footpoints of quiet sun transition region loops\n",
      "Предсказанный заголовок:  the <unk> of the <unk> <unk> <unk> <unk> <unk> <unk>\n",
      "-----------------------------------\n",
      "Оригинальный заголовок:  the universal cannon -- thurston maps and the boundary of the curve complex\n",
      "Предсказанный заголовок:  on surfaces of surfaces\n",
      "-----------------------------------\n",
      "Оригинальный заголовок:  symmetric bundles and representations of lie triple systems\n",
      "Предсказанный заголовок:  on the of of of\n",
      "-----------------------------------\n",
      "Оригинальный заголовок:  feature extraction and automated classification of heartbeats by machine learning\n",
      "Предсказанный заголовок:  a detection of ecg detection in ecg signals\n",
      "-----------------------------------\n",
      "Оригинальный заголовок:  budgeted influence maximization for multiple products\n",
      "Предсказанный заголовок:  a - for for for for\n",
      "-----------------------------------\n",
      "Оригинальный заголовок:  application of chiral perturbation theory to 2 + 1 flavor lattice qcd with o(a)-improved wilson quarks\n",
      "Предсказанный заголовок:  qcd qcd qcd quarks in qcd quarks\n",
      "-----------------------------------\n",
      "Оригинальный заголовок:  preference elicitation and robust optimization with multi - attribute quasi - concave choice functions\n",
      "Предсказанный заголовок:  a - - for for -\n",
      "-----------------------------------\n",
      "Оригинальный заголовок:  efficient l_{alpha } distance approximation for high dimensional data using alpha - stable projection\n",
      "Предсказанный заголовок:  a - - - - - - -\n",
      "-----------------------------------\n",
      "Оригинальный заголовок:  the isotopic 6li/7li ratio in cen x-4 and the origin of li in x - ray binaries\n",
      "Предсказанный заголовок:  the the of the the the stars of the stars\n",
      "-----------------------------------\n",
      "Оригинальный заголовок:  slide statistics and financial returns\n",
      "Предсказанный заголовок:  a of of of financial measures\n",
      "-----------------------------------\n",
      "Оригинальный заголовок:  reduced and extended weak coupling limit\n",
      "Предсказанный заголовок:  a of of of\n",
      "-----------------------------------\n",
      "Оригинальный заголовок:  exact reconstruction conditions for regularized modified basis pursuit\n",
      "Предсказанный заголовок:  a - - sparse sparse - sparse sparse - sparse sparse -\n",
      "-----------------------------------\n",
      "Оригинальный заголовок:  exact feature probabilities in images with occlusion\n",
      "Предсказанный заголовок:  a of of of of\n",
      "-----------------------------------\n",
      "Оригинальный заголовок:  driver surge pricing\n",
      "Предсказанный заголовок:  a of of of demand : a and and\n",
      "-----------------------------------\n",
      "Оригинальный заголовок:  on periodic solutions for a reduction of benney chain\n",
      "Предсказанный заголовок:  on the of of of - - systems\n",
      "-----------------------------------\n",
      "Оригинальный заголовок:  supervised dictionary learning by a variational bayesian group sparse nonnegative matrix factorization\n",
      "Предсказанный заголовок:  sparse nonnegative matrix factorization with sparse -\n",
      "-----------------------------------\n",
      "Оригинальный заголовок:  moment closure in a moran model with recombination\n",
      "Предсказанный заголовок:  a of of of model\n",
      "-----------------------------------\n",
      "Оригинальный заголовок:  modelling an ammonium transporter with scls\n",
      "Предсказанный заголовок:  a of of of of <unk> : a <unk> <unk> <unk> <unk>\n",
      "-----------------------------------\n",
      "Оригинальный заголовок:  study of the combined effect of temperature , ph and water activity on the radial growth rate of the white - rot basidiomycete physisporinus vitreus by using a hyphal growth model\n",
      "Предсказанный заголовок:  the of of of of the of of the <unk>\n",
      "-----------------------------------\n",
      "Оригинальный заголовок:  a generalized pss architecture for balancing transient and small - signal response\n",
      "Предсказанный заголовок:  a - - - - - - - - - - - - - -\n",
      "-----------------------------------\n",
      "Оригинальный заголовок:  species notions that combine phylogenetic trees and phenotypic partitions\n",
      "Предсказанный заголовок:  a the of phylogenetic trees\n",
      "-----------------------------------\n",
      "Оригинальный заголовок:  real - time observation of polyelectrolyte - induced binding of charged bilayers\n",
      "Предсказанный заголовок:  the of of of of of of a <unk>\n",
      "-----------------------------------\n",
      "Оригинальный заголовок:  application of ewald summations to long - range dispersion forces\n",
      "Предсказанный заголовок:  the of of of the - - in the -\n",
      "-----------------------------------\n",
      "Оригинальный заголовок:  leader - follower network aggregative game with stochastic agents ' communication and activeness\n",
      "Предсказанный заголовок:  a of of of of of\n",
      "-----------------------------------\n",
      "Оригинальный заголовок:  an addendum to \" how good is psk for peak - limited fading channels in the low - snr regime ? \"\n",
      "Предсказанный заголовок:  a of of of of of the -\n",
      "-----------------------------------\n",
      "Оригинальный заголовок:  most photometry and ddo spectroscopy of the eclipsing ( white dwarf + red dwarf ) binary v471 tau\n",
      "Предсказанный заголовок:  the the of the <unk> <unk> <unk> <unk> <unk> <unk> <unk>\n",
      "-----------------------------------\n",
      "Оригинальный заголовок:  handling missing data in large healthcare dataset : a case study of unknown trauma outcomes\n",
      "Предсказанный заголовок:  a of of of for the data\n",
      "-----------------------------------\n",
      "Оригинальный заголовок:  multi - objective risk - averse two - stage stochastic programming problems\n",
      "Предсказанный заголовок:  a - - - - - - - risk minimization\n",
      "-----------------------------------\n",
      "Оригинальный заголовок:  determining optimal stop - loss thresholds via bayesian analysis of drawdown distributions\n",
      "Предсказанный заголовок:  the - of the - - of the - -\n",
      "-----------------------------------\n",
      "Оригинальный заголовок:  robust hedging with proportional transaction costs\n",
      "Предсказанный заголовок:  hedging hedging hedging under transaction costs\n",
      "-----------------------------------\n",
      "Оригинальный заголовок:  observation of b^+ meson decays to a1(1260)^+ k^0 and b^0 to a1(1260)^- k^+\n",
      "Предсказанный заголовок:  the <unk> <unk> <unk> <unk> <unk> <unk> <unk> <unk> <unk> <unk> <unk> <unk> <unk> <unk> <unk> <unk> <unk> <unk> <unk> <unk> <unk> <unk> <unk> <unk> <unk> <unk> <unk> <unk> <unk> <unk> <unk> <unk> <unk> <unk> <unk> <unk> <unk> <unk> <unk> <unk> <unk> <unk> <unk> <unk> <unk> <unk> <unk> <unk> <unk> <unk> <unk> <unk> <unk> <unk> <unk> <unk> <unk> <unk> <unk> <unk> <unk> <unk> <unk> <unk> <unk> <unk> <unk> <unk> <unk> <unk> <unk> <unk> <unk> <unk> <unk> <unk> <unk> <unk> <unk> <unk> <unk> <unk> <unk> <unk> <unk> <unk> <unk> <unk> <unk> <unk> <unk> <unk> <unk> <unk> <unk> <unk> <unk> <unk>\n",
      "-----------------------------------\n",
      "Оригинальный заголовок:  relationship between non - exponentiality of relaxation and relaxation time at the glass transition\n",
      "Предсказанный заголовок:  the - of of - - -\n",
      "-----------------------------------\n",
      "Оригинальный заголовок:  simulation study of the two - dimensional burridge - knopoff model of earthquakes\n",
      "Предсказанный заголовок:  the of of of of of the\n",
      "-----------------------------------\n",
      "Оригинальный заголовок:  temperature and polarization cmb maps from primordial non - gaussianities of the local type\n",
      "Предсказанный заголовок:  the of of of of of the -\n",
      "-----------------------------------\n",
      "Оригинальный заголовок:  markov blanket ranking using kernel - based conditional dependence measures\n",
      "Предсказанный заголовок:  a - for for for\n",
      "-----------------------------------\n",
      "Оригинальный заголовок:  analysis of two step nilsequences\n",
      "Предсказанный заголовок:  a of of of of of\n",
      "-----------------------------------\n",
      "Оригинальный заголовок:  degeneracies in the length spectra of metric graphs\n",
      "Предсказанный заголовок:  spectral spectral spectrum of the graphs\n",
      "-----------------------------------\n",
      "Оригинальный заголовок:  an adaptive step - down procedure with proven fdr control under independence\n",
      "Предсказанный заголовок:  optimal false discovery rate control for false discovery rate control\n",
      "-----------------------------------\n",
      "Оригинальный заголовок:  arrangements of curves and algebraic surfaces\n",
      "Предсказанный заголовок:  on of of of of of of\n",
      "-----------------------------------\n",
      "Оригинальный заголовок:  a bayesian approach to the evaluation of risk - based microbiological criteria for \\uppercasecampylobacter in broiler meat\n",
      "Предсказанный заголовок:  bayesian bayesian of of for risk -\n",
      "-----------------------------------\n",
      "Оригинальный заголовок:  a peek into the unobservable : hidden states and bayesian inference for the bitcoin and ether price series\n",
      "Предсказанный заголовок:  a financial market : a and and financial market\n",
      "-----------------------------------\n",
      "Оригинальный заголовок:  localization of injective modules over arithmetical rings\n",
      "Предсказанный заголовок:  on the of of rings\n",
      "-----------------------------------\n",
      "Оригинальный заголовок:  specmar : fast heart rate estimation from ppg signal using a modified spectral subtraction scheme with composite motion artifacts reference generation\n",
      "Предсказанный заголовок:  a estimation of for heart rate estimation for ecg signals\n",
      "-----------------------------------\n",
      "Оригинальный заголовок:  polynomial hamiltonian system in two variables with $ w({a}^{(1)}_1)$-symmetry and the second painlev\\'e hierarchy\n",
      "Предсказанный заголовок:  a of of of systems\n",
      "-----------------------------------\n",
      "Оригинальный заголовок:  skorohod 's representation theorem and optimal strategies for markets with frictions\n",
      "Предсказанный заголовок:  optimal investment and investment -\n",
      "-----------------------------------\n",
      "Оригинальный заголовок:  fast sparse superposition codes have exponentially small error probability for r < c\n",
      "Предсказанный заголовок:  a - of sparse coding for the gaussian channel\n",
      "-----------------------------------\n",
      "Оригинальный заголовок:  the effect of round - off error on long memory processes\n",
      "Предсказанный заголовок:  the estimation of the long memory range memory\n",
      "-----------------------------------\n",
      "Оригинальный заголовок:  adn : artifact disentanglement network for unsupervised metal artifact reduction\n",
      "Предсказанный заголовок:  deep learning for image image image image image\n",
      "-----------------------------------\n",
      "Оригинальный заголовок:  efficiency and structure in multinomial inverse regression\n",
      "Предсказанный заголовок:  discussion of \" : struggles with discussion of \"\n",
      "-----------------------------------\n",
      "Оригинальный заголовок:  construction of bayesian deformable models via stochastic approximation algorithm : a convergence study\n",
      "Предсказанный заголовок:  a estimation of the estimation of the\n",
      "-----------------------------------\n",
      "Оригинальный заголовок:  topologically controlled lossy compression\n",
      "Предсказанный заголовок:  a - of for for image\n",
      "-----------------------------------\n",
      "Оригинальный заголовок:  manifold unwrapping using density ridges\n",
      "Предсказанный заголовок:  manifold manifold kernels for manifold\n",
      "-----------------------------------\n",
      "Оригинальный заголовок:  on the d - dimensional quasi - equally spaced sampling\n",
      "Предсказанный заголовок:  random matrix of random random matrices\n",
      "-----------------------------------\n",
      "Оригинальный заголовок:  exotic ground state phases of $ s=1/2 $ heisenberg $ \\delta$-chain with ferromagnetic main chain\n",
      "Предсказанный заголовок:  phase transition in the spin - in the kagome lattice\n",
      "-----------------------------------\n",
      "Оригинальный заголовок:  statistics of topological rna structures\n",
      "Предсказанный заголовок:  on the of of rna structures\n",
      "-----------------------------------\n",
      "Оригинальный заголовок:  adaptive density estimation for stationary processes\n",
      "Предсказанный заголовок:  adaptive estimation of the processes\n",
      "-----------------------------------\n",
      "Оригинальный заголовок:  statistical tests and research assessments : a comment on schneider ( 2012 )\n",
      "Предсказанный заголовок:  the the of of of\n",
      "-----------------------------------\n",
      "Оригинальный заголовок:  precision lattice calculation of d and ds decay constants\n",
      "Предсказанный заголовок:  qcd qcd at the qcd quarks\n",
      "-----------------------------------\n",
      "Оригинальный заголовок:  a class of random fields on complete graphs with tractable partition function\n",
      "Предсказанный заголовок:  on the graph of random graphs\n",
      "-----------------------------------\n",
      "Оригинальный заголовок:  local neighborhood fusion in locally constant gaussian graphical models\n",
      "Предсказанный заголовок:  a - - selection for high - dimensional graphical models\n",
      "-----------------------------------\n",
      "Оригинальный заголовок:  trajectory advancement during human - robot collaboration\n",
      "Предсказанный заголовок:  a - of of of of of of\n",
      "-----------------------------------\n",
      "Оригинальный заголовок:  the inequality between mass and angular momentum for axially symmetric black holes\n",
      "Предсказанный заголовок:  the the of black holes in black holes\n",
      "-----------------------------------\n",
      "Оригинальный заголовок:  hedging in bond markets by the clark - ocone formula\n",
      "Предсказанный заголовок:  pricing pricing hedging in a hedging\n",
      "-----------------------------------\n",
      "Оригинальный заголовок:  efficient maximum likelihood parameterization of continuous - time markov processes\n",
      "Предсказанный заголовок:  a markov models for markov markov processes\n",
      "-----------------------------------\n",
      "Оригинальный заголовок:  non - linear relationship of cell hit and transformation probabilities in low dose of inhaled radon progenies\n",
      "Предсказанный заголовок:  a of of of of of the - of the\n",
      "-----------------------------------\n",
      "Оригинальный заголовок:  geometric mean of states and transition amplitudes\n",
      "Предсказанный заголовок:  on the of of the -\n",
      "-----------------------------------\n",
      "Оригинальный заголовок:  eeg machine learning with higuchi fractal dimension and sample entropy as features for successful detection of depression\n",
      "Предсказанный заголовок:  a - of for for brain prediction\n",
      "-----------------------------------\n",
      "Оригинальный заголовок:  improved rates for wasserstein deconvolution with ordinary smooth error in dimension one\n",
      "Предсказанный заголовок:  on the of of the of the\n",
      "-----------------------------------\n",
      "Оригинальный заголовок:  sequential hypothesis test with online usage - constrained sensor selection\n",
      "Предсказанный заголовок:  sequential sequential sequential sequential sequential sequential sequential sequential detection\n",
      "-----------------------------------\n",
      "Оригинальный заголовок:  finite sample bounds for expected number of false rejections under martingale dependence with applications to fdr\n",
      "Предсказанный заголовок:  testing false discovery rate control for multiple testing\n",
      "-----------------------------------\n",
      "Оригинальный заголовок:  content - adaptive non - parametric texture similarity measure\n",
      "Предсказанный заголовок:  a - based image classification\n",
      "-----------------------------------\n",
      "Оригинальный заголовок:  near - optimal anomaly detection in graphs using lovasz extended scan statistic\n",
      "Предсказанный заголовок:  a of of of detection of detection in a networks\n",
      "-----------------------------------\n",
      "Оригинальный заголовок:  low - density graph codes that are optimal for source / channel coding and binning\n",
      "Предсказанный заголовок:  a coding coding for coding coding\n",
      "-----------------------------------\n",
      "Оригинальный заголовок:  uniform central limit theorems for the grenander estimator\n",
      "Предсказанный заголовок:  asymptotic normality of the maximum likelihood estimator for the maximum likelihood estimator\n",
      "-----------------------------------\n",
      "Оригинальный заголовок:  remarks on modular symbols for maass wave forms\n",
      "Предсказанный заголовок:  a of of of of of\n",
      "-----------------------------------\n",
      "Оригинальный заголовок:  holonomic gradient method for distribution function of a weighted sum of noncentral chi - square random variables\n",
      "Предсказанный заголовок:  the the of of the distribution of the distribution of the distribution\n",
      "-----------------------------------\n",
      "Оригинальный заголовок:  learning how to dynamically route autonomous vehicles on shared roads\n",
      "Предсказанный заголовок:  reinforcement learning in a reinforcement learning\n",
      "-----------------------------------\n"
     ]
    }
   ],
   "source": [
    "for example_idx in range(100):\n",
    "    src = vars(test_data.examples[example_idx])['src']\n",
    "    trg = vars(test_data.examples[example_idx])['trg']\n",
    "    translation, attention = translate_sentence(model, src)\n",
    "\n",
    "    print('Оригинальный заголовок: ', ' '.join(trg))\n",
    "    print('Предсказанный заголовок: ', ' '.join(translation))\n",
    "    print('-----------------------------------')"
   ]
  },
  {
   "cell_type": "code",
   "execution_count": 60,
   "metadata": {},
   "outputs": [
    {
     "name": "stdout",
     "output_type": "stream",
     "text": [
      "src = ['suppose', 'a', 'string', '$', 'x_1^n=(x_1,x_2,', '...', ',x_n)$', 'generated', 'by', 'a', 'memoryless', 'source', '$', '(', 'x_n)_{n\\\\geq', '1}$', 'with', 'distribution', '$', 'p$', 'is', 'to', 'be', 'compressed', 'with', 'distortion', 'no', 'greater', 'than', '$', 'd\\\\geq', '0', '$', ',', 'using', 'a', 'memoryless', 'random', 'codebook', 'with', 'distribution', '$', 'q$.', 'the', 'compression', 'performance', 'is', 'determined', 'by', 'the', '`', '`', 'generalized', 'asymptotic', 'equipartition', 'property', \"'\", \"'\", '(', 'aep', ')', ',', 'which', 'states', 'that', 'the', 'probability', 'of', 'finding', 'a', '$', 'd$-close', 'match', 'between', '$', 'x_1^n$', 'and', 'any', 'given', 'codeword', '$', 'y_1^n$', ',', 'is', 'approximately', '$', '2^{-n', 'r(p', ',', 'q', ',', 'd)}$', ',', 'where', 'the', 'rate', 'function', '$', 'r(p', ',', 'q', ',', 'd)$', 'can', 'be', 'expressed', 'as', 'an', 'infimum', 'of', 'relative', 'entropies', '.', 'the', 'main', 'purpose', 'here', 'is', 'to', 'remove', 'various', 'restrictive', 'assumptions', 'on', 'the', 'validity', 'of', 'this', 'result', 'that', 'have', 'appeared', 'in', 'the', 'recent', 'literature', '.', 'necessary', 'and', 'sufficient', 'conditions', 'for', 'the', 'generalized', 'aep', 'are', 'provided', 'in', 'the', 'general', 'setting', 'of', 'abstract', 'alphabets', 'and', 'unbounded', 'distortion', 'measures', '.', 'all', 'possible', 'distortion', 'levels', '$', 'd\\\\geq', '0', '$', 'are', 'considered', ';', 'the', 'source', '$', '(', 'x_n)_{n\\\\geq', '1}$', 'can', 'be', 'stationary', 'and', 'ergodic', ';', 'and', 'the', 'codebook', 'distribution', 'can', 'have', 'memory', '.', 'moreover', ',', 'the', 'behavior', 'of', 'the', 'matching', 'probability', 'is', 'precisely', 'characterized', ',', 'even', 'when', 'the', 'generalized', 'aep', 'is', 'not', 'valid', '.', 'natural', 'characterizations', 'of', 'the', 'rate', 'function', '$', 'r(p', ',', 'q', ',', 'd)$', 'are', 'established', 'under', 'equally', 'general', 'conditions', '.']\n",
      "trg = ['the', 'generalized', 'asymptotic', 'equipartition', 'property', ':', 'necessary', 'and', 'sufficient', 'conditions']\n"
     ]
    }
   ],
   "source": [
    "example_idx = 0\n",
    "\n",
    "src = vars(valid_data.examples[example_idx])['src']\n",
    "trg = vars(valid_data.examples[example_idx])['trg']\n",
    "\n",
    "print(f'src = {src}')\n",
    "print(f'trg = {trg}')"
   ]
  },
  {
   "cell_type": "code",
   "execution_count": 61,
   "metadata": {},
   "outputs": [
    {
     "name": "stdout",
     "output_type": "stream",
     "text": [
      "predicted trg = ['a', 'of', 'of', 'of', 'the', 'of', 'of', 'the']\n"
     ]
    },
    {
     "data": {
      "image/png": "[encoded data removed]",
      "text/plain": [
       "<Figure size 2160x3600 with 1 Axes>"
      ]
     },
     "metadata": {
      "needs_background": "light"
     },
     "output_type": "display_data"
    }
   ],
   "source": [
    "translation, attention = translate_sentence(model, src)\n",
    "\n",
    "print(f'predicted trg = {translation}')\n",
    "\n",
    "display_attention(src, translation, attention)"
   ]
  },
  {
   "cell_type": "code",
   "execution_count": 62,
   "metadata": {},
   "outputs": [
    {
     "name": "stdout",
     "output_type": "stream",
     "text": [
      "src = ['we', 'present', 'a', 'bayesian', 'hierarchical', 'framework', 'for', 'both', 'cross', '-', 'sectional', 'and', 'time', '-', 'series', 'return', 'prediction', '.', 'our', 'approach', 'builds', 'on', 'a', 'market', '-', 'timing', 'predictive', 'system', 'that', 'jointly', 'allows', 'for', 'time', '-', 'varying', 'coefficients', 'driven', 'by', 'fundamental', 'characteristics', '.', 'with', 'a', 'bayesian', 'formulation', 'for', 'ensemble', 'learning', ',', 'we', 'examine', 'the', 'joint', 'predictability', 'as', 'well', 'as', 'portfolio', 'efficiency', 'via', 'predictive', 'distribution', '.', 'in', 'the', 'empirical', 'analysis', 'of', 'asset', '-', 'sector', 'allocation', ',', 'our', 'hierarchical', 'ensemble', 'learning', 'portfolio', 'achieves', '500', '%', 'cumulative', 'returns', 'in', 'the', 'period', '1998', '-', '2017', ',', 'and', 'outperforms', 'most', 'workhorse', 'benchmarks', 'as', 'well', 'as', 'the', 'passive', 'investing', 'index', '.', 'our', 'bayesian', 'inference', 'for', 'model', 'selection', 'identifies', 'useful', 'macro', 'predictors', '(', 'long', '-', 'term', 'yield', ',', 'inflation', ',', 'and', 'stock', 'market', 'variance', ')', 'and', 'asset', 'characteristics', '(', 'dividend', 'yield', ',', 'accrual', ',', 'and', 'gross', 'profit', ')', '.', 'using', 'the', 'selected', 'model', 'for', 'predicting', 'sector', 'evolution', ',', 'an', 'equally', 'weighted', 'long', '-', 'short', 'portfolio', 'on', 'winners', 'over', 'losers', 'achieves', 'a', '46', '%', 'sharpe', 'ratio', 'with', 'a', 'significant', 'jensen', \"'s\", 'alpha', '.', 'finally', ',', 'we', 'explore', 'an', 'underexploited', 'connection', 'between', 'classical', 'bayesian', 'forecasting', 'and', 'modern', 'ensemble', 'learning', '.']\n",
      "trg = ['factor', 'investing', ':', 'hierarchical', 'ensemble', 'learning']\n"
     ]
    }
   ],
   "source": [
    "example_idx = 510\n",
    "\n",
    "src = vars(test_data.examples[example_idx])['src']\n",
    "trg = vars(test_data.examples[example_idx])['trg']\n",
    "\n",
    "print(f'src = {src}')\n",
    "print(f'trg = {trg}')"
   ]
  },
  {
   "cell_type": "code",
   "execution_count": 63,
   "metadata": {},
   "outputs": [
    {
     "name": "stdout",
     "output_type": "stream",
     "text": [
      "predicted trg = ['bayesian', 'bayesian', 'bayesian', 'for', 'bayesian', '-', '-']\n"
     ]
    },
    {
     "data": {
      "image/png": "[encoded data removed]",
      "text/plain": [
       "<Figure size 2160x3600 with 1 Axes>"
      ]
     },
     "metadata": {
      "needs_background": "light"
     },
     "output_type": "display_data"
    }
   ],
   "source": [
    "translation, attention = translate_sentence(model, src)\n",
    "\n",
    "print(f'predicted trg = {translation}')\n",
    "\n",
    "display_attention(src, translation, attention)"
   ]
  },
  {
   "cell_type": "markdown",
   "metadata": {},
   "source": [
    "### Считаем BLEU на train.csv"
   ]
  },
  {
   "cell_type": "code",
   "execution_count": 64,
   "metadata": {},
   "outputs": [],
   "source": [
    "import nltk\n",
    "\n",
    "n_gram_weights = [0.3334, 0.3333, 0.3333]"
   ]
  },
  {
   "cell_type": "code",
   "execution_count": 65,
   "metadata": {},
   "outputs": [],
   "source": [
    "test_len = len(test_data)"
   ]
  },
  {
   "cell_type": "code",
   "execution_count": 66,
   "metadata": {},
   "outputs": [
    {
     "name": "stderr",
     "output_type": "stream",
     "text": [
      "/home/science/projects/simcube/venv/lib/python3.6/site-packages/nltk/translate/bleu_score.py:523: UserWarning: \n",
      "The hypothesis contains 0 counts of 2-gram overlaps.\n",
      "Therefore the BLEU score evaluates to 0, independently of\n",
      "how many N-gram overlaps of lower order it contains.\n",
      "Consider using lower n-gram order or use SmoothingFunction()\n",
      "  warnings.warn(_msg)\n",
      "/home/science/projects/simcube/venv/lib/python3.6/site-packages/nltk/translate/bleu_score.py:523: UserWarning: \n",
      "The hypothesis contains 0 counts of 3-gram overlaps.\n",
      "Therefore the BLEU score evaluates to 0, independently of\n",
      "how many N-gram overlaps of lower order it contains.\n",
      "Consider using lower n-gram order or use SmoothingFunction()\n",
      "  warnings.warn(_msg)\n"
     ]
    }
   ],
   "source": [
    "original_texts = []\n",
    "generated_texts = []\n",
    "macro_bleu = 0\n",
    "\n",
    "for example_idx in range(test_len):\n",
    "    src = vars(test_data.examples[example_idx])['src']\n",
    "    trg = vars(test_data.examples[example_idx])['trg']\n",
    "    translation, _ = translate_sentence(model, src)\n",
    "\n",
    "    original_texts.append(trg)\n",
    "    generated_texts.append(translation)\n",
    "\n",
    "    bleu_score = nltk.translate.bleu_score.sentence_bleu(\n",
    "        [trg],\n",
    "        translation,\n",
    "        weights = n_gram_weights\n",
    "    )    \n",
    "    macro_bleu += bleu_score\n",
    "\n",
    "macro_bleu /= test_len"
   ]
  },
  {
   "cell_type": "code",
   "execution_count": 67,
   "metadata": {},
   "outputs": [
    {
     "name": "stdout",
     "output_type": "stream",
     "text": [
      "Macro-average BLEU (LSTM): 0.00968\n"
     ]
    }
   ],
   "source": [
    "# averaging sentence-level BLEU (i.e. macro-average precision)\n",
    "print('Macro-average BLEU (LSTM): {0:.5f}'.format(macro_bleu))"
   ]
  },
  {
   "cell_type": "markdown",
   "metadata": {},
   "source": [
    "### Делаем submission в Kaggle"
   ]
  },
  {
   "cell_type": "code",
   "execution_count": 69,
   "metadata": {},
   "outputs": [],
   "source": [
    "import pandas as pd\n",
    "\n",
    "submission_data = pd.read_csv('../../data/raw/title-generation/test.csv')\n",
    "abstracts = submission_data['abstract'].values"
   ]
  },
  {
   "cell_type": "markdown",
   "metadata": {},
   "source": [
    "Генерация заголовков для тестовых данных:"
   ]
  },
  {
   "cell_type": "code",
   "execution_count": 70,
   "metadata": {},
   "outputs": [],
   "source": [
    "titles = []\n",
    "for abstract in abstracts:\n",
    "    title, _ = translate_sentence(model, abstract.split())\n",
    "    titles.append(' '.join(title).replace('<unk>', ''))"
   ]
  },
  {
   "cell_type": "markdown",
   "metadata": {},
   "source": [
    "Записываем полученные заголовки в файл формата `<abstract>,<title>`:"
   ]
  },
  {
   "cell_type": "code",
   "execution_count": 72,
   "metadata": {},
   "outputs": [],
   "source": [
    "submission_df = pd.DataFrame({'abstract': abstracts, 'title': titles})\n",
    "submission_df.to_csv('predicted_titles.csv', index=False)"
   ]
  },
  {
   "cell_type": "markdown",
   "metadata": {},
   "source": [
    "С помощью скрипта `generate_csv` приводим файл `submission_prediction.csv` в формат, необходимый для посылки в соревнование на Kaggle:"
   ]
  },
  {
   "cell_type": "code",
   "execution_count": 77,
   "metadata": {},
   "outputs": [],
   "source": [
    "import pickle\n",
    "with open('vocs.pkl', 'wb') as f:\n",
    "    pickle.dump(TEXT.vocab.vectors, f)"
   ]
  },
  {
   "cell_type": "code",
   "execution_count": 79,
   "metadata": {},
   "outputs": [],
   "source": [
    "from create_submission import generate_csv\n",
    "\n",
    "generate_csv('predicted_titles.csv', 'kaggle_pred.csv', 'vocs.pkl')"
   ]
  },
  {
   "cell_type": "code",
   "execution_count": null,
   "metadata": {},
   "outputs": [],
   "source": []
  },
  {
   "cell_type": "code",
   "execution_count": null,
   "metadata": {},
   "outputs": [],
   "source": []
  },
  {
   "cell_type": "code",
   "execution_count": null,
   "metadata": {},
   "outputs": [],
   "source": []
  },
  {
   "cell_type": "code",
   "execution_count": null,
   "metadata": {},
   "outputs": [],
   "source": []
  },
  {
   "cell_type": "code",
   "execution_count": null,
   "metadata": {},
   "outputs": [],
   "source": []
  },
  {
   "cell_type": "code",
   "execution_count": null,
   "metadata": {},
   "outputs": [],
   "source": []
  },
  {
   "cell_type": "code",
   "execution_count": null,
   "metadata": {},
   "outputs": [],
   "source": []
  },
  {
   "cell_type": "code",
   "execution_count": null,
   "metadata": {},
   "outputs": [],
   "source": []
  },
  {
   "cell_type": "code",
   "execution_count": null,
   "metadata": {},
   "outputs": [],
   "source": []
  },
  {
   "cell_type": "code",
   "execution_count": null,
   "metadata": {},
   "outputs": [],
   "source": []
  },
  {
   "cell_type": "code",
   "execution_count": null,
   "metadata": {},
   "outputs": [],
   "source": []
  },
  {
   "cell_type": "code",
   "execution_count": null,
   "metadata": {},
   "outputs": [],
   "source": []
  },
  {
   "cell_type": "code",
   "execution_count": null,
   "metadata": {},
   "outputs": [],
   "source": []
  },
  {
   "cell_type": "code",
   "execution_count": null,
   "metadata": {},
   "outputs": [],
   "source": []
  },
  {
   "cell_type": "code",
   "execution_count": null,
   "metadata": {},
   "outputs": [],
   "source": []
  },
  {
   "cell_type": "code",
   "execution_count": null,
   "metadata": {},
   "outputs": [],
   "source": []
  },
  {
   "cell_type": "code",
   "execution_count": null,
   "metadata": {},
   "outputs": [],
   "source": []
  },
  {
   "cell_type": "code",
   "execution_count": null,
   "metadata": {},
   "outputs": [],
   "source": []
  },
  {
   "cell_type": "code",
   "execution_count": null,
   "metadata": {},
   "outputs": [],
   "source": []
  },
  {
   "cell_type": "code",
   "execution_count": null,
   "metadata": {},
   "outputs": [],
   "source": []
  }
 ],
 "metadata": {
  "kernelspec": {
   "display_name": "Python 3",
   "language": "python",
   "name": "python3"
  },
  "language_info": {
   "codemirror_mode": {
    "name": "ipython",
    "version": 3
   },
   "file_extension": ".py",
   "mimetype": "text/x-python",
   "name": "python",
   "nbconvert_exporter": "python",
   "pygments_lexer": "ipython3",
   "version": "3.6.9"
  }
 },
 "nbformat": 4,
 "nbformat_minor": 4
}
