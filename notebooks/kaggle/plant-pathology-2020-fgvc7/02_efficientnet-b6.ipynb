{
 "cells": [
  {
   "cell_type": "code",
   "execution_count": 1,
   "metadata": {},
   "outputs": [],
   "source": [
    "import warnings  \n",
    "\n",
    "import os\n",
    "import time\n",
    "import random\n",
    "import numpy as np\n",
    "import pandas as pd\n",
    "import matplotlib.pyplot as plt\n",
    "\n",
    "import albumentations as A\n",
    "from albumentations.pytorch import ToTensorV2\n",
    "import cv2\n",
    "\n",
    "import torch\n",
    "import torch.nn as nn\n",
    "import torch.nn.functional as F\n",
    "import torchvision\n",
    "import torch.optim as optim\n",
    "from torch.utils.data import Dataset, DataLoader\n",
    "from torch.utils.data.dataset import Subset\n",
    "from torch.nn.functional import softmax\n",
    "\n",
    "from efficientnet_pytorch import EfficientNet\n",
    "\n",
    "from typing import Callable, List, Tuple, Dict\n",
    "from pathlib import Path\n",
    "\n",
    "from transformers import AdamW\n",
    "from transformers import get_cosine_schedule_with_warmup\n",
    "\n",
    "from sklearn.metrics import roc_auc_score, accuracy_score\n",
    "from sklearn.model_selection import train_test_split\n",
    "from collections import defaultdict, OrderedDict\n",
    "from tqdm.notebook import tqdm\n",
    "from torchsummary import summary\n",
    "\n",
    "from fastai2.layers import LabelSmoothingCrossEntropy\n",
    "from transformers import get_cosine_schedule_with_warmup\n",
    "from transformers import AdamW\n",
    "\n",
    "import matplotlib\n",
    "matplotlib.rcParams.update({'figure.figsize': (16, 12), 'font.size': 14})\n",
    "import matplotlib.pyplot as plt\n",
    "%matplotlib inline\n",
    "from IPython.display import clear_output"
   ]
  },
  {
   "cell_type": "code",
   "execution_count": 2,
   "metadata": {},
   "outputs": [],
   "source": [
    "warnings.simplefilter(\"ignore\", UserWarning)\n",
    "warnings.simplefilter(\"ignore\", DeprecationWarning)\n",
    "warnings.filterwarnings('ignore')\n",
    "os.environ[\"PYTHONWARNINGS\"] = \"ignore\""
   ]
  },
  {
   "cell_type": "code",
   "execution_count": 3,
   "metadata": {},
   "outputs": [
    {
     "name": "stdout",
     "output_type": "stream",
     "text": [
      "Directory  02_efficientnet-b6  already exists\n"
     ]
    }
   ],
   "source": [
    "EXPERIMENT_NAME = \"02_efficientnet-b6\"\n",
    "\n",
    "class ConfigExperiment:\n",
    "    logdir = f\"./logs/{EXPERIMENT_NAME}\"\n",
    "    save_dirname = EXPERIMENT_NAME\n",
    "    submission_file = f\"{EXPERIMENT_NAME}.csv\"\n",
    "    seed = 42\n",
    "    batch_size = 2\n",
    "    model_name = 'efficientnet-b6'\n",
    "    size = 512\n",
    "    num_workers = 20\n",
    "    root_images = \"../../../data/raw/plant-pathology-2020-fgvc7/images/\"\n",
    "    root = \"../../../data/raw/plant-pathology-2020-fgvc7/\"\n",
    "    num_classes = 4\n",
    "    patience = 10\n",
    "    early_stopping_delta = 1e-4\n",
    "    num_epochs = 300\n",
    "    lr = 0.003\n",
    "    class_names = [\"healthy\", \"multiple_diseases\", \"rust\", \"scab\"]\n",
    "    is_fp16_used = False\n",
    "    \n",
    "    \n",
    "def set_seed(seed):\n",
    "    torch.manual_seed(seed)\n",
    "    torch.cuda.manual_seed_all(seed)\n",
    "    torch.backends.cudnn.deterministic = True\n",
    "    torch.backends.cudnn.benchmark = False\n",
    "    np.random.seed(seed)\n",
    "    random.seed(seed)\n",
    "    os.environ['PYTHONHASHSEED'] = str(seed)\n",
    "    \n",
    "    \n",
    "config = ConfigExperiment()\n",
    "set_seed(config.seed)\n",
    "config.size = EfficientNet.get_image_size(config.model_name)\n",
    "os.environ[\"CUDA_VISIBLE_DEVICES\"] = \"0\"\n",
    "device = \"cuda\" if torch.cuda.is_available() else \"cpu\"\n",
    "\n",
    "try:\n",
    "    # Create target Directory\n",
    "    os.mkdir(config.save_dirname)\n",
    "    print(\"Directory \" , config.save_dirname ,  \" Created \") \n",
    "except FileExistsError:\n",
    "    print(\"Directory \" , config.save_dirname ,  \" already exists\")"
   ]
  },
  {
   "cell_type": "code",
   "execution_count": 4,
   "metadata": {},
   "outputs": [],
   "source": [
    "class PlantDataset(Dataset):\n",
    "    \n",
    "    def __init__(self, df, config, transforms=None):\n",
    "    \n",
    "        self.df = df\n",
    "        self.images_dir = config.root_images\n",
    "        self.class_names = config.class_names\n",
    "        self.transforms=transforms\n",
    "        \n",
    "    def __len__(self):\n",
    "        return self.df.shape[0]\n",
    "    \n",
    "    def __getitem__(self, idx):\n",
    "        image_src = self.images_dir + self.df.iloc[idx]['image_id'] + '.jpg'\n",
    "        image = cv2.imread(image_src, cv2.IMREAD_COLOR)\n",
    "        image = cv2.cvtColor(image, cv2.COLOR_BGR2RGB)\n",
    "        labels = self.df.iloc[idx][self.class_names].values.astype(np.int8)\n",
    "        label = torch.argmax(torch.from_numpy(labels))\n",
    "        \n",
    "        if self.transforms:\n",
    "            transformed = self.transforms(image=image)\n",
    "            image = transformed['image']\n",
    "\n",
    "        return image, label"
   ]
  },
  {
   "cell_type": "code",
   "execution_count": 5,
   "metadata": {},
   "outputs": [],
   "source": [
    "def pre_transforms(image_size=224):\n",
    "    # Convert the image to a square of size image_size x image_size\n",
    "    # (keeping aspect ratio)\n",
    "    result = [\n",
    "        A.LongestMaxSize(max_size=image_size),\n",
    "        A.PadIfNeeded(image_size, image_size, border_mode=0)\n",
    "    ]\n",
    "    \n",
    "    return result\n",
    "\n",
    "def hard_transforms():\n",
    "    result = [\n",
    "        # Random shifts, stretches and turns with a 50% probability\n",
    "#         A.RandomResizedCrop(height=config.size, width=config.size, p=1.0),\n",
    "        A.OneOf([\n",
    "            A.Rotate(limit=90, p=1),\n",
    "            A.HorizontalFlip(p=1),\n",
    "            A.VerticalFlip(p=1),\n",
    "            A.OpticalDistortion(p=1),\n",
    "            A.ShiftScaleRotate(rotate_limit=90, shift_limit=0.2, scale_limit=0.1, p=1)\n",
    "        ], p=0.8),\n",
    "        \n",
    "        # Pixels\n",
    "        A.OneOf([\n",
    "            A.IAAEmboss(p=1.0),\n",
    "            A.IAASharpen(p=1.0),\n",
    "            A.Blur(p=1.0),\n",
    "        ], p=0.5),\n",
    "\n",
    "        # Affine\n",
    "        A.OneOf([\n",
    "            A.RandomContrast(limit=0.2, p=1),\n",
    "            A.ElasticTransform(p=1),\n",
    "            A.IAAPiecewiseAffine(p=1)\n",
    "        ], p=0.5),\n",
    "    ]\n",
    "    \n",
    "    return result\n",
    "\n",
    "def post_transforms():\n",
    "    # we use ImageNet image normalization\n",
    "    # and convert it to torch.Tensor\n",
    "    return [A.Normalize(p=1.0), ToTensorV2(p=1.0),]\n",
    "\n",
    "def compose(transforms_to_compose):\n",
    "    # combine all augmentations into one single pipeline\n",
    "    result = A.Compose([item for sublist in transforms_to_compose for item in sublist])\n",
    "    return result"
   ]
  },
  {
   "cell_type": "code",
   "execution_count": 6,
   "metadata": {},
   "outputs": [],
   "source": [
    "train_df = pd.read_csv(config.root + 'train.csv')\n",
    "train, valid = train_test_split(train_df, test_size=0.33, random_state=config.seed, shuffle=True, stratify=train_df[config.class_names])\n",
    "\n",
    "train_transforms = compose([\n",
    "    pre_transforms(config.size),\n",
    "    hard_transforms(), \n",
    "    post_transforms()\n",
    "])\n",
    "valid_transforms = compose([\n",
    "    pre_transforms(config.size), \n",
    "    post_transforms()\n",
    "])\n",
    "\n",
    "show_transforms = compose([\n",
    "    pre_transforms(config.size),\n",
    "    hard_transforms()\n",
    "])\n",
    "\n",
    "train_dataset = PlantDataset(train, config, train_transforms)\n",
    "valid_dataset = PlantDataset(valid, config, valid_transforms)\n",
    "\n",
    "train_dataloader = DataLoader(train_dataset, batch_size=config.batch_size, shuffle=True, num_workers=config.num_workers)\n",
    "valid_dataloader = DataLoader(valid_dataset, batch_size=config.batch_size, shuffle=False, num_workers=config.num_workers)"
   ]
  },
  {
   "cell_type": "code",
   "execution_count": 7,
   "metadata": {},
   "outputs": [
    {
     "name": "stdout",
     "output_type": "stream",
     "text": [
      "Loaded pretrained weights for efficientnet-b6\n"
     ]
    }
   ],
   "source": [
    "def get_model(model_name: str, num_classes: int, pretrained: str = \"imagenet\") -> EfficientNet:\n",
    "    model = EfficientNet.from_pretrained(model_name)\n",
    "    for param in model.parameters():\n",
    "        param.requires_grad = False\n",
    "    num_ftrs = model._fc.in_features\n",
    "    model._fc = nn.Sequential(nn.Linear(num_ftrs, num_classes, bias = True))\n",
    "    return model\n",
    "\n",
    "model = get_model(config.model_name, config.num_classes)"
   ]
  },
  {
   "cell_type": "code",
   "execution_count": 8,
   "metadata": {},
   "outputs": [],
   "source": [
    "criterion = LabelSmoothingCrossEntropy()\n",
    "optimizer = AdamW(model.parameters(), lr=config.lr, weight_decay=1e-3)\n",
    "\n",
    "num_train_steps = int(len(train_dataset) / config.batch_size * config.num_epochs)\n",
    "scheduler = get_cosine_schedule_with_warmup(optimizer, num_warmup_steps=len(train_dataset)/config.batch_size*5, num_training_steps=num_train_steps)"
   ]
  },
  {
   "cell_type": "code",
   "execution_count": 9,
   "metadata": {},
   "outputs": [],
   "source": [
    "class Trainer:\n",
    "    def __init__(self, model, train_dataloader: DataLoader, valid_dataloader: DataLoader, criterion, optimizer, scheduler, device, config: ConfigExperiment):\n",
    "        self.model = model\n",
    "        self.train_dataloader = train_dataloader\n",
    "        self.valid_dataloader = valid_dataloader\n",
    "        self.criterion = criterion\n",
    "        self.optimizer = optimizer\n",
    "        self.scheduler = scheduler\n",
    "        self.device = device\n",
    "        self.config = config\n",
    "        self.train_metrics = {\n",
    "            'avg_loss': [],\n",
    "            'auc/_mean': [],\n",
    "            'auc/healthy': [],\n",
    "            'auc/multiple_diseases': [],\n",
    "            'auc/rust': [],\n",
    "            'auc/scab': [],\n",
    "        }\n",
    "        self.valid_metrics = {\n",
    "            'avg_loss': [],\n",
    "            'auc/_mean': [],\n",
    "            'auc/healthy': [],\n",
    "            'auc/multiple_diseases': [],\n",
    "            'auc/rust': [],\n",
    "            'auc/scab': [],\n",
    "        }\n",
    "        self.counter = 0\n",
    "        self.delta = config.early_stopping_delta\n",
    "      \n",
    "    def run(self):\n",
    "        self.model.to(device)\n",
    "        best_valid_loss = float('inf')\n",
    "        best_valid_auc_mean = 0\n",
    "\n",
    "        try:\n",
    "            for i_epoch in tqdm(range(self.config.num_epochs), desc='Epochs', total=config.num_epochs, position=1, leave=True):\n",
    "                start_time = time.time()\n",
    "\n",
    "                train_loss, train_outputs, train_targets = self._train()\n",
    "                valid_loss, valid_outputs, valid_targets = self._evaluate()\n",
    "                    \n",
    "                self.train_metrics[\"avg_loss\"].append(train_loss)\n",
    "                self.train_metrics[\"auc/_mean\"].append(self.comp_metric(train_outputs, train_targets))\n",
    "                self.train_metrics[\"auc/healthy\"].append(self.healthy_roc_auc(train_outputs, train_targets))\n",
    "                self.train_metrics[\"auc/multiple_diseases\"].append(self.multiple_diseases_roc_auc(train_outputs, train_targets))\n",
    "                self.train_metrics[\"auc/rust\"].append(self.rust_roc_auc(train_outputs, train_targets))\n",
    "                self.train_metrics[\"auc/scab\"].append(self.scab_roc_auc(train_outputs, train_targets))\n",
    "                \n",
    "                self.valid_metrics[\"avg_loss\"].append(valid_loss)\n",
    "                self.valid_metrics[\"auc/_mean\"].append(self.comp_metric(valid_outputs, valid_targets))\n",
    "                self.valid_metrics[\"auc/healthy\"].append(self.healthy_roc_auc(valid_outputs, valid_targets))\n",
    "                self.valid_metrics[\"auc/multiple_diseases\"].append(self.multiple_diseases_roc_auc(valid_outputs, valid_targets))\n",
    "                self.valid_metrics[\"auc/rust\"].append(self.rust_roc_auc(valid_outputs, valid_targets))\n",
    "                self.valid_metrics[\"auc/scab\"].append(self.scab_roc_auc(valid_outputs, valid_targets))\n",
    "                \n",
    "                end_time = time.time()\n",
    "                epoch_mins, epoch_secs = self._epoch_time(start_time, end_time)\n",
    "                self.print_progress(i_epoch, epoch_mins, epoch_secs)\n",
    "                \n",
    "                self.scheduler.step(self.valid_metrics[\"auc/_mean\"][-1])\n",
    "                \n",
    "                if valid_loss < best_valid_loss:\n",
    "                    self.counter = 0\n",
    "                    best_valid_loss = valid_loss\n",
    "                    torch.save(model.state_dict(), f\"{config.save_dirname}/best_model_epoch={i_epoch+1}_loss={best_valid_loss}.pth\")\n",
    "                else:\n",
    "                    self.counter += 1\n",
    "                    \n",
    "                if self.valid_metrics[\"auc/_mean\"][-1] > best_valid_auc_mean:\n",
    "                    best_valid_auc_mean = self.valid_metrics[\"auc/_mean\"][-1]\n",
    "                    torch.save(model.state_dict(), f\"{config.save_dirname}/best_model_epoch={i_epoch+1}_auc_mean={best_valid_auc_mean}.pth\")\n",
    "                    \n",
    "                if self.counter > self.config.patience:\n",
    "                    print(\"EarlyStopping\")\n",
    "                    break\n",
    "        except KeyboardInterrupt: \n",
    "            pass\n",
    "        \n",
    "        return self.train_metrics, self.valid_metrics\n",
    "        \n",
    "    def _train(self):\n",
    "        model.train()\n",
    "        epoch_loss = 0\n",
    "        epoch_output = None\n",
    "        epoch_target = None\n",
    "        for i, (images, labels) in tqdm(enumerate(self.train_dataloader), desc='Train', total=len(self.train_dataloader), position=2, leave=True):\n",
    "            loss_iten, outputs = self._train_process(images, labels)\n",
    "            epoch_loss += loss_iten              \n",
    "\n",
    "            if epoch_output is None:\n",
    "                epoch_output = outputs.cpu().data\n",
    "            else:\n",
    "                epoch_output = torch.cat((epoch_output, outputs.cpu().data))\n",
    "\n",
    "            if epoch_target is None:\n",
    "                epoch_target = labels.cpu().data\n",
    "            else:\n",
    "                epoch_target = torch.cat((epoch_target, labels.cpu().data))\n",
    "            \n",
    "        return epoch_loss / len(self.train_dataloader), epoch_output, epoch_target\n",
    "    \n",
    "    def _train_process(self, images, labels):\n",
    "        images = images.to(self.device)\n",
    "        labels = labels.to(self.device)\n",
    "        self.optimizer.zero_grad()\n",
    "        outputs = self.model(images)\n",
    "        loss = self.criterion(outputs, labels)\n",
    "        loss.backward()\n",
    "        self.optimizer.step()\n",
    "        return loss.item(), outputs\n",
    "            \n",
    "    def _evaluate(self):\n",
    "        model.eval()\n",
    "        epoch_loss = 0\n",
    "        epoch_output = None\n",
    "        epoch_target = None\n",
    "        with torch.no_grad():\n",
    "            for i, (images, labels) in enumerate(self.valid_dataloader):\n",
    "                images = images.to(device)\n",
    "                labels = labels.to(device)\n",
    "                outputs = model(images)\n",
    "                loss = criterion(outputs, labels)\n",
    "                epoch_loss += loss.item()\n",
    "                \n",
    "                if epoch_output is None:\n",
    "                    epoch_output = outputs.cpu().data\n",
    "                else:\n",
    "                    epoch_output = torch.cat((epoch_output, outputs.cpu().data))\n",
    "\n",
    "                if epoch_target is None:\n",
    "                    epoch_target = labels.cpu().data\n",
    "                else:\n",
    "                    epoch_target = torch.cat((epoch_target, labels.cpu().data))\n",
    "\n",
    "        return epoch_loss / len(self.valid_dataloader), epoch_output, epoch_target\n",
    "    \n",
    "#     def _evaluate_tta(self):\n",
    "#         n_samples = len(dataset)\n",
    "#         y_probas_tta = np.zeros((n_samples, config.num_classes, tta_count), dtype=np.float32)\n",
    "\n",
    "#         model.eval()\n",
    "#         model.to(device)\n",
    "#         with torch.no_grad():\n",
    "#             for i_epoch in tqdm(range(tta_count), desc='TTA', total=tta_count, position=1, leave=True):\n",
    "#                 for i, (images, idx) in enumerate(dataloader):\n",
    "#                     images = images.to(device)\n",
    "#                     outputs = model(images)\n",
    "#                     y_pred = F.softmax(outputs, dim=1)\n",
    "\n",
    "#                     tta_index = i_epoch - 1\n",
    "#                     start_index = (i % len(dataloader)) * config.batch_size\n",
    "#                     end_index = min(start_index + config.batch_size, n_samples)\n",
    "#                     batch_y_probas = y_pred.detach().cpu().numpy()                \n",
    "#                     y_probas_tta[start_index:end_index, :, tta_index] = batch_y_probas\n",
    "\n",
    "#         return y_probas_tta\n",
    "\n",
    "#     def show_history(self):\n",
    "#         fig, ax = plt.subplots(nrows=1, ncols=2, figsize=(12, 8))\n",
    "#         clear_output(True)\n",
    "#         ax[0].plot(history, label='train loss')\n",
    "#         ax[0].set_xlabel('Batch')\n",
    "#         ax[0].set_title('Train loss')\n",
    "#         if train_history is not None:\n",
    "#             ax[1].plot(train_history, label='general train history')\n",
    "#             ax[1].set_xlabel('Epoch')\n",
    "#         if valid_history is not None:\n",
    "#             ax[1].plot(valid_history, label='general valid history')\n",
    "#         plt.legend()\n",
    "#         plt.show()\n",
    "\n",
    "    \n",
    "    def _epoch_time(self, start_time, end_time):\n",
    "        elapsed_time = end_time - start_time\n",
    "        elapsed_mins = int(elapsed_time / 60)\n",
    "        elapsed_secs = int(elapsed_time - (elapsed_mins * 60))\n",
    "        return elapsed_mins, elapsed_secs\n",
    "\n",
    "    def print_progress(self, i_epoch, epoch_mins, epoch_secs):\n",
    "        i_epoch = i_epoch + 1\n",
    "        print(f\"Epoch: {i_epoch:02} | Time: {epoch_mins}m {epoch_secs}s\")\n",
    "        print(\"Training Results - Average Loss: {:.4f} | auc/_mean: {:.4f} | auc/healthy: {:.4f} | auc/multiple_diseases: {:.4f}, auc/rust: {:.4f}, auc/scab: {:.4f}\"\n",
    "            .format(\n",
    "                self.train_metrics['avg_loss'][-1], \n",
    "                self.train_metrics['auc/_mean'][-1],\n",
    "                self.train_metrics['auc/healthy'][-1],\n",
    "                self.train_metrics['auc/multiple_diseases'][-1],\n",
    "                self.train_metrics['auc/rust'][-1],\n",
    "                self.train_metrics['auc/scab'][-1],\n",
    "            ))\n",
    "        print(\"Evaluating Results - Average Loss: {:.4f} | auc/_mean: {:.4f} | auc/healthy: {:.4f} | auc/multiple_diseases: {:.4f}, auc/rust: {:.4f}, auc/scab: {:.4f}\"\n",
    "            .format( \n",
    "                self.valid_metrics['avg_loss'][-1], \n",
    "                self.valid_metrics['auc/_mean'][-1],\n",
    "                self.valid_metrics['auc/healthy'][-1],\n",
    "                self.valid_metrics['auc/multiple_diseases'][-1],\n",
    "                self.valid_metrics['auc/rust'][-1],\n",
    "                self.valid_metrics['auc/scab'][-1],\n",
    "            ))\n",
    "        print()\n",
    "        \n",
    "    def comp_metric(self, preds, targs, labels=range(4)):\n",
    "        preds = torch.sigmoid(preds)\n",
    "        targs = torch.eye(4)[targs]\n",
    "        return np.mean([roc_auc_score(targs[:,i], preds[:,i]) for i in labels])\n",
    "\n",
    "    def healthy_roc_auc(self, *args):\n",
    "        return self.comp_metric(*args, labels=[0])\n",
    "\n",
    "    def multiple_diseases_roc_auc(self, *args):\n",
    "        return self.comp_metric(*args, labels=[1])\n",
    "\n",
    "    def rust_roc_auc(self, *args):\n",
    "        return self.comp_metric(*args, labels=[2])\n",
    "\n",
    "    def scab_roc_auc(self, *args):\n",
    "        return self.comp_metric(*args, labels=[3])\n",
    "\n"
   ]
  },
  {
   "cell_type": "code",
   "execution_count": null,
   "metadata": {
    "collapsed": true,
    "jupyter": {
     "outputs_hidden": true
    }
   },
   "outputs": [
    {
     "data": {
      "application/vnd.jupyter.widget-view+json": {
       "model_id": "06a8e364be3c4e82b0e849aa67e2107c",
       "version_major": 2,
       "version_minor": 0
      },
      "text/plain": [
       "HBox(children=(FloatProgress(value=0.0, description='Epochs', max=300.0, style=ProgressStyle(description_width…"
      ]
     },
     "metadata": {},
     "output_type": "display_data"
    },
    {
     "data": {
      "application/vnd.jupyter.widget-view+json": {
       "model_id": "75f381f57efe4ee4a552e38c5cfbdadf",
       "version_major": 2,
       "version_minor": 0
      },
      "text/plain": [
       "HBox(children=(FloatProgress(value=0.0, description='Train', max=364.0, style=ProgressStyle(description_width=…"
      ]
     },
     "metadata": {},
     "output_type": "display_data"
    },
    {
     "name": "stdout",
     "output_type": "stream",
     "text": [
      "\n",
      "Epoch: 01 | Time: 1m 53s\n",
      "Training Results - Average Loss: 1.3882 | auc/_mean: 0.4891 | auc/healthy: 0.4666 | auc/multiple_diseases: 0.5480, auc/rust: 0.4957, auc/scab: 0.4460\n",
      "Evaluating Results - Average Loss: 1.3894 | auc/_mean: 0.4869 | auc/healthy: 0.4384 | auc/multiple_diseases: 0.5740, auc/rust: 0.4730, auc/scab: 0.4623\n",
      "\n"
     ]
    },
    {
     "data": {
      "application/vnd.jupyter.widget-view+json": {
       "model_id": "95eeafd1f3a949adb945f3bfbe1f145d",
       "version_major": 2,
       "version_minor": 0
      },
      "text/plain": [
       "HBox(children=(FloatProgress(value=0.0, description='Train', max=364.0, style=ProgressStyle(description_width=…"
      ]
     },
     "metadata": {},
     "output_type": "display_data"
    },
    {
     "name": "stdout",
     "output_type": "stream",
     "text": [
      "\n",
      "Epoch: 02 | Time: 1m 53s\n",
      "Training Results - Average Loss: 1.3862 | auc/_mean: 0.4822 | auc/healthy: 0.4963 | auc/multiple_diseases: 0.4881, auc/rust: 0.4941, auc/scab: 0.4503\n",
      "Evaluating Results - Average Loss: 1.3893 | auc/_mean: 0.4949 | auc/healthy: 0.4485 | auc/multiple_diseases: 0.5624, auc/rust: 0.4870, auc/scab: 0.4818\n",
      "\n"
     ]
    },
    {
     "data": {
      "application/vnd.jupyter.widget-view+json": {
       "model_id": "d322b84021e7446cbea1b3864b9ca43c",
       "version_major": 2,
       "version_minor": 0
      },
      "text/plain": [
       "HBox(children=(FloatProgress(value=0.0, description='Train', max=364.0, style=ProgressStyle(description_width=…"
      ]
     },
     "metadata": {},
     "output_type": "display_data"
    },
    {
     "name": "stdout",
     "output_type": "stream",
     "text": [
      "\n",
      "Epoch: 03 | Time: 1m 53s\n",
      "Training Results - Average Loss: 1.3865 | auc/_mean: 0.4603 | auc/healthy: 0.4562 | auc/multiple_diseases: 0.4460, auc/rust: 0.4908, auc/scab: 0.4481\n",
      "Evaluating Results - Average Loss: 1.3873 | auc/_mean: 0.5018 | auc/healthy: 0.4594 | auc/multiple_diseases: 0.5605, auc/rust: 0.4944, auc/scab: 0.4929\n",
      "\n"
     ]
    },
    {
     "data": {
      "application/vnd.jupyter.widget-view+json": {
       "model_id": "a031aadc7785443bb1cfb38ad4890c62",
       "version_major": 2,
       "version_minor": 0
      },
      "text/plain": [
       "HBox(children=(FloatProgress(value=0.0, description='Train', max=364.0, style=ProgressStyle(description_width=…"
      ]
     },
     "metadata": {},
     "output_type": "display_data"
    },
    {
     "name": "stdout",
     "output_type": "stream",
     "text": [
      "\n",
      "Epoch: 04 | Time: 1m 53s\n",
      "Training Results - Average Loss: 1.3802 | auc/_mean: 0.4954 | auc/healthy: 0.4808 | auc/multiple_diseases: 0.5482, auc/rust: 0.4919, auc/scab: 0.4607\n",
      "Evaluating Results - Average Loss: 1.3868 | auc/_mean: 0.5083 | auc/healthy: 0.4599 | auc/multiple_diseases: 0.5642, auc/rust: 0.5042, auc/scab: 0.5050\n",
      "\n"
     ]
    },
    {
     "data": {
      "application/vnd.jupyter.widget-view+json": {
       "model_id": "48628c9e82ef4265bf826466a4579cb7",
       "version_major": 2,
       "version_minor": 0
      },
      "text/plain": [
       "HBox(children=(FloatProgress(value=0.0, description='Train', max=364.0, style=ProgressStyle(description_width=…"
      ]
     },
     "metadata": {},
     "output_type": "display_data"
    },
    {
     "name": "stdout",
     "output_type": "stream",
     "text": [
      "\n",
      "Epoch: 05 | Time: 1m 53s\n",
      "Training Results - Average Loss: 1.3789 | auc/_mean: 0.4940 | auc/healthy: 0.4828 | auc/multiple_diseases: 0.5505, auc/rust: 0.5098, auc/scab: 0.4329\n",
      "Evaluating Results - Average Loss: 1.3844 | auc/_mean: 0.5123 | auc/healthy: 0.4645 | auc/multiple_diseases: 0.5575, auc/rust: 0.5150, auc/scab: 0.5124\n",
      "\n"
     ]
    },
    {
     "data": {
      "application/vnd.jupyter.widget-view+json": {
       "model_id": "45a5c7a738814483ba4fb1e46f829def",
       "version_major": 2,
       "version_minor": 0
      },
      "text/plain": [
       "HBox(children=(FloatProgress(value=0.0, description='Train', max=364.0, style=ProgressStyle(description_width=…"
      ]
     },
     "metadata": {},
     "output_type": "display_data"
    },
    {
     "name": "stdout",
     "output_type": "stream",
     "text": [
      "\n",
      "Epoch: 06 | Time: 1m 53s\n",
      "Training Results - Average Loss: 1.3769 | auc/_mean: 0.4792 | auc/healthy: 0.4935 | auc/multiple_diseases: 0.4910, auc/rust: 0.4735, auc/scab: 0.4587\n",
      "Evaluating Results - Average Loss: 1.3835 | auc/_mean: 0.5149 | auc/healthy: 0.4683 | auc/multiple_diseases: 0.5514, auc/rust: 0.5173, auc/scab: 0.5227\n",
      "\n"
     ]
    },
    {
     "data": {
      "application/vnd.jupyter.widget-view+json": {
       "model_id": "4035cafce2e74cf6a314a3b1c2621e74",
       "version_major": 2,
       "version_minor": 0
      },
      "text/plain": [
       "HBox(children=(FloatProgress(value=0.0, description='Train', max=364.0, style=ProgressStyle(description_width=…"
      ]
     },
     "metadata": {},
     "output_type": "display_data"
    },
    {
     "name": "stdout",
     "output_type": "stream",
     "text": [
      "\n",
      "Epoch: 07 | Time: 1m 53s\n",
      "Training Results - Average Loss: 1.3730 | auc/_mean: 0.5004 | auc/healthy: 0.5086 | auc/multiple_diseases: 0.5456, auc/rust: 0.5074, auc/scab: 0.4401\n",
      "Evaluating Results - Average Loss: 1.3830 | auc/_mean: 0.5219 | auc/healthy: 0.4754 | auc/multiple_diseases: 0.5522, auc/rust: 0.5314, auc/scab: 0.5287\n",
      "\n"
     ]
    },
    {
     "data": {
      "application/vnd.jupyter.widget-view+json": {
       "model_id": "764d147236814fecbd04cceb94a84284",
       "version_major": 2,
       "version_minor": 0
      },
      "text/plain": [
       "HBox(children=(FloatProgress(value=0.0, description='Train', max=364.0, style=ProgressStyle(description_width=…"
      ]
     },
     "metadata": {},
     "output_type": "display_data"
    },
    {
     "name": "stdout",
     "output_type": "stream",
     "text": [
      "\n",
      "Epoch: 08 | Time: 1m 53s\n",
      "Training Results - Average Loss: 1.3690 | auc/_mean: 0.5019 | auc/healthy: 0.4622 | auc/multiple_diseases: 0.5567, auc/rust: 0.5006, auc/scab: 0.4879\n",
      "Evaluating Results - Average Loss: 1.3815 | auc/_mean: 0.5266 | auc/healthy: 0.4837 | auc/multiple_diseases: 0.5442, auc/rust: 0.5346, auc/scab: 0.5438\n",
      "\n"
     ]
    },
    {
     "data": {
      "application/vnd.jupyter.widget-view+json": {
       "model_id": "232f99d54bbe4676a0226fc6adfc6a5b",
       "version_major": 2,
       "version_minor": 0
      },
      "text/plain": [
       "HBox(children=(FloatProgress(value=0.0, description='Train', max=364.0, style=ProgressStyle(description_width=…"
      ]
     },
     "metadata": {},
     "output_type": "display_data"
    },
    {
     "name": "stdout",
     "output_type": "stream",
     "text": [
      "\n",
      "Epoch: 09 | Time: 1m 52s\n",
      "Training Results - Average Loss: 1.3658 | auc/_mean: 0.5080 | auc/healthy: 0.4951 | auc/multiple_diseases: 0.5648, auc/rust: 0.5079, auc/scab: 0.4643\n",
      "Evaluating Results - Average Loss: 1.3800 | auc/_mean: 0.5350 | auc/healthy: 0.4906 | auc/multiple_diseases: 0.5488, auc/rust: 0.5488, auc/scab: 0.5516\n",
      "\n"
     ]
    },
    {
     "data": {
      "application/vnd.jupyter.widget-view+json": {
       "model_id": "74cce11391164c68a244fc1265ed01a9",
       "version_major": 2,
       "version_minor": 0
      },
      "text/plain": [
       "HBox(children=(FloatProgress(value=0.0, description='Train', max=364.0, style=ProgressStyle(description_width=…"
      ]
     },
     "metadata": {},
     "output_type": "display_data"
    },
    {
     "name": "stdout",
     "output_type": "stream",
     "text": [
      "\n",
      "Epoch: 10 | Time: 1m 53s\n",
      "Training Results - Average Loss: 1.3644 | auc/_mean: 0.4857 | auc/healthy: 0.5018 | auc/multiple_diseases: 0.4577, auc/rust: 0.4956, auc/scab: 0.4877\n",
      "Evaluating Results - Average Loss: 1.3770 | auc/_mean: 0.5380 | auc/healthy: 0.4916 | auc/multiple_diseases: 0.5435, auc/rust: 0.5526, auc/scab: 0.5644\n",
      "\n"
     ]
    },
    {
     "data": {
      "application/vnd.jupyter.widget-view+json": {
       "model_id": "65150ddb7fe04b35b3a4fd188beaeca8",
       "version_major": 2,
       "version_minor": 0
      },
      "text/plain": [
       "HBox(children=(FloatProgress(value=0.0, description='Train', max=364.0, style=ProgressStyle(description_width=…"
      ]
     },
     "metadata": {},
     "output_type": "display_data"
    },
    {
     "name": "stdout",
     "output_type": "stream",
     "text": [
      "\n",
      "Epoch: 11 | Time: 1m 53s\n",
      "Training Results - Average Loss: 1.3602 | auc/_mean: 0.5071 | auc/healthy: 0.4865 | auc/multiple_diseases: 0.5230, auc/rust: 0.5455, auc/scab: 0.4732\n",
      "Evaluating Results - Average Loss: 1.3768 | auc/_mean: 0.5446 | auc/healthy: 0.5002 | auc/multiple_diseases: 0.5395, auc/rust: 0.5614, auc/scab: 0.5771\n",
      "\n"
     ]
    },
    {
     "data": {
      "application/vnd.jupyter.widget-view+json": {
       "model_id": "eb4b24e87f174ec1a6ebe15e5da5c7e7",
       "version_major": 2,
       "version_minor": 0
      },
      "text/plain": [
       "HBox(children=(FloatProgress(value=0.0, description='Train', max=364.0, style=ProgressStyle(description_width=…"
      ]
     },
     "metadata": {},
     "output_type": "display_data"
    },
    {
     "name": "stdout",
     "output_type": "stream",
     "text": [
      "\n",
      "Epoch: 12 | Time: 1m 53s\n",
      "Training Results - Average Loss: 1.3589 | auc/_mean: 0.5100 | auc/healthy: 0.4881 | auc/multiple_diseases: 0.5389, auc/rust: 0.5378, auc/scab: 0.4753\n",
      "Evaluating Results - Average Loss: 1.3754 | auc/_mean: 0.5490 | auc/healthy: 0.5099 | auc/multiple_diseases: 0.5357, auc/rust: 0.5723, auc/scab: 0.5782\n",
      "\n"
     ]
    },
    {
     "data": {
      "application/vnd.jupyter.widget-view+json": {
       "model_id": "ffff758823c54f10aa53bb36bea7347b",
       "version_major": 2,
       "version_minor": 0
      },
      "text/plain": [
       "HBox(children=(FloatProgress(value=0.0, description='Train', max=364.0, style=ProgressStyle(description_width=…"
      ]
     },
     "metadata": {},
     "output_type": "display_data"
    },
    {
     "name": "stdout",
     "output_type": "stream",
     "text": [
      "\n",
      "Epoch: 13 | Time: 1m 53s\n",
      "Training Results - Average Loss: 1.3556 | auc/_mean: 0.5083 | auc/healthy: 0.4991 | auc/multiple_diseases: 0.5127, auc/rust: 0.5342, auc/scab: 0.4870\n",
      "Evaluating Results - Average Loss: 1.3747 | auc/_mean: 0.5543 | auc/healthy: 0.5144 | auc/multiple_diseases: 0.5362, auc/rust: 0.5776, auc/scab: 0.5891\n",
      "\n"
     ]
    },
    {
     "data": {
      "application/vnd.jupyter.widget-view+json": {
       "model_id": "bfc7f445608946a19c0c41a6405c8823",
       "version_major": 2,
       "version_minor": 0
      },
      "text/plain": [
       "HBox(children=(FloatProgress(value=0.0, description='Train', max=364.0, style=ProgressStyle(description_width=…"
      ]
     },
     "metadata": {},
     "output_type": "display_data"
    },
    {
     "name": "stdout",
     "output_type": "stream",
     "text": [
      "\n",
      "Epoch: 14 | Time: 1m 53s\n",
      "Training Results - Average Loss: 1.3515 | auc/_mean: 0.5207 | auc/healthy: 0.5031 | auc/multiple_diseases: 0.5308, auc/rust: 0.5490, auc/scab: 0.5001\n",
      "Evaluating Results - Average Loss: 1.3730 | auc/_mean: 0.5575 | auc/healthy: 0.5158 | auc/multiple_diseases: 0.5314, auc/rust: 0.5889, auc/scab: 0.5938\n",
      "\n"
     ]
    },
    {
     "data": {
      "application/vnd.jupyter.widget-view+json": {
       "model_id": "ee97bdf6cadb45bc8b74c7da9709f020",
       "version_major": 2,
       "version_minor": 0
      },
      "text/plain": [
       "HBox(children=(FloatProgress(value=0.0, description='Train', max=364.0, style=ProgressStyle(description_width=…"
      ]
     },
     "metadata": {},
     "output_type": "display_data"
    },
    {
     "name": "stdout",
     "output_type": "stream",
     "text": [
      "\n",
      "Epoch: 15 | Time: 1m 53s\n",
      "Training Results - Average Loss: 1.3460 | auc/_mean: 0.5348 | auc/healthy: 0.5254 | auc/multiple_diseases: 0.5335, auc/rust: 0.5553, auc/scab: 0.5251\n",
      "Evaluating Results - Average Loss: 1.3708 | auc/_mean: 0.5659 | auc/healthy: 0.5248 | auc/multiple_diseases: 0.5295, auc/rust: 0.5954, auc/scab: 0.6138\n",
      "\n"
     ]
    },
    {
     "data": {
      "application/vnd.jupyter.widget-view+json": {
       "model_id": "8af79c2f40884f8f8d70be293731f586",
       "version_major": 2,
       "version_minor": 0
      },
      "text/plain": [
       "HBox(children=(FloatProgress(value=0.0, description='Train', max=364.0, style=ProgressStyle(description_width=…"
      ]
     },
     "metadata": {},
     "output_type": "display_data"
    },
    {
     "name": "stdout",
     "output_type": "stream",
     "text": [
      "\n",
      "Epoch: 16 | Time: 1m 53s\n",
      "Training Results - Average Loss: 1.3468 | auc/_mean: 0.5304 | auc/healthy: 0.4984 | auc/multiple_diseases: 0.5745, auc/rust: 0.5420, auc/scab: 0.5068\n",
      "Evaluating Results - Average Loss: 1.3703 | auc/_mean: 0.5673 | auc/healthy: 0.5309 | auc/multiple_diseases: 0.5203, auc/rust: 0.6070, auc/scab: 0.6111\n",
      "\n"
     ]
    },
    {
     "data": {
      "application/vnd.jupyter.widget-view+json": {
       "model_id": "b11ca22669744e0081bfdd8154064bdc",
       "version_major": 2,
       "version_minor": 0
      },
      "text/plain": [
       "HBox(children=(FloatProgress(value=0.0, description='Train', max=364.0, style=ProgressStyle(description_width=…"
      ]
     },
     "metadata": {},
     "output_type": "display_data"
    },
    {
     "name": "stdout",
     "output_type": "stream",
     "text": [
      "\n",
      "Epoch: 17 | Time: 1m 53s\n",
      "Training Results - Average Loss: 1.3425 | auc/_mean: 0.5453 | auc/healthy: 0.5191 | auc/multiple_diseases: 0.5784, auc/rust: 0.5505, auc/scab: 0.5333\n",
      "Evaluating Results - Average Loss: 1.3690 | auc/_mean: 0.5751 | auc/healthy: 0.5421 | auc/multiple_diseases: 0.5237, auc/rust: 0.6095, auc/scab: 0.6249\n",
      "\n"
     ]
    },
    {
     "data": {
      "application/vnd.jupyter.widget-view+json": {
       "model_id": "330af15db88b48e8a49fe613143e1b06",
       "version_major": 2,
       "version_minor": 0
      },
      "text/plain": [
       "HBox(children=(FloatProgress(value=0.0, description='Train', max=364.0, style=ProgressStyle(description_width=…"
      ]
     },
     "metadata": {},
     "output_type": "display_data"
    },
    {
     "name": "stdout",
     "output_type": "stream",
     "text": [
      "\n",
      "Epoch: 18 | Time: 1m 53s\n",
      "Training Results - Average Loss: 1.3431 | auc/_mean: 0.5328 | auc/healthy: 0.5079 | auc/multiple_diseases: 0.5713, auc/rust: 0.5351, auc/scab: 0.5171\n",
      "Evaluating Results - Average Loss: 1.3685 | auc/_mean: 0.5775 | auc/healthy: 0.5444 | auc/multiple_diseases: 0.5102, auc/rust: 0.6209, auc/scab: 0.6345\n",
      "\n"
     ]
    },
    {
     "data": {
      "application/vnd.jupyter.widget-view+json": {
       "model_id": "6bd9b02b3b234d0b8faa2372b06b7618",
       "version_major": 2,
       "version_minor": 0
      },
      "text/plain": [
       "HBox(children=(FloatProgress(value=0.0, description='Train', max=364.0, style=ProgressStyle(description_width=…"
      ]
     },
     "metadata": {},
     "output_type": "display_data"
    },
    {
     "name": "stdout",
     "output_type": "stream",
     "text": [
      "\n",
      "Epoch: 19 | Time: 1m 53s\n",
      "Training Results - Average Loss: 1.3435 | auc/_mean: 0.5201 | auc/healthy: 0.5197 | auc/multiple_diseases: 0.5196, auc/rust: 0.5419, auc/scab: 0.4993\n",
      "Evaluating Results - Average Loss: 1.3643 | auc/_mean: 0.5862 | auc/healthy: 0.5516 | auc/multiple_diseases: 0.5167, auc/rust: 0.6262, auc/scab: 0.6505\n",
      "\n"
     ]
    },
    {
     "data": {
      "application/vnd.jupyter.widget-view+json": {
       "model_id": "51c6bdd9a7864ff69875d88c3fa4577c",
       "version_major": 2,
       "version_minor": 0
      },
      "text/plain": [
       "HBox(children=(FloatProgress(value=0.0, description='Train', max=364.0, style=ProgressStyle(description_width=…"
      ]
     },
     "metadata": {},
     "output_type": "display_data"
    },
    {
     "name": "stdout",
     "output_type": "stream",
     "text": [
      "\n",
      "Epoch: 20 | Time: 1m 53s\n",
      "Training Results - Average Loss: 1.3345 | auc/_mean: 0.5507 | auc/healthy: 0.5602 | auc/multiple_diseases: 0.5503, auc/rust: 0.5658, auc/scab: 0.5266\n",
      "Evaluating Results - Average Loss: 1.3651 | auc/_mean: 0.5866 | auc/healthy: 0.5541 | auc/multiple_diseases: 0.5051, auc/rust: 0.6326, auc/scab: 0.6545\n",
      "\n"
     ]
    },
    {
     "data": {
      "application/vnd.jupyter.widget-view+json": {
       "model_id": "8b72d70653ca4c06a2d001479ec41704",
       "version_major": 2,
       "version_minor": 0
      },
      "text/plain": [
       "HBox(children=(FloatProgress(value=0.0, description='Train', max=364.0, style=ProgressStyle(description_width=…"
      ]
     },
     "metadata": {},
     "output_type": "display_data"
    },
    {
     "name": "stdout",
     "output_type": "stream",
     "text": [
      "\n",
      "Epoch: 21 | Time: 1m 52s\n",
      "Training Results - Average Loss: 1.3350 | auc/_mean: 0.5344 | auc/healthy: 0.5535 | auc/multiple_diseases: 0.4981, auc/rust: 0.5508, auc/scab: 0.5354\n",
      "Evaluating Results - Average Loss: 1.3646 | auc/_mean: 0.5957 | auc/healthy: 0.5648 | auc/multiple_diseases: 0.5117, auc/rust: 0.6392, auc/scab: 0.6671\n",
      "\n"
     ]
    },
    {
     "data": {
      "application/vnd.jupyter.widget-view+json": {
       "model_id": "e1ee6384b51645ffa84f48f3bfe95244",
       "version_major": 2,
       "version_minor": 0
      },
      "text/plain": [
       "HBox(children=(FloatProgress(value=0.0, description='Train', max=364.0, style=ProgressStyle(description_width=…"
      ]
     },
     "metadata": {},
     "output_type": "display_data"
    },
    {
     "name": "stdout",
     "output_type": "stream",
     "text": [
      "\n",
      "Epoch: 22 | Time: 1m 53s\n",
      "Training Results - Average Loss: 1.3334 | auc/_mean: 0.5350 | auc/healthy: 0.5248 | auc/multiple_diseases: 0.4990, auc/rust: 0.5528, auc/scab: 0.5632\n",
      "Evaluating Results - Average Loss: 1.3613 | auc/_mean: 0.6018 | auc/healthy: 0.5697 | auc/multiple_diseases: 0.5096, auc/rust: 0.6497, auc/scab: 0.6782\n",
      "\n"
     ]
    },
    {
     "data": {
      "application/vnd.jupyter.widget-view+json": {
       "model_id": "eb43904ed83f4706aaf68b0df40a59f5",
       "version_major": 2,
       "version_minor": 0
      },
      "text/plain": [
       "HBox(children=(FloatProgress(value=0.0, description='Train', max=364.0, style=ProgressStyle(description_width=…"
      ]
     },
     "metadata": {},
     "output_type": "display_data"
    },
    {
     "name": "stdout",
     "output_type": "stream",
     "text": [
      "\n",
      "Epoch: 23 | Time: 1m 52s\n",
      "Training Results - Average Loss: 1.3263 | auc/_mean: 0.5668 | auc/healthy: 0.5755 | auc/multiple_diseases: 0.5729, auc/rust: 0.5691, auc/scab: 0.5496\n",
      "Evaluating Results - Average Loss: 1.3613 | auc/_mean: 0.6056 | auc/healthy: 0.5796 | auc/multiple_diseases: 0.5026, auc/rust: 0.6594, auc/scab: 0.6809\n",
      "\n"
     ]
    },
    {
     "data": {
      "application/vnd.jupyter.widget-view+json": {
       "model_id": "7d4513ac99ce447bb68bc27947fc6a3d",
       "version_major": 2,
       "version_minor": 0
      },
      "text/plain": [
       "HBox(children=(FloatProgress(value=0.0, description='Train', max=364.0, style=ProgressStyle(description_width=…"
      ]
     },
     "metadata": {},
     "output_type": "display_data"
    },
    {
     "name": "stdout",
     "output_type": "stream",
     "text": [
      "\n",
      "Epoch: 24 | Time: 1m 52s\n",
      "Training Results - Average Loss: 1.3262 | auc/_mean: 0.5634 | auc/healthy: 0.5315 | auc/multiple_diseases: 0.5842, auc/rust: 0.5673, auc/scab: 0.5707\n",
      "Evaluating Results - Average Loss: 1.3602 | auc/_mean: 0.6113 | auc/healthy: 0.5804 | auc/multiple_diseases: 0.5091, auc/rust: 0.6645, auc/scab: 0.6912\n",
      "\n"
     ]
    },
    {
     "data": {
      "application/vnd.jupyter.widget-view+json": {
       "model_id": "51df13642649458c935ea518d5ddad1f",
       "version_major": 2,
       "version_minor": 0
      },
      "text/plain": [
       "HBox(children=(FloatProgress(value=0.0, description='Train', max=364.0, style=ProgressStyle(description_width=…"
      ]
     },
     "metadata": {},
     "output_type": "display_data"
    },
    {
     "name": "stdout",
     "output_type": "stream",
     "text": [
      "\n",
      "Epoch: 25 | Time: 1m 52s\n",
      "Training Results - Average Loss: 1.3206 | auc/_mean: 0.5805 | auc/healthy: 0.5665 | auc/multiple_diseases: 0.6060, auc/rust: 0.5798, auc/scab: 0.5696\n",
      "Evaluating Results - Average Loss: 1.3581 | auc/_mean: 0.6146 | auc/healthy: 0.5867 | auc/multiple_diseases: 0.5010, auc/rust: 0.6709, auc/scab: 0.7001\n",
      "\n"
     ]
    },
    {
     "data": {
      "application/vnd.jupyter.widget-view+json": {
       "model_id": "5007a91ed12a4830936e52b67c856e10",
       "version_major": 2,
       "version_minor": 0
      },
      "text/plain": [
       "HBox(children=(FloatProgress(value=0.0, description='Train', max=364.0, style=ProgressStyle(description_width=…"
      ]
     },
     "metadata": {},
     "output_type": "display_data"
    },
    {
     "name": "stdout",
     "output_type": "stream",
     "text": [
      "\n",
      "Epoch: 26 | Time: 1m 52s\n",
      "Training Results - Average Loss: 1.3232 | auc/_mean: 0.5580 | auc/healthy: 0.5505 | auc/multiple_diseases: 0.5377, auc/rust: 0.5763, auc/scab: 0.5676\n",
      "Evaluating Results - Average Loss: 1.3598 | auc/_mean: 0.6203 | auc/healthy: 0.5954 | auc/multiple_diseases: 0.5050, auc/rust: 0.6768, auc/scab: 0.7039\n",
      "\n"
     ]
    },
    {
     "data": {
      "application/vnd.jupyter.widget-view+json": {
       "model_id": "7db60f0ad31f441b8196199cb3e3161c",
       "version_major": 2,
       "version_minor": 0
      },
      "text/plain": [
       "HBox(children=(FloatProgress(value=0.0, description='Train', max=364.0, style=ProgressStyle(description_width=…"
      ]
     },
     "metadata": {},
     "output_type": "display_data"
    },
    {
     "name": "stdout",
     "output_type": "stream",
     "text": [
      "\n",
      "Epoch: 27 | Time: 1m 53s\n",
      "Training Results - Average Loss: 1.3188 | auc/_mean: 0.5604 | auc/healthy: 0.5633 | auc/multiple_diseases: 0.4786, auc/rust: 0.6056, auc/scab: 0.5939\n",
      "Evaluating Results - Average Loss: 1.3542 | auc/_mean: 0.6254 | auc/healthy: 0.6038 | auc/multiple_diseases: 0.5019, auc/rust: 0.6850, auc/scab: 0.7108\n",
      "\n"
     ]
    },
    {
     "data": {
      "application/vnd.jupyter.widget-view+json": {
       "model_id": "552dca39e0c74d46bf73bf3afe900a8d",
       "version_major": 2,
       "version_minor": 0
      },
      "text/plain": [
       "HBox(children=(FloatProgress(value=0.0, description='Train', max=364.0, style=ProgressStyle(description_width=…"
      ]
     },
     "metadata": {},
     "output_type": "display_data"
    },
    {
     "name": "stdout",
     "output_type": "stream",
     "text": [
      "\n",
      "Epoch: 28 | Time: 1m 54s\n",
      "Training Results - Average Loss: 1.3189 | auc/_mean: 0.5586 | auc/healthy: 0.5515 | auc/multiple_diseases: 0.5139, auc/rust: 0.6130, auc/scab: 0.5558\n",
      "Evaluating Results - Average Loss: 1.3542 | auc/_mean: 0.6301 | auc/healthy: 0.6094 | auc/multiple_diseases: 0.5006, auc/rust: 0.6868, auc/scab: 0.7235\n",
      "\n"
     ]
    },
    {
     "data": {
      "application/vnd.jupyter.widget-view+json": {
       "model_id": "b06b25b6aea94fc3a89082bc7abe873f",
       "version_major": 2,
       "version_minor": 0
      },
      "text/plain": [
       "HBox(children=(FloatProgress(value=0.0, description='Train', max=364.0, style=ProgressStyle(description_width=…"
      ]
     },
     "metadata": {},
     "output_type": "display_data"
    },
    {
     "name": "stdout",
     "output_type": "stream",
     "text": [
      "\n",
      "Epoch: 29 | Time: 1m 53s\n",
      "Training Results - Average Loss: 1.3173 | auc/_mean: 0.5641 | auc/healthy: 0.5538 | auc/multiple_diseases: 0.5272, auc/rust: 0.5872, auc/scab: 0.5884\n",
      "Evaluating Results - Average Loss: 1.3534 | auc/_mean: 0.6344 | auc/healthy: 0.6154 | auc/multiple_diseases: 0.4944, auc/rust: 0.6953, auc/scab: 0.7324\n",
      "\n"
     ]
    },
    {
     "data": {
      "application/vnd.jupyter.widget-view+json": {
       "model_id": "2985aa4eac8b4f2b818c27597b61f51c",
       "version_major": 2,
       "version_minor": 0
      },
      "text/plain": [
       "HBox(children=(FloatProgress(value=0.0, description='Train', max=364.0, style=ProgressStyle(description_width=…"
      ]
     },
     "metadata": {},
     "output_type": "display_data"
    },
    {
     "name": "stdout",
     "output_type": "stream",
     "text": [
      "\n",
      "Epoch: 30 | Time: 1m 52s\n",
      "Training Results - Average Loss: 1.3166 | auc/_mean: 0.5536 | auc/healthy: 0.5686 | auc/multiple_diseases: 0.4820, auc/rust: 0.5866, auc/scab: 0.5773\n",
      "Evaluating Results - Average Loss: 1.3531 | auc/_mean: 0.6419 | auc/healthy: 0.6194 | auc/multiple_diseases: 0.4965, auc/rust: 0.7050, auc/scab: 0.7469\n",
      "\n"
     ]
    },
    {
     "data": {
      "application/vnd.jupyter.widget-view+json": {
       "model_id": "37e2401de5944786837ffe1630df7d36",
       "version_major": 2,
       "version_minor": 0
      },
      "text/plain": [
       "HBox(children=(FloatProgress(value=0.0, description='Train', max=364.0, style=ProgressStyle(description_width=…"
      ]
     },
     "metadata": {},
     "output_type": "display_data"
    },
    {
     "name": "stdout",
     "output_type": "stream",
     "text": [
      "\n",
      "Epoch: 31 | Time: 1m 52s\n",
      "Training Results - Average Loss: 1.3124 | auc/_mean: 0.5655 | auc/healthy: 0.5717 | auc/multiple_diseases: 0.4837, auc/rust: 0.5951, auc/scab: 0.6115\n",
      "Evaluating Results - Average Loss: 1.3511 | auc/_mean: 0.6437 | auc/healthy: 0.6240 | auc/multiple_diseases: 0.4931, auc/rust: 0.7096, auc/scab: 0.7481\n",
      "\n"
     ]
    },
    {
     "data": {
      "application/vnd.jupyter.widget-view+json": {
       "model_id": "8d8ed76e072f4f428719314d6a69c98e",
       "version_major": 2,
       "version_minor": 0
      },
      "text/plain": [
       "HBox(children=(FloatProgress(value=0.0, description='Train', max=364.0, style=ProgressStyle(description_width=…"
      ]
     },
     "metadata": {},
     "output_type": "display_data"
    },
    {
     "name": "stdout",
     "output_type": "stream",
     "text": [
      "\n",
      "Epoch: 32 | Time: 1m 53s\n",
      "Training Results - Average Loss: 1.3089 | auc/_mean: 0.5757 | auc/healthy: 0.5707 | auc/multiple_diseases: 0.5125, auc/rust: 0.6121, auc/scab: 0.6075\n",
      "Evaluating Results - Average Loss: 1.3494 | auc/_mean: 0.6510 | auc/healthy: 0.6341 | auc/multiple_diseases: 0.5003, auc/rust: 0.7143, auc/scab: 0.7552\n",
      "\n"
     ]
    },
    {
     "data": {
      "application/vnd.jupyter.widget-view+json": {
       "model_id": "e6a5a50c7f034eca88d4ada196b4f30c",
       "version_major": 2,
       "version_minor": 0
      },
      "text/plain": [
       "HBox(children=(FloatProgress(value=0.0, description='Train', max=364.0, style=ProgressStyle(description_width=…"
      ]
     },
     "metadata": {},
     "output_type": "display_data"
    },
    {
     "name": "stdout",
     "output_type": "stream",
     "text": [
      "\n",
      "Epoch: 33 | Time: 1m 52s\n",
      "Training Results - Average Loss: 1.3087 | auc/_mean: 0.5841 | auc/healthy: 0.5692 | auc/multiple_diseases: 0.5486, auc/rust: 0.6006, auc/scab: 0.6179\n",
      "Evaluating Results - Average Loss: 1.3472 | auc/_mean: 0.6544 | auc/healthy: 0.6391 | auc/multiple_diseases: 0.4920, auc/rust: 0.7182, auc/scab: 0.7683\n",
      "\n"
     ]
    },
    {
     "data": {
      "application/vnd.jupyter.widget-view+json": {
       "model_id": "696a083e36204bbb8ad570a10cd48c5e",
       "version_major": 2,
       "version_minor": 0
      },
      "text/plain": [
       "HBox(children=(FloatProgress(value=0.0, description='Train', max=364.0, style=ProgressStyle(description_width=…"
      ]
     },
     "metadata": {},
     "output_type": "display_data"
    },
    {
     "name": "stdout",
     "output_type": "stream",
     "text": [
      "\n",
      "Epoch: 34 | Time: 1m 52s\n",
      "Training Results - Average Loss: 1.3091 | auc/_mean: 0.5737 | auc/healthy: 0.5837 | auc/multiple_diseases: 0.5372, auc/rust: 0.6102, auc/scab: 0.5638\n",
      "Evaluating Results - Average Loss: 1.3435 | auc/_mean: 0.6581 | auc/healthy: 0.6430 | auc/multiple_diseases: 0.4973, auc/rust: 0.7205, auc/scab: 0.7717\n",
      "\n"
     ]
    },
    {
     "data": {
      "application/vnd.jupyter.widget-view+json": {
       "model_id": "c18acb96895d45fdb22c5232852d8334",
       "version_major": 2,
       "version_minor": 0
      },
      "text/plain": [
       "HBox(children=(FloatProgress(value=0.0, description='Train', max=364.0, style=ProgressStyle(description_width=…"
      ]
     },
     "metadata": {},
     "output_type": "display_data"
    },
    {
     "name": "stdout",
     "output_type": "stream",
     "text": [
      "\n",
      "Epoch: 35 | Time: 1m 53s\n",
      "Training Results - Average Loss: 1.3087 | auc/_mean: 0.5644 | auc/healthy: 0.5644 | auc/multiple_diseases: 0.4917, auc/rust: 0.5948, auc/scab: 0.6067\n",
      "Evaluating Results - Average Loss: 1.3462 | auc/_mean: 0.6626 | auc/healthy: 0.6535 | auc/multiple_diseases: 0.4922, auc/rust: 0.7284, auc/scab: 0.7762\n",
      "\n"
     ]
    },
    {
     "data": {
      "application/vnd.jupyter.widget-view+json": {
       "model_id": "0d62d22a70054c20a230979084aa51ba",
       "version_major": 2,
       "version_minor": 0
      },
      "text/plain": [
       "HBox(children=(FloatProgress(value=0.0, description='Train', max=364.0, style=ProgressStyle(description_width=…"
      ]
     },
     "metadata": {},
     "output_type": "display_data"
    },
    {
     "name": "stdout",
     "output_type": "stream",
     "text": [
      "\n",
      "Epoch: 36 | Time: 1m 53s\n",
      "Training Results - Average Loss: 1.3038 | auc/_mean: 0.5778 | auc/healthy: 0.5798 | auc/multiple_diseases: 0.4853, auc/rust: 0.6310, auc/scab: 0.6149\n",
      "Evaluating Results - Average Loss: 1.3434 | auc/_mean: 0.6664 | auc/healthy: 0.6572 | auc/multiple_diseases: 0.4933, auc/rust: 0.7284, auc/scab: 0.7868\n",
      "\n"
     ]
    },
    {
     "data": {
      "application/vnd.jupyter.widget-view+json": {
       "model_id": "c49b496ca5d54c5698dc45e80d7bad20",
       "version_major": 2,
       "version_minor": 0
      },
      "text/plain": [
       "HBox(children=(FloatProgress(value=0.0, description='Train', max=364.0, style=ProgressStyle(description_width=…"
      ]
     },
     "metadata": {},
     "output_type": "display_data"
    },
    {
     "name": "stdout",
     "output_type": "stream",
     "text": [
      "\n",
      "Epoch: 37 | Time: 1m 52s\n",
      "Training Results - Average Loss: 1.2978 | auc/_mean: 0.5988 | auc/healthy: 0.5993 | auc/multiple_diseases: 0.5558, auc/rust: 0.6087, auc/scab: 0.6312\n",
      "Evaluating Results - Average Loss: 1.3419 | auc/_mean: 0.6718 | auc/healthy: 0.6583 | auc/multiple_diseases: 0.4950, auc/rust: 0.7447, auc/scab: 0.7893\n",
      "\n"
     ]
    },
    {
     "data": {
      "application/vnd.jupyter.widget-view+json": {
       "model_id": "2723a9534cd14cb3a88e0d58fddfee41",
       "version_major": 2,
       "version_minor": 0
      },
      "text/plain": [
       "HBox(children=(FloatProgress(value=0.0, description='Train', max=364.0, style=ProgressStyle(description_width=…"
      ]
     },
     "metadata": {},
     "output_type": "display_data"
    },
    {
     "name": "stdout",
     "output_type": "stream",
     "text": [
      "\n",
      "Epoch: 38 | Time: 1m 53s\n",
      "Training Results - Average Loss: 1.2963 | auc/_mean: 0.6024 | auc/healthy: 0.5804 | auc/multiple_diseases: 0.5453, auc/rust: 0.6280, auc/scab: 0.6557\n",
      "Evaluating Results - Average Loss: 1.3385 | auc/_mean: 0.6741 | auc/healthy: 0.6702 | auc/multiple_diseases: 0.4867, auc/rust: 0.7457, auc/scab: 0.7938\n",
      "\n"
     ]
    },
    {
     "data": {
      "application/vnd.jupyter.widget-view+json": {
       "model_id": "377dc9c754c34b0f882793cf1c6b3380",
       "version_major": 2,
       "version_minor": 0
      },
      "text/plain": [
       "HBox(children=(FloatProgress(value=0.0, description='Train', max=364.0, style=ProgressStyle(description_width=…"
      ]
     },
     "metadata": {},
     "output_type": "display_data"
    },
    {
     "name": "stdout",
     "output_type": "stream",
     "text": [
      "\n",
      "Epoch: 39 | Time: 1m 53s\n",
      "Training Results - Average Loss: 1.2957 | auc/_mean: 0.6024 | auc/healthy: 0.5961 | auc/multiple_diseases: 0.5495, auc/rust: 0.6304, auc/scab: 0.6334\n",
      "Evaluating Results - Average Loss: 1.3380 | auc/_mean: 0.6804 | auc/healthy: 0.6795 | auc/multiple_diseases: 0.4899, auc/rust: 0.7528, auc/scab: 0.7992\n",
      "\n"
     ]
    },
    {
     "data": {
      "application/vnd.jupyter.widget-view+json": {
       "model_id": "f53699e6fd2a4e0dbf2dcea07974f367",
       "version_major": 2,
       "version_minor": 0
      },
      "text/plain": [
       "HBox(children=(FloatProgress(value=0.0, description='Train', max=364.0, style=ProgressStyle(description_width=…"
      ]
     },
     "metadata": {},
     "output_type": "display_data"
    },
    {
     "name": "stdout",
     "output_type": "stream",
     "text": [
      "\n",
      "Epoch: 40 | Time: 1m 53s\n",
      "Training Results - Average Loss: 1.2982 | auc/_mean: 0.5882 | auc/healthy: 0.6043 | auc/multiple_diseases: 0.4917, auc/rust: 0.6087, auc/scab: 0.6482\n",
      "Evaluating Results - Average Loss: 1.3356 | auc/_mean: 0.6814 | auc/healthy: 0.6788 | auc/multiple_diseases: 0.4862, auc/rust: 0.7557, auc/scab: 0.8047\n",
      "\n"
     ]
    },
    {
     "data": {
      "application/vnd.jupyter.widget-view+json": {
       "model_id": "da7b7deeea43436092c644a76bfe0221",
       "version_major": 2,
       "version_minor": 0
      },
      "text/plain": [
       "HBox(children=(FloatProgress(value=0.0, description='Train', max=364.0, style=ProgressStyle(description_width=…"
      ]
     },
     "metadata": {},
     "output_type": "display_data"
    },
    {
     "name": "stdout",
     "output_type": "stream",
     "text": [
      "\n",
      "Epoch: 41 | Time: 1m 54s\n",
      "Training Results - Average Loss: 1.2923 | auc/_mean: 0.6020 | auc/healthy: 0.6077 | auc/multiple_diseases: 0.5124, auc/rust: 0.6456, auc/scab: 0.6421\n",
      "Evaluating Results - Average Loss: 1.3344 | auc/_mean: 0.6861 | auc/healthy: 0.6864 | auc/multiple_diseases: 0.4861, auc/rust: 0.7575, auc/scab: 0.8145\n",
      "\n"
     ]
    },
    {
     "data": {
      "application/vnd.jupyter.widget-view+json": {
       "model_id": "478ed210c6cc4991addfa42351e9f8f2",
       "version_major": 2,
       "version_minor": 0
      },
      "text/plain": [
       "HBox(children=(FloatProgress(value=0.0, description='Train', max=364.0, style=ProgressStyle(description_width=…"
      ]
     },
     "metadata": {},
     "output_type": "display_data"
    },
    {
     "name": "stdout",
     "output_type": "stream",
     "text": [
      "\n",
      "Epoch: 42 | Time: 1m 52s\n",
      "Training Results - Average Loss: 1.2908 | auc/_mean: 0.6089 | auc/healthy: 0.6072 | auc/multiple_diseases: 0.5360, auc/rust: 0.6256, auc/scab: 0.6666\n",
      "Evaluating Results - Average Loss: 1.3316 | auc/_mean: 0.6901 | auc/healthy: 0.6915 | auc/multiple_diseases: 0.4906, auc/rust: 0.7620, auc/scab: 0.8163\n",
      "\n"
     ]
    },
    {
     "data": {
      "application/vnd.jupyter.widget-view+json": {
       "model_id": "6642fb7305f9458f923fe9e398d9a96a",
       "version_major": 2,
       "version_minor": 0
      },
      "text/plain": [
       "HBox(children=(FloatProgress(value=0.0, description='Train', max=364.0, style=ProgressStyle(description_width=…"
      ]
     },
     "metadata": {},
     "output_type": "display_data"
    },
    {
     "name": "stdout",
     "output_type": "stream",
     "text": [
      "\n",
      "Epoch: 43 | Time: 1m 53s\n",
      "Training Results - Average Loss: 1.2966 | auc/_mean: 0.5848 | auc/healthy: 0.5711 | auc/multiple_diseases: 0.4969, auc/rust: 0.6157, auc/scab: 0.6553\n",
      "Evaluating Results - Average Loss: 1.3337 | auc/_mean: 0.6942 | auc/healthy: 0.6984 | auc/multiple_diseases: 0.4906, auc/rust: 0.7659, auc/scab: 0.8220\n",
      "\n"
     ]
    },
    {
     "data": {
      "application/vnd.jupyter.widget-view+json": {
       "model_id": "86082ed846a34633b72eca759f22be73",
       "version_major": 2,
       "version_minor": 0
      },
      "text/plain": [
       "HBox(children=(FloatProgress(value=0.0, description='Train', max=364.0, style=ProgressStyle(description_width=…"
      ]
     },
     "metadata": {},
     "output_type": "display_data"
    },
    {
     "name": "stdout",
     "output_type": "stream",
     "text": [
      "\n",
      "Epoch: 44 | Time: 1m 53s\n",
      "Training Results - Average Loss: 1.2915 | auc/_mean: 0.6037 | auc/healthy: 0.6270 | auc/multiple_diseases: 0.5202, auc/rust: 0.6187, auc/scab: 0.6489\n",
      "Evaluating Results - Average Loss: 1.3310 | auc/_mean: 0.6956 | auc/healthy: 0.6978 | auc/multiple_diseases: 0.4866, auc/rust: 0.7747, auc/scab: 0.8232\n",
      "\n"
     ]
    },
    {
     "data": {
      "application/vnd.jupyter.widget-view+json": {
       "model_id": "8b81b537dd5c486988c558cf6213f375",
       "version_major": 2,
       "version_minor": 0
      },
      "text/plain": [
       "HBox(children=(FloatProgress(value=0.0, description='Train', max=364.0, style=ProgressStyle(description_width=…"
      ]
     },
     "metadata": {},
     "output_type": "display_data"
    },
    {
     "name": "stdout",
     "output_type": "stream",
     "text": [
      "\n",
      "Epoch: 45 | Time: 1m 53s\n",
      "Training Results - Average Loss: 1.2881 | auc/_mean: 0.6082 | auc/healthy: 0.5867 | auc/multiple_diseases: 0.5422, auc/rust: 0.6377, auc/scab: 0.6662\n",
      "Evaluating Results - Average Loss: 1.3294 | auc/_mean: 0.6982 | auc/healthy: 0.7012 | auc/multiple_diseases: 0.4872, auc/rust: 0.7771, auc/scab: 0.8271\n",
      "\n"
     ]
    },
    {
     "data": {
      "application/vnd.jupyter.widget-view+json": {
       "model_id": "18fbc9575b0f4fa8a36ba555a90aa27f",
       "version_major": 2,
       "version_minor": 0
      },
      "text/plain": [
       "HBox(children=(FloatProgress(value=0.0, description='Train', max=364.0, style=ProgressStyle(description_width=…"
      ]
     },
     "metadata": {},
     "output_type": "display_data"
    },
    {
     "name": "stdout",
     "output_type": "stream",
     "text": [
      "\n",
      "Epoch: 46 | Time: 1m 53s\n",
      "Training Results - Average Loss: 1.2849 | auc/_mean: 0.6069 | auc/healthy: 0.6562 | auc/multiple_diseases: 0.4461, auc/rust: 0.6552, auc/scab: 0.6702\n",
      "Evaluating Results - Average Loss: 1.3270 | auc/_mean: 0.7058 | auc/healthy: 0.7158 | auc/multiple_diseases: 0.4898, auc/rust: 0.7839, auc/scab: 0.8336\n",
      "\n"
     ]
    },
    {
     "data": {
      "application/vnd.jupyter.widget-view+json": {
       "model_id": "1a8e49054fb449769e0ed2622d030e20",
       "version_major": 2,
       "version_minor": 0
      },
      "text/plain": [
       "HBox(children=(FloatProgress(value=0.0, description='Train', max=364.0, style=ProgressStyle(description_width=…"
      ]
     },
     "metadata": {},
     "output_type": "display_data"
    },
    {
     "name": "stdout",
     "output_type": "stream",
     "text": [
      "\n",
      "Epoch: 47 | Time: 1m 52s\n",
      "Training Results - Average Loss: 1.2814 | auc/_mean: 0.6207 | auc/healthy: 0.6145 | auc/multiple_diseases: 0.5347, auc/rust: 0.6555, auc/scab: 0.6781\n",
      "Evaluating Results - Average Loss: 1.3267 | auc/_mean: 0.7051 | auc/healthy: 0.7119 | auc/multiple_diseases: 0.4877, auc/rust: 0.7865, auc/scab: 0.8344\n",
      "\n"
     ]
    },
    {
     "data": {
      "application/vnd.jupyter.widget-view+json": {
       "model_id": "6e8b0f4d793e46efbb7d19579d880fd5",
       "version_major": 2,
       "version_minor": 0
      },
      "text/plain": [
       "HBox(children=(FloatProgress(value=0.0, description='Train', max=364.0, style=ProgressStyle(description_width=…"
      ]
     },
     "metadata": {},
     "output_type": "display_data"
    },
    {
     "name": "stdout",
     "output_type": "stream",
     "text": [
      "\n",
      "Epoch: 48 | Time: 1m 52s\n",
      "Training Results - Average Loss: 1.2779 | auc/_mean: 0.6384 | auc/healthy: 0.6305 | auc/multiple_diseases: 0.5919, auc/rust: 0.6510, auc/scab: 0.6800\n",
      "Evaluating Results - Average Loss: 1.3245 | auc/_mean: 0.7081 | auc/healthy: 0.7267 | auc/multiple_diseases: 0.4744, auc/rust: 0.7899, auc/scab: 0.8414\n",
      "\n"
     ]
    },
    {
     "data": {
      "application/vnd.jupyter.widget-view+json": {
       "model_id": "b5e51937d4fb4b32bec6e134c5fa2eaf",
       "version_major": 2,
       "version_minor": 0
      },
      "text/plain": [
       "HBox(children=(FloatProgress(value=0.0, description='Train', max=364.0, style=ProgressStyle(description_width=…"
      ]
     },
     "metadata": {},
     "output_type": "display_data"
    },
    {
     "name": "stdout",
     "output_type": "stream",
     "text": [
      "\n",
      "Epoch: 49 | Time: 1m 53s\n",
      "Training Results - Average Loss: 1.2806 | auc/_mean: 0.6254 | auc/healthy: 0.6128 | auc/multiple_diseases: 0.5691, auc/rust: 0.6320, auc/scab: 0.6878\n",
      "Evaluating Results - Average Loss: 1.3225 | auc/_mean: 0.7135 | auc/healthy: 0.7262 | auc/multiple_diseases: 0.4910, auc/rust: 0.7941, auc/scab: 0.8426\n",
      "\n"
     ]
    },
    {
     "data": {
      "application/vnd.jupyter.widget-view+json": {
       "model_id": "a22a0ee00dec42c5bf541b3f9dff6b2a",
       "version_major": 2,
       "version_minor": 0
      },
      "text/plain": [
       "HBox(children=(FloatProgress(value=0.0, description='Train', max=364.0, style=ProgressStyle(description_width=…"
      ]
     },
     "metadata": {},
     "output_type": "display_data"
    },
    {
     "name": "stdout",
     "output_type": "stream",
     "text": [
      "\n",
      "Epoch: 50 | Time: 1m 54s\n",
      "Training Results - Average Loss: 1.2782 | auc/_mean: 0.6276 | auc/healthy: 0.6315 | auc/multiple_diseases: 0.5410, auc/rust: 0.6557, auc/scab: 0.6821\n",
      "Evaluating Results - Average Loss: 1.3257 | auc/_mean: 0.7124 | auc/healthy: 0.7334 | auc/multiple_diseases: 0.4701, auc/rust: 0.7979, auc/scab: 0.8482\n",
      "\n"
     ]
    },
    {
     "data": {
      "application/vnd.jupyter.widget-view+json": {
       "model_id": "580b591fecc247b9adfe167bfd763fef",
       "version_major": 2,
       "version_minor": 0
      },
      "text/plain": [
       "HBox(children=(FloatProgress(value=0.0, description='Train', max=364.0, style=ProgressStyle(description_width=…"
      ]
     },
     "metadata": {},
     "output_type": "display_data"
    },
    {
     "name": "stdout",
     "output_type": "stream",
     "text": [
      "\n",
      "Epoch: 51 | Time: 1m 53s\n",
      "Training Results - Average Loss: 1.2829 | auc/_mean: 0.6153 | auc/healthy: 0.6504 | auc/multiple_diseases: 0.5106, auc/rust: 0.6364, auc/scab: 0.6640\n",
      "Evaluating Results - Average Loss: 1.3206 | auc/_mean: 0.7177 | auc/healthy: 0.7349 | auc/multiple_diseases: 0.4822, auc/rust: 0.8018, auc/scab: 0.8517\n",
      "\n"
     ]
    },
    {
     "data": {
      "application/vnd.jupyter.widget-view+json": {
       "model_id": "72051b9a8d6b416798bb01f1f34042d5",
       "version_major": 2,
       "version_minor": 0
      },
      "text/plain": [
       "HBox(children=(FloatProgress(value=0.0, description='Train', max=364.0, style=ProgressStyle(description_width=…"
      ]
     },
     "metadata": {},
     "output_type": "display_data"
    },
    {
     "name": "stdout",
     "output_type": "stream",
     "text": [
      "\n",
      "Epoch: 52 | Time: 1m 52s\n",
      "Training Results - Average Loss: 1.2788 | auc/_mean: 0.6250 | auc/healthy: 0.6397 | auc/multiple_diseases: 0.5476, auc/rust: 0.6377, auc/scab: 0.6749\n",
      "Evaluating Results - Average Loss: 1.3189 | auc/_mean: 0.7219 | auc/healthy: 0.7385 | auc/multiple_diseases: 0.4864, auc/rust: 0.8053, auc/scab: 0.8573\n",
      "\n"
     ]
    },
    {
     "data": {
      "application/vnd.jupyter.widget-view+json": {
       "model_id": "dd15d615a4bb4e3882edc2479eedf152",
       "version_major": 2,
       "version_minor": 0
      },
      "text/plain": [
       "HBox(children=(FloatProgress(value=0.0, description='Train', max=364.0, style=ProgressStyle(description_width=…"
      ]
     },
     "metadata": {},
     "output_type": "display_data"
    },
    {
     "name": "stdout",
     "output_type": "stream",
     "text": [
      "\n",
      "Epoch: 53 | Time: 1m 53s\n",
      "Training Results - Average Loss: 1.2769 | auc/_mean: 0.6213 | auc/healthy: 0.6560 | auc/multiple_diseases: 0.4897, auc/rust: 0.6464, auc/scab: 0.6932\n",
      "Evaluating Results - Average Loss: 1.3202 | auc/_mean: 0.7205 | auc/healthy: 0.7449 | auc/multiple_diseases: 0.4721, auc/rust: 0.8129, auc/scab: 0.8521\n",
      "\n"
     ]
    },
    {
     "data": {
      "application/vnd.jupyter.widget-view+json": {
       "model_id": "df14aa1a282743f88758a0b521e7282b",
       "version_major": 2,
       "version_minor": 0
      },
      "text/plain": [
       "HBox(children=(FloatProgress(value=0.0, description='Train', max=364.0, style=ProgressStyle(description_width=…"
      ]
     },
     "metadata": {},
     "output_type": "display_data"
    },
    {
     "name": "stdout",
     "output_type": "stream",
     "text": [
      "\n",
      "Epoch: 54 | Time: 1m 53s\n",
      "Training Results - Average Loss: 1.2735 | auc/_mean: 0.6329 | auc/healthy: 0.6233 | auc/multiple_diseases: 0.5324, auc/rust: 0.6700, auc/scab: 0.7057\n",
      "Evaluating Results - Average Loss: 1.3189 | auc/_mean: 0.7268 | auc/healthy: 0.7502 | auc/multiple_diseases: 0.4833, auc/rust: 0.8156, auc/scab: 0.8581\n",
      "\n"
     ]
    },
    {
     "data": {
      "application/vnd.jupyter.widget-view+json": {
       "model_id": "6d1768f07f644a41b2548466ca410eb7",
       "version_major": 2,
       "version_minor": 0
      },
      "text/plain": [
       "HBox(children=(FloatProgress(value=0.0, description='Train', max=364.0, style=ProgressStyle(description_width=…"
      ]
     },
     "metadata": {},
     "output_type": "display_data"
    },
    {
     "name": "stdout",
     "output_type": "stream",
     "text": [
      "\n",
      "Epoch: 55 | Time: 1m 53s\n",
      "Training Results - Average Loss: 1.2739 | auc/_mean: 0.6272 | auc/healthy: 0.6525 | auc/multiple_diseases: 0.5109, auc/rust: 0.6637, auc/scab: 0.6819\n",
      "Evaluating Results - Average Loss: 1.3161 | auc/_mean: 0.7307 | auc/healthy: 0.7528 | auc/multiple_diseases: 0.4894, auc/rust: 0.8164, auc/scab: 0.8639\n",
      "\n"
     ]
    },
    {
     "data": {
      "application/vnd.jupyter.widget-view+json": {
       "model_id": "2f2877fbb3a44045aaa9e10fd8b58da1",
       "version_major": 2,
       "version_minor": 0
      },
      "text/plain": [
       "HBox(children=(FloatProgress(value=0.0, description='Train', max=364.0, style=ProgressStyle(description_width=…"
      ]
     },
     "metadata": {},
     "output_type": "display_data"
    },
    {
     "name": "stdout",
     "output_type": "stream",
     "text": [
      "\n",
      "Epoch: 56 | Time: 1m 53s\n",
      "Training Results - Average Loss: 1.2740 | auc/_mean: 0.6153 | auc/healthy: 0.6388 | auc/multiple_diseases: 0.4599, auc/rust: 0.6659, auc/scab: 0.6966\n",
      "Evaluating Results - Average Loss: 1.3152 | auc/_mean: 0.7315 | auc/healthy: 0.7575 | auc/multiple_diseases: 0.4832, auc/rust: 0.8189, auc/scab: 0.8665\n",
      "\n"
     ]
    },
    {
     "data": {
      "application/vnd.jupyter.widget-view+json": {
       "model_id": "e705b1548e9e47a5a2865081afe3249b",
       "version_major": 2,
       "version_minor": 0
      },
      "text/plain": [
       "HBox(children=(FloatProgress(value=0.0, description='Train', max=364.0, style=ProgressStyle(description_width=…"
      ]
     },
     "metadata": {},
     "output_type": "display_data"
    },
    {
     "name": "stdout",
     "output_type": "stream",
     "text": [
      "\n",
      "Epoch: 57 | Time: 1m 53s\n",
      "Training Results - Average Loss: 1.2656 | auc/_mean: 0.6518 | auc/healthy: 0.6564 | auc/multiple_diseases: 0.5540, auc/rust: 0.6902, auc/scab: 0.7066\n",
      "Evaluating Results - Average Loss: 1.3118 | auc/_mean: 0.7349 | auc/healthy: 0.7645 | auc/multiple_diseases: 0.4821, auc/rust: 0.8245, auc/scab: 0.8686\n",
      "\n"
     ]
    },
    {
     "data": {
      "application/vnd.jupyter.widget-view+json": {
       "model_id": "b4d31ba9ef174c29917db642cbc61a5d",
       "version_major": 2,
       "version_minor": 0
      },
      "text/plain": [
       "HBox(children=(FloatProgress(value=0.0, description='Train', max=364.0, style=ProgressStyle(description_width=…"
      ]
     },
     "metadata": {},
     "output_type": "display_data"
    },
    {
     "name": "stdout",
     "output_type": "stream",
     "text": [
      "\n",
      "Epoch: 58 | Time: 1m 53s\n",
      "Training Results - Average Loss: 1.2660 | auc/_mean: 0.6400 | auc/healthy: 0.6702 | auc/multiple_diseases: 0.5055, auc/rust: 0.6783, auc/scab: 0.7058\n",
      "Evaluating Results - Average Loss: 1.3116 | auc/_mean: 0.7361 | auc/healthy: 0.7658 | auc/multiple_diseases: 0.4858, auc/rust: 0.8236, auc/scab: 0.8690\n",
      "\n"
     ]
    },
    {
     "data": {
      "application/vnd.jupyter.widget-view+json": {
       "model_id": "3f569d222b1647b8bc158f79357e93f1",
       "version_major": 2,
       "version_minor": 0
      },
      "text/plain": [
       "HBox(children=(FloatProgress(value=0.0, description='Train', max=364.0, style=ProgressStyle(description_width=…"
      ]
     },
     "metadata": {},
     "output_type": "display_data"
    },
    {
     "name": "stdout",
     "output_type": "stream",
     "text": [
      "\n",
      "Epoch: 59 | Time: 1m 52s\n",
      "Training Results - Average Loss: 1.2682 | auc/_mean: 0.6316 | auc/healthy: 0.6548 | auc/multiple_diseases: 0.4506, auc/rust: 0.6861, auc/scab: 0.7348\n",
      "Evaluating Results - Average Loss: 1.3105 | auc/_mean: 0.7397 | auc/healthy: 0.7745 | auc/multiple_diseases: 0.4846, auc/rust: 0.8266, auc/scab: 0.8730\n",
      "\n"
     ]
    },
    {
     "data": {
      "application/vnd.jupyter.widget-view+json": {
       "model_id": "d442e1cb6974434db28e6dd7f0a1749e",
       "version_major": 2,
       "version_minor": 0
      },
      "text/plain": [
       "HBox(children=(FloatProgress(value=0.0, description='Train', max=364.0, style=ProgressStyle(description_width=…"
      ]
     },
     "metadata": {},
     "output_type": "display_data"
    },
    {
     "name": "stdout",
     "output_type": "stream",
     "text": [
      "\n",
      "Epoch: 60 | Time: 1m 53s\n",
      "Training Results - Average Loss: 1.2647 | auc/_mean: 0.6491 | auc/healthy: 0.6593 | auc/multiple_diseases: 0.5387, auc/rust: 0.6762, auc/scab: 0.7223\n",
      "Evaluating Results - Average Loss: 1.3108 | auc/_mean: 0.7421 | auc/healthy: 0.7754 | auc/multiple_diseases: 0.4848, auc/rust: 0.8298, auc/scab: 0.8785\n",
      "\n"
     ]
    },
    {
     "data": {
      "application/vnd.jupyter.widget-view+json": {
       "model_id": "62815989ea664e60b2bc52ee664725dc",
       "version_major": 2,
       "version_minor": 0
      },
      "text/plain": [
       "HBox(children=(FloatProgress(value=0.0, description='Train', max=364.0, style=ProgressStyle(description_width=…"
      ]
     },
     "metadata": {},
     "output_type": "display_data"
    },
    {
     "name": "stdout",
     "output_type": "stream",
     "text": [
      "\n",
      "Epoch: 61 | Time: 1m 53s\n",
      "Training Results - Average Loss: 1.2606 | auc/_mean: 0.6555 | auc/healthy: 0.6748 | auc/multiple_diseases: 0.5476, auc/rust: 0.6795, auc/scab: 0.7202\n",
      "Evaluating Results - Average Loss: 1.3085 | auc/_mean: 0.7445 | auc/healthy: 0.7845 | auc/multiple_diseases: 0.4814, auc/rust: 0.8370, auc/scab: 0.8749\n",
      "\n"
     ]
    },
    {
     "data": {
      "application/vnd.jupyter.widget-view+json": {
       "model_id": "951d8603d91d47588b7defc468e70a36",
       "version_major": 2,
       "version_minor": 0
      },
      "text/plain": [
       "HBox(children=(FloatProgress(value=0.0, description='Train', max=364.0, style=ProgressStyle(description_width=…"
      ]
     },
     "metadata": {},
     "output_type": "display_data"
    },
    {
     "name": "stdout",
     "output_type": "stream",
     "text": [
      "\n",
      "Epoch: 62 | Time: 1m 53s\n",
      "Training Results - Average Loss: 1.2558 | auc/_mean: 0.6643 | auc/healthy: 0.6797 | auc/multiple_diseases: 0.5455, auc/rust: 0.6998, auc/scab: 0.7320\n",
      "Evaluating Results - Average Loss: 1.3092 | auc/_mean: 0.7474 | auc/healthy: 0.7839 | auc/multiple_diseases: 0.4894, auc/rust: 0.8365, auc/scab: 0.8796\n",
      "\n"
     ]
    },
    {
     "data": {
      "application/vnd.jupyter.widget-view+json": {
       "model_id": "e0becd72cca54f36abc0047131a4d2c2",
       "version_major": 2,
       "version_minor": 0
      },
      "text/plain": [
       "HBox(children=(FloatProgress(value=0.0, description='Train', max=364.0, style=ProgressStyle(description_width=…"
      ]
     },
     "metadata": {},
     "output_type": "display_data"
    },
    {
     "name": "stdout",
     "output_type": "stream",
     "text": [
      "\n",
      "Epoch: 63 | Time: 1m 53s\n",
      "Training Results - Average Loss: 1.2580 | auc/_mean: 0.6543 | auc/healthy: 0.7014 | auc/multiple_diseases: 0.4889, auc/rust: 0.6968, auc/scab: 0.7303\n",
      "Evaluating Results - Average Loss: 1.3039 | auc/_mean: 0.7504 | auc/healthy: 0.7911 | auc/multiple_diseases: 0.4885, auc/rust: 0.8390, auc/scab: 0.8828\n",
      "\n"
     ]
    },
    {
     "data": {
      "application/vnd.jupyter.widget-view+json": {
       "model_id": "53f38a8d65d54cb18925b38c279ba0db",
       "version_major": 2,
       "version_minor": 0
      },
      "text/plain": [
       "HBox(children=(FloatProgress(value=0.0, description='Train', max=364.0, style=ProgressStyle(description_width=…"
      ]
     },
     "metadata": {},
     "output_type": "display_data"
    },
    {
     "name": "stdout",
     "output_type": "stream",
     "text": [
      "\n",
      "Epoch: 64 | Time: 1m 52s\n",
      "Training Results - Average Loss: 1.2566 | auc/_mean: 0.6612 | auc/healthy: 0.7098 | auc/multiple_diseases: 0.5245, auc/rust: 0.6846, auc/scab: 0.7259\n",
      "Evaluating Results - Average Loss: 1.3017 | auc/_mean: 0.7507 | auc/healthy: 0.7895 | auc/multiple_diseases: 0.4854, auc/rust: 0.8429, auc/scab: 0.8848\n",
      "\n"
     ]
    },
    {
     "data": {
      "application/vnd.jupyter.widget-view+json": {
       "model_id": "5d6816b6bdf64b34b2f5f814fad29ba8",
       "version_major": 2,
       "version_minor": 0
      },
      "text/plain": [
       "HBox(children=(FloatProgress(value=0.0, description='Train', max=364.0, style=ProgressStyle(description_width=…"
      ]
     },
     "metadata": {},
     "output_type": "display_data"
    },
    {
     "name": "stdout",
     "output_type": "stream",
     "text": [
      "\n",
      "Epoch: 65 | Time: 1m 52s\n",
      "Training Results - Average Loss: 1.2632 | auc/_mean: 0.6413 | auc/healthy: 0.6700 | auc/multiple_diseases: 0.5092, auc/rust: 0.6654, auc/scab: 0.7206\n",
      "Evaluating Results - Average Loss: 1.2995 | auc/_mean: 0.7540 | auc/healthy: 0.7968 | auc/multiple_diseases: 0.4821, auc/rust: 0.8468, auc/scab: 0.8902\n",
      "\n"
     ]
    },
    {
     "data": {
      "application/vnd.jupyter.widget-view+json": {
       "model_id": "a5230f0287264233b25f20d3c61e7834",
       "version_major": 2,
       "version_minor": 0
      },
      "text/plain": [
       "HBox(children=(FloatProgress(value=0.0, description='Train', max=364.0, style=ProgressStyle(description_width=…"
      ]
     },
     "metadata": {},
     "output_type": "display_data"
    },
    {
     "name": "stdout",
     "output_type": "stream",
     "text": [
      "\n",
      "Epoch: 66 | Time: 1m 53s\n",
      "Training Results - Average Loss: 1.2535 | auc/_mean: 0.6617 | auc/healthy: 0.6775 | auc/multiple_diseases: 0.5266, auc/rust: 0.7016, auc/scab: 0.7412\n",
      "Evaluating Results - Average Loss: 1.2970 | auc/_mean: 0.7547 | auc/healthy: 0.7999 | auc/multiple_diseases: 0.4858, auc/rust: 0.8458, auc/scab: 0.8874\n",
      "\n"
     ]
    },
    {
     "data": {
      "application/vnd.jupyter.widget-view+json": {
       "model_id": "b8522fc7bcb2454aa520fd496ff310f9",
       "version_major": 2,
       "version_minor": 0
      },
      "text/plain": [
       "HBox(children=(FloatProgress(value=0.0, description='Train', max=364.0, style=ProgressStyle(description_width=…"
      ]
     },
     "metadata": {},
     "output_type": "display_data"
    },
    {
     "name": "stdout",
     "output_type": "stream",
     "text": [
      "\n",
      "Epoch: 67 | Time: 1m 52s\n",
      "Training Results - Average Loss: 1.2539 | auc/_mean: 0.6563 | auc/healthy: 0.6782 | auc/multiple_diseases: 0.5053, auc/rust: 0.7052, auc/scab: 0.7366\n",
      "Evaluating Results - Average Loss: 1.2895 | auc/_mean: 0.7582 | auc/healthy: 0.8044 | auc/multiple_diseases: 0.4835, auc/rust: 0.8521, auc/scab: 0.8926\n",
      "\n"
     ]
    },
    {
     "data": {
      "application/vnd.jupyter.widget-view+json": {
       "model_id": "dc07c68f87074521ba074aca71661150",
       "version_major": 2,
       "version_minor": 0
      },
      "text/plain": [
       "HBox(children=(FloatProgress(value=0.0, description='Train', max=364.0, style=ProgressStyle(description_width=…"
      ]
     },
     "metadata": {},
     "output_type": "display_data"
    },
    {
     "name": "stdout",
     "output_type": "stream",
     "text": [
      "\n",
      "Epoch: 68 | Time: 1m 53s\n",
      "Training Results - Average Loss: 1.2507 | auc/_mean: 0.6582 | auc/healthy: 0.6680 | auc/multiple_diseases: 0.4951, auc/rust: 0.7147, auc/scab: 0.7549\n",
      "Evaluating Results - Average Loss: 1.2949 | auc/_mean: 0.7587 | auc/healthy: 0.8043 | auc/multiple_diseases: 0.4848, auc/rust: 0.8527, auc/scab: 0.8929\n",
      "\n"
     ]
    },
    {
     "data": {
      "application/vnd.jupyter.widget-view+json": {
       "model_id": "3a0b3bf91ad54d8e873b09bc756e2f99",
       "version_major": 2,
       "version_minor": 0
      },
      "text/plain": [
       "HBox(children=(FloatProgress(value=0.0, description='Train', max=364.0, style=ProgressStyle(description_width=…"
      ]
     },
     "metadata": {},
     "output_type": "display_data"
    },
    {
     "name": "stdout",
     "output_type": "stream",
     "text": [
      "\n",
      "Epoch: 69 | Time: 1m 53s\n",
      "Training Results - Average Loss: 1.2520 | auc/_mean: 0.6646 | auc/healthy: 0.6870 | auc/multiple_diseases: 0.5393, auc/rust: 0.6871, auc/scab: 0.7451\n",
      "Evaluating Results - Average Loss: 1.2953 | auc/_mean: 0.7604 | auc/healthy: 0.8076 | auc/multiple_diseases: 0.4856, auc/rust: 0.8559, auc/scab: 0.8923\n",
      "\n"
     ]
    },
    {
     "data": {
      "application/vnd.jupyter.widget-view+json": {
       "model_id": "14fcb762dcce43b99e250fcae3a35826",
       "version_major": 2,
       "version_minor": 0
      },
      "text/plain": [
       "HBox(children=(FloatProgress(value=0.0, description='Train', max=364.0, style=ProgressStyle(description_width=…"
      ]
     },
     "metadata": {},
     "output_type": "display_data"
    },
    {
     "name": "stdout",
     "output_type": "stream",
     "text": [
      "\n",
      "Epoch: 70 | Time: 1m 53s\n",
      "Training Results - Average Loss: 1.2492 | auc/_mean: 0.6685 | auc/healthy: 0.6924 | auc/multiple_diseases: 0.5213, auc/rust: 0.6905, auc/scab: 0.7699\n",
      "Evaluating Results - Average Loss: 1.2902 | auc/_mean: 0.7621 | auc/healthy: 0.8137 | auc/multiple_diseases: 0.4797, auc/rust: 0.8583, auc/scab: 0.8969\n",
      "\n"
     ]
    },
    {
     "data": {
      "application/vnd.jupyter.widget-view+json": {
       "model_id": "82584018cef44e70a8af1eda062d1090",
       "version_major": 2,
       "version_minor": 0
      },
      "text/plain": [
       "HBox(children=(FloatProgress(value=0.0, description='Train', max=364.0, style=ProgressStyle(description_width=…"
      ]
     },
     "metadata": {},
     "output_type": "display_data"
    },
    {
     "name": "stdout",
     "output_type": "stream",
     "text": [
      "\n",
      "Epoch: 71 | Time: 1m 53s\n",
      "Training Results - Average Loss: 1.2434 | auc/_mean: 0.6867 | auc/healthy: 0.7075 | auc/multiple_diseases: 0.5836, auc/rust: 0.7047, auc/scab: 0.7508\n",
      "Evaluating Results - Average Loss: 1.2916 | auc/_mean: 0.7626 | auc/healthy: 0.8146 | auc/multiple_diseases: 0.4761, auc/rust: 0.8599, auc/scab: 0.8998\n",
      "\n"
     ]
    },
    {
     "data": {
      "application/vnd.jupyter.widget-view+json": {
       "model_id": "e66246e634324ba7a411590cef603872",
       "version_major": 2,
       "version_minor": 0
      },
      "text/plain": [
       "HBox(children=(FloatProgress(value=0.0, description='Train', max=364.0, style=ProgressStyle(description_width=…"
      ]
     },
     "metadata": {},
     "output_type": "display_data"
    },
    {
     "name": "stdout",
     "output_type": "stream",
     "text": [
      "\n",
      "Epoch: 72 | Time: 1m 52s\n",
      "Training Results - Average Loss: 1.2441 | auc/_mean: 0.6729 | auc/healthy: 0.7040 | auc/multiple_diseases: 0.5037, auc/rust: 0.7088, auc/scab: 0.7750\n",
      "Evaluating Results - Average Loss: 1.2915 | auc/_mean: 0.7652 | auc/healthy: 0.8180 | auc/multiple_diseases: 0.4830, auc/rust: 0.8610, auc/scab: 0.8986\n",
      "\n"
     ]
    },
    {
     "data": {
      "application/vnd.jupyter.widget-view+json": {
       "model_id": "4c2cb3282dc64b1a84f05434032fc0dd",
       "version_major": 2,
       "version_minor": 0
      },
      "text/plain": [
       "HBox(children=(FloatProgress(value=0.0, description='Train', max=364.0, style=ProgressStyle(description_width=…"
      ]
     },
     "metadata": {},
     "output_type": "display_data"
    },
    {
     "name": "stdout",
     "output_type": "stream",
     "text": [
      "\n",
      "Epoch: 73 | Time: 1m 53s\n",
      "Training Results - Average Loss: 1.2495 | auc/_mean: 0.6679 | auc/healthy: 0.6929 | auc/multiple_diseases: 0.5317, auc/rust: 0.6830, auc/scab: 0.7642\n",
      "Evaluating Results - Average Loss: 1.2927 | auc/_mean: 0.7677 | auc/healthy: 0.8220 | auc/multiple_diseases: 0.4870, auc/rust: 0.8612, auc/scab: 0.9004\n",
      "\n"
     ]
    },
    {
     "data": {
      "application/vnd.jupyter.widget-view+json": {
       "model_id": "52f9a73b4e2a4bd5bcb247f43ae672b7",
       "version_major": 2,
       "version_minor": 0
      },
      "text/plain": [
       "HBox(children=(FloatProgress(value=0.0, description='Train', max=364.0, style=ProgressStyle(description_width=…"
      ]
     },
     "metadata": {},
     "output_type": "display_data"
    },
    {
     "name": "stdout",
     "output_type": "stream",
     "text": [
      "\n",
      "Epoch: 74 | Time: 1m 53s\n",
      "Training Results - Average Loss: 1.2442 | auc/_mean: 0.6753 | auc/healthy: 0.7006 | auc/multiple_diseases: 0.5349, auc/rust: 0.6979, auc/scab: 0.7679\n",
      "Evaluating Results - Average Loss: 1.2863 | auc/_mean: 0.7662 | auc/healthy: 0.8239 | auc/multiple_diseases: 0.4723, auc/rust: 0.8634, auc/scab: 0.9054\n",
      "\n"
     ]
    },
    {
     "data": {
      "application/vnd.jupyter.widget-view+json": {
       "model_id": "ebfc8be1143049eaa29700a43d37b909",
       "version_major": 2,
       "version_minor": 0
      },
      "text/plain": [
       "HBox(children=(FloatProgress(value=0.0, description='Train', max=364.0, style=ProgressStyle(description_width=…"
      ]
     },
     "metadata": {},
     "output_type": "display_data"
    },
    {
     "name": "stdout",
     "output_type": "stream",
     "text": [
      "\n",
      "Epoch: 75 | Time: 1m 53s\n",
      "Training Results - Average Loss: 1.2457 | auc/_mean: 0.6731 | auc/healthy: 0.7005 | auc/multiple_diseases: 0.5211, auc/rust: 0.7010, auc/scab: 0.7695\n",
      "Evaluating Results - Average Loss: 1.2862 | auc/_mean: 0.7724 | auc/healthy: 0.8224 | auc/multiple_diseases: 0.4936, auc/rust: 0.8681, auc/scab: 0.9054\n",
      "\n"
     ]
    },
    {
     "data": {
      "application/vnd.jupyter.widget-view+json": {
       "model_id": "1e2e16ab9b9243598a8292cf02aedb11",
       "version_major": 2,
       "version_minor": 0
      },
      "text/plain": [
       "HBox(children=(FloatProgress(value=0.0, description='Train', max=364.0, style=ProgressStyle(description_width=…"
      ]
     },
     "metadata": {},
     "output_type": "display_data"
    },
    {
     "name": "stdout",
     "output_type": "stream",
     "text": [
      "\n",
      "Epoch: 76 | Time: 1m 53s\n",
      "Training Results - Average Loss: 1.2443 | auc/_mean: 0.6729 | auc/healthy: 0.7153 | auc/multiple_diseases: 0.5169, auc/rust: 0.7011, auc/scab: 0.7582\n",
      "Evaluating Results - Average Loss: 1.2831 | auc/_mean: 0.7710 | auc/healthy: 0.8285 | auc/multiple_diseases: 0.4784, auc/rust: 0.8668, auc/scab: 0.9104\n",
      "\n"
     ]
    },
    {
     "data": {
      "application/vnd.jupyter.widget-view+json": {
       "model_id": "cc51a45e978f4a8eb0a2d3c18263ae8a",
       "version_major": 2,
       "version_minor": 0
      },
      "text/plain": [
       "HBox(children=(FloatProgress(value=0.0, description='Train', max=364.0, style=ProgressStyle(description_width=…"
      ]
     },
     "metadata": {},
     "output_type": "display_data"
    },
    {
     "name": "stdout",
     "output_type": "stream",
     "text": [
      "\n",
      "Epoch: 77 | Time: 1m 53s\n",
      "Training Results - Average Loss: 1.2422 | auc/_mean: 0.6729 | auc/healthy: 0.7089 | auc/multiple_diseases: 0.4917, auc/rust: 0.7095, auc/scab: 0.7815\n",
      "Evaluating Results - Average Loss: 1.2818 | auc/_mean: 0.7742 | auc/healthy: 0.8327 | auc/multiple_diseases: 0.4811, auc/rust: 0.8727, auc/scab: 0.9102\n",
      "\n"
     ]
    },
    {
     "data": {
      "application/vnd.jupyter.widget-view+json": {
       "model_id": "3ed7aba038734b0a8857d1161749a8fe",
       "version_major": 2,
       "version_minor": 0
      },
      "text/plain": [
       "HBox(children=(FloatProgress(value=0.0, description='Train', max=364.0, style=ProgressStyle(description_width=…"
      ]
     },
     "metadata": {},
     "output_type": "display_data"
    },
    {
     "name": "stdout",
     "output_type": "stream",
     "text": [
      "\n",
      "Epoch: 78 | Time: 1m 53s\n",
      "Training Results - Average Loss: 1.2446 | auc/_mean: 0.6719 | auc/healthy: 0.7200 | auc/multiple_diseases: 0.5019, auc/rust: 0.6814, auc/scab: 0.7844\n",
      "Evaluating Results - Average Loss: 1.2745 | auc/_mean: 0.7738 | auc/healthy: 0.8352 | auc/multiple_diseases: 0.4758, auc/rust: 0.8747, auc/scab: 0.9095\n",
      "\n"
     ]
    },
    {
     "data": {
      "application/vnd.jupyter.widget-view+json": {
       "model_id": "4fd44d8443304aa08085fc6362add64f",
       "version_major": 2,
       "version_minor": 0
      },
      "text/plain": [
       "HBox(children=(FloatProgress(value=0.0, description='Train', max=364.0, style=ProgressStyle(description_width=…"
      ]
     },
     "metadata": {},
     "output_type": "display_data"
    },
    {
     "name": "stdout",
     "output_type": "stream",
     "text": [
      "\n",
      "Epoch: 79 | Time: 1m 53s\n",
      "Training Results - Average Loss: 1.2353 | auc/_mean: 0.6861 | auc/healthy: 0.6998 | auc/multiple_diseases: 0.5443, auc/rust: 0.7297, auc/scab: 0.7705\n",
      "Evaluating Results - Average Loss: 1.2779 | auc/_mean: 0.7755 | auc/healthy: 0.8365 | auc/multiple_diseases: 0.4779, auc/rust: 0.8762, auc/scab: 0.9114\n",
      "\n"
     ]
    },
    {
     "data": {
      "application/vnd.jupyter.widget-view+json": {
       "model_id": "57c13e8943894cc7959d9f4a633d033a",
       "version_major": 2,
       "version_minor": 0
      },
      "text/plain": [
       "HBox(children=(FloatProgress(value=0.0, description='Train', max=364.0, style=ProgressStyle(description_width=…"
      ]
     },
     "metadata": {},
     "output_type": "display_data"
    },
    {
     "name": "stdout",
     "output_type": "stream",
     "text": [
      "\n",
      "Epoch: 80 | Time: 1m 52s\n",
      "Training Results - Average Loss: 1.2365 | auc/_mean: 0.6777 | auc/healthy: 0.7144 | auc/multiple_diseases: 0.4952, auc/rust: 0.7322, auc/scab: 0.7691\n",
      "Evaluating Results - Average Loss: 1.2802 | auc/_mean: 0.7784 | auc/healthy: 0.8389 | auc/multiple_diseases: 0.4883, auc/rust: 0.8742, auc/scab: 0.9121\n",
      "\n"
     ]
    },
    {
     "data": {
      "application/vnd.jupyter.widget-view+json": {
       "model_id": "c16cc8c437054660b23510dacb0a5be6",
       "version_major": 2,
       "version_minor": 0
      },
      "text/plain": [
       "HBox(children=(FloatProgress(value=0.0, description='Train', max=364.0, style=ProgressStyle(description_width=…"
      ]
     },
     "metadata": {},
     "output_type": "display_data"
    },
    {
     "name": "stdout",
     "output_type": "stream",
     "text": [
      "\n",
      "Epoch: 81 | Time: 1m 52s\n",
      "Training Results - Average Loss: 1.2421 | auc/_mean: 0.6680 | auc/healthy: 0.7049 | auc/multiple_diseases: 0.4986, auc/rust: 0.6907, auc/scab: 0.7777\n",
      "Evaluating Results - Average Loss: 1.2794 | auc/_mean: 0.7791 | auc/healthy: 0.8409 | auc/multiple_diseases: 0.4846, auc/rust: 0.8772, auc/scab: 0.9138\n",
      "\n"
     ]
    },
    {
     "data": {
      "application/vnd.jupyter.widget-view+json": {
       "model_id": "c518eded8263440280a49c9937e1310a",
       "version_major": 2,
       "version_minor": 0
      },
      "text/plain": [
       "HBox(children=(FloatProgress(value=0.0, description='Train', max=364.0, style=ProgressStyle(description_width=…"
      ]
     },
     "metadata": {},
     "output_type": "display_data"
    },
    {
     "name": "stdout",
     "output_type": "stream",
     "text": [
      "\n",
      "Epoch: 82 | Time: 1m 52s\n",
      "Training Results - Average Loss: 1.2373 | auc/_mean: 0.6795 | auc/healthy: 0.7234 | auc/multiple_diseases: 0.4904, auc/rust: 0.7179, auc/scab: 0.7863\n",
      "Evaluating Results - Average Loss: 1.2765 | auc/_mean: 0.7808 | auc/healthy: 0.8401 | auc/multiple_diseases: 0.4875, auc/rust: 0.8781, auc/scab: 0.9174\n",
      "\n"
     ]
    },
    {
     "data": {
      "application/vnd.jupyter.widget-view+json": {
       "model_id": "c5e7995316dc41a48c5251eebba57af2",
       "version_major": 2,
       "version_minor": 0
      },
      "text/plain": [
       "HBox(children=(FloatProgress(value=0.0, description='Train', max=364.0, style=ProgressStyle(description_width=…"
      ]
     },
     "metadata": {},
     "output_type": "display_data"
    },
    {
     "name": "stdout",
     "output_type": "stream",
     "text": [
      "\n",
      "Epoch: 83 | Time: 1m 53s\n",
      "Training Results - Average Loss: 1.2289 | auc/_mean: 0.7025 | auc/healthy: 0.7505 | auc/multiple_diseases: 0.5587, auc/rust: 0.7169, auc/scab: 0.7839\n",
      "Evaluating Results - Average Loss: 1.2709 | auc/_mean: 0.7815 | auc/healthy: 0.8464 | auc/multiple_diseases: 0.4817, auc/rust: 0.8815, auc/scab: 0.9164\n",
      "\n"
     ]
    },
    {
     "data": {
      "application/vnd.jupyter.widget-view+json": {
       "model_id": "c24df6694e044d29a8fc2000a5983c11",
       "version_major": 2,
       "version_minor": 0
      },
      "text/plain": [
       "HBox(children=(FloatProgress(value=0.0, description='Train', max=364.0, style=ProgressStyle(description_width=…"
      ]
     },
     "metadata": {},
     "output_type": "display_data"
    },
    {
     "name": "stdout",
     "output_type": "stream",
     "text": [
      "\n",
      "Epoch: 84 | Time: 1m 53s\n",
      "Training Results - Average Loss: 1.2357 | auc/_mean: 0.6747 | auc/healthy: 0.6964 | auc/multiple_diseases: 0.4910, auc/rust: 0.7368, auc/scab: 0.7744\n",
      "Evaluating Results - Average Loss: 1.2736 | auc/_mean: 0.7834 | auc/healthy: 0.8483 | auc/multiple_diseases: 0.4838, auc/rust: 0.8850, auc/scab: 0.9166\n",
      "\n"
     ]
    },
    {
     "data": {
      "application/vnd.jupyter.widget-view+json": {
       "model_id": "d4520d75737f425d93d4018756cbb206",
       "version_major": 2,
       "version_minor": 0
      },
      "text/plain": [
       "HBox(children=(FloatProgress(value=0.0, description='Train', max=364.0, style=ProgressStyle(description_width=…"
      ]
     },
     "metadata": {},
     "output_type": "display_data"
    },
    {
     "name": "stdout",
     "output_type": "stream",
     "text": [
      "\n",
      "Epoch: 85 | Time: 1m 53s\n",
      "Training Results - Average Loss: 1.2200 | auc/_mean: 0.7153 | auc/healthy: 0.7524 | auc/multiple_diseases: 0.5659, auc/rust: 0.7515, auc/scab: 0.7915\n",
      "Evaluating Results - Average Loss: 1.2699 | auc/_mean: 0.7845 | auc/healthy: 0.8490 | auc/multiple_diseases: 0.4851, auc/rust: 0.8867, auc/scab: 0.9174\n",
      "\n"
     ]
    },
    {
     "data": {
      "application/vnd.jupyter.widget-view+json": {
       "model_id": "ff17960ac61b48758d7c3fff1ea19501",
       "version_major": 2,
       "version_minor": 0
      },
      "text/plain": [
       "HBox(children=(FloatProgress(value=0.0, description='Train', max=364.0, style=ProgressStyle(description_width=…"
      ]
     },
     "metadata": {},
     "output_type": "display_data"
    },
    {
     "name": "stdout",
     "output_type": "stream",
     "text": [
      "\n",
      "Epoch: 86 | Time: 1m 52s\n",
      "Training Results - Average Loss: 1.2342 | auc/_mean: 0.6825 | auc/healthy: 0.6988 | auc/multiple_diseases: 0.5539, auc/rust: 0.7081, auc/scab: 0.7691\n",
      "Evaluating Results - Average Loss: 1.2734 | auc/_mean: 0.7853 | auc/healthy: 0.8517 | auc/multiple_diseases: 0.4827, auc/rust: 0.8881, auc/scab: 0.9187\n",
      "\n"
     ]
    },
    {
     "data": {
      "application/vnd.jupyter.widget-view+json": {
       "model_id": "5509208cd2a4462e966322883043e724",
       "version_major": 2,
       "version_minor": 0
      },
      "text/plain": [
       "HBox(children=(FloatProgress(value=0.0, description='Train', max=364.0, style=ProgressStyle(description_width=…"
      ]
     },
     "metadata": {},
     "output_type": "display_data"
    },
    {
     "name": "stdout",
     "output_type": "stream",
     "text": [
      "\n",
      "Epoch: 87 | Time: 1m 53s\n",
      "Training Results - Average Loss: 1.2285 | auc/_mean: 0.6926 | auc/healthy: 0.7281 | auc/multiple_diseases: 0.5147, auc/rust: 0.7335, auc/scab: 0.7942\n",
      "Evaluating Results - Average Loss: 1.2677 | auc/_mean: 0.7861 | auc/healthy: 0.8523 | auc/multiple_diseases: 0.4833, auc/rust: 0.8874, auc/scab: 0.9215\n",
      "\n"
     ]
    },
    {
     "data": {
      "application/vnd.jupyter.widget-view+json": {
       "model_id": "cb6ea646930646efbd4fee2d8c305945",
       "version_major": 2,
       "version_minor": 0
      },
      "text/plain": [
       "HBox(children=(FloatProgress(value=0.0, description='Train', max=364.0, style=ProgressStyle(description_width=…"
      ]
     },
     "metadata": {},
     "output_type": "display_data"
    },
    {
     "name": "stdout",
     "output_type": "stream",
     "text": [
      "\n",
      "Epoch: 88 | Time: 1m 53s\n",
      "Training Results - Average Loss: 1.2260 | auc/_mean: 0.7030 | auc/healthy: 0.7374 | auc/multiple_diseases: 0.5517, auc/rust: 0.7241, auc/scab: 0.7988\n",
      "Evaluating Results - Average Loss: 1.2674 | auc/_mean: 0.7894 | auc/healthy: 0.8549 | auc/multiple_diseases: 0.4898, auc/rust: 0.8900, auc/scab: 0.9230\n",
      "\n"
     ]
    },
    {
     "data": {
      "application/vnd.jupyter.widget-view+json": {
       "model_id": "9ceb22d9cf744fdb9a89ab221e7053be",
       "version_major": 2,
       "version_minor": 0
      },
      "text/plain": [
       "HBox(children=(FloatProgress(value=0.0, description='Train', max=364.0, style=ProgressStyle(description_width=…"
      ]
     },
     "metadata": {},
     "output_type": "display_data"
    },
    {
     "name": "stdout",
     "output_type": "stream",
     "text": [
      "\n",
      "Epoch: 89 | Time: 1m 53s\n",
      "Training Results - Average Loss: 1.2316 | auc/_mean: 0.6796 | auc/healthy: 0.7173 | auc/multiple_diseases: 0.4862, auc/rust: 0.7173, auc/scab: 0.7976\n",
      "Evaluating Results - Average Loss: 1.2665 | auc/_mean: 0.7889 | auc/healthy: 0.8551 | auc/multiple_diseases: 0.4850, auc/rust: 0.8925, auc/scab: 0.9228\n",
      "\n"
     ]
    },
    {
     "data": {
      "application/vnd.jupyter.widget-view+json": {
       "model_id": "bbd4ffa55b444e478f7c2ce4400bbdef",
       "version_major": 2,
       "version_minor": 0
      },
      "text/plain": [
       "HBox(children=(FloatProgress(value=0.0, description='Train', max=364.0, style=ProgressStyle(description_width=…"
      ]
     },
     "metadata": {},
     "output_type": "display_data"
    },
    {
     "name": "stdout",
     "output_type": "stream",
     "text": [
      "\n",
      "Epoch: 90 | Time: 1m 53s\n",
      "Training Results - Average Loss: 1.2287 | auc/_mean: 0.6917 | auc/healthy: 0.7354 | auc/multiple_diseases: 0.5170, auc/rust: 0.7289, auc/scab: 0.7856\n",
      "Evaluating Results - Average Loss: 1.2597 | auc/_mean: 0.7899 | auc/healthy: 0.8581 | auc/multiple_diseases: 0.4821, auc/rust: 0.8950, auc/scab: 0.9243\n",
      "\n"
     ]
    },
    {
     "data": {
      "application/vnd.jupyter.widget-view+json": {
       "model_id": "3f93f72154214c968d65f805b01758ed",
       "version_major": 2,
       "version_minor": 0
      },
      "text/plain": [
       "HBox(children=(FloatProgress(value=0.0, description='Train', max=364.0, style=ProgressStyle(description_width=…"
      ]
     },
     "metadata": {},
     "output_type": "display_data"
    },
    {
     "name": "stdout",
     "output_type": "stream",
     "text": [
      "\n",
      "Epoch: 91 | Time: 1m 52s\n",
      "Training Results - Average Loss: 1.2256 | auc/_mean: 0.6933 | auc/healthy: 0.7581 | auc/multiple_diseases: 0.5130, auc/rust: 0.7150, auc/scab: 0.7873\n",
      "Evaluating Results - Average Loss: 1.2580 | auc/_mean: 0.7915 | auc/healthy: 0.8596 | auc/multiple_diseases: 0.4869, auc/rust: 0.8961, auc/scab: 0.9234\n",
      "\n"
     ]
    },
    {
     "data": {
      "application/vnd.jupyter.widget-view+json": {
       "model_id": "789ad80e13644dfe9c4ec588c5c5cf40",
       "version_major": 2,
       "version_minor": 0
      },
      "text/plain": [
       "HBox(children=(FloatProgress(value=0.0, description='Train', max=364.0, style=ProgressStyle(description_width=…"
      ]
     },
     "metadata": {},
     "output_type": "display_data"
    },
    {
     "name": "stdout",
     "output_type": "stream",
     "text": [
      "\n",
      "Epoch: 92 | Time: 1m 53s\n",
      "Training Results - Average Loss: 1.2261 | auc/_mean: 0.6914 | auc/healthy: 0.7144 | auc/multiple_diseases: 0.5350, auc/rust: 0.7165, auc/scab: 0.7997\n",
      "Evaluating Results - Average Loss: 1.2592 | auc/_mean: 0.7925 | auc/healthy: 0.8588 | auc/multiple_diseases: 0.4904, auc/rust: 0.8968, auc/scab: 0.9241\n",
      "\n"
     ]
    },
    {
     "data": {
      "application/vnd.jupyter.widget-view+json": {
       "model_id": "06ecb4d03afc474fa7e0a292cefea468",
       "version_major": 2,
       "version_minor": 0
      },
      "text/plain": [
       "HBox(children=(FloatProgress(value=0.0, description='Train', max=364.0, style=ProgressStyle(description_width=…"
      ]
     },
     "metadata": {},
     "output_type": "display_data"
    },
    {
     "name": "stdout",
     "output_type": "stream",
     "text": [
      "\n",
      "Epoch: 93 | Time: 1m 53s\n",
      "Training Results - Average Loss: 1.2234 | auc/_mean: 0.7003 | auc/healthy: 0.7340 | auc/multiple_diseases: 0.5511, auc/rust: 0.7334, auc/scab: 0.7826\n",
      "Evaluating Results - Average Loss: 1.2607 | auc/_mean: 0.7906 | auc/healthy: 0.8604 | auc/multiple_diseases: 0.4803, auc/rust: 0.8983, auc/scab: 0.9232\n",
      "\n"
     ]
    },
    {
     "data": {
      "application/vnd.jupyter.widget-view+json": {
       "model_id": "c859ababf9c043a6803112641ce73878",
       "version_major": 2,
       "version_minor": 0
      },
      "text/plain": [
       "HBox(children=(FloatProgress(value=0.0, description='Train', max=364.0, style=ProgressStyle(description_width=…"
      ]
     },
     "metadata": {},
     "output_type": "display_data"
    },
    {
     "name": "stdout",
     "output_type": "stream",
     "text": [
      "\n",
      "Epoch: 94 | Time: 1m 52s\n",
      "Training Results - Average Loss: 1.2277 | auc/_mean: 0.6860 | auc/healthy: 0.7437 | auc/multiple_diseases: 0.4846, auc/rust: 0.7233, auc/scab: 0.7923\n",
      "Evaluating Results - Average Loss: 1.2583 | auc/_mean: 0.7944 | auc/healthy: 0.8635 | auc/multiple_diseases: 0.4878, auc/rust: 0.8998, auc/scab: 0.9262\n",
      "\n"
     ]
    },
    {
     "data": {
      "application/vnd.jupyter.widget-view+json": {
       "model_id": "7cf0662111564e829d3fb6123b10969f",
       "version_major": 2,
       "version_minor": 0
      },
      "text/plain": [
       "HBox(children=(FloatProgress(value=0.0, description='Train', max=364.0, style=ProgressStyle(description_width=…"
      ]
     },
     "metadata": {},
     "output_type": "display_data"
    },
    {
     "name": "stdout",
     "output_type": "stream",
     "text": [
      "\n",
      "Epoch: 95 | Time: 1m 52s\n",
      "Training Results - Average Loss: 1.2186 | auc/_mean: 0.7020 | auc/healthy: 0.7611 | auc/multiple_diseases: 0.4846, auc/rust: 0.7438, auc/scab: 0.8184\n",
      "Evaluating Results - Average Loss: 1.2563 | auc/_mean: 0.7962 | auc/healthy: 0.8662 | auc/multiple_diseases: 0.4910, auc/rust: 0.9021, auc/scab: 0.9256\n",
      "\n"
     ]
    },
    {
     "data": {
      "application/vnd.jupyter.widget-view+json": {
       "model_id": "20f9a5325f3a40128ca82fd74428c512",
       "version_major": 2,
       "version_minor": 0
      },
      "text/plain": [
       "HBox(children=(FloatProgress(value=0.0, description='Train', max=364.0, style=ProgressStyle(description_width=…"
      ]
     },
     "metadata": {},
     "output_type": "display_data"
    },
    {
     "name": "stdout",
     "output_type": "stream",
     "text": [
      "\n",
      "Epoch: 96 | Time: 1m 52s\n",
      "Training Results - Average Loss: 1.2172 | auc/_mean: 0.7084 | auc/healthy: 0.7493 | auc/multiple_diseases: 0.5432, auc/rust: 0.7355, auc/scab: 0.8055\n",
      "Evaluating Results - Average Loss: 1.2531 | auc/_mean: 0.7950 | auc/healthy: 0.8693 | auc/multiple_diseases: 0.4805, auc/rust: 0.9041, auc/scab: 0.9261\n",
      "\n"
     ]
    },
    {
     "data": {
      "application/vnd.jupyter.widget-view+json": {
       "model_id": "d0a2038fb87f4b7abad1955834708c5f",
       "version_major": 2,
       "version_minor": 0
      },
      "text/plain": [
       "HBox(children=(FloatProgress(value=0.0, description='Train', max=364.0, style=ProgressStyle(description_width=…"
      ]
     },
     "metadata": {},
     "output_type": "display_data"
    },
    {
     "name": "stdout",
     "output_type": "stream",
     "text": [
      "\n",
      "Epoch: 97 | Time: 1m 53s\n",
      "Training Results - Average Loss: 1.2210 | auc/_mean: 0.6878 | auc/healthy: 0.7498 | auc/multiple_diseases: 0.4813, auc/rust: 0.7221, auc/scab: 0.7979\n",
      "Evaluating Results - Average Loss: 1.2498 | auc/_mean: 0.7957 | auc/healthy: 0.8687 | auc/multiple_diseases: 0.4829, auc/rust: 0.9045, auc/scab: 0.9269\n",
      "\n"
     ]
    },
    {
     "data": {
      "application/vnd.jupyter.widget-view+json": {
       "model_id": "6ac4fb3386ea46fa946d02953eb6d4ad",
       "version_major": 2,
       "version_minor": 0
      },
      "text/plain": [
       "HBox(children=(FloatProgress(value=0.0, description='Train', max=364.0, style=ProgressStyle(description_width=…"
      ]
     },
     "metadata": {},
     "output_type": "display_data"
    },
    {
     "name": "stdout",
     "output_type": "stream",
     "text": [
      "\n",
      "Epoch: 98 | Time: 1m 52s\n",
      "Training Results - Average Loss: 1.2123 | auc/_mean: 0.7166 | auc/healthy: 0.7433 | auc/multiple_diseases: 0.5737, auc/rust: 0.7548, auc/scab: 0.7945\n",
      "Evaluating Results - Average Loss: 1.2509 | auc/_mean: 0.7973 | auc/healthy: 0.8706 | auc/multiple_diseases: 0.4825, auc/rust: 0.9074, auc/scab: 0.9288\n",
      "\n"
     ]
    },
    {
     "data": {
      "application/vnd.jupyter.widget-view+json": {
       "model_id": "bddef4d5ef51450c98f4e3afbc2304d0",
       "version_major": 2,
       "version_minor": 0
      },
      "text/plain": [
       "HBox(children=(FloatProgress(value=0.0, description='Train', max=364.0, style=ProgressStyle(description_width=…"
      ]
     },
     "metadata": {},
     "output_type": "display_data"
    },
    {
     "name": "stdout",
     "output_type": "stream",
     "text": [
      "\n",
      "Epoch: 99 | Time: 1m 52s\n",
      "Training Results - Average Loss: 1.2178 | auc/_mean: 0.6892 | auc/healthy: 0.7519 | auc/multiple_diseases: 0.4439, auc/rust: 0.7510, auc/scab: 0.8099\n",
      "Evaluating Results - Average Loss: 1.2458 | auc/_mean: 0.7973 | auc/healthy: 0.8727 | auc/multiple_diseases: 0.4781, auc/rust: 0.9081, auc/scab: 0.9303\n",
      "\n"
     ]
    },
    {
     "data": {
      "application/vnd.jupyter.widget-view+json": {
       "model_id": "55cc8bf15f9f4a2a9af5302b6750addc",
       "version_major": 2,
       "version_minor": 0
      },
      "text/plain": [
       "HBox(children=(FloatProgress(value=0.0, description='Train', max=364.0, style=ProgressStyle(description_width=…"
      ]
     },
     "metadata": {},
     "output_type": "display_data"
    },
    {
     "name": "stdout",
     "output_type": "stream",
     "text": [
      "\n",
      "Epoch: 100 | Time: 1m 53s\n",
      "Training Results - Average Loss: 1.2112 | auc/_mean: 0.7136 | auc/healthy: 0.7514 | auc/multiple_diseases: 0.5526, auc/rust: 0.7475, auc/scab: 0.8031\n",
      "Evaluating Results - Average Loss: 1.2517 | auc/_mean: 0.8010 | auc/healthy: 0.8735 | auc/multiple_diseases: 0.4918, auc/rust: 0.9104, auc/scab: 0.9281\n",
      "\n"
     ]
    },
    {
     "data": {
      "application/vnd.jupyter.widget-view+json": {
       "model_id": "b747bc4c5e98490fa68a1d9d232bcad5",
       "version_major": 2,
       "version_minor": 0
      },
      "text/plain": [
       "HBox(children=(FloatProgress(value=0.0, description='Train', max=364.0, style=ProgressStyle(description_width=…"
      ]
     },
     "metadata": {},
     "output_type": "display_data"
    },
    {
     "name": "stdout",
     "output_type": "stream",
     "text": [
      "\n",
      "Epoch: 101 | Time: 1m 53s\n",
      "Training Results - Average Loss: 1.2107 | auc/_mean: 0.7082 | auc/healthy: 0.7653 | auc/multiple_diseases: 0.4940, auc/rust: 0.7678, auc/scab: 0.8057\n",
      "Evaluating Results - Average Loss: 1.2446 | auc/_mean: 0.7977 | auc/healthy: 0.8746 | auc/multiple_diseases: 0.4757, auc/rust: 0.9105, auc/scab: 0.9298\n",
      "\n"
     ]
    },
    {
     "data": {
      "application/vnd.jupyter.widget-view+json": {
       "model_id": "f25e15bc0f874d5a9670f738356228d2",
       "version_major": 2,
       "version_minor": 0
      },
      "text/plain": [
       "HBox(children=(FloatProgress(value=0.0, description='Train', max=364.0, style=ProgressStyle(description_width=…"
      ]
     },
     "metadata": {},
     "output_type": "display_data"
    },
    {
     "name": "stdout",
     "output_type": "stream",
     "text": [
      "\n",
      "Epoch: 102 | Time: 1m 52s\n",
      "Training Results - Average Loss: 1.2120 | auc/_mean: 0.7087 | auc/healthy: 0.7453 | auc/multiple_diseases: 0.5282, auc/rust: 0.7685, auc/scab: 0.7927\n",
      "Evaluating Results - Average Loss: 1.2418 | auc/_mean: 0.8009 | auc/healthy: 0.8791 | auc/multiple_diseases: 0.4824, auc/rust: 0.9118, auc/scab: 0.9305\n",
      "\n"
     ]
    },
    {
     "data": {
      "application/vnd.jupyter.widget-view+json": {
       "model_id": "abad361cf8c144ae8d703682b957ba60",
       "version_major": 2,
       "version_minor": 0
      },
      "text/plain": [
       "HBox(children=(FloatProgress(value=0.0, description='Train', max=364.0, style=ProgressStyle(description_width=…"
      ]
     },
     "metadata": {},
     "output_type": "display_data"
    },
    {
     "name": "stdout",
     "output_type": "stream",
     "text": [
      "\n",
      "Epoch: 103 | Time: 1m 52s\n",
      "Training Results - Average Loss: 1.2108 | auc/_mean: 0.7074 | auc/healthy: 0.7355 | auc/multiple_diseases: 0.5334, auc/rust: 0.7462, auc/scab: 0.8144\n",
      "Evaluating Results - Average Loss: 1.2448 | auc/_mean: 0.8016 | auc/healthy: 0.8791 | auc/multiple_diseases: 0.4824, auc/rust: 0.9128, auc/scab: 0.9321\n",
      "\n"
     ]
    },
    {
     "data": {
      "application/vnd.jupyter.widget-view+json": {
       "model_id": "10f451a9cd5345d983de753fc5d87a6a",
       "version_major": 2,
       "version_minor": 0
      },
      "text/plain": [
       "HBox(children=(FloatProgress(value=0.0, description='Train', max=364.0, style=ProgressStyle(description_width=…"
      ]
     },
     "metadata": {},
     "output_type": "display_data"
    },
    {
     "name": "stdout",
     "output_type": "stream",
     "text": [
      "\n",
      "Epoch: 104 | Time: 1m 53s\n",
      "Training Results - Average Loss: 1.2075 | auc/_mean: 0.7143 | auc/healthy: 0.7708 | auc/multiple_diseases: 0.5281, auc/rust: 0.7523, auc/scab: 0.8058\n",
      "Evaluating Results - Average Loss: 1.2421 | auc/_mean: 0.8037 | auc/healthy: 0.8779 | auc/multiple_diseases: 0.4928, auc/rust: 0.9123, auc/scab: 0.9316\n",
      "\n"
     ]
    },
    {
     "data": {
      "application/vnd.jupyter.widget-view+json": {
       "model_id": "b1d2a2bd489a421aa2cba521265e24cf",
       "version_major": 2,
       "version_minor": 0
      },
      "text/plain": [
       "HBox(children=(FloatProgress(value=0.0, description='Train', max=364.0, style=ProgressStyle(description_width=…"
      ]
     },
     "metadata": {},
     "output_type": "display_data"
    },
    {
     "name": "stdout",
     "output_type": "stream",
     "text": [
      "\n",
      "Epoch: 105 | Time: 1m 52s\n",
      "Training Results - Average Loss: 1.2089 | auc/_mean: 0.7134 | auc/healthy: 0.7417 | auc/multiple_diseases: 0.5523, auc/rust: 0.7555, auc/scab: 0.8040\n",
      "Evaluating Results - Average Loss: 1.2422 | auc/_mean: 0.8050 | auc/healthy: 0.8798 | auc/multiple_diseases: 0.4941, auc/rust: 0.9133, auc/scab: 0.9327\n",
      "\n"
     ]
    },
    {
     "data": {
      "application/vnd.jupyter.widget-view+json": {
       "model_id": "ad8adcf222344474addb9cc8e2c8484b",
       "version_major": 2,
       "version_minor": 0
      },
      "text/plain": [
       "HBox(children=(FloatProgress(value=0.0, description='Train', max=364.0, style=ProgressStyle(description_width=…"
      ]
     },
     "metadata": {},
     "output_type": "display_data"
    },
    {
     "name": "stdout",
     "output_type": "stream",
     "text": [
      "\n",
      "Epoch: 106 | Time: 1m 52s\n",
      "Training Results - Average Loss: 1.2112 | auc/_mean: 0.6961 | auc/healthy: 0.7768 | auc/multiple_diseases: 0.4715, auc/rust: 0.7397, auc/scab: 0.7964\n",
      "Evaluating Results - Average Loss: 1.2349 | auc/_mean: 0.8048 | auc/healthy: 0.8820 | auc/multiple_diseases: 0.4880, auc/rust: 0.9158, auc/scab: 0.9335\n",
      "\n"
     ]
    },
    {
     "data": {
      "application/vnd.jupyter.widget-view+json": {
       "model_id": "ebfca9c69fd5419ab7449756260f36b8",
       "version_major": 2,
       "version_minor": 0
      },
      "text/plain": [
       "HBox(children=(FloatProgress(value=0.0, description='Train', max=364.0, style=ProgressStyle(description_width=…"
      ]
     },
     "metadata": {},
     "output_type": "display_data"
    },
    {
     "name": "stdout",
     "output_type": "stream",
     "text": [
      "\n",
      "Epoch: 107 | Time: 1m 53s\n",
      "Training Results - Average Loss: 1.2043 | auc/_mean: 0.7216 | auc/healthy: 0.7635 | auc/multiple_diseases: 0.5489, auc/rust: 0.7555, auc/scab: 0.8186\n",
      "Evaluating Results - Average Loss: 1.2376 | auc/_mean: 0.8018 | auc/healthy: 0.8809 | auc/multiple_diseases: 0.4769, auc/rust: 0.9160, auc/scab: 0.9332\n",
      "\n"
     ]
    },
    {
     "data": {
      "application/vnd.jupyter.widget-view+json": {
       "model_id": "786a67f0212246e791fead566e88fc44",
       "version_major": 2,
       "version_minor": 0
      },
      "text/plain": [
       "HBox(children=(FloatProgress(value=0.0, description='Train', max=364.0, style=ProgressStyle(description_width=…"
      ]
     },
     "metadata": {},
     "output_type": "display_data"
    },
    {
     "name": "stdout",
     "output_type": "stream",
     "text": [
      "\n",
      "Epoch: 108 | Time: 1m 53s\n",
      "Training Results - Average Loss: 1.2072 | auc/_mean: 0.7058 | auc/healthy: 0.7568 | auc/multiple_diseases: 0.4897, auc/rust: 0.7545, auc/scab: 0.8220\n",
      "Evaluating Results - Average Loss: 1.2373 | auc/_mean: 0.8068 | auc/healthy: 0.8822 | auc/multiple_diseases: 0.4926, auc/rust: 0.9180, auc/scab: 0.9344\n",
      "\n"
     ]
    },
    {
     "data": {
      "application/vnd.jupyter.widget-view+json": {
       "model_id": "b991a03d5cf44de2a1e2cc0c84ba9992",
       "version_major": 2,
       "version_minor": 0
      },
      "text/plain": [
       "HBox(children=(FloatProgress(value=0.0, description='Train', max=364.0, style=ProgressStyle(description_width=…"
      ]
     },
     "metadata": {},
     "output_type": "display_data"
    },
    {
     "name": "stdout",
     "output_type": "stream",
     "text": [
      "\n",
      "Epoch: 109 | Time: 1m 53s\n",
      "Training Results - Average Loss: 1.2050 | auc/_mean: 0.7102 | auc/healthy: 0.7703 | auc/multiple_diseases: 0.5035, auc/rust: 0.7685, auc/scab: 0.7986\n",
      "Evaluating Results - Average Loss: 1.2313 | auc/_mean: 0.8034 | auc/healthy: 0.8849 | auc/multiple_diseases: 0.4752, auc/rust: 0.9193, auc/scab: 0.9342\n",
      "\n"
     ]
    },
    {
     "data": {
      "application/vnd.jupyter.widget-view+json": {
       "model_id": "332cc0a78d7043c3a408e1c8c0a8601a",
       "version_major": 2,
       "version_minor": 0
      },
      "text/plain": [
       "HBox(children=(FloatProgress(value=0.0, description='Train', max=364.0, style=ProgressStyle(description_width=…"
      ]
     },
     "metadata": {},
     "output_type": "display_data"
    },
    {
     "name": "stdout",
     "output_type": "stream",
     "text": [
      "\n",
      "Epoch: 110 | Time: 1m 53s\n",
      "Training Results - Average Loss: 1.2076 | auc/_mean: 0.7134 | auc/healthy: 0.7853 | auc/multiple_diseases: 0.5282, auc/rust: 0.7351, auc/scab: 0.8052\n",
      "Evaluating Results - Average Loss: 1.2349 | auc/_mean: 0.8076 | auc/healthy: 0.8845 | auc/multiple_diseases: 0.4906, auc/rust: 0.9197, auc/scab: 0.9357\n",
      "\n"
     ]
    },
    {
     "data": {
      "application/vnd.jupyter.widget-view+json": {
       "model_id": "c46451783fdb4f028cf5eaa5196548f1",
       "version_major": 2,
       "version_minor": 0
      },
      "text/plain": [
       "HBox(children=(FloatProgress(value=0.0, description='Train', max=364.0, style=ProgressStyle(description_width=…"
      ]
     },
     "metadata": {},
     "output_type": "display_data"
    },
    {
     "name": "stdout",
     "output_type": "stream",
     "text": [
      "\n",
      "Epoch: 111 | Time: 1m 52s\n",
      "Training Results - Average Loss: 1.2006 | auc/_mean: 0.7240 | auc/healthy: 0.7849 | auc/multiple_diseases: 0.5343, auc/rust: 0.7664, auc/scab: 0.8106\n",
      "Evaluating Results - Average Loss: 1.2337 | auc/_mean: 0.8068 | auc/healthy: 0.8871 | auc/multiple_diseases: 0.4854, auc/rust: 0.9208, auc/scab: 0.9340\n",
      "\n"
     ]
    },
    {
     "data": {
      "application/vnd.jupyter.widget-view+json": {
       "model_id": "2799bba8d0c745b090157dd19af3e892",
       "version_major": 2,
       "version_minor": 0
      },
      "text/plain": [
       "HBox(children=(FloatProgress(value=0.0, description='Train', max=364.0, style=ProgressStyle(description_width=…"
      ]
     },
     "metadata": {},
     "output_type": "display_data"
    },
    {
     "name": "stdout",
     "output_type": "stream",
     "text": [
      "\n",
      "Epoch: 112 | Time: 1m 53s\n",
      "Training Results - Average Loss: 1.1990 | auc/_mean: 0.7199 | auc/healthy: 0.7787 | auc/multiple_diseases: 0.5091, auc/rust: 0.7733, auc/scab: 0.8185\n",
      "Evaluating Results - Average Loss: 1.2298 | auc/_mean: 0.8085 | auc/healthy: 0.8898 | auc/multiple_diseases: 0.4841, auc/rust: 0.9242, auc/scab: 0.9359\n",
      "\n"
     ]
    },
    {
     "data": {
      "application/vnd.jupyter.widget-view+json": {
       "model_id": "21a8cc3075894f619772c9862d0464db",
       "version_major": 2,
       "version_minor": 0
      },
      "text/plain": [
       "HBox(children=(FloatProgress(value=0.0, description='Train', max=364.0, style=ProgressStyle(description_width=…"
      ]
     },
     "metadata": {},
     "output_type": "display_data"
    },
    {
     "name": "stdout",
     "output_type": "stream",
     "text": [
      "\n",
      "Epoch: 113 | Time: 1m 53s\n",
      "Training Results - Average Loss: 1.1956 | auc/_mean: 0.7280 | auc/healthy: 0.7745 | auc/multiple_diseases: 0.5386, auc/rust: 0.7810, auc/scab: 0.8180\n",
      "Evaluating Results - Average Loss: 1.2298 | auc/_mean: 0.8075 | auc/healthy: 0.8863 | auc/multiple_diseases: 0.4848, auc/rust: 0.9236, auc/scab: 0.9354\n",
      "\n"
     ]
    },
    {
     "data": {
      "application/vnd.jupyter.widget-view+json": {
       "model_id": "25f0f2c1ab5f4cfca5f62a1465819d70",
       "version_major": 2,
       "version_minor": 0
      },
      "text/plain": [
       "HBox(children=(FloatProgress(value=0.0, description='Train', max=364.0, style=ProgressStyle(description_width=…"
      ]
     },
     "metadata": {},
     "output_type": "display_data"
    },
    {
     "name": "stdout",
     "output_type": "stream",
     "text": [
      "\n",
      "Epoch: 114 | Time: 1m 53s\n",
      "Training Results - Average Loss: 1.1968 | auc/_mean: 0.7202 | auc/healthy: 0.7412 | auc/multiple_diseases: 0.5350, auc/rust: 0.7800, auc/scab: 0.8247\n",
      "Evaluating Results - Average Loss: 1.2303 | auc/_mean: 0.8083 | auc/healthy: 0.8885 | auc/multiple_diseases: 0.4854, auc/rust: 0.9232, auc/scab: 0.9361\n",
      "\n"
     ]
    },
    {
     "data": {
      "application/vnd.jupyter.widget-view+json": {
       "model_id": "529b6053fa9e4cd2b136ae282dee97ae",
       "version_major": 2,
       "version_minor": 0
      },
      "text/plain": [
       "HBox(children=(FloatProgress(value=0.0, description='Train', max=364.0, style=ProgressStyle(description_width=…"
      ]
     },
     "metadata": {},
     "output_type": "display_data"
    },
    {
     "name": "stdout",
     "output_type": "stream",
     "text": [
      "\n",
      "Epoch: 115 | Time: 1m 53s\n",
      "Training Results - Average Loss: 1.1960 | auc/_mean: 0.7308 | auc/healthy: 0.7721 | auc/multiple_diseases: 0.5546, auc/rust: 0.7567, auc/scab: 0.8399\n",
      "Evaluating Results - Average Loss: 1.2295 | auc/_mean: 0.8110 | auc/healthy: 0.8921 | auc/multiple_diseases: 0.4898, auc/rust: 0.9247, auc/scab: 0.9376\n",
      "\n"
     ]
    },
    {
     "data": {
      "application/vnd.jupyter.widget-view+json": {
       "model_id": "502c831e06c8484bb1a26017998cc84a",
       "version_major": 2,
       "version_minor": 0
      },
      "text/plain": [
       "HBox(children=(FloatProgress(value=0.0, description='Train', max=364.0, style=ProgressStyle(description_width=…"
      ]
     },
     "metadata": {},
     "output_type": "display_data"
    },
    {
     "name": "stdout",
     "output_type": "stream",
     "text": [
      "\n",
      "Epoch: 116 | Time: 1m 52s\n",
      "Training Results - Average Loss: 1.1975 | auc/_mean: 0.7185 | auc/healthy: 0.7619 | auc/multiple_diseases: 0.5163, auc/rust: 0.7771, auc/scab: 0.8188\n",
      "Evaluating Results - Average Loss: 1.2263 | auc/_mean: 0.8115 | auc/healthy: 0.8956 | auc/multiple_diseases: 0.4854, auc/rust: 0.9264, auc/scab: 0.9385\n",
      "\n"
     ]
    },
    {
     "data": {
      "application/vnd.jupyter.widget-view+json": {
       "model_id": "380e9af1dd144f2395b865e2433d139a",
       "version_major": 2,
       "version_minor": 0
      },
      "text/plain": [
       "HBox(children=(FloatProgress(value=0.0, description='Train', max=364.0, style=ProgressStyle(description_width=…"
      ]
     },
     "metadata": {},
     "output_type": "display_data"
    },
    {
     "name": "stdout",
     "output_type": "stream",
     "text": [
      "\n",
      "Epoch: 117 | Time: 1m 53s\n",
      "Training Results - Average Loss: 1.1989 | auc/_mean: 0.7218 | auc/healthy: 0.7817 | auc/multiple_diseases: 0.5221, auc/rust: 0.7735, auc/scab: 0.8098\n",
      "Evaluating Results - Average Loss: 1.2250 | auc/_mean: 0.8113 | auc/healthy: 0.8944 | auc/multiple_diseases: 0.4861, auc/rust: 0.9264, auc/scab: 0.9383\n",
      "\n"
     ]
    },
    {
     "data": {
      "application/vnd.jupyter.widget-view+json": {
       "model_id": "0bbf9c9bd1d64946b491f630d3c3b381",
       "version_major": 2,
       "version_minor": 0
      },
      "text/plain": [
       "HBox(children=(FloatProgress(value=0.0, description='Train', max=364.0, style=ProgressStyle(description_width=…"
      ]
     },
     "metadata": {},
     "output_type": "display_data"
    },
    {
     "name": "stdout",
     "output_type": "stream",
     "text": [
      "\n",
      "Epoch: 118 | Time: 1m 53s\n",
      "Training Results - Average Loss: 1.1983 | auc/_mean: 0.7127 | auc/healthy: 0.7813 | auc/multiple_diseases: 0.4870, auc/rust: 0.7571, auc/scab: 0.8255\n",
      "Evaluating Results - Average Loss: 1.2225 | auc/_mean: 0.8122 | auc/healthy: 0.8946 | auc/multiple_diseases: 0.4896, auc/rust: 0.9271, auc/scab: 0.9375\n",
      "\n"
     ]
    },
    {
     "data": {
      "application/vnd.jupyter.widget-view+json": {
       "model_id": "8a2967be19714e09badd957f751035d7",
       "version_major": 2,
       "version_minor": 0
      },
      "text/plain": [
       "HBox(children=(FloatProgress(value=0.0, description='Train', max=364.0, style=ProgressStyle(description_width=…"
      ]
     },
     "metadata": {},
     "output_type": "display_data"
    },
    {
     "name": "stdout",
     "output_type": "stream",
     "text": [
      "\n",
      "Epoch: 119 | Time: 1m 53s\n",
      "Training Results - Average Loss: 1.1845 | auc/_mean: 0.7570 | auc/healthy: 0.8051 | auc/multiple_diseases: 0.6302, auc/rust: 0.7653, auc/scab: 0.8273\n",
      "Evaluating Results - Average Loss: 1.2228 | auc/_mean: 0.8137 | auc/healthy: 0.8976 | auc/multiple_diseases: 0.4904, auc/rust: 0.9279, auc/scab: 0.9389\n",
      "\n"
     ]
    },
    {
     "data": {
      "application/vnd.jupyter.widget-view+json": {
       "model_id": "ff892cd695134bb7b7305333433f5dbd",
       "version_major": 2,
       "version_minor": 0
      },
      "text/plain": [
       "HBox(children=(FloatProgress(value=0.0, description='Train', max=364.0, style=ProgressStyle(description_width=…"
      ]
     },
     "metadata": {},
     "output_type": "display_data"
    },
    {
     "name": "stdout",
     "output_type": "stream",
     "text": [
      "\n",
      "Epoch: 120 | Time: 1m 53s\n",
      "Training Results - Average Loss: 1.1983 | auc/_mean: 0.7130 | auc/healthy: 0.7841 | auc/multiple_diseases: 0.4909, auc/rust: 0.7628, auc/scab: 0.8142\n",
      "Evaluating Results - Average Loss: 1.2152 | auc/_mean: 0.8120 | auc/healthy: 0.8976 | auc/multiple_diseases: 0.4801, auc/rust: 0.9300, auc/scab: 0.9403\n",
      "\n"
     ]
    },
    {
     "data": {
      "application/vnd.jupyter.widget-view+json": {
       "model_id": "fa36fba164c844128d74ffddb2ac225b",
       "version_major": 2,
       "version_minor": 0
      },
      "text/plain": [
       "HBox(children=(FloatProgress(value=0.0, description='Train', max=364.0, style=ProgressStyle(description_width=…"
      ]
     },
     "metadata": {},
     "output_type": "display_data"
    },
    {
     "name": "stdout",
     "output_type": "stream",
     "text": [
      "\n",
      "Epoch: 121 | Time: 1m 53s\n",
      "Training Results - Average Loss: 1.1928 | auc/_mean: 0.7220 | auc/healthy: 0.7840 | auc/multiple_diseases: 0.5049, auc/rust: 0.7838, auc/scab: 0.8153\n",
      "Evaluating Results - Average Loss: 1.2162 | auc/_mean: 0.8139 | auc/healthy: 0.8956 | auc/multiple_diseases: 0.4923, auc/rust: 0.9294, auc/scab: 0.9382\n",
      "\n"
     ]
    },
    {
     "data": {
      "application/vnd.jupyter.widget-view+json": {
       "model_id": "a5b08b6fde7c440996d4729b97c8419a",
       "version_major": 2,
       "version_minor": 0
      },
      "text/plain": [
       "HBox(children=(FloatProgress(value=0.0, description='Train', max=364.0, style=ProgressStyle(description_width=…"
      ]
     },
     "metadata": {},
     "output_type": "display_data"
    },
    {
     "name": "stdout",
     "output_type": "stream",
     "text": [
      "\n",
      "Epoch: 122 | Time: 1m 53s\n",
      "Training Results - Average Loss: 1.1909 | auc/_mean: 0.7343 | auc/healthy: 0.7986 | auc/multiple_diseases: 0.5509, auc/rust: 0.7769, auc/scab: 0.8107\n",
      "Evaluating Results - Average Loss: 1.2099 | auc/_mean: 0.8135 | auc/healthy: 0.8988 | auc/multiple_diseases: 0.4830, auc/rust: 0.9320, auc/scab: 0.9402\n",
      "\n"
     ]
    },
    {
     "data": {
      "application/vnd.jupyter.widget-view+json": {
       "model_id": "13f773eaa3c840a48cc28044a36f13d3",
       "version_major": 2,
       "version_minor": 0
      },
      "text/plain": [
       "HBox(children=(FloatProgress(value=0.0, description='Train', max=364.0, style=ProgressStyle(description_width=…"
      ]
     },
     "metadata": {},
     "output_type": "display_data"
    },
    {
     "name": "stdout",
     "output_type": "stream",
     "text": [
      "\n",
      "Epoch: 123 | Time: 1m 52s\n",
      "Training Results - Average Loss: 1.1824 | auc/_mean: 0.7419 | auc/healthy: 0.7783 | auc/multiple_diseases: 0.5544, auc/rust: 0.7833, auc/scab: 0.8517\n",
      "Evaluating Results - Average Loss: 1.2099 | auc/_mean: 0.8129 | auc/healthy: 0.8997 | auc/multiple_diseases: 0.4800, auc/rust: 0.9315, auc/scab: 0.9403\n",
      "\n"
     ]
    },
    {
     "data": {
      "application/vnd.jupyter.widget-view+json": {
       "model_id": "383ef8614cd24de4be8ed2d275b9f935",
       "version_major": 2,
       "version_minor": 0
      },
      "text/plain": [
       "HBox(children=(FloatProgress(value=0.0, description='Train', max=364.0, style=ProgressStyle(description_width=…"
      ]
     },
     "metadata": {},
     "output_type": "display_data"
    },
    {
     "name": "stdout",
     "output_type": "stream",
     "text": [
      "\n",
      "Epoch: 124 | Time: 1m 53s\n",
      "Training Results - Average Loss: 1.1854 | auc/_mean: 0.7316 | auc/healthy: 0.7946 | auc/multiple_diseases: 0.5217, auc/rust: 0.7776, auc/scab: 0.8326\n",
      "Evaluating Results - Average Loss: 1.2134 | auc/_mean: 0.8149 | auc/healthy: 0.8983 | auc/multiple_diseases: 0.4891, auc/rust: 0.9306, auc/scab: 0.9415\n",
      "\n"
     ]
    },
    {
     "data": {
      "application/vnd.jupyter.widget-view+json": {
       "model_id": "77c94660907147ce9a590927587d5c15",
       "version_major": 2,
       "version_minor": 0
      },
      "text/plain": [
       "HBox(children=(FloatProgress(value=0.0, description='Train', max=364.0, style=ProgressStyle(description_width=…"
      ]
     },
     "metadata": {},
     "output_type": "display_data"
    },
    {
     "name": "stdout",
     "output_type": "stream",
     "text": [
      "\n",
      "Epoch: 125 | Time: 1m 52s\n",
      "Training Results - Average Loss: 1.1874 | auc/_mean: 0.7323 | auc/healthy: 0.7859 | auc/multiple_diseases: 0.5430, auc/rust: 0.7657, auc/scab: 0.8344\n",
      "Evaluating Results - Average Loss: 1.2135 | auc/_mean: 0.8172 | auc/healthy: 0.8996 | auc/multiple_diseases: 0.4962, auc/rust: 0.9327, auc/scab: 0.9405\n",
      "\n"
     ]
    },
    {
     "data": {
      "application/vnd.jupyter.widget-view+json": {
       "model_id": "e332bec32be846e0aeb7aa48388df7d7",
       "version_major": 2,
       "version_minor": 0
      },
      "text/plain": [
       "HBox(children=(FloatProgress(value=0.0, description='Train', max=364.0, style=ProgressStyle(description_width=…"
      ]
     },
     "metadata": {},
     "output_type": "display_data"
    },
    {
     "name": "stdout",
     "output_type": "stream",
     "text": [
      "\n",
      "Epoch: 126 | Time: 1m 52s\n",
      "Training Results - Average Loss: 1.1819 | auc/_mean: 0.7350 | auc/healthy: 0.7931 | auc/multiple_diseases: 0.5164, auc/rust: 0.7877, auc/scab: 0.8429\n",
      "Evaluating Results - Average Loss: 1.2126 | auc/_mean: 0.8158 | auc/healthy: 0.8991 | auc/multiple_diseases: 0.4907, auc/rust: 0.9335, auc/scab: 0.9400\n",
      "\n"
     ]
    },
    {
     "data": {
      "application/vnd.jupyter.widget-view+json": {
       "model_id": "fecb72af091843e1b57a415aafd22a40",
       "version_major": 2,
       "version_minor": 0
      },
      "text/plain": [
       "HBox(children=(FloatProgress(value=0.0, description='Train', max=364.0, style=ProgressStyle(description_width=…"
      ]
     },
     "metadata": {},
     "output_type": "display_data"
    },
    {
     "name": "stdout",
     "output_type": "stream",
     "text": [
      "\n",
      "Epoch: 127 | Time: 1m 53s\n",
      "Training Results - Average Loss: 1.1839 | auc/_mean: 0.7375 | auc/healthy: 0.7852 | auc/multiple_diseases: 0.5485, auc/rust: 0.7816, auc/scab: 0.8346\n",
      "Evaluating Results - Average Loss: 1.2071 | auc/_mean: 0.8146 | auc/healthy: 0.9008 | auc/multiple_diseases: 0.4829, auc/rust: 0.9346, auc/scab: 0.9402\n",
      "\n"
     ]
    },
    {
     "data": {
      "application/vnd.jupyter.widget-view+json": {
       "model_id": "4b0faba23bc1488bb048086b4c1f1fbd",
       "version_major": 2,
       "version_minor": 0
      },
      "text/plain": [
       "HBox(children=(FloatProgress(value=0.0, description='Train', max=364.0, style=ProgressStyle(description_width=…"
      ]
     },
     "metadata": {},
     "output_type": "display_data"
    },
    {
     "name": "stdout",
     "output_type": "stream",
     "text": [
      "\n",
      "Epoch: 128 | Time: 1m 53s\n",
      "Training Results - Average Loss: 1.1906 | auc/_mean: 0.7184 | auc/healthy: 0.7796 | auc/multiple_diseases: 0.4962, auc/rust: 0.7866, auc/scab: 0.8114\n",
      "Evaluating Results - Average Loss: 1.2043 | auc/_mean: 0.8154 | auc/healthy: 0.9035 | auc/multiple_diseases: 0.4797, auc/rust: 0.9359, auc/scab: 0.9424\n",
      "\n"
     ]
    },
    {
     "data": {
      "application/vnd.jupyter.widget-view+json": {
       "model_id": "64fbaa7d03f143849c92554e6ccb9691",
       "version_major": 2,
       "version_minor": 0
      },
      "text/plain": [
       "HBox(children=(FloatProgress(value=0.0, description='Train', max=364.0, style=ProgressStyle(description_width=…"
      ]
     },
     "metadata": {},
     "output_type": "display_data"
    },
    {
     "name": "stdout",
     "output_type": "stream",
     "text": [
      "\n",
      "Epoch: 129 | Time: 1m 53s\n",
      "Training Results - Average Loss: 1.1769 | auc/_mean: 0.7471 | auc/healthy: 0.7906 | auc/multiple_diseases: 0.5667, auc/rust: 0.7862, auc/scab: 0.8448\n",
      "Evaluating Results - Average Loss: 1.2067 | auc/_mean: 0.8167 | auc/healthy: 0.9029 | auc/multiple_diseases: 0.4872, auc/rust: 0.9340, auc/scab: 0.9429\n",
      "\n"
     ]
    },
    {
     "data": {
      "application/vnd.jupyter.widget-view+json": {
       "model_id": "330b21fca043404695c74d6dbf8193a3",
       "version_major": 2,
       "version_minor": 0
      },
      "text/plain": [
       "HBox(children=(FloatProgress(value=0.0, description='Train', max=364.0, style=ProgressStyle(description_width=…"
      ]
     },
     "metadata": {},
     "output_type": "display_data"
    },
    {
     "name": "stdout",
     "output_type": "stream",
     "text": [
      "\n",
      "Epoch: 130 | Time: 1m 53s\n",
      "Training Results - Average Loss: 1.1887 | auc/_mean: 0.7117 | auc/healthy: 0.7839 | auc/multiple_diseases: 0.4679, auc/rust: 0.7688, auc/scab: 0.8260\n",
      "Evaluating Results - Average Loss: 1.2051 | auc/_mean: 0.8178 | auc/healthy: 0.9033 | auc/multiple_diseases: 0.4899, auc/rust: 0.9357, auc/scab: 0.9422\n",
      "\n"
     ]
    },
    {
     "data": {
      "application/vnd.jupyter.widget-view+json": {
       "model_id": "3d108a1b45f348999be611b8967434ee",
       "version_major": 2,
       "version_minor": 0
      },
      "text/plain": [
       "HBox(children=(FloatProgress(value=0.0, description='Train', max=364.0, style=ProgressStyle(description_width=…"
      ]
     },
     "metadata": {},
     "output_type": "display_data"
    },
    {
     "name": "stdout",
     "output_type": "stream",
     "text": [
      "\n",
      "Epoch: 131 | Time: 1m 52s\n",
      "Training Results - Average Loss: 1.1752 | auc/_mean: 0.7446 | auc/healthy: 0.7715 | auc/multiple_diseases: 0.5628, auc/rust: 0.7950, auc/scab: 0.8491\n",
      "Evaluating Results - Average Loss: 1.2034 | auc/_mean: 0.8186 | auc/healthy: 0.9034 | auc/multiple_diseases: 0.4920, auc/rust: 0.9368, auc/scab: 0.9420\n",
      "\n"
     ]
    },
    {
     "data": {
      "application/vnd.jupyter.widget-view+json": {
       "model_id": "f3727b6b57f448299052a0e05c8ebe7e",
       "version_major": 2,
       "version_minor": 0
      },
      "text/plain": [
       "HBox(children=(FloatProgress(value=0.0, description='Train', max=364.0, style=ProgressStyle(description_width=…"
      ]
     },
     "metadata": {},
     "output_type": "display_data"
    },
    {
     "name": "stdout",
     "output_type": "stream",
     "text": [
      "\n",
      "Epoch: 132 | Time: 1m 52s\n",
      "Training Results - Average Loss: 1.1738 | auc/_mean: 0.7506 | auc/healthy: 0.7928 | auc/multiple_diseases: 0.5703, auc/rust: 0.7868, auc/scab: 0.8524\n",
      "Evaluating Results - Average Loss: 1.2032 | auc/_mean: 0.8183 | auc/healthy: 0.9046 | auc/multiple_diseases: 0.4896, auc/rust: 0.9358, auc/scab: 0.9433\n",
      "\n"
     ]
    },
    {
     "data": {
      "application/vnd.jupyter.widget-view+json": {
       "model_id": "054555732de34fab8032254e4f06eb8c",
       "version_major": 2,
       "version_minor": 0
      },
      "text/plain": [
       "HBox(children=(FloatProgress(value=0.0, description='Train', max=364.0, style=ProgressStyle(description_width=…"
      ]
     },
     "metadata": {},
     "output_type": "display_data"
    },
    {
     "name": "stdout",
     "output_type": "stream",
     "text": [
      "\n",
      "Epoch: 133 | Time: 1m 53s\n",
      "Training Results - Average Loss: 1.1852 | auc/_mean: 0.7221 | auc/healthy: 0.7938 | auc/multiple_diseases: 0.5089, auc/rust: 0.7625, auc/scab: 0.8234\n",
      "Evaluating Results - Average Loss: 1.2022 | auc/_mean: 0.8200 | auc/healthy: 0.9051 | auc/multiple_diseases: 0.4957, auc/rust: 0.9366, auc/scab: 0.9425\n",
      "\n"
     ]
    },
    {
     "data": {
      "application/vnd.jupyter.widget-view+json": {
       "model_id": "f362059b074442f9b74b8e1b3f328b05",
       "version_major": 2,
       "version_minor": 0
      },
      "text/plain": [
       "HBox(children=(FloatProgress(value=0.0, description='Train', max=364.0, style=ProgressStyle(description_width=…"
      ]
     },
     "metadata": {},
     "output_type": "display_data"
    },
    {
     "name": "stdout",
     "output_type": "stream",
     "text": [
      "\n",
      "Epoch: 134 | Time: 1m 52s\n",
      "Training Results - Average Loss: 1.1728 | auc/_mean: 0.7466 | auc/healthy: 0.7828 | auc/multiple_diseases: 0.5672, auc/rust: 0.7911, auc/scab: 0.8454\n",
      "Evaluating Results - Average Loss: 1.1971 | auc/_mean: 0.8177 | auc/healthy: 0.9080 | auc/multiple_diseases: 0.4797, auc/rust: 0.9380, auc/scab: 0.9449\n",
      "\n"
     ]
    },
    {
     "data": {
      "application/vnd.jupyter.widget-view+json": {
       "model_id": "92ed3895fb30495a8165a1756371ae5b",
       "version_major": 2,
       "version_minor": 0
      },
      "text/plain": [
       "HBox(children=(FloatProgress(value=0.0, description='Train', max=364.0, style=ProgressStyle(description_width=…"
      ]
     },
     "metadata": {},
     "output_type": "display_data"
    },
    {
     "name": "stdout",
     "output_type": "stream",
     "text": [
      "\n",
      "Epoch: 135 | Time: 1m 52s\n",
      "Training Results - Average Loss: 1.1796 | auc/_mean: 0.7325 | auc/healthy: 0.8273 | auc/multiple_diseases: 0.5048, auc/rust: 0.7783, auc/scab: 0.8196\n",
      "Evaluating Results - Average Loss: 1.2027 | auc/_mean: 0.8192 | auc/healthy: 0.9051 | auc/multiple_diseases: 0.4904, auc/rust: 0.9389, auc/scab: 0.9424\n",
      "\n"
     ]
    },
    {
     "data": {
      "application/vnd.jupyter.widget-view+json": {
       "model_id": "14f48012226f4a48b1e4969be5562217",
       "version_major": 2,
       "version_minor": 0
      },
      "text/plain": [
       "HBox(children=(FloatProgress(value=0.0, description='Train', max=364.0, style=ProgressStyle(description_width=…"
      ]
     },
     "metadata": {},
     "output_type": "display_data"
    },
    {
     "name": "stdout",
     "output_type": "stream",
     "text": [
      "\n",
      "Epoch: 136 | Time: 1m 52s\n",
      "Training Results - Average Loss: 1.1757 | auc/_mean: 0.7308 | auc/healthy: 0.7887 | auc/multiple_diseases: 0.4796, auc/rust: 0.8027, auc/scab: 0.8523\n",
      "Evaluating Results - Average Loss: 1.1960 | auc/_mean: 0.8212 | auc/healthy: 0.9052 | auc/multiple_diseases: 0.4949, auc/rust: 0.9398, auc/scab: 0.9449\n",
      "\n"
     ]
    },
    {
     "data": {
      "application/vnd.jupyter.widget-view+json": {
       "model_id": "2fe87151c30d4e3d9616a121ce5e4d91",
       "version_major": 2,
       "version_minor": 0
      },
      "text/plain": [
       "HBox(children=(FloatProgress(value=0.0, description='Train', max=364.0, style=ProgressStyle(description_width=…"
      ]
     },
     "metadata": {},
     "output_type": "display_data"
    },
    {
     "name": "stdout",
     "output_type": "stream",
     "text": [
      "\n",
      "Epoch: 137 | Time: 1m 52s\n",
      "Training Results - Average Loss: 1.1724 | auc/_mean: 0.7444 | auc/healthy: 0.8133 | auc/multiple_diseases: 0.5280, auc/rust: 0.7811, auc/scab: 0.8551\n",
      "Evaluating Results - Average Loss: 1.1994 | auc/_mean: 0.8215 | auc/healthy: 0.9070 | auc/multiple_diseases: 0.4942, auc/rust: 0.9408, auc/scab: 0.9438\n",
      "\n"
     ]
    },
    {
     "data": {
      "application/vnd.jupyter.widget-view+json": {
       "model_id": "d40630c8445344c9af924bc668471b7f",
       "version_major": 2,
       "version_minor": 0
      },
      "text/plain": [
       "HBox(children=(FloatProgress(value=0.0, description='Train', max=364.0, style=ProgressStyle(description_width=…"
      ]
     },
     "metadata": {},
     "output_type": "display_data"
    },
    {
     "name": "stdout",
     "output_type": "stream",
     "text": [
      "\n",
      "Epoch: 138 | Time: 1m 53s\n",
      "Training Results - Average Loss: 1.1756 | auc/_mean: 0.7322 | auc/healthy: 0.7856 | auc/multiple_diseases: 0.5366, auc/rust: 0.7900, auc/scab: 0.8167\n",
      "Evaluating Results - Average Loss: 1.1931 | auc/_mean: 0.8214 | auc/healthy: 0.9094 | auc/multiple_diseases: 0.4893, auc/rust: 0.9422, auc/scab: 0.9449\n",
      "\n"
     ]
    },
    {
     "data": {
      "application/vnd.jupyter.widget-view+json": {
       "model_id": "f2f026ed5cee4ee7bacb4b29b572de8b",
       "version_major": 2,
       "version_minor": 0
      },
      "text/plain": [
       "HBox(children=(FloatProgress(value=0.0, description='Train', max=364.0, style=ProgressStyle(description_width=…"
      ]
     },
     "metadata": {},
     "output_type": "display_data"
    },
    {
     "name": "stdout",
     "output_type": "stream",
     "text": [
      "\n",
      "Epoch: 139 | Time: 1m 52s\n",
      "Training Results - Average Loss: 1.1651 | auc/_mean: 0.7670 | auc/healthy: 0.8017 | auc/multiple_diseases: 0.6193, auc/rust: 0.8046, auc/scab: 0.8422\n",
      "Evaluating Results - Average Loss: 1.1956 | auc/_mean: 0.8219 | auc/healthy: 0.9078 | auc/multiple_diseases: 0.4941, auc/rust: 0.9401, auc/scab: 0.9455\n",
      "\n"
     ]
    },
    {
     "data": {
      "application/vnd.jupyter.widget-view+json": {
       "model_id": "4913e55a5a6f4d6c95cf9bf88c72a937",
       "version_major": 2,
       "version_minor": 0
      },
      "text/plain": [
       "HBox(children=(FloatProgress(value=0.0, description='Train', max=364.0, style=ProgressStyle(description_width=…"
      ]
     },
     "metadata": {},
     "output_type": "display_data"
    },
    {
     "name": "stdout",
     "output_type": "stream",
     "text": [
      "\n",
      "Epoch: 140 | Time: 1m 53s\n",
      "Training Results - Average Loss: 1.1698 | auc/_mean: 0.7435 | auc/healthy: 0.7975 | auc/multiple_diseases: 0.5424, auc/rust: 0.7830, auc/scab: 0.8511\n",
      "Evaluating Results - Average Loss: 1.1975 | auc/_mean: 0.8218 | auc/healthy: 0.9080 | auc/multiple_diseases: 0.4925, auc/rust: 0.9406, auc/scab: 0.9462\n",
      "\n"
     ]
    },
    {
     "data": {
      "application/vnd.jupyter.widget-view+json": {
       "model_id": "a5045e2eebb64cf1b8774749840e698a",
       "version_major": 2,
       "version_minor": 0
      },
      "text/plain": [
       "HBox(children=(FloatProgress(value=0.0, description='Train', max=364.0, style=ProgressStyle(description_width=…"
      ]
     },
     "metadata": {},
     "output_type": "display_data"
    },
    {
     "name": "stdout",
     "output_type": "stream",
     "text": [
      "\n",
      "Epoch: 141 | Time: 1m 52s\n",
      "Training Results - Average Loss: 1.1730 | auc/_mean: 0.7359 | auc/healthy: 0.7880 | auc/multiple_diseases: 0.5177, auc/rust: 0.7982, auc/scab: 0.8397\n",
      "Evaluating Results - Average Loss: 1.1898 | auc/_mean: 0.8205 | auc/healthy: 0.9087 | auc/multiple_diseases: 0.4866, auc/rust: 0.9411, auc/scab: 0.9455\n",
      "\n"
     ]
    },
    {
     "data": {
      "application/vnd.jupyter.widget-view+json": {
       "model_id": "adcb093dfae8442a8107a5b023ad82e9",
       "version_major": 2,
       "version_minor": 0
      },
      "text/plain": [
       "HBox(children=(FloatProgress(value=0.0, description='Train', max=364.0, style=ProgressStyle(description_width=…"
      ]
     },
     "metadata": {},
     "output_type": "display_data"
    },
    {
     "name": "stdout",
     "output_type": "stream",
     "text": [
      "\n",
      "Epoch: 142 | Time: 1m 53s\n",
      "Training Results - Average Loss: 1.1734 | auc/_mean: 0.7352 | auc/healthy: 0.8008 | auc/multiple_diseases: 0.5123, auc/rust: 0.7923, auc/scab: 0.8353\n",
      "Evaluating Results - Average Loss: 1.1908 | auc/_mean: 0.8234 | auc/healthy: 0.9101 | auc/multiple_diseases: 0.4930, auc/rust: 0.9430, auc/scab: 0.9476\n",
      "\n"
     ]
    },
    {
     "data": {
      "application/vnd.jupyter.widget-view+json": {
       "model_id": "d42ac58cbbdb4eb398d16154b0ed9a55",
       "version_major": 2,
       "version_minor": 0
      },
      "text/plain": [
       "HBox(children=(FloatProgress(value=0.0, description='Train', max=364.0, style=ProgressStyle(description_width=…"
      ]
     },
     "metadata": {},
     "output_type": "display_data"
    },
    {
     "name": "stdout",
     "output_type": "stream",
     "text": [
      "\n",
      "Epoch: 143 | Time: 1m 53s\n",
      "Training Results - Average Loss: 1.1718 | auc/_mean: 0.7428 | auc/healthy: 0.8109 | auc/multiple_diseases: 0.5186, auc/rust: 0.7939, auc/scab: 0.8477\n",
      "Evaluating Results - Average Loss: 1.1853 | auc/_mean: 0.8249 | auc/healthy: 0.9099 | auc/multiple_diseases: 0.5006, auc/rust: 0.9431, auc/scab: 0.9460\n",
      "\n"
     ]
    },
    {
     "data": {
      "application/vnd.jupyter.widget-view+json": {
       "model_id": "9e6b781c0a524a94b27f8e92cd1e6ca4",
       "version_major": 2,
       "version_minor": 0
      },
      "text/plain": [
       "HBox(children=(FloatProgress(value=0.0, description='Train', max=364.0, style=ProgressStyle(description_width=…"
      ]
     },
     "metadata": {},
     "output_type": "display_data"
    },
    {
     "name": "stdout",
     "output_type": "stream",
     "text": [
      "\n",
      "Epoch: 144 | Time: 1m 53s\n",
      "Training Results - Average Loss: 1.1645 | auc/_mean: 0.7503 | auc/healthy: 0.8030 | auc/multiple_diseases: 0.5546, auc/rust: 0.8003, auc/scab: 0.8431\n",
      "Evaluating Results - Average Loss: 1.1866 | auc/_mean: 0.8242 | auc/healthy: 0.9097 | auc/multiple_diseases: 0.4994, auc/rust: 0.9425, auc/scab: 0.9452\n",
      "\n"
     ]
    },
    {
     "data": {
      "application/vnd.jupyter.widget-view+json": {
       "model_id": "6163472922f04f1dba518fdbf22edc76",
       "version_major": 2,
       "version_minor": 0
      },
      "text/plain": [
       "HBox(children=(FloatProgress(value=0.0, description='Train', max=364.0, style=ProgressStyle(description_width=…"
      ]
     },
     "metadata": {},
     "output_type": "display_data"
    },
    {
     "name": "stdout",
     "output_type": "stream",
     "text": [
      "\n",
      "Epoch: 145 | Time: 1m 52s\n",
      "Training Results - Average Loss: 1.1745 | auc/_mean: 0.7316 | auc/healthy: 0.8089 | auc/multiple_diseases: 0.4856, auc/rust: 0.7975, auc/scab: 0.8344\n",
      "Evaluating Results - Average Loss: 1.1851 | auc/_mean: 0.8251 | auc/healthy: 0.9108 | auc/multiple_diseases: 0.4995, auc/rust: 0.9437, auc/scab: 0.9466\n",
      "\n"
     ]
    },
    {
     "data": {
      "application/vnd.jupyter.widget-view+json": {
       "model_id": "364b288843dc4bd1b37b5d260b1faa86",
       "version_major": 2,
       "version_minor": 0
      },
      "text/plain": [
       "HBox(children=(FloatProgress(value=0.0, description='Train', max=364.0, style=ProgressStyle(description_width=…"
      ]
     },
     "metadata": {},
     "output_type": "display_data"
    },
    {
     "name": "stdout",
     "output_type": "stream",
     "text": [
      "\n",
      "Epoch: 146 | Time: 1m 52s\n",
      "Training Results - Average Loss: 1.1641 | auc/_mean: 0.7510 | auc/healthy: 0.7836 | auc/multiple_diseases: 0.5637, auc/rust: 0.8125, auc/scab: 0.8443\n",
      "Evaluating Results - Average Loss: 1.1877 | auc/_mean: 0.8232 | auc/healthy: 0.9131 | auc/multiple_diseases: 0.4885, auc/rust: 0.9438, auc/scab: 0.9473\n",
      "\n"
     ]
    },
    {
     "data": {
      "application/vnd.jupyter.widget-view+json": {
       "model_id": "ad48b343f49a43d78c1f5155a71faabb",
       "version_major": 2,
       "version_minor": 0
      },
      "text/plain": [
       "HBox(children=(FloatProgress(value=0.0, description='Train', max=364.0, style=ProgressStyle(description_width=…"
      ]
     },
     "metadata": {},
     "output_type": "display_data"
    },
    {
     "name": "stdout",
     "output_type": "stream",
     "text": [
      "\n",
      "Epoch: 147 | Time: 1m 52s\n",
      "Training Results - Average Loss: 1.1540 | auc/_mean: 0.7703 | auc/healthy: 0.8057 | auc/multiple_diseases: 0.6157, auc/rust: 0.8087, auc/scab: 0.8513\n",
      "Evaluating Results - Average Loss: 1.1796 | auc/_mean: 0.8239 | auc/healthy: 0.9128 | auc/multiple_diseases: 0.4922, auc/rust: 0.9444, auc/scab: 0.9463\n",
      "\n"
     ]
    },
    {
     "data": {
      "application/vnd.jupyter.widget-view+json": {
       "model_id": "4389b0e1c3d14f37bdc4fb462dd4e570",
       "version_major": 2,
       "version_minor": 0
      },
      "text/plain": [
       "HBox(children=(FloatProgress(value=0.0, description='Train', max=364.0, style=ProgressStyle(description_width=…"
      ]
     },
     "metadata": {},
     "output_type": "display_data"
    },
    {
     "name": "stdout",
     "output_type": "stream",
     "text": [
      "\n",
      "Epoch: 148 | Time: 1m 53s\n",
      "Training Results - Average Loss: 1.1689 | auc/_mean: 0.7355 | auc/healthy: 0.8136 | auc/multiple_diseases: 0.4833, auc/rust: 0.7970, auc/scab: 0.8478\n",
      "Evaluating Results - Average Loss: 1.1831 | auc/_mean: 0.8250 | auc/healthy: 0.9143 | auc/multiple_diseases: 0.4944, auc/rust: 0.9441, auc/scab: 0.9472\n",
      "\n"
     ]
    },
    {
     "data": {
      "application/vnd.jupyter.widget-view+json": {
       "model_id": "231edfd714304bef9091b1ae6b8e642b",
       "version_major": 2,
       "version_minor": 0
      },
      "text/plain": [
       "HBox(children=(FloatProgress(value=0.0, description='Train', max=364.0, style=ProgressStyle(description_width=…"
      ]
     },
     "metadata": {},
     "output_type": "display_data"
    },
    {
     "name": "stdout",
     "output_type": "stream",
     "text": [
      "\n",
      "Epoch: 149 | Time: 1m 52s\n",
      "Training Results - Average Loss: 1.1552 | auc/_mean: 0.7602 | auc/healthy: 0.8232 | auc/multiple_diseases: 0.5700, auc/rust: 0.8031, auc/scab: 0.8447\n",
      "Evaluating Results - Average Loss: 1.1729 | auc/_mean: 0.8236 | auc/healthy: 0.9144 | auc/multiple_diseases: 0.4866, auc/rust: 0.9464, auc/scab: 0.9472\n",
      "\n"
     ]
    },
    {
     "data": {
      "application/vnd.jupyter.widget-view+json": {
       "model_id": "2748d94c8dfc4066ad56687f407d16e4",
       "version_major": 2,
       "version_minor": 0
      },
      "text/plain": [
       "HBox(children=(FloatProgress(value=0.0, description='Train', max=364.0, style=ProgressStyle(description_width=…"
      ]
     },
     "metadata": {},
     "output_type": "display_data"
    },
    {
     "name": "stdout",
     "output_type": "stream",
     "text": [
      "\n",
      "Epoch: 150 | Time: 1m 53s\n",
      "Training Results - Average Loss: 1.1615 | auc/_mean: 0.7480 | auc/healthy: 0.8091 | auc/multiple_diseases: 0.5257, auc/rust: 0.8027, auc/scab: 0.8545\n",
      "Evaluating Results - Average Loss: 1.1774 | auc/_mean: 0.8237 | auc/healthy: 0.9165 | auc/multiple_diseases: 0.4837, auc/rust: 0.9471, auc/scab: 0.9476\n",
      "\n"
     ]
    },
    {
     "data": {
      "application/vnd.jupyter.widget-view+json": {
       "model_id": "8b73f3bd4d004fb8a7567c3557fe9c57",
       "version_major": 2,
       "version_minor": 0
      },
      "text/plain": [
       "HBox(children=(FloatProgress(value=0.0, description='Train', max=364.0, style=ProgressStyle(description_width=…"
      ]
     },
     "metadata": {},
     "output_type": "display_data"
    },
    {
     "name": "stdout",
     "output_type": "stream",
     "text": [
      "\n",
      "Epoch: 151 | Time: 1m 52s\n",
      "Training Results - Average Loss: 1.1551 | auc/_mean: 0.7517 | auc/healthy: 0.8038 | auc/multiple_diseases: 0.5333, auc/rust: 0.8254, auc/scab: 0.8445\n",
      "Evaluating Results - Average Loss: 1.1798 | auc/_mean: 0.8256 | auc/healthy: 0.9147 | auc/multiple_diseases: 0.4922, auc/rust: 0.9475, auc/scab: 0.9480\n",
      "\n"
     ]
    },
    {
     "data": {
      "application/vnd.jupyter.widget-view+json": {
       "model_id": "0e6bf1c1f3e04d6b9f9859c78d8d9fc7",
       "version_major": 2,
       "version_minor": 0
      },
      "text/plain": [
       "HBox(children=(FloatProgress(value=0.0, description='Train', max=364.0, style=ProgressStyle(description_width=…"
      ]
     },
     "metadata": {},
     "output_type": "display_data"
    },
    {
     "name": "stdout",
     "output_type": "stream",
     "text": [
      "\n",
      "Epoch: 152 | Time: 1m 53s\n",
      "Training Results - Average Loss: 1.1637 | auc/_mean: 0.7453 | auc/healthy: 0.8132 | auc/multiple_diseases: 0.5300, auc/rust: 0.7940, auc/scab: 0.8441\n",
      "Evaluating Results - Average Loss: 1.1782 | auc/_mean: 0.8264 | auc/healthy: 0.9155 | auc/multiple_diseases: 0.4949, auc/rust: 0.9479, auc/scab: 0.9474\n",
      "\n"
     ]
    },
    {
     "data": {
      "application/vnd.jupyter.widget-view+json": {
       "model_id": "8dc24c49b745404ba4c779d899ec9355",
       "version_major": 2,
       "version_minor": 0
      },
      "text/plain": [
       "HBox(children=(FloatProgress(value=0.0, description='Train', max=364.0, style=ProgressStyle(description_width=…"
      ]
     },
     "metadata": {},
     "output_type": "display_data"
    },
    {
     "name": "stdout",
     "output_type": "stream",
     "text": [
      "\n",
      "Epoch: 153 | Time: 1m 53s\n",
      "Training Results - Average Loss: 1.1561 | auc/_mean: 0.7558 | auc/healthy: 0.8089 | auc/multiple_diseases: 0.5550, auc/rust: 0.8055, auc/scab: 0.8536\n",
      "Evaluating Results - Average Loss: 1.1728 | auc/_mean: 0.8249 | auc/healthy: 0.9180 | auc/multiple_diseases: 0.4850, auc/rust: 0.9490, auc/scab: 0.9476\n",
      "\n"
     ]
    },
    {
     "data": {
      "application/vnd.jupyter.widget-view+json": {
       "model_id": "bd99663c08ff4f04bf432dca46519cc8",
       "version_major": 2,
       "version_minor": 0
      },
      "text/plain": [
       "HBox(children=(FloatProgress(value=0.0, description='Train', max=364.0, style=ProgressStyle(description_width=…"
      ]
     },
     "metadata": {},
     "output_type": "display_data"
    },
    {
     "name": "stdout",
     "output_type": "stream",
     "text": [
      "\n",
      "Epoch: 154 | Time: 1m 53s\n",
      "Training Results - Average Loss: 1.1570 | auc/_mean: 0.7424 | auc/healthy: 0.8341 | auc/multiple_diseases: 0.4931, auc/rust: 0.7994, auc/scab: 0.8431\n",
      "Evaluating Results - Average Loss: 1.1703 | auc/_mean: 0.8250 | auc/healthy: 0.9148 | auc/multiple_diseases: 0.4893, auc/rust: 0.9469, auc/scab: 0.9492\n",
      "\n"
     ]
    },
    {
     "data": {
      "application/vnd.jupyter.widget-view+json": {
       "model_id": "227a43c8e9e942f59d16a649bc848ea5",
       "version_major": 2,
       "version_minor": 0
      },
      "text/plain": [
       "HBox(children=(FloatProgress(value=0.0, description='Train', max=364.0, style=ProgressStyle(description_width=…"
      ]
     },
     "metadata": {},
     "output_type": "display_data"
    },
    {
     "name": "stdout",
     "output_type": "stream",
     "text": [
      "\n",
      "Epoch: 155 | Time: 1m 53s\n",
      "Training Results - Average Loss: 1.1537 | auc/_mean: 0.7538 | auc/healthy: 0.8220 | auc/multiple_diseases: 0.5408, auc/rust: 0.8015, auc/scab: 0.8509\n",
      "Evaluating Results - Average Loss: 1.1699 | auc/_mean: 0.8257 | auc/healthy: 0.9150 | auc/multiple_diseases: 0.4925, auc/rust: 0.9477, auc/scab: 0.9475\n",
      "\n"
     ]
    },
    {
     "data": {
      "application/vnd.jupyter.widget-view+json": {
       "model_id": "bae5f69105134b70ae67f2ff857bc12a",
       "version_major": 2,
       "version_minor": 0
      },
      "text/plain": [
       "HBox(children=(FloatProgress(value=0.0, description='Train', max=364.0, style=ProgressStyle(description_width=…"
      ]
     },
     "metadata": {},
     "output_type": "display_data"
    },
    {
     "name": "stdout",
     "output_type": "stream",
     "text": [
      "\n",
      "Epoch: 156 | Time: 1m 52s\n",
      "Training Results - Average Loss: 1.1637 | auc/_mean: 0.7342 | auc/healthy: 0.7943 | auc/multiple_diseases: 0.4982, auc/rust: 0.8013, auc/scab: 0.8429\n",
      "Evaluating Results - Average Loss: 1.1684 | auc/_mean: 0.8248 | auc/healthy: 0.9161 | auc/multiple_diseases: 0.4875, auc/rust: 0.9476, auc/scab: 0.9479\n",
      "\n"
     ]
    },
    {
     "data": {
      "application/vnd.jupyter.widget-view+json": {
       "model_id": "10ebfe5fcca845f69fa1361d30c9eec9",
       "version_major": 2,
       "version_minor": 0
      },
      "text/plain": [
       "HBox(children=(FloatProgress(value=0.0, description='Train', max=364.0, style=ProgressStyle(description_width=…"
      ]
     },
     "metadata": {},
     "output_type": "display_data"
    },
    {
     "name": "stdout",
     "output_type": "stream",
     "text": [
      "\n",
      "Epoch: 157 | Time: 1m 52s\n",
      "Training Results - Average Loss: 1.1569 | auc/_mean: 0.7472 | auc/healthy: 0.8064 | auc/multiple_diseases: 0.5208, auc/rust: 0.8212, auc/scab: 0.8403\n",
      "Evaluating Results - Average Loss: 1.1675 | auc/_mean: 0.8269 | auc/healthy: 0.9184 | auc/multiple_diseases: 0.4928, auc/rust: 0.9482, auc/scab: 0.9484\n",
      "\n"
     ]
    },
    {
     "data": {
      "application/vnd.jupyter.widget-view+json": {
       "model_id": "6d8b8b782cda479ab14086871b417ec7",
       "version_major": 2,
       "version_minor": 0
      },
      "text/plain": [
       "HBox(children=(FloatProgress(value=0.0, description='Train', max=364.0, style=ProgressStyle(description_width=…"
      ]
     },
     "metadata": {},
     "output_type": "display_data"
    },
    {
     "name": "stdout",
     "output_type": "stream",
     "text": [
      "\n",
      "Epoch: 158 | Time: 1m 53s\n",
      "Training Results - Average Loss: 1.1582 | auc/_mean: 0.7502 | auc/healthy: 0.8077 | auc/multiple_diseases: 0.5554, auc/rust: 0.8019, auc/scab: 0.8359\n",
      "Evaluating Results - Average Loss: 1.1607 | auc/_mean: 0.8279 | auc/healthy: 0.9178 | auc/multiple_diseases: 0.4944, auc/rust: 0.9496, auc/scab: 0.9498\n",
      "\n"
     ]
    },
    {
     "data": {
      "application/vnd.jupyter.widget-view+json": {
       "model_id": "66550d8106434f27b671e974b14de9e8",
       "version_major": 2,
       "version_minor": 0
      },
      "text/plain": [
       "HBox(children=(FloatProgress(value=0.0, description='Train', max=364.0, style=ProgressStyle(description_width=…"
      ]
     },
     "metadata": {},
     "output_type": "display_data"
    },
    {
     "name": "stdout",
     "output_type": "stream",
     "text": [
      "\n",
      "Epoch: 159 | Time: 1m 53s\n",
      "Training Results - Average Loss: 1.1526 | auc/_mean: 0.7589 | auc/healthy: 0.8181 | auc/multiple_diseases: 0.5739, auc/rust: 0.8076, auc/scab: 0.8359\n",
      "Evaluating Results - Average Loss: 1.1636 | auc/_mean: 0.8278 | auc/healthy: 0.9180 | auc/multiple_diseases: 0.4946, auc/rust: 0.9499, auc/scab: 0.9487\n",
      "\n"
     ]
    },
    {
     "data": {
      "application/vnd.jupyter.widget-view+json": {
       "model_id": "b19515b782804ad6acfb0849d8c57b2a",
       "version_major": 2,
       "version_minor": 0
      },
      "text/plain": [
       "HBox(children=(FloatProgress(value=0.0, description='Train', max=364.0, style=ProgressStyle(description_width=…"
      ]
     },
     "metadata": {},
     "output_type": "display_data"
    },
    {
     "name": "stdout",
     "output_type": "stream",
     "text": [
      "\n",
      "Epoch: 160 | Time: 1m 53s\n",
      "Training Results - Average Loss: 1.1509 | auc/_mean: 0.7554 | auc/healthy: 0.8106 | auc/multiple_diseases: 0.5470, auc/rust: 0.8151, auc/scab: 0.8489\n",
      "Evaluating Results - Average Loss: 1.1680 | auc/_mean: 0.8278 | auc/healthy: 0.9171 | auc/multiple_diseases: 0.4954, auc/rust: 0.9505, auc/scab: 0.9482\n",
      "\n"
     ]
    },
    {
     "data": {
      "application/vnd.jupyter.widget-view+json": {
       "model_id": "8752df3283b043dd81e4ab271b0f57f3",
       "version_major": 2,
       "version_minor": 0
      },
      "text/plain": [
       "HBox(children=(FloatProgress(value=0.0, description='Train', max=364.0, style=ProgressStyle(description_width=…"
      ]
     },
     "metadata": {},
     "output_type": "display_data"
    },
    {
     "name": "stdout",
     "output_type": "stream",
     "text": [
      "\n",
      "Epoch: 161 | Time: 1m 53s\n",
      "Training Results - Average Loss: 1.1444 | auc/_mean: 0.7686 | auc/healthy: 0.8133 | auc/multiple_diseases: 0.5765, auc/rust: 0.8307, auc/scab: 0.8541\n",
      "Evaluating Results - Average Loss: 1.1581 | auc/_mean: 0.8293 | auc/healthy: 0.9191 | auc/multiple_diseases: 0.4939, auc/rust: 0.9532, auc/scab: 0.9509\n",
      "\n"
     ]
    },
    {
     "data": {
      "application/vnd.jupyter.widget-view+json": {
       "model_id": "2ef4be2072f641199a5848ff1a8da036",
       "version_major": 2,
       "version_minor": 0
      },
      "text/plain": [
       "HBox(children=(FloatProgress(value=0.0, description='Train', max=364.0, style=ProgressStyle(description_width=…"
      ]
     },
     "metadata": {},
     "output_type": "display_data"
    },
    {
     "name": "stdout",
     "output_type": "stream",
     "text": [
      "\n",
      "Epoch: 162 | Time: 1m 52s\n",
      "Training Results - Average Loss: 1.1460 | auc/_mean: 0.7614 | auc/healthy: 0.8112 | auc/multiple_diseases: 0.5544, auc/rust: 0.8352, auc/scab: 0.8450\n",
      "Evaluating Results - Average Loss: 1.1605 | auc/_mean: 0.8299 | auc/healthy: 0.9184 | auc/multiple_diseases: 0.5011, auc/rust: 0.9504, auc/scab: 0.9497\n",
      "\n"
     ]
    },
    {
     "data": {
      "application/vnd.jupyter.widget-view+json": {
       "model_id": "8019ad3ce06c48a09c39bd75ca9f700a",
       "version_major": 2,
       "version_minor": 0
      },
      "text/plain": [
       "HBox(children=(FloatProgress(value=0.0, description='Train', max=364.0, style=ProgressStyle(description_width=…"
      ]
     },
     "metadata": {},
     "output_type": "display_data"
    },
    {
     "name": "stdout",
     "output_type": "stream",
     "text": [
      "\n",
      "Epoch: 163 | Time: 1m 53s\n",
      "Training Results - Average Loss: 1.1445 | auc/_mean: 0.7542 | auc/healthy: 0.8154 | auc/multiple_diseases: 0.5078, auc/rust: 0.8310, auc/scab: 0.8625\n",
      "Evaluating Results - Average Loss: 1.1601 | auc/_mean: 0.8249 | auc/healthy: 0.9194 | auc/multiple_diseases: 0.4806, auc/rust: 0.9507, auc/scab: 0.9489\n",
      "\n"
     ]
    },
    {
     "data": {
      "application/vnd.jupyter.widget-view+json": {
       "model_id": "e2a2cf04d90147fca565046a4ecf1e6f",
       "version_major": 2,
       "version_minor": 0
      },
      "text/plain": [
       "HBox(children=(FloatProgress(value=0.0, description='Train', max=364.0, style=ProgressStyle(description_width=…"
      ]
     },
     "metadata": {},
     "output_type": "display_data"
    },
    {
     "name": "stdout",
     "output_type": "stream",
     "text": [
      "\n",
      "Epoch: 164 | Time: 1m 53s\n",
      "Training Results - Average Loss: 1.1485 | auc/_mean: 0.7622 | auc/healthy: 0.8386 | auc/multiple_diseases: 0.5523, auc/rust: 0.8140, auc/scab: 0.8439\n",
      "Evaluating Results - Average Loss: 1.1588 | auc/_mean: 0.8303 | auc/healthy: 0.9182 | auc/multiple_diseases: 0.5018, auc/rust: 0.9514, auc/scab: 0.9498\n",
      "\n"
     ]
    },
    {
     "data": {
      "application/vnd.jupyter.widget-view+json": {
       "model_id": "5fc126000ca14cffae21004df220c7ee",
       "version_major": 2,
       "version_minor": 0
      },
      "text/plain": [
       "HBox(children=(FloatProgress(value=0.0, description='Train', max=364.0, style=ProgressStyle(description_width=…"
      ]
     },
     "metadata": {},
     "output_type": "display_data"
    },
    {
     "name": "stdout",
     "output_type": "stream",
     "text": [
      "\n",
      "Epoch: 165 | Time: 1m 53s\n",
      "Training Results - Average Loss: 1.1531 | auc/_mean: 0.7505 | auc/healthy: 0.8252 | auc/multiple_diseases: 0.5308, auc/rust: 0.8124, auc/scab: 0.8337\n",
      "Evaluating Results - Average Loss: 1.1567 | auc/_mean: 0.8313 | auc/healthy: 0.9189 | auc/multiple_diseases: 0.5058, auc/rust: 0.9506, auc/scab: 0.9501\n",
      "\n"
     ]
    },
    {
     "data": {
      "application/vnd.jupyter.widget-view+json": {
       "model_id": "6ed652edd0b64c42b54e7c797d1fec14",
       "version_major": 2,
       "version_minor": 0
      },
      "text/plain": [
       "HBox(children=(FloatProgress(value=0.0, description='Train', max=364.0, style=ProgressStyle(description_width=…"
      ]
     },
     "metadata": {},
     "output_type": "display_data"
    }
   ],
   "source": [
    "trainer = Trainer(model, train_dataloader, valid_dataloader, criterion, optimizer, scheduler, device, config)\n",
    "trainer.run();"
   ]
  },
  {
   "cell_type": "code",
   "execution_count": null,
   "metadata": {},
   "outputs": [],
   "source": []
  },
  {
   "cell_type": "code",
   "execution_count": null,
   "metadata": {},
   "outputs": [],
   "source": []
  },
  {
   "cell_type": "code",
   "execution_count": 10,
   "metadata": {},
   "outputs": [
    {
     "name": "stdout",
     "output_type": "stream",
     "text": [
      "Loaded pretrained weights for efficientnet-b6\n"
     ]
    }
   ],
   "source": [
    "model = get_model(config.model_name, config.num_classes)\n",
    "model.load_state_dict(torch.load(f\"{config.save_dirname}/best_model_epoch=165_auc_mean=0.8313264066195609.pth\"))\n",
    "for param in model.parameters():\n",
    "    param.requires_grad = True\n",
    "\n",
    "criterion = LabelSmoothingCrossEntropy()\n",
    "optimizer = AdamW(model.parameters(), lr=config.lr, weight_decay=1e-3)\n",
    "num_train_steps = int(len(train_dataset) / config.batch_size * config.num_epochs)\n",
    "scheduler = get_cosine_schedule_with_warmup(optimizer, num_warmup_steps=len(train_dataset)/config.batch_size*5, num_training_steps=num_train_steps)"
   ]
  },
  {
   "cell_type": "code",
   "execution_count": 11,
   "metadata": {},
   "outputs": [
    {
     "data": {
      "application/vnd.jupyter.widget-view+json": {
       "model_id": "2603695a89ab4c9c8f76ee897484a3a6",
       "version_major": 2,
       "version_minor": 0
      },
      "text/plain": [
       "HBox(children=(FloatProgress(value=0.0, description='Epochs', max=300.0, style=ProgressStyle(description_width…"
      ]
     },
     "metadata": {},
     "output_type": "display_data"
    },
    {
     "data": {
      "application/vnd.jupyter.widget-view+json": {
       "model_id": "90c5a7d222114c249c961bfb56b32979",
       "version_major": 2,
       "version_minor": 0
      },
      "text/plain": [
       "HBox(children=(FloatProgress(value=0.0, description='Train', max=610.0, style=ProgressStyle(description_width=…"
      ]
     },
     "metadata": {},
     "output_type": "display_data"
    },
    {
     "name": "stdout",
     "output_type": "stream",
     "text": [
      "\n",
      "Epoch: 01 | Time: 5m 58s\n",
      "Training Results - Average Loss: 1.1879 | auc/_mean: 0.7153 | auc/healthy: 0.7541 | auc/multiple_diseases: 0.5525, auc/rust: 0.7709, auc/scab: 0.7838\n",
      "Evaluating Results - Average Loss: 1.2575 | auc/_mean: 0.8348 | auc/healthy: 0.9295 | auc/multiple_diseases: 0.5147, auc/rust: 0.9505, auc/scab: 0.9448\n",
      "\n"
     ]
    },
    {
     "data": {
      "application/vnd.jupyter.widget-view+json": {
       "model_id": "09ca18ee2f37428fa3232baee8665bfc",
       "version_major": 2,
       "version_minor": 0
      },
      "text/plain": [
       "HBox(children=(FloatProgress(value=0.0, description='Train', max=610.0, style=ProgressStyle(description_width=…"
      ]
     },
     "metadata": {},
     "output_type": "display_data"
    },
    {
     "name": "stdout",
     "output_type": "stream",
     "text": [
      "\n",
      "Epoch: 02 | Time: 5m 57s\n",
      "Training Results - Average Loss: 1.1808 | auc/_mean: 0.7168 | auc/healthy: 0.7840 | auc/multiple_diseases: 0.5439, auc/rust: 0.7638, auc/scab: 0.7755\n",
      "Evaluating Results - Average Loss: 1.2060 | auc/_mean: 0.8423 | auc/healthy: 0.9451 | auc/multiple_diseases: 0.5034, auc/rust: 0.9661, auc/scab: 0.9544\n",
      "\n"
     ]
    },
    {
     "data": {
      "application/vnd.jupyter.widget-view+json": {
       "model_id": "f5671da8bedc42399fbe50a988c564e8",
       "version_major": 2,
       "version_minor": 0
      },
      "text/plain": [
       "HBox(children=(FloatProgress(value=0.0, description='Train', max=610.0, style=ProgressStyle(description_width=…"
      ]
     },
     "metadata": {},
     "output_type": "display_data"
    }
   ],
   "source": [
    "trainer = Trainer(model, train_dataloader, valid_dataloader, criterion, optimizer, scheduler, device, config)\n",
    "trainer.run();"
   ]
  },
  {
   "cell_type": "code",
   "execution_count": null,
   "metadata": {},
   "outputs": [],
   "source": []
  },
  {
   "cell_type": "code",
   "execution_count": null,
   "metadata": {},
   "outputs": [],
   "source": []
  },
  {
   "cell_type": "code",
   "execution_count": 15,
   "metadata": {},
   "outputs": [],
   "source": [
    "\n",
    "class PlantDatasetTest(Dataset):\n",
    "    \n",
    "    def __init__(self, df, config, transforms=None):\n",
    "    \n",
    "        self.df = df\n",
    "        self.images_dir = config.root_images\n",
    "        self.class_names = config.class_names\n",
    "        self.transforms=transforms\n",
    "        \n",
    "    def __len__(self):\n",
    "        return self.df.shape[0]\n",
    "    \n",
    "    def __getitem__(self, idx):\n",
    "        image_src = self.images_dir + self.df.iloc[idx]['image_id'] + '.jpg'\n",
    "        image = cv2.imread(image_src, cv2.IMREAD_COLOR)\n",
    "        image = cv2.cvtColor(image, cv2.COLOR_BGR2RGB)\n",
    "        \n",
    "        if self.transforms:\n",
    "            transformed = self.transforms(image=image)\n",
    "            image = transformed['image']\n",
    "\n",
    "        return image, idx\n",
    "\n",
    "test_df = pd.read_csv(config.root + 'test.csv')\n",
    "test_dataset = PlantDatasetTest(test_df, config, train_transforms)\n",
    "test_dataloader = DataLoader(test_dataset, batch_size=config.batch_size, shuffle=False, num_workers=config.num_workers)"
   ]
  },
  {
   "cell_type": "code",
   "execution_count": 16,
   "metadata": {},
   "outputs": [],
   "source": [
    "def predict(model, dataloader: DataLoader, device, dataset: Dataset, tta_count: int, config: ConfigExperiment):\n",
    "    n_samples = len(dataset)\n",
    "    y_probas_tta = np.zeros((n_samples, config.num_classes, tta_count), dtype=np.float32)\n",
    "    \n",
    "    model.eval()\n",
    "    model.to(device)\n",
    "    with torch.no_grad():\n",
    "        for i_epoch in tqdm(range(tta_count), desc='TTA', total=tta_count, position=1, leave=True):\n",
    "            for i, (images, idx) in enumerate(dataloader):\n",
    "                images = images.to(device)\n",
    "                outputs = model(images)\n",
    "                y_pred = F.softmax(outputs, dim=1)\n",
    "                \n",
    "                tta_index = i_epoch - 1\n",
    "                start_index = (i % len(dataloader)) * config.batch_size\n",
    "                end_index = min(start_index + config.batch_size, n_samples)\n",
    "                batch_y_probas = y_pred.detach().cpu().numpy()                \n",
    "                y_probas_tta[start_index:end_index, :, tta_index] = batch_y_probas\n",
    "\n",
    "    return y_probas_tta"
   ]
  },
  {
   "cell_type": "code",
   "execution_count": 17,
   "metadata": {},
   "outputs": [
    {
     "name": "stdout",
     "output_type": "stream",
     "text": [
      "Loaded pretrained weights for efficientnet-b0\n"
     ]
    },
    {
     "data": {
      "text/plain": [
       "<All keys matched successfully>"
      ]
     },
     "execution_count": 17,
     "metadata": {},
     "output_type": "execute_result"
    }
   ],
   "source": [
    "model = get_model(config.model_name, config.num_classes)\n",
    "model.load_state_dict(torch.load(f\"{config.save_dirname}/best_model_epoch=39_auc_mean=0.9220583291148317.pth\"))"
   ]
  },
  {
   "cell_type": "code",
   "execution_count": 18,
   "metadata": {},
   "outputs": [
    {
     "data": {
      "application/vnd.jupyter.widget-view+json": {
       "model_id": "eec2d9d887c746dfb0b736e16ad14940",
       "version_major": 2,
       "version_minor": 0
      },
      "text/plain": [
       "HBox(children=(FloatProgress(value=0.0, description='TTA', max=5.0, style=ProgressStyle(description_width='ini…"
      ]
     },
     "metadata": {},
     "output_type": "display_data"
    },
    {
     "name": "stdout",
     "output_type": "stream",
     "text": [
      "\n"
     ]
    }
   ],
   "source": [
    "result = predict(model, test_dataloader, device, test_dataset, tta_count=5, config=config)"
   ]
  },
  {
   "cell_type": "code",
   "execution_count": 19,
   "metadata": {},
   "outputs": [],
   "source": [
    "y_probas = np.mean(result, axis=-1)"
   ]
  },
  {
   "cell_type": "code",
   "execution_count": 20,
   "metadata": {},
   "outputs": [
    {
     "data": {
      "text/plain": [
       "array([[9.9273829e-04, 2.2985693e-02, 9.7583580e-01, 1.8573811e-04],\n",
       "       [3.9310761e-02, 1.7064143e-02, 9.4097364e-01, 2.6514246e-03],\n",
       "       [9.1703532e-06, 1.3889124e-03, 5.8242813e-06, 9.9859619e-01],\n",
       "       [9.9602592e-01, 6.7340222e-04, 7.6660613e-04, 2.5340687e-03],\n",
       "       [9.4989018e-06, 2.8524425e-02, 9.7144318e-01, 2.2904725e-05],\n",
       "       [4.9693507e-01, 1.8131445e-01, 1.2418524e-01, 1.9756520e-01],\n",
       "       [9.9773788e-01, 7.0325274e-04, 6.9397263e-04, 8.6491025e-04],\n",
       "       [3.9168470e-05, 5.9642859e-02, 9.4551471e-04, 9.3937242e-01],\n",
       "       [3.3926888e-05, 4.5833280e-03, 8.5793276e-05, 9.9529696e-01],\n",
       "       [1.2231877e-04, 1.2349771e-02, 9.8747653e-01, 5.1319435e-05]],\n",
       "      dtype=float32)"
      ]
     },
     "execution_count": 20,
     "metadata": {},
     "output_type": "execute_result"
    }
   ],
   "source": [
    "y_probas[:10]"
   ]
  },
  {
   "cell_type": "code",
   "execution_count": 21,
   "metadata": {},
   "outputs": [
    {
     "data": {
      "text/html": [
       "<div>\n",
       "<style scoped>\n",
       "    .dataframe tbody tr th:only-of-type {\n",
       "        vertical-align: middle;\n",
       "    }\n",
       "\n",
       "    .dataframe tbody tr th {\n",
       "        vertical-align: top;\n",
       "    }\n",
       "\n",
       "    .dataframe thead th {\n",
       "        text-align: right;\n",
       "    }\n",
       "</style>\n",
       "<table border=\"1\" class=\"dataframe\">\n",
       "  <thead>\n",
       "    <tr style=\"text-align: right;\">\n",
       "      <th></th>\n",
       "      <th>image_id</th>\n",
       "      <th>healthy</th>\n",
       "      <th>multiple_diseases</th>\n",
       "      <th>rust</th>\n",
       "      <th>scab</th>\n",
       "    </tr>\n",
       "  </thead>\n",
       "  <tbody>\n",
       "    <tr>\n",
       "      <th>0</th>\n",
       "      <td>Test_0</td>\n",
       "      <td>0.000993</td>\n",
       "      <td>0.022986</td>\n",
       "      <td>0.975836</td>\n",
       "      <td>0.000186</td>\n",
       "    </tr>\n",
       "    <tr>\n",
       "      <th>1</th>\n",
       "      <td>Test_1</td>\n",
       "      <td>0.039311</td>\n",
       "      <td>0.017064</td>\n",
       "      <td>0.940974</td>\n",
       "      <td>0.002651</td>\n",
       "    </tr>\n",
       "    <tr>\n",
       "      <th>2</th>\n",
       "      <td>Test_2</td>\n",
       "      <td>0.000009</td>\n",
       "      <td>0.001389</td>\n",
       "      <td>0.000006</td>\n",
       "      <td>0.998596</td>\n",
       "    </tr>\n",
       "    <tr>\n",
       "      <th>3</th>\n",
       "      <td>Test_3</td>\n",
       "      <td>0.996026</td>\n",
       "      <td>0.000673</td>\n",
       "      <td>0.000767</td>\n",
       "      <td>0.002534</td>\n",
       "    </tr>\n",
       "    <tr>\n",
       "      <th>4</th>\n",
       "      <td>Test_4</td>\n",
       "      <td>0.000009</td>\n",
       "      <td>0.028524</td>\n",
       "      <td>0.971443</td>\n",
       "      <td>0.000023</td>\n",
       "    </tr>\n",
       "  </tbody>\n",
       "</table>\n",
       "</div>"
      ],
      "text/plain": [
       "  image_id   healthy  multiple_diseases      rust      scab\n",
       "0   Test_0  0.000993           0.022986  0.975836  0.000186\n",
       "1   Test_1  0.039311           0.017064  0.940974  0.002651\n",
       "2   Test_2  0.000009           0.001389  0.000006  0.998596\n",
       "3   Test_3  0.996026           0.000673  0.000767  0.002534\n",
       "4   Test_4  0.000009           0.028524  0.971443  0.000023"
      ]
     },
     "execution_count": 21,
     "metadata": {},
     "output_type": "execute_result"
    }
   ],
   "source": [
    "test_df = pd.read_csv(config.root + 'test.csv')\n",
    "test_df[\"healthy\"] = 0\n",
    "test_df[\"multiple_diseases\"] = 0\n",
    "test_df[\"rust\"] = 0\n",
    "test_df[\"scab\"] = 0\n",
    "test_df[['healthy', 'multiple_diseases', 'rust', 'scab']] = y_probas\n",
    "test_df.to_csv(config.submission_file, index=False)\n",
    "test_df.head()"
   ]
  },
  {
   "cell_type": "code",
   "execution_count": 22,
   "metadata": {},
   "outputs": [
    {
     "data": {
      "text/plain": [
       "'01_starter_code.csv'"
      ]
     },
     "execution_count": 22,
     "metadata": {},
     "output_type": "execute_result"
    }
   ],
   "source": [
    "config.submission_file"
   ]
  },
  {
   "cell_type": "code",
   "execution_count": null,
   "metadata": {},
   "outputs": [],
   "source": []
  },
  {
   "cell_type": "code",
   "execution_count": null,
   "metadata": {},
   "outputs": [],
   "source": []
  },
  {
   "cell_type": "code",
   "execution_count": null,
   "metadata": {},
   "outputs": [],
   "source": []
  },
  {
   "cell_type": "code",
   "execution_count": null,
   "metadata": {},
   "outputs": [],
   "source": []
  },
  {
   "cell_type": "code",
   "execution_count": null,
   "metadata": {},
   "outputs": [],
   "source": []
  },
  {
   "cell_type": "code",
   "execution_count": null,
   "metadata": {},
   "outputs": [],
   "source": []
  },
  {
   "cell_type": "code",
   "execution_count": null,
   "metadata": {},
   "outputs": [],
   "source": []
  },
  {
   "cell_type": "code",
   "execution_count": null,
   "metadata": {},
   "outputs": [],
   "source": []
  },
  {
   "cell_type": "code",
   "execution_count": null,
   "metadata": {},
   "outputs": [],
   "source": []
  },
  {
   "cell_type": "code",
   "execution_count": null,
   "metadata": {},
   "outputs": [],
   "source": []
  },
  {
   "cell_type": "code",
   "execution_count": null,
   "metadata": {},
   "outputs": [],
   "source": []
  },
  {
   "cell_type": "code",
   "execution_count": null,
   "metadata": {},
   "outputs": [],
   "source": []
  },
  {
   "cell_type": "code",
   "execution_count": null,
   "metadata": {},
   "outputs": [],
   "source": []
  },
  {
   "cell_type": "code",
   "execution_count": null,
   "metadata": {},
   "outputs": [],
   "source": []
  }
 ],
 "metadata": {
  "kernelspec": {
   "display_name": "Python 3",
   "language": "python",
   "name": "python3"
  },
  "language_info": {
   "codemirror_mode": {
    "name": "ipython",
    "version": 3
   },
   "file_extension": ".py",
   "mimetype": "text/x-python",
   "name": "python",
   "nbconvert_exporter": "python",
   "pygments_lexer": "ipython3",
   "version": "3.6.9"
  }
 },
 "nbformat": 4,
 "nbformat_minor": 4
}
