{
 "cells": [
  {
   "cell_type": "code",
   "execution_count": 1,
   "metadata": {},
   "outputs": [],
   "source": [
    "import warnings  \n",
    "\n",
    "import os\n",
    "import time\n",
    "import random\n",
    "import numpy as np\n",
    "import pandas as pd\n",
    "import matplotlib.pyplot as plt\n",
    "\n",
    "import albumentations as A\n",
    "from albumentations.pytorch import ToTensorV2\n",
    "import cv2\n",
    "\n",
    "import torch\n",
    "import torch.nn as nn\n",
    "import torch.nn.functional as F\n",
    "import torchvision\n",
    "import torch.optim as optim\n",
    "from torch.utils.data import Dataset, DataLoader\n",
    "from torch.utils.data.dataset import Subset\n",
    "from torch.nn.functional import softmax\n",
    "\n",
    "from efficientnet_pytorch import EfficientNet\n",
    "\n",
    "from typing import Callable, List, Tuple, Dict\n",
    "from pathlib import Path\n",
    "\n",
    "from transformers import AdamW\n",
    "from transformers import get_cosine_schedule_with_warmup\n",
    "\n",
    "from sklearn.metrics import roc_auc_score, accuracy_score\n",
    "from sklearn.model_selection import train_test_split\n",
    "from collections import defaultdict, OrderedDict\n",
    "from tqdm.notebook import tqdm\n",
    "from torchsummary import summary\n",
    "\n",
    "from fastai2.layers import LabelSmoothingCrossEntropy\n",
    "from transformers import get_cosine_schedule_with_warmup\n",
    "from transformers import AdamW\n",
    "\n",
    "import matplotlib\n",
    "matplotlib.rcParams.update({'figure.figsize': (16, 12), 'font.size': 14})\n",
    "import matplotlib.pyplot as plt\n",
    "%matplotlib inline\n",
    "from IPython.display import clear_output"
   ]
  },
  {
   "cell_type": "code",
   "execution_count": 2,
   "metadata": {},
   "outputs": [],
   "source": [
    "warnings.simplefilter(\"ignore\", UserWarning)\n",
    "warnings.simplefilter(\"ignore\", DeprecationWarning)\n",
    "warnings.filterwarnings('ignore')\n",
    "os.environ[\"PYTHONWARNINGS\"] = \"ignore\""
   ]
  },
  {
   "cell_type": "code",
   "execution_count": 3,
   "metadata": {},
   "outputs": [
    {
     "name": "stdout",
     "output_type": "stream",
     "text": [
      "Directory  02_efficientnet-b4  already exists\n"
     ]
    }
   ],
   "source": [
    "EXPERIMENT_NAME = \"02_efficientnet-b4\"\n",
    "\n",
    "class ConfigExperiment:\n",
    "    logdir = f\"./logs/{EXPERIMENT_NAME}\"\n",
    "    save_dirname = EXPERIMENT_NAME\n",
    "    submission_file = f\"{EXPERIMENT_NAME}.csv\"\n",
    "    seed = 42\n",
    "    batch_size = 8\n",
    "    model_name = 'efficientnet-b4'\n",
    "    size = 512\n",
    "    num_workers = 20\n",
    "    root_images = \"../../../data/raw/plant-pathology-2020-fgvc7/images/\"\n",
    "    root = \"../../../data/raw/plant-pathology-2020-fgvc7/\"\n",
    "    num_classes = 4\n",
    "    patience = 10\n",
    "    early_stopping_delta = 1e-4\n",
    "    num_epochs = 200\n",
    "    lr = 0.003\n",
    "    class_names = [\"healthy\", \"multiple_diseases\", \"rust\", \"scab\"]\n",
    "    is_fp16_used = False\n",
    "    \n",
    "    \n",
    "def set_seed(seed):\n",
    "    torch.manual_seed(seed)\n",
    "    torch.cuda.manual_seed_all(seed)\n",
    "    torch.backends.cudnn.deterministic = True\n",
    "    torch.backends.cudnn.benchmark = False\n",
    "    np.random.seed(seed)\n",
    "    random.seed(seed)\n",
    "    os.environ['PYTHONHASHSEED'] = str(seed)\n",
    "    \n",
    "    \n",
    "config = ConfigExperiment()\n",
    "set_seed(config.seed)\n",
    "config.size = EfficientNet.get_image_size(config.model_name)\n",
    "os.environ[\"CUDA_VISIBLE_DEVICES\"] = \"0\"\n",
    "device = \"cuda\" if torch.cuda.is_available() else \"cpu\"\n",
    "\n",
    "try:\n",
    "    # Create target Directory\n",
    "    os.mkdir(config.save_dirname)\n",
    "    print(\"Directory \" , config.save_dirname ,  \" Created \") \n",
    "except FileExistsError:\n",
    "    print(\"Directory \" , config.save_dirname ,  \" already exists\")"
   ]
  },
  {
   "cell_type": "code",
   "execution_count": 4,
   "metadata": {},
   "outputs": [],
   "source": [
    "class PlantDataset(Dataset):\n",
    "    \n",
    "    def __init__(self, df, config, transforms=None):\n",
    "    \n",
    "        self.df = df\n",
    "        self.images_dir = config.root_images\n",
    "        self.class_names = config.class_names\n",
    "        self.transforms=transforms\n",
    "        \n",
    "    def __len__(self):\n",
    "        return self.df.shape[0]\n",
    "    \n",
    "    def __getitem__(self, idx):\n",
    "        image_src = self.images_dir + self.df.iloc[idx]['image_id'] + '.jpg'\n",
    "        image = cv2.imread(image_src, cv2.IMREAD_COLOR)\n",
    "        image = cv2.cvtColor(image, cv2.COLOR_BGR2RGB)\n",
    "        labels = self.df.iloc[idx][self.class_names].values.astype(np.int8)\n",
    "        label = torch.argmax(torch.from_numpy(labels))\n",
    "        \n",
    "        if self.transforms:\n",
    "            transformed = self.transforms(image=image)\n",
    "            image = transformed['image']\n",
    "\n",
    "        return image, label"
   ]
  },
  {
   "cell_type": "code",
   "execution_count": 5,
   "metadata": {},
   "outputs": [],
   "source": [
    "def pre_transforms(image_size=224):\n",
    "    # Convert the image to a square of size image_size x image_size\n",
    "    # (keeping aspect ratio)\n",
    "    result = [\n",
    "        A.LongestMaxSize(max_size=image_size),\n",
    "        A.PadIfNeeded(image_size, image_size, border_mode=0)\n",
    "    ]\n",
    "    \n",
    "    return result\n",
    "\n",
    "def hard_transforms():\n",
    "    result = [\n",
    "        # Random shifts, stretches and turns with a 50% probability\n",
    "#         A.RandomResizedCrop(height=config.size, width=config.size, p=1.0),\n",
    "        A.OneOf([\n",
    "            A.Rotate(limit=90, p=1),\n",
    "            A.HorizontalFlip(p=1),\n",
    "            A.VerticalFlip(p=1),\n",
    "            A.OpticalDistortion(p=1),\n",
    "            A.ShiftScaleRotate(rotate_limit=90, shift_limit=0.2, scale_limit=0.1, p=1)\n",
    "        ], p=0.8),\n",
    "        \n",
    "        # Pixels\n",
    "        A.OneOf([\n",
    "            A.IAAEmboss(p=1.0),\n",
    "            A.IAASharpen(p=1.0),\n",
    "            A.Blur(p=1.0),\n",
    "        ], p=0.5),\n",
    "\n",
    "        # Affine\n",
    "        A.OneOf([\n",
    "            A.RandomContrast(limit=0.2, p=1),\n",
    "            A.ElasticTransform(p=1),\n",
    "            A.IAAPiecewiseAffine(p=1)\n",
    "        ], p=0.5),\n",
    "    ]\n",
    "    \n",
    "    return result\n",
    "\n",
    "def post_transforms():\n",
    "    # we use ImageNet image normalization\n",
    "    # and convert it to torch.Tensor\n",
    "    return [A.Normalize(p=1.0), ToTensorV2(p=1.0),]\n",
    "\n",
    "def compose(transforms_to_compose):\n",
    "    # combine all augmentations into one single pipeline\n",
    "    result = A.Compose([item for sublist in transforms_to_compose for item in sublist])\n",
    "    return result"
   ]
  },
  {
   "cell_type": "code",
   "execution_count": 6,
   "metadata": {},
   "outputs": [],
   "source": [
    "train_df = pd.read_csv(config.root + 'train.csv')\n",
    "train, valid = train_test_split(train_df, test_size=0.2, random_state=config.seed, shuffle=True, stratify=train_df[config.class_names])\n",
    "\n",
    "train_transforms = compose([\n",
    "    pre_transforms(config.size),\n",
    "    hard_transforms(), \n",
    "    post_transforms()\n",
    "])\n",
    "valid_transforms = compose([\n",
    "    pre_transforms(config.size), \n",
    "    post_transforms()\n",
    "])\n",
    "\n",
    "show_transforms = compose([\n",
    "    pre_transforms(config.size),\n",
    "    hard_transforms()\n",
    "])\n",
    "\n",
    "train_dataset = PlantDataset(train, config, train_transforms)\n",
    "valid_dataset = PlantDataset(valid, config, valid_transforms)\n",
    "\n",
    "train_dataloader = DataLoader(train_dataset, batch_size=config.batch_size, shuffle=True, num_workers=config.num_workers)\n",
    "valid_dataloader = DataLoader(valid_dataset, batch_size=config.batch_size, shuffle=False, num_workers=config.num_workers)"
   ]
  },
  {
   "cell_type": "code",
   "execution_count": 7,
   "metadata": {},
   "outputs": [
    {
     "name": "stdout",
     "output_type": "stream",
     "text": [
      "Loaded pretrained weights for efficientnet-b4\n"
     ]
    }
   ],
   "source": [
    "def get_model(model_name: str, num_classes: int, pretrained: str = \"imagenet\") -> EfficientNet:\n",
    "    model = EfficientNet.from_pretrained(model_name)\n",
    "    for param in model.parameters():\n",
    "        param.requires_grad = False\n",
    "    num_ftrs = model._fc.in_features\n",
    "    model._fc = nn.Sequential(nn.Linear(num_ftrs, num_classes, bias = True))\n",
    "    return model\n",
    "\n",
    "model = get_model(config.model_name, config.num_classes)"
   ]
  },
  {
   "cell_type": "code",
   "execution_count": 8,
   "metadata": {},
   "outputs": [],
   "source": [
    "criterion = LabelSmoothingCrossEntropy()\n",
    "optimizer = AdamW(model.parameters(), lr=config.lr, weight_decay=1e-3)\n",
    "\n",
    "num_train_steps = int(len(train_dataset) / config.batch_size * config.num_epochs)\n",
    "scheduler = get_cosine_schedule_with_warmup(optimizer, num_warmup_steps=len(train_dataset)/config.batch_size*5, num_training_steps=num_train_steps)"
   ]
  },
  {
   "cell_type": "code",
   "execution_count": 9,
   "metadata": {},
   "outputs": [],
   "source": [
    "class Trainer:\n",
    "    def __init__(self, model, train_dataloader: DataLoader, valid_dataloader: DataLoader, criterion, optimizer, scheduler, device, config: ConfigExperiment):\n",
    "        self.model = model\n",
    "        self.train_dataloader = train_dataloader\n",
    "        self.valid_dataloader = valid_dataloader\n",
    "        self.criterion = criterion\n",
    "        self.optimizer = optimizer\n",
    "        self.scheduler = scheduler\n",
    "        self.device = device\n",
    "        self.config = config\n",
    "        self.train_metrics = {\n",
    "            'avg_loss': [],\n",
    "            'auc/_mean': [],\n",
    "            'auc/healthy': [],\n",
    "            'auc/multiple_diseases': [],\n",
    "            'auc/rust': [],\n",
    "            'auc/scab': [],\n",
    "        }\n",
    "        self.valid_metrics = {\n",
    "            'avg_loss': [],\n",
    "            'auc/_mean': [],\n",
    "            'auc/healthy': [],\n",
    "            'auc/multiple_diseases': [],\n",
    "            'auc/rust': [],\n",
    "            'auc/scab': [],\n",
    "        }\n",
    "        self.counter = 0\n",
    "        self.delta = config.early_stopping_delta\n",
    "      \n",
    "    def run(self):\n",
    "        self.model.to(device)\n",
    "        best_valid_loss = float('inf')\n",
    "        best_valid_auc_mean = 0\n",
    "\n",
    "        try:\n",
    "            for i_epoch in tqdm(range(self.config.num_epochs), desc='Epochs', total=config.num_epochs, position=1, leave=True):\n",
    "                start_time = time.time()\n",
    "\n",
    "                train_loss, train_outputs, train_targets = self._train()\n",
    "                valid_loss, valid_outputs, valid_targets = self._evaluate()\n",
    "                    \n",
    "                self.train_metrics[\"avg_loss\"].append(train_loss)\n",
    "                self.train_metrics[\"auc/_mean\"].append(self.comp_metric(train_outputs, train_targets))\n",
    "                self.train_metrics[\"auc/healthy\"].append(self.healthy_roc_auc(train_outputs, train_targets))\n",
    "                self.train_metrics[\"auc/multiple_diseases\"].append(self.multiple_diseases_roc_auc(train_outputs, train_targets))\n",
    "                self.train_metrics[\"auc/rust\"].append(self.rust_roc_auc(train_outputs, train_targets))\n",
    "                self.train_metrics[\"auc/scab\"].append(self.scab_roc_auc(train_outputs, train_targets))\n",
    "                \n",
    "                self.valid_metrics[\"avg_loss\"].append(valid_loss)\n",
    "                self.valid_metrics[\"auc/_mean\"].append(self.comp_metric(valid_outputs, valid_targets))\n",
    "                self.valid_metrics[\"auc/healthy\"].append(self.healthy_roc_auc(valid_outputs, valid_targets))\n",
    "                self.valid_metrics[\"auc/multiple_diseases\"].append(self.multiple_diseases_roc_auc(valid_outputs, valid_targets))\n",
    "                self.valid_metrics[\"auc/rust\"].append(self.rust_roc_auc(valid_outputs, valid_targets))\n",
    "                self.valid_metrics[\"auc/scab\"].append(self.scab_roc_auc(valid_outputs, valid_targets))\n",
    "                \n",
    "                end_time = time.time()\n",
    "                epoch_mins, epoch_secs = self._epoch_time(start_time, end_time)\n",
    "                self.print_progress(i_epoch, epoch_mins, epoch_secs)\n",
    "                \n",
    "                self.scheduler.step(self.valid_metrics[\"auc/_mean\"][-1])\n",
    "                \n",
    "                if valid_loss < best_valid_loss:\n",
    "                    self.counter = 0\n",
    "                    best_valid_loss = valid_loss\n",
    "                    torch.save(model.state_dict(), f\"{config.save_dirname}/best_model_epoch={i_epoch+1}_loss={best_valid_loss}.pth\")\n",
    "                else:\n",
    "                    self.counter += 1\n",
    "                    \n",
    "                if self.valid_metrics[\"auc/_mean\"][-1] > best_valid_auc_mean:\n",
    "                    best_valid_auc_mean = self.valid_metrics[\"auc/_mean\"][-1]\n",
    "                    torch.save(model.state_dict(), f\"{config.save_dirname}/best_model_epoch={i_epoch+1}_auc_mean={best_valid_auc_mean}.pth\")\n",
    "                    \n",
    "                if self.counter > self.config.patience:\n",
    "                    print(\"EarlyStopping\")\n",
    "                    break\n",
    "        except KeyboardInterrupt: \n",
    "            pass\n",
    "        \n",
    "        return self.train_metrics, self.valid_metrics\n",
    "        \n",
    "    def _train(self):\n",
    "        model.train()\n",
    "        epoch_loss = 0\n",
    "        epoch_output = None\n",
    "        epoch_target = None\n",
    "        for i, (images, labels) in tqdm(enumerate(self.train_dataloader), desc='Train', total=len(self.train_dataloader), position=2, leave=True):\n",
    "            loss_iten, outputs = self._train_process(images, labels)\n",
    "            epoch_loss += loss_iten              \n",
    "\n",
    "            if epoch_output is None:\n",
    "                epoch_output = outputs.cpu().data\n",
    "            else:\n",
    "                epoch_output = torch.cat((epoch_output, outputs.cpu().data))\n",
    "\n",
    "            if epoch_target is None:\n",
    "                epoch_target = labels.cpu().data\n",
    "            else:\n",
    "                epoch_target = torch.cat((epoch_target, labels.cpu().data))\n",
    "            \n",
    "        return epoch_loss / len(self.train_dataloader), epoch_output, epoch_target\n",
    "    \n",
    "    def _train_process(self, images, labels):\n",
    "        images = images.to(self.device)\n",
    "        labels = labels.to(self.device)\n",
    "        self.optimizer.zero_grad()\n",
    "        outputs = self.model(images)\n",
    "        loss = self.criterion(outputs, labels)\n",
    "        loss.backward()\n",
    "        self.optimizer.step()\n",
    "        return loss.item(), outputs\n",
    "            \n",
    "    def _evaluate(self):\n",
    "        model.eval()\n",
    "        epoch_loss = 0\n",
    "        epoch_output = None\n",
    "        epoch_target = None\n",
    "        with torch.no_grad():\n",
    "            for i, (images, labels) in enumerate(self.valid_dataloader):\n",
    "                images = images.to(device)\n",
    "                labels = labels.to(device)\n",
    "                outputs = model(images)\n",
    "                loss = criterion(outputs, labels)\n",
    "                epoch_loss += loss.item()\n",
    "                \n",
    "                if epoch_output is None:\n",
    "                    epoch_output = outputs.cpu().data\n",
    "                else:\n",
    "                    epoch_output = torch.cat((epoch_output, outputs.cpu().data))\n",
    "\n",
    "                if epoch_target is None:\n",
    "                    epoch_target = labels.cpu().data\n",
    "                else:\n",
    "                    epoch_target = torch.cat((epoch_target, labels.cpu().data))\n",
    "\n",
    "        return epoch_loss / len(self.valid_dataloader), epoch_output, epoch_target\n",
    "    \n",
    "#     def _evaluate_tta(self):\n",
    "#         n_samples = len(dataset)\n",
    "#         y_probas_tta = np.zeros((n_samples, config.num_classes, tta_count), dtype=np.float32)\n",
    "\n",
    "#         model.eval()\n",
    "#         model.to(device)\n",
    "#         with torch.no_grad():\n",
    "#             for i_epoch in tqdm(range(tta_count), desc='TTA', total=tta_count, position=1, leave=True):\n",
    "#                 for i, (images, idx) in enumerate(dataloader):\n",
    "#                     images = images.to(device)\n",
    "#                     outputs = model(images)\n",
    "#                     y_pred = F.softmax(outputs, dim=1)\n",
    "\n",
    "#                     tta_index = i_epoch - 1\n",
    "#                     start_index = (i % len(dataloader)) * config.batch_size\n",
    "#                     end_index = min(start_index + config.batch_size, n_samples)\n",
    "#                     batch_y_probas = y_pred.detach().cpu().numpy()                \n",
    "#                     y_probas_tta[start_index:end_index, :, tta_index] = batch_y_probas\n",
    "\n",
    "#         return y_probas_tta\n",
    "\n",
    "#     def show_history(self):\n",
    "#         fig, ax = plt.subplots(nrows=1, ncols=2, figsize=(12, 8))\n",
    "#         clear_output(True)\n",
    "#         ax[0].plot(history, label='train loss')\n",
    "#         ax[0].set_xlabel('Batch')\n",
    "#         ax[0].set_title('Train loss')\n",
    "#         if train_history is not None:\n",
    "#             ax[1].plot(train_history, label='general train history')\n",
    "#             ax[1].set_xlabel('Epoch')\n",
    "#         if valid_history is not None:\n",
    "#             ax[1].plot(valid_history, label='general valid history')\n",
    "#         plt.legend()\n",
    "#         plt.show()\n",
    "\n",
    "    \n",
    "    def _epoch_time(self, start_time, end_time):\n",
    "        elapsed_time = end_time - start_time\n",
    "        elapsed_mins = int(elapsed_time / 60)\n",
    "        elapsed_secs = int(elapsed_time - (elapsed_mins * 60))\n",
    "        return elapsed_mins, elapsed_secs\n",
    "\n",
    "    def print_progress(self, i_epoch, epoch_mins, epoch_secs):\n",
    "        i_epoch = i_epoch + 1\n",
    "        print(f\"Epoch: {i_epoch:02} | Time: {epoch_mins}m {epoch_secs}s\")\n",
    "        print(\"Training Results - Average Loss: {:.4f} | auc/_mean: {:.4f} | auc/healthy: {:.4f} | auc/multiple_diseases: {:.4f}, auc/rust: {:.4f}, auc/scab: {:.4f}\"\n",
    "            .format(\n",
    "                self.train_metrics['avg_loss'][-1], \n",
    "                self.train_metrics['auc/_mean'][-1],\n",
    "                self.train_metrics['auc/healthy'][-1],\n",
    "                self.train_metrics['auc/multiple_diseases'][-1],\n",
    "                self.train_metrics['auc/rust'][-1],\n",
    "                self.train_metrics['auc/scab'][-1],\n",
    "            ))\n",
    "        print(\"Evaluating Results - Average Loss: {:.4f} | auc/_mean: {:.4f} | auc/healthy: {:.4f} | auc/multiple_diseases: {:.4f}, auc/rust: {:.4f}, auc/scab: {:.4f}\"\n",
    "            .format( \n",
    "                self.valid_metrics['avg_loss'][-1], \n",
    "                self.valid_metrics['auc/_mean'][-1],\n",
    "                self.valid_metrics['auc/healthy'][-1],\n",
    "                self.valid_metrics['auc/multiple_diseases'][-1],\n",
    "                self.valid_metrics['auc/rust'][-1],\n",
    "                self.valid_metrics['auc/scab'][-1],\n",
    "            ))\n",
    "        print()\n",
    "        \n",
    "    def comp_metric(self, preds, targs, labels=range(4)):\n",
    "        preds = torch.sigmoid(preds)\n",
    "        targs = torch.eye(4)[targs]\n",
    "        return np.mean([roc_auc_score(targs[:,i], preds[:,i]) for i in labels])\n",
    "\n",
    "    def healthy_roc_auc(self, *args):\n",
    "        return self.comp_metric(*args, labels=[0])\n",
    "\n",
    "    def multiple_diseases_roc_auc(self, *args):\n",
    "        return self.comp_metric(*args, labels=[1])\n",
    "\n",
    "    def rust_roc_auc(self, *args):\n",
    "        return self.comp_metric(*args, labels=[2])\n",
    "\n",
    "    def scab_roc_auc(self, *args):\n",
    "        return self.comp_metric(*args, labels=[3])\n",
    "\n"
   ]
  },
  {
   "cell_type": "code",
   "execution_count": 10,
   "metadata": {
    "collapsed": true,
    "jupyter": {
     "outputs_hidden": true
    }
   },
   "outputs": [
    {
     "data": {
      "application/vnd.jupyter.widget-view+json": {
       "model_id": "23384b8b6d2542839fa13b825d080313",
       "version_major": 2,
       "version_minor": 0
      },
      "text/plain": [
       "HBox(children=(FloatProgress(value=0.0, description='Epochs', max=200.0, style=ProgressStyle(description_width…"
      ]
     },
     "metadata": {},
     "output_type": "display_data"
    },
    {
     "data": {
      "application/vnd.jupyter.widget-view+json": {
       "model_id": "8098422f3a2a4d1bb5c81ebd516c2405",
       "version_major": 2,
       "version_minor": 0
      },
      "text/plain": [
       "HBox(children=(FloatProgress(value=0.0, description='Train', max=91.0, style=ProgressStyle(description_width='…"
      ]
     },
     "metadata": {},
     "output_type": "display_data"
    },
    {
     "name": "stdout",
     "output_type": "stream",
     "text": [
      "\n",
      "Epoch: 01 | Time: 0m 35s\n",
      "Training Results - Average Loss: 1.3792 | auc/_mean: 0.5021 | auc/healthy: 0.4901 | auc/multiple_diseases: 0.5031, auc/rust: 0.4832, auc/scab: 0.5320\n",
      "Evaluating Results - Average Loss: 1.3789 | auc/_mean: 0.4951 | auc/healthy: 0.5613 | auc/multiple_diseases: 0.4832, auc/rust: 0.3222, auc/scab: 0.6136\n",
      "\n"
     ]
    },
    {
     "data": {
      "application/vnd.jupyter.widget-view+json": {
       "model_id": "0ef52fdb6cd446c0a0daf723544a9399",
       "version_major": 2,
       "version_minor": 0
      },
      "text/plain": [
       "HBox(children=(FloatProgress(value=0.0, description='Train', max=91.0, style=ProgressStyle(description_width='…"
      ]
     },
     "metadata": {},
     "output_type": "display_data"
    },
    {
     "name": "stdout",
     "output_type": "stream",
     "text": [
      "\n",
      "Epoch: 02 | Time: 0m 36s\n",
      "Training Results - Average Loss: 1.3760 | auc/_mean: 0.5157 | auc/healthy: 0.4935 | auc/multiple_diseases: 0.5647, auc/rust: 0.4620, auc/scab: 0.5427\n",
      "Evaluating Results - Average Loss: 1.3586 | auc/_mean: 0.5548 | auc/healthy: 0.5622 | auc/multiple_diseases: 0.5770, auc/rust: 0.3982, auc/scab: 0.6817\n",
      "\n"
     ]
    },
    {
     "data": {
      "application/vnd.jupyter.widget-view+json": {
       "model_id": "bb78c45763ae4e388bf060892bcd2374",
       "version_major": 2,
       "version_minor": 0
      },
      "text/plain": [
       "HBox(children=(FloatProgress(value=0.0, description='Train', max=91.0, style=ProgressStyle(description_width='…"
      ]
     },
     "metadata": {},
     "output_type": "display_data"
    },
    {
     "name": "stdout",
     "output_type": "stream",
     "text": [
      "\n",
      "Epoch: 03 | Time: 0m 35s\n",
      "Training Results - Average Loss: 1.3725 | auc/_mean: 0.5169 | auc/healthy: 0.4783 | auc/multiple_diseases: 0.5885, auc/rust: 0.4543, auc/scab: 0.5467\n",
      "Evaluating Results - Average Loss: 1.3556 | auc/_mean: 0.5417 | auc/healthy: 0.5330 | auc/multiple_diseases: 0.5749, auc/rust: 0.4295, auc/scab: 0.6296\n",
      "\n"
     ]
    },
    {
     "data": {
      "application/vnd.jupyter.widget-view+json": {
       "model_id": "e84a617483a34f51b390f2180aa954ec",
       "version_major": 2,
       "version_minor": 0
      },
      "text/plain": [
       "HBox(children=(FloatProgress(value=0.0, description='Train', max=91.0, style=ProgressStyle(description_width='…"
      ]
     },
     "metadata": {},
     "output_type": "display_data"
    },
    {
     "name": "stdout",
     "output_type": "stream",
     "text": [
      "\n",
      "Epoch: 04 | Time: 0m 35s\n",
      "Training Results - Average Loss: 1.3656 | auc/_mean: 0.5186 | auc/healthy: 0.5290 | auc/multiple_diseases: 0.5506, auc/rust: 0.4558, auc/scab: 0.5390\n",
      "Evaluating Results - Average Loss: 1.3527 | auc/_mean: 0.5444 | auc/healthy: 0.5340 | auc/multiple_diseases: 0.5812, auc/rust: 0.4453, auc/scab: 0.6170\n",
      "\n"
     ]
    },
    {
     "data": {
      "application/vnd.jupyter.widget-view+json": {
       "model_id": "d32bc64988eb4e8a9ea2ef74235dd668",
       "version_major": 2,
       "version_minor": 0
      },
      "text/plain": [
       "HBox(children=(FloatProgress(value=0.0, description='Train', max=91.0, style=ProgressStyle(description_width='…"
      ]
     },
     "metadata": {},
     "output_type": "display_data"
    },
    {
     "name": "stdout",
     "output_type": "stream",
     "text": [
      "\n",
      "Epoch: 05 | Time: 0m 35s\n",
      "Training Results - Average Loss: 1.3588 | auc/_mean: 0.5192 | auc/healthy: 0.5101 | auc/multiple_diseases: 0.5201, auc/rust: 0.4831, auc/scab: 0.5634\n",
      "Evaluating Results - Average Loss: 1.3475 | auc/_mean: 0.5546 | auc/healthy: 0.5443 | auc/multiple_diseases: 0.5909, auc/rust: 0.4604, auc/scab: 0.6229\n",
      "\n"
     ]
    },
    {
     "data": {
      "application/vnd.jupyter.widget-view+json": {
       "model_id": "12a1437146e243399a4b53cef24297ee",
       "version_major": 2,
       "version_minor": 0
      },
      "text/plain": [
       "HBox(children=(FloatProgress(value=0.0, description='Train', max=91.0, style=ProgressStyle(description_width='…"
      ]
     },
     "metadata": {},
     "output_type": "display_data"
    },
    {
     "name": "stdout",
     "output_type": "stream",
     "text": [
      "\n",
      "Epoch: 06 | Time: 0m 34s\n",
      "Training Results - Average Loss: 1.3512 | auc/_mean: 0.5317 | auc/healthy: 0.5210 | auc/multiple_diseases: 0.5489, auc/rust: 0.4782, auc/scab: 0.5786\n",
      "Evaluating Results - Average Loss: 1.3412 | auc/_mean: 0.5663 | auc/healthy: 0.5514 | auc/multiple_diseases: 0.6028, auc/rust: 0.4804, auc/scab: 0.6304\n",
      "\n"
     ]
    },
    {
     "data": {
      "application/vnd.jupyter.widget-view+json": {
       "model_id": "b81bbe6bee7c409cbfb214374f73e9a1",
       "version_major": 2,
       "version_minor": 0
      },
      "text/plain": [
       "HBox(children=(FloatProgress(value=0.0, description='Train', max=91.0, style=ProgressStyle(description_width='…"
      ]
     },
     "metadata": {},
     "output_type": "display_data"
    },
    {
     "name": "stdout",
     "output_type": "stream",
     "text": [
      "\n",
      "Epoch: 07 | Time: 0m 35s\n",
      "Training Results - Average Loss: 1.3487 | auc/_mean: 0.5299 | auc/healthy: 0.5106 | auc/multiple_diseases: 0.5338, auc/rust: 0.5071, auc/scab: 0.5680\n",
      "Evaluating Results - Average Loss: 1.3340 | auc/_mean: 0.5780 | auc/healthy: 0.5601 | auc/multiple_diseases: 0.6140, auc/rust: 0.4957, auc/scab: 0.6420\n",
      "\n"
     ]
    },
    {
     "data": {
      "application/vnd.jupyter.widget-view+json": {
       "model_id": "124ccaa2a06a4c21ad31dde8f6522f07",
       "version_major": 2,
       "version_minor": 0
      },
      "text/plain": [
       "HBox(children=(FloatProgress(value=0.0, description='Train', max=91.0, style=ProgressStyle(description_width='…"
      ]
     },
     "metadata": {},
     "output_type": "display_data"
    },
    {
     "name": "stdout",
     "output_type": "stream",
     "text": [
      "\n",
      "Epoch: 08 | Time: 0m 36s\n",
      "Training Results - Average Loss: 1.3410 | auc/_mean: 0.5465 | auc/healthy: 0.5416 | auc/multiple_diseases: 0.5802, auc/rust: 0.5136, auc/scab: 0.5504\n",
      "Evaluating Results - Average Loss: 1.3280 | auc/_mean: 0.5897 | auc/healthy: 0.5721 | auc/multiple_diseases: 0.6223, auc/rust: 0.5090, auc/scab: 0.6554\n",
      "\n"
     ]
    },
    {
     "data": {
      "application/vnd.jupyter.widget-view+json": {
       "model_id": "a4510b817021424a98eb6006005b5469",
       "version_major": 2,
       "version_minor": 0
      },
      "text/plain": [
       "HBox(children=(FloatProgress(value=0.0, description='Train', max=91.0, style=ProgressStyle(description_width='…"
      ]
     },
     "metadata": {},
     "output_type": "display_data"
    },
    {
     "name": "stdout",
     "output_type": "stream",
     "text": [
      "\n",
      "Epoch: 09 | Time: 0m 35s\n",
      "Training Results - Average Loss: 1.3355 | auc/_mean: 0.5477 | auc/healthy: 0.5721 | auc/multiple_diseases: 0.5531, auc/rust: 0.5085, auc/scab: 0.5573\n",
      "Evaluating Results - Average Loss: 1.3227 | auc/_mean: 0.6004 | auc/healthy: 0.5819 | auc/multiple_diseases: 0.6279, auc/rust: 0.5232, auc/scab: 0.6687\n",
      "\n"
     ]
    },
    {
     "data": {
      "application/vnd.jupyter.widget-view+json": {
       "model_id": "4b00f076a53848278168dd6104ad514d",
       "version_major": 2,
       "version_minor": 0
      },
      "text/plain": [
       "HBox(children=(FloatProgress(value=0.0, description='Train', max=91.0, style=ProgressStyle(description_width='…"
      ]
     },
     "metadata": {},
     "output_type": "display_data"
    },
    {
     "name": "stdout",
     "output_type": "stream",
     "text": [
      "\n",
      "Epoch: 10 | Time: 0m 36s\n",
      "Training Results - Average Loss: 1.3320 | auc/_mean: 0.5545 | auc/healthy: 0.5326 | auc/multiple_diseases: 0.5816, auc/rust: 0.5095, auc/scab: 0.5941\n",
      "Evaluating Results - Average Loss: 1.3162 | auc/_mean: 0.6140 | auc/healthy: 0.5921 | auc/multiple_diseases: 0.6351, auc/rust: 0.5454, auc/scab: 0.6834\n",
      "\n"
     ]
    },
    {
     "data": {
      "application/vnd.jupyter.widget-view+json": {
       "model_id": "107350703c924fcca43e73184d09c7c6",
       "version_major": 2,
       "version_minor": 0
      },
      "text/plain": [
       "HBox(children=(FloatProgress(value=0.0, description='Train', max=91.0, style=ProgressStyle(description_width='…"
      ]
     },
     "metadata": {},
     "output_type": "display_data"
    },
    {
     "name": "stdout",
     "output_type": "stream",
     "text": [
      "\n",
      "Epoch: 11 | Time: 0m 35s\n",
      "Training Results - Average Loss: 1.3270 | auc/_mean: 0.5527 | auc/healthy: 0.5587 | auc/multiple_diseases: 0.5165, auc/rust: 0.5224, auc/scab: 0.6133\n",
      "Evaluating Results - Average Loss: 1.3101 | auc/_mean: 0.6257 | auc/healthy: 0.6047 | auc/multiple_diseases: 0.6407, auc/rust: 0.5625, auc/scab: 0.6948\n",
      "\n"
     ]
    },
    {
     "data": {
      "application/vnd.jupyter.widget-view+json": {
       "model_id": "db541576747f4b1d835082e9bbdcc702",
       "version_major": 2,
       "version_minor": 0
      },
      "text/plain": [
       "HBox(children=(FloatProgress(value=0.0, description='Train', max=91.0, style=ProgressStyle(description_width='…"
      ]
     },
     "metadata": {},
     "output_type": "display_data"
    },
    {
     "name": "stdout",
     "output_type": "stream",
     "text": [
      "\n",
      "Epoch: 12 | Time: 0m 35s\n",
      "Training Results - Average Loss: 1.3223 | auc/_mean: 0.5508 | auc/healthy: 0.5647 | auc/multiple_diseases: 0.5049, auc/rust: 0.5578, auc/scab: 0.5757\n",
      "Evaluating Results - Average Loss: 1.3030 | auc/_mean: 0.6371 | auc/healthy: 0.6133 | auc/multiple_diseases: 0.6462, auc/rust: 0.5808, auc/scab: 0.7081\n",
      "\n"
     ]
    },
    {
     "data": {
      "application/vnd.jupyter.widget-view+json": {
       "model_id": "484363ab620d46028299bf2e61280baf",
       "version_major": 2,
       "version_minor": 0
      },
      "text/plain": [
       "HBox(children=(FloatProgress(value=0.0, description='Train', max=91.0, style=ProgressStyle(description_width='…"
      ]
     },
     "metadata": {},
     "output_type": "display_data"
    },
    {
     "name": "stdout",
     "output_type": "stream",
     "text": [
      "\n",
      "Epoch: 13 | Time: 0m 35s\n",
      "Training Results - Average Loss: 1.3150 | auc/_mean: 0.5603 | auc/healthy: 0.5547 | auc/multiple_diseases: 0.4930, auc/rust: 0.5385, auc/scab: 0.6549\n",
      "Evaluating Results - Average Loss: 1.2978 | auc/_mean: 0.6464 | auc/healthy: 0.6249 | auc/multiple_diseases: 0.6463, auc/rust: 0.5956, auc/scab: 0.7188\n",
      "\n"
     ]
    },
    {
     "data": {
      "application/vnd.jupyter.widget-view+json": {
       "model_id": "54b1be60b6f8447c8a6b4134df6e0832",
       "version_major": 2,
       "version_minor": 0
      },
      "text/plain": [
       "HBox(children=(FloatProgress(value=0.0, description='Train', max=91.0, style=ProgressStyle(description_width='…"
      ]
     },
     "metadata": {},
     "output_type": "display_data"
    },
    {
     "name": "stdout",
     "output_type": "stream",
     "text": [
      "\n",
      "Epoch: 14 | Time: 0m 35s\n",
      "Training Results - Average Loss: 1.3140 | auc/_mean: 0.5645 | auc/healthy: 0.5781 | auc/multiple_diseases: 0.5497, auc/rust: 0.5531, auc/scab: 0.5771\n",
      "Evaluating Results - Average Loss: 1.2924 | auc/_mean: 0.6585 | auc/healthy: 0.6353 | auc/multiple_diseases: 0.6508, auc/rust: 0.6130, auc/scab: 0.7347\n",
      "\n"
     ]
    },
    {
     "data": {
      "application/vnd.jupyter.widget-view+json": {
       "model_id": "937294e905a44d92a35a292ef247b07a",
       "version_major": 2,
       "version_minor": 0
      },
      "text/plain": [
       "HBox(children=(FloatProgress(value=0.0, description='Train', max=91.0, style=ProgressStyle(description_width='…"
      ]
     },
     "metadata": {},
     "output_type": "display_data"
    },
    {
     "name": "stdout",
     "output_type": "stream",
     "text": [
      "\n",
      "Epoch: 15 | Time: 0m 35s\n",
      "Training Results - Average Loss: 1.3062 | auc/_mean: 0.5770 | auc/healthy: 0.5641 | auc/multiple_diseases: 0.5331, auc/rust: 0.5601, auc/scab: 0.6508\n",
      "Evaluating Results - Average Loss: 1.2873 | auc/_mean: 0.6692 | auc/healthy: 0.6447 | auc/multiple_diseases: 0.6585, auc/rust: 0.6290, auc/scab: 0.7446\n",
      "\n"
     ]
    },
    {
     "data": {
      "application/vnd.jupyter.widget-view+json": {
       "model_id": "88d3eddfb60a46bbbdabbdc8b947d3d6",
       "version_major": 2,
       "version_minor": 0
      },
      "text/plain": [
       "HBox(children=(FloatProgress(value=0.0, description='Train', max=91.0, style=ProgressStyle(description_width='…"
      ]
     },
     "metadata": {},
     "output_type": "display_data"
    },
    {
     "name": "stdout",
     "output_type": "stream",
     "text": [
      "\n",
      "Epoch: 16 | Time: 0m 35s\n",
      "Training Results - Average Loss: 1.3005 | auc/_mean: 0.5932 | auc/healthy: 0.5847 | auc/multiple_diseases: 0.5786, auc/rust: 0.5759, auc/scab: 0.6336\n",
      "Evaluating Results - Average Loss: 1.2814 | auc/_mean: 0.6798 | auc/healthy: 0.6563 | auc/multiple_diseases: 0.6638, auc/rust: 0.6438, auc/scab: 0.7551\n",
      "\n"
     ]
    },
    {
     "data": {
      "application/vnd.jupyter.widget-view+json": {
       "model_id": "daa8f0cdd9964f4a974a2101c0516fcf",
       "version_major": 2,
       "version_minor": 0
      },
      "text/plain": [
       "HBox(children=(FloatProgress(value=0.0, description='Train', max=91.0, style=ProgressStyle(description_width='…"
      ]
     },
     "metadata": {},
     "output_type": "display_data"
    },
    {
     "name": "stdout",
     "output_type": "stream",
     "text": [
      "\n",
      "Epoch: 17 | Time: 0m 35s\n",
      "Training Results - Average Loss: 1.2984 | auc/_mean: 0.5739 | auc/healthy: 0.6066 | auc/multiple_diseases: 0.4552, auc/rust: 0.5836, auc/scab: 0.6501\n",
      "Evaluating Results - Average Loss: 1.2755 | auc/_mean: 0.6891 | auc/healthy: 0.6665 | auc/multiple_diseases: 0.6627, auc/rust: 0.6590, auc/scab: 0.7682\n",
      "\n"
     ]
    },
    {
     "data": {
      "application/vnd.jupyter.widget-view+json": {
       "model_id": "8efb1b7cb7ea4c768bc67701e2b42316",
       "version_major": 2,
       "version_minor": 0
      },
      "text/plain": [
       "HBox(children=(FloatProgress(value=0.0, description='Train', max=91.0, style=ProgressStyle(description_width='…"
      ]
     },
     "metadata": {},
     "output_type": "display_data"
    },
    {
     "name": "stdout",
     "output_type": "stream",
     "text": [
      "\n",
      "Epoch: 18 | Time: 0m 35s\n",
      "Training Results - Average Loss: 1.2940 | auc/_mean: 0.5949 | auc/healthy: 0.6042 | auc/multiple_diseases: 0.5438, auc/rust: 0.5845, auc/scab: 0.6471\n",
      "Evaluating Results - Average Loss: 1.2696 | auc/_mean: 0.6974 | auc/healthy: 0.6750 | auc/multiple_diseases: 0.6654, auc/rust: 0.6722, auc/scab: 0.7768\n",
      "\n"
     ]
    },
    {
     "data": {
      "application/vnd.jupyter.widget-view+json": {
       "model_id": "021ff7afee714a7ebe2cc3981390f6ac",
       "version_major": 2,
       "version_minor": 0
      },
      "text/plain": [
       "HBox(children=(FloatProgress(value=0.0, description='Train', max=91.0, style=ProgressStyle(description_width='…"
      ]
     },
     "metadata": {},
     "output_type": "display_data"
    },
    {
     "name": "stdout",
     "output_type": "stream",
     "text": [
      "\n",
      "Epoch: 19 | Time: 0m 35s\n",
      "Training Results - Average Loss: 1.2863 | auc/_mean: 0.5987 | auc/healthy: 0.6010 | auc/multiple_diseases: 0.5235, auc/rust: 0.5973, auc/scab: 0.6731\n",
      "Evaluating Results - Average Loss: 1.2639 | auc/_mean: 0.7048 | auc/healthy: 0.6858 | auc/multiple_diseases: 0.6627, auc/rust: 0.6861, auc/scab: 0.7846\n",
      "\n"
     ]
    },
    {
     "data": {
      "application/vnd.jupyter.widget-view+json": {
       "model_id": "caa83ff83f6442e1bec327df7dfa674a",
       "version_major": 2,
       "version_minor": 0
      },
      "text/plain": [
       "HBox(children=(FloatProgress(value=0.0, description='Train', max=91.0, style=ProgressStyle(description_width='…"
      ]
     },
     "metadata": {},
     "output_type": "display_data"
    },
    {
     "name": "stdout",
     "output_type": "stream",
     "text": [
      "\n",
      "Epoch: 20 | Time: 0m 35s\n",
      "Training Results - Average Loss: 1.2805 | auc/_mean: 0.6097 | auc/healthy: 0.6309 | auc/multiple_diseases: 0.5328, auc/rust: 0.6079, auc/scab: 0.6671\n",
      "Evaluating Results - Average Loss: 1.2589 | auc/_mean: 0.7119 | auc/healthy: 0.6953 | auc/multiple_diseases: 0.6595, auc/rust: 0.6959, auc/scab: 0.7970\n",
      "\n"
     ]
    },
    {
     "data": {
      "application/vnd.jupyter.widget-view+json": {
       "model_id": "06c08f2ffccd43fdb21a23e90ad9c254",
       "version_major": 2,
       "version_minor": 0
      },
      "text/plain": [
       "HBox(children=(FloatProgress(value=0.0, description='Train', max=91.0, style=ProgressStyle(description_width='…"
      ]
     },
     "metadata": {},
     "output_type": "display_data"
    },
    {
     "name": "stdout",
     "output_type": "stream",
     "text": [
      "\n",
      "Epoch: 21 | Time: 0m 35s\n",
      "Training Results - Average Loss: 1.2783 | auc/_mean: 0.6235 | auc/healthy: 0.6175 | auc/multiple_diseases: 0.5779, auc/rust: 0.6296, auc/scab: 0.6690\n",
      "Evaluating Results - Average Loss: 1.2530 | auc/_mean: 0.7209 | auc/healthy: 0.7076 | auc/multiple_diseases: 0.6609, auc/rust: 0.7086, auc/scab: 0.8064\n",
      "\n"
     ]
    },
    {
     "data": {
      "application/vnd.jupyter.widget-view+json": {
       "model_id": "8fedcc3ecfbe4c1ea2ec06704d3a3d15",
       "version_major": 2,
       "version_minor": 0
      },
      "text/plain": [
       "HBox(children=(FloatProgress(value=0.0, description='Train', max=91.0, style=ProgressStyle(description_width='…"
      ]
     },
     "metadata": {},
     "output_type": "display_data"
    },
    {
     "name": "stdout",
     "output_type": "stream",
     "text": [
      "\n",
      "Epoch: 22 | Time: 0m 35s\n",
      "Training Results - Average Loss: 1.2728 | auc/_mean: 0.6240 | auc/healthy: 0.6184 | auc/multiple_diseases: 0.5653, auc/rust: 0.6380, auc/scab: 0.6742\n",
      "Evaluating Results - Average Loss: 1.2477 | auc/_mean: 0.7276 | auc/healthy: 0.7172 | auc/multiple_diseases: 0.6612, auc/rust: 0.7186, auc/scab: 0.8133\n",
      "\n"
     ]
    },
    {
     "data": {
      "application/vnd.jupyter.widget-view+json": {
       "model_id": "c231684cf5e047828987ab913134c5b7",
       "version_major": 2,
       "version_minor": 0
      },
      "text/plain": [
       "HBox(children=(FloatProgress(value=0.0, description='Train', max=91.0, style=ProgressStyle(description_width='…"
      ]
     },
     "metadata": {},
     "output_type": "display_data"
    },
    {
     "name": "stdout",
     "output_type": "stream",
     "text": [
      "\n",
      "Epoch: 23 | Time: 0m 35s\n",
      "Training Results - Average Loss: 1.2696 | auc/_mean: 0.6266 | auc/healthy: 0.6393 | auc/multiple_diseases: 0.5448, auc/rust: 0.6295, auc/scab: 0.6927\n",
      "Evaluating Results - Average Loss: 1.2429 | auc/_mean: 0.7338 | auc/healthy: 0.7237 | auc/multiple_diseases: 0.6601, auc/rust: 0.7304, auc/scab: 0.8209\n",
      "\n"
     ]
    },
    {
     "data": {
      "application/vnd.jupyter.widget-view+json": {
       "model_id": "184a1b31e87845d8a821bb1ff90fc282",
       "version_major": 2,
       "version_minor": 0
      },
      "text/plain": [
       "HBox(children=(FloatProgress(value=0.0, description='Train', max=91.0, style=ProgressStyle(description_width='…"
      ]
     },
     "metadata": {},
     "output_type": "display_data"
    },
    {
     "name": "stdout",
     "output_type": "stream",
     "text": [
      "\n",
      "Epoch: 24 | Time: 0m 35s\n",
      "Training Results - Average Loss: 1.2731 | auc/_mean: 0.6105 | auc/healthy: 0.6391 | auc/multiple_diseases: 0.5012, auc/rust: 0.6100, auc/scab: 0.6916\n",
      "Evaluating Results - Average Loss: 1.2383 | auc/_mean: 0.7403 | auc/healthy: 0.7310 | auc/multiple_diseases: 0.6579, auc/rust: 0.7421, auc/scab: 0.8304\n",
      "\n"
     ]
    },
    {
     "data": {
      "application/vnd.jupyter.widget-view+json": {
       "model_id": "85c5a3f789ce4a6fad277c368b420edf",
       "version_major": 2,
       "version_minor": 0
      },
      "text/plain": [
       "HBox(children=(FloatProgress(value=0.0, description='Train', max=91.0, style=ProgressStyle(description_width='…"
      ]
     },
     "metadata": {},
     "output_type": "display_data"
    },
    {
     "name": "stdout",
     "output_type": "stream",
     "text": [
      "\n",
      "Epoch: 25 | Time: 0m 35s\n",
      "Training Results - Average Loss: 1.2609 | auc/_mean: 0.6348 | auc/healthy: 0.6693 | auc/multiple_diseases: 0.5282, auc/rust: 0.6491, auc/scab: 0.6924\n",
      "Evaluating Results - Average Loss: 1.2327 | auc/_mean: 0.7496 | auc/healthy: 0.7394 | auc/multiple_diseases: 0.6644, auc/rust: 0.7561, auc/scab: 0.8384\n",
      "\n"
     ]
    },
    {
     "data": {
      "application/vnd.jupyter.widget-view+json": {
       "model_id": "868acfa62f684ffab174143f785f4cd2",
       "version_major": 2,
       "version_minor": 0
      },
      "text/plain": [
       "HBox(children=(FloatProgress(value=0.0, description='Train', max=91.0, style=ProgressStyle(description_width='…"
      ]
     },
     "metadata": {},
     "output_type": "display_data"
    },
    {
     "name": "stdout",
     "output_type": "stream",
     "text": [
      "\n",
      "Epoch: 26 | Time: 0m 35s\n",
      "Training Results - Average Loss: 1.2559 | auc/_mean: 0.6516 | auc/healthy: 0.6632 | auc/multiple_diseases: 0.5947, auc/rust: 0.6424, auc/scab: 0.7060\n",
      "Evaluating Results - Average Loss: 1.2288 | auc/_mean: 0.7544 | auc/healthy: 0.7475 | auc/multiple_diseases: 0.6563, auc/rust: 0.7691, auc/scab: 0.8447\n",
      "\n"
     ]
    },
    {
     "data": {
      "application/vnd.jupyter.widget-view+json": {
       "model_id": "bd9972fd054f4aac94c877c8caaf0359",
       "version_major": 2,
       "version_minor": 0
      },
      "text/plain": [
       "HBox(children=(FloatProgress(value=0.0, description='Train', max=91.0, style=ProgressStyle(description_width='…"
      ]
     },
     "metadata": {},
     "output_type": "display_data"
    },
    {
     "name": "stdout",
     "output_type": "stream",
     "text": [
      "\n",
      "Epoch: 27 | Time: 0m 35s\n",
      "Training Results - Average Loss: 1.2562 | auc/_mean: 0.6411 | auc/healthy: 0.6357 | auc/multiple_diseases: 0.5702, auc/rust: 0.6358, auc/scab: 0.7227\n",
      "Evaluating Results - Average Loss: 1.2213 | auc/_mean: 0.7624 | auc/healthy: 0.7532 | auc/multiple_diseases: 0.6617, auc/rust: 0.7824, auc/scab: 0.8523\n",
      "\n"
     ]
    },
    {
     "data": {
      "application/vnd.jupyter.widget-view+json": {
       "model_id": "f49374fc4a8e4da5b1e2132c91a764f6",
       "version_major": 2,
       "version_minor": 0
      },
      "text/plain": [
       "HBox(children=(FloatProgress(value=0.0, description='Train', max=91.0, style=ProgressStyle(description_width='…"
      ]
     },
     "metadata": {},
     "output_type": "display_data"
    },
    {
     "name": "stdout",
     "output_type": "stream",
     "text": [
      "\n",
      "Epoch: 28 | Time: 0m 34s\n",
      "Training Results - Average Loss: 1.2501 | auc/_mean: 0.6466 | auc/healthy: 0.6722 | auc/multiple_diseases: 0.5253, auc/rust: 0.6597, auc/scab: 0.7292\n",
      "Evaluating Results - Average Loss: 1.2173 | auc/_mean: 0.7650 | auc/healthy: 0.7614 | auc/multiple_diseases: 0.6542, auc/rust: 0.7876, auc/scab: 0.8567\n",
      "\n"
     ]
    },
    {
     "data": {
      "application/vnd.jupyter.widget-view+json": {
       "model_id": "dd7994747e964dd7829433f1ea07b82e",
       "version_major": 2,
       "version_minor": 0
      },
      "text/plain": [
       "HBox(children=(FloatProgress(value=0.0, description='Train', max=91.0, style=ProgressStyle(description_width='…"
      ]
     },
     "metadata": {},
     "output_type": "display_data"
    },
    {
     "name": "stdout",
     "output_type": "stream",
     "text": [
      "\n",
      "Epoch: 29 | Time: 0m 35s\n",
      "Training Results - Average Loss: 1.2464 | auc/_mean: 0.6601 | auc/healthy: 0.6592 | auc/multiple_diseases: 0.5954, auc/rust: 0.6588, auc/scab: 0.7270\n",
      "Evaluating Results - Average Loss: 1.2129 | auc/_mean: 0.7709 | auc/healthy: 0.7678 | auc/multiple_diseases: 0.6543, auc/rust: 0.7976, auc/scab: 0.8638\n",
      "\n"
     ]
    },
    {
     "data": {
      "application/vnd.jupyter.widget-view+json": {
       "model_id": "8e2ad451dd234db682f80d041212f990",
       "version_major": 2,
       "version_minor": 0
      },
      "text/plain": [
       "HBox(children=(FloatProgress(value=0.0, description='Train', max=91.0, style=ProgressStyle(description_width='…"
      ]
     },
     "metadata": {},
     "output_type": "display_data"
    },
    {
     "name": "stdout",
     "output_type": "stream",
     "text": [
      "\n",
      "Epoch: 30 | Time: 0m 35s\n",
      "Training Results - Average Loss: 1.2456 | auc/_mean: 0.6559 | auc/healthy: 0.6686 | auc/multiple_diseases: 0.5532, auc/rust: 0.6464, auc/scab: 0.7554\n",
      "Evaluating Results - Average Loss: 1.2081 | auc/_mean: 0.7753 | auc/healthy: 0.7766 | auc/multiple_diseases: 0.6515, auc/rust: 0.8059, auc/scab: 0.8672\n",
      "\n"
     ]
    },
    {
     "data": {
      "application/vnd.jupyter.widget-view+json": {
       "model_id": "73c213d73a904861a2bf78b1114d1dad",
       "version_major": 2,
       "version_minor": 0
      },
      "text/plain": [
       "HBox(children=(FloatProgress(value=0.0, description='Train', max=91.0, style=ProgressStyle(description_width='…"
      ]
     },
     "metadata": {},
     "output_type": "display_data"
    },
    {
     "name": "stdout",
     "output_type": "stream",
     "text": [
      "\n",
      "Epoch: 31 | Time: 0m 35s\n",
      "Training Results - Average Loss: 1.2380 | auc/_mean: 0.6750 | auc/healthy: 0.6947 | auc/multiple_diseases: 0.6036, auc/rust: 0.6580, auc/scab: 0.7438\n",
      "Evaluating Results - Average Loss: 1.2034 | auc/_mean: 0.7795 | auc/healthy: 0.7843 | auc/multiple_diseases: 0.6526, auc/rust: 0.8105, auc/scab: 0.8707\n",
      "\n"
     ]
    },
    {
     "data": {
      "application/vnd.jupyter.widget-view+json": {
       "model_id": "1385da2a8451448bb2c9757fbedda93b",
       "version_major": 2,
       "version_minor": 0
      },
      "text/plain": [
       "HBox(children=(FloatProgress(value=0.0, description='Train', max=91.0, style=ProgressStyle(description_width='…"
      ]
     },
     "metadata": {},
     "output_type": "display_data"
    },
    {
     "name": "stdout",
     "output_type": "stream",
     "text": [
      "\n",
      "Epoch: 32 | Time: 0m 35s\n",
      "Training Results - Average Loss: 1.2376 | auc/_mean: 0.6611 | auc/healthy: 0.6804 | auc/multiple_diseases: 0.5438, auc/rust: 0.6856, auc/scab: 0.7348\n",
      "Evaluating Results - Average Loss: 1.1984 | auc/_mean: 0.7844 | auc/healthy: 0.7885 | auc/multiple_diseases: 0.6531, auc/rust: 0.8215, auc/scab: 0.8745\n",
      "\n"
     ]
    },
    {
     "data": {
      "application/vnd.jupyter.widget-view+json": {
       "model_id": "50c656e165cd40b493c757213e95bf6e",
       "version_major": 2,
       "version_minor": 0
      },
      "text/plain": [
       "HBox(children=(FloatProgress(value=0.0, description='Train', max=91.0, style=ProgressStyle(description_width='…"
      ]
     },
     "metadata": {},
     "output_type": "display_data"
    },
    {
     "name": "stdout",
     "output_type": "stream",
     "text": [
      "\n",
      "Epoch: 33 | Time: 0m 35s\n",
      "Training Results - Average Loss: 1.2391 | auc/_mean: 0.6604 | auc/healthy: 0.6860 | auc/multiple_diseases: 0.5586, auc/rust: 0.6589, auc/scab: 0.7382\n",
      "Evaluating Results - Average Loss: 1.1935 | auc/_mean: 0.7890 | auc/healthy: 0.7955 | auc/multiple_diseases: 0.6508, auc/rust: 0.8306, auc/scab: 0.8790\n",
      "\n"
     ]
    },
    {
     "data": {
      "application/vnd.jupyter.widget-view+json": {
       "model_id": "930f2360b66a4b10ae8aae6ae2986990",
       "version_major": 2,
       "version_minor": 0
      },
      "text/plain": [
       "HBox(children=(FloatProgress(value=0.0, description='Train', max=91.0, style=ProgressStyle(description_width='…"
      ]
     },
     "metadata": {},
     "output_type": "display_data"
    },
    {
     "name": "stdout",
     "output_type": "stream",
     "text": [
      "\n",
      "Epoch: 34 | Time: 0m 35s\n",
      "Training Results - Average Loss: 1.2296 | auc/_mean: 0.6669 | auc/healthy: 0.7020 | auc/multiple_diseases: 0.5212, auc/rust: 0.6833, auc/scab: 0.7613\n",
      "Evaluating Results - Average Loss: 1.1890 | auc/_mean: 0.7930 | auc/healthy: 0.8017 | auc/multiple_diseases: 0.6481, auc/rust: 0.8393, auc/scab: 0.8826\n",
      "\n"
     ]
    },
    {
     "data": {
      "application/vnd.jupyter.widget-view+json": {
       "model_id": "a6ee1565d0794909b55a10664bee0ed2",
       "version_major": 2,
       "version_minor": 0
      },
      "text/plain": [
       "HBox(children=(FloatProgress(value=0.0, description='Train', max=91.0, style=ProgressStyle(description_width='…"
      ]
     },
     "metadata": {},
     "output_type": "display_data"
    },
    {
     "name": "stdout",
     "output_type": "stream",
     "text": [
      "\n",
      "Epoch: 35 | Time: 0m 35s\n",
      "Training Results - Average Loss: 1.2314 | auc/_mean: 0.6568 | auc/healthy: 0.7158 | auc/multiple_diseases: 0.4810, auc/rust: 0.6702, auc/scab: 0.7600\n",
      "Evaluating Results - Average Loss: 1.1859 | auc/_mean: 0.7994 | auc/healthy: 0.8043 | auc/multiple_diseases: 0.6591, auc/rust: 0.8465, auc/scab: 0.8877\n",
      "\n"
     ]
    },
    {
     "data": {
      "application/vnd.jupyter.widget-view+json": {
       "model_id": "02b0ee5a62dd4cb9a30c77928400f0b1",
       "version_major": 2,
       "version_minor": 0
      },
      "text/plain": [
       "HBox(children=(FloatProgress(value=0.0, description='Train', max=91.0, style=ProgressStyle(description_width='…"
      ]
     },
     "metadata": {},
     "output_type": "display_data"
    },
    {
     "name": "stdout",
     "output_type": "stream",
     "text": [
      "\n",
      "Epoch: 36 | Time: 0m 35s\n",
      "Training Results - Average Loss: 1.2278 | auc/_mean: 0.6757 | auc/healthy: 0.7034 | auc/multiple_diseases: 0.5741, auc/rust: 0.6727, auc/scab: 0.7525\n",
      "Evaluating Results - Average Loss: 1.1804 | auc/_mean: 0.8029 | auc/healthy: 0.8110 | auc/multiple_diseases: 0.6574, auc/rust: 0.8527, auc/scab: 0.8907\n",
      "\n"
     ]
    },
    {
     "data": {
      "application/vnd.jupyter.widget-view+json": {
       "model_id": "6ceed8dff1d64b43bf152303f716de46",
       "version_major": 2,
       "version_minor": 0
      },
      "text/plain": [
       "HBox(children=(FloatProgress(value=0.0, description='Train', max=91.0, style=ProgressStyle(description_width='…"
      ]
     },
     "metadata": {},
     "output_type": "display_data"
    },
    {
     "name": "stdout",
     "output_type": "stream",
     "text": [
      "\n",
      "Epoch: 37 | Time: 0m 35s\n",
      "Training Results - Average Loss: 1.2199 | auc/_mean: 0.6791 | auc/healthy: 0.7136 | auc/multiple_diseases: 0.5090, auc/rust: 0.7247, auc/scab: 0.7691\n",
      "Evaluating Results - Average Loss: 1.1763 | auc/_mean: 0.8069 | auc/healthy: 0.8159 | auc/multiple_diseases: 0.6630, auc/rust: 0.8556, auc/scab: 0.8931\n",
      "\n"
     ]
    },
    {
     "data": {
      "application/vnd.jupyter.widget-view+json": {
       "model_id": "d97d57751e5f4bf1b50cfb338a293b13",
       "version_major": 2,
       "version_minor": 0
      },
      "text/plain": [
       "HBox(children=(FloatProgress(value=0.0, description='Train', max=91.0, style=ProgressStyle(description_width='…"
      ]
     },
     "metadata": {},
     "output_type": "display_data"
    },
    {
     "name": "stdout",
     "output_type": "stream",
     "text": [
      "\n",
      "Epoch: 38 | Time: 0m 35s\n",
      "Training Results - Average Loss: 1.2178 | auc/_mean: 0.6870 | auc/healthy: 0.7417 | auc/multiple_diseases: 0.5338, auc/rust: 0.6848, auc/scab: 0.7876\n",
      "Evaluating Results - Average Loss: 1.1719 | auc/_mean: 0.8103 | auc/healthy: 0.8210 | auc/multiple_diseases: 0.6596, auc/rust: 0.8639, auc/scab: 0.8965\n",
      "\n"
     ]
    },
    {
     "data": {
      "application/vnd.jupyter.widget-view+json": {
       "model_id": "10623177f161484cba201ca022c965f2",
       "version_major": 2,
       "version_minor": 0
      },
      "text/plain": [
       "HBox(children=(FloatProgress(value=0.0, description='Train', max=91.0, style=ProgressStyle(description_width='…"
      ]
     },
     "metadata": {},
     "output_type": "display_data"
    },
    {
     "name": "stdout",
     "output_type": "stream",
     "text": [
      "\n",
      "Epoch: 39 | Time: 0m 35s\n",
      "Training Results - Average Loss: 1.2170 | auc/_mean: 0.6896 | auc/healthy: 0.7105 | auc/multiple_diseases: 0.5795, auc/rust: 0.7065, auc/scab: 0.7618\n",
      "Evaluating Results - Average Loss: 1.1681 | auc/_mean: 0.8114 | auc/healthy: 0.8242 | auc/multiple_diseases: 0.6542, auc/rust: 0.8675, auc/scab: 0.8998\n",
      "\n"
     ]
    },
    {
     "data": {
      "application/vnd.jupyter.widget-view+json": {
       "model_id": "6ee1f3b4028a4958b8677a3f8fb757ae",
       "version_major": 2,
       "version_minor": 0
      },
      "text/plain": [
       "HBox(children=(FloatProgress(value=0.0, description='Train', max=91.0, style=ProgressStyle(description_width='…"
      ]
     },
     "metadata": {},
     "output_type": "display_data"
    },
    {
     "name": "stdout",
     "output_type": "stream",
     "text": [
      "\n",
      "Epoch: 40 | Time: 0m 34s\n",
      "Training Results - Average Loss: 1.2164 | auc/_mean: 0.6798 | auc/healthy: 0.7133 | auc/multiple_diseases: 0.5309, auc/rust: 0.6963, auc/scab: 0.7789\n",
      "Evaluating Results - Average Loss: 1.1656 | auc/_mean: 0.8155 | auc/healthy: 0.8260 | auc/multiple_diseases: 0.6567, auc/rust: 0.8753, auc/scab: 0.9041\n",
      "\n"
     ]
    },
    {
     "data": {
      "application/vnd.jupyter.widget-view+json": {
       "model_id": "f1a210f5c5554c62887d2215df50e168",
       "version_major": 2,
       "version_minor": 0
      },
      "text/plain": [
       "HBox(children=(FloatProgress(value=0.0, description='Train', max=91.0, style=ProgressStyle(description_width='…"
      ]
     },
     "metadata": {},
     "output_type": "display_data"
    },
    {
     "name": "stdout",
     "output_type": "stream",
     "text": [
      "\n",
      "Epoch: 41 | Time: 0m 35s\n",
      "Training Results - Average Loss: 1.2012 | auc/_mean: 0.7166 | auc/healthy: 0.7382 | auc/multiple_diseases: 0.5975, auc/rust: 0.7303, auc/scab: 0.8003\n",
      "Evaluating Results - Average Loss: 1.1600 | auc/_mean: 0.8179 | auc/healthy: 0.8302 | auc/multiple_diseases: 0.6542, auc/rust: 0.8818, auc/scab: 0.9053\n",
      "\n"
     ]
    },
    {
     "data": {
      "application/vnd.jupyter.widget-view+json": {
       "model_id": "7aec328fd5b741448efb8741ec83e740",
       "version_major": 2,
       "version_minor": 0
      },
      "text/plain": [
       "HBox(children=(FloatProgress(value=0.0, description='Train', max=91.0, style=ProgressStyle(description_width='…"
      ]
     },
     "metadata": {},
     "output_type": "display_data"
    },
    {
     "name": "stdout",
     "output_type": "stream",
     "text": [
      "\n",
      "Epoch: 42 | Time: 0m 35s\n",
      "Training Results - Average Loss: 1.2055 | auc/_mean: 0.6950 | auc/healthy: 0.7156 | auc/multiple_diseases: 0.5338, auc/rust: 0.7394, auc/scab: 0.7913\n",
      "Evaluating Results - Average Loss: 1.1562 | auc/_mean: 0.8220 | auc/healthy: 0.8357 | auc/multiple_diseases: 0.6583, auc/rust: 0.8852, auc/scab: 0.9088\n",
      "\n"
     ]
    },
    {
     "data": {
      "application/vnd.jupyter.widget-view+json": {
       "model_id": "883f1be5155b4320a05583eedae69ebf",
       "version_major": 2,
       "version_minor": 0
      },
      "text/plain": [
       "HBox(children=(FloatProgress(value=0.0, description='Train', max=91.0, style=ProgressStyle(description_width='…"
      ]
     },
     "metadata": {},
     "output_type": "display_data"
    },
    {
     "name": "stdout",
     "output_type": "stream",
     "text": [
      "\n",
      "Epoch: 43 | Time: 0m 35s\n",
      "Training Results - Average Loss: 1.2029 | auc/_mean: 0.7064 | auc/healthy: 0.7459 | auc/multiple_diseases: 0.5756, auc/rust: 0.7222, auc/scab: 0.7819\n",
      "Evaluating Results - Average Loss: 1.1506 | auc/_mean: 0.8231 | auc/healthy: 0.8419 | auc/multiple_diseases: 0.6531, auc/rust: 0.8875, auc/scab: 0.9101\n",
      "\n"
     ]
    },
    {
     "data": {
      "application/vnd.jupyter.widget-view+json": {
       "model_id": "8b15fff931e3487cb80f376fa5f535dd",
       "version_major": 2,
       "version_minor": 0
      },
      "text/plain": [
       "HBox(children=(FloatProgress(value=0.0, description='Train', max=91.0, style=ProgressStyle(description_width='…"
      ]
     },
     "metadata": {},
     "output_type": "display_data"
    },
    {
     "name": "stdout",
     "output_type": "stream",
     "text": [
      "\n",
      "Epoch: 44 | Time: 0m 35s\n",
      "Training Results - Average Loss: 1.2049 | auc/_mean: 0.6960 | auc/healthy: 0.7393 | auc/multiple_diseases: 0.5333, auc/rust: 0.7186, auc/scab: 0.7930\n",
      "Evaluating Results - Average Loss: 1.1469 | auc/_mean: 0.8250 | auc/healthy: 0.8455 | auc/multiple_diseases: 0.6516, auc/rust: 0.8910, auc/scab: 0.9118\n",
      "\n"
     ]
    },
    {
     "data": {
      "application/vnd.jupyter.widget-view+json": {
       "model_id": "1275f5a726994a08a0cb2f874e1ec94d",
       "version_major": 2,
       "version_minor": 0
      },
      "text/plain": [
       "HBox(children=(FloatProgress(value=0.0, description='Train', max=91.0, style=ProgressStyle(description_width='…"
      ]
     },
     "metadata": {},
     "output_type": "display_data"
    },
    {
     "name": "stdout",
     "output_type": "stream",
     "text": [
      "\n",
      "Epoch: 45 | Time: 0m 35s\n",
      "Training Results - Average Loss: 1.1973 | auc/_mean: 0.7071 | auc/healthy: 0.7400 | auc/multiple_diseases: 0.5389, auc/rust: 0.7395, auc/scab: 0.8098\n",
      "Evaluating Results - Average Loss: 1.1430 | auc/_mean: 0.8275 | auc/healthy: 0.8493 | auc/multiple_diseases: 0.6531, auc/rust: 0.8935, auc/scab: 0.9143\n",
      "\n"
     ]
    },
    {
     "data": {
      "application/vnd.jupyter.widget-view+json": {
       "model_id": "d9dc07cda11b4c1cad43e25c9ff02c0a",
       "version_major": 2,
       "version_minor": 0
      },
      "text/plain": [
       "HBox(children=(FloatProgress(value=0.0, description='Train', max=91.0, style=ProgressStyle(description_width='…"
      ]
     },
     "metadata": {},
     "output_type": "display_data"
    },
    {
     "name": "stdout",
     "output_type": "stream",
     "text": [
      "\n",
      "Epoch: 46 | Time: 0m 35s\n",
      "Training Results - Average Loss: 1.1888 | auc/_mean: 0.7258 | auc/healthy: 0.7755 | auc/multiple_diseases: 0.5937, auc/rust: 0.7260, auc/scab: 0.8078\n",
      "Evaluating Results - Average Loss: 1.1396 | auc/_mean: 0.8319 | auc/healthy: 0.8532 | auc/multiple_diseases: 0.6582, auc/rust: 0.8997, auc/scab: 0.9166\n",
      "\n"
     ]
    },
    {
     "data": {
      "application/vnd.jupyter.widget-view+json": {
       "model_id": "eac76d6987884017b590f9d21baa8e63",
       "version_major": 2,
       "version_minor": 0
      },
      "text/plain": [
       "HBox(children=(FloatProgress(value=0.0, description='Train', max=91.0, style=ProgressStyle(description_width='…"
      ]
     },
     "metadata": {},
     "output_type": "display_data"
    },
    {
     "name": "stdout",
     "output_type": "stream",
     "text": [
      "\n",
      "Epoch: 47 | Time: 0m 35s\n",
      "Training Results - Average Loss: 1.1892 | auc/_mean: 0.7208 | auc/healthy: 0.7659 | auc/multiple_diseases: 0.5654, auc/rust: 0.7541, auc/scab: 0.7977\n",
      "Evaluating Results - Average Loss: 1.1347 | auc/_mean: 0.8342 | auc/healthy: 0.8566 | auc/multiple_diseases: 0.6587, auc/rust: 0.9024, auc/scab: 0.9191\n",
      "\n"
     ]
    },
    {
     "data": {
      "application/vnd.jupyter.widget-view+json": {
       "model_id": "8f7ae46e49ff4f54a3348f5b3e1740c9",
       "version_major": 2,
       "version_minor": 0
      },
      "text/plain": [
       "HBox(children=(FloatProgress(value=0.0, description='Train', max=91.0, style=ProgressStyle(description_width='…"
      ]
     },
     "metadata": {},
     "output_type": "display_data"
    },
    {
     "name": "stdout",
     "output_type": "stream",
     "text": [
      "\n",
      "Epoch: 48 | Time: 0m 35s\n",
      "Training Results - Average Loss: 1.1919 | auc/_mean: 0.7149 | auc/healthy: 0.7369 | auc/multiple_diseases: 0.5692, auc/rust: 0.7546, auc/scab: 0.7990\n",
      "Evaluating Results - Average Loss: 1.1310 | auc/_mean: 0.8362 | auc/healthy: 0.8607 | auc/multiple_diseases: 0.6595, auc/rust: 0.9046, auc/scab: 0.9201\n",
      "\n"
     ]
    },
    {
     "data": {
      "application/vnd.jupyter.widget-view+json": {
       "model_id": "26327979f80c41ef87f68c6438600100",
       "version_major": 2,
       "version_minor": 0
      },
      "text/plain": [
       "HBox(children=(FloatProgress(value=0.0, description='Train', max=91.0, style=ProgressStyle(description_width='…"
      ]
     },
     "metadata": {},
     "output_type": "display_data"
    },
    {
     "name": "stdout",
     "output_type": "stream",
     "text": [
      "\n",
      "Epoch: 49 | Time: 0m 34s\n",
      "Training Results - Average Loss: 1.1837 | auc/_mean: 0.7250 | auc/healthy: 0.7544 | auc/multiple_diseases: 0.5875, auc/rust: 0.7496, auc/scab: 0.8085\n",
      "Evaluating Results - Average Loss: 1.1275 | auc/_mean: 0.8356 | auc/healthy: 0.8636 | auc/multiple_diseases: 0.6481, auc/rust: 0.9095, auc/scab: 0.9212\n",
      "\n"
     ]
    },
    {
     "data": {
      "application/vnd.jupyter.widget-view+json": {
       "model_id": "5e131f9fbbce40f7be1097678bc10a7c",
       "version_major": 2,
       "version_minor": 0
      },
      "text/plain": [
       "HBox(children=(FloatProgress(value=0.0, description='Train', max=91.0, style=ProgressStyle(description_width='…"
      ]
     },
     "metadata": {},
     "output_type": "display_data"
    },
    {
     "name": "stdout",
     "output_type": "stream",
     "text": [
      "\n",
      "Epoch: 50 | Time: 0m 35s\n",
      "Training Results - Average Loss: 1.1837 | auc/_mean: 0.7216 | auc/healthy: 0.7609 | auc/multiple_diseases: 0.5649, auc/rust: 0.7547, auc/scab: 0.8057\n",
      "Evaluating Results - Average Loss: 1.1237 | auc/_mean: 0.8374 | auc/healthy: 0.8658 | auc/multiple_diseases: 0.6510, auc/rust: 0.9100, auc/scab: 0.9229\n",
      "\n"
     ]
    },
    {
     "data": {
      "application/vnd.jupyter.widget-view+json": {
       "model_id": "29eaf93f71cb4e72a775f2d38de7f3ec",
       "version_major": 2,
       "version_minor": 0
      },
      "text/plain": [
       "HBox(children=(FloatProgress(value=0.0, description='Train', max=91.0, style=ProgressStyle(description_width='…"
      ]
     },
     "metadata": {},
     "output_type": "display_data"
    },
    {
     "name": "stdout",
     "output_type": "stream",
     "text": [
      "\n",
      "Epoch: 51 | Time: 0m 35s\n",
      "Training Results - Average Loss: 1.1775 | auc/_mean: 0.7275 | auc/healthy: 0.7735 | auc/multiple_diseases: 0.5533, auc/rust: 0.7728, auc/scab: 0.8103\n",
      "Evaluating Results - Average Loss: 1.1200 | auc/_mean: 0.8379 | auc/healthy: 0.8675 | auc/multiple_diseases: 0.6462, auc/rust: 0.9145, auc/scab: 0.9234\n",
      "\n"
     ]
    },
    {
     "data": {
      "application/vnd.jupyter.widget-view+json": {
       "model_id": "c549ba174a1642fc92c7f20ad8343239",
       "version_major": 2,
       "version_minor": 0
      },
      "text/plain": [
       "HBox(children=(FloatProgress(value=0.0, description='Train', max=91.0, style=ProgressStyle(description_width='…"
      ]
     },
     "metadata": {},
     "output_type": "display_data"
    },
    {
     "name": "stdout",
     "output_type": "stream",
     "text": [
      "\n",
      "Epoch: 52 | Time: 0m 35s\n",
      "Training Results - Average Loss: 1.1769 | auc/_mean: 0.7362 | auc/healthy: 0.7810 | auc/multiple_diseases: 0.5965, auc/rust: 0.7611, auc/scab: 0.8063\n",
      "Evaluating Results - Average Loss: 1.1166 | auc/_mean: 0.8403 | auc/healthy: 0.8696 | auc/multiple_diseases: 0.6508, auc/rust: 0.9171, auc/scab: 0.9237\n",
      "\n"
     ]
    },
    {
     "data": {
      "application/vnd.jupyter.widget-view+json": {
       "model_id": "1a50a88160fc426bbdd29938ef9172bb",
       "version_major": 2,
       "version_minor": 0
      },
      "text/plain": [
       "HBox(children=(FloatProgress(value=0.0, description='Train', max=91.0, style=ProgressStyle(description_width='…"
      ]
     },
     "metadata": {},
     "output_type": "display_data"
    },
    {
     "name": "stdout",
     "output_type": "stream",
     "text": [
      "\n",
      "Epoch: 53 | Time: 0m 35s\n",
      "Training Results - Average Loss: 1.1767 | auc/_mean: 0.7189 | auc/healthy: 0.7710 | auc/multiple_diseases: 0.5194, auc/rust: 0.7646, auc/scab: 0.8207\n",
      "Evaluating Results - Average Loss: 1.1112 | auc/_mean: 0.8431 | auc/healthy: 0.8726 | auc/multiple_diseases: 0.6524, auc/rust: 0.9208, auc/scab: 0.9265\n",
      "\n"
     ]
    },
    {
     "data": {
      "application/vnd.jupyter.widget-view+json": {
       "model_id": "c00e46b95c1848068981bde608770ac2",
       "version_major": 2,
       "version_minor": 0
      },
      "text/plain": [
       "HBox(children=(FloatProgress(value=0.0, description='Train', max=91.0, style=ProgressStyle(description_width='…"
      ]
     },
     "metadata": {},
     "output_type": "display_data"
    },
    {
     "name": "stdout",
     "output_type": "stream",
     "text": [
      "\n",
      "Epoch: 54 | Time: 0m 35s\n",
      "Training Results - Average Loss: 1.1676 | auc/_mean: 0.7460 | auc/healthy: 0.7941 | auc/multiple_diseases: 0.5772, auc/rust: 0.7775, auc/scab: 0.8353\n",
      "Evaluating Results - Average Loss: 1.1093 | auc/_mean: 0.8441 | auc/healthy: 0.8743 | auc/multiple_diseases: 0.6505, auc/rust: 0.9241, auc/scab: 0.9276\n",
      "\n"
     ]
    },
    {
     "data": {
      "application/vnd.jupyter.widget-view+json": {
       "model_id": "e686fb5b6b9848b7a04cf59c791ab7a3",
       "version_major": 2,
       "version_minor": 0
      },
      "text/plain": [
       "HBox(children=(FloatProgress(value=0.0, description='Train', max=91.0, style=ProgressStyle(description_width='…"
      ]
     },
     "metadata": {},
     "output_type": "display_data"
    },
    {
     "name": "stdout",
     "output_type": "stream",
     "text": [
      "\n",
      "Epoch: 55 | Time: 0m 35s\n",
      "Training Results - Average Loss: 1.1718 | auc/_mean: 0.7285 | auc/healthy: 0.7801 | auc/multiple_diseases: 0.5468, auc/rust: 0.7493, auc/scab: 0.8376\n",
      "Evaluating Results - Average Loss: 1.1059 | auc/_mean: 0.8474 | auc/healthy: 0.8776 | auc/multiple_diseases: 0.6579, auc/rust: 0.9251, auc/scab: 0.9289\n",
      "\n"
     ]
    },
    {
     "data": {
      "application/vnd.jupyter.widget-view+json": {
       "model_id": "094d022ad2584cf4b9ae85b7c61ed4b6",
       "version_major": 2,
       "version_minor": 0
      },
      "text/plain": [
       "HBox(children=(FloatProgress(value=0.0, description='Train', max=91.0, style=ProgressStyle(description_width='…"
      ]
     },
     "metadata": {},
     "output_type": "display_data"
    },
    {
     "name": "stdout",
     "output_type": "stream",
     "text": [
      "\n",
      "Epoch: 56 | Time: 0m 35s\n",
      "Training Results - Average Loss: 1.1633 | auc/_mean: 0.7387 | auc/healthy: 0.7855 | auc/multiple_diseases: 0.5557, auc/rust: 0.7814, auc/scab: 0.8322\n",
      "Evaluating Results - Average Loss: 1.1016 | auc/_mean: 0.8480 | auc/healthy: 0.8805 | auc/multiple_diseases: 0.6547, auc/rust: 0.9273, auc/scab: 0.9296\n",
      "\n"
     ]
    },
    {
     "data": {
      "application/vnd.jupyter.widget-view+json": {
       "model_id": "da82c7d6b109416da015a348f958e039",
       "version_major": 2,
       "version_minor": 0
      },
      "text/plain": [
       "HBox(children=(FloatProgress(value=0.0, description='Train', max=91.0, style=ProgressStyle(description_width='…"
      ]
     },
     "metadata": {},
     "output_type": "display_data"
    },
    {
     "name": "stdout",
     "output_type": "stream",
     "text": [
      "\n",
      "Epoch: 57 | Time: 0m 35s\n",
      "Training Results - Average Loss: 1.1707 | auc/_mean: 0.7328 | auc/healthy: 0.7880 | auc/multiple_diseases: 0.5493, auc/rust: 0.7647, auc/scab: 0.8289\n",
      "Evaluating Results - Average Loss: 1.0978 | auc/_mean: 0.8482 | auc/healthy: 0.8821 | auc/multiple_diseases: 0.6510, auc/rust: 0.9292, auc/scab: 0.9305\n",
      "\n"
     ]
    },
    {
     "data": {
      "application/vnd.jupyter.widget-view+json": {
       "model_id": "a4a9e74b3257429fb25b2e0ab1af8a07",
       "version_major": 2,
       "version_minor": 0
      },
      "text/plain": [
       "HBox(children=(FloatProgress(value=0.0, description='Train', max=91.0, style=ProgressStyle(description_width='…"
      ]
     },
     "metadata": {},
     "output_type": "display_data"
    },
    {
     "name": "stdout",
     "output_type": "stream",
     "text": [
      "\n",
      "Epoch: 58 | Time: 0m 35s\n",
      "Training Results - Average Loss: 1.1611 | auc/_mean: 0.7457 | auc/healthy: 0.7719 | auc/multiple_diseases: 0.5932, auc/rust: 0.7937, auc/scab: 0.8240\n",
      "Evaluating Results - Average Loss: 1.0951 | auc/_mean: 0.8511 | auc/healthy: 0.8825 | auc/multiple_diseases: 0.6603, auc/rust: 0.9306, auc/scab: 0.9309\n",
      "\n"
     ]
    },
    {
     "data": {
      "application/vnd.jupyter.widget-view+json": {
       "model_id": "127df49428af4d4991cda34fb2dcba45",
       "version_major": 2,
       "version_minor": 0
      },
      "text/plain": [
       "HBox(children=(FloatProgress(value=0.0, description='Train', max=91.0, style=ProgressStyle(description_width='…"
      ]
     },
     "metadata": {},
     "output_type": "display_data"
    },
    {
     "name": "stdout",
     "output_type": "stream",
     "text": [
      "\n",
      "Epoch: 59 | Time: 0m 35s\n",
      "Training Results - Average Loss: 1.1618 | auc/_mean: 0.7321 | auc/healthy: 0.7909 | auc/multiple_diseases: 0.5159, auc/rust: 0.7927, auc/scab: 0.8291\n",
      "Evaluating Results - Average Loss: 1.0922 | auc/_mean: 0.8526 | auc/healthy: 0.8846 | auc/multiple_diseases: 0.6611, auc/rust: 0.9326, auc/scab: 0.9323\n",
      "\n"
     ]
    },
    {
     "data": {
      "application/vnd.jupyter.widget-view+json": {
       "model_id": "500b6e663f5840c0a15075d2ce86a3b4",
       "version_major": 2,
       "version_minor": 0
      },
      "text/plain": [
       "HBox(children=(FloatProgress(value=0.0, description='Train', max=91.0, style=ProgressStyle(description_width='…"
      ]
     },
     "metadata": {},
     "output_type": "display_data"
    },
    {
     "name": "stdout",
     "output_type": "stream",
     "text": [
      "\n",
      "Epoch: 60 | Time: 0m 35s\n",
      "Training Results - Average Loss: 1.1591 | auc/_mean: 0.7409 | auc/healthy: 0.7928 | auc/multiple_diseases: 0.5662, auc/rust: 0.7725, auc/scab: 0.8320\n",
      "Evaluating Results - Average Loss: 1.0877 | auc/_mean: 0.8536 | auc/healthy: 0.8855 | auc/multiple_diseases: 0.6609, auc/rust: 0.9348, auc/scab: 0.9333\n",
      "\n"
     ]
    },
    {
     "data": {
      "application/vnd.jupyter.widget-view+json": {
       "model_id": "67d09e8ccea34be2b9fa0ff1f503d443",
       "version_major": 2,
       "version_minor": 0
      },
      "text/plain": [
       "HBox(children=(FloatProgress(value=0.0, description='Train', max=91.0, style=ProgressStyle(description_width='…"
      ]
     },
     "metadata": {},
     "output_type": "display_data"
    },
    {
     "name": "stdout",
     "output_type": "stream",
     "text": [
      "\n",
      "Epoch: 61 | Time: 0m 36s\n",
      "Training Results - Average Loss: 1.1522 | auc/_mean: 0.7477 | auc/healthy: 0.8020 | auc/multiple_diseases: 0.5607, auc/rust: 0.7937, auc/scab: 0.8346\n",
      "Evaluating Results - Average Loss: 1.0847 | auc/_mean: 0.8529 | auc/healthy: 0.8875 | auc/multiple_diseases: 0.6545, auc/rust: 0.9363, auc/scab: 0.9334\n",
      "\n"
     ]
    },
    {
     "data": {
      "application/vnd.jupyter.widget-view+json": {
       "model_id": "c97dc8570dba43b085a1016abd08f4f8",
       "version_major": 2,
       "version_minor": 0
      },
      "text/plain": [
       "HBox(children=(FloatProgress(value=0.0, description='Train', max=91.0, style=ProgressStyle(description_width='…"
      ]
     },
     "metadata": {},
     "output_type": "display_data"
    },
    {
     "name": "stdout",
     "output_type": "stream",
     "text": [
      "\n",
      "Epoch: 62 | Time: 0m 35s\n",
      "Training Results - Average Loss: 1.1562 | auc/_mean: 0.7380 | auc/healthy: 0.7875 | auc/multiple_diseases: 0.5378, auc/rust: 0.7972, auc/scab: 0.8296\n",
      "Evaluating Results - Average Loss: 1.0816 | auc/_mean: 0.8536 | auc/healthy: 0.8872 | auc/multiple_diseases: 0.6550, auc/rust: 0.9372, auc/scab: 0.9350\n",
      "\n"
     ]
    },
    {
     "data": {
      "application/vnd.jupyter.widget-view+json": {
       "model_id": "7eb0ceb2d3044e4ba8c246f826e85b11",
       "version_major": 2,
       "version_minor": 0
      },
      "text/plain": [
       "HBox(children=(FloatProgress(value=0.0, description='Train', max=91.0, style=ProgressStyle(description_width='…"
      ]
     },
     "metadata": {},
     "output_type": "display_data"
    },
    {
     "name": "stdout",
     "output_type": "stream",
     "text": [
      "\n",
      "Epoch: 63 | Time: 0m 35s\n",
      "Training Results - Average Loss: 1.1471 | auc/_mean: 0.7500 | auc/healthy: 0.8040 | auc/multiple_diseases: 0.5446, auc/rust: 0.8137, auc/scab: 0.8379\n",
      "Evaluating Results - Average Loss: 1.0781 | auc/_mean: 0.8534 | auc/healthy: 0.8899 | auc/multiple_diseases: 0.6497, auc/rust: 0.9384, auc/scab: 0.9356\n",
      "\n"
     ]
    },
    {
     "data": {
      "application/vnd.jupyter.widget-view+json": {
       "model_id": "3447d00396aa461584826b3ec2049b50",
       "version_major": 2,
       "version_minor": 0
      },
      "text/plain": [
       "HBox(children=(FloatProgress(value=0.0, description='Train', max=91.0, style=ProgressStyle(description_width='…"
      ]
     },
     "metadata": {},
     "output_type": "display_data"
    },
    {
     "name": "stdout",
     "output_type": "stream",
     "text": [
      "\n",
      "Epoch: 64 | Time: 0m 36s\n",
      "Training Results - Average Loss: 1.1505 | auc/_mean: 0.7483 | auc/healthy: 0.7849 | auc/multiple_diseases: 0.5846, auc/rust: 0.7862, auc/scab: 0.8375\n",
      "Evaluating Results - Average Loss: 1.0739 | auc/_mean: 0.8566 | auc/healthy: 0.8934 | auc/multiple_diseases: 0.6567, auc/rust: 0.9402, auc/scab: 0.9361\n",
      "\n"
     ]
    },
    {
     "data": {
      "application/vnd.jupyter.widget-view+json": {
       "model_id": "f9a98acbc31e440fb7f82890360df970",
       "version_major": 2,
       "version_minor": 0
      },
      "text/plain": [
       "HBox(children=(FloatProgress(value=0.0, description='Train', max=91.0, style=ProgressStyle(description_width='…"
      ]
     },
     "metadata": {},
     "output_type": "display_data"
    },
    {
     "name": "stdout",
     "output_type": "stream",
     "text": [
      "\n",
      "Epoch: 65 | Time: 0m 35s\n",
      "Training Results - Average Loss: 1.1517 | auc/_mean: 0.7331 | auc/healthy: 0.7796 | auc/multiple_diseases: 0.5010, auc/rust: 0.8074, auc/scab: 0.8443\n",
      "Evaluating Results - Average Loss: 1.0719 | auc/_mean: 0.8569 | auc/healthy: 0.8932 | auc/multiple_diseases: 0.6559, auc/rust: 0.9417, auc/scab: 0.9367\n",
      "\n"
     ]
    },
    {
     "data": {
      "application/vnd.jupyter.widget-view+json": {
       "model_id": "ea19c32a9288469392cfa3ded9fe6997",
       "version_major": 2,
       "version_minor": 0
      },
      "text/plain": [
       "HBox(children=(FloatProgress(value=0.0, description='Train', max=91.0, style=ProgressStyle(description_width='…"
      ]
     },
     "metadata": {},
     "output_type": "display_data"
    },
    {
     "name": "stdout",
     "output_type": "stream",
     "text": [
      "\n",
      "Epoch: 66 | Time: 0m 35s\n",
      "Training Results - Average Loss: 1.1485 | auc/_mean: 0.7482 | auc/healthy: 0.8017 | auc/multiple_diseases: 0.5584, auc/rust: 0.7963, auc/scab: 0.8365\n",
      "Evaluating Results - Average Loss: 1.0683 | auc/_mean: 0.8574 | auc/healthy: 0.8948 | auc/multiple_diseases: 0.6559, auc/rust: 0.9425, auc/scab: 0.9365\n",
      "\n"
     ]
    },
    {
     "data": {
      "application/vnd.jupyter.widget-view+json": {
       "model_id": "b31185c7b702449c9bc17fca6f31399b",
       "version_major": 2,
       "version_minor": 0
      },
      "text/plain": [
       "HBox(children=(FloatProgress(value=0.0, description='Train', max=91.0, style=ProgressStyle(description_width='…"
      ]
     },
     "metadata": {},
     "output_type": "display_data"
    },
    {
     "name": "stdout",
     "output_type": "stream",
     "text": [
      "\n",
      "Epoch: 67 | Time: 0m 35s\n",
      "Training Results - Average Loss: 1.1396 | auc/_mean: 0.7558 | auc/healthy: 0.8136 | auc/multiple_diseases: 0.5436, auc/rust: 0.8131, auc/scab: 0.8530\n",
      "Evaluating Results - Average Loss: 1.0662 | auc/_mean: 0.8579 | auc/healthy: 0.8965 | auc/multiple_diseases: 0.6540, auc/rust: 0.9437, auc/scab: 0.9375\n",
      "\n"
     ]
    },
    {
     "data": {
      "application/vnd.jupyter.widget-view+json": {
       "model_id": "5065f0f480ec4e30b3769095ba0a564a",
       "version_major": 2,
       "version_minor": 0
      },
      "text/plain": [
       "HBox(children=(FloatProgress(value=0.0, description='Train', max=91.0, style=ProgressStyle(description_width='…"
      ]
     },
     "metadata": {},
     "output_type": "display_data"
    },
    {
     "name": "stdout",
     "output_type": "stream",
     "text": [
      "\n",
      "Epoch: 68 | Time: 0m 35s\n",
      "Training Results - Average Loss: 1.1363 | auc/_mean: 0.7569 | auc/healthy: 0.8121 | auc/multiple_diseases: 0.5516, auc/rust: 0.8151, auc/scab: 0.8487\n",
      "Evaluating Results - Average Loss: 1.0613 | auc/_mean: 0.8595 | auc/healthy: 0.8988 | auc/multiple_diseases: 0.6561, auc/rust: 0.9451, auc/scab: 0.9378\n",
      "\n"
     ]
    },
    {
     "data": {
      "application/vnd.jupyter.widget-view+json": {
       "model_id": "994c394c3422463083db40277c5c863c",
       "version_major": 2,
       "version_minor": 0
      },
      "text/plain": [
       "HBox(children=(FloatProgress(value=0.0, description='Train', max=91.0, style=ProgressStyle(description_width='…"
      ]
     },
     "metadata": {},
     "output_type": "display_data"
    },
    {
     "name": "stdout",
     "output_type": "stream",
     "text": [
      "\n",
      "Epoch: 69 | Time: 0m 35s\n",
      "Training Results - Average Loss: 1.1408 | auc/_mean: 0.7489 | auc/healthy: 0.8040 | auc/multiple_diseases: 0.5371, auc/rust: 0.8064, auc/scab: 0.8481\n",
      "Evaluating Results - Average Loss: 1.0605 | auc/_mean: 0.8593 | auc/healthy: 0.8993 | auc/multiple_diseases: 0.6532, auc/rust: 0.9458, auc/scab: 0.9390\n",
      "\n"
     ]
    },
    {
     "data": {
      "application/vnd.jupyter.widget-view+json": {
       "model_id": "ce1445df8065425fa7a73d7224b84f7e",
       "version_major": 2,
       "version_minor": 0
      },
      "text/plain": [
       "HBox(children=(FloatProgress(value=0.0, description='Train', max=91.0, style=ProgressStyle(description_width='…"
      ]
     },
     "metadata": {},
     "output_type": "display_data"
    },
    {
     "name": "stdout",
     "output_type": "stream",
     "text": [
      "\n",
      "Epoch: 70 | Time: 0m 36s\n",
      "Training Results - Average Loss: 1.1304 | auc/_mean: 0.7709 | auc/healthy: 0.8115 | auc/multiple_diseases: 0.6094, auc/rust: 0.8112, auc/scab: 0.8516\n",
      "Evaluating Results - Average Loss: 1.0565 | auc/_mean: 0.8598 | auc/healthy: 0.9016 | auc/multiple_diseases: 0.6511, auc/rust: 0.9474, auc/scab: 0.9390\n",
      "\n"
     ]
    },
    {
     "data": {
      "application/vnd.jupyter.widget-view+json": {
       "model_id": "1ad19f3ad9984828a4fdc92d00435685",
       "version_major": 2,
       "version_minor": 0
      },
      "text/plain": [
       "HBox(children=(FloatProgress(value=0.0, description='Train', max=91.0, style=ProgressStyle(description_width='…"
      ]
     },
     "metadata": {},
     "output_type": "display_data"
    },
    {
     "name": "stdout",
     "output_type": "stream",
     "text": [
      "\n",
      "Epoch: 71 | Time: 0m 36s\n",
      "Training Results - Average Loss: 1.1486 | auc/_mean: 0.7287 | auc/healthy: 0.7973 | auc/multiple_diseases: 0.4881, auc/rust: 0.7871, auc/scab: 0.8423\n",
      "Evaluating Results - Average Loss: 1.0524 | auc/_mean: 0.8613 | auc/healthy: 0.9027 | auc/multiple_diseases: 0.6547, auc/rust: 0.9490, auc/scab: 0.9390\n",
      "\n"
     ]
    },
    {
     "data": {
      "application/vnd.jupyter.widget-view+json": {
       "model_id": "1fbe862c50d844cbb35ceccdbd85354e",
       "version_major": 2,
       "version_minor": 0
      },
      "text/plain": [
       "HBox(children=(FloatProgress(value=0.0, description='Train', max=91.0, style=ProgressStyle(description_width='…"
      ]
     },
     "metadata": {},
     "output_type": "display_data"
    },
    {
     "name": "stdout",
     "output_type": "stream",
     "text": [
      "\n",
      "Epoch: 72 | Time: 0m 35s\n",
      "Training Results - Average Loss: 1.1264 | auc/_mean: 0.7639 | auc/healthy: 0.8103 | auc/multiple_diseases: 0.5760, auc/rust: 0.8244, auc/scab: 0.8447\n",
      "Evaluating Results - Average Loss: 1.0494 | auc/_mean: 0.8615 | auc/healthy: 0.9037 | auc/multiple_diseases: 0.6540, auc/rust: 0.9492, auc/scab: 0.9392\n",
      "\n"
     ]
    },
    {
     "data": {
      "application/vnd.jupyter.widget-view+json": {
       "model_id": "efea1a6a05fc439a9325d8950f15f160",
       "version_major": 2,
       "version_minor": 0
      },
      "text/plain": [
       "HBox(children=(FloatProgress(value=0.0, description='Train', max=91.0, style=ProgressStyle(description_width='…"
      ]
     },
     "metadata": {},
     "output_type": "display_data"
    },
    {
     "name": "stdout",
     "output_type": "stream",
     "text": [
      "\n",
      "Epoch: 73 | Time: 0m 36s\n",
      "Training Results - Average Loss: 1.1334 | auc/_mean: 0.7492 | auc/healthy: 0.8229 | auc/multiple_diseases: 0.5222, auc/rust: 0.8067, auc/scab: 0.8451\n",
      "Evaluating Results - Average Loss: 1.0459 | auc/_mean: 0.8623 | auc/healthy: 0.9062 | auc/multiple_diseases: 0.6542, auc/rust: 0.9494, auc/scab: 0.9394\n",
      "\n"
     ]
    },
    {
     "data": {
      "application/vnd.jupyter.widget-view+json": {
       "model_id": "919ba93b1d0f4938b30c4a46e732509d",
       "version_major": 2,
       "version_minor": 0
      },
      "text/plain": [
       "HBox(children=(FloatProgress(value=0.0, description='Train', max=91.0, style=ProgressStyle(description_width='…"
      ]
     },
     "metadata": {},
     "output_type": "display_data"
    },
    {
     "name": "stdout",
     "output_type": "stream",
     "text": [
      "\n",
      "Epoch: 74 | Time: 0m 35s\n",
      "Training Results - Average Loss: 1.1293 | auc/_mean: 0.7548 | auc/healthy: 0.8081 | auc/multiple_diseases: 0.5394, auc/rust: 0.8190, auc/scab: 0.8527\n",
      "Evaluating Results - Average Loss: 1.0441 | auc/_mean: 0.8634 | auc/healthy: 0.9062 | auc/multiple_diseases: 0.6561, auc/rust: 0.9507, auc/scab: 0.9405\n",
      "\n"
     ]
    },
    {
     "data": {
      "application/vnd.jupyter.widget-view+json": {
       "model_id": "14097d69966e4f3a8f32e0304fe7da16",
       "version_major": 2,
       "version_minor": 0
      },
      "text/plain": [
       "HBox(children=(FloatProgress(value=0.0, description='Train', max=91.0, style=ProgressStyle(description_width='…"
      ]
     },
     "metadata": {},
     "output_type": "display_data"
    },
    {
     "name": "stdout",
     "output_type": "stream",
     "text": [
      "\n",
      "Epoch: 75 | Time: 0m 35s\n",
      "Training Results - Average Loss: 1.1195 | auc/_mean: 0.7799 | auc/healthy: 0.8355 | auc/multiple_diseases: 0.5974, auc/rust: 0.8283, auc/scab: 0.8583\n",
      "Evaluating Results - Average Loss: 1.0420 | auc/_mean: 0.8648 | auc/healthy: 0.9062 | auc/multiple_diseases: 0.6609, auc/rust: 0.9515, auc/scab: 0.9408\n",
      "\n"
     ]
    },
    {
     "data": {
      "application/vnd.jupyter.widget-view+json": {
       "model_id": "659f158b17584c6e844c9d4acff22b35",
       "version_major": 2,
       "version_minor": 0
      },
      "text/plain": [
       "HBox(children=(FloatProgress(value=0.0, description='Train', max=91.0, style=ProgressStyle(description_width='…"
      ]
     },
     "metadata": {},
     "output_type": "display_data"
    },
    {
     "name": "stdout",
     "output_type": "stream",
     "text": [
      "\n",
      "Epoch: 76 | Time: 0m 36s\n",
      "Training Results - Average Loss: 1.1127 | auc/_mean: 0.7832 | auc/healthy: 0.8297 | auc/multiple_diseases: 0.6028, auc/rust: 0.8432, auc/scab: 0.8571\n",
      "Evaluating Results - Average Loss: 1.0387 | auc/_mean: 0.8653 | auc/healthy: 0.9070 | auc/multiple_diseases: 0.6604, auc/rust: 0.9525, auc/scab: 0.9414\n",
      "\n"
     ]
    },
    {
     "data": {
      "application/vnd.jupyter.widget-view+json": {
       "model_id": "4476a2f33bd147678cf16fa4a345db06",
       "version_major": 2,
       "version_minor": 0
      },
      "text/plain": [
       "HBox(children=(FloatProgress(value=0.0, description='Train', max=91.0, style=ProgressStyle(description_width='…"
      ]
     },
     "metadata": {},
     "output_type": "display_data"
    },
    {
     "name": "stdout",
     "output_type": "stream",
     "text": [
      "\n",
      "Epoch: 77 | Time: 0m 35s\n",
      "Training Results - Average Loss: 1.1226 | auc/_mean: 0.7605 | auc/healthy: 0.8308 | auc/multiple_diseases: 0.5311, auc/rust: 0.8336, auc/scab: 0.8466\n",
      "Evaluating Results - Average Loss: 1.0342 | auc/_mean: 0.8643 | auc/healthy: 0.9081 | auc/multiple_diseases: 0.6547, auc/rust: 0.9538, auc/scab: 0.9408\n",
      "\n"
     ]
    },
    {
     "data": {
      "application/vnd.jupyter.widget-view+json": {
       "model_id": "a987f2a62fe64c689cfd9c4385a4113a",
       "version_major": 2,
       "version_minor": 0
      },
      "text/plain": [
       "HBox(children=(FloatProgress(value=0.0, description='Train', max=91.0, style=ProgressStyle(description_width='…"
      ]
     },
     "metadata": {},
     "output_type": "display_data"
    },
    {
     "name": "stdout",
     "output_type": "stream",
     "text": [
      "\n",
      "Epoch: 78 | Time: 0m 35s\n",
      "Training Results - Average Loss: 1.1201 | auc/_mean: 0.7635 | auc/healthy: 0.8180 | auc/multiple_diseases: 0.5471, auc/rust: 0.8198, auc/scab: 0.8693\n",
      "Evaluating Results - Average Loss: 1.0325 | auc/_mean: 0.8651 | auc/healthy: 0.9085 | auc/multiple_diseases: 0.6559, auc/rust: 0.9536, auc/scab: 0.9423\n",
      "\n"
     ]
    },
    {
     "data": {
      "application/vnd.jupyter.widget-view+json": {
       "model_id": "47c033110f1e4a41829c02affbd18798",
       "version_major": 2,
       "version_minor": 0
      },
      "text/plain": [
       "HBox(children=(FloatProgress(value=0.0, description='Train', max=91.0, style=ProgressStyle(description_width='…"
      ]
     },
     "metadata": {},
     "output_type": "display_data"
    },
    {
     "name": "stdout",
     "output_type": "stream",
     "text": [
      "\n",
      "Epoch: 79 | Time: 0m 35s\n",
      "Training Results - Average Loss: 1.1188 | auc/_mean: 0.7616 | auc/healthy: 0.8223 | auc/multiple_diseases: 0.5264, auc/rust: 0.8330, auc/scab: 0.8645\n",
      "Evaluating Results - Average Loss: 1.0283 | auc/_mean: 0.8657 | auc/healthy: 0.9099 | auc/multiple_diseases: 0.6567, auc/rust: 0.9539, auc/scab: 0.9424\n",
      "\n"
     ]
    },
    {
     "data": {
      "application/vnd.jupyter.widget-view+json": {
       "model_id": "cc55ef87b29148a3a29133348c11f721",
       "version_major": 2,
       "version_minor": 0
      },
      "text/plain": [
       "HBox(children=(FloatProgress(value=0.0, description='Train', max=91.0, style=ProgressStyle(description_width='…"
      ]
     },
     "metadata": {},
     "output_type": "display_data"
    },
    {
     "name": "stdout",
     "output_type": "stream",
     "text": [
      "\n",
      "Epoch: 80 | Time: 0m 35s\n",
      "Training Results - Average Loss: 1.1157 | auc/_mean: 0.7690 | auc/healthy: 0.8083 | auc/multiple_diseases: 0.5816, auc/rust: 0.8171, auc/scab: 0.8690\n",
      "Evaluating Results - Average Loss: 1.0269 | auc/_mean: 0.8666 | auc/healthy: 0.9122 | auc/multiple_diseases: 0.6567, auc/rust: 0.9549, auc/scab: 0.9426\n",
      "\n"
     ]
    },
    {
     "data": {
      "application/vnd.jupyter.widget-view+json": {
       "model_id": "beec6916ab6f468890e35c8f1a8e669f",
       "version_major": 2,
       "version_minor": 0
      },
      "text/plain": [
       "HBox(children=(FloatProgress(value=0.0, description='Train', max=91.0, style=ProgressStyle(description_width='…"
      ]
     },
     "metadata": {},
     "output_type": "display_data"
    },
    {
     "name": "stdout",
     "output_type": "stream",
     "text": [
      "\n",
      "Epoch: 81 | Time: 0m 35s\n",
      "Training Results - Average Loss: 1.1129 | auc/_mean: 0.7589 | auc/healthy: 0.8377 | auc/multiple_diseases: 0.4960, auc/rust: 0.8344, auc/scab: 0.8675\n",
      "Evaluating Results - Average Loss: 1.0241 | auc/_mean: 0.8665 | auc/healthy: 0.9128 | auc/multiple_diseases: 0.6540, auc/rust: 0.9563, auc/scab: 0.9431\n",
      "\n"
     ]
    },
    {
     "data": {
      "application/vnd.jupyter.widget-view+json": {
       "model_id": "fc0df9850716449f9560866cb57ee5cb",
       "version_major": 2,
       "version_minor": 0
      },
      "text/plain": [
       "HBox(children=(FloatProgress(value=0.0, description='Train', max=91.0, style=ProgressStyle(description_width='…"
      ]
     },
     "metadata": {},
     "output_type": "display_data"
    },
    {
     "name": "stdout",
     "output_type": "stream",
     "text": [
      "\n",
      "Epoch: 82 | Time: 0m 34s\n",
      "Training Results - Average Loss: 1.1046 | auc/_mean: 0.7794 | auc/healthy: 0.8437 | auc/multiple_diseases: 0.5826, auc/rust: 0.8309, auc/scab: 0.8604\n",
      "Evaluating Results - Average Loss: 1.0212 | auc/_mean: 0.8681 | auc/healthy: 0.9129 | auc/multiple_diseases: 0.6590, auc/rust: 0.9570, auc/scab: 0.9435\n",
      "\n"
     ]
    },
    {
     "data": {
      "application/vnd.jupyter.widget-view+json": {
       "model_id": "26de585aae304fe78c2d3e97c219c720",
       "version_major": 2,
       "version_minor": 0
      },
      "text/plain": [
       "HBox(children=(FloatProgress(value=0.0, description='Train', max=91.0, style=ProgressStyle(description_width='…"
      ]
     },
     "metadata": {},
     "output_type": "display_data"
    },
    {
     "name": "stdout",
     "output_type": "stream",
     "text": [
      "\n",
      "Epoch: 83 | Time: 0m 35s\n",
      "Training Results - Average Loss: 1.1119 | auc/_mean: 0.7724 | auc/healthy: 0.8346 | auc/multiple_diseases: 0.5626, auc/rust: 0.8334, auc/scab: 0.8592\n",
      "Evaluating Results - Average Loss: 1.0172 | auc/_mean: 0.8693 | auc/healthy: 0.9134 | auc/multiple_diseases: 0.6627, auc/rust: 0.9570, auc/scab: 0.9441\n",
      "\n"
     ]
    },
    {
     "data": {
      "application/vnd.jupyter.widget-view+json": {
       "model_id": "44edffa97cef42c5a8c529ee3dcf7962",
       "version_major": 2,
       "version_minor": 0
      },
      "text/plain": [
       "HBox(children=(FloatProgress(value=0.0, description='Train', max=91.0, style=ProgressStyle(description_width='…"
      ]
     },
     "metadata": {},
     "output_type": "display_data"
    },
    {
     "name": "stdout",
     "output_type": "stream",
     "text": [
      "\n",
      "Epoch: 84 | Time: 0m 34s\n",
      "Training Results - Average Loss: 1.1077 | auc/_mean: 0.7775 | auc/healthy: 0.8291 | auc/multiple_diseases: 0.5919, auc/rust: 0.8316, auc/scab: 0.8575\n",
      "Evaluating Results - Average Loss: 1.0158 | auc/_mean: 0.8707 | auc/healthy: 0.9134 | auc/multiple_diseases: 0.6670, auc/rust: 0.9575, auc/scab: 0.9450\n",
      "\n"
     ]
    },
    {
     "data": {
      "application/vnd.jupyter.widget-view+json": {
       "model_id": "01275a665f9a4a6e91bd6b11bb221816",
       "version_major": 2,
       "version_minor": 0
      },
      "text/plain": [
       "HBox(children=(FloatProgress(value=0.0, description='Train', max=91.0, style=ProgressStyle(description_width='…"
      ]
     },
     "metadata": {},
     "output_type": "display_data"
    },
    {
     "name": "stdout",
     "output_type": "stream",
     "text": [
      "\n",
      "Epoch: 85 | Time: 0m 35s\n",
      "Training Results - Average Loss: 1.1043 | auc/_mean: 0.7742 | auc/healthy: 0.8396 | auc/multiple_diseases: 0.5823, auc/rust: 0.8225, auc/scab: 0.8523\n",
      "Evaluating Results - Average Loss: 1.0128 | auc/_mean: 0.8698 | auc/healthy: 0.9148 | auc/multiple_diseases: 0.6619, auc/rust: 0.9582, auc/scab: 0.9445\n",
      "\n"
     ]
    },
    {
     "data": {
      "application/vnd.jupyter.widget-view+json": {
       "model_id": "96b8c493c517413bb55d3add61b5aeda",
       "version_major": 2,
       "version_minor": 0
      },
      "text/plain": [
       "HBox(children=(FloatProgress(value=0.0, description='Train', max=91.0, style=ProgressStyle(description_width='…"
      ]
     },
     "metadata": {},
     "output_type": "display_data"
    },
    {
     "name": "stdout",
     "output_type": "stream",
     "text": [
      "\n",
      "Epoch: 86 | Time: 0m 36s\n",
      "Training Results - Average Loss: 1.1066 | auc/_mean: 0.7748 | auc/healthy: 0.8040 | auc/multiple_diseases: 0.5916, auc/rust: 0.8343, auc/scab: 0.8693\n",
      "Evaluating Results - Average Loss: 1.0108 | auc/_mean: 0.8703 | auc/healthy: 0.9160 | auc/multiple_diseases: 0.6611, auc/rust: 0.9591, auc/scab: 0.9449\n",
      "\n"
     ]
    },
    {
     "data": {
      "application/vnd.jupyter.widget-view+json": {
       "model_id": "d4298ac11c814714ab22cf9fe2b5329a",
       "version_major": 2,
       "version_minor": 0
      },
      "text/plain": [
       "HBox(children=(FloatProgress(value=0.0, description='Train', max=91.0, style=ProgressStyle(description_width='…"
      ]
     },
     "metadata": {},
     "output_type": "display_data"
    },
    {
     "name": "stdout",
     "output_type": "stream",
     "text": [
      "\n",
      "Epoch: 87 | Time: 0m 35s\n",
      "Training Results - Average Loss: 1.0882 | auc/_mean: 0.7915 | auc/healthy: 0.8289 | auc/multiple_diseases: 0.5972, auc/rust: 0.8638, auc/scab: 0.8762\n",
      "Evaluating Results - Average Loss: 1.0085 | auc/_mean: 0.8716 | auc/healthy: 0.9161 | auc/multiple_diseases: 0.6652, auc/rust: 0.9596, auc/scab: 0.9453\n",
      "\n"
     ]
    },
    {
     "data": {
      "application/vnd.jupyter.widget-view+json": {
       "model_id": "59c3f6a61b5646b6a70044737de3e5d7",
       "version_major": 2,
       "version_minor": 0
      },
      "text/plain": [
       "HBox(children=(FloatProgress(value=0.0, description='Train', max=91.0, style=ProgressStyle(description_width='…"
      ]
     },
     "metadata": {},
     "output_type": "display_data"
    },
    {
     "name": "stdout",
     "output_type": "stream",
     "text": [
      "\n",
      "Epoch: 88 | Time: 0m 36s\n",
      "Training Results - Average Loss: 1.0981 | auc/_mean: 0.7713 | auc/healthy: 0.8377 | auc/multiple_diseases: 0.5305, auc/rust: 0.8501, auc/scab: 0.8668\n",
      "Evaluating Results - Average Loss: 1.0067 | auc/_mean: 0.8714 | auc/healthy: 0.9159 | auc/multiple_diseases: 0.6646, auc/rust: 0.9592, auc/scab: 0.9458\n",
      "\n"
     ]
    },
    {
     "data": {
      "application/vnd.jupyter.widget-view+json": {
       "model_id": "bca4b8fbbee24d3c8f40b19600c2c752",
       "version_major": 2,
       "version_minor": 0
      },
      "text/plain": [
       "HBox(children=(FloatProgress(value=0.0, description='Train', max=91.0, style=ProgressStyle(description_width='…"
      ]
     },
     "metadata": {},
     "output_type": "display_data"
    },
    {
     "name": "stdout",
     "output_type": "stream",
     "text": [
      "\n",
      "Epoch: 89 | Time: 0m 35s\n",
      "Training Results - Average Loss: 1.0974 | auc/_mean: 0.7713 | auc/healthy: 0.8368 | auc/multiple_diseases: 0.5390, auc/rust: 0.8324, auc/scab: 0.8770\n",
      "Evaluating Results - Average Loss: 1.0018 | auc/_mean: 0.8720 | auc/healthy: 0.9172 | auc/multiple_diseases: 0.6643, auc/rust: 0.9602, auc/scab: 0.9462\n",
      "\n"
     ]
    },
    {
     "data": {
      "application/vnd.jupyter.widget-view+json": {
       "model_id": "5aa0b2608e9b4aebb404081d91e0ed87",
       "version_major": 2,
       "version_minor": 0
      },
      "text/plain": [
       "HBox(children=(FloatProgress(value=0.0, description='Train', max=91.0, style=ProgressStyle(description_width='…"
      ]
     },
     "metadata": {},
     "output_type": "display_data"
    },
    {
     "name": "stdout",
     "output_type": "stream",
     "text": [
      "\n",
      "Epoch: 90 | Time: 0m 35s\n",
      "Training Results - Average Loss: 1.0904 | auc/_mean: 0.7904 | auc/healthy: 0.8418 | auc/multiple_diseases: 0.5998, auc/rust: 0.8401, auc/scab: 0.8797\n",
      "Evaluating Results - Average Loss: 0.9994 | auc/_mean: 0.8736 | auc/healthy: 0.9181 | auc/multiple_diseases: 0.6692, auc/rust: 0.9612, auc/scab: 0.9460\n",
      "\n"
     ]
    },
    {
     "data": {
      "application/vnd.jupyter.widget-view+json": {
       "model_id": "b1278504ff0941f599ec50e9e64589e6",
       "version_major": 2,
       "version_minor": 0
      },
      "text/plain": [
       "HBox(children=(FloatProgress(value=0.0, description='Train', max=91.0, style=ProgressStyle(description_width='…"
      ]
     },
     "metadata": {},
     "output_type": "display_data"
    },
    {
     "name": "stdout",
     "output_type": "stream",
     "text": [
      "\n",
      "Epoch: 91 | Time: 0m 35s\n",
      "Training Results - Average Loss: 1.0909 | auc/_mean: 0.7783 | auc/healthy: 0.8318 | auc/multiple_diseases: 0.5569, auc/rust: 0.8572, auc/scab: 0.8672\n",
      "Evaluating Results - Average Loss: 0.9959 | auc/_mean: 0.8730 | auc/healthy: 0.9181 | auc/multiple_diseases: 0.6663, auc/rust: 0.9612, auc/scab: 0.9464\n",
      "\n"
     ]
    },
    {
     "data": {
      "application/vnd.jupyter.widget-view+json": {
       "model_id": "7f2a01845b8b486590a0daa427fb3b3f",
       "version_major": 2,
       "version_minor": 0
      },
      "text/plain": [
       "HBox(children=(FloatProgress(value=0.0, description='Train', max=91.0, style=ProgressStyle(description_width='…"
      ]
     },
     "metadata": {},
     "output_type": "display_data"
    },
    {
     "name": "stdout",
     "output_type": "stream",
     "text": [
      "\n",
      "Epoch: 92 | Time: 0m 35s\n",
      "Training Results - Average Loss: 1.0948 | auc/_mean: 0.7731 | auc/healthy: 0.8311 | auc/multiple_diseases: 0.5570, auc/rust: 0.8397, auc/scab: 0.8647\n",
      "Evaluating Results - Average Loss: 0.9949 | auc/_mean: 0.8729 | auc/healthy: 0.9193 | auc/multiple_diseases: 0.6631, auc/rust: 0.9622, auc/scab: 0.9471\n",
      "\n"
     ]
    },
    {
     "data": {
      "application/vnd.jupyter.widget-view+json": {
       "model_id": "1865cf853e494e01ac727a7a203c8e61",
       "version_major": 2,
       "version_minor": 0
      },
      "text/plain": [
       "HBox(children=(FloatProgress(value=0.0, description='Train', max=91.0, style=ProgressStyle(description_width='…"
      ]
     },
     "metadata": {},
     "output_type": "display_data"
    },
    {
     "name": "stdout",
     "output_type": "stream",
     "text": [
      "\n",
      "Epoch: 93 | Time: 0m 35s\n",
      "Training Results - Average Loss: 1.0937 | auc/_mean: 0.7760 | auc/healthy: 0.8406 | auc/multiple_diseases: 0.5538, auc/rust: 0.8470, auc/scab: 0.8625\n",
      "Evaluating Results - Average Loss: 0.9928 | auc/_mean: 0.8741 | auc/healthy: 0.9200 | auc/multiple_diseases: 0.6675, auc/rust: 0.9619, auc/scab: 0.9468\n",
      "\n"
     ]
    },
    {
     "data": {
      "application/vnd.jupyter.widget-view+json": {
       "model_id": "ef6da8ca0bf340fcb12d5d2863de530d",
       "version_major": 2,
       "version_minor": 0
      },
      "text/plain": [
       "HBox(children=(FloatProgress(value=0.0, description='Train', max=91.0, style=ProgressStyle(description_width='…"
      ]
     },
     "metadata": {},
     "output_type": "display_data"
    },
    {
     "name": "stdout",
     "output_type": "stream",
     "text": [
      "\n",
      "Epoch: 94 | Time: 0m 35s\n",
      "Training Results - Average Loss: 1.0843 | auc/_mean: 0.7796 | auc/healthy: 0.8590 | auc/multiple_diseases: 0.5328, auc/rust: 0.8576, auc/scab: 0.8689\n",
      "Evaluating Results - Average Loss: 0.9908 | auc/_mean: 0.8729 | auc/healthy: 0.9207 | auc/multiple_diseases: 0.6604, auc/rust: 0.9633, auc/scab: 0.9473\n",
      "\n"
     ]
    },
    {
     "data": {
      "application/vnd.jupyter.widget-view+json": {
       "model_id": "daf3296b47574864976f4dd6bdb29055",
       "version_major": 2,
       "version_minor": 0
      },
      "text/plain": [
       "HBox(children=(FloatProgress(value=0.0, description='Train', max=91.0, style=ProgressStyle(description_width='…"
      ]
     },
     "metadata": {},
     "output_type": "display_data"
    },
    {
     "name": "stdout",
     "output_type": "stream",
     "text": [
      "\n",
      "Epoch: 95 | Time: 0m 35s\n",
      "Training Results - Average Loss: 1.0909 | auc/_mean: 0.7805 | auc/healthy: 0.8375 | auc/multiple_diseases: 0.5788, auc/rust: 0.8487, auc/scab: 0.8572\n",
      "Evaluating Results - Average Loss: 0.9862 | auc/_mean: 0.8743 | auc/healthy: 0.9226 | auc/multiple_diseases: 0.6636, auc/rust: 0.9634, auc/scab: 0.9478\n",
      "\n"
     ]
    },
    {
     "data": {
      "application/vnd.jupyter.widget-view+json": {
       "model_id": "f34f6eb9e5de4ea3b1fdf89f71c1344d",
       "version_major": 2,
       "version_minor": 0
      },
      "text/plain": [
       "HBox(children=(FloatProgress(value=0.0, description='Train', max=91.0, style=ProgressStyle(description_width='…"
      ]
     },
     "metadata": {},
     "output_type": "display_data"
    },
    {
     "name": "stdout",
     "output_type": "stream",
     "text": [
      "\n",
      "Epoch: 96 | Time: 0m 35s\n",
      "Training Results - Average Loss: 1.0768 | auc/_mean: 0.7963 | auc/healthy: 0.8443 | auc/multiple_diseases: 0.6146, auc/rust: 0.8509, auc/scab: 0.8754\n",
      "Evaluating Results - Average Loss: 0.9846 | auc/_mean: 0.8750 | auc/healthy: 0.9227 | auc/multiple_diseases: 0.6659, auc/rust: 0.9638, auc/scab: 0.9477\n",
      "\n"
     ]
    },
    {
     "data": {
      "application/vnd.jupyter.widget-view+json": {
       "model_id": "f1f7e443edef4e7da9e072b35c45399f",
       "version_major": 2,
       "version_minor": 0
      },
      "text/plain": [
       "HBox(children=(FloatProgress(value=0.0, description='Train', max=91.0, style=ProgressStyle(description_width='…"
      ]
     },
     "metadata": {},
     "output_type": "display_data"
    },
    {
     "name": "stdout",
     "output_type": "stream",
     "text": [
      "\n",
      "Epoch: 97 | Time: 0m 35s\n",
      "Training Results - Average Loss: 1.0797 | auc/_mean: 0.7835 | auc/healthy: 0.8366 | auc/multiple_diseases: 0.5638, auc/rust: 0.8587, auc/scab: 0.8749\n",
      "Evaluating Results - Average Loss: 0.9822 | auc/_mean: 0.8765 | auc/healthy: 0.9232 | auc/multiple_diseases: 0.6707, auc/rust: 0.9644, auc/scab: 0.9477\n",
      "\n"
     ]
    },
    {
     "data": {
      "application/vnd.jupyter.widget-view+json": {
       "model_id": "eb6aaf45eacd4f4b95c04d4288563709",
       "version_major": 2,
       "version_minor": 0
      },
      "text/plain": [
       "HBox(children=(FloatProgress(value=0.0, description='Train', max=91.0, style=ProgressStyle(description_width='…"
      ]
     },
     "metadata": {},
     "output_type": "display_data"
    },
    {
     "name": "stdout",
     "output_type": "stream",
     "text": [
      "\n",
      "Epoch: 98 | Time: 0m 35s\n",
      "Training Results - Average Loss: 1.0786 | auc/_mean: 0.8006 | auc/healthy: 0.8322 | auc/multiple_diseases: 0.6349, auc/rust: 0.8605, auc/scab: 0.8749\n",
      "Evaluating Results - Average Loss: 0.9805 | auc/_mean: 0.8771 | auc/healthy: 0.9236 | auc/multiple_diseases: 0.6732, auc/rust: 0.9639, auc/scab: 0.9477\n",
      "\n"
     ]
    },
    {
     "data": {
      "application/vnd.jupyter.widget-view+json": {
       "model_id": "054332e75e3a4dea9a716fdb96cc3508",
       "version_major": 2,
       "version_minor": 0
      },
      "text/plain": [
       "HBox(children=(FloatProgress(value=0.0, description='Train', max=91.0, style=ProgressStyle(description_width='…"
      ]
     },
     "metadata": {},
     "output_type": "display_data"
    },
    {
     "name": "stdout",
     "output_type": "stream",
     "text": [
      "\n",
      "Epoch: 99 | Time: 0m 35s\n",
      "Training Results - Average Loss: 1.0793 | auc/_mean: 0.7812 | auc/healthy: 0.8381 | auc/multiple_diseases: 0.5657, auc/rust: 0.8456, auc/scab: 0.8753\n",
      "Evaluating Results - Average Loss: 0.9780 | auc/_mean: 0.8753 | auc/healthy: 0.9248 | auc/multiple_diseases: 0.6638, auc/rust: 0.9650, auc/scab: 0.9476\n",
      "\n"
     ]
    },
    {
     "data": {
      "application/vnd.jupyter.widget-view+json": {
       "model_id": "a5550d52d3144669b36f285326ba1cc5",
       "version_major": 2,
       "version_minor": 0
      },
      "text/plain": [
       "HBox(children=(FloatProgress(value=0.0, description='Train', max=91.0, style=ProgressStyle(description_width='…"
      ]
     },
     "metadata": {},
     "output_type": "display_data"
    },
    {
     "name": "stdout",
     "output_type": "stream",
     "text": [
      "\n",
      "Epoch: 100 | Time: 0m 35s\n",
      "Training Results - Average Loss: 1.0700 | auc/_mean: 0.7929 | auc/healthy: 0.8513 | auc/multiple_diseases: 0.5737, auc/rust: 0.8718, auc/scab: 0.8746\n",
      "Evaluating Results - Average Loss: 0.9740 | auc/_mean: 0.8760 | auc/healthy: 0.9247 | auc/multiple_diseases: 0.6665, auc/rust: 0.9650, auc/scab: 0.9477\n",
      "\n"
     ]
    },
    {
     "data": {
      "application/vnd.jupyter.widget-view+json": {
       "model_id": "09f654fc79ab4181a391458a2760d357",
       "version_major": 2,
       "version_minor": 0
      },
      "text/plain": [
       "HBox(children=(FloatProgress(value=0.0, description='Train', max=91.0, style=ProgressStyle(description_width='…"
      ]
     },
     "metadata": {},
     "output_type": "display_data"
    },
    {
     "name": "stdout",
     "output_type": "stream",
     "text": [
      "\n",
      "Epoch: 101 | Time: 0m 35s\n",
      "Training Results - Average Loss: 1.0750 | auc/_mean: 0.7886 | auc/healthy: 0.8370 | auc/multiple_diseases: 0.5828, auc/rust: 0.8646, auc/scab: 0.8700\n",
      "Evaluating Results - Average Loss: 0.9724 | auc/_mean: 0.8768 | auc/healthy: 0.9240 | auc/multiple_diseases: 0.6695, auc/rust: 0.9651, auc/scab: 0.9485\n",
      "\n"
     ]
    },
    {
     "data": {
      "application/vnd.jupyter.widget-view+json": {
       "model_id": "1babe0c98003469e8fea82af367e903a",
       "version_major": 2,
       "version_minor": 0
      },
      "text/plain": [
       "HBox(children=(FloatProgress(value=0.0, description='Train', max=91.0, style=ProgressStyle(description_width='…"
      ]
     },
     "metadata": {},
     "output_type": "display_data"
    },
    {
     "name": "stdout",
     "output_type": "stream",
     "text": [
      "\n",
      "Epoch: 102 | Time: 0m 35s\n",
      "Training Results - Average Loss: 1.0705 | auc/_mean: 0.7786 | auc/healthy: 0.8568 | auc/multiple_diseases: 0.5125, auc/rust: 0.8706, auc/scab: 0.8744\n",
      "Evaluating Results - Average Loss: 0.9688 | auc/_mean: 0.8774 | auc/healthy: 0.9255 | auc/multiple_diseases: 0.6694, auc/rust: 0.9661, auc/scab: 0.9486\n",
      "\n"
     ]
    },
    {
     "data": {
      "application/vnd.jupyter.widget-view+json": {
       "model_id": "7ee5be2f462649acb6b894c662e37ff2",
       "version_major": 2,
       "version_minor": 0
      },
      "text/plain": [
       "HBox(children=(FloatProgress(value=0.0, description='Train', max=91.0, style=ProgressStyle(description_width='…"
      ]
     },
     "metadata": {},
     "output_type": "display_data"
    },
    {
     "name": "stdout",
     "output_type": "stream",
     "text": [
      "\n",
      "Epoch: 103 | Time: 0m 35s\n",
      "Training Results - Average Loss: 1.0639 | auc/_mean: 0.7983 | auc/healthy: 0.8639 | auc/multiple_diseases: 0.5888, auc/rust: 0.8530, auc/scab: 0.8873\n",
      "Evaluating Results - Average Loss: 0.9680 | auc/_mean: 0.8772 | auc/healthy: 0.9253 | auc/multiple_diseases: 0.6684, auc/rust: 0.9658, auc/scab: 0.9492\n",
      "\n"
     ]
    },
    {
     "data": {
      "application/vnd.jupyter.widget-view+json": {
       "model_id": "6a78e44bad5d44bbbdd8c4011c9bad4a",
       "version_major": 2,
       "version_minor": 0
      },
      "text/plain": [
       "HBox(children=(FloatProgress(value=0.0, description='Train', max=91.0, style=ProgressStyle(description_width='…"
      ]
     },
     "metadata": {},
     "output_type": "display_data"
    },
    {
     "name": "stdout",
     "output_type": "stream",
     "text": [
      "\n",
      "Epoch: 104 | Time: 0m 35s\n",
      "Training Results - Average Loss: 1.0780 | auc/_mean: 0.7814 | auc/healthy: 0.8465 | auc/multiple_diseases: 0.5604, auc/rust: 0.8450, auc/scab: 0.8739\n",
      "Evaluating Results - Average Loss: 0.9654 | auc/_mean: 0.8771 | auc/healthy: 0.9255 | auc/multiple_diseases: 0.6686, auc/rust: 0.9659, auc/scab: 0.9486\n",
      "\n"
     ]
    },
    {
     "data": {
      "application/vnd.jupyter.widget-view+json": {
       "model_id": "0bc9807f04964fe1b23fca2c9364bb8b",
       "version_major": 2,
       "version_minor": 0
      },
      "text/plain": [
       "HBox(children=(FloatProgress(value=0.0, description='Train', max=91.0, style=ProgressStyle(description_width='…"
      ]
     },
     "metadata": {},
     "output_type": "display_data"
    },
    {
     "name": "stdout",
     "output_type": "stream",
     "text": [
      "\n",
      "Epoch: 105 | Time: 0m 35s\n",
      "Training Results - Average Loss: 1.0697 | auc/_mean: 0.7882 | auc/healthy: 0.8436 | auc/multiple_diseases: 0.5545, auc/rust: 0.8763, auc/scab: 0.8782\n",
      "Evaluating Results - Average Loss: 0.9652 | auc/_mean: 0.8773 | auc/healthy: 0.9270 | auc/multiple_diseases: 0.6663, auc/rust: 0.9662, auc/scab: 0.9497\n",
      "\n"
     ]
    },
    {
     "data": {
      "application/vnd.jupyter.widget-view+json": {
       "model_id": "18a7059f85254599918c2e7eae023f81",
       "version_major": 2,
       "version_minor": 0
      },
      "text/plain": [
       "HBox(children=(FloatProgress(value=0.0, description='Train', max=91.0, style=ProgressStyle(description_width='…"
      ]
     },
     "metadata": {},
     "output_type": "display_data"
    },
    {
     "name": "stdout",
     "output_type": "stream",
     "text": [
      "\n",
      "Epoch: 106 | Time: 0m 35s\n",
      "Training Results - Average Loss: 1.0715 | auc/_mean: 0.7822 | auc/healthy: 0.8496 | auc/multiple_diseases: 0.5410, auc/rust: 0.8647, auc/scab: 0.8737\n",
      "Evaluating Results - Average Loss: 0.9628 | auc/_mean: 0.8781 | auc/healthy: 0.9277 | auc/multiple_diseases: 0.6689, auc/rust: 0.9665, auc/scab: 0.9491\n",
      "\n"
     ]
    },
    {
     "data": {
      "application/vnd.jupyter.widget-view+json": {
       "model_id": "f591548cf18b441aa62710208b305aed",
       "version_major": 2,
       "version_minor": 0
      },
      "text/plain": [
       "HBox(children=(FloatProgress(value=0.0, description='Train', max=91.0, style=ProgressStyle(description_width='…"
      ]
     },
     "metadata": {},
     "output_type": "display_data"
    },
    {
     "name": "stdout",
     "output_type": "stream",
     "text": [
      "\n",
      "Epoch: 107 | Time: 0m 35s\n",
      "Training Results - Average Loss: 1.0587 | auc/_mean: 0.8074 | auc/healthy: 0.8529 | auc/multiple_diseases: 0.6314, auc/rust: 0.8659, auc/scab: 0.8794\n",
      "Evaluating Results - Average Loss: 0.9595 | auc/_mean: 0.8774 | auc/healthy: 0.9274 | auc/multiple_diseases: 0.6660, auc/rust: 0.9662, auc/scab: 0.9501\n",
      "\n"
     ]
    },
    {
     "data": {
      "application/vnd.jupyter.widget-view+json": {
       "model_id": "3fdea6f38dbf4b1086c91519a4f6894b",
       "version_major": 2,
       "version_minor": 0
      },
      "text/plain": [
       "HBox(children=(FloatProgress(value=0.0, description='Train', max=91.0, style=ProgressStyle(description_width='…"
      ]
     },
     "metadata": {},
     "output_type": "display_data"
    },
    {
     "name": "stdout",
     "output_type": "stream",
     "text": [
      "\n",
      "Epoch: 108 | Time: 0m 35s\n",
      "Training Results - Average Loss: 1.0697 | auc/_mean: 0.7883 | auc/healthy: 0.8483 | auc/multiple_diseases: 0.5763, auc/rust: 0.8559, auc/scab: 0.8727\n",
      "Evaluating Results - Average Loss: 0.9557 | auc/_mean: 0.8802 | auc/healthy: 0.9283 | auc/multiple_diseases: 0.6756, auc/rust: 0.9666, auc/scab: 0.9505\n",
      "\n"
     ]
    },
    {
     "data": {
      "application/vnd.jupyter.widget-view+json": {
       "model_id": "9b02c868155d4b2099405d0c82880a58",
       "version_major": 2,
       "version_minor": 0
      },
      "text/plain": [
       "HBox(children=(FloatProgress(value=0.0, description='Train', max=91.0, style=ProgressStyle(description_width='…"
      ]
     },
     "metadata": {},
     "output_type": "display_data"
    },
    {
     "name": "stdout",
     "output_type": "stream",
     "text": [
      "\n",
      "Epoch: 109 | Time: 0m 36s\n",
      "Training Results - Average Loss: 1.0658 | auc/_mean: 0.7805 | auc/healthy: 0.8361 | auc/multiple_diseases: 0.5385, auc/rust: 0.8675, auc/scab: 0.8800\n",
      "Evaluating Results - Average Loss: 0.9531 | auc/_mean: 0.8798 | auc/healthy: 0.9298 | auc/multiple_diseases: 0.6718, auc/rust: 0.9669, auc/scab: 0.9506\n",
      "\n"
     ]
    },
    {
     "data": {
      "application/vnd.jupyter.widget-view+json": {
       "model_id": "e9873adc3e384bbfa9a743f575e695a1",
       "version_major": 2,
       "version_minor": 0
      },
      "text/plain": [
       "HBox(children=(FloatProgress(value=0.0, description='Train', max=91.0, style=ProgressStyle(description_width='…"
      ]
     },
     "metadata": {},
     "output_type": "display_data"
    },
    {
     "name": "stdout",
     "output_type": "stream",
     "text": [
      "\n",
      "Epoch: 110 | Time: 0m 35s\n",
      "Training Results - Average Loss: 1.0553 | auc/_mean: 0.7873 | auc/healthy: 0.8721 | auc/multiple_diseases: 0.5381, auc/rust: 0.8658, auc/scab: 0.8733\n",
      "Evaluating Results - Average Loss: 0.9493 | auc/_mean: 0.8795 | auc/healthy: 0.9306 | auc/multiple_diseases: 0.6694, auc/rust: 0.9678, auc/scab: 0.9500\n",
      "\n"
     ]
    },
    {
     "data": {
      "application/vnd.jupyter.widget-view+json": {
       "model_id": "2626f9e20cb74872924f3862d35415d9",
       "version_major": 2,
       "version_minor": 0
      },
      "text/plain": [
       "HBox(children=(FloatProgress(value=0.0, description='Train', max=91.0, style=ProgressStyle(description_width='…"
      ]
     },
     "metadata": {},
     "output_type": "display_data"
    },
    {
     "name": "stdout",
     "output_type": "stream",
     "text": [
      "\n",
      "Epoch: 111 | Time: 0m 35s\n",
      "Training Results - Average Loss: 1.0589 | auc/_mean: 0.7906 | auc/healthy: 0.8585 | auc/multiple_diseases: 0.5587, auc/rust: 0.8713, auc/scab: 0.8739\n",
      "Evaluating Results - Average Loss: 0.9490 | auc/_mean: 0.8807 | auc/healthy: 0.9299 | auc/multiple_diseases: 0.6756, auc/rust: 0.9677, auc/scab: 0.9497\n",
      "\n"
     ]
    },
    {
     "data": {
      "application/vnd.jupyter.widget-view+json": {
       "model_id": "291f4abcc9874b35829ef055ff5ffada",
       "version_major": 2,
       "version_minor": 0
      },
      "text/plain": [
       "HBox(children=(FloatProgress(value=0.0, description='Train', max=91.0, style=ProgressStyle(description_width='…"
      ]
     },
     "metadata": {},
     "output_type": "display_data"
    },
    {
     "name": "stdout",
     "output_type": "stream",
     "text": [
      "\n",
      "Epoch: 112 | Time: 0m 35s\n",
      "Training Results - Average Loss: 1.0497 | auc/_mean: 0.8071 | auc/healthy: 0.8578 | auc/multiple_diseases: 0.6122, auc/rust: 0.8826, auc/scab: 0.8759\n",
      "Evaluating Results - Average Loss: 0.9487 | auc/_mean: 0.8809 | auc/healthy: 0.9296 | auc/multiple_diseases: 0.6774, auc/rust: 0.9672, auc/scab: 0.9494\n",
      "\n"
     ]
    },
    {
     "data": {
      "application/vnd.jupyter.widget-view+json": {
       "model_id": "3dc9f6192fc34723905a8ecbf8a72e58",
       "version_major": 2,
       "version_minor": 0
      },
      "text/plain": [
       "HBox(children=(FloatProgress(value=0.0, description='Train', max=91.0, style=ProgressStyle(description_width='…"
      ]
     },
     "metadata": {},
     "output_type": "display_data"
    },
    {
     "name": "stdout",
     "output_type": "stream",
     "text": [
      "\n",
      "Epoch: 113 | Time: 0m 35s\n",
      "Training Results - Average Loss: 1.0498 | auc/_mean: 0.8011 | auc/healthy: 0.8565 | auc/multiple_diseases: 0.5829, auc/rust: 0.8768, auc/scab: 0.8882\n",
      "Evaluating Results - Average Loss: 0.9459 | auc/_mean: 0.8819 | auc/healthy: 0.9291 | auc/multiple_diseases: 0.6816, auc/rust: 0.9671, auc/scab: 0.9501\n",
      "\n"
     ]
    },
    {
     "data": {
      "application/vnd.jupyter.widget-view+json": {
       "model_id": "7005d7074a3744ec9bc25254a803f884",
       "version_major": 2,
       "version_minor": 0
      },
      "text/plain": [
       "HBox(children=(FloatProgress(value=0.0, description='Train', max=91.0, style=ProgressStyle(description_width='…"
      ]
     },
     "metadata": {},
     "output_type": "display_data"
    },
    {
     "name": "stdout",
     "output_type": "stream",
     "text": [
      "\n",
      "Epoch: 114 | Time: 0m 35s\n",
      "Training Results - Average Loss: 1.0488 | auc/_mean: 0.8064 | auc/healthy: 0.8499 | auc/multiple_diseases: 0.6197, auc/rust: 0.8790, auc/scab: 0.8771\n",
      "Evaluating Results - Average Loss: 0.9420 | auc/_mean: 0.8808 | auc/healthy: 0.9312 | auc/multiple_diseases: 0.6740, auc/rust: 0.9680, auc/scab: 0.9501\n",
      "\n"
     ]
    },
    {
     "data": {
      "application/vnd.jupyter.widget-view+json": {
       "model_id": "f3a6dd217bee49b2abdb7fabf3e2efce",
       "version_major": 2,
       "version_minor": 0
      },
      "text/plain": [
       "HBox(children=(FloatProgress(value=0.0, description='Train', max=91.0, style=ProgressStyle(description_width='…"
      ]
     },
     "metadata": {},
     "output_type": "display_data"
    },
    {
     "name": "stdout",
     "output_type": "stream",
     "text": [
      "\n",
      "Epoch: 115 | Time: 0m 35s\n",
      "Training Results - Average Loss: 1.0407 | auc/_mean: 0.8122 | auc/healthy: 0.8724 | auc/multiple_diseases: 0.6111, auc/rust: 0.8789, auc/scab: 0.8863\n",
      "Evaluating Results - Average Loss: 0.9407 | auc/_mean: 0.8818 | auc/healthy: 0.9313 | auc/multiple_diseases: 0.6774, auc/rust: 0.9682, auc/scab: 0.9504\n",
      "\n"
     ]
    },
    {
     "data": {
      "application/vnd.jupyter.widget-view+json": {
       "model_id": "c2271332b66c45dc8aa8cae01cbbc625",
       "version_major": 2,
       "version_minor": 0
      },
      "text/plain": [
       "HBox(children=(FloatProgress(value=0.0, description='Train', max=91.0, style=ProgressStyle(description_width='…"
      ]
     },
     "metadata": {},
     "output_type": "display_data"
    },
    {
     "name": "stdout",
     "output_type": "stream",
     "text": [
      "\n",
      "Epoch: 116 | Time: 0m 35s\n",
      "Training Results - Average Loss: 1.0488 | auc/_mean: 0.8058 | auc/healthy: 0.8527 | auc/multiple_diseases: 0.6185, auc/rust: 0.8742, auc/scab: 0.8779\n",
      "Evaluating Results - Average Loss: 0.9411 | auc/_mean: 0.8805 | auc/healthy: 0.9311 | auc/multiple_diseases: 0.6721, auc/rust: 0.9681, auc/scab: 0.9507\n",
      "\n"
     ]
    },
    {
     "data": {
      "application/vnd.jupyter.widget-view+json": {
       "model_id": "3d62f0bd122143b388fb1ab52dd4479c",
       "version_major": 2,
       "version_minor": 0
      },
      "text/plain": [
       "HBox(children=(FloatProgress(value=0.0, description='Train', max=91.0, style=ProgressStyle(description_width='…"
      ]
     },
     "metadata": {},
     "output_type": "display_data"
    },
    {
     "name": "stdout",
     "output_type": "stream",
     "text": [
      "\n",
      "Epoch: 117 | Time: 0m 36s\n",
      "Training Results - Average Loss: 1.0492 | auc/_mean: 0.7964 | auc/healthy: 0.8597 | auc/multiple_diseases: 0.5704, auc/rust: 0.8694, auc/scab: 0.8859\n",
      "Evaluating Results - Average Loss: 0.9387 | auc/_mean: 0.8825 | auc/healthy: 0.9310 | auc/multiple_diseases: 0.6798, auc/rust: 0.9682, auc/scab: 0.9512\n",
      "\n"
     ]
    },
    {
     "data": {
      "application/vnd.jupyter.widget-view+json": {
       "model_id": "42404587cc2d45d0a2cbc8a41beed75d",
       "version_major": 2,
       "version_minor": 0
      },
      "text/plain": [
       "HBox(children=(FloatProgress(value=0.0, description='Train', max=91.0, style=ProgressStyle(description_width='…"
      ]
     },
     "metadata": {},
     "output_type": "display_data"
    },
    {
     "name": "stdout",
     "output_type": "stream",
     "text": [
      "\n",
      "Epoch: 118 | Time: 0m 35s\n",
      "Training Results - Average Loss: 1.0466 | auc/_mean: 0.8021 | auc/healthy: 0.8708 | auc/multiple_diseases: 0.5881, auc/rust: 0.8605, auc/scab: 0.8890\n",
      "Evaluating Results - Average Loss: 0.9361 | auc/_mean: 0.8817 | auc/healthy: 0.9318 | auc/multiple_diseases: 0.6755, auc/rust: 0.9683, auc/scab: 0.9511\n",
      "\n"
     ]
    },
    {
     "data": {
      "application/vnd.jupyter.widget-view+json": {
       "model_id": "7de2d170db7c42b69f6f92f9bc080db5",
       "version_major": 2,
       "version_minor": 0
      },
      "text/plain": [
       "HBox(children=(FloatProgress(value=0.0, description='Train', max=91.0, style=ProgressStyle(description_width='…"
      ]
     },
     "metadata": {},
     "output_type": "display_data"
    },
    {
     "name": "stdout",
     "output_type": "stream",
     "text": [
      "\n",
      "Epoch: 119 | Time: 0m 35s\n",
      "Training Results - Average Loss: 1.0430 | auc/_mean: 0.8103 | auc/healthy: 0.8558 | auc/multiple_diseases: 0.6337, auc/rust: 0.8801, auc/scab: 0.8715\n",
      "Evaluating Results - Average Loss: 0.9351 | auc/_mean: 0.8815 | auc/healthy: 0.9314 | auc/multiple_diseases: 0.6756, auc/rust: 0.9677, auc/scab: 0.9511\n",
      "\n"
     ]
    },
    {
     "data": {
      "application/vnd.jupyter.widget-view+json": {
       "model_id": "4d1b9632cbc6479b99570e0a87578be3",
       "version_major": 2,
       "version_minor": 0
      },
      "text/plain": [
       "HBox(children=(FloatProgress(value=0.0, description='Train', max=91.0, style=ProgressStyle(description_width='…"
      ]
     },
     "metadata": {},
     "output_type": "display_data"
    },
    {
     "name": "stdout",
     "output_type": "stream",
     "text": [
      "\n",
      "Epoch: 120 | Time: 0m 35s\n",
      "Training Results - Average Loss: 1.0346 | auc/_mean: 0.8119 | auc/healthy: 0.8719 | auc/multiple_diseases: 0.5967, auc/rust: 0.8930, auc/scab: 0.8858\n",
      "Evaluating Results - Average Loss: 0.9340 | auc/_mean: 0.8822 | auc/healthy: 0.9316 | auc/multiple_diseases: 0.6782, auc/rust: 0.9679, auc/scab: 0.9512\n",
      "\n"
     ]
    },
    {
     "data": {
      "application/vnd.jupyter.widget-view+json": {
       "model_id": "d177f40bed0d46b2a32e4b1e9e262bb4",
       "version_major": 2,
       "version_minor": 0
      },
      "text/plain": [
       "HBox(children=(FloatProgress(value=0.0, description='Train', max=91.0, style=ProgressStyle(description_width='…"
      ]
     },
     "metadata": {},
     "output_type": "display_data"
    },
    {
     "name": "stdout",
     "output_type": "stream",
     "text": [
      "\n",
      "Epoch: 121 | Time: 0m 34s\n",
      "Training Results - Average Loss: 1.0484 | auc/_mean: 0.7929 | auc/healthy: 0.8664 | auc/multiple_diseases: 0.5683, auc/rust: 0.8729, auc/scab: 0.8642\n",
      "Evaluating Results - Average Loss: 0.9315 | auc/_mean: 0.8819 | auc/healthy: 0.9321 | auc/multiple_diseases: 0.6761, auc/rust: 0.9679, auc/scab: 0.9515\n",
      "\n"
     ]
    },
    {
     "data": {
      "application/vnd.jupyter.widget-view+json": {
       "model_id": "9a131644dab54c15949aaf285c404bde",
       "version_major": 2,
       "version_minor": 0
      },
      "text/plain": [
       "HBox(children=(FloatProgress(value=0.0, description='Train', max=91.0, style=ProgressStyle(description_width='…"
      ]
     },
     "metadata": {},
     "output_type": "display_data"
    },
    {
     "name": "stdout",
     "output_type": "stream",
     "text": [
      "\n",
      "Epoch: 122 | Time: 0m 35s\n",
      "Training Results - Average Loss: 1.0447 | auc/_mean: 0.7962 | auc/healthy: 0.8656 | auc/multiple_diseases: 0.5758, auc/rust: 0.8729, auc/scab: 0.8706\n",
      "Evaluating Results - Average Loss: 0.9289 | auc/_mean: 0.8823 | auc/healthy: 0.9329 | auc/multiple_diseases: 0.6769, auc/rust: 0.9681, auc/scab: 0.9514\n",
      "\n"
     ]
    },
    {
     "data": {
      "application/vnd.jupyter.widget-view+json": {
       "model_id": "97895052a95a459faa9f5be2b9e73091",
       "version_major": 2,
       "version_minor": 0
      },
      "text/plain": [
       "HBox(children=(FloatProgress(value=0.0, description='Train', max=91.0, style=ProgressStyle(description_width='…"
      ]
     },
     "metadata": {},
     "output_type": "display_data"
    },
    {
     "name": "stdout",
     "output_type": "stream",
     "text": [
      "\n",
      "Epoch: 123 | Time: 0m 36s\n",
      "Training Results - Average Loss: 1.0215 | auc/_mean: 0.8312 | auc/healthy: 0.8841 | auc/multiple_diseases: 0.6613, auc/rust: 0.8919, auc/scab: 0.8874\n",
      "Evaluating Results - Average Loss: 0.9262 | auc/_mean: 0.8828 | auc/healthy: 0.9338 | auc/multiple_diseases: 0.6772, auc/rust: 0.9686, auc/scab: 0.9515\n",
      "\n"
     ]
    },
    {
     "data": {
      "application/vnd.jupyter.widget-view+json": {
       "model_id": "d37ba9f6172b40fab10ee39a007856c5",
       "version_major": 2,
       "version_minor": 0
      },
      "text/plain": [
       "HBox(children=(FloatProgress(value=0.0, description='Train', max=91.0, style=ProgressStyle(description_width='…"
      ]
     },
     "metadata": {},
     "output_type": "display_data"
    },
    {
     "name": "stdout",
     "output_type": "stream",
     "text": [
      "\n",
      "Epoch: 124 | Time: 0m 35s\n",
      "Training Results - Average Loss: 1.0402 | auc/_mean: 0.7944 | auc/healthy: 0.8651 | auc/multiple_diseases: 0.5559, auc/rust: 0.8777, auc/scab: 0.8790\n",
      "Evaluating Results - Average Loss: 0.9222 | auc/_mean: 0.8835 | auc/healthy: 0.9352 | auc/multiple_diseases: 0.6780, auc/rust: 0.9690, auc/scab: 0.9518\n",
      "\n"
     ]
    },
    {
     "data": {
      "application/vnd.jupyter.widget-view+json": {
       "model_id": "511300aee96e43da936ae7dd25179adf",
       "version_major": 2,
       "version_minor": 0
      },
      "text/plain": [
       "HBox(children=(FloatProgress(value=0.0, description='Train', max=91.0, style=ProgressStyle(description_width='…"
      ]
     },
     "metadata": {},
     "output_type": "display_data"
    },
    {
     "name": "stdout",
     "output_type": "stream",
     "text": [
      "\n",
      "Epoch: 125 | Time: 0m 35s\n",
      "Training Results - Average Loss: 1.0320 | auc/_mean: 0.8162 | auc/healthy: 0.8659 | auc/multiple_diseases: 0.6312, auc/rust: 0.8857, auc/scab: 0.8821\n",
      "Evaluating Results - Average Loss: 0.9221 | auc/_mean: 0.8822 | auc/healthy: 0.9347 | auc/multiple_diseases: 0.6737, auc/rust: 0.9689, auc/scab: 0.9516\n",
      "\n"
     ]
    },
    {
     "data": {
      "application/vnd.jupyter.widget-view+json": {
       "model_id": "a1abe4c94fc044689eea2ad6c725beb8",
       "version_major": 2,
       "version_minor": 0
      },
      "text/plain": [
       "HBox(children=(FloatProgress(value=0.0, description='Train', max=91.0, style=ProgressStyle(description_width='…"
      ]
     },
     "metadata": {},
     "output_type": "display_data"
    },
    {
     "name": "stdout",
     "output_type": "stream",
     "text": [
      "\n",
      "Epoch: 126 | Time: 0m 36s\n",
      "Training Results - Average Loss: 1.0290 | auc/_mean: 0.8081 | auc/healthy: 0.8696 | auc/multiple_diseases: 0.5851, auc/rust: 0.8845, auc/scab: 0.8930\n",
      "Evaluating Results - Average Loss: 0.9196 | auc/_mean: 0.8830 | auc/healthy: 0.9354 | auc/multiple_diseases: 0.6761, auc/rust: 0.9690, auc/scab: 0.9516\n",
      "\n"
     ]
    },
    {
     "data": {
      "application/vnd.jupyter.widget-view+json": {
       "model_id": "e0e4a6922b124639baf7f90c32c4e52a",
       "version_major": 2,
       "version_minor": 0
      },
      "text/plain": [
       "HBox(children=(FloatProgress(value=0.0, description='Train', max=91.0, style=ProgressStyle(description_width='…"
      ]
     },
     "metadata": {},
     "output_type": "display_data"
    },
    {
     "name": "stdout",
     "output_type": "stream",
     "text": [
      "\n",
      "Epoch: 127 | Time: 0m 36s\n",
      "Training Results - Average Loss: 1.0297 | auc/_mean: 0.8028 | auc/healthy: 0.8674 | auc/multiple_diseases: 0.5725, auc/rust: 0.8820, auc/scab: 0.8892\n",
      "Evaluating Results - Average Loss: 0.9175 | auc/_mean: 0.8842 | auc/healthy: 0.9352 | auc/multiple_diseases: 0.6809, auc/rust: 0.9690, auc/scab: 0.9518\n",
      "\n"
     ]
    },
    {
     "data": {
      "application/vnd.jupyter.widget-view+json": {
       "model_id": "c95b5e69410a4f7b8e71415486be9d82",
       "version_major": 2,
       "version_minor": 0
      },
      "text/plain": [
       "HBox(children=(FloatProgress(value=0.0, description='Train', max=91.0, style=ProgressStyle(description_width='…"
      ]
     },
     "metadata": {},
     "output_type": "display_data"
    },
    {
     "name": "stdout",
     "output_type": "stream",
     "text": [
      "\n",
      "Epoch: 128 | Time: 0m 35s\n",
      "Training Results - Average Loss: 1.0357 | auc/_mean: 0.8076 | auc/healthy: 0.8462 | auc/multiple_diseases: 0.6183, auc/rust: 0.8858, auc/scab: 0.8801\n",
      "Evaluating Results - Average Loss: 0.9156 | auc/_mean: 0.8845 | auc/healthy: 0.9352 | auc/multiple_diseases: 0.6816, auc/rust: 0.9690, auc/scab: 0.9522\n",
      "\n"
     ]
    },
    {
     "data": {
      "application/vnd.jupyter.widget-view+json": {
       "model_id": "b54a525a0d2d49a78d0747e3b40341b4",
       "version_major": 2,
       "version_minor": 0
      },
      "text/plain": [
       "HBox(children=(FloatProgress(value=0.0, description='Train', max=91.0, style=ProgressStyle(description_width='…"
      ]
     },
     "metadata": {},
     "output_type": "display_data"
    },
    {
     "name": "stdout",
     "output_type": "stream",
     "text": [
      "\n",
      "Epoch: 129 | Time: 0m 35s\n",
      "Training Results - Average Loss: 1.0246 | auc/_mean: 0.8154 | auc/healthy: 0.8623 | auc/multiple_diseases: 0.6299, auc/rust: 0.8847, auc/scab: 0.8849\n",
      "Evaluating Results - Average Loss: 0.9157 | auc/_mean: 0.8832 | auc/healthy: 0.9344 | auc/multiple_diseases: 0.6776, auc/rust: 0.9686, auc/scab: 0.9522\n",
      "\n"
     ]
    },
    {
     "data": {
      "application/vnd.jupyter.widget-view+json": {
       "model_id": "d5bf2a5accf24a28a5effe65d6a140f8",
       "version_major": 2,
       "version_minor": 0
      },
      "text/plain": [
       "HBox(children=(FloatProgress(value=0.0, description='Train', max=91.0, style=ProgressStyle(description_width='…"
      ]
     },
     "metadata": {},
     "output_type": "display_data"
    },
    {
     "name": "stdout",
     "output_type": "stream",
     "text": [
      "\n",
      "Epoch: 130 | Time: 0m 35s\n",
      "Training Results - Average Loss: 1.0327 | auc/_mean: 0.8052 | auc/healthy: 0.8654 | auc/multiple_diseases: 0.6037, auc/rust: 0.8696, auc/scab: 0.8822\n",
      "Evaluating Results - Average Loss: 0.9135 | auc/_mean: 0.8842 | auc/healthy: 0.9346 | auc/multiple_diseases: 0.6817, auc/rust: 0.9687, auc/scab: 0.9519\n",
      "\n"
     ]
    },
    {
     "data": {
      "application/vnd.jupyter.widget-view+json": {
       "model_id": "2f7ad14c7cfe452d83ffa7ae5859f41f",
       "version_major": 2,
       "version_minor": 0
      },
      "text/plain": [
       "HBox(children=(FloatProgress(value=0.0, description='Train', max=91.0, style=ProgressStyle(description_width='…"
      ]
     },
     "metadata": {},
     "output_type": "display_data"
    },
    {
     "name": "stdout",
     "output_type": "stream",
     "text": [
      "\n",
      "Epoch: 131 | Time: 0m 35s\n",
      "Training Results - Average Loss: 1.0236 | auc/_mean: 0.8107 | auc/healthy: 0.8786 | auc/multiple_diseases: 0.5929, auc/rust: 0.8865, auc/scab: 0.8848\n",
      "Evaluating Results - Average Loss: 0.9103 | auc/_mean: 0.8847 | auc/healthy: 0.9360 | auc/multiple_diseases: 0.6814, auc/rust: 0.9693, auc/scab: 0.9520\n",
      "\n"
     ]
    },
    {
     "data": {
      "application/vnd.jupyter.widget-view+json": {
       "model_id": "0e01bb763cdd473ebdc213db1fc6ade7",
       "version_major": 2,
       "version_minor": 0
      },
      "text/plain": [
       "HBox(children=(FloatProgress(value=0.0, description='Train', max=91.0, style=ProgressStyle(description_width='…"
      ]
     },
     "metadata": {},
     "output_type": "display_data"
    },
    {
     "name": "stdout",
     "output_type": "stream",
     "text": [
      "\n",
      "Epoch: 132 | Time: 0m 35s\n",
      "Training Results - Average Loss: 1.0199 | auc/_mean: 0.8134 | auc/healthy: 0.8529 | auc/multiple_diseases: 0.6237, auc/rust: 0.8908, auc/scab: 0.8861\n",
      "Evaluating Results - Average Loss: 0.9089 | auc/_mean: 0.8830 | auc/healthy: 0.9359 | auc/multiple_diseases: 0.6752, auc/rust: 0.9688, auc/scab: 0.9522\n",
      "\n"
     ]
    },
    {
     "data": {
      "application/vnd.jupyter.widget-view+json": {
       "model_id": "179698466aee4fdea2b572d81030b9a9",
       "version_major": 2,
       "version_minor": 0
      },
      "text/plain": [
       "HBox(children=(FloatProgress(value=0.0, description='Train', max=91.0, style=ProgressStyle(description_width='…"
      ]
     },
     "metadata": {},
     "output_type": "display_data"
    },
    {
     "name": "stdout",
     "output_type": "stream",
     "text": [
      "\n",
      "Epoch: 133 | Time: 0m 35s\n",
      "Training Results - Average Loss: 1.0256 | auc/_mean: 0.8151 | auc/healthy: 0.8544 | auc/multiple_diseases: 0.6311, auc/rust: 0.8828, auc/scab: 0.8922\n",
      "Evaluating Results - Average Loss: 0.9068 | auc/_mean: 0.8841 | auc/healthy: 0.9360 | auc/multiple_diseases: 0.6785, auc/rust: 0.9696, auc/scab: 0.9522\n",
      "\n"
     ]
    },
    {
     "data": {
      "application/vnd.jupyter.widget-view+json": {
       "model_id": "b1982433bb3a4105bb082698f2be4853",
       "version_major": 2,
       "version_minor": 0
      },
      "text/plain": [
       "HBox(children=(FloatProgress(value=0.0, description='Train', max=91.0, style=ProgressStyle(description_width='…"
      ]
     },
     "metadata": {},
     "output_type": "display_data"
    },
    {
     "name": "stdout",
     "output_type": "stream",
     "text": [
      "\n",
      "Epoch: 134 | Time: 0m 35s\n",
      "Training Results - Average Loss: 1.0212 | auc/_mean: 0.8056 | auc/healthy: 0.8646 | auc/multiple_diseases: 0.5605, auc/rust: 0.8977, auc/scab: 0.8996\n",
      "Evaluating Results - Average Loss: 0.9046 | auc/_mean: 0.8844 | auc/healthy: 0.9380 | auc/multiple_diseases: 0.6766, auc/rust: 0.9701, auc/scab: 0.9529\n",
      "\n"
     ]
    },
    {
     "data": {
      "application/vnd.jupyter.widget-view+json": {
       "model_id": "497837aa11d9437db095345ee41be29c",
       "version_major": 2,
       "version_minor": 0
      },
      "text/plain": [
       "HBox(children=(FloatProgress(value=0.0, description='Train', max=91.0, style=ProgressStyle(description_width='…"
      ]
     },
     "metadata": {},
     "output_type": "display_data"
    },
    {
     "name": "stdout",
     "output_type": "stream",
     "text": [
      "\n",
      "Epoch: 135 | Time: 0m 36s\n",
      "Training Results - Average Loss: 1.0208 | auc/_mean: 0.8212 | auc/healthy: 0.8689 | auc/multiple_diseases: 0.6465, auc/rust: 0.8861, auc/scab: 0.8832\n",
      "Evaluating Results - Average Loss: 0.9031 | auc/_mean: 0.8861 | auc/healthy: 0.9374 | auc/multiple_diseases: 0.6843, auc/rust: 0.9701, auc/scab: 0.9527\n",
      "\n"
     ]
    },
    {
     "data": {
      "application/vnd.jupyter.widget-view+json": {
       "model_id": "f69a862996d049e8885e2eb69e28ca81",
       "version_major": 2,
       "version_minor": 0
      },
      "text/plain": [
       "HBox(children=(FloatProgress(value=0.0, description='Train', max=91.0, style=ProgressStyle(description_width='…"
      ]
     },
     "metadata": {},
     "output_type": "display_data"
    },
    {
     "name": "stdout",
     "output_type": "stream",
     "text": [
      "\n",
      "Epoch: 136 | Time: 0m 34s\n",
      "Training Results - Average Loss: 1.0241 | auc/_mean: 0.8050 | auc/healthy: 0.8594 | auc/multiple_diseases: 0.5928, auc/rust: 0.8844, auc/scab: 0.8836\n",
      "Evaluating Results - Average Loss: 0.9019 | auc/_mean: 0.8857 | auc/healthy: 0.9375 | auc/multiple_diseases: 0.6819, auc/rust: 0.9704, auc/scab: 0.9530\n",
      "\n"
     ]
    },
    {
     "data": {
      "application/vnd.jupyter.widget-view+json": {
       "model_id": "117a15db6ca34e06bc7af74ef247321f",
       "version_major": 2,
       "version_minor": 0
      },
      "text/plain": [
       "HBox(children=(FloatProgress(value=0.0, description='Train', max=91.0, style=ProgressStyle(description_width='…"
      ]
     },
     "metadata": {},
     "output_type": "display_data"
    },
    {
     "name": "stdout",
     "output_type": "stream",
     "text": [
      "\n",
      "Epoch: 137 | Time: 0m 35s\n",
      "Training Results - Average Loss: 1.0159 | auc/_mean: 0.8098 | auc/healthy: 0.8727 | auc/multiple_diseases: 0.5860, auc/rust: 0.8857, auc/scab: 0.8946\n",
      "Evaluating Results - Average Loss: 0.9002 | auc/_mean: 0.8865 | auc/healthy: 0.9387 | auc/multiple_diseases: 0.6843, auc/rust: 0.9704, auc/scab: 0.9528\n",
      "\n"
     ]
    },
    {
     "data": {
      "application/vnd.jupyter.widget-view+json": {
       "model_id": "211e0fbe3781478f9408c01eb747870e",
       "version_major": 2,
       "version_minor": 0
      },
      "text/plain": [
       "HBox(children=(FloatProgress(value=0.0, description='Train', max=91.0, style=ProgressStyle(description_width='…"
      ]
     },
     "metadata": {},
     "output_type": "display_data"
    },
    {
     "name": "stdout",
     "output_type": "stream",
     "text": [
      "\n",
      "Epoch: 138 | Time: 0m 35s\n",
      "Training Results - Average Loss: 1.0246 | auc/_mean: 0.8030 | auc/healthy: 0.8710 | auc/multiple_diseases: 0.5731, auc/rust: 0.8840, auc/scab: 0.8839\n",
      "Evaluating Results - Average Loss: 0.8987 | auc/_mean: 0.8867 | auc/healthy: 0.9381 | auc/multiple_diseases: 0.6859, auc/rust: 0.9698, auc/scab: 0.9532\n",
      "\n"
     ]
    },
    {
     "data": {
      "application/vnd.jupyter.widget-view+json": {
       "model_id": "2a5e421ac2eb4922847bd929f4e29e93",
       "version_major": 2,
       "version_minor": 0
      },
      "text/plain": [
       "HBox(children=(FloatProgress(value=0.0, description='Train', max=91.0, style=ProgressStyle(description_width='…"
      ]
     },
     "metadata": {},
     "output_type": "display_data"
    },
    {
     "name": "stdout",
     "output_type": "stream",
     "text": [
      "\n",
      "Epoch: 139 | Time: 0m 35s\n",
      "Training Results - Average Loss: 1.0260 | auc/_mean: 0.8002 | auc/healthy: 0.8564 | auc/multiple_diseases: 0.5759, auc/rust: 0.8776, auc/scab: 0.8908\n",
      "Evaluating Results - Average Loss: 0.8977 | auc/_mean: 0.8855 | auc/healthy: 0.9384 | auc/multiple_diseases: 0.6801, auc/rust: 0.9701, auc/scab: 0.9533\n",
      "\n"
     ]
    },
    {
     "data": {
      "application/vnd.jupyter.widget-view+json": {
       "model_id": "51c6ff5d32d5451aadd9b3ea2b999f79",
       "version_major": 2,
       "version_minor": 0
      },
      "text/plain": [
       "HBox(children=(FloatProgress(value=0.0, description='Train', max=91.0, style=ProgressStyle(description_width='…"
      ]
     },
     "metadata": {},
     "output_type": "display_data"
    },
    {
     "name": "stdout",
     "output_type": "stream",
     "text": [
      "\n",
      "Epoch: 140 | Time: 0m 35s\n",
      "Training Results - Average Loss: 1.0214 | auc/_mean: 0.8060 | auc/healthy: 0.8684 | auc/multiple_diseases: 0.5878, auc/rust: 0.8856, auc/scab: 0.8822\n",
      "Evaluating Results - Average Loss: 0.8958 | auc/_mean: 0.8857 | auc/healthy: 0.9389 | auc/multiple_diseases: 0.6801, auc/rust: 0.9703, auc/scab: 0.9534\n",
      "\n"
     ]
    },
    {
     "data": {
      "application/vnd.jupyter.widget-view+json": {
       "model_id": "180024c5e2b340c8bf97215cc58d30ab",
       "version_major": 2,
       "version_minor": 0
      },
      "text/plain": [
       "HBox(children=(FloatProgress(value=0.0, description='Train', max=91.0, style=ProgressStyle(description_width='…"
      ]
     },
     "metadata": {},
     "output_type": "display_data"
    },
    {
     "name": "stdout",
     "output_type": "stream",
     "text": [
      "\n",
      "Epoch: 141 | Time: 0m 35s\n",
      "Training Results - Average Loss: 1.0184 | auc/_mean: 0.7917 | auc/healthy: 0.8812 | auc/multiple_diseases: 0.5185, auc/rust: 0.8779, auc/scab: 0.8890\n",
      "Evaluating Results - Average Loss: 0.8939 | auc/_mean: 0.8857 | auc/healthy: 0.9381 | auc/multiple_diseases: 0.6804, auc/rust: 0.9706, auc/scab: 0.9538\n",
      "\n"
     ]
    },
    {
     "data": {
      "application/vnd.jupyter.widget-view+json": {
       "model_id": "04a9961de4df4079b89026f05b4093d8",
       "version_major": 2,
       "version_minor": 0
      },
      "text/plain": [
       "HBox(children=(FloatProgress(value=0.0, description='Train', max=91.0, style=ProgressStyle(description_width='…"
      ]
     },
     "metadata": {},
     "output_type": "display_data"
    },
    {
     "name": "stdout",
     "output_type": "stream",
     "text": [
      "\n",
      "Epoch: 142 | Time: 0m 35s\n",
      "Training Results - Average Loss: 1.0053 | auc/_mean: 0.8262 | auc/healthy: 0.8727 | auc/multiple_diseases: 0.6450, auc/rust: 0.8988, auc/scab: 0.8883\n",
      "Evaluating Results - Average Loss: 0.8919 | auc/_mean: 0.8872 | auc/healthy: 0.9383 | auc/multiple_diseases: 0.6856, auc/rust: 0.9711, auc/scab: 0.9539\n",
      "\n"
     ]
    },
    {
     "data": {
      "application/vnd.jupyter.widget-view+json": {
       "model_id": "c8ab5574652743838527bcbb2a2739bc",
       "version_major": 2,
       "version_minor": 0
      },
      "text/plain": [
       "HBox(children=(FloatProgress(value=0.0, description='Train', max=91.0, style=ProgressStyle(description_width='…"
      ]
     },
     "metadata": {},
     "output_type": "display_data"
    },
    {
     "name": "stdout",
     "output_type": "stream",
     "text": [
      "\n",
      "Epoch: 143 | Time: 0m 35s\n",
      "Training Results - Average Loss: 1.0147 | auc/_mean: 0.8142 | auc/healthy: 0.8792 | auc/multiple_diseases: 0.6147, auc/rust: 0.8768, auc/scab: 0.8860\n",
      "Evaluating Results - Average Loss: 0.8902 | auc/_mean: 0.8863 | auc/healthy: 0.9406 | auc/multiple_diseases: 0.6801, auc/rust: 0.9710, auc/scab: 0.9536\n",
      "\n"
     ]
    },
    {
     "data": {
      "application/vnd.jupyter.widget-view+json": {
       "model_id": "157e61ee66ca4a19a6d43ce93ba904a8",
       "version_major": 2,
       "version_minor": 0
      },
      "text/plain": [
       "HBox(children=(FloatProgress(value=0.0, description='Train', max=91.0, style=ProgressStyle(description_width='…"
      ]
     },
     "metadata": {},
     "output_type": "display_data"
    },
    {
     "name": "stdout",
     "output_type": "stream",
     "text": [
      "\n",
      "Epoch: 144 | Time: 0m 35s\n",
      "Training Results - Average Loss: 1.0109 | auc/_mean: 0.8067 | auc/healthy: 0.8755 | auc/multiple_diseases: 0.5722, auc/rust: 0.8893, auc/scab: 0.8899\n",
      "Evaluating Results - Average Loss: 0.8871 | auc/_mean: 0.8868 | auc/healthy: 0.9417 | auc/multiple_diseases: 0.6808, auc/rust: 0.9714, auc/scab: 0.9534\n",
      "\n"
     ]
    },
    {
     "data": {
      "application/vnd.jupyter.widget-view+json": {
       "model_id": "51a54e3a222b4347bb2cabe18648086c",
       "version_major": 2,
       "version_minor": 0
      },
      "text/plain": [
       "HBox(children=(FloatProgress(value=0.0, description='Train', max=91.0, style=ProgressStyle(description_width='…"
      ]
     },
     "metadata": {},
     "output_type": "display_data"
    },
    {
     "name": "stdout",
     "output_type": "stream",
     "text": [
      "\n",
      "Epoch: 145 | Time: 0m 35s\n",
      "Training Results - Average Loss: 1.0144 | auc/_mean: 0.8096 | auc/healthy: 0.8604 | auc/multiple_diseases: 0.5931, auc/rust: 0.8939, auc/scab: 0.8909\n",
      "Evaluating Results - Average Loss: 0.8862 | auc/_mean: 0.8881 | auc/healthy: 0.9412 | auc/multiple_diseases: 0.6865, auc/rust: 0.9712, auc/scab: 0.9537\n",
      "\n"
     ]
    },
    {
     "data": {
      "application/vnd.jupyter.widget-view+json": {
       "model_id": "947f29d0b0fe4051ae173458dc02e4b7",
       "version_major": 2,
       "version_minor": 0
      },
      "text/plain": [
       "HBox(children=(FloatProgress(value=0.0, description='Train', max=91.0, style=ProgressStyle(description_width='…"
      ]
     },
     "metadata": {},
     "output_type": "display_data"
    },
    {
     "name": "stdout",
     "output_type": "stream",
     "text": [
      "\n",
      "Epoch: 146 | Time: 0m 35s\n",
      "Training Results - Average Loss: 1.0199 | auc/_mean: 0.7995 | auc/healthy: 0.8693 | auc/multiple_diseases: 0.5675, auc/rust: 0.8792, auc/scab: 0.8821\n",
      "Evaluating Results - Average Loss: 0.8858 | auc/_mean: 0.8876 | auc/healthy: 0.9403 | auc/multiple_diseases: 0.6859, auc/rust: 0.9711, auc/scab: 0.9531\n",
      "\n"
     ]
    },
    {
     "data": {
      "application/vnd.jupyter.widget-view+json": {
       "model_id": "9064786fffb84d99bfc72f5909e2ded7",
       "version_major": 2,
       "version_minor": 0
      },
      "text/plain": [
       "HBox(children=(FloatProgress(value=0.0, description='Train', max=91.0, style=ProgressStyle(description_width='…"
      ]
     },
     "metadata": {},
     "output_type": "display_data"
    },
    {
     "name": "stdout",
     "output_type": "stream",
     "text": [
      "\n",
      "Epoch: 147 | Time: 0m 35s\n",
      "Training Results - Average Loss: 1.0026 | auc/_mean: 0.8228 | auc/healthy: 0.8613 | auc/multiple_diseases: 0.6306, auc/rust: 0.9046, auc/scab: 0.8944\n",
      "Evaluating Results - Average Loss: 0.8849 | auc/_mean: 0.8874 | auc/healthy: 0.9405 | auc/multiple_diseases: 0.6846, auc/rust: 0.9709, auc/scab: 0.9534\n",
      "\n"
     ]
    },
    {
     "data": {
      "application/vnd.jupyter.widget-view+json": {
       "model_id": "f031c2f698fa4c2eb5f86790b081d4fd",
       "version_major": 2,
       "version_minor": 0
      },
      "text/plain": [
       "HBox(children=(FloatProgress(value=0.0, description='Train', max=91.0, style=ProgressStyle(description_width='…"
      ]
     },
     "metadata": {},
     "output_type": "display_data"
    },
    {
     "name": "stdout",
     "output_type": "stream",
     "text": [
      "\n",
      "Epoch: 148 | Time: 0m 35s\n",
      "Training Results - Average Loss: 1.0086 | auc/_mean: 0.8217 | auc/healthy: 0.8705 | auc/multiple_diseases: 0.6460, auc/rust: 0.8816, auc/scab: 0.8889\n",
      "Evaluating Results - Average Loss: 0.8838 | auc/_mean: 0.8863 | auc/healthy: 0.9401 | auc/multiple_diseases: 0.6808, auc/rust: 0.9710, auc/scab: 0.9536\n",
      "\n"
     ]
    },
    {
     "data": {
      "application/vnd.jupyter.widget-view+json": {
       "model_id": "acde0075427e488989671c970ab623f4",
       "version_major": 2,
       "version_minor": 0
      },
      "text/plain": [
       "HBox(children=(FloatProgress(value=0.0, description='Train', max=91.0, style=ProgressStyle(description_width='…"
      ]
     },
     "metadata": {},
     "output_type": "display_data"
    },
    {
     "name": "stdout",
     "output_type": "stream",
     "text": [
      "\n",
      "Epoch: 149 | Time: 0m 35s\n",
      "Training Results - Average Loss: 1.0125 | auc/_mean: 0.8080 | auc/healthy: 0.8721 | auc/multiple_diseases: 0.6012, auc/rust: 0.8806, auc/scab: 0.8781\n",
      "Evaluating Results - Average Loss: 0.8819 | auc/_mean: 0.8875 | auc/healthy: 0.9405 | auc/multiple_diseases: 0.6851, auc/rust: 0.9709, auc/scab: 0.9535\n",
      "\n"
     ]
    },
    {
     "data": {
      "application/vnd.jupyter.widget-view+json": {
       "model_id": "653f5d9ab9084623897b650d7939d584",
       "version_major": 2,
       "version_minor": 0
      },
      "text/plain": [
       "HBox(children=(FloatProgress(value=0.0, description='Train', max=91.0, style=ProgressStyle(description_width='…"
      ]
     },
     "metadata": {},
     "output_type": "display_data"
    },
    {
     "name": "stdout",
     "output_type": "stream",
     "text": [
      "\n",
      "Epoch: 150 | Time: 0m 35s\n",
      "Training Results - Average Loss: 0.9975 | auc/_mean: 0.8175 | auc/healthy: 0.8883 | auc/multiple_diseases: 0.5899, auc/rust: 0.8958, auc/scab: 0.8960\n",
      "Evaluating Results - Average Loss: 0.8791 | auc/_mean: 0.8889 | auc/healthy: 0.9410 | auc/multiple_diseases: 0.6892, auc/rust: 0.9714, auc/scab: 0.9538\n",
      "\n"
     ]
    },
    {
     "data": {
      "application/vnd.jupyter.widget-view+json": {
       "model_id": "0eb273b8f2d748249bd8fc4ccd1849d5",
       "version_major": 2,
       "version_minor": 0
      },
      "text/plain": [
       "HBox(children=(FloatProgress(value=0.0, description='Train', max=91.0, style=ProgressStyle(description_width='…"
      ]
     },
     "metadata": {},
     "output_type": "display_data"
    },
    {
     "name": "stdout",
     "output_type": "stream",
     "text": [
      "\n",
      "Epoch: 151 | Time: 0m 35s\n",
      "Training Results - Average Loss: 1.0033 | auc/_mean: 0.8187 | auc/healthy: 0.8769 | auc/multiple_diseases: 0.6215, auc/rust: 0.8908, auc/scab: 0.8855\n",
      "Evaluating Results - Average Loss: 0.8782 | auc/_mean: 0.8885 | auc/healthy: 0.9413 | auc/multiple_diseases: 0.6876, auc/rust: 0.9713, auc/scab: 0.9536\n",
      "\n"
     ]
    },
    {
     "data": {
      "application/vnd.jupyter.widget-view+json": {
       "model_id": "245054788ed94f12af99cb4fffeab2f7",
       "version_major": 2,
       "version_minor": 0
      },
      "text/plain": [
       "HBox(children=(FloatProgress(value=0.0, description='Train', max=91.0, style=ProgressStyle(description_width='…"
      ]
     },
     "metadata": {},
     "output_type": "display_data"
    },
    {
     "name": "stdout",
     "output_type": "stream",
     "text": [
      "\n",
      "Epoch: 152 | Time: 0m 36s\n",
      "Training Results - Average Loss: 1.0003 | auc/_mean: 0.8166 | auc/healthy: 0.8707 | auc/multiple_diseases: 0.6094, auc/rust: 0.8958, auc/scab: 0.8907\n",
      "Evaluating Results - Average Loss: 0.8761 | auc/_mean: 0.8890 | auc/healthy: 0.9417 | auc/multiple_diseases: 0.6896, auc/rust: 0.9711, auc/scab: 0.9537\n",
      "\n"
     ]
    },
    {
     "data": {
      "application/vnd.jupyter.widget-view+json": {
       "model_id": "860b7fa3c58e40149984b5aaac7039c8",
       "version_major": 2,
       "version_minor": 0
      },
      "text/plain": [
       "HBox(children=(FloatProgress(value=0.0, description='Train', max=91.0, style=ProgressStyle(description_width='…"
      ]
     },
     "metadata": {},
     "output_type": "display_data"
    },
    {
     "name": "stdout",
     "output_type": "stream",
     "text": [
      "\n",
      "Epoch: 153 | Time: 0m 35s\n",
      "Training Results - Average Loss: 1.0074 | auc/_mean: 0.8097 | auc/healthy: 0.8598 | auc/multiple_diseases: 0.6130, auc/rust: 0.8764, auc/scab: 0.8894\n",
      "Evaluating Results - Average Loss: 0.8764 | auc/_mean: 0.8892 | auc/healthy: 0.9408 | auc/multiple_diseases: 0.6910, auc/rust: 0.9711, auc/scab: 0.9541\n",
      "\n"
     ]
    },
    {
     "data": {
      "application/vnd.jupyter.widget-view+json": {
       "model_id": "08345d6262a148b3a8cb9be62bf46a47",
       "version_major": 2,
       "version_minor": 0
      },
      "text/plain": [
       "HBox(children=(FloatProgress(value=0.0, description='Train', max=91.0, style=ProgressStyle(description_width='…"
      ]
     },
     "metadata": {},
     "output_type": "display_data"
    },
    {
     "name": "stdout",
     "output_type": "stream",
     "text": [
      "\n",
      "Epoch: 154 | Time: 0m 35s\n",
      "Training Results - Average Loss: 0.9985 | auc/_mean: 0.8147 | auc/healthy: 0.8721 | auc/multiple_diseases: 0.5985, auc/rust: 0.8948, auc/scab: 0.8934\n",
      "Evaluating Results - Average Loss: 0.8732 | auc/_mean: 0.8894 | auc/healthy: 0.9419 | auc/multiple_diseases: 0.6900, auc/rust: 0.9716, auc/scab: 0.9540\n",
      "\n"
     ]
    },
    {
     "data": {
      "application/vnd.jupyter.widget-view+json": {
       "model_id": "61b0228c693b48928eba0bd9a3750929",
       "version_major": 2,
       "version_minor": 0
      },
      "text/plain": [
       "HBox(children=(FloatProgress(value=0.0, description='Train', max=91.0, style=ProgressStyle(description_width='…"
      ]
     },
     "metadata": {},
     "output_type": "display_data"
    },
    {
     "name": "stdout",
     "output_type": "stream",
     "text": [
      "\n",
      "Epoch: 155 | Time: 0m 35s\n",
      "Training Results - Average Loss: 0.9796 | auc/_mean: 0.8320 | auc/healthy: 0.8867 | auc/multiple_diseases: 0.6193, auc/rust: 0.9117, auc/scab: 0.9103\n",
      "Evaluating Results - Average Loss: 0.8724 | auc/_mean: 0.8880 | auc/healthy: 0.9423 | auc/multiple_diseases: 0.6846, auc/rust: 0.9714, auc/scab: 0.9537\n",
      "\n"
     ]
    },
    {
     "data": {
      "application/vnd.jupyter.widget-view+json": {
       "model_id": "4b89524db3194aee86e496b708161dec",
       "version_major": 2,
       "version_minor": 0
      },
      "text/plain": [
       "HBox(children=(FloatProgress(value=0.0, description='Train', max=91.0, style=ProgressStyle(description_width='…"
      ]
     },
     "metadata": {},
     "output_type": "display_data"
    },
    {
     "name": "stdout",
     "output_type": "stream",
     "text": [
      "\n",
      "Epoch: 156 | Time: 0m 35s\n",
      "Training Results - Average Loss: 0.9976 | auc/_mean: 0.8334 | auc/healthy: 0.8729 | auc/multiple_diseases: 0.6773, auc/rust: 0.8923, auc/scab: 0.8909\n",
      "Evaluating Results - Average Loss: 0.8710 | auc/_mean: 0.8895 | auc/healthy: 0.9425 | auc/multiple_diseases: 0.6905, auc/rust: 0.9714, auc/scab: 0.9535\n",
      "\n"
     ]
    },
    {
     "data": {
      "application/vnd.jupyter.widget-view+json": {
       "model_id": "9ba07ce0f3f8430e92d542249f9e1d5a",
       "version_major": 2,
       "version_minor": 0
      },
      "text/plain": [
       "HBox(children=(FloatProgress(value=0.0, description='Train', max=91.0, style=ProgressStyle(description_width='…"
      ]
     },
     "metadata": {},
     "output_type": "display_data"
    },
    {
     "name": "stdout",
     "output_type": "stream",
     "text": [
      "\n",
      "Epoch: 157 | Time: 0m 35s\n",
      "Training Results - Average Loss: 0.9892 | auc/_mean: 0.8276 | auc/healthy: 0.8870 | auc/multiple_diseases: 0.6302, auc/rust: 0.9012, auc/scab: 0.8922\n",
      "Evaluating Results - Average Loss: 0.8694 | auc/_mean: 0.8896 | auc/healthy: 0.9426 | auc/multiple_diseases: 0.6907, auc/rust: 0.9713, auc/scab: 0.9537\n",
      "\n"
     ]
    },
    {
     "data": {
      "application/vnd.jupyter.widget-view+json": {
       "model_id": "8b494b066fc34e0c93c93fa5fad7fa76",
       "version_major": 2,
       "version_minor": 0
      },
      "text/plain": [
       "HBox(children=(FloatProgress(value=0.0, description='Train', max=91.0, style=ProgressStyle(description_width='…"
      ]
     },
     "metadata": {},
     "output_type": "display_data"
    },
    {
     "name": "stdout",
     "output_type": "stream",
     "text": [
      "\n",
      "Epoch: 158 | Time: 0m 35s\n",
      "Training Results - Average Loss: 0.9952 | auc/_mean: 0.8250 | auc/healthy: 0.8724 | auc/multiple_diseases: 0.6509, auc/rust: 0.8930, auc/scab: 0.8835\n",
      "Evaluating Results - Average Loss: 0.8692 | auc/_mean: 0.8892 | auc/healthy: 0.9425 | auc/multiple_diseases: 0.6888, auc/rust: 0.9714, auc/scab: 0.9541\n",
      "\n"
     ]
    },
    {
     "data": {
      "application/vnd.jupyter.widget-view+json": {
       "model_id": "e9f700980f804a0fbee75b5c3e50a0b7",
       "version_major": 2,
       "version_minor": 0
      },
      "text/plain": [
       "HBox(children=(FloatProgress(value=0.0, description='Train', max=91.0, style=ProgressStyle(description_width='…"
      ]
     },
     "metadata": {},
     "output_type": "display_data"
    },
    {
     "name": "stdout",
     "output_type": "stream",
     "text": [
      "\n",
      "Epoch: 159 | Time: 0m 35s\n",
      "Training Results - Average Loss: 0.9817 | auc/_mean: 0.8259 | auc/healthy: 0.8933 | auc/multiple_diseases: 0.6142, auc/rust: 0.9096, auc/scab: 0.8864\n",
      "Evaluating Results - Average Loss: 0.8666 | auc/_mean: 0.8905 | auc/healthy: 0.9431 | auc/multiple_diseases: 0.6929, auc/rust: 0.9716, auc/scab: 0.9543\n",
      "\n"
     ]
    },
    {
     "data": {
      "application/vnd.jupyter.widget-view+json": {
       "model_id": "128f9e9558c04d16b42c5a1359d11c16",
       "version_major": 2,
       "version_minor": 0
      },
      "text/plain": [
       "HBox(children=(FloatProgress(value=0.0, description='Train', max=91.0, style=ProgressStyle(description_width='…"
      ]
     },
     "metadata": {},
     "output_type": "display_data"
    },
    {
     "name": "stdout",
     "output_type": "stream",
     "text": [
      "\n",
      "Epoch: 160 | Time: 0m 35s\n",
      "Training Results - Average Loss: 1.0004 | auc/_mean: 0.8124 | auc/healthy: 0.8665 | auc/multiple_diseases: 0.6060, auc/rust: 0.9040, auc/scab: 0.8730\n",
      "Evaluating Results - Average Loss: 0.8642 | auc/_mean: 0.8904 | auc/healthy: 0.9437 | auc/multiple_diseases: 0.6916, auc/rust: 0.9716, auc/scab: 0.9546\n",
      "\n"
     ]
    },
    {
     "data": {
      "application/vnd.jupyter.widget-view+json": {
       "model_id": "4728b5141954468285d6a5ccebf3a019",
       "version_major": 2,
       "version_minor": 0
      },
      "text/plain": [
       "HBox(children=(FloatProgress(value=0.0, description='Train', max=91.0, style=ProgressStyle(description_width='…"
      ]
     },
     "metadata": {},
     "output_type": "display_data"
    },
    {
     "name": "stdout",
     "output_type": "stream",
     "text": [
      "\n",
      "Epoch: 161 | Time: 0m 35s\n",
      "Training Results - Average Loss: 0.9839 | auc/_mean: 0.8156 | auc/healthy: 0.8899 | auc/multiple_diseases: 0.5709, auc/rust: 0.9037, auc/scab: 0.8978\n",
      "Evaluating Results - Average Loss: 0.8627 | auc/_mean: 0.8896 | auc/healthy: 0.9437 | auc/multiple_diseases: 0.6886, auc/rust: 0.9715, auc/scab: 0.9546\n",
      "\n"
     ]
    },
    {
     "data": {
      "application/vnd.jupyter.widget-view+json": {
       "model_id": "1f3776f57152496dbb3eadcaff3ff8f2",
       "version_major": 2,
       "version_minor": 0
      },
      "text/plain": [
       "HBox(children=(FloatProgress(value=0.0, description='Train', max=91.0, style=ProgressStyle(description_width='…"
      ]
     },
     "metadata": {},
     "output_type": "display_data"
    },
    {
     "name": "stdout",
     "output_type": "stream",
     "text": [
      "\n",
      "Epoch: 162 | Time: 0m 35s\n",
      "Training Results - Average Loss: 0.9874 | auc/_mean: 0.8133 | auc/healthy: 0.8870 | auc/multiple_diseases: 0.5787, auc/rust: 0.8927, auc/scab: 0.8948\n",
      "Evaluating Results - Average Loss: 0.8618 | auc/_mean: 0.8898 | auc/healthy: 0.9442 | auc/multiple_diseases: 0.6881, auc/rust: 0.9718, auc/scab: 0.9551\n",
      "\n"
     ]
    },
    {
     "data": {
      "application/vnd.jupyter.widget-view+json": {
       "model_id": "5439374c14b549a5a4451e9a7f0eaede",
       "version_major": 2,
       "version_minor": 0
      },
      "text/plain": [
       "HBox(children=(FloatProgress(value=0.0, description='Train', max=91.0, style=ProgressStyle(description_width='…"
      ]
     },
     "metadata": {},
     "output_type": "display_data"
    },
    {
     "name": "stdout",
     "output_type": "stream",
     "text": [
      "\n",
      "Epoch: 163 | Time: 0m 35s\n",
      "Training Results - Average Loss: 0.9842 | auc/_mean: 0.8326 | auc/healthy: 0.8862 | auc/multiple_diseases: 0.6626, auc/rust: 0.8987, auc/scab: 0.8830\n",
      "Evaluating Results - Average Loss: 0.8602 | auc/_mean: 0.8900 | auc/healthy: 0.9442 | auc/multiple_diseases: 0.6896, auc/rust: 0.9719, auc/scab: 0.9545\n",
      "\n"
     ]
    },
    {
     "data": {
      "application/vnd.jupyter.widget-view+json": {
       "model_id": "bed0ef1845c046ac93a598a4ca57f933",
       "version_major": 2,
       "version_minor": 0
      },
      "text/plain": [
       "HBox(children=(FloatProgress(value=0.0, description='Train', max=91.0, style=ProgressStyle(description_width='…"
      ]
     },
     "metadata": {},
     "output_type": "display_data"
    },
    {
     "name": "stdout",
     "output_type": "stream",
     "text": [
      "\n",
      "Epoch: 164 | Time: 0m 35s\n",
      "Training Results - Average Loss: 0.9871 | auc/_mean: 0.8092 | auc/healthy: 0.8791 | auc/multiple_diseases: 0.5551, auc/rust: 0.9034, auc/scab: 0.8992\n",
      "Evaluating Results - Average Loss: 0.8569 | auc/_mean: 0.8913 | auc/healthy: 0.9445 | auc/multiple_diseases: 0.6932, auc/rust: 0.9726, auc/scab: 0.9550\n",
      "\n"
     ]
    },
    {
     "data": {
      "application/vnd.jupyter.widget-view+json": {
       "model_id": "40a0525361ce4b6d8275bd1579c43f97",
       "version_major": 2,
       "version_minor": 0
      },
      "text/plain": [
       "HBox(children=(FloatProgress(value=0.0, description='Train', max=91.0, style=ProgressStyle(description_width='…"
      ]
     },
     "metadata": {},
     "output_type": "display_data"
    },
    {
     "name": "stdout",
     "output_type": "stream",
     "text": [
      "\n",
      "Epoch: 165 | Time: 0m 35s\n",
      "Training Results - Average Loss: 0.9977 | auc/_mean: 0.8166 | auc/healthy: 0.8728 | auc/multiple_diseases: 0.6244, auc/rust: 0.8866, auc/scab: 0.8828\n",
      "Evaluating Results - Average Loss: 0.8578 | auc/_mean: 0.8916 | auc/healthy: 0.9439 | auc/multiple_diseases: 0.6956, auc/rust: 0.9721, auc/scab: 0.9548\n",
      "\n"
     ]
    },
    {
     "data": {
      "application/vnd.jupyter.widget-view+json": {
       "model_id": "9a454001c3244711881cbf5ff41c18f9",
       "version_major": 2,
       "version_minor": 0
      },
      "text/plain": [
       "HBox(children=(FloatProgress(value=0.0, description='Train', max=91.0, style=ProgressStyle(description_width='…"
      ]
     },
     "metadata": {},
     "output_type": "display_data"
    },
    {
     "name": "stdout",
     "output_type": "stream",
     "text": [
      "\n",
      "Epoch: 166 | Time: 0m 35s\n",
      "Training Results - Average Loss: 0.9890 | auc/_mean: 0.8258 | auc/healthy: 0.8770 | auc/multiple_diseases: 0.6417, auc/rust: 0.8972, auc/scab: 0.8874\n",
      "Evaluating Results - Average Loss: 0.8580 | auc/_mean: 0.8919 | auc/healthy: 0.9439 | auc/multiple_diseases: 0.6976, auc/rust: 0.9713, auc/scab: 0.9547\n",
      "\n"
     ]
    },
    {
     "data": {
      "application/vnd.jupyter.widget-view+json": {
       "model_id": "8b40266824374aa2a6539112700a4496",
       "version_major": 2,
       "version_minor": 0
      },
      "text/plain": [
       "HBox(children=(FloatProgress(value=0.0, description='Train', max=91.0, style=ProgressStyle(description_width='…"
      ]
     },
     "metadata": {},
     "output_type": "display_data"
    },
    {
     "name": "stdout",
     "output_type": "stream",
     "text": [
      "\n",
      "Epoch: 167 | Time: 0m 36s\n",
      "Training Results - Average Loss: 0.9860 | auc/_mean: 0.8186 | auc/healthy: 0.8778 | auc/multiple_diseases: 0.6146, auc/rust: 0.8963, auc/scab: 0.8860\n",
      "Evaluating Results - Average Loss: 0.8558 | auc/_mean: 0.8918 | auc/healthy: 0.9440 | auc/multiple_diseases: 0.6963, auc/rust: 0.9721, auc/scab: 0.9548\n",
      "\n"
     ]
    },
    {
     "data": {
      "application/vnd.jupyter.widget-view+json": {
       "model_id": "fac243dd79ef4b529e8c0475269705c9",
       "version_major": 2,
       "version_minor": 0
      },
      "text/plain": [
       "HBox(children=(FloatProgress(value=0.0, description='Train', max=91.0, style=ProgressStyle(description_width='…"
      ]
     },
     "metadata": {},
     "output_type": "display_data"
    },
    {
     "name": "stdout",
     "output_type": "stream",
     "text": [
      "\n",
      "Epoch: 168 | Time: 0m 35s\n",
      "Training Results - Average Loss: 0.9910 | auc/_mean: 0.8071 | auc/healthy: 0.8572 | auc/multiple_diseases: 0.5694, auc/rust: 0.9043, auc/scab: 0.8973\n",
      "Evaluating Results - Average Loss: 0.8562 | auc/_mean: 0.8910 | auc/healthy: 0.9437 | auc/multiple_diseases: 0.6936, auc/rust: 0.9720, auc/scab: 0.9548\n",
      "\n"
     ]
    },
    {
     "data": {
      "application/vnd.jupyter.widget-view+json": {
       "model_id": "e13f7e2ccb8c4116aa246f397c587f71",
       "version_major": 2,
       "version_minor": 0
      },
      "text/plain": [
       "HBox(children=(FloatProgress(value=0.0, description='Train', max=91.0, style=ProgressStyle(description_width='…"
      ]
     },
     "metadata": {},
     "output_type": "display_data"
    },
    {
     "name": "stdout",
     "output_type": "stream",
     "text": [
      "\n",
      "Epoch: 169 | Time: 0m 35s\n",
      "Training Results - Average Loss: 0.9847 | auc/_mean: 0.8117 | auc/healthy: 0.8808 | auc/multiple_diseases: 0.5668, auc/rust: 0.9008, auc/scab: 0.8985\n",
      "Evaluating Results - Average Loss: 0.8556 | auc/_mean: 0.8887 | auc/healthy: 0.9446 | auc/multiple_diseases: 0.6835, auc/rust: 0.9722, auc/scab: 0.9546\n",
      "\n"
     ]
    },
    {
     "data": {
      "application/vnd.jupyter.widget-view+json": {
       "model_id": "fcafb2a7ec5e4462b7b524bcdf1ee0ff",
       "version_major": 2,
       "version_minor": 0
      },
      "text/plain": [
       "HBox(children=(FloatProgress(value=0.0, description='Train', max=91.0, style=ProgressStyle(description_width='…"
      ]
     },
     "metadata": {},
     "output_type": "display_data"
    },
    {
     "name": "stdout",
     "output_type": "stream",
     "text": [
      "\n",
      "Epoch: 170 | Time: 0m 35s\n",
      "Training Results - Average Loss: 0.9639 | auc/_mean: 0.8391 | auc/healthy: 0.8848 | auc/multiple_diseases: 0.6512, auc/rust: 0.9131, auc/scab: 0.9072\n",
      "Evaluating Results - Average Loss: 0.8532 | auc/_mean: 0.8907 | auc/healthy: 0.9442 | auc/multiple_diseases: 0.6912, auc/rust: 0.9725, auc/scab: 0.9550\n",
      "\n"
     ]
    },
    {
     "data": {
      "application/vnd.jupyter.widget-view+json": {
       "model_id": "1257704f56ce41ed9e831598e895a2e8",
       "version_major": 2,
       "version_minor": 0
      },
      "text/plain": [
       "HBox(children=(FloatProgress(value=0.0, description='Train', max=91.0, style=ProgressStyle(description_width='…"
      ]
     },
     "metadata": {},
     "output_type": "display_data"
    },
    {
     "name": "stdout",
     "output_type": "stream",
     "text": [
      "\n",
      "Epoch: 171 | Time: 0m 34s\n",
      "Training Results - Average Loss: 0.9716 | auc/_mean: 0.8317 | auc/healthy: 0.8866 | auc/multiple_diseases: 0.6261, auc/rust: 0.9123, auc/scab: 0.9016\n",
      "Evaluating Results - Average Loss: 0.8510 | auc/_mean: 0.8912 | auc/healthy: 0.9452 | auc/multiple_diseases: 0.6921, auc/rust: 0.9724, auc/scab: 0.9549\n",
      "\n"
     ]
    },
    {
     "data": {
      "application/vnd.jupyter.widget-view+json": {
       "model_id": "b3835029757f422c92261f18dac0b67b",
       "version_major": 2,
       "version_minor": 0
      },
      "text/plain": [
       "HBox(children=(FloatProgress(value=0.0, description='Train', max=91.0, style=ProgressStyle(description_width='…"
      ]
     },
     "metadata": {},
     "output_type": "display_data"
    },
    {
     "name": "stdout",
     "output_type": "stream",
     "text": [
      "\n",
      "Epoch: 172 | Time: 0m 35s\n",
      "Training Results - Average Loss: 0.9794 | auc/_mean: 0.8226 | auc/healthy: 0.8901 | auc/multiple_diseases: 0.6044, auc/rust: 0.9006, auc/scab: 0.8954\n",
      "Evaluating Results - Average Loss: 0.8495 | auc/_mean: 0.8915 | auc/healthy: 0.9451 | auc/multiple_diseases: 0.6929, auc/rust: 0.9727, auc/scab: 0.9554\n",
      "\n"
     ]
    },
    {
     "data": {
      "application/vnd.jupyter.widget-view+json": {
       "model_id": "5c5803bfd2d140bf8ab4c29fcec09214",
       "version_major": 2,
       "version_minor": 0
      },
      "text/plain": [
       "HBox(children=(FloatProgress(value=0.0, description='Train', max=91.0, style=ProgressStyle(description_width='…"
      ]
     },
     "metadata": {},
     "output_type": "display_data"
    },
    {
     "name": "stdout",
     "output_type": "stream",
     "text": [
      "\n",
      "Epoch: 173 | Time: 0m 36s\n",
      "Training Results - Average Loss: 0.9805 | auc/_mean: 0.8175 | auc/healthy: 0.8843 | auc/multiple_diseases: 0.5870, auc/rust: 0.8997, auc/scab: 0.8992\n",
      "Evaluating Results - Average Loss: 0.8467 | auc/_mean: 0.8920 | auc/healthy: 0.9453 | auc/multiple_diseases: 0.6944, auc/rust: 0.9727, auc/scab: 0.9557\n",
      "\n"
     ]
    },
    {
     "data": {
      "application/vnd.jupyter.widget-view+json": {
       "model_id": "92309dce70d94a44b16bc89294a98055",
       "version_major": 2,
       "version_minor": 0
      },
      "text/plain": [
       "HBox(children=(FloatProgress(value=0.0, description='Train', max=91.0, style=ProgressStyle(description_width='…"
      ]
     },
     "metadata": {},
     "output_type": "display_data"
    },
    {
     "name": "stdout",
     "output_type": "stream",
     "text": [
      "\n",
      "Epoch: 174 | Time: 0m 35s\n",
      "Training Results - Average Loss: 0.9725 | auc/_mean: 0.8299 | auc/healthy: 0.8853 | auc/multiple_diseases: 0.6255, auc/rust: 0.9120, auc/scab: 0.8969\n",
      "Evaluating Results - Average Loss: 0.8462 | auc/_mean: 0.8923 | auc/healthy: 0.9459 | auc/multiple_diseases: 0.6947, auc/rust: 0.9730, auc/scab: 0.9554\n",
      "\n"
     ]
    },
    {
     "data": {
      "application/vnd.jupyter.widget-view+json": {
       "model_id": "178faa363a4a4722a6631ec310a41067",
       "version_major": 2,
       "version_minor": 0
      },
      "text/plain": [
       "HBox(children=(FloatProgress(value=0.0, description='Train', max=91.0, style=ProgressStyle(description_width='…"
      ]
     },
     "metadata": {},
     "output_type": "display_data"
    },
    {
     "name": "stdout",
     "output_type": "stream",
     "text": [
      "\n",
      "Epoch: 175 | Time: 0m 35s\n",
      "Training Results - Average Loss: 0.9666 | auc/_mean: 0.8361 | auc/healthy: 0.8996 | auc/multiple_diseases: 0.6284, auc/rust: 0.9064, auc/scab: 0.9099\n",
      "Evaluating Results - Average Loss: 0.8453 | auc/_mean: 0.8925 | auc/healthy: 0.9461 | auc/multiple_diseases: 0.6950, auc/rust: 0.9731, auc/scab: 0.9558\n",
      "\n"
     ]
    },
    {
     "data": {
      "application/vnd.jupyter.widget-view+json": {
       "model_id": "00c9c511460e45b69c2e6fd2fce01dd0",
       "version_major": 2,
       "version_minor": 0
      },
      "text/plain": [
       "HBox(children=(FloatProgress(value=0.0, description='Train', max=91.0, style=ProgressStyle(description_width='…"
      ]
     },
     "metadata": {},
     "output_type": "display_data"
    },
    {
     "name": "stdout",
     "output_type": "stream",
     "text": [
      "\n",
      "Epoch: 176 | Time: 0m 35s\n",
      "Training Results - Average Loss: 0.9756 | auc/_mean: 0.8234 | auc/healthy: 0.8747 | auc/multiple_diseases: 0.6178, auc/rust: 0.8973, auc/scab: 0.9040\n",
      "Evaluating Results - Average Loss: 0.8439 | auc/_mean: 0.8917 | auc/healthy: 0.9457 | auc/multiple_diseases: 0.6932, auc/rust: 0.9727, auc/scab: 0.9551\n",
      "\n"
     ]
    },
    {
     "data": {
      "application/vnd.jupyter.widget-view+json": {
       "model_id": "10e87ea981fb4fa5982be8c5707cc436",
       "version_major": 2,
       "version_minor": 0
      },
      "text/plain": [
       "HBox(children=(FloatProgress(value=0.0, description='Train', max=91.0, style=ProgressStyle(description_width='…"
      ]
     },
     "metadata": {},
     "output_type": "display_data"
    },
    {
     "name": "stdout",
     "output_type": "stream",
     "text": [
      "\n",
      "Epoch: 177 | Time: 0m 35s\n",
      "Training Results - Average Loss: 0.9713 | auc/_mean: 0.8297 | auc/healthy: 0.8963 | auc/multiple_diseases: 0.6274, auc/rust: 0.9008, auc/scab: 0.8945\n",
      "Evaluating Results - Average Loss: 0.8434 | auc/_mean: 0.8910 | auc/healthy: 0.9449 | auc/multiple_diseases: 0.6918, auc/rust: 0.9723, auc/scab: 0.9549\n",
      "\n"
     ]
    },
    {
     "data": {
      "application/vnd.jupyter.widget-view+json": {
       "model_id": "831636a319e649b5bd7ebb31aec18f89",
       "version_major": 2,
       "version_minor": 0
      },
      "text/plain": [
       "HBox(children=(FloatProgress(value=0.0, description='Train', max=91.0, style=ProgressStyle(description_width='…"
      ]
     },
     "metadata": {},
     "output_type": "display_data"
    },
    {
     "name": "stdout",
     "output_type": "stream",
     "text": [
      "\n",
      "Epoch: 178 | Time: 0m 35s\n",
      "Training Results - Average Loss: 0.9701 | auc/_mean: 0.8364 | auc/healthy: 0.8897 | auc/multiple_diseases: 0.6522, auc/rust: 0.8999, auc/scab: 0.9038\n",
      "Evaluating Results - Average Loss: 0.8406 | auc/_mean: 0.8921 | auc/healthy: 0.9463 | auc/multiple_diseases: 0.6940, auc/rust: 0.9729, auc/scab: 0.9550\n",
      "\n"
     ]
    },
    {
     "data": {
      "application/vnd.jupyter.widget-view+json": {
       "model_id": "b0f8b46e134b44859c1ff23f9a4222d7",
       "version_major": 2,
       "version_minor": 0
      },
      "text/plain": [
       "HBox(children=(FloatProgress(value=0.0, description='Train', max=91.0, style=ProgressStyle(description_width='…"
      ]
     },
     "metadata": {},
     "output_type": "display_data"
    },
    {
     "name": "stdout",
     "output_type": "stream",
     "text": [
      "\n",
      "Epoch: 179 | Time: 0m 35s\n",
      "Training Results - Average Loss: 0.9745 | auc/_mean: 0.8213 | auc/healthy: 0.8861 | auc/multiple_diseases: 0.6126, auc/rust: 0.8963, auc/scab: 0.8902\n",
      "Evaluating Results - Average Loss: 0.8399 | auc/_mean: 0.8913 | auc/healthy: 0.9462 | auc/multiple_diseases: 0.6910, auc/rust: 0.9728, auc/scab: 0.9554\n",
      "\n"
     ]
    },
    {
     "data": {
      "application/vnd.jupyter.widget-view+json": {
       "model_id": "20f30c86805c444ea042de2e67ed9a7e",
       "version_major": 2,
       "version_minor": 0
      },
      "text/plain": [
       "HBox(children=(FloatProgress(value=0.0, description='Train', max=91.0, style=ProgressStyle(description_width='…"
      ]
     },
     "metadata": {},
     "output_type": "display_data"
    },
    {
     "name": "stdout",
     "output_type": "stream",
     "text": [
      "\n",
      "Epoch: 180 | Time: 0m 36s\n",
      "Training Results - Average Loss: 0.9759 | auc/_mean: 0.8187 | auc/healthy: 0.8783 | auc/multiple_diseases: 0.5988, auc/rust: 0.8943, auc/scab: 0.9035\n",
      "Evaluating Results - Average Loss: 0.8376 | auc/_mean: 0.8920 | auc/healthy: 0.9465 | auc/multiple_diseases: 0.6926, auc/rust: 0.9736, auc/scab: 0.9552\n",
      "\n"
     ]
    },
    {
     "data": {
      "application/vnd.jupyter.widget-view+json": {
       "model_id": "e26d9f9d1f49415f8504ab8f8c6eff9b",
       "version_major": 2,
       "version_minor": 0
      },
      "text/plain": [
       "HBox(children=(FloatProgress(value=0.0, description='Train', max=91.0, style=ProgressStyle(description_width='…"
      ]
     },
     "metadata": {},
     "output_type": "display_data"
    },
    {
     "name": "stdout",
     "output_type": "stream",
     "text": [
      "\n",
      "Epoch: 181 | Time: 0m 35s\n",
      "Training Results - Average Loss: 0.9779 | auc/_mean: 0.8258 | auc/healthy: 0.8779 | auc/multiple_diseases: 0.6448, auc/rust: 0.8926, auc/scab: 0.8879\n",
      "Evaluating Results - Average Loss: 0.8386 | auc/_mean: 0.8919 | auc/healthy: 0.9468 | auc/multiple_diseases: 0.6916, auc/rust: 0.9733, auc/scab: 0.9561\n",
      "\n"
     ]
    },
    {
     "data": {
      "application/vnd.jupyter.widget-view+json": {
       "model_id": "633903a7ecb94fe1a8e16ec616f117ce",
       "version_major": 2,
       "version_minor": 0
      },
      "text/plain": [
       "HBox(children=(FloatProgress(value=0.0, description='Train', max=91.0, style=ProgressStyle(description_width='…"
      ]
     },
     "metadata": {},
     "output_type": "display_data"
    },
    {
     "name": "stdout",
     "output_type": "stream",
     "text": [
      "\n",
      "Epoch: 182 | Time: 0m 35s\n",
      "Training Results - Average Loss: 0.9692 | auc/_mean: 0.8251 | auc/healthy: 0.8809 | auc/multiple_diseases: 0.6232, auc/rust: 0.9050, auc/scab: 0.8913\n",
      "Evaluating Results - Average Loss: 0.8371 | auc/_mean: 0.8912 | auc/healthy: 0.9458 | auc/multiple_diseases: 0.6904, auc/rust: 0.9725, auc/scab: 0.9559\n",
      "\n"
     ]
    },
    {
     "data": {
      "application/vnd.jupyter.widget-view+json": {
       "model_id": "249c5b8f45fd451895fa615a6eb942dc",
       "version_major": 2,
       "version_minor": 0
      },
      "text/plain": [
       "HBox(children=(FloatProgress(value=0.0, description='Train', max=91.0, style=ProgressStyle(description_width='…"
      ]
     },
     "metadata": {},
     "output_type": "display_data"
    },
    {
     "name": "stdout",
     "output_type": "stream",
     "text": [
      "\n",
      "Epoch: 183 | Time: 0m 35s\n",
      "Training Results - Average Loss: 0.9724 | auc/_mean: 0.8138 | auc/healthy: 0.8824 | auc/multiple_diseases: 0.5689, auc/rust: 0.9037, auc/scab: 0.9001\n",
      "Evaluating Results - Average Loss: 0.8356 | auc/_mean: 0.8921 | auc/healthy: 0.9463 | auc/multiple_diseases: 0.6936, auc/rust: 0.9727, auc/scab: 0.9556\n",
      "\n"
     ]
    },
    {
     "data": {
      "application/vnd.jupyter.widget-view+json": {
       "model_id": "e4ae0f09be984ce78ce453974cee0002",
       "version_major": 2,
       "version_minor": 0
      },
      "text/plain": [
       "HBox(children=(FloatProgress(value=0.0, description='Train', max=91.0, style=ProgressStyle(description_width='…"
      ]
     },
     "metadata": {},
     "output_type": "display_data"
    },
    {
     "name": "stdout",
     "output_type": "stream",
     "text": [
      "\n",
      "Epoch: 184 | Time: 0m 35s\n",
      "Training Results - Average Loss: 0.9789 | auc/_mean: 0.8109 | auc/healthy: 0.8941 | auc/multiple_diseases: 0.5753, auc/rust: 0.8962, auc/scab: 0.8780\n",
      "Evaluating Results - Average Loss: 0.8331 | auc/_mean: 0.8947 | auc/healthy: 0.9472 | auc/multiple_diseases: 0.7025, auc/rust: 0.9732, auc/scab: 0.9560\n",
      "\n"
     ]
    },
    {
     "data": {
      "application/vnd.jupyter.widget-view+json": {
       "model_id": "90edc4b401ec4492b1d0fe3e15f11fcf",
       "version_major": 2,
       "version_minor": 0
      },
      "text/plain": [
       "HBox(children=(FloatProgress(value=0.0, description='Train', max=91.0, style=ProgressStyle(description_width='…"
      ]
     },
     "metadata": {},
     "output_type": "display_data"
    },
    {
     "name": "stdout",
     "output_type": "stream",
     "text": [
      "\n",
      "Epoch: 185 | Time: 0m 35s\n",
      "Training Results - Average Loss: 0.9679 | auc/_mean: 0.8257 | auc/healthy: 0.8855 | auc/multiple_diseases: 0.6115, auc/rust: 0.9120, auc/scab: 0.8938\n",
      "Evaluating Results - Average Loss: 0.8339 | auc/_mean: 0.8950 | auc/healthy: 0.9463 | auc/multiple_diseases: 0.7049, auc/rust: 0.9730, auc/scab: 0.9558\n",
      "\n"
     ]
    },
    {
     "data": {
      "application/vnd.jupyter.widget-view+json": {
       "model_id": "9b59a7aa716d457daf8a195017b41724",
       "version_major": 2,
       "version_minor": 0
      },
      "text/plain": [
       "HBox(children=(FloatProgress(value=0.0, description='Train', max=91.0, style=ProgressStyle(description_width='…"
      ]
     },
     "metadata": {},
     "output_type": "display_data"
    },
    {
     "name": "stdout",
     "output_type": "stream",
     "text": [
      "\n",
      "Epoch: 186 | Time: 0m 34s\n",
      "Training Results - Average Loss: 0.9626 | auc/_mean: 0.8351 | auc/healthy: 0.8845 | auc/multiple_diseases: 0.6524, auc/rust: 0.9081, auc/scab: 0.8954\n",
      "Evaluating Results - Average Loss: 0.8344 | auc/_mean: 0.8929 | auc/healthy: 0.9462 | auc/multiple_diseases: 0.6964, auc/rust: 0.9730, auc/scab: 0.9560\n",
      "\n"
     ]
    },
    {
     "data": {
      "application/vnd.jupyter.widget-view+json": {
       "model_id": "5005643d61964aafb4743be5cc22abdb",
       "version_major": 2,
       "version_minor": 0
      },
      "text/plain": [
       "HBox(children=(FloatProgress(value=0.0, description='Train', max=91.0, style=ProgressStyle(description_width='…"
      ]
     },
     "metadata": {},
     "output_type": "display_data"
    },
    {
     "name": "stdout",
     "output_type": "stream",
     "text": [
      "\n",
      "Epoch: 187 | Time: 0m 35s\n",
      "Training Results - Average Loss: 0.9626 | auc/_mean: 0.8318 | auc/healthy: 0.8925 | auc/multiple_diseases: 0.6303, auc/rust: 0.9045, auc/scab: 0.8999\n",
      "Evaluating Results - Average Loss: 0.8313 | auc/_mean: 0.8939 | auc/healthy: 0.9474 | auc/multiple_diseases: 0.6993, auc/rust: 0.9730, auc/scab: 0.9558\n",
      "\n"
     ]
    },
    {
     "data": {
      "application/vnd.jupyter.widget-view+json": {
       "model_id": "d20f6d065bf0467783a3ecc1ff443603",
       "version_major": 2,
       "version_minor": 0
      },
      "text/plain": [
       "HBox(children=(FloatProgress(value=0.0, description='Train', max=91.0, style=ProgressStyle(description_width='…"
      ]
     },
     "metadata": {},
     "output_type": "display_data"
    },
    {
     "name": "stdout",
     "output_type": "stream",
     "text": [
      "\n",
      "Epoch: 188 | Time: 0m 36s\n",
      "Training Results - Average Loss: 0.9572 | auc/_mean: 0.8403 | auc/healthy: 0.8944 | auc/multiple_diseases: 0.6525, auc/rust: 0.9119, auc/scab: 0.9021\n",
      "Evaluating Results - Average Loss: 0.8300 | auc/_mean: 0.8938 | auc/healthy: 0.9468 | auc/multiple_diseases: 0.6995, auc/rust: 0.9727, auc/scab: 0.9560\n",
      "\n"
     ]
    },
    {
     "data": {
      "application/vnd.jupyter.widget-view+json": {
       "model_id": "1ddf0d7100e44c16a65add8e864f8f7f",
       "version_major": 2,
       "version_minor": 0
      },
      "text/plain": [
       "HBox(children=(FloatProgress(value=0.0, description='Train', max=91.0, style=ProgressStyle(description_width='…"
      ]
     },
     "metadata": {},
     "output_type": "display_data"
    },
    {
     "name": "stdout",
     "output_type": "stream",
     "text": [
      "\n",
      "Epoch: 189 | Time: 0m 35s\n",
      "Training Results - Average Loss: 0.9702 | auc/_mean: 0.8182 | auc/healthy: 0.8807 | auc/multiple_diseases: 0.6024, auc/rust: 0.8912, auc/scab: 0.8985\n",
      "Evaluating Results - Average Loss: 0.8289 | auc/_mean: 0.8942 | auc/healthy: 0.9470 | auc/multiple_diseases: 0.7019, auc/rust: 0.9725, auc/scab: 0.9555\n",
      "\n"
     ]
    },
    {
     "data": {
      "application/vnd.jupyter.widget-view+json": {
       "model_id": "53fc12c0e1c64e6796fb0c863eddd566",
       "version_major": 2,
       "version_minor": 0
      },
      "text/plain": [
       "HBox(children=(FloatProgress(value=0.0, description='Train', max=91.0, style=ProgressStyle(description_width='…"
      ]
     },
     "metadata": {},
     "output_type": "display_data"
    },
    {
     "name": "stdout",
     "output_type": "stream",
     "text": [
      "\n",
      "Epoch: 190 | Time: 0m 35s\n",
      "Training Results - Average Loss: 0.9664 | auc/_mean: 0.8235 | auc/healthy: 0.8841 | auc/multiple_diseases: 0.6146, auc/rust: 0.9081, auc/scab: 0.8873\n",
      "Evaluating Results - Average Loss: 0.8276 | auc/_mean: 0.8929 | auc/healthy: 0.9466 | auc/multiple_diseases: 0.6961, auc/rust: 0.9731, auc/scab: 0.9557\n",
      "\n"
     ]
    },
    {
     "data": {
      "application/vnd.jupyter.widget-view+json": {
       "model_id": "ee0b4fa3120e413ba3835d40436d001a",
       "version_major": 2,
       "version_minor": 0
      },
      "text/plain": [
       "HBox(children=(FloatProgress(value=0.0, description='Train', max=91.0, style=ProgressStyle(description_width='…"
      ]
     },
     "metadata": {},
     "output_type": "display_data"
    },
    {
     "name": "stdout",
     "output_type": "stream",
     "text": [
      "\n",
      "Epoch: 191 | Time: 0m 35s\n",
      "Training Results - Average Loss: 0.9655 | auc/_mean: 0.8238 | auc/healthy: 0.8849 | auc/multiple_diseases: 0.6142, auc/rust: 0.9012, auc/scab: 0.8950\n",
      "Evaluating Results - Average Loss: 0.8272 | auc/_mean: 0.8932 | auc/healthy: 0.9472 | auc/multiple_diseases: 0.6961, auc/rust: 0.9731, auc/scab: 0.9562\n",
      "\n"
     ]
    },
    {
     "data": {
      "application/vnd.jupyter.widget-view+json": {
       "model_id": "cd3bb4e95c4f4746bca46a759738af1f",
       "version_major": 2,
       "version_minor": 0
      },
      "text/plain": [
       "HBox(children=(FloatProgress(value=0.0, description='Train', max=91.0, style=ProgressStyle(description_width='…"
      ]
     },
     "metadata": {},
     "output_type": "display_data"
    },
    {
     "name": "stdout",
     "output_type": "stream",
     "text": [
      "\n",
      "Epoch: 192 | Time: 0m 35s\n",
      "Training Results - Average Loss: 0.9551 | auc/_mean: 0.8315 | auc/healthy: 0.8806 | auc/multiple_diseases: 0.6330, auc/rust: 0.9087, auc/scab: 0.9038\n",
      "Evaluating Results - Average Loss: 0.8272 | auc/_mean: 0.8945 | auc/healthy: 0.9476 | auc/multiple_diseases: 0.7006, auc/rust: 0.9735, auc/scab: 0.9565\n",
      "\n"
     ]
    },
    {
     "data": {
      "application/vnd.jupyter.widget-view+json": {
       "model_id": "635d3004492f408498bb7355162868a5",
       "version_major": 2,
       "version_minor": 0
      },
      "text/plain": [
       "HBox(children=(FloatProgress(value=0.0, description='Train', max=91.0, style=ProgressStyle(description_width='…"
      ]
     },
     "metadata": {},
     "output_type": "display_data"
    },
    {
     "name": "stdout",
     "output_type": "stream",
     "text": [
      "\n",
      "Epoch: 193 | Time: 0m 35s\n",
      "Training Results - Average Loss: 0.9448 | auc/_mean: 0.8458 | auc/healthy: 0.9016 | auc/multiple_diseases: 0.6573, auc/rust: 0.9111, auc/scab: 0.9132\n",
      "Evaluating Results - Average Loss: 0.8261 | auc/_mean: 0.8932 | auc/healthy: 0.9472 | auc/multiple_diseases: 0.6955, auc/rust: 0.9735, auc/scab: 0.9564\n",
      "\n"
     ]
    },
    {
     "data": {
      "application/vnd.jupyter.widget-view+json": {
       "model_id": "1115e567246549829b962b30d09b0306",
       "version_major": 2,
       "version_minor": 0
      },
      "text/plain": [
       "HBox(children=(FloatProgress(value=0.0, description='Train', max=91.0, style=ProgressStyle(description_width='…"
      ]
     },
     "metadata": {},
     "output_type": "display_data"
    },
    {
     "name": "stdout",
     "output_type": "stream",
     "text": [
      "\n",
      "Epoch: 194 | Time: 0m 35s\n",
      "Training Results - Average Loss: 0.9591 | auc/_mean: 0.8226 | auc/healthy: 0.9002 | auc/multiple_diseases: 0.5922, auc/rust: 0.9084, auc/scab: 0.8896\n",
      "Evaluating Results - Average Loss: 0.8251 | auc/_mean: 0.8947 | auc/healthy: 0.9475 | auc/multiple_diseases: 0.7020, auc/rust: 0.9734, auc/scab: 0.9561\n",
      "\n"
     ]
    },
    {
     "data": {
      "application/vnd.jupyter.widget-view+json": {
       "model_id": "7941e92e3edd49e3bf41296bacd05e81",
       "version_major": 2,
       "version_minor": 0
      },
      "text/plain": [
       "HBox(children=(FloatProgress(value=0.0, description='Train', max=91.0, style=ProgressStyle(description_width='…"
      ]
     },
     "metadata": {},
     "output_type": "display_data"
    },
    {
     "name": "stdout",
     "output_type": "stream",
     "text": [
      "\n",
      "Epoch: 195 | Time: 0m 35s\n",
      "Training Results - Average Loss: 0.9646 | auc/_mean: 0.8279 | auc/healthy: 0.8821 | auc/multiple_diseases: 0.6370, auc/rust: 0.8984, auc/scab: 0.8942\n",
      "Evaluating Results - Average Loss: 0.8241 | auc/_mean: 0.8943 | auc/healthy: 0.9476 | auc/multiple_diseases: 0.6995, auc/rust: 0.9737, auc/scab: 0.9564\n",
      "\n"
     ]
    },
    {
     "data": {
      "application/vnd.jupyter.widget-view+json": {
       "model_id": "4dbc368255ba4c068bd09aff8328b1da",
       "version_major": 2,
       "version_minor": 0
      },
      "text/plain": [
       "HBox(children=(FloatProgress(value=0.0, description='Train', max=91.0, style=ProgressStyle(description_width='…"
      ]
     },
     "metadata": {},
     "output_type": "display_data"
    },
    {
     "name": "stdout",
     "output_type": "stream",
     "text": [
      "\n",
      "Epoch: 196 | Time: 0m 35s\n",
      "Training Results - Average Loss: 0.9596 | auc/_mean: 0.8304 | auc/healthy: 0.8864 | auc/multiple_diseases: 0.6315, auc/rust: 0.9064, auc/scab: 0.8973\n",
      "Evaluating Results - Average Loss: 0.8235 | auc/_mean: 0.8948 | auc/healthy: 0.9479 | auc/multiple_diseases: 0.7019, auc/rust: 0.9734, auc/scab: 0.9561\n",
      "\n"
     ]
    },
    {
     "data": {
      "application/vnd.jupyter.widget-view+json": {
       "model_id": "4f699cf62be940e58077639c8f97fa62",
       "version_major": 2,
       "version_minor": 0
      },
      "text/plain": [
       "HBox(children=(FloatProgress(value=0.0, description='Train', max=91.0, style=ProgressStyle(description_width='…"
      ]
     },
     "metadata": {},
     "output_type": "display_data"
    },
    {
     "name": "stdout",
     "output_type": "stream",
     "text": [
      "\n",
      "Epoch: 197 | Time: 0m 35s\n",
      "Training Results - Average Loss: 0.9516 | auc/_mean: 0.8239 | auc/healthy: 0.9011 | auc/multiple_diseases: 0.5912, auc/rust: 0.9072, auc/scab: 0.8961\n",
      "Evaluating Results - Average Loss: 0.8227 | auc/_mean: 0.8947 | auc/healthy: 0.9483 | auc/multiple_diseases: 0.7008, auc/rust: 0.9733, auc/scab: 0.9563\n",
      "\n"
     ]
    },
    {
     "data": {
      "application/vnd.jupyter.widget-view+json": {
       "model_id": "5248637c17064c1ea6a5d3642e860f9a",
       "version_major": 2,
       "version_minor": 0
      },
      "text/plain": [
       "HBox(children=(FloatProgress(value=0.0, description='Train', max=91.0, style=ProgressStyle(description_width='…"
      ]
     },
     "metadata": {},
     "output_type": "display_data"
    },
    {
     "name": "stdout",
     "output_type": "stream",
     "text": [
      "\n",
      "Epoch: 198 | Time: 0m 35s\n",
      "Training Results - Average Loss: 0.9523 | auc/_mean: 0.8342 | auc/healthy: 0.8866 | auc/multiple_diseases: 0.6417, auc/rust: 0.9103, auc/scab: 0.8984\n",
      "Evaluating Results - Average Loss: 0.8212 | auc/_mean: 0.8945 | auc/healthy: 0.9477 | auc/multiple_diseases: 0.7012, auc/rust: 0.9731, auc/scab: 0.9561\n",
      "\n"
     ]
    },
    {
     "data": {
      "application/vnd.jupyter.widget-view+json": {
       "model_id": "bb3e9627910545c880d67ad4c088f14d",
       "version_major": 2,
       "version_minor": 0
      },
      "text/plain": [
       "HBox(children=(FloatProgress(value=0.0, description='Train', max=91.0, style=ProgressStyle(description_width='…"
      ]
     },
     "metadata": {},
     "output_type": "display_data"
    },
    {
     "name": "stdout",
     "output_type": "stream",
     "text": [
      "\n",
      "Epoch: 199 | Time: 0m 35s\n",
      "Training Results - Average Loss: 0.9600 | auc/_mean: 0.8261 | auc/healthy: 0.8880 | auc/multiple_diseases: 0.6163, auc/rust: 0.9065, auc/scab: 0.8937\n",
      "Evaluating Results - Average Loss: 0.8203 | auc/_mean: 0.8942 | auc/healthy: 0.9473 | auc/multiple_diseases: 0.7004, auc/rust: 0.9728, auc/scab: 0.9562\n",
      "\n"
     ]
    },
    {
     "data": {
      "application/vnd.jupyter.widget-view+json": {
       "model_id": "651a8405e3034a8e872832c7080aae1c",
       "version_major": 2,
       "version_minor": 0
      },
      "text/plain": [
       "HBox(children=(FloatProgress(value=0.0, description='Train', max=91.0, style=ProgressStyle(description_width='…"
      ]
     },
     "metadata": {},
     "output_type": "display_data"
    },
    {
     "name": "stdout",
     "output_type": "stream",
     "text": [
      "\n",
      "Epoch: 200 | Time: 0m 35s\n",
      "Training Results - Average Loss: 0.9616 | auc/_mean: 0.8191 | auc/healthy: 0.8817 | auc/multiple_diseases: 0.5963, auc/rust: 0.9058, auc/scab: 0.8926\n",
      "Evaluating Results - Average Loss: 0.8171 | auc/_mean: 0.8933 | auc/healthy: 0.9474 | auc/multiple_diseases: 0.6961, auc/rust: 0.9733, auc/scab: 0.9563\n",
      "\n",
      "\n"
     ]
    }
   ],
   "source": [
    "trainer = Trainer(model, train_dataloader, valid_dataloader, criterion, optimizer, scheduler, device, config)\n",
    "trainer.run();"
   ]
  },
  {
   "cell_type": "code",
   "execution_count": null,
   "metadata": {},
   "outputs": [],
   "source": []
  },
  {
   "cell_type": "code",
   "execution_count": null,
   "metadata": {},
   "outputs": [],
   "source": []
  },
  {
   "cell_type": "code",
   "execution_count": 10,
   "metadata": {},
   "outputs": [
    {
     "name": "stdout",
     "output_type": "stream",
     "text": [
      "Loaded pretrained weights for efficientnet-b4\n"
     ]
    }
   ],
   "source": [
    "model = get_model(config.model_name, config.num_classes)\n",
    "model.load_state_dict(torch.load(f\"{config.save_dirname}/best_model_epoch=200_loss=0.8171412737473197.pth\"))\n",
    "for param in model.parameters():\n",
    "    param.requires_grad = True\n",
    "\n",
    "criterion = LabelSmoothingCrossEntropy()\n",
    "optimizer = AdamW(model.parameters(), lr=config.lr, weight_decay=1e-3)\n",
    "num_train_steps = int(len(train_dataset) / config.batch_size * config.num_epochs)\n",
    "scheduler = get_cosine_schedule_with_warmup(optimizer, num_warmup_steps=len(train_dataset)/config.batch_size*5, num_training_steps=num_train_steps)"
   ]
  },
  {
   "cell_type": "code",
   "execution_count": 11,
   "metadata": {
    "collapsed": true,
    "jupyter": {
     "outputs_hidden": true
    }
   },
   "outputs": [
    {
     "data": {
      "application/vnd.jupyter.widget-view+json": {
       "model_id": "c43a825c471d45d696a0495e7d91139f",
       "version_major": 2,
       "version_minor": 0
      },
      "text/plain": [
       "HBox(children=(FloatProgress(value=0.0, description='Epochs', max=200.0, style=ProgressStyle(description_width…"
      ]
     },
     "metadata": {},
     "output_type": "display_data"
    },
    {
     "data": {
      "application/vnd.jupyter.widget-view+json": {
       "model_id": "5bef4d00d59d4384a295fffeef6649ff",
       "version_major": 2,
       "version_minor": 0
      },
      "text/plain": [
       "HBox(children=(FloatProgress(value=0.0, description='Train', max=182.0, style=ProgressStyle(description_width=…"
      ]
     },
     "metadata": {},
     "output_type": "display_data"
    },
    {
     "name": "stdout",
     "output_type": "stream",
     "text": [
      "\n",
      "Epoch: 01 | Time: 1m 43s\n",
      "Training Results - Average Loss: 0.9827 | auc/_mean: 0.8086 | auc/healthy: 0.8684 | auc/multiple_diseases: 0.5975, auc/rust: 0.8900, auc/scab: 0.8784\n",
      "Evaluating Results - Average Loss: 0.8259 | auc/_mean: 0.8933 | auc/healthy: 0.9480 | auc/multiple_diseases: 0.6952, auc/rust: 0.9744, auc/scab: 0.9557\n",
      "\n"
     ]
    },
    {
     "data": {
      "application/vnd.jupyter.widget-view+json": {
       "model_id": "ccd8d247c9034de9be5cfaf3dfc3269e",
       "version_major": 2,
       "version_minor": 0
      },
      "text/plain": [
       "HBox(children=(FloatProgress(value=0.0, description='Train', max=182.0, style=ProgressStyle(description_width=…"
      ]
     },
     "metadata": {},
     "output_type": "display_data"
    },
    {
     "name": "stdout",
     "output_type": "stream",
     "text": [
      "\n",
      "Epoch: 02 | Time: 1m 41s\n",
      "Training Results - Average Loss: 0.9405 | auc/_mean: 0.8376 | auc/healthy: 0.8895 | auc/multiple_diseases: 0.6467, auc/rust: 0.9161, auc/scab: 0.8982\n",
      "Evaluating Results - Average Loss: 0.7597 | auc/_mean: 0.9053 | auc/healthy: 0.9643 | auc/multiple_diseases: 0.7078, auc/rust: 0.9859, auc/scab: 0.9632\n",
      "\n"
     ]
    },
    {
     "data": {
      "application/vnd.jupyter.widget-view+json": {
       "model_id": "4f4c0cea16cb4f2ea8e20f6fd26f17e9",
       "version_major": 2,
       "version_minor": 0
      },
      "text/plain": [
       "HBox(children=(FloatProgress(value=0.0, description='Train', max=182.0, style=ProgressStyle(description_width=…"
      ]
     },
     "metadata": {},
     "output_type": "display_data"
    },
    {
     "name": "stdout",
     "output_type": "stream",
     "text": [
      "\n",
      "Epoch: 03 | Time: 1m 41s\n",
      "Training Results - Average Loss: 0.8836 | auc/_mean: 0.8403 | auc/healthy: 0.9098 | auc/multiple_diseases: 0.5903, auc/rust: 0.9441, auc/scab: 0.9167\n",
      "Evaluating Results - Average Loss: 0.7020 | auc/_mean: 0.9153 | auc/healthy: 0.9733 | auc/multiple_diseases: 0.7254, auc/rust: 0.9917, auc/scab: 0.9707\n",
      "\n"
     ]
    },
    {
     "data": {
      "application/vnd.jupyter.widget-view+json": {
       "model_id": "69bc2ca4da46425ebf11176b1bf657c8",
       "version_major": 2,
       "version_minor": 0
      },
      "text/plain": [
       "HBox(children=(FloatProgress(value=0.0, description='Train', max=182.0, style=ProgressStyle(description_width=…"
      ]
     },
     "metadata": {},
     "output_type": "display_data"
    },
    {
     "name": "stdout",
     "output_type": "stream",
     "text": [
      "\n",
      "Epoch: 04 | Time: 1m 41s\n",
      "Training Results - Average Loss: 0.8451 | auc/_mean: 0.8632 | auc/healthy: 0.9210 | auc/multiple_diseases: 0.6675, auc/rust: 0.9452, auc/scab: 0.9191\n",
      "Evaluating Results - Average Loss: 0.6587 | auc/_mean: 0.9210 | auc/healthy: 0.9786 | auc/multiple_diseases: 0.7366, auc/rust: 0.9942, auc/scab: 0.9745\n",
      "\n"
     ]
    },
    {
     "data": {
      "application/vnd.jupyter.widget-view+json": {
       "model_id": "998a66e22b16426c8506545d813d444c",
       "version_major": 2,
       "version_minor": 0
      },
      "text/plain": [
       "HBox(children=(FloatProgress(value=0.0, description='Train', max=182.0, style=ProgressStyle(description_width=…"
      ]
     },
     "metadata": {},
     "output_type": "display_data"
    },
    {
     "name": "stdout",
     "output_type": "stream",
     "text": [
      "\n",
      "Epoch: 05 | Time: 1m 41s\n",
      "Training Results - Average Loss: 0.8032 | auc/_mean: 0.8738 | auc/healthy: 0.9335 | auc/multiple_diseases: 0.6703, auc/rust: 0.9593, auc/scab: 0.9322\n",
      "Evaluating Results - Average Loss: 0.6263 | auc/_mean: 0.9251 | auc/healthy: 0.9818 | auc/multiple_diseases: 0.7453, auc/rust: 0.9953, auc/scab: 0.9778\n",
      "\n"
     ]
    },
    {
     "data": {
      "application/vnd.jupyter.widget-view+json": {
       "model_id": "97c5de4b6ccc4a4594c2b7e388100fc5",
       "version_major": 2,
       "version_minor": 0
      },
      "text/plain": [
       "HBox(children=(FloatProgress(value=0.0, description='Train', max=182.0, style=ProgressStyle(description_width=…"
      ]
     },
     "metadata": {},
     "output_type": "display_data"
    },
    {
     "name": "stdout",
     "output_type": "stream",
     "text": [
      "\n",
      "Epoch: 06 | Time: 1m 41s\n",
      "Training Results - Average Loss: 0.7767 | auc/_mean: 0.8784 | auc/healthy: 0.9395 | auc/multiple_diseases: 0.6745, auc/rust: 0.9620, auc/scab: 0.9377\n",
      "Evaluating Results - Average Loss: 0.6019 | auc/_mean: 0.9312 | auc/healthy: 0.9835 | auc/multiple_diseases: 0.7648, auc/rust: 0.9961, auc/scab: 0.9805\n",
      "\n"
     ]
    },
    {
     "data": {
      "application/vnd.jupyter.widget-view+json": {
       "model_id": "24adb46b9e5c425d95a8bb813fb44d4b",
       "version_major": 2,
       "version_minor": 0
      },
      "text/plain": [
       "HBox(children=(FloatProgress(value=0.0, description='Train', max=182.0, style=ProgressStyle(description_width=…"
      ]
     },
     "metadata": {},
     "output_type": "display_data"
    },
    {
     "name": "stdout",
     "output_type": "stream",
     "text": [
      "\n",
      "Epoch: 07 | Time: 1m 41s\n",
      "Training Results - Average Loss: 0.7444 | auc/_mean: 0.8968 | auc/healthy: 0.9460 | auc/multiple_diseases: 0.7296, auc/rust: 0.9673, auc/scab: 0.9443\n",
      "Evaluating Results - Average Loss: 0.5830 | auc/_mean: 0.9360 | auc/healthy: 0.9855 | auc/multiple_diseases: 0.7789, auc/rust: 0.9967, auc/scab: 0.9828\n",
      "\n"
     ]
    },
    {
     "data": {
      "application/vnd.jupyter.widget-view+json": {
       "model_id": "86f5967c7c624fed89a7ec1c3591ba7c",
       "version_major": 2,
       "version_minor": 0
      },
      "text/plain": [
       "HBox(children=(FloatProgress(value=0.0, description='Train', max=182.0, style=ProgressStyle(description_width=…"
      ]
     },
     "metadata": {},
     "output_type": "display_data"
    },
    {
     "name": "stdout",
     "output_type": "stream",
     "text": [
      "\n",
      "Epoch: 08 | Time: 1m 41s\n",
      "Training Results - Average Loss: 0.7202 | auc/_mean: 0.8967 | auc/healthy: 0.9541 | auc/multiple_diseases: 0.7072, auc/rust: 0.9727, auc/scab: 0.9528\n",
      "Evaluating Results - Average Loss: 0.5669 | auc/_mean: 0.9391 | auc/healthy: 0.9872 | auc/multiple_diseases: 0.7871, auc/rust: 0.9973, auc/scab: 0.9847\n",
      "\n"
     ]
    },
    {
     "data": {
      "application/vnd.jupyter.widget-view+json": {
       "model_id": "f4f3a9a012504fdb8c7d2a65cc4ede5f",
       "version_major": 2,
       "version_minor": 0
      },
      "text/plain": [
       "HBox(children=(FloatProgress(value=0.0, description='Train', max=182.0, style=ProgressStyle(description_width=…"
      ]
     },
     "metadata": {},
     "output_type": "display_data"
    },
    {
     "name": "stdout",
     "output_type": "stream",
     "text": [
      "\n",
      "Epoch: 09 | Time: 1m 41s\n",
      "Training Results - Average Loss: 0.7026 | auc/_mean: 0.9038 | auc/healthy: 0.9639 | auc/multiple_diseases: 0.7301, auc/rust: 0.9707, auc/scab: 0.9504\n",
      "Evaluating Results - Average Loss: 0.5565 | auc/_mean: 0.9410 | auc/healthy: 0.9885 | auc/multiple_diseases: 0.7914, auc/rust: 0.9980, auc/scab: 0.9862\n",
      "\n"
     ]
    },
    {
     "data": {
      "application/vnd.jupyter.widget-view+json": {
       "model_id": "cb40b11d525141eb84049e6883a73646",
       "version_major": 2,
       "version_minor": 0
      },
      "text/plain": [
       "HBox(children=(FloatProgress(value=0.0, description='Train', max=182.0, style=ProgressStyle(description_width=…"
      ]
     },
     "metadata": {},
     "output_type": "display_data"
    },
    {
     "name": "stdout",
     "output_type": "stream",
     "text": [
      "\n",
      "Epoch: 10 | Time: 1m 41s\n",
      "Training Results - Average Loss: 0.7176 | auc/_mean: 0.8926 | auc/healthy: 0.9590 | auc/multiple_diseases: 0.6999, auc/rust: 0.9697, auc/scab: 0.9418\n",
      "Evaluating Results - Average Loss: 0.5470 | auc/_mean: 0.9417 | auc/healthy: 0.9894 | auc/multiple_diseases: 0.7912, auc/rust: 0.9982, auc/scab: 0.9878\n",
      "\n"
     ]
    },
    {
     "data": {
      "application/vnd.jupyter.widget-view+json": {
       "model_id": "b0cb8be8fbf8436cb54dc265e3edfbea",
       "version_major": 2,
       "version_minor": 0
      },
      "text/plain": [
       "HBox(children=(FloatProgress(value=0.0, description='Train', max=182.0, style=ProgressStyle(description_width=…"
      ]
     },
     "metadata": {},
     "output_type": "display_data"
    },
    {
     "name": "stdout",
     "output_type": "stream",
     "text": [
      "\n",
      "Epoch: 11 | Time: 1m 41s\n",
      "Training Results - Average Loss: 0.6674 | auc/_mean: 0.9150 | auc/healthy: 0.9740 | auc/multiple_diseases: 0.7494, auc/rust: 0.9754, auc/scab: 0.9611\n",
      "Evaluating Results - Average Loss: 0.5378 | auc/_mean: 0.9423 | auc/healthy: 0.9901 | auc/multiple_diseases: 0.7914, auc/rust: 0.9984, auc/scab: 0.9893\n",
      "\n"
     ]
    },
    {
     "data": {
      "application/vnd.jupyter.widget-view+json": {
       "model_id": "93577fd728d7433d8827841a38c18d4e",
       "version_major": 2,
       "version_minor": 0
      },
      "text/plain": [
       "HBox(children=(FloatProgress(value=0.0, description='Train', max=182.0, style=ProgressStyle(description_width=…"
      ]
     },
     "metadata": {},
     "output_type": "display_data"
    },
    {
     "name": "stdout",
     "output_type": "stream",
     "text": [
      "\n",
      "Epoch: 12 | Time: 1m 41s\n",
      "Training Results - Average Loss: 0.6648 | auc/_mean: 0.9177 | auc/healthy: 0.9708 | auc/multiple_diseases: 0.7624, auc/rust: 0.9818, auc/scab: 0.9558\n",
      "Evaluating Results - Average Loss: 0.5303 | auc/_mean: 0.9432 | auc/healthy: 0.9913 | auc/multiple_diseases: 0.7927, auc/rust: 0.9987, auc/scab: 0.9904\n",
      "\n"
     ]
    },
    {
     "data": {
      "application/vnd.jupyter.widget-view+json": {
       "model_id": "9bd834b6691c4b45ae842b31f7eb9582",
       "version_major": 2,
       "version_minor": 0
      },
      "text/plain": [
       "HBox(children=(FloatProgress(value=0.0, description='Train', max=182.0, style=ProgressStyle(description_width=…"
      ]
     },
     "metadata": {},
     "output_type": "display_data"
    },
    {
     "name": "stdout",
     "output_type": "stream",
     "text": [
      "\n",
      "Epoch: 13 | Time: 1m 41s\n",
      "Training Results - Average Loss: 0.6556 | auc/_mean: 0.9217 | auc/healthy: 0.9751 | auc/multiple_diseases: 0.7726, auc/rust: 0.9753, auc/scab: 0.9637\n",
      "Evaluating Results - Average Loss: 0.5259 | auc/_mean: 0.9418 | auc/healthy: 0.9916 | auc/multiple_diseases: 0.7858, auc/rust: 0.9989, auc/scab: 0.9909\n",
      "\n"
     ]
    },
    {
     "data": {
      "application/vnd.jupyter.widget-view+json": {
       "model_id": "f495d344b33e4deb9f57fc17644ae048",
       "version_major": 2,
       "version_minor": 0
      },
      "text/plain": [
       "HBox(children=(FloatProgress(value=0.0, description='Train', max=182.0, style=ProgressStyle(description_width=…"
      ]
     },
     "metadata": {},
     "output_type": "display_data"
    },
    {
     "name": "stdout",
     "output_type": "stream",
     "text": [
      "\n",
      "Epoch: 14 | Time: 1m 42s\n",
      "Training Results - Average Loss: 0.6464 | auc/_mean: 0.9218 | auc/healthy: 0.9763 | auc/multiple_diseases: 0.7655, auc/rust: 0.9769, auc/scab: 0.9686\n",
      "Evaluating Results - Average Loss: 0.5213 | auc/_mean: 0.9401 | auc/healthy: 0.9923 | auc/multiple_diseases: 0.7776, auc/rust: 0.9990, auc/scab: 0.9917\n",
      "\n"
     ]
    },
    {
     "data": {
      "application/vnd.jupyter.widget-view+json": {
       "model_id": "4baec80e1564461bb829e31072b03c43",
       "version_major": 2,
       "version_minor": 0
      },
      "text/plain": [
       "HBox(children=(FloatProgress(value=0.0, description='Train', max=182.0, style=ProgressStyle(description_width=…"
      ]
     },
     "metadata": {},
     "output_type": "display_data"
    },
    {
     "name": "stdout",
     "output_type": "stream",
     "text": [
      "\n",
      "Epoch: 15 | Time: 1m 42s\n",
      "Training Results - Average Loss: 0.6454 | auc/_mean: 0.9161 | auc/healthy: 0.9743 | auc/multiple_diseases: 0.7456, auc/rust: 0.9780, auc/scab: 0.9667\n",
      "Evaluating Results - Average Loss: 0.5171 | auc/_mean: 0.9406 | auc/healthy: 0.9928 | auc/multiple_diseases: 0.7781, auc/rust: 0.9991, auc/scab: 0.9926\n",
      "\n"
     ]
    },
    {
     "data": {
      "application/vnd.jupyter.widget-view+json": {
       "model_id": "2a80833f5daf4229aad60601b2168ef1",
       "version_major": 2,
       "version_minor": 0
      },
      "text/plain": [
       "HBox(children=(FloatProgress(value=0.0, description='Train', max=182.0, style=ProgressStyle(description_width=…"
      ]
     },
     "metadata": {},
     "output_type": "display_data"
    },
    {
     "name": "stdout",
     "output_type": "stream",
     "text": [
      "\n",
      "Epoch: 16 | Time: 1m 41s\n",
      "Training Results - Average Loss: 0.6246 | auc/_mean: 0.9196 | auc/healthy: 0.9801 | auc/multiple_diseases: 0.7445, auc/rust: 0.9859, auc/scab: 0.9678\n",
      "Evaluating Results - Average Loss: 0.5119 | auc/_mean: 0.9439 | auc/healthy: 0.9931 | auc/multiple_diseases: 0.7904, auc/rust: 0.9991, auc/scab: 0.9929\n",
      "\n"
     ]
    },
    {
     "data": {
      "application/vnd.jupyter.widget-view+json": {
       "model_id": "b5c8627749854bfca603a8e702cf3592",
       "version_major": 2,
       "version_minor": 0
      },
      "text/plain": [
       "HBox(children=(FloatProgress(value=0.0, description='Train', max=182.0, style=ProgressStyle(description_width=…"
      ]
     },
     "metadata": {},
     "output_type": "display_data"
    },
    {
     "name": "stdout",
     "output_type": "stream",
     "text": [
      "\n",
      "Epoch: 17 | Time: 1m 41s\n",
      "Training Results - Average Loss: 0.6489 | auc/_mean: 0.9156 | auc/healthy: 0.9738 | auc/multiple_diseases: 0.7477, auc/rust: 0.9788, auc/scab: 0.9620\n",
      "Evaluating Results - Average Loss: 0.5088 | auc/_mean: 0.9445 | auc/healthy: 0.9934 | auc/multiple_diseases: 0.7917, auc/rust: 0.9992, auc/scab: 0.9937\n",
      "\n"
     ]
    },
    {
     "data": {
      "application/vnd.jupyter.widget-view+json": {
       "model_id": "807c90010e9e41c4a4aa0e127bbc908d",
       "version_major": 2,
       "version_minor": 0
      },
      "text/plain": [
       "HBox(children=(FloatProgress(value=0.0, description='Train', max=182.0, style=ProgressStyle(description_width=…"
      ]
     },
     "metadata": {},
     "output_type": "display_data"
    },
    {
     "name": "stdout",
     "output_type": "stream",
     "text": [
      "\n",
      "Epoch: 18 | Time: 1m 42s\n",
      "Training Results - Average Loss: 0.6327 | auc/_mean: 0.9148 | auc/healthy: 0.9741 | auc/multiple_diseases: 0.7341, auc/rust: 0.9780, auc/scab: 0.9730\n",
      "Evaluating Results - Average Loss: 0.5054 | auc/_mean: 0.9454 | auc/healthy: 0.9937 | auc/multiple_diseases: 0.7944, auc/rust: 0.9993, auc/scab: 0.9941\n",
      "\n"
     ]
    },
    {
     "data": {
      "application/vnd.jupyter.widget-view+json": {
       "model_id": "71147cd5105f47c2ad078d7f835c3202",
       "version_major": 2,
       "version_minor": 0
      },
      "text/plain": [
       "HBox(children=(FloatProgress(value=0.0, description='Train', max=182.0, style=ProgressStyle(description_width=…"
      ]
     },
     "metadata": {},
     "output_type": "display_data"
    },
    {
     "name": "stdout",
     "output_type": "stream",
     "text": [
      "\n",
      "Epoch: 19 | Time: 1m 42s\n",
      "Training Results - Average Loss: 0.6063 | auc/_mean: 0.9233 | auc/healthy: 0.9784 | auc/multiple_diseases: 0.7516, auc/rust: 0.9861, auc/scab: 0.9770\n",
      "Evaluating Results - Average Loss: 0.5034 | auc/_mean: 0.9455 | auc/healthy: 0.9936 | auc/multiple_diseases: 0.7944, auc/rust: 0.9994, auc/scab: 0.9946\n",
      "\n"
     ]
    },
    {
     "data": {
      "application/vnd.jupyter.widget-view+json": {
       "model_id": "6e9876f586c14c088f5b2292a46f74bf",
       "version_major": 2,
       "version_minor": 0
      },
      "text/plain": [
       "HBox(children=(FloatProgress(value=0.0, description='Train', max=182.0, style=ProgressStyle(description_width=…"
      ]
     },
     "metadata": {},
     "output_type": "display_data"
    },
    {
     "name": "stdout",
     "output_type": "stream",
     "text": [
      "\n",
      "Epoch: 20 | Time: 1m 41s\n",
      "Training Results - Average Loss: 0.6102 | auc/_mean: 0.9312 | auc/healthy: 0.9804 | auc/multiple_diseases: 0.7891, auc/rust: 0.9800, auc/scab: 0.9754\n",
      "Evaluating Results - Average Loss: 0.5010 | auc/_mean: 0.9464 | auc/healthy: 0.9940 | auc/multiple_diseases: 0.7975, auc/rust: 0.9993, auc/scab: 0.9949\n",
      "\n"
     ]
    },
    {
     "data": {
      "application/vnd.jupyter.widget-view+json": {
       "model_id": "c6abee385aa04e95bf03b6861afb915c",
       "version_major": 2,
       "version_minor": 0
      },
      "text/plain": [
       "HBox(children=(FloatProgress(value=0.0, description='Train', max=182.0, style=ProgressStyle(description_width=…"
      ]
     },
     "metadata": {},
     "output_type": "display_data"
    },
    {
     "name": "stdout",
     "output_type": "stream",
     "text": [
      "\n",
      "Epoch: 21 | Time: 1m 40s\n",
      "Training Results - Average Loss: 0.6114 | auc/_mean: 0.9325 | auc/healthy: 0.9770 | auc/multiple_diseases: 0.7945, auc/rust: 0.9835, auc/scab: 0.9749\n",
      "Evaluating Results - Average Loss: 0.4983 | auc/_mean: 0.9484 | auc/healthy: 0.9941 | auc/multiple_diseases: 0.8047, auc/rust: 0.9994, auc/scab: 0.9952\n",
      "\n"
     ]
    },
    {
     "data": {
      "application/vnd.jupyter.widget-view+json": {
       "model_id": "010b57ebc96d4e1c9bbfec2496320309",
       "version_major": 2,
       "version_minor": 0
      },
      "text/plain": [
       "HBox(children=(FloatProgress(value=0.0, description='Train', max=182.0, style=ProgressStyle(description_width=…"
      ]
     },
     "metadata": {},
     "output_type": "display_data"
    },
    {
     "name": "stdout",
     "output_type": "stream",
     "text": [
      "\n",
      "Epoch: 22 | Time: 1m 41s\n",
      "Training Results - Average Loss: 0.6069 | auc/_mean: 0.9352 | auc/healthy: 0.9825 | auc/multiple_diseases: 0.8035, auc/rust: 0.9822, auc/scab: 0.9727\n",
      "Evaluating Results - Average Loss: 0.4970 | auc/_mean: 0.9485 | auc/healthy: 0.9943 | auc/multiple_diseases: 0.8047, auc/rust: 0.9996, auc/scab: 0.9956\n",
      "\n"
     ]
    },
    {
     "data": {
      "application/vnd.jupyter.widget-view+json": {
       "model_id": "958f27bd0287455db7b96bb1852536d2",
       "version_major": 2,
       "version_minor": 0
      },
      "text/plain": [
       "HBox(children=(FloatProgress(value=0.0, description='Train', max=182.0, style=ProgressStyle(description_width=…"
      ]
     },
     "metadata": {},
     "output_type": "display_data"
    },
    {
     "name": "stdout",
     "output_type": "stream",
     "text": [
      "\n",
      "Epoch: 23 | Time: 1m 40s\n",
      "Training Results - Average Loss: 0.6087 | auc/_mean: 0.9352 | auc/healthy: 0.9812 | auc/multiple_diseases: 0.8051, auc/rust: 0.9846, auc/scab: 0.9699\n",
      "Evaluating Results - Average Loss: 0.4942 | auc/_mean: 0.9488 | auc/healthy: 0.9944 | auc/multiple_diseases: 0.8052, auc/rust: 0.9996, auc/scab: 0.9959\n",
      "\n"
     ]
    },
    {
     "data": {
      "application/vnd.jupyter.widget-view+json": {
       "model_id": "8df7e482173e40959584426dc84a5fdc",
       "version_major": 2,
       "version_minor": 0
      },
      "text/plain": [
       "HBox(children=(FloatProgress(value=0.0, description='Train', max=182.0, style=ProgressStyle(description_width=…"
      ]
     },
     "metadata": {},
     "output_type": "display_data"
    },
    {
     "name": "stdout",
     "output_type": "stream",
     "text": [
      "\n",
      "Epoch: 24 | Time: 1m 41s\n",
      "Training Results - Average Loss: 0.5908 | auc/_mean: 0.9349 | auc/healthy: 0.9845 | auc/multiple_diseases: 0.7912, auc/rust: 0.9850, auc/scab: 0.9788\n",
      "Evaluating Results - Average Loss: 0.4930 | auc/_mean: 0.9491 | auc/healthy: 0.9943 | auc/multiple_diseases: 0.8063, auc/rust: 0.9996, auc/scab: 0.9962\n",
      "\n"
     ]
    },
    {
     "data": {
      "application/vnd.jupyter.widget-view+json": {
       "model_id": "84c941b266e047ddbcf1e60968ae7dc5",
       "version_major": 2,
       "version_minor": 0
      },
      "text/plain": [
       "HBox(children=(FloatProgress(value=0.0, description='Train', max=182.0, style=ProgressStyle(description_width=…"
      ]
     },
     "metadata": {},
     "output_type": "display_data"
    },
    {
     "name": "stdout",
     "output_type": "stream",
     "text": [
      "\n",
      "Epoch: 25 | Time: 1m 41s\n",
      "Training Results - Average Loss: 0.5940 | auc/_mean: 0.9374 | auc/healthy: 0.9799 | auc/multiple_diseases: 0.8069, auc/rust: 0.9843, auc/scab: 0.9786\n",
      "Evaluating Results - Average Loss: 0.4913 | auc/_mean: 0.9513 | auc/healthy: 0.9946 | auc/multiple_diseases: 0.8148, auc/rust: 0.9997, auc/scab: 0.9962\n",
      "\n"
     ]
    },
    {
     "data": {
      "application/vnd.jupyter.widget-view+json": {
       "model_id": "56986082e4d34aaa8fbaa1300b985b6d",
       "version_major": 2,
       "version_minor": 0
      },
      "text/plain": [
       "HBox(children=(FloatProgress(value=0.0, description='Train', max=182.0, style=ProgressStyle(description_width=…"
      ]
     },
     "metadata": {},
     "output_type": "display_data"
    },
    {
     "name": "stdout",
     "output_type": "stream",
     "text": [
      "\n",
      "Epoch: 26 | Time: 1m 41s\n",
      "Training Results - Average Loss: 0.6003 | auc/_mean: 0.9377 | auc/healthy: 0.9808 | auc/multiple_diseases: 0.8107, auc/rust: 0.9827, auc/scab: 0.9767\n",
      "Evaluating Results - Average Loss: 0.4895 | auc/_mean: 0.9526 | auc/healthy: 0.9946 | auc/multiple_diseases: 0.8194, auc/rust: 0.9997, auc/scab: 0.9965\n",
      "\n"
     ]
    },
    {
     "data": {
      "application/vnd.jupyter.widget-view+json": {
       "model_id": "c632dc338b9b48c9ae7de9a454f523bd",
       "version_major": 2,
       "version_minor": 0
      },
      "text/plain": [
       "HBox(children=(FloatProgress(value=0.0, description='Train', max=182.0, style=ProgressStyle(description_width=…"
      ]
     },
     "metadata": {},
     "output_type": "display_data"
    },
    {
     "name": "stdout",
     "output_type": "stream",
     "text": [
      "\n",
      "Epoch: 27 | Time: 1m 41s\n",
      "Training Results - Average Loss: 0.6084 | auc/_mean: 0.9377 | auc/healthy: 0.9801 | auc/multiple_diseases: 0.8186, auc/rust: 0.9798, auc/scab: 0.9723\n",
      "Evaluating Results - Average Loss: 0.4882 | auc/_mean: 0.9534 | auc/healthy: 0.9949 | auc/multiple_diseases: 0.8224, auc/rust: 0.9998, auc/scab: 0.9963\n",
      "\n"
     ]
    },
    {
     "data": {
      "application/vnd.jupyter.widget-view+json": {
       "model_id": "a8c32f66ab644ee285dff7556aa7e135",
       "version_major": 2,
       "version_minor": 0
      },
      "text/plain": [
       "HBox(children=(FloatProgress(value=0.0, description='Train', max=182.0, style=ProgressStyle(description_width=…"
      ]
     },
     "metadata": {},
     "output_type": "display_data"
    },
    {
     "name": "stdout",
     "output_type": "stream",
     "text": [
      "\n",
      "Epoch: 28 | Time: 1m 41s\n",
      "Training Results - Average Loss: 0.5834 | auc/_mean: 0.9405 | auc/healthy: 0.9842 | auc/multiple_diseases: 0.8113, auc/rust: 0.9870, auc/scab: 0.9794\n",
      "Evaluating Results - Average Loss: 0.4859 | auc/_mean: 0.9546 | auc/healthy: 0.9948 | auc/multiple_diseases: 0.8272, auc/rust: 0.9998, auc/scab: 0.9967\n",
      "\n"
     ]
    },
    {
     "data": {
      "application/vnd.jupyter.widget-view+json": {
       "model_id": "1b873c726285462b8aa31aeb2a788c87",
       "version_major": 2,
       "version_minor": 0
      },
      "text/plain": [
       "HBox(children=(FloatProgress(value=0.0, description='Train', max=182.0, style=ProgressStyle(description_width=…"
      ]
     },
     "metadata": {},
     "output_type": "display_data"
    },
    {
     "name": "stdout",
     "output_type": "stream",
     "text": [
      "\n",
      "Epoch: 29 | Time: 1m 41s\n",
      "Training Results - Average Loss: 0.5664 | auc/_mean: 0.9397 | auc/healthy: 0.9868 | auc/multiple_diseases: 0.7995, auc/rust: 0.9902, auc/scab: 0.9822\n",
      "Evaluating Results - Average Loss: 0.4848 | auc/_mean: 0.9549 | auc/healthy: 0.9952 | auc/multiple_diseases: 0.8280, auc/rust: 0.9998, auc/scab: 0.9967\n",
      "\n"
     ]
    },
    {
     "data": {
      "application/vnd.jupyter.widget-view+json": {
       "model_id": "28f1d7ffe9e94bf6b05d0c65e75b5a0b",
       "version_major": 2,
       "version_minor": 0
      },
      "text/plain": [
       "HBox(children=(FloatProgress(value=0.0, description='Train', max=182.0, style=ProgressStyle(description_width=…"
      ]
     },
     "metadata": {},
     "output_type": "display_data"
    },
    {
     "name": "stdout",
     "output_type": "stream",
     "text": [
      "\n",
      "Epoch: 30 | Time: 1m 40s\n",
      "Training Results - Average Loss: 0.5890 | auc/_mean: 0.9384 | auc/healthy: 0.9830 | auc/multiple_diseases: 0.8070, auc/rust: 0.9829, auc/scab: 0.9806\n",
      "Evaluating Results - Average Loss: 0.4833 | auc/_mean: 0.9572 | auc/healthy: 0.9952 | auc/multiple_diseases: 0.8370, auc/rust: 0.9997, auc/scab: 0.9968\n",
      "\n"
     ]
    },
    {
     "data": {
      "application/vnd.jupyter.widget-view+json": {
       "model_id": "f460c12b5dd643f7ba8a71b92cba3daf",
       "version_major": 2,
       "version_minor": 0
      },
      "text/plain": [
       "HBox(children=(FloatProgress(value=0.0, description='Train', max=182.0, style=ProgressStyle(description_width=…"
      ]
     },
     "metadata": {},
     "output_type": "display_data"
    },
    {
     "name": "stdout",
     "output_type": "stream",
     "text": [
      "\n",
      "Epoch: 31 | Time: 1m 41s\n",
      "Training Results - Average Loss: 0.5853 | auc/_mean: 0.9467 | auc/healthy: 0.9824 | auc/multiple_diseases: 0.8401, auc/rust: 0.9837, auc/scab: 0.9804\n",
      "Evaluating Results - Average Loss: 0.4815 | auc/_mean: 0.9585 | auc/healthy: 0.9951 | auc/multiple_diseases: 0.8421, auc/rust: 0.9998, auc/scab: 0.9969\n",
      "\n"
     ]
    },
    {
     "data": {
      "application/vnd.jupyter.widget-view+json": {
       "model_id": "730913350a5a477daf6f9b00bdc626f2",
       "version_major": 2,
       "version_minor": 0
      },
      "text/plain": [
       "HBox(children=(FloatProgress(value=0.0, description='Train', max=182.0, style=ProgressStyle(description_width=…"
      ]
     },
     "metadata": {},
     "output_type": "display_data"
    },
    {
     "name": "stdout",
     "output_type": "stream",
     "text": [
      "\n",
      "Epoch: 32 | Time: 1m 41s\n",
      "Training Results - Average Loss: 0.5685 | auc/_mean: 0.9504 | auc/healthy: 0.9853 | auc/multiple_diseases: 0.8455, auc/rust: 0.9865, auc/scab: 0.9841\n",
      "Evaluating Results - Average Loss: 0.4806 | auc/_mean: 0.9596 | auc/healthy: 0.9951 | auc/multiple_diseases: 0.8465, auc/rust: 0.9997, auc/scab: 0.9970\n",
      "\n"
     ]
    },
    {
     "data": {
      "application/vnd.jupyter.widget-view+json": {
       "model_id": "da635e87cadd49789c002e022b82dfde",
       "version_major": 2,
       "version_minor": 0
      },
      "text/plain": [
       "HBox(children=(FloatProgress(value=0.0, description='Train', max=182.0, style=ProgressStyle(description_width=…"
      ]
     },
     "metadata": {},
     "output_type": "display_data"
    },
    {
     "name": "stdout",
     "output_type": "stream",
     "text": [
      "\n",
      "Epoch: 33 | Time: 1m 41s\n",
      "Training Results - Average Loss: 0.5855 | auc/_mean: 0.9480 | auc/healthy: 0.9826 | auc/multiple_diseases: 0.8443, auc/rust: 0.9838, auc/scab: 0.9813\n",
      "Evaluating Results - Average Loss: 0.4794 | auc/_mean: 0.9599 | auc/healthy: 0.9954 | auc/multiple_diseases: 0.8471, auc/rust: 0.9998, auc/scab: 0.9973\n",
      "\n"
     ]
    },
    {
     "data": {
      "application/vnd.jupyter.widget-view+json": {
       "model_id": "4d997acdec0745e59a8b9297883b4dfe",
       "version_major": 2,
       "version_minor": 0
      },
      "text/plain": [
       "HBox(children=(FloatProgress(value=0.0, description='Train', max=182.0, style=ProgressStyle(description_width=…"
      ]
     },
     "metadata": {},
     "output_type": "display_data"
    },
    {
     "name": "stdout",
     "output_type": "stream",
     "text": [
      "\n",
      "Epoch: 34 | Time: 1m 41s\n",
      "Training Results - Average Loss: 0.5740 | auc/_mean: 0.9486 | auc/healthy: 0.9834 | auc/multiple_diseases: 0.8403, auc/rust: 0.9876, auc/scab: 0.9829\n",
      "Evaluating Results - Average Loss: 0.4778 | auc/_mean: 0.9616 | auc/healthy: 0.9954 | auc/multiple_diseases: 0.8540, auc/rust: 0.9998, auc/scab: 0.9972\n",
      "\n"
     ]
    },
    {
     "data": {
      "application/vnd.jupyter.widget-view+json": {
       "model_id": "6f8069b7969e43f0ace03a05601921ed",
       "version_major": 2,
       "version_minor": 0
      },
      "text/plain": [
       "HBox(children=(FloatProgress(value=0.0, description='Train', max=182.0, style=ProgressStyle(description_width=…"
      ]
     },
     "metadata": {},
     "output_type": "display_data"
    },
    {
     "name": "stdout",
     "output_type": "stream",
     "text": [
      "\n",
      "Epoch: 35 | Time: 1m 40s\n",
      "Training Results - Average Loss: 0.5642 | auc/_mean: 0.9555 | auc/healthy: 0.9863 | auc/multiple_diseases: 0.8634, auc/rust: 0.9872, auc/scab: 0.9851\n",
      "Evaluating Results - Average Loss: 0.4760 | auc/_mean: 0.9622 | auc/healthy: 0.9955 | auc/multiple_diseases: 0.8561, auc/rust: 0.9998, auc/scab: 0.9974\n",
      "\n"
     ]
    },
    {
     "data": {
      "application/vnd.jupyter.widget-view+json": {
       "model_id": "b679eed67d1d47d8ba025e64b05b78b1",
       "version_major": 2,
       "version_minor": 0
      },
      "text/plain": [
       "HBox(children=(FloatProgress(value=0.0, description='Train', max=182.0, style=ProgressStyle(description_width=…"
      ]
     },
     "metadata": {},
     "output_type": "display_data"
    },
    {
     "name": "stdout",
     "output_type": "stream",
     "text": [
      "\n",
      "Epoch: 36 | Time: 1m 41s\n",
      "Training Results - Average Loss: 0.5628 | auc/_mean: 0.9615 | auc/healthy: 0.9897 | auc/multiple_diseases: 0.8905, auc/rust: 0.9842, auc/scab: 0.9815\n",
      "Evaluating Results - Average Loss: 0.4763 | auc/_mean: 0.9634 | auc/healthy: 0.9954 | auc/multiple_diseases: 0.8610, auc/rust: 0.9998, auc/scab: 0.9974\n",
      "\n"
     ]
    },
    {
     "data": {
      "application/vnd.jupyter.widget-view+json": {
       "model_id": "5117f3e858994e8fb4f811d597b16c0e",
       "version_major": 2,
       "version_minor": 0
      },
      "text/plain": [
       "HBox(children=(FloatProgress(value=0.0, description='Train', max=182.0, style=ProgressStyle(description_width=…"
      ]
     },
     "metadata": {},
     "output_type": "display_data"
    },
    {
     "name": "stdout",
     "output_type": "stream",
     "text": [
      "\n",
      "Epoch: 37 | Time: 1m 41s\n",
      "Training Results - Average Loss: 0.5584 | auc/_mean: 0.9611 | auc/healthy: 0.9891 | auc/multiple_diseases: 0.8851, auc/rust: 0.9870, auc/scab: 0.9834\n",
      "Evaluating Results - Average Loss: 0.4749 | auc/_mean: 0.9644 | auc/healthy: 0.9957 | auc/multiple_diseases: 0.8647, auc/rust: 0.9999, auc/scab: 0.9975\n",
      "\n"
     ]
    },
    {
     "data": {
      "application/vnd.jupyter.widget-view+json": {
       "model_id": "f2abcf24cd544523a3a1ec0fb83518d7",
       "version_major": 2,
       "version_minor": 0
      },
      "text/plain": [
       "HBox(children=(FloatProgress(value=0.0, description='Train', max=182.0, style=ProgressStyle(description_width=…"
      ]
     },
     "metadata": {},
     "output_type": "display_data"
    },
    {
     "name": "stdout",
     "output_type": "stream",
     "text": [
      "\n",
      "Epoch: 38 | Time: 1m 41s\n",
      "Training Results - Average Loss: 0.5608 | auc/_mean: 0.9550 | auc/healthy: 0.9851 | auc/multiple_diseases: 0.8624, auc/rust: 0.9895, auc/scab: 0.9829\n",
      "Evaluating Results - Average Loss: 0.4741 | auc/_mean: 0.9653 | auc/healthy: 0.9956 | auc/multiple_diseases: 0.8684, auc/rust: 0.9999, auc/scab: 0.9974\n",
      "\n"
     ]
    },
    {
     "data": {
      "application/vnd.jupyter.widget-view+json": {
       "model_id": "d7419ee8ad934e4a838f9a7407015e52",
       "version_major": 2,
       "version_minor": 0
      },
      "text/plain": [
       "HBox(children=(FloatProgress(value=0.0, description='Train', max=182.0, style=ProgressStyle(description_width=…"
      ]
     },
     "metadata": {},
     "output_type": "display_data"
    },
    {
     "name": "stdout",
     "output_type": "stream",
     "text": [
      "\n",
      "Epoch: 39 | Time: 1m 41s\n",
      "Training Results - Average Loss: 0.5444 | auc/_mean: 0.9656 | auc/healthy: 0.9908 | auc/multiple_diseases: 0.8955, auc/rust: 0.9886, auc/scab: 0.9875\n",
      "Evaluating Results - Average Loss: 0.4740 | auc/_mean: 0.9655 | auc/healthy: 0.9957 | auc/multiple_diseases: 0.8692, auc/rust: 0.9999, auc/scab: 0.9974\n",
      "\n"
     ]
    },
    {
     "data": {
      "application/vnd.jupyter.widget-view+json": {
       "model_id": "5f4e5bf39a0e45d2ae921b2ca63f18e1",
       "version_major": 2,
       "version_minor": 0
      },
      "text/plain": [
       "HBox(children=(FloatProgress(value=0.0, description='Train', max=182.0, style=ProgressStyle(description_width=…"
      ]
     },
     "metadata": {},
     "output_type": "display_data"
    },
    {
     "name": "stdout",
     "output_type": "stream",
     "text": [
      "\n",
      "Epoch: 40 | Time: 1m 41s\n",
      "Training Results - Average Loss: 0.5621 | auc/_mean: 0.9648 | auc/healthy: 0.9859 | auc/multiple_diseases: 0.9044, auc/rust: 0.9860, auc/scab: 0.9828\n",
      "Evaluating Results - Average Loss: 0.4721 | auc/_mean: 0.9665 | auc/healthy: 0.9960 | auc/multiple_diseases: 0.8729, auc/rust: 0.9998, auc/scab: 0.9975\n",
      "\n"
     ]
    },
    {
     "data": {
      "application/vnd.jupyter.widget-view+json": {
       "model_id": "3b44d30ffd3c480e81555e4cc2424cae",
       "version_major": 2,
       "version_minor": 0
      },
      "text/plain": [
       "HBox(children=(FloatProgress(value=0.0, description='Train', max=182.0, style=ProgressStyle(description_width=…"
      ]
     },
     "metadata": {},
     "output_type": "display_data"
    },
    {
     "name": "stdout",
     "output_type": "stream",
     "text": [
      "\n",
      "Epoch: 41 | Time: 1m 40s\n",
      "Training Results - Average Loss: 0.5457 | auc/_mean: 0.9576 | auc/healthy: 0.9909 | auc/multiple_diseases: 0.8617, auc/rust: 0.9890, auc/scab: 0.9888\n",
      "Evaluating Results - Average Loss: 0.4704 | auc/_mean: 0.9684 | auc/healthy: 0.9964 | auc/multiple_diseases: 0.8798, auc/rust: 0.9998, auc/scab: 0.9975\n",
      "\n"
     ]
    },
    {
     "data": {
      "application/vnd.jupyter.widget-view+json": {
       "model_id": "da97b83488bc4136ae1e35139d62ced0",
       "version_major": 2,
       "version_minor": 0
      },
      "text/plain": [
       "HBox(children=(FloatProgress(value=0.0, description='Train', max=182.0, style=ProgressStyle(description_width=…"
      ]
     },
     "metadata": {},
     "output_type": "display_data"
    },
    {
     "name": "stdout",
     "output_type": "stream",
     "text": [
      "\n",
      "Epoch: 42 | Time: 1m 41s\n",
      "Training Results - Average Loss: 0.5451 | auc/_mean: 0.9701 | auc/healthy: 0.9864 | auc/multiple_diseases: 0.9192, auc/rust: 0.9880, auc/scab: 0.9868\n",
      "Evaluating Results - Average Loss: 0.4702 | auc/_mean: 0.9680 | auc/healthy: 0.9964 | auc/multiple_diseases: 0.8783, auc/rust: 0.9999, auc/scab: 0.9976\n",
      "\n"
     ]
    },
    {
     "data": {
      "application/vnd.jupyter.widget-view+json": {
       "model_id": "20fab43cc10443fa80b22098b535a944",
       "version_major": 2,
       "version_minor": 0
      },
      "text/plain": [
       "HBox(children=(FloatProgress(value=0.0, description='Train', max=182.0, style=ProgressStyle(description_width=…"
      ]
     },
     "metadata": {},
     "output_type": "display_data"
    },
    {
     "name": "stdout",
     "output_type": "stream",
     "text": [
      "\n",
      "Epoch: 43 | Time: 1m 42s\n",
      "Training Results - Average Loss: 0.5462 | auc/_mean: 0.9660 | auc/healthy: 0.9887 | auc/multiple_diseases: 0.9017, auc/rust: 0.9868, auc/scab: 0.9867\n",
      "Evaluating Results - Average Loss: 0.4707 | auc/_mean: 0.9684 | auc/healthy: 0.9963 | auc/multiple_diseases: 0.8798, auc/rust: 0.9999, auc/scab: 0.9975\n",
      "\n"
     ]
    },
    {
     "data": {
      "application/vnd.jupyter.widget-view+json": {
       "model_id": "cfc5c7d610db4e0e8af596deac22e07f",
       "version_major": 2,
       "version_minor": 0
      },
      "text/plain": [
       "HBox(children=(FloatProgress(value=0.0, description='Train', max=182.0, style=ProgressStyle(description_width=…"
      ]
     },
     "metadata": {},
     "output_type": "display_data"
    },
    {
     "name": "stdout",
     "output_type": "stream",
     "text": [
      "\n",
      "Epoch: 44 | Time: 1m 41s\n",
      "Training Results - Average Loss: 0.5526 | auc/_mean: 0.9639 | auc/healthy: 0.9880 | auc/multiple_diseases: 0.8938, auc/rust: 0.9920, auc/scab: 0.9817\n",
      "Evaluating Results - Average Loss: 0.4703 | auc/_mean: 0.9680 | auc/healthy: 0.9962 | auc/multiple_diseases: 0.8786, auc/rust: 0.9998, auc/scab: 0.9975\n",
      "\n"
     ]
    },
    {
     "data": {
      "application/vnd.jupyter.widget-view+json": {
       "model_id": "b0aee74a28f84c479c754fdf3bfc28dd",
       "version_major": 2,
       "version_minor": 0
      },
      "text/plain": [
       "HBox(children=(FloatProgress(value=0.0, description='Train', max=182.0, style=ProgressStyle(description_width=…"
      ]
     },
     "metadata": {},
     "output_type": "display_data"
    },
    {
     "name": "stdout",
     "output_type": "stream",
     "text": [
      "\n",
      "Epoch: 45 | Time: 1m 41s\n",
      "Training Results - Average Loss: 0.5504 | auc/_mean: 0.9606 | auc/healthy: 0.9892 | auc/multiple_diseases: 0.8808, auc/rust: 0.9855, auc/scab: 0.9868\n",
      "Evaluating Results - Average Loss: 0.4688 | auc/_mean: 0.9697 | auc/healthy: 0.9966 | auc/multiple_diseases: 0.8847, auc/rust: 0.9999, auc/scab: 0.9974\n",
      "\n"
     ]
    },
    {
     "data": {
      "application/vnd.jupyter.widget-view+json": {
       "model_id": "fd388009a1c84bf68f5ece12af6a65be",
       "version_major": 2,
       "version_minor": 0
      },
      "text/plain": [
       "HBox(children=(FloatProgress(value=0.0, description='Train', max=182.0, style=ProgressStyle(description_width=…"
      ]
     },
     "metadata": {},
     "output_type": "display_data"
    },
    {
     "name": "stdout",
     "output_type": "stream",
     "text": [
      "\n",
      "Epoch: 46 | Time: 1m 41s\n",
      "Training Results - Average Loss: 0.5513 | auc/_mean: 0.9633 | auc/healthy: 0.9911 | auc/multiple_diseases: 0.8904, auc/rust: 0.9868, auc/scab: 0.9850\n",
      "Evaluating Results - Average Loss: 0.4677 | auc/_mean: 0.9701 | auc/healthy: 0.9961 | auc/multiple_diseases: 0.8870, auc/rust: 0.9999, auc/scab: 0.9974\n",
      "\n"
     ]
    },
    {
     "data": {
      "application/vnd.jupyter.widget-view+json": {
       "model_id": "48ccba278d9a45a9aa7093c9e9262d26",
       "version_major": 2,
       "version_minor": 0
      },
      "text/plain": [
       "HBox(children=(FloatProgress(value=0.0, description='Train', max=182.0, style=ProgressStyle(description_width=…"
      ]
     },
     "metadata": {},
     "output_type": "display_data"
    },
    {
     "name": "stdout",
     "output_type": "stream",
     "text": [
      "\n",
      "Epoch: 47 | Time: 1m 42s\n",
      "Training Results - Average Loss: 0.5284 | auc/_mean: 0.9677 | auc/healthy: 0.9911 | auc/multiple_diseases: 0.8980, auc/rust: 0.9925, auc/scab: 0.9894\n",
      "Evaluating Results - Average Loss: 0.4681 | auc/_mean: 0.9714 | auc/healthy: 0.9963 | auc/multiple_diseases: 0.8918, auc/rust: 0.9999, auc/scab: 0.9975\n",
      "\n"
     ]
    },
    {
     "data": {
      "application/vnd.jupyter.widget-view+json": {
       "model_id": "009d304e3f3b452da4113c3022f06bb0",
       "version_major": 2,
       "version_minor": 0
      },
      "text/plain": [
       "HBox(children=(FloatProgress(value=0.0, description='Train', max=182.0, style=ProgressStyle(description_width=…"
      ]
     },
     "metadata": {},
     "output_type": "display_data"
    },
    {
     "name": "stdout",
     "output_type": "stream",
     "text": [
      "\n",
      "Epoch: 48 | Time: 1m 41s\n",
      "Training Results - Average Loss: 0.5435 | auc/_mean: 0.9674 | auc/healthy: 0.9879 | auc/multiple_diseases: 0.9056, auc/rust: 0.9868, auc/scab: 0.9893\n",
      "Evaluating Results - Average Loss: 0.4672 | auc/_mean: 0.9716 | auc/healthy: 0.9965 | auc/multiple_diseases: 0.8924, auc/rust: 0.9999, auc/scab: 0.9975\n",
      "\n"
     ]
    },
    {
     "data": {
      "application/vnd.jupyter.widget-view+json": {
       "model_id": "2f3854e388884e87880e91e0c7dec290",
       "version_major": 2,
       "version_minor": 0
      },
      "text/plain": [
       "HBox(children=(FloatProgress(value=0.0, description='Train', max=182.0, style=ProgressStyle(description_width=…"
      ]
     },
     "metadata": {},
     "output_type": "display_data"
    },
    {
     "name": "stdout",
     "output_type": "stream",
     "text": [
      "\n",
      "Epoch: 49 | Time: 1m 42s\n",
      "Training Results - Average Loss: 0.5509 | auc/_mean: 0.9666 | auc/healthy: 0.9872 | auc/multiple_diseases: 0.9071, auc/rust: 0.9874, auc/scab: 0.9849\n",
      "Evaluating Results - Average Loss: 0.4659 | auc/_mean: 0.9722 | auc/healthy: 0.9965 | auc/multiple_diseases: 0.8951, auc/rust: 0.9999, auc/scab: 0.9975\n",
      "\n"
     ]
    },
    {
     "data": {
      "application/vnd.jupyter.widget-view+json": {
       "model_id": "2b6bf9e78a5e434da73ee68e6915634c",
       "version_major": 2,
       "version_minor": 0
      },
      "text/plain": [
       "HBox(children=(FloatProgress(value=0.0, description='Train', max=182.0, style=ProgressStyle(description_width=…"
      ]
     },
     "metadata": {},
     "output_type": "display_data"
    },
    {
     "name": "stdout",
     "output_type": "stream",
     "text": [
      "\n",
      "Epoch: 50 | Time: 1m 43s\n",
      "Training Results - Average Loss: 0.5257 | auc/_mean: 0.9698 | auc/healthy: 0.9934 | auc/multiple_diseases: 0.9035, auc/rust: 0.9909, auc/scab: 0.9912\n",
      "Evaluating Results - Average Loss: 0.4638 | auc/_mean: 0.9737 | auc/healthy: 0.9965 | auc/multiple_diseases: 0.9006, auc/rust: 0.9999, auc/scab: 0.9977\n",
      "\n"
     ]
    },
    {
     "data": {
      "application/vnd.jupyter.widget-view+json": {
       "model_id": "d59c7c26bc1d487e96c035ab9c6d8f8b",
       "version_major": 2,
       "version_minor": 0
      },
      "text/plain": [
       "HBox(children=(FloatProgress(value=0.0, description='Train', max=182.0, style=ProgressStyle(description_width=…"
      ]
     },
     "metadata": {},
     "output_type": "display_data"
    },
    {
     "name": "stdout",
     "output_type": "stream",
     "text": [
      "\n",
      "Epoch: 51 | Time: 1m 41s\n",
      "Training Results - Average Loss: 0.5347 | auc/_mean: 0.9692 | auc/healthy: 0.9903 | auc/multiple_diseases: 0.9089, auc/rust: 0.9882, auc/scab: 0.9895\n",
      "Evaluating Results - Average Loss: 0.4649 | auc/_mean: 0.9744 | auc/healthy: 0.9963 | auc/multiple_diseases: 0.9036, auc/rust: 0.9999, auc/scab: 0.9977\n",
      "\n"
     ]
    },
    {
     "data": {
      "application/vnd.jupyter.widget-view+json": {
       "model_id": "473c804bfe26498a8ed0610f935bb2cc",
       "version_major": 2,
       "version_minor": 0
      },
      "text/plain": [
       "HBox(children=(FloatProgress(value=0.0, description='Train', max=182.0, style=ProgressStyle(description_width=…"
      ]
     },
     "metadata": {},
     "output_type": "display_data"
    },
    {
     "name": "stdout",
     "output_type": "stream",
     "text": [
      "\n",
      "Epoch: 52 | Time: 1m 41s\n",
      "Training Results - Average Loss: 0.5245 | auc/_mean: 0.9753 | auc/healthy: 0.9950 | auc/multiple_diseases: 0.9286, auc/rust: 0.9916, auc/scab: 0.9857\n",
      "Evaluating Results - Average Loss: 0.4651 | auc/_mean: 0.9746 | auc/healthy: 0.9967 | auc/multiple_diseases: 0.9039, auc/rust: 0.9999, auc/scab: 0.9977\n",
      "\n"
     ]
    },
    {
     "data": {
      "application/vnd.jupyter.widget-view+json": {
       "model_id": "65cb470a2a70417bb5033cf13c23884b",
       "version_major": 2,
       "version_minor": 0
      },
      "text/plain": [
       "HBox(children=(FloatProgress(value=0.0, description='Train', max=182.0, style=ProgressStyle(description_width=…"
      ]
     },
     "metadata": {},
     "output_type": "display_data"
    },
    {
     "name": "stdout",
     "output_type": "stream",
     "text": [
      "\n",
      "Epoch: 53 | Time: 1m 41s\n",
      "Training Results - Average Loss: 0.5293 | auc/_mean: 0.9713 | auc/healthy: 0.9922 | auc/multiple_diseases: 0.9127, auc/rust: 0.9891, auc/scab: 0.9910\n",
      "Evaluating Results - Average Loss: 0.4646 | auc/_mean: 0.9750 | auc/healthy: 0.9966 | auc/multiple_diseases: 0.9057, auc/rust: 0.9999, auc/scab: 0.9977\n",
      "\n"
     ]
    },
    {
     "data": {
      "application/vnd.jupyter.widget-view+json": {
       "model_id": "9f71a721ae11446e87e958ceb435d3be",
       "version_major": 2,
       "version_minor": 0
      },
      "text/plain": [
       "HBox(children=(FloatProgress(value=0.0, description='Train', max=182.0, style=ProgressStyle(description_width=…"
      ]
     },
     "metadata": {},
     "output_type": "display_data"
    },
    {
     "name": "stdout",
     "output_type": "stream",
     "text": [
      "\n",
      "Epoch: 54 | Time: 1m 41s\n",
      "Training Results - Average Loss: 0.5217 | auc/_mean: 0.9694 | auc/healthy: 0.9927 | auc/multiple_diseases: 0.9056, auc/rust: 0.9903, auc/scab: 0.9889\n",
      "Evaluating Results - Average Loss: 0.4652 | auc/_mean: 0.9745 | auc/healthy: 0.9967 | auc/multiple_diseases: 0.9036, auc/rust: 0.9999, auc/scab: 0.9978\n",
      "\n"
     ]
    },
    {
     "data": {
      "application/vnd.jupyter.widget-view+json": {
       "model_id": "c2874b0873714f0689cab7bacba280a5",
       "version_major": 2,
       "version_minor": 0
      },
      "text/plain": [
       "HBox(children=(FloatProgress(value=0.0, description='Train', max=182.0, style=ProgressStyle(description_width=…"
      ]
     },
     "metadata": {},
     "output_type": "display_data"
    },
    {
     "name": "stdout",
     "output_type": "stream",
     "text": [
      "\n",
      "Epoch: 55 | Time: 1m 41s\n",
      "Training Results - Average Loss: 0.5210 | auc/_mean: 0.9760 | auc/healthy: 0.9936 | auc/multiple_diseases: 0.9262, auc/rust: 0.9914, auc/scab: 0.9926\n",
      "Evaluating Results - Average Loss: 0.4640 | auc/_mean: 0.9754 | auc/healthy: 0.9964 | auc/multiple_diseases: 0.9075, auc/rust: 0.9999, auc/scab: 0.9977\n",
      "\n"
     ]
    },
    {
     "data": {
      "application/vnd.jupyter.widget-view+json": {
       "model_id": "df1cb20a44cc4cc6b0cdcb866c85850a",
       "version_major": 2,
       "version_minor": 0
      },
      "text/plain": [
       "HBox(children=(FloatProgress(value=0.0, description='Train', max=182.0, style=ProgressStyle(description_width=…"
      ]
     },
     "metadata": {},
     "output_type": "display_data"
    },
    {
     "name": "stdout",
     "output_type": "stream",
     "text": [
      "\n",
      "Epoch: 56 | Time: 1m 41s\n",
      "Training Results - Average Loss: 0.5235 | auc/_mean: 0.9746 | auc/healthy: 0.9918 | auc/multiple_diseases: 0.9275, auc/rust: 0.9921, auc/scab: 0.9869\n",
      "Evaluating Results - Average Loss: 0.4633 | auc/_mean: 0.9758 | auc/healthy: 0.9964 | auc/multiple_diseases: 0.9091, auc/rust: 0.9999, auc/scab: 0.9978\n",
      "\n"
     ]
    },
    {
     "data": {
      "application/vnd.jupyter.widget-view+json": {
       "model_id": "27f94122611b41c9a80dbd856ad42629",
       "version_major": 2,
       "version_minor": 0
      },
      "text/plain": [
       "HBox(children=(FloatProgress(value=0.0, description='Train', max=182.0, style=ProgressStyle(description_width=…"
      ]
     },
     "metadata": {},
     "output_type": "display_data"
    },
    {
     "name": "stdout",
     "output_type": "stream",
     "text": [
      "\n",
      "Epoch: 57 | Time: 1m 41s\n",
      "Training Results - Average Loss: 0.5343 | auc/_mean: 0.9767 | auc/healthy: 0.9915 | auc/multiple_diseases: 0.9394, auc/rust: 0.9900, auc/scab: 0.9860\n",
      "Evaluating Results - Average Loss: 0.4636 | auc/_mean: 0.9762 | auc/healthy: 0.9962 | auc/multiple_diseases: 0.9110, auc/rust: 0.9999, auc/scab: 0.9977\n",
      "\n"
     ]
    },
    {
     "data": {
      "application/vnd.jupyter.widget-view+json": {
       "model_id": "9b1c64ed86574061993de06dc410cb52",
       "version_major": 2,
       "version_minor": 0
      },
      "text/plain": [
       "HBox(children=(FloatProgress(value=0.0, description='Train', max=182.0, style=ProgressStyle(description_width=…"
      ]
     },
     "metadata": {},
     "output_type": "display_data"
    },
    {
     "name": "stdout",
     "output_type": "stream",
     "text": [
      "\n",
      "Epoch: 58 | Time: 1m 41s\n",
      "Training Results - Average Loss: 0.5270 | auc/_mean: 0.9739 | auc/healthy: 0.9931 | auc/multiple_diseases: 0.9259, auc/rust: 0.9896, auc/scab: 0.9869\n",
      "Evaluating Results - Average Loss: 0.4622 | auc/_mean: 0.9767 | auc/healthy: 0.9964 | auc/multiple_diseases: 0.9127, auc/rust: 0.9999, auc/scab: 0.9979\n",
      "\n"
     ]
    },
    {
     "data": {
      "application/vnd.jupyter.widget-view+json": {
       "model_id": "2d14ffc9e46445ae876a075a17f9b15b",
       "version_major": 2,
       "version_minor": 0
      },
      "text/plain": [
       "HBox(children=(FloatProgress(value=0.0, description='Train', max=182.0, style=ProgressStyle(description_width=…"
      ]
     },
     "metadata": {},
     "output_type": "display_data"
    },
    {
     "name": "stdout",
     "output_type": "stream",
     "text": [
      "\n",
      "Epoch: 59 | Time: 1m 41s\n",
      "Training Results - Average Loss: 0.5213 | auc/_mean: 0.9749 | auc/healthy: 0.9921 | auc/multiple_diseases: 0.9262, auc/rust: 0.9909, auc/scab: 0.9904\n",
      "Evaluating Results - Average Loss: 0.4633 | auc/_mean: 0.9767 | auc/healthy: 0.9965 | auc/multiple_diseases: 0.9124, auc/rust: 0.9999, auc/scab: 0.9978\n",
      "\n"
     ]
    },
    {
     "data": {
      "application/vnd.jupyter.widget-view+json": {
       "model_id": "9c1735591c6f405e95fb616a075dbce2",
       "version_major": 2,
       "version_minor": 0
      },
      "text/plain": [
       "HBox(children=(FloatProgress(value=0.0, description='Train', max=182.0, style=ProgressStyle(description_width=…"
      ]
     },
     "metadata": {},
     "output_type": "display_data"
    },
    {
     "name": "stdout",
     "output_type": "stream",
     "text": [
      "\n",
      "Epoch: 60 | Time: 1m 41s\n",
      "Training Results - Average Loss: 0.5166 | auc/_mean: 0.9824 | auc/healthy: 0.9941 | auc/multiple_diseases: 0.9545, auc/rust: 0.9916, auc/scab: 0.9893\n",
      "Evaluating Results - Average Loss: 0.4631 | auc/_mean: 0.9756 | auc/healthy: 0.9965 | auc/multiple_diseases: 0.9081, auc/rust: 0.9999, auc/scab: 0.9978\n",
      "\n"
     ]
    },
    {
     "data": {
      "application/vnd.jupyter.widget-view+json": {
       "model_id": "44d32769405241dd85cea848fa436fec",
       "version_major": 2,
       "version_minor": 0
      },
      "text/plain": [
       "HBox(children=(FloatProgress(value=0.0, description='Train', max=182.0, style=ProgressStyle(description_width=…"
      ]
     },
     "metadata": {},
     "output_type": "display_data"
    },
    {
     "name": "stdout",
     "output_type": "stream",
     "text": [
      "\n",
      "Epoch: 61 | Time: 1m 41s\n",
      "Training Results - Average Loss: 0.5261 | auc/_mean: 0.9785 | auc/healthy: 0.9879 | auc/multiple_diseases: 0.9456, auc/rust: 0.9907, auc/scab: 0.9899\n",
      "Evaluating Results - Average Loss: 0.4620 | auc/_mean: 0.9764 | auc/healthy: 0.9965 | auc/multiple_diseases: 0.9115, auc/rust: 0.9999, auc/scab: 0.9978\n",
      "\n"
     ]
    },
    {
     "data": {
      "application/vnd.jupyter.widget-view+json": {
       "model_id": "e13f35c3c3b640c0a2374e9229b26970",
       "version_major": 2,
       "version_minor": 0
      },
      "text/plain": [
       "HBox(children=(FloatProgress(value=0.0, description='Train', max=182.0, style=ProgressStyle(description_width=…"
      ]
     },
     "metadata": {},
     "output_type": "display_data"
    },
    {
     "name": "stdout",
     "output_type": "stream",
     "text": [
      "\n",
      "Epoch: 62 | Time: 1m 41s\n",
      "Training Results - Average Loss: 0.5059 | auc/_mean: 0.9804 | auc/healthy: 0.9946 | auc/multiple_diseases: 0.9407, auc/rust: 0.9928, auc/scab: 0.9935\n",
      "Evaluating Results - Average Loss: 0.4624 | auc/_mean: 0.9771 | auc/healthy: 0.9966 | auc/multiple_diseases: 0.9140, auc/rust: 0.9999, auc/scab: 0.9978\n",
      "\n"
     ]
    },
    {
     "data": {
      "application/vnd.jupyter.widget-view+json": {
       "model_id": "00ad3337c71349f5af09e09d958cff9a",
       "version_major": 2,
       "version_minor": 0
      },
      "text/plain": [
       "HBox(children=(FloatProgress(value=0.0, description='Train', max=182.0, style=ProgressStyle(description_width=…"
      ]
     },
     "metadata": {},
     "output_type": "display_data"
    },
    {
     "name": "stdout",
     "output_type": "stream",
     "text": [
      "\n",
      "Epoch: 63 | Time: 1m 41s\n",
      "Training Results - Average Loss: 0.5035 | auc/_mean: 0.9789 | auc/healthy: 0.9937 | auc/multiple_diseases: 0.9372, auc/rust: 0.9933, auc/scab: 0.9913\n",
      "Evaluating Results - Average Loss: 0.4633 | auc/_mean: 0.9769 | auc/healthy: 0.9966 | auc/multiple_diseases: 0.9134, auc/rust: 0.9999, auc/scab: 0.9977\n",
      "\n"
     ]
    },
    {
     "data": {
      "application/vnd.jupyter.widget-view+json": {
       "model_id": "12112bc82b974d1a800d623af43715a1",
       "version_major": 2,
       "version_minor": 0
      },
      "text/plain": [
       "HBox(children=(FloatProgress(value=0.0, description='Train', max=182.0, style=ProgressStyle(description_width=…"
      ]
     },
     "metadata": {},
     "output_type": "display_data"
    },
    {
     "name": "stdout",
     "output_type": "stream",
     "text": [
      "\n",
      "Epoch: 64 | Time: 1m 40s\n",
      "Training Results - Average Loss: 0.5028 | auc/_mean: 0.9785 | auc/healthy: 0.9956 | auc/multiple_diseases: 0.9340, auc/rust: 0.9938, auc/scab: 0.9905\n",
      "Evaluating Results - Average Loss: 0.4613 | auc/_mean: 0.9774 | auc/healthy: 0.9965 | auc/multiple_diseases: 0.9153, auc/rust: 0.9999, auc/scab: 0.9977\n",
      "\n"
     ]
    },
    {
     "data": {
      "application/vnd.jupyter.widget-view+json": {
       "model_id": "008f2d5d1ece4ec6b8101e3fb73d8a42",
       "version_major": 2,
       "version_minor": 0
      },
      "text/plain": [
       "HBox(children=(FloatProgress(value=0.0, description='Train', max=182.0, style=ProgressStyle(description_width=…"
      ]
     },
     "metadata": {},
     "output_type": "display_data"
    },
    {
     "name": "stdout",
     "output_type": "stream",
     "text": [
      "\n",
      "Epoch: 65 | Time: 1m 42s\n",
      "Training Results - Average Loss: 0.5200 | auc/_mean: 0.9791 | auc/healthy: 0.9922 | auc/multiple_diseases: 0.9437, auc/rust: 0.9900, auc/scab: 0.9907\n",
      "Evaluating Results - Average Loss: 0.4592 | auc/_mean: 0.9782 | auc/healthy: 0.9968 | auc/multiple_diseases: 0.9185, auc/rust: 0.9999, auc/scab: 0.9977\n",
      "\n"
     ]
    },
    {
     "data": {
      "application/vnd.jupyter.widget-view+json": {
       "model_id": "dfbb631f40cc44ad87b5e2b934bd114c",
       "version_major": 2,
       "version_minor": 0
      },
      "text/plain": [
       "HBox(children=(FloatProgress(value=0.0, description='Train', max=182.0, style=ProgressStyle(description_width=…"
      ]
     },
     "metadata": {},
     "output_type": "display_data"
    },
    {
     "name": "stdout",
     "output_type": "stream",
     "text": [
      "\n",
      "Epoch: 66 | Time: 1m 41s\n",
      "Training Results - Average Loss: 0.5140 | auc/_mean: 0.9769 | auc/healthy: 0.9941 | auc/multiple_diseases: 0.9319, auc/rust: 0.9909, auc/scab: 0.9905\n",
      "Evaluating Results - Average Loss: 0.4610 | auc/_mean: 0.9778 | auc/healthy: 0.9969 | auc/multiple_diseases: 0.9169, auc/rust: 0.9999, auc/scab: 0.9976\n",
      "\n"
     ]
    },
    {
     "data": {
      "application/vnd.jupyter.widget-view+json": {
       "model_id": "4b6f867f47134e1caab16f14fa60d40f",
       "version_major": 2,
       "version_minor": 0
      },
      "text/plain": [
       "HBox(children=(FloatProgress(value=0.0, description='Train', max=182.0, style=ProgressStyle(description_width=…"
      ]
     },
     "metadata": {},
     "output_type": "display_data"
    },
    {
     "name": "stdout",
     "output_type": "stream",
     "text": [
      "\n",
      "Epoch: 67 | Time: 1m 41s\n",
      "Training Results - Average Loss: 0.5029 | auc/_mean: 0.9829 | auc/healthy: 0.9953 | auc/multiple_diseases: 0.9505, auc/rust: 0.9915, auc/scab: 0.9942\n",
      "Evaluating Results - Average Loss: 0.4600 | auc/_mean: 0.9784 | auc/healthy: 0.9970 | auc/multiple_diseases: 0.9190, auc/rust: 0.9999, auc/scab: 0.9978\n",
      "\n"
     ]
    },
    {
     "data": {
      "application/vnd.jupyter.widget-view+json": {
       "model_id": "55213b29ce764a9d90f6b7ee246ccd13",
       "version_major": 2,
       "version_minor": 0
      },
      "text/plain": [
       "HBox(children=(FloatProgress(value=0.0, description='Train', max=182.0, style=ProgressStyle(description_width=…"
      ]
     },
     "metadata": {},
     "output_type": "display_data"
    },
    {
     "name": "stdout",
     "output_type": "stream",
     "text": [
      "\n",
      "Epoch: 68 | Time: 1m 41s\n",
      "Training Results - Average Loss: 0.4932 | auc/_mean: 0.9813 | auc/healthy: 0.9938 | auc/multiple_diseases: 0.9416, auc/rust: 0.9942, auc/scab: 0.9955\n",
      "Evaluating Results - Average Loss: 0.4605 | auc/_mean: 0.9786 | auc/healthy: 0.9967 | auc/multiple_diseases: 0.9201, auc/rust: 0.9999, auc/scab: 0.9976\n",
      "\n"
     ]
    },
    {
     "data": {
      "application/vnd.jupyter.widget-view+json": {
       "model_id": "17378b5b90b342e994bccf3d16617336",
       "version_major": 2,
       "version_minor": 0
      },
      "text/plain": [
       "HBox(children=(FloatProgress(value=0.0, description='Train', max=182.0, style=ProgressStyle(description_width=…"
      ]
     },
     "metadata": {},
     "output_type": "display_data"
    },
    {
     "name": "stdout",
     "output_type": "stream",
     "text": [
      "\n",
      "Epoch: 69 | Time: 1m 41s\n",
      "Training Results - Average Loss: 0.4943 | auc/_mean: 0.9812 | auc/healthy: 0.9947 | auc/multiple_diseases: 0.9425, auc/rust: 0.9931, auc/scab: 0.9945\n",
      "Evaluating Results - Average Loss: 0.4596 | auc/_mean: 0.9791 | auc/healthy: 0.9969 | auc/multiple_diseases: 0.9220, auc/rust: 0.9999, auc/scab: 0.9977\n",
      "\n"
     ]
    },
    {
     "data": {
      "application/vnd.jupyter.widget-view+json": {
       "model_id": "d5b84a3315ff48c980741a325de71d04",
       "version_major": 2,
       "version_minor": 0
      },
      "text/plain": [
       "HBox(children=(FloatProgress(value=0.0, description='Train', max=182.0, style=ProgressStyle(description_width=…"
      ]
     },
     "metadata": {},
     "output_type": "display_data"
    },
    {
     "name": "stdout",
     "output_type": "stream",
     "text": [
      "\n",
      "Epoch: 70 | Time: 1m 41s\n",
      "Training Results - Average Loss: 0.5069 | auc/_mean: 0.9818 | auc/healthy: 0.9944 | auc/multiple_diseases: 0.9487, auc/rust: 0.9916, auc/scab: 0.9927\n",
      "Evaluating Results - Average Loss: 0.4592 | auc/_mean: 0.9799 | auc/healthy: 0.9970 | auc/multiple_diseases: 0.9248, auc/rust: 0.9999, auc/scab: 0.9978\n",
      "\n"
     ]
    },
    {
     "data": {
      "application/vnd.jupyter.widget-view+json": {
       "model_id": "4d20b31e05f74efeb9c1ca683688f733",
       "version_major": 2,
       "version_minor": 0
      },
      "text/plain": [
       "HBox(children=(FloatProgress(value=0.0, description='Train', max=182.0, style=ProgressStyle(description_width=…"
      ]
     },
     "metadata": {},
     "output_type": "display_data"
    },
    {
     "name": "stdout",
     "output_type": "stream",
     "text": [
      "\n",
      "Epoch: 71 | Time: 1m 41s\n",
      "Training Results - Average Loss: 0.4982 | auc/_mean: 0.9831 | auc/healthy: 0.9967 | auc/multiple_diseases: 0.9503, auc/rust: 0.9933, auc/scab: 0.9922\n",
      "Evaluating Results - Average Loss: 0.4595 | auc/_mean: 0.9800 | auc/healthy: 0.9969 | auc/multiple_diseases: 0.9256, auc/rust: 0.9999, auc/scab: 0.9977\n",
      "\n"
     ]
    },
    {
     "data": {
      "application/vnd.jupyter.widget-view+json": {
       "model_id": "1453d94ceb3b4a119ff2a31d86d5f126",
       "version_major": 2,
       "version_minor": 0
      },
      "text/plain": [
       "HBox(children=(FloatProgress(value=0.0, description='Train', max=182.0, style=ProgressStyle(description_width=…"
      ]
     },
     "metadata": {},
     "output_type": "display_data"
    },
    {
     "name": "stdout",
     "output_type": "stream",
     "text": [
      "\n",
      "Epoch: 72 | Time: 1m 41s\n",
      "Training Results - Average Loss: 0.5063 | auc/_mean: 0.9825 | auc/healthy: 0.9955 | auc/multiple_diseases: 0.9530, auc/rust: 0.9922, auc/scab: 0.9891\n",
      "Evaluating Results - Average Loss: 0.4593 | auc/_mean: 0.9793 | auc/healthy: 0.9968 | auc/multiple_diseases: 0.9228, auc/rust: 0.9999, auc/scab: 0.9977\n",
      "\n"
     ]
    },
    {
     "data": {
      "application/vnd.jupyter.widget-view+json": {
       "model_id": "2ecf03b7a5ea4a54b738de5f4466ccc0",
       "version_major": 2,
       "version_minor": 0
      },
      "text/plain": [
       "HBox(children=(FloatProgress(value=0.0, description='Train', max=182.0, style=ProgressStyle(description_width=…"
      ]
     },
     "metadata": {},
     "output_type": "display_data"
    },
    {
     "name": "stdout",
     "output_type": "stream",
     "text": [
      "\n",
      "Epoch: 73 | Time: 1m 42s\n",
      "Training Results - Average Loss: 0.4911 | auc/_mean: 0.9769 | auc/healthy: 0.9956 | auc/multiple_diseases: 0.9228, auc/rust: 0.9957, auc/scab: 0.9936\n",
      "Evaluating Results - Average Loss: 0.4579 | auc/_mean: 0.9799 | auc/healthy: 0.9971 | auc/multiple_diseases: 0.9251, auc/rust: 0.9999, auc/scab: 0.9976\n",
      "\n"
     ]
    },
    {
     "data": {
      "application/vnd.jupyter.widget-view+json": {
       "model_id": "da0ba04230fe4e38ab8747acc394b76b",
       "version_major": 2,
       "version_minor": 0
      },
      "text/plain": [
       "HBox(children=(FloatProgress(value=0.0, description='Train', max=182.0, style=ProgressStyle(description_width=…"
      ]
     },
     "metadata": {},
     "output_type": "display_data"
    },
    {
     "name": "stdout",
     "output_type": "stream",
     "text": [
      "\n",
      "Epoch: 74 | Time: 1m 42s\n",
      "Training Results - Average Loss: 0.4788 | auc/_mean: 0.9881 | auc/healthy: 0.9954 | auc/multiple_diseases: 0.9638, auc/rust: 0.9963, auc/scab: 0.9969\n",
      "Evaluating Results - Average Loss: 0.4584 | auc/_mean: 0.9808 | auc/healthy: 0.9972 | auc/multiple_diseases: 0.9286, auc/rust: 0.9999, auc/scab: 0.9977\n",
      "\n"
     ]
    },
    {
     "data": {
      "application/vnd.jupyter.widget-view+json": {
       "model_id": "0682a9abdde1423e86341c5e6c4e599d",
       "version_major": 2,
       "version_minor": 0
      },
      "text/plain": [
       "HBox(children=(FloatProgress(value=0.0, description='Train', max=182.0, style=ProgressStyle(description_width=…"
      ]
     },
     "metadata": {},
     "output_type": "display_data"
    },
    {
     "name": "stdout",
     "output_type": "stream",
     "text": [
      "\n",
      "Epoch: 75 | Time: 1m 41s\n",
      "Training Results - Average Loss: 0.4852 | auc/_mean: 0.9900 | auc/healthy: 0.9961 | auc/multiple_diseases: 0.9735, auc/rust: 0.9943, auc/scab: 0.9960\n",
      "Evaluating Results - Average Loss: 0.4569 | auc/_mean: 0.9810 | auc/healthy: 0.9970 | auc/multiple_diseases: 0.9294, auc/rust: 0.9999, auc/scab: 0.9977\n",
      "\n"
     ]
    },
    {
     "data": {
      "application/vnd.jupyter.widget-view+json": {
       "model_id": "e2ad1865bf1f41b2944878c8ca6744c0",
       "version_major": 2,
       "version_minor": 0
      },
      "text/plain": [
       "HBox(children=(FloatProgress(value=0.0, description='Train', max=182.0, style=ProgressStyle(description_width=…"
      ]
     },
     "metadata": {},
     "output_type": "display_data"
    },
    {
     "name": "stdout",
     "output_type": "stream",
     "text": [
      "\n",
      "Epoch: 76 | Time: 1m 41s\n",
      "Training Results - Average Loss: 0.4689 | auc/_mean: 0.9893 | auc/healthy: 0.9980 | auc/multiple_diseases: 0.9665, auc/rust: 0.9954, auc/scab: 0.9972\n",
      "Evaluating Results - Average Loss: 0.4573 | auc/_mean: 0.9813 | auc/healthy: 0.9971 | auc/multiple_diseases: 0.9305, auc/rust: 0.9999, auc/scab: 0.9977\n",
      "\n"
     ]
    },
    {
     "data": {
      "application/vnd.jupyter.widget-view+json": {
       "model_id": "37521c48b78746a9a0eac89d7d486d19",
       "version_major": 2,
       "version_minor": 0
      },
      "text/plain": [
       "HBox(children=(FloatProgress(value=0.0, description='Train', max=182.0, style=ProgressStyle(description_width=…"
      ]
     },
     "metadata": {},
     "output_type": "display_data"
    },
    {
     "name": "stdout",
     "output_type": "stream",
     "text": [
      "\n",
      "Epoch: 77 | Time: 1m 40s\n",
      "Training Results - Average Loss: 0.4827 | auc/_mean: 0.9867 | auc/healthy: 0.9960 | auc/multiple_diseases: 0.9607, auc/rust: 0.9962, auc/scab: 0.9941\n",
      "Evaluating Results - Average Loss: 0.4576 | auc/_mean: 0.9813 | auc/healthy: 0.9971 | auc/multiple_diseases: 0.9304, auc/rust: 0.9999, auc/scab: 0.9977\n",
      "\n"
     ]
    },
    {
     "data": {
      "application/vnd.jupyter.widget-view+json": {
       "model_id": "2200bf4a89c14e90b7b124a9a90fdf48",
       "version_major": 2,
       "version_minor": 0
      },
      "text/plain": [
       "HBox(children=(FloatProgress(value=0.0, description='Train', max=182.0, style=ProgressStyle(description_width=…"
      ]
     },
     "metadata": {},
     "output_type": "display_data"
    },
    {
     "name": "stdout",
     "output_type": "stream",
     "text": [
      "\n",
      "Epoch: 78 | Time: 1m 41s\n",
      "Training Results - Average Loss: 0.4938 | auc/_mean: 0.9867 | auc/healthy: 0.9968 | auc/multiple_diseases: 0.9650, auc/rust: 0.9931, auc/scab: 0.9916\n",
      "Evaluating Results - Average Loss: 0.4557 | auc/_mean: 0.9817 | auc/healthy: 0.9974 | auc/multiple_diseases: 0.9320, auc/rust: 0.9999, auc/scab: 0.9977\n",
      "\n"
     ]
    },
    {
     "data": {
      "application/vnd.jupyter.widget-view+json": {
       "model_id": "c3c8314637b54f619c390dd9ad0ba9ea",
       "version_major": 2,
       "version_minor": 0
      },
      "text/plain": [
       "HBox(children=(FloatProgress(value=0.0, description='Train', max=182.0, style=ProgressStyle(description_width=…"
      ]
     },
     "metadata": {},
     "output_type": "display_data"
    },
    {
     "name": "stdout",
     "output_type": "stream",
     "text": [
      "\n",
      "Epoch: 79 | Time: 1m 41s\n",
      "Training Results - Average Loss: 0.4788 | auc/_mean: 0.9885 | auc/healthy: 0.9960 | auc/multiple_diseases: 0.9698, auc/rust: 0.9966, auc/scab: 0.9916\n",
      "Evaluating Results - Average Loss: 0.4552 | auc/_mean: 0.9819 | auc/healthy: 0.9972 | auc/multiple_diseases: 0.9328, auc/rust: 0.9999, auc/scab: 0.9976\n",
      "\n"
     ]
    },
    {
     "data": {
      "application/vnd.jupyter.widget-view+json": {
       "model_id": "6540133ba1e14558b89ba24eaddcfae6",
       "version_major": 2,
       "version_minor": 0
      },
      "text/plain": [
       "HBox(children=(FloatProgress(value=0.0, description='Train', max=182.0, style=ProgressStyle(description_width=…"
      ]
     },
     "metadata": {},
     "output_type": "display_data"
    },
    {
     "name": "stdout",
     "output_type": "stream",
     "text": [
      "\n",
      "Epoch: 80 | Time: 1m 40s\n",
      "Training Results - Average Loss: 0.4881 | auc/_mean: 0.9822 | auc/healthy: 0.9973 | auc/multiple_diseases: 0.9436, auc/rust: 0.9953, auc/scab: 0.9926\n",
      "Evaluating Results - Average Loss: 0.4580 | auc/_mean: 0.9817 | auc/healthy: 0.9971 | auc/multiple_diseases: 0.9321, auc/rust: 0.9999, auc/scab: 0.9976\n",
      "\n"
     ]
    },
    {
     "data": {
      "application/vnd.jupyter.widget-view+json": {
       "model_id": "100f379af9654358800eb6b6ac8edab3",
       "version_major": 2,
       "version_minor": 0
      },
      "text/plain": [
       "HBox(children=(FloatProgress(value=0.0, description='Train', max=182.0, style=ProgressStyle(description_width=…"
      ]
     },
     "metadata": {},
     "output_type": "display_data"
    },
    {
     "name": "stdout",
     "output_type": "stream",
     "text": [
      "\n",
      "Epoch: 81 | Time: 1m 41s\n",
      "Training Results - Average Loss: 0.4798 | auc/_mean: 0.9896 | auc/healthy: 0.9966 | auc/multiple_diseases: 0.9740, auc/rust: 0.9924, auc/scab: 0.9952\n",
      "Evaluating Results - Average Loss: 0.4576 | auc/_mean: 0.9825 | auc/healthy: 0.9971 | auc/multiple_diseases: 0.9355, auc/rust: 0.9999, auc/scab: 0.9975\n",
      "\n"
     ]
    },
    {
     "data": {
      "application/vnd.jupyter.widget-view+json": {
       "model_id": "f396d6b13a454b739e96061d2a1b3ca4",
       "version_major": 2,
       "version_minor": 0
      },
      "text/plain": [
       "HBox(children=(FloatProgress(value=0.0, description='Train', max=182.0, style=ProgressStyle(description_width=…"
      ]
     },
     "metadata": {},
     "output_type": "display_data"
    },
    {
     "name": "stdout",
     "output_type": "stream",
     "text": [
      "\n",
      "Epoch: 82 | Time: 1m 41s\n",
      "Training Results - Average Loss: 0.4751 | auc/_mean: 0.9886 | auc/healthy: 0.9970 | auc/multiple_diseases: 0.9665, auc/rust: 0.9956, auc/scab: 0.9951\n",
      "Evaluating Results - Average Loss: 0.4567 | auc/_mean: 0.9831 | auc/healthy: 0.9971 | auc/multiple_diseases: 0.9380, auc/rust: 0.9999, auc/scab: 0.9976\n",
      "\n"
     ]
    },
    {
     "data": {
      "application/vnd.jupyter.widget-view+json": {
       "model_id": "95c8ab3fe32a4bfa8cb32ead6d494295",
       "version_major": 2,
       "version_minor": 0
      },
      "text/plain": [
       "HBox(children=(FloatProgress(value=0.0, description='Train', max=182.0, style=ProgressStyle(description_width=…"
      ]
     },
     "metadata": {},
     "output_type": "display_data"
    },
    {
     "name": "stdout",
     "output_type": "stream",
     "text": [
      "\n",
      "Epoch: 83 | Time: 1m 41s\n",
      "Training Results - Average Loss: 0.4760 | auc/_mean: 0.9903 | auc/healthy: 0.9952 | auc/multiple_diseases: 0.9742, auc/rust: 0.9967, auc/scab: 0.9951\n",
      "Evaluating Results - Average Loss: 0.4551 | auc/_mean: 0.9843 | auc/healthy: 0.9971 | auc/multiple_diseases: 0.9427, auc/rust: 0.9999, auc/scab: 0.9976\n",
      "\n"
     ]
    },
    {
     "data": {
      "application/vnd.jupyter.widget-view+json": {
       "model_id": "a79d1c86b4c24d178a9567e3c36328b7",
       "version_major": 2,
       "version_minor": 0
      },
      "text/plain": [
       "HBox(children=(FloatProgress(value=0.0, description='Train', max=182.0, style=ProgressStyle(description_width=…"
      ]
     },
     "metadata": {},
     "output_type": "display_data"
    },
    {
     "name": "stdout",
     "output_type": "stream",
     "text": [
      "\n",
      "Epoch: 84 | Time: 1m 43s\n",
      "Training Results - Average Loss: 0.4808 | auc/_mean: 0.9862 | auc/healthy: 0.9970 | auc/multiple_diseases: 0.9594, auc/rust: 0.9956, auc/scab: 0.9929\n",
      "Evaluating Results - Average Loss: 0.4551 | auc/_mean: 0.9839 | auc/healthy: 0.9972 | auc/multiple_diseases: 0.9408, auc/rust: 0.9999, auc/scab: 0.9975\n",
      "\n"
     ]
    },
    {
     "data": {
      "application/vnd.jupyter.widget-view+json": {
       "model_id": "c892a063d0c74694a99bfb8fea81a838",
       "version_major": 2,
       "version_minor": 0
      },
      "text/plain": [
       "HBox(children=(FloatProgress(value=0.0, description='Train', max=182.0, style=ProgressStyle(description_width=…"
      ]
     },
     "metadata": {},
     "output_type": "display_data"
    },
    {
     "name": "stdout",
     "output_type": "stream",
     "text": [
      "\n",
      "Epoch: 85 | Time: 1m 41s\n",
      "Training Results - Average Loss: 0.4699 | auc/_mean: 0.9914 | auc/healthy: 0.9954 | auc/multiple_diseases: 0.9790, auc/rust: 0.9960, auc/scab: 0.9950\n",
      "Evaluating Results - Average Loss: 0.4555 | auc/_mean: 0.9835 | auc/healthy: 0.9973 | auc/multiple_diseases: 0.9392, auc/rust: 0.9999, auc/scab: 0.9976\n",
      "\n"
     ]
    },
    {
     "data": {
      "application/vnd.jupyter.widget-view+json": {
       "model_id": "5a4e287aebe04f3ba092a688e3cee074",
       "version_major": 2,
       "version_minor": 0
      },
      "text/plain": [
       "HBox(children=(FloatProgress(value=0.0, description='Train', max=182.0, style=ProgressStyle(description_width=…"
      ]
     },
     "metadata": {},
     "output_type": "display_data"
    },
    {
     "name": "stdout",
     "output_type": "stream",
     "text": [
      "\n",
      "Epoch: 86 | Time: 1m 41s\n",
      "Training Results - Average Loss: 0.4791 | auc/_mean: 0.9869 | auc/healthy: 0.9968 | auc/multiple_diseases: 0.9618, auc/rust: 0.9935, auc/scab: 0.9955\n",
      "Evaluating Results - Average Loss: 0.4555 | auc/_mean: 0.9831 | auc/healthy: 0.9973 | auc/multiple_diseases: 0.9377, auc/rust: 0.9999, auc/scab: 0.9975\n",
      "\n"
     ]
    },
    {
     "data": {
      "application/vnd.jupyter.widget-view+json": {
       "model_id": "ea0ad48443ee4fb29874443c5c3f32a1",
       "version_major": 2,
       "version_minor": 0
      },
      "text/plain": [
       "HBox(children=(FloatProgress(value=0.0, description='Train', max=182.0, style=ProgressStyle(description_width=…"
      ]
     },
     "metadata": {},
     "output_type": "display_data"
    },
    {
     "name": "stdout",
     "output_type": "stream",
     "text": [
      "\n",
      "Epoch: 87 | Time: 1m 41s\n",
      "Training Results - Average Loss: 0.4775 | auc/_mean: 0.9884 | auc/healthy: 0.9978 | auc/multiple_diseases: 0.9679, auc/rust: 0.9948, auc/scab: 0.9931\n",
      "Evaluating Results - Average Loss: 0.4539 | auc/_mean: 0.9830 | auc/healthy: 0.9973 | auc/multiple_diseases: 0.9371, auc/rust: 0.9999, auc/scab: 0.9976\n",
      "\n"
     ]
    },
    {
     "data": {
      "application/vnd.jupyter.widget-view+json": {
       "model_id": "58c0def328c149a483d57cdf16f038c8",
       "version_major": 2,
       "version_minor": 0
      },
      "text/plain": [
       "HBox(children=(FloatProgress(value=0.0, description='Train', max=182.0, style=ProgressStyle(description_width=…"
      ]
     },
     "metadata": {},
     "output_type": "display_data"
    },
    {
     "name": "stdout",
     "output_type": "stream",
     "text": [
      "\n",
      "Epoch: 88 | Time: 1m 41s\n",
      "Training Results - Average Loss: 0.4780 | auc/_mean: 0.9886 | auc/healthy: 0.9983 | auc/multiple_diseases: 0.9701, auc/rust: 0.9915, auc/scab: 0.9943\n",
      "Evaluating Results - Average Loss: 0.4549 | auc/_mean: 0.9840 | auc/healthy: 0.9974 | auc/multiple_diseases: 0.9411, auc/rust: 0.9999, auc/scab: 0.9976\n",
      "\n"
     ]
    },
    {
     "data": {
      "application/vnd.jupyter.widget-view+json": {
       "model_id": "764ad0b43a4c4d59b97ca2f70dd53eb7",
       "version_major": 2,
       "version_minor": 0
      },
      "text/plain": [
       "HBox(children=(FloatProgress(value=0.0, description='Train', max=182.0, style=ProgressStyle(description_width=…"
      ]
     },
     "metadata": {},
     "output_type": "display_data"
    },
    {
     "name": "stdout",
     "output_type": "stream",
     "text": [
      "\n",
      "Epoch: 89 | Time: 1m 41s\n",
      "Training Results - Average Loss: 0.4814 | auc/_mean: 0.9872 | auc/healthy: 0.9964 | auc/multiple_diseases: 0.9621, auc/rust: 0.9964, auc/scab: 0.9940\n",
      "Evaluating Results - Average Loss: 0.4529 | auc/_mean: 0.9838 | auc/healthy: 0.9974 | auc/multiple_diseases: 0.9401, auc/rust: 0.9999, auc/scab: 0.9977\n",
      "\n"
     ]
    },
    {
     "data": {
      "application/vnd.jupyter.widget-view+json": {
       "model_id": "6a2f27e4b0704608a3fe132c3019dcaf",
       "version_major": 2,
       "version_minor": 0
      },
      "text/plain": [
       "HBox(children=(FloatProgress(value=0.0, description='Train', max=182.0, style=ProgressStyle(description_width=…"
      ]
     },
     "metadata": {},
     "output_type": "display_data"
    },
    {
     "name": "stdout",
     "output_type": "stream",
     "text": [
      "\n",
      "Epoch: 90 | Time: 1m 41s\n",
      "Training Results - Average Loss: 0.4641 | auc/_mean: 0.9933 | auc/healthy: 0.9981 | auc/multiple_diseases: 0.9846, auc/rust: 0.9961, auc/scab: 0.9943\n",
      "Evaluating Results - Average Loss: 0.4532 | auc/_mean: 0.9843 | auc/healthy: 0.9973 | auc/multiple_diseases: 0.9422, auc/rust: 0.9999, auc/scab: 0.9976\n",
      "\n"
     ]
    },
    {
     "data": {
      "application/vnd.jupyter.widget-view+json": {
       "model_id": "09680a6223914055a6eb19f4173bb7e0",
       "version_major": 2,
       "version_minor": 0
      },
      "text/plain": [
       "HBox(children=(FloatProgress(value=0.0, description='Train', max=182.0, style=ProgressStyle(description_width=…"
      ]
     },
     "metadata": {},
     "output_type": "display_data"
    },
    {
     "name": "stdout",
     "output_type": "stream",
     "text": [
      "\n",
      "Epoch: 91 | Time: 1m 42s\n",
      "Training Results - Average Loss: 0.4763 | auc/_mean: 0.9894 | auc/healthy: 0.9965 | auc/multiple_diseases: 0.9748, auc/rust: 0.9908, auc/scab: 0.9955\n",
      "Evaluating Results - Average Loss: 0.4533 | auc/_mean: 0.9851 | auc/healthy: 0.9975 | auc/multiple_diseases: 0.9454, auc/rust: 0.9999, auc/scab: 0.9976\n",
      "\n"
     ]
    },
    {
     "data": {
      "application/vnd.jupyter.widget-view+json": {
       "model_id": "a6ee75c1c8604b0a80030654debcab0a",
       "version_major": 2,
       "version_minor": 0
      },
      "text/plain": [
       "HBox(children=(FloatProgress(value=0.0, description='Train', max=182.0, style=ProgressStyle(description_width=…"
      ]
     },
     "metadata": {},
     "output_type": "display_data"
    },
    {
     "name": "stdout",
     "output_type": "stream",
     "text": [
      "\n",
      "Epoch: 92 | Time: 1m 42s\n",
      "Training Results - Average Loss: 0.4738 | auc/_mean: 0.9897 | auc/healthy: 0.9962 | auc/multiple_diseases: 0.9735, auc/rust: 0.9953, auc/scab: 0.9941\n",
      "Evaluating Results - Average Loss: 0.4534 | auc/_mean: 0.9843 | auc/healthy: 0.9974 | auc/multiple_diseases: 0.9422, auc/rust: 0.9999, auc/scab: 0.9976\n",
      "\n"
     ]
    },
    {
     "data": {
      "application/vnd.jupyter.widget-view+json": {
       "model_id": "fc3c22cbe41940afb65b5866617495b6",
       "version_major": 2,
       "version_minor": 0
      },
      "text/plain": [
       "HBox(children=(FloatProgress(value=0.0, description='Train', max=182.0, style=ProgressStyle(description_width=…"
      ]
     },
     "metadata": {},
     "output_type": "display_data"
    },
    {
     "name": "stdout",
     "output_type": "stream",
     "text": [
      "\n",
      "Epoch: 93 | Time: 1m 41s\n",
      "Training Results - Average Loss: 0.4631 | auc/_mean: 0.9935 | auc/healthy: 0.9959 | auc/multiple_diseases: 0.9852, auc/rust: 0.9962, auc/scab: 0.9968\n",
      "Evaluating Results - Average Loss: 0.4523 | auc/_mean: 0.9848 | auc/healthy: 0.9974 | auc/multiple_diseases: 0.9443, auc/rust: 0.9999, auc/scab: 0.9977\n",
      "\n"
     ]
    },
    {
     "data": {
      "application/vnd.jupyter.widget-view+json": {
       "model_id": "d12ddc322d72477cb02b906817ec50be",
       "version_major": 2,
       "version_minor": 0
      },
      "text/plain": [
       "HBox(children=(FloatProgress(value=0.0, description='Train', max=182.0, style=ProgressStyle(description_width=…"
      ]
     },
     "metadata": {},
     "output_type": "display_data"
    },
    {
     "name": "stdout",
     "output_type": "stream",
     "text": [
      "\n",
      "Epoch: 94 | Time: 1m 41s\n",
      "Training Results - Average Loss: 0.4635 | auc/_mean: 0.9901 | auc/healthy: 0.9983 | auc/multiple_diseases: 0.9712, auc/rust: 0.9951, auc/scab: 0.9960\n",
      "Evaluating Results - Average Loss: 0.4539 | auc/_mean: 0.9849 | auc/healthy: 0.9974 | auc/multiple_diseases: 0.9448, auc/rust: 0.9999, auc/scab: 0.9975\n",
      "\n"
     ]
    },
    {
     "data": {
      "application/vnd.jupyter.widget-view+json": {
       "model_id": "2adbfabf66ed4a698759394bb664ec05",
       "version_major": 2,
       "version_minor": 0
      },
      "text/plain": [
       "HBox(children=(FloatProgress(value=0.0, description='Train', max=182.0, style=ProgressStyle(description_width=…"
      ]
     },
     "metadata": {},
     "output_type": "display_data"
    },
    {
     "name": "stdout",
     "output_type": "stream",
     "text": [
      "\n",
      "Epoch: 95 | Time: 1m 41s\n",
      "Training Results - Average Loss: 0.4628 | auc/_mean: 0.9937 | auc/healthy: 0.9977 | auc/multiple_diseases: 0.9873, auc/rust: 0.9957, auc/scab: 0.9943\n",
      "Evaluating Results - Average Loss: 0.4525 | auc/_mean: 0.9849 | auc/healthy: 0.9976 | auc/multiple_diseases: 0.9446, auc/rust: 0.9999, auc/scab: 0.9976\n",
      "\n"
     ]
    },
    {
     "data": {
      "application/vnd.jupyter.widget-view+json": {
       "model_id": "2756069e6f9e428ca200282df1abaf68",
       "version_major": 2,
       "version_minor": 0
      },
      "text/plain": [
       "HBox(children=(FloatProgress(value=0.0, description='Train', max=182.0, style=ProgressStyle(description_width=…"
      ]
     },
     "metadata": {},
     "output_type": "display_data"
    },
    {
     "name": "stdout",
     "output_type": "stream",
     "text": [
      "\n",
      "Epoch: 96 | Time: 1m 40s\n",
      "Training Results - Average Loss: 0.4740 | auc/_mean: 0.9913 | auc/healthy: 0.9968 | auc/multiple_diseases: 0.9811, auc/rust: 0.9925, auc/scab: 0.9948\n",
      "Evaluating Results - Average Loss: 0.4536 | auc/_mean: 0.9842 | auc/healthy: 0.9977 | auc/multiple_diseases: 0.9416, auc/rust: 0.9999, auc/scab: 0.9975\n",
      "\n"
     ]
    },
    {
     "data": {
      "application/vnd.jupyter.widget-view+json": {
       "model_id": "ccb018bb40e34071b8fdc1b513c39ada",
       "version_major": 2,
       "version_minor": 0
      },
      "text/plain": [
       "HBox(children=(FloatProgress(value=0.0, description='Train', max=182.0, style=ProgressStyle(description_width=…"
      ]
     },
     "metadata": {},
     "output_type": "display_data"
    },
    {
     "name": "stdout",
     "output_type": "stream",
     "text": [
      "\n",
      "Epoch: 97 | Time: 1m 41s\n",
      "Training Results - Average Loss: 0.4647 | auc/_mean: 0.9927 | auc/healthy: 0.9956 | auc/multiple_diseases: 0.9840, auc/rust: 0.9957, auc/scab: 0.9956\n",
      "Evaluating Results - Average Loss: 0.4528 | auc/_mean: 0.9842 | auc/healthy: 0.9977 | auc/multiple_diseases: 0.9414, auc/rust: 0.9999, auc/scab: 0.9976\n",
      "\n"
     ]
    },
    {
     "data": {
      "application/vnd.jupyter.widget-view+json": {
       "model_id": "87618ff0c8094799ab6f9becf5c24886",
       "version_major": 2,
       "version_minor": 0
      },
      "text/plain": [
       "HBox(children=(FloatProgress(value=0.0, description='Train', max=182.0, style=ProgressStyle(description_width=…"
      ]
     },
     "metadata": {},
     "output_type": "display_data"
    },
    {
     "name": "stdout",
     "output_type": "stream",
     "text": [
      "\n",
      "Epoch: 98 | Time: 1m 41s\n",
      "Training Results - Average Loss: 0.4699 | auc/_mean: 0.9901 | auc/healthy: 0.9975 | auc/multiple_diseases: 0.9722, auc/rust: 0.9953, auc/scab: 0.9954\n",
      "Evaluating Results - Average Loss: 0.4540 | auc/_mean: 0.9835 | auc/healthy: 0.9977 | auc/multiple_diseases: 0.9390, auc/rust: 0.9999, auc/scab: 0.9974\n",
      "\n"
     ]
    },
    {
     "data": {
      "application/vnd.jupyter.widget-view+json": {
       "model_id": "5d7b80a960f64b71a2d8cd1edb328fd0",
       "version_major": 2,
       "version_minor": 0
      },
      "text/plain": [
       "HBox(children=(FloatProgress(value=0.0, description='Train', max=182.0, style=ProgressStyle(description_width=…"
      ]
     },
     "metadata": {},
     "output_type": "display_data"
    },
    {
     "name": "stdout",
     "output_type": "stream",
     "text": [
      "\n",
      "Epoch: 99 | Time: 1m 40s\n",
      "Training Results - Average Loss: 0.4644 | auc/_mean: 0.9938 | auc/healthy: 0.9964 | auc/multiple_diseases: 0.9872, auc/rust: 0.9968, auc/scab: 0.9947\n",
      "Evaluating Results - Average Loss: 0.4547 | auc/_mean: 0.9844 | auc/healthy: 0.9977 | auc/multiple_diseases: 0.9424, auc/rust: 0.9999, auc/scab: 0.9976\n",
      "\n"
     ]
    },
    {
     "data": {
      "application/vnd.jupyter.widget-view+json": {
       "model_id": "58f5b135b5cf4535907a2318c9838eb8",
       "version_major": 2,
       "version_minor": 0
      },
      "text/plain": [
       "HBox(children=(FloatProgress(value=0.0, description='Train', max=182.0, style=ProgressStyle(description_width=…"
      ]
     },
     "metadata": {},
     "output_type": "display_data"
    },
    {
     "name": "stdout",
     "output_type": "stream",
     "text": [
      "\n",
      "Epoch: 100 | Time: 1m 41s\n",
      "Training Results - Average Loss: 0.4652 | auc/_mean: 0.9936 | auc/healthy: 0.9959 | auc/multiple_diseases: 0.9867, auc/rust: 0.9954, auc/scab: 0.9966\n",
      "Evaluating Results - Average Loss: 0.4531 | auc/_mean: 0.9848 | auc/healthy: 0.9977 | auc/multiple_diseases: 0.9441, auc/rust: 1.0000, auc/scab: 0.9975\n",
      "\n"
     ]
    },
    {
     "data": {
      "application/vnd.jupyter.widget-view+json": {
       "model_id": "16419b2e3ff64887971655ee3038c0c1",
       "version_major": 2,
       "version_minor": 0
      },
      "text/plain": [
       "HBox(children=(FloatProgress(value=0.0, description='Train', max=182.0, style=ProgressStyle(description_width=…"
      ]
     },
     "metadata": {},
     "output_type": "display_data"
    },
    {
     "name": "stdout",
     "output_type": "stream",
     "text": [
      "\n",
      "Epoch: 101 | Time: 1m 40s\n",
      "Training Results - Average Loss: 0.4526 | auc/_mean: 0.9922 | auc/healthy: 0.9976 | auc/multiple_diseases: 0.9773, auc/rust: 0.9986, auc/scab: 0.9953\n",
      "Evaluating Results - Average Loss: 0.4519 | auc/_mean: 0.9854 | auc/healthy: 0.9977 | auc/multiple_diseases: 0.9465, auc/rust: 0.9999, auc/scab: 0.9975\n",
      "\n"
     ]
    },
    {
     "data": {
      "application/vnd.jupyter.widget-view+json": {
       "model_id": "e1f68f65a1274007a3ba447e8d1274f6",
       "version_major": 2,
       "version_minor": 0
      },
      "text/plain": [
       "HBox(children=(FloatProgress(value=0.0, description='Train', max=182.0, style=ProgressStyle(description_width=…"
      ]
     },
     "metadata": {},
     "output_type": "display_data"
    },
    {
     "name": "stdout",
     "output_type": "stream",
     "text": [
      "\n",
      "Epoch: 102 | Time: 1m 41s\n",
      "Training Results - Average Loss: 0.4569 | auc/_mean: 0.9916 | auc/healthy: 0.9960 | auc/multiple_diseases: 0.9772, auc/rust: 0.9964, auc/scab: 0.9967\n",
      "Evaluating Results - Average Loss: 0.4524 | auc/_mean: 0.9863 | auc/healthy: 0.9978 | auc/multiple_diseases: 0.9500, auc/rust: 0.9999, auc/scab: 0.9976\n",
      "\n"
     ]
    },
    {
     "data": {
      "application/vnd.jupyter.widget-view+json": {
       "model_id": "dc4d769cf45a45318b9a123d649b206f",
       "version_major": 2,
       "version_minor": 0
      },
      "text/plain": [
       "HBox(children=(FloatProgress(value=0.0, description='Train', max=182.0, style=ProgressStyle(description_width=…"
      ]
     },
     "metadata": {},
     "output_type": "display_data"
    },
    {
     "name": "stdout",
     "output_type": "stream",
     "text": [
      "\n",
      "Epoch: 103 | Time: 1m 41s\n",
      "Training Results - Average Loss: 0.4516 | auc/_mean: 0.9948 | auc/healthy: 0.9969 | auc/multiple_diseases: 0.9870, auc/rust: 0.9974, auc/scab: 0.9978\n",
      "Evaluating Results - Average Loss: 0.4519 | auc/_mean: 0.9864 | auc/healthy: 0.9978 | auc/multiple_diseases: 0.9504, auc/rust: 0.9999, auc/scab: 0.9976\n",
      "\n"
     ]
    },
    {
     "data": {
      "application/vnd.jupyter.widget-view+json": {
       "model_id": "8f65a03842af4c4ca328017d1a95ab4c",
       "version_major": 2,
       "version_minor": 0
      },
      "text/plain": [
       "HBox(children=(FloatProgress(value=0.0, description='Train', max=182.0, style=ProgressStyle(description_width=…"
      ]
     },
     "metadata": {},
     "output_type": "display_data"
    },
    {
     "name": "stdout",
     "output_type": "stream",
     "text": [
      "\n",
      "Epoch: 104 | Time: 1m 41s\n",
      "Training Results - Average Loss: 0.4652 | auc/_mean: 0.9909 | auc/healthy: 0.9962 | auc/multiple_diseases: 0.9754, auc/rust: 0.9965, auc/scab: 0.9956\n",
      "Evaluating Results - Average Loss: 0.4517 | auc/_mean: 0.9867 | auc/healthy: 0.9978 | auc/multiple_diseases: 0.9518, auc/rust: 0.9999, auc/scab: 0.9975\n",
      "\n"
     ]
    },
    {
     "data": {
      "application/vnd.jupyter.widget-view+json": {
       "model_id": "52179db78714456c9d46555afd2b8ebf",
       "version_major": 2,
       "version_minor": 0
      },
      "text/plain": [
       "HBox(children=(FloatProgress(value=0.0, description='Train', max=182.0, style=ProgressStyle(description_width=…"
      ]
     },
     "metadata": {},
     "output_type": "display_data"
    },
    {
     "name": "stdout",
     "output_type": "stream",
     "text": [
      "\n",
      "Epoch: 105 | Time: 1m 41s\n",
      "Training Results - Average Loss: 0.4478 | auc/_mean: 0.9940 | auc/healthy: 0.9987 | auc/multiple_diseases: 0.9821, auc/rust: 0.9970, auc/scab: 0.9981\n",
      "Evaluating Results - Average Loss: 0.4513 | auc/_mean: 0.9872 | auc/healthy: 0.9979 | auc/multiple_diseases: 0.9533, auc/rust: 0.9999, auc/scab: 0.9975\n",
      "\n"
     ]
    },
    {
     "data": {
      "application/vnd.jupyter.widget-view+json": {
       "model_id": "e07695ad27f1481189a149059b505586",
       "version_major": 2,
       "version_minor": 0
      },
      "text/plain": [
       "HBox(children=(FloatProgress(value=0.0, description='Train', max=182.0, style=ProgressStyle(description_width=…"
      ]
     },
     "metadata": {},
     "output_type": "display_data"
    },
    {
     "name": "stdout",
     "output_type": "stream",
     "text": [
      "\n",
      "Epoch: 106 | Time: 1m 42s\n",
      "Training Results - Average Loss: 0.4613 | auc/_mean: 0.9917 | auc/healthy: 0.9964 | auc/multiple_diseases: 0.9807, auc/rust: 0.9954, auc/scab: 0.9943\n",
      "Evaluating Results - Average Loss: 0.4523 | auc/_mean: 0.9866 | auc/healthy: 0.9979 | auc/multiple_diseases: 0.9510, auc/rust: 0.9999, auc/scab: 0.9976\n",
      "\n"
     ]
    },
    {
     "data": {
      "application/vnd.jupyter.widget-view+json": {
       "model_id": "562e8a26fb3b4d8a9b285eb756022cd0",
       "version_major": 2,
       "version_minor": 0
      },
      "text/plain": [
       "HBox(children=(FloatProgress(value=0.0, description='Train', max=182.0, style=ProgressStyle(description_width=…"
      ]
     },
     "metadata": {},
     "output_type": "display_data"
    },
    {
     "name": "stdout",
     "output_type": "stream",
     "text": [
      "\n",
      "Epoch: 107 | Time: 1m 41s\n",
      "Training Results - Average Loss: 0.4505 | auc/_mean: 0.9943 | auc/healthy: 0.9974 | auc/multiple_diseases: 0.9865, auc/rust: 0.9971, auc/scab: 0.9964\n",
      "Evaluating Results - Average Loss: 0.4529 | auc/_mean: 0.9854 | auc/healthy: 0.9979 | auc/multiple_diseases: 0.9460, auc/rust: 0.9999, auc/scab: 0.9976\n",
      "\n"
     ]
    },
    {
     "data": {
      "application/vnd.jupyter.widget-view+json": {
       "model_id": "6dea067ac6fb41f082f62d516bfd2b3c",
       "version_major": 2,
       "version_minor": 0
      },
      "text/plain": [
       "HBox(children=(FloatProgress(value=0.0, description='Train', max=182.0, style=ProgressStyle(description_width=…"
      ]
     },
     "metadata": {},
     "output_type": "display_data"
    },
    {
     "name": "stdout",
     "output_type": "stream",
     "text": [
      "\n",
      "Epoch: 108 | Time: 1m 41s\n",
      "Training Results - Average Loss: 0.4477 | auc/_mean: 0.9928 | auc/healthy: 0.9992 | auc/multiple_diseases: 0.9787, auc/rust: 0.9979, auc/scab: 0.9954\n",
      "Evaluating Results - Average Loss: 0.4538 | auc/_mean: 0.9851 | auc/healthy: 0.9979 | auc/multiple_diseases: 0.9451, auc/rust: 0.9999, auc/scab: 0.9975\n",
      "\n"
     ]
    },
    {
     "data": {
      "application/vnd.jupyter.widget-view+json": {
       "model_id": "1bb69c82e9d244e2a3d7e3e5cb02ae4b",
       "version_major": 2,
       "version_minor": 0
      },
      "text/plain": [
       "HBox(children=(FloatProgress(value=0.0, description='Train', max=182.0, style=ProgressStyle(description_width=…"
      ]
     },
     "metadata": {},
     "output_type": "display_data"
    },
    {
     "name": "stdout",
     "output_type": "stream",
     "text": [
      "\n",
      "Epoch: 109 | Time: 1m 41s\n",
      "Training Results - Average Loss: 0.4470 | auc/_mean: 0.9930 | auc/healthy: 0.9967 | auc/multiple_diseases: 0.9813, auc/rust: 0.9966, auc/scab: 0.9976\n",
      "Evaluating Results - Average Loss: 0.4520 | auc/_mean: 0.9856 | auc/healthy: 0.9979 | auc/multiple_diseases: 0.9472, auc/rust: 0.9999, auc/scab: 0.9976\n",
      "\n"
     ]
    },
    {
     "data": {
      "application/vnd.jupyter.widget-view+json": {
       "model_id": "8f5826b4be984eee86b6e07c000f64dd",
       "version_major": 2,
       "version_minor": 0
      },
      "text/plain": [
       "HBox(children=(FloatProgress(value=0.0, description='Train', max=182.0, style=ProgressStyle(description_width=…"
      ]
     },
     "metadata": {},
     "output_type": "display_data"
    },
    {
     "name": "stdout",
     "output_type": "stream",
     "text": [
      "\n",
      "Epoch: 110 | Time: 1m 41s\n",
      "Training Results - Average Loss: 0.4540 | auc/_mean: 0.9943 | auc/healthy: 0.9980 | auc/multiple_diseases: 0.9891, auc/rust: 0.9941, auc/scab: 0.9961\n",
      "Evaluating Results - Average Loss: 0.4512 | auc/_mean: 0.9860 | auc/healthy: 0.9979 | auc/multiple_diseases: 0.9488, auc/rust: 0.9999, auc/scab: 0.9976\n",
      "\n"
     ]
    },
    {
     "data": {
      "application/vnd.jupyter.widget-view+json": {
       "model_id": "404c715ef4e74481b2d8df6d1cdf0095",
       "version_major": 2,
       "version_minor": 0
      },
      "text/plain": [
       "HBox(children=(FloatProgress(value=0.0, description='Train', max=182.0, style=ProgressStyle(description_width=…"
      ]
     },
     "metadata": {},
     "output_type": "display_data"
    },
    {
     "name": "stdout",
     "output_type": "stream",
     "text": [
      "\n",
      "Epoch: 111 | Time: 1m 41s\n",
      "Training Results - Average Loss: 0.4457 | auc/_mean: 0.9961 | auc/healthy: 0.9979 | auc/multiple_diseases: 0.9923, auc/rust: 0.9988, auc/scab: 0.9955\n",
      "Evaluating Results - Average Loss: 0.4509 | auc/_mean: 0.9857 | auc/healthy: 0.9979 | auc/multiple_diseases: 0.9472, auc/rust: 0.9999, auc/scab: 0.9978\n",
      "\n"
     ]
    },
    {
     "data": {
      "application/vnd.jupyter.widget-view+json": {
       "model_id": "285f21a135cc418a834ea4cac55f8c82",
       "version_major": 2,
       "version_minor": 0
      },
      "text/plain": [
       "HBox(children=(FloatProgress(value=0.0, description='Train', max=182.0, style=ProgressStyle(description_width=…"
      ]
     },
     "metadata": {},
     "output_type": "display_data"
    },
    {
     "name": "stdout",
     "output_type": "stream",
     "text": [
      "\n",
      "Epoch: 112 | Time: 1m 40s\n",
      "Training Results - Average Loss: 0.4469 | auc/_mean: 0.9961 | auc/healthy: 0.9984 | auc/multiple_diseases: 0.9928, auc/rust: 0.9954, auc/scab: 0.9979\n",
      "Evaluating Results - Average Loss: 0.4511 | auc/_mean: 0.9861 | auc/healthy: 0.9977 | auc/multiple_diseases: 0.9489, auc/rust: 0.9999, auc/scab: 0.9977\n",
      "\n"
     ]
    },
    {
     "data": {
      "application/vnd.jupyter.widget-view+json": {
       "model_id": "ad65f09563784b42aff4bec4c15be0aa",
       "version_major": 2,
       "version_minor": 0
      },
      "text/plain": [
       "HBox(children=(FloatProgress(value=0.0, description='Train', max=182.0, style=ProgressStyle(description_width=…"
      ]
     },
     "metadata": {},
     "output_type": "display_data"
    },
    {
     "name": "stdout",
     "output_type": "stream",
     "text": [
      "\n",
      "Epoch: 113 | Time: 1m 41s\n",
      "Training Results - Average Loss: 0.4498 | auc/_mean: 0.9945 | auc/healthy: 0.9974 | auc/multiple_diseases: 0.9874, auc/rust: 0.9959, auc/scab: 0.9973\n",
      "Evaluating Results - Average Loss: 0.4501 | auc/_mean: 0.9860 | auc/healthy: 0.9979 | auc/multiple_diseases: 0.9481, auc/rust: 1.0000, auc/scab: 0.9978\n",
      "\n"
     ]
    },
    {
     "data": {
      "application/vnd.jupyter.widget-view+json": {
       "model_id": "836840cadee240c588ff8400637b3286",
       "version_major": 2,
       "version_minor": 0
      },
      "text/plain": [
       "HBox(children=(FloatProgress(value=0.0, description='Train', max=182.0, style=ProgressStyle(description_width=…"
      ]
     },
     "metadata": {},
     "output_type": "display_data"
    },
    {
     "name": "stdout",
     "output_type": "stream",
     "text": [
      "\n",
      "Epoch: 114 | Time: 1m 41s\n",
      "Training Results - Average Loss: 0.4391 | auc/_mean: 0.9966 | auc/healthy: 0.9985 | auc/multiple_diseases: 0.9932, auc/rust: 0.9973, auc/scab: 0.9971\n",
      "Evaluating Results - Average Loss: 0.4521 | auc/_mean: 0.9858 | auc/healthy: 0.9978 | auc/multiple_diseases: 0.9475, auc/rust: 0.9999, auc/scab: 0.9978\n",
      "\n"
     ]
    },
    {
     "data": {
      "application/vnd.jupyter.widget-view+json": {
       "model_id": "ebfcf10d537447bb81a098bfcb4622a1",
       "version_major": 2,
       "version_minor": 0
      },
      "text/plain": [
       "HBox(children=(FloatProgress(value=0.0, description='Train', max=182.0, style=ProgressStyle(description_width=…"
      ]
     },
     "metadata": {},
     "output_type": "display_data"
    },
    {
     "name": "stdout",
     "output_type": "stream",
     "text": [
      "\n",
      "Epoch: 115 | Time: 1m 41s\n",
      "Training Results - Average Loss: 0.4405 | auc/_mean: 0.9949 | auc/healthy: 0.9982 | auc/multiple_diseases: 0.9880, auc/rust: 0.9965, auc/scab: 0.9970\n",
      "Evaluating Results - Average Loss: 0.4525 | auc/_mean: 0.9848 | auc/healthy: 0.9977 | auc/multiple_diseases: 0.9440, auc/rust: 1.0000, auc/scab: 0.9976\n",
      "\n"
     ]
    },
    {
     "data": {
      "application/vnd.jupyter.widget-view+json": {
       "model_id": "84a726a477cb451d89802c2c03e52448",
       "version_major": 2,
       "version_minor": 0
      },
      "text/plain": [
       "HBox(children=(FloatProgress(value=0.0, description='Train', max=182.0, style=ProgressStyle(description_width=…"
      ]
     },
     "metadata": {},
     "output_type": "display_data"
    },
    {
     "name": "stdout",
     "output_type": "stream",
     "text": [
      "\n",
      "Epoch: 116 | Time: 1m 41s\n",
      "Training Results - Average Loss: 0.4536 | auc/_mean: 0.9934 | auc/healthy: 0.9983 | auc/multiple_diseases: 0.9841, auc/rust: 0.9953, auc/scab: 0.9961\n",
      "Evaluating Results - Average Loss: 0.4504 | auc/_mean: 0.9861 | auc/healthy: 0.9979 | auc/multiple_diseases: 0.9489, auc/rust: 1.0000, auc/scab: 0.9976\n",
      "\n"
     ]
    },
    {
     "data": {
      "application/vnd.jupyter.widget-view+json": {
       "model_id": "666814914ab147aa9405f12f74e48c1d",
       "version_major": 2,
       "version_minor": 0
      },
      "text/plain": [
       "HBox(children=(FloatProgress(value=0.0, description='Train', max=182.0, style=ProgressStyle(description_width=…"
      ]
     },
     "metadata": {},
     "output_type": "display_data"
    },
    {
     "name": "stdout",
     "output_type": "stream",
     "text": [
      "\n",
      "Epoch: 117 | Time: 1m 41s\n",
      "Training Results - Average Loss: 0.4475 | auc/_mean: 0.9956 | auc/healthy: 0.9993 | auc/multiple_diseases: 0.9910, auc/rust: 0.9961, auc/scab: 0.9960\n",
      "Evaluating Results - Average Loss: 0.4495 | auc/_mean: 0.9851 | auc/healthy: 0.9979 | auc/multiple_diseases: 0.9448, auc/rust: 1.0000, auc/scab: 0.9976\n",
      "\n"
     ]
    },
    {
     "data": {
      "application/vnd.jupyter.widget-view+json": {
       "model_id": "50b0e05bdecc4326b8259ade92c09e2d",
       "version_major": 2,
       "version_minor": 0
      },
      "text/plain": [
       "HBox(children=(FloatProgress(value=0.0, description='Train', max=182.0, style=ProgressStyle(description_width=…"
      ]
     },
     "metadata": {},
     "output_type": "display_data"
    },
    {
     "name": "stdout",
     "output_type": "stream",
     "text": [
      "\n",
      "Epoch: 118 | Time: 1m 41s\n",
      "Training Results - Average Loss: 0.4440 | auc/_mean: 0.9954 | auc/healthy: 0.9983 | auc/multiple_diseases: 0.9892, auc/rust: 0.9971, auc/scab: 0.9971\n",
      "Evaluating Results - Average Loss: 0.4512 | auc/_mean: 0.9842 | auc/healthy: 0.9978 | auc/multiple_diseases: 0.9414, auc/rust: 0.9999, auc/scab: 0.9976\n",
      "\n"
     ]
    },
    {
     "data": {
      "application/vnd.jupyter.widget-view+json": {
       "model_id": "3c73fea85c3c4e5e8d8cf940f7991915",
       "version_major": 2,
       "version_minor": 0
      },
      "text/plain": [
       "HBox(children=(FloatProgress(value=0.0, description='Train', max=182.0, style=ProgressStyle(description_width=…"
      ]
     },
     "metadata": {},
     "output_type": "display_data"
    },
    {
     "name": "stdout",
     "output_type": "stream",
     "text": [
      "\n",
      "Epoch: 119 | Time: 1m 41s\n",
      "Training Results - Average Loss: 0.4411 | auc/_mean: 0.9951 | auc/healthy: 0.9980 | auc/multiple_diseases: 0.9870, auc/rust: 0.9981, auc/scab: 0.9973\n",
      "Evaluating Results - Average Loss: 0.4529 | auc/_mean: 0.9841 | auc/healthy: 0.9978 | auc/multiple_diseases: 0.9411, auc/rust: 0.9999, auc/scab: 0.9976\n",
      "\n"
     ]
    },
    {
     "data": {
      "application/vnd.jupyter.widget-view+json": {
       "model_id": "ab6a8acbd29e4f2d8b7652b8e20d38a2",
       "version_major": 2,
       "version_minor": 0
      },
      "text/plain": [
       "HBox(children=(FloatProgress(value=0.0, description='Train', max=182.0, style=ProgressStyle(description_width=…"
      ]
     },
     "metadata": {},
     "output_type": "display_data"
    },
    {
     "name": "stdout",
     "output_type": "stream",
     "text": [
      "\n",
      "Epoch: 120 | Time: 1m 41s\n",
      "Training Results - Average Loss: 0.4424 | auc/_mean: 0.9940 | auc/healthy: 0.9989 | auc/multiple_diseases: 0.9844, auc/rust: 0.9963, auc/scab: 0.9965\n",
      "Evaluating Results - Average Loss: 0.4530 | auc/_mean: 0.9830 | auc/healthy: 0.9977 | auc/multiple_diseases: 0.9369, auc/rust: 0.9999, auc/scab: 0.9976\n",
      "\n"
     ]
    },
    {
     "data": {
      "application/vnd.jupyter.widget-view+json": {
       "model_id": "933b13312b214c749694f99b8adea2ad",
       "version_major": 2,
       "version_minor": 0
      },
      "text/plain": [
       "HBox(children=(FloatProgress(value=0.0, description='Train', max=182.0, style=ProgressStyle(description_width=…"
      ]
     },
     "metadata": {},
     "output_type": "display_data"
    },
    {
     "name": "stdout",
     "output_type": "stream",
     "text": [
      "\n",
      "Epoch: 121 | Time: 1m 41s\n",
      "Training Results - Average Loss: 0.4412 | auc/_mean: 0.9966 | auc/healthy: 0.9977 | auc/multiple_diseases: 0.9930, auc/rust: 0.9976, auc/scab: 0.9982\n",
      "Evaluating Results - Average Loss: 0.4520 | auc/_mean: 0.9841 | auc/healthy: 0.9977 | auc/multiple_diseases: 0.9414, auc/rust: 0.9999, auc/scab: 0.9975\n",
      "\n"
     ]
    },
    {
     "data": {
      "application/vnd.jupyter.widget-view+json": {
       "model_id": "c95dce8ee68c43ac9a773a4425620d19",
       "version_major": 2,
       "version_minor": 0
      },
      "text/plain": [
       "HBox(children=(FloatProgress(value=0.0, description='Train', max=182.0, style=ProgressStyle(description_width=…"
      ]
     },
     "metadata": {},
     "output_type": "display_data"
    },
    {
     "name": "stdout",
     "output_type": "stream",
     "text": [
      "\n",
      "Epoch: 122 | Time: 1m 41s\n",
      "Training Results - Average Loss: 0.4397 | auc/_mean: 0.9949 | auc/healthy: 0.9976 | auc/multiple_diseases: 0.9854, auc/rust: 0.9978, auc/scab: 0.9987\n",
      "Evaluating Results - Average Loss: 0.4530 | auc/_mean: 0.9858 | auc/healthy: 0.9977 | auc/multiple_diseases: 0.9478, auc/rust: 0.9999, auc/scab: 0.9976\n",
      "\n"
     ]
    },
    {
     "data": {
      "application/vnd.jupyter.widget-view+json": {
       "model_id": "259ca2296b4d4eeda46a9aefe424f638",
       "version_major": 2,
       "version_minor": 0
      },
      "text/plain": [
       "HBox(children=(FloatProgress(value=0.0, description='Train', max=182.0, style=ProgressStyle(description_width=…"
      ]
     },
     "metadata": {},
     "output_type": "display_data"
    },
    {
     "name": "stdout",
     "output_type": "stream",
     "text": [
      "\n",
      "Epoch: 123 | Time: 1m 40s\n",
      "Training Results - Average Loss: 0.4376 | auc/_mean: 0.9964 | auc/healthy: 0.9987 | auc/multiple_diseases: 0.9933, auc/rust: 0.9956, auc/scab: 0.9981\n",
      "Evaluating Results - Average Loss: 0.4532 | auc/_mean: 0.9855 | auc/healthy: 0.9979 | auc/multiple_diseases: 0.9467, auc/rust: 0.9998, auc/scab: 0.9976\n",
      "\n"
     ]
    },
    {
     "data": {
      "application/vnd.jupyter.widget-view+json": {
       "model_id": "338ce2e407804cad9a93a32f62847ed5",
       "version_major": 2,
       "version_minor": 0
      },
      "text/plain": [
       "HBox(children=(FloatProgress(value=0.0, description='Train', max=182.0, style=ProgressStyle(description_width=…"
      ]
     },
     "metadata": {},
     "output_type": "display_data"
    },
    {
     "name": "stdout",
     "output_type": "stream",
     "text": [
      "\n",
      "Epoch: 124 | Time: 1m 41s\n",
      "Training Results - Average Loss: 0.4380 | auc/_mean: 0.9966 | auc/healthy: 0.9984 | auc/multiple_diseases: 0.9936, auc/rust: 0.9965, auc/scab: 0.9978\n",
      "Evaluating Results - Average Loss: 0.4518 | auc/_mean: 0.9843 | auc/healthy: 0.9979 | auc/multiple_diseases: 0.9417, auc/rust: 0.9999, auc/scab: 0.9977\n",
      "\n"
     ]
    },
    {
     "data": {
      "application/vnd.jupyter.widget-view+json": {
       "model_id": "abb6ade9af674b658a2f2e7e4cdfa403",
       "version_major": 2,
       "version_minor": 0
      },
      "text/plain": [
       "HBox(children=(FloatProgress(value=0.0, description='Train', max=182.0, style=ProgressStyle(description_width=…"
      ]
     },
     "metadata": {},
     "output_type": "display_data"
    },
    {
     "name": "stdout",
     "output_type": "stream",
     "text": [
      "\n",
      "Epoch: 125 | Time: 1m 41s\n",
      "Training Results - Average Loss: 0.4324 | auc/_mean: 0.9977 | auc/healthy: 0.9987 | auc/multiple_diseases: 0.9975, auc/rust: 0.9978, auc/scab: 0.9970\n",
      "Evaluating Results - Average Loss: 0.4520 | auc/_mean: 0.9832 | auc/healthy: 0.9979 | auc/multiple_diseases: 0.9377, auc/rust: 0.9999, auc/scab: 0.9975\n",
      "\n"
     ]
    },
    {
     "data": {
      "application/vnd.jupyter.widget-view+json": {
       "model_id": "8fe96c0198114dd19eb9f66b163c6274",
       "version_major": 2,
       "version_minor": 0
      },
      "text/plain": [
       "HBox(children=(FloatProgress(value=0.0, description='Train', max=182.0, style=ProgressStyle(description_width=…"
      ]
     },
     "metadata": {},
     "output_type": "display_data"
    },
    {
     "name": "stdout",
     "output_type": "stream",
     "text": [
      "\n",
      "Epoch: 126 | Time: 1m 41s\n",
      "Training Results - Average Loss: 0.4281 | auc/_mean: 0.9969 | auc/healthy: 0.9986 | auc/multiple_diseases: 0.9911, auc/rust: 0.9986, auc/scab: 0.9991\n",
      "Evaluating Results - Average Loss: 0.4536 | auc/_mean: 0.9851 | auc/healthy: 0.9981 | auc/multiple_diseases: 0.9448, auc/rust: 0.9999, auc/scab: 0.9976\n",
      "\n"
     ]
    },
    {
     "data": {
      "application/vnd.jupyter.widget-view+json": {
       "model_id": "6860c735c8554004ad0e567f7d11b23d",
       "version_major": 2,
       "version_minor": 0
      },
      "text/plain": [
       "HBox(children=(FloatProgress(value=0.0, description='Train', max=182.0, style=ProgressStyle(description_width=…"
      ]
     },
     "metadata": {},
     "output_type": "display_data"
    },
    {
     "name": "stdout",
     "output_type": "stream",
     "text": [
      "\n",
      "Epoch: 127 | Time: 1m 40s\n",
      "Training Results - Average Loss: 0.4305 | auc/_mean: 0.9968 | auc/healthy: 0.9990 | auc/multiple_diseases: 0.9910, auc/rust: 0.9983, auc/scab: 0.9990\n",
      "Evaluating Results - Average Loss: 0.4532 | auc/_mean: 0.9869 | auc/healthy: 0.9981 | auc/multiple_diseases: 0.9520, auc/rust: 0.9999, auc/scab: 0.9976\n",
      "\n"
     ]
    },
    {
     "data": {
      "application/vnd.jupyter.widget-view+json": {
       "model_id": "cbe448ec32274fea9771ff4cce6815a3",
       "version_major": 2,
       "version_minor": 0
      },
      "text/plain": [
       "HBox(children=(FloatProgress(value=0.0, description='Train', max=182.0, style=ProgressStyle(description_width=…"
      ]
     },
     "metadata": {},
     "output_type": "display_data"
    },
    {
     "name": "stdout",
     "output_type": "stream",
     "text": [
      "\n",
      "Epoch: 128 | Time: 1m 41s\n",
      "Training Results - Average Loss: 0.4312 | auc/_mean: 0.9966 | auc/healthy: 0.9990 | auc/multiple_diseases: 0.9931, auc/rust: 0.9964, auc/scab: 0.9978\n",
      "Evaluating Results - Average Loss: 0.4512 | auc/_mean: 0.9874 | auc/healthy: 0.9981 | auc/multiple_diseases: 0.9539, auc/rust: 0.9999, auc/scab: 0.9976\n",
      "\n",
      "EarlyStopping\n"
     ]
    }
   ],
   "source": [
    "trainer = Trainer(model, train_dataloader, valid_dataloader, criterion, optimizer, scheduler, device, config)\n",
    "trainer.run();"
   ]
  },
  {
   "cell_type": "code",
   "execution_count": null,
   "metadata": {},
   "outputs": [],
   "source": []
  },
  {
   "cell_type": "code",
   "execution_count": null,
   "metadata": {},
   "outputs": [],
   "source": []
  },
  {
   "cell_type": "code",
   "execution_count": 10,
   "metadata": {},
   "outputs": [],
   "source": [
    "\n",
    "class PlantDatasetTest(Dataset):\n",
    "    \n",
    "    def __init__(self, df, config, transforms=None):\n",
    "    \n",
    "        self.df = df\n",
    "        self.images_dir = config.root_images\n",
    "        self.class_names = config.class_names\n",
    "        self.transforms=transforms\n",
    "        \n",
    "    def __len__(self):\n",
    "        return self.df.shape[0]\n",
    "    \n",
    "    def __getitem__(self, idx):\n",
    "        image_src = self.images_dir + self.df.iloc[idx]['image_id'] + '.jpg'\n",
    "        image = cv2.imread(image_src, cv2.IMREAD_COLOR)\n",
    "        image = cv2.cvtColor(image, cv2.COLOR_BGR2RGB)\n",
    "        \n",
    "        if self.transforms:\n",
    "            transformed = self.transforms(image=image)\n",
    "            image = transformed['image']\n",
    "\n",
    "        return image, idx\n",
    "\n",
    "test_df = pd.read_csv(config.root + 'test.csv')\n",
    "test_dataset = PlantDatasetTest(test_df, config, train_transforms)\n",
    "test_dataloader = DataLoader(test_dataset, batch_size=config.batch_size, shuffle=False, num_workers=config.num_workers)"
   ]
  },
  {
   "cell_type": "code",
   "execution_count": 11,
   "metadata": {},
   "outputs": [],
   "source": [
    "def predict(model, dataloader: DataLoader, device, dataset: Dataset, tta_count: int, config: ConfigExperiment):\n",
    "    n_samples = len(dataset)\n",
    "    y_probas_tta = np.zeros((n_samples, config.num_classes, tta_count), dtype=np.float32)\n",
    "    \n",
    "    model.eval()\n",
    "    model.to(device)\n",
    "    with torch.no_grad():\n",
    "        for i_epoch in tqdm(range(tta_count), desc='TTA', total=tta_count, position=1, leave=True):\n",
    "            for i, (images, idx) in enumerate(dataloader):\n",
    "                images = images.to(device)\n",
    "                outputs = model(images)\n",
    "                y_pred = F.softmax(outputs, dim=1)\n",
    "                \n",
    "                tta_index = i_epoch - 1\n",
    "                start_index = (i % len(dataloader)) * config.batch_size\n",
    "                end_index = min(start_index + config.batch_size, n_samples)\n",
    "                batch_y_probas = y_pred.detach().cpu().numpy()                \n",
    "                y_probas_tta[start_index:end_index, :, tta_index] = batch_y_probas\n",
    "\n",
    "    return y_probas_tta"
   ]
  },
  {
   "cell_type": "code",
   "execution_count": 12,
   "metadata": {},
   "outputs": [
    {
     "name": "stdout",
     "output_type": "stream",
     "text": [
      "Loaded pretrained weights for efficientnet-b4\n"
     ]
    },
    {
     "data": {
      "text/plain": [
       "<All keys matched successfully>"
      ]
     },
     "execution_count": 12,
     "metadata": {},
     "output_type": "execute_result"
    }
   ],
   "source": [
    "model = get_model(config.model_name, config.num_classes)\n",
    "model.load_state_dict(torch.load(f\"{config.save_dirname}/best_model_epoch=128_auc_mean=0.9873604818428208.pth\"))"
   ]
  },
  {
   "cell_type": "code",
   "execution_count": 13,
   "metadata": {},
   "outputs": [
    {
     "data": {
      "application/vnd.jupyter.widget-view+json": {
       "model_id": "9bb1833a3c70472e829d40f8da8a715a",
       "version_major": 2,
       "version_minor": 0
      },
      "text/plain": [
       "HBox(children=(FloatProgress(value=0.0, description='TTA', max=5.0, style=ProgressStyle(description_width='ini…"
      ]
     },
     "metadata": {},
     "output_type": "display_data"
    },
    {
     "name": "stdout",
     "output_type": "stream",
     "text": [
      "\n"
     ]
    }
   ],
   "source": [
    "result = predict(model, test_dataloader, device, test_dataset, tta_count=5, config=config)"
   ]
  },
  {
   "cell_type": "code",
   "execution_count": 14,
   "metadata": {},
   "outputs": [],
   "source": [
    "y_probas = np.mean(result, axis=-1)"
   ]
  },
  {
   "cell_type": "code",
   "execution_count": 15,
   "metadata": {},
   "outputs": [
    {
     "data": {
      "text/plain": [
       "array([[0.07442209, 0.1672896 , 0.7393417 , 0.01894657],\n",
       "       [0.02470513, 0.03390757, 0.8873944 , 0.05399287],\n",
       "       [0.02042406, 0.02584796, 0.01119298, 0.94253504],\n",
       "       [0.93904656, 0.02873715, 0.01980402, 0.01241229],\n",
       "       [0.03448299, 0.10920537, 0.838239  , 0.01807265],\n",
       "       [0.93136036, 0.03009171, 0.02716005, 0.01138789],\n",
       "       [0.95543087, 0.01911015, 0.01621944, 0.00923952],\n",
       "       [0.00922613, 0.19893962, 0.03346789, 0.7583663 ],\n",
       "       [0.04018492, 0.7767425 , 0.02576838, 0.1573042 ],\n",
       "       [0.02730695, 0.15143798, 0.7906407 , 0.03061433]], dtype=float32)"
      ]
     },
     "execution_count": 15,
     "metadata": {},
     "output_type": "execute_result"
    }
   ],
   "source": [
    "y_probas[:10]"
   ]
  },
  {
   "cell_type": "code",
   "execution_count": 16,
   "metadata": {},
   "outputs": [
    {
     "data": {
      "text/html": [
       "<div>\n",
       "<style scoped>\n",
       "    .dataframe tbody tr th:only-of-type {\n",
       "        vertical-align: middle;\n",
       "    }\n",
       "\n",
       "    .dataframe tbody tr th {\n",
       "        vertical-align: top;\n",
       "    }\n",
       "\n",
       "    .dataframe thead th {\n",
       "        text-align: right;\n",
       "    }\n",
       "</style>\n",
       "<table border=\"1\" class=\"dataframe\">\n",
       "  <thead>\n",
       "    <tr style=\"text-align: right;\">\n",
       "      <th></th>\n",
       "      <th>image_id</th>\n",
       "      <th>healthy</th>\n",
       "      <th>multiple_diseases</th>\n",
       "      <th>rust</th>\n",
       "      <th>scab</th>\n",
       "    </tr>\n",
       "  </thead>\n",
       "  <tbody>\n",
       "    <tr>\n",
       "      <th>0</th>\n",
       "      <td>Test_0</td>\n",
       "      <td>0.074422</td>\n",
       "      <td>0.167290</td>\n",
       "      <td>0.739342</td>\n",
       "      <td>0.018947</td>\n",
       "    </tr>\n",
       "    <tr>\n",
       "      <th>1</th>\n",
       "      <td>Test_1</td>\n",
       "      <td>0.024705</td>\n",
       "      <td>0.033908</td>\n",
       "      <td>0.887394</td>\n",
       "      <td>0.053993</td>\n",
       "    </tr>\n",
       "    <tr>\n",
       "      <th>2</th>\n",
       "      <td>Test_2</td>\n",
       "      <td>0.020424</td>\n",
       "      <td>0.025848</td>\n",
       "      <td>0.011193</td>\n",
       "      <td>0.942535</td>\n",
       "    </tr>\n",
       "    <tr>\n",
       "      <th>3</th>\n",
       "      <td>Test_3</td>\n",
       "      <td>0.939047</td>\n",
       "      <td>0.028737</td>\n",
       "      <td>0.019804</td>\n",
       "      <td>0.012412</td>\n",
       "    </tr>\n",
       "    <tr>\n",
       "      <th>4</th>\n",
       "      <td>Test_4</td>\n",
       "      <td>0.034483</td>\n",
       "      <td>0.109205</td>\n",
       "      <td>0.838239</td>\n",
       "      <td>0.018073</td>\n",
       "    </tr>\n",
       "  </tbody>\n",
       "</table>\n",
       "</div>"
      ],
      "text/plain": [
       "  image_id   healthy  multiple_diseases      rust      scab\n",
       "0   Test_0  0.074422           0.167290  0.739342  0.018947\n",
       "1   Test_1  0.024705           0.033908  0.887394  0.053993\n",
       "2   Test_2  0.020424           0.025848  0.011193  0.942535\n",
       "3   Test_3  0.939047           0.028737  0.019804  0.012412\n",
       "4   Test_4  0.034483           0.109205  0.838239  0.018073"
      ]
     },
     "execution_count": 16,
     "metadata": {},
     "output_type": "execute_result"
    }
   ],
   "source": [
    "test_df = pd.read_csv(config.root + 'test.csv')\n",
    "test_df[\"healthy\"] = 0\n",
    "test_df[\"multiple_diseases\"] = 0\n",
    "test_df[\"rust\"] = 0\n",
    "test_df[\"scab\"] = 0\n",
    "test_df[['healthy', 'multiple_diseases', 'rust', 'scab']] = y_probas\n",
    "test_df.to_csv(config.submission_file, index=False)\n",
    "test_df.head()"
   ]
  },
  {
   "cell_type": "code",
   "execution_count": 17,
   "metadata": {},
   "outputs": [
    {
     "data": {
      "text/plain": [
       "'02_efficientnet-b4.csv'"
      ]
     },
     "execution_count": 17,
     "metadata": {},
     "output_type": "execute_result"
    }
   ],
   "source": [
    "config.submission_file"
   ]
  },
  {
   "cell_type": "code",
   "execution_count": null,
   "metadata": {},
   "outputs": [],
   "source": []
  },
  {
   "cell_type": "code",
   "execution_count": null,
   "metadata": {},
   "outputs": [],
   "source": []
  },
  {
   "cell_type": "code",
   "execution_count": null,
   "metadata": {},
   "outputs": [],
   "source": []
  },
  {
   "cell_type": "code",
   "execution_count": null,
   "metadata": {},
   "outputs": [],
   "source": []
  },
  {
   "cell_type": "code",
   "execution_count": null,
   "metadata": {},
   "outputs": [],
   "source": []
  },
  {
   "cell_type": "code",
   "execution_count": null,
   "metadata": {},
   "outputs": [],
   "source": []
  },
  {
   "cell_type": "code",
   "execution_count": null,
   "metadata": {},
   "outputs": [],
   "source": []
  },
  {
   "cell_type": "code",
   "execution_count": null,
   "metadata": {},
   "outputs": [],
   "source": []
  },
  {
   "cell_type": "code",
   "execution_count": null,
   "metadata": {},
   "outputs": [],
   "source": []
  },
  {
   "cell_type": "code",
   "execution_count": null,
   "metadata": {},
   "outputs": [],
   "source": []
  },
  {
   "cell_type": "code",
   "execution_count": null,
   "metadata": {},
   "outputs": [],
   "source": []
  },
  {
   "cell_type": "code",
   "execution_count": null,
   "metadata": {},
   "outputs": [],
   "source": []
  },
  {
   "cell_type": "code",
   "execution_count": null,
   "metadata": {},
   "outputs": [],
   "source": []
  },
  {
   "cell_type": "code",
   "execution_count": null,
   "metadata": {},
   "outputs": [],
   "source": []
  }
 ],
 "metadata": {
  "kernelspec": {
   "display_name": "Python 3",
   "language": "python",
   "name": "python3"
  },
  "language_info": {
   "codemirror_mode": {
    "name": "ipython",
    "version": 3
   },
   "file_extension": ".py",
   "mimetype": "text/x-python",
   "name": "python",
   "nbconvert_exporter": "python",
   "pygments_lexer": "ipython3",
   "version": "3.6.9"
  }
 },
 "nbformat": 4,
 "nbformat_minor": 4
}
