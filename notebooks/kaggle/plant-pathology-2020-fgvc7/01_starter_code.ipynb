{
 "cells": [
  {
   "cell_type": "code",
   "execution_count": 1,
   "metadata": {},
   "outputs": [],
   "source": [
    "import warnings  \n",
    "\n",
    "import os\n",
    "import time\n",
    "import random\n",
    "import numpy as np\n",
    "import pandas as pd\n",
    "import matplotlib.pyplot as plt\n",
    "\n",
    "import albumentations as A\n",
    "from albumentations.pytorch import ToTensorV2\n",
    "import cv2\n",
    "\n",
    "import torch\n",
    "import torch.nn as nn\n",
    "import torch.nn.functional as F\n",
    "import torchvision\n",
    "import torch.optim as optim\n",
    "from torch.utils.data import Dataset, DataLoader\n",
    "from torch.utils.data.dataset import Subset\n",
    "from torch.nn.functional import softmax\n",
    "\n",
    "from efficientnet_pytorch import EfficientNet\n",
    "\n",
    "from typing import Callable, List, Tuple, Dict\n",
    "from pathlib import Path\n",
    "\n",
    "from transformers import AdamW\n",
    "from transformers import get_cosine_schedule_with_warmup\n",
    "\n",
    "from sklearn.metrics import roc_auc_score, accuracy_score\n",
    "from sklearn.model_selection import train_test_split\n",
    "from collections import defaultdict, OrderedDict\n",
    "from tqdm.notebook import tqdm\n",
    "from torchsummary import summary\n",
    "\n",
    "import matplotlib\n",
    "matplotlib.rcParams.update({'figure.figsize': (16, 12), 'font.size': 14})\n",
    "import matplotlib.pyplot as plt\n",
    "%matplotlib inline\n",
    "from IPython.display import clear_output"
   ]
  },
  {
   "cell_type": "code",
   "execution_count": 2,
   "metadata": {},
   "outputs": [],
   "source": [
    "warnings.simplefilter(\"ignore\", UserWarning)\n",
    "warnings.simplefilter(\"ignore\", DeprecationWarning)\n",
    "warnings.filterwarnings('ignore')\n",
    "os.environ[\"PYTHONWARNINGS\"] = \"ignore\""
   ]
  },
  {
   "cell_type": "code",
   "execution_count": 3,
   "metadata": {},
   "outputs": [
    {
     "name": "stdout",
     "output_type": "stream",
     "text": [
      "Directory  01_starter_code  Created \n"
     ]
    }
   ],
   "source": [
    "EXPERIMENT_NAME = \"01_starter_code\"\n",
    "\n",
    "class ConfigExperiment:\n",
    "    logdir = f\"./logs/{EXPERIMENT_NAME}\"\n",
    "    save_dirname = EXPERIMENT_NAME\n",
    "    submission_file = f\"{EXPERIMENT_NAME}.csv\"\n",
    "    seed = 42\n",
    "    batch_size = 8\n",
    "    model_name = 'efficientnet-b0'\n",
    "    size = 512\n",
    "    num_workers = 20\n",
    "    root_images = \"../../../data/raw/plant-pathology-2020-fgvc7/images/\"\n",
    "    root = \"../../../data/raw/plant-pathology-2020-fgvc7/\"\n",
    "    num_classes = 4\n",
    "    patience = 10\n",
    "    early_stopping_delta = 1e-4\n",
    "    num_epochs = 200\n",
    "    lr = 0.003\n",
    "    class_names = [\"healthy\", \"multiple_diseases\", \"rust\", \"scab\"]\n",
    "    is_fp16_used = False\n",
    "    \n",
    "    \n",
    "def set_seed(seed):\n",
    "    torch.manual_seed(seed)\n",
    "    torch.cuda.manual_seed_all(seed)\n",
    "    torch.backends.cudnn.deterministic = True\n",
    "    torch.backends.cudnn.benchmark = False\n",
    "    np.random.seed(seed)\n",
    "    random.seed(seed)\n",
    "    os.environ['PYTHONHASHSEED'] = str(seed)\n",
    "    \n",
    "    \n",
    "config = ConfigExperiment()\n",
    "set_seed(config.seed)\n",
    "config.size = EfficientNet.get_image_size(config.model_name)\n",
    "os.environ[\"CUDA_VISIBLE_DEVICES\"] = \"0\"\n",
    "device = \"cuda\" if torch.cuda.is_available() else \"cpu\"\n",
    "\n",
    "try:\n",
    "    # Create target Directory\n",
    "    os.mkdir(config.save_dirname)\n",
    "    print(\"Directory \" , config.save_dirname ,  \" Created \") \n",
    "except FileExistsError:\n",
    "    print(\"Directory \" , config.save_dirname ,  \" already exists\")"
   ]
  },
  {
   "cell_type": "code",
   "execution_count": 4,
   "metadata": {},
   "outputs": [],
   "source": [
    "class PlantDataset(Dataset):\n",
    "    \n",
    "    def __init__(self, df, config, transforms=None):\n",
    "    \n",
    "        self.df = df\n",
    "        self.images_dir = config.root_images\n",
    "        self.class_names = config.class_names\n",
    "        self.transforms=transforms\n",
    "        \n",
    "    def __len__(self):\n",
    "        return self.df.shape[0]\n",
    "    \n",
    "    def __getitem__(self, idx):\n",
    "        image_src = self.images_dir + self.df.iloc[idx]['image_id'] + '.jpg'\n",
    "        image = cv2.imread(image_src, cv2.IMREAD_COLOR)\n",
    "        image = cv2.cvtColor(image, cv2.COLOR_BGR2RGB)\n",
    "        labels = self.df.iloc[idx][self.class_names].values.astype(np.int8)\n",
    "        label = torch.argmax(torch.from_numpy(labels))\n",
    "        \n",
    "        if self.transforms:\n",
    "            transformed = self.transforms(image=image)\n",
    "            image = transformed['image']\n",
    "\n",
    "        return image, label"
   ]
  },
  {
   "cell_type": "code",
   "execution_count": 7,
   "metadata": {},
   "outputs": [],
   "source": [
    "def pre_transforms(image_size=224):\n",
    "    # Convert the image to a square of size image_size x image_size\n",
    "    # (keeping aspect ratio)\n",
    "    result = [\n",
    "        A.LongestMaxSize(max_size=image_size),\n",
    "        A.PadIfNeeded(image_size, image_size, border_mode=0)\n",
    "    ]\n",
    "    \n",
    "    return result\n",
    "\n",
    "def hard_transforms():\n",
    "    result = [\n",
    "        # Random shifts, stretches and turns with a 50% probability\n",
    "#         A.RandomResizedCrop(height=config.size, width=config.size, p=1.0),\n",
    "        A.OneOf([\n",
    "            A.Rotate(limit=90, p=1),\n",
    "            A.HorizontalFlip(p=1),\n",
    "            A.VerticalFlip(p=1),\n",
    "            A.OpticalDistortion(p=1),\n",
    "            A.ShiftScaleRotate(rotate_limit=90, shift_limit=0.2, scale_limit=0.1, p=1)\n",
    "        ], p=0.8),\n",
    "        \n",
    "        # Pixels\n",
    "        A.OneOf([\n",
    "            A.IAAEmboss(p=1.0),\n",
    "            A.IAASharpen(p=1.0),\n",
    "            A.Blur(p=1.0),\n",
    "        ], p=0.5),\n",
    "\n",
    "        # Affine\n",
    "        A.OneOf([\n",
    "            A.RandomContrast(limit=0.2, p=1),\n",
    "            A.ElasticTransform(p=1),\n",
    "            A.IAAPiecewiseAffine(p=1)\n",
    "        ], p=0.5),\n",
    "    ]\n",
    "    \n",
    "    return result\n",
    "\n",
    "def post_transforms():\n",
    "    # we use ImageNet image normalization\n",
    "    # and convert it to torch.Tensor\n",
    "    return [A.Normalize(p=1.0), ToTensorV2(p=1.0),]\n",
    "\n",
    "def compose(transforms_to_compose):\n",
    "    # combine all augmentations into one single pipeline\n",
    "    result = A.Compose([item for sublist in transforms_to_compose for item in sublist])\n",
    "    return result"
   ]
  },
  {
   "cell_type": "code",
   "execution_count": 8,
   "metadata": {},
   "outputs": [],
   "source": [
    "train_df = pd.read_csv(config.root + 'train.csv')\n",
    "train, valid = train_test_split(train_df, test_size=0.33, random_state=config.seed, shuffle=True, stratify=train_df[config.class_names])\n",
    "\n",
    "train_transforms = compose([\n",
    "    pre_transforms(config.size),\n",
    "    hard_transforms(), \n",
    "    post_transforms()\n",
    "])\n",
    "valid_transforms = compose([\n",
    "    pre_transforms(config.size), \n",
    "    post_transforms()\n",
    "])\n",
    "\n",
    "show_transforms = compose([\n",
    "    pre_transforms(config.size),\n",
    "    hard_transforms()\n",
    "])\n",
    "\n",
    "train_dataset = PlantDataset(train, config, train_transforms)\n",
    "valid_dataset = PlantDataset(valid, config, valid_transforms)\n",
    "\n",
    "train_dataloader = DataLoader(train_dataset, batch_size=config.batch_size, shuffle=True, num_workers=config.num_workers)\n",
    "valid_dataloader = DataLoader(valid_dataset, batch_size=config.batch_size, shuffle=False, num_workers=config.num_workers)"
   ]
  },
  {
   "cell_type": "code",
   "execution_count": 9,
   "metadata": {},
   "outputs": [
    {
     "name": "stdout",
     "output_type": "stream",
     "text": [
      "Loaded pretrained weights for efficientnet-b0\n"
     ]
    }
   ],
   "source": [
    "def get_model(model_name: str, num_classes: int, pretrained: str = \"imagenet\") -> EfficientNet:\n",
    "    model = EfficientNet.from_pretrained(model_name)\n",
    "    for param in model.parameters():\n",
    "        param.requires_grad = False\n",
    "    num_ftrs = model._fc.in_features\n",
    "    model._fc = nn.Sequential(nn.Linear(num_ftrs, num_classes, bias = True))\n",
    "    return model\n",
    "\n",
    "model = get_model(config.model_name, config.num_classes)"
   ]
  },
  {
   "cell_type": "code",
   "execution_count": 10,
   "metadata": {},
   "outputs": [],
   "source": [
    "criterion = nn.CrossEntropyLoss()\n",
    "optimizer = torch.optim.Adam(model.parameters(), lr=config.lr)\n",
    "scheduler = torch.optim.lr_scheduler.ReduceLROnPlateau(optimizer, patience=3, verbose=True, mode=\"min\", factor=0.3)\n",
    "# scheduler = torch.optim.lr_scheduler.ExponentialLR(optimizer, gamma=0.8)\n",
    "\n",
    "# end_lr = 0.1\n",
    "# start_lr = 1e-7\n",
    "# lr_lambda = lambda x: math.exp(x * math.log(end_lr / start_lr) / (lr_find_epochs * len(train_dataloader)))\n",
    "# scheduler = torch.optim.lr_scheduler.LambdaLR(optimizer, lr_lambda)\n",
    "\n",
    "# scheduler_1 = LinearCyclicalScheduler(optimizer, \"lr\", start_value=0.01, end_value=0.005, cycle_size=60)\n",
    "# scheduler_2 = CosineAnnealingScheduler(optimizer, \"lr\", start_value=0.05, end_value=0.001, cycle_size=60)\n",
    "# combined_scheduler = ConcatScheduler(schedulers=[scheduler_1, scheduler_2], durations=[30, ])"
   ]
  },
  {
   "cell_type": "code",
   "execution_count": 11,
   "metadata": {},
   "outputs": [],
   "source": [
    "class Trainer:\n",
    "    def __init__(self, model, train_dataloader: DataLoader, valid_dataloader: DataLoader, criterion, optimizer, scheduler, device, config: ConfigExperiment):\n",
    "        self.model = model\n",
    "        self.train_dataloader = train_dataloader\n",
    "        self.valid_dataloader = valid_dataloader\n",
    "        self.criterion = criterion\n",
    "        self.optimizer = optimizer\n",
    "        self.scheduler = scheduler\n",
    "        self.device = device\n",
    "        self.config = config\n",
    "        self.train_metrics = {\n",
    "            'avg_loss': [],\n",
    "            'auc/_mean': [],\n",
    "            'auc/healthy': [],\n",
    "            'auc/multiple_diseases': [],\n",
    "            'auc/rust': [],\n",
    "            'auc/scab': [],\n",
    "        }\n",
    "        self.valid_metrics = {\n",
    "            'avg_loss': [],\n",
    "            'auc/_mean': [],\n",
    "            'auc/healthy': [],\n",
    "            'auc/multiple_diseases': [],\n",
    "            'auc/rust': [],\n",
    "            'auc/scab': [],\n",
    "        }\n",
    "        self.counter = 0\n",
    "        self.delta = config.early_stopping_delta\n",
    "      \n",
    "    def run(self):\n",
    "        self.model.to(device)\n",
    "        best_valid_loss = float('inf')\n",
    "        best_valid_auc_mean = 0\n",
    "\n",
    "        try:\n",
    "            for i_epoch in tqdm(range(self.config.num_epochs), desc='Epochs', total=config.num_epochs, position=1, leave=True):\n",
    "                start_time = time.time()\n",
    "\n",
    "                train_loss, train_outputs, train_targets = self._train()\n",
    "                valid_loss, valid_outputs, valid_targets = self._evaluate()\n",
    "                    \n",
    "                self.train_metrics[\"avg_loss\"].append(train_loss)\n",
    "                self.train_metrics[\"auc/_mean\"].append(self.comp_metric(train_outputs, train_targets))\n",
    "                self.train_metrics[\"auc/healthy\"].append(self.healthy_roc_auc(train_outputs, train_targets))\n",
    "                self.train_metrics[\"auc/multiple_diseases\"].append(self.multiple_diseases_roc_auc(train_outputs, train_targets))\n",
    "                self.train_metrics[\"auc/rust\"].append(self.rust_roc_auc(train_outputs, train_targets))\n",
    "                self.train_metrics[\"auc/scab\"].append(self.scab_roc_auc(train_outputs, train_targets))\n",
    "                \n",
    "                self.valid_metrics[\"avg_loss\"].append(valid_loss)\n",
    "                self.valid_metrics[\"auc/_mean\"].append(self.comp_metric(valid_outputs, valid_targets))\n",
    "                self.valid_metrics[\"auc/healthy\"].append(self.healthy_roc_auc(valid_outputs, valid_targets))\n",
    "                self.valid_metrics[\"auc/multiple_diseases\"].append(self.multiple_diseases_roc_auc(valid_outputs, valid_targets))\n",
    "                self.valid_metrics[\"auc/rust\"].append(self.rust_roc_auc(valid_outputs, valid_targets))\n",
    "                self.valid_metrics[\"auc/scab\"].append(self.scab_roc_auc(valid_outputs, valid_targets))\n",
    "                \n",
    "                end_time = time.time()\n",
    "                epoch_mins, epoch_secs = self._epoch_time(start_time, end_time)\n",
    "                self.print_progress(i_epoch, epoch_mins, epoch_secs)\n",
    "                \n",
    "                self.scheduler.step(self.valid_metrics[\"auc/_mean\"][-1])\n",
    "                \n",
    "                if valid_loss < best_valid_loss:\n",
    "                    self.counter = 0\n",
    "                    best_valid_loss = valid_loss\n",
    "                    torch.save(model.state_dict(), f\"{config.save_dirname}/best_model_epoch={i_epoch+1}_loss={best_valid_loss}.pth\")\n",
    "                else:\n",
    "                    self.counter += 1\n",
    "                    \n",
    "                if self.valid_metrics[\"auc/_mean\"][-1] > best_valid_auc_mean:\n",
    "                    best_valid_auc_mean = self.valid_metrics[\"auc/_mean\"][-1]\n",
    "                    torch.save(model.state_dict(), f\"{config.save_dirname}/best_model_epoch={i_epoch+1}_auc_mean={best_valid_auc_mean}.pth\")\n",
    "                    \n",
    "                if self.counter > self.config.patience:\n",
    "                    print(\"EarlyStopping\")\n",
    "                    break\n",
    "        except KeyboardInterrupt: \n",
    "            pass\n",
    "        \n",
    "        return self.train_metrics, self.valid_metrics\n",
    "        \n",
    "    def _train(self):\n",
    "        model.train()\n",
    "        epoch_loss = 0\n",
    "        epoch_output = None\n",
    "        epoch_target = None\n",
    "        for i, (images, labels) in tqdm(enumerate(self.train_dataloader), desc='Train', total=len(self.train_dataloader), position=2, leave=True):\n",
    "            loss_iten, outputs = self._train_process(images, labels)\n",
    "            epoch_loss += loss_iten              \n",
    "\n",
    "            if epoch_output is None:\n",
    "                epoch_output = outputs.cpu().data\n",
    "            else:\n",
    "                epoch_output = torch.cat((epoch_output, outputs.cpu().data))\n",
    "\n",
    "            if epoch_target is None:\n",
    "                epoch_target = labels.cpu().data\n",
    "            else:\n",
    "                epoch_target = torch.cat((epoch_target, labels.cpu().data))\n",
    "            \n",
    "        return epoch_loss / len(self.train_dataloader), epoch_output, epoch_target\n",
    "    \n",
    "    def _train_process(self, images, labels):\n",
    "        images = images.to(self.device)\n",
    "        labels = labels.to(self.device)\n",
    "        self.optimizer.zero_grad()\n",
    "        outputs = self.model(images)\n",
    "        loss = self.criterion(outputs, labels)\n",
    "        loss.backward()\n",
    "        self.optimizer.step()\n",
    "        return loss.item(), outputs\n",
    "            \n",
    "    def _evaluate(self):\n",
    "        model.eval()\n",
    "        epoch_loss = 0\n",
    "        epoch_output = None\n",
    "        epoch_target = None\n",
    "        with torch.no_grad():\n",
    "            for i, (images, labels) in enumerate(self.valid_dataloader):\n",
    "                images = images.to(device)\n",
    "                labels = labels.to(device)\n",
    "                outputs = model(images)\n",
    "                loss = criterion(outputs, labels)\n",
    "                epoch_loss += loss.item()\n",
    "                \n",
    "                if epoch_output is None:\n",
    "                    epoch_output = outputs.cpu().data\n",
    "                else:\n",
    "                    epoch_output = torch.cat((epoch_output, outputs.cpu().data))\n",
    "\n",
    "                if epoch_target is None:\n",
    "                    epoch_target = labels.cpu().data\n",
    "                else:\n",
    "                    epoch_target = torch.cat((epoch_target, labels.cpu().data))\n",
    "\n",
    "        return epoch_loss / len(self.valid_dataloader), epoch_output, epoch_target\n",
    "    \n",
    "#     def _evaluate_tta(self):\n",
    "#         n_samples = len(dataset)\n",
    "#         y_probas_tta = np.zeros((n_samples, config.num_classes, tta_count), dtype=np.float32)\n",
    "\n",
    "#         model.eval()\n",
    "#         model.to(device)\n",
    "#         with torch.no_grad():\n",
    "#             for i_epoch in tqdm(range(tta_count), desc='TTA', total=tta_count, position=1, leave=True):\n",
    "#                 for i, (images, idx) in enumerate(dataloader):\n",
    "#                     images = images.to(device)\n",
    "#                     outputs = model(images)\n",
    "#                     y_pred = F.softmax(outputs, dim=1)\n",
    "\n",
    "#                     tta_index = i_epoch - 1\n",
    "#                     start_index = (i % len(dataloader)) * config.batch_size\n",
    "#                     end_index = min(start_index + config.batch_size, n_samples)\n",
    "#                     batch_y_probas = y_pred.detach().cpu().numpy()                \n",
    "#                     y_probas_tta[start_index:end_index, :, tta_index] = batch_y_probas\n",
    "\n",
    "#         return y_probas_tta\n",
    "\n",
    "#     def show_history(self):\n",
    "#         fig, ax = plt.subplots(nrows=1, ncols=2, figsize=(12, 8))\n",
    "#         clear_output(True)\n",
    "#         ax[0].plot(history, label='train loss')\n",
    "#         ax[0].set_xlabel('Batch')\n",
    "#         ax[0].set_title('Train loss')\n",
    "#         if train_history is not None:\n",
    "#             ax[1].plot(train_history, label='general train history')\n",
    "#             ax[1].set_xlabel('Epoch')\n",
    "#         if valid_history is not None:\n",
    "#             ax[1].plot(valid_history, label='general valid history')\n",
    "#         plt.legend()\n",
    "#         plt.show()\n",
    "\n",
    "    \n",
    "    def _epoch_time(self, start_time, end_time):\n",
    "        elapsed_time = end_time - start_time\n",
    "        elapsed_mins = int(elapsed_time / 60)\n",
    "        elapsed_secs = int(elapsed_time - (elapsed_mins * 60))\n",
    "        return elapsed_mins, elapsed_secs\n",
    "\n",
    "    def print_progress(self, i_epoch, epoch_mins, epoch_secs):\n",
    "        i_epoch = i_epoch + 1\n",
    "        print(f\"Epoch: {i_epoch:02} | Time: {epoch_mins}m {epoch_secs}s\")\n",
    "        print(\"Training Results - Average Loss: {:.4f} | auc/_mean: {:.4f} | auc/healthy: {:.4f} | auc/multiple_diseases: {:.4f}, auc/rust: {:.4f}, auc/scab: {:.4f}\"\n",
    "            .format(\n",
    "                self.train_metrics['avg_loss'][-1], \n",
    "                self.train_metrics['auc/_mean'][-1],\n",
    "                self.train_metrics['auc/healthy'][-1],\n",
    "                self.train_metrics['auc/multiple_diseases'][-1],\n",
    "                self.train_metrics['auc/rust'][-1],\n",
    "                self.train_metrics['auc/scab'][-1],\n",
    "            ))\n",
    "        print(\"Evaluating Results - Average Loss: {:.4f} | auc/_mean: {:.4f} | auc/healthy: {:.4f} | auc/multiple_diseases: {:.4f}, auc/rust: {:.4f}, auc/scab: {:.4f}\"\n",
    "            .format( \n",
    "                self.valid_metrics['avg_loss'][-1], \n",
    "                self.valid_metrics['auc/_mean'][-1],\n",
    "                self.valid_metrics['auc/healthy'][-1],\n",
    "                self.valid_metrics['auc/multiple_diseases'][-1],\n",
    "                self.valid_metrics['auc/rust'][-1],\n",
    "                self.valid_metrics['auc/scab'][-1],\n",
    "            ))\n",
    "        print()\n",
    "        \n",
    "    def comp_metric(self, preds, targs, labels=range(4)):\n",
    "        preds = torch.sigmoid(preds)\n",
    "        targs = torch.eye(4)[targs]\n",
    "        return np.mean([roc_auc_score(targs[:,i], preds[:,i]) for i in labels])\n",
    "\n",
    "    def healthy_roc_auc(self, *args):\n",
    "        return self.comp_metric(*args, labels=[0])\n",
    "\n",
    "    def multiple_diseases_roc_auc(self, *args):\n",
    "        return self.comp_metric(*args, labels=[1])\n",
    "\n",
    "    def rust_roc_auc(self, *args):\n",
    "        return self.comp_metric(*args, labels=[2])\n",
    "\n",
    "    def scab_roc_auc(self, *args):\n",
    "        return self.comp_metric(*args, labels=[3])\n",
    "\n"
   ]
  },
  {
   "cell_type": "code",
   "execution_count": 12,
   "metadata": {},
   "outputs": [
    {
     "data": {
      "application/vnd.jupyter.widget-view+json": {
       "model_id": "64eecd7752bd443f85d04d6475e50aed",
       "version_major": 2,
       "version_minor": 0
      },
      "text/plain": [
       "HBox(children=(FloatProgress(value=0.0, description='Epochs', max=200.0, style=ProgressStyle(description_width…"
      ]
     },
     "metadata": {},
     "output_type": "display_data"
    },
    {
     "data": {
      "application/vnd.jupyter.widget-view+json": {
       "model_id": "4e42e5f4304842df899e624bb2f17ef5",
       "version_major": 2,
       "version_minor": 0
      },
      "text/plain": [
       "HBox(children=(FloatProgress(value=0.0, description='Train', max=153.0, style=ProgressStyle(description_width=…"
      ]
     },
     "metadata": {},
     "output_type": "display_data"
    },
    {
     "name": "stdout",
     "output_type": "stream",
     "text": [
      "\n",
      "Epoch: 01 | Time: 0m 11s\n",
      "Training Results - Average Loss: 1.0541 | auc/_mean: 0.6832 | auc/healthy: 0.6867 | auc/multiple_diseases: 0.4969, auc/rust: 0.7672, auc/scab: 0.7822\n",
      "Evaluating Results - Average Loss: 0.6722 | auc/_mean: 0.8379 | auc/healthy: 0.8994 | auc/multiple_diseases: 0.5689, auc/rust: 0.9465, auc/scab: 0.9369\n",
      "\n"
     ]
    },
    {
     "data": {
      "application/vnd.jupyter.widget-view+json": {
       "model_id": "832c938b2f494766b7c1d14f6e7e680a",
       "version_major": 2,
       "version_minor": 0
      },
      "text/plain": [
       "HBox(children=(FloatProgress(value=0.0, description='Train', max=153.0, style=ProgressStyle(description_width=…"
      ]
     },
     "metadata": {},
     "output_type": "display_data"
    },
    {
     "name": "stdout",
     "output_type": "stream",
     "text": [
      "\n",
      "Epoch: 02 | Time: 0m 11s\n",
      "Training Results - Average Loss: 0.9149 | auc/_mean: 0.7650 | auc/healthy: 0.7833 | auc/multiple_diseases: 0.6067, auc/rust: 0.8386, auc/scab: 0.8312\n",
      "Evaluating Results - Average Loss: 0.6147 | auc/_mean: 0.8534 | auc/healthy: 0.9178 | auc/multiple_diseases: 0.5988, auc/rust: 0.9540, auc/scab: 0.9429\n",
      "\n"
     ]
    },
    {
     "data": {
      "application/vnd.jupyter.widget-view+json": {
       "model_id": "95f13954dc1f4849a3925e3a2a99bfd5",
       "version_major": 2,
       "version_minor": 0
      },
      "text/plain": [
       "HBox(children=(FloatProgress(value=0.0, description='Train', max=153.0, style=ProgressStyle(description_width=…"
      ]
     },
     "metadata": {},
     "output_type": "display_data"
    },
    {
     "name": "stdout",
     "output_type": "stream",
     "text": [
      "\n",
      "Epoch: 03 | Time: 0m 11s\n",
      "Training Results - Average Loss: 0.8780 | auc/_mean: 0.7770 | auc/healthy: 0.8023 | auc/multiple_diseases: 0.6045, auc/rust: 0.8477, auc/scab: 0.8534\n",
      "Evaluating Results - Average Loss: 0.5491 | auc/_mean: 0.8635 | auc/healthy: 0.9302 | auc/multiple_diseases: 0.6151, auc/rust: 0.9604, auc/scab: 0.9483\n",
      "\n"
     ]
    },
    {
     "data": {
      "application/vnd.jupyter.widget-view+json": {
       "model_id": "602e336c876d499e95c80367a81c76f9",
       "version_major": 2,
       "version_minor": 0
      },
      "text/plain": [
       "HBox(children=(FloatProgress(value=0.0, description='Train', max=153.0, style=ProgressStyle(description_width=…"
      ]
     },
     "metadata": {},
     "output_type": "display_data"
    },
    {
     "name": "stdout",
     "output_type": "stream",
     "text": [
      "\n",
      "Epoch: 04 | Time: 0m 11s\n",
      "Training Results - Average Loss: 0.8489 | auc/_mean: 0.7893 | auc/healthy: 0.8238 | auc/multiple_diseases: 0.6261, auc/rust: 0.8588, auc/scab: 0.8486\n",
      "Evaluating Results - Average Loss: 0.5594 | auc/_mean: 0.8583 | auc/healthy: 0.9253 | auc/multiple_diseases: 0.6045, auc/rust: 0.9592, auc/scab: 0.9441\n",
      "\n"
     ]
    },
    {
     "data": {
      "application/vnd.jupyter.widget-view+json": {
       "model_id": "c4dbb5ce968c49efb03a6b7b7fc5e64a",
       "version_major": 2,
       "version_minor": 0
      },
      "text/plain": [
       "HBox(children=(FloatProgress(value=0.0, description='Train', max=153.0, style=ProgressStyle(description_width=…"
      ]
     },
     "metadata": {},
     "output_type": "display_data"
    },
    {
     "name": "stdout",
     "output_type": "stream",
     "text": [
      "\n",
      "Epoch: 05 | Time: 0m 11s\n",
      "Training Results - Average Loss: 0.8193 | auc/_mean: 0.8082 | auc/healthy: 0.8340 | auc/multiple_diseases: 0.6704, auc/rust: 0.8692, auc/scab: 0.8591\n",
      "Evaluating Results - Average Loss: 0.5772 | auc/_mean: 0.8623 | auc/healthy: 0.9266 | auc/multiple_diseases: 0.6210, auc/rust: 0.9503, auc/scab: 0.9515\n",
      "\n",
      "Epoch     5: reducing learning rate of group 0 to 9.0000e-04.\n"
     ]
    },
    {
     "data": {
      "application/vnd.jupyter.widget-view+json": {
       "model_id": "d08bf22bb336417db6b095bf9bab4eee",
       "version_major": 2,
       "version_minor": 0
      },
      "text/plain": [
       "HBox(children=(FloatProgress(value=0.0, description='Train', max=153.0, style=ProgressStyle(description_width=…"
      ]
     },
     "metadata": {},
     "output_type": "display_data"
    },
    {
     "name": "stdout",
     "output_type": "stream",
     "text": [
      "\n",
      "Epoch: 06 | Time: 0m 11s\n",
      "Training Results - Average Loss: 0.7905 | auc/_mean: 0.8222 | auc/healthy: 0.8588 | auc/multiple_diseases: 0.7081, auc/rust: 0.8560, auc/scab: 0.8658\n",
      "Evaluating Results - Average Loss: 0.5535 | auc/_mean: 0.8611 | auc/healthy: 0.9333 | auc/multiple_diseases: 0.6085, auc/rust: 0.9527, auc/scab: 0.9500\n",
      "\n"
     ]
    },
    {
     "data": {
      "application/vnd.jupyter.widget-view+json": {
       "model_id": "15ded9e5062d44cf8f4d1627baf54f98",
       "version_major": 2,
       "version_minor": 0
      },
      "text/plain": [
       "HBox(children=(FloatProgress(value=0.0, description='Train', max=153.0, style=ProgressStyle(description_width=…"
      ]
     },
     "metadata": {},
     "output_type": "display_data"
    },
    {
     "name": "stdout",
     "output_type": "stream",
     "text": [
      "\n",
      "Epoch: 07 | Time: 0m 11s\n",
      "Training Results - Average Loss: 0.7830 | auc/_mean: 0.8059 | auc/healthy: 0.8389 | auc/multiple_diseases: 0.6362, auc/rust: 0.8739, auc/scab: 0.8744\n",
      "Evaluating Results - Average Loss: 0.5291 | auc/_mean: 0.8677 | auc/healthy: 0.9328 | auc/multiple_diseases: 0.6298, auc/rust: 0.9576, auc/scab: 0.9504\n",
      "\n"
     ]
    },
    {
     "data": {
      "application/vnd.jupyter.widget-view+json": {
       "model_id": "a8286af30df94991b26b24166e269c7e",
       "version_major": 2,
       "version_minor": 0
      },
      "text/plain": [
       "HBox(children=(FloatProgress(value=0.0, description='Train', max=153.0, style=ProgressStyle(description_width=…"
      ]
     },
     "metadata": {},
     "output_type": "display_data"
    },
    {
     "name": "stdout",
     "output_type": "stream",
     "text": [
      "\n",
      "Epoch: 08 | Time: 0m 11s\n",
      "Training Results - Average Loss: 0.7841 | auc/_mean: 0.8338 | auc/healthy: 0.8513 | auc/multiple_diseases: 0.7562, auc/rust: 0.8632, auc/scab: 0.8643\n",
      "Evaluating Results - Average Loss: 0.5426 | auc/_mean: 0.8679 | auc/healthy: 0.9317 | auc/multiple_diseases: 0.6343, auc/rust: 0.9563, auc/scab: 0.9492\n",
      "\n"
     ]
    },
    {
     "data": {
      "application/vnd.jupyter.widget-view+json": {
       "model_id": "45f8e9efdb4244f6bafd1d9a6750c566",
       "version_major": 2,
       "version_minor": 0
      },
      "text/plain": [
       "HBox(children=(FloatProgress(value=0.0, description='Train', max=153.0, style=ProgressStyle(description_width=…"
      ]
     },
     "metadata": {},
     "output_type": "display_data"
    },
    {
     "name": "stdout",
     "output_type": "stream",
     "text": [
      "\n",
      "Epoch: 09 | Time: 0m 11s\n",
      "Training Results - Average Loss: 0.7543 | auc/_mean: 0.8281 | auc/healthy: 0.8414 | auc/multiple_diseases: 0.7062, auc/rust: 0.8877, auc/scab: 0.8769\n",
      "Evaluating Results - Average Loss: 0.5326 | auc/_mean: 0.8696 | auc/healthy: 0.9329 | auc/multiple_diseases: 0.6424, auc/rust: 0.9539, auc/scab: 0.9491\n",
      "\n",
      "Epoch     9: reducing learning rate of group 0 to 2.7000e-04.\n"
     ]
    },
    {
     "data": {
      "application/vnd.jupyter.widget-view+json": {
       "model_id": "10c916cd8588458dae1ae7afb62fa319",
       "version_major": 2,
       "version_minor": 0
      },
      "text/plain": [
       "HBox(children=(FloatProgress(value=0.0, description='Train', max=153.0, style=ProgressStyle(description_width=…"
      ]
     },
     "metadata": {},
     "output_type": "display_data"
    },
    {
     "name": "stdout",
     "output_type": "stream",
     "text": [
      "\n",
      "Epoch: 10 | Time: 0m 11s\n",
      "Training Results - Average Loss: 0.7888 | auc/_mean: 0.8184 | auc/healthy: 0.8450 | auc/multiple_diseases: 0.6999, auc/rust: 0.8575, auc/scab: 0.8712\n",
      "Evaluating Results - Average Loss: 0.5305 | auc/_mean: 0.8704 | auc/healthy: 0.9345 | auc/multiple_diseases: 0.6427, auc/rust: 0.9546, auc/scab: 0.9498\n",
      "\n"
     ]
    },
    {
     "data": {
      "application/vnd.jupyter.widget-view+json": {
       "model_id": "cd903284e80746e8b719be0d0c7fcf7a",
       "version_major": 2,
       "version_minor": 0
      },
      "text/plain": [
       "HBox(children=(FloatProgress(value=0.0, description='Train', max=153.0, style=ProgressStyle(description_width=…"
      ]
     },
     "metadata": {},
     "output_type": "display_data"
    },
    {
     "name": "stdout",
     "output_type": "stream",
     "text": [
      "\n",
      "Epoch: 11 | Time: 0m 11s\n",
      "Training Results - Average Loss: 0.7472 | auc/_mean: 0.8353 | auc/healthy: 0.8600 | auc/multiple_diseases: 0.7362, auc/rust: 0.8777, auc/scab: 0.8673\n",
      "Evaluating Results - Average Loss: 0.5163 | auc/_mean: 0.8722 | auc/healthy: 0.9344 | auc/multiple_diseases: 0.6461, auc/rust: 0.9571, auc/scab: 0.9511\n",
      "\n"
     ]
    },
    {
     "data": {
      "application/vnd.jupyter.widget-view+json": {
       "model_id": "e67198e3fd744f8c9bbfb72d6ceddce9",
       "version_major": 2,
       "version_minor": 0
      },
      "text/plain": [
       "HBox(children=(FloatProgress(value=0.0, description='Train', max=153.0, style=ProgressStyle(description_width=…"
      ]
     },
     "metadata": {},
     "output_type": "display_data"
    },
    {
     "name": "stdout",
     "output_type": "stream",
     "text": [
      "\n",
      "Epoch: 12 | Time: 0m 11s\n",
      "Training Results - Average Loss: 0.7701 | auc/_mean: 0.8196 | auc/healthy: 0.8427 | auc/multiple_diseases: 0.6758, auc/rust: 0.8854, auc/scab: 0.8744\n",
      "Evaluating Results - Average Loss: 0.5200 | auc/_mean: 0.8706 | auc/healthy: 0.9356 | auc/multiple_diseases: 0.6409, auc/rust: 0.9577, auc/scab: 0.9480\n",
      "\n"
     ]
    },
    {
     "data": {
      "application/vnd.jupyter.widget-view+json": {
       "model_id": "2015a816bdf94847adecda9f517905bb",
       "version_major": 2,
       "version_minor": 0
      },
      "text/plain": [
       "HBox(children=(FloatProgress(value=0.0, description='Train', max=153.0, style=ProgressStyle(description_width=…"
      ]
     },
     "metadata": {},
     "output_type": "display_data"
    },
    {
     "name": "stdout",
     "output_type": "stream",
     "text": [
      "\n",
      "Epoch: 13 | Time: 0m 11s\n",
      "Training Results - Average Loss: 0.7335 | auc/_mean: 0.8381 | auc/healthy: 0.8605 | auc/multiple_diseases: 0.7264, auc/rust: 0.8856, auc/scab: 0.8798\n",
      "Evaluating Results - Average Loss: 0.5311 | auc/_mean: 0.8714 | auc/healthy: 0.9362 | auc/multiple_diseases: 0.6448, auc/rust: 0.9541, auc/scab: 0.9504\n",
      "\n",
      "Epoch    13: reducing learning rate of group 0 to 8.1000e-05.\n"
     ]
    },
    {
     "data": {
      "application/vnd.jupyter.widget-view+json": {
       "model_id": "6bf3ff99a92f4955b42b05a44f145bf7",
       "version_major": 2,
       "version_minor": 0
      },
      "text/plain": [
       "HBox(children=(FloatProgress(value=0.0, description='Train', max=153.0, style=ProgressStyle(description_width=…"
      ]
     },
     "metadata": {},
     "output_type": "display_data"
    },
    {
     "name": "stdout",
     "output_type": "stream",
     "text": [
      "\n",
      "Epoch: 14 | Time: 0m 11s\n",
      "Training Results - Average Loss: 0.7613 | auc/_mean: 0.8239 | auc/healthy: 0.8591 | auc/multiple_diseases: 0.6884, auc/rust: 0.8658, auc/scab: 0.8822\n",
      "Evaluating Results - Average Loss: 0.5213 | auc/_mean: 0.8706 | auc/healthy: 0.9361 | auc/multiple_diseases: 0.6400, auc/rust: 0.9566, auc/scab: 0.9498\n",
      "\n"
     ]
    },
    {
     "data": {
      "application/vnd.jupyter.widget-view+json": {
       "model_id": "a6bf9897feaf43edbc0620bc4c32df34",
       "version_major": 2,
       "version_minor": 0
      },
      "text/plain": [
       "HBox(children=(FloatProgress(value=0.0, description='Train', max=153.0, style=ProgressStyle(description_width=…"
      ]
     },
     "metadata": {},
     "output_type": "display_data"
    },
    {
     "name": "stdout",
     "output_type": "stream",
     "text": [
      "\n",
      "Epoch: 15 | Time: 0m 11s\n",
      "Training Results - Average Loss: 0.7560 | auc/_mean: 0.8427 | auc/healthy: 0.8569 | auc/multiple_diseases: 0.7740, auc/rust: 0.8732, auc/scab: 0.8666\n",
      "Evaluating Results - Average Loss: 0.5232 | auc/_mean: 0.8707 | auc/healthy: 0.9358 | auc/multiple_diseases: 0.6415, auc/rust: 0.9558, auc/scab: 0.9498\n",
      "\n"
     ]
    },
    {
     "data": {
      "application/vnd.jupyter.widget-view+json": {
       "model_id": "039debf7adb24e51a7eb8ece8f46bfb8",
       "version_major": 2,
       "version_minor": 0
      },
      "text/plain": [
       "HBox(children=(FloatProgress(value=0.0, description='Train', max=153.0, style=ProgressStyle(description_width=…"
      ]
     },
     "metadata": {},
     "output_type": "display_data"
    },
    {
     "name": "stdout",
     "output_type": "stream",
     "text": [
      "\n",
      "Epoch: 16 | Time: 0m 11s\n",
      "Training Results - Average Loss: 0.7271 | auc/_mean: 0.8477 | auc/healthy: 0.8709 | auc/multiple_diseases: 0.7667, auc/rust: 0.8865, auc/scab: 0.8667\n",
      "Evaluating Results - Average Loss: 0.5196 | auc/_mean: 0.8706 | auc/healthy: 0.9371 | auc/multiple_diseases: 0.6386, auc/rust: 0.9560, auc/scab: 0.9508\n",
      "\n"
     ]
    },
    {
     "data": {
      "application/vnd.jupyter.widget-view+json": {
       "model_id": "6df322d94a1648208ade82a8b5595f10",
       "version_major": 2,
       "version_minor": 0
      },
      "text/plain": [
       "HBox(children=(FloatProgress(value=0.0, description='Train', max=153.0, style=ProgressStyle(description_width=…"
      ]
     },
     "metadata": {},
     "output_type": "display_data"
    },
    {
     "name": "stdout",
     "output_type": "stream",
     "text": [
      "\n",
      "Epoch: 17 | Time: 0m 11s\n",
      "Training Results - Average Loss: 0.7382 | auc/_mean: 0.8320 | auc/healthy: 0.8414 | auc/multiple_diseases: 0.7114, auc/rust: 0.8861, auc/scab: 0.8893\n",
      "Evaluating Results - Average Loss: 0.5161 | auc/_mean: 0.8723 | auc/healthy: 0.9374 | auc/multiple_diseases: 0.6454, auc/rust: 0.9569, auc/scab: 0.9494\n",
      "\n",
      "Epoch    17: reducing learning rate of group 0 to 2.4300e-05.\n"
     ]
    },
    {
     "data": {
      "application/vnd.jupyter.widget-view+json": {
       "model_id": "3b1f9a478b9f4e1d9998482f78cea7b0",
       "version_major": 2,
       "version_minor": 0
      },
      "text/plain": [
       "HBox(children=(FloatProgress(value=0.0, description='Train', max=153.0, style=ProgressStyle(description_width=…"
      ]
     },
     "metadata": {},
     "output_type": "display_data"
    },
    {
     "name": "stdout",
     "output_type": "stream",
     "text": [
      "\n",
      "Epoch: 18 | Time: 0m 11s\n",
      "Training Results - Average Loss: 0.7394 | auc/_mean: 0.8347 | auc/healthy: 0.8717 | auc/multiple_diseases: 0.7134, auc/rust: 0.8688, auc/scab: 0.8850\n",
      "Evaluating Results - Average Loss: 0.5173 | auc/_mean: 0.8715 | auc/healthy: 0.9373 | auc/multiple_diseases: 0.6417, auc/rust: 0.9570, auc/scab: 0.9501\n",
      "\n"
     ]
    },
    {
     "data": {
      "application/vnd.jupyter.widget-view+json": {
       "model_id": "17f8db222dc646dab5ca5e7bfe230599",
       "version_major": 2,
       "version_minor": 0
      },
      "text/plain": [
       "HBox(children=(FloatProgress(value=0.0, description='Train', max=153.0, style=ProgressStyle(description_width=…"
      ]
     },
     "metadata": {},
     "output_type": "display_data"
    },
    {
     "name": "stdout",
     "output_type": "stream",
     "text": [
      "\n",
      "Epoch: 19 | Time: 0m 11s\n",
      "Training Results - Average Loss: 0.7382 | auc/_mean: 0.8378 | auc/healthy: 0.8752 | auc/multiple_diseases: 0.7173, auc/rust: 0.8778, auc/scab: 0.8811\n",
      "Evaluating Results - Average Loss: 0.5174 | auc/_mean: 0.8728 | auc/healthy: 0.9368 | auc/multiple_diseases: 0.6485, auc/rust: 0.9576, auc/scab: 0.9484\n",
      "\n"
     ]
    },
    {
     "data": {
      "application/vnd.jupyter.widget-view+json": {
       "model_id": "274e61443e6d4e07967575b0f361786f",
       "version_major": 2,
       "version_minor": 0
      },
      "text/plain": [
       "HBox(children=(FloatProgress(value=0.0, description='Train', max=153.0, style=ProgressStyle(description_width=…"
      ]
     },
     "metadata": {},
     "output_type": "display_data"
    },
    {
     "name": "stdout",
     "output_type": "stream",
     "text": [
      "\n",
      "Epoch: 20 | Time: 0m 11s\n",
      "Training Results - Average Loss: 0.7527 | auc/_mean: 0.8278 | auc/healthy: 0.8607 | auc/multiple_diseases: 0.6945, auc/rust: 0.8794, auc/scab: 0.8765\n",
      "Evaluating Results - Average Loss: 0.5168 | auc/_mean: 0.8718 | auc/healthy: 0.9373 | auc/multiple_diseases: 0.6426, auc/rust: 0.9576, auc/scab: 0.9498\n",
      "\n"
     ]
    },
    {
     "data": {
      "application/vnd.jupyter.widget-view+json": {
       "model_id": "cdd4e9f2460d459a8d40b4f710b39324",
       "version_major": 2,
       "version_minor": 0
      },
      "text/plain": [
       "HBox(children=(FloatProgress(value=0.0, description='Train', max=153.0, style=ProgressStyle(description_width=…"
      ]
     },
     "metadata": {},
     "output_type": "display_data"
    },
    {
     "name": "stdout",
     "output_type": "stream",
     "text": [
      "\n",
      "Epoch: 21 | Time: 0m 11s\n",
      "Training Results - Average Loss: 0.7382 | auc/_mean: 0.8335 | auc/healthy: 0.8668 | auc/multiple_diseases: 0.7169, auc/rust: 0.8765, auc/scab: 0.8737\n",
      "Evaluating Results - Average Loss: 0.5184 | auc/_mean: 0.8704 | auc/healthy: 0.9364 | auc/multiple_diseases: 0.6385, auc/rust: 0.9577, auc/scab: 0.9488\n",
      "\n",
      "Epoch    21: reducing learning rate of group 0 to 7.2900e-06.\n"
     ]
    },
    {
     "data": {
      "application/vnd.jupyter.widget-view+json": {
       "model_id": "ccd65212847941e5b64254523c6693d0",
       "version_major": 2,
       "version_minor": 0
      },
      "text/plain": [
       "HBox(children=(FloatProgress(value=0.0, description='Train', max=153.0, style=ProgressStyle(description_width=…"
      ]
     },
     "metadata": {},
     "output_type": "display_data"
    },
    {
     "name": "stdout",
     "output_type": "stream",
     "text": [
      "\n",
      "Epoch: 22 | Time: 0m 11s\n",
      "Training Results - Average Loss: 0.7519 | auc/_mean: 0.8234 | auc/healthy: 0.8665 | auc/multiple_diseases: 0.6697, auc/rust: 0.8863, auc/scab: 0.8712\n",
      "Evaluating Results - Average Loss: 0.5165 | auc/_mean: 0.8715 | auc/healthy: 0.9368 | auc/multiple_diseases: 0.6420, auc/rust: 0.9576, auc/scab: 0.9494\n",
      "\n"
     ]
    },
    {
     "data": {
      "application/vnd.jupyter.widget-view+json": {
       "model_id": "eb1cb19657c64ab0bf4e29beca139eba",
       "version_major": 2,
       "version_minor": 0
      },
      "text/plain": [
       "HBox(children=(FloatProgress(value=0.0, description='Train', max=153.0, style=ProgressStyle(description_width=…"
      ]
     },
     "metadata": {},
     "output_type": "display_data"
    },
    {
     "name": "stdout",
     "output_type": "stream",
     "text": [
      "\n",
      "Epoch: 23 | Time: 0m 11s\n",
      "Training Results - Average Loss: 0.7358 | auc/_mean: 0.8299 | auc/healthy: 0.8619 | auc/multiple_diseases: 0.6926, auc/rust: 0.8883, auc/scab: 0.8770\n",
      "Evaluating Results - Average Loss: 0.5195 | auc/_mean: 0.8709 | auc/healthy: 0.9368 | auc/multiple_diseases: 0.6411, auc/rust: 0.9565, auc/scab: 0.9491\n",
      "\n"
     ]
    },
    {
     "data": {
      "application/vnd.jupyter.widget-view+json": {
       "model_id": "7c22b0366c29471992c922695fe9ddd3",
       "version_major": 2,
       "version_minor": 0
      },
      "text/plain": [
       "HBox(children=(FloatProgress(value=0.0, description='Train', max=153.0, style=ProgressStyle(description_width=…"
      ]
     },
     "metadata": {},
     "output_type": "display_data"
    },
    {
     "name": "stdout",
     "output_type": "stream",
     "text": [
      "\n",
      "Epoch: 24 | Time: 0m 11s\n",
      "Training Results - Average Loss: 0.7528 | auc/_mean: 0.8389 | auc/healthy: 0.8773 | auc/multiple_diseases: 0.7475, auc/rust: 0.8680, auc/scab: 0.8629\n",
      "Evaluating Results - Average Loss: 0.5165 | auc/_mean: 0.8706 | auc/healthy: 0.9375 | auc/multiple_diseases: 0.6363, auc/rust: 0.9579, auc/scab: 0.9508\n",
      "\n"
     ]
    },
    {
     "data": {
      "application/vnd.jupyter.widget-view+json": {
       "model_id": "f64357efc8754d679d3af70b5f9876b2",
       "version_major": 2,
       "version_minor": 0
      },
      "text/plain": [
       "HBox(children=(FloatProgress(value=0.0, description='Train', max=153.0, style=ProgressStyle(description_width=…"
      ]
     },
     "metadata": {},
     "output_type": "display_data"
    },
    {
     "name": "stdout",
     "output_type": "stream",
     "text": [
      "\n",
      "Epoch: 25 | Time: 0m 11s\n",
      "Training Results - Average Loss: 0.7697 | auc/_mean: 0.8268 | auc/healthy: 0.8661 | auc/multiple_diseases: 0.7127, auc/rust: 0.8675, auc/scab: 0.8611\n",
      "Evaluating Results - Average Loss: 0.5174 | auc/_mean: 0.8717 | auc/healthy: 0.9362 | auc/multiple_diseases: 0.6430, auc/rust: 0.9576, auc/scab: 0.9499\n",
      "\n",
      "Epoch    25: reducing learning rate of group 0 to 2.1870e-06.\n"
     ]
    },
    {
     "data": {
      "application/vnd.jupyter.widget-view+json": {
       "model_id": "740a8c9210034427956234823ecfd672",
       "version_major": 2,
       "version_minor": 0
      },
      "text/plain": [
       "HBox(children=(FloatProgress(value=0.0, description='Train', max=153.0, style=ProgressStyle(description_width=…"
      ]
     },
     "metadata": {},
     "output_type": "display_data"
    },
    {
     "name": "stdout",
     "output_type": "stream",
     "text": [
      "\n",
      "Epoch: 26 | Time: 0m 11s\n",
      "Training Results - Average Loss: 0.7138 | auc/_mean: 0.8384 | auc/healthy: 0.8804 | auc/multiple_diseases: 0.7032, auc/rust: 0.8844, auc/scab: 0.8855\n",
      "Evaluating Results - Average Loss: 0.5200 | auc/_mean: 0.8713 | auc/healthy: 0.9361 | auc/multiple_diseases: 0.6422, auc/rust: 0.9569, auc/scab: 0.9501\n",
      "\n"
     ]
    },
    {
     "data": {
      "application/vnd.jupyter.widget-view+json": {
       "model_id": "0ecd46e66abb4f34b53959c877bceaa9",
       "version_major": 2,
       "version_minor": 0
      },
      "text/plain": [
       "HBox(children=(FloatProgress(value=0.0, description='Train', max=153.0, style=ProgressStyle(description_width=…"
      ]
     },
     "metadata": {},
     "output_type": "display_data"
    },
    {
     "name": "stdout",
     "output_type": "stream",
     "text": [
      "\n",
      "Epoch: 27 | Time: 0m 11s\n",
      "Training Results - Average Loss: 0.7480 | auc/_mean: 0.8320 | auc/healthy: 0.8602 | auc/multiple_diseases: 0.7156, auc/rust: 0.8741, auc/scab: 0.8778\n",
      "Evaluating Results - Average Loss: 0.5215 | auc/_mean: 0.8708 | auc/healthy: 0.9356 | auc/multiple_diseases: 0.6430, auc/rust: 0.9563, auc/scab: 0.9482\n",
      "\n"
     ]
    },
    {
     "data": {
      "application/vnd.jupyter.widget-view+json": {
       "model_id": "7f39da45728f4d0db7d050c020fcc3d1",
       "version_major": 2,
       "version_minor": 0
      },
      "text/plain": [
       "HBox(children=(FloatProgress(value=0.0, description='Train', max=153.0, style=ProgressStyle(description_width=…"
      ]
     },
     "metadata": {},
     "output_type": "display_data"
    },
    {
     "name": "stdout",
     "output_type": "stream",
     "text": [
      "\n",
      "Epoch: 28 | Time: 0m 11s\n",
      "Training Results - Average Loss: 0.7472 | auc/_mean: 0.8300 | auc/healthy: 0.8553 | auc/multiple_diseases: 0.7083, auc/rust: 0.8742, auc/scab: 0.8823\n",
      "Evaluating Results - Average Loss: 0.5185 | auc/_mean: 0.8720 | auc/healthy: 0.9361 | auc/multiple_diseases: 0.6462, auc/rust: 0.9569, auc/scab: 0.9488\n",
      "\n",
      "EarlyStopping\n"
     ]
    }
   ],
   "source": [
    "trainer = Trainer(model, train_dataloader, valid_dataloader, criterion, optimizer, scheduler, device, config)\n",
    "trainer.run();"
   ]
  },
  {
   "cell_type": "code",
   "execution_count": null,
   "metadata": {},
   "outputs": [],
   "source": []
  },
  {
   "cell_type": "code",
   "execution_count": null,
   "metadata": {},
   "outputs": [],
   "source": []
  },
  {
   "cell_type": "code",
   "execution_count": 13,
   "metadata": {},
   "outputs": [
    {
     "name": "stdout",
     "output_type": "stream",
     "text": [
      "Loaded pretrained weights for efficientnet-b0\n"
     ]
    }
   ],
   "source": [
    "model = get_model(config.model_name, config.num_classes)\n",
    "model.load_state_dict(torch.load(f\"{config.save_dirname}/best_model_epoch=17_loss=0.5161190929969675.pth\"))\n",
    "for param in model.parameters():\n",
    "    param.requires_grad = True\n",
    "\n",
    "criterion = nn.CrossEntropyLoss()\n",
    "optimizer = torch.optim.Adam(model.parameters(), lr=config.lr)\n",
    "scheduler = torch.optim.lr_scheduler.ReduceLROnPlateau(optimizer, patience=config.patience, verbose=True, mode=\"min\", factor=0.3)"
   ]
  },
  {
   "cell_type": "code",
   "execution_count": 14,
   "metadata": {},
   "outputs": [
    {
     "data": {
      "application/vnd.jupyter.widget-view+json": {
       "model_id": "f749d8b73e9f42fa90f36a50ddffcc6f",
       "version_major": 2,
       "version_minor": 0
      },
      "text/plain": [
       "HBox(children=(FloatProgress(value=0.0, description='Epochs', max=200.0, style=ProgressStyle(description_width…"
      ]
     },
     "metadata": {},
     "output_type": "display_data"
    },
    {
     "data": {
      "application/vnd.jupyter.widget-view+json": {
       "model_id": "67ddae55e9074fa798d651562a33696c",
       "version_major": 2,
       "version_minor": 0
      },
      "text/plain": [
       "HBox(children=(FloatProgress(value=0.0, description='Train', max=153.0, style=ProgressStyle(description_width=…"
      ]
     },
     "metadata": {},
     "output_type": "display_data"
    },
    {
     "name": "stdout",
     "output_type": "stream",
     "text": [
      "\n",
      "Epoch: 01 | Time: 0m 20s\n",
      "Training Results - Average Loss: 1.1178 | auc/_mean: 0.7296 | auc/healthy: 0.7870 | auc/multiple_diseases: 0.4864, auc/rust: 0.8249, auc/scab: 0.8200\n",
      "Evaluating Results - Average Loss: 0.9375 | auc/_mean: 0.7582 | auc/healthy: 0.9206 | auc/multiple_diseases: 0.5427, auc/rust: 0.8321, auc/scab: 0.7375\n",
      "\n"
     ]
    },
    {
     "data": {
      "application/vnd.jupyter.widget-view+json": {
       "model_id": "df8aee50bcac4408a0aab619e020c337",
       "version_major": 2,
       "version_minor": 0
      },
      "text/plain": [
       "HBox(children=(FloatProgress(value=0.0, description='Train', max=153.0, style=ProgressStyle(description_width=…"
      ]
     },
     "metadata": {},
     "output_type": "display_data"
    },
    {
     "name": "stdout",
     "output_type": "stream",
     "text": [
      "\n",
      "Epoch: 02 | Time: 0m 20s\n",
      "Training Results - Average Loss: 0.6236 | auc/_mean: 0.8282 | auc/healthy: 0.9341 | auc/multiple_diseases: 0.5124, auc/rust: 0.9531, auc/scab: 0.9133\n",
      "Evaluating Results - Average Loss: 0.6220 | auc/_mean: 0.9076 | auc/healthy: 0.9817 | auc/multiple_diseases: 0.6713, auc/rust: 0.9935, auc/scab: 0.9840\n",
      "\n"
     ]
    },
    {
     "data": {
      "application/vnd.jupyter.widget-view+json": {
       "model_id": "5814ca0fe6834d738166e3e891562f79",
       "version_major": 2,
       "version_minor": 0
      },
      "text/plain": [
       "HBox(children=(FloatProgress(value=0.0, description='Train', max=153.0, style=ProgressStyle(description_width=…"
      ]
     },
     "metadata": {},
     "output_type": "display_data"
    },
    {
     "name": "stdout",
     "output_type": "stream",
     "text": [
      "\n",
      "Epoch: 03 | Time: 0m 20s\n",
      "Training Results - Average Loss: 0.6093 | auc/_mean: 0.8557 | auc/healthy: 0.9409 | auc/multiple_diseases: 0.6203, auc/rust: 0.9341, auc/scab: 0.9273\n",
      "Evaluating Results - Average Loss: 0.4952 | auc/_mean: 0.8957 | auc/healthy: 0.9800 | auc/multiple_diseases: 0.6297, auc/rust: 0.9928, auc/scab: 0.9803\n",
      "\n"
     ]
    },
    {
     "data": {
      "application/vnd.jupyter.widget-view+json": {
       "model_id": "9b85d425a1394bc08ccf2c45e3a74da5",
       "version_major": 2,
       "version_minor": 0
      },
      "text/plain": [
       "HBox(children=(FloatProgress(value=0.0, description='Train', max=153.0, style=ProgressStyle(description_width=…"
      ]
     },
     "metadata": {},
     "output_type": "display_data"
    },
    {
     "name": "stdout",
     "output_type": "stream",
     "text": [
      "\n",
      "Epoch: 04 | Time: 0m 20s\n",
      "Training Results - Average Loss: 0.5456 | auc/_mean: 0.8580 | auc/healthy: 0.9596 | auc/multiple_diseases: 0.5737, auc/rust: 0.9522, auc/scab: 0.9464\n",
      "Evaluating Results - Average Loss: 0.3927 | auc/_mean: 0.8538 | auc/healthy: 0.9868 | auc/multiple_diseases: 0.4447, auc/rust: 0.9954, auc/scab: 0.9882\n",
      "\n"
     ]
    },
    {
     "data": {
      "application/vnd.jupyter.widget-view+json": {
       "model_id": "0f2348c23b984064bcee0dabf4f76f14",
       "version_major": 2,
       "version_minor": 0
      },
      "text/plain": [
       "HBox(children=(FloatProgress(value=0.0, description='Train', max=153.0, style=ProgressStyle(description_width=…"
      ]
     },
     "metadata": {},
     "output_type": "display_data"
    },
    {
     "name": "stdout",
     "output_type": "stream",
     "text": [
      "\n",
      "Epoch: 05 | Time: 0m 20s\n",
      "Training Results - Average Loss: 0.4750 | auc/_mean: 0.8659 | auc/healthy: 0.9655 | auc/multiple_diseases: 0.5825, auc/rust: 0.9713, auc/scab: 0.9445\n",
      "Evaluating Results - Average Loss: 0.5728 | auc/_mean: 0.8768 | auc/healthy: 0.9837 | auc/multiple_diseases: 0.5457, auc/rust: 0.9943, auc/scab: 0.9833\n",
      "\n"
     ]
    },
    {
     "data": {
      "application/vnd.jupyter.widget-view+json": {
       "model_id": "d884d3d040114d208e23a9b235c4554e",
       "version_major": 2,
       "version_minor": 0
      },
      "text/plain": [
       "HBox(children=(FloatProgress(value=0.0, description='Train', max=153.0, style=ProgressStyle(description_width=…"
      ]
     },
     "metadata": {},
     "output_type": "display_data"
    },
    {
     "name": "stdout",
     "output_type": "stream",
     "text": [
      "\n",
      "Epoch: 06 | Time: 0m 20s\n",
      "Training Results - Average Loss: 0.4433 | auc/_mean: 0.8807 | auc/healthy: 0.9715 | auc/multiple_diseases: 0.6279, auc/rust: 0.9703, auc/scab: 0.9533\n",
      "Evaluating Results - Average Loss: 0.3450 | auc/_mean: 0.8717 | auc/healthy: 0.9935 | auc/multiple_diseases: 0.5127, auc/rust: 0.9964, auc/scab: 0.9844\n",
      "\n"
     ]
    },
    {
     "data": {
      "application/vnd.jupyter.widget-view+json": {
       "model_id": "6d4224f06ee541b4b91b7cd4b03182b1",
       "version_major": 2,
       "version_minor": 0
      },
      "text/plain": [
       "HBox(children=(FloatProgress(value=0.0, description='Train', max=153.0, style=ProgressStyle(description_width=…"
      ]
     },
     "metadata": {},
     "output_type": "display_data"
    },
    {
     "name": "stdout",
     "output_type": "stream",
     "text": [
      "\n",
      "Epoch: 07 | Time: 0m 20s\n",
      "Training Results - Average Loss: 0.4271 | auc/_mean: 0.8915 | auc/healthy: 0.9682 | auc/multiple_diseases: 0.6580, auc/rust: 0.9736, auc/scab: 0.9662\n",
      "Evaluating Results - Average Loss: 0.5725 | auc/_mean: 0.8760 | auc/healthy: 0.9853 | auc/multiple_diseases: 0.5394, auc/rust: 0.9966, auc/scab: 0.9829\n",
      "\n"
     ]
    },
    {
     "data": {
      "application/vnd.jupyter.widget-view+json": {
       "model_id": "5e5afc675e7c49dea295b28227e0bf11",
       "version_major": 2,
       "version_minor": 0
      },
      "text/plain": [
       "HBox(children=(FloatProgress(value=0.0, description='Train', max=153.0, style=ProgressStyle(description_width=…"
      ]
     },
     "metadata": {},
     "output_type": "display_data"
    },
    {
     "name": "stdout",
     "output_type": "stream",
     "text": [
      "\n",
      "Epoch: 08 | Time: 0m 20s\n",
      "Training Results - Average Loss: 0.3659 | auc/_mean: 0.8799 | auc/healthy: 0.9798 | auc/multiple_diseases: 0.5860, auc/rust: 0.9814, auc/scab: 0.9723\n",
      "Evaluating Results - Average Loss: 0.2477 | auc/_mean: 0.8776 | auc/healthy: 0.9890 | auc/multiple_diseases: 0.5405, auc/rust: 0.9947, auc/scab: 0.9862\n",
      "\n"
     ]
    },
    {
     "data": {
      "application/vnd.jupyter.widget-view+json": {
       "model_id": "c4da0aa38852403db141fada9cce8afa",
       "version_major": 2,
       "version_minor": 0
      },
      "text/plain": [
       "HBox(children=(FloatProgress(value=0.0, description='Train', max=153.0, style=ProgressStyle(description_width=…"
      ]
     },
     "metadata": {},
     "output_type": "display_data"
    },
    {
     "name": "stdout",
     "output_type": "stream",
     "text": [
      "\n",
      "Epoch: 09 | Time: 0m 20s\n",
      "Training Results - Average Loss: 0.3681 | auc/_mean: 0.8754 | auc/healthy: 0.9796 | auc/multiple_diseases: 0.5716, auc/rust: 0.9810, auc/scab: 0.9696\n",
      "Evaluating Results - Average Loss: 0.4017 | auc/_mean: 0.8833 | auc/healthy: 0.9945 | auc/multiple_diseases: 0.5594, auc/rust: 0.9921, auc/scab: 0.9874\n",
      "\n"
     ]
    },
    {
     "data": {
      "application/vnd.jupyter.widget-view+json": {
       "model_id": "6f7bb79b0f224e5fb36ec1a385afeb40",
       "version_major": 2,
       "version_minor": 0
      },
      "text/plain": [
       "HBox(children=(FloatProgress(value=0.0, description='Train', max=153.0, style=ProgressStyle(description_width=…"
      ]
     },
     "metadata": {},
     "output_type": "display_data"
    },
    {
     "name": "stdout",
     "output_type": "stream",
     "text": [
      "\n",
      "Epoch: 10 | Time: 0m 20s\n",
      "Training Results - Average Loss: 0.3911 | auc/_mean: 0.8788 | auc/healthy: 0.9791 | auc/multiple_diseases: 0.5888, auc/rust: 0.9786, auc/scab: 0.9688\n",
      "Evaluating Results - Average Loss: 0.3867 | auc/_mean: 0.8780 | auc/healthy: 0.9799 | auc/multiple_diseases: 0.5646, auc/rust: 0.9932, auc/scab: 0.9741\n",
      "\n"
     ]
    },
    {
     "data": {
      "application/vnd.jupyter.widget-view+json": {
       "model_id": "1bd9e379631542e5bbcb965a3d43bc09",
       "version_major": 2,
       "version_minor": 0
      },
      "text/plain": [
       "HBox(children=(FloatProgress(value=0.0, description='Train', max=153.0, style=ProgressStyle(description_width=…"
      ]
     },
     "metadata": {},
     "output_type": "display_data"
    },
    {
     "name": "stdout",
     "output_type": "stream",
     "text": [
      "\n",
      "Epoch: 11 | Time: 0m 20s\n",
      "Training Results - Average Loss: 0.3592 | auc/_mean: 0.8936 | auc/healthy: 0.9765 | auc/multiple_diseases: 0.6419, auc/rust: 0.9821, auc/scab: 0.9738\n",
      "Evaluating Results - Average Loss: 0.2650 | auc/_mean: 0.8870 | auc/healthy: 0.9918 | auc/multiple_diseases: 0.5709, auc/rust: 0.9928, auc/scab: 0.9924\n",
      "\n"
     ]
    },
    {
     "data": {
      "application/vnd.jupyter.widget-view+json": {
       "model_id": "b441022403454974be6cd59d75a98a79",
       "version_major": 2,
       "version_minor": 0
      },
      "text/plain": [
       "HBox(children=(FloatProgress(value=0.0, description='Train', max=153.0, style=ProgressStyle(description_width=…"
      ]
     },
     "metadata": {},
     "output_type": "display_data"
    },
    {
     "name": "stdout",
     "output_type": "stream",
     "text": [
      "\n",
      "Epoch: 12 | Time: 0m 21s\n",
      "Training Results - Average Loss: 0.3867 | auc/_mean: 0.8951 | auc/healthy: 0.9816 | auc/multiple_diseases: 0.6525, auc/rust: 0.9760, auc/scab: 0.9701\n",
      "Evaluating Results - Average Loss: 0.3397 | auc/_mean: 0.9130 | auc/healthy: 0.9874 | auc/multiple_diseases: 0.6779, auc/rust: 0.9934, auc/scab: 0.9931\n",
      "\n"
     ]
    },
    {
     "data": {
      "application/vnd.jupyter.widget-view+json": {
       "model_id": "ee600cbfc57e425e88a032ade838d181",
       "version_major": 2,
       "version_minor": 0
      },
      "text/plain": [
       "HBox(children=(FloatProgress(value=0.0, description='Train', max=153.0, style=ProgressStyle(description_width=…"
      ]
     },
     "metadata": {},
     "output_type": "display_data"
    },
    {
     "name": "stdout",
     "output_type": "stream",
     "text": [
      "\n",
      "Epoch: 13 | Time: 0m 20s\n",
      "Training Results - Average Loss: 0.3512 | auc/_mean: 0.8864 | auc/healthy: 0.9839 | auc/multiple_diseases: 0.6024, auc/rust: 0.9826, auc/scab: 0.9768\n",
      "Evaluating Results - Average Loss: 0.3489 | auc/_mean: 0.8857 | auc/healthy: 0.9917 | auc/multiple_diseases: 0.5653, auc/rust: 0.9971, auc/scab: 0.9887\n",
      "\n"
     ]
    },
    {
     "data": {
      "application/vnd.jupyter.widget-view+json": {
       "model_id": "bfa7f77c5bf34aba932e71b9a4653877",
       "version_major": 2,
       "version_minor": 0
      },
      "text/plain": [
       "HBox(children=(FloatProgress(value=0.0, description='Train', max=153.0, style=ProgressStyle(description_width=…"
      ]
     },
     "metadata": {},
     "output_type": "display_data"
    },
    {
     "name": "stdout",
     "output_type": "stream",
     "text": [
      "\n",
      "Epoch: 14 | Time: 0m 20s\n",
      "Training Results - Average Loss: 0.3057 | auc/_mean: 0.8947 | auc/healthy: 0.9871 | auc/multiple_diseases: 0.6226, auc/rust: 0.9844, auc/scab: 0.9845\n",
      "Evaluating Results - Average Loss: 0.2364 | auc/_mean: 0.8861 | auc/healthy: 0.9921 | auc/multiple_diseases: 0.5622, auc/rust: 0.9965, auc/scab: 0.9934\n",
      "\n"
     ]
    },
    {
     "data": {
      "application/vnd.jupyter.widget-view+json": {
       "model_id": "4658b2b205a74895a85c3afb35095468",
       "version_major": 2,
       "version_minor": 0
      },
      "text/plain": [
       "HBox(children=(FloatProgress(value=0.0, description='Train', max=153.0, style=ProgressStyle(description_width=…"
      ]
     },
     "metadata": {},
     "output_type": "display_data"
    },
    {
     "name": "stdout",
     "output_type": "stream",
     "text": [
      "\n",
      "Epoch: 15 | Time: 0m 20s\n",
      "Training Results - Average Loss: 0.3028 | auc/_mean: 0.8944 | auc/healthy: 0.9882 | auc/multiple_diseases: 0.6202, auc/rust: 0.9877, auc/scab: 0.9814\n",
      "Evaluating Results - Average Loss: 0.3631 | auc/_mean: 0.8913 | auc/healthy: 0.9943 | auc/multiple_diseases: 0.5908, auc/rust: 0.9962, auc/scab: 0.9840\n",
      "\n"
     ]
    },
    {
     "data": {
      "application/vnd.jupyter.widget-view+json": {
       "model_id": "a67440e55a4943ddae82a43ed23c0be9",
       "version_major": 2,
       "version_minor": 0
      },
      "text/plain": [
       "HBox(children=(FloatProgress(value=0.0, description='Train', max=153.0, style=ProgressStyle(description_width=…"
      ]
     },
     "metadata": {},
     "output_type": "display_data"
    },
    {
     "name": "stdout",
     "output_type": "stream",
     "text": [
      "\n",
      "Epoch: 16 | Time: 0m 20s\n",
      "Training Results - Average Loss: 0.3480 | auc/_mean: 0.8939 | auc/healthy: 0.9844 | auc/multiple_diseases: 0.6345, auc/rust: 0.9788, auc/scab: 0.9778\n",
      "Evaluating Results - Average Loss: 0.2690 | auc/_mean: 0.8998 | auc/healthy: 0.9943 | auc/multiple_diseases: 0.6200, auc/rust: 0.9979, auc/scab: 0.9869\n",
      "\n"
     ]
    },
    {
     "data": {
      "application/vnd.jupyter.widget-view+json": {
       "model_id": "1c353b77f5e145149757787086688391",
       "version_major": 2,
       "version_minor": 0
      },
      "text/plain": [
       "HBox(children=(FloatProgress(value=0.0, description='Train', max=153.0, style=ProgressStyle(description_width=…"
      ]
     },
     "metadata": {},
     "output_type": "display_data"
    },
    {
     "name": "stdout",
     "output_type": "stream",
     "text": [
      "\n",
      "Epoch: 17 | Time: 0m 20s\n",
      "Training Results - Average Loss: 0.2956 | auc/_mean: 0.8919 | auc/healthy: 0.9886 | auc/multiple_diseases: 0.6093, auc/rust: 0.9842, auc/scab: 0.9853\n",
      "Evaluating Results - Average Loss: 0.3021 | auc/_mean: 0.8633 | auc/healthy: 0.9914 | auc/multiple_diseases: 0.4733, auc/rust: 0.9980, auc/scab: 0.9903\n",
      "\n"
     ]
    },
    {
     "data": {
      "application/vnd.jupyter.widget-view+json": {
       "model_id": "bf5162831bf84f2b90537a83495a7e9c",
       "version_major": 2,
       "version_minor": 0
      },
      "text/plain": [
       "HBox(children=(FloatProgress(value=0.0, description='Train', max=153.0, style=ProgressStyle(description_width=…"
      ]
     },
     "metadata": {},
     "output_type": "display_data"
    },
    {
     "name": "stdout",
     "output_type": "stream",
     "text": [
      "\n",
      "Epoch: 18 | Time: 0m 20s\n",
      "Training Results - Average Loss: 0.3399 | auc/_mean: 0.8857 | auc/healthy: 0.9824 | auc/multiple_diseases: 0.5965, auc/rust: 0.9859, auc/scab: 0.9781\n",
      "Evaluating Results - Average Loss: 0.2377 | auc/_mean: 0.9058 | auc/healthy: 0.9934 | auc/multiple_diseases: 0.6398, auc/rust: 0.9968, auc/scab: 0.9933\n",
      "\n"
     ]
    },
    {
     "data": {
      "application/vnd.jupyter.widget-view+json": {
       "model_id": "4c39d9189756400393b2665f40c389cb",
       "version_major": 2,
       "version_minor": 0
      },
      "text/plain": [
       "HBox(children=(FloatProgress(value=0.0, description='Train', max=153.0, style=ProgressStyle(description_width=…"
      ]
     },
     "metadata": {},
     "output_type": "display_data"
    },
    {
     "name": "stdout",
     "output_type": "stream",
     "text": [
      "\n",
      "Epoch: 19 | Time: 0m 20s\n",
      "Training Results - Average Loss: 0.3048 | auc/_mean: 0.8969 | auc/healthy: 0.9888 | auc/multiple_diseases: 0.6342, auc/rust: 0.9848, auc/scab: 0.9800\n",
      "Evaluating Results - Average Loss: 0.2372 | auc/_mean: 0.8750 | auc/healthy: 0.9914 | auc/multiple_diseases: 0.5239, auc/rust: 0.9962, auc/scab: 0.9885\n",
      "\n"
     ]
    },
    {
     "data": {
      "application/vnd.jupyter.widget-view+json": {
       "model_id": "0e5b53b729d0462ca95981040e0f2b83",
       "version_major": 2,
       "version_minor": 0
      },
      "text/plain": [
       "HBox(children=(FloatProgress(value=0.0, description='Train', max=153.0, style=ProgressStyle(description_width=…"
      ]
     },
     "metadata": {},
     "output_type": "display_data"
    },
    {
     "name": "stdout",
     "output_type": "stream",
     "text": [
      "\n",
      "Epoch: 20 | Time: 0m 19s\n",
      "Training Results - Average Loss: 0.3316 | auc/_mean: 0.8929 | auc/healthy: 0.9854 | auc/multiple_diseases: 0.6267, auc/rust: 0.9835, auc/scab: 0.9760\n",
      "Evaluating Results - Average Loss: 0.3021 | auc/_mean: 0.8669 | auc/healthy: 0.9908 | auc/multiple_diseases: 0.4921, auc/rust: 0.9985, auc/scab: 0.9862\n",
      "\n"
     ]
    },
    {
     "data": {
      "application/vnd.jupyter.widget-view+json": {
       "model_id": "55f92b6f105242c6bf1b4743d1bb5797",
       "version_major": 2,
       "version_minor": 0
      },
      "text/plain": [
       "HBox(children=(FloatProgress(value=0.0, description='Train', max=153.0, style=ProgressStyle(description_width=…"
      ]
     },
     "metadata": {},
     "output_type": "display_data"
    },
    {
     "name": "stdout",
     "output_type": "stream",
     "text": [
      "\n",
      "Epoch: 21 | Time: 0m 20s\n",
      "Training Results - Average Loss: 0.3096 | auc/_mean: 0.9005 | auc/healthy: 0.9887 | auc/multiple_diseases: 0.6486, auc/rust: 0.9826, auc/scab: 0.9821\n",
      "Evaluating Results - Average Loss: 0.2451 | auc/_mean: 0.8808 | auc/healthy: 0.9919 | auc/multiple_diseases: 0.5441, auc/rust: 0.9984, auc/scab: 0.9888\n",
      "\n"
     ]
    },
    {
     "data": {
      "application/vnd.jupyter.widget-view+json": {
       "model_id": "fded6afd681a4f219384601d292e53ac",
       "version_major": 2,
       "version_minor": 0
      },
      "text/plain": [
       "HBox(children=(FloatProgress(value=0.0, description='Train', max=153.0, style=ProgressStyle(description_width=…"
      ]
     },
     "metadata": {},
     "output_type": "display_data"
    },
    {
     "name": "stdout",
     "output_type": "stream",
     "text": [
      "\n",
      "Epoch: 22 | Time: 0m 20s\n",
      "Training Results - Average Loss: 0.2739 | auc/_mean: 0.9030 | auc/healthy: 0.9891 | auc/multiple_diseases: 0.6491, auc/rust: 0.9872, auc/scab: 0.9866\n",
      "Evaluating Results - Average Loss: 0.3041 | auc/_mean: 0.8953 | auc/healthy: 0.9958 | auc/multiple_diseases: 0.5954, auc/rust: 0.9968, auc/scab: 0.9930\n",
      "\n"
     ]
    },
    {
     "data": {
      "application/vnd.jupyter.widget-view+json": {
       "model_id": "1b90e15d81c349849510d05d44658f48",
       "version_major": 2,
       "version_minor": 0
      },
      "text/plain": [
       "HBox(children=(FloatProgress(value=0.0, description='Train', max=153.0, style=ProgressStyle(description_width=…"
      ]
     },
     "metadata": {},
     "output_type": "display_data"
    },
    {
     "name": "stdout",
     "output_type": "stream",
     "text": [
      "\n",
      "Epoch: 23 | Time: 0m 21s\n",
      "Training Results - Average Loss: 0.2998 | auc/_mean: 0.9005 | auc/healthy: 0.9855 | auc/multiple_diseases: 0.6473, auc/rust: 0.9862, auc/scab: 0.9829\n",
      "Evaluating Results - Average Loss: 0.2512 | auc/_mean: 0.8749 | auc/healthy: 0.9962 | auc/multiple_diseases: 0.5106, auc/rust: 0.9988, auc/scab: 0.9939\n",
      "\n",
      "Epoch    23: reducing learning rate of group 0 to 9.0000e-04.\n"
     ]
    },
    {
     "data": {
      "application/vnd.jupyter.widget-view+json": {
       "model_id": "af746cd613c9470c82f70926e2158651",
       "version_major": 2,
       "version_minor": 0
      },
      "text/plain": [
       "HBox(children=(FloatProgress(value=0.0, description='Train', max=153.0, style=ProgressStyle(description_width=…"
      ]
     },
     "metadata": {},
     "output_type": "display_data"
    },
    {
     "name": "stdout",
     "output_type": "stream",
     "text": [
      "\n",
      "Epoch: 24 | Time: 0m 20s\n",
      "Training Results - Average Loss: 0.2116 | auc/_mean: 0.8980 | auc/healthy: 0.9957 | auc/multiple_diseases: 0.6109, auc/rust: 0.9931, auc/scab: 0.9923\n",
      "Evaluating Results - Average Loss: 0.1988 | auc/_mean: 0.8850 | auc/healthy: 0.9973 | auc/multiple_diseases: 0.5503, auc/rust: 0.9989, auc/scab: 0.9933\n",
      "\n"
     ]
    },
    {
     "data": {
      "application/vnd.jupyter.widget-view+json": {
       "model_id": "4b36843779eb49478dd311b1e5b27bae",
       "version_major": 2,
       "version_minor": 0
      },
      "text/plain": [
       "HBox(children=(FloatProgress(value=0.0, description='Train', max=153.0, style=ProgressStyle(description_width=…"
      ]
     },
     "metadata": {},
     "output_type": "display_data"
    },
    {
     "name": "stdout",
     "output_type": "stream",
     "text": [
      "\n",
      "Epoch: 25 | Time: 0m 20s\n",
      "Training Results - Average Loss: 0.2226 | auc/_mean: 0.9051 | auc/healthy: 0.9952 | auc/multiple_diseases: 0.6437, auc/rust: 0.9920, auc/scab: 0.9894\n",
      "Evaluating Results - Average Loss: 0.1829 | auc/_mean: 0.8917 | auc/healthy: 0.9964 | auc/multiple_diseases: 0.5788, auc/rust: 0.9988, auc/scab: 0.9928\n",
      "\n"
     ]
    },
    {
     "data": {
      "application/vnd.jupyter.widget-view+json": {
       "model_id": "1d483191552843839e00fafa9e65f6b4",
       "version_major": 2,
       "version_minor": 0
      },
      "text/plain": [
       "HBox(children=(FloatProgress(value=0.0, description='Train', max=153.0, style=ProgressStyle(description_width=…"
      ]
     },
     "metadata": {},
     "output_type": "display_data"
    },
    {
     "name": "stdout",
     "output_type": "stream",
     "text": [
      "\n",
      "Epoch: 26 | Time: 0m 20s\n",
      "Training Results - Average Loss: 0.1782 | auc/_mean: 0.9056 | auc/healthy: 0.9961 | auc/multiple_diseases: 0.6361, auc/rust: 0.9951, auc/scab: 0.9952\n",
      "Evaluating Results - Average Loss: 0.1856 | auc/_mean: 0.9027 | auc/healthy: 0.9979 | auc/multiple_diseases: 0.6205, auc/rust: 0.9992, auc/scab: 0.9930\n",
      "\n"
     ]
    },
    {
     "data": {
      "application/vnd.jupyter.widget-view+json": {
       "model_id": "53a2211cfa364723879d37b3fd3be1e3",
       "version_major": 2,
       "version_minor": 0
      },
      "text/plain": [
       "HBox(children=(FloatProgress(value=0.0, description='Train', max=153.0, style=ProgressStyle(description_width=…"
      ]
     },
     "metadata": {},
     "output_type": "display_data"
    },
    {
     "name": "stdout",
     "output_type": "stream",
     "text": [
      "\n",
      "Epoch: 27 | Time: 0m 20s\n",
      "Training Results - Average Loss: 0.1827 | auc/_mean: 0.9183 | auc/healthy: 0.9958 | auc/multiple_diseases: 0.6888, auc/rust: 0.9950, auc/scab: 0.9935\n",
      "Evaluating Results - Average Loss: 0.1884 | auc/_mean: 0.9097 | auc/healthy: 0.9978 | auc/multiple_diseases: 0.6501, auc/rust: 0.9978, auc/scab: 0.9929\n",
      "\n"
     ]
    },
    {
     "data": {
      "application/vnd.jupyter.widget-view+json": {
       "model_id": "78402c958f814824afb71549e92c4489",
       "version_major": 2,
       "version_minor": 0
      },
      "text/plain": [
       "HBox(children=(FloatProgress(value=0.0, description='Train', max=153.0, style=ProgressStyle(description_width=…"
      ]
     },
     "metadata": {},
     "output_type": "display_data"
    },
    {
     "name": "stdout",
     "output_type": "stream",
     "text": [
      "\n",
      "Epoch: 28 | Time: 0m 21s\n",
      "Training Results - Average Loss: 0.2073 | auc/_mean: 0.9061 | auc/healthy: 0.9947 | auc/multiple_diseases: 0.6442, auc/rust: 0.9942, auc/scab: 0.9913\n",
      "Evaluating Results - Average Loss: 0.2026 | auc/_mean: 0.9039 | auc/healthy: 0.9974 | auc/multiple_diseases: 0.6255, auc/rust: 0.9994, auc/scab: 0.9932\n",
      "\n"
     ]
    },
    {
     "data": {
      "application/vnd.jupyter.widget-view+json": {
       "model_id": "4efa23119f6a43dc8fdbf2e501339a97",
       "version_major": 2,
       "version_minor": 0
      },
      "text/plain": [
       "HBox(children=(FloatProgress(value=0.0, description='Train', max=153.0, style=ProgressStyle(description_width=…"
      ]
     },
     "metadata": {},
     "output_type": "display_data"
    },
    {
     "name": "stdout",
     "output_type": "stream",
     "text": [
      "\n",
      "Epoch: 29 | Time: 0m 21s\n",
      "Training Results - Average Loss: 0.1754 | auc/_mean: 0.9141 | auc/healthy: 0.9967 | auc/multiple_diseases: 0.6733, auc/rust: 0.9955, auc/scab: 0.9909\n",
      "Evaluating Results - Average Loss: 0.1456 | auc/_mean: 0.9159 | auc/healthy: 0.9984 | auc/multiple_diseases: 0.6710, auc/rust: 0.9994, auc/scab: 0.9946\n",
      "\n"
     ]
    },
    {
     "data": {
      "application/vnd.jupyter.widget-view+json": {
       "model_id": "59f4a2ef0a0449abbbe2f26d0d319b67",
       "version_major": 2,
       "version_minor": 0
      },
      "text/plain": [
       "HBox(children=(FloatProgress(value=0.0, description='Train', max=153.0, style=ProgressStyle(description_width=…"
      ]
     },
     "metadata": {},
     "output_type": "display_data"
    },
    {
     "name": "stdout",
     "output_type": "stream",
     "text": [
      "\n",
      "Epoch: 30 | Time: 0m 21s\n",
      "Training Results - Average Loss: 0.1492 | auc/_mean: 0.9302 | auc/healthy: 0.9981 | auc/multiple_diseases: 0.7307, auc/rust: 0.9964, auc/scab: 0.9957\n",
      "Evaluating Results - Average Loss: 0.1803 | auc/_mean: 0.9061 | auc/healthy: 0.9975 | auc/multiple_diseases: 0.6338, auc/rust: 0.9994, auc/scab: 0.9937\n",
      "\n"
     ]
    },
    {
     "data": {
      "application/vnd.jupyter.widget-view+json": {
       "model_id": "f37ab40f3e5b4386922cea753df114ca",
       "version_major": 2,
       "version_minor": 0
      },
      "text/plain": [
       "HBox(children=(FloatProgress(value=0.0, description='Train', max=153.0, style=ProgressStyle(description_width=…"
      ]
     },
     "metadata": {},
     "output_type": "display_data"
    },
    {
     "name": "stdout",
     "output_type": "stream",
     "text": [
      "\n",
      "Epoch: 31 | Time: 0m 20s\n",
      "Training Results - Average Loss: 0.1663 | auc/_mean: 0.9107 | auc/healthy: 0.9971 | auc/multiple_diseases: 0.6555, auc/rust: 0.9940, auc/scab: 0.9961\n",
      "Evaluating Results - Average Loss: 0.1706 | auc/_mean: 0.8946 | auc/healthy: 0.9973 | auc/multiple_diseases: 0.5871, auc/rust: 0.9991, auc/scab: 0.9951\n",
      "\n"
     ]
    },
    {
     "data": {
      "application/vnd.jupyter.widget-view+json": {
       "model_id": "9a2441a931f54024b0fd3fde6857cbd7",
       "version_major": 2,
       "version_minor": 0
      },
      "text/plain": [
       "HBox(children=(FloatProgress(value=0.0, description='Train', max=153.0, style=ProgressStyle(description_width=…"
      ]
     },
     "metadata": {},
     "output_type": "display_data"
    },
    {
     "name": "stdout",
     "output_type": "stream",
     "text": [
      "\n",
      "Epoch: 32 | Time: 0m 21s\n",
      "Training Results - Average Loss: 0.1659 | auc/_mean: 0.9222 | auc/healthy: 0.9979 | auc/multiple_diseases: 0.7029, auc/rust: 0.9958, auc/scab: 0.9922\n",
      "Evaluating Results - Average Loss: 0.1534 | auc/_mean: 0.8995 | auc/healthy: 0.9979 | auc/multiple_diseases: 0.6060, auc/rust: 0.9986, auc/scab: 0.9954\n",
      "\n"
     ]
    },
    {
     "data": {
      "application/vnd.jupyter.widget-view+json": {
       "model_id": "59ff8c2c1b2944dfa58c0b4508b53505",
       "version_major": 2,
       "version_minor": 0
      },
      "text/plain": [
       "HBox(children=(FloatProgress(value=0.0, description='Train', max=153.0, style=ProgressStyle(description_width=…"
      ]
     },
     "metadata": {},
     "output_type": "display_data"
    },
    {
     "name": "stdout",
     "output_type": "stream",
     "text": [
      "\n",
      "Epoch: 33 | Time: 0m 21s\n",
      "Training Results - Average Loss: 0.1752 | auc/_mean: 0.9135 | auc/healthy: 0.9956 | auc/multiple_diseases: 0.6696, auc/rust: 0.9945, auc/scab: 0.9945\n",
      "Evaluating Results - Average Loss: 0.1837 | auc/_mean: 0.8960 | auc/healthy: 0.9980 | auc/multiple_diseases: 0.5934, auc/rust: 0.9990, auc/scab: 0.9936\n",
      "\n"
     ]
    },
    {
     "data": {
      "application/vnd.jupyter.widget-view+json": {
       "model_id": "b02df49eaf954a80a71e2a7e0c509a40",
       "version_major": 2,
       "version_minor": 0
      },
      "text/plain": [
       "HBox(children=(FloatProgress(value=0.0, description='Train', max=153.0, style=ProgressStyle(description_width=…"
      ]
     },
     "metadata": {},
     "output_type": "display_data"
    },
    {
     "name": "stdout",
     "output_type": "stream",
     "text": [
      "\n",
      "Epoch: 34 | Time: 0m 20s\n",
      "Training Results - Average Loss: 0.1803 | auc/_mean: 0.9200 | auc/healthy: 0.9950 | auc/multiple_diseases: 0.6960, auc/rust: 0.9934, auc/scab: 0.9957\n",
      "Evaluating Results - Average Loss: 0.2220 | auc/_mean: 0.9040 | auc/healthy: 0.9969 | auc/multiple_diseases: 0.6263, auc/rust: 0.9978, auc/scab: 0.9951\n",
      "\n"
     ]
    },
    {
     "data": {
      "application/vnd.jupyter.widget-view+json": {
       "model_id": "066330ad429e427eb7e098dfa04a8f49",
       "version_major": 2,
       "version_minor": 0
      },
      "text/plain": [
       "HBox(children=(FloatProgress(value=0.0, description='Train', max=153.0, style=ProgressStyle(description_width=…"
      ]
     },
     "metadata": {},
     "output_type": "display_data"
    },
    {
     "name": "stdout",
     "output_type": "stream",
     "text": [
      "\n",
      "Epoch: 35 | Time: 0m 19s\n",
      "Training Results - Average Loss: 0.1645 | auc/_mean: 0.9254 | auc/healthy: 0.9966 | auc/multiple_diseases: 0.7154, auc/rust: 0.9963, auc/scab: 0.9932\n",
      "Evaluating Results - Average Loss: 0.1628 | auc/_mean: 0.8944 | auc/healthy: 0.9976 | auc/multiple_diseases: 0.5883, auc/rust: 0.9984, auc/scab: 0.9933\n",
      "\n"
     ]
    },
    {
     "data": {
      "application/vnd.jupyter.widget-view+json": {
       "model_id": "dd6965d3886b439889694743f61d6c5e",
       "version_major": 2,
       "version_minor": 0
      },
      "text/plain": [
       "HBox(children=(FloatProgress(value=0.0, description='Train', max=153.0, style=ProgressStyle(description_width=…"
      ]
     },
     "metadata": {},
     "output_type": "display_data"
    },
    {
     "name": "stdout",
     "output_type": "stream",
     "text": [
      "\n",
      "Epoch: 36 | Time: 0m 20s\n",
      "Training Results - Average Loss: 0.1418 | auc/_mean: 0.9239 | auc/healthy: 0.9985 | auc/multiple_diseases: 0.7061, auc/rust: 0.9962, auc/scab: 0.9948\n",
      "Evaluating Results - Average Loss: 0.1717 | auc/_mean: 0.9147 | auc/healthy: 0.9975 | auc/multiple_diseases: 0.6671, auc/rust: 0.9991, auc/scab: 0.9952\n",
      "\n"
     ]
    },
    {
     "data": {
      "application/vnd.jupyter.widget-view+json": {
       "model_id": "75c5e90fa8e049a2b260857311dd94e3",
       "version_major": 2,
       "version_minor": 0
      },
      "text/plain": [
       "HBox(children=(FloatProgress(value=0.0, description='Train', max=153.0, style=ProgressStyle(description_width=…"
      ]
     },
     "metadata": {},
     "output_type": "display_data"
    },
    {
     "name": "stdout",
     "output_type": "stream",
     "text": [
      "\n",
      "Epoch: 37 | Time: 0m 20s\n",
      "Training Results - Average Loss: 0.1520 | auc/_mean: 0.9261 | auc/healthy: 0.9970 | auc/multiple_diseases: 0.7165, auc/rust: 0.9963, auc/scab: 0.9947\n",
      "Evaluating Results - Average Loss: 0.1735 | auc/_mean: 0.9045 | auc/healthy: 0.9977 | auc/multiple_diseases: 0.6290, auc/rust: 0.9988, auc/scab: 0.9927\n",
      "\n"
     ]
    },
    {
     "data": {
      "application/vnd.jupyter.widget-view+json": {
       "model_id": "800a85e1a0b6494182d989d3d0641ba4",
       "version_major": 2,
       "version_minor": 0
      },
      "text/plain": [
       "HBox(children=(FloatProgress(value=0.0, description='Train', max=153.0, style=ProgressStyle(description_width=…"
      ]
     },
     "metadata": {},
     "output_type": "display_data"
    },
    {
     "name": "stdout",
     "output_type": "stream",
     "text": [
      "\n",
      "Epoch: 38 | Time: 0m 20s\n",
      "Training Results - Average Loss: 0.1430 | auc/_mean: 0.9334 | auc/healthy: 0.9984 | auc/multiple_diseases: 0.7449, auc/rust: 0.9952, auc/scab: 0.9952\n",
      "Evaluating Results - Average Loss: 0.1707 | auc/_mean: 0.8860 | auc/healthy: 0.9973 | auc/multiple_diseases: 0.5522, auc/rust: 0.9985, auc/scab: 0.9958\n",
      "\n"
     ]
    },
    {
     "data": {
      "application/vnd.jupyter.widget-view+json": {
       "model_id": "fb457866934a4f71a0e9e859e4d88540",
       "version_major": 2,
       "version_minor": 0
      },
      "text/plain": [
       "HBox(children=(FloatProgress(value=0.0, description='Train', max=153.0, style=ProgressStyle(description_width=…"
      ]
     },
     "metadata": {},
     "output_type": "display_data"
    },
    {
     "name": "stdout",
     "output_type": "stream",
     "text": [
      "\n",
      "Epoch: 39 | Time: 0m 20s\n",
      "Training Results - Average Loss: 0.1719 | auc/_mean: 0.9237 | auc/healthy: 0.9969 | auc/multiple_diseases: 0.7118, auc/rust: 0.9939, auc/scab: 0.9921\n",
      "Evaluating Results - Average Loss: 0.2142 | auc/_mean: 0.9221 | auc/healthy: 0.9955 | auc/multiple_diseases: 0.6985, auc/rust: 0.9990, auc/scab: 0.9952\n",
      "\n"
     ]
    },
    {
     "data": {
      "application/vnd.jupyter.widget-view+json": {
       "model_id": "51d8fb7988ce4c2c9fd3fce558cbf85d",
       "version_major": 2,
       "version_minor": 0
      },
      "text/plain": [
       "HBox(children=(FloatProgress(value=0.0, description='Train', max=153.0, style=ProgressStyle(description_width=…"
      ]
     },
     "metadata": {},
     "output_type": "display_data"
    },
    {
     "name": "stdout",
     "output_type": "stream",
     "text": [
      "\n",
      "Epoch: 40 | Time: 0m 20s\n",
      "Training Results - Average Loss: 0.1643 | auc/_mean: 0.9263 | auc/healthy: 0.9966 | auc/multiple_diseases: 0.7168, auc/rust: 0.9955, auc/scab: 0.9963\n",
      "Evaluating Results - Average Loss: 0.1998 | auc/_mean: 0.9031 | auc/healthy: 0.9969 | auc/multiple_diseases: 0.6230, auc/rust: 0.9986, auc/scab: 0.9938\n",
      "\n",
      "EarlyStopping\n"
     ]
    }
   ],
   "source": [
    "trainer = Trainer(model, train_dataloader, valid_dataloader, criterion, optimizer, scheduler, device, config)\n",
    "trainer.run();"
   ]
  },
  {
   "cell_type": "code",
   "execution_count": null,
   "metadata": {},
   "outputs": [],
   "source": []
  },
  {
   "cell_type": "code",
   "execution_count": null,
   "metadata": {},
   "outputs": [],
   "source": []
  },
  {
   "cell_type": "code",
   "execution_count": 15,
   "metadata": {},
   "outputs": [],
   "source": [
    "\n",
    "class PlantDatasetTest(Dataset):\n",
    "    \n",
    "    def __init__(self, df, config, transforms=None):\n",
    "    \n",
    "        self.df = df\n",
    "        self.images_dir = config.root_images\n",
    "        self.class_names = config.class_names\n",
    "        self.transforms=transforms\n",
    "        \n",
    "    def __len__(self):\n",
    "        return self.df.shape[0]\n",
    "    \n",
    "    def __getitem__(self, idx):\n",
    "        image_src = self.images_dir + self.df.iloc[idx]['image_id'] + '.jpg'\n",
    "        image = cv2.imread(image_src, cv2.IMREAD_COLOR)\n",
    "        image = cv2.cvtColor(image, cv2.COLOR_BGR2RGB)\n",
    "        \n",
    "        if self.transforms:\n",
    "            transformed = self.transforms(image=image)\n",
    "            image = transformed['image']\n",
    "\n",
    "        return image, idx\n",
    "\n",
    "test_df = pd.read_csv(config.root + 'test.csv')\n",
    "test_dataset = PlantDatasetTest(test_df, config, train_transforms)\n",
    "test_dataloader = DataLoader(test_dataset, batch_size=config.batch_size, shuffle=False, num_workers=config.num_workers)"
   ]
  },
  {
   "cell_type": "code",
   "execution_count": 16,
   "metadata": {},
   "outputs": [],
   "source": [
    "def predict(model, dataloader: DataLoader, device, dataset: Dataset, tta_count: int, config: ConfigExperiment):\n",
    "    n_samples = len(dataset)\n",
    "    y_probas_tta = np.zeros((n_samples, config.num_classes, tta_count), dtype=np.float32)\n",
    "    \n",
    "    model.eval()\n",
    "    model.to(device)\n",
    "    with torch.no_grad():\n",
    "        for i_epoch in tqdm(range(tta_count), desc='TTA', total=tta_count, position=1, leave=True):\n",
    "            for i, (images, idx) in enumerate(dataloader):\n",
    "                images = images.to(device)\n",
    "                outputs = model(images)\n",
    "                y_pred = F.softmax(outputs, dim=1)\n",
    "                \n",
    "                tta_index = i_epoch - 1\n",
    "                start_index = (i % len(dataloader)) * config.batch_size\n",
    "                end_index = min(start_index + config.batch_size, n_samples)\n",
    "                batch_y_probas = y_pred.detach().cpu().numpy()                \n",
    "                y_probas_tta[start_index:end_index, :, tta_index] = batch_y_probas\n",
    "\n",
    "    return y_probas_tta"
   ]
  },
  {
   "cell_type": "code",
   "execution_count": 17,
   "metadata": {},
   "outputs": [
    {
     "name": "stdout",
     "output_type": "stream",
     "text": [
      "Loaded pretrained weights for efficientnet-b0\n"
     ]
    },
    {
     "data": {
      "text/plain": [
       "<All keys matched successfully>"
      ]
     },
     "execution_count": 17,
     "metadata": {},
     "output_type": "execute_result"
    }
   ],
   "source": [
    "model = get_model(config.model_name, config.num_classes)\n",
    "model.load_state_dict(torch.load(f\"{config.save_dirname}/best_model_epoch=39_auc_mean=0.9220583291148317.pth\"))"
   ]
  },
  {
   "cell_type": "code",
   "execution_count": 18,
   "metadata": {},
   "outputs": [
    {
     "data": {
      "application/vnd.jupyter.widget-view+json": {
       "model_id": "eec2d9d887c746dfb0b736e16ad14940",
       "version_major": 2,
       "version_minor": 0
      },
      "text/plain": [
       "HBox(children=(FloatProgress(value=0.0, description='TTA', max=5.0, style=ProgressStyle(description_width='ini…"
      ]
     },
     "metadata": {},
     "output_type": "display_data"
    },
    {
     "name": "stdout",
     "output_type": "stream",
     "text": [
      "\n"
     ]
    }
   ],
   "source": [
    "result = predict(model, test_dataloader, device, test_dataset, tta_count=5, config=config)"
   ]
  },
  {
   "cell_type": "code",
   "execution_count": 19,
   "metadata": {},
   "outputs": [],
   "source": [
    "y_probas = np.mean(result, axis=-1)"
   ]
  },
  {
   "cell_type": "code",
   "execution_count": 20,
   "metadata": {},
   "outputs": [
    {
     "data": {
      "text/plain": [
       "array([[9.9273829e-04, 2.2985693e-02, 9.7583580e-01, 1.8573811e-04],\n",
       "       [3.9310761e-02, 1.7064143e-02, 9.4097364e-01, 2.6514246e-03],\n",
       "       [9.1703532e-06, 1.3889124e-03, 5.8242813e-06, 9.9859619e-01],\n",
       "       [9.9602592e-01, 6.7340222e-04, 7.6660613e-04, 2.5340687e-03],\n",
       "       [9.4989018e-06, 2.8524425e-02, 9.7144318e-01, 2.2904725e-05],\n",
       "       [4.9693507e-01, 1.8131445e-01, 1.2418524e-01, 1.9756520e-01],\n",
       "       [9.9773788e-01, 7.0325274e-04, 6.9397263e-04, 8.6491025e-04],\n",
       "       [3.9168470e-05, 5.9642859e-02, 9.4551471e-04, 9.3937242e-01],\n",
       "       [3.3926888e-05, 4.5833280e-03, 8.5793276e-05, 9.9529696e-01],\n",
       "       [1.2231877e-04, 1.2349771e-02, 9.8747653e-01, 5.1319435e-05]],\n",
       "      dtype=float32)"
      ]
     },
     "execution_count": 20,
     "metadata": {},
     "output_type": "execute_result"
    }
   ],
   "source": [
    "y_probas[:10]"
   ]
  },
  {
   "cell_type": "code",
   "execution_count": 21,
   "metadata": {},
   "outputs": [
    {
     "data": {
      "text/html": [
       "<div>\n",
       "<style scoped>\n",
       "    .dataframe tbody tr th:only-of-type {\n",
       "        vertical-align: middle;\n",
       "    }\n",
       "\n",
       "    .dataframe tbody tr th {\n",
       "        vertical-align: top;\n",
       "    }\n",
       "\n",
       "    .dataframe thead th {\n",
       "        text-align: right;\n",
       "    }\n",
       "</style>\n",
       "<table border=\"1\" class=\"dataframe\">\n",
       "  <thead>\n",
       "    <tr style=\"text-align: right;\">\n",
       "      <th></th>\n",
       "      <th>image_id</th>\n",
       "      <th>healthy</th>\n",
       "      <th>multiple_diseases</th>\n",
       "      <th>rust</th>\n",
       "      <th>scab</th>\n",
       "    </tr>\n",
       "  </thead>\n",
       "  <tbody>\n",
       "    <tr>\n",
       "      <th>0</th>\n",
       "      <td>Test_0</td>\n",
       "      <td>0.000993</td>\n",
       "      <td>0.022986</td>\n",
       "      <td>0.975836</td>\n",
       "      <td>0.000186</td>\n",
       "    </tr>\n",
       "    <tr>\n",
       "      <th>1</th>\n",
       "      <td>Test_1</td>\n",
       "      <td>0.039311</td>\n",
       "      <td>0.017064</td>\n",
       "      <td>0.940974</td>\n",
       "      <td>0.002651</td>\n",
       "    </tr>\n",
       "    <tr>\n",
       "      <th>2</th>\n",
       "      <td>Test_2</td>\n",
       "      <td>0.000009</td>\n",
       "      <td>0.001389</td>\n",
       "      <td>0.000006</td>\n",
       "      <td>0.998596</td>\n",
       "    </tr>\n",
       "    <tr>\n",
       "      <th>3</th>\n",
       "      <td>Test_3</td>\n",
       "      <td>0.996026</td>\n",
       "      <td>0.000673</td>\n",
       "      <td>0.000767</td>\n",
       "      <td>0.002534</td>\n",
       "    </tr>\n",
       "    <tr>\n",
       "      <th>4</th>\n",
       "      <td>Test_4</td>\n",
       "      <td>0.000009</td>\n",
       "      <td>0.028524</td>\n",
       "      <td>0.971443</td>\n",
       "      <td>0.000023</td>\n",
       "    </tr>\n",
       "  </tbody>\n",
       "</table>\n",
       "</div>"
      ],
      "text/plain": [
       "  image_id   healthy  multiple_diseases      rust      scab\n",
       "0   Test_0  0.000993           0.022986  0.975836  0.000186\n",
       "1   Test_1  0.039311           0.017064  0.940974  0.002651\n",
       "2   Test_2  0.000009           0.001389  0.000006  0.998596\n",
       "3   Test_3  0.996026           0.000673  0.000767  0.002534\n",
       "4   Test_4  0.000009           0.028524  0.971443  0.000023"
      ]
     },
     "execution_count": 21,
     "metadata": {},
     "output_type": "execute_result"
    }
   ],
   "source": [
    "test_df = pd.read_csv(config.root + 'test.csv')\n",
    "test_df[\"healthy\"] = 0\n",
    "test_df[\"multiple_diseases\"] = 0\n",
    "test_df[\"rust\"] = 0\n",
    "test_df[\"scab\"] = 0\n",
    "test_df[['healthy', 'multiple_diseases', 'rust', 'scab']] = y_probas\n",
    "test_df.to_csv(config.submission_file, index=False)\n",
    "test_df.head()"
   ]
  },
  {
   "cell_type": "code",
   "execution_count": 22,
   "metadata": {},
   "outputs": [
    {
     "data": {
      "text/plain": [
       "'01_starter_code.csv'"
      ]
     },
     "execution_count": 22,
     "metadata": {},
     "output_type": "execute_result"
    }
   ],
   "source": [
    "config.submission_file"
   ]
  },
  {
   "cell_type": "code",
   "execution_count": null,
   "metadata": {},
   "outputs": [],
   "source": []
  },
  {
   "cell_type": "code",
   "execution_count": null,
   "metadata": {},
   "outputs": [],
   "source": []
  },
  {
   "cell_type": "code",
   "execution_count": null,
   "metadata": {},
   "outputs": [],
   "source": []
  },
  {
   "cell_type": "code",
   "execution_count": null,
   "metadata": {},
   "outputs": [],
   "source": []
  },
  {
   "cell_type": "code",
   "execution_count": null,
   "metadata": {},
   "outputs": [],
   "source": []
  },
  {
   "cell_type": "code",
   "execution_count": null,
   "metadata": {},
   "outputs": [],
   "source": []
  },
  {
   "cell_type": "code",
   "execution_count": null,
   "metadata": {},
   "outputs": [],
   "source": []
  },
  {
   "cell_type": "code",
   "execution_count": null,
   "metadata": {},
   "outputs": [],
   "source": []
  },
  {
   "cell_type": "code",
   "execution_count": null,
   "metadata": {},
   "outputs": [],
   "source": []
  },
  {
   "cell_type": "code",
   "execution_count": null,
   "metadata": {},
   "outputs": [],
   "source": []
  },
  {
   "cell_type": "code",
   "execution_count": null,
   "metadata": {},
   "outputs": [],
   "source": []
  },
  {
   "cell_type": "code",
   "execution_count": null,
   "metadata": {},
   "outputs": [],
   "source": []
  },
  {
   "cell_type": "code",
   "execution_count": null,
   "metadata": {},
   "outputs": [],
   "source": []
  },
  {
   "cell_type": "code",
   "execution_count": null,
   "metadata": {},
   "outputs": [],
   "source": []
  }
 ],
 "metadata": {
  "kernelspec": {
   "display_name": "Python 3",
   "language": "python",
   "name": "python3"
  },
  "language_info": {
   "codemirror_mode": {
    "name": "ipython",
    "version": 3
   },
   "file_extension": ".py",
   "mimetype": "text/x-python",
   "name": "python",
   "nbconvert_exporter": "python",
   "pygments_lexer": "ipython3",
   "version": "3.6.9"
  }
 },
 "nbformat": 4,
 "nbformat_minor": 4
}
