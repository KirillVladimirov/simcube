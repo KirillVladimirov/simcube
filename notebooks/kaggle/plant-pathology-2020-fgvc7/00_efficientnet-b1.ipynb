{
 "cells": [
  {
   "cell_type": "code",
   "execution_count": 1,
   "metadata": {},
   "outputs": [],
   "source": [
    "import warnings  \n",
    "\n",
    "import os\n",
    "import time\n",
    "import random\n",
    "import numpy as np\n",
    "import pandas as pd\n",
    "import matplotlib.pyplot as plt\n",
    "\n",
    "import albumentations as A\n",
    "from albumentations.pytorch import ToTensorV2\n",
    "import cv2\n",
    "\n",
    "import torch\n",
    "import torch.nn as nn\n",
    "import torch.nn.functional as F\n",
    "import torchvision\n",
    "import torch.optim as optim\n",
    "from torch.utils.data import Dataset, DataLoader\n",
    "from torch.utils.data.dataset import Subset\n",
    "from torch.nn.functional import softmax\n",
    "\n",
    "from efficientnet_pytorch import EfficientNet\n",
    "\n",
    "from typing import Callable, List, Tuple, Dict\n",
    "from pathlib import Path\n",
    "\n",
    "from transformers import AdamW\n",
    "from transformers import get_cosine_schedule_with_warmup\n",
    "\n",
    "from sklearn.metrics import roc_auc_score, accuracy_score\n",
    "from sklearn.model_selection import train_test_split\n",
    "from collections import defaultdict, OrderedDict\n",
    "from tqdm.notebook import tqdm\n",
    "from torchsummary import summary\n",
    "\n",
    "import matplotlib\n",
    "matplotlib.rcParams.update({'figure.figsize': (16, 12), 'font.size': 14})\n",
    "import matplotlib.pyplot as plt\n",
    "%matplotlib inline\n",
    "from IPython.display import clear_output"
   ]
  },
  {
   "cell_type": "code",
   "execution_count": 2,
   "metadata": {},
   "outputs": [],
   "source": [
    "warnings.simplefilter(\"ignore\", UserWarning)\n",
    "warnings.simplefilter(\"ignore\", DeprecationWarning)\n",
    "warnings.filterwarnings('ignore')\n",
    "os.environ[\"PYTHONWARNINGS\"] = \"ignore\""
   ]
  },
  {
   "cell_type": "code",
   "execution_count": 3,
   "metadata": {},
   "outputs": [
    {
     "name": "stdout",
     "output_type": "stream",
     "text": [
      "Directory  00_efficientnet-b1  Created \n"
     ]
    }
   ],
   "source": [
    "EXPERIMENT_NAME = \"00_efficientnet-b1\"\n",
    "\n",
    "class ConfigExperiment:\n",
    "    logdir = f\"./logs/{EXPERIMENT_NAME}\"\n",
    "    save_dirname = EXPERIMENT_NAME\n",
    "    submission_file = f\"{EXPERIMENT_NAME}.csv\"\n",
    "    seed = 42\n",
    "    batch_size = 8\n",
    "    model_name = 'efficientnet-b1'\n",
    "    size = 512\n",
    "    num_workers = 20\n",
    "    root_images = \"../../../data/raw/plant-pathology-2020-fgvc7/images/\"\n",
    "    root = \"../../../data/raw/plant-pathology-2020-fgvc7/\"\n",
    "    num_classes = 4\n",
    "    patience = 10\n",
    "    early_stopping_delta = 1e-4\n",
    "    num_epochs = 200\n",
    "    lr = 0.003\n",
    "    class_names = [\"healthy\", \"multiple_diseases\", \"rust\", \"scab\"]\n",
    "    is_fp16_used = False\n",
    "    \n",
    "    \n",
    "def set_seed(seed):\n",
    "    torch.manual_seed(seed)\n",
    "    torch.cuda.manual_seed_all(seed)\n",
    "    torch.backends.cudnn.deterministic = True\n",
    "    torch.backends.cudnn.benchmark = False\n",
    "    np.random.seed(seed)\n",
    "    random.seed(seed)\n",
    "    os.environ['PYTHONHASHSEED'] = str(seed)\n",
    "    \n",
    "    \n",
    "config = ConfigExperiment()\n",
    "set_seed(config.seed)\n",
    "config.size = EfficientNet.get_image_size(config.model_name)\n",
    "os.environ[\"CUDA_VISIBLE_DEVICES\"] = \"0\"\n",
    "device = \"cuda\" if torch.cuda.is_available() else \"cpu\"\n",
    "\n",
    "try:\n",
    "    # Create target Directory\n",
    "    os.mkdir(config.save_dirname)\n",
    "    print(\"Directory \" , config.save_dirname ,  \" Created \") \n",
    "except FileExistsError:\n",
    "    print(\"Directory \" , config.save_dirname ,  \" already exists\")"
   ]
  },
  {
   "cell_type": "code",
   "execution_count": 4,
   "metadata": {},
   "outputs": [],
   "source": [
    "class PlantDataset(Dataset):\n",
    "    \n",
    "    def __init__(self, df, config, transforms=None):\n",
    "    \n",
    "        self.df = df\n",
    "        self.images_dir = config.root_images\n",
    "        self.class_names = config.class_names\n",
    "        self.transforms=transforms\n",
    "        \n",
    "    def __len__(self):\n",
    "        return self.df.shape[0]\n",
    "    \n",
    "    def __getitem__(self, idx):\n",
    "        image_src = self.images_dir + self.df.iloc[idx]['image_id'] + '.jpg'\n",
    "        image = cv2.imread(image_src, cv2.IMREAD_COLOR)\n",
    "        image = cv2.cvtColor(image, cv2.COLOR_BGR2RGB)\n",
    "        labels = self.df.iloc[idx][self.class_names].values.astype(np.int8)\n",
    "        label = torch.argmax(torch.from_numpy(labels))\n",
    "        \n",
    "        if self.transforms:\n",
    "            transformed = self.transforms(image=image)\n",
    "            image = transformed['image']\n",
    "\n",
    "        return image, label"
   ]
  },
  {
   "cell_type": "code",
   "execution_count": 5,
   "metadata": {},
   "outputs": [],
   "source": [
    "def pre_transforms(image_size=224):\n",
    "    # Convert the image to a square of size image_size x image_size\n",
    "    # (keeping aspect ratio)\n",
    "    result = [\n",
    "        A.LongestMaxSize(max_size=image_size),\n",
    "        A.PadIfNeeded(image_size, image_size, border_mode=0)\n",
    "    ]\n",
    "    \n",
    "    return result\n",
    "\n",
    "def hard_transforms():\n",
    "    result = [\n",
    "        # Random shifts, stretches and turns with a 50% probability\n",
    "#         A.RandomResizedCrop(height=config.size, width=config.size, p=1.0),\n",
    "        A.Flip(),\n",
    "        A.ShiftScaleRotate(rotate_limit=1.0, p=0.8),\n",
    "\n",
    "        # Pixels\n",
    "        A.OneOf([\n",
    "            A.IAAEmboss(p=1.0),\n",
    "            A.IAASharpen(p=1.0),\n",
    "            A.Blur(p=1.0),\n",
    "        ], p=0.5),\n",
    "\n",
    "        # Affine\n",
    "        A.OneOf([\n",
    "            A.ElasticTransform(p=1.0),\n",
    "            A.IAAPiecewiseAffine(p=1.0)\n",
    "        ], p=0.5),\n",
    "    ]\n",
    "    \n",
    "    return result\n",
    "\n",
    "def post_transforms():\n",
    "    # we use ImageNet image normalization\n",
    "    # and convert it to torch.Tensor\n",
    "    return [A.Normalize(p=1.0), ToTensorV2(p=1.0),]\n",
    "\n",
    "def compose(transforms_to_compose):\n",
    "    # combine all augmentations into one single pipeline\n",
    "    result = A.Compose([item for sublist in transforms_to_compose for item in sublist])\n",
    "    return result"
   ]
  },
  {
   "cell_type": "code",
   "execution_count": 6,
   "metadata": {},
   "outputs": [],
   "source": [
    "train_df = pd.read_csv(config.root + 'train.csv')\n",
    "train, valid = train_test_split(train_df, test_size=0.33, random_state=config.seed, shuffle=True, stratify=train_df[config.class_names])\n",
    "\n",
    "train_transforms = compose([\n",
    "    pre_transforms(config.size),\n",
    "#     hard_transforms(), \n",
    "    post_transforms()\n",
    "])\n",
    "valid_transforms = compose([\n",
    "    pre_transforms(config.size), \n",
    "    post_transforms()\n",
    "])\n",
    "\n",
    "show_transforms = compose([\n",
    "    pre_transforms(config.size),\n",
    "#     hard_transforms()\n",
    "])\n",
    "\n",
    "train_dataset = PlantDataset(train, config, train_transforms)\n",
    "valid_dataset = PlantDataset(valid, config, valid_transforms)\n",
    "\n",
    "train_dataloader = DataLoader(train_dataset, batch_size=config.batch_size, shuffle=True, num_workers=config.num_workers)\n",
    "valid_dataloader = DataLoader(valid_dataset, batch_size=config.batch_size, shuffle=False, num_workers=config.num_workers)"
   ]
  },
  {
   "cell_type": "code",
   "execution_count": 7,
   "metadata": {},
   "outputs": [
    {
     "name": "stdout",
     "output_type": "stream",
     "text": [
      "Loaded pretrained weights for efficientnet-b1\n"
     ]
    }
   ],
   "source": [
    "def get_model(model_name: str, num_classes: int, pretrained: str = \"imagenet\") -> EfficientNet:\n",
    "    model = EfficientNet.from_pretrained(model_name)\n",
    "    for param in model.parameters():\n",
    "        param.requires_grad = False\n",
    "    num_ftrs = model._fc.in_features\n",
    "    model._fc = nn.Sequential(nn.Linear(num_ftrs, num_classes, bias = True))\n",
    "    return model\n",
    "\n",
    "model = get_model(config.model_name, config.num_classes)"
   ]
  },
  {
   "cell_type": "code",
   "execution_count": 8,
   "metadata": {},
   "outputs": [],
   "source": [
    "criterion = nn.CrossEntropyLoss()\n",
    "optimizer = torch.optim.Adam(model.parameters(), lr=config.lr)\n",
    "scheduler = torch.optim.lr_scheduler.ReduceLROnPlateau(optimizer, patience=3, verbose=True, mode=\"max\", factor=0.3)\n",
    "# scheduler = torch.optim.lr_scheduler.ExponentialLR(optimizer, gamma=0.8)\n",
    "\n",
    "# end_lr = 0.1\n",
    "# start_lr = 1e-7\n",
    "# lr_lambda = lambda x: math.exp(x * math.log(end_lr / start_lr) / (lr_find_epochs * len(train_dataloader)))\n",
    "# scheduler = torch.optim.lr_scheduler.LambdaLR(optimizer, lr_lambda)\n",
    "\n",
    "# scheduler_1 = LinearCyclicalScheduler(optimizer, \"lr\", start_value=0.01, end_value=0.005, cycle_size=60)\n",
    "# scheduler_2 = CosineAnnealingScheduler(optimizer, \"lr\", start_value=0.05, end_value=0.001, cycle_size=60)\n",
    "# combined_scheduler = ConcatScheduler(schedulers=[scheduler_1, scheduler_2], durations=[30, ])"
   ]
  },
  {
   "cell_type": "code",
   "execution_count": 9,
   "metadata": {},
   "outputs": [],
   "source": [
    "class Trainer:\n",
    "    def __init__(self, model, train_dataloader: DataLoader, valid_dataloader: DataLoader, criterion, optimizer, scheduler, device, config: ConfigExperiment):\n",
    "        self.model = model\n",
    "        self.train_dataloader = train_dataloader\n",
    "        self.valid_dataloader = valid_dataloader\n",
    "        self.criterion = criterion\n",
    "        self.optimizer = optimizer\n",
    "        self.scheduler = scheduler\n",
    "        self.device = device\n",
    "        self.config = config\n",
    "        self.train_metrics = {\n",
    "            'avg_loss': [],\n",
    "            'auc/_mean': [],\n",
    "            'auc/healthy': [],\n",
    "            'auc/multiple_diseases': [],\n",
    "            'auc/rust': [],\n",
    "            'auc/scab': [],\n",
    "        }\n",
    "        self.valid_metrics = {\n",
    "            'avg_loss': [],\n",
    "            'auc/_mean': [],\n",
    "            'auc/healthy': [],\n",
    "            'auc/multiple_diseases': [],\n",
    "            'auc/rust': [],\n",
    "            'auc/scab': [],\n",
    "        }\n",
    "        self.counter = 0\n",
    "        self.delta = config.early_stopping_delta\n",
    "      \n",
    "    def run(self):\n",
    "        self.model.to(device)\n",
    "        best_valid_loss = float('inf')\n",
    "        best_valid_auc_mean = 0\n",
    "\n",
    "        try:\n",
    "            for i_epoch in tqdm(range(self.config.num_epochs), desc='Epochs', total=config.num_epochs, position=1, leave=True):\n",
    "                start_time = time.time()\n",
    "\n",
    "                train_loss, train_outputs, train_targets = self._train()\n",
    "                valid_loss, valid_outputs, valid_targets = self._evaluate()\n",
    "                    \n",
    "                self.train_metrics[\"avg_loss\"].append(train_loss)\n",
    "                self.train_metrics[\"auc/_mean\"].append(self.comp_metric(train_outputs, train_targets))\n",
    "                self.train_metrics[\"auc/healthy\"].append(self.healthy_roc_auc(train_outputs, train_targets))\n",
    "                self.train_metrics[\"auc/multiple_diseases\"].append(self.multiple_diseases_roc_auc(train_outputs, train_targets))\n",
    "                self.train_metrics[\"auc/rust\"].append(self.rust_roc_auc(train_outputs, train_targets))\n",
    "                self.train_metrics[\"auc/scab\"].append(self.scab_roc_auc(train_outputs, train_targets))\n",
    "                \n",
    "                self.valid_metrics[\"avg_loss\"].append(valid_loss)\n",
    "                self.valid_metrics[\"auc/_mean\"].append(self.comp_metric(valid_outputs, valid_targets))\n",
    "                self.valid_metrics[\"auc/healthy\"].append(self.healthy_roc_auc(valid_outputs, valid_targets))\n",
    "                self.valid_metrics[\"auc/multiple_diseases\"].append(self.multiple_diseases_roc_auc(valid_outputs, valid_targets))\n",
    "                self.valid_metrics[\"auc/rust\"].append(self.rust_roc_auc(valid_outputs, valid_targets))\n",
    "                self.valid_metrics[\"auc/scab\"].append(self.scab_roc_auc(valid_outputs, valid_targets))\n",
    "                \n",
    "                end_time = time.time()\n",
    "                epoch_mins, epoch_secs = self._epoch_time(start_time, end_time)\n",
    "                self.print_progress(i_epoch, epoch_mins, epoch_secs)\n",
    "                \n",
    "                self.scheduler.step(self.valid_metrics[\"auc/_mean\"][-1])\n",
    "                \n",
    "                if valid_loss < best_valid_loss:\n",
    "                    best_valid_loss = valid_loss\n",
    "                    torch.save(model.state_dict(), f\"{config.save_dirname}/best_model_epoch={i_epoch+1}.pth\")\n",
    "                    \n",
    "                if self.valid_metrics[\"auc/_mean\"][-1] > best_valid_auc_mean:\n",
    "                    self.counter = 0\n",
    "                    best_valid_auc_mean = self.valid_metrics[\"auc/_mean\"][-1]\n",
    "                    torch.save(model.state_dict(), f\"{config.save_dirname}/best_model_epoch={i_epoch+1}_auc_mean={best_valid_auc_mean}.pth\")\n",
    "                else:\n",
    "                    self.counter += 1\n",
    "                    \n",
    "                if self.counter > self.config.patience:\n",
    "                    print(\"EarlyStopping\")\n",
    "                    break\n",
    "        except KeyboardInterrupt: \n",
    "            pass\n",
    "        \n",
    "        return self.train_metrics, self.valid_metrics\n",
    "        \n",
    "    def _train(self):\n",
    "        model.train()\n",
    "        epoch_loss = 0\n",
    "        epoch_output = None\n",
    "        epoch_target = None\n",
    "        for i, (images, labels) in tqdm(enumerate(self.train_dataloader), desc='Train', total=len(self.train_dataloader), position=2, leave=True):\n",
    "            loss_iten, outputs = self._train_process(images, labels)\n",
    "            epoch_loss += loss_iten              \n",
    "\n",
    "            if epoch_output is None:\n",
    "                epoch_output = outputs.cpu().data\n",
    "            else:\n",
    "                epoch_output = torch.cat((epoch_output, outputs.cpu().data))\n",
    "\n",
    "            if epoch_target is None:\n",
    "                epoch_target = labels.cpu().data\n",
    "            else:\n",
    "                epoch_target = torch.cat((epoch_target, labels.cpu().data))\n",
    "            \n",
    "        return epoch_loss / len(self.train_dataloader), epoch_output, epoch_target\n",
    "    \n",
    "    def _train_process(self, images, labels):\n",
    "        images = images.to(self.device)\n",
    "        labels = labels.to(self.device)\n",
    "        self.optimizer.zero_grad()\n",
    "        outputs = self.model(images)\n",
    "        loss = self.criterion(outputs, labels)\n",
    "        loss.backward()\n",
    "        self.optimizer.step()\n",
    "        return loss.item(), outputs\n",
    "            \n",
    "    def _evaluate(self):\n",
    "        model.eval()\n",
    "        epoch_loss = 0\n",
    "        epoch_output = None\n",
    "        epoch_target = None\n",
    "        with torch.no_grad():\n",
    "            for i, (images, labels) in enumerate(self.valid_dataloader):\n",
    "                images = images.to(device)\n",
    "                labels = labels.to(device)\n",
    "                outputs = model(images)\n",
    "                loss = criterion(outputs, labels)\n",
    "                epoch_loss += loss.item()\n",
    "                \n",
    "                if epoch_output is None:\n",
    "                    epoch_output = outputs.cpu().data\n",
    "                else:\n",
    "                    epoch_output = torch.cat((epoch_output, outputs.cpu().data))\n",
    "\n",
    "                if epoch_target is None:\n",
    "                    epoch_target = labels.cpu().data\n",
    "                else:\n",
    "                    epoch_target = torch.cat((epoch_target, labels.cpu().data))\n",
    "\n",
    "        return epoch_loss / len(self.valid_dataloader), epoch_output, epoch_target\n",
    "    \n",
    "#     def _evaluate_tta(self):\n",
    "#         n_samples = len(dataset)\n",
    "#         y_probas_tta = np.zeros((n_samples, config.num_classes, tta_count), dtype=np.float32)\n",
    "\n",
    "#         model.eval()\n",
    "#         model.to(device)\n",
    "#         with torch.no_grad():\n",
    "#             for i_epoch in tqdm(range(tta_count), desc='TTA', total=tta_count, position=1, leave=True):\n",
    "#                 for i, (images, idx) in enumerate(dataloader):\n",
    "#                     images = images.to(device)\n",
    "#                     outputs = model(images)\n",
    "#                     y_pred = F.softmax(outputs, dim=1)\n",
    "\n",
    "#                     tta_index = i_epoch - 1\n",
    "#                     start_index = (i % len(dataloader)) * config.batch_size\n",
    "#                     end_index = min(start_index + config.batch_size, n_samples)\n",
    "#                     batch_y_probas = y_pred.detach().cpu().numpy()                \n",
    "#                     y_probas_tta[start_index:end_index, :, tta_index] = batch_y_probas\n",
    "\n",
    "#         return y_probas_tta\n",
    "\n",
    "#     def show_history(self):\n",
    "#         fig, ax = plt.subplots(nrows=1, ncols=2, figsize=(12, 8))\n",
    "#         clear_output(True)\n",
    "#         ax[0].plot(history, label='train loss')\n",
    "#         ax[0].set_xlabel('Batch')\n",
    "#         ax[0].set_title('Train loss')\n",
    "#         if train_history is not None:\n",
    "#             ax[1].plot(train_history, label='general train history')\n",
    "#             ax[1].set_xlabel('Epoch')\n",
    "#         if valid_history is not None:\n",
    "#             ax[1].plot(valid_history, label='general valid history')\n",
    "#         plt.legend()\n",
    "#         plt.show()\n",
    "\n",
    "    \n",
    "    def _epoch_time(self, start_time, end_time):\n",
    "        elapsed_time = end_time - start_time\n",
    "        elapsed_mins = int(elapsed_time / 60)\n",
    "        elapsed_secs = int(elapsed_time - (elapsed_mins * 60))\n",
    "        return elapsed_mins, elapsed_secs\n",
    "\n",
    "    def print_progress(self, i_epoch, epoch_mins, epoch_secs):\n",
    "        i_epoch = i_epoch + 1\n",
    "        print(f\"Epoch: {i_epoch:02} | Time: {epoch_mins}m {epoch_secs}s\")\n",
    "        print(\"Training Results - Average Loss: {:.4f} | auc/_mean: {:.4f} | auc/healthy: {:.4f} | auc/multiple_diseases: {:.4f}, auc/rust: {:.4f}, auc/scab: {:.4f}\"\n",
    "            .format(\n",
    "                self.train_metrics['avg_loss'][-1], \n",
    "                self.train_metrics['auc/_mean'][-1],\n",
    "                self.train_metrics['auc/healthy'][-1],\n",
    "                self.train_metrics['auc/multiple_diseases'][-1],\n",
    "                self.train_metrics['auc/rust'][-1],\n",
    "                self.train_metrics['auc/scab'][-1],\n",
    "            ))\n",
    "        print(\"Evaluating Results - Average Loss: {:.4f} | auc/_mean: {:.4f} | auc/healthy: {:.4f} | auc/multiple_diseases: {:.4f}, auc/rust: {:.4f}, auc/scab: {:.4f}\"\n",
    "            .format( \n",
    "                self.valid_metrics['avg_loss'][-1], \n",
    "                self.valid_metrics['auc/_mean'][-1],\n",
    "                self.valid_metrics['auc/healthy'][-1],\n",
    "                self.valid_metrics['auc/multiple_diseases'][-1],\n",
    "                self.valid_metrics['auc/rust'][-1],\n",
    "                self.valid_metrics['auc/scab'][-1],\n",
    "            ))\n",
    "        print()\n",
    "        \n",
    "    def comp_metric(self, preds, targs, labels=range(4)):\n",
    "        preds = torch.sigmoid(preds)\n",
    "        targs = torch.eye(4)[targs]\n",
    "        return np.mean([roc_auc_score(targs[:,i], preds[:,i]) for i in labels])\n",
    "\n",
    "    def healthy_roc_auc(self, *args):\n",
    "        return self.comp_metric(*args, labels=[0])\n",
    "\n",
    "    def multiple_diseases_roc_auc(self, *args):\n",
    "        return self.comp_metric(*args, labels=[1])\n",
    "\n",
    "    def rust_roc_auc(self, *args):\n",
    "        return self.comp_metric(*args, labels=[2])\n",
    "\n",
    "    def scab_roc_auc(self, *args):\n",
    "        return self.comp_metric(*args, labels=[3])\n",
    "\n"
   ]
  },
  {
   "cell_type": "code",
   "execution_count": 10,
   "metadata": {},
   "outputs": [
    {
     "data": {
      "application/vnd.jupyter.widget-view+json": {
       "model_id": "cebe25fc46ea4009af3f30149399355c",
       "version_major": 2,
       "version_minor": 0
      },
      "text/plain": [
       "HBox(children=(FloatProgress(value=0.0, description='Epochs', max=200.0, style=ProgressStyle(description_width…"
      ]
     },
     "metadata": {},
     "output_type": "display_data"
    },
    {
     "data": {
      "application/vnd.jupyter.widget-view+json": {
       "model_id": "fa07a5e642ea42b586694464cd438399",
       "version_major": 2,
       "version_minor": 0
      },
      "text/plain": [
       "HBox(children=(FloatProgress(value=0.0, description='Train', max=153.0, style=ProgressStyle(description_width=…"
      ]
     },
     "metadata": {},
     "output_type": "display_data"
    },
    {
     "name": "stdout",
     "output_type": "stream",
     "text": [
      "\n",
      "Epoch: 01 | Time: 0m 10s\n",
      "Training Results - Average Loss: 0.9504 | auc/_mean: 0.7414 | auc/healthy: 0.7977 | auc/multiple_diseases: 0.5391, auc/rust: 0.8036, auc/scab: 0.8252\n",
      "Evaluating Results - Average Loss: 0.7387 | auc/_mean: 0.8688 | auc/healthy: 0.8983 | auc/multiple_diseases: 0.6995, auc/rust: 0.9387, auc/scab: 0.9388\n",
      "\n"
     ]
    },
    {
     "data": {
      "application/vnd.jupyter.widget-view+json": {
       "model_id": "d537511c599e49bdbccb6a46a5d1e399",
       "version_major": 2,
       "version_minor": 0
      },
      "text/plain": [
       "HBox(children=(FloatProgress(value=0.0, description='Train', max=153.0, style=ProgressStyle(description_width=…"
      ]
     },
     "metadata": {},
     "output_type": "display_data"
    },
    {
     "name": "stdout",
     "output_type": "stream",
     "text": [
      "\n",
      "Epoch: 02 | Time: 0m 10s\n",
      "Training Results - Average Loss: 0.7628 | auc/_mean: 0.8163 | auc/healthy: 0.8757 | auc/multiple_diseases: 0.6282, auc/rust: 0.8758, auc/scab: 0.8856\n",
      "Evaluating Results - Average Loss: 0.6787 | auc/_mean: 0.8636 | auc/healthy: 0.9110 | auc/multiple_diseases: 0.6780, auc/rust: 0.9434, auc/scab: 0.9218\n",
      "\n"
     ]
    },
    {
     "data": {
      "application/vnd.jupyter.widget-view+json": {
       "model_id": "296bdcc99bd64433a48a25523f60d1bd",
       "version_major": 2,
       "version_minor": 0
      },
      "text/plain": [
       "HBox(children=(FloatProgress(value=0.0, description='Train', max=153.0, style=ProgressStyle(description_width=…"
      ]
     },
     "metadata": {},
     "output_type": "display_data"
    },
    {
     "name": "stdout",
     "output_type": "stream",
     "text": [
      "\n",
      "Epoch: 03 | Time: 0m 10s\n",
      "Training Results - Average Loss: 0.6923 | auc/_mean: 0.8546 | auc/healthy: 0.8824 | auc/multiple_diseases: 0.7366, auc/rust: 0.9056, auc/scab: 0.8937\n",
      "Evaluating Results - Average Loss: 0.6286 | auc/_mean: 0.8573 | auc/healthy: 0.9129 | auc/multiple_diseases: 0.6508, auc/rust: 0.9301, auc/scab: 0.9356\n",
      "\n"
     ]
    },
    {
     "data": {
      "application/vnd.jupyter.widget-view+json": {
       "model_id": "41549ecf50bf487a9851adf3fb6d4ff3",
       "version_major": 2,
       "version_minor": 0
      },
      "text/plain": [
       "HBox(children=(FloatProgress(value=0.0, description='Train', max=153.0, style=ProgressStyle(description_width=…"
      ]
     },
     "metadata": {},
     "output_type": "display_data"
    },
    {
     "name": "stdout",
     "output_type": "stream",
     "text": [
      "\n",
      "Epoch: 04 | Time: 0m 10s\n",
      "Training Results - Average Loss: 0.6452 | auc/_mean: 0.8691 | auc/healthy: 0.8942 | auc/multiple_diseases: 0.7627, auc/rust: 0.9052, auc/scab: 0.9144\n",
      "Evaluating Results - Average Loss: 0.6349 | auc/_mean: 0.8572 | auc/healthy: 0.9107 | auc/multiple_diseases: 0.6524, auc/rust: 0.9257, auc/scab: 0.9400\n",
      "\n"
     ]
    },
    {
     "data": {
      "application/vnd.jupyter.widget-view+json": {
       "model_id": "cfb9442d11c34fe49c2dbe1c167206ad",
       "version_major": 2,
       "version_minor": 0
      },
      "text/plain": [
       "HBox(children=(FloatProgress(value=0.0, description='Train', max=153.0, style=ProgressStyle(description_width=…"
      ]
     },
     "metadata": {},
     "output_type": "display_data"
    },
    {
     "name": "stdout",
     "output_type": "stream",
     "text": [
      "\n",
      "Epoch: 05 | Time: 0m 10s\n",
      "Training Results - Average Loss: 0.6300 | auc/_mean: 0.8823 | auc/healthy: 0.8946 | auc/multiple_diseases: 0.8096, auc/rust: 0.9119, auc/scab: 0.9131\n",
      "Evaluating Results - Average Loss: 0.6346 | auc/_mean: 0.8664 | auc/healthy: 0.9086 | auc/multiple_diseases: 0.7021, auc/rust: 0.9271, auc/scab: 0.9279\n",
      "\n",
      "Epoch     5: reducing learning rate of group 0 to 9.0000e-04.\n"
     ]
    },
    {
     "data": {
      "application/vnd.jupyter.widget-view+json": {
       "model_id": "7fded64dbad347e1acc70c5a8c5faee6",
       "version_major": 2,
       "version_minor": 0
      },
      "text/plain": [
       "HBox(children=(FloatProgress(value=0.0, description='Train', max=153.0, style=ProgressStyle(description_width=…"
      ]
     },
     "metadata": {},
     "output_type": "display_data"
    },
    {
     "name": "stdout",
     "output_type": "stream",
     "text": [
      "\n",
      "Epoch: 06 | Time: 0m 10s\n",
      "Training Results - Average Loss: 0.6008 | auc/_mean: 0.8920 | auc/healthy: 0.9112 | auc/multiple_diseases: 0.8222, auc/rust: 0.9126, auc/scab: 0.9220\n",
      "Evaluating Results - Average Loss: 0.6156 | auc/_mean: 0.8709 | auc/healthy: 0.9117 | auc/multiple_diseases: 0.7061, auc/rust: 0.9315, auc/scab: 0.9344\n",
      "\n"
     ]
    },
    {
     "data": {
      "application/vnd.jupyter.widget-view+json": {
       "model_id": "2fd8f78784b24c75913bbc5344bf716f",
       "version_major": 2,
       "version_minor": 0
      },
      "text/plain": [
       "HBox(children=(FloatProgress(value=0.0, description='Train', max=153.0, style=ProgressStyle(description_width=…"
      ]
     },
     "metadata": {},
     "output_type": "display_data"
    },
    {
     "name": "stdout",
     "output_type": "stream",
     "text": [
      "\n",
      "Epoch: 07 | Time: 0m 10s\n",
      "Training Results - Average Loss: 0.5507 | auc/_mean: 0.9023 | auc/healthy: 0.9259 | auc/multiple_diseases: 0.8308, auc/rust: 0.9238, auc/scab: 0.9286\n",
      "Evaluating Results - Average Loss: 0.6070 | auc/_mean: 0.8718 | auc/healthy: 0.9166 | auc/multiple_diseases: 0.7058, auc/rust: 0.9346, auc/scab: 0.9302\n",
      "\n"
     ]
    },
    {
     "data": {
      "application/vnd.jupyter.widget-view+json": {
       "model_id": "dceba4c265244c4bad3b1d7006685076",
       "version_major": 2,
       "version_minor": 0
      },
      "text/plain": [
       "HBox(children=(FloatProgress(value=0.0, description='Train', max=153.0, style=ProgressStyle(description_width=…"
      ]
     },
     "metadata": {},
     "output_type": "display_data"
    },
    {
     "name": "stdout",
     "output_type": "stream",
     "text": [
      "\n",
      "Epoch: 08 | Time: 0m 10s\n",
      "Training Results - Average Loss: 0.5870 | auc/_mean: 0.8947 | auc/healthy: 0.9106 | auc/multiple_diseases: 0.8280, auc/rust: 0.9180, auc/scab: 0.9221\n",
      "Evaluating Results - Average Loss: 0.5996 | auc/_mean: 0.8728 | auc/healthy: 0.9174 | auc/multiple_diseases: 0.7072, auc/rust: 0.9305, auc/scab: 0.9363\n",
      "\n"
     ]
    },
    {
     "data": {
      "application/vnd.jupyter.widget-view+json": {
       "model_id": "d031614cf37241ef94c558b22b206b17",
       "version_major": 2,
       "version_minor": 0
      },
      "text/plain": [
       "HBox(children=(FloatProgress(value=0.0, description='Train', max=153.0, style=ProgressStyle(description_width=…"
      ]
     },
     "metadata": {},
     "output_type": "display_data"
    },
    {
     "name": "stdout",
     "output_type": "stream",
     "text": [
      "\n",
      "Epoch: 09 | Time: 0m 10s\n",
      "Training Results - Average Loss: 0.5328 | auc/_mean: 0.9133 | auc/healthy: 0.9173 | auc/multiple_diseases: 0.8727, auc/rust: 0.9211, auc/scab: 0.9421\n",
      "Evaluating Results - Average Loss: 0.6010 | auc/_mean: 0.8760 | auc/healthy: 0.9179 | auc/multiple_diseases: 0.7212, auc/rust: 0.9346, auc/scab: 0.9302\n",
      "\n"
     ]
    },
    {
     "data": {
      "application/vnd.jupyter.widget-view+json": {
       "model_id": "d39a246069ad4e9bbc133cf4bf63d929",
       "version_major": 2,
       "version_minor": 0
      },
      "text/plain": [
       "HBox(children=(FloatProgress(value=0.0, description='Train', max=153.0, style=ProgressStyle(description_width=…"
      ]
     },
     "metadata": {},
     "output_type": "display_data"
    },
    {
     "name": "stdout",
     "output_type": "stream",
     "text": [
      "\n",
      "Epoch: 10 | Time: 0m 11s\n",
      "Training Results - Average Loss: 0.5349 | auc/_mean: 0.9109 | auc/healthy: 0.9314 | auc/multiple_diseases: 0.8639, auc/rust: 0.9130, auc/scab: 0.9352\n",
      "Evaluating Results - Average Loss: 0.5953 | auc/_mean: 0.8783 | auc/healthy: 0.9189 | auc/multiple_diseases: 0.7262, auc/rust: 0.9338, auc/scab: 0.9343\n",
      "\n"
     ]
    },
    {
     "data": {
      "application/vnd.jupyter.widget-view+json": {
       "model_id": "15f9df49d9884f2e9b84ba7fc6bc64f0",
       "version_major": 2,
       "version_minor": 0
      },
      "text/plain": [
       "HBox(children=(FloatProgress(value=0.0, description='Train', max=153.0, style=ProgressStyle(description_width=…"
      ]
     },
     "metadata": {},
     "output_type": "display_data"
    },
    {
     "name": "stdout",
     "output_type": "stream",
     "text": [
      "\n",
      "Epoch: 11 | Time: 0m 11s\n",
      "Training Results - Average Loss: 0.5255 | auc/_mean: 0.9144 | auc/healthy: 0.9247 | auc/multiple_diseases: 0.8670, auc/rust: 0.9281, auc/scab: 0.9377\n",
      "Evaluating Results - Average Loss: 0.6134 | auc/_mean: 0.8737 | auc/healthy: 0.9191 | auc/multiple_diseases: 0.7195, auc/rust: 0.9312, auc/scab: 0.9252\n",
      "\n"
     ]
    },
    {
     "data": {
      "application/vnd.jupyter.widget-view+json": {
       "model_id": "b928eb5a43524091b9469f1c41bc56cc",
       "version_major": 2,
       "version_minor": 0
      },
      "text/plain": [
       "HBox(children=(FloatProgress(value=0.0, description='Train', max=153.0, style=ProgressStyle(description_width=…"
      ]
     },
     "metadata": {},
     "output_type": "display_data"
    },
    {
     "name": "stdout",
     "output_type": "stream",
     "text": [
      "\n",
      "Epoch: 12 | Time: 0m 11s\n",
      "Training Results - Average Loss: 0.5590 | auc/_mean: 0.9114 | auc/healthy: 0.9060 | auc/multiple_diseases: 0.8833, auc/rust: 0.9239, auc/scab: 0.9324\n",
      "Evaluating Results - Average Loss: 0.5987 | auc/_mean: 0.8766 | auc/healthy: 0.9208 | auc/multiple_diseases: 0.7246, auc/rust: 0.9307, auc/scab: 0.9301\n",
      "\n"
     ]
    },
    {
     "data": {
      "application/vnd.jupyter.widget-view+json": {
       "model_id": "d66e4ce1e8934f39905c000a435bbc43",
       "version_major": 2,
       "version_minor": 0
      },
      "text/plain": [
       "HBox(children=(FloatProgress(value=0.0, description='Train', max=153.0, style=ProgressStyle(description_width=…"
      ]
     },
     "metadata": {},
     "output_type": "display_data"
    },
    {
     "name": "stdout",
     "output_type": "stream",
     "text": [
      "\n",
      "Epoch: 13 | Time: 0m 11s\n",
      "Training Results - Average Loss: 0.5385 | auc/_mean: 0.9136 | auc/healthy: 0.9223 | auc/multiple_diseases: 0.8857, auc/rust: 0.9276, auc/scab: 0.9189\n",
      "Evaluating Results - Average Loss: 0.6263 | auc/_mean: 0.8749 | auc/healthy: 0.9190 | auc/multiple_diseases: 0.7278, auc/rust: 0.9328, auc/scab: 0.9200\n",
      "\n"
     ]
    },
    {
     "data": {
      "application/vnd.jupyter.widget-view+json": {
       "model_id": "da685792b2e8495ba0244e2906ea36cf",
       "version_major": 2,
       "version_minor": 0
      },
      "text/plain": [
       "HBox(children=(FloatProgress(value=0.0, description='Train', max=153.0, style=ProgressStyle(description_width=…"
      ]
     },
     "metadata": {},
     "output_type": "display_data"
    },
    {
     "name": "stdout",
     "output_type": "stream",
     "text": [
      "\n",
      "Epoch: 14 | Time: 0m 11s\n",
      "Training Results - Average Loss: 0.5008 | auc/_mean: 0.9192 | auc/healthy: 0.9219 | auc/multiple_diseases: 0.8774, auc/rust: 0.9347, auc/scab: 0.9430\n",
      "Evaluating Results - Average Loss: 0.5943 | auc/_mean: 0.8767 | auc/healthy: 0.9203 | auc/multiple_diseases: 0.7191, auc/rust: 0.9342, auc/scab: 0.9332\n",
      "\n",
      "Epoch    14: reducing learning rate of group 0 to 2.7000e-04.\n"
     ]
    },
    {
     "data": {
      "application/vnd.jupyter.widget-view+json": {
       "model_id": "00667076e5af484cbee6643af528bc51",
       "version_major": 2,
       "version_minor": 0
      },
      "text/plain": [
       "HBox(children=(FloatProgress(value=0.0, description='Train', max=153.0, style=ProgressStyle(description_width=…"
      ]
     },
     "metadata": {},
     "output_type": "display_data"
    },
    {
     "name": "stdout",
     "output_type": "stream",
     "text": [
      "\n",
      "Epoch: 15 | Time: 0m 11s\n",
      "Training Results - Average Loss: 0.5216 | auc/_mean: 0.9214 | auc/healthy: 0.9072 | auc/multiple_diseases: 0.9150, auc/rust: 0.9275, auc/scab: 0.9359\n",
      "Evaluating Results - Average Loss: 0.5957 | auc/_mean: 0.8777 | auc/healthy: 0.9207 | auc/multiple_diseases: 0.7263, auc/rust: 0.9332, auc/scab: 0.9305\n",
      "\n"
     ]
    },
    {
     "data": {
      "application/vnd.jupyter.widget-view+json": {
       "model_id": "4baa947c1a224dfcb9d14cc405928649",
       "version_major": 2,
       "version_minor": 0
      },
      "text/plain": [
       "HBox(children=(FloatProgress(value=0.0, description='Train', max=153.0, style=ProgressStyle(description_width=…"
      ]
     },
     "metadata": {},
     "output_type": "display_data"
    },
    {
     "name": "stdout",
     "output_type": "stream",
     "text": [
      "\n",
      "Epoch: 16 | Time: 0m 11s\n",
      "Training Results - Average Loss: 0.4906 | auc/_mean: 0.9222 | auc/healthy: 0.9289 | auc/multiple_diseases: 0.8809, auc/rust: 0.9351, auc/scab: 0.9437\n",
      "Evaluating Results - Average Loss: 0.5954 | auc/_mean: 0.8773 | auc/healthy: 0.9211 | auc/multiple_diseases: 0.7245, auc/rust: 0.9339, auc/scab: 0.9296\n",
      "\n"
     ]
    },
    {
     "data": {
      "application/vnd.jupyter.widget-view+json": {
       "model_id": "26157e06059745ddbdd9513b95cb1c6e",
       "version_major": 2,
       "version_minor": 0
      },
      "text/plain": [
       "HBox(children=(FloatProgress(value=0.0, description='Train', max=153.0, style=ProgressStyle(description_width=…"
      ]
     },
     "metadata": {},
     "output_type": "display_data"
    },
    {
     "name": "stdout",
     "output_type": "stream",
     "text": [
      "\n",
      "Epoch: 17 | Time: 0m 11s\n",
      "Training Results - Average Loss: 0.4874 | auc/_mean: 0.9277 | auc/healthy: 0.9262 | auc/multiple_diseases: 0.9054, auc/rust: 0.9324, auc/scab: 0.9469\n",
      "Evaluating Results - Average Loss: 0.5957 | auc/_mean: 0.8782 | auc/healthy: 0.9213 | auc/multiple_diseases: 0.7288, auc/rust: 0.9335, auc/scab: 0.9291\n",
      "\n"
     ]
    },
    {
     "data": {
      "application/vnd.jupyter.widget-view+json": {
       "model_id": "cf21f19b10c7435f9fb610eac722f3ae",
       "version_major": 2,
       "version_minor": 0
      },
      "text/plain": [
       "HBox(children=(FloatProgress(value=0.0, description='Train', max=153.0, style=ProgressStyle(description_width=…"
      ]
     },
     "metadata": {},
     "output_type": "display_data"
    },
    {
     "name": "stdout",
     "output_type": "stream",
     "text": [
      "\n",
      "Epoch: 18 | Time: 0m 11s\n",
      "Training Results - Average Loss: 0.4978 | auc/_mean: 0.9227 | auc/healthy: 0.9281 | auc/multiple_diseases: 0.8899, auc/rust: 0.9392, auc/scab: 0.9334\n",
      "Evaluating Results - Average Loss: 0.5951 | auc/_mean: 0.8780 | auc/healthy: 0.9210 | auc/multiple_diseases: 0.7273, auc/rust: 0.9343, auc/scab: 0.9295\n",
      "\n",
      "Epoch    18: reducing learning rate of group 0 to 8.1000e-05.\n"
     ]
    },
    {
     "data": {
      "application/vnd.jupyter.widget-view+json": {
       "model_id": "447ee8f3953a4467838930ec4a42a6f4",
       "version_major": 2,
       "version_minor": 0
      },
      "text/plain": [
       "HBox(children=(FloatProgress(value=0.0, description='Train', max=153.0, style=ProgressStyle(description_width=…"
      ]
     },
     "metadata": {},
     "output_type": "display_data"
    },
    {
     "name": "stdout",
     "output_type": "stream",
     "text": [
      "\n",
      "Epoch: 19 | Time: 0m 11s\n",
      "Training Results - Average Loss: 0.4930 | auc/_mean: 0.9257 | auc/healthy: 0.9319 | auc/multiple_diseases: 0.9031, auc/rust: 0.9344, auc/scab: 0.9336\n",
      "Evaluating Results - Average Loss: 0.5933 | auc/_mean: 0.8783 | auc/healthy: 0.9205 | auc/multiple_diseases: 0.7287, auc/rust: 0.9334, auc/scab: 0.9306\n",
      "\n"
     ]
    },
    {
     "data": {
      "application/vnd.jupyter.widget-view+json": {
       "model_id": "4d93ad7ab2f24e7d89e1f840aeae1b6b",
       "version_major": 2,
       "version_minor": 0
      },
      "text/plain": [
       "HBox(children=(FloatProgress(value=0.0, description='Train', max=153.0, style=ProgressStyle(description_width=…"
      ]
     },
     "metadata": {},
     "output_type": "display_data"
    },
    {
     "name": "stdout",
     "output_type": "stream",
     "text": [
      "\n",
      "Epoch: 20 | Time: 0m 11s\n",
      "Training Results - Average Loss: 0.5197 | auc/_mean: 0.9163 | auc/healthy: 0.9277 | auc/multiple_diseases: 0.8829, auc/rust: 0.9294, auc/scab: 0.9253\n",
      "Evaluating Results - Average Loss: 0.5939 | auc/_mean: 0.8786 | auc/healthy: 0.9207 | auc/multiple_diseases: 0.7302, auc/rust: 0.9330, auc/scab: 0.9305\n",
      "\n"
     ]
    },
    {
     "data": {
      "application/vnd.jupyter.widget-view+json": {
       "model_id": "2ce210f899fb47709de4e1efd8920f0f",
       "version_major": 2,
       "version_minor": 0
      },
      "text/plain": [
       "HBox(children=(FloatProgress(value=0.0, description='Train', max=153.0, style=ProgressStyle(description_width=…"
      ]
     },
     "metadata": {},
     "output_type": "display_data"
    },
    {
     "name": "stdout",
     "output_type": "stream",
     "text": [
      "\n",
      "Epoch: 21 | Time: 0m 11s\n",
      "Training Results - Average Loss: 0.4715 | auc/_mean: 0.9275 | auc/healthy: 0.9370 | auc/multiple_diseases: 0.8840, auc/rust: 0.9426, auc/scab: 0.9464\n",
      "Evaluating Results - Average Loss: 0.5962 | auc/_mean: 0.8781 | auc/healthy: 0.9203 | auc/multiple_diseases: 0.7300, auc/rust: 0.9323, auc/scab: 0.9299\n",
      "\n"
     ]
    },
    {
     "data": {
      "application/vnd.jupyter.widget-view+json": {
       "model_id": "d37516623130406daee78584601c454b",
       "version_major": 2,
       "version_minor": 0
      },
      "text/plain": [
       "HBox(children=(FloatProgress(value=0.0, description='Train', max=153.0, style=ProgressStyle(description_width=…"
      ]
     },
     "metadata": {},
     "output_type": "display_data"
    },
    {
     "name": "stdout",
     "output_type": "stream",
     "text": [
      "\n",
      "Epoch: 22 | Time: 0m 11s\n",
      "Training Results - Average Loss: 0.5000 | auc/_mean: 0.9149 | auc/healthy: 0.9309 | auc/multiple_diseases: 0.8587, auc/rust: 0.9334, auc/scab: 0.9368\n",
      "Evaluating Results - Average Loss: 0.5948 | auc/_mean: 0.8784 | auc/healthy: 0.9206 | auc/multiple_diseases: 0.7297, auc/rust: 0.9322, auc/scab: 0.9310\n",
      "\n"
     ]
    },
    {
     "data": {
      "application/vnd.jupyter.widget-view+json": {
       "model_id": "0f37727924af46d8acb289cd0c1d67d2",
       "version_major": 2,
       "version_minor": 0
      },
      "text/plain": [
       "HBox(children=(FloatProgress(value=0.0, description='Train', max=153.0, style=ProgressStyle(description_width=…"
      ]
     },
     "metadata": {},
     "output_type": "display_data"
    },
    {
     "name": "stdout",
     "output_type": "stream",
     "text": [
      "\n",
      "Epoch: 23 | Time: 0m 10s\n",
      "Training Results - Average Loss: 0.5160 | auc/_mean: 0.9153 | auc/healthy: 0.9277 | auc/multiple_diseases: 0.8725, auc/rust: 0.9277, auc/scab: 0.9333\n",
      "Evaluating Results - Average Loss: 0.5934 | auc/_mean: 0.8796 | auc/healthy: 0.9209 | auc/multiple_diseases: 0.7337, auc/rust: 0.9341, auc/scab: 0.9295\n",
      "\n"
     ]
    },
    {
     "data": {
      "application/vnd.jupyter.widget-view+json": {
       "model_id": "7721bc17d62c47368aa583b2a51ef040",
       "version_major": 2,
       "version_minor": 0
      },
      "text/plain": [
       "HBox(children=(FloatProgress(value=0.0, description='Train', max=153.0, style=ProgressStyle(description_width=…"
      ]
     },
     "metadata": {},
     "output_type": "display_data"
    },
    {
     "name": "stdout",
     "output_type": "stream",
     "text": [
      "\n",
      "Epoch: 24 | Time: 0m 11s\n",
      "Training Results - Average Loss: 0.5213 | auc/_mean: 0.9141 | auc/healthy: 0.9233 | auc/multiple_diseases: 0.8648, auc/rust: 0.9329, auc/scab: 0.9353\n",
      "Evaluating Results - Average Loss: 0.5955 | auc/_mean: 0.8784 | auc/healthy: 0.9213 | auc/multiple_diseases: 0.7298, auc/rust: 0.9333, auc/scab: 0.9292\n",
      "\n"
     ]
    },
    {
     "data": {
      "application/vnd.jupyter.widget-view+json": {
       "model_id": "f7bfe1b37d2c4dfda864a05798054859",
       "version_major": 2,
       "version_minor": 0
      },
      "text/plain": [
       "HBox(children=(FloatProgress(value=0.0, description='Train', max=153.0, style=ProgressStyle(description_width=…"
      ]
     },
     "metadata": {},
     "output_type": "display_data"
    },
    {
     "name": "stdout",
     "output_type": "stream",
     "text": [
      "\n",
      "Epoch: 25 | Time: 0m 11s\n",
      "Training Results - Average Loss: 0.5068 | auc/_mean: 0.9193 | auc/healthy: 0.9335 | auc/multiple_diseases: 0.8748, auc/rust: 0.9279, auc/scab: 0.9411\n",
      "Evaluating Results - Average Loss: 0.5976 | auc/_mean: 0.8787 | auc/healthy: 0.9204 | auc/multiple_diseases: 0.7320, auc/rust: 0.9330, auc/scab: 0.9293\n",
      "\n"
     ]
    },
    {
     "data": {
      "application/vnd.jupyter.widget-view+json": {
       "model_id": "339c34472448440ebdc99bf8616cacac",
       "version_major": 2,
       "version_minor": 0
      },
      "text/plain": [
       "HBox(children=(FloatProgress(value=0.0, description='Train', max=153.0, style=ProgressStyle(description_width=…"
      ]
     },
     "metadata": {},
     "output_type": "display_data"
    },
    {
     "name": "stdout",
     "output_type": "stream",
     "text": [
      "\n",
      "Epoch: 26 | Time: 0m 11s\n",
      "Training Results - Average Loss: 0.4689 | auc/_mean: 0.9342 | auc/healthy: 0.9363 | auc/multiple_diseases: 0.9173, auc/rust: 0.9432, auc/scab: 0.9400\n",
      "Evaluating Results - Average Loss: 0.5964 | auc/_mean: 0.8786 | auc/healthy: 0.9199 | auc/multiple_diseases: 0.7319, auc/rust: 0.9329, auc/scab: 0.9296\n",
      "\n"
     ]
    },
    {
     "data": {
      "application/vnd.jupyter.widget-view+json": {
       "model_id": "a5dea688ff0047988b8beabe39bec3e4",
       "version_major": 2,
       "version_minor": 0
      },
      "text/plain": [
       "HBox(children=(FloatProgress(value=0.0, description='Train', max=153.0, style=ProgressStyle(description_width=…"
      ]
     },
     "metadata": {},
     "output_type": "display_data"
    },
    {
     "name": "stdout",
     "output_type": "stream",
     "text": [
      "\n",
      "Epoch: 27 | Time: 0m 12s\n",
      "Training Results - Average Loss: 0.4983 | auc/_mean: 0.9215 | auc/healthy: 0.9342 | auc/multiple_diseases: 0.8807, auc/rust: 0.9287, auc/scab: 0.9422\n",
      "Evaluating Results - Average Loss: 0.5969 | auc/_mean: 0.8779 | auc/healthy: 0.9205 | auc/multiple_diseases: 0.7287, auc/rust: 0.9333, auc/scab: 0.9291\n",
      "\n",
      "Epoch    27: reducing learning rate of group 0 to 2.4300e-05.\n"
     ]
    },
    {
     "data": {
      "application/vnd.jupyter.widget-view+json": {
       "model_id": "471853e9829b46169e6ecf15f4aafedf",
       "version_major": 2,
       "version_minor": 0
      },
      "text/plain": [
       "HBox(children=(FloatProgress(value=0.0, description='Train', max=153.0, style=ProgressStyle(description_width=…"
      ]
     },
     "metadata": {},
     "output_type": "display_data"
    },
    {
     "name": "stdout",
     "output_type": "stream",
     "text": [
      "\n",
      "Epoch: 28 | Time: 0m 12s\n",
      "Training Results - Average Loss: 0.4733 | auc/_mean: 0.9227 | auc/healthy: 0.9398 | auc/multiple_diseases: 0.8721, auc/rust: 0.9397, auc/scab: 0.9391\n",
      "Evaluating Results - Average Loss: 0.5977 | auc/_mean: 0.8774 | auc/healthy: 0.9206 | auc/multiple_diseases: 0.7281, auc/rust: 0.9320, auc/scab: 0.9289\n",
      "\n"
     ]
    },
    {
     "data": {
      "application/vnd.jupyter.widget-view+json": {
       "model_id": "ba557a59d28242c1ba9b2952e3fe1a75",
       "version_major": 2,
       "version_minor": 0
      },
      "text/plain": [
       "HBox(children=(FloatProgress(value=0.0, description='Train', max=153.0, style=ProgressStyle(description_width=…"
      ]
     },
     "metadata": {},
     "output_type": "display_data"
    },
    {
     "name": "stdout",
     "output_type": "stream",
     "text": [
      "\n",
      "Epoch: 29 | Time: 0m 12s\n",
      "Training Results - Average Loss: 0.4780 | auc/_mean: 0.9286 | auc/healthy: 0.9339 | auc/multiple_diseases: 0.9022, auc/rust: 0.9402, auc/scab: 0.9380\n",
      "Evaluating Results - Average Loss: 0.5954 | auc/_mean: 0.8783 | auc/healthy: 0.9197 | auc/multiple_diseases: 0.7308, auc/rust: 0.9324, auc/scab: 0.9302\n",
      "\n"
     ]
    },
    {
     "data": {
      "application/vnd.jupyter.widget-view+json": {
       "model_id": "93b73f8035044c599ec01f4c78add3ed",
       "version_major": 2,
       "version_minor": 0
      },
      "text/plain": [
       "HBox(children=(FloatProgress(value=0.0, description='Train', max=153.0, style=ProgressStyle(description_width=…"
      ]
     },
     "metadata": {},
     "output_type": "display_data"
    },
    {
     "name": "stdout",
     "output_type": "stream",
     "text": [
      "\n",
      "Epoch: 30 | Time: 0m 12s\n",
      "Training Results - Average Loss: 0.4881 | auc/_mean: 0.9270 | auc/healthy: 0.9357 | auc/multiple_diseases: 0.9010, auc/rust: 0.9355, auc/scab: 0.9359\n",
      "Evaluating Results - Average Loss: 0.6008 | auc/_mean: 0.8779 | auc/healthy: 0.9194 | auc/multiple_diseases: 0.7317, auc/rust: 0.9318, auc/scab: 0.9288\n",
      "\n"
     ]
    },
    {
     "data": {
      "application/vnd.jupyter.widget-view+json": {
       "model_id": "3d9467d6b956433a82db2dcfb0bcc560",
       "version_major": 2,
       "version_minor": 0
      },
      "text/plain": [
       "HBox(children=(FloatProgress(value=0.0, description='Train', max=153.0, style=ProgressStyle(description_width=…"
      ]
     },
     "metadata": {},
     "output_type": "display_data"
    },
    {
     "name": "stdout",
     "output_type": "stream",
     "text": [
      "\n",
      "Epoch: 31 | Time: 0m 12s\n",
      "Training Results - Average Loss: 0.5018 | auc/_mean: 0.9221 | auc/healthy: 0.9188 | auc/multiple_diseases: 0.8972, auc/rust: 0.9410, auc/scab: 0.9315\n",
      "Evaluating Results - Average Loss: 0.5950 | auc/_mean: 0.8778 | auc/healthy: 0.9201 | auc/multiple_diseases: 0.7288, auc/rust: 0.9320, auc/scab: 0.9305\n",
      "\n",
      "Epoch    31: reducing learning rate of group 0 to 7.2900e-06.\n"
     ]
    },
    {
     "data": {
      "application/vnd.jupyter.widget-view+json": {
       "model_id": "29383d165aea4706af01a031d05be4a7",
       "version_major": 2,
       "version_minor": 0
      },
      "text/plain": [
       "HBox(children=(FloatProgress(value=0.0, description='Train', max=153.0, style=ProgressStyle(description_width=…"
      ]
     },
     "metadata": {},
     "output_type": "display_data"
    },
    {
     "name": "stdout",
     "output_type": "stream",
     "text": [
      "\n",
      "Epoch: 32 | Time: 0m 11s\n",
      "Training Results - Average Loss: 0.4560 | auc/_mean: 0.9299 | auc/healthy: 0.9330 | auc/multiple_diseases: 0.9003, auc/rust: 0.9323, auc/scab: 0.9539\n",
      "Evaluating Results - Average Loss: 0.5935 | auc/_mean: 0.8783 | auc/healthy: 0.9199 | auc/multiple_diseases: 0.7306, auc/rust: 0.9321, auc/scab: 0.9308\n",
      "\n"
     ]
    },
    {
     "data": {
      "application/vnd.jupyter.widget-view+json": {
       "model_id": "9498e688b5124b7d939cdd0088f7667e",
       "version_major": 2,
       "version_minor": 0
      },
      "text/plain": [
       "HBox(children=(FloatProgress(value=0.0, description='Train', max=153.0, style=ProgressStyle(description_width=…"
      ]
     },
     "metadata": {},
     "output_type": "display_data"
    },
    {
     "name": "stdout",
     "output_type": "stream",
     "text": [
      "\n",
      "Epoch: 33 | Time: 0m 11s\n",
      "Training Results - Average Loss: 0.5147 | auc/_mean: 0.9203 | auc/healthy: 0.9261 | auc/multiple_diseases: 0.8967, auc/rust: 0.9279, auc/scab: 0.9305\n",
      "Evaluating Results - Average Loss: 0.5943 | auc/_mean: 0.8780 | auc/healthy: 0.9204 | auc/multiple_diseases: 0.7284, auc/rust: 0.9328, auc/scab: 0.9304\n",
      "\n"
     ]
    },
    {
     "data": {
      "application/vnd.jupyter.widget-view+json": {
       "model_id": "dd9d937a1bb54b45b612add89efd64b0",
       "version_major": 2,
       "version_minor": 0
      },
      "text/plain": [
       "HBox(children=(FloatProgress(value=0.0, description='Train', max=153.0, style=ProgressStyle(description_width=…"
      ]
     },
     "metadata": {},
     "output_type": "display_data"
    },
    {
     "name": "stdout",
     "output_type": "stream",
     "text": [
      "\n",
      "Epoch: 34 | Time: 0m 11s\n",
      "Training Results - Average Loss: 0.5094 | auc/_mean: 0.9173 | auc/healthy: 0.9337 | auc/multiple_diseases: 0.8785, auc/rust: 0.9271, auc/scab: 0.9299\n",
      "Evaluating Results - Average Loss: 0.5966 | auc/_mean: 0.8773 | auc/healthy: 0.9203 | auc/multiple_diseases: 0.7271, auc/rust: 0.9319, auc/scab: 0.9298\n",
      "\n",
      "EarlyStopping\n"
     ]
    }
   ],
   "source": [
    "trainer = Trainer(model, train_dataloader, valid_dataloader, criterion, optimizer, scheduler, device, config)\n",
    "trainer.run();"
   ]
  },
  {
   "cell_type": "code",
   "execution_count": null,
   "metadata": {},
   "outputs": [],
   "source": []
  },
  {
   "cell_type": "code",
   "execution_count": null,
   "metadata": {},
   "outputs": [],
   "source": []
  },
  {
   "cell_type": "code",
   "execution_count": 11,
   "metadata": {},
   "outputs": [
    {
     "name": "stdout",
     "output_type": "stream",
     "text": [
      "Loaded pretrained weights for efficientnet-b1\n"
     ]
    }
   ],
   "source": [
    "model = get_model(config.model_name, config.num_classes)\n",
    "model.load_state_dict(torch.load(f\"{config.save_dirname}/best_model_epoch=23_auc_mean=0.8795849445430196.pth\"))\n",
    "for param in model.parameters():\n",
    "    param.requires_grad = True\n",
    "\n",
    "criterion = nn.CrossEntropyLoss()\n",
    "optimizer = torch.optim.Adam(model.parameters(), lr=config.lr)\n",
    "scheduler = torch.optim.lr_scheduler.ReduceLROnPlateau(optimizer, patience=config.patience, verbose=True, mode=\"max\", factor=0.3)"
   ]
  },
  {
   "cell_type": "code",
   "execution_count": 12,
   "metadata": {},
   "outputs": [
    {
     "data": {
      "application/vnd.jupyter.widget-view+json": {
       "model_id": "79f0775bfca247f8b6c84ca15d5cca05",
       "version_major": 2,
       "version_minor": 0
      },
      "text/plain": [
       "HBox(children=(FloatProgress(value=0.0, description='Epochs', max=200.0, style=ProgressStyle(description_width…"
      ]
     },
     "metadata": {},
     "output_type": "display_data"
    },
    {
     "data": {
      "application/vnd.jupyter.widget-view+json": {
       "model_id": "a4af4bb5338649839ccf4fc20a34a6d1",
       "version_major": 2,
       "version_minor": 0
      },
      "text/plain": [
       "HBox(children=(FloatProgress(value=0.0, description='Train', max=153.0, style=ProgressStyle(description_width=…"
      ]
     },
     "metadata": {},
     "output_type": "display_data"
    },
    {
     "name": "stdout",
     "output_type": "stream",
     "text": [
      "\n",
      "Epoch: 01 | Time: 0m 28s\n",
      "Training Results - Average Loss: 1.0076 | auc/_mean: 0.8031 | auc/healthy: 0.8636 | auc/multiple_diseases: 0.5683, auc/rust: 0.8993, auc/scab: 0.8812\n",
      "Evaluating Results - Average Loss: 2.2919 | auc/_mean: 0.8274 | auc/healthy: 0.8222 | auc/multiple_diseases: 0.5517, auc/rust: 0.9867, auc/scab: 0.9488\n",
      "\n"
     ]
    },
    {
     "data": {
      "application/vnd.jupyter.widget-view+json": {
       "model_id": "22ff1c97074d4b86b22df4c4d2e242b3",
       "version_major": 2,
       "version_minor": 0
      },
      "text/plain": [
       "HBox(children=(FloatProgress(value=0.0, description='Train', max=153.0, style=ProgressStyle(description_width=…"
      ]
     },
     "metadata": {},
     "output_type": "display_data"
    },
    {
     "name": "stdout",
     "output_type": "stream",
     "text": [
      "\n",
      "Epoch: 02 | Time: 0m 30s\n",
      "Training Results - Average Loss: 0.4911 | auc/_mean: 0.8661 | auc/healthy: 0.9646 | auc/multiple_diseases: 0.5816, auc/rust: 0.9639, auc/scab: 0.9541\n",
      "Evaluating Results - Average Loss: 0.4086 | auc/_mean: 0.8817 | auc/healthy: 0.9912 | auc/multiple_diseases: 0.5527, auc/rust: 0.9940, auc/scab: 0.9891\n",
      "\n"
     ]
    },
    {
     "data": {
      "application/vnd.jupyter.widget-view+json": {
       "model_id": "63b5840b596a4eebba79e3555804ebac",
       "version_major": 2,
       "version_minor": 0
      },
      "text/plain": [
       "HBox(children=(FloatProgress(value=0.0, description='Train', max=153.0, style=ProgressStyle(description_width=…"
      ]
     },
     "metadata": {},
     "output_type": "display_data"
    },
    {
     "name": "stdout",
     "output_type": "stream",
     "text": [
      "\n",
      "Epoch: 03 | Time: 0m 32s\n",
      "Training Results - Average Loss: 0.4502 | auc/_mean: 0.8790 | auc/healthy: 0.9672 | auc/multiple_diseases: 0.6248, auc/rust: 0.9573, auc/scab: 0.9665\n",
      "Evaluating Results - Average Loss: 0.2980 | auc/_mean: 0.9062 | auc/healthy: 0.9905 | auc/multiple_diseases: 0.6485, auc/rust: 0.9943, auc/scab: 0.9915\n",
      "\n"
     ]
    },
    {
     "data": {
      "application/vnd.jupyter.widget-view+json": {
       "model_id": "49aef6d56c824b95a3ed97f2d61d05a2",
       "version_major": 2,
       "version_minor": 0
      },
      "text/plain": [
       "HBox(children=(FloatProgress(value=0.0, description='Train', max=153.0, style=ProgressStyle(description_width=…"
      ]
     },
     "metadata": {},
     "output_type": "display_data"
    },
    {
     "name": "stdout",
     "output_type": "stream",
     "text": [
      "\n",
      "Epoch: 04 | Time: 0m 32s\n",
      "Training Results - Average Loss: 0.2942 | auc/_mean: 0.9114 | auc/healthy: 0.9875 | auc/multiple_diseases: 0.6872, auc/rust: 0.9845, auc/scab: 0.9864\n",
      "Evaluating Results - Average Loss: 0.3305 | auc/_mean: 0.9236 | auc/healthy: 0.9910 | auc/multiple_diseases: 0.7198, auc/rust: 0.9970, auc/scab: 0.9864\n",
      "\n"
     ]
    },
    {
     "data": {
      "application/vnd.jupyter.widget-view+json": {
       "model_id": "83f6b9b9e47b4978ac1b16e199e968a7",
       "version_major": 2,
       "version_minor": 0
      },
      "text/plain": [
       "HBox(children=(FloatProgress(value=0.0, description='Train', max=153.0, style=ProgressStyle(description_width=…"
      ]
     },
     "metadata": {},
     "output_type": "display_data"
    },
    {
     "name": "stdout",
     "output_type": "stream",
     "text": [
      "\n",
      "Epoch: 05 | Time: 0m 30s\n",
      "Training Results - Average Loss: 0.2979 | auc/_mean: 0.9110 | auc/healthy: 0.9861 | auc/multiple_diseases: 0.6885, auc/rust: 0.9875, auc/scab: 0.9817\n",
      "Evaluating Results - Average Loss: 0.2824 | auc/_mean: 0.9020 | auc/healthy: 0.9930 | auc/multiple_diseases: 0.6327, auc/rust: 0.9944, auc/scab: 0.9879\n",
      "\n"
     ]
    },
    {
     "data": {
      "application/vnd.jupyter.widget-view+json": {
       "model_id": "35c176e08351461d8233525820897780",
       "version_major": 2,
       "version_minor": 0
      },
      "text/plain": [
       "HBox(children=(FloatProgress(value=0.0, description='Train', max=153.0, style=ProgressStyle(description_width=…"
      ]
     },
     "metadata": {},
     "output_type": "display_data"
    },
    {
     "name": "stdout",
     "output_type": "stream",
     "text": [
      "\n",
      "Epoch: 06 | Time: 0m 29s\n",
      "Training Results - Average Loss: 0.2728 | auc/_mean: 0.9167 | auc/healthy: 0.9923 | auc/multiple_diseases: 0.7044, auc/rust: 0.9838, auc/scab: 0.9864\n",
      "Evaluating Results - Average Loss: 0.4447 | auc/_mean: 0.9088 | auc/healthy: 0.9817 | auc/multiple_diseases: 0.6765, auc/rust: 0.9901, auc/scab: 0.9868\n",
      "\n"
     ]
    },
    {
     "data": {
      "application/vnd.jupyter.widget-view+json": {
       "model_id": "a19a576f0a4a4e6dbdad59081f176ad7",
       "version_major": 2,
       "version_minor": 0
      },
      "text/plain": [
       "HBox(children=(FloatProgress(value=0.0, description='Train', max=153.0, style=ProgressStyle(description_width=…"
      ]
     },
     "metadata": {},
     "output_type": "display_data"
    },
    {
     "name": "stdout",
     "output_type": "stream",
     "text": [
      "\n",
      "Epoch: 07 | Time: 0m 29s\n",
      "Training Results - Average Loss: 0.2586 | auc/_mean: 0.9306 | auc/healthy: 0.9880 | auc/multiple_diseases: 0.7610, auc/rust: 0.9902, auc/scab: 0.9834\n",
      "Evaluating Results - Average Loss: 0.7077 | auc/_mean: 0.9283 | auc/healthy: 0.9857 | auc/multiple_diseases: 0.7556, auc/rust: 0.9857, auc/scab: 0.9862\n",
      "\n"
     ]
    },
    {
     "data": {
      "application/vnd.jupyter.widget-view+json": {
       "model_id": "8ca533c19df448a5a9c2b15eae57ab7e",
       "version_major": 2,
       "version_minor": 0
      },
      "text/plain": [
       "HBox(children=(FloatProgress(value=0.0, description='Train', max=153.0, style=ProgressStyle(description_width=…"
      ]
     },
     "metadata": {},
     "output_type": "display_data"
    },
    {
     "name": "stdout",
     "output_type": "stream",
     "text": [
      "\n",
      "Epoch: 08 | Time: 0m 31s\n",
      "Training Results - Average Loss: 0.3200 | auc/_mean: 0.9135 | auc/healthy: 0.9865 | auc/multiple_diseases: 0.7067, auc/rust: 0.9830, auc/scab: 0.9779\n",
      "Evaluating Results - Average Loss: 0.2741 | auc/_mean: 0.9127 | auc/healthy: 0.9930 | auc/multiple_diseases: 0.6742, auc/rust: 0.9944, auc/scab: 0.9892\n",
      "\n"
     ]
    },
    {
     "data": {
      "application/vnd.jupyter.widget-view+json": {
       "model_id": "749734fb815740808d384dca2aa1ad03",
       "version_major": 2,
       "version_minor": 0
      },
      "text/plain": [
       "HBox(children=(FloatProgress(value=0.0, description='Train', max=153.0, style=ProgressStyle(description_width=…"
      ]
     },
     "metadata": {},
     "output_type": "display_data"
    },
    {
     "name": "stdout",
     "output_type": "stream",
     "text": [
      "\n",
      "Epoch: 09 | Time: 0m 32s\n",
      "Training Results - Average Loss: 0.2287 | auc/_mean: 0.9402 | auc/healthy: 0.9932 | auc/multiple_diseases: 0.7894, auc/rust: 0.9909, auc/scab: 0.9873\n",
      "Evaluating Results - Average Loss: 0.2527 | auc/_mean: 0.9179 | auc/healthy: 0.9851 | auc/multiple_diseases: 0.7023, auc/rust: 0.9937, auc/scab: 0.9906\n",
      "\n"
     ]
    },
    {
     "data": {
      "application/vnd.jupyter.widget-view+json": {
       "model_id": "e6abeac6d6014923955005140fe422dc",
       "version_major": 2,
       "version_minor": 0
      },
      "text/plain": [
       "HBox(children=(FloatProgress(value=0.0, description='Train', max=153.0, style=ProgressStyle(description_width=…"
      ]
     },
     "metadata": {},
     "output_type": "display_data"
    },
    {
     "name": "stdout",
     "output_type": "stream",
     "text": [
      "\n",
      "Epoch: 10 | Time: 0m 31s\n",
      "Training Results - Average Loss: 0.1660 | auc/_mean: 0.9523 | auc/healthy: 0.9951 | auc/multiple_diseases: 0.8260, auc/rust: 0.9948, auc/scab: 0.9934\n",
      "Evaluating Results - Average Loss: 0.3020 | auc/_mean: 0.9060 | auc/healthy: 0.9930 | auc/multiple_diseases: 0.6528, auc/rust: 0.9876, auc/scab: 0.9906\n",
      "\n"
     ]
    },
    {
     "data": {
      "application/vnd.jupyter.widget-view+json": {
       "model_id": "6b407e7f466f4cf9bba24db156c8b671",
       "version_major": 2,
       "version_minor": 0
      },
      "text/plain": [
       "HBox(children=(FloatProgress(value=0.0, description='Train', max=153.0, style=ProgressStyle(description_width=…"
      ]
     },
     "metadata": {},
     "output_type": "display_data"
    },
    {
     "name": "stdout",
     "output_type": "stream",
     "text": [
      "\n",
      "Epoch: 11 | Time: 0m 30s\n",
      "Training Results - Average Loss: 0.1972 | auc/_mean: 0.9490 | auc/healthy: 0.9928 | auc/multiple_diseases: 0.8192, auc/rust: 0.9915, auc/scab: 0.9923\n",
      "Evaluating Results - Average Loss: 0.3342 | auc/_mean: 0.9207 | auc/healthy: 0.9938 | auc/multiple_diseases: 0.7143, auc/rust: 0.9943, auc/scab: 0.9804\n",
      "\n"
     ]
    },
    {
     "data": {
      "application/vnd.jupyter.widget-view+json": {
       "model_id": "33d4b0a3439a49a4b9106a8213b99c3a",
       "version_major": 2,
       "version_minor": 0
      },
      "text/plain": [
       "HBox(children=(FloatProgress(value=0.0, description='Train', max=153.0, style=ProgressStyle(description_width=…"
      ]
     },
     "metadata": {},
     "output_type": "display_data"
    },
    {
     "name": "stdout",
     "output_type": "stream",
     "text": [
      "\n",
      "Epoch: 12 | Time: 0m 29s\n",
      "Training Results - Average Loss: 0.1556 | auc/_mean: 0.9654 | auc/healthy: 0.9960 | auc/multiple_diseases: 0.8754, auc/rust: 0.9977, auc/scab: 0.9927\n",
      "Evaluating Results - Average Loss: 0.2621 | auc/_mean: 0.9510 | auc/healthy: 0.9908 | auc/multiple_diseases: 0.8268, auc/rust: 0.9968, auc/scab: 0.9898\n",
      "\n"
     ]
    },
    {
     "data": {
      "application/vnd.jupyter.widget-view+json": {
       "model_id": "2903ae60fb86433eab9481dff40da78a",
       "version_major": 2,
       "version_minor": 0
      },
      "text/plain": [
       "HBox(children=(FloatProgress(value=0.0, description='Train', max=153.0, style=ProgressStyle(description_width=…"
      ]
     },
     "metadata": {},
     "output_type": "display_data"
    },
    {
     "name": "stdout",
     "output_type": "stream",
     "text": [
      "\n",
      "Epoch: 13 | Time: 0m 30s\n",
      "Training Results - Average Loss: 0.1385 | auc/_mean: 0.9680 | auc/healthy: 0.9983 | auc/multiple_diseases: 0.8832, auc/rust: 0.9941, auc/scab: 0.9962\n",
      "Evaluating Results - Average Loss: 0.5998 | auc/_mean: 0.8692 | auc/healthy: 0.9610 | auc/multiple_diseases: 0.5616, auc/rust: 0.9915, auc/scab: 0.9625\n",
      "\n"
     ]
    },
    {
     "data": {
      "application/vnd.jupyter.widget-view+json": {
       "model_id": "dd8d021a167b409b82f4c918ce84162f",
       "version_major": 2,
       "version_minor": 0
      },
      "text/plain": [
       "HBox(children=(FloatProgress(value=0.0, description='Train', max=153.0, style=ProgressStyle(description_width=…"
      ]
     },
     "metadata": {},
     "output_type": "display_data"
    },
    {
     "name": "stdout",
     "output_type": "stream",
     "text": [
      "\n",
      "Epoch: 14 | Time: 0m 32s\n",
      "Training Results - Average Loss: 0.2064 | auc/_mean: 0.9546 | auc/healthy: 0.9942 | auc/multiple_diseases: 0.8425, auc/rust: 0.9946, auc/scab: 0.9870\n",
      "Evaluating Results - Average Loss: 0.4214 | auc/_mean: 0.9025 | auc/healthy: 0.9846 | auc/multiple_diseases: 0.6579, auc/rust: 0.9872, auc/scab: 0.9803\n",
      "\n"
     ]
    },
    {
     "data": {
      "application/vnd.jupyter.widget-view+json": {
       "model_id": "8840c018dbaa417e826911701757e345",
       "version_major": 2,
       "version_minor": 0
      },
      "text/plain": [
       "HBox(children=(FloatProgress(value=0.0, description='Train', max=153.0, style=ProgressStyle(description_width=…"
      ]
     },
     "metadata": {},
     "output_type": "display_data"
    },
    {
     "name": "stdout",
     "output_type": "stream",
     "text": [
      "\n",
      "Epoch: 15 | Time: 0m 30s\n",
      "Training Results - Average Loss: 0.1385 | auc/_mean: 0.9733 | auc/healthy: 0.9974 | auc/multiple_diseases: 0.9053, auc/rust: 0.9956, auc/scab: 0.9949\n",
      "Evaluating Results - Average Loss: 0.3327 | auc/_mean: 0.9207 | auc/healthy: 0.9915 | auc/multiple_diseases: 0.7119, auc/rust: 0.9908, auc/scab: 0.9887\n",
      "\n"
     ]
    },
    {
     "data": {
      "application/vnd.jupyter.widget-view+json": {
       "model_id": "3ace183f9dd54b4e887cf163d66ebe9e",
       "version_major": 2,
       "version_minor": 0
      },
      "text/plain": [
       "HBox(children=(FloatProgress(value=0.0, description='Train', max=153.0, style=ProgressStyle(description_width=…"
      ]
     },
     "metadata": {},
     "output_type": "display_data"
    },
    {
     "name": "stdout",
     "output_type": "stream",
     "text": [
      "\n",
      "Epoch: 16 | Time: 0m 32s\n",
      "Training Results - Average Loss: 0.1623 | auc/_mean: 0.9639 | auc/healthy: 0.9960 | auc/multiple_diseases: 0.8714, auc/rust: 0.9952, auc/scab: 0.9928\n",
      "Evaluating Results - Average Loss: 0.3041 | auc/_mean: 0.9085 | auc/healthy: 0.9886 | auc/multiple_diseases: 0.6583, auc/rust: 0.9962, auc/scab: 0.9910\n",
      "\n"
     ]
    },
    {
     "data": {
      "application/vnd.jupyter.widget-view+json": {
       "model_id": "27e088ff0d76400ab884c3657aa30f70",
       "version_major": 2,
       "version_minor": 0
      },
      "text/plain": [
       "HBox(children=(FloatProgress(value=0.0, description='Train', max=153.0, style=ProgressStyle(description_width=…"
      ]
     },
     "metadata": {},
     "output_type": "display_data"
    },
    {
     "name": "stdout",
     "output_type": "stream",
     "text": [
      "\n",
      "Epoch: 17 | Time: 0m 32s\n",
      "Training Results - Average Loss: 0.1238 | auc/_mean: 0.9764 | auc/healthy: 0.9982 | auc/multiple_diseases: 0.9148, auc/rust: 0.9967, auc/scab: 0.9958\n",
      "Evaluating Results - Average Loss: 0.4144 | auc/_mean: 0.9268 | auc/healthy: 0.9930 | auc/multiple_diseases: 0.7391, auc/rust: 0.9950, auc/scab: 0.9803\n",
      "\n"
     ]
    },
    {
     "data": {
      "application/vnd.jupyter.widget-view+json": {
       "model_id": "44e75369bd1248f5b149e6af10df3514",
       "version_major": 2,
       "version_minor": 0
      },
      "text/plain": [
       "HBox(children=(FloatProgress(value=0.0, description='Train', max=153.0, style=ProgressStyle(description_width=…"
      ]
     },
     "metadata": {},
     "output_type": "display_data"
    },
    {
     "name": "stdout",
     "output_type": "stream",
     "text": [
      "\n",
      "Epoch: 18 | Time: 0m 30s\n",
      "Training Results - Average Loss: 0.1509 | auc/_mean: 0.9733 | auc/healthy: 0.9973 | auc/multiple_diseases: 0.9095, auc/rust: 0.9940, auc/scab: 0.9925\n",
      "Evaluating Results - Average Loss: 2.3847 | auc/_mean: 0.8943 | auc/healthy: 0.9802 | auc/multiple_diseases: 0.6433, auc/rust: 0.9683, auc/scab: 0.9854\n",
      "\n"
     ]
    },
    {
     "data": {
      "application/vnd.jupyter.widget-view+json": {
       "model_id": "dc48258b969d4450b10e6432bc71075a",
       "version_major": 2,
       "version_minor": 0
      },
      "text/plain": [
       "HBox(children=(FloatProgress(value=0.0, description='Train', max=153.0, style=ProgressStyle(description_width=…"
      ]
     },
     "metadata": {},
     "output_type": "display_data"
    },
    {
     "name": "stdout",
     "output_type": "stream",
     "text": [
      "\n",
      "Epoch: 19 | Time: 0m 29s\n",
      "Training Results - Average Loss: 0.1371 | auc/_mean: 0.9805 | auc/healthy: 0.9977 | auc/multiple_diseases: 0.9353, auc/rust: 0.9941, auc/scab: 0.9948\n",
      "Evaluating Results - Average Loss: 0.3458 | auc/_mean: 0.9405 | auc/healthy: 0.9872 | auc/multiple_diseases: 0.8023, auc/rust: 0.9947, auc/scab: 0.9776\n",
      "\n"
     ]
    },
    {
     "data": {
      "application/vnd.jupyter.widget-view+json": {
       "model_id": "bfb53e6d7e4d40dfac7270b1a61125a4",
       "version_major": 2,
       "version_minor": 0
      },
      "text/plain": [
       "HBox(children=(FloatProgress(value=0.0, description='Train', max=153.0, style=ProgressStyle(description_width=…"
      ]
     },
     "metadata": {},
     "output_type": "display_data"
    },
    {
     "name": "stdout",
     "output_type": "stream",
     "text": [
      "\n",
      "Epoch: 20 | Time: 0m 28s\n",
      "Training Results - Average Loss: 0.1246 | auc/_mean: 0.9807 | auc/healthy: 0.9988 | auc/multiple_diseases: 0.9328, auc/rust: 0.9963, auc/scab: 0.9949\n",
      "Evaluating Results - Average Loss: 0.3277 | auc/_mean: 0.9124 | auc/healthy: 0.9899 | auc/multiple_diseases: 0.6816, auc/rust: 0.9910, auc/scab: 0.9872\n",
      "\n"
     ]
    },
    {
     "data": {
      "application/vnd.jupyter.widget-view+json": {
       "model_id": "dda9bf21656a40bfa4ea3db6ce3aea4b",
       "version_major": 2,
       "version_minor": 0
      },
      "text/plain": [
       "HBox(children=(FloatProgress(value=0.0, description='Train', max=153.0, style=ProgressStyle(description_width=…"
      ]
     },
     "metadata": {},
     "output_type": "display_data"
    },
    {
     "name": "stdout",
     "output_type": "stream",
     "text": [
      "\n",
      "Epoch: 21 | Time: 0m 29s\n",
      "Training Results - Average Loss: 0.1256 | auc/_mean: 0.9806 | auc/healthy: 0.9958 | auc/multiple_diseases: 0.9356, auc/rust: 0.9973, auc/scab: 0.9938\n",
      "Evaluating Results - Average Loss: 0.6413 | auc/_mean: 0.9074 | auc/healthy: 0.9849 | auc/multiple_diseases: 0.6910, auc/rust: 0.9812, auc/scab: 0.9727\n",
      "\n"
     ]
    },
    {
     "data": {
      "application/vnd.jupyter.widget-view+json": {
       "model_id": "c7b94678bf954a8f9eb69cd4118d2574",
       "version_major": 2,
       "version_minor": 0
      },
      "text/plain": [
       "HBox(children=(FloatProgress(value=0.0, description='Train', max=153.0, style=ProgressStyle(description_width=…"
      ]
     },
     "metadata": {},
     "output_type": "display_data"
    },
    {
     "name": "stdout",
     "output_type": "stream",
     "text": [
      "\n",
      "Epoch: 22 | Time: 0m 29s\n",
      "Training Results - Average Loss: 0.1230 | auc/_mean: 0.9749 | auc/healthy: 0.9974 | auc/multiple_diseases: 0.9120, auc/rust: 0.9938, auc/scab: 0.9964\n",
      "Evaluating Results - Average Loss: 0.4415 | auc/_mean: 0.9133 | auc/healthy: 0.9732 | auc/multiple_diseases: 0.6978, auc/rust: 0.9950, auc/scab: 0.9870\n",
      "\n"
     ]
    },
    {
     "data": {
      "application/vnd.jupyter.widget-view+json": {
       "model_id": "dd7a29771a044aabb34d1c602e5f6681",
       "version_major": 2,
       "version_minor": 0
      },
      "text/plain": [
       "HBox(children=(FloatProgress(value=0.0, description='Train', max=153.0, style=ProgressStyle(description_width=…"
      ]
     },
     "metadata": {},
     "output_type": "display_data"
    },
    {
     "name": "stdout",
     "output_type": "stream",
     "text": [
      "\n",
      "Epoch: 23 | Time: 0m 29s\n",
      "Training Results - Average Loss: 0.1448 | auc/_mean: 0.9781 | auc/healthy: 0.9964 | auc/multiple_diseases: 0.9248, auc/rust: 0.9972, auc/scab: 0.9942\n",
      "Evaluating Results - Average Loss: 0.5054 | auc/_mean: 0.9061 | auc/healthy: 0.9889 | auc/multiple_diseases: 0.6625, auc/rust: 0.9915, auc/scab: 0.9816\n",
      "\n",
      "Epoch    23: reducing learning rate of group 0 to 9.0000e-04.\n",
      "EarlyStopping\n"
     ]
    }
   ],
   "source": [
    "trainer = Trainer(model, train_dataloader, valid_dataloader, criterion, optimizer, scheduler, device, config)\n",
    "trainer.run();"
   ]
  },
  {
   "cell_type": "code",
   "execution_count": null,
   "metadata": {},
   "outputs": [],
   "source": []
  },
  {
   "cell_type": "code",
   "execution_count": null,
   "metadata": {},
   "outputs": [],
   "source": []
  },
  {
   "cell_type": "code",
   "execution_count": 44,
   "metadata": {},
   "outputs": [],
   "source": [
    "\n",
    "class PlantDatasetTest(Dataset):\n",
    "    \n",
    "    def __init__(self, df, config, transforms=None):\n",
    "    \n",
    "        self.df = df\n",
    "        self.images_dir = config.root_images\n",
    "        self.class_names = config.class_names\n",
    "        self.transforms=transforms\n",
    "        \n",
    "    def __len__(self):\n",
    "        return self.df.shape[0]\n",
    "    \n",
    "    def __getitem__(self, idx):\n",
    "        image_src = self.images_dir + self.df.iloc[idx]['image_id'] + '.jpg'\n",
    "        image = cv2.imread(image_src, cv2.IMREAD_COLOR)\n",
    "        image = cv2.cvtColor(image, cv2.COLOR_BGR2RGB)\n",
    "        \n",
    "        if self.transforms:\n",
    "            transformed = self.transforms(image=image)\n",
    "            image = transformed['image']\n",
    "\n",
    "        return image, idx\n",
    "\n",
    "test_df = pd.read_csv(config.root + 'test.csv')\n",
    "test_dataset = PlantDatasetTest(test_df, config, train_transforms)\n",
    "test_dataloader = DataLoader(test_dataset, batch_size=config.batch_size, shuffle=False, num_workers=config.num_workers)"
   ]
  },
  {
   "cell_type": "code",
   "execution_count": 42,
   "metadata": {},
   "outputs": [],
   "source": [
    "def predict(model, dataloader: DataLoader, device, dataset: Dataset, tta_count: int, config: ConfigExperiment):\n",
    "    n_samples = len(dataset)\n",
    "    y_probas_tta = np.zeros((n_samples, config.num_classes, tta_count), dtype=np.float32)\n",
    "    \n",
    "    model.eval()\n",
    "    model.to(device)\n",
    "    with torch.no_grad():\n",
    "        for i_epoch in tqdm(range(tta_count), desc='TTA', total=tta_count, position=1, leave=True):\n",
    "            for i, (images, idx) in enumerate(dataloader):\n",
    "                images = images.to(device)\n",
    "                outputs = model(images)\n",
    "                y_pred = F.softmax(outputs, dim=1)\n",
    "                \n",
    "                tta_index = i_epoch - 1\n",
    "                start_index = (i % len(dataloader)) * config.batch_size\n",
    "                end_index = min(start_index + config.batch_size, n_samples)\n",
    "                batch_y_probas = y_pred.detach().cpu().numpy()                \n",
    "                y_probas_tta[start_index:end_index, :, tta_index] = batch_y_probas\n",
    "\n",
    "    return y_probas_tta"
   ]
  },
  {
   "cell_type": "code",
   "execution_count": 43,
   "metadata": {},
   "outputs": [
    {
     "name": "stdout",
     "output_type": "stream",
     "text": [
      "Loaded pretrained weights for efficientnet-b0\n"
     ]
    },
    {
     "data": {
      "text/plain": [
       "<All keys matched successfully>"
      ]
     },
     "execution_count": 43,
     "metadata": {},
     "output_type": "execute_result"
    }
   ],
   "source": [
    "model = get_model(config.model_name, config.num_classes)\n",
    "model.load_state_dict(torch.load(f\"{config.save_dirname}/best_model_epoch=1_auc_mean=0.8706131482876178.pth\"))"
   ]
  },
  {
   "cell_type": "code",
   "execution_count": 45,
   "metadata": {},
   "outputs": [
    {
     "data": {
      "application/vnd.jupyter.widget-view+json": {
       "model_id": "43162182940f4934b3d270e7f6ae26d1",
       "version_major": 2,
       "version_minor": 0
      },
      "text/plain": [
       "HBox(children=(FloatProgress(value=0.0, description='TTA', max=5.0, style=ProgressStyle(description_width='ini…"
      ]
     },
     "metadata": {},
     "output_type": "display_data"
    },
    {
     "name": "stdout",
     "output_type": "stream",
     "text": [
      "\n"
     ]
    }
   ],
   "source": [
    "result = predict(model, test_dataloader, device, test_dataset, tta_count=5, config=config)"
   ]
  },
  {
   "cell_type": "code",
   "execution_count": 46,
   "metadata": {},
   "outputs": [],
   "source": [
    "y_probas = np.mean(result, axis=-1)"
   ]
  },
  {
   "cell_type": "code",
   "execution_count": 47,
   "metadata": {},
   "outputs": [
    {
     "data": {
      "text/plain": [
       "array([[0.09819383, 0.3116633 , 0.1852319 , 0.40491095],\n",
       "       [0.09934221, 0.13119815, 0.5209352 , 0.24852438],\n",
       "       [0.00145755, 0.01327283, 0.002809  , 0.9824607 ],\n",
       "       [0.9671133 , 0.00678661, 0.01244393, 0.0136562 ],\n",
       "       [0.02429822, 0.02702083, 0.91830266, 0.0303783 ],\n",
       "       [0.6532921 , 0.02755702, 0.12354162, 0.19560926],\n",
       "       [0.8862263 , 0.03570914, 0.0465331 , 0.03153154],\n",
       "       [0.0978264 , 0.04821354, 0.00504111, 0.84891903],\n",
       "       [0.3122094 , 0.10618415, 0.03836362, 0.5432429 ],\n",
       "       [0.27814376, 0.05621394, 0.5502282 , 0.11541412]], dtype=float32)"
      ]
     },
     "execution_count": 47,
     "metadata": {},
     "output_type": "execute_result"
    }
   ],
   "source": [
    "y_probas[:10]"
   ]
  },
  {
   "cell_type": "code",
   "execution_count": 48,
   "metadata": {},
   "outputs": [
    {
     "data": {
      "text/html": [
       "<div>\n",
       "<style scoped>\n",
       "    .dataframe tbody tr th:only-of-type {\n",
       "        vertical-align: middle;\n",
       "    }\n",
       "\n",
       "    .dataframe tbody tr th {\n",
       "        vertical-align: top;\n",
       "    }\n",
       "\n",
       "    .dataframe thead th {\n",
       "        text-align: right;\n",
       "    }\n",
       "</style>\n",
       "<table border=\"1\" class=\"dataframe\">\n",
       "  <thead>\n",
       "    <tr style=\"text-align: right;\">\n",
       "      <th></th>\n",
       "      <th>image_id</th>\n",
       "      <th>healthy</th>\n",
       "      <th>multiple_diseases</th>\n",
       "      <th>rust</th>\n",
       "      <th>scab</th>\n",
       "    </tr>\n",
       "  </thead>\n",
       "  <tbody>\n",
       "    <tr>\n",
       "      <th>0</th>\n",
       "      <td>Test_0</td>\n",
       "      <td>0.098194</td>\n",
       "      <td>0.311663</td>\n",
       "      <td>0.185232</td>\n",
       "      <td>0.404911</td>\n",
       "    </tr>\n",
       "    <tr>\n",
       "      <th>1</th>\n",
       "      <td>Test_1</td>\n",
       "      <td>0.099342</td>\n",
       "      <td>0.131198</td>\n",
       "      <td>0.520935</td>\n",
       "      <td>0.248524</td>\n",
       "    </tr>\n",
       "    <tr>\n",
       "      <th>2</th>\n",
       "      <td>Test_2</td>\n",
       "      <td>0.001458</td>\n",
       "      <td>0.013273</td>\n",
       "      <td>0.002809</td>\n",
       "      <td>0.982461</td>\n",
       "    </tr>\n",
       "    <tr>\n",
       "      <th>3</th>\n",
       "      <td>Test_3</td>\n",
       "      <td>0.967113</td>\n",
       "      <td>0.006787</td>\n",
       "      <td>0.012444</td>\n",
       "      <td>0.013656</td>\n",
       "    </tr>\n",
       "    <tr>\n",
       "      <th>4</th>\n",
       "      <td>Test_4</td>\n",
       "      <td>0.024298</td>\n",
       "      <td>0.027021</td>\n",
       "      <td>0.918303</td>\n",
       "      <td>0.030378</td>\n",
       "    </tr>\n",
       "  </tbody>\n",
       "</table>\n",
       "</div>"
      ],
      "text/plain": [
       "  image_id   healthy  multiple_diseases      rust      scab\n",
       "0   Test_0  0.098194           0.311663  0.185232  0.404911\n",
       "1   Test_1  0.099342           0.131198  0.520935  0.248524\n",
       "2   Test_2  0.001458           0.013273  0.002809  0.982461\n",
       "3   Test_3  0.967113           0.006787  0.012444  0.013656\n",
       "4   Test_4  0.024298           0.027021  0.918303  0.030378"
      ]
     },
     "execution_count": 48,
     "metadata": {},
     "output_type": "execute_result"
    }
   ],
   "source": [
    "test_df = pd.read_csv(config.root + 'test.csv')\n",
    "test_df[\"healthy\"] = 0\n",
    "test_df[\"multiple_diseases\"] = 0\n",
    "test_df[\"rust\"] = 0\n",
    "test_df[\"scab\"] = 0\n",
    "test_df[['healthy', 'multiple_diseases', 'rust', 'scab']] = y_probas\n",
    "test_df.to_csv(config.submission_file, index=False)\n",
    "test_df.head()"
   ]
  },
  {
   "cell_type": "code",
   "execution_count": 49,
   "metadata": {},
   "outputs": [
    {
     "data": {
      "text/plain": [
       "'02_effb0_hard_aug.csv'"
      ]
     },
     "execution_count": 49,
     "metadata": {},
     "output_type": "execute_result"
    }
   ],
   "source": [
    "config.submission_file"
   ]
  },
  {
   "cell_type": "code",
   "execution_count": null,
   "metadata": {},
   "outputs": [],
   "source": []
  },
  {
   "cell_type": "code",
   "execution_count": null,
   "metadata": {},
   "outputs": [],
   "source": []
  },
  {
   "cell_type": "code",
   "execution_count": null,
   "metadata": {},
   "outputs": [],
   "source": []
  },
  {
   "cell_type": "code",
   "execution_count": null,
   "metadata": {},
   "outputs": [],
   "source": []
  },
  {
   "cell_type": "code",
   "execution_count": null,
   "metadata": {},
   "outputs": [],
   "source": []
  },
  {
   "cell_type": "code",
   "execution_count": null,
   "metadata": {},
   "outputs": [],
   "source": []
  },
  {
   "cell_type": "code",
   "execution_count": null,
   "metadata": {},
   "outputs": [],
   "source": []
  },
  {
   "cell_type": "code",
   "execution_count": null,
   "metadata": {},
   "outputs": [],
   "source": []
  },
  {
   "cell_type": "code",
   "execution_count": null,
   "metadata": {},
   "outputs": [],
   "source": []
  },
  {
   "cell_type": "code",
   "execution_count": null,
   "metadata": {},
   "outputs": [],
   "source": []
  },
  {
   "cell_type": "code",
   "execution_count": null,
   "metadata": {},
   "outputs": [],
   "source": []
  },
  {
   "cell_type": "code",
   "execution_count": null,
   "metadata": {},
   "outputs": [],
   "source": []
  },
  {
   "cell_type": "code",
   "execution_count": null,
   "metadata": {},
   "outputs": [],
   "source": []
  },
  {
   "cell_type": "code",
   "execution_count": null,
   "metadata": {},
   "outputs": [],
   "source": []
  }
 ],
 "metadata": {
  "kernelspec": {
   "display_name": "Python 3",
   "language": "python",
   "name": "python3"
  },
  "language_info": {
   "codemirror_mode": {
    "name": "ipython",
    "version": 3
   },
   "file_extension": ".py",
   "mimetype": "text/x-python",
   "name": "python",
   "nbconvert_exporter": "python",
   "pygments_lexer": "ipython3",
   "version": "3.6.9"
  }
 },
 "nbformat": 4,
 "nbformat_minor": 4
}
