{
 "cells": [
  {
   "cell_type": "code",
   "execution_count": 1,
   "metadata": {},
   "outputs": [],
   "source": [
    "import warnings  \n",
    "\n",
    "import os\n",
    "import time\n",
    "import random\n",
    "import numpy as np\n",
    "import pandas as pd\n",
    "import matplotlib.pyplot as plt\n",
    "\n",
    "import albumentations as A\n",
    "from albumentations.pytorch import ToTensorV2\n",
    "import cv2\n",
    "\n",
    "import torch\n",
    "import torch.nn as nn\n",
    "import torch.nn.functional as F\n",
    "import torchvision\n",
    "import torch.optim as optim\n",
    "from torch.utils.data import Dataset, DataLoader\n",
    "from torch.utils.data.dataset import Subset\n",
    "from torch.nn.functional import softmax\n",
    "\n",
    "from efficientnet_pytorch import EfficientNet\n",
    "\n",
    "from typing import Callable, List, Tuple, Dict\n",
    "from pathlib import Path\n",
    "\n",
    "from transformers import AdamW\n",
    "from transformers import get_cosine_schedule_with_warmup\n",
    "\n",
    "from sklearn.metrics import roc_auc_score, accuracy_score\n",
    "from sklearn.model_selection import train_test_split\n",
    "from collections import defaultdict, OrderedDict\n",
    "from tqdm.notebook import tqdm\n",
    "from torchsummary import summary\n",
    "\n",
    "import matplotlib\n",
    "matplotlib.rcParams.update({'figure.figsize': (16, 12), 'font.size': 14})\n",
    "import matplotlib.pyplot as plt\n",
    "%matplotlib inline\n",
    "from IPython.display import clear_output"
   ]
  },
  {
   "cell_type": "code",
   "execution_count": 2,
   "metadata": {},
   "outputs": [],
   "source": [
    "warnings.simplefilter(\"ignore\", UserWarning)\n",
    "warnings.simplefilter(\"ignore\", DeprecationWarning)\n",
    "warnings.filterwarnings('ignore')\n",
    "os.environ[\"PYTHONWARNINGS\"] = \"ignore\""
   ]
  },
  {
   "cell_type": "code",
   "execution_count": 3,
   "metadata": {},
   "outputs": [
    {
     "name": "stdout",
     "output_type": "stream",
     "text": [
      "Directory  00_efficientnet-b4  already exists\n"
     ]
    }
   ],
   "source": [
    "EXPERIMENT_NAME = \"00_efficientnet-b4\"\n",
    "\n",
    "class ConfigExperiment:\n",
    "    logdir = f\"./logs/{EXPERIMENT_NAME}\"\n",
    "    save_dirname = EXPERIMENT_NAME\n",
    "    submission_file = f\"{EXPERIMENT_NAME}.csv\"\n",
    "    seed = 42\n",
    "    batch_size = 8\n",
    "    model_name = 'efficientnet-b4'\n",
    "    size = 512\n",
    "    num_workers = 20\n",
    "    root_images = \"../../../data/raw/plant-pathology-2020-fgvc7/images/\"\n",
    "    root = \"../../../data/raw/plant-pathology-2020-fgvc7/\"\n",
    "    num_classes = 4\n",
    "    patience = 10\n",
    "    early_stopping_delta = 1e-4\n",
    "    num_epochs = 200\n",
    "    lr = 0.003\n",
    "    class_names = [\"healthy\", \"multiple_diseases\", \"rust\", \"scab\"]\n",
    "    is_fp16_used = False\n",
    "    \n",
    "    \n",
    "def set_seed(seed):\n",
    "    torch.manual_seed(seed)\n",
    "    torch.cuda.manual_seed_all(seed)\n",
    "    torch.backends.cudnn.deterministic = True\n",
    "    torch.backends.cudnn.benchmark = False\n",
    "    np.random.seed(seed)\n",
    "    random.seed(seed)\n",
    "    os.environ['PYTHONHASHSEED'] = str(seed)\n",
    "    \n",
    "    \n",
    "config = ConfigExperiment()\n",
    "set_seed(config.seed)\n",
    "config.size = EfficientNet.get_image_size(config.model_name)\n",
    "os.environ[\"CUDA_VISIBLE_DEVICES\"] = \"0\"\n",
    "device = \"cuda\" if torch.cuda.is_available() else \"cpu\"\n",
    "\n",
    "try:\n",
    "    # Create target Directory\n",
    "    os.mkdir(config.save_dirname)\n",
    "    print(\"Directory \" , config.save_dirname ,  \" Created \") \n",
    "except FileExistsError:\n",
    "    print(\"Directory \" , config.save_dirname ,  \" already exists\")"
   ]
  },
  {
   "cell_type": "code",
   "execution_count": 4,
   "metadata": {},
   "outputs": [],
   "source": [
    "class PlantDataset(Dataset):\n",
    "    \n",
    "    def __init__(self, df, config, transforms=None):\n",
    "    \n",
    "        self.df = df\n",
    "        self.images_dir = config.root_images\n",
    "        self.class_names = config.class_names\n",
    "        self.transforms=transforms\n",
    "        \n",
    "    def __len__(self):\n",
    "        return self.df.shape[0]\n",
    "    \n",
    "    def __getitem__(self, idx):\n",
    "        image_src = self.images_dir + self.df.iloc[idx]['image_id'] + '.jpg'\n",
    "        image = cv2.imread(image_src, cv2.IMREAD_COLOR)\n",
    "        image = cv2.cvtColor(image, cv2.COLOR_BGR2RGB)\n",
    "        labels = self.df.iloc[idx][self.class_names].values.astype(np.int8)\n",
    "        label = torch.argmax(torch.from_numpy(labels))\n",
    "        \n",
    "        if self.transforms:\n",
    "            transformed = self.transforms(image=image)\n",
    "            image = transformed['image']\n",
    "\n",
    "        return image, label"
   ]
  },
  {
   "cell_type": "code",
   "execution_count": 5,
   "metadata": {},
   "outputs": [],
   "source": [
    "def pre_transforms(image_size=224):\n",
    "    # Convert the image to a square of size image_size x image_size\n",
    "    # (keeping aspect ratio)\n",
    "    result = [\n",
    "        A.LongestMaxSize(max_size=image_size),\n",
    "        A.PadIfNeeded(image_size, image_size, border_mode=0)\n",
    "    ]\n",
    "    \n",
    "    return result\n",
    "\n",
    "def hard_transforms():\n",
    "    result = [\n",
    "        # Random shifts, stretches and turns with a 50% probability\n",
    "#         A.RandomResizedCrop(height=config.size, width=config.size, p=1.0),\n",
    "        A.Flip(),\n",
    "        A.ShiftScaleRotate(rotate_limit=1.0, p=0.8),\n",
    "\n",
    "        # Pixels\n",
    "        A.OneOf([\n",
    "            A.IAAEmboss(p=1.0),\n",
    "            A.IAASharpen(p=1.0),\n",
    "            A.Blur(p=1.0),\n",
    "        ], p=0.5),\n",
    "\n",
    "        # Affine\n",
    "        A.OneOf([\n",
    "            A.ElasticTransform(p=1.0),\n",
    "            A.IAAPiecewiseAffine(p=1.0)\n",
    "        ], p=0.5),\n",
    "    ]\n",
    "    \n",
    "    return result\n",
    "\n",
    "def post_transforms():\n",
    "    # we use ImageNet image normalization\n",
    "    # and convert it to torch.Tensor\n",
    "    return [A.Normalize(p=1.0), ToTensorV2(p=1.0),]\n",
    "\n",
    "def compose(transforms_to_compose):\n",
    "    # combine all augmentations into one single pipeline\n",
    "    result = A.Compose([item for sublist in transforms_to_compose for item in sublist])\n",
    "    return result"
   ]
  },
  {
   "cell_type": "code",
   "execution_count": 6,
   "metadata": {},
   "outputs": [],
   "source": [
    "train_df = pd.read_csv(config.root + 'train.csv')\n",
    "train, valid = train_test_split(train_df, test_size=0.33, random_state=config.seed, shuffle=True, stratify=train_df[config.class_names])\n",
    "\n",
    "train_transforms = compose([\n",
    "    pre_transforms(config.size),\n",
    "#     hard_transforms(), \n",
    "    post_transforms()\n",
    "])\n",
    "valid_transforms = compose([\n",
    "    pre_transforms(config.size), \n",
    "    post_transforms()\n",
    "])\n",
    "\n",
    "show_transforms = compose([\n",
    "    pre_transforms(config.size),\n",
    "#     hard_transforms()\n",
    "])\n",
    "\n",
    "train_dataset = PlantDataset(train, config, train_transforms)\n",
    "valid_dataset = PlantDataset(valid, config, valid_transforms)\n",
    "\n",
    "train_dataloader = DataLoader(train_dataset, batch_size=config.batch_size, shuffle=True, num_workers=config.num_workers)\n",
    "valid_dataloader = DataLoader(valid_dataset, batch_size=config.batch_size, shuffle=False, num_workers=config.num_workers)"
   ]
  },
  {
   "cell_type": "code",
   "execution_count": 7,
   "metadata": {},
   "outputs": [
    {
     "name": "stdout",
     "output_type": "stream",
     "text": [
      "Loaded pretrained weights for efficientnet-b4\n"
     ]
    }
   ],
   "source": [
    "def get_model(model_name: str, num_classes: int, pretrained: str = \"imagenet\") -> EfficientNet:\n",
    "    model = EfficientNet.from_pretrained(model_name)\n",
    "    for param in model.parameters():\n",
    "        param.requires_grad = False\n",
    "    num_ftrs = model._fc.in_features\n",
    "    model._fc = nn.Sequential(nn.Linear(num_ftrs, num_classes, bias = True))\n",
    "    return model\n",
    "\n",
    "model = get_model(config.model_name, config.num_classes)"
   ]
  },
  {
   "cell_type": "code",
   "execution_count": 8,
   "metadata": {},
   "outputs": [],
   "source": [
    "criterion = nn.CrossEntropyLoss()\n",
    "optimizer = torch.optim.Adam(model.parameters(), lr=config.lr)\n",
    "scheduler = torch.optim.lr_scheduler.ReduceLROnPlateau(optimizer, patience=3, verbose=True, mode=\"min\", factor=0.3)\n",
    "# scheduler = torch.optim.lr_scheduler.ExponentialLR(optimizer, gamma=0.8)\n",
    "\n",
    "# end_lr = 0.1\n",
    "# start_lr = 1e-7\n",
    "# lr_lambda = lambda x: math.exp(x * math.log(end_lr / start_lr) / (lr_find_epochs * len(train_dataloader)))\n",
    "# scheduler = torch.optim.lr_scheduler.LambdaLR(optimizer, lr_lambda)\n",
    "\n",
    "# scheduler_1 = LinearCyclicalScheduler(optimizer, \"lr\", start_value=0.01, end_value=0.005, cycle_size=60)\n",
    "# scheduler_2 = CosineAnnealingScheduler(optimizer, \"lr\", start_value=0.05, end_value=0.001, cycle_size=60)\n",
    "# combined_scheduler = ConcatScheduler(schedulers=[scheduler_1, scheduler_2], durations=[30, ])"
   ]
  },
  {
   "cell_type": "code",
   "execution_count": 11,
   "metadata": {},
   "outputs": [],
   "source": [
    "class Trainer:\n",
    "    def __init__(self, model, train_dataloader: DataLoader, valid_dataloader: DataLoader, criterion, optimizer, scheduler, device, config: ConfigExperiment):\n",
    "        self.model = model\n",
    "        self.train_dataloader = train_dataloader\n",
    "        self.valid_dataloader = valid_dataloader\n",
    "        self.criterion = criterion\n",
    "        self.optimizer = optimizer\n",
    "        self.scheduler = scheduler\n",
    "        self.device = device\n",
    "        self.config = config\n",
    "        self.train_metrics = {\n",
    "            'avg_loss': [],\n",
    "            'auc/_mean': [],\n",
    "            'auc/healthy': [],\n",
    "            'auc/multiple_diseases': [],\n",
    "            'auc/rust': [],\n",
    "            'auc/scab': [],\n",
    "        }\n",
    "        self.valid_metrics = {\n",
    "            'avg_loss': [],\n",
    "            'auc/_mean': [],\n",
    "            'auc/healthy': [],\n",
    "            'auc/multiple_diseases': [],\n",
    "            'auc/rust': [],\n",
    "            'auc/scab': [],\n",
    "        }\n",
    "        self.counter = 0\n",
    "        self.delta = config.early_stopping_delta\n",
    "      \n",
    "    def run(self):\n",
    "        self.model.to(device)\n",
    "        best_valid_loss = float('inf')\n",
    "        best_valid_auc_mean = 0\n",
    "\n",
    "        try:\n",
    "            for i_epoch in tqdm(range(self.config.num_epochs), desc='Epochs', total=config.num_epochs, position=1, leave=True):\n",
    "                start_time = time.time()\n",
    "\n",
    "                train_loss, train_outputs, train_targets = self._train()\n",
    "                valid_loss, valid_outputs, valid_targets = self._evaluate()\n",
    "                    \n",
    "                self.train_metrics[\"avg_loss\"].append(train_loss)\n",
    "                self.train_metrics[\"auc/_mean\"].append(self.comp_metric(train_outputs, train_targets))\n",
    "                self.train_metrics[\"auc/healthy\"].append(self.healthy_roc_auc(train_outputs, train_targets))\n",
    "                self.train_metrics[\"auc/multiple_diseases\"].append(self.multiple_diseases_roc_auc(train_outputs, train_targets))\n",
    "                self.train_metrics[\"auc/rust\"].append(self.rust_roc_auc(train_outputs, train_targets))\n",
    "                self.train_metrics[\"auc/scab\"].append(self.scab_roc_auc(train_outputs, train_targets))\n",
    "                \n",
    "                self.valid_metrics[\"avg_loss\"].append(valid_loss)\n",
    "                self.valid_metrics[\"auc/_mean\"].append(self.comp_metric(valid_outputs, valid_targets))\n",
    "                self.valid_metrics[\"auc/healthy\"].append(self.healthy_roc_auc(valid_outputs, valid_targets))\n",
    "                self.valid_metrics[\"auc/multiple_diseases\"].append(self.multiple_diseases_roc_auc(valid_outputs, valid_targets))\n",
    "                self.valid_metrics[\"auc/rust\"].append(self.rust_roc_auc(valid_outputs, valid_targets))\n",
    "                self.valid_metrics[\"auc/scab\"].append(self.scab_roc_auc(valid_outputs, valid_targets))\n",
    "                \n",
    "                end_time = time.time()\n",
    "                epoch_mins, epoch_secs = self._epoch_time(start_time, end_time)\n",
    "                self.print_progress(i_epoch, epoch_mins, epoch_secs)\n",
    "                \n",
    "                self.scheduler.step(self.valid_metrics[\"auc/_mean\"][-1])\n",
    "                \n",
    "                if valid_loss < best_valid_loss:\n",
    "                    self.counter = 0\n",
    "                    best_valid_loss = valid_loss\n",
    "                    torch.save(model.state_dict(), f\"{config.save_dirname}/best_model_epoch={i_epoch+1}_loss={best_valid_loss}.pth\")\n",
    "                else:\n",
    "                    self.counter += 1\n",
    "                    \n",
    "                if self.valid_metrics[\"auc/_mean\"][-1] > best_valid_auc_mean:\n",
    "                    best_valid_auc_mean = self.valid_metrics[\"auc/_mean\"][-1]\n",
    "                    torch.save(model.state_dict(), f\"{config.save_dirname}/best_model_epoch={i_epoch+1}_auc_mean={best_valid_auc_mean}.pth\")\n",
    "                    \n",
    "                if self.counter > self.config.patience:\n",
    "                    print(\"EarlyStopping\")\n",
    "                    break\n",
    "        except KeyboardInterrupt: \n",
    "            pass\n",
    "        \n",
    "        return self.train_metrics, self.valid_metrics\n",
    "        \n",
    "    def _train(self):\n",
    "        model.train()\n",
    "        epoch_loss = 0\n",
    "        epoch_output = None\n",
    "        epoch_target = None\n",
    "        for i, (images, labels) in tqdm(enumerate(self.train_dataloader), desc='Train', total=len(self.train_dataloader), position=2, leave=True):\n",
    "            loss_iten, outputs = self._train_process(images, labels)\n",
    "            epoch_loss += loss_iten              \n",
    "\n",
    "            if epoch_output is None:\n",
    "                epoch_output = outputs.cpu().data\n",
    "            else:\n",
    "                epoch_output = torch.cat((epoch_output, outputs.cpu().data))\n",
    "\n",
    "            if epoch_target is None:\n",
    "                epoch_target = labels.cpu().data\n",
    "            else:\n",
    "                epoch_target = torch.cat((epoch_target, labels.cpu().data))\n",
    "            \n",
    "        return epoch_loss / len(self.train_dataloader), epoch_output, epoch_target\n",
    "    \n",
    "    def _train_process(self, images, labels):\n",
    "        images = images.to(self.device)\n",
    "        labels = labels.to(self.device)\n",
    "        self.optimizer.zero_grad()\n",
    "        outputs = self.model(images)\n",
    "        loss = self.criterion(outputs, labels)\n",
    "        loss.backward()\n",
    "        self.optimizer.step()\n",
    "        return loss.item(), outputs\n",
    "            \n",
    "    def _evaluate(self):\n",
    "        model.eval()\n",
    "        epoch_loss = 0\n",
    "        epoch_output = None\n",
    "        epoch_target = None\n",
    "        with torch.no_grad():\n",
    "            for i, (images, labels) in enumerate(self.valid_dataloader):\n",
    "                images = images.to(device)\n",
    "                labels = labels.to(device)\n",
    "                outputs = model(images)\n",
    "                loss = criterion(outputs, labels)\n",
    "                epoch_loss += loss.item()\n",
    "                \n",
    "                if epoch_output is None:\n",
    "                    epoch_output = outputs.cpu().data\n",
    "                else:\n",
    "                    epoch_output = torch.cat((epoch_output, outputs.cpu().data))\n",
    "\n",
    "                if epoch_target is None:\n",
    "                    epoch_target = labels.cpu().data\n",
    "                else:\n",
    "                    epoch_target = torch.cat((epoch_target, labels.cpu().data))\n",
    "\n",
    "        return epoch_loss / len(self.valid_dataloader), epoch_output, epoch_target\n",
    "    \n",
    "#     def _evaluate_tta(self):\n",
    "#         n_samples = len(dataset)\n",
    "#         y_probas_tta = np.zeros((n_samples, config.num_classes, tta_count), dtype=np.float32)\n",
    "\n",
    "#         model.eval()\n",
    "#         model.to(device)\n",
    "#         with torch.no_grad():\n",
    "#             for i_epoch in tqdm(range(tta_count), desc='TTA', total=tta_count, position=1, leave=True):\n",
    "#                 for i, (images, idx) in enumerate(dataloader):\n",
    "#                     images = images.to(device)\n",
    "#                     outputs = model(images)\n",
    "#                     y_pred = F.softmax(outputs, dim=1)\n",
    "\n",
    "#                     tta_index = i_epoch - 1\n",
    "#                     start_index = (i % len(dataloader)) * config.batch_size\n",
    "#                     end_index = min(start_index + config.batch_size, n_samples)\n",
    "#                     batch_y_probas = y_pred.detach().cpu().numpy()                \n",
    "#                     y_probas_tta[start_index:end_index, :, tta_index] = batch_y_probas\n",
    "\n",
    "#         return y_probas_tta\n",
    "\n",
    "#     def show_history(self):\n",
    "#         fig, ax = plt.subplots(nrows=1, ncols=2, figsize=(12, 8))\n",
    "#         clear_output(True)\n",
    "#         ax[0].plot(history, label='train loss')\n",
    "#         ax[0].set_xlabel('Batch')\n",
    "#         ax[0].set_title('Train loss')\n",
    "#         if train_history is not None:\n",
    "#             ax[1].plot(train_history, label='general train history')\n",
    "#             ax[1].set_xlabel('Epoch')\n",
    "#         if valid_history is not None:\n",
    "#             ax[1].plot(valid_history, label='general valid history')\n",
    "#         plt.legend()\n",
    "#         plt.show()\n",
    "\n",
    "    \n",
    "    def _epoch_time(self, start_time, end_time):\n",
    "        elapsed_time = end_time - start_time\n",
    "        elapsed_mins = int(elapsed_time / 60)\n",
    "        elapsed_secs = int(elapsed_time - (elapsed_mins * 60))\n",
    "        return elapsed_mins, elapsed_secs\n",
    "\n",
    "    def print_progress(self, i_epoch, epoch_mins, epoch_secs):\n",
    "        i_epoch = i_epoch + 1\n",
    "        print(f\"Epoch: {i_epoch:02} | Time: {epoch_mins}m {epoch_secs}s\")\n",
    "        print(\"Training Results - Average Loss: {:.4f} | auc/_mean: {:.4f} | auc/healthy: {:.4f} | auc/multiple_diseases: {:.4f}, auc/rust: {:.4f}, auc/scab: {:.4f}\"\n",
    "            .format(\n",
    "                self.train_metrics['avg_loss'][-1], \n",
    "                self.train_metrics['auc/_mean'][-1],\n",
    "                self.train_metrics['auc/healthy'][-1],\n",
    "                self.train_metrics['auc/multiple_diseases'][-1],\n",
    "                self.train_metrics['auc/rust'][-1],\n",
    "                self.train_metrics['auc/scab'][-1],\n",
    "            ))\n",
    "        print(\"Evaluating Results - Average Loss: {:.4f} | auc/_mean: {:.4f} | auc/healthy: {:.4f} | auc/multiple_diseases: {:.4f}, auc/rust: {:.4f}, auc/scab: {:.4f}\"\n",
    "            .format( \n",
    "                self.valid_metrics['avg_loss'][-1], \n",
    "                self.valid_metrics['auc/_mean'][-1],\n",
    "                self.valid_metrics['auc/healthy'][-1],\n",
    "                self.valid_metrics['auc/multiple_diseases'][-1],\n",
    "                self.valid_metrics['auc/rust'][-1],\n",
    "                self.valid_metrics['auc/scab'][-1],\n",
    "            ))\n",
    "        print()\n",
    "        \n",
    "    def comp_metric(self, preds, targs, labels=range(4)):\n",
    "        preds = torch.sigmoid(preds)\n",
    "        targs = torch.eye(4)[targs]\n",
    "        return np.mean([roc_auc_score(targs[:,i], preds[:,i]) for i in labels])\n",
    "\n",
    "    def healthy_roc_auc(self, *args):\n",
    "        return self.comp_metric(*args, labels=[0])\n",
    "\n",
    "    def multiple_diseases_roc_auc(self, *args):\n",
    "        return self.comp_metric(*args, labels=[1])\n",
    "\n",
    "    def rust_roc_auc(self, *args):\n",
    "        return self.comp_metric(*args, labels=[2])\n",
    "\n",
    "    def scab_roc_auc(self, *args):\n",
    "        return self.comp_metric(*args, labels=[3])\n",
    "\n"
   ]
  },
  {
   "cell_type": "code",
   "execution_count": 10,
   "metadata": {},
   "outputs": [
    {
     "data": {
      "application/vnd.jupyter.widget-view+json": {
       "model_id": "3255f631dea34648ab66872d2e803792",
       "version_major": 2,
       "version_minor": 0
      },
      "text/plain": [
       "HBox(children=(FloatProgress(value=0.0, description='Epochs', max=200.0, style=ProgressStyle(description_width…"
      ]
     },
     "metadata": {},
     "output_type": "display_data"
    },
    {
     "data": {
      "application/vnd.jupyter.widget-view+json": {
       "model_id": "03398aa053674e63b00c4a0efe9ecc67",
       "version_major": 2,
       "version_minor": 0
      },
      "text/plain": [
       "HBox(children=(FloatProgress(value=0.0, description='Train', max=153.0, style=ProgressStyle(description_width=…"
      ]
     },
     "metadata": {},
     "output_type": "display_data"
    },
    {
     "name": "stdout",
     "output_type": "stream",
     "text": [
      "\n",
      "Epoch: 01 | Time: 0m 33s\n",
      "Training Results - Average Loss: 0.8486 | auc/_mean: 0.7962 | auc/healthy: 0.8499 | auc/multiple_diseases: 0.6130, auc/rust: 0.8581, auc/scab: 0.8639\n",
      "Evaluating Results - Average Loss: 0.5046 | auc/_mean: 0.9059 | auc/healthy: 0.9512 | auc/multiple_diseases: 0.7480, auc/rust: 0.9821, auc/scab: 0.9423\n",
      "\n"
     ]
    },
    {
     "data": {
      "application/vnd.jupyter.widget-view+json": {
       "model_id": "0d4898f5eb87401fa1f00db8f3985012",
       "version_major": 2,
       "version_minor": 0
      },
      "text/plain": [
       "HBox(children=(FloatProgress(value=0.0, description='Train', max=153.0, style=ProgressStyle(description_width=…"
      ]
     },
     "metadata": {},
     "output_type": "display_data"
    },
    {
     "name": "stdout",
     "output_type": "stream",
     "text": [
      "\n",
      "Epoch: 02 | Time: 0m 33s\n",
      "Training Results - Average Loss: 0.6427 | auc/_mean: 0.8735 | auc/healthy: 0.9155 | auc/multiple_diseases: 0.7622, auc/rust: 0.9202, auc/scab: 0.8961\n",
      "Evaluating Results - Average Loss: 0.4601 | auc/_mean: 0.9134 | auc/healthy: 0.9530 | auc/multiple_diseases: 0.7752, auc/rust: 0.9735, auc/scab: 0.9521\n",
      "\n"
     ]
    },
    {
     "data": {
      "application/vnd.jupyter.widget-view+json": {
       "model_id": "658b78eba69e4856ab786e3d99b8868f",
       "version_major": 2,
       "version_minor": 0
      },
      "text/plain": [
       "HBox(children=(FloatProgress(value=0.0, description='Train', max=153.0, style=ProgressStyle(description_width=…"
      ]
     },
     "metadata": {},
     "output_type": "display_data"
    },
    {
     "name": "stdout",
     "output_type": "stream",
     "text": [
      "\n",
      "Epoch: 03 | Time: 0m 33s\n",
      "Training Results - Average Loss: 0.5642 | auc/_mean: 0.8982 | auc/healthy: 0.9127 | auc/multiple_diseases: 0.8113, auc/rust: 0.9425, auc/scab: 0.9262\n",
      "Evaluating Results - Average Loss: 0.4741 | auc/_mean: 0.8989 | auc/healthy: 0.9580 | auc/multiple_diseases: 0.7217, auc/rust: 0.9636, auc/scab: 0.9522\n",
      "\n"
     ]
    },
    {
     "data": {
      "application/vnd.jupyter.widget-view+json": {
       "model_id": "f4c1729a48b64f0b8b6160134c1fc434",
       "version_major": 2,
       "version_minor": 0
      },
      "text/plain": [
       "HBox(children=(FloatProgress(value=0.0, description='Train', max=153.0, style=ProgressStyle(description_width=…"
      ]
     },
     "metadata": {},
     "output_type": "display_data"
    },
    {
     "name": "stdout",
     "output_type": "stream",
     "text": [
      "\n",
      "Epoch: 04 | Time: 0m 33s\n",
      "Training Results - Average Loss: 0.5313 | auc/_mean: 0.9113 | auc/healthy: 0.9307 | auc/multiple_diseases: 0.8502, auc/rust: 0.9350, auc/scab: 0.9292\n",
      "Evaluating Results - Average Loss: 0.4775 | auc/_mean: 0.8979 | auc/healthy: 0.9516 | auc/multiple_diseases: 0.7254, auc/rust: 0.9642, auc/scab: 0.9504\n",
      "\n"
     ]
    },
    {
     "data": {
      "application/vnd.jupyter.widget-view+json": {
       "model_id": "cada6d90218f4b16a1e8166e651a20b8",
       "version_major": 2,
       "version_minor": 0
      },
      "text/plain": [
       "HBox(children=(FloatProgress(value=0.0, description='Train', max=153.0, style=ProgressStyle(description_width=…"
      ]
     },
     "metadata": {},
     "output_type": "display_data"
    },
    {
     "name": "stdout",
     "output_type": "stream",
     "text": [
      "\n",
      "Epoch: 05 | Time: 0m 33s\n",
      "Training Results - Average Loss: 0.5327 | auc/_mean: 0.8982 | auc/healthy: 0.9262 | auc/multiple_diseases: 0.7876, auc/rust: 0.9434, auc/scab: 0.9358\n",
      "Evaluating Results - Average Loss: 0.4733 | auc/_mean: 0.8946 | auc/healthy: 0.9540 | auc/multiple_diseases: 0.7111, auc/rust: 0.9647, auc/scab: 0.9486\n",
      "\n"
     ]
    },
    {
     "data": {
      "application/vnd.jupyter.widget-view+json": {
       "model_id": "0b47c538981442f38edf409a0423f0d4",
       "version_major": 2,
       "version_minor": 0
      },
      "text/plain": [
       "HBox(children=(FloatProgress(value=0.0, description='Train', max=153.0, style=ProgressStyle(description_width=…"
      ]
     },
     "metadata": {},
     "output_type": "display_data"
    },
    {
     "name": "stdout",
     "output_type": "stream",
     "text": [
      "\n",
      "Epoch: 06 | Time: 0m 33s\n",
      "Training Results - Average Loss: 0.5446 | auc/_mean: 0.9068 | auc/healthy: 0.9279 | auc/multiple_diseases: 0.8415, auc/rust: 0.9388, auc/scab: 0.9190\n",
      "Evaluating Results - Average Loss: 0.4718 | auc/_mean: 0.8973 | auc/healthy: 0.9528 | auc/multiple_diseases: 0.7218, auc/rust: 0.9685, auc/scab: 0.9461\n",
      "\n"
     ]
    },
    {
     "data": {
      "application/vnd.jupyter.widget-view+json": {
       "model_id": "ebaffa8cfff94116aed9df8fc56be18a",
       "version_major": 2,
       "version_minor": 0
      },
      "text/plain": [
       "HBox(children=(FloatProgress(value=0.0, description='Train', max=153.0, style=ProgressStyle(description_width=…"
      ]
     },
     "metadata": {},
     "output_type": "display_data"
    },
    {
     "name": "stdout",
     "output_type": "stream",
     "text": [
      "\n",
      "Epoch: 07 | Time: 0m 33s\n",
      "Training Results - Average Loss: 0.5172 | auc/_mean: 0.9129 | auc/healthy: 0.9288 | auc/multiple_diseases: 0.8519, auc/rust: 0.9439, auc/scab: 0.9272\n",
      "Evaluating Results - Average Loss: 0.4556 | auc/_mean: 0.9055 | auc/healthy: 0.9537 | auc/multiple_diseases: 0.7469, auc/rust: 0.9705, auc/scab: 0.9508\n",
      "\n"
     ]
    },
    {
     "data": {
      "application/vnd.jupyter.widget-view+json": {
       "model_id": "530309ab59554fd5b6f542fde4ea7def",
       "version_major": 2,
       "version_minor": 0
      },
      "text/plain": [
       "HBox(children=(FloatProgress(value=0.0, description='Train', max=153.0, style=ProgressStyle(description_width=…"
      ]
     },
     "metadata": {},
     "output_type": "display_data"
    },
    {
     "name": "stdout",
     "output_type": "stream",
     "text": [
      "\n",
      "Epoch: 08 | Time: 0m 33s\n",
      "Training Results - Average Loss: 0.4843 | auc/_mean: 0.9267 | auc/healthy: 0.9413 | auc/multiple_diseases: 0.8839, auc/rust: 0.9454, auc/scab: 0.9364\n",
      "Evaluating Results - Average Loss: 0.4464 | auc/_mean: 0.9060 | auc/healthy: 0.9553 | auc/multiple_diseases: 0.7469, auc/rust: 0.9694, auc/scab: 0.9524\n",
      "\n"
     ]
    },
    {
     "data": {
      "application/vnd.jupyter.widget-view+json": {
       "model_id": "50538cdd973742e59aab1d34ddc8bdff",
       "version_major": 2,
       "version_minor": 0
      },
      "text/plain": [
       "HBox(children=(FloatProgress(value=0.0, description='Train', max=153.0, style=ProgressStyle(description_width=…"
      ]
     },
     "metadata": {},
     "output_type": "display_data"
    },
    {
     "name": "stdout",
     "output_type": "stream",
     "text": [
      "\n",
      "Epoch: 09 | Time: 0m 33s\n",
      "Training Results - Average Loss: 0.5150 | auc/_mean: 0.9162 | auc/healthy: 0.9205 | auc/multiple_diseases: 0.8646, auc/rust: 0.9361, auc/scab: 0.9436\n",
      "Evaluating Results - Average Loss: 0.4704 | auc/_mean: 0.8960 | auc/healthy: 0.9520 | auc/multiple_diseases: 0.7136, auc/rust: 0.9680, auc/scab: 0.9505\n",
      "\n",
      "Epoch     9: reducing learning rate of group 0 to 9.0000e-04.\n"
     ]
    },
    {
     "data": {
      "application/vnd.jupyter.widget-view+json": {
       "model_id": "4466f975ce2b46a9939b78cdae39f4c6",
       "version_major": 2,
       "version_minor": 0
      },
      "text/plain": [
       "HBox(children=(FloatProgress(value=0.0, description='Train', max=153.0, style=ProgressStyle(description_width=…"
      ]
     },
     "metadata": {},
     "output_type": "display_data"
    },
    {
     "name": "stdout",
     "output_type": "stream",
     "text": [
      "\n",
      "Epoch: 10 | Time: 0m 33s\n",
      "Training Results - Average Loss: 0.4651 | auc/_mean: 0.9247 | auc/healthy: 0.9512 | auc/multiple_diseases: 0.8632, auc/rust: 0.9459, auc/scab: 0.9386\n",
      "Evaluating Results - Average Loss: 0.4653 | auc/_mean: 0.9004 | auc/healthy: 0.9498 | auc/multiple_diseases: 0.7308, auc/rust: 0.9662, auc/scab: 0.9547\n",
      "\n"
     ]
    },
    {
     "data": {
      "application/vnd.jupyter.widget-view+json": {
       "model_id": "90ed9f32fb794955938089f0be21c48b",
       "version_major": 2,
       "version_minor": 0
      },
      "text/plain": [
       "HBox(children=(FloatProgress(value=0.0, description='Train', max=153.0, style=ProgressStyle(description_width=…"
      ]
     },
     "metadata": {},
     "output_type": "display_data"
    },
    {
     "name": "stdout",
     "output_type": "stream",
     "text": [
      "\n",
      "Epoch: 11 | Time: 0m 33s\n",
      "Training Results - Average Loss: 0.4583 | auc/_mean: 0.9285 | auc/healthy: 0.9404 | auc/multiple_diseases: 0.8899, auc/rust: 0.9454, auc/scab: 0.9384\n",
      "Evaluating Results - Average Loss: 0.4610 | auc/_mean: 0.8993 | auc/healthy: 0.9502 | auc/multiple_diseases: 0.7244, auc/rust: 0.9681, auc/scab: 0.9547\n",
      "\n"
     ]
    },
    {
     "data": {
      "application/vnd.jupyter.widget-view+json": {
       "model_id": "6890e21968bc41ffa44e6ac582b89b89",
       "version_major": 2,
       "version_minor": 0
      },
      "text/plain": [
       "HBox(children=(FloatProgress(value=0.0, description='Train', max=153.0, style=ProgressStyle(description_width=…"
      ]
     },
     "metadata": {},
     "output_type": "display_data"
    },
    {
     "name": "stdout",
     "output_type": "stream",
     "text": [
      "\n",
      "Epoch: 12 | Time: 0m 33s\n",
      "Training Results - Average Loss: 0.4473 | auc/_mean: 0.9313 | auc/healthy: 0.9432 | auc/multiple_diseases: 0.8905, auc/rust: 0.9489, auc/scab: 0.9427\n",
      "Evaluating Results - Average Loss: 0.4568 | auc/_mean: 0.9008 | auc/healthy: 0.9532 | auc/multiple_diseases: 0.7283, auc/rust: 0.9684, auc/scab: 0.9534\n",
      "\n"
     ]
    },
    {
     "data": {
      "application/vnd.jupyter.widget-view+json": {
       "model_id": "80c26171b0464486beacb3185f55b82c",
       "version_major": 2,
       "version_minor": 0
      },
      "text/plain": [
       "HBox(children=(FloatProgress(value=0.0, description='Train', max=153.0, style=ProgressStyle(description_width=…"
      ]
     },
     "metadata": {},
     "output_type": "display_data"
    },
    {
     "name": "stdout",
     "output_type": "stream",
     "text": [
      "\n",
      "Epoch: 13 | Time: 0m 33s\n",
      "Training Results - Average Loss: 0.4704 | auc/_mean: 0.9294 | auc/healthy: 0.9374 | auc/multiple_diseases: 0.8957, auc/rust: 0.9469, auc/scab: 0.9374\n",
      "Evaluating Results - Average Loss: 0.4533 | auc/_mean: 0.9029 | auc/healthy: 0.9534 | auc/multiple_diseases: 0.7341, auc/rust: 0.9685, auc/scab: 0.9557\n",
      "\n",
      "Epoch    13: reducing learning rate of group 0 to 2.7000e-04.\n"
     ]
    },
    {
     "data": {
      "application/vnd.jupyter.widget-view+json": {
       "model_id": "9be8bbf43d124f7e96d51c16fc41b7f2",
       "version_major": 2,
       "version_minor": 0
      },
      "text/plain": [
       "HBox(children=(FloatProgress(value=0.0, description='Train', max=153.0, style=ProgressStyle(description_width=…"
      ]
     },
     "metadata": {},
     "output_type": "display_data"
    },
    {
     "name": "stdout",
     "output_type": "stream",
     "text": [
      "\n",
      "Epoch: 14 | Time: 0m 33s\n",
      "Training Results - Average Loss: 0.4376 | auc/_mean: 0.9390 | auc/healthy: 0.9419 | auc/multiple_diseases: 0.9188, auc/rust: 0.9478, auc/scab: 0.9474\n",
      "Evaluating Results - Average Loss: 0.4538 | auc/_mean: 0.9023 | auc/healthy: 0.9551 | auc/multiple_diseases: 0.7305, auc/rust: 0.9682, auc/scab: 0.9556\n",
      "\n"
     ]
    },
    {
     "data": {
      "application/vnd.jupyter.widget-view+json": {
       "model_id": "820a8ee9b31b40c5b0ef4f7f78a0423c",
       "version_major": 2,
       "version_minor": 0
      },
      "text/plain": [
       "HBox(children=(FloatProgress(value=0.0, description='Train', max=153.0, style=ProgressStyle(description_width=…"
      ]
     },
     "metadata": {},
     "output_type": "display_data"
    },
    {
     "name": "stdout",
     "output_type": "stream",
     "text": [
      "\n",
      "Epoch: 15 | Time: 0m 33s\n",
      "Training Results - Average Loss: 0.4167 | auc/_mean: 0.9366 | auc/healthy: 0.9466 | auc/multiple_diseases: 0.8968, auc/rust: 0.9569, auc/scab: 0.9461\n",
      "Evaluating Results - Average Loss: 0.4560 | auc/_mean: 0.9024 | auc/healthy: 0.9547 | auc/multiple_diseases: 0.7316, auc/rust: 0.9671, auc/scab: 0.9561\n",
      "\n"
     ]
    },
    {
     "data": {
      "application/vnd.jupyter.widget-view+json": {
       "model_id": "c425564e6a3d41a2b2313c3aef1a4569",
       "version_major": 2,
       "version_minor": 0
      },
      "text/plain": [
       "HBox(children=(FloatProgress(value=0.0, description='Train', max=153.0, style=ProgressStyle(description_width=…"
      ]
     },
     "metadata": {},
     "output_type": "display_data"
    },
    {
     "name": "stdout",
     "output_type": "stream",
     "text": [
      "\n",
      "Epoch: 16 | Time: 0m 33s\n",
      "Training Results - Average Loss: 0.4221 | auc/_mean: 0.9342 | auc/healthy: 0.9464 | auc/multiple_diseases: 0.8829, auc/rust: 0.9541, auc/scab: 0.9534\n",
      "Evaluating Results - Average Loss: 0.4502 | auc/_mean: 0.9044 | auc/healthy: 0.9556 | auc/multiple_diseases: 0.7384, auc/rust: 0.9688, auc/scab: 0.9549\n",
      "\n"
     ]
    },
    {
     "data": {
      "application/vnd.jupyter.widget-view+json": {
       "model_id": "6d3f5367b8df410ebd378d7925b147d3",
       "version_major": 2,
       "version_minor": 0
      },
      "text/plain": [
       "HBox(children=(FloatProgress(value=0.0, description='Train', max=153.0, style=ProgressStyle(description_width=…"
      ]
     },
     "metadata": {},
     "output_type": "display_data"
    },
    {
     "name": "stdout",
     "output_type": "stream",
     "text": [
      "\n",
      "Epoch: 17 | Time: 0m 33s\n",
      "Training Results - Average Loss: 0.4285 | auc/_mean: 0.9382 | auc/healthy: 0.9484 | auc/multiple_diseases: 0.9040, auc/rust: 0.9542, auc/scab: 0.9462\n",
      "Evaluating Results - Average Loss: 0.4518 | auc/_mean: 0.9029 | auc/healthy: 0.9557 | auc/multiple_diseases: 0.7323, auc/rust: 0.9686, auc/scab: 0.9550\n",
      "\n",
      "Epoch    17: reducing learning rate of group 0 to 8.1000e-05.\n"
     ]
    },
    {
     "data": {
      "application/vnd.jupyter.widget-view+json": {
       "model_id": "b1c3dc71f1884991ae060c476e901398",
       "version_major": 2,
       "version_minor": 0
      },
      "text/plain": [
       "HBox(children=(FloatProgress(value=0.0, description='Train', max=153.0, style=ProgressStyle(description_width=…"
      ]
     },
     "metadata": {},
     "output_type": "display_data"
    },
    {
     "name": "stdout",
     "output_type": "stream",
     "text": [
      "\n",
      "Epoch: 18 | Time: 0m 34s\n",
      "Training Results - Average Loss: 0.4176 | auc/_mean: 0.9397 | auc/healthy: 0.9456 | auc/multiple_diseases: 0.9144, auc/rust: 0.9483, auc/scab: 0.9505\n",
      "Evaluating Results - Average Loss: 0.4498 | auc/_mean: 0.9028 | auc/healthy: 0.9554 | auc/multiple_diseases: 0.7313, auc/rust: 0.9690, auc/scab: 0.9557\n",
      "\n"
     ]
    },
    {
     "data": {
      "application/vnd.jupyter.widget-view+json": {
       "model_id": "a70870e4409141099ced6f2d5e197fc4",
       "version_major": 2,
       "version_minor": 0
      },
      "text/plain": [
       "HBox(children=(FloatProgress(value=0.0, description='Train', max=153.0, style=ProgressStyle(description_width=…"
      ]
     },
     "metadata": {},
     "output_type": "display_data"
    },
    {
     "name": "stdout",
     "output_type": "stream",
     "text": [
      "\n",
      "Epoch: 19 | Time: 0m 32s\n",
      "Training Results - Average Loss: 0.4409 | auc/_mean: 0.9338 | auc/healthy: 0.9498 | auc/multiple_diseases: 0.8901, auc/rust: 0.9480, auc/scab: 0.9475\n",
      "Evaluating Results - Average Loss: 0.4489 | auc/_mean: 0.9040 | auc/healthy: 0.9552 | auc/multiple_diseases: 0.7362, auc/rust: 0.9688, auc/scab: 0.9558\n",
      "\n",
      "EarlyStopping\n"
     ]
    }
   ],
   "source": [
    "trainer = Trainer(model, train_dataloader, valid_dataloader, criterion, optimizer, scheduler, device, config)\n",
    "trainer.run();"
   ]
  },
  {
   "cell_type": "code",
   "execution_count": null,
   "metadata": {},
   "outputs": [],
   "source": []
  },
  {
   "cell_type": "code",
   "execution_count": null,
   "metadata": {},
   "outputs": [],
   "source": []
  },
  {
   "cell_type": "code",
   "execution_count": 12,
   "metadata": {},
   "outputs": [
    {
     "name": "stdout",
     "output_type": "stream",
     "text": [
      "Loaded pretrained weights for efficientnet-b4\n"
     ]
    }
   ],
   "source": [
    "model = get_model(config.model_name, config.num_classes)\n",
    "model.load_state_dict(torch.load(f\"{config.save_dirname}/best_model_epoch=8.pth\"))\n",
    "for param in model.parameters():\n",
    "    param.requires_grad = True\n",
    "\n",
    "criterion = nn.CrossEntropyLoss()\n",
    "optimizer = torch.optim.Adam(model.parameters(), lr=config.lr)\n",
    "scheduler = torch.optim.lr_scheduler.ReduceLROnPlateau(optimizer, patience=config.patience, verbose=True, mode=\"max\", factor=0.3)"
   ]
  },
  {
   "cell_type": "code",
   "execution_count": 13,
   "metadata": {},
   "outputs": [
    {
     "data": {
      "application/vnd.jupyter.widget-view+json": {
       "model_id": "75ccb3d7b282423ca541e3d18c4f0d3d",
       "version_major": 2,
       "version_minor": 0
      },
      "text/plain": [
       "HBox(children=(FloatProgress(value=0.0, description='Epochs', max=200.0, style=ProgressStyle(description_width…"
      ]
     },
     "metadata": {},
     "output_type": "display_data"
    },
    {
     "data": {
      "application/vnd.jupyter.widget-view+json": {
       "model_id": "b3aef276c7bb4dc5a974135d5bbc1c71",
       "version_major": 2,
       "version_minor": 0
      },
      "text/plain": [
       "HBox(children=(FloatProgress(value=0.0, description='Train', max=153.0, style=ProgressStyle(description_width=…"
      ]
     },
     "metadata": {},
     "output_type": "display_data"
    },
    {
     "name": "stdout",
     "output_type": "stream",
     "text": [
      "\n",
      "Epoch: 01 | Time: 1m 28s\n",
      "Training Results - Average Loss: 1.1112 | auc/_mean: 0.7578 | auc/healthy: 0.8237 | auc/multiple_diseases: 0.5513, auc/rust: 0.8440, auc/scab: 0.8123\n",
      "Evaluating Results - Average Loss: 2.1655 | auc/_mean: 0.8115 | auc/healthy: 0.9692 | auc/multiple_diseases: 0.6922, auc/rust: 0.8353, auc/scab: 0.7492\n",
      "\n"
     ]
    },
    {
     "data": {
      "application/vnd.jupyter.widget-view+json": {
       "model_id": "6d6d1975211c43788af8251bd32752da",
       "version_major": 2,
       "version_minor": 0
      },
      "text/plain": [
       "HBox(children=(FloatProgress(value=0.0, description='Train', max=153.0, style=ProgressStyle(description_width=…"
      ]
     },
     "metadata": {},
     "output_type": "display_data"
    },
    {
     "name": "stdout",
     "output_type": "stream",
     "text": [
      "\n",
      "Epoch: 02 | Time: 1m 28s\n",
      "Training Results - Average Loss: 0.5517 | auc/_mean: 0.8570 | auc/healthy: 0.9372 | auc/multiple_diseases: 0.5989, auc/rust: 0.9534, auc/scab: 0.9385\n",
      "Evaluating Results - Average Loss: 1.0065 | auc/_mean: 0.8820 | auc/healthy: 0.9807 | auc/multiple_diseases: 0.6357, auc/rust: 0.9842, auc/scab: 0.9275\n",
      "\n"
     ]
    },
    {
     "data": {
      "application/vnd.jupyter.widget-view+json": {
       "model_id": "5ddd6fe7117b41dda25a9f1a68af35e8",
       "version_major": 2,
       "version_minor": 0
      },
      "text/plain": [
       "HBox(children=(FloatProgress(value=0.0, description='Train', max=153.0, style=ProgressStyle(description_width=…"
      ]
     },
     "metadata": {},
     "output_type": "display_data"
    },
    {
     "name": "stdout",
     "output_type": "stream",
     "text": [
      "\n",
      "Epoch: 03 | Time: 1m 28s\n",
      "Training Results - Average Loss: 0.4512 | auc/_mean: 0.8681 | auc/healthy: 0.9693 | auc/multiple_diseases: 0.5779, auc/rust: 0.9634, auc/scab: 0.9618\n",
      "Evaluating Results - Average Loss: 0.5988 | auc/_mean: 0.8881 | auc/healthy: 0.9906 | auc/multiple_diseases: 0.5949, auc/rust: 0.9887, auc/scab: 0.9782\n",
      "\n"
     ]
    },
    {
     "data": {
      "application/vnd.jupyter.widget-view+json": {
       "model_id": "6016a89213534151841428e4c575c823",
       "version_major": 2,
       "version_minor": 0
      },
      "text/plain": [
       "HBox(children=(FloatProgress(value=0.0, description='Train', max=153.0, style=ProgressStyle(description_width=…"
      ]
     },
     "metadata": {},
     "output_type": "display_data"
    },
    {
     "name": "stdout",
     "output_type": "stream",
     "text": [
      "\n",
      "Epoch: 04 | Time: 1m 28s\n",
      "Training Results - Average Loss: 0.3654 | auc/_mean: 0.8985 | auc/healthy: 0.9793 | auc/multiple_diseases: 0.6662, auc/rust: 0.9729, auc/scab: 0.9754\n",
      "Evaluating Results - Average Loss: 0.2840 | auc/_mean: 0.8843 | auc/healthy: 0.9918 | auc/multiple_diseases: 0.5604, auc/rust: 0.9929, auc/scab: 0.9922\n",
      "\n"
     ]
    },
    {
     "data": {
      "application/vnd.jupyter.widget-view+json": {
       "model_id": "add07491df814c6b997e673cb86fb09a",
       "version_major": 2,
       "version_minor": 0
      },
      "text/plain": [
       "HBox(children=(FloatProgress(value=0.0, description='Train', max=153.0, style=ProgressStyle(description_width=…"
      ]
     },
     "metadata": {},
     "output_type": "display_data"
    },
    {
     "name": "stdout",
     "output_type": "stream",
     "text": [
      "\n",
      "Epoch: 05 | Time: 1m 28s\n",
      "Training Results - Average Loss: 0.3413 | auc/_mean: 0.9021 | auc/healthy: 0.9880 | auc/multiple_diseases: 0.6679, auc/rust: 0.9685, auc/scab: 0.9838\n",
      "Evaluating Results - Average Loss: 0.5303 | auc/_mean: 0.8839 | auc/healthy: 0.9903 | auc/multiple_diseases: 0.5761, auc/rust: 0.9807, auc/scab: 0.9887\n",
      "\n"
     ]
    },
    {
     "data": {
      "application/vnd.jupyter.widget-view+json": {
       "model_id": "b9cbc5731c294a54bbba98cc776e8afe",
       "version_major": 2,
       "version_minor": 0
      },
      "text/plain": [
       "HBox(children=(FloatProgress(value=0.0, description='Train', max=153.0, style=ProgressStyle(description_width=…"
      ]
     },
     "metadata": {},
     "output_type": "display_data"
    },
    {
     "name": "stdout",
     "output_type": "stream",
     "text": [
      "\n",
      "Epoch: 06 | Time: 1m 28s\n",
      "Training Results - Average Loss: 0.3082 | auc/_mean: 0.8998 | auc/healthy: 0.9875 | auc/multiple_diseases: 0.6454, auc/rust: 0.9788, auc/scab: 0.9873\n",
      "Evaluating Results - Average Loss: 0.3332 | auc/_mean: 0.8783 | auc/healthy: 0.9888 | auc/multiple_diseases: 0.5347, auc/rust: 0.9947, auc/scab: 0.9950\n",
      "\n"
     ]
    },
    {
     "data": {
      "application/vnd.jupyter.widget-view+json": {
       "model_id": "6217dcbe917141408927d0bebd7fd971",
       "version_major": 2,
       "version_minor": 0
      },
      "text/plain": [
       "HBox(children=(FloatProgress(value=0.0, description='Train', max=153.0, style=ProgressStyle(description_width=…"
      ]
     },
     "metadata": {},
     "output_type": "display_data"
    },
    {
     "name": "stdout",
     "output_type": "stream",
     "text": [
      "\n",
      "Epoch: 07 | Time: 1m 28s\n",
      "Training Results - Average Loss: 0.2722 | auc/_mean: 0.9114 | auc/healthy: 0.9905 | auc/multiple_diseases: 0.6824, auc/rust: 0.9798, auc/scab: 0.9928\n",
      "Evaluating Results - Average Loss: 0.5281 | auc/_mean: 0.8591 | auc/healthy: 0.9928 | auc/multiple_diseases: 0.4856, auc/rust: 0.9806, auc/scab: 0.9775\n",
      "\n"
     ]
    },
    {
     "data": {
      "application/vnd.jupyter.widget-view+json": {
       "model_id": "fd9cb1d9de184357aee864808d369078",
       "version_major": 2,
       "version_minor": 0
      },
      "text/plain": [
       "HBox(children=(FloatProgress(value=0.0, description='Train', max=153.0, style=ProgressStyle(description_width=…"
      ]
     },
     "metadata": {},
     "output_type": "display_data"
    },
    {
     "name": "stdout",
     "output_type": "stream",
     "text": [
      "\n",
      "Epoch: 08 | Time: 1m 28s\n",
      "Training Results - Average Loss: 0.3063 | auc/_mean: 0.9180 | auc/healthy: 0.9873 | auc/multiple_diseases: 0.7234, auc/rust: 0.9823, auc/scab: 0.9789\n",
      "Evaluating Results - Average Loss: 0.4160 | auc/_mean: 0.9300 | auc/healthy: 0.9867 | auc/multiple_diseases: 0.7464, auc/rust: 0.9944, auc/scab: 0.9926\n",
      "\n"
     ]
    },
    {
     "data": {
      "application/vnd.jupyter.widget-view+json": {
       "model_id": "4dd827d3a0334eb9a1ff97fca6380253",
       "version_major": 2,
       "version_minor": 0
      },
      "text/plain": [
       "HBox(children=(FloatProgress(value=0.0, description='Train', max=153.0, style=ProgressStyle(description_width=…"
      ]
     },
     "metadata": {},
     "output_type": "display_data"
    },
    {
     "name": "stdout",
     "output_type": "stream",
     "text": [
      "\n",
      "Epoch: 09 | Time: 1m 28s\n",
      "Training Results - Average Loss: 0.2626 | auc/_mean: 0.9130 | auc/healthy: 0.9927 | auc/multiple_diseases: 0.6873, auc/rust: 0.9817, auc/scab: 0.9903\n",
      "Evaluating Results - Average Loss: 0.2727 | auc/_mean: 0.8824 | auc/healthy: 0.9934 | auc/multiple_diseases: 0.5504, auc/rust: 0.9943, auc/scab: 0.9915\n",
      "\n"
     ]
    },
    {
     "data": {
      "application/vnd.jupyter.widget-view+json": {
       "model_id": "040e361cf81a42439fea3f63607bc7d7",
       "version_major": 2,
       "version_minor": 0
      },
      "text/plain": [
       "HBox(children=(FloatProgress(value=0.0, description='Train', max=153.0, style=ProgressStyle(description_width=…"
      ]
     },
     "metadata": {},
     "output_type": "display_data"
    },
    {
     "name": "stdout",
     "output_type": "stream",
     "text": [
      "\n",
      "Epoch: 10 | Time: 1m 28s\n",
      "Training Results - Average Loss: 0.2744 | auc/_mean: 0.9084 | auc/healthy: 0.9945 | auc/multiple_diseases: 0.6681, auc/rust: 0.9811, auc/scab: 0.9899\n",
      "Evaluating Results - Average Loss: 0.4913 | auc/_mean: 0.8870 | auc/healthy: 0.9926 | auc/multiple_diseases: 0.5665, auc/rust: 0.9945, auc/scab: 0.9943\n",
      "\n"
     ]
    },
    {
     "data": {
      "application/vnd.jupyter.widget-view+json": {
       "model_id": "ef367ffb1ae64e1e9cfc423f7271a95d",
       "version_major": 2,
       "version_minor": 0
      },
      "text/plain": [
       "HBox(children=(FloatProgress(value=0.0, description='Train', max=153.0, style=ProgressStyle(description_width=…"
      ]
     },
     "metadata": {},
     "output_type": "display_data"
    },
    {
     "name": "stdout",
     "output_type": "stream",
     "text": [
      "\n",
      "Epoch: 11 | Time: 1m 28s\n",
      "Training Results - Average Loss: 0.2009 | auc/_mean: 0.9344 | auc/healthy: 0.9979 | auc/multiple_diseases: 0.7605, auc/rust: 0.9850, auc/scab: 0.9941\n",
      "Evaluating Results - Average Loss: 0.2969 | auc/_mean: 0.8806 | auc/healthy: 0.9880 | auc/multiple_diseases: 0.5470, auc/rust: 0.9936, auc/scab: 0.9936\n",
      "\n"
     ]
    },
    {
     "data": {
      "application/vnd.jupyter.widget-view+json": {
       "model_id": "8c8625509cf249c984cfcdfde48f14a3",
       "version_major": 2,
       "version_minor": 0
      },
      "text/plain": [
       "HBox(children=(FloatProgress(value=0.0, description='Train', max=153.0, style=ProgressStyle(description_width=…"
      ]
     },
     "metadata": {},
     "output_type": "display_data"
    },
    {
     "name": "stdout",
     "output_type": "stream",
     "text": [
      "\n",
      "Epoch: 12 | Time: 1m 28s\n",
      "Training Results - Average Loss: 0.2069 | auc/_mean: 0.9347 | auc/healthy: 0.9962 | auc/multiple_diseases: 0.7652, auc/rust: 0.9872, auc/scab: 0.9903\n",
      "Evaluating Results - Average Loss: 0.4961 | auc/_mean: 0.8801 | auc/healthy: 0.9749 | auc/multiple_diseases: 0.5675, auc/rust: 0.9862, auc/scab: 0.9919\n",
      "\n"
     ]
    },
    {
     "data": {
      "application/vnd.jupyter.widget-view+json": {
       "model_id": "de85119cc44640ff80958fb8878e5bff",
       "version_major": 2,
       "version_minor": 0
      },
      "text/plain": [
       "HBox(children=(FloatProgress(value=0.0, description='Train', max=153.0, style=ProgressStyle(description_width=…"
      ]
     },
     "metadata": {},
     "output_type": "display_data"
    },
    {
     "name": "stdout",
     "output_type": "stream",
     "text": [
      "\n",
      "Epoch: 13 | Time: 1m 28s\n",
      "Training Results - Average Loss: 0.2111 | auc/_mean: 0.9334 | auc/healthy: 0.9955 | auc/multiple_diseases: 0.7599, auc/rust: 0.9865, auc/scab: 0.9919\n",
      "Evaluating Results - Average Loss: 0.6561 | auc/_mean: 0.8925 | auc/healthy: 0.9958 | auc/multiple_diseases: 0.5965, auc/rust: 0.9888, auc/scab: 0.9889\n",
      "\n"
     ]
    },
    {
     "data": {
      "application/vnd.jupyter.widget-view+json": {
       "model_id": "7406c470a64143d78cb5311d6341b269",
       "version_major": 2,
       "version_minor": 0
      },
      "text/plain": [
       "HBox(children=(FloatProgress(value=0.0, description='Train', max=153.0, style=ProgressStyle(description_width=…"
      ]
     },
     "metadata": {},
     "output_type": "display_data"
    },
    {
     "name": "stdout",
     "output_type": "stream",
     "text": [
      "\n",
      "Epoch: 14 | Time: 1m 28s\n",
      "Training Results - Average Loss: 0.1804 | auc/_mean: 0.9431 | auc/healthy: 0.9964 | auc/multiple_diseases: 0.7944, auc/rust: 0.9887, auc/scab: 0.9930\n",
      "Evaluating Results - Average Loss: 0.3803 | auc/_mean: 0.8978 | auc/healthy: 0.9956 | auc/multiple_diseases: 0.6130, auc/rust: 0.9953, auc/scab: 0.9872\n",
      "\n"
     ]
    },
    {
     "data": {
      "application/vnd.jupyter.widget-view+json": {
       "model_id": "fb2c80d86c7e4bbd92060f8c4f2c28be",
       "version_major": 2,
       "version_minor": 0
      },
      "text/plain": [
       "HBox(children=(FloatProgress(value=0.0, description='Train', max=153.0, style=ProgressStyle(description_width=…"
      ]
     },
     "metadata": {},
     "output_type": "display_data"
    },
    {
     "name": "stdout",
     "output_type": "stream",
     "text": [
      "\n",
      "Epoch: 15 | Time: 1m 28s\n",
      "Training Results - Average Loss: 0.2000 | auc/_mean: 0.9389 | auc/healthy: 0.9957 | auc/multiple_diseases: 0.7789, auc/rust: 0.9868, auc/scab: 0.9942\n",
      "Evaluating Results - Average Loss: 0.2736 | auc/_mean: 0.8851 | auc/healthy: 0.9940 | auc/multiple_diseases: 0.5583, auc/rust: 0.9957, auc/scab: 0.9924\n",
      "\n"
     ]
    },
    {
     "data": {
      "application/vnd.jupyter.widget-view+json": {
       "model_id": "4f1efb11e5a14ae7860d7310a72ee545",
       "version_major": 2,
       "version_minor": 0
      },
      "text/plain": [
       "HBox(children=(FloatProgress(value=0.0, description='Train', max=153.0, style=ProgressStyle(description_width=…"
      ]
     },
     "metadata": {},
     "output_type": "display_data"
    },
    {
     "name": "stdout",
     "output_type": "stream",
     "text": [
      "\n",
      "Epoch: 16 | Time: 1m 28s\n",
      "Training Results - Average Loss: 0.1616 | auc/_mean: 0.9546 | auc/healthy: 0.9956 | auc/multiple_diseases: 0.8350, auc/rust: 0.9927, auc/scab: 0.9950\n",
      "Evaluating Results - Average Loss: 0.2696 | auc/_mean: 0.8806 | auc/healthy: 0.9926 | auc/multiple_diseases: 0.5402, auc/rust: 0.9968, auc/scab: 0.9927\n",
      "\n"
     ]
    },
    {
     "data": {
      "application/vnd.jupyter.widget-view+json": {
       "model_id": "e981a02a511f40ecb500f69917377c27",
       "version_major": 2,
       "version_minor": 0
      },
      "text/plain": [
       "HBox(children=(FloatProgress(value=0.0, description='Train', max=153.0, style=ProgressStyle(description_width=…"
      ]
     },
     "metadata": {},
     "output_type": "display_data"
    },
    {
     "name": "stdout",
     "output_type": "stream",
     "text": [
      "\n",
      "Epoch: 17 | Time: 1m 28s\n",
      "Training Results - Average Loss: 0.1206 | auc/_mean: 0.9712 | auc/healthy: 0.9986 | auc/multiple_diseases: 0.8978, auc/rust: 0.9943, auc/scab: 0.9939\n",
      "Evaluating Results - Average Loss: 0.3816 | auc/_mean: 0.8962 | auc/healthy: 0.9888 | auc/multiple_diseases: 0.6128, auc/rust: 0.9923, auc/scab: 0.9909\n",
      "\n"
     ]
    },
    {
     "data": {
      "application/vnd.jupyter.widget-view+json": {
       "model_id": "d78ff0b92d744ac2acbce45c34496dc1",
       "version_major": 2,
       "version_minor": 0
      },
      "text/plain": [
       "HBox(children=(FloatProgress(value=0.0, description='Train', max=153.0, style=ProgressStyle(description_width=…"
      ]
     },
     "metadata": {},
     "output_type": "display_data"
    },
    {
     "name": "stdout",
     "output_type": "stream",
     "text": [
      "\n",
      "Epoch: 18 | Time: 1m 28s\n",
      "Training Results - Average Loss: 0.1955 | auc/_mean: 0.9524 | auc/healthy: 0.9954 | auc/multiple_diseases: 0.8361, auc/rust: 0.9865, auc/scab: 0.9915\n",
      "Evaluating Results - Average Loss: 0.3309 | auc/_mean: 0.8789 | auc/healthy: 0.9901 | auc/multiple_diseases: 0.5436, auc/rust: 0.9903, auc/scab: 0.9914\n",
      "\n"
     ]
    },
    {
     "data": {
      "application/vnd.jupyter.widget-view+json": {
       "model_id": "39b36223bcc1465faabb60fb5d675acb",
       "version_major": 2,
       "version_minor": 0
      },
      "text/plain": [
       "HBox(children=(FloatProgress(value=0.0, description='Train', max=153.0, style=ProgressStyle(description_width=…"
      ]
     },
     "metadata": {},
     "output_type": "display_data"
    },
    {
     "name": "stdout",
     "output_type": "stream",
     "text": [
      "\n",
      "Epoch: 19 | Time: 1m 28s\n",
      "Training Results - Average Loss: 0.1389 | auc/_mean: 0.9484 | auc/healthy: 0.9979 | auc/multiple_diseases: 0.8057, auc/rust: 0.9942, auc/scab: 0.9958\n",
      "Evaluating Results - Average Loss: 0.2170 | auc/_mean: 0.8970 | auc/healthy: 0.9911 | auc/multiple_diseases: 0.6062, auc/rust: 0.9978, auc/scab: 0.9930\n",
      "\n",
      "Epoch    19: reducing learning rate of group 0 to 9.0000e-04.\n"
     ]
    },
    {
     "data": {
      "application/vnd.jupyter.widget-view+json": {
       "model_id": "7250434f92c4434784865de62b4465fc",
       "version_major": 2,
       "version_minor": 0
      },
      "text/plain": [
       "HBox(children=(FloatProgress(value=0.0, description='Train', max=153.0, style=ProgressStyle(description_width=…"
      ]
     },
     "metadata": {},
     "output_type": "display_data"
    },
    {
     "name": "stdout",
     "output_type": "stream",
     "text": [
      "\n",
      "Epoch: 20 | Time: 1m 28s\n",
      "Training Results - Average Loss: 0.0656 | auc/_mean: 0.9810 | auc/healthy: 0.9997 | auc/multiple_diseases: 0.9270, auc/rust: 0.9987, auc/scab: 0.9986\n",
      "Evaluating Results - Average Loss: 0.2022 | auc/_mean: 0.9096 | auc/healthy: 0.9952 | auc/multiple_diseases: 0.6495, auc/rust: 0.9977, auc/scab: 0.9962\n",
      "\n"
     ]
    },
    {
     "data": {
      "application/vnd.jupyter.widget-view+json": {
       "model_id": "81d5657208484f42bc88a87a86163b01",
       "version_major": 2,
       "version_minor": 0
      },
      "text/plain": [
       "HBox(children=(FloatProgress(value=0.0, description='Train', max=153.0, style=ProgressStyle(description_width=…"
      ]
     },
     "metadata": {},
     "output_type": "display_data"
    },
    {
     "name": "stdout",
     "output_type": "stream",
     "text": [
      "\n",
      "Epoch: 21 | Time: 1m 28s\n",
      "Training Results - Average Loss: 0.0201 | auc/_mean: 0.9892 | auc/healthy: 1.0000 | auc/multiple_diseases: 0.9570, auc/rust: 0.9999, auc/scab: 0.9997\n",
      "Evaluating Results - Average Loss: 0.2471 | auc/_mean: 0.9048 | auc/healthy: 0.9953 | auc/multiple_diseases: 0.6312, auc/rust: 0.9964, auc/scab: 0.9964\n",
      "\n"
     ]
    },
    {
     "data": {
      "application/vnd.jupyter.widget-view+json": {
       "model_id": "e272aa0de3a04b1f9571d9690abc8fa0",
       "version_major": 2,
       "version_minor": 0
      },
      "text/plain": [
       "HBox(children=(FloatProgress(value=0.0, description='Train', max=153.0, style=ProgressStyle(description_width=…"
      ]
     },
     "metadata": {},
     "output_type": "display_data"
    },
    {
     "name": "stdout",
     "output_type": "stream",
     "text": [
      "\n",
      "Epoch: 22 | Time: 1m 28s\n",
      "Training Results - Average Loss: 0.0187 | auc/_mean: 0.9920 | auc/healthy: 1.0000 | auc/multiple_diseases: 0.9686, auc/rust: 0.9999, auc/scab: 0.9997\n",
      "Evaluating Results - Average Loss: 0.2512 | auc/_mean: 0.9086 | auc/healthy: 0.9962 | auc/multiple_diseases: 0.6455, auc/rust: 0.9967, auc/scab: 0.9962\n",
      "\n"
     ]
    },
    {
     "data": {
      "application/vnd.jupyter.widget-view+json": {
       "model_id": "b245b23ea554451e823d646ff9b2f434",
       "version_major": 2,
       "version_minor": 0
      },
      "text/plain": [
       "HBox(children=(FloatProgress(value=0.0, description='Train', max=153.0, style=ProgressStyle(description_width=…"
      ]
     },
     "metadata": {},
     "output_type": "display_data"
    },
    {
     "name": "stdout",
     "output_type": "stream",
     "text": [
      "\n",
      "Epoch: 23 | Time: 1m 28s\n",
      "Training Results - Average Loss: 0.0112 | auc/_mean: 0.9954 | auc/healthy: 1.0000 | auc/multiple_diseases: 0.9818, auc/rust: 0.9998, auc/scab: 0.9999\n",
      "Evaluating Results - Average Loss: 0.2679 | auc/_mean: 0.9136 | auc/healthy: 0.9962 | auc/multiple_diseases: 0.6653, auc/rust: 0.9972, auc/scab: 0.9957\n",
      "\n"
     ]
    },
    {
     "data": {
      "application/vnd.jupyter.widget-view+json": {
       "model_id": "f10f407d89aa48f39267f19092c55b40",
       "version_major": 2,
       "version_minor": 0
      },
      "text/plain": [
       "HBox(children=(FloatProgress(value=0.0, description='Train', max=153.0, style=ProgressStyle(description_width=…"
      ]
     },
     "metadata": {},
     "output_type": "display_data"
    },
    {
     "name": "stdout",
     "output_type": "stream",
     "text": [
      "\n",
      "Epoch: 24 | Time: 1m 28s\n",
      "Training Results - Average Loss: 0.0182 | auc/_mean: 0.9936 | auc/healthy: 1.0000 | auc/multiple_diseases: 0.9747, auc/rust: 0.9999, auc/scab: 0.9998\n",
      "Evaluating Results - Average Loss: 0.2492 | auc/_mean: 0.9153 | auc/healthy: 0.9960 | auc/multiple_diseases: 0.6716, auc/rust: 0.9982, auc/scab: 0.9954\n",
      "\n"
     ]
    },
    {
     "data": {
      "application/vnd.jupyter.widget-view+json": {
       "model_id": "996d4d5519bd45eca5b3a740bd2e3c28",
       "version_major": 2,
       "version_minor": 0
      },
      "text/plain": [
       "HBox(children=(FloatProgress(value=0.0, description='Train', max=153.0, style=ProgressStyle(description_width=…"
      ]
     },
     "metadata": {},
     "output_type": "display_data"
    },
    {
     "name": "stdout",
     "output_type": "stream",
     "text": [
      "\n",
      "Epoch: 25 | Time: 1m 28s\n",
      "Training Results - Average Loss: 0.0061 | auc/_mean: 0.9972 | auc/healthy: 1.0000 | auc/multiple_diseases: 0.9893, auc/rust: 1.0000, auc/scab: 0.9996\n",
      "Evaluating Results - Average Loss: 0.2921 | auc/_mean: 0.9149 | auc/healthy: 0.9965 | auc/multiple_diseases: 0.6703, auc/rust: 0.9974, auc/scab: 0.9955\n",
      "\n"
     ]
    },
    {
     "data": {
      "application/vnd.jupyter.widget-view+json": {
       "model_id": "a716991063a44f648a8f4fd85ebef99c",
       "version_major": 2,
       "version_minor": 0
      },
      "text/plain": [
       "HBox(children=(FloatProgress(value=0.0, description='Train', max=153.0, style=ProgressStyle(description_width=…"
      ]
     },
     "metadata": {},
     "output_type": "display_data"
    },
    {
     "name": "stdout",
     "output_type": "stream",
     "text": [
      "\n",
      "Epoch: 26 | Time: 1m 28s\n",
      "Training Results - Average Loss: 0.0101 | auc/_mean: 0.9965 | auc/healthy: 1.0000 | auc/multiple_diseases: 0.9866, auc/rust: 1.0000, auc/scab: 0.9995\n",
      "Evaluating Results - Average Loss: 0.2741 | auc/_mean: 0.9129 | auc/healthy: 0.9963 | auc/multiple_diseases: 0.6612, auc/rust: 0.9980, auc/scab: 0.9962\n",
      "\n"
     ]
    },
    {
     "data": {
      "application/vnd.jupyter.widget-view+json": {
       "model_id": "0fa26d3ca89f401dbf6c6d01cb280a61",
       "version_major": 2,
       "version_minor": 0
      },
      "text/plain": [
       "HBox(children=(FloatProgress(value=0.0, description='Train', max=153.0, style=ProgressStyle(description_width=…"
      ]
     },
     "metadata": {},
     "output_type": "display_data"
    },
    {
     "name": "stdout",
     "output_type": "stream",
     "text": [
      "\n",
      "Epoch: 27 | Time: 1m 28s\n",
      "Training Results - Average Loss: 0.0099 | auc/_mean: 0.9969 | auc/healthy: 1.0000 | auc/multiple_diseases: 0.9879, auc/rust: 0.9999, auc/scab: 0.9999\n",
      "Evaluating Results - Average Loss: 0.2422 | auc/_mean: 0.9237 | auc/healthy: 0.9951 | auc/multiple_diseases: 0.7062, auc/rust: 0.9975, auc/scab: 0.9961\n",
      "\n"
     ]
    },
    {
     "data": {
      "application/vnd.jupyter.widget-view+json": {
       "model_id": "ae07dcdd43ad4179a2c865955df1cce4",
       "version_major": 2,
       "version_minor": 0
      },
      "text/plain": [
       "HBox(children=(FloatProgress(value=0.0, description='Train', max=153.0, style=ProgressStyle(description_width=…"
      ]
     },
     "metadata": {},
     "output_type": "display_data"
    },
    {
     "name": "stdout",
     "output_type": "stream",
     "text": [
      "\n",
      "Epoch: 28 | Time: 1m 28s\n",
      "Training Results - Average Loss: 0.0104 | auc/_mean: 0.9952 | auc/healthy: 1.0000 | auc/multiple_diseases: 0.9811, auc/rust: 1.0000, auc/scab: 0.9998\n",
      "Evaluating Results - Average Loss: 0.2983 | auc/_mean: 0.9141 | auc/healthy: 0.9957 | auc/multiple_diseases: 0.6672, auc/rust: 0.9973, auc/scab: 0.9963\n",
      "\n"
     ]
    },
    {
     "data": {
      "application/vnd.jupyter.widget-view+json": {
       "model_id": "7a4cfe5c447d4d62b1f8ea7649714c5d",
       "version_major": 2,
       "version_minor": 0
      },
      "text/plain": [
       "HBox(children=(FloatProgress(value=0.0, description='Train', max=153.0, style=ProgressStyle(description_width=…"
      ]
     },
     "metadata": {},
     "output_type": "display_data"
    },
    {
     "name": "stdout",
     "output_type": "stream",
     "text": [
      "\n",
      "Epoch: 29 | Time: 1m 28s\n",
      "Training Results - Average Loss: 0.0101 | auc/_mean: 0.9960 | auc/healthy: 1.0000 | auc/multiple_diseases: 0.9841, auc/rust: 1.0000, auc/scab: 0.9999\n",
      "Evaluating Results - Average Loss: 0.3047 | auc/_mean: 0.9177 | auc/healthy: 0.9960 | auc/multiple_diseases: 0.6816, auc/rust: 0.9969, auc/scab: 0.9961\n",
      "\n"
     ]
    },
    {
     "data": {
      "application/vnd.jupyter.widget-view+json": {
       "model_id": "79b2bca19596495fb7af31f23b72c35a",
       "version_major": 2,
       "version_minor": 0
      },
      "text/plain": [
       "HBox(children=(FloatProgress(value=0.0, description='Train', max=153.0, style=ProgressStyle(description_width=…"
      ]
     },
     "metadata": {},
     "output_type": "display_data"
    },
    {
     "name": "stdout",
     "output_type": "stream",
     "text": [
      "\n",
      "Epoch: 30 | Time: 1m 28s\n",
      "Training Results - Average Loss: 0.0195 | auc/_mean: 0.9960 | auc/healthy: 1.0000 | auc/multiple_diseases: 0.9850, auc/rust: 0.9996, auc/scab: 0.9994\n",
      "Evaluating Results - Average Loss: 0.2651 | auc/_mean: 0.9139 | auc/healthy: 0.9951 | auc/multiple_diseases: 0.6695, auc/rust: 0.9952, auc/scab: 0.9960\n",
      "\n",
      "Epoch    30: reducing learning rate of group 0 to 2.7000e-04.\n"
     ]
    },
    {
     "data": {
      "application/vnd.jupyter.widget-view+json": {
       "model_id": "4d189dfa04d94910be81d9e17f7edb70",
       "version_major": 2,
       "version_minor": 0
      },
      "text/plain": [
       "HBox(children=(FloatProgress(value=0.0, description='Train', max=153.0, style=ProgressStyle(description_width=…"
      ]
     },
     "metadata": {},
     "output_type": "display_data"
    },
    {
     "name": "stdout",
     "output_type": "stream",
     "text": [
      "\n",
      "Epoch: 31 | Time: 1m 28s\n",
      "Training Results - Average Loss: 0.0107 | auc/_mean: 0.9970 | auc/healthy: 1.0000 | auc/multiple_diseases: 0.9879, auc/rust: 1.0000, auc/scab: 1.0000\n",
      "Evaluating Results - Average Loss: 0.2944 | auc/_mean: 0.9144 | auc/healthy: 0.9949 | auc/multiple_diseases: 0.6695, auc/rust: 0.9960, auc/scab: 0.9973\n",
      "\n",
      "EarlyStopping\n"
     ]
    }
   ],
   "source": [
    "trainer = Trainer(model, train_dataloader, valid_dataloader, criterion, optimizer, scheduler, device, config)\n",
    "trainer.run();"
   ]
  },
  {
   "cell_type": "code",
   "execution_count": null,
   "metadata": {},
   "outputs": [],
   "source": []
  },
  {
   "cell_type": "code",
   "execution_count": null,
   "metadata": {},
   "outputs": [],
   "source": []
  },
  {
   "cell_type": "code",
   "execution_count": 44,
   "metadata": {},
   "outputs": [],
   "source": [
    "\n",
    "class PlantDatasetTest(Dataset):\n",
    "    \n",
    "    def __init__(self, df, config, transforms=None):\n",
    "    \n",
    "        self.df = df\n",
    "        self.images_dir = config.root_images\n",
    "        self.class_names = config.class_names\n",
    "        self.transforms=transforms\n",
    "        \n",
    "    def __len__(self):\n",
    "        return self.df.shape[0]\n",
    "    \n",
    "    def __getitem__(self, idx):\n",
    "        image_src = self.images_dir + self.df.iloc[idx]['image_id'] + '.jpg'\n",
    "        image = cv2.imread(image_src, cv2.IMREAD_COLOR)\n",
    "        image = cv2.cvtColor(image, cv2.COLOR_BGR2RGB)\n",
    "        \n",
    "        if self.transforms:\n",
    "            transformed = self.transforms(image=image)\n",
    "            image = transformed['image']\n",
    "\n",
    "        return image, idx\n",
    "\n",
    "test_df = pd.read_csv(config.root + 'test.csv')\n",
    "test_dataset = PlantDatasetTest(test_df, config, train_transforms)\n",
    "test_dataloader = DataLoader(test_dataset, batch_size=config.batch_size, shuffle=False, num_workers=config.num_workers)"
   ]
  },
  {
   "cell_type": "code",
   "execution_count": 42,
   "metadata": {},
   "outputs": [],
   "source": [
    "def predict(model, dataloader: DataLoader, device, dataset: Dataset, tta_count: int, config: ConfigExperiment):\n",
    "    n_samples = len(dataset)\n",
    "    y_probas_tta = np.zeros((n_samples, config.num_classes, tta_count), dtype=np.float32)\n",
    "    \n",
    "    model.eval()\n",
    "    model.to(device)\n",
    "    with torch.no_grad():\n",
    "        for i_epoch in tqdm(range(tta_count), desc='TTA', total=tta_count, position=1, leave=True):\n",
    "            for i, (images, idx) in enumerate(dataloader):\n",
    "                images = images.to(device)\n",
    "                outputs = model(images)\n",
    "                y_pred = F.softmax(outputs, dim=1)\n",
    "                \n",
    "                tta_index = i_epoch - 1\n",
    "                start_index = (i % len(dataloader)) * config.batch_size\n",
    "                end_index = min(start_index + config.batch_size, n_samples)\n",
    "                batch_y_probas = y_pred.detach().cpu().numpy()                \n",
    "                y_probas_tta[start_index:end_index, :, tta_index] = batch_y_probas\n",
    "\n",
    "    return y_probas_tta"
   ]
  },
  {
   "cell_type": "code",
   "execution_count": 43,
   "metadata": {},
   "outputs": [
    {
     "name": "stdout",
     "output_type": "stream",
     "text": [
      "Loaded pretrained weights for efficientnet-b0\n"
     ]
    },
    {
     "data": {
      "text/plain": [
       "<All keys matched successfully>"
      ]
     },
     "execution_count": 43,
     "metadata": {},
     "output_type": "execute_result"
    }
   ],
   "source": [
    "model = get_model(config.model_name, config.num_classes)\n",
    "model.load_state_dict(torch.load(f\"{config.save_dirname}/best_model_epoch=1_auc_mean=0.8706131482876178.pth\"))"
   ]
  },
  {
   "cell_type": "code",
   "execution_count": 45,
   "metadata": {},
   "outputs": [
    {
     "data": {
      "application/vnd.jupyter.widget-view+json": {
       "model_id": "43162182940f4934b3d270e7f6ae26d1",
       "version_major": 2,
       "version_minor": 0
      },
      "text/plain": [
       "HBox(children=(FloatProgress(value=0.0, description='TTA', max=5.0, style=ProgressStyle(description_width='ini…"
      ]
     },
     "metadata": {},
     "output_type": "display_data"
    },
    {
     "name": "stdout",
     "output_type": "stream",
     "text": [
      "\n"
     ]
    }
   ],
   "source": [
    "result = predict(model, test_dataloader, device, test_dataset, tta_count=5, config=config)"
   ]
  },
  {
   "cell_type": "code",
   "execution_count": 46,
   "metadata": {},
   "outputs": [],
   "source": [
    "y_probas = np.mean(result, axis=-1)"
   ]
  },
  {
   "cell_type": "code",
   "execution_count": 47,
   "metadata": {},
   "outputs": [
    {
     "data": {
      "text/plain": [
       "array([[0.09819383, 0.3116633 , 0.1852319 , 0.40491095],\n",
       "       [0.09934221, 0.13119815, 0.5209352 , 0.24852438],\n",
       "       [0.00145755, 0.01327283, 0.002809  , 0.9824607 ],\n",
       "       [0.9671133 , 0.00678661, 0.01244393, 0.0136562 ],\n",
       "       [0.02429822, 0.02702083, 0.91830266, 0.0303783 ],\n",
       "       [0.6532921 , 0.02755702, 0.12354162, 0.19560926],\n",
       "       [0.8862263 , 0.03570914, 0.0465331 , 0.03153154],\n",
       "       [0.0978264 , 0.04821354, 0.00504111, 0.84891903],\n",
       "       [0.3122094 , 0.10618415, 0.03836362, 0.5432429 ],\n",
       "       [0.27814376, 0.05621394, 0.5502282 , 0.11541412]], dtype=float32)"
      ]
     },
     "execution_count": 47,
     "metadata": {},
     "output_type": "execute_result"
    }
   ],
   "source": [
    "y_probas[:10]"
   ]
  },
  {
   "cell_type": "code",
   "execution_count": 48,
   "metadata": {},
   "outputs": [
    {
     "data": {
      "text/html": [
       "<div>\n",
       "<style scoped>\n",
       "    .dataframe tbody tr th:only-of-type {\n",
       "        vertical-align: middle;\n",
       "    }\n",
       "\n",
       "    .dataframe tbody tr th {\n",
       "        vertical-align: top;\n",
       "    }\n",
       "\n",
       "    .dataframe thead th {\n",
       "        text-align: right;\n",
       "    }\n",
       "</style>\n",
       "<table border=\"1\" class=\"dataframe\">\n",
       "  <thead>\n",
       "    <tr style=\"text-align: right;\">\n",
       "      <th></th>\n",
       "      <th>image_id</th>\n",
       "      <th>healthy</th>\n",
       "      <th>multiple_diseases</th>\n",
       "      <th>rust</th>\n",
       "      <th>scab</th>\n",
       "    </tr>\n",
       "  </thead>\n",
       "  <tbody>\n",
       "    <tr>\n",
       "      <th>0</th>\n",
       "      <td>Test_0</td>\n",
       "      <td>0.098194</td>\n",
       "      <td>0.311663</td>\n",
       "      <td>0.185232</td>\n",
       "      <td>0.404911</td>\n",
       "    </tr>\n",
       "    <tr>\n",
       "      <th>1</th>\n",
       "      <td>Test_1</td>\n",
       "      <td>0.099342</td>\n",
       "      <td>0.131198</td>\n",
       "      <td>0.520935</td>\n",
       "      <td>0.248524</td>\n",
       "    </tr>\n",
       "    <tr>\n",
       "      <th>2</th>\n",
       "      <td>Test_2</td>\n",
       "      <td>0.001458</td>\n",
       "      <td>0.013273</td>\n",
       "      <td>0.002809</td>\n",
       "      <td>0.982461</td>\n",
       "    </tr>\n",
       "    <tr>\n",
       "      <th>3</th>\n",
       "      <td>Test_3</td>\n",
       "      <td>0.967113</td>\n",
       "      <td>0.006787</td>\n",
       "      <td>0.012444</td>\n",
       "      <td>0.013656</td>\n",
       "    </tr>\n",
       "    <tr>\n",
       "      <th>4</th>\n",
       "      <td>Test_4</td>\n",
       "      <td>0.024298</td>\n",
       "      <td>0.027021</td>\n",
       "      <td>0.918303</td>\n",
       "      <td>0.030378</td>\n",
       "    </tr>\n",
       "  </tbody>\n",
       "</table>\n",
       "</div>"
      ],
      "text/plain": [
       "  image_id   healthy  multiple_diseases      rust      scab\n",
       "0   Test_0  0.098194           0.311663  0.185232  0.404911\n",
       "1   Test_1  0.099342           0.131198  0.520935  0.248524\n",
       "2   Test_2  0.001458           0.013273  0.002809  0.982461\n",
       "3   Test_3  0.967113           0.006787  0.012444  0.013656\n",
       "4   Test_4  0.024298           0.027021  0.918303  0.030378"
      ]
     },
     "execution_count": 48,
     "metadata": {},
     "output_type": "execute_result"
    }
   ],
   "source": [
    "test_df = pd.read_csv(config.root + 'test.csv')\n",
    "test_df[\"healthy\"] = 0\n",
    "test_df[\"multiple_diseases\"] = 0\n",
    "test_df[\"rust\"] = 0\n",
    "test_df[\"scab\"] = 0\n",
    "test_df[['healthy', 'multiple_diseases', 'rust', 'scab']] = y_probas\n",
    "test_df.to_csv(config.submission_file, index=False)\n",
    "test_df.head()"
   ]
  },
  {
   "cell_type": "code",
   "execution_count": 49,
   "metadata": {},
   "outputs": [
    {
     "data": {
      "text/plain": [
       "'02_effb0_hard_aug.csv'"
      ]
     },
     "execution_count": 49,
     "metadata": {},
     "output_type": "execute_result"
    }
   ],
   "source": [
    "config.submission_file"
   ]
  },
  {
   "cell_type": "code",
   "execution_count": null,
   "metadata": {},
   "outputs": [],
   "source": []
  },
  {
   "cell_type": "code",
   "execution_count": null,
   "metadata": {},
   "outputs": [],
   "source": []
  },
  {
   "cell_type": "code",
   "execution_count": null,
   "metadata": {},
   "outputs": [],
   "source": []
  },
  {
   "cell_type": "code",
   "execution_count": null,
   "metadata": {},
   "outputs": [],
   "source": []
  },
  {
   "cell_type": "code",
   "execution_count": null,
   "metadata": {},
   "outputs": [],
   "source": []
  },
  {
   "cell_type": "code",
   "execution_count": null,
   "metadata": {},
   "outputs": [],
   "source": []
  },
  {
   "cell_type": "code",
   "execution_count": null,
   "metadata": {},
   "outputs": [],
   "source": []
  },
  {
   "cell_type": "code",
   "execution_count": null,
   "metadata": {},
   "outputs": [],
   "source": []
  },
  {
   "cell_type": "code",
   "execution_count": null,
   "metadata": {},
   "outputs": [],
   "source": []
  },
  {
   "cell_type": "code",
   "execution_count": null,
   "metadata": {},
   "outputs": [],
   "source": []
  },
  {
   "cell_type": "code",
   "execution_count": null,
   "metadata": {},
   "outputs": [],
   "source": []
  },
  {
   "cell_type": "code",
   "execution_count": null,
   "metadata": {},
   "outputs": [],
   "source": []
  },
  {
   "cell_type": "code",
   "execution_count": null,
   "metadata": {},
   "outputs": [],
   "source": []
  },
  {
   "cell_type": "code",
   "execution_count": null,
   "metadata": {},
   "outputs": [],
   "source": []
  }
 ],
 "metadata": {
  "kernelspec": {
   "display_name": "Python 3",
   "language": "python",
   "name": "python3"
  },
  "language_info": {
   "codemirror_mode": {
    "name": "ipython",
    "version": 3
   },
   "file_extension": ".py",
   "mimetype": "text/x-python",
   "name": "python",
   "nbconvert_exporter": "python",
   "pygments_lexer": "ipython3",
   "version": "3.6.9"
  }
 },
 "nbformat": 4,
 "nbformat_minor": 4
}
