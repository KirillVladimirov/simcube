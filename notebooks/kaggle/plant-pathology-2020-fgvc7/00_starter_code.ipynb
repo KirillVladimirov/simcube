{
 "cells": [
  {
   "cell_type": "code",
   "execution_count": 1,
   "metadata": {},
   "outputs": [],
   "source": [
    "import warnings  \n",
    "\n",
    "import os\n",
    "import time\n",
    "import random\n",
    "import numpy as np\n",
    "import pandas as pd\n",
    "import matplotlib.pyplot as plt\n",
    "\n",
    "import albumentations as A\n",
    "from albumentations.pytorch import ToTensorV2\n",
    "import cv2\n",
    "\n",
    "import torch\n",
    "import torch.nn as nn\n",
    "import torch.nn.functional as F\n",
    "import torchvision\n",
    "import torch.optim as optim\n",
    "from torch.utils.data import Dataset, DataLoader\n",
    "from torch.utils.data.dataset import Subset\n",
    "from torch.nn.functional import softmax\n",
    "\n",
    "from efficientnet_pytorch import EfficientNet\n",
    "\n",
    "from typing import Callable, List, Tuple, Dict\n",
    "from pathlib import Path\n",
    "\n",
    "from transformers import AdamW\n",
    "from transformers import get_cosine_schedule_with_warmup\n",
    "\n",
    "from sklearn.metrics import roc_auc_score, accuracy_score\n",
    "from sklearn.model_selection import train_test_split\n",
    "from collections import defaultdict, OrderedDict\n",
    "from tqdm.notebook import tqdm\n",
    "from torchsummary import summary\n",
    "\n",
    "import matplotlib\n",
    "matplotlib.rcParams.update({'figure.figsize': (16, 12), 'font.size': 14})\n",
    "import matplotlib.pyplot as plt\n",
    "%matplotlib inline\n",
    "from IPython.display import clear_output"
   ]
  },
  {
   "cell_type": "code",
   "execution_count": 2,
   "metadata": {},
   "outputs": [],
   "source": [
    "warnings.simplefilter(\"ignore\", UserWarning)\n",
    "warnings.simplefilter(\"ignore\", DeprecationWarning)\n",
    "warnings.filterwarnings('ignore')\n",
    "os.environ[\"PYTHONWARNINGS\"] = \"ignore\""
   ]
  },
  {
   "cell_type": "code",
   "execution_count": 4,
   "metadata": {},
   "outputs": [
    {
     "name": "stdout",
     "output_type": "stream",
     "text": [
      "Directory  00_starter_code  already exists\n"
     ]
    }
   ],
   "source": [
    "EXPERIMENT_NAME = \"00_starter_code\"\n",
    "\n",
    "class ConfigExperiment:\n",
    "    logdir = f\"./logs/{EXPERIMENT_NAME}\"\n",
    "    save_dirname = EXPERIMENT_NAME\n",
    "    submission_file = f\"{EXPERIMENT_NAME}.csv\"\n",
    "    seed = 42\n",
    "    batch_size = 8\n",
    "    model_name = 'efficientnet-b0'\n",
    "    size = 512\n",
    "    num_workers = 20\n",
    "    root_images = \"../../../data/raw/plant-pathology-2020-fgvc7/images/\"\n",
    "    root = \"../../../data/raw/plant-pathology-2020-fgvc7/\"\n",
    "    num_classes = 4\n",
    "    patience = 10\n",
    "    early_stopping_delta = 1e-4\n",
    "    num_epochs = 200\n",
    "    lr = 0.003\n",
    "    class_names = [\"healthy\", \"multiple_diseases\", \"rust\", \"scab\"]\n",
    "    is_fp16_used = False\n",
    "    \n",
    "    \n",
    "def set_seed(seed):\n",
    "    torch.manual_seed(seed)\n",
    "    torch.cuda.manual_seed_all(seed)\n",
    "    torch.backends.cudnn.deterministic = True\n",
    "    torch.backends.cudnn.benchmark = False\n",
    "    np.random.seed(seed)\n",
    "    random.seed(seed)\n",
    "    os.environ['PYTHONHASHSEED'] = str(seed)\n",
    "    \n",
    "    \n",
    "config = ConfigExperiment()\n",
    "set_seed(config.seed)\n",
    "config.size = EfficientNet.get_image_size(config.model_name)\n",
    "os.environ[\"CUDA_VISIBLE_DEVICES\"] = \"0\"\n",
    "device = \"cuda\" if torch.cuda.is_available() else \"cpu\"\n",
    "\n",
    "try:\n",
    "    # Create target Directory\n",
    "    os.mkdir(config.save_dirname)\n",
    "    print(\"Directory \" , config.save_dirname ,  \" Created \") \n",
    "except FileExistsError:\n",
    "    print(\"Directory \" , config.save_dirname ,  \" already exists\")"
   ]
  },
  {
   "cell_type": "code",
   "execution_count": 5,
   "metadata": {},
   "outputs": [],
   "source": [
    "class PlantDataset(Dataset):\n",
    "    \n",
    "    def __init__(self, df, config, transforms=None):\n",
    "    \n",
    "        self.df = df\n",
    "        self.images_dir = config.root_images\n",
    "        self.class_names = config.class_names\n",
    "        self.transforms=transforms\n",
    "        \n",
    "    def __len__(self):\n",
    "        return self.df.shape[0]\n",
    "    \n",
    "    def __getitem__(self, idx):\n",
    "        image_src = self.images_dir + self.df.iloc[idx]['image_id'] + '.jpg'\n",
    "        image = cv2.imread(image_src, cv2.IMREAD_COLOR)\n",
    "        image = cv2.cvtColor(image, cv2.COLOR_BGR2RGB)\n",
    "        labels = self.df.iloc[idx][self.class_names].values.astype(np.int8)\n",
    "        label = torch.argmax(torch.from_numpy(labels))\n",
    "        \n",
    "        if self.transforms:\n",
    "            transformed = self.transforms(image=image)\n",
    "            image = transformed['image']\n",
    "\n",
    "        return image, label"
   ]
  },
  {
   "cell_type": "code",
   "execution_count": 6,
   "metadata": {},
   "outputs": [],
   "source": [
    "def pre_transforms(image_size=224):\n",
    "    # Convert the image to a square of size image_size x image_size\n",
    "    # (keeping aspect ratio)\n",
    "    result = [\n",
    "        A.LongestMaxSize(max_size=image_size),\n",
    "        A.PadIfNeeded(image_size, image_size, border_mode=0)\n",
    "    ]\n",
    "    \n",
    "    return result\n",
    "\n",
    "def hard_transforms():\n",
    "    result = [\n",
    "        # Random shifts, stretches and turns with a 50% probability\n",
    "#         A.RandomResizedCrop(height=config.size, width=config.size, p=1.0),\n",
    "        A.Flip(),\n",
    "        A.ShiftScaleRotate(rotate_limit=1.0, p=0.8),\n",
    "\n",
    "        # Pixels\n",
    "        A.OneOf([\n",
    "            A.IAAEmboss(p=1.0),\n",
    "            A.IAASharpen(p=1.0),\n",
    "            A.Blur(p=1.0),\n",
    "        ], p=0.5),\n",
    "\n",
    "        # Affine\n",
    "        A.OneOf([\n",
    "            A.ElasticTransform(p=1.0),\n",
    "            A.IAAPiecewiseAffine(p=1.0)\n",
    "        ], p=0.5),\n",
    "    ]\n",
    "    \n",
    "    return result\n",
    "\n",
    "def post_transforms():\n",
    "    # we use ImageNet image normalization\n",
    "    # and convert it to torch.Tensor\n",
    "    return [A.Normalize(p=1.0), ToTensorV2(p=1.0),]\n",
    "\n",
    "def compose(transforms_to_compose):\n",
    "    # combine all augmentations into one single pipeline\n",
    "    result = A.Compose([item for sublist in transforms_to_compose for item in sublist])\n",
    "    return result"
   ]
  },
  {
   "cell_type": "code",
   "execution_count": 7,
   "metadata": {},
   "outputs": [],
   "source": [
    "train_df = pd.read_csv(config.root + 'train.csv')\n",
    "train, valid = train_test_split(train_df, test_size=0.33, random_state=config.seed, shuffle=True, stratify=train_df[config.class_names])\n",
    "\n",
    "train_transforms = compose([\n",
    "    pre_transforms(config.size),\n",
    "#     hard_transforms(), \n",
    "    post_transforms()\n",
    "])\n",
    "valid_transforms = compose([\n",
    "    pre_transforms(config.size), \n",
    "    post_transforms()\n",
    "])\n",
    "\n",
    "show_transforms = compose([\n",
    "    pre_transforms(config.size),\n",
    "#     hard_transforms()\n",
    "])\n",
    "\n",
    "train_dataset = PlantDataset(train, config, train_transforms)\n",
    "valid_dataset = PlantDataset(valid, config, valid_transforms)\n",
    "\n",
    "train_dataloader = DataLoader(train_dataset, batch_size=config.batch_size, shuffle=True, num_workers=config.num_workers)\n",
    "valid_dataloader = DataLoader(valid_dataset, batch_size=config.batch_size, shuffle=False, num_workers=config.num_workers)"
   ]
  },
  {
   "cell_type": "code",
   "execution_count": 8,
   "metadata": {},
   "outputs": [
    {
     "name": "stdout",
     "output_type": "stream",
     "text": [
      "Loaded pretrained weights for efficientnet-b0\n"
     ]
    }
   ],
   "source": [
    "def get_model(model_name: str, num_classes: int, pretrained: str = \"imagenet\") -> EfficientNet:\n",
    "    model = EfficientNet.from_pretrained(model_name)\n",
    "    for param in model.parameters():\n",
    "        param.requires_grad = False\n",
    "    num_ftrs = model._fc.in_features\n",
    "    model._fc = nn.Sequential(nn.Linear(num_ftrs, num_classes, bias = True))\n",
    "    return model\n",
    "\n",
    "model = get_model(config.model_name, config.num_classes)"
   ]
  },
  {
   "cell_type": "code",
   "execution_count": 9,
   "metadata": {},
   "outputs": [],
   "source": [
    "criterion = nn.CrossEntropyLoss()\n",
    "optimizer = torch.optim.Adam(model.parameters(), lr=config.lr)\n",
    "scheduler = torch.optim.lr_scheduler.ReduceLROnPlateau(optimizer, patience=3, verbose=True, mode=\"max\", factor=0.3)\n",
    "# scheduler = torch.optim.lr_scheduler.ExponentialLR(optimizer, gamma=0.8)\n",
    "\n",
    "# end_lr = 0.1\n",
    "# start_lr = 1e-7\n",
    "# lr_lambda = lambda x: math.exp(x * math.log(end_lr / start_lr) / (lr_find_epochs * len(train_dataloader)))\n",
    "# scheduler = torch.optim.lr_scheduler.LambdaLR(optimizer, lr_lambda)\n",
    "\n",
    "# scheduler_1 = LinearCyclicalScheduler(optimizer, \"lr\", start_value=0.01, end_value=0.005, cycle_size=60)\n",
    "# scheduler_2 = CosineAnnealingScheduler(optimizer, \"lr\", start_value=0.05, end_value=0.001, cycle_size=60)\n",
    "# combined_scheduler = ConcatScheduler(schedulers=[scheduler_1, scheduler_2], durations=[30, ])"
   ]
  },
  {
   "cell_type": "code",
   "execution_count": 10,
   "metadata": {},
   "outputs": [],
   "source": [
    "class Trainer:\n",
    "    def __init__(self, model, train_dataloader: DataLoader, valid_dataloader: DataLoader, criterion, optimizer, scheduler, device, config: ConfigExperiment):\n",
    "        self.model = model\n",
    "        self.train_dataloader = train_dataloader\n",
    "        self.valid_dataloader = valid_dataloader\n",
    "        self.criterion = criterion\n",
    "        self.optimizer = optimizer\n",
    "        self.scheduler = scheduler\n",
    "        self.device = device\n",
    "        self.config = config\n",
    "        self.train_metrics = {\n",
    "            'avg_loss': [],\n",
    "            'auc/_mean': [],\n",
    "            'auc/healthy': [],\n",
    "            'auc/multiple_diseases': [],\n",
    "            'auc/rust': [],\n",
    "            'auc/scab': [],\n",
    "        }\n",
    "        self.valid_metrics = {\n",
    "            'avg_loss': [],\n",
    "            'auc/_mean': [],\n",
    "            'auc/healthy': [],\n",
    "            'auc/multiple_diseases': [],\n",
    "            'auc/rust': [],\n",
    "            'auc/scab': [],\n",
    "        }\n",
    "        self.counter = 0\n",
    "        self.delta = config.early_stopping_delta\n",
    "      \n",
    "    def run(self):\n",
    "        self.model.to(device)\n",
    "        best_valid_loss = float('inf')\n",
    "        best_valid_auc_mean = 0\n",
    "\n",
    "        try:\n",
    "            for i_epoch in tqdm(range(self.config.num_epochs), desc='Epochs', total=config.num_epochs, position=1, leave=True):\n",
    "                start_time = time.time()\n",
    "\n",
    "                train_loss, train_outputs, train_targets = self._train()\n",
    "                valid_loss, valid_outputs, valid_targets = self._evaluate()\n",
    "                    \n",
    "                self.train_metrics[\"avg_loss\"].append(train_loss)\n",
    "                self.train_metrics[\"auc/_mean\"].append(self.comp_metric(train_outputs, train_targets))\n",
    "                self.train_metrics[\"auc/healthy\"].append(self.healthy_roc_auc(train_outputs, train_targets))\n",
    "                self.train_metrics[\"auc/multiple_diseases\"].append(self.multiple_diseases_roc_auc(train_outputs, train_targets))\n",
    "                self.train_metrics[\"auc/rust\"].append(self.rust_roc_auc(train_outputs, train_targets))\n",
    "                self.train_metrics[\"auc/scab\"].append(self.scab_roc_auc(train_outputs, train_targets))\n",
    "                \n",
    "                self.valid_metrics[\"avg_loss\"].append(valid_loss)\n",
    "                self.valid_metrics[\"auc/_mean\"].append(self.comp_metric(valid_outputs, valid_targets))\n",
    "                self.valid_metrics[\"auc/healthy\"].append(self.healthy_roc_auc(valid_outputs, valid_targets))\n",
    "                self.valid_metrics[\"auc/multiple_diseases\"].append(self.multiple_diseases_roc_auc(valid_outputs, valid_targets))\n",
    "                self.valid_metrics[\"auc/rust\"].append(self.rust_roc_auc(valid_outputs, valid_targets))\n",
    "                self.valid_metrics[\"auc/scab\"].append(self.scab_roc_auc(valid_outputs, valid_targets))\n",
    "                \n",
    "                end_time = time.time()\n",
    "                epoch_mins, epoch_secs = self._epoch_time(start_time, end_time)\n",
    "                self.print_progress(i_epoch, epoch_mins, epoch_secs)\n",
    "                \n",
    "                self.scheduler.step(self.valid_metrics[\"auc/_mean\"][-1])\n",
    "                \n",
    "                if valid_loss < best_valid_loss:\n",
    "                    best_valid_loss = valid_loss\n",
    "                    torch.save(model.state_dict(), f\"{config.save_dirname}/best_model_epoch={i_epoch+1}.pth\")\n",
    "                    \n",
    "                if self.valid_metrics[\"auc/_mean\"][-1] > best_valid_auc_mean:\n",
    "                    self.counter = 0\n",
    "                    best_valid_auc_mean = self.valid_metrics[\"auc/_mean\"][-1]\n",
    "                    torch.save(model.state_dict(), f\"{config.save_dirname}/best_model_epoch={i_epoch+1}_auc_mean={best_valid_auc_mean}.pth\")\n",
    "                else:\n",
    "                    self.counter += 1\n",
    "                    \n",
    "                if self.counter > self.config.patience:\n",
    "                    print(\"EarlyStopping\")\n",
    "                    break\n",
    "        except KeyboardInterrupt: \n",
    "            pass\n",
    "        \n",
    "        return self.train_metrics, self.valid_metrics\n",
    "        \n",
    "    def _train(self):\n",
    "        model.train()\n",
    "        epoch_loss = 0\n",
    "        epoch_output = None\n",
    "        epoch_target = None\n",
    "        for i, (images, labels) in tqdm(enumerate(self.train_dataloader), desc='Train', total=len(self.train_dataloader), position=2, leave=True):\n",
    "            loss_iten, outputs = self._train_process(images, labels)\n",
    "            epoch_loss += loss_iten              \n",
    "\n",
    "            if epoch_output is None:\n",
    "                epoch_output = outputs.cpu().data\n",
    "            else:\n",
    "                epoch_output = torch.cat((epoch_output, outputs.cpu().data))\n",
    "\n",
    "            if epoch_target is None:\n",
    "                epoch_target = labels.cpu().data\n",
    "            else:\n",
    "                epoch_target = torch.cat((epoch_target, labels.cpu().data))\n",
    "            \n",
    "        return epoch_loss / len(self.train_dataloader), epoch_output, epoch_target\n",
    "    \n",
    "    def _train_process(self, images, labels):\n",
    "        images = images.to(self.device)\n",
    "        labels = labels.to(self.device)\n",
    "        self.optimizer.zero_grad()\n",
    "        outputs = self.model(images)\n",
    "        loss = self.criterion(outputs, labels)\n",
    "        loss.backward()\n",
    "        self.optimizer.step()\n",
    "        return loss.item(), outputs\n",
    "            \n",
    "    def _evaluate(self):\n",
    "        model.eval()\n",
    "        epoch_loss = 0\n",
    "        epoch_output = None\n",
    "        epoch_target = None\n",
    "        with torch.no_grad():\n",
    "            for i, (images, labels) in enumerate(self.valid_dataloader):\n",
    "                images = images.to(device)\n",
    "                labels = labels.to(device)\n",
    "                outputs = model(images)\n",
    "                loss = criterion(outputs, labels)\n",
    "                epoch_loss += loss.item()\n",
    "                \n",
    "                if epoch_output is None:\n",
    "                    epoch_output = outputs.cpu().data\n",
    "                else:\n",
    "                    epoch_output = torch.cat((epoch_output, outputs.cpu().data))\n",
    "\n",
    "                if epoch_target is None:\n",
    "                    epoch_target = labels.cpu().data\n",
    "                else:\n",
    "                    epoch_target = torch.cat((epoch_target, labels.cpu().data))\n",
    "\n",
    "        return epoch_loss / len(self.valid_dataloader), epoch_output, epoch_target\n",
    "    \n",
    "#     def _evaluate_tta(self):\n",
    "#         n_samples = len(dataset)\n",
    "#         y_probas_tta = np.zeros((n_samples, config.num_classes, tta_count), dtype=np.float32)\n",
    "\n",
    "#         model.eval()\n",
    "#         model.to(device)\n",
    "#         with torch.no_grad():\n",
    "#             for i_epoch in tqdm(range(tta_count), desc='TTA', total=tta_count, position=1, leave=True):\n",
    "#                 for i, (images, idx) in enumerate(dataloader):\n",
    "#                     images = images.to(device)\n",
    "#                     outputs = model(images)\n",
    "#                     y_pred = F.softmax(outputs, dim=1)\n",
    "\n",
    "#                     tta_index = i_epoch - 1\n",
    "#                     start_index = (i % len(dataloader)) * config.batch_size\n",
    "#                     end_index = min(start_index + config.batch_size, n_samples)\n",
    "#                     batch_y_probas = y_pred.detach().cpu().numpy()                \n",
    "#                     y_probas_tta[start_index:end_index, :, tta_index] = batch_y_probas\n",
    "\n",
    "#         return y_probas_tta\n",
    "\n",
    "#     def show_history(self):\n",
    "#         fig, ax = plt.subplots(nrows=1, ncols=2, figsize=(12, 8))\n",
    "#         clear_output(True)\n",
    "#         ax[0].plot(history, label='train loss')\n",
    "#         ax[0].set_xlabel('Batch')\n",
    "#         ax[0].set_title('Train loss')\n",
    "#         if train_history is not None:\n",
    "#             ax[1].plot(train_history, label='general train history')\n",
    "#             ax[1].set_xlabel('Epoch')\n",
    "#         if valid_history is not None:\n",
    "#             ax[1].plot(valid_history, label='general valid history')\n",
    "#         plt.legend()\n",
    "#         plt.show()\n",
    "\n",
    "    \n",
    "    def _epoch_time(self, start_time, end_time):\n",
    "        elapsed_time = end_time - start_time\n",
    "        elapsed_mins = int(elapsed_time / 60)\n",
    "        elapsed_secs = int(elapsed_time - (elapsed_mins * 60))\n",
    "        return elapsed_mins, elapsed_secs\n",
    "\n",
    "    def print_progress(self, i_epoch, epoch_mins, epoch_secs):\n",
    "        i_epoch = i_epoch + 1\n",
    "        print(f\"Epoch: {i_epoch:02} | Time: {epoch_mins}m {epoch_secs}s\")\n",
    "        print(\"Training Results - Average Loss: {:.4f} | auc/_mean: {:.4f} | auc/healthy: {:.4f} | auc/multiple_diseases: {:.4f}, auc/rust: {:.4f}, auc/scab: {:.4f}\"\n",
    "            .format(\n",
    "                self.train_metrics['avg_loss'][-1], \n",
    "                self.train_metrics['auc/_mean'][-1],\n",
    "                self.train_metrics['auc/healthy'][-1],\n",
    "                self.train_metrics['auc/multiple_diseases'][-1],\n",
    "                self.train_metrics['auc/rust'][-1],\n",
    "                self.train_metrics['auc/scab'][-1],\n",
    "            ))\n",
    "        print(\"Evaluating Results - Average Loss: {:.4f} | auc/_mean: {:.4f} | auc/healthy: {:.4f} | auc/multiple_diseases: {:.4f}, auc/rust: {:.4f}, auc/scab: {:.4f}\"\n",
    "            .format( \n",
    "                self.valid_metrics['avg_loss'][-1], \n",
    "                self.valid_metrics['auc/_mean'][-1],\n",
    "                self.valid_metrics['auc/healthy'][-1],\n",
    "                self.valid_metrics['auc/multiple_diseases'][-1],\n",
    "                self.valid_metrics['auc/rust'][-1],\n",
    "                self.valid_metrics['auc/scab'][-1],\n",
    "            ))\n",
    "        print()\n",
    "        \n",
    "    def comp_metric(self, preds, targs, labels=range(4)):\n",
    "        preds = torch.sigmoid(preds)\n",
    "        targs = torch.eye(4)[targs]\n",
    "        return np.mean([roc_auc_score(targs[:,i], preds[:,i]) for i in labels])\n",
    "\n",
    "    def healthy_roc_auc(self, *args):\n",
    "        return self.comp_metric(*args, labels=[0])\n",
    "\n",
    "    def multiple_diseases_roc_auc(self, *args):\n",
    "        return self.comp_metric(*args, labels=[1])\n",
    "\n",
    "    def rust_roc_auc(self, *args):\n",
    "        return self.comp_metric(*args, labels=[2])\n",
    "\n",
    "    def scab_roc_auc(self, *args):\n",
    "        return self.comp_metric(*args, labels=[3])\n",
    "\n"
   ]
  },
  {
   "cell_type": "code",
   "execution_count": 11,
   "metadata": {},
   "outputs": [
    {
     "data": {
      "application/vnd.jupyter.widget-view+json": {
       "model_id": "d75c227e4b554a70bc4b14d8291a7ab9",
       "version_major": 2,
       "version_minor": 0
      },
      "text/plain": [
       "HBox(children=(FloatProgress(value=0.0, description='Epochs', max=200.0, style=ProgressStyle(description_width…"
      ]
     },
     "metadata": {},
     "output_type": "display_data"
    },
    {
     "data": {
      "application/vnd.jupyter.widget-view+json": {
       "model_id": "0c81b3839e23421bb88032ce6c8e76bf",
       "version_major": 2,
       "version_minor": 0
      },
      "text/plain": [
       "HBox(children=(FloatProgress(value=0.0, description='Train', max=153.0, style=ProgressStyle(description_width=…"
      ]
     },
     "metadata": {},
     "output_type": "display_data"
    },
    {
     "name": "stdout",
     "output_type": "stream",
     "text": [
      "\n",
      "Epoch: 01 | Time: 0m 8s\n",
      "Training Results - Average Loss: 0.9169 | auc/_mean: 0.7429 | auc/healthy: 0.7732 | auc/multiple_diseases: 0.5083, auc/rust: 0.8433, auc/scab: 0.8467\n",
      "Evaluating Results - Average Loss: 0.6555 | auc/_mean: 0.8706 | auc/healthy: 0.9096 | auc/multiple_diseases: 0.6824, auc/rust: 0.9394, auc/scab: 0.9511\n",
      "\n"
     ]
    },
    {
     "data": {
      "application/vnd.jupyter.widget-view+json": {
       "model_id": "d182df53c5db40e59a7d8e0ea0409bb4",
       "version_major": 2,
       "version_minor": 0
      },
      "text/plain": [
       "HBox(children=(FloatProgress(value=0.0, description='Train', max=153.0, style=ProgressStyle(description_width=…"
      ]
     },
     "metadata": {},
     "output_type": "display_data"
    },
    {
     "name": "stdout",
     "output_type": "stream",
     "text": [
      "\n",
      "Epoch: 02 | Time: 0m 8s\n",
      "Training Results - Average Loss: 0.7038 | auc/_mean: 0.8456 | auc/healthy: 0.8752 | auc/multiple_diseases: 0.6945, auc/rust: 0.9141, auc/scab: 0.8986\n",
      "Evaluating Results - Average Loss: 0.6256 | auc/_mean: 0.8680 | auc/healthy: 0.9297 | auc/multiple_diseases: 0.6434, auc/rust: 0.9450, auc/scab: 0.9540\n",
      "\n"
     ]
    },
    {
     "data": {
      "application/vnd.jupyter.widget-view+json": {
       "model_id": "1ff4af7754a8446487d5091bc26ed02b",
       "version_major": 2,
       "version_minor": 0
      },
      "text/plain": [
       "HBox(children=(FloatProgress(value=0.0, description='Train', max=153.0, style=ProgressStyle(description_width=…"
      ]
     },
     "metadata": {},
     "output_type": "display_data"
    },
    {
     "name": "stdout",
     "output_type": "stream",
     "text": [
      "\n",
      "Epoch: 03 | Time: 0m 8s\n",
      "Training Results - Average Loss: 0.6660 | auc/_mean: 0.8626 | auc/healthy: 0.8919 | auc/multiple_diseases: 0.7274, auc/rust: 0.9099, auc/scab: 0.9213\n",
      "Evaluating Results - Average Loss: 0.5839 | auc/_mean: 0.8582 | auc/healthy: 0.9242 | auc/multiple_diseases: 0.6158, auc/rust: 0.9435, auc/scab: 0.9494\n",
      "\n"
     ]
    },
    {
     "data": {
      "application/vnd.jupyter.widget-view+json": {
       "model_id": "754c0be76caf4f2ba85e73eb6f1ffd3d",
       "version_major": 2,
       "version_minor": 0
      },
      "text/plain": [
       "HBox(children=(FloatProgress(value=0.0, description='Train', max=153.0, style=ProgressStyle(description_width=…"
      ]
     },
     "metadata": {},
     "output_type": "display_data"
    },
    {
     "name": "stdout",
     "output_type": "stream",
     "text": [
      "\n",
      "Epoch: 04 | Time: 0m 9s\n",
      "Training Results - Average Loss: 0.6231 | auc/_mean: 0.8697 | auc/healthy: 0.9058 | auc/multiple_diseases: 0.7373, auc/rust: 0.9151, auc/scab: 0.9208\n",
      "Evaluating Results - Average Loss: 0.5831 | auc/_mean: 0.8574 | auc/healthy: 0.9229 | auc/multiple_diseases: 0.6220, auc/rust: 0.9436, auc/scab: 0.9409\n",
      "\n"
     ]
    },
    {
     "data": {
      "application/vnd.jupyter.widget-view+json": {
       "model_id": "f36d72627354418189bc28a4bb035fbc",
       "version_major": 2,
       "version_minor": 0
      },
      "text/plain": [
       "HBox(children=(FloatProgress(value=0.0, description='Train', max=153.0, style=ProgressStyle(description_width=…"
      ]
     },
     "metadata": {},
     "output_type": "display_data"
    },
    {
     "name": "stdout",
     "output_type": "stream",
     "text": [
      "\n",
      "Epoch: 05 | Time: 0m 8s\n",
      "Training Results - Average Loss: 0.5604 | auc/_mean: 0.8995 | auc/healthy: 0.9103 | auc/multiple_diseases: 0.8227, auc/rust: 0.9243, auc/scab: 0.9406\n",
      "Evaluating Results - Average Loss: 0.6303 | auc/_mean: 0.8611 | auc/healthy: 0.9256 | auc/multiple_diseases: 0.6325, auc/rust: 0.9406, auc/scab: 0.9457\n",
      "\n",
      "Epoch     5: reducing learning rate of group 0 to 9.0000e-04.\n"
     ]
    },
    {
     "data": {
      "application/vnd.jupyter.widget-view+json": {
       "model_id": "7f87b51bd43341bc8c78c2e889fad6c2",
       "version_major": 2,
       "version_minor": 0
      },
      "text/plain": [
       "HBox(children=(FloatProgress(value=0.0, description='Train', max=153.0, style=ProgressStyle(description_width=…"
      ]
     },
     "metadata": {},
     "output_type": "display_data"
    },
    {
     "name": "stdout",
     "output_type": "stream",
     "text": [
      "\n",
      "Epoch: 06 | Time: 0m 9s\n",
      "Training Results - Average Loss: 0.5434 | auc/_mean: 0.9094 | auc/healthy: 0.9354 | auc/multiple_diseases: 0.8495, auc/rust: 0.9256, auc/scab: 0.9270\n",
      "Evaluating Results - Average Loss: 0.5854 | auc/_mean: 0.8617 | auc/healthy: 0.9284 | auc/multiple_diseases: 0.6303, auc/rust: 0.9428, auc/scab: 0.9452\n",
      "\n"
     ]
    },
    {
     "data": {
      "application/vnd.jupyter.widget-view+json": {
       "model_id": "09d9fb98f27c4aeda1186e7843351b55",
       "version_major": 2,
       "version_minor": 0
      },
      "text/plain": [
       "HBox(children=(FloatProgress(value=0.0, description='Train', max=153.0, style=ProgressStyle(description_width=…"
      ]
     },
     "metadata": {},
     "output_type": "display_data"
    },
    {
     "name": "stdout",
     "output_type": "stream",
     "text": [
      "\n",
      "Epoch: 07 | Time: 0m 9s\n",
      "Training Results - Average Loss: 0.5386 | auc/_mean: 0.9075 | auc/healthy: 0.9283 | auc/multiple_diseases: 0.8359, auc/rust: 0.9302, auc/scab: 0.9357\n",
      "Evaluating Results - Average Loss: 0.5633 | auc/_mean: 0.8630 | auc/healthy: 0.9261 | auc/multiple_diseases: 0.6323, auc/rust: 0.9481, auc/scab: 0.9456\n",
      "\n"
     ]
    },
    {
     "data": {
      "application/vnd.jupyter.widget-view+json": {
       "model_id": "62cfd2a147af47ab8e3fa28bc256ef4b",
       "version_major": 2,
       "version_minor": 0
      },
      "text/plain": [
       "HBox(children=(FloatProgress(value=0.0, description='Train', max=153.0, style=ProgressStyle(description_width=…"
      ]
     },
     "metadata": {},
     "output_type": "display_data"
    },
    {
     "name": "stdout",
     "output_type": "stream",
     "text": [
      "\n",
      "Epoch: 08 | Time: 0m 9s\n",
      "Training Results - Average Loss: 0.5334 | auc/_mean: 0.9161 | auc/healthy: 0.9281 | auc/multiple_diseases: 0.8788, auc/rust: 0.9283, auc/scab: 0.9294\n",
      "Evaluating Results - Average Loss: 0.5635 | auc/_mean: 0.8640 | auc/healthy: 0.9244 | auc/multiple_diseases: 0.6355, auc/rust: 0.9498, auc/scab: 0.9464\n",
      "\n"
     ]
    },
    {
     "data": {
      "application/vnd.jupyter.widget-view+json": {
       "model_id": "11b6b6f872be41028424f00024986755",
       "version_major": 2,
       "version_minor": 0
      },
      "text/plain": [
       "HBox(children=(FloatProgress(value=0.0, description='Train', max=153.0, style=ProgressStyle(description_width=…"
      ]
     },
     "metadata": {},
     "output_type": "display_data"
    },
    {
     "name": "stdout",
     "output_type": "stream",
     "text": [
      "\n",
      "Epoch: 09 | Time: 0m 9s\n",
      "Training Results - Average Loss: 0.5014 | auc/_mean: 0.9177 | auc/healthy: 0.9229 | auc/multiple_diseases: 0.8638, auc/rust: 0.9405, auc/scab: 0.9436\n",
      "Evaluating Results - Average Loss: 0.5639 | auc/_mean: 0.8670 | auc/healthy: 0.9265 | auc/multiple_diseases: 0.6475, auc/rust: 0.9490, auc/scab: 0.9451\n",
      "\n",
      "Epoch     9: reducing learning rate of group 0 to 2.7000e-04.\n"
     ]
    },
    {
     "data": {
      "application/vnd.jupyter.widget-view+json": {
       "model_id": "ee3076f18ad34e689478636cd663e4d4",
       "version_major": 2,
       "version_minor": 0
      },
      "text/plain": [
       "HBox(children=(FloatProgress(value=0.0, description='Train', max=153.0, style=ProgressStyle(description_width=…"
      ]
     },
     "metadata": {},
     "output_type": "display_data"
    },
    {
     "name": "stdout",
     "output_type": "stream",
     "text": [
      "\n",
      "Epoch: 10 | Time: 0m 8s\n",
      "Training Results - Average Loss: 0.4934 | auc/_mean: 0.9215 | auc/healthy: 0.9312 | auc/multiple_diseases: 0.8744, auc/rust: 0.9388, auc/scab: 0.9417\n",
      "Evaluating Results - Average Loss: 0.5617 | auc/_mean: 0.8659 | auc/healthy: 0.9272 | auc/multiple_diseases: 0.6427, auc/rust: 0.9497, auc/scab: 0.9442\n",
      "\n"
     ]
    },
    {
     "data": {
      "application/vnd.jupyter.widget-view+json": {
       "model_id": "4d19a445828d43db8b1937ce433c6163",
       "version_major": 2,
       "version_minor": 0
      },
      "text/plain": [
       "HBox(children=(FloatProgress(value=0.0, description='Train', max=153.0, style=ProgressStyle(description_width=…"
      ]
     },
     "metadata": {},
     "output_type": "display_data"
    },
    {
     "name": "stdout",
     "output_type": "stream",
     "text": [
      "\n",
      "Epoch: 11 | Time: 0m 9s\n",
      "Training Results - Average Loss: 0.4747 | auc/_mean: 0.9295 | auc/healthy: 0.9389 | auc/multiple_diseases: 0.8987, auc/rust: 0.9429, auc/scab: 0.9377\n",
      "Evaluating Results - Average Loss: 0.5620 | auc/_mean: 0.8661 | auc/healthy: 0.9257 | auc/multiple_diseases: 0.6438, auc/rust: 0.9507, auc/scab: 0.9441\n",
      "\n"
     ]
    },
    {
     "data": {
      "application/vnd.jupyter.widget-view+json": {
       "model_id": "188a09115bcb4cdda67d33b310bb574a",
       "version_major": 2,
       "version_minor": 0
      },
      "text/plain": [
       "HBox(children=(FloatProgress(value=0.0, description='Train', max=153.0, style=ProgressStyle(description_width=…"
      ]
     },
     "metadata": {},
     "output_type": "display_data"
    },
    {
     "name": "stdout",
     "output_type": "stream",
     "text": [
      "\n",
      "Epoch: 12 | Time: 0m 8s\n",
      "Training Results - Average Loss: 0.4814 | auc/_mean: 0.9221 | auc/healthy: 0.9268 | auc/multiple_diseases: 0.8664, auc/rust: 0.9448, auc/scab: 0.9503\n",
      "Evaluating Results - Average Loss: 0.5625 | auc/_mean: 0.8639 | auc/healthy: 0.9267 | auc/multiple_diseases: 0.6356, auc/rust: 0.9509, auc/scab: 0.9424\n",
      "\n",
      "EarlyStopping\n"
     ]
    }
   ],
   "source": [
    "trainer = Trainer(model, train_dataloader, valid_dataloader, criterion, optimizer, scheduler, device, config)\n",
    "trainer.run();"
   ]
  },
  {
   "cell_type": "code",
   "execution_count": null,
   "metadata": {},
   "outputs": [],
   "source": []
  },
  {
   "cell_type": "code",
   "execution_count": null,
   "metadata": {},
   "outputs": [],
   "source": []
  },
  {
   "cell_type": "code",
   "execution_count": 13,
   "metadata": {},
   "outputs": [
    {
     "name": "stdout",
     "output_type": "stream",
     "text": [
      "Loaded pretrained weights for efficientnet-b0\n"
     ]
    }
   ],
   "source": [
    "model = get_model(config.model_name, config.num_classes)\n",
    "model.load_state_dict(torch.load(f\"{config.save_dirname}/best_model_epoch=10.pth\"))\n",
    "for param in model.parameters():\n",
    "    param.requires_grad = True\n",
    "\n",
    "criterion = nn.CrossEntropyLoss()\n",
    "optimizer = torch.optim.Adam(model.parameters(), lr=config.lr)\n",
    "scheduler = torch.optim.lr_scheduler.ReduceLROnPlateau(optimizer, patience=config.patience, verbose=True, mode=\"max\", factor=0.3)"
   ]
  },
  {
   "cell_type": "code",
   "execution_count": 14,
   "metadata": {},
   "outputs": [
    {
     "data": {
      "application/vnd.jupyter.widget-view+json": {
       "model_id": "60e3ff3d410149c686d6322306614cfc",
       "version_major": 2,
       "version_minor": 0
      },
      "text/plain": [
       "HBox(children=(FloatProgress(value=0.0, description='Epochs', max=200.0, style=ProgressStyle(description_width…"
      ]
     },
     "metadata": {},
     "output_type": "display_data"
    },
    {
     "data": {
      "application/vnd.jupyter.widget-view+json": {
       "model_id": "2b79db61719c4a0b997c49daad401d13",
       "version_major": 2,
       "version_minor": 0
      },
      "text/plain": [
       "HBox(children=(FloatProgress(value=0.0, description='Train', max=153.0, style=ProgressStyle(description_width=…"
      ]
     },
     "metadata": {},
     "output_type": "display_data"
    },
    {
     "name": "stdout",
     "output_type": "stream",
     "text": [
      "\n",
      "Epoch: 01 | Time: 0m 19s\n",
      "Training Results - Average Loss: 0.9856 | auc/_mean: 0.8145 | auc/healthy: 0.8796 | auc/multiple_diseases: 0.6566, auc/rust: 0.8539, auc/scab: 0.8678\n",
      "Evaluating Results - Average Loss: 2.7058 | auc/_mean: 0.8915 | auc/healthy: 0.9702 | auc/multiple_diseases: 0.6454, auc/rust: 0.9794, auc/scab: 0.9711\n",
      "\n"
     ]
    },
    {
     "data": {
      "application/vnd.jupyter.widget-view+json": {
       "model_id": "4951755de30c462289ef60d994ec0477",
       "version_major": 2,
       "version_minor": 0
      },
      "text/plain": [
       "HBox(children=(FloatProgress(value=0.0, description='Train', max=153.0, style=ProgressStyle(description_width=…"
      ]
     },
     "metadata": {},
     "output_type": "display_data"
    },
    {
     "name": "stdout",
     "output_type": "stream",
     "text": [
      "\n",
      "Epoch: 02 | Time: 0m 20s\n",
      "Training Results - Average Loss: 0.5183 | auc/_mean: 0.8506 | auc/healthy: 0.9607 | auc/multiple_diseases: 0.5334, auc/rust: 0.9503, auc/scab: 0.9579\n",
      "Evaluating Results - Average Loss: 0.4608 | auc/_mean: 0.9030 | auc/healthy: 0.9897 | auc/multiple_diseases: 0.6444, auc/rust: 0.9932, auc/scab: 0.9846\n",
      "\n"
     ]
    },
    {
     "data": {
      "application/vnd.jupyter.widget-view+json": {
       "model_id": "6b1769ac52aa4643914bf54f4e28bd29",
       "version_major": 2,
       "version_minor": 0
      },
      "text/plain": [
       "HBox(children=(FloatProgress(value=0.0, description='Train', max=153.0, style=ProgressStyle(description_width=…"
      ]
     },
     "metadata": {},
     "output_type": "display_data"
    },
    {
     "name": "stdout",
     "output_type": "stream",
     "text": [
      "\n",
      "Epoch: 03 | Time: 0m 19s\n",
      "Training Results - Average Loss: 0.5246 | auc/_mean: 0.8862 | auc/healthy: 0.9588 | auc/multiple_diseases: 0.6785, auc/rust: 0.9594, auc/scab: 0.9482\n",
      "Evaluating Results - Average Loss: 0.4533 | auc/_mean: 0.9066 | auc/healthy: 0.9911 | auc/multiple_diseases: 0.6574, auc/rust: 0.9925, auc/scab: 0.9854\n",
      "\n"
     ]
    },
    {
     "data": {
      "application/vnd.jupyter.widget-view+json": {
       "model_id": "6d6bb74ee7d94d7785fd8e2e7009ced5",
       "version_major": 2,
       "version_minor": 0
      },
      "text/plain": [
       "HBox(children=(FloatProgress(value=0.0, description='Train', max=153.0, style=ProgressStyle(description_width=…"
      ]
     },
     "metadata": {},
     "output_type": "display_data"
    },
    {
     "name": "stdout",
     "output_type": "stream",
     "text": [
      "\n",
      "Epoch: 04 | Time: 0m 20s\n",
      "Training Results - Average Loss: 0.3700 | auc/_mean: 0.8970 | auc/healthy: 0.9867 | auc/multiple_diseases: 0.6537, auc/rust: 0.9740, auc/scab: 0.9739\n",
      "Evaluating Results - Average Loss: 0.4435 | auc/_mean: 0.8891 | auc/healthy: 0.9903 | auc/multiple_diseases: 0.5897, auc/rust: 0.9926, auc/scab: 0.9837\n",
      "\n"
     ]
    },
    {
     "data": {
      "application/vnd.jupyter.widget-view+json": {
       "model_id": "a73aeb902850424a9213cb733bf8cc1e",
       "version_major": 2,
       "version_minor": 0
      },
      "text/plain": [
       "HBox(children=(FloatProgress(value=0.0, description='Train', max=153.0, style=ProgressStyle(description_width=…"
      ]
     },
     "metadata": {},
     "output_type": "display_data"
    },
    {
     "name": "stdout",
     "output_type": "stream",
     "text": [
      "\n",
      "Epoch: 05 | Time: 0m 20s\n",
      "Training Results - Average Loss: 0.3411 | auc/_mean: 0.8993 | auc/healthy: 0.9882 | auc/multiple_diseases: 0.6585, auc/rust: 0.9718, auc/scab: 0.9789\n",
      "Evaluating Results - Average Loss: 0.8857 | auc/_mean: 0.9128 | auc/healthy: 0.9874 | auc/multiple_diseases: 0.6947, auc/rust: 0.9902, auc/scab: 0.9788\n",
      "\n"
     ]
    },
    {
     "data": {
      "application/vnd.jupyter.widget-view+json": {
       "model_id": "8d67bcbcfa014872a2589f2d2cf42de9",
       "version_major": 2,
       "version_minor": 0
      },
      "text/plain": [
       "HBox(children=(FloatProgress(value=0.0, description='Train', max=153.0, style=ProgressStyle(description_width=…"
      ]
     },
     "metadata": {},
     "output_type": "display_data"
    },
    {
     "name": "stdout",
     "output_type": "stream",
     "text": [
      "\n",
      "Epoch: 06 | Time: 0m 19s\n",
      "Training Results - Average Loss: 0.2677 | auc/_mean: 0.9374 | auc/healthy: 0.9896 | auc/multiple_diseases: 0.7868, auc/rust: 0.9883, auc/scab: 0.9851\n",
      "Evaluating Results - Average Loss: 0.2818 | auc/_mean: 0.9418 | auc/healthy: 0.9939 | auc/multiple_diseases: 0.7942, auc/rust: 0.9939, auc/scab: 0.9851\n",
      "\n"
     ]
    },
    {
     "data": {
      "application/vnd.jupyter.widget-view+json": {
       "model_id": "70b60c0f82184a23a4cbb2626e94b29e",
       "version_major": 2,
       "version_minor": 0
      },
      "text/plain": [
       "HBox(children=(FloatProgress(value=0.0, description='Train', max=153.0, style=ProgressStyle(description_width=…"
      ]
     },
     "metadata": {},
     "output_type": "display_data"
    },
    {
     "name": "stdout",
     "output_type": "stream",
     "text": [
      "\n",
      "Epoch: 07 | Time: 0m 20s\n",
      "Training Results - Average Loss: 0.2424 | auc/_mean: 0.9412 | auc/healthy: 0.9957 | auc/multiple_diseases: 0.7951, auc/rust: 0.9851, auc/scab: 0.9891\n",
      "Evaluating Results - Average Loss: 1.1247 | auc/_mean: 0.8525 | auc/healthy: 0.7593 | auc/multiple_diseases: 0.6838, auc/rust: 0.9791, auc/scab: 0.9877\n",
      "\n"
     ]
    },
    {
     "data": {
      "application/vnd.jupyter.widget-view+json": {
       "model_id": "afbac38b91a446a0bacf4e0e314f25e4",
       "version_major": 2,
       "version_minor": 0
      },
      "text/plain": [
       "HBox(children=(FloatProgress(value=0.0, description='Train', max=153.0, style=ProgressStyle(description_width=…"
      ]
     },
     "metadata": {},
     "output_type": "display_data"
    },
    {
     "name": "stdout",
     "output_type": "stream",
     "text": [
      "\n",
      "Epoch: 08 | Time: 0m 19s\n",
      "Training Results - Average Loss: 0.3479 | auc/_mean: 0.9080 | auc/healthy: 0.9836 | auc/multiple_diseases: 0.6968, auc/rust: 0.9794, auc/scab: 0.9722\n",
      "Evaluating Results - Average Loss: 0.6083 | auc/_mean: 0.8743 | auc/healthy: 0.9656 | auc/multiple_diseases: 0.5942, auc/rust: 0.9743, auc/scab: 0.9629\n",
      "\n"
     ]
    },
    {
     "data": {
      "application/vnd.jupyter.widget-view+json": {
       "model_id": "aa8d3eed47864c32951d5db81d4a7e61",
       "version_major": 2,
       "version_minor": 0
      },
      "text/plain": [
       "HBox(children=(FloatProgress(value=0.0, description='Train', max=153.0, style=ProgressStyle(description_width=…"
      ]
     },
     "metadata": {},
     "output_type": "display_data"
    },
    {
     "name": "stdout",
     "output_type": "stream",
     "text": [
      "\n",
      "Epoch: 09 | Time: 0m 19s\n",
      "Training Results - Average Loss: 0.2814 | auc/_mean: 0.9406 | auc/healthy: 0.9879 | auc/multiple_diseases: 0.8015, auc/rust: 0.9867, auc/scab: 0.9865\n",
      "Evaluating Results - Average Loss: 0.4312 | auc/_mean: 0.9007 | auc/healthy: 0.9905 | auc/multiple_diseases: 0.6330, auc/rust: 0.9933, auc/scab: 0.9858\n",
      "\n"
     ]
    },
    {
     "data": {
      "application/vnd.jupyter.widget-view+json": {
       "model_id": "df96c638cbf24fb4bec79cecc8800298",
       "version_major": 2,
       "version_minor": 0
      },
      "text/plain": [
       "HBox(children=(FloatProgress(value=0.0, description='Train', max=153.0, style=ProgressStyle(description_width=…"
      ]
     },
     "metadata": {},
     "output_type": "display_data"
    },
    {
     "name": "stdout",
     "output_type": "stream",
     "text": [
      "\n",
      "Epoch: 10 | Time: 0m 20s\n",
      "Training Results - Average Loss: 0.2181 | auc/_mean: 0.9523 | auc/healthy: 0.9941 | auc/multiple_diseases: 0.8400, auc/rust: 0.9907, auc/scab: 0.9844\n",
      "Evaluating Results - Average Loss: 0.3896 | auc/_mean: 0.9248 | auc/healthy: 0.9957 | auc/multiple_diseases: 0.7182, auc/rust: 0.9944, auc/scab: 0.9908\n",
      "\n"
     ]
    },
    {
     "data": {
      "application/vnd.jupyter.widget-view+json": {
       "model_id": "262944a2755746358daba8528378be2f",
       "version_major": 2,
       "version_minor": 0
      },
      "text/plain": [
       "HBox(children=(FloatProgress(value=0.0, description='Train', max=153.0, style=ProgressStyle(description_width=…"
      ]
     },
     "metadata": {},
     "output_type": "display_data"
    },
    {
     "name": "stdout",
     "output_type": "stream",
     "text": [
      "\n",
      "Epoch: 11 | Time: 0m 20s\n",
      "Training Results - Average Loss: 0.2003 | auc/_mean: 0.9469 | auc/healthy: 0.9964 | auc/multiple_diseases: 0.8078, auc/rust: 0.9886, auc/scab: 0.9950\n",
      "Evaluating Results - Average Loss: 0.3102 | auc/_mean: 0.8957 | auc/healthy: 0.9925 | auc/multiple_diseases: 0.6061, auc/rust: 0.9945, auc/scab: 0.9899\n",
      "\n"
     ]
    },
    {
     "data": {
      "application/vnd.jupyter.widget-view+json": {
       "model_id": "b0f07d55af094eab816a075147e58d96",
       "version_major": 2,
       "version_minor": 0
      },
      "text/plain": [
       "HBox(children=(FloatProgress(value=0.0, description='Train', max=153.0, style=ProgressStyle(description_width=…"
      ]
     },
     "metadata": {},
     "output_type": "display_data"
    },
    {
     "name": "stdout",
     "output_type": "stream",
     "text": [
      "\n",
      "Epoch: 12 | Time: 0m 19s\n",
      "Training Results - Average Loss: 0.1794 | auc/_mean: 0.9623 | auc/healthy: 0.9945 | auc/multiple_diseases: 0.8695, auc/rust: 0.9899, auc/scab: 0.9955\n",
      "Evaluating Results - Average Loss: 0.3231 | auc/_mean: 0.9475 | auc/healthy: 0.9911 | auc/multiple_diseases: 0.8139, auc/rust: 0.9953, auc/scab: 0.9895\n",
      "\n"
     ]
    },
    {
     "data": {
      "application/vnd.jupyter.widget-view+json": {
       "model_id": "7faf249d77504770b1c62121ace8ac76",
       "version_major": 2,
       "version_minor": 0
      },
      "text/plain": [
       "HBox(children=(FloatProgress(value=0.0, description='Train', max=153.0, style=ProgressStyle(description_width=…"
      ]
     },
     "metadata": {},
     "output_type": "display_data"
    },
    {
     "name": "stdout",
     "output_type": "stream",
     "text": [
      "\n",
      "Epoch: 13 | Time: 0m 20s\n",
      "Training Results - Average Loss: 0.1020 | auc/_mean: 0.9879 | auc/healthy: 0.9998 | auc/multiple_diseases: 0.9621, auc/rust: 0.9920, auc/scab: 0.9978\n",
      "Evaluating Results - Average Loss: 0.3009 | auc/_mean: 0.9508 | auc/healthy: 0.9949 | auc/multiple_diseases: 0.8273, auc/rust: 0.9964, auc/scab: 0.9847\n",
      "\n"
     ]
    },
    {
     "data": {
      "application/vnd.jupyter.widget-view+json": {
       "model_id": "4dce9350f3a742d389b3cec1d534525e",
       "version_major": 2,
       "version_minor": 0
      },
      "text/plain": [
       "HBox(children=(FloatProgress(value=0.0, description='Train', max=153.0, style=ProgressStyle(description_width=…"
      ]
     },
     "metadata": {},
     "output_type": "display_data"
    },
    {
     "name": "stdout",
     "output_type": "stream",
     "text": [
      "\n",
      "Epoch: 14 | Time: 0m 19s\n",
      "Training Results - Average Loss: 0.1700 | auc/_mean: 0.9724 | auc/healthy: 0.9969 | auc/multiple_diseases: 0.9052, auc/rust: 0.9940, auc/scab: 0.9936\n",
      "Evaluating Results - Average Loss: 0.7242 | auc/_mean: 0.9155 | auc/healthy: 0.9870 | auc/multiple_diseases: 0.7001, auc/rust: 0.9943, auc/scab: 0.9808\n",
      "\n"
     ]
    },
    {
     "data": {
      "application/vnd.jupyter.widget-view+json": {
       "model_id": "c3cdb2064fc8451092f201ba856e2e9d",
       "version_major": 2,
       "version_minor": 0
      },
      "text/plain": [
       "HBox(children=(FloatProgress(value=0.0, description='Train', max=153.0, style=ProgressStyle(description_width=…"
      ]
     },
     "metadata": {},
     "output_type": "display_data"
    },
    {
     "name": "stdout",
     "output_type": "stream",
     "text": [
      "\n",
      "Epoch: 15 | Time: 0m 20s\n",
      "Training Results - Average Loss: 0.1457 | auc/_mean: 0.9796 | auc/healthy: 0.9970 | auc/multiple_diseases: 0.9354, auc/rust: 0.9942, auc/scab: 0.9919\n",
      "Evaluating Results - Average Loss: 0.5441 | auc/_mean: 0.9029 | auc/healthy: 0.9782 | auc/multiple_diseases: 0.6614, auc/rust: 0.9933, auc/scab: 0.9789\n",
      "\n"
     ]
    },
    {
     "data": {
      "application/vnd.jupyter.widget-view+json": {
       "model_id": "a1fcc8170bc94e3da39db569962fa852",
       "version_major": 2,
       "version_minor": 0
      },
      "text/plain": [
       "HBox(children=(FloatProgress(value=0.0, description='Train', max=153.0, style=ProgressStyle(description_width=…"
      ]
     },
     "metadata": {},
     "output_type": "display_data"
    },
    {
     "name": "stdout",
     "output_type": "stream",
     "text": [
      "\n",
      "Epoch: 16 | Time: 0m 20s\n",
      "Training Results - Average Loss: 0.1394 | auc/_mean: 0.9778 | auc/healthy: 0.9965 | auc/multiple_diseases: 0.9233, auc/rust: 0.9952, auc/scab: 0.9960\n",
      "Evaluating Results - Average Loss: 0.5127 | auc/_mean: 0.9413 | auc/healthy: 0.9932 | auc/multiple_diseases: 0.7919, auc/rust: 0.9957, auc/scab: 0.9844\n",
      "\n"
     ]
    },
    {
     "data": {
      "application/vnd.jupyter.widget-view+json": {
       "model_id": "f35060dfd4ee4e528de186966a05f029",
       "version_major": 2,
       "version_minor": 0
      },
      "text/plain": [
       "HBox(children=(FloatProgress(value=0.0, description='Train', max=153.0, style=ProgressStyle(description_width=…"
      ]
     },
     "metadata": {},
     "output_type": "display_data"
    },
    {
     "name": "stdout",
     "output_type": "stream",
     "text": [
      "\n",
      "Epoch: 17 | Time: 0m 21s\n",
      "Training Results - Average Loss: 0.0848 | auc/_mean: 0.9893 | auc/healthy: 0.9982 | auc/multiple_diseases: 0.9625, auc/rust: 0.9980, auc/scab: 0.9985\n",
      "Evaluating Results - Average Loss: 0.2710 | auc/_mean: 0.9418 | auc/healthy: 0.9929 | auc/multiple_diseases: 0.7897, auc/rust: 0.9974, auc/scab: 0.9873\n",
      "\n"
     ]
    },
    {
     "data": {
      "application/vnd.jupyter.widget-view+json": {
       "model_id": "9b5a9747b74f4d3bbbd7e7eaa747ea47",
       "version_major": 2,
       "version_minor": 0
      },
      "text/plain": [
       "HBox(children=(FloatProgress(value=0.0, description='Train', max=153.0, style=ProgressStyle(description_width=…"
      ]
     },
     "metadata": {},
     "output_type": "display_data"
    },
    {
     "name": "stdout",
     "output_type": "stream",
     "text": [
      "\n",
      "Epoch: 18 | Time: 0m 19s\n",
      "Training Results - Average Loss: 0.1005 | auc/_mean: 0.9864 | auc/healthy: 0.9979 | auc/multiple_diseases: 0.9526, auc/rust: 0.9974, auc/scab: 0.9978\n",
      "Evaluating Results - Average Loss: 0.4724 | auc/_mean: 0.9152 | auc/healthy: 0.9898 | auc/multiple_diseases: 0.6991, auc/rust: 0.9863, auc/scab: 0.9857\n",
      "\n"
     ]
    },
    {
     "data": {
      "application/vnd.jupyter.widget-view+json": {
       "model_id": "5642c06f7b424e4d9832462b1a75df54",
       "version_major": 2,
       "version_minor": 0
      },
      "text/plain": [
       "HBox(children=(FloatProgress(value=0.0, description='Train', max=153.0, style=ProgressStyle(description_width=…"
      ]
     },
     "metadata": {},
     "output_type": "display_data"
    },
    {
     "name": "stdout",
     "output_type": "stream",
     "text": [
      "\n",
      "Epoch: 19 | Time: 0m 20s\n",
      "Training Results - Average Loss: 0.1108 | auc/_mean: 0.9900 | auc/healthy: 0.9958 | auc/multiple_diseases: 0.9724, auc/rust: 0.9963, auc/scab: 0.9955\n",
      "Evaluating Results - Average Loss: 0.4161 | auc/_mean: 0.9288 | auc/healthy: 0.9910 | auc/multiple_diseases: 0.7424, auc/rust: 0.9936, auc/scab: 0.9879\n",
      "\n"
     ]
    },
    {
     "data": {
      "application/vnd.jupyter.widget-view+json": {
       "model_id": "5869fbce1dee4e54bf0a45287b7c641f",
       "version_major": 2,
       "version_minor": 0
      },
      "text/plain": [
       "HBox(children=(FloatProgress(value=0.0, description='Train', max=153.0, style=ProgressStyle(description_width=…"
      ]
     },
     "metadata": {},
     "output_type": "display_data"
    },
    {
     "name": "stdout",
     "output_type": "stream",
     "text": [
      "\n",
      "Epoch: 20 | Time: 0m 19s\n",
      "Training Results - Average Loss: 0.0788 | auc/_mean: 0.9896 | auc/healthy: 0.9996 | auc/multiple_diseases: 0.9643, auc/rust: 0.9964, auc/scab: 0.9980\n",
      "Evaluating Results - Average Loss: 0.6105 | auc/_mean: 0.9141 | auc/healthy: 0.9772 | auc/multiple_diseases: 0.7053, auc/rust: 0.9959, auc/scab: 0.9780\n",
      "\n"
     ]
    },
    {
     "data": {
      "application/vnd.jupyter.widget-view+json": {
       "model_id": "8e554e991dd94279a75be03816248ff9",
       "version_major": 2,
       "version_minor": 0
      },
      "text/plain": [
       "HBox(children=(FloatProgress(value=0.0, description='Train', max=153.0, style=ProgressStyle(description_width=…"
      ]
     },
     "metadata": {},
     "output_type": "display_data"
    },
    {
     "name": "stdout",
     "output_type": "stream",
     "text": [
      "\n",
      "Epoch: 21 | Time: 0m 20s\n",
      "Training Results - Average Loss: 0.1454 | auc/_mean: 0.9768 | auc/healthy: 0.9957 | auc/multiple_diseases: 0.9214, auc/rust: 0.9942, auc/scab: 0.9960\n",
      "Evaluating Results - Average Loss: 0.8550 | auc/_mean: 0.9049 | auc/healthy: 0.9832 | auc/multiple_diseases: 0.6607, auc/rust: 0.9955, auc/scab: 0.9803\n",
      "\n"
     ]
    },
    {
     "data": {
      "application/vnd.jupyter.widget-view+json": {
       "model_id": "90ceef18b31d4654a42ec56a300597f8",
       "version_major": 2,
       "version_minor": 0
      },
      "text/plain": [
       "HBox(children=(FloatProgress(value=0.0, description='Train', max=153.0, style=ProgressStyle(description_width=…"
      ]
     },
     "metadata": {},
     "output_type": "display_data"
    },
    {
     "name": "stdout",
     "output_type": "stream",
     "text": [
      "\n",
      "Epoch: 22 | Time: 0m 20s\n",
      "Training Results - Average Loss: 0.1015 | auc/_mean: 0.9887 | auc/healthy: 0.9983 | auc/multiple_diseases: 0.9638, auc/rust: 0.9957, auc/scab: 0.9971\n",
      "Evaluating Results - Average Loss: 0.7281 | auc/_mean: 0.9041 | auc/healthy: 0.9808 | auc/multiple_diseases: 0.6749, auc/rust: 0.9967, auc/scab: 0.9639\n",
      "\n"
     ]
    },
    {
     "data": {
      "application/vnd.jupyter.widget-view+json": {
       "model_id": "86be7f9d7ad54f3ead95bdd73c4a02d6",
       "version_major": 2,
       "version_minor": 0
      },
      "text/plain": [
       "HBox(children=(FloatProgress(value=0.0, description='Train', max=153.0, style=ProgressStyle(description_width=…"
      ]
     },
     "metadata": {},
     "output_type": "display_data"
    },
    {
     "name": "stdout",
     "output_type": "stream",
     "text": [
      "\n",
      "Epoch: 23 | Time: 0m 19s\n",
      "Training Results - Average Loss: 0.1317 | auc/_mean: 0.9856 | auc/healthy: 0.9966 | auc/multiple_diseases: 0.9545, auc/rust: 0.9961, auc/scab: 0.9952\n",
      "Evaluating Results - Average Loss: 0.5098 | auc/_mean: 0.9302 | auc/healthy: 0.9913 | auc/multiple_diseases: 0.7483, auc/rust: 0.9954, auc/scab: 0.9858\n",
      "\n"
     ]
    },
    {
     "data": {
      "application/vnd.jupyter.widget-view+json": {
       "model_id": "ea5cc8c642b74afd820d7c61992ac951",
       "version_major": 2,
       "version_minor": 0
      },
      "text/plain": [
       "HBox(children=(FloatProgress(value=0.0, description='Train', max=153.0, style=ProgressStyle(description_width=…"
      ]
     },
     "metadata": {},
     "output_type": "display_data"
    },
    {
     "name": "stdout",
     "output_type": "stream",
     "text": [
      "\n",
      "Epoch: 24 | Time: 0m 20s\n",
      "Training Results - Average Loss: 0.0687 | auc/_mean: 0.9935 | auc/healthy: 0.9984 | auc/multiple_diseases: 0.9780, auc/rust: 0.9989, auc/scab: 0.9988\n",
      "Evaluating Results - Average Loss: 0.4691 | auc/_mean: 0.9190 | auc/healthy: 0.9899 | auc/multiple_diseases: 0.7123, auc/rust: 0.9960, auc/scab: 0.9780\n",
      "\n",
      "Epoch    24: reducing learning rate of group 0 to 9.0000e-04.\n",
      "EarlyStopping\n"
     ]
    }
   ],
   "source": [
    "trainer = Trainer(model, train_dataloader, valid_dataloader, criterion, optimizer, scheduler, device, config)\n",
    "trainer.run();"
   ]
  },
  {
   "cell_type": "code",
   "execution_count": null,
   "metadata": {},
   "outputs": [],
   "source": []
  },
  {
   "cell_type": "code",
   "execution_count": null,
   "metadata": {},
   "outputs": [],
   "source": []
  },
  {
   "cell_type": "code",
   "execution_count": 44,
   "metadata": {},
   "outputs": [],
   "source": [
    "\n",
    "class PlantDatasetTest(Dataset):\n",
    "    \n",
    "    def __init__(self, df, config, transforms=None):\n",
    "    \n",
    "        self.df = df\n",
    "        self.images_dir = config.root_images\n",
    "        self.class_names = config.class_names\n",
    "        self.transforms=transforms\n",
    "        \n",
    "    def __len__(self):\n",
    "        return self.df.shape[0]\n",
    "    \n",
    "    def __getitem__(self, idx):\n",
    "        image_src = self.images_dir + self.df.iloc[idx]['image_id'] + '.jpg'\n",
    "        image = cv2.imread(image_src, cv2.IMREAD_COLOR)\n",
    "        image = cv2.cvtColor(image, cv2.COLOR_BGR2RGB)\n",
    "        \n",
    "        if self.transforms:\n",
    "            transformed = self.transforms(image=image)\n",
    "            image = transformed['image']\n",
    "\n",
    "        return image, idx\n",
    "\n",
    "test_df = pd.read_csv(config.root + 'test.csv')\n",
    "test_dataset = PlantDatasetTest(test_df, config, train_transforms)\n",
    "test_dataloader = DataLoader(test_dataset, batch_size=config.batch_size, shuffle=False, num_workers=config.num_workers)"
   ]
  },
  {
   "cell_type": "code",
   "execution_count": 42,
   "metadata": {},
   "outputs": [],
   "source": [
    "def predict(model, dataloader: DataLoader, device, dataset: Dataset, tta_count: int, config: ConfigExperiment):\n",
    "    n_samples = len(dataset)\n",
    "    y_probas_tta = np.zeros((n_samples, config.num_classes, tta_count), dtype=np.float32)\n",
    "    \n",
    "    model.eval()\n",
    "    model.to(device)\n",
    "    with torch.no_grad():\n",
    "        for i_epoch in tqdm(range(tta_count), desc='TTA', total=tta_count, position=1, leave=True):\n",
    "            for i, (images, idx) in enumerate(dataloader):\n",
    "                images = images.to(device)\n",
    "                outputs = model(images)\n",
    "                y_pred = F.softmax(outputs, dim=1)\n",
    "                \n",
    "                tta_index = i_epoch - 1\n",
    "                start_index = (i % len(dataloader)) * config.batch_size\n",
    "                end_index = min(start_index + config.batch_size, n_samples)\n",
    "                batch_y_probas = y_pred.detach().cpu().numpy()                \n",
    "                y_probas_tta[start_index:end_index, :, tta_index] = batch_y_probas\n",
    "\n",
    "    return y_probas_tta"
   ]
  },
  {
   "cell_type": "code",
   "execution_count": 43,
   "metadata": {},
   "outputs": [
    {
     "name": "stdout",
     "output_type": "stream",
     "text": [
      "Loaded pretrained weights for efficientnet-b0\n"
     ]
    },
    {
     "data": {
      "text/plain": [
       "<All keys matched successfully>"
      ]
     },
     "execution_count": 43,
     "metadata": {},
     "output_type": "execute_result"
    }
   ],
   "source": [
    "model = get_model(config.model_name, config.num_classes)\n",
    "model.load_state_dict(torch.load(f\"{config.save_dirname}/best_model_epoch=1_auc_mean=0.8706131482876178.pth\"))"
   ]
  },
  {
   "cell_type": "code",
   "execution_count": 45,
   "metadata": {},
   "outputs": [
    {
     "data": {
      "application/vnd.jupyter.widget-view+json": {
       "model_id": "43162182940f4934b3d270e7f6ae26d1",
       "version_major": 2,
       "version_minor": 0
      },
      "text/plain": [
       "HBox(children=(FloatProgress(value=0.0, description='TTA', max=5.0, style=ProgressStyle(description_width='ini…"
      ]
     },
     "metadata": {},
     "output_type": "display_data"
    },
    {
     "name": "stdout",
     "output_type": "stream",
     "text": [
      "\n"
     ]
    }
   ],
   "source": [
    "result = predict(model, test_dataloader, device, test_dataset, tta_count=5, config=config)"
   ]
  },
  {
   "cell_type": "code",
   "execution_count": 46,
   "metadata": {},
   "outputs": [],
   "source": [
    "y_probas = np.mean(result, axis=-1)"
   ]
  },
  {
   "cell_type": "code",
   "execution_count": 47,
   "metadata": {},
   "outputs": [
    {
     "data": {
      "text/plain": [
       "array([[0.09819383, 0.3116633 , 0.1852319 , 0.40491095],\n",
       "       [0.09934221, 0.13119815, 0.5209352 , 0.24852438],\n",
       "       [0.00145755, 0.01327283, 0.002809  , 0.9824607 ],\n",
       "       [0.9671133 , 0.00678661, 0.01244393, 0.0136562 ],\n",
       "       [0.02429822, 0.02702083, 0.91830266, 0.0303783 ],\n",
       "       [0.6532921 , 0.02755702, 0.12354162, 0.19560926],\n",
       "       [0.8862263 , 0.03570914, 0.0465331 , 0.03153154],\n",
       "       [0.0978264 , 0.04821354, 0.00504111, 0.84891903],\n",
       "       [0.3122094 , 0.10618415, 0.03836362, 0.5432429 ],\n",
       "       [0.27814376, 0.05621394, 0.5502282 , 0.11541412]], dtype=float32)"
      ]
     },
     "execution_count": 47,
     "metadata": {},
     "output_type": "execute_result"
    }
   ],
   "source": [
    "y_probas[:10]"
   ]
  },
  {
   "cell_type": "code",
   "execution_count": 48,
   "metadata": {},
   "outputs": [
    {
     "data": {
      "text/html": [
       "<div>\n",
       "<style scoped>\n",
       "    .dataframe tbody tr th:only-of-type {\n",
       "        vertical-align: middle;\n",
       "    }\n",
       "\n",
       "    .dataframe tbody tr th {\n",
       "        vertical-align: top;\n",
       "    }\n",
       "\n",
       "    .dataframe thead th {\n",
       "        text-align: right;\n",
       "    }\n",
       "</style>\n",
       "<table border=\"1\" class=\"dataframe\">\n",
       "  <thead>\n",
       "    <tr style=\"text-align: right;\">\n",
       "      <th></th>\n",
       "      <th>image_id</th>\n",
       "      <th>healthy</th>\n",
       "      <th>multiple_diseases</th>\n",
       "      <th>rust</th>\n",
       "      <th>scab</th>\n",
       "    </tr>\n",
       "  </thead>\n",
       "  <tbody>\n",
       "    <tr>\n",
       "      <th>0</th>\n",
       "      <td>Test_0</td>\n",
       "      <td>0.098194</td>\n",
       "      <td>0.311663</td>\n",
       "      <td>0.185232</td>\n",
       "      <td>0.404911</td>\n",
       "    </tr>\n",
       "    <tr>\n",
       "      <th>1</th>\n",
       "      <td>Test_1</td>\n",
       "      <td>0.099342</td>\n",
       "      <td>0.131198</td>\n",
       "      <td>0.520935</td>\n",
       "      <td>0.248524</td>\n",
       "    </tr>\n",
       "    <tr>\n",
       "      <th>2</th>\n",
       "      <td>Test_2</td>\n",
       "      <td>0.001458</td>\n",
       "      <td>0.013273</td>\n",
       "      <td>0.002809</td>\n",
       "      <td>0.982461</td>\n",
       "    </tr>\n",
       "    <tr>\n",
       "      <th>3</th>\n",
       "      <td>Test_3</td>\n",
       "      <td>0.967113</td>\n",
       "      <td>0.006787</td>\n",
       "      <td>0.012444</td>\n",
       "      <td>0.013656</td>\n",
       "    </tr>\n",
       "    <tr>\n",
       "      <th>4</th>\n",
       "      <td>Test_4</td>\n",
       "      <td>0.024298</td>\n",
       "      <td>0.027021</td>\n",
       "      <td>0.918303</td>\n",
       "      <td>0.030378</td>\n",
       "    </tr>\n",
       "  </tbody>\n",
       "</table>\n",
       "</div>"
      ],
      "text/plain": [
       "  image_id   healthy  multiple_diseases      rust      scab\n",
       "0   Test_0  0.098194           0.311663  0.185232  0.404911\n",
       "1   Test_1  0.099342           0.131198  0.520935  0.248524\n",
       "2   Test_2  0.001458           0.013273  0.002809  0.982461\n",
       "3   Test_3  0.967113           0.006787  0.012444  0.013656\n",
       "4   Test_4  0.024298           0.027021  0.918303  0.030378"
      ]
     },
     "execution_count": 48,
     "metadata": {},
     "output_type": "execute_result"
    }
   ],
   "source": [
    "test_df = pd.read_csv(config.root + 'test.csv')\n",
    "test_df[\"healthy\"] = 0\n",
    "test_df[\"multiple_diseases\"] = 0\n",
    "test_df[\"rust\"] = 0\n",
    "test_df[\"scab\"] = 0\n",
    "test_df[['healthy', 'multiple_diseases', 'rust', 'scab']] = y_probas\n",
    "test_df.to_csv(config.submission_file, index=False)\n",
    "test_df.head()"
   ]
  },
  {
   "cell_type": "code",
   "execution_count": 49,
   "metadata": {},
   "outputs": [
    {
     "data": {
      "text/plain": [
       "'02_effb0_hard_aug.csv'"
      ]
     },
     "execution_count": 49,
     "metadata": {},
     "output_type": "execute_result"
    }
   ],
   "source": [
    "config.submission_file"
   ]
  },
  {
   "cell_type": "code",
   "execution_count": null,
   "metadata": {},
   "outputs": [],
   "source": []
  },
  {
   "cell_type": "code",
   "execution_count": null,
   "metadata": {},
   "outputs": [],
   "source": []
  },
  {
   "cell_type": "code",
   "execution_count": null,
   "metadata": {},
   "outputs": [],
   "source": []
  },
  {
   "cell_type": "code",
   "execution_count": null,
   "metadata": {},
   "outputs": [],
   "source": []
  },
  {
   "cell_type": "code",
   "execution_count": null,
   "metadata": {},
   "outputs": [],
   "source": []
  },
  {
   "cell_type": "code",
   "execution_count": null,
   "metadata": {},
   "outputs": [],
   "source": []
  },
  {
   "cell_type": "code",
   "execution_count": null,
   "metadata": {},
   "outputs": [],
   "source": []
  },
  {
   "cell_type": "code",
   "execution_count": null,
   "metadata": {},
   "outputs": [],
   "source": []
  },
  {
   "cell_type": "code",
   "execution_count": null,
   "metadata": {},
   "outputs": [],
   "source": []
  },
  {
   "cell_type": "code",
   "execution_count": null,
   "metadata": {},
   "outputs": [],
   "source": []
  },
  {
   "cell_type": "code",
   "execution_count": null,
   "metadata": {},
   "outputs": [],
   "source": []
  },
  {
   "cell_type": "code",
   "execution_count": null,
   "metadata": {},
   "outputs": [],
   "source": []
  },
  {
   "cell_type": "code",
   "execution_count": null,
   "metadata": {},
   "outputs": [],
   "source": []
  },
  {
   "cell_type": "code",
   "execution_count": null,
   "metadata": {},
   "outputs": [],
   "source": []
  }
 ],
 "metadata": {
  "kernelspec": {
   "display_name": "Python 3",
   "language": "python",
   "name": "python3"
  },
  "language_info": {
   "codemirror_mode": {
    "name": "ipython",
    "version": 3
   },
   "file_extension": ".py",
   "mimetype": "text/x-python",
   "name": "python",
   "nbconvert_exporter": "python",
   "pygments_lexer": "ipython3",
   "version": "3.6.9"
  }
 },
 "nbformat": 4,
 "nbformat_minor": 4
}
