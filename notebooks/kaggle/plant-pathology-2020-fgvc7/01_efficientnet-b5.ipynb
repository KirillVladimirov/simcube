{
 "cells": [
  {
   "cell_type": "code",
   "execution_count": 1,
   "metadata": {},
   "outputs": [],
   "source": [
    "import warnings  \n",
    "\n",
    "import os\n",
    "import time\n",
    "import random\n",
    "import numpy as np\n",
    "import pandas as pd\n",
    "import matplotlib.pyplot as plt\n",
    "\n",
    "import albumentations as A\n",
    "from albumentations.pytorch import ToTensorV2\n",
    "import cv2\n",
    "\n",
    "import torch\n",
    "import torch.nn as nn\n",
    "import torch.nn.functional as F\n",
    "import torchvision\n",
    "import torch.optim as optim\n",
    "from torch.utils.data import Dataset, DataLoader\n",
    "from torch.utils.data.dataset import Subset\n",
    "from torch.nn.functional import softmax\n",
    "\n",
    "from efficientnet_pytorch import EfficientNet\n",
    "\n",
    "from typing import Callable, List, Tuple, Dict\n",
    "from pathlib import Path\n",
    "\n",
    "from transformers import AdamW\n",
    "from transformers import get_cosine_schedule_with_warmup\n",
    "\n",
    "from sklearn.metrics import roc_auc_score, accuracy_score\n",
    "from sklearn.model_selection import train_test_split\n",
    "from collections import defaultdict, OrderedDict\n",
    "from tqdm.notebook import tqdm\n",
    "from torchsummary import summary\n",
    "\n",
    "import matplotlib\n",
    "matplotlib.rcParams.update({'figure.figsize': (16, 12), 'font.size': 14})\n",
    "import matplotlib.pyplot as plt\n",
    "%matplotlib inline\n",
    "from IPython.display import clear_output"
   ]
  },
  {
   "cell_type": "code",
   "execution_count": 2,
   "metadata": {},
   "outputs": [],
   "source": [
    "warnings.simplefilter(\"ignore\", UserWarning)\n",
    "warnings.simplefilter(\"ignore\", DeprecationWarning)\n",
    "warnings.filterwarnings('ignore')\n",
    "os.environ[\"PYTHONWARNINGS\"] = \"ignore\""
   ]
  },
  {
   "cell_type": "code",
   "execution_count": 3,
   "metadata": {},
   "outputs": [
    {
     "name": "stdout",
     "output_type": "stream",
     "text": [
      "Directory  01_efficientnet-b5  already exists\n"
     ]
    }
   ],
   "source": [
    "EXPERIMENT_NAME = \"01_efficientnet-b5\"\n",
    "\n",
    "class ConfigExperiment:\n",
    "    logdir = f\"./logs/{EXPERIMENT_NAME}\"\n",
    "    save_dirname = EXPERIMENT_NAME\n",
    "    submission_file = f\"{EXPERIMENT_NAME}.csv\"\n",
    "    seed = 42\n",
    "    batch_size = 4\n",
    "    model_name = 'efficientnet-b5'\n",
    "    size = 512\n",
    "    num_workers = 20\n",
    "    root_images = \"../../../data/raw/plant-pathology-2020-fgvc7/images/\"\n",
    "    root = \"../../../data/raw/plant-pathology-2020-fgvc7/\"\n",
    "    num_classes = 4\n",
    "    patience = 10\n",
    "    early_stopping_delta = 1e-4\n",
    "    num_epochs = 200\n",
    "    lr = 0.003\n",
    "    class_names = [\"healthy\", \"multiple_diseases\", \"rust\", \"scab\"]\n",
    "    is_fp16_used = False\n",
    "    \n",
    "    \n",
    "def set_seed(seed):\n",
    "    torch.manual_seed(seed)\n",
    "    torch.cuda.manual_seed_all(seed)\n",
    "    torch.backends.cudnn.deterministic = True\n",
    "    torch.backends.cudnn.benchmark = False\n",
    "    np.random.seed(seed)\n",
    "    random.seed(seed)\n",
    "    os.environ['PYTHONHASHSEED'] = str(seed)\n",
    "    \n",
    "    \n",
    "config = ConfigExperiment()\n",
    "set_seed(config.seed)\n",
    "config.size = EfficientNet.get_image_size(config.model_name)\n",
    "os.environ[\"CUDA_VISIBLE_DEVICES\"] = \"0\"\n",
    "device = \"cuda\" if torch.cuda.is_available() else \"cpu\"\n",
    "\n",
    "try:\n",
    "    # Create target Directory\n",
    "    os.mkdir(config.save_dirname)\n",
    "    print(\"Directory \" , config.save_dirname ,  \" Created \") \n",
    "except FileExistsError:\n",
    "    print(\"Directory \" , config.save_dirname ,  \" already exists\")"
   ]
  },
  {
   "cell_type": "code",
   "execution_count": 4,
   "metadata": {},
   "outputs": [],
   "source": [
    "class PlantDataset(Dataset):\n",
    "    \n",
    "    def __init__(self, df, config, transforms=None):\n",
    "    \n",
    "        self.df = df\n",
    "        self.images_dir = config.root_images\n",
    "        self.class_names = config.class_names\n",
    "        self.transforms=transforms\n",
    "        \n",
    "    def __len__(self):\n",
    "        return self.df.shape[0]\n",
    "    \n",
    "    def __getitem__(self, idx):\n",
    "        image_src = self.images_dir + self.df.iloc[idx]['image_id'] + '.jpg'\n",
    "        image = cv2.imread(image_src, cv2.IMREAD_COLOR)\n",
    "        image = cv2.cvtColor(image, cv2.COLOR_BGR2RGB)\n",
    "        labels = self.df.iloc[idx][self.class_names].values.astype(np.int8)\n",
    "        label = torch.argmax(torch.from_numpy(labels))\n",
    "        \n",
    "        if self.transforms:\n",
    "            transformed = self.transforms(image=image)\n",
    "            image = transformed['image']\n",
    "\n",
    "        return image, label"
   ]
  },
  {
   "cell_type": "code",
   "execution_count": 5,
   "metadata": {},
   "outputs": [],
   "source": [
    "def pre_transforms(image_size=224):\n",
    "    # Convert the image to a square of size image_size x image_size\n",
    "    # (keeping aspect ratio)\n",
    "    result = [\n",
    "        A.LongestMaxSize(max_size=image_size),\n",
    "        A.PadIfNeeded(image_size, image_size, border_mode=0)\n",
    "    ]\n",
    "    \n",
    "    return result\n",
    "\n",
    "def hard_transforms():\n",
    "    result = [\n",
    "        # Random shifts, stretches and turns with a 50% probability\n",
    "#         A.RandomResizedCrop(height=config.size, width=config.size, p=1.0),\n",
    "        A.OneOf([\n",
    "            A.Rotate(limit=90, p=1),\n",
    "            A.HorizontalFlip(p=1),\n",
    "            A.VerticalFlip(p=1),\n",
    "            A.OpticalDistortion(p=1),\n",
    "            A.ShiftScaleRotate(rotate_limit=90, shift_limit=0.2, scale_limit=0.1, p=1)\n",
    "        ], p=0.8),\n",
    "        \n",
    "        # Pixels\n",
    "        A.OneOf([\n",
    "            A.IAAEmboss(p=1.0),\n",
    "            A.IAASharpen(p=1.0),\n",
    "            A.Blur(p=1.0),\n",
    "        ], p=0.5),\n",
    "\n",
    "        # Affine\n",
    "        A.OneOf([\n",
    "            A.RandomContrast(limit=0.2, p=1),\n",
    "            A.ElasticTransform(p=1),\n",
    "            A.IAAPiecewiseAffine(p=1)\n",
    "        ], p=0.5),\n",
    "    ]\n",
    "    \n",
    "    return result\n",
    "\n",
    "def post_transforms():\n",
    "    # we use ImageNet image normalization\n",
    "    # and convert it to torch.Tensor\n",
    "    return [A.Normalize(p=1.0), ToTensorV2(p=1.0),]\n",
    "\n",
    "def compose(transforms_to_compose):\n",
    "    # combine all augmentations into one single pipeline\n",
    "    result = A.Compose([item for sublist in transforms_to_compose for item in sublist])\n",
    "    return result"
   ]
  },
  {
   "cell_type": "code",
   "execution_count": 6,
   "metadata": {},
   "outputs": [],
   "source": [
    "train_df = pd.read_csv(config.root + 'train.csv')\n",
    "train, valid = train_test_split(train_df, test_size=0.33, random_state=config.seed, shuffle=True, stratify=train_df[config.class_names])\n",
    "\n",
    "train_transforms = compose([\n",
    "    pre_transforms(config.size),\n",
    "    hard_transforms(), \n",
    "    post_transforms()\n",
    "])\n",
    "valid_transforms = compose([\n",
    "    pre_transforms(config.size), \n",
    "    post_transforms()\n",
    "])\n",
    "\n",
    "show_transforms = compose([\n",
    "    pre_transforms(config.size),\n",
    "    hard_transforms()\n",
    "])\n",
    "\n",
    "train_dataset = PlantDataset(train, config, train_transforms)\n",
    "valid_dataset = PlantDataset(valid, config, valid_transforms)\n",
    "\n",
    "train_dataloader = DataLoader(train_dataset, batch_size=config.batch_size, shuffle=True, num_workers=config.num_workers)\n",
    "valid_dataloader = DataLoader(valid_dataset, batch_size=config.batch_size, shuffle=False, num_workers=config.num_workers)"
   ]
  },
  {
   "cell_type": "code",
   "execution_count": 7,
   "metadata": {},
   "outputs": [
    {
     "name": "stdout",
     "output_type": "stream",
     "text": [
      "Loaded pretrained weights for efficientnet-b5\n"
     ]
    }
   ],
   "source": [
    "def get_model(model_name: str, num_classes: int, pretrained: str = \"imagenet\") -> EfficientNet:\n",
    "    model = EfficientNet.from_pretrained(model_name)\n",
    "    for param in model.parameters():\n",
    "        param.requires_grad = False\n",
    "    num_ftrs = model._fc.in_features\n",
    "    model._fc = nn.Sequential(nn.Linear(num_ftrs, num_classes, bias = True))\n",
    "    return model\n",
    "\n",
    "model = get_model(config.model_name, config.num_classes)"
   ]
  },
  {
   "cell_type": "code",
   "execution_count": 8,
   "metadata": {},
   "outputs": [],
   "source": [
    "criterion = nn.CrossEntropyLoss()\n",
    "optimizer = torch.optim.Adam(model.parameters(), lr=config.lr)\n",
    "scheduler = torch.optim.lr_scheduler.ReduceLROnPlateau(optimizer, patience=3, verbose=True, mode=\"min\", factor=0.3)"
   ]
  },
  {
   "cell_type": "code",
   "execution_count": 9,
   "metadata": {},
   "outputs": [],
   "source": [
    "class Trainer:\n",
    "    def __init__(self, model, train_dataloader: DataLoader, valid_dataloader: DataLoader, criterion, optimizer, scheduler, device, config: ConfigExperiment):\n",
    "        self.model = model\n",
    "        self.train_dataloader = train_dataloader\n",
    "        self.valid_dataloader = valid_dataloader\n",
    "        self.criterion = criterion\n",
    "        self.optimizer = optimizer\n",
    "        self.scheduler = scheduler\n",
    "        self.device = device\n",
    "        self.config = config\n",
    "        self.train_metrics = {\n",
    "            'avg_loss': [],\n",
    "            'auc/_mean': [],\n",
    "            'auc/healthy': [],\n",
    "            'auc/multiple_diseases': [],\n",
    "            'auc/rust': [],\n",
    "            'auc/scab': [],\n",
    "        }\n",
    "        self.valid_metrics = {\n",
    "            'avg_loss': [],\n",
    "            'auc/_mean': [],\n",
    "            'auc/healthy': [],\n",
    "            'auc/multiple_diseases': [],\n",
    "            'auc/rust': [],\n",
    "            'auc/scab': [],\n",
    "        }\n",
    "        self.counter = 0\n",
    "        self.delta = config.early_stopping_delta\n",
    "      \n",
    "    def run(self):\n",
    "        self.model.to(device)\n",
    "        best_valid_loss = float('inf')\n",
    "        best_valid_auc_mean = 0\n",
    "\n",
    "        try:\n",
    "            for i_epoch in tqdm(range(self.config.num_epochs), desc='Epochs', total=config.num_epochs, position=1, leave=True):\n",
    "                start_time = time.time()\n",
    "\n",
    "                train_loss, train_outputs, train_targets = self._train()\n",
    "                valid_loss, valid_outputs, valid_targets = self._evaluate()\n",
    "                    \n",
    "                self.train_metrics[\"avg_loss\"].append(train_loss)\n",
    "                self.train_metrics[\"auc/_mean\"].append(self.comp_metric(train_outputs, train_targets))\n",
    "                self.train_metrics[\"auc/healthy\"].append(self.healthy_roc_auc(train_outputs, train_targets))\n",
    "                self.train_metrics[\"auc/multiple_diseases\"].append(self.multiple_diseases_roc_auc(train_outputs, train_targets))\n",
    "                self.train_metrics[\"auc/rust\"].append(self.rust_roc_auc(train_outputs, train_targets))\n",
    "                self.train_metrics[\"auc/scab\"].append(self.scab_roc_auc(train_outputs, train_targets))\n",
    "                \n",
    "                self.valid_metrics[\"avg_loss\"].append(valid_loss)\n",
    "                self.valid_metrics[\"auc/_mean\"].append(self.comp_metric(valid_outputs, valid_targets))\n",
    "                self.valid_metrics[\"auc/healthy\"].append(self.healthy_roc_auc(valid_outputs, valid_targets))\n",
    "                self.valid_metrics[\"auc/multiple_diseases\"].append(self.multiple_diseases_roc_auc(valid_outputs, valid_targets))\n",
    "                self.valid_metrics[\"auc/rust\"].append(self.rust_roc_auc(valid_outputs, valid_targets))\n",
    "                self.valid_metrics[\"auc/scab\"].append(self.scab_roc_auc(valid_outputs, valid_targets))\n",
    "                \n",
    "                end_time = time.time()\n",
    "                epoch_mins, epoch_secs = self._epoch_time(start_time, end_time)\n",
    "                self.print_progress(i_epoch, epoch_mins, epoch_secs)\n",
    "                \n",
    "                self.scheduler.step(self.valid_metrics[\"auc/_mean\"][-1])\n",
    "                \n",
    "                if valid_loss < best_valid_loss:\n",
    "                    self.counter = 0\n",
    "                    best_valid_loss = valid_loss\n",
    "                    torch.save(model.state_dict(), f\"{config.save_dirname}/best_model_epoch={i_epoch+1}_loss={best_valid_loss}.pth\")\n",
    "                else:\n",
    "                    self.counter += 1\n",
    "                    \n",
    "                if self.valid_metrics[\"auc/_mean\"][-1] > best_valid_auc_mean:\n",
    "                    best_valid_auc_mean = self.valid_metrics[\"auc/_mean\"][-1]\n",
    "                    torch.save(model.state_dict(), f\"{config.save_dirname}/best_model_epoch={i_epoch+1}_auc_mean={best_valid_auc_mean}.pth\")\n",
    "                    \n",
    "                if self.counter > self.config.patience:\n",
    "                    print(\"EarlyStopping\")\n",
    "                    break\n",
    "        except KeyboardInterrupt: \n",
    "            pass\n",
    "        \n",
    "        return self.train_metrics, self.valid_metrics\n",
    "        \n",
    "    def _train(self):\n",
    "        model.train()\n",
    "        epoch_loss = 0\n",
    "        epoch_output = None\n",
    "        epoch_target = None\n",
    "        for i, (images, labels) in tqdm(enumerate(self.train_dataloader), desc='Train', total=len(self.train_dataloader), position=2, leave=True):\n",
    "            loss_iten, outputs = self._train_process(images, labels)\n",
    "            epoch_loss += loss_iten              \n",
    "\n",
    "            if epoch_output is None:\n",
    "                epoch_output = outputs.cpu().data\n",
    "            else:\n",
    "                epoch_output = torch.cat((epoch_output, outputs.cpu().data))\n",
    "\n",
    "            if epoch_target is None:\n",
    "                epoch_target = labels.cpu().data\n",
    "            else:\n",
    "                epoch_target = torch.cat((epoch_target, labels.cpu().data))\n",
    "            \n",
    "        return epoch_loss / len(self.train_dataloader), epoch_output, epoch_target\n",
    "    \n",
    "    def _train_process(self, images, labels):\n",
    "        images = images.to(self.device)\n",
    "        labels = labels.to(self.device)\n",
    "        self.optimizer.zero_grad()\n",
    "        outputs = self.model(images)\n",
    "        loss = self.criterion(outputs, labels)\n",
    "        loss.backward()\n",
    "        self.optimizer.step()\n",
    "        return loss.item(), outputs\n",
    "            \n",
    "    def _evaluate(self):\n",
    "        model.eval()\n",
    "        epoch_loss = 0\n",
    "        epoch_output = None\n",
    "        epoch_target = None\n",
    "        with torch.no_grad():\n",
    "            for i, (images, labels) in enumerate(self.valid_dataloader):\n",
    "                images = images.to(device)\n",
    "                labels = labels.to(device)\n",
    "                outputs = model(images)\n",
    "                loss = criterion(outputs, labels)\n",
    "                epoch_loss += loss.item()\n",
    "                \n",
    "                if epoch_output is None:\n",
    "                    epoch_output = outputs.cpu().data\n",
    "                else:\n",
    "                    epoch_output = torch.cat((epoch_output, outputs.cpu().data))\n",
    "\n",
    "                if epoch_target is None:\n",
    "                    epoch_target = labels.cpu().data\n",
    "                else:\n",
    "                    epoch_target = torch.cat((epoch_target, labels.cpu().data))\n",
    "\n",
    "        return epoch_loss / len(self.valid_dataloader), epoch_output, epoch_target\n",
    "    \n",
    "#     def _evaluate_tta(self):\n",
    "#         n_samples = len(dataset)\n",
    "#         y_probas_tta = np.zeros((n_samples, config.num_classes, tta_count), dtype=np.float32)\n",
    "\n",
    "#         model.eval()\n",
    "#         model.to(device)\n",
    "#         with torch.no_grad():\n",
    "#             for i_epoch in tqdm(range(tta_count), desc='TTA', total=tta_count, position=1, leave=True):\n",
    "#                 for i, (images, idx) in enumerate(dataloader):\n",
    "#                     images = images.to(device)\n",
    "#                     outputs = model(images)\n",
    "#                     y_pred = F.softmax(outputs, dim=1)\n",
    "\n",
    "#                     tta_index = i_epoch - 1\n",
    "#                     start_index = (i % len(dataloader)) * config.batch_size\n",
    "#                     end_index = min(start_index + config.batch_size, n_samples)\n",
    "#                     batch_y_probas = y_pred.detach().cpu().numpy()                \n",
    "#                     y_probas_tta[start_index:end_index, :, tta_index] = batch_y_probas\n",
    "\n",
    "#         return y_probas_tta\n",
    "\n",
    "#     def show_history(self):\n",
    "#         fig, ax = plt.subplots(nrows=1, ncols=2, figsize=(12, 8))\n",
    "#         clear_output(True)\n",
    "#         ax[0].plot(history, label='train loss')\n",
    "#         ax[0].set_xlabel('Batch')\n",
    "#         ax[0].set_title('Train loss')\n",
    "#         if train_history is not None:\n",
    "#             ax[1].plot(train_history, label='general train history')\n",
    "#             ax[1].set_xlabel('Epoch')\n",
    "#         if valid_history is not None:\n",
    "#             ax[1].plot(valid_history, label='general valid history')\n",
    "#         plt.legend()\n",
    "#         plt.show()\n",
    "\n",
    "    \n",
    "    def _epoch_time(self, start_time, end_time):\n",
    "        elapsed_time = end_time - start_time\n",
    "        elapsed_mins = int(elapsed_time / 60)\n",
    "        elapsed_secs = int(elapsed_time - (elapsed_mins * 60))\n",
    "        return elapsed_mins, elapsed_secs\n",
    "\n",
    "    def print_progress(self, i_epoch, epoch_mins, epoch_secs):\n",
    "        i_epoch = i_epoch + 1\n",
    "        print(f\"Epoch: {i_epoch:02} | Time: {epoch_mins}m {epoch_secs}s\")\n",
    "        print(\"Training Results - Average Loss: {:.4f} | auc/_mean: {:.4f} | auc/healthy: {:.4f} | auc/multiple_diseases: {:.4f}, auc/rust: {:.4f}, auc/scab: {:.4f}\"\n",
    "            .format(\n",
    "                self.train_metrics['avg_loss'][-1], \n",
    "                self.train_metrics['auc/_mean'][-1],\n",
    "                self.train_metrics['auc/healthy'][-1],\n",
    "                self.train_metrics['auc/multiple_diseases'][-1],\n",
    "                self.train_metrics['auc/rust'][-1],\n",
    "                self.train_metrics['auc/scab'][-1],\n",
    "            ))\n",
    "        print(\"Evaluating Results - Average Loss: {:.4f} | auc/_mean: {:.4f} | auc/healthy: {:.4f} | auc/multiple_diseases: {:.4f}, auc/rust: {:.4f}, auc/scab: {:.4f}\"\n",
    "            .format( \n",
    "                self.valid_metrics['avg_loss'][-1], \n",
    "                self.valid_metrics['auc/_mean'][-1],\n",
    "                self.valid_metrics['auc/healthy'][-1],\n",
    "                self.valid_metrics['auc/multiple_diseases'][-1],\n",
    "                self.valid_metrics['auc/rust'][-1],\n",
    "                self.valid_metrics['auc/scab'][-1],\n",
    "            ))\n",
    "        print()\n",
    "        \n",
    "    def comp_metric(self, preds, targs, labels=range(4)):\n",
    "        preds = torch.sigmoid(preds)\n",
    "        targs = torch.eye(4)[targs]\n",
    "        return np.mean([roc_auc_score(targs[:,i], preds[:,i]) for i in labels])\n",
    "\n",
    "    def healthy_roc_auc(self, *args):\n",
    "        return self.comp_metric(*args, labels=[0])\n",
    "\n",
    "    def multiple_diseases_roc_auc(self, *args):\n",
    "        return self.comp_metric(*args, labels=[1])\n",
    "\n",
    "    def rust_roc_auc(self, *args):\n",
    "        return self.comp_metric(*args, labels=[2])\n",
    "\n",
    "    def scab_roc_auc(self, *args):\n",
    "        return self.comp_metric(*args, labels=[3])\n",
    "\n"
   ]
  },
  {
   "cell_type": "code",
   "execution_count": 10,
   "metadata": {},
   "outputs": [
    {
     "data": {
      "application/vnd.jupyter.widget-view+json": {
       "model_id": "8497bcc14e4247b68e2bec38f5c97fe5",
       "version_major": 2,
       "version_minor": 0
      },
      "text/plain": [
       "HBox(children=(FloatProgress(value=0.0, description='Epochs', max=200.0, style=ProgressStyle(description_width…"
      ]
     },
     "metadata": {},
     "output_type": "display_data"
    },
    {
     "data": {
      "application/vnd.jupyter.widget-view+json": {
       "model_id": "ac74118fc4fc4de1ae3560a0fa361892",
       "version_major": 2,
       "version_minor": 0
      },
      "text/plain": [
       "HBox(children=(FloatProgress(value=0.0, description='Train', max=39.0, style=ProgressStyle(description_width='…"
      ]
     },
     "metadata": {},
     "output_type": "display_data"
    },
    {
     "name": "stdout",
     "output_type": "stream",
     "text": [
      "\n",
      "Epoch: 01 | Time: 1m 10s\n",
      "Training Results - Average Loss: 0.9506 | auc/_mean: 0.7662 | auc/healthy: 0.8205 | auc/multiple_diseases: 0.5440, auc/rust: 0.8694, auc/scab: 0.8310\n",
      "Evaluating Results - Average Loss: 1.0029 | auc/_mean: 0.8128 | auc/healthy: 0.9153 | auc/multiple_diseases: 0.5506, auc/rust: 0.9437, auc/scab: 0.8415\n",
      "\n"
     ]
    },
    {
     "data": {
      "application/vnd.jupyter.widget-view+json": {
       "model_id": "6c4be8abdcb5480583d5af5016b6931b",
       "version_major": 2,
       "version_minor": 0
      },
      "text/plain": [
       "HBox(children=(FloatProgress(value=0.0, description='Train', max=39.0, style=ProgressStyle(description_width='…"
      ]
     },
     "metadata": {},
     "output_type": "display_data"
    },
    {
     "name": "stdout",
     "output_type": "stream",
     "text": [
      "\n",
      "Epoch: 02 | Time: 1m 7s\n",
      "Training Results - Average Loss: 0.6917 | auc/_mean: 0.8454 | auc/healthy: 0.8920 | auc/multiple_diseases: 0.6473, auc/rust: 0.9251, auc/scab: 0.9172\n",
      "Evaluating Results - Average Loss: 0.7047 | auc/_mean: 0.8430 | auc/healthy: 0.9448 | auc/multiple_diseases: 0.5588, auc/rust: 0.9588, auc/scab: 0.9095\n",
      "\n"
     ]
    },
    {
     "data": {
      "application/vnd.jupyter.widget-view+json": {
       "model_id": "a6619e7fe98b460297f4f3bf71e61fa7",
       "version_major": 2,
       "version_minor": 0
      },
      "text/plain": [
       "HBox(children=(FloatProgress(value=0.0, description='Train', max=39.0, style=ProgressStyle(description_width='…"
      ]
     },
     "metadata": {},
     "output_type": "display_data"
    },
    {
     "name": "stdout",
     "output_type": "stream",
     "text": [
      "\n",
      "Epoch: 03 | Time: 1m 8s\n",
      "Training Results - Average Loss: 0.6591 | auc/_mean: 0.8660 | auc/healthy: 0.8991 | auc/multiple_diseases: 0.7262, auc/rust: 0.9325, auc/scab: 0.9060\n",
      "Evaluating Results - Average Loss: 0.5344 | auc/_mean: 0.8909 | auc/healthy: 0.9671 | auc/multiple_diseases: 0.6834, auc/rust: 0.9710, auc/scab: 0.9422\n",
      "\n"
     ]
    },
    {
     "data": {
      "application/vnd.jupyter.widget-view+json": {
       "model_id": "68ab7c2e9703464d81b2faa06b20cd53",
       "version_major": 2,
       "version_minor": 0
      },
      "text/plain": [
       "HBox(children=(FloatProgress(value=0.0, description='Train', max=39.0, style=ProgressStyle(description_width='…"
      ]
     },
     "metadata": {},
     "output_type": "display_data"
    },
    {
     "name": "stdout",
     "output_type": "stream",
     "text": [
      "\n",
      "Epoch: 04 | Time: 1m 8s\n",
      "Training Results - Average Loss: 0.6198 | auc/_mean: 0.8792 | auc/healthy: 0.9112 | auc/multiple_diseases: 0.7417, auc/rust: 0.9426, auc/scab: 0.9212\n",
      "Evaluating Results - Average Loss: 0.4177 | auc/_mean: 0.9094 | auc/healthy: 0.9705 | auc/multiple_diseases: 0.7268, auc/rust: 0.9769, auc/scab: 0.9635\n",
      "\n"
     ]
    },
    {
     "data": {
      "application/vnd.jupyter.widget-view+json": {
       "model_id": "da372228ceee4f6083a9be5c55d7a479",
       "version_major": 2,
       "version_minor": 0
      },
      "text/plain": [
       "HBox(children=(FloatProgress(value=0.0, description='Train', max=39.0, style=ProgressStyle(description_width='…"
      ]
     },
     "metadata": {},
     "output_type": "display_data"
    },
    {
     "name": "stdout",
     "output_type": "stream",
     "text": [
      "\n",
      "Epoch: 05 | Time: 1m 8s\n",
      "Training Results - Average Loss: 0.5905 | auc/_mean: 0.8931 | auc/healthy: 0.9232 | auc/multiple_diseases: 0.7830, auc/rust: 0.9424, auc/scab: 0.9237\n",
      "Evaluating Results - Average Loss: 0.3956 | auc/_mean: 0.9125 | auc/healthy: 0.9706 | auc/multiple_diseases: 0.7325, auc/rust: 0.9800, auc/scab: 0.9670\n",
      "\n",
      "Epoch     5: reducing learning rate of group 0 to 9.0000e-04.\n"
     ]
    },
    {
     "data": {
      "application/vnd.jupyter.widget-view+json": {
       "model_id": "576d4e146fa54cd993b5e74945bfba24",
       "version_major": 2,
       "version_minor": 0
      },
      "text/plain": [
       "HBox(children=(FloatProgress(value=0.0, description='Train', max=39.0, style=ProgressStyle(description_width='…"
      ]
     },
     "metadata": {},
     "output_type": "display_data"
    },
    {
     "name": "stdout",
     "output_type": "stream",
     "text": [
      "\n",
      "Epoch: 06 | Time: 1m 8s\n",
      "Training Results - Average Loss: 0.5703 | auc/_mean: 0.8940 | auc/healthy: 0.9217 | auc/multiple_diseases: 0.7840, auc/rust: 0.9410, auc/scab: 0.9293\n",
      "Evaluating Results - Average Loss: 0.3927 | auc/_mean: 0.9116 | auc/healthy: 0.9694 | auc/multiple_diseases: 0.7301, auc/rust: 0.9791, auc/scab: 0.9677\n",
      "\n"
     ]
    },
    {
     "data": {
      "application/vnd.jupyter.widget-view+json": {
       "model_id": "42558ce547c34cabb6f4e4975b9311b8",
       "version_major": 2,
       "version_minor": 0
      },
      "text/plain": [
       "HBox(children=(FloatProgress(value=0.0, description='Train', max=39.0, style=ProgressStyle(description_width='…"
      ]
     },
     "metadata": {},
     "output_type": "display_data"
    },
    {
     "name": "stdout",
     "output_type": "stream",
     "text": [
      "\n",
      "Epoch: 07 | Time: 1m 8s\n",
      "Training Results - Average Loss: 0.5739 | auc/_mean: 0.8905 | auc/healthy: 0.9215 | auc/multiple_diseases: 0.7667, auc/rust: 0.9353, auc/scab: 0.9383\n",
      "Evaluating Results - Average Loss: 0.3919 | auc/_mean: 0.9127 | auc/healthy: 0.9670 | auc/multiple_diseases: 0.7375, auc/rust: 0.9789, auc/scab: 0.9675\n",
      "\n"
     ]
    },
    {
     "data": {
      "application/vnd.jupyter.widget-view+json": {
       "model_id": "93b66f630f5946ffaf956297027577aa",
       "version_major": 2,
       "version_minor": 0
      },
      "text/plain": [
       "HBox(children=(FloatProgress(value=0.0, description='Train', max=39.0, style=ProgressStyle(description_width='…"
      ]
     },
     "metadata": {},
     "output_type": "display_data"
    },
    {
     "name": "stdout",
     "output_type": "stream",
     "text": [
      "\n",
      "Epoch: 08 | Time: 1m 8s\n",
      "Training Results - Average Loss: 0.5599 | auc/_mean: 0.8966 | auc/healthy: 0.9234 | auc/multiple_diseases: 0.7746, auc/rust: 0.9489, auc/scab: 0.9394\n",
      "Evaluating Results - Average Loss: 0.3909 | auc/_mean: 0.9160 | auc/healthy: 0.9666 | auc/multiple_diseases: 0.7518, auc/rust: 0.9781, auc/scab: 0.9676\n",
      "\n"
     ]
    },
    {
     "data": {
      "application/vnd.jupyter.widget-view+json": {
       "model_id": "769c822b393b44ec8ad85ffb326bac49",
       "version_major": 2,
       "version_minor": 0
      },
      "text/plain": [
       "HBox(children=(FloatProgress(value=0.0, description='Train', max=39.0, style=ProgressStyle(description_width='…"
      ]
     },
     "metadata": {},
     "output_type": "display_data"
    },
    {
     "name": "stdout",
     "output_type": "stream",
     "text": [
      "\n",
      "Epoch: 09 | Time: 1m 8s\n",
      "Training Results - Average Loss: 0.5346 | auc/_mean: 0.9011 | auc/healthy: 0.9263 | auc/multiple_diseases: 0.8023, auc/rust: 0.9523, auc/scab: 0.9237\n",
      "Evaluating Results - Average Loss: 0.3943 | auc/_mean: 0.9178 | auc/healthy: 0.9659 | auc/multiple_diseases: 0.7608, auc/rust: 0.9765, auc/scab: 0.9680\n",
      "\n",
      "Epoch     9: reducing learning rate of group 0 to 2.7000e-04.\n"
     ]
    },
    {
     "data": {
      "application/vnd.jupyter.widget-view+json": {
       "model_id": "1bda5ead16d04d1abea6bec0d9037d0a",
       "version_major": 2,
       "version_minor": 0
      },
      "text/plain": [
       "HBox(children=(FloatProgress(value=0.0, description='Train', max=39.0, style=ProgressStyle(description_width='…"
      ]
     },
     "metadata": {},
     "output_type": "display_data"
    },
    {
     "name": "stdout",
     "output_type": "stream",
     "text": [
      "\n",
      "Epoch: 10 | Time: 1m 10s\n",
      "Training Results - Average Loss: 0.5308 | auc/_mean: 0.9035 | auc/healthy: 0.9283 | auc/multiple_diseases: 0.8033, auc/rust: 0.9502, auc/scab: 0.9323\n",
      "Evaluating Results - Average Loss: 0.3962 | auc/_mean: 0.9183 | auc/healthy: 0.9653 | auc/multiple_diseases: 0.7641, auc/rust: 0.9762, auc/scab: 0.9678\n",
      "\n"
     ]
    },
    {
     "data": {
      "application/vnd.jupyter.widget-view+json": {
       "model_id": "6257d43c76fd4faeb8b5dad745f5403c",
       "version_major": 2,
       "version_minor": 0
      },
      "text/plain": [
       "HBox(children=(FloatProgress(value=0.0, description='Train', max=39.0, style=ProgressStyle(description_width='…"
      ]
     },
     "metadata": {},
     "output_type": "display_data"
    },
    {
     "name": "stdout",
     "output_type": "stream",
     "text": [
      "\n",
      "Epoch: 11 | Time: 1m 8s\n",
      "Training Results - Average Loss: 0.5366 | auc/_mean: 0.9110 | auc/healthy: 0.9314 | auc/multiple_diseases: 0.8299, auc/rust: 0.9468, auc/scab: 0.9361\n",
      "Evaluating Results - Average Loss: 0.3978 | auc/_mean: 0.9180 | auc/healthy: 0.9649 | auc/multiple_diseases: 0.7640, auc/rust: 0.9756, auc/scab: 0.9674\n",
      "\n"
     ]
    },
    {
     "data": {
      "application/vnd.jupyter.widget-view+json": {
       "model_id": "72de8f3a43cb412f814717a769c79acb",
       "version_major": 2,
       "version_minor": 0
      },
      "text/plain": [
       "HBox(children=(FloatProgress(value=0.0, description='Train', max=39.0, style=ProgressStyle(description_width='…"
      ]
     },
     "metadata": {},
     "output_type": "display_data"
    },
    {
     "name": "stdout",
     "output_type": "stream",
     "text": [
      "\n",
      "Epoch: 12 | Time: 1m 9s\n",
      "Training Results - Average Loss: 0.5530 | auc/_mean: 0.8972 | auc/healthy: 0.9229 | auc/multiple_diseases: 0.7851, auc/rust: 0.9489, auc/scab: 0.9319\n",
      "Evaluating Results - Average Loss: 0.3980 | auc/_mean: 0.9176 | auc/healthy: 0.9646 | auc/multiple_diseases: 0.7623, auc/rust: 0.9757, auc/scab: 0.9677\n",
      "\n"
     ]
    },
    {
     "data": {
      "application/vnd.jupyter.widget-view+json": {
       "model_id": "ad6d5f00ce2b494d91c4c5b56d10ab53",
       "version_major": 2,
       "version_minor": 0
      },
      "text/plain": [
       "HBox(children=(FloatProgress(value=0.0, description='Train', max=39.0, style=ProgressStyle(description_width='…"
      ]
     },
     "metadata": {},
     "output_type": "display_data"
    },
    {
     "name": "stdout",
     "output_type": "stream",
     "text": [
      "\n",
      "Epoch: 13 | Time: 1m 8s\n",
      "Training Results - Average Loss: 0.5487 | auc/_mean: 0.9109 | auc/healthy: 0.9148 | auc/multiple_diseases: 0.8376, auc/rust: 0.9485, auc/scab: 0.9427\n",
      "Evaluating Results - Average Loss: 0.3986 | auc/_mean: 0.9175 | auc/healthy: 0.9649 | auc/multiple_diseases: 0.7619, auc/rust: 0.9755, auc/scab: 0.9675\n",
      "\n",
      "Epoch    13: reducing learning rate of group 0 to 8.1000e-05.\n"
     ]
    },
    {
     "data": {
      "application/vnd.jupyter.widget-view+json": {
       "model_id": "d1bc213beb0747a48b5ad56ddc28bd4c",
       "version_major": 2,
       "version_minor": 0
      },
      "text/plain": [
       "HBox(children=(FloatProgress(value=0.0, description='Train', max=39.0, style=ProgressStyle(description_width='…"
      ]
     },
     "metadata": {},
     "output_type": "display_data"
    },
    {
     "name": "stdout",
     "output_type": "stream",
     "text": [
      "\n",
      "Epoch: 14 | Time: 1m 9s\n",
      "Training Results - Average Loss: 0.5572 | auc/_mean: 0.8987 | auc/healthy: 0.9182 | auc/multiple_diseases: 0.8087, auc/rust: 0.9380, auc/scab: 0.9299\n",
      "Evaluating Results - Average Loss: 0.3984 | auc/_mean: 0.9177 | auc/healthy: 0.9648 | auc/multiple_diseases: 0.7631, auc/rust: 0.9757, auc/scab: 0.9672\n",
      "\n"
     ]
    },
    {
     "data": {
      "application/vnd.jupyter.widget-view+json": {
       "model_id": "d1ed5b0ca720480ea25b828c00599f95",
       "version_major": 2,
       "version_minor": 0
      },
      "text/plain": [
       "HBox(children=(FloatProgress(value=0.0, description='Train', max=39.0, style=ProgressStyle(description_width='…"
      ]
     },
     "metadata": {},
     "output_type": "display_data"
    },
    {
     "name": "stdout",
     "output_type": "stream",
     "text": [
      "\n",
      "Epoch: 15 | Time: 1m 9s\n",
      "Training Results - Average Loss: 0.5119 | auc/_mean: 0.9100 | auc/healthy: 0.9295 | auc/multiple_diseases: 0.8199, auc/rust: 0.9537, auc/scab: 0.9371\n",
      "Evaluating Results - Average Loss: 0.4002 | auc/_mean: 0.9179 | auc/healthy: 0.9644 | auc/multiple_diseases: 0.7643, auc/rust: 0.9757, auc/scab: 0.9672\n",
      "\n"
     ]
    },
    {
     "data": {
      "application/vnd.jupyter.widget-view+json": {
       "model_id": "687623fc24f04e0b8dd7be550db169fc",
       "version_major": 2,
       "version_minor": 0
      },
      "text/plain": [
       "HBox(children=(FloatProgress(value=0.0, description='Train', max=39.0, style=ProgressStyle(description_width='…"
      ]
     },
     "metadata": {},
     "output_type": "display_data"
    },
    {
     "name": "stdout",
     "output_type": "stream",
     "text": [
      "\n",
      "Epoch: 16 | Time: 1m 10s\n",
      "Training Results - Average Loss: 0.5216 | auc/_mean: 0.9112 | auc/healthy: 0.9298 | auc/multiple_diseases: 0.8190, auc/rust: 0.9547, auc/scab: 0.9411\n",
      "Evaluating Results - Average Loss: 0.4002 | auc/_mean: 0.9178 | auc/healthy: 0.9645 | auc/multiple_diseases: 0.7643, auc/rust: 0.9756, auc/scab: 0.9670\n",
      "\n"
     ]
    },
    {
     "data": {
      "application/vnd.jupyter.widget-view+json": {
       "model_id": "3d33e9ba495d4bdd9674649d6637d2a0",
       "version_major": 2,
       "version_minor": 0
      },
      "text/plain": [
       "HBox(children=(FloatProgress(value=0.0, description='Train', max=39.0, style=ProgressStyle(description_width='…"
      ]
     },
     "metadata": {},
     "output_type": "display_data"
    },
    {
     "name": "stdout",
     "output_type": "stream",
     "text": [
      "\n",
      "Epoch: 17 | Time: 1m 8s\n",
      "Training Results - Average Loss: 0.5199 | auc/_mean: 0.9054 | auc/healthy: 0.9397 | auc/multiple_diseases: 0.7868, auc/rust: 0.9597, auc/scab: 0.9356\n",
      "Evaluating Results - Average Loss: 0.3989 | auc/_mean: 0.9181 | auc/healthy: 0.9644 | auc/multiple_diseases: 0.7652, auc/rust: 0.9758, auc/scab: 0.9672\n",
      "\n",
      "Epoch    17: reducing learning rate of group 0 to 2.4300e-05.\n"
     ]
    },
    {
     "data": {
      "application/vnd.jupyter.widget-view+json": {
       "model_id": "6511276ee9f04ecc88380683f8e7f0fd",
       "version_major": 2,
       "version_minor": 0
      },
      "text/plain": [
       "HBox(children=(FloatProgress(value=0.0, description='Train', max=39.0, style=ProgressStyle(description_width='…"
      ]
     },
     "metadata": {},
     "output_type": "display_data"
    },
    {
     "name": "stdout",
     "output_type": "stream",
     "text": [
      "\n",
      "Epoch: 18 | Time: 1m 9s\n",
      "Training Results - Average Loss: 0.5232 | auc/_mean: 0.9061 | auc/healthy: 0.9283 | auc/multiple_diseases: 0.8056, auc/rust: 0.9507, auc/scab: 0.9400\n",
      "Evaluating Results - Average Loss: 0.3995 | auc/_mean: 0.9182 | auc/healthy: 0.9645 | auc/multiple_diseases: 0.7656, auc/rust: 0.9753, auc/scab: 0.9675\n",
      "\n"
     ]
    },
    {
     "data": {
      "application/vnd.jupyter.widget-view+json": {
       "model_id": "c87739ec29bb4146b9247fe858ee9905",
       "version_major": 2,
       "version_minor": 0
      },
      "text/plain": [
       "HBox(children=(FloatProgress(value=0.0, description='Train', max=39.0, style=ProgressStyle(description_width='…"
      ]
     },
     "metadata": {},
     "output_type": "display_data"
    },
    {
     "name": "stdout",
     "output_type": "stream",
     "text": [
      "\n",
      "Epoch: 19 | Time: 1m 8s\n",
      "Training Results - Average Loss: 0.5383 | auc/_mean: 0.9015 | auc/healthy: 0.9399 | auc/multiple_diseases: 0.7889, auc/rust: 0.9440, auc/scab: 0.9332\n",
      "Evaluating Results - Average Loss: 0.4001 | auc/_mean: 0.9184 | auc/healthy: 0.9643 | auc/multiple_diseases: 0.7671, auc/rust: 0.9750, auc/scab: 0.9675\n",
      "\n",
      "EarlyStopping\n"
     ]
    }
   ],
   "source": [
    "trainer = Trainer(model, train_dataloader, valid_dataloader, criterion, optimizer, scheduler, device, config)\n",
    "trainer.run();"
   ]
  },
  {
   "cell_type": "code",
   "execution_count": null,
   "metadata": {},
   "outputs": [],
   "source": []
  },
  {
   "cell_type": "code",
   "execution_count": 10,
   "metadata": {},
   "outputs": [
    {
     "name": "stdout",
     "output_type": "stream",
     "text": [
      "Loaded pretrained weights for efficientnet-b5\n"
     ]
    }
   ],
   "source": [
    "model = get_model(config.model_name, config.num_classes)\n",
    "model.load_state_dict(torch.load(f\"{config.save_dirname}/best_model_epoch=19_auc_mean=0.9184434924272492.pth\"))\n",
    "for param in model.parameters():\n",
    "    param.requires_grad = True\n",
    "\n",
    "criterion = nn.CrossEntropyLoss()\n",
    "optimizer = torch.optim.Adam(model.parameters(), lr=config.lr)\n",
    "scheduler = torch.optim.lr_scheduler.ReduceLROnPlateau(optimizer, patience=config.patience, verbose=True, mode=\"min\", factor=0.3)"
   ]
  },
  {
   "cell_type": "code",
   "execution_count": 11,
   "metadata": {},
   "outputs": [
    {
     "data": {
      "application/vnd.jupyter.widget-view+json": {
       "model_id": "dc34794181e74f96b595ece56fe507a7",
       "version_major": 2,
       "version_minor": 0
      },
      "text/plain": [
       "HBox(children=(FloatProgress(value=0.0, description='Epochs', max=200.0, style=ProgressStyle(description_width…"
      ]
     },
     "metadata": {},
     "output_type": "display_data"
    },
    {
     "data": {
      "application/vnd.jupyter.widget-view+json": {
       "model_id": "07c322b368b541bdb2f1c4e5559b8e91",
       "version_major": 2,
       "version_minor": 0
      },
      "text/plain": [
       "HBox(children=(FloatProgress(value=0.0, description='Train', max=305.0, style=ProgressStyle(description_width=…"
      ]
     },
     "metadata": {},
     "output_type": "display_data"
    },
    {
     "name": "stdout",
     "output_type": "stream",
     "text": [
      "\n",
      "Epoch: 01 | Time: 3m 6s\n",
      "Training Results - Average Loss: 1.2575 | auc/_mean: 0.6917 | auc/healthy: 0.7145 | auc/multiple_diseases: 0.5344, auc/rust: 0.8093, auc/scab: 0.7085\n",
      "Evaluating Results - Average Loss: 0.6857 | auc/_mean: 0.8446 | auc/healthy: 0.9020 | auc/multiple_diseases: 0.5550, auc/rust: 0.9581, auc/scab: 0.9631\n",
      "\n"
     ]
    },
    {
     "data": {
      "application/vnd.jupyter.widget-view+json": {
       "model_id": "3fc32b027fc643c5ab0863aa07b2593b",
       "version_major": 2,
       "version_minor": 0
      },
      "text/plain": [
       "HBox(children=(FloatProgress(value=0.0, description='Train', max=305.0, style=ProgressStyle(description_width=…"
      ]
     },
     "metadata": {},
     "output_type": "display_data"
    },
    {
     "name": "stdout",
     "output_type": "stream",
     "text": [
      "\n",
      "Epoch: 02 | Time: 3m 13s\n",
      "Training Results - Average Loss: 0.8562 | auc/_mean: 0.7834 | auc/healthy: 0.8187 | auc/multiple_diseases: 0.5656, auc/rust: 0.9034, auc/scab: 0.8461\n",
      "Evaluating Results - Average Loss: 0.4532 | auc/_mean: 0.8533 | auc/healthy: 0.9706 | auc/multiple_diseases: 0.4970, auc/rust: 0.9895, auc/scab: 0.9561\n",
      "\n"
     ]
    },
    {
     "data": {
      "application/vnd.jupyter.widget-view+json": {
       "model_id": "11d9261922d546f3b5f7eeab37d11128",
       "version_major": 2,
       "version_minor": 0
      },
      "text/plain": [
       "HBox(children=(FloatProgress(value=0.0, description='Train', max=305.0, style=ProgressStyle(description_width=…"
      ]
     },
     "metadata": {},
     "output_type": "display_data"
    },
    {
     "name": "stdout",
     "output_type": "stream",
     "text": [
      "\n",
      "Epoch: 03 | Time: 3m 12s\n",
      "Training Results - Average Loss: 0.6776 | auc/_mean: 0.8406 | auc/healthy: 0.8902 | auc/multiple_diseases: 0.6236, auc/rust: 0.9270, auc/scab: 0.9216\n",
      "Evaluating Results - Average Loss: 0.4472 | auc/_mean: 0.8814 | auc/healthy: 0.9745 | auc/multiple_diseases: 0.5761, auc/rust: 0.9899, auc/scab: 0.9851\n",
      "\n"
     ]
    },
    {
     "data": {
      "application/vnd.jupyter.widget-view+json": {
       "model_id": "3267e214296c4dc1ad763b2cbfc79fc1",
       "version_major": 2,
       "version_minor": 0
      },
      "text/plain": [
       "HBox(children=(FloatProgress(value=0.0, description='Train', max=305.0, style=ProgressStyle(description_width=…"
      ]
     },
     "metadata": {},
     "output_type": "display_data"
    },
    {
     "name": "stdout",
     "output_type": "stream",
     "text": [
      "\n",
      "Epoch: 04 | Time: 3m 9s\n",
      "Training Results - Average Loss: 0.6283 | auc/_mean: 0.8570 | auc/healthy: 0.9169 | auc/multiple_diseases: 0.6426, auc/rust: 0.9346, auc/scab: 0.9339\n",
      "Evaluating Results - Average Loss: 0.4567 | auc/_mean: 0.8890 | auc/healthy: 0.9864 | auc/multiple_diseases: 0.5879, auc/rust: 0.9944, auc/scab: 0.9874\n",
      "\n"
     ]
    },
    {
     "data": {
      "application/vnd.jupyter.widget-view+json": {
       "model_id": "90cb2716acad4c40a794cc8f80a63480",
       "version_major": 2,
       "version_minor": 0
      },
      "text/plain": [
       "HBox(children=(FloatProgress(value=0.0, description='Train', max=305.0, style=ProgressStyle(description_width=…"
      ]
     },
     "metadata": {},
     "output_type": "display_data"
    },
    {
     "name": "stdout",
     "output_type": "stream",
     "text": [
      "\n",
      "Epoch: 05 | Time: 3m 5s\n",
      "Training Results - Average Loss: 0.5535 | auc/_mean: 0.8709 | auc/healthy: 0.9314 | auc/multiple_diseases: 0.6518, auc/rust: 0.9636, auc/scab: 0.9367\n",
      "Evaluating Results - Average Loss: 1.2239 | auc/_mean: 0.8437 | auc/healthy: 0.9318 | auc/multiple_diseases: 0.5135, auc/rust: 0.9452, auc/scab: 0.9844\n",
      "\n"
     ]
    },
    {
     "data": {
      "application/vnd.jupyter.widget-view+json": {
       "model_id": "e986f11b4c704c07a2b37b1340070da9",
       "version_major": 2,
       "version_minor": 0
      },
      "text/plain": [
       "HBox(children=(FloatProgress(value=0.0, description='Train', max=305.0, style=ProgressStyle(description_width=…"
      ]
     },
     "metadata": {},
     "output_type": "display_data"
    },
    {
     "name": "stdout",
     "output_type": "stream",
     "text": [
      "\n",
      "Epoch: 06 | Time: 3m 9s\n",
      "Training Results - Average Loss: 0.5203 | auc/_mean: 0.8616 | auc/healthy: 0.9517 | auc/multiple_diseases: 0.5897, auc/rust: 0.9673, auc/scab: 0.9378\n",
      "Evaluating Results - Average Loss: 0.2823 | auc/_mean: 0.8933 | auc/healthy: 0.9904 | auc/multiple_diseases: 0.6008, auc/rust: 0.9922, auc/scab: 0.9898\n",
      "\n"
     ]
    },
    {
     "data": {
      "application/vnd.jupyter.widget-view+json": {
       "model_id": "7ae3d573435445fa8994a4e322f34190",
       "version_major": 2,
       "version_minor": 0
      },
      "text/plain": [
       "HBox(children=(FloatProgress(value=0.0, description='Train', max=305.0, style=ProgressStyle(description_width=…"
      ]
     },
     "metadata": {},
     "output_type": "display_data"
    },
    {
     "name": "stdout",
     "output_type": "stream",
     "text": [
      "\n",
      "Epoch: 07 | Time: 3m 15s\n",
      "Training Results - Average Loss: 0.4317 | auc/_mean: 0.8843 | auc/healthy: 0.9624 | auc/multiple_diseases: 0.6312, auc/rust: 0.9785, auc/scab: 0.9651\n",
      "Evaluating Results - Average Loss: 0.3000 | auc/_mean: 0.8695 | auc/healthy: 0.9919 | auc/multiple_diseases: 0.5065, auc/rust: 0.9926, auc/scab: 0.9869\n",
      "\n"
     ]
    },
    {
     "data": {
      "application/vnd.jupyter.widget-view+json": {
       "model_id": "1d6f8ee1fc24462c8ccfa40b4782a857",
       "version_major": 2,
       "version_minor": 0
      },
      "text/plain": [
       "HBox(children=(FloatProgress(value=0.0, description='Train', max=305.0, style=ProgressStyle(description_width=…"
      ]
     },
     "metadata": {},
     "output_type": "display_data"
    },
    {
     "name": "stdout",
     "output_type": "stream",
     "text": [
      "\n",
      "Epoch: 08 | Time: 3m 12s\n",
      "Training Results - Average Loss: 0.3907 | auc/_mean: 0.8875 | auc/healthy: 0.9719 | auc/multiple_diseases: 0.6310, auc/rust: 0.9794, auc/scab: 0.9678\n",
      "Evaluating Results - Average Loss: 0.2665 | auc/_mean: 0.8819 | auc/healthy: 0.9884 | auc/multiple_diseases: 0.5574, auc/rust: 0.9925, auc/scab: 0.9892\n",
      "\n"
     ]
    },
    {
     "data": {
      "application/vnd.jupyter.widget-view+json": {
       "model_id": "8931c9dd9cbe408f88eb9e6c1b5217d1",
       "version_major": 2,
       "version_minor": 0
      },
      "text/plain": [
       "HBox(children=(FloatProgress(value=0.0, description='Train', max=305.0, style=ProgressStyle(description_width=…"
      ]
     },
     "metadata": {},
     "output_type": "display_data"
    },
    {
     "name": "stdout",
     "output_type": "stream",
     "text": [
      "\n",
      "Epoch: 09 | Time: 3m 6s\n",
      "Training Results - Average Loss: 0.4331 | auc/_mean: 0.8740 | auc/healthy: 0.9678 | auc/multiple_diseases: 0.5839, auc/rust: 0.9772, auc/scab: 0.9672\n",
      "Evaluating Results - Average Loss: 0.3062 | auc/_mean: 0.8836 | auc/healthy: 0.9904 | auc/multiple_diseases: 0.5619, auc/rust: 0.9942, auc/scab: 0.9878\n",
      "\n"
     ]
    },
    {
     "data": {
      "application/vnd.jupyter.widget-view+json": {
       "model_id": "373b75748d834273899642b6eb307d85",
       "version_major": 2,
       "version_minor": 0
      },
      "text/plain": [
       "HBox(children=(FloatProgress(value=0.0, description='Train', max=305.0, style=ProgressStyle(description_width=…"
      ]
     },
     "metadata": {},
     "output_type": "display_data"
    },
    {
     "name": "stdout",
     "output_type": "stream",
     "text": [
      "\n",
      "Epoch: 10 | Time: 3m 6s\n",
      "Training Results - Average Loss: 0.3656 | auc/_mean: 0.8899 | auc/healthy: 0.9807 | auc/multiple_diseases: 0.6218, auc/rust: 0.9773, auc/scab: 0.9798\n",
      "Evaluating Results - Average Loss: 0.4788 | auc/_mean: 0.9285 | auc/healthy: 0.9907 | auc/multiple_diseases: 0.7431, auc/rust: 0.9948, auc/scab: 0.9856\n",
      "\n"
     ]
    },
    {
     "data": {
      "application/vnd.jupyter.widget-view+json": {
       "model_id": "0ee32ec7d3b2445d9bc7a76676a6a7a5",
       "version_major": 2,
       "version_minor": 0
      },
      "text/plain": [
       "HBox(children=(FloatProgress(value=0.0, description='Train', max=305.0, style=ProgressStyle(description_width=…"
      ]
     },
     "metadata": {},
     "output_type": "display_data"
    },
    {
     "name": "stdout",
     "output_type": "stream",
     "text": [
      "\n",
      "Epoch: 11 | Time: 3m 7s\n",
      "Training Results - Average Loss: 0.3752 | auc/_mean: 0.8962 | auc/healthy: 0.9760 | auc/multiple_diseases: 0.6533, auc/rust: 0.9807, auc/scab: 0.9748\n",
      "Evaluating Results - Average Loss: 0.3759 | auc/_mean: 0.8861 | auc/healthy: 0.9952 | auc/multiple_diseases: 0.5615, auc/rust: 0.9945, auc/scab: 0.9931\n",
      "\n"
     ]
    },
    {
     "data": {
      "application/vnd.jupyter.widget-view+json": {
       "model_id": "9a6623706b8744cc94dcb035cb211f5f",
       "version_major": 2,
       "version_minor": 0
      },
      "text/plain": [
       "HBox(children=(FloatProgress(value=0.0, description='Train', max=305.0, style=ProgressStyle(description_width=…"
      ]
     },
     "metadata": {},
     "output_type": "display_data"
    },
    {
     "name": "stdout",
     "output_type": "stream",
     "text": [
      "\n",
      "Epoch: 12 | Time: 3m 7s\n",
      "Training Results - Average Loss: 0.3570 | auc/_mean: 0.8790 | auc/healthy: 0.9782 | auc/multiple_diseases: 0.5733, auc/rust: 0.9834, auc/scab: 0.9812\n",
      "Evaluating Results - Average Loss: 0.3771 | auc/_mean: 0.8686 | auc/healthy: 0.9867 | auc/multiple_diseases: 0.5060, auc/rust: 0.9919, auc/scab: 0.9899\n",
      "\n"
     ]
    },
    {
     "data": {
      "application/vnd.jupyter.widget-view+json": {
       "model_id": "fe519f3adaa74109916b84dfb4d6a647",
       "version_major": 2,
       "version_minor": 0
      },
      "text/plain": [
       "HBox(children=(FloatProgress(value=0.0, description='Train', max=305.0, style=ProgressStyle(description_width=…"
      ]
     },
     "metadata": {},
     "output_type": "display_data"
    },
    {
     "name": "stdout",
     "output_type": "stream",
     "text": [
      "\n",
      "Epoch: 13 | Time: 3m 5s\n",
      "Training Results - Average Loss: 0.3618 | auc/_mean: 0.8936 | auc/healthy: 0.9802 | auc/multiple_diseases: 0.6337, auc/rust: 0.9811, auc/scab: 0.9793\n",
      "Evaluating Results - Average Loss: 0.2967 | auc/_mean: 0.8873 | auc/healthy: 0.9912 | auc/multiple_diseases: 0.5798, auc/rust: 0.9917, auc/scab: 0.9866\n",
      "\n"
     ]
    },
    {
     "data": {
      "application/vnd.jupyter.widget-view+json": {
       "model_id": "e04371e7d8e2417f968692991fc8de55",
       "version_major": 2,
       "version_minor": 0
      },
      "text/plain": [
       "HBox(children=(FloatProgress(value=0.0, description='Train', max=305.0, style=ProgressStyle(description_width=…"
      ]
     },
     "metadata": {},
     "output_type": "display_data"
    },
    {
     "name": "stdout",
     "output_type": "stream",
     "text": [
      "\n",
      "Epoch: 14 | Time: 3m 5s\n",
      "Training Results - Average Loss: 0.3783 | auc/_mean: 0.8875 | auc/healthy: 0.9751 | auc/multiple_diseases: 0.6193, auc/rust: 0.9778, auc/scab: 0.9777\n",
      "Evaluating Results - Average Loss: 0.3487 | auc/_mean: 0.8525 | auc/healthy: 0.9881 | auc/multiple_diseases: 0.4423, auc/rust: 0.9898, auc/scab: 0.9899\n",
      "\n"
     ]
    },
    {
     "data": {
      "application/vnd.jupyter.widget-view+json": {
       "model_id": "73a5f764219643b0a8d19c023004180d",
       "version_major": 2,
       "version_minor": 0
      },
      "text/plain": [
       "HBox(children=(FloatProgress(value=0.0, description='Train', max=305.0, style=ProgressStyle(description_width=…"
      ]
     },
     "metadata": {},
     "output_type": "display_data"
    },
    {
     "name": "stdout",
     "output_type": "stream",
     "text": [
      "\n",
      "Epoch: 15 | Time: 3m 4s\n",
      "Training Results - Average Loss: 0.3062 | auc/_mean: 0.9010 | auc/healthy: 0.9856 | auc/multiple_diseases: 0.6489, auc/rust: 0.9854, auc/scab: 0.9841\n",
      "Evaluating Results - Average Loss: 0.2721 | auc/_mean: 0.8830 | auc/healthy: 0.9951 | auc/multiple_diseases: 0.5489, auc/rust: 0.9964, auc/scab: 0.9917\n",
      "\n"
     ]
    },
    {
     "data": {
      "application/vnd.jupyter.widget-view+json": {
       "model_id": "3b03eb6356e54dd28dd0aac3699ca826",
       "version_major": 2,
       "version_minor": 0
      },
      "text/plain": [
       "HBox(children=(FloatProgress(value=0.0, description='Train', max=305.0, style=ProgressStyle(description_width=…"
      ]
     },
     "metadata": {},
     "output_type": "display_data"
    },
    {
     "name": "stdout",
     "output_type": "stream",
     "text": [
      "\n",
      "Epoch: 16 | Time: 3m 4s\n",
      "Training Results - Average Loss: 0.3336 | auc/_mean: 0.8957 | auc/healthy: 0.9807 | auc/multiple_diseases: 0.6353, auc/rust: 0.9838, auc/scab: 0.9830\n",
      "Evaluating Results - Average Loss: 0.2113 | auc/_mean: 0.9050 | auc/healthy: 0.9972 | auc/multiple_diseases: 0.6353, auc/rust: 0.9945, auc/scab: 0.9930\n",
      "\n",
      "Epoch    16: reducing learning rate of group 0 to 9.0000e-04.\n"
     ]
    },
    {
     "data": {
      "application/vnd.jupyter.widget-view+json": {
       "model_id": "a4bf1b1c4bee4fa2b6b335634cee6cc3",
       "version_major": 2,
       "version_minor": 0
      },
      "text/plain": [
       "HBox(children=(FloatProgress(value=0.0, description='Train', max=305.0, style=ProgressStyle(description_width=…"
      ]
     },
     "metadata": {},
     "output_type": "display_data"
    },
    {
     "name": "stdout",
     "output_type": "stream",
     "text": [
      "\n",
      "Epoch: 17 | Time: 3m 4s\n",
      "Training Results - Average Loss: 0.2109 | auc/_mean: 0.8988 | auc/healthy: 0.9948 | auc/multiple_diseases: 0.6145, auc/rust: 0.9927, auc/scab: 0.9933\n",
      "Evaluating Results - Average Loss: 0.1642 | auc/_mean: 0.8970 | auc/healthy: 0.9969 | auc/multiple_diseases: 0.5966, auc/rust: 0.9982, auc/scab: 0.9961\n",
      "\n"
     ]
    },
    {
     "data": {
      "application/vnd.jupyter.widget-view+json": {
       "model_id": "d044e5c973a94e5a9648e7de8bbee2e8",
       "version_major": 2,
       "version_minor": 0
      },
      "text/plain": [
       "HBox(children=(FloatProgress(value=0.0, description='Train', max=305.0, style=ProgressStyle(description_width=…"
      ]
     },
     "metadata": {},
     "output_type": "display_data"
    },
    {
     "name": "stdout",
     "output_type": "stream",
     "text": [
      "\n",
      "Epoch: 18 | Time: 3m 5s\n",
      "Training Results - Average Loss: 0.1813 | auc/_mean: 0.9086 | auc/healthy: 0.9975 | auc/multiple_diseases: 0.6495, auc/rust: 0.9940, auc/scab: 0.9935\n",
      "Evaluating Results - Average Loss: 0.1835 | auc/_mean: 0.8803 | auc/healthy: 0.9965 | auc/multiple_diseases: 0.5336, auc/rust: 0.9963, auc/scab: 0.9948\n",
      "\n"
     ]
    },
    {
     "data": {
      "application/vnd.jupyter.widget-view+json": {
       "model_id": "adfc5c4dc5ed49e98a3517776ae9eaf8",
       "version_major": 2,
       "version_minor": 0
      },
      "text/plain": [
       "HBox(children=(FloatProgress(value=0.0, description='Train', max=305.0, style=ProgressStyle(description_width=…"
      ]
     },
     "metadata": {},
     "output_type": "display_data"
    },
    {
     "name": "stdout",
     "output_type": "stream",
     "text": [
      "\n",
      "Epoch: 19 | Time: 3m 5s\n",
      "Training Results - Average Loss: 0.1701 | auc/_mean: 0.9155 | auc/healthy: 0.9966 | auc/multiple_diseases: 0.6760, auc/rust: 0.9940, auc/scab: 0.9953\n",
      "Evaluating Results - Average Loss: 0.1862 | auc/_mean: 0.9053 | auc/healthy: 0.9970 | auc/multiple_diseases: 0.6320, auc/rust: 0.9952, auc/scab: 0.9968\n",
      "\n"
     ]
    },
    {
     "data": {
      "application/vnd.jupyter.widget-view+json": {
       "model_id": "1877db1aefb4401fbf26aaca36503f97",
       "version_major": 2,
       "version_minor": 0
      },
      "text/plain": [
       "HBox(children=(FloatProgress(value=0.0, description='Train', max=305.0, style=ProgressStyle(description_width=…"
      ]
     },
     "metadata": {},
     "output_type": "display_data"
    },
    {
     "name": "stdout",
     "output_type": "stream",
     "text": [
      "\n",
      "Epoch: 20 | Time: 3m 4s\n",
      "Training Results - Average Loss: 0.1773 | auc/_mean: 0.9081 | auc/healthy: 0.9965 | auc/multiple_diseases: 0.6473, auc/rust: 0.9945, auc/scab: 0.9942\n",
      "Evaluating Results - Average Loss: 0.1574 | auc/_mean: 0.8897 | auc/healthy: 0.9973 | auc/multiple_diseases: 0.5665, auc/rust: 0.9979, auc/scab: 0.9971\n",
      "\n"
     ]
    },
    {
     "data": {
      "application/vnd.jupyter.widget-view+json": {
       "model_id": "5ced07580e84469c90dd13f568e3688d",
       "version_major": 2,
       "version_minor": 0
      },
      "text/plain": [
       "HBox(children=(FloatProgress(value=0.0, description='Train', max=305.0, style=ProgressStyle(description_width=…"
      ]
     },
     "metadata": {},
     "output_type": "display_data"
    },
    {
     "name": "stdout",
     "output_type": "stream",
     "text": [
      "\n",
      "Epoch: 21 | Time: 3m 4s\n",
      "Training Results - Average Loss: 0.1541 | auc/_mean: 0.9071 | auc/healthy: 0.9968 | auc/multiple_diseases: 0.6411, auc/rust: 0.9951, auc/scab: 0.9954\n",
      "Evaluating Results - Average Loss: 0.1458 | auc/_mean: 0.8942 | auc/healthy: 0.9982 | auc/multiple_diseases: 0.5841, auc/rust: 0.9969, auc/scab: 0.9978\n",
      "\n"
     ]
    },
    {
     "data": {
      "application/vnd.jupyter.widget-view+json": {
       "model_id": "4e761a7d340644f49871e731ae9c81a9",
       "version_major": 2,
       "version_minor": 0
      },
      "text/plain": [
       "HBox(children=(FloatProgress(value=0.0, description='Train', max=305.0, style=ProgressStyle(description_width=…"
      ]
     },
     "metadata": {},
     "output_type": "display_data"
    },
    {
     "name": "stdout",
     "output_type": "stream",
     "text": [
      "\n",
      "Epoch: 22 | Time: 3m 6s\n",
      "Training Results - Average Loss: 0.1510 | auc/_mean: 0.9195 | auc/healthy: 0.9972 | auc/multiple_diseases: 0.6891, auc/rust: 0.9946, auc/scab: 0.9969\n",
      "Evaluating Results - Average Loss: 0.2067 | auc/_mean: 0.9053 | auc/healthy: 0.9973 | auc/multiple_diseases: 0.6302, auc/rust: 0.9965, auc/scab: 0.9971\n",
      "\n"
     ]
    },
    {
     "data": {
      "application/vnd.jupyter.widget-view+json": {
       "model_id": "702fead440934865aac989720f6416d7",
       "version_major": 2,
       "version_minor": 0
      },
      "text/plain": [
       "HBox(children=(FloatProgress(value=0.0, description='Train', max=305.0, style=ProgressStyle(description_width=…"
      ]
     },
     "metadata": {},
     "output_type": "display_data"
    },
    {
     "name": "stdout",
     "output_type": "stream",
     "text": [
      "\n",
      "Epoch: 23 | Time: 3m 5s\n",
      "Training Results - Average Loss: 0.1698 | auc/_mean: 0.9127 | auc/healthy: 0.9966 | auc/multiple_diseases: 0.6652, auc/rust: 0.9939, auc/scab: 0.9950\n",
      "Evaluating Results - Average Loss: 0.1442 | auc/_mean: 0.9225 | auc/healthy: 0.9979 | auc/multiple_diseases: 0.6977, auc/rust: 0.9987, auc/scab: 0.9958\n",
      "\n"
     ]
    },
    {
     "data": {
      "application/vnd.jupyter.widget-view+json": {
       "model_id": "4af7960d03824c2aa5c8ebca0a800acb",
       "version_major": 2,
       "version_minor": 0
      },
      "text/plain": [
       "HBox(children=(FloatProgress(value=0.0, description='Train', max=305.0, style=ProgressStyle(description_width=…"
      ]
     },
     "metadata": {},
     "output_type": "display_data"
    },
    {
     "name": "stdout",
     "output_type": "stream",
     "text": [
      "\n",
      "Epoch: 24 | Time: 3m 4s\n",
      "Training Results - Average Loss: 0.1504 | auc/_mean: 0.9153 | auc/healthy: 0.9984 | auc/multiple_diseases: 0.6726, auc/rust: 0.9958, auc/scab: 0.9943\n",
      "Evaluating Results - Average Loss: 0.1831 | auc/_mean: 0.8952 | auc/healthy: 0.9947 | auc/multiple_diseases: 0.5917, auc/rust: 0.9967, auc/scab: 0.9977\n",
      "\n"
     ]
    },
    {
     "data": {
      "application/vnd.jupyter.widget-view+json": {
       "model_id": "288104fe122f40468e8bc3f53ae5ce1a",
       "version_major": 2,
       "version_minor": 0
      },
      "text/plain": [
       "HBox(children=(FloatProgress(value=0.0, description='Train', max=305.0, style=ProgressStyle(description_width=…"
      ]
     },
     "metadata": {},
     "output_type": "display_data"
    },
    {
     "name": "stdout",
     "output_type": "stream",
     "text": [
      "\n",
      "Epoch: 25 | Time: 3m 5s\n",
      "Training Results - Average Loss: 0.1652 | auc/_mean: 0.9081 | auc/healthy: 0.9979 | auc/multiple_diseases: 0.6461, auc/rust: 0.9936, auc/scab: 0.9951\n",
      "Evaluating Results - Average Loss: 0.1690 | auc/_mean: 0.8987 | auc/healthy: 0.9955 | auc/multiple_diseases: 0.6048, auc/rust: 0.9985, auc/scab: 0.9960\n",
      "\n"
     ]
    },
    {
     "data": {
      "application/vnd.jupyter.widget-view+json": {
       "model_id": "870914d279ad497ca3f73566a74074a3",
       "version_major": 2,
       "version_minor": 0
      },
      "text/plain": [
       "HBox(children=(FloatProgress(value=0.0, description='Train', max=305.0, style=ProgressStyle(description_width=…"
      ]
     },
     "metadata": {},
     "output_type": "display_data"
    },
    {
     "name": "stdout",
     "output_type": "stream",
     "text": [
      "\n",
      "Epoch: 26 | Time: 3m 5s\n",
      "Training Results - Average Loss: 0.1525 | auc/_mean: 0.9193 | auc/healthy: 0.9985 | auc/multiple_diseases: 0.6892, auc/rust: 0.9949, auc/scab: 0.9945\n",
      "Evaluating Results - Average Loss: 0.1716 | auc/_mean: 0.9031 | auc/healthy: 0.9972 | auc/multiple_diseases: 0.6211, auc/rust: 0.9984, auc/scab: 0.9956\n",
      "\n"
     ]
    },
    {
     "data": {
      "application/vnd.jupyter.widget-view+json": {
       "model_id": "d9b1c6d9f6aa48d3984e13423f380078",
       "version_major": 2,
       "version_minor": 0
      },
      "text/plain": [
       "HBox(children=(FloatProgress(value=0.0, description='Train', max=305.0, style=ProgressStyle(description_width=…"
      ]
     },
     "metadata": {},
     "output_type": "display_data"
    },
    {
     "name": "stdout",
     "output_type": "stream",
     "text": [
      "\n",
      "Epoch: 27 | Time: 3m 5s\n",
      "Training Results - Average Loss: 0.1528 | auc/_mean: 0.9254 | auc/healthy: 0.9979 | auc/multiple_diseases: 0.7141, auc/rust: 0.9946, auc/scab: 0.9948\n",
      "Evaluating Results - Average Loss: 0.1953 | auc/_mean: 0.9082 | auc/healthy: 0.9972 | auc/multiple_diseases: 0.6428, auc/rust: 0.9962, auc/scab: 0.9967\n",
      "\n",
      "Epoch    27: reducing learning rate of group 0 to 2.7000e-04.\n"
     ]
    },
    {
     "data": {
      "application/vnd.jupyter.widget-view+json": {
       "model_id": "be5ab5380c394de3993c5e86359529d7",
       "version_major": 2,
       "version_minor": 0
      },
      "text/plain": [
       "HBox(children=(FloatProgress(value=0.0, description='Train', max=305.0, style=ProgressStyle(description_width=…"
      ]
     },
     "metadata": {},
     "output_type": "display_data"
    },
    {
     "name": "stdout",
     "output_type": "stream",
     "text": [
      "\n",
      "Epoch: 28 | Time: 3m 4s\n",
      "Training Results - Average Loss: 0.1312 | auc/_mean: 0.9276 | auc/healthy: 0.9988 | auc/multiple_diseases: 0.7188, auc/rust: 0.9956, auc/scab: 0.9972\n",
      "Evaluating Results - Average Loss: 0.1689 | auc/_mean: 0.9161 | auc/healthy: 0.9974 | auc/multiple_diseases: 0.6720, auc/rust: 0.9975, auc/scab: 0.9974\n",
      "\n"
     ]
    },
    {
     "data": {
      "application/vnd.jupyter.widget-view+json": {
       "model_id": "0f34ce0b72f845c09d8f83d9330f02f8",
       "version_major": 2,
       "version_minor": 0
      },
      "text/plain": [
       "HBox(children=(FloatProgress(value=0.0, description='Train', max=305.0, style=ProgressStyle(description_width=…"
      ]
     },
     "metadata": {},
     "output_type": "display_data"
    },
    {
     "name": "stdout",
     "output_type": "stream",
     "text": [
      "\n",
      "Epoch: 29 | Time: 3m 5s\n",
      "Training Results - Average Loss: 0.0971 | auc/_mean: 0.9392 | auc/healthy: 0.9990 | auc/multiple_diseases: 0.7645, auc/rust: 0.9971, auc/scab: 0.9962\n",
      "Evaluating Results - Average Loss: 0.1692 | auc/_mean: 0.9227 | auc/healthy: 0.9978 | auc/multiple_diseases: 0.6975, auc/rust: 0.9981, auc/scab: 0.9972\n",
      "\n"
     ]
    },
    {
     "data": {
      "application/vnd.jupyter.widget-view+json": {
       "model_id": "d7d9283a9c95477fadbcab2a7bcc7609",
       "version_major": 2,
       "version_minor": 0
      },
      "text/plain": [
       "HBox(children=(FloatProgress(value=0.0, description='Train', max=305.0, style=ProgressStyle(description_width=…"
      ]
     },
     "metadata": {},
     "output_type": "display_data"
    },
    {
     "name": "stdout",
     "output_type": "stream",
     "text": [
      "\n",
      "Epoch: 30 | Time: 3m 5s\n",
      "Training Results - Average Loss: 0.0983 | auc/_mean: 0.9384 | auc/healthy: 0.9993 | auc/multiple_diseases: 0.7603, auc/rust: 0.9960, auc/scab: 0.9980\n",
      "Evaluating Results - Average Loss: 0.1941 | auc/_mean: 0.9273 | auc/healthy: 0.9979 | auc/multiple_diseases: 0.7164, auc/rust: 0.9976, auc/scab: 0.9972\n",
      "\n"
     ]
    },
    {
     "data": {
      "application/vnd.jupyter.widget-view+json": {
       "model_id": "c4441ab5d21e469990b2b46c29ac371c",
       "version_major": 2,
       "version_minor": 0
      },
      "text/plain": [
       "HBox(children=(FloatProgress(value=0.0, description='Train', max=305.0, style=ProgressStyle(description_width=…"
      ]
     },
     "metadata": {},
     "output_type": "display_data"
    },
    {
     "name": "stdout",
     "output_type": "stream",
     "text": [
      "\n",
      "Epoch: 31 | Time: 3m 4s\n",
      "Training Results - Average Loss: 0.1142 | auc/_mean: 0.9407 | auc/healthy: 0.9989 | auc/multiple_diseases: 0.7699, auc/rust: 0.9972, auc/scab: 0.9966\n",
      "Evaluating Results - Average Loss: 0.1758 | auc/_mean: 0.9112 | auc/healthy: 0.9974 | auc/multiple_diseases: 0.6521, auc/rust: 0.9983, auc/scab: 0.9972\n",
      "\n"
     ]
    },
    {
     "data": {
      "application/vnd.jupyter.widget-view+json": {
       "model_id": "c5e8e5a8076e4201bc89704c5d0cd57a",
       "version_major": 2,
       "version_minor": 0
      },
      "text/plain": [
       "HBox(children=(FloatProgress(value=0.0, description='Train', max=305.0, style=ProgressStyle(description_width=…"
      ]
     },
     "metadata": {},
     "output_type": "display_data"
    },
    {
     "name": "stdout",
     "output_type": "stream",
     "text": [
      "\n",
      "Epoch: 32 | Time: 3m 4s\n",
      "Training Results - Average Loss: 0.0846 | auc/_mean: 0.9456 | auc/healthy: 0.9994 | auc/multiple_diseases: 0.7864, auc/rust: 0.9978, auc/scab: 0.9985\n",
      "Evaluating Results - Average Loss: 0.1683 | auc/_mean: 0.9198 | auc/healthy: 0.9981 | auc/multiple_diseases: 0.6856, auc/rust: 0.9984, auc/scab: 0.9970\n",
      "\n"
     ]
    },
    {
     "data": {
      "application/vnd.jupyter.widget-view+json": {
       "model_id": "0959762469de44ce9d2e36a4c7da2122",
       "version_major": 2,
       "version_minor": 0
      },
      "text/plain": [
       "HBox(children=(FloatProgress(value=0.0, description='Train', max=305.0, style=ProgressStyle(description_width=…"
      ]
     },
     "metadata": {},
     "output_type": "display_data"
    },
    {
     "name": "stdout",
     "output_type": "stream",
     "text": [
      "\n",
      "Epoch: 33 | Time: 3m 4s\n",
      "Training Results - Average Loss: 0.0898 | auc/_mean: 0.9434 | auc/healthy: 0.9994 | auc/multiple_diseases: 0.7779, auc/rust: 0.9977, auc/scab: 0.9985\n",
      "Evaluating Results - Average Loss: 0.1545 | auc/_mean: 0.9207 | auc/healthy: 0.9981 | auc/multiple_diseases: 0.6887, auc/rust: 0.9984, auc/scab: 0.9977\n",
      "\n"
     ]
    },
    {
     "data": {
      "application/vnd.jupyter.widget-view+json": {
       "model_id": "b7f6053a629d4d10ae8a1ba843d1489f",
       "version_major": 2,
       "version_minor": 0
      },
      "text/plain": [
       "HBox(children=(FloatProgress(value=0.0, description='Train', max=305.0, style=ProgressStyle(description_width=…"
      ]
     },
     "metadata": {},
     "output_type": "display_data"
    },
    {
     "name": "stdout",
     "output_type": "stream",
     "text": [
      "\n",
      "Epoch: 34 | Time: 3m 5s\n",
      "Training Results - Average Loss: 0.0961 | auc/_mean: 0.9389 | auc/healthy: 0.9984 | auc/multiple_diseases: 0.7606, auc/rust: 0.9984, auc/scab: 0.9982\n",
      "Evaluating Results - Average Loss: 0.1567 | auc/_mean: 0.9293 | auc/healthy: 0.9966 | auc/multiple_diseases: 0.7245, auc/rust: 0.9985, auc/scab: 0.9977\n",
      "\n",
      "EarlyStopping\n"
     ]
    }
   ],
   "source": [
    "trainer = Trainer(model, train_dataloader, valid_dataloader, criterion, optimizer, scheduler, device, config)\n",
    "trainer.run();"
   ]
  },
  {
   "cell_type": "code",
   "execution_count": null,
   "metadata": {},
   "outputs": [],
   "source": []
  },
  {
   "cell_type": "code",
   "execution_count": 22,
   "metadata": {},
   "outputs": [
    {
     "data": {
      "text/plain": [
       "0.003"
      ]
     },
     "execution_count": 22,
     "metadata": {},
     "output_type": "execute_result"
    }
   ],
   "source": [
    "config.lr"
   ]
  },
  {
   "cell_type": "code",
   "execution_count": 23,
   "metadata": {},
   "outputs": [
    {
     "name": "stdout",
     "output_type": "stream",
     "text": [
      "Loaded pretrained weights for efficientnet-b5\n"
     ]
    }
   ],
   "source": [
    "model = get_model(config.model_name, config.num_classes)\n",
    "model.load_state_dict(torch.load(f\"{config.save_dirname}/best_model_epoch=34_auc_mean=0.9293390594149122.pth\"))\n",
    "for param in model.parameters():\n",
    "    param.requires_grad = True\n",
    "\n",
    "criterion = nn.CrossEntropyLoss()\n",
    "optimizer = torch.optim.Adam(model.parameters(), lr=0.0004)\n",
    "scheduler = torch.optim.lr_scheduler.ReduceLROnPlateau(optimizer, patience=config.patience, verbose=True, mode=\"min\", factor=0.3)"
   ]
  },
  {
   "cell_type": "code",
   "execution_count": 24,
   "metadata": {},
   "outputs": [
    {
     "data": {
      "application/vnd.jupyter.widget-view+json": {
       "model_id": "ad19d499c9254f448b524cf29ce78b63",
       "version_major": 2,
       "version_minor": 0
      },
      "text/plain": [
       "HBox(children=(FloatProgress(value=0.0, description='Epochs', max=200.0, style=ProgressStyle(description_width…"
      ]
     },
     "metadata": {},
     "output_type": "display_data"
    },
    {
     "data": {
      "application/vnd.jupyter.widget-view+json": {
       "model_id": "a5425ecfd7f84139a4e514cb4212f421",
       "version_major": 2,
       "version_minor": 0
      },
      "text/plain": [
       "HBox(children=(FloatProgress(value=0.0, description='Train', max=305.0, style=ProgressStyle(description_width=…"
      ]
     },
     "metadata": {},
     "output_type": "display_data"
    },
    {
     "name": "stdout",
     "output_type": "stream",
     "text": [
      "\n",
      "Epoch: 01 | Time: 3m 5s\n",
      "Training Results - Average Loss: 0.0915 | auc/_mean: 0.9456 | auc/healthy: 0.9992 | auc/multiple_diseases: 0.7870, auc/rust: 0.9983, auc/scab: 0.9978\n",
      "Evaluating Results - Average Loss: 0.1565 | auc/_mean: 0.9173 | auc/healthy: 0.9981 | auc/multiple_diseases: 0.6757, auc/rust: 0.9985, auc/scab: 0.9968\n",
      "\n"
     ]
    },
    {
     "data": {
      "application/vnd.jupyter.widget-view+json": {
       "model_id": "f1a44ec3a94b4c0291922c66a7b059a0",
       "version_major": 2,
       "version_minor": 0
      },
      "text/plain": [
       "HBox(children=(FloatProgress(value=0.0, description='Train', max=305.0, style=ProgressStyle(description_width=…"
      ]
     },
     "metadata": {},
     "output_type": "display_data"
    },
    {
     "name": "stdout",
     "output_type": "stream",
     "text": [
      "\n",
      "Epoch: 02 | Time: 3m 5s\n",
      "Training Results - Average Loss: 0.0975 | auc/_mean: 0.9414 | auc/healthy: 0.9994 | auc/multiple_diseases: 0.7712, auc/rust: 0.9974, auc/scab: 0.9976\n",
      "Evaluating Results - Average Loss: 0.1457 | auc/_mean: 0.9182 | auc/healthy: 0.9980 | auc/multiple_diseases: 0.6781, auc/rust: 0.9990, auc/scab: 0.9979\n",
      "\n"
     ]
    },
    {
     "data": {
      "application/vnd.jupyter.widget-view+json": {
       "model_id": "a7f5a49b774941e4ba4691a40038d0fd",
       "version_major": 2,
       "version_minor": 0
      },
      "text/plain": [
       "HBox(children=(FloatProgress(value=0.0, description='Train', max=305.0, style=ProgressStyle(description_width=…"
      ]
     },
     "metadata": {},
     "output_type": "display_data"
    },
    {
     "name": "stdout",
     "output_type": "stream",
     "text": [
      "\n",
      "Epoch: 03 | Time: 3m 5s\n",
      "Training Results - Average Loss: 0.1036 | auc/_mean: 0.9362 | auc/healthy: 0.9992 | auc/multiple_diseases: 0.7506, auc/rust: 0.9974, auc/scab: 0.9975\n",
      "Evaluating Results - Average Loss: 0.2115 | auc/_mean: 0.9195 | auc/healthy: 0.9972 | auc/multiple_diseases: 0.6843, auc/rust: 0.9989, auc/scab: 0.9977\n",
      "\n"
     ]
    },
    {
     "data": {
      "application/vnd.jupyter.widget-view+json": {
       "model_id": "31f825dcf4f140e39f4ec5937289ade5",
       "version_major": 2,
       "version_minor": 0
      },
      "text/plain": [
       "HBox(children=(FloatProgress(value=0.0, description='Train', max=305.0, style=ProgressStyle(description_width=…"
      ]
     },
     "metadata": {},
     "output_type": "display_data"
    },
    {
     "name": "stdout",
     "output_type": "stream",
     "text": [
      "\n",
      "Epoch: 04 | Time: 3m 5s\n",
      "Training Results - Average Loss: 0.0848 | auc/_mean: 0.9441 | auc/healthy: 0.9995 | auc/multiple_diseases: 0.7813, auc/rust: 0.9989, auc/scab: 0.9967\n",
      "Evaluating Results - Average Loss: 0.1601 | auc/_mean: 0.9230 | auc/healthy: 0.9978 | auc/multiple_diseases: 0.6984, auc/rust: 0.9982, auc/scab: 0.9977\n",
      "\n"
     ]
    },
    {
     "data": {
      "application/vnd.jupyter.widget-view+json": {
       "model_id": "8e5664cef49d4207a20c8bb2a940099d",
       "version_major": 2,
       "version_minor": 0
      },
      "text/plain": [
       "HBox(children=(FloatProgress(value=0.0, description='Train', max=305.0, style=ProgressStyle(description_width=…"
      ]
     },
     "metadata": {},
     "output_type": "display_data"
    },
    {
     "name": "stdout",
     "output_type": "stream",
     "text": [
      "\n",
      "Epoch: 05 | Time: 3m 5s\n",
      "Training Results - Average Loss: 0.1025 | auc/_mean: 0.9434 | auc/healthy: 0.9992 | auc/multiple_diseases: 0.7785, auc/rust: 0.9973, auc/scab: 0.9987\n",
      "Evaluating Results - Average Loss: 0.1769 | auc/_mean: 0.9172 | auc/healthy: 0.9979 | auc/multiple_diseases: 0.6747, auc/rust: 0.9986, auc/scab: 0.9974\n",
      "\n"
     ]
    },
    {
     "data": {
      "application/vnd.jupyter.widget-view+json": {
       "model_id": "68d8c0e197924154ba31b5d474ec1172",
       "version_major": 2,
       "version_minor": 0
      },
      "text/plain": [
       "HBox(children=(FloatProgress(value=0.0, description='Train', max=305.0, style=ProgressStyle(description_width=…"
      ]
     },
     "metadata": {},
     "output_type": "display_data"
    },
    {
     "name": "stdout",
     "output_type": "stream",
     "text": [
      "\n",
      "Epoch: 06 | Time: 3m 10s\n",
      "Training Results - Average Loss: 0.0865 | auc/_mean: 0.9415 | auc/healthy: 0.9990 | auc/multiple_diseases: 0.7704, auc/rust: 0.9984, auc/scab: 0.9983\n",
      "Evaluating Results - Average Loss: 0.2078 | auc/_mean: 0.9187 | auc/healthy: 0.9973 | auc/multiple_diseases: 0.6825, auc/rust: 0.9982, auc/scab: 0.9967\n",
      "\n"
     ]
    },
    {
     "data": {
      "application/vnd.jupyter.widget-view+json": {
       "model_id": "cc95fc636174418a9442dc47e258a51c",
       "version_major": 2,
       "version_minor": 0
      },
      "text/plain": [
       "HBox(children=(FloatProgress(value=0.0, description='Train', max=305.0, style=ProgressStyle(description_width=…"
      ]
     },
     "metadata": {},
     "output_type": "display_data"
    },
    {
     "name": "stdout",
     "output_type": "stream",
     "text": [
      "\n",
      "Epoch: 07 | Time: 3m 6s\n",
      "Training Results - Average Loss: 0.0699 | auc/_mean: 0.9458 | auc/healthy: 0.9996 | auc/multiple_diseases: 0.7857, auc/rust: 0.9993, auc/scab: 0.9988\n",
      "Evaluating Results - Average Loss: 0.1769 | auc/_mean: 0.9110 | auc/healthy: 0.9968 | auc/multiple_diseases: 0.6518, auc/rust: 0.9991, auc/scab: 0.9962\n",
      "\n"
     ]
    },
    {
     "data": {
      "application/vnd.jupyter.widget-view+json": {
       "model_id": "4177ccdebfdb422fa7c55eb253888c19",
       "version_major": 2,
       "version_minor": 0
      },
      "text/plain": [
       "HBox(children=(FloatProgress(value=0.0, description='Train', max=305.0, style=ProgressStyle(description_width=…"
      ]
     },
     "metadata": {},
     "output_type": "display_data"
    },
    {
     "name": "stdout",
     "output_type": "stream",
     "text": [
      "\n",
      "Epoch: 08 | Time: 3m 6s\n",
      "Training Results - Average Loss: 0.0793 | auc/_mean: 0.9432 | auc/healthy: 0.9992 | auc/multiple_diseases: 0.7761, auc/rust: 0.9990, auc/scab: 0.9984\n",
      "Evaluating Results - Average Loss: 0.1635 | auc/_mean: 0.9189 | auc/healthy: 0.9974 | auc/multiple_diseases: 0.6814, auc/rust: 0.9988, auc/scab: 0.9981\n",
      "\n"
     ]
    },
    {
     "data": {
      "application/vnd.jupyter.widget-view+json": {
       "model_id": "ca62c7c89d4e4cd490ceefcc94bfbf8b",
       "version_major": 2,
       "version_minor": 0
      },
      "text/plain": [
       "HBox(children=(FloatProgress(value=0.0, description='Train', max=305.0, style=ProgressStyle(description_width=…"
      ]
     },
     "metadata": {},
     "output_type": "display_data"
    },
    {
     "name": "stdout",
     "output_type": "stream",
     "text": [
      "\n",
      "Epoch: 09 | Time: 3m 4s\n",
      "Training Results - Average Loss: 0.0906 | auc/_mean: 0.9426 | auc/healthy: 0.9987 | auc/multiple_diseases: 0.7755, auc/rust: 0.9977, auc/scab: 0.9987\n",
      "Evaluating Results - Average Loss: 0.1796 | auc/_mean: 0.9143 | auc/healthy: 0.9968 | auc/multiple_diseases: 0.6644, auc/rust: 0.9990, auc/scab: 0.9970\n",
      "\n"
     ]
    },
    {
     "data": {
      "application/vnd.jupyter.widget-view+json": {
       "model_id": "3792f45f53264c4685d3a69cb5a58d07",
       "version_major": 2,
       "version_minor": 0
      },
      "text/plain": [
       "HBox(children=(FloatProgress(value=0.0, description='Train', max=305.0, style=ProgressStyle(description_width=…"
      ]
     },
     "metadata": {},
     "output_type": "display_data"
    },
    {
     "name": "stdout",
     "output_type": "stream",
     "text": [
      "\n",
      "Epoch: 10 | Time: 3m 4s\n",
      "Training Results - Average Loss: 0.0808 | auc/_mean: 0.9473 | auc/healthy: 0.9996 | auc/multiple_diseases: 0.7931, auc/rust: 0.9986, auc/scab: 0.9978\n",
      "Evaluating Results - Average Loss: 0.1886 | auc/_mean: 0.9232 | auc/healthy: 0.9967 | auc/multiple_diseases: 0.7009, auc/rust: 0.9981, auc/scab: 0.9970\n",
      "\n"
     ]
    },
    {
     "data": {
      "application/vnd.jupyter.widget-view+json": {
       "model_id": "ca85c09659d04d84a34275bd91f2912b",
       "version_major": 2,
       "version_minor": 0
      },
      "text/plain": [
       "HBox(children=(FloatProgress(value=0.0, description='Train', max=305.0, style=ProgressStyle(description_width=…"
      ]
     },
     "metadata": {},
     "output_type": "display_data"
    },
    {
     "name": "stdout",
     "output_type": "stream",
     "text": [
      "\n",
      "Epoch: 11 | Time: 3m 4s\n",
      "Training Results - Average Loss: 0.0764 | auc/_mean: 0.9554 | auc/healthy: 0.9995 | auc/multiple_diseases: 0.8270, auc/rust: 0.9978, auc/scab: 0.9975\n",
      "Evaluating Results - Average Loss: 0.1781 | auc/_mean: 0.9309 | auc/healthy: 0.9974 | auc/multiple_diseases: 0.7304, auc/rust: 0.9982, auc/scab: 0.9977\n",
      "\n"
     ]
    },
    {
     "data": {
      "application/vnd.jupyter.widget-view+json": {
       "model_id": "5dff226c30fa4134846ba0f4641cc702",
       "version_major": 2,
       "version_minor": 0
      },
      "text/plain": [
       "HBox(children=(FloatProgress(value=0.0, description='Train', max=305.0, style=ProgressStyle(description_width=…"
      ]
     },
     "metadata": {},
     "output_type": "display_data"
    },
    {
     "name": "stdout",
     "output_type": "stream",
     "text": [
      "\n",
      "Epoch: 12 | Time: 3m 5s\n",
      "Training Results - Average Loss: 0.0780 | auc/_mean: 0.9479 | auc/healthy: 0.9990 | auc/multiple_diseases: 0.7945, auc/rust: 0.9989, auc/scab: 0.9991\n",
      "Evaluating Results - Average Loss: 0.1755 | auc/_mean: 0.9337 | auc/healthy: 0.9980 | auc/multiple_diseases: 0.7406, auc/rust: 0.9987, auc/scab: 0.9975\n",
      "\n"
     ]
    },
    {
     "data": {
      "application/vnd.jupyter.widget-view+json": {
       "model_id": "1d4f28975d85447894ada7b2cf867e9f",
       "version_major": 2,
       "version_minor": 0
      },
      "text/plain": [
       "HBox(children=(FloatProgress(value=0.0, description='Train', max=305.0, style=ProgressStyle(description_width=…"
      ]
     },
     "metadata": {},
     "output_type": "display_data"
    },
    {
     "name": "stdout",
     "output_type": "stream",
     "text": [
      "\n",
      "Epoch: 13 | Time: 3m 4s\n",
      "Training Results - Average Loss: 0.0808 | auc/_mean: 0.9512 | auc/healthy: 0.9995 | auc/multiple_diseases: 0.8085, auc/rust: 0.9980, auc/scab: 0.9987\n",
      "Evaluating Results - Average Loss: 0.1804 | auc/_mean: 0.9307 | auc/healthy: 0.9973 | auc/multiple_diseases: 0.7289, auc/rust: 0.9988, auc/scab: 0.9977\n",
      "\n",
      "EarlyStopping\n"
     ]
    }
   ],
   "source": [
    "trainer = Trainer(model, train_dataloader, valid_dataloader, criterion, optimizer, scheduler, device, config)\n",
    "trainer.run();"
   ]
  },
  {
   "cell_type": "code",
   "execution_count": null,
   "metadata": {},
   "outputs": [],
   "source": []
  },
  {
   "cell_type": "code",
   "execution_count": null,
   "metadata": {},
   "outputs": [],
   "source": []
  },
  {
   "cell_type": "code",
   "execution_count": null,
   "metadata": {},
   "outputs": [],
   "source": []
  },
  {
   "cell_type": "code",
   "execution_count": null,
   "metadata": {},
   "outputs": [],
   "source": []
  },
  {
   "cell_type": "code",
   "execution_count": 25,
   "metadata": {},
   "outputs": [],
   "source": [
    "\n",
    "class PlantDatasetTest(Dataset):\n",
    "    \n",
    "    def __init__(self, df, config, transforms=None):\n",
    "    \n",
    "        self.df = df\n",
    "        self.images_dir = config.root_images\n",
    "        self.class_names = config.class_names\n",
    "        self.transforms=transforms\n",
    "        \n",
    "    def __len__(self):\n",
    "        return self.df.shape[0]\n",
    "    \n",
    "    def __getitem__(self, idx):\n",
    "        image_src = self.images_dir + self.df.iloc[idx]['image_id'] + '.jpg'\n",
    "        image = cv2.imread(image_src, cv2.IMREAD_COLOR)\n",
    "        image = cv2.cvtColor(image, cv2.COLOR_BGR2RGB)\n",
    "        \n",
    "        if self.transforms:\n",
    "            transformed = self.transforms(image=image)\n",
    "            image = transformed['image']\n",
    "\n",
    "        return image, idx\n",
    "\n",
    "test_df = pd.read_csv(config.root + 'test.csv')\n",
    "test_dataset = PlantDatasetTest(test_df, config, train_transforms)\n",
    "test_dataloader = DataLoader(test_dataset, batch_size=config.batch_size, shuffle=False, num_workers=config.num_workers)"
   ]
  },
  {
   "cell_type": "code",
   "execution_count": 26,
   "metadata": {},
   "outputs": [],
   "source": [
    "def predict(model, dataloader: DataLoader, device, dataset: Dataset, tta_count: int, config: ConfigExperiment):\n",
    "    n_samples = len(dataset)\n",
    "    y_probas_tta = np.zeros((n_samples, config.num_classes, tta_count), dtype=np.float32)\n",
    "    \n",
    "    model.eval()\n",
    "    model.to(device)\n",
    "    with torch.no_grad():\n",
    "        for i_epoch in tqdm(range(tta_count), desc='TTA', total=tta_count, position=1, leave=True):\n",
    "            for i, (images, idx) in enumerate(dataloader):\n",
    "                images = images.to(device)\n",
    "                outputs = model(images)\n",
    "                y_pred = F.softmax(outputs, dim=1)\n",
    "                \n",
    "                tta_index = i_epoch - 1\n",
    "                start_index = (i % len(dataloader)) * config.batch_size\n",
    "                end_index = min(start_index + config.batch_size, n_samples)\n",
    "                batch_y_probas = y_pred.detach().cpu().numpy()                \n",
    "                y_probas_tta[start_index:end_index, :, tta_index] = batch_y_probas\n",
    "\n",
    "    return y_probas_tta"
   ]
  },
  {
   "cell_type": "code",
   "execution_count": 27,
   "metadata": {},
   "outputs": [
    {
     "name": "stdout",
     "output_type": "stream",
     "text": [
      "Loaded pretrained weights for efficientnet-b5\n"
     ]
    },
    {
     "data": {
      "text/plain": [
       "<All keys matched successfully>"
      ]
     },
     "execution_count": 27,
     "metadata": {},
     "output_type": "execute_result"
    }
   ],
   "source": [
    "model = get_model(config.model_name, config.num_classes)\n",
    "model.load_state_dict(torch.load(f\"{config.save_dirname}/best_model_epoch=12_auc_mean=0.9337178937045071.pth\"))"
   ]
  },
  {
   "cell_type": "code",
   "execution_count": 28,
   "metadata": {},
   "outputs": [
    {
     "data": {
      "application/vnd.jupyter.widget-view+json": {
       "model_id": "7c7bca0206604bb3860934a01a7e9e3d",
       "version_major": 2,
       "version_minor": 0
      },
      "text/plain": [
       "HBox(children=(FloatProgress(value=0.0, description='TTA', max=5.0, style=ProgressStyle(description_width='ini…"
      ]
     },
     "metadata": {},
     "output_type": "display_data"
    },
    {
     "name": "stdout",
     "output_type": "stream",
     "text": [
      "\n"
     ]
    }
   ],
   "source": [
    "result = predict(model, test_dataloader, device, test_dataset, tta_count=5, config=config)"
   ]
  },
  {
   "cell_type": "code",
   "execution_count": 30,
   "metadata": {},
   "outputs": [],
   "source": [
    "y_probas = np.mean(result, axis=-1)"
   ]
  },
  {
   "cell_type": "code",
   "execution_count": 31,
   "metadata": {},
   "outputs": [
    {
     "data": {
      "text/plain": [
       "array([[2.47132152e-06, 9.37707070e-03, 9.90620434e-01, 5.30164748e-08],\n",
       "       [1.23882239e-06, 5.10935672e-04, 9.99487877e-01, 8.49835868e-10],\n",
       "       [1.51702261e-05, 1.70200574e-03, 1.83298141e-08, 9.98282790e-01],\n",
       "       [9.98886466e-01, 3.00522341e-04, 1.93380238e-05, 7.93727289e-04],\n",
       "       [5.18367324e-06, 1.06555652e-02, 9.89339173e-01, 9.46044878e-08],\n",
       "       [5.90220928e-01, 2.36532129e-02, 8.82808599e-05, 3.86037588e-01],\n",
       "       [9.99259174e-01, 2.16139160e-04, 1.68442239e-05, 5.07874298e-04],\n",
       "       [1.64555913e-05, 7.36436963e-01, 8.93729739e-04, 2.62652904e-01],\n",
       "       [4.84844844e-04, 2.05751527e-02, 1.05288045e-05, 9.78929520e-01],\n",
       "       [7.15310443e-06, 6.55038399e-04, 9.99337792e-01, 1.73163581e-08]],\n",
       "      dtype=float32)"
      ]
     },
     "execution_count": 31,
     "metadata": {},
     "output_type": "execute_result"
    }
   ],
   "source": [
    "y_probas[:10]"
   ]
  },
  {
   "cell_type": "code",
   "execution_count": 32,
   "metadata": {},
   "outputs": [
    {
     "data": {
      "text/html": [
       "<div>\n",
       "<style scoped>\n",
       "    .dataframe tbody tr th:only-of-type {\n",
       "        vertical-align: middle;\n",
       "    }\n",
       "\n",
       "    .dataframe tbody tr th {\n",
       "        vertical-align: top;\n",
       "    }\n",
       "\n",
       "    .dataframe thead th {\n",
       "        text-align: right;\n",
       "    }\n",
       "</style>\n",
       "<table border=\"1\" class=\"dataframe\">\n",
       "  <thead>\n",
       "    <tr style=\"text-align: right;\">\n",
       "      <th></th>\n",
       "      <th>image_id</th>\n",
       "      <th>healthy</th>\n",
       "      <th>multiple_diseases</th>\n",
       "      <th>rust</th>\n",
       "      <th>scab</th>\n",
       "    </tr>\n",
       "  </thead>\n",
       "  <tbody>\n",
       "    <tr>\n",
       "      <th>0</th>\n",
       "      <td>Test_0</td>\n",
       "      <td>0.000002</td>\n",
       "      <td>0.009377</td>\n",
       "      <td>9.906204e-01</td>\n",
       "      <td>5.301647e-08</td>\n",
       "    </tr>\n",
       "    <tr>\n",
       "      <th>1</th>\n",
       "      <td>Test_1</td>\n",
       "      <td>0.000001</td>\n",
       "      <td>0.000511</td>\n",
       "      <td>9.994879e-01</td>\n",
       "      <td>8.498359e-10</td>\n",
       "    </tr>\n",
       "    <tr>\n",
       "      <th>2</th>\n",
       "      <td>Test_2</td>\n",
       "      <td>0.000015</td>\n",
       "      <td>0.001702</td>\n",
       "      <td>1.832981e-08</td>\n",
       "      <td>9.982828e-01</td>\n",
       "    </tr>\n",
       "    <tr>\n",
       "      <th>3</th>\n",
       "      <td>Test_3</td>\n",
       "      <td>0.998886</td>\n",
       "      <td>0.000301</td>\n",
       "      <td>1.933802e-05</td>\n",
       "      <td>7.937273e-04</td>\n",
       "    </tr>\n",
       "    <tr>\n",
       "      <th>4</th>\n",
       "      <td>Test_4</td>\n",
       "      <td>0.000005</td>\n",
       "      <td>0.010656</td>\n",
       "      <td>9.893392e-01</td>\n",
       "      <td>9.460449e-08</td>\n",
       "    </tr>\n",
       "  </tbody>\n",
       "</table>\n",
       "</div>"
      ],
      "text/plain": [
       "  image_id   healthy  multiple_diseases          rust          scab\n",
       "0   Test_0  0.000002           0.009377  9.906204e-01  5.301647e-08\n",
       "1   Test_1  0.000001           0.000511  9.994879e-01  8.498359e-10\n",
       "2   Test_2  0.000015           0.001702  1.832981e-08  9.982828e-01\n",
       "3   Test_3  0.998886           0.000301  1.933802e-05  7.937273e-04\n",
       "4   Test_4  0.000005           0.010656  9.893392e-01  9.460449e-08"
      ]
     },
     "execution_count": 32,
     "metadata": {},
     "output_type": "execute_result"
    }
   ],
   "source": [
    "test_df = pd.read_csv(config.root + 'test.csv')\n",
    "test_df[\"healthy\"] = 0\n",
    "test_df[\"multiple_diseases\"] = 0\n",
    "test_df[\"rust\"] = 0\n",
    "test_df[\"scab\"] = 0\n",
    "test_df[['healthy', 'multiple_diseases', 'rust', 'scab']] = y_probas\n",
    "test_df.to_csv(config.submission_file, index=False)\n",
    "test_df.head()"
   ]
  },
  {
   "cell_type": "code",
   "execution_count": 33,
   "metadata": {},
   "outputs": [
    {
     "data": {
      "text/plain": [
       "'01_efficientnet-b5.csv'"
      ]
     },
     "execution_count": 33,
     "metadata": {},
     "output_type": "execute_result"
    }
   ],
   "source": [
    "config.submission_file"
   ]
  },
  {
   "cell_type": "code",
   "execution_count": null,
   "metadata": {},
   "outputs": [],
   "source": []
  },
  {
   "cell_type": "code",
   "execution_count": null,
   "metadata": {},
   "outputs": [],
   "source": []
  },
  {
   "cell_type": "code",
   "execution_count": null,
   "metadata": {},
   "outputs": [],
   "source": []
  },
  {
   "cell_type": "code",
   "execution_count": null,
   "metadata": {},
   "outputs": [],
   "source": []
  },
  {
   "cell_type": "code",
   "execution_count": null,
   "metadata": {},
   "outputs": [],
   "source": []
  },
  {
   "cell_type": "code",
   "execution_count": null,
   "metadata": {},
   "outputs": [],
   "source": []
  },
  {
   "cell_type": "code",
   "execution_count": null,
   "metadata": {},
   "outputs": [],
   "source": []
  },
  {
   "cell_type": "code",
   "execution_count": null,
   "metadata": {},
   "outputs": [],
   "source": []
  },
  {
   "cell_type": "code",
   "execution_count": null,
   "metadata": {},
   "outputs": [],
   "source": []
  },
  {
   "cell_type": "code",
   "execution_count": null,
   "metadata": {},
   "outputs": [],
   "source": []
  },
  {
   "cell_type": "code",
   "execution_count": null,
   "metadata": {},
   "outputs": [],
   "source": []
  },
  {
   "cell_type": "code",
   "execution_count": null,
   "metadata": {},
   "outputs": [],
   "source": []
  },
  {
   "cell_type": "code",
   "execution_count": null,
   "metadata": {},
   "outputs": [],
   "source": []
  },
  {
   "cell_type": "code",
   "execution_count": null,
   "metadata": {},
   "outputs": [],
   "source": []
  }
 ],
 "metadata": {
  "kernelspec": {
   "display_name": "Python 3",
   "language": "python",
   "name": "python3"
  },
  "language_info": {
   "codemirror_mode": {
    "name": "ipython",
    "version": 3
   },
   "file_extension": ".py",
   "mimetype": "text/x-python",
   "name": "python",
   "nbconvert_exporter": "python",
   "pygments_lexer": "ipython3",
   "version": "3.6.9"
  }
 },
 "nbformat": 4,
 "nbformat_minor": 4
}
