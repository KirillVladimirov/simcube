{
 "cells": [
  {
   "cell_type": "code",
   "execution_count": 1,
   "metadata": {},
   "outputs": [],
   "source": [
    "import warnings  \n",
    "\n",
    "import os\n",
    "import time\n",
    "import random\n",
    "import numpy as np\n",
    "import pandas as pd\n",
    "import matplotlib.pyplot as plt\n",
    "\n",
    "import albumentations as A\n",
    "from albumentations.pytorch import ToTensorV2\n",
    "import cv2\n",
    "\n",
    "import torch\n",
    "import torch.nn as nn\n",
    "import torch.nn.functional as F\n",
    "import torchvision\n",
    "import torch.optim as optim\n",
    "from torch.utils.data import Dataset, DataLoader\n",
    "from torch.utils.data.dataset import Subset\n",
    "from torch.nn.functional import softmax\n",
    "\n",
    "from efficientnet_pytorch import EfficientNet\n",
    "\n",
    "from typing import Callable, List, Tuple, Dict\n",
    "from pathlib import Path\n",
    "\n",
    "from transformers import AdamW\n",
    "from transformers import get_cosine_schedule_with_warmup\n",
    "\n",
    "from sklearn.metrics import roc_auc_score, accuracy_score\n",
    "from sklearn.model_selection import train_test_split\n",
    "from collections import defaultdict, OrderedDict\n",
    "from tqdm.notebook import tqdm\n",
    "from torchsummary import summary\n",
    "\n",
    "from fastai2.layers import LabelSmoothingCrossEntropy\n",
    "from transformers import get_cosine_schedule_with_warmup\n",
    "from transformers import AdamW\n",
    "\n",
    "import matplotlib\n",
    "matplotlib.rcParams.update({'figure.figsize': (16, 12), 'font.size': 14})\n",
    "import matplotlib.pyplot as plt\n",
    "%matplotlib inline\n",
    "from IPython.display import clear_output"
   ]
  },
  {
   "cell_type": "code",
   "execution_count": 2,
   "metadata": {},
   "outputs": [],
   "source": [
    "warnings.simplefilter(\"ignore\", UserWarning)\n",
    "warnings.simplefilter(\"ignore\", DeprecationWarning)\n",
    "warnings.filterwarnings('ignore')\n",
    "os.environ[\"PYTHONWARNINGS\"] = \"ignore\""
   ]
  },
  {
   "cell_type": "code",
   "execution_count": 3,
   "metadata": {},
   "outputs": [
    {
     "name": "stdout",
     "output_type": "stream",
     "text": [
      "Directory  02_starter_code  already exists\n"
     ]
    }
   ],
   "source": [
    "EXPERIMENT_NAME = \"02_starter_code\"\n",
    "\n",
    "class ConfigExperiment:\n",
    "    logdir = f\"./logs/{EXPERIMENT_NAME}\"\n",
    "    save_dirname = EXPERIMENT_NAME\n",
    "    submission_file = f\"{EXPERIMENT_NAME}.csv\"\n",
    "    seed = 42\n",
    "    batch_size = 32\n",
    "    model_name = 'efficientnet-b0'\n",
    "    size = 512\n",
    "    num_workers = 20\n",
    "    root_images = \"../../../data/raw/plant-pathology-2020-fgvc7/images/\"\n",
    "    root = \"../../../data/raw/plant-pathology-2020-fgvc7/\"\n",
    "    num_classes = 4\n",
    "    patience = 10\n",
    "    early_stopping_delta = 1e-4\n",
    "    num_epochs = 200\n",
    "    lr = 0.003\n",
    "    class_names = [\"healthy\", \"multiple_diseases\", \"rust\", \"scab\"]\n",
    "    is_fp16_used = False\n",
    "    \n",
    "    \n",
    "def set_seed(seed):\n",
    "    torch.manual_seed(seed)\n",
    "    torch.cuda.manual_seed_all(seed)\n",
    "    torch.backends.cudnn.deterministic = True\n",
    "    torch.backends.cudnn.benchmark = False\n",
    "    np.random.seed(seed)\n",
    "    random.seed(seed)\n",
    "    os.environ['PYTHONHASHSEED'] = str(seed)\n",
    "    \n",
    "    \n",
    "config = ConfigExperiment()\n",
    "set_seed(config.seed)\n",
    "config.size = EfficientNet.get_image_size(config.model_name)\n",
    "os.environ[\"CUDA_VISIBLE_DEVICES\"] = \"0\"\n",
    "device = \"cuda\" if torch.cuda.is_available() else \"cpu\"\n",
    "\n",
    "try:\n",
    "    # Create target Directory\n",
    "    os.mkdir(config.save_dirname)\n",
    "    print(\"Directory \" , config.save_dirname ,  \" Created \") \n",
    "except FileExistsError:\n",
    "    print(\"Directory \" , config.save_dirname ,  \" already exists\")"
   ]
  },
  {
   "cell_type": "code",
   "execution_count": 4,
   "metadata": {},
   "outputs": [],
   "source": [
    "class PlantDataset(Dataset):\n",
    "    \n",
    "    def __init__(self, df, config, transforms=None):\n",
    "    \n",
    "        self.df = df\n",
    "        self.images_dir = config.root_images\n",
    "        self.class_names = config.class_names\n",
    "        self.transforms=transforms\n",
    "        \n",
    "    def __len__(self):\n",
    "        return self.df.shape[0]\n",
    "    \n",
    "    def __getitem__(self, idx):\n",
    "        image_src = self.images_dir + self.df.iloc[idx]['image_id'] + '.jpg'\n",
    "        image = cv2.imread(image_src, cv2.IMREAD_COLOR)\n",
    "        image = cv2.cvtColor(image, cv2.COLOR_BGR2RGB)\n",
    "        labels = self.df.iloc[idx][self.class_names].values.astype(np.int8)\n",
    "        label = torch.argmax(torch.from_numpy(labels))\n",
    "        \n",
    "        if self.transforms:\n",
    "            transformed = self.transforms(image=image)\n",
    "            image = transformed['image']\n",
    "\n",
    "        return image, label"
   ]
  },
  {
   "cell_type": "code",
   "execution_count": 5,
   "metadata": {},
   "outputs": [],
   "source": [
    "def pre_transforms(image_size=224):\n",
    "    # Convert the image to a square of size image_size x image_size\n",
    "    # (keeping aspect ratio)\n",
    "    result = [\n",
    "        A.LongestMaxSize(max_size=image_size),\n",
    "        A.PadIfNeeded(image_size, image_size, border_mode=0)\n",
    "    ]\n",
    "    \n",
    "    return result\n",
    "\n",
    "def hard_transforms():\n",
    "    result = [\n",
    "        # Random shifts, stretches and turns with a 50% probability\n",
    "#         A.RandomResizedCrop(height=config.size, width=config.size, p=1.0),\n",
    "        A.OneOf([\n",
    "            A.Rotate(limit=90, p=1),\n",
    "            A.HorizontalFlip(p=1),\n",
    "            A.VerticalFlip(p=1),\n",
    "            A.OpticalDistortion(p=1),\n",
    "            A.ShiftScaleRotate(rotate_limit=90, shift_limit=0.2, scale_limit=0.1, p=1)\n",
    "        ], p=0.8),\n",
    "        \n",
    "        # Pixels\n",
    "        A.OneOf([\n",
    "            A.IAAEmboss(p=1.0),\n",
    "            A.IAASharpen(p=1.0),\n",
    "            A.Blur(p=1.0),\n",
    "        ], p=0.5),\n",
    "\n",
    "        # Affine\n",
    "        A.OneOf([\n",
    "            A.RandomContrast(limit=0.2, p=1),\n",
    "            A.ElasticTransform(p=1),\n",
    "            A.IAAPiecewiseAffine(p=1)\n",
    "        ], p=0.5),\n",
    "    ]\n",
    "    \n",
    "    return result\n",
    "\n",
    "def post_transforms():\n",
    "    # we use ImageNet image normalization\n",
    "    # and convert it to torch.Tensor\n",
    "    return [A.Normalize(p=1.0), ToTensorV2(p=1.0),]\n",
    "\n",
    "def compose(transforms_to_compose):\n",
    "    # combine all augmentations into one single pipeline\n",
    "    result = A.Compose([item for sublist in transforms_to_compose for item in sublist])\n",
    "    return result"
   ]
  },
  {
   "cell_type": "code",
   "execution_count": 6,
   "metadata": {},
   "outputs": [],
   "source": [
    "train_df = pd.read_csv(config.root + 'train.csv')\n",
    "train, valid = train_test_split(train_df, test_size=0.2, random_state=config.seed, shuffle=True, stratify=train_df[config.class_names])\n",
    "\n",
    "train_transforms = compose([\n",
    "    pre_transforms(config.size),\n",
    "    hard_transforms(), \n",
    "    post_transforms()\n",
    "])\n",
    "valid_transforms = compose([\n",
    "    pre_transforms(config.size), \n",
    "    post_transforms()\n",
    "])\n",
    "\n",
    "show_transforms = compose([\n",
    "    pre_transforms(config.size),\n",
    "    hard_transforms()\n",
    "])\n",
    "\n",
    "train_dataset = PlantDataset(train, config, train_transforms)\n",
    "valid_dataset = PlantDataset(valid, config, valid_transforms)\n",
    "\n",
    "train_dataloader = DataLoader(train_dataset, batch_size=config.batch_size, shuffle=True, num_workers=config.num_workers)\n",
    "valid_dataloader = DataLoader(valid_dataset, batch_size=config.batch_size, shuffle=False, num_workers=config.num_workers)"
   ]
  },
  {
   "cell_type": "code",
   "execution_count": 7,
   "metadata": {},
   "outputs": [
    {
     "name": "stdout",
     "output_type": "stream",
     "text": [
      "Loaded pretrained weights for efficientnet-b0\n"
     ]
    }
   ],
   "source": [
    "def get_model(model_name: str, num_classes: int, pretrained: str = \"imagenet\") -> EfficientNet:\n",
    "    model = EfficientNet.from_pretrained(model_name)\n",
    "    for param in model.parameters():\n",
    "        param.requires_grad = False\n",
    "    num_ftrs = model._fc.in_features\n",
    "    model._fc = nn.Sequential(nn.Linear(num_ftrs, num_classes, bias = True))\n",
    "    return model\n",
    "\n",
    "model = get_model(config.model_name, config.num_classes)"
   ]
  },
  {
   "cell_type": "code",
   "execution_count": 8,
   "metadata": {},
   "outputs": [],
   "source": [
    "criterion = LabelSmoothingCrossEntropy()\n",
    "optimizer = AdamW(model.parameters(), lr=config.lr, weight_decay=1e-3)\n",
    "\n",
    "num_train_steps = int(len(train_dataset) / config.batch_size * config.num_epochs)\n",
    "scheduler = get_cosine_schedule_with_warmup(optimizer, num_warmup_steps=len(train_dataset)/config.batch_size*5, num_training_steps=num_train_steps)"
   ]
  },
  {
   "cell_type": "code",
   "execution_count": 9,
   "metadata": {},
   "outputs": [],
   "source": [
    "# criterion = nn.CrossEntropyLoss()\n",
    "# optimizer = torch.optim.Adam(model.parameters(), lr=config.lr)\n",
    "# scheduler = torch.optim.lr_scheduler.ReduceLROnPlateau(optimizer, patience=3, verbose=True, mode=\"min\", factor=0.3)\n",
    "# scheduler = torch.optim.lr_scheduler.ExponentialLR(optimizer, gamma=0.8)\n",
    "\n",
    "# end_lr = 0.1\n",
    "# start_lr = 1e-7\n",
    "# lr_lambda = lambda x: math.exp(x * math.log(end_lr / start_lr) / (lr_find_epochs * len(train_dataloader)))\n",
    "# scheduler = torch.optim.lr_scheduler.LambdaLR(optimizer, lr_lambda)\n",
    "\n",
    "# scheduler_1 = LinearCyclicalScheduler(optimizer, \"lr\", start_value=0.01, end_value=0.005, cycle_size=60)\n",
    "# scheduler_2 = CosineAnnealingScheduler(optimizer, \"lr\", start_value=0.05, end_value=0.001, cycle_size=60)\n",
    "# combined_scheduler = ConcatScheduler(schedulers=[scheduler_1, scheduler_2], durations=[30, ])"
   ]
  },
  {
   "cell_type": "code",
   "execution_count": 10,
   "metadata": {},
   "outputs": [],
   "source": [
    "class Trainer:\n",
    "    def __init__(self, model, train_dataloader: DataLoader, valid_dataloader: DataLoader, criterion, optimizer, scheduler, device, config: ConfigExperiment):\n",
    "        self.model = model\n",
    "        self.train_dataloader = train_dataloader\n",
    "        self.valid_dataloader = valid_dataloader\n",
    "        self.criterion = criterion\n",
    "        self.optimizer = optimizer\n",
    "        self.scheduler = scheduler\n",
    "        self.device = device\n",
    "        self.config = config\n",
    "        self.train_metrics = {\n",
    "            'avg_loss': [],\n",
    "            'auc/_mean': [],\n",
    "            'auc/healthy': [],\n",
    "            'auc/multiple_diseases': [],\n",
    "            'auc/rust': [],\n",
    "            'auc/scab': [],\n",
    "        }\n",
    "        self.valid_metrics = {\n",
    "            'avg_loss': [],\n",
    "            'auc/_mean': [],\n",
    "            'auc/healthy': [],\n",
    "            'auc/multiple_diseases': [],\n",
    "            'auc/rust': [],\n",
    "            'auc/scab': [],\n",
    "        }\n",
    "        self.counter = 0\n",
    "        self.delta = config.early_stopping_delta\n",
    "      \n",
    "    def run(self):\n",
    "        self.model.to(device)\n",
    "        best_valid_loss = float('inf')\n",
    "        best_valid_auc_mean = 0\n",
    "\n",
    "        try:\n",
    "            for i_epoch in tqdm(range(self.config.num_epochs), desc='Epochs', total=config.num_epochs, position=1, leave=True):\n",
    "                start_time = time.time()\n",
    "\n",
    "                train_loss, train_outputs, train_targets = self._train()\n",
    "                valid_loss, valid_outputs, valid_targets = self._evaluate()\n",
    "                    \n",
    "                self.train_metrics[\"avg_loss\"].append(train_loss)\n",
    "                self.train_metrics[\"auc/_mean\"].append(self.comp_metric(train_outputs, train_targets))\n",
    "                self.train_metrics[\"auc/healthy\"].append(self.healthy_roc_auc(train_outputs, train_targets))\n",
    "                self.train_metrics[\"auc/multiple_diseases\"].append(self.multiple_diseases_roc_auc(train_outputs, train_targets))\n",
    "                self.train_metrics[\"auc/rust\"].append(self.rust_roc_auc(train_outputs, train_targets))\n",
    "                self.train_metrics[\"auc/scab\"].append(self.scab_roc_auc(train_outputs, train_targets))\n",
    "                \n",
    "                self.valid_metrics[\"avg_loss\"].append(valid_loss)\n",
    "                self.valid_metrics[\"auc/_mean\"].append(self.comp_metric(valid_outputs, valid_targets))\n",
    "                self.valid_metrics[\"auc/healthy\"].append(self.healthy_roc_auc(valid_outputs, valid_targets))\n",
    "                self.valid_metrics[\"auc/multiple_diseases\"].append(self.multiple_diseases_roc_auc(valid_outputs, valid_targets))\n",
    "                self.valid_metrics[\"auc/rust\"].append(self.rust_roc_auc(valid_outputs, valid_targets))\n",
    "                self.valid_metrics[\"auc/scab\"].append(self.scab_roc_auc(valid_outputs, valid_targets))\n",
    "                \n",
    "                end_time = time.time()\n",
    "                epoch_mins, epoch_secs = self._epoch_time(start_time, end_time)\n",
    "                self.print_progress(i_epoch, epoch_mins, epoch_secs)\n",
    "                \n",
    "                self.scheduler.step(self.valid_metrics[\"auc/_mean\"][-1])\n",
    "                \n",
    "                if valid_loss < best_valid_loss:\n",
    "                    self.counter = 0\n",
    "                    best_valid_loss = valid_loss\n",
    "                    torch.save(model.state_dict(), f\"{config.save_dirname}/best_model_epoch={i_epoch+1}_loss={best_valid_loss}.pth\")\n",
    "                else:\n",
    "                    self.counter += 1\n",
    "                    \n",
    "                if self.valid_metrics[\"auc/_mean\"][-1] > best_valid_auc_mean:\n",
    "                    best_valid_auc_mean = self.valid_metrics[\"auc/_mean\"][-1]\n",
    "                    torch.save(model.state_dict(), f\"{config.save_dirname}/best_model_epoch={i_epoch+1}_auc_mean={best_valid_auc_mean}.pth\")\n",
    "                    \n",
    "                if self.counter > self.config.patience:\n",
    "                    print(\"EarlyStopping\")\n",
    "                    break\n",
    "        except KeyboardInterrupt: \n",
    "            pass\n",
    "        \n",
    "        return self.train_metrics, self.valid_metrics\n",
    "        \n",
    "    def _train(self):\n",
    "        model.train()\n",
    "        epoch_loss = 0\n",
    "        epoch_output = None\n",
    "        epoch_target = None\n",
    "        for i, (images, labels) in tqdm(enumerate(self.train_dataloader), desc='Train', total=len(self.train_dataloader), position=2, leave=True):\n",
    "            loss_iten, outputs = self._train_process(images, labels)\n",
    "            epoch_loss += loss_iten              \n",
    "\n",
    "            if epoch_output is None:\n",
    "                epoch_output = outputs.cpu().data\n",
    "            else:\n",
    "                epoch_output = torch.cat((epoch_output, outputs.cpu().data))\n",
    "\n",
    "            if epoch_target is None:\n",
    "                epoch_target = labels.cpu().data\n",
    "            else:\n",
    "                epoch_target = torch.cat((epoch_target, labels.cpu().data))\n",
    "            \n",
    "        return epoch_loss / len(self.train_dataloader), epoch_output, epoch_target\n",
    "    \n",
    "    def _train_process(self, images, labels):\n",
    "        images = images.to(self.device)\n",
    "        labels = labels.to(self.device)\n",
    "        self.optimizer.zero_grad()\n",
    "        outputs = self.model(images)\n",
    "        loss = self.criterion(outputs, labels)\n",
    "        loss.backward()\n",
    "        self.optimizer.step()\n",
    "        return loss.item(), outputs\n",
    "            \n",
    "    def _evaluate(self):\n",
    "        model.eval()\n",
    "        epoch_loss = 0\n",
    "        epoch_output = None\n",
    "        epoch_target = None\n",
    "        with torch.no_grad():\n",
    "            for i, (images, labels) in enumerate(self.valid_dataloader):\n",
    "                images = images.to(device)\n",
    "                labels = labels.to(device)\n",
    "                outputs = model(images)\n",
    "                loss = criterion(outputs, labels)\n",
    "                epoch_loss += loss.item()\n",
    "                \n",
    "                if epoch_output is None:\n",
    "                    epoch_output = outputs.cpu().data\n",
    "                else:\n",
    "                    epoch_output = torch.cat((epoch_output, outputs.cpu().data))\n",
    "\n",
    "                if epoch_target is None:\n",
    "                    epoch_target = labels.cpu().data\n",
    "                else:\n",
    "                    epoch_target = torch.cat((epoch_target, labels.cpu().data))\n",
    "\n",
    "        return epoch_loss / len(self.valid_dataloader), epoch_output, epoch_target\n",
    "    \n",
    "#     def _evaluate_tta(self):\n",
    "#         n_samples = len(dataset)\n",
    "#         y_probas_tta = np.zeros((n_samples, config.num_classes, tta_count), dtype=np.float32)\n",
    "\n",
    "#         model.eval()\n",
    "#         model.to(device)\n",
    "#         with torch.no_grad():\n",
    "#             for i_epoch in tqdm(range(tta_count), desc='TTA', total=tta_count, position=1, leave=True):\n",
    "#                 for i, (images, idx) in enumerate(dataloader):\n",
    "#                     images = images.to(device)\n",
    "#                     outputs = model(images)\n",
    "#                     y_pred = F.softmax(outputs, dim=1)\n",
    "\n",
    "#                     tta_index = i_epoch - 1\n",
    "#                     start_index = (i % len(dataloader)) * config.batch_size\n",
    "#                     end_index = min(start_index + config.batch_size, n_samples)\n",
    "#                     batch_y_probas = y_pred.detach().cpu().numpy()                \n",
    "#                     y_probas_tta[start_index:end_index, :, tta_index] = batch_y_probas\n",
    "\n",
    "#         return y_probas_tta\n",
    "\n",
    "#     def show_history(self):\n",
    "#         fig, ax = plt.subplots(nrows=1, ncols=2, figsize=(12, 8))\n",
    "#         clear_output(True)\n",
    "#         ax[0].plot(history, label='train loss')\n",
    "#         ax[0].set_xlabel('Batch')\n",
    "#         ax[0].set_title('Train loss')\n",
    "#         if train_history is not None:\n",
    "#             ax[1].plot(train_history, label='general train history')\n",
    "#             ax[1].set_xlabel('Epoch')\n",
    "#         if valid_history is not None:\n",
    "#             ax[1].plot(valid_history, label='general valid history')\n",
    "#         plt.legend()\n",
    "#         plt.show()\n",
    "\n",
    "    \n",
    "    def _epoch_time(self, start_time, end_time):\n",
    "        elapsed_time = end_time - start_time\n",
    "        elapsed_mins = int(elapsed_time / 60)\n",
    "        elapsed_secs = int(elapsed_time - (elapsed_mins * 60))\n",
    "        return elapsed_mins, elapsed_secs\n",
    "\n",
    "    def print_progress(self, i_epoch, epoch_mins, epoch_secs):\n",
    "        i_epoch = i_epoch + 1\n",
    "        print(f\"Epoch: {i_epoch:02} | Time: {epoch_mins}m {epoch_secs}s\")\n",
    "        print(\"Training Results - Average Loss: {:.4f} | auc/_mean: {:.4f} | auc/healthy: {:.4f} | auc/multiple_diseases: {:.4f}, auc/rust: {:.4f}, auc/scab: {:.4f}\"\n",
    "            .format(\n",
    "                self.train_metrics['avg_loss'][-1], \n",
    "                self.train_metrics['auc/_mean'][-1],\n",
    "                self.train_metrics['auc/healthy'][-1],\n",
    "                self.train_metrics['auc/multiple_diseases'][-1],\n",
    "                self.train_metrics['auc/rust'][-1],\n",
    "                self.train_metrics['auc/scab'][-1],\n",
    "            ))\n",
    "        print(\"Evaluating Results - Average Loss: {:.4f} | auc/_mean: {:.4f} | auc/healthy: {:.4f} | auc/multiple_diseases: {:.4f}, auc/rust: {:.4f}, auc/scab: {:.4f}\"\n",
    "            .format( \n",
    "                self.valid_metrics['avg_loss'][-1], \n",
    "                self.valid_metrics['auc/_mean'][-1],\n",
    "                self.valid_metrics['auc/healthy'][-1],\n",
    "                self.valid_metrics['auc/multiple_diseases'][-1],\n",
    "                self.valid_metrics['auc/rust'][-1],\n",
    "                self.valid_metrics['auc/scab'][-1],\n",
    "            ))\n",
    "        print()\n",
    "        \n",
    "    def comp_metric(self, preds, targs, labels=range(4)):\n",
    "        preds = torch.sigmoid(preds)\n",
    "        targs = torch.eye(4)[targs]\n",
    "        return np.mean([roc_auc_score(targs[:,i], preds[:,i]) for i in labels])\n",
    "\n",
    "    def healthy_roc_auc(self, *args):\n",
    "        return self.comp_metric(*args, labels=[0])\n",
    "\n",
    "    def multiple_diseases_roc_auc(self, *args):\n",
    "        return self.comp_metric(*args, labels=[1])\n",
    "\n",
    "    def rust_roc_auc(self, *args):\n",
    "        return self.comp_metric(*args, labels=[2])\n",
    "\n",
    "    def scab_roc_auc(self, *args):\n",
    "        return self.comp_metric(*args, labels=[3])\n",
    "\n"
   ]
  },
  {
   "cell_type": "code",
   "execution_count": 12,
   "metadata": {
    "collapsed": true,
    "jupyter": {
     "outputs_hidden": true
    }
   },
   "outputs": [
    {
     "data": {
      "application/vnd.jupyter.widget-view+json": {
       "model_id": "68c8a42dba17490e9415bc8304b4f9de",
       "version_major": 2,
       "version_minor": 0
      },
      "text/plain": [
       "HBox(children=(FloatProgress(value=0.0, description='Epochs', max=50.0, style=ProgressStyle(description_width=…"
      ]
     },
     "metadata": {},
     "output_type": "display_data"
    },
    {
     "data": {
      "application/vnd.jupyter.widget-view+json": {
       "model_id": "7d6b13998889472ca0fd7b5d1b426edc",
       "version_major": 2,
       "version_minor": 0
      },
      "text/plain": [
       "HBox(children=(FloatProgress(value=0.0, description='Train', max=46.0, style=ProgressStyle(description_width='…"
      ]
     },
     "metadata": {},
     "output_type": "display_data"
    },
    {
     "name": "stdout",
     "output_type": "stream",
     "text": [
      "\n",
      "Epoch: 01 | Time: 0m 14s\n",
      "Training Results - Average Loss: 1.3997 | auc/_mean: 0.4781 | auc/healthy: 0.4465 | auc/multiple_diseases: 0.4846, auc/rust: 0.4743, auc/scab: 0.5072\n",
      "Evaluating Results - Average Loss: 1.3781 | auc/_mean: 0.4590 | auc/healthy: 0.5229 | auc/multiple_diseases: 0.5535, auc/rust: 0.3128, auc/scab: 0.4469\n",
      "\n"
     ]
    },
    {
     "data": {
      "application/vnd.jupyter.widget-view+json": {
       "model_id": "f20e7ff3fb184222b2dc3383e7d9c204",
       "version_major": 2,
       "version_minor": 0
      },
      "text/plain": [
       "HBox(children=(FloatProgress(value=0.0, description='Train', max=46.0, style=ProgressStyle(description_width='…"
      ]
     },
     "metadata": {},
     "output_type": "display_data"
    },
    {
     "name": "stdout",
     "output_type": "stream",
     "text": [
      "\n",
      "Epoch: 02 | Time: 0m 13s\n",
      "Training Results - Average Loss: 1.4012 | auc/_mean: 0.4767 | auc/healthy: 0.4488 | auc/multiple_diseases: 0.5195, auc/rust: 0.4339, auc/scab: 0.5044\n",
      "Evaluating Results - Average Loss: 1.3748 | auc/_mean: 0.4555 | auc/healthy: 0.4641 | auc/multiple_diseases: 0.5548, auc/rust: 0.3485, auc/scab: 0.4546\n",
      "\n"
     ]
    },
    {
     "data": {
      "application/vnd.jupyter.widget-view+json": {
       "model_id": "336ad57f52e8495aa1f32847560b2a6e",
       "version_major": 2,
       "version_minor": 0
      },
      "text/plain": [
       "HBox(children=(FloatProgress(value=0.0, description='Train', max=46.0, style=ProgressStyle(description_width='…"
      ]
     },
     "metadata": {},
     "output_type": "display_data"
    },
    {
     "name": "stdout",
     "output_type": "stream",
     "text": [
      "\n",
      "Epoch: 03 | Time: 0m 14s\n",
      "Training Results - Average Loss: 1.3841 | auc/_mean: 0.4974 | auc/healthy: 0.4902 | auc/multiple_diseases: 0.5232, auc/rust: 0.4574, auc/scab: 0.5187\n",
      "Evaluating Results - Average Loss: 1.3698 | auc/_mean: 0.4490 | auc/healthy: 0.4113 | auc/multiple_diseases: 0.5053, auc/rust: 0.3858, auc/scab: 0.4937\n",
      "\n"
     ]
    },
    {
     "data": {
      "application/vnd.jupyter.widget-view+json": {
       "model_id": "b25646a29453415dba2c28212f57c384",
       "version_major": 2,
       "version_minor": 0
      },
      "text/plain": [
       "HBox(children=(FloatProgress(value=0.0, description='Train', max=46.0, style=ProgressStyle(description_width='…"
      ]
     },
     "metadata": {},
     "output_type": "display_data"
    },
    {
     "name": "stdout",
     "output_type": "stream",
     "text": [
      "\n",
      "Epoch: 04 | Time: 0m 14s\n",
      "Training Results - Average Loss: 1.3705 | auc/_mean: 0.4975 | auc/healthy: 0.4697 | auc/multiple_diseases: 0.4649, auc/rust: 0.5183, auc/scab: 0.5371\n",
      "Evaluating Results - Average Loss: 1.3612 | auc/_mean: 0.4505 | auc/healthy: 0.3978 | auc/multiple_diseases: 0.4488, auc/rust: 0.4164, auc/scab: 0.5392\n",
      "\n"
     ]
    },
    {
     "data": {
      "application/vnd.jupyter.widget-view+json": {
       "model_id": "fd0a8bc1c7274e778ac14f156e786bdc",
       "version_major": 2,
       "version_minor": 0
      },
      "text/plain": [
       "HBox(children=(FloatProgress(value=0.0, description='Train', max=46.0, style=ProgressStyle(description_width='…"
      ]
     },
     "metadata": {},
     "output_type": "display_data"
    },
    {
     "name": "stdout",
     "output_type": "stream",
     "text": [
      "\n",
      "Epoch: 05 | Time: 0m 14s\n",
      "Training Results - Average Loss: 1.3666 | auc/_mean: 0.4999 | auc/healthy: 0.5004 | auc/multiple_diseases: 0.4860, auc/rust: 0.4763, auc/scab: 0.5368\n",
      "Evaluating Results - Average Loss: 1.3497 | auc/_mean: 0.4656 | auc/healthy: 0.4149 | auc/multiple_diseases: 0.4256, auc/rust: 0.4505, auc/scab: 0.5716\n",
      "\n"
     ]
    },
    {
     "data": {
      "application/vnd.jupyter.widget-view+json": {
       "model_id": "1dab99a7b0e348b99821c620e23e2bb5",
       "version_major": 2,
       "version_minor": 0
      },
      "text/plain": [
       "HBox(children=(FloatProgress(value=0.0, description='Train', max=46.0, style=ProgressStyle(description_width='…"
      ]
     },
     "metadata": {},
     "output_type": "display_data"
    },
    {
     "name": "stdout",
     "output_type": "stream",
     "text": [
      "\n",
      "Epoch: 06 | Time: 0m 14s\n",
      "Training Results - Average Loss: 1.3607 | auc/_mean: 0.5027 | auc/healthy: 0.4882 | auc/multiple_diseases: 0.5159, auc/rust: 0.4686, auc/scab: 0.5383\n",
      "Evaluating Results - Average Loss: 1.3385 | auc/_mean: 0.4830 | auc/healthy: 0.4296 | auc/multiple_diseases: 0.4222, auc/rust: 0.4797, auc/scab: 0.6005\n",
      "\n"
     ]
    },
    {
     "data": {
      "application/vnd.jupyter.widget-view+json": {
       "model_id": "436e4f4963404d24af5af49fb907c0c8",
       "version_major": 2,
       "version_minor": 0
      },
      "text/plain": [
       "HBox(children=(FloatProgress(value=0.0, description='Train', max=46.0, style=ProgressStyle(description_width='…"
      ]
     },
     "metadata": {},
     "output_type": "display_data"
    },
    {
     "name": "stdout",
     "output_type": "stream",
     "text": [
      "\n",
      "Epoch: 07 | Time: 0m 13s\n",
      "Training Results - Average Loss: 1.3570 | auc/_mean: 0.4982 | auc/healthy: 0.4984 | auc/multiple_diseases: 0.4855, auc/rust: 0.4828, auc/scab: 0.5261\n",
      "Evaluating Results - Average Loss: 1.3288 | auc/_mean: 0.4965 | auc/healthy: 0.4439 | auc/multiple_diseases: 0.4224, auc/rust: 0.5003, auc/scab: 0.6194\n",
      "\n"
     ]
    },
    {
     "data": {
      "application/vnd.jupyter.widget-view+json": {
       "model_id": "132897510604435091bb64e1bf668cf4",
       "version_major": 2,
       "version_minor": 0
      },
      "text/plain": [
       "HBox(children=(FloatProgress(value=0.0, description='Train', max=46.0, style=ProgressStyle(description_width='…"
      ]
     },
     "metadata": {},
     "output_type": "display_data"
    },
    {
     "name": "stdout",
     "output_type": "stream",
     "text": [
      "\n",
      "Epoch: 08 | Time: 0m 14s\n",
      "Training Results - Average Loss: 1.3443 | auc/_mean: 0.5222 | auc/healthy: 0.5332 | auc/multiple_diseases: 0.5215, auc/rust: 0.4813, auc/scab: 0.5528\n",
      "Evaluating Results - Average Loss: 1.3201 | auc/_mean: 0.5055 | auc/healthy: 0.4543 | auc/multiple_diseases: 0.4191, auc/rust: 0.5169, auc/scab: 0.6318\n",
      "\n"
     ]
    },
    {
     "data": {
      "application/vnd.jupyter.widget-view+json": {
       "model_id": "3730cf84869541b5a2d3789ec227918c",
       "version_major": 2,
       "version_minor": 0
      },
      "text/plain": [
       "HBox(children=(FloatProgress(value=0.0, description='Train', max=46.0, style=ProgressStyle(description_width='…"
      ]
     },
     "metadata": {},
     "output_type": "display_data"
    },
    {
     "name": "stdout",
     "output_type": "stream",
     "text": [
      "\n",
      "Epoch: 09 | Time: 0m 13s\n",
      "Training Results - Average Loss: 1.3372 | auc/_mean: 0.5360 | auc/healthy: 0.5071 | auc/multiple_diseases: 0.5798, auc/rust: 0.5038, auc/scab: 0.5534\n",
      "Evaluating Results - Average Loss: 1.3126 | auc/_mean: 0.5115 | auc/healthy: 0.4630 | auc/multiple_diseases: 0.4127, auc/rust: 0.5301, auc/scab: 0.6402\n",
      "\n"
     ]
    },
    {
     "data": {
      "application/vnd.jupyter.widget-view+json": {
       "model_id": "59c7a5780f2543cd89e9b2fab21cc705",
       "version_major": 2,
       "version_minor": 0
      },
      "text/plain": [
       "HBox(children=(FloatProgress(value=0.0, description='Train', max=46.0, style=ProgressStyle(description_width='…"
      ]
     },
     "metadata": {},
     "output_type": "display_data"
    },
    {
     "name": "stdout",
     "output_type": "stream",
     "text": [
      "\n",
      "Epoch: 10 | Time: 0m 14s\n",
      "Training Results - Average Loss: 1.3354 | auc/_mean: 0.5136 | auc/healthy: 0.4882 | auc/multiple_diseases: 0.4983, auc/rust: 0.5128, auc/scab: 0.5550\n",
      "Evaluating Results - Average Loss: 1.3058 | auc/_mean: 0.5178 | auc/healthy: 0.4725 | auc/multiple_diseases: 0.4052, auc/rust: 0.5423, auc/scab: 0.6511\n",
      "\n"
     ]
    },
    {
     "data": {
      "application/vnd.jupyter.widget-view+json": {
       "model_id": "bb34fb992fc14319a9e3226bfb1fcb52",
       "version_major": 2,
       "version_minor": 0
      },
      "text/plain": [
       "HBox(children=(FloatProgress(value=0.0, description='Train', max=46.0, style=ProgressStyle(description_width='…"
      ]
     },
     "metadata": {},
     "output_type": "display_data"
    },
    {
     "name": "stdout",
     "output_type": "stream",
     "text": [
      "\n",
      "Epoch: 11 | Time: 0m 14s\n",
      "Training Results - Average Loss: 1.3319 | auc/_mean: 0.5016 | auc/healthy: 0.5226 | auc/multiple_diseases: 0.4355, auc/rust: 0.5090, auc/scab: 0.5394\n",
      "Evaluating Results - Average Loss: 1.2994 | auc/_mean: 0.5252 | auc/healthy: 0.4793 | auc/multiple_diseases: 0.4038, auc/rust: 0.5541, auc/scab: 0.6637\n",
      "\n"
     ]
    },
    {
     "data": {
      "application/vnd.jupyter.widget-view+json": {
       "model_id": "6b8240bea27b42f8b28bf7aa1dda06b8",
       "version_major": 2,
       "version_minor": 0
      },
      "text/plain": [
       "HBox(children=(FloatProgress(value=0.0, description='Train', max=46.0, style=ProgressStyle(description_width='…"
      ]
     },
     "metadata": {},
     "output_type": "display_data"
    },
    {
     "name": "stdout",
     "output_type": "stream",
     "text": [
      "\n",
      "Epoch: 12 | Time: 0m 14s\n",
      "Training Results - Average Loss: 1.3209 | auc/_mean: 0.5327 | auc/healthy: 0.5042 | auc/multiple_diseases: 0.5177, auc/rust: 0.5202, auc/scab: 0.5886\n",
      "Evaluating Results - Average Loss: 1.2932 | auc/_mean: 0.5321 | auc/healthy: 0.4886 | auc/multiple_diseases: 0.4019, auc/rust: 0.5647, auc/scab: 0.6731\n",
      "\n"
     ]
    },
    {
     "data": {
      "application/vnd.jupyter.widget-view+json": {
       "model_id": "8b060eba37d34d3b8ae9da9842400518",
       "version_major": 2,
       "version_minor": 0
      },
      "text/plain": [
       "HBox(children=(FloatProgress(value=0.0, description='Train', max=46.0, style=ProgressStyle(description_width='…"
      ]
     },
     "metadata": {},
     "output_type": "display_data"
    },
    {
     "name": "stdout",
     "output_type": "stream",
     "text": [
      "\n",
      "Epoch: 13 | Time: 0m 14s\n",
      "Training Results - Average Loss: 1.3099 | auc/_mean: 0.5467 | auc/healthy: 0.5302 | auc/multiple_diseases: 0.5155, auc/rust: 0.5645, auc/scab: 0.5766\n",
      "Evaluating Results - Average Loss: 1.2871 | auc/_mean: 0.5381 | auc/healthy: 0.4977 | auc/multiple_diseases: 0.3995, auc/rust: 0.5757, auc/scab: 0.6797\n",
      "\n"
     ]
    },
    {
     "data": {
      "application/vnd.jupyter.widget-view+json": {
       "model_id": "0f45b96eb5434fc6826d5b4bf92f3ed6",
       "version_major": 2,
       "version_minor": 0
      },
      "text/plain": [
       "HBox(children=(FloatProgress(value=0.0, description='Train', max=46.0, style=ProgressStyle(description_width='…"
      ]
     },
     "metadata": {},
     "output_type": "display_data"
    },
    {
     "name": "stdout",
     "output_type": "stream",
     "text": [
      "\n",
      "Epoch: 14 | Time: 0m 13s\n",
      "Training Results - Average Loss: 1.3141 | auc/_mean: 0.5253 | auc/healthy: 0.4967 | auc/multiple_diseases: 0.4925, auc/rust: 0.5383, auc/scab: 0.5735\n",
      "Evaluating Results - Average Loss: 1.2808 | auc/_mean: 0.5464 | auc/healthy: 0.5075 | auc/multiple_diseases: 0.4015, auc/rust: 0.5867, auc/scab: 0.6897\n",
      "\n"
     ]
    },
    {
     "data": {
      "application/vnd.jupyter.widget-view+json": {
       "model_id": "8df919a90c714028b90d31df6f8f60c5",
       "version_major": 2,
       "version_minor": 0
      },
      "text/plain": [
       "HBox(children=(FloatProgress(value=0.0, description='Train', max=46.0, style=ProgressStyle(description_width='…"
      ]
     },
     "metadata": {},
     "output_type": "display_data"
    },
    {
     "name": "stdout",
     "output_type": "stream",
     "text": [
      "\n",
      "Epoch: 15 | Time: 0m 14s\n",
      "Training Results - Average Loss: 1.3099 | auc/_mean: 0.5245 | auc/healthy: 0.5382 | auc/multiple_diseases: 0.4454, auc/rust: 0.5419, auc/scab: 0.5723\n",
      "Evaluating Results - Average Loss: 1.2758 | auc/_mean: 0.5518 | auc/healthy: 0.5143 | auc/multiple_diseases: 0.3983, auc/rust: 0.5964, auc/scab: 0.6983\n",
      "\n"
     ]
    },
    {
     "data": {
      "application/vnd.jupyter.widget-view+json": {
       "model_id": "c4fb36b0c5ee4fc3a00e4313ce6cb222",
       "version_major": 2,
       "version_minor": 0
      },
      "text/plain": [
       "HBox(children=(FloatProgress(value=0.0, description='Train', max=46.0, style=ProgressStyle(description_width='…"
      ]
     },
     "metadata": {},
     "output_type": "display_data"
    },
    {
     "name": "stdout",
     "output_type": "stream",
     "text": [
      "\n",
      "Epoch: 16 | Time: 0m 14s\n",
      "Training Results - Average Loss: 1.2971 | auc/_mean: 0.5563 | auc/healthy: 0.5461 | auc/multiple_diseases: 0.4958, auc/rust: 0.5678, auc/scab: 0.6153\n",
      "Evaluating Results - Average Loss: 1.2705 | auc/_mean: 0.5593 | auc/healthy: 0.5215 | auc/multiple_diseases: 0.4007, auc/rust: 0.6090, auc/scab: 0.7060\n",
      "\n"
     ]
    },
    {
     "data": {
      "application/vnd.jupyter.widget-view+json": {
       "model_id": "8198d8c3fae24d6e960210d950620cad",
       "version_major": 2,
       "version_minor": 0
      },
      "text/plain": [
       "HBox(children=(FloatProgress(value=0.0, description='Train', max=46.0, style=ProgressStyle(description_width='…"
      ]
     },
     "metadata": {},
     "output_type": "display_data"
    },
    {
     "name": "stdout",
     "output_type": "stream",
     "text": [
      "\n",
      "Epoch: 17 | Time: 0m 14s\n",
      "Training Results - Average Loss: 1.2942 | auc/_mean: 0.5633 | auc/healthy: 0.5532 | auc/multiple_diseases: 0.5170, auc/rust: 0.5753, auc/scab: 0.6076\n",
      "Evaluating Results - Average Loss: 1.2657 | auc/_mean: 0.5656 | auc/healthy: 0.5312 | auc/multiple_diseases: 0.3993, auc/rust: 0.6169, auc/scab: 0.7149\n",
      "\n"
     ]
    },
    {
     "data": {
      "application/vnd.jupyter.widget-view+json": {
       "model_id": "43a9bfe2128b4e9680ad0a53f6b305b6",
       "version_major": 2,
       "version_minor": 0
      },
      "text/plain": [
       "HBox(children=(FloatProgress(value=0.0, description='Train', max=46.0, style=ProgressStyle(description_width='…"
      ]
     },
     "metadata": {},
     "output_type": "display_data"
    },
    {
     "name": "stdout",
     "output_type": "stream",
     "text": [
      "\n",
      "Epoch: 18 | Time: 0m 14s\n",
      "Training Results - Average Loss: 1.2883 | auc/_mean: 0.5636 | auc/healthy: 0.5449 | auc/multiple_diseases: 0.5109, auc/rust: 0.5867, auc/scab: 0.6118\n",
      "Evaluating Results - Average Loss: 1.2609 | auc/_mean: 0.5717 | auc/healthy: 0.5388 | auc/multiple_diseases: 0.3980, auc/rust: 0.6267, auc/scab: 0.7231\n",
      "\n"
     ]
    },
    {
     "data": {
      "application/vnd.jupyter.widget-view+json": {
       "model_id": "88de964acd1d47faaa116e67ee37c6da",
       "version_major": 2,
       "version_minor": 0
      },
      "text/plain": [
       "HBox(children=(FloatProgress(value=0.0, description='Train', max=46.0, style=ProgressStyle(description_width='…"
      ]
     },
     "metadata": {},
     "output_type": "display_data"
    },
    {
     "name": "stdout",
     "output_type": "stream",
     "text": [
      "\n",
      "Epoch: 19 | Time: 0m 14s\n",
      "Training Results - Average Loss: 1.2953 | auc/_mean: 0.5366 | auc/healthy: 0.5411 | auc/multiple_diseases: 0.4479, auc/rust: 0.5513, auc/scab: 0.6061\n",
      "Evaluating Results - Average Loss: 1.2565 | auc/_mean: 0.5778 | auc/healthy: 0.5447 | auc/multiple_diseases: 0.3991, auc/rust: 0.6365, auc/scab: 0.7307\n",
      "\n"
     ]
    },
    {
     "data": {
      "application/vnd.jupyter.widget-view+json": {
       "model_id": "7470491258a84c2d99e941e34952719f",
       "version_major": 2,
       "version_minor": 0
      },
      "text/plain": [
       "HBox(children=(FloatProgress(value=0.0, description='Train', max=46.0, style=ProgressStyle(description_width='…"
      ]
     },
     "metadata": {},
     "output_type": "display_data"
    },
    {
     "name": "stdout",
     "output_type": "stream",
     "text": [
      "\n",
      "Epoch: 20 | Time: 0m 14s\n",
      "Training Results - Average Loss: 1.2753 | auc/_mean: 0.5880 | auc/healthy: 0.5446 | auc/multiple_diseases: 0.5570, auc/rust: 0.5879, auc/scab: 0.6626\n",
      "Evaluating Results - Average Loss: 1.2523 | auc/_mean: 0.5834 | auc/healthy: 0.5529 | auc/multiple_diseases: 0.3983, auc/rust: 0.6434, auc/scab: 0.7389\n",
      "\n"
     ]
    },
    {
     "data": {
      "application/vnd.jupyter.widget-view+json": {
       "model_id": "1571ce438f154b118e37e0741f188815",
       "version_major": 2,
       "version_minor": 0
      },
      "text/plain": [
       "HBox(children=(FloatProgress(value=0.0, description='Train', max=46.0, style=ProgressStyle(description_width='…"
      ]
     },
     "metadata": {},
     "output_type": "display_data"
    },
    {
     "name": "stdout",
     "output_type": "stream",
     "text": [
      "\n",
      "Epoch: 21 | Time: 0m 14s\n",
      "Training Results - Average Loss: 1.2856 | auc/_mean: 0.5619 | auc/healthy: 0.5640 | auc/multiple_diseases: 0.5244, auc/rust: 0.5695, auc/scab: 0.5895\n",
      "Evaluating Results - Average Loss: 1.2477 | auc/_mean: 0.5903 | auc/healthy: 0.5626 | auc/multiple_diseases: 0.3990, auc/rust: 0.6529, auc/scab: 0.7469\n",
      "\n"
     ]
    },
    {
     "data": {
      "application/vnd.jupyter.widget-view+json": {
       "model_id": "2be1c201a6284c809ca20c81d693f8e5",
       "version_major": 2,
       "version_minor": 0
      },
      "text/plain": [
       "HBox(children=(FloatProgress(value=0.0, description='Train', max=46.0, style=ProgressStyle(description_width='…"
      ]
     },
     "metadata": {},
     "output_type": "display_data"
    },
    {
     "name": "stdout",
     "output_type": "stream",
     "text": [
      "\n",
      "Epoch: 22 | Time: 0m 13s\n",
      "Training Results - Average Loss: 1.2706 | auc/_mean: 0.5960 | auc/healthy: 0.5837 | auc/multiple_diseases: 0.5702, auc/rust: 0.6039, auc/scab: 0.6263\n",
      "Evaluating Results - Average Loss: 1.2425 | auc/_mean: 0.5950 | auc/healthy: 0.5691 | auc/multiple_diseases: 0.3945, auc/rust: 0.6633, auc/scab: 0.7529\n",
      "\n"
     ]
    },
    {
     "data": {
      "application/vnd.jupyter.widget-view+json": {
       "model_id": "017d57463a144b5b860714a001ea1a6a",
       "version_major": 2,
       "version_minor": 0
      },
      "text/plain": [
       "HBox(children=(FloatProgress(value=0.0, description='Train', max=46.0, style=ProgressStyle(description_width='…"
      ]
     },
     "metadata": {},
     "output_type": "display_data"
    },
    {
     "name": "stdout",
     "output_type": "stream",
     "text": [
      "\n",
      "Epoch: 23 | Time: 0m 13s\n",
      "Training Results - Average Loss: 1.2747 | auc/_mean: 0.5758 | auc/healthy: 0.5507 | auc/multiple_diseases: 0.4953, auc/rust: 0.6026, auc/scab: 0.6547\n",
      "Evaluating Results - Average Loss: 1.2378 | auc/_mean: 0.6015 | auc/healthy: 0.5779 | auc/multiple_diseases: 0.3945, auc/rust: 0.6744, auc/scab: 0.7594\n",
      "\n"
     ]
    },
    {
     "data": {
      "application/vnd.jupyter.widget-view+json": {
       "model_id": "35ba14c089db489c9ce05f2063793f14",
       "version_major": 2,
       "version_minor": 0
      },
      "text/plain": [
       "HBox(children=(FloatProgress(value=0.0, description='Train', max=46.0, style=ProgressStyle(description_width='…"
      ]
     },
     "metadata": {},
     "output_type": "display_data"
    },
    {
     "name": "stdout",
     "output_type": "stream",
     "text": [
      "\n",
      "Epoch: 24 | Time: 0m 13s\n",
      "Training Results - Average Loss: 1.2683 | auc/_mean: 0.5869 | auc/healthy: 0.5577 | auc/multiple_diseases: 0.5165, auc/rust: 0.6201, auc/scab: 0.6534\n",
      "Evaluating Results - Average Loss: 1.2337 | auc/_mean: 0.6081 | auc/healthy: 0.5863 | auc/multiple_diseases: 0.3953, auc/rust: 0.6834, auc/scab: 0.7673\n",
      "\n"
     ]
    },
    {
     "data": {
      "application/vnd.jupyter.widget-view+json": {
       "model_id": "17e19b6829c94b968259e84995bf4f50",
       "version_major": 2,
       "version_minor": 0
      },
      "text/plain": [
       "HBox(children=(FloatProgress(value=0.0, description='Train', max=46.0, style=ProgressStyle(description_width='…"
      ]
     },
     "metadata": {},
     "output_type": "display_data"
    },
    {
     "name": "stdout",
     "output_type": "stream",
     "text": [
      "\n",
      "Epoch: 25 | Time: 0m 14s\n",
      "Training Results - Average Loss: 1.2670 | auc/_mean: 0.5821 | auc/healthy: 0.5735 | auc/multiple_diseases: 0.4999, auc/rust: 0.6252, auc/scab: 0.6297\n",
      "Evaluating Results - Average Loss: 1.2302 | auc/_mean: 0.6128 | auc/healthy: 0.5939 | auc/multiple_diseases: 0.3916, auc/rust: 0.6919, auc/scab: 0.7737\n",
      "\n"
     ]
    },
    {
     "data": {
      "application/vnd.jupyter.widget-view+json": {
       "model_id": "de16ccb1b4584e42af578420c6799ece",
       "version_major": 2,
       "version_minor": 0
      },
      "text/plain": [
       "HBox(children=(FloatProgress(value=0.0, description='Train', max=46.0, style=ProgressStyle(description_width='…"
      ]
     },
     "metadata": {},
     "output_type": "display_data"
    },
    {
     "name": "stdout",
     "output_type": "stream",
     "text": [
      "\n",
      "Epoch: 26 | Time: 0m 14s\n",
      "Training Results - Average Loss: 1.2643 | auc/_mean: 0.5923 | auc/healthy: 0.5873 | auc/multiple_diseases: 0.5299, auc/rust: 0.6041, auc/scab: 0.6479\n",
      "Evaluating Results - Average Loss: 1.2260 | auc/_mean: 0.6182 | auc/healthy: 0.6023 | auc/multiple_diseases: 0.3913, auc/rust: 0.7014, auc/scab: 0.7776\n",
      "\n"
     ]
    },
    {
     "data": {
      "application/vnd.jupyter.widget-view+json": {
       "model_id": "e3b5c074eb8648dea412555fa333504b",
       "version_major": 2,
       "version_minor": 0
      },
      "text/plain": [
       "HBox(children=(FloatProgress(value=0.0, description='Train', max=46.0, style=ProgressStyle(description_width='…"
      ]
     },
     "metadata": {},
     "output_type": "display_data"
    },
    {
     "name": "stdout",
     "output_type": "stream",
     "text": [
      "\n",
      "Epoch: 27 | Time: 0m 14s\n",
      "Training Results - Average Loss: 1.2612 | auc/_mean: 0.5902 | auc/healthy: 0.5848 | auc/multiple_diseases: 0.4957, auc/rust: 0.6201, auc/scab: 0.6601\n",
      "Evaluating Results - Average Loss: 1.2219 | auc/_mean: 0.6240 | auc/healthy: 0.6090 | auc/multiple_diseases: 0.3945, auc/rust: 0.7094, auc/scab: 0.7830\n",
      "\n"
     ]
    },
    {
     "data": {
      "application/vnd.jupyter.widget-view+json": {
       "model_id": "e2c7450ac65540ce8141bb3a9ae646e3",
       "version_major": 2,
       "version_minor": 0
      },
      "text/plain": [
       "HBox(children=(FloatProgress(value=0.0, description='Train', max=46.0, style=ProgressStyle(description_width='…"
      ]
     },
     "metadata": {},
     "output_type": "display_data"
    },
    {
     "name": "stdout",
     "output_type": "stream",
     "text": [
      "\n",
      "Epoch: 28 | Time: 0m 14s\n",
      "Training Results - Average Loss: 1.2515 | auc/_mean: 0.6175 | auc/healthy: 0.6018 | auc/multiple_diseases: 0.5388, auc/rust: 0.6607, auc/scab: 0.6687\n",
      "Evaluating Results - Average Loss: 1.2191 | auc/_mean: 0.6272 | auc/healthy: 0.6153 | auc/multiple_diseases: 0.3907, auc/rust: 0.7154, auc/scab: 0.7873\n",
      "\n"
     ]
    },
    {
     "data": {
      "application/vnd.jupyter.widget-view+json": {
       "model_id": "e0904386b0a14dcbb0817b3a590f02d9",
       "version_major": 2,
       "version_minor": 0
      },
      "text/plain": [
       "HBox(children=(FloatProgress(value=0.0, description='Train', max=46.0, style=ProgressStyle(description_width='…"
      ]
     },
     "metadata": {},
     "output_type": "display_data"
    },
    {
     "name": "stdout",
     "output_type": "stream",
     "text": [
      "\n",
      "Epoch: 29 | Time: 0m 14s\n",
      "Training Results - Average Loss: 1.2578 | auc/_mean: 0.5989 | auc/healthy: 0.5831 | auc/multiple_diseases: 0.5284, auc/rust: 0.6135, auc/scab: 0.6705\n",
      "Evaluating Results - Average Loss: 1.2144 | auc/_mean: 0.6329 | auc/healthy: 0.6234 | auc/multiple_diseases: 0.3894, auc/rust: 0.7248, auc/scab: 0.7939\n",
      "\n"
     ]
    },
    {
     "data": {
      "application/vnd.jupyter.widget-view+json": {
       "model_id": "72c8f2ae4003416e8043aeb788405b83",
       "version_major": 2,
       "version_minor": 0
      },
      "text/plain": [
       "HBox(children=(FloatProgress(value=0.0, description='Train', max=46.0, style=ProgressStyle(description_width='…"
      ]
     },
     "metadata": {},
     "output_type": "display_data"
    },
    {
     "name": "stdout",
     "output_type": "stream",
     "text": [
      "\n",
      "Epoch: 30 | Time: 0m 14s\n",
      "Training Results - Average Loss: 1.2467 | auc/_mean: 0.6135 | auc/healthy: 0.6171 | auc/multiple_diseases: 0.5262, auc/rust: 0.6298, auc/scab: 0.6810\n",
      "Evaluating Results - Average Loss: 1.2103 | auc/_mean: 0.6382 | auc/healthy: 0.6316 | auc/multiple_diseases: 0.3907, auc/rust: 0.7311, auc/scab: 0.7993\n",
      "\n"
     ]
    },
    {
     "data": {
      "application/vnd.jupyter.widget-view+json": {
       "model_id": "d1b47142c624479097a96526a7ce02c3",
       "version_major": 2,
       "version_minor": 0
      },
      "text/plain": [
       "HBox(children=(FloatProgress(value=0.0, description='Train', max=46.0, style=ProgressStyle(description_width='…"
      ]
     },
     "metadata": {},
     "output_type": "display_data"
    },
    {
     "name": "stdout",
     "output_type": "stream",
     "text": [
      "\n",
      "Epoch: 31 | Time: 0m 14s\n",
      "Training Results - Average Loss: 1.2471 | auc/_mean: 0.6075 | auc/healthy: 0.5872 | auc/multiple_diseases: 0.5141, auc/rust: 0.6495, auc/scab: 0.6791\n",
      "Evaluating Results - Average Loss: 1.2065 | auc/_mean: 0.6446 | auc/healthy: 0.6416 | auc/multiple_diseases: 0.3916, auc/rust: 0.7407, auc/scab: 0.8045\n",
      "\n"
     ]
    },
    {
     "data": {
      "application/vnd.jupyter.widget-view+json": {
       "model_id": "4fa02833fcb24baba31dc5426ee6988e",
       "version_major": 2,
       "version_minor": 0
      },
      "text/plain": [
       "HBox(children=(FloatProgress(value=0.0, description='Train', max=46.0, style=ProgressStyle(description_width='…"
      ]
     },
     "metadata": {},
     "output_type": "display_data"
    },
    {
     "name": "stdout",
     "output_type": "stream",
     "text": [
      "\n",
      "Epoch: 32 | Time: 0m 13s\n",
      "Training Results - Average Loss: 1.2403 | auc/_mean: 0.6250 | auc/healthy: 0.6125 | auc/multiple_diseases: 0.5327, auc/rust: 0.6665, auc/scab: 0.6884\n",
      "Evaluating Results - Average Loss: 1.2026 | auc/_mean: 0.6502 | auc/healthy: 0.6506 | auc/multiple_diseases: 0.3935, auc/rust: 0.7496, auc/scab: 0.8070\n",
      "\n"
     ]
    },
    {
     "data": {
      "application/vnd.jupyter.widget-view+json": {
       "model_id": "2ea2011190a54af5a4b3895762e09f38",
       "version_major": 2,
       "version_minor": 0
      },
      "text/plain": [
       "HBox(children=(FloatProgress(value=0.0, description='Train', max=46.0, style=ProgressStyle(description_width='…"
      ]
     },
     "metadata": {},
     "output_type": "display_data"
    },
    {
     "name": "stdout",
     "output_type": "stream",
     "text": [
      "\n",
      "Epoch: 33 | Time: 0m 14s\n",
      "Training Results - Average Loss: 1.2479 | auc/_mean: 0.6010 | auc/healthy: 0.6147 | auc/multiple_diseases: 0.4594, auc/rust: 0.6512, auc/scab: 0.6789\n",
      "Evaluating Results - Average Loss: 1.1986 | auc/_mean: 0.6556 | auc/healthy: 0.6589 | auc/multiple_diseases: 0.3953, auc/rust: 0.7555, auc/scab: 0.8127\n",
      "\n"
     ]
    },
    {
     "data": {
      "application/vnd.jupyter.widget-view+json": {
       "model_id": "65f526b517fb47b3838d15182ab937f6",
       "version_major": 2,
       "version_minor": 0
      },
      "text/plain": [
       "HBox(children=(FloatProgress(value=0.0, description='Train', max=46.0, style=ProgressStyle(description_width='…"
      ]
     },
     "metadata": {},
     "output_type": "display_data"
    },
    {
     "name": "stdout",
     "output_type": "stream",
     "text": [
      "\n",
      "Epoch: 34 | Time: 0m 13s\n",
      "Training Results - Average Loss: 1.2372 | auc/_mean: 0.6241 | auc/healthy: 0.6284 | auc/multiple_diseases: 0.5386, auc/rust: 0.6646, auc/scab: 0.6646\n",
      "Evaluating Results - Average Loss: 1.1951 | auc/_mean: 0.6599 | auc/healthy: 0.6665 | auc/multiple_diseases: 0.3937, auc/rust: 0.7628, auc/scab: 0.8165\n",
      "\n"
     ]
    },
    {
     "data": {
      "application/vnd.jupyter.widget-view+json": {
       "model_id": "0080887616e1477789fbfb276fea2be8",
       "version_major": 2,
       "version_minor": 0
      },
      "text/plain": [
       "HBox(children=(FloatProgress(value=0.0, description='Train', max=46.0, style=ProgressStyle(description_width='…"
      ]
     },
     "metadata": {},
     "output_type": "display_data"
    },
    {
     "name": "stdout",
     "output_type": "stream",
     "text": [
      "\n",
      "Epoch: 35 | Time: 0m 14s\n",
      "Training Results - Average Loss: 1.2338 | auc/_mean: 0.6247 | auc/healthy: 0.6179 | auc/multiple_diseases: 0.5050, auc/rust: 0.6796, auc/scab: 0.6963\n",
      "Evaluating Results - Average Loss: 1.1917 | auc/_mean: 0.6632 | auc/healthy: 0.6727 | auc/multiple_diseases: 0.3915, auc/rust: 0.7682, auc/scab: 0.8204\n",
      "\n"
     ]
    },
    {
     "data": {
      "application/vnd.jupyter.widget-view+json": {
       "model_id": "50e86280f95e47ee8ba14efab206dc89",
       "version_major": 2,
       "version_minor": 0
      },
      "text/plain": [
       "HBox(children=(FloatProgress(value=0.0, description='Train', max=46.0, style=ProgressStyle(description_width='…"
      ]
     },
     "metadata": {},
     "output_type": "display_data"
    },
    {
     "name": "stdout",
     "output_type": "stream",
     "text": [
      "\n",
      "Epoch: 36 | Time: 0m 14s\n",
      "Training Results - Average Loss: 1.2331 | auc/_mean: 0.6264 | auc/healthy: 0.6277 | auc/multiple_diseases: 0.4774, auc/rust: 0.6805, auc/scab: 0.7201\n",
      "Evaluating Results - Average Loss: 1.1881 | auc/_mean: 0.6678 | auc/healthy: 0.6803 | auc/multiple_diseases: 0.3918, auc/rust: 0.7732, auc/scab: 0.8260\n",
      "\n"
     ]
    },
    {
     "data": {
      "application/vnd.jupyter.widget-view+json": {
       "model_id": "cf0c0fa72a3044cdbc524827876064b7",
       "version_major": 2,
       "version_minor": 0
      },
      "text/plain": [
       "HBox(children=(FloatProgress(value=0.0, description='Train', max=46.0, style=ProgressStyle(description_width='…"
      ]
     },
     "metadata": {},
     "output_type": "display_data"
    },
    {
     "name": "stdout",
     "output_type": "stream",
     "text": [
      "\n",
      "Epoch: 37 | Time: 0m 14s\n",
      "Training Results - Average Loss: 1.2226 | auc/_mean: 0.6474 | auc/healthy: 0.6211 | auc/multiple_diseases: 0.5556, auc/rust: 0.6940, auc/scab: 0.7188\n",
      "Evaluating Results - Average Loss: 1.1850 | auc/_mean: 0.6720 | auc/healthy: 0.6865 | auc/multiple_diseases: 0.3942, auc/rust: 0.7784, auc/scab: 0.8288\n",
      "\n"
     ]
    },
    {
     "data": {
      "application/vnd.jupyter.widget-view+json": {
       "model_id": "876f4575c8dc4ada985fb9b3a63c8843",
       "version_major": 2,
       "version_minor": 0
      },
      "text/plain": [
       "HBox(children=(FloatProgress(value=0.0, description='Train', max=46.0, style=ProgressStyle(description_width='…"
      ]
     },
     "metadata": {},
     "output_type": "display_data"
    },
    {
     "name": "stdout",
     "output_type": "stream",
     "text": [
      "\n",
      "Epoch: 38 | Time: 0m 14s\n",
      "Training Results - Average Loss: 1.2273 | auc/_mean: 0.6419 | auc/healthy: 0.6418 | auc/multiple_diseases: 0.5663, auc/rust: 0.6476, auc/scab: 0.7118\n",
      "Evaluating Results - Average Loss: 1.1810 | auc/_mean: 0.6773 | auc/healthy: 0.6943 | auc/multiple_diseases: 0.3974, auc/rust: 0.7856, auc/scab: 0.8318\n",
      "\n"
     ]
    },
    {
     "data": {
      "application/vnd.jupyter.widget-view+json": {
       "model_id": "9346fcd241cd4e2f9c5b5a56104f7315",
       "version_major": 2,
       "version_minor": 0
      },
      "text/plain": [
       "HBox(children=(FloatProgress(value=0.0, description='Train', max=46.0, style=ProgressStyle(description_width='…"
      ]
     },
     "metadata": {},
     "output_type": "display_data"
    },
    {
     "name": "stdout",
     "output_type": "stream",
     "text": [
      "\n",
      "Epoch: 39 | Time: 0m 14s\n",
      "Training Results - Average Loss: 1.2243 | auc/_mean: 0.6373 | auc/healthy: 0.6295 | auc/multiple_diseases: 0.5044, auc/rust: 0.6767, auc/scab: 0.7387\n",
      "Evaluating Results - Average Loss: 1.1773 | auc/_mean: 0.6814 | auc/healthy: 0.7027 | auc/multiple_diseases: 0.3975, auc/rust: 0.7911, auc/scab: 0.8341\n",
      "\n"
     ]
    },
    {
     "data": {
      "application/vnd.jupyter.widget-view+json": {
       "model_id": "07c6ce4bbd644f6db7a424d9d8ed06ad",
       "version_major": 2,
       "version_minor": 0
      },
      "text/plain": [
       "HBox(children=(FloatProgress(value=0.0, description='Train', max=46.0, style=ProgressStyle(description_width='…"
      ]
     },
     "metadata": {},
     "output_type": "display_data"
    },
    {
     "name": "stdout",
     "output_type": "stream",
     "text": [
      "\n",
      "Epoch: 40 | Time: 0m 14s\n",
      "Training Results - Average Loss: 1.2184 | auc/_mean: 0.6494 | auc/healthy: 0.6584 | auc/multiple_diseases: 0.5221, auc/rust: 0.7022, auc/scab: 0.7148\n",
      "Evaluating Results - Average Loss: 1.1744 | auc/_mean: 0.6838 | auc/healthy: 0.7071 | auc/multiple_diseases: 0.3943, auc/rust: 0.7955, auc/scab: 0.8384\n",
      "\n"
     ]
    },
    {
     "data": {
      "application/vnd.jupyter.widget-view+json": {
       "model_id": "22675b24289e4f0cbe5c8d245488ba67",
       "version_major": 2,
       "version_minor": 0
      },
      "text/plain": [
       "HBox(children=(FloatProgress(value=0.0, description='Train', max=46.0, style=ProgressStyle(description_width='…"
      ]
     },
     "metadata": {},
     "output_type": "display_data"
    },
    {
     "name": "stdout",
     "output_type": "stream",
     "text": [
      "\n",
      "Epoch: 41 | Time: 0m 15s\n",
      "Training Results - Average Loss: 1.2143 | auc/_mean: 0.6552 | auc/healthy: 0.6259 | auc/multiple_diseases: 0.5545, auc/rust: 0.7214, auc/scab: 0.7189\n",
      "Evaluating Results - Average Loss: 1.1709 | auc/_mean: 0.6885 | auc/healthy: 0.7141 | auc/multiple_diseases: 0.3966, auc/rust: 0.8009, auc/scab: 0.8425\n",
      "\n"
     ]
    },
    {
     "data": {
      "application/vnd.jupyter.widget-view+json": {
       "model_id": "a8f28a457ec542ad9a843c3f1273d40a",
       "version_major": 2,
       "version_minor": 0
      },
      "text/plain": [
       "HBox(children=(FloatProgress(value=0.0, description='Train', max=46.0, style=ProgressStyle(description_width='…"
      ]
     },
     "metadata": {},
     "output_type": "display_data"
    },
    {
     "name": "stdout",
     "output_type": "stream",
     "text": [
      "\n",
      "Epoch: 42 | Time: 0m 14s\n",
      "Training Results - Average Loss: 1.2184 | auc/_mean: 0.6445 | auc/healthy: 0.6455 | auc/multiple_diseases: 0.5065, auc/rust: 0.7073, auc/scab: 0.7186\n",
      "Evaluating Results - Average Loss: 1.1672 | auc/_mean: 0.6926 | auc/healthy: 0.7213 | auc/multiple_diseases: 0.3966, auc/rust: 0.8072, auc/scab: 0.8453\n",
      "\n"
     ]
    },
    {
     "data": {
      "application/vnd.jupyter.widget-view+json": {
       "model_id": "e73e18249dc54cb6b2f8dcec94a0528d",
       "version_major": 2,
       "version_minor": 0
      },
      "text/plain": [
       "HBox(children=(FloatProgress(value=0.0, description='Train', max=46.0, style=ProgressStyle(description_width='…"
      ]
     },
     "metadata": {},
     "output_type": "display_data"
    },
    {
     "name": "stdout",
     "output_type": "stream",
     "text": [
      "\n",
      "Epoch: 43 | Time: 0m 14s\n",
      "Training Results - Average Loss: 1.2131 | auc/_mean: 0.6539 | auc/healthy: 0.6603 | auc/multiple_diseases: 0.5159, auc/rust: 0.7050, auc/scab: 0.7342\n",
      "Evaluating Results - Average Loss: 1.1637 | auc/_mean: 0.6958 | auc/healthy: 0.7258 | auc/multiple_diseases: 0.3980, auc/rust: 0.8126, auc/scab: 0.8469\n",
      "\n"
     ]
    },
    {
     "data": {
      "application/vnd.jupyter.widget-view+json": {
       "model_id": "cd1c0145b411415288865608f14ee081",
       "version_major": 2,
       "version_minor": 0
      },
      "text/plain": [
       "HBox(children=(FloatProgress(value=0.0, description='Train', max=46.0, style=ProgressStyle(description_width='…"
      ]
     },
     "metadata": {},
     "output_type": "display_data"
    },
    {
     "name": "stdout",
     "output_type": "stream",
     "text": [
      "\n",
      "Epoch: 44 | Time: 0m 14s\n",
      "Training Results - Average Loss: 1.2197 | auc/_mean: 0.6399 | auc/healthy: 0.6416 | auc/multiple_diseases: 0.4770, auc/rust: 0.7257, auc/scab: 0.7153\n",
      "Evaluating Results - Average Loss: 1.1608 | auc/_mean: 0.6985 | auc/healthy: 0.7310 | auc/multiple_diseases: 0.3975, auc/rust: 0.8158, auc/scab: 0.8498\n",
      "\n"
     ]
    },
    {
     "data": {
      "application/vnd.jupyter.widget-view+json": {
       "model_id": "149f52a73554488b8a278ec472f06cb5",
       "version_major": 2,
       "version_minor": 0
      },
      "text/plain": [
       "HBox(children=(FloatProgress(value=0.0, description='Train', max=46.0, style=ProgressStyle(description_width='…"
      ]
     },
     "metadata": {},
     "output_type": "display_data"
    },
    {
     "name": "stdout",
     "output_type": "stream",
     "text": [
      "\n",
      "Epoch: 45 | Time: 0m 14s\n",
      "Training Results - Average Loss: 1.2155 | auc/_mean: 0.6411 | auc/healthy: 0.6794 | auc/multiple_diseases: 0.4790, auc/rust: 0.6986, auc/scab: 0.7075\n",
      "Evaluating Results - Average Loss: 1.1570 | auc/_mean: 0.7020 | auc/healthy: 0.7370 | auc/multiple_diseases: 0.3972, auc/rust: 0.8214, auc/scab: 0.8524\n",
      "\n"
     ]
    },
    {
     "data": {
      "application/vnd.jupyter.widget-view+json": {
       "model_id": "5bf370d4eeaa4d459fd82e8e704d098e",
       "version_major": 2,
       "version_minor": 0
      },
      "text/plain": [
       "HBox(children=(FloatProgress(value=0.0, description='Train', max=46.0, style=ProgressStyle(description_width='…"
      ]
     },
     "metadata": {},
     "output_type": "display_data"
    },
    {
     "name": "stdout",
     "output_type": "stream",
     "text": [
      "\n",
      "Epoch: 46 | Time: 0m 14s\n",
      "Training Results - Average Loss: 1.1996 | auc/_mean: 0.6753 | auc/healthy: 0.6701 | auc/multiple_diseases: 0.5559, auc/rust: 0.7286, auc/scab: 0.7465\n",
      "Evaluating Results - Average Loss: 1.1536 | auc/_mean: 0.7045 | auc/healthy: 0.7425 | auc/multiple_diseases: 0.3963, auc/rust: 0.8246, auc/scab: 0.8546\n",
      "\n"
     ]
    },
    {
     "data": {
      "application/vnd.jupyter.widget-view+json": {
       "model_id": "7d09e47ba055433d8cb0f7ea2d022c98",
       "version_major": 2,
       "version_minor": 0
      },
      "text/plain": [
       "HBox(children=(FloatProgress(value=0.0, description='Train', max=46.0, style=ProgressStyle(description_width='…"
      ]
     },
     "metadata": {},
     "output_type": "display_data"
    },
    {
     "name": "stdout",
     "output_type": "stream",
     "text": [
      "\n",
      "Epoch: 47 | Time: 0m 13s\n",
      "Training Results - Average Loss: 1.2000 | auc/_mean: 0.6804 | auc/healthy: 0.6758 | auc/multiple_diseases: 0.5654, auc/rust: 0.7371, auc/scab: 0.7435\n",
      "Evaluating Results - Average Loss: 1.1507 | auc/_mean: 0.7063 | auc/healthy: 0.7476 | auc/multiple_diseases: 0.3934, auc/rust: 0.8282, auc/scab: 0.8561\n",
      "\n"
     ]
    },
    {
     "data": {
      "application/vnd.jupyter.widget-view+json": {
       "model_id": "be31142a136540edaae09ecd2d9b7bf6",
       "version_major": 2,
       "version_minor": 0
      },
      "text/plain": [
       "HBox(children=(FloatProgress(value=0.0, description='Train', max=46.0, style=ProgressStyle(description_width='…"
      ]
     },
     "metadata": {},
     "output_type": "display_data"
    },
    {
     "name": "stdout",
     "output_type": "stream",
     "text": [
      "\n",
      "Epoch: 48 | Time: 0m 14s\n",
      "Training Results - Average Loss: 1.2145 | auc/_mean: 0.6408 | auc/healthy: 0.6623 | auc/multiple_diseases: 0.4475, auc/rust: 0.7135, auc/scab: 0.7399\n",
      "Evaluating Results - Average Loss: 1.1465 | auc/_mean: 0.7106 | auc/healthy: 0.7548 | auc/multiple_diseases: 0.3935, auc/rust: 0.8341, auc/scab: 0.8600\n",
      "\n"
     ]
    },
    {
     "data": {
      "application/vnd.jupyter.widget-view+json": {
       "model_id": "df9cf6c9f4a3469abf5c69c3d1e6d229",
       "version_major": 2,
       "version_minor": 0
      },
      "text/plain": [
       "HBox(children=(FloatProgress(value=0.0, description='Train', max=46.0, style=ProgressStyle(description_width='…"
      ]
     },
     "metadata": {},
     "output_type": "display_data"
    },
    {
     "name": "stdout",
     "output_type": "stream",
     "text": [
      "\n",
      "Epoch: 49 | Time: 0m 14s\n",
      "Training Results - Average Loss: 1.1927 | auc/_mean: 0.6767 | auc/healthy: 0.6968 | auc/multiple_diseases: 0.5179, auc/rust: 0.7373, auc/scab: 0.7547\n",
      "Evaluating Results - Average Loss: 1.1430 | auc/_mean: 0.7130 | auc/healthy: 0.7608 | auc/multiple_diseases: 0.3905, auc/rust: 0.8392, auc/scab: 0.8615\n",
      "\n"
     ]
    },
    {
     "data": {
      "application/vnd.jupyter.widget-view+json": {
       "model_id": "0b3534c9230948b6a28f1fb58a53f437",
       "version_major": 2,
       "version_minor": 0
      },
      "text/plain": [
       "HBox(children=(FloatProgress(value=0.0, description='Train', max=46.0, style=ProgressStyle(description_width='…"
      ]
     },
     "metadata": {},
     "output_type": "display_data"
    },
    {
     "name": "stdout",
     "output_type": "stream",
     "text": [
      "\n",
      "Epoch: 50 | Time: 0m 14s\n",
      "Training Results - Average Loss: 1.1936 | auc/_mean: 0.6889 | auc/healthy: 0.6745 | auc/multiple_diseases: 0.5693, auc/rust: 0.7334, auc/scab: 0.7787\n",
      "Evaluating Results - Average Loss: 1.1397 | auc/_mean: 0.7165 | auc/healthy: 0.7651 | auc/multiple_diseases: 0.3948, auc/rust: 0.8429, auc/scab: 0.8632\n",
      "\n",
      "\n"
     ]
    }
   ],
   "source": [
    "trainer = Trainer(model, train_dataloader, valid_dataloader, criterion, optimizer, scheduler, device, config)\n",
    "trainer.run();"
   ]
  },
  {
   "cell_type": "code",
   "execution_count": null,
   "metadata": {},
   "outputs": [],
   "source": []
  },
  {
   "cell_type": "code",
   "execution_count": null,
   "metadata": {},
   "outputs": [],
   "source": []
  },
  {
   "cell_type": "code",
   "execution_count": 10,
   "metadata": {},
   "outputs": [
    {
     "name": "stdout",
     "output_type": "stream",
     "text": [
      "Loaded pretrained weights for efficientnet-b0\n"
     ]
    }
   ],
   "source": [
    "model = get_model(config.model_name, config.num_classes)\n",
    "model.load_state_dict(torch.load(f\"{config.save_dirname}/best_model_epoch=50_loss=1.139653613169988.pth\"))\n",
    "for param in model.parameters():\n",
    "    param.requires_grad = True\n",
    "\n",
    "criterion = LabelSmoothingCrossEntropy()\n",
    "optimizer = AdamW(model.parameters(), lr=config.lr, weight_decay=1e-3)\n",
    "num_train_steps = int(len(train_dataset) / config.batch_size * config.num_epochs)\n",
    "scheduler = get_cosine_schedule_with_warmup(optimizer, num_warmup_steps=len(train_dataset)/config.batch_size*5, num_training_steps=num_train_steps)"
   ]
  },
  {
   "cell_type": "code",
   "execution_count": 11,
   "metadata": {
    "collapsed": true,
    "jupyter": {
     "outputs_hidden": true
    }
   },
   "outputs": [
    {
     "data": {
      "application/vnd.jupyter.widget-view+json": {
       "model_id": "d9a47941ce684587a76d2cbf2165298c",
       "version_major": 2,
       "version_minor": 0
      },
      "text/plain": [
       "HBox(children=(FloatProgress(value=0.0, description='Epochs', max=200.0, style=ProgressStyle(description_width…"
      ]
     },
     "metadata": {},
     "output_type": "display_data"
    },
    {
     "data": {
      "application/vnd.jupyter.widget-view+json": {
       "model_id": "d42604f4b3784c9da4b9ca0ea67095cf",
       "version_major": 2,
       "version_minor": 0
      },
      "text/plain": [
       "HBox(children=(FloatProgress(value=0.0, description='Train', max=46.0, style=ProgressStyle(description_width='…"
      ]
     },
     "metadata": {},
     "output_type": "display_data"
    },
    {
     "name": "stdout",
     "output_type": "stream",
     "text": [
      "\n",
      "Epoch: 01 | Time: 0m 21s\n",
      "Training Results - Average Loss: 1.1924 | auc/_mean: 0.6823 | auc/healthy: 0.6899 | auc/multiple_diseases: 0.5398, auc/rust: 0.7452, auc/scab: 0.7543\n",
      "Evaluating Results - Average Loss: 1.1400 | auc/_mean: 0.7163 | auc/healthy: 0.7637 | auc/multiple_diseases: 0.3955, auc/rust: 0.8428, auc/scab: 0.8633\n",
      "\n"
     ]
    },
    {
     "data": {
      "application/vnd.jupyter.widget-view+json": {
       "model_id": "c3d906c031ba40e980a3751509d0bd31",
       "version_major": 2,
       "version_minor": 0
      },
      "text/plain": [
       "HBox(children=(FloatProgress(value=0.0, description='Train', max=46.0, style=ProgressStyle(description_width='…"
      ]
     },
     "metadata": {},
     "output_type": "display_data"
    },
    {
     "name": "stdout",
     "output_type": "stream",
     "text": [
      "\n",
      "Epoch: 02 | Time: 0m 20s\n",
      "Training Results - Average Loss: 1.1796 | auc/_mean: 0.7020 | auc/healthy: 0.6956 | auc/multiple_diseases: 0.6040, auc/rust: 0.7375, auc/scab: 0.7711\n",
      "Evaluating Results - Average Loss: 1.1044 | auc/_mean: 0.7417 | auc/healthy: 0.8041 | auc/multiple_diseases: 0.3950, auc/rust: 0.8814, auc/scab: 0.8863\n",
      "\n"
     ]
    },
    {
     "data": {
      "application/vnd.jupyter.widget-view+json": {
       "model_id": "0a7517da54d34d408e52b61f52ce2e68",
       "version_major": 2,
       "version_minor": 0
      },
      "text/plain": [
       "HBox(children=(FloatProgress(value=0.0, description='Train', max=46.0, style=ProgressStyle(description_width='…"
      ]
     },
     "metadata": {},
     "output_type": "display_data"
    },
    {
     "name": "stdout",
     "output_type": "stream",
     "text": [
      "\n",
      "Epoch: 03 | Time: 0m 20s\n",
      "Training Results - Average Loss: 1.1586 | auc/_mean: 0.7070 | auc/healthy: 0.7313 | auc/multiple_diseases: 0.5084, auc/rust: 0.7920, auc/scab: 0.7962\n",
      "Evaluating Results - Average Loss: 1.0637 | auc/_mean: 0.7640 | auc/healthy: 0.8418 | auc/multiple_diseases: 0.3929, auc/rust: 0.9147, auc/scab: 0.9065\n",
      "\n"
     ]
    },
    {
     "data": {
      "application/vnd.jupyter.widget-view+json": {
       "model_id": "084b7db40c9041d4bbafda334ae9b318",
       "version_major": 2,
       "version_minor": 0
      },
      "text/plain": [
       "HBox(children=(FloatProgress(value=0.0, description='Train', max=46.0, style=ProgressStyle(description_width='…"
      ]
     },
     "metadata": {},
     "output_type": "display_data"
    },
    {
     "name": "stdout",
     "output_type": "stream",
     "text": [
      "\n",
      "Epoch: 04 | Time: 0m 20s\n",
      "Training Results - Average Loss: 1.1202 | auc/_mean: 0.7464 | auc/healthy: 0.7728 | auc/multiple_diseases: 0.5322, auc/rust: 0.8460, auc/scab: 0.8348\n",
      "Evaluating Results - Average Loss: 1.0184 | auc/_mean: 0.7824 | auc/healthy: 0.8732 | auc/multiple_diseases: 0.3969, auc/rust: 0.9395, auc/scab: 0.9199\n",
      "\n"
     ]
    },
    {
     "data": {
      "application/vnd.jupyter.widget-view+json": {
       "model_id": "a574b59fca734cefb56ac789a3e7fcdd",
       "version_major": 2,
       "version_minor": 0
      },
      "text/plain": [
       "HBox(children=(FloatProgress(value=0.0, description='Train', max=46.0, style=ProgressStyle(description_width='…"
      ]
     },
     "metadata": {},
     "output_type": "display_data"
    },
    {
     "name": "stdout",
     "output_type": "stream",
     "text": [
      "\n",
      "Epoch: 05 | Time: 0m 20s\n",
      "Training Results - Average Loss: 1.0926 | auc/_mean: 0.7697 | auc/healthy: 0.8090 | auc/multiple_diseases: 0.5655, auc/rust: 0.8644, auc/scab: 0.8400\n",
      "Evaluating Results - Average Loss: 0.9692 | auc/_mean: 0.7982 | auc/healthy: 0.8995 | auc/multiple_diseases: 0.4041, auc/rust: 0.9575, auc/scab: 0.9319\n",
      "\n"
     ]
    },
    {
     "data": {
      "application/vnd.jupyter.widget-view+json": {
       "model_id": "4f87bad87a75465395f2705ed76bdb23",
       "version_major": 2,
       "version_minor": 0
      },
      "text/plain": [
       "HBox(children=(FloatProgress(value=0.0, description='Train', max=46.0, style=ProgressStyle(description_width='…"
      ]
     },
     "metadata": {},
     "output_type": "display_data"
    },
    {
     "name": "stdout",
     "output_type": "stream",
     "text": [
      "\n",
      "Epoch: 06 | Time: 0m 20s\n",
      "Training Results - Average Loss: 1.0670 | auc/_mean: 0.7569 | auc/healthy: 0.8011 | auc/multiple_diseases: 0.4782, auc/rust: 0.8842, auc/scab: 0.8642\n",
      "Evaluating Results - Average Loss: 0.9190 | auc/_mean: 0.8095 | auc/healthy: 0.9207 | auc/multiple_diseases: 0.4091, auc/rust: 0.9684, auc/scab: 0.9400\n",
      "\n"
     ]
    },
    {
     "data": {
      "application/vnd.jupyter.widget-view+json": {
       "model_id": "a25141aec70548f199b03df80c31c5b4",
       "version_major": 2,
       "version_minor": 0
      },
      "text/plain": [
       "HBox(children=(FloatProgress(value=0.0, description='Train', max=46.0, style=ProgressStyle(description_width='…"
      ]
     },
     "metadata": {},
     "output_type": "display_data"
    },
    {
     "name": "stdout",
     "output_type": "stream",
     "text": [
      "\n",
      "Epoch: 07 | Time: 0m 19s\n",
      "Training Results - Average Loss: 1.0050 | auc/_mean: 0.8104 | auc/healthy: 0.8443 | auc/multiple_diseases: 0.5815, auc/rust: 0.9173, auc/scab: 0.8985\n",
      "Evaluating Results - Average Loss: 0.8684 | auc/_mean: 0.8206 | auc/healthy: 0.9360 | auc/multiple_diseases: 0.4220, auc/rust: 0.9760, auc/scab: 0.9482\n",
      "\n"
     ]
    },
    {
     "data": {
      "application/vnd.jupyter.widget-view+json": {
       "model_id": "401e252c04c04469b0eb13aeea3654b6",
       "version_major": 2,
       "version_minor": 0
      },
      "text/plain": [
       "HBox(children=(FloatProgress(value=0.0, description='Train', max=46.0, style=ProgressStyle(description_width='…"
      ]
     },
     "metadata": {},
     "output_type": "display_data"
    },
    {
     "name": "stdout",
     "output_type": "stream",
     "text": [
      "\n",
      "Epoch: 08 | Time: 0m 20s\n",
      "Training Results - Average Loss: 0.9600 | auc/_mean: 0.8256 | auc/healthy: 0.8802 | auc/multiple_diseases: 0.5785, auc/rust: 0.9391, auc/scab: 0.9045\n",
      "Evaluating Results - Average Loss: 0.8242 | auc/_mean: 0.8301 | auc/healthy: 0.9495 | auc/multiple_diseases: 0.4356, auc/rust: 0.9810, auc/scab: 0.9544\n",
      "\n"
     ]
    },
    {
     "data": {
      "application/vnd.jupyter.widget-view+json": {
       "model_id": "b067f4f1d73b4663ab2f42add8c1088a",
       "version_major": 2,
       "version_minor": 0
      },
      "text/plain": [
       "HBox(children=(FloatProgress(value=0.0, description='Train', max=46.0, style=ProgressStyle(description_width='…"
      ]
     },
     "metadata": {},
     "output_type": "display_data"
    },
    {
     "name": "stdout",
     "output_type": "stream",
     "text": [
      "\n",
      "Epoch: 09 | Time: 0m 19s\n",
      "Training Results - Average Loss: 0.9221 | auc/_mean: 0.8368 | auc/healthy: 0.8944 | auc/multiple_diseases: 0.5951, auc/rust: 0.9451, auc/scab: 0.9126\n",
      "Evaluating Results - Average Loss: 0.7829 | auc/_mean: 0.8381 | auc/healthy: 0.9583 | auc/multiple_diseases: 0.4510, auc/rust: 0.9840, auc/scab: 0.9589\n",
      "\n"
     ]
    },
    {
     "data": {
      "application/vnd.jupyter.widget-view+json": {
       "model_id": "b9de281541c14330b81da415dc9d0d2f",
       "version_major": 2,
       "version_minor": 0
      },
      "text/plain": [
       "HBox(children=(FloatProgress(value=0.0, description='Train', max=46.0, style=ProgressStyle(description_width='…"
      ]
     },
     "metadata": {},
     "output_type": "display_data"
    },
    {
     "name": "stdout",
     "output_type": "stream",
     "text": [
      "\n",
      "Epoch: 10 | Time: 0m 20s\n",
      "Training Results - Average Loss: 0.8764 | auc/_mean: 0.8503 | auc/healthy: 0.9207 | auc/multiple_diseases: 0.5983, auc/rust: 0.9560, auc/scab: 0.9260\n",
      "Evaluating Results - Average Loss: 0.7478 | auc/_mean: 0.8433 | auc/healthy: 0.9633 | auc/multiple_diseases: 0.4609, auc/rust: 0.9863, auc/scab: 0.9625\n",
      "\n"
     ]
    },
    {
     "data": {
      "application/vnd.jupyter.widget-view+json": {
       "model_id": "0d06ea820b094a76b43d658910e24737",
       "version_major": 2,
       "version_minor": 0
      },
      "text/plain": [
       "HBox(children=(FloatProgress(value=0.0, description='Train', max=46.0, style=ProgressStyle(description_width='…"
      ]
     },
     "metadata": {},
     "output_type": "display_data"
    },
    {
     "name": "stdout",
     "output_type": "stream",
     "text": [
      "\n",
      "Epoch: 11 | Time: 0m 20s\n",
      "Training Results - Average Loss: 0.8398 | auc/_mean: 0.8579 | auc/healthy: 0.9207 | auc/multiple_diseases: 0.6119, auc/rust: 0.9656, auc/scab: 0.9333\n",
      "Evaluating Results - Average Loss: 0.7185 | auc/_mean: 0.8495 | auc/healthy: 0.9678 | auc/multiple_diseases: 0.4766, auc/rust: 0.9875, auc/scab: 0.9659\n",
      "\n"
     ]
    },
    {
     "data": {
      "application/vnd.jupyter.widget-view+json": {
       "model_id": "29cfabd381044e0f8c6e65672e2357a3",
       "version_major": 2,
       "version_minor": 0
      },
      "text/plain": [
       "HBox(children=(FloatProgress(value=0.0, description='Train', max=46.0, style=ProgressStyle(description_width='…"
      ]
     },
     "metadata": {},
     "output_type": "display_data"
    },
    {
     "name": "stdout",
     "output_type": "stream",
     "text": [
      "\n",
      "Epoch: 12 | Time: 0m 20s\n",
      "Training Results - Average Loss: 0.8149 | auc/_mean: 0.8609 | auc/healthy: 0.9301 | auc/multiple_diseases: 0.6100, auc/rust: 0.9589, auc/scab: 0.9447\n",
      "Evaluating Results - Average Loss: 0.6938 | auc/_mean: 0.8540 | auc/healthy: 0.9703 | auc/multiple_diseases: 0.4880, auc/rust: 0.9890, auc/scab: 0.9685\n",
      "\n"
     ]
    },
    {
     "data": {
      "application/vnd.jupyter.widget-view+json": {
       "model_id": "f44f77b9c9304306be901a4d2a290f6c",
       "version_major": 2,
       "version_minor": 0
      },
      "text/plain": [
       "HBox(children=(FloatProgress(value=0.0, description='Train', max=46.0, style=ProgressStyle(description_width='…"
      ]
     },
     "metadata": {},
     "output_type": "display_data"
    },
    {
     "name": "stdout",
     "output_type": "stream",
     "text": [
      "\n",
      "Epoch: 13 | Time: 0m 20s\n",
      "Training Results - Average Loss: 0.7858 | auc/_mean: 0.8720 | auc/healthy: 0.9420 | auc/multiple_diseases: 0.6356, auc/rust: 0.9665, auc/scab: 0.9439\n",
      "Evaluating Results - Average Loss: 0.6689 | auc/_mean: 0.8601 | auc/healthy: 0.9726 | auc/multiple_diseases: 0.5059, auc/rust: 0.9901, auc/scab: 0.9718\n",
      "\n"
     ]
    },
    {
     "data": {
      "application/vnd.jupyter.widget-view+json": {
       "model_id": "592d0910b4f443029223143ad1f586da",
       "version_major": 2,
       "version_minor": 0
      },
      "text/plain": [
       "HBox(children=(FloatProgress(value=0.0, description='Train', max=46.0, style=ProgressStyle(description_width='…"
      ]
     },
     "metadata": {},
     "output_type": "display_data"
    },
    {
     "name": "stdout",
     "output_type": "stream",
     "text": [
      "\n",
      "Epoch: 14 | Time: 0m 21s\n",
      "Training Results - Average Loss: 0.7684 | auc/_mean: 0.8838 | auc/healthy: 0.9431 | auc/multiple_diseases: 0.6714, auc/rust: 0.9679, auc/scab: 0.9527\n",
      "Evaluating Results - Average Loss: 0.6506 | auc/_mean: 0.8643 | auc/healthy: 0.9750 | auc/multiple_diseases: 0.5173, auc/rust: 0.9910, auc/scab: 0.9738\n",
      "\n"
     ]
    },
    {
     "data": {
      "application/vnd.jupyter.widget-view+json": {
       "model_id": "5f54d35cfbff4436833003ef9c38aab1",
       "version_major": 2,
       "version_minor": 0
      },
      "text/plain": [
       "HBox(children=(FloatProgress(value=0.0, description='Train', max=46.0, style=ProgressStyle(description_width='…"
      ]
     },
     "metadata": {},
     "output_type": "display_data"
    },
    {
     "name": "stdout",
     "output_type": "stream",
     "text": [
      "\n",
      "Epoch: 15 | Time: 0m 20s\n",
      "Training Results - Average Loss: 0.7371 | auc/_mean: 0.8839 | auc/healthy: 0.9566 | auc/multiple_diseases: 0.6528, auc/rust: 0.9690, auc/scab: 0.9571\n",
      "Evaluating Results - Average Loss: 0.6320 | auc/_mean: 0.8694 | auc/healthy: 0.9766 | auc/multiple_diseases: 0.5330, auc/rust: 0.9916, auc/scab: 0.9766\n",
      "\n"
     ]
    },
    {
     "data": {
      "application/vnd.jupyter.widget-view+json": {
       "model_id": "6b3a3b4d35fc4eb9a51e7a4d77bdf301",
       "version_major": 2,
       "version_minor": 0
      },
      "text/plain": [
       "HBox(children=(FloatProgress(value=0.0, description='Train', max=46.0, style=ProgressStyle(description_width='…"
      ]
     },
     "metadata": {},
     "output_type": "display_data"
    },
    {
     "name": "stdout",
     "output_type": "stream",
     "text": [
      "\n",
      "Epoch: 16 | Time: 0m 20s\n",
      "Training Results - Average Loss: 0.7105 | auc/_mean: 0.8922 | auc/healthy: 0.9556 | auc/multiple_diseases: 0.6762, auc/rust: 0.9736, auc/scab: 0.9634\n",
      "Evaluating Results - Average Loss: 0.6191 | auc/_mean: 0.8754 | auc/healthy: 0.9782 | auc/multiple_diseases: 0.5516, auc/rust: 0.9924, auc/scab: 0.9793\n",
      "\n"
     ]
    },
    {
     "data": {
      "application/vnd.jupyter.widget-view+json": {
       "model_id": "20ef3b5004394236b07e504164854178",
       "version_major": 2,
       "version_minor": 0
      },
      "text/plain": [
       "HBox(children=(FloatProgress(value=0.0, description='Train', max=46.0, style=ProgressStyle(description_width='…"
      ]
     },
     "metadata": {},
     "output_type": "display_data"
    },
    {
     "name": "stdout",
     "output_type": "stream",
     "text": [
      "\n",
      "Epoch: 17 | Time: 0m 20s\n",
      "Training Results - Average Loss: 0.6891 | auc/_mean: 0.8870 | auc/healthy: 0.9641 | auc/multiple_diseases: 0.6372, auc/rust: 0.9819, auc/scab: 0.9648\n",
      "Evaluating Results - Average Loss: 0.6105 | auc/_mean: 0.8768 | auc/healthy: 0.9794 | auc/multiple_diseases: 0.5543, auc/rust: 0.9928, auc/scab: 0.9808\n",
      "\n"
     ]
    },
    {
     "data": {
      "application/vnd.jupyter.widget-view+json": {
       "model_id": "db43c0e081414fd5bdcbb4612e0113e5",
       "version_major": 2,
       "version_minor": 0
      },
      "text/plain": [
       "HBox(children=(FloatProgress(value=0.0, description='Train', max=46.0, style=ProgressStyle(description_width='…"
      ]
     },
     "metadata": {},
     "output_type": "display_data"
    },
    {
     "name": "stdout",
     "output_type": "stream",
     "text": [
      "\n",
      "Epoch: 18 | Time: 0m 20s\n",
      "Training Results - Average Loss: 0.6805 | auc/_mean: 0.9020 | auc/healthy: 0.9633 | auc/multiple_diseases: 0.6974, auc/rust: 0.9824, auc/scab: 0.9652\n",
      "Evaluating Results - Average Loss: 0.6018 | auc/_mean: 0.8806 | auc/healthy: 0.9809 | auc/multiple_diseases: 0.5660, auc/rust: 0.9933, auc/scab: 0.9821\n",
      "\n"
     ]
    },
    {
     "data": {
      "application/vnd.jupyter.widget-view+json": {
       "model_id": "4344daad43bf43f29a9de3378d6c92a9",
       "version_major": 2,
       "version_minor": 0
      },
      "text/plain": [
       "HBox(children=(FloatProgress(value=0.0, description='Train', max=46.0, style=ProgressStyle(description_width='…"
      ]
     },
     "metadata": {},
     "output_type": "display_data"
    },
    {
     "name": "stdout",
     "output_type": "stream",
     "text": [
      "\n",
      "Epoch: 19 | Time: 0m 20s\n",
      "Training Results - Average Loss: 0.6618 | auc/_mean: 0.9089 | auc/healthy: 0.9745 | auc/multiple_diseases: 0.7154, auc/rust: 0.9784, auc/scab: 0.9674\n",
      "Evaluating Results - Average Loss: 0.5916 | auc/_mean: 0.8839 | auc/healthy: 0.9821 | auc/multiple_diseases: 0.5760, auc/rust: 0.9938, auc/scab: 0.9835\n",
      "\n"
     ]
    },
    {
     "data": {
      "application/vnd.jupyter.widget-view+json": {
       "model_id": "f2f154eb1524412295bc43ffb0046cdb",
       "version_major": 2,
       "version_minor": 0
      },
      "text/plain": [
       "HBox(children=(FloatProgress(value=0.0, description='Train', max=46.0, style=ProgressStyle(description_width='…"
      ]
     },
     "metadata": {},
     "output_type": "display_data"
    },
    {
     "name": "stdout",
     "output_type": "stream",
     "text": [
      "\n",
      "Epoch: 20 | Time: 0m 20s\n",
      "Training Results - Average Loss: 0.6696 | auc/_mean: 0.9114 | auc/healthy: 0.9695 | auc/multiple_diseases: 0.7397, auc/rust: 0.9737, auc/scab: 0.9628\n",
      "Evaluating Results - Average Loss: 0.5835 | auc/_mean: 0.8854 | auc/healthy: 0.9835 | auc/multiple_diseases: 0.5783, auc/rust: 0.9942, auc/scab: 0.9856\n",
      "\n"
     ]
    },
    {
     "data": {
      "application/vnd.jupyter.widget-view+json": {
       "model_id": "59743d77137e46fb901a176611669972",
       "version_major": 2,
       "version_minor": 0
      },
      "text/plain": [
       "HBox(children=(FloatProgress(value=0.0, description='Train', max=46.0, style=ProgressStyle(description_width='…"
      ]
     },
     "metadata": {},
     "output_type": "display_data"
    },
    {
     "name": "stdout",
     "output_type": "stream",
     "text": [
      "\n",
      "Epoch: 21 | Time: 0m 20s\n",
      "Training Results - Average Loss: 0.6470 | auc/_mean: 0.9150 | auc/healthy: 0.9787 | auc/multiple_diseases: 0.7311, auc/rust: 0.9826, auc/scab: 0.9675\n",
      "Evaluating Results - Average Loss: 0.5775 | auc/_mean: 0.8885 | auc/healthy: 0.9845 | auc/multiple_diseases: 0.5887, auc/rust: 0.9940, auc/scab: 0.9867\n",
      "\n"
     ]
    },
    {
     "data": {
      "application/vnd.jupyter.widget-view+json": {
       "model_id": "172b7210023245e3bd452e61e46338a7",
       "version_major": 2,
       "version_minor": 0
      },
      "text/plain": [
       "HBox(children=(FloatProgress(value=0.0, description='Train', max=46.0, style=ProgressStyle(description_width='…"
      ]
     },
     "metadata": {},
     "output_type": "display_data"
    },
    {
     "name": "stdout",
     "output_type": "stream",
     "text": [
      "\n",
      "Epoch: 22 | Time: 0m 20s\n",
      "Training Results - Average Loss: 0.6286 | auc/_mean: 0.9131 | auc/healthy: 0.9745 | auc/multiple_diseases: 0.7148, auc/rust: 0.9836, auc/scab: 0.9797\n",
      "Evaluating Results - Average Loss: 0.5718 | auc/_mean: 0.8907 | auc/healthy: 0.9857 | auc/multiple_diseases: 0.5951, auc/rust: 0.9941, auc/scab: 0.9879\n",
      "\n"
     ]
    },
    {
     "data": {
      "application/vnd.jupyter.widget-view+json": {
       "model_id": "af1947f48a384fe7b5dc2bd2beb74695",
       "version_major": 2,
       "version_minor": 0
      },
      "text/plain": [
       "HBox(children=(FloatProgress(value=0.0, description='Train', max=46.0, style=ProgressStyle(description_width='…"
      ]
     },
     "metadata": {},
     "output_type": "display_data"
    },
    {
     "name": "stdout",
     "output_type": "stream",
     "text": [
      "\n",
      "Epoch: 23 | Time: 0m 20s\n",
      "Training Results - Average Loss: 0.6158 | auc/_mean: 0.9251 | auc/healthy: 0.9788 | auc/multiple_diseases: 0.7569, auc/rust: 0.9843, auc/scab: 0.9803\n",
      "Evaluating Results - Average Loss: 0.5669 | auc/_mean: 0.8921 | auc/healthy: 0.9863 | auc/multiple_diseases: 0.5996, auc/rust: 0.9939, auc/scab: 0.9887\n",
      "\n"
     ]
    },
    {
     "data": {
      "application/vnd.jupyter.widget-view+json": {
       "model_id": "8fd8437983424e37b2afc95b7174185a",
       "version_major": 2,
       "version_minor": 0
      },
      "text/plain": [
       "HBox(children=(FloatProgress(value=0.0, description='Train', max=46.0, style=ProgressStyle(description_width='…"
      ]
     },
     "metadata": {},
     "output_type": "display_data"
    },
    {
     "name": "stdout",
     "output_type": "stream",
     "text": [
      "\n",
      "Epoch: 24 | Time: 0m 20s\n",
      "Training Results - Average Loss: 0.6234 | auc/_mean: 0.9150 | auc/healthy: 0.9754 | auc/multiple_diseases: 0.7242, auc/rust: 0.9863, auc/scab: 0.9742\n",
      "Evaluating Results - Average Loss: 0.5622 | auc/_mean: 0.8942 | auc/healthy: 0.9873 | auc/multiple_diseases: 0.6058, auc/rust: 0.9938, auc/scab: 0.9899\n",
      "\n"
     ]
    },
    {
     "data": {
      "application/vnd.jupyter.widget-view+json": {
       "model_id": "eec7c14c6d0a4b6bbc4dd4a1c7d7b9bd",
       "version_major": 2,
       "version_minor": 0
      },
      "text/plain": [
       "HBox(children=(FloatProgress(value=0.0, description='Train', max=46.0, style=ProgressStyle(description_width='…"
      ]
     },
     "metadata": {},
     "output_type": "display_data"
    },
    {
     "name": "stdout",
     "output_type": "stream",
     "text": [
      "\n",
      "Epoch: 25 | Time: 0m 20s\n",
      "Training Results - Average Loss: 0.6259 | auc/_mean: 0.9195 | auc/healthy: 0.9773 | auc/multiple_diseases: 0.7443, auc/rust: 0.9837, auc/scab: 0.9727\n",
      "Evaluating Results - Average Loss: 0.5594 | auc/_mean: 0.8967 | auc/healthy: 0.9881 | auc/multiple_diseases: 0.6150, auc/rust: 0.9935, auc/scab: 0.9902\n",
      "\n"
     ]
    },
    {
     "data": {
      "application/vnd.jupyter.widget-view+json": {
       "model_id": "478dad4eb43e4b87ab41fbf8fb2e9b02",
       "version_major": 2,
       "version_minor": 0
      },
      "text/plain": [
       "HBox(children=(FloatProgress(value=0.0, description='Train', max=46.0, style=ProgressStyle(description_width='…"
      ]
     },
     "metadata": {},
     "output_type": "display_data"
    },
    {
     "name": "stdout",
     "output_type": "stream",
     "text": [
      "\n",
      "Epoch: 26 | Time: 0m 20s\n",
      "Training Results - Average Loss: 0.6136 | auc/_mean: 0.9292 | auc/healthy: 0.9813 | auc/multiple_diseases: 0.7770, auc/rust: 0.9779, auc/scab: 0.9806\n",
      "Evaluating Results - Average Loss: 0.5552 | auc/_mean: 0.9000 | auc/healthy: 0.9885 | auc/multiple_diseases: 0.6270, auc/rust: 0.9938, auc/scab: 0.9908\n",
      "\n"
     ]
    },
    {
     "data": {
      "application/vnd.jupyter.widget-view+json": {
       "model_id": "3d6728f960aa4542a2bbb2860f5d6873",
       "version_major": 2,
       "version_minor": 0
      },
      "text/plain": [
       "HBox(children=(FloatProgress(value=0.0, description='Train', max=46.0, style=ProgressStyle(description_width='…"
      ]
     },
     "metadata": {},
     "output_type": "display_data"
    },
    {
     "name": "stdout",
     "output_type": "stream",
     "text": [
      "\n",
      "Epoch: 27 | Time: 0m 20s\n",
      "Training Results - Average Loss: 0.5942 | auc/_mean: 0.9223 | auc/healthy: 0.9816 | auc/multiple_diseases: 0.7377, auc/rust: 0.9870, auc/scab: 0.9830\n",
      "Evaluating Results - Average Loss: 0.5506 | auc/_mean: 0.9023 | auc/healthy: 0.9892 | auc/multiple_diseases: 0.6348, auc/rust: 0.9936, auc/scab: 0.9915\n",
      "\n"
     ]
    },
    {
     "data": {
      "application/vnd.jupyter.widget-view+json": {
       "model_id": "7fe06eb419da4e7bb468558d7fdf3137",
       "version_major": 2,
       "version_minor": 0
      },
      "text/plain": [
       "HBox(children=(FloatProgress(value=0.0, description='Train', max=46.0, style=ProgressStyle(description_width='…"
      ]
     },
     "metadata": {},
     "output_type": "display_data"
    },
    {
     "name": "stdout",
     "output_type": "stream",
     "text": [
      "\n",
      "Epoch: 28 | Time: 0m 20s\n",
      "Training Results - Average Loss: 0.5970 | auc/_mean: 0.9208 | auc/healthy: 0.9842 | auc/multiple_diseases: 0.7318, auc/rust: 0.9858, auc/scab: 0.9813\n",
      "Evaluating Results - Average Loss: 0.5472 | auc/_mean: 0.9032 | auc/healthy: 0.9896 | auc/multiple_diseases: 0.6370, auc/rust: 0.9937, auc/scab: 0.9926\n",
      "\n"
     ]
    },
    {
     "data": {
      "application/vnd.jupyter.widget-view+json": {
       "model_id": "9a597864137d4afd9ba6095f869ca9a8",
       "version_major": 2,
       "version_minor": 0
      },
      "text/plain": [
       "HBox(children=(FloatProgress(value=0.0, description='Train', max=46.0, style=ProgressStyle(description_width='…"
      ]
     },
     "metadata": {},
     "output_type": "display_data"
    },
    {
     "name": "stdout",
     "output_type": "stream",
     "text": [
      "\n",
      "Epoch: 29 | Time: 0m 20s\n",
      "Training Results - Average Loss: 0.5977 | auc/_mean: 0.9234 | auc/healthy: 0.9794 | auc/multiple_diseases: 0.7444, auc/rust: 0.9855, auc/scab: 0.9840\n",
      "Evaluating Results - Average Loss: 0.5447 | auc/_mean: 0.9045 | auc/healthy: 0.9903 | auc/multiple_diseases: 0.6411, auc/rust: 0.9935, auc/scab: 0.9930\n",
      "\n"
     ]
    },
    {
     "data": {
      "application/vnd.jupyter.widget-view+json": {
       "model_id": "aae3937081e4464f95f72c1546fa2158",
       "version_major": 2,
       "version_minor": 0
      },
      "text/plain": [
       "HBox(children=(FloatProgress(value=0.0, description='Train', max=46.0, style=ProgressStyle(description_width='…"
      ]
     },
     "metadata": {},
     "output_type": "display_data"
    },
    {
     "name": "stdout",
     "output_type": "stream",
     "text": [
      "\n",
      "Epoch: 30 | Time: 0m 20s\n",
      "Training Results - Average Loss: 0.5910 | auc/_mean: 0.9148 | auc/healthy: 0.9869 | auc/multiple_diseases: 0.7057, auc/rust: 0.9887, auc/scab: 0.9781\n",
      "Evaluating Results - Average Loss: 0.5407 | auc/_mean: 0.9068 | auc/healthy: 0.9909 | auc/multiple_diseases: 0.6487, auc/rust: 0.9940, auc/scab: 0.9934\n",
      "\n"
     ]
    },
    {
     "data": {
      "application/vnd.jupyter.widget-view+json": {
       "model_id": "49ed2167b600487b90db72499b4f7f60",
       "version_major": 2,
       "version_minor": 0
      },
      "text/plain": [
       "HBox(children=(FloatProgress(value=0.0, description='Train', max=46.0, style=ProgressStyle(description_width='…"
      ]
     },
     "metadata": {},
     "output_type": "display_data"
    },
    {
     "name": "stdout",
     "output_type": "stream",
     "text": [
      "\n",
      "Epoch: 31 | Time: 0m 20s\n",
      "Training Results - Average Loss: 0.5740 | auc/_mean: 0.9363 | auc/healthy: 0.9873 | auc/multiple_diseases: 0.7869, auc/rust: 0.9884, auc/scab: 0.9824\n",
      "Evaluating Results - Average Loss: 0.5366 | auc/_mean: 0.9095 | auc/healthy: 0.9911 | auc/multiple_diseases: 0.6585, auc/rust: 0.9942, auc/scab: 0.9941\n",
      "\n"
     ]
    },
    {
     "data": {
      "application/vnd.jupyter.widget-view+json": {
       "model_id": "f545ee30eb284b688d6cbdca59734cee",
       "version_major": 2,
       "version_minor": 0
      },
      "text/plain": [
       "HBox(children=(FloatProgress(value=0.0, description='Train', max=46.0, style=ProgressStyle(description_width='…"
      ]
     },
     "metadata": {},
     "output_type": "display_data"
    },
    {
     "name": "stdout",
     "output_type": "stream",
     "text": [
      "\n",
      "Epoch: 32 | Time: 0m 19s\n",
      "Training Results - Average Loss: 0.5784 | auc/_mean: 0.9365 | auc/healthy: 0.9850 | auc/multiple_diseases: 0.7883, auc/rust: 0.9894, auc/scab: 0.9834\n",
      "Evaluating Results - Average Loss: 0.5331 | auc/_mean: 0.9130 | auc/healthy: 0.9917 | auc/multiple_diseases: 0.6716, auc/rust: 0.9942, auc/scab: 0.9944\n",
      "\n"
     ]
    },
    {
     "data": {
      "application/vnd.jupyter.widget-view+json": {
       "model_id": "ab3a1bab4573404c844942c570655eb5",
       "version_major": 2,
       "version_minor": 0
      },
      "text/plain": [
       "HBox(children=(FloatProgress(value=0.0, description='Train', max=46.0, style=ProgressStyle(description_width='…"
      ]
     },
     "metadata": {},
     "output_type": "display_data"
    },
    {
     "name": "stdout",
     "output_type": "stream",
     "text": [
      "\n",
      "Epoch: 33 | Time: 0m 20s\n",
      "Training Results - Average Loss: 0.5707 | auc/_mean: 0.9375 | auc/healthy: 0.9877 | auc/multiple_diseases: 0.7920, auc/rust: 0.9867, auc/scab: 0.9835\n",
      "Evaluating Results - Average Loss: 0.5291 | auc/_mean: 0.9148 | auc/healthy: 0.9920 | auc/multiple_diseases: 0.6779, auc/rust: 0.9943, auc/scab: 0.9950\n",
      "\n"
     ]
    },
    {
     "data": {
      "application/vnd.jupyter.widget-view+json": {
       "model_id": "e37310a60aa346c5924439cdb8d27c0b",
       "version_major": 2,
       "version_minor": 0
      },
      "text/plain": [
       "HBox(children=(FloatProgress(value=0.0, description='Train', max=46.0, style=ProgressStyle(description_width='…"
      ]
     },
     "metadata": {},
     "output_type": "display_data"
    },
    {
     "name": "stdout",
     "output_type": "stream",
     "text": [
      "\n",
      "Epoch: 34 | Time: 0m 20s\n",
      "Training Results - Average Loss: 0.5696 | auc/_mean: 0.9378 | auc/healthy: 0.9889 | auc/multiple_diseases: 0.7900, auc/rust: 0.9888, auc/scab: 0.9835\n",
      "Evaluating Results - Average Loss: 0.5264 | auc/_mean: 0.9164 | auc/healthy: 0.9925 | auc/multiple_diseases: 0.6835, auc/rust: 0.9944, auc/scab: 0.9951\n",
      "\n"
     ]
    },
    {
     "data": {
      "application/vnd.jupyter.widget-view+json": {
       "model_id": "714e30bda7dd477a91253bb8e3f04f27",
       "version_major": 2,
       "version_minor": 0
      },
      "text/plain": [
       "HBox(children=(FloatProgress(value=0.0, description='Train', max=46.0, style=ProgressStyle(description_width='…"
      ]
     },
     "metadata": {},
     "output_type": "display_data"
    },
    {
     "name": "stdout",
     "output_type": "stream",
     "text": [
      "\n",
      "Epoch: 35 | Time: 0m 20s\n",
      "Training Results - Average Loss: 0.5689 | auc/_mean: 0.9344 | auc/healthy: 0.9880 | auc/multiple_diseases: 0.7777, auc/rust: 0.9887, auc/scab: 0.9833\n",
      "Evaluating Results - Average Loss: 0.5247 | auc/_mean: 0.9195 | auc/healthy: 0.9930 | auc/multiple_diseases: 0.6952, auc/rust: 0.9943, auc/scab: 0.9954\n",
      "\n"
     ]
    },
    {
     "data": {
      "application/vnd.jupyter.widget-view+json": {
       "model_id": "5b2484c6b86f4d03b973c00d826ff16c",
       "version_major": 2,
       "version_minor": 0
      },
      "text/plain": [
       "HBox(children=(FloatProgress(value=0.0, description='Train', max=46.0, style=ProgressStyle(description_width='…"
      ]
     },
     "metadata": {},
     "output_type": "display_data"
    },
    {
     "name": "stdout",
     "output_type": "stream",
     "text": [
      "\n",
      "Epoch: 36 | Time: 0m 21s\n",
      "Training Results - Average Loss: 0.5636 | auc/_mean: 0.9398 | auc/healthy: 0.9853 | auc/multiple_diseases: 0.7955, auc/rust: 0.9897, auc/scab: 0.9886\n",
      "Evaluating Results - Average Loss: 0.5223 | auc/_mean: 0.9218 | auc/healthy: 0.9937 | auc/multiple_diseases: 0.7037, auc/rust: 0.9940, auc/scab: 0.9958\n",
      "\n"
     ]
    },
    {
     "data": {
      "application/vnd.jupyter.widget-view+json": {
       "model_id": "e6c08d7d297447c09b6cdfdb3c4050d3",
       "version_major": 2,
       "version_minor": 0
      },
      "text/plain": [
       "HBox(children=(FloatProgress(value=0.0, description='Train', max=46.0, style=ProgressStyle(description_width='…"
      ]
     },
     "metadata": {},
     "output_type": "display_data"
    },
    {
     "name": "stdout",
     "output_type": "stream",
     "text": [
      "\n",
      "Epoch: 37 | Time: 0m 20s\n",
      "Training Results - Average Loss: 0.5688 | auc/_mean: 0.9301 | auc/healthy: 0.9855 | auc/multiple_diseases: 0.7602, auc/rust: 0.9894, auc/scab: 0.9854\n",
      "Evaluating Results - Average Loss: 0.5209 | auc/_mean: 0.9253 | auc/healthy: 0.9937 | auc/multiple_diseases: 0.7176, auc/rust: 0.9943, auc/scab: 0.9958\n",
      "\n"
     ]
    },
    {
     "data": {
      "application/vnd.jupyter.widget-view+json": {
       "model_id": "e697ac1bf1ac423987cbdc8f58526e75",
       "version_major": 2,
       "version_minor": 0
      },
      "text/plain": [
       "HBox(children=(FloatProgress(value=0.0, description='Train', max=46.0, style=ProgressStyle(description_width='…"
      ]
     },
     "metadata": {},
     "output_type": "display_data"
    },
    {
     "name": "stdout",
     "output_type": "stream",
     "text": [
      "\n",
      "Epoch: 38 | Time: 0m 20s\n",
      "Training Results - Average Loss: 0.5509 | auc/_mean: 0.9394 | auc/healthy: 0.9886 | auc/multiple_diseases: 0.7891, auc/rust: 0.9909, auc/scab: 0.9890\n",
      "Evaluating Results - Average Loss: 0.5185 | auc/_mean: 0.9268 | auc/healthy: 0.9937 | auc/multiple_diseases: 0.7230, auc/rust: 0.9943, auc/scab: 0.9960\n",
      "\n"
     ]
    },
    {
     "data": {
      "application/vnd.jupyter.widget-view+json": {
       "model_id": "deb631c7832747b99e4ebfdb5e84d778",
       "version_major": 2,
       "version_minor": 0
      },
      "text/plain": [
       "HBox(children=(FloatProgress(value=0.0, description='Train', max=46.0, style=ProgressStyle(description_width='…"
      ]
     },
     "metadata": {},
     "output_type": "display_data"
    },
    {
     "name": "stdout",
     "output_type": "stream",
     "text": [
      "\n",
      "Epoch: 39 | Time: 0m 20s\n",
      "Training Results - Average Loss: 0.5681 | auc/_mean: 0.9380 | auc/healthy: 0.9858 | auc/multiple_diseases: 0.7938, auc/rust: 0.9867, auc/scab: 0.9858\n",
      "Evaluating Results - Average Loss: 0.5156 | auc/_mean: 0.9281 | auc/healthy: 0.9941 | auc/multiple_diseases: 0.7278, auc/rust: 0.9943, auc/scab: 0.9962\n",
      "\n"
     ]
    },
    {
     "data": {
      "application/vnd.jupyter.widget-view+json": {
       "model_id": "c8bf8326bf3348409a61f7afd17c8db4",
       "version_major": 2,
       "version_minor": 0
      },
      "text/plain": [
       "HBox(children=(FloatProgress(value=0.0, description='Train', max=46.0, style=ProgressStyle(description_width='…"
      ]
     },
     "metadata": {},
     "output_type": "display_data"
    },
    {
     "name": "stdout",
     "output_type": "stream",
     "text": [
      "\n",
      "Epoch: 40 | Time: 0m 20s\n",
      "Training Results - Average Loss: 0.5473 | auc/_mean: 0.9481 | auc/healthy: 0.9890 | auc/multiple_diseases: 0.8229, auc/rust: 0.9913, auc/scab: 0.9892\n",
      "Evaluating Results - Average Loss: 0.5138 | auc/_mean: 0.9302 | auc/healthy: 0.9943 | auc/multiple_diseases: 0.7357, auc/rust: 0.9944, auc/scab: 0.9962\n",
      "\n"
     ]
    },
    {
     "data": {
      "application/vnd.jupyter.widget-view+json": {
       "model_id": "3eba8df94a404d4d991696488847ae7e",
       "version_major": 2,
       "version_minor": 0
      },
      "text/plain": [
       "HBox(children=(FloatProgress(value=0.0, description='Train', max=46.0, style=ProgressStyle(description_width='…"
      ]
     },
     "metadata": {},
     "output_type": "display_data"
    },
    {
     "name": "stdout",
     "output_type": "stream",
     "text": [
      "\n",
      "Epoch: 41 | Time: 0m 19s\n",
      "Training Results - Average Loss: 0.5536 | auc/_mean: 0.9472 | auc/healthy: 0.9907 | auc/multiple_diseases: 0.8218, auc/rust: 0.9893, auc/scab: 0.9871\n",
      "Evaluating Results - Average Loss: 0.5127 | auc/_mean: 0.9318 | auc/healthy: 0.9948 | auc/multiple_diseases: 0.7414, auc/rust: 0.9945, auc/scab: 0.9963\n",
      "\n"
     ]
    },
    {
     "data": {
      "application/vnd.jupyter.widget-view+json": {
       "model_id": "d34177dd5a2d4676b78127f02a6fe129",
       "version_major": 2,
       "version_minor": 0
      },
      "text/plain": [
       "HBox(children=(FloatProgress(value=0.0, description='Train', max=46.0, style=ProgressStyle(description_width='…"
      ]
     },
     "metadata": {},
     "output_type": "display_data"
    },
    {
     "name": "stdout",
     "output_type": "stream",
     "text": [
      "\n",
      "Epoch: 42 | Time: 0m 20s\n",
      "Training Results - Average Loss: 0.5523 | auc/_mean: 0.9363 | auc/healthy: 0.9906 | auc/multiple_diseases: 0.7767, auc/rust: 0.9905, auc/scab: 0.9875\n",
      "Evaluating Results - Average Loss: 0.5108 | auc/_mean: 0.9321 | auc/healthy: 0.9947 | auc/multiple_diseases: 0.7427, auc/rust: 0.9944, auc/scab: 0.9965\n",
      "\n"
     ]
    },
    {
     "data": {
      "application/vnd.jupyter.widget-view+json": {
       "model_id": "7e1637394891482890b66ceea3a6a918",
       "version_major": 2,
       "version_minor": 0
      },
      "text/plain": [
       "HBox(children=(FloatProgress(value=0.0, description='Train', max=46.0, style=ProgressStyle(description_width='…"
      ]
     },
     "metadata": {},
     "output_type": "display_data"
    },
    {
     "name": "stdout",
     "output_type": "stream",
     "text": [
      "\n",
      "Epoch: 43 | Time: 0m 19s\n",
      "Training Results - Average Loss: 0.5386 | auc/_mean: 0.9464 | auc/healthy: 0.9891 | auc/multiple_diseases: 0.8131, auc/rust: 0.9936, auc/scab: 0.9898\n",
      "Evaluating Results - Average Loss: 0.5085 | auc/_mean: 0.9340 | auc/healthy: 0.9954 | auc/multiple_diseases: 0.7494, auc/rust: 0.9944, auc/scab: 0.9968\n",
      "\n"
     ]
    },
    {
     "data": {
      "application/vnd.jupyter.widget-view+json": {
       "model_id": "6698ac95542140ac94c0ad4b72dceb90",
       "version_major": 2,
       "version_minor": 0
      },
      "text/plain": [
       "HBox(children=(FloatProgress(value=0.0, description='Train', max=46.0, style=ProgressStyle(description_width='…"
      ]
     },
     "metadata": {},
     "output_type": "display_data"
    },
    {
     "name": "stdout",
     "output_type": "stream",
     "text": [
      "\n",
      "Epoch: 44 | Time: 0m 20s\n",
      "Training Results - Average Loss: 0.5463 | auc/_mean: 0.9452 | auc/healthy: 0.9901 | auc/multiple_diseases: 0.8116, auc/rust: 0.9906, auc/scab: 0.9885\n",
      "Evaluating Results - Average Loss: 0.5074 | auc/_mean: 0.9357 | auc/healthy: 0.9954 | auc/multiple_diseases: 0.7562, auc/rust: 0.9944, auc/scab: 0.9968\n",
      "\n"
     ]
    },
    {
     "data": {
      "application/vnd.jupyter.widget-view+json": {
       "model_id": "65cea9c43ebe42fe8e3cd9e1a9ebc8d9",
       "version_major": 2,
       "version_minor": 0
      },
      "text/plain": [
       "HBox(children=(FloatProgress(value=0.0, description='Train', max=46.0, style=ProgressStyle(description_width='…"
      ]
     },
     "metadata": {},
     "output_type": "display_data"
    },
    {
     "name": "stdout",
     "output_type": "stream",
     "text": [
      "\n",
      "Epoch: 45 | Time: 0m 20s\n",
      "Training Results - Average Loss: 0.5366 | auc/_mean: 0.9570 | auc/healthy: 0.9916 | auc/multiple_diseases: 0.8559, auc/rust: 0.9915, auc/scab: 0.9892\n",
      "Evaluating Results - Average Loss: 0.5060 | auc/_mean: 0.9377 | auc/healthy: 0.9957 | auc/multiple_diseases: 0.7637, auc/rust: 0.9944, auc/scab: 0.9969\n",
      "\n"
     ]
    },
    {
     "data": {
      "application/vnd.jupyter.widget-view+json": {
       "model_id": "201f69ea09094ce3b95869d53a7dfae5",
       "version_major": 2,
       "version_minor": 0
      },
      "text/plain": [
       "HBox(children=(FloatProgress(value=0.0, description='Train', max=46.0, style=ProgressStyle(description_width='…"
      ]
     },
     "metadata": {},
     "output_type": "display_data"
    },
    {
     "name": "stdout",
     "output_type": "stream",
     "text": [
      "\n",
      "Epoch: 46 | Time: 0m 20s\n",
      "Training Results - Average Loss: 0.5453 | auc/_mean: 0.9559 | auc/healthy: 0.9886 | auc/multiple_diseases: 0.8532, auc/rust: 0.9908, auc/scab: 0.9911\n",
      "Evaluating Results - Average Loss: 0.5045 | auc/_mean: 0.9380 | auc/healthy: 0.9959 | auc/multiple_diseases: 0.7648, auc/rust: 0.9944, auc/scab: 0.9969\n",
      "\n"
     ]
    },
    {
     "data": {
      "application/vnd.jupyter.widget-view+json": {
       "model_id": "99ea188a3f4340b5ae75bb162fc68334",
       "version_major": 2,
       "version_minor": 0
      },
      "text/plain": [
       "HBox(children=(FloatProgress(value=0.0, description='Train', max=46.0, style=ProgressStyle(description_width='…"
      ]
     },
     "metadata": {},
     "output_type": "display_data"
    },
    {
     "name": "stdout",
     "output_type": "stream",
     "text": [
      "\n",
      "Epoch: 47 | Time: 0m 20s\n",
      "Training Results - Average Loss: 0.5357 | auc/_mean: 0.9519 | auc/healthy: 0.9901 | auc/multiple_diseases: 0.8372, auc/rust: 0.9902, auc/scab: 0.9900\n",
      "Evaluating Results - Average Loss: 0.5013 | auc/_mean: 0.9404 | auc/healthy: 0.9959 | auc/multiple_diseases: 0.7741, auc/rust: 0.9945, auc/scab: 0.9971\n",
      "\n"
     ]
    },
    {
     "data": {
      "application/vnd.jupyter.widget-view+json": {
       "model_id": "4e0792759b0541afbc60dde240e506e1",
       "version_major": 2,
       "version_minor": 0
      },
      "text/plain": [
       "HBox(children=(FloatProgress(value=0.0, description='Train', max=46.0, style=ProgressStyle(description_width='…"
      ]
     },
     "metadata": {},
     "output_type": "display_data"
    },
    {
     "name": "stdout",
     "output_type": "stream",
     "text": [
      "\n",
      "Epoch: 48 | Time: 0m 20s\n",
      "Training Results - Average Loss: 0.5234 | auc/_mean: 0.9640 | auc/healthy: 0.9936 | auc/multiple_diseases: 0.8821, auc/rust: 0.9916, auc/scab: 0.9887\n",
      "Evaluating Results - Average Loss: 0.5010 | auc/_mean: 0.9410 | auc/healthy: 0.9959 | auc/multiple_diseases: 0.7767, auc/rust: 0.9945, auc/scab: 0.9971\n",
      "\n"
     ]
    },
    {
     "data": {
      "application/vnd.jupyter.widget-view+json": {
       "model_id": "63e20ec2cd064a37a74ecca75626b985",
       "version_major": 2,
       "version_minor": 0
      },
      "text/plain": [
       "HBox(children=(FloatProgress(value=0.0, description='Train', max=46.0, style=ProgressStyle(description_width='…"
      ]
     },
     "metadata": {},
     "output_type": "display_data"
    },
    {
     "name": "stdout",
     "output_type": "stream",
     "text": [
      "\n",
      "Epoch: 49 | Time: 0m 20s\n",
      "Training Results - Average Loss: 0.5359 | auc/_mean: 0.9562 | auc/healthy: 0.9925 | auc/multiple_diseases: 0.8546, auc/rust: 0.9911, auc/scab: 0.9866\n",
      "Evaluating Results - Average Loss: 0.4979 | auc/_mean: 0.9435 | auc/healthy: 0.9961 | auc/multiple_diseases: 0.7859, auc/rust: 0.9946, auc/scab: 0.9975\n",
      "\n"
     ]
    },
    {
     "data": {
      "application/vnd.jupyter.widget-view+json": {
       "model_id": "4e662beca3204a28b3d789199a2bc29f",
       "version_major": 2,
       "version_minor": 0
      },
      "text/plain": [
       "HBox(children=(FloatProgress(value=0.0, description='Train', max=46.0, style=ProgressStyle(description_width='…"
      ]
     },
     "metadata": {},
     "output_type": "display_data"
    },
    {
     "name": "stdout",
     "output_type": "stream",
     "text": [
      "\n",
      "Epoch: 50 | Time: 0m 20s\n",
      "Training Results - Average Loss: 0.5282 | auc/_mean: 0.9584 | auc/healthy: 0.9909 | auc/multiple_diseases: 0.8588, auc/rust: 0.9948, auc/scab: 0.9891\n",
      "Evaluating Results - Average Loss: 0.4970 | auc/_mean: 0.9457 | auc/healthy: 0.9963 | auc/multiple_diseases: 0.7946, auc/rust: 0.9945, auc/scab: 0.9975\n",
      "\n"
     ]
    },
    {
     "data": {
      "application/vnd.jupyter.widget-view+json": {
       "model_id": "0afe56202320498c85043b920fd0b2aa",
       "version_major": 2,
       "version_minor": 0
      },
      "text/plain": [
       "HBox(children=(FloatProgress(value=0.0, description='Train', max=46.0, style=ProgressStyle(description_width='…"
      ]
     },
     "metadata": {},
     "output_type": "display_data"
    },
    {
     "name": "stdout",
     "output_type": "stream",
     "text": [
      "\n",
      "Epoch: 51 | Time: 0m 20s\n",
      "Training Results - Average Loss: 0.5250 | auc/_mean: 0.9574 | auc/healthy: 0.9927 | auc/multiple_diseases: 0.8535, auc/rust: 0.9917, auc/scab: 0.9919\n",
      "Evaluating Results - Average Loss: 0.4959 | auc/_mean: 0.9471 | auc/healthy: 0.9962 | auc/multiple_diseases: 0.8000, auc/rust: 0.9947, auc/scab: 0.9974\n",
      "\n"
     ]
    },
    {
     "data": {
      "application/vnd.jupyter.widget-view+json": {
       "model_id": "35d1ccc0fe174823ab53e1708a86b4f1",
       "version_major": 2,
       "version_minor": 0
      },
      "text/plain": [
       "HBox(children=(FloatProgress(value=0.0, description='Train', max=46.0, style=ProgressStyle(description_width='…"
      ]
     },
     "metadata": {},
     "output_type": "display_data"
    },
    {
     "name": "stdout",
     "output_type": "stream",
     "text": [
      "\n",
      "Epoch: 52 | Time: 0m 20s\n",
      "Training Results - Average Loss: 0.5304 | auc/_mean: 0.9680 | auc/healthy: 0.9920 | auc/multiple_diseases: 0.8992, auc/rust: 0.9915, auc/scab: 0.9892\n",
      "Evaluating Results - Average Loss: 0.4953 | auc/_mean: 0.9484 | auc/healthy: 0.9961 | auc/multiple_diseases: 0.8055, auc/rust: 0.9948, auc/scab: 0.9974\n",
      "\n"
     ]
    },
    {
     "data": {
      "application/vnd.jupyter.widget-view+json": {
       "model_id": "7c35a780f7414d94b7924b451d6427c0",
       "version_major": 2,
       "version_minor": 0
      },
      "text/plain": [
       "HBox(children=(FloatProgress(value=0.0, description='Train', max=46.0, style=ProgressStyle(description_width='…"
      ]
     },
     "metadata": {},
     "output_type": "display_data"
    },
    {
     "name": "stdout",
     "output_type": "stream",
     "text": [
      "\n",
      "Epoch: 53 | Time: 0m 20s\n",
      "Training Results - Average Loss: 0.5204 | auc/_mean: 0.9632 | auc/healthy: 0.9944 | auc/multiple_diseases: 0.8752, auc/rust: 0.9928, auc/scab: 0.9904\n",
      "Evaluating Results - Average Loss: 0.4939 | auc/_mean: 0.9497 | auc/healthy: 0.9962 | auc/multiple_diseases: 0.8103, auc/rust: 0.9948, auc/scab: 0.9976\n",
      "\n"
     ]
    },
    {
     "data": {
      "application/vnd.jupyter.widget-view+json": {
       "model_id": "7bca288ce59d45268562a12d10cee052",
       "version_major": 2,
       "version_minor": 0
      },
      "text/plain": [
       "HBox(children=(FloatProgress(value=0.0, description='Train', max=46.0, style=ProgressStyle(description_width='…"
      ]
     },
     "metadata": {},
     "output_type": "display_data"
    },
    {
     "name": "stdout",
     "output_type": "stream",
     "text": [
      "\n",
      "Epoch: 54 | Time: 0m 20s\n",
      "Training Results - Average Loss: 0.5230 | auc/_mean: 0.9610 | auc/healthy: 0.9933 | auc/multiple_diseases: 0.8685, auc/rust: 0.9932, auc/scab: 0.9890\n",
      "Evaluating Results - Average Loss: 0.4927 | auc/_mean: 0.9522 | auc/healthy: 0.9961 | auc/multiple_diseases: 0.8202, auc/rust: 0.9950, auc/scab: 0.9975\n",
      "\n"
     ]
    },
    {
     "data": {
      "application/vnd.jupyter.widget-view+json": {
       "model_id": "04f45dc7bd574fc588a643b0587767ca",
       "version_major": 2,
       "version_minor": 0
      },
      "text/plain": [
       "HBox(children=(FloatProgress(value=0.0, description='Train', max=46.0, style=ProgressStyle(description_width='…"
      ]
     },
     "metadata": {},
     "output_type": "display_data"
    },
    {
     "name": "stdout",
     "output_type": "stream",
     "text": [
      "\n",
      "Epoch: 55 | Time: 0m 20s\n",
      "Training Results - Average Loss: 0.5266 | auc/_mean: 0.9595 | auc/healthy: 0.9925 | auc/multiple_diseases: 0.8645, auc/rust: 0.9915, auc/scab: 0.9896\n",
      "Evaluating Results - Average Loss: 0.4917 | auc/_mean: 0.9532 | auc/healthy: 0.9962 | auc/multiple_diseases: 0.8244, auc/rust: 0.9949, auc/scab: 0.9975\n",
      "\n"
     ]
    },
    {
     "data": {
      "application/vnd.jupyter.widget-view+json": {
       "model_id": "95179388928046deb8d75df30d3499f6",
       "version_major": 2,
       "version_minor": 0
      },
      "text/plain": [
       "HBox(children=(FloatProgress(value=0.0, description='Train', max=46.0, style=ProgressStyle(description_width='…"
      ]
     },
     "metadata": {},
     "output_type": "display_data"
    },
    {
     "name": "stdout",
     "output_type": "stream",
     "text": [
      "\n",
      "Epoch: 56 | Time: 0m 20s\n",
      "Training Results - Average Loss: 0.5108 | auc/_mean: 0.9709 | auc/healthy: 0.9936 | auc/multiple_diseases: 0.9051, auc/rust: 0.9951, auc/scab: 0.9897\n",
      "Evaluating Results - Average Loss: 0.4911 | auc/_mean: 0.9531 | auc/healthy: 0.9963 | auc/multiple_diseases: 0.8234, auc/rust: 0.9949, auc/scab: 0.9976\n",
      "\n"
     ]
    },
    {
     "data": {
      "application/vnd.jupyter.widget-view+json": {
       "model_id": "5a4345dbb641479eaa20ebb3778d53e7",
       "version_major": 2,
       "version_minor": 0
      },
      "text/plain": [
       "HBox(children=(FloatProgress(value=0.0, description='Train', max=46.0, style=ProgressStyle(description_width='…"
      ]
     },
     "metadata": {},
     "output_type": "display_data"
    },
    {
     "name": "stdout",
     "output_type": "stream",
     "text": [
      "\n",
      "Epoch: 57 | Time: 0m 20s\n",
      "Training Results - Average Loss: 0.5075 | auc/_mean: 0.9646 | auc/healthy: 0.9949 | auc/multiple_diseases: 0.8766, auc/rust: 0.9930, auc/scab: 0.9938\n",
      "Evaluating Results - Average Loss: 0.4891 | auc/_mean: 0.9545 | auc/healthy: 0.9964 | auc/multiple_diseases: 0.8290, auc/rust: 0.9947, auc/scab: 0.9978\n",
      "\n"
     ]
    },
    {
     "data": {
      "application/vnd.jupyter.widget-view+json": {
       "model_id": "0be0475f51f844b4a78d6247a02af8e7",
       "version_major": 2,
       "version_minor": 0
      },
      "text/plain": [
       "HBox(children=(FloatProgress(value=0.0, description='Train', max=46.0, style=ProgressStyle(description_width='…"
      ]
     },
     "metadata": {},
     "output_type": "display_data"
    },
    {
     "name": "stdout",
     "output_type": "stream",
     "text": [
      "\n",
      "Epoch: 58 | Time: 0m 20s\n",
      "Training Results - Average Loss: 0.5127 | auc/_mean: 0.9637 | auc/healthy: 0.9947 | auc/multiple_diseases: 0.8763, auc/rust: 0.9936, auc/scab: 0.9902\n",
      "Evaluating Results - Average Loss: 0.4876 | auc/_mean: 0.9554 | auc/healthy: 0.9966 | auc/multiple_diseases: 0.8322, auc/rust: 0.9949, auc/scab: 0.9978\n",
      "\n"
     ]
    },
    {
     "data": {
      "application/vnd.jupyter.widget-view+json": {
       "model_id": "4321e4ad43c443f1a97285c31d4939de",
       "version_major": 2,
       "version_minor": 0
      },
      "text/plain": [
       "HBox(children=(FloatProgress(value=0.0, description='Train', max=46.0, style=ProgressStyle(description_width='…"
      ]
     },
     "metadata": {},
     "output_type": "display_data"
    },
    {
     "name": "stdout",
     "output_type": "stream",
     "text": [
      "\n",
      "Epoch: 59 | Time: 0m 20s\n",
      "Training Results - Average Loss: 0.5126 | auc/_mean: 0.9764 | auc/healthy: 0.9921 | auc/multiple_diseases: 0.9279, auc/rust: 0.9936, auc/scab: 0.9920\n",
      "Evaluating Results - Average Loss: 0.4867 | auc/_mean: 0.9554 | auc/healthy: 0.9967 | auc/multiple_diseases: 0.8321, auc/rust: 0.9949, auc/scab: 0.9978\n",
      "\n"
     ]
    },
    {
     "data": {
      "application/vnd.jupyter.widget-view+json": {
       "model_id": "4e9b05b369ef4656bc544ce9df077bd6",
       "version_major": 2,
       "version_minor": 0
      },
      "text/plain": [
       "HBox(children=(FloatProgress(value=0.0, description='Train', max=46.0, style=ProgressStyle(description_width='…"
      ]
     },
     "metadata": {},
     "output_type": "display_data"
    },
    {
     "name": "stdout",
     "output_type": "stream",
     "text": [
      "\n",
      "Epoch: 60 | Time: 0m 21s\n",
      "Training Results - Average Loss: 0.5157 | auc/_mean: 0.9710 | auc/healthy: 0.9936 | auc/multiple_diseases: 0.9063, auc/rust: 0.9926, auc/scab: 0.9912\n",
      "Evaluating Results - Average Loss: 0.4866 | auc/_mean: 0.9555 | auc/healthy: 0.9967 | auc/multiple_diseases: 0.8325, auc/rust: 0.9948, auc/scab: 0.9979\n",
      "\n"
     ]
    },
    {
     "data": {
      "application/vnd.jupyter.widget-view+json": {
       "model_id": "4e5e7bab2e5d474b96a411054dcc0b83",
       "version_major": 2,
       "version_minor": 0
      },
      "text/plain": [
       "HBox(children=(FloatProgress(value=0.0, description='Train', max=46.0, style=ProgressStyle(description_width='…"
      ]
     },
     "metadata": {},
     "output_type": "display_data"
    },
    {
     "name": "stdout",
     "output_type": "stream",
     "text": [
      "\n",
      "Epoch: 61 | Time: 0m 19s\n",
      "Training Results - Average Loss: 0.5142 | auc/_mean: 0.9744 | auc/healthy: 0.9941 | auc/multiple_diseases: 0.9212, auc/rust: 0.9927, auc/scab: 0.9895\n",
      "Evaluating Results - Average Loss: 0.4854 | auc/_mean: 0.9569 | auc/healthy: 0.9969 | auc/multiple_diseases: 0.8378, auc/rust: 0.9951, auc/scab: 0.9979\n",
      "\n"
     ]
    },
    {
     "data": {
      "application/vnd.jupyter.widget-view+json": {
       "model_id": "8d1a980608c84738b2226a9cb4ff179c",
       "version_major": 2,
       "version_minor": 0
      },
      "text/plain": [
       "HBox(children=(FloatProgress(value=0.0, description='Train', max=46.0, style=ProgressStyle(description_width='…"
      ]
     },
     "metadata": {},
     "output_type": "display_data"
    },
    {
     "name": "stdout",
     "output_type": "stream",
     "text": [
      "\n",
      "Epoch: 62 | Time: 0m 19s\n",
      "Training Results - Average Loss: 0.4971 | auc/_mean: 0.9808 | auc/healthy: 0.9951 | auc/multiple_diseases: 0.9403, auc/rust: 0.9946, auc/scab: 0.9930\n",
      "Evaluating Results - Average Loss: 0.4845 | auc/_mean: 0.9575 | auc/healthy: 0.9967 | auc/multiple_diseases: 0.8404, auc/rust: 0.9949, auc/scab: 0.9980\n",
      "\n"
     ]
    },
    {
     "data": {
      "application/vnd.jupyter.widget-view+json": {
       "model_id": "387e2cf684ea4a52b41198208f79bfba",
       "version_major": 2,
       "version_minor": 0
      },
      "text/plain": [
       "HBox(children=(FloatProgress(value=0.0, description='Train', max=46.0, style=ProgressStyle(description_width='…"
      ]
     },
     "metadata": {},
     "output_type": "display_data"
    },
    {
     "name": "stdout",
     "output_type": "stream",
     "text": [
      "\n",
      "Epoch: 63 | Time: 0m 20s\n",
      "Training Results - Average Loss: 0.5032 | auc/_mean: 0.9726 | auc/healthy: 0.9920 | auc/multiple_diseases: 0.9102, auc/rust: 0.9949, auc/scab: 0.9934\n",
      "Evaluating Results - Average Loss: 0.4840 | auc/_mean: 0.9588 | auc/healthy: 0.9970 | auc/multiple_diseases: 0.8453, auc/rust: 0.9952, auc/scab: 0.9979\n",
      "\n"
     ]
    },
    {
     "data": {
      "application/vnd.jupyter.widget-view+json": {
       "model_id": "b15ae41f867a48fd8c6c4bb461adec00",
       "version_major": 2,
       "version_minor": 0
      },
      "text/plain": [
       "HBox(children=(FloatProgress(value=0.0, description='Train', max=46.0, style=ProgressStyle(description_width='…"
      ]
     },
     "metadata": {},
     "output_type": "display_data"
    },
    {
     "name": "stdout",
     "output_type": "stream",
     "text": [
      "\n",
      "Epoch: 64 | Time: 0m 20s\n",
      "Training Results - Average Loss: 0.4888 | auc/_mean: 0.9788 | auc/healthy: 0.9961 | auc/multiple_diseases: 0.9288, auc/rust: 0.9946, auc/scab: 0.9958\n",
      "Evaluating Results - Average Loss: 0.4826 | auc/_mean: 0.9599 | auc/healthy: 0.9970 | auc/multiple_diseases: 0.8493, auc/rust: 0.9952, auc/scab: 0.9979\n",
      "\n"
     ]
    },
    {
     "data": {
      "application/vnd.jupyter.widget-view+json": {
       "model_id": "5e934a505e3040c6adee8c06a7ce5ac5",
       "version_major": 2,
       "version_minor": 0
      },
      "text/plain": [
       "HBox(children=(FloatProgress(value=0.0, description='Train', max=46.0, style=ProgressStyle(description_width='…"
      ]
     },
     "metadata": {},
     "output_type": "display_data"
    },
    {
     "name": "stdout",
     "output_type": "stream",
     "text": [
      "\n",
      "Epoch: 65 | Time: 0m 20s\n",
      "Training Results - Average Loss: 0.4939 | auc/_mean: 0.9709 | auc/healthy: 0.9961 | auc/multiple_diseases: 0.8983, auc/rust: 0.9964, auc/scab: 0.9927\n",
      "Evaluating Results - Average Loss: 0.4796 | auc/_mean: 0.9622 | auc/healthy: 0.9971 | auc/multiple_diseases: 0.8580, auc/rust: 0.9955, auc/scab: 0.9982\n",
      "\n"
     ]
    },
    {
     "data": {
      "application/vnd.jupyter.widget-view+json": {
       "model_id": "e958ea23810f4715992f944d61763aca",
       "version_major": 2,
       "version_minor": 0
      },
      "text/plain": [
       "HBox(children=(FloatProgress(value=0.0, description='Train', max=46.0, style=ProgressStyle(description_width='…"
      ]
     },
     "metadata": {},
     "output_type": "display_data"
    },
    {
     "name": "stdout",
     "output_type": "stream",
     "text": [
      "\n",
      "Epoch: 66 | Time: 0m 20s\n",
      "Training Results - Average Loss: 0.4979 | auc/_mean: 0.9750 | auc/healthy: 0.9955 | auc/multiple_diseases: 0.9173, auc/rust: 0.9937, auc/scab: 0.9933\n",
      "Evaluating Results - Average Loss: 0.4791 | auc/_mean: 0.9622 | auc/healthy: 0.9971 | auc/multiple_diseases: 0.8581, auc/rust: 0.9956, auc/scab: 0.9981\n",
      "\n"
     ]
    },
    {
     "data": {
      "application/vnd.jupyter.widget-view+json": {
       "model_id": "cf1b9479731544498decfc36c037d0e0",
       "version_major": 2,
       "version_minor": 0
      },
      "text/plain": [
       "HBox(children=(FloatProgress(value=0.0, description='Train', max=46.0, style=ProgressStyle(description_width='…"
      ]
     },
     "metadata": {},
     "output_type": "display_data"
    },
    {
     "name": "stdout",
     "output_type": "stream",
     "text": [
      "\n",
      "Epoch: 67 | Time: 0m 19s\n",
      "Training Results - Average Loss: 0.5004 | auc/_mean: 0.9754 | auc/healthy: 0.9945 | auc/multiple_diseases: 0.9195, auc/rust: 0.9929, auc/scab: 0.9947\n",
      "Evaluating Results - Average Loss: 0.4775 | auc/_mean: 0.9630 | auc/healthy: 0.9971 | auc/multiple_diseases: 0.8609, auc/rust: 0.9956, auc/scab: 0.9982\n",
      "\n"
     ]
    },
    {
     "data": {
      "application/vnd.jupyter.widget-view+json": {
       "model_id": "332367fbe8ab4221b8a7217c7a5250de",
       "version_major": 2,
       "version_minor": 0
      },
      "text/plain": [
       "HBox(children=(FloatProgress(value=0.0, description='Train', max=46.0, style=ProgressStyle(description_width='…"
      ]
     },
     "metadata": {},
     "output_type": "display_data"
    },
    {
     "name": "stdout",
     "output_type": "stream",
     "text": [
      "\n",
      "Epoch: 68 | Time: 0m 20s\n",
      "Training Results - Average Loss: 0.4988 | auc/_mean: 0.9759 | auc/healthy: 0.9946 | auc/multiple_diseases: 0.9218, auc/rust: 0.9923, auc/scab: 0.9950\n",
      "Evaluating Results - Average Loss: 0.4776 | auc/_mean: 0.9632 | auc/healthy: 0.9973 | auc/multiple_diseases: 0.8620, auc/rust: 0.9954, auc/scab: 0.9982\n",
      "\n"
     ]
    },
    {
     "data": {
      "application/vnd.jupyter.widget-view+json": {
       "model_id": "039a57301849467caa41f233bfdf5f4e",
       "version_major": 2,
       "version_minor": 0
      },
      "text/plain": [
       "HBox(children=(FloatProgress(value=0.0, description='Train', max=46.0, style=ProgressStyle(description_width='…"
      ]
     },
     "metadata": {},
     "output_type": "display_data"
    },
    {
     "name": "stdout",
     "output_type": "stream",
     "text": [
      "\n",
      "Epoch: 69 | Time: 0m 19s\n",
      "Training Results - Average Loss: 0.4932 | auc/_mean: 0.9807 | auc/healthy: 0.9954 | auc/multiple_diseases: 0.9383, auc/rust: 0.9949, auc/scab: 0.9943\n",
      "Evaluating Results - Average Loss: 0.4779 | auc/_mean: 0.9642 | auc/healthy: 0.9974 | auc/multiple_diseases: 0.8657, auc/rust: 0.9955, auc/scab: 0.9981\n",
      "\n"
     ]
    },
    {
     "data": {
      "application/vnd.jupyter.widget-view+json": {
       "model_id": "7bb2aa5cb1ec4996a2162d91dd5f408b",
       "version_major": 2,
       "version_minor": 0
      },
      "text/plain": [
       "HBox(children=(FloatProgress(value=0.0, description='Train', max=46.0, style=ProgressStyle(description_width='…"
      ]
     },
     "metadata": {},
     "output_type": "display_data"
    },
    {
     "name": "stdout",
     "output_type": "stream",
     "text": [
      "\n",
      "Epoch: 70 | Time: 0m 20s\n",
      "Training Results - Average Loss: 0.5012 | auc/_mean: 0.9754 | auc/healthy: 0.9951 | auc/multiple_diseases: 0.9189, auc/rust: 0.9955, auc/scab: 0.9920\n",
      "Evaluating Results - Average Loss: 0.4765 | auc/_mean: 0.9642 | auc/healthy: 0.9973 | auc/multiple_diseases: 0.8660, auc/rust: 0.9956, auc/scab: 0.9981\n",
      "\n"
     ]
    },
    {
     "data": {
      "application/vnd.jupyter.widget-view+json": {
       "model_id": "443512cca3f94362a12f8288e19cabf6",
       "version_major": 2,
       "version_minor": 0
      },
      "text/plain": [
       "HBox(children=(FloatProgress(value=0.0, description='Train', max=46.0, style=ProgressStyle(description_width='…"
      ]
     },
     "metadata": {},
     "output_type": "display_data"
    },
    {
     "name": "stdout",
     "output_type": "stream",
     "text": [
      "\n",
      "Epoch: 71 | Time: 0m 20s\n",
      "Training Results - Average Loss: 0.4824 | auc/_mean: 0.9773 | auc/healthy: 0.9972 | auc/multiple_diseases: 0.9214, auc/rust: 0.9946, auc/scab: 0.9959\n",
      "Evaluating Results - Average Loss: 0.4744 | auc/_mean: 0.9665 | auc/healthy: 0.9975 | auc/multiple_diseases: 0.8746, auc/rust: 0.9958, auc/scab: 0.9981\n",
      "\n"
     ]
    },
    {
     "data": {
      "application/vnd.jupyter.widget-view+json": {
       "model_id": "c74b19af55e84e79896049b90fc60507",
       "version_major": 2,
       "version_minor": 0
      },
      "text/plain": [
       "HBox(children=(FloatProgress(value=0.0, description='Train', max=46.0, style=ProgressStyle(description_width='…"
      ]
     },
     "metadata": {},
     "output_type": "display_data"
    },
    {
     "name": "stdout",
     "output_type": "stream",
     "text": [
      "\n",
      "Epoch: 72 | Time: 0m 20s\n",
      "Training Results - Average Loss: 0.5060 | auc/_mean: 0.9747 | auc/healthy: 0.9929 | auc/multiple_diseases: 0.9208, auc/rust: 0.9911, auc/scab: 0.9939\n",
      "Evaluating Results - Average Loss: 0.4729 | auc/_mean: 0.9667 | auc/healthy: 0.9977 | auc/multiple_diseases: 0.8750, auc/rust: 0.9958, auc/scab: 0.9983\n",
      "\n"
     ]
    },
    {
     "data": {
      "application/vnd.jupyter.widget-view+json": {
       "model_id": "4ee1530ef13040a0b24f0247ccc935f2",
       "version_major": 2,
       "version_minor": 0
      },
      "text/plain": [
       "HBox(children=(FloatProgress(value=0.0, description='Train', max=46.0, style=ProgressStyle(description_width='…"
      ]
     },
     "metadata": {},
     "output_type": "display_data"
    },
    {
     "name": "stdout",
     "output_type": "stream",
     "text": [
      "\n",
      "Epoch: 73 | Time: 0m 20s\n",
      "Training Results - Average Loss: 0.4797 | auc/_mean: 0.9853 | auc/healthy: 0.9962 | auc/multiple_diseases: 0.9547, auc/rust: 0.9959, auc/scab: 0.9945\n",
      "Evaluating Results - Average Loss: 0.4735 | auc/_mean: 0.9665 | auc/healthy: 0.9975 | auc/multiple_diseases: 0.8745, auc/rust: 0.9959, auc/scab: 0.9980\n",
      "\n"
     ]
    },
    {
     "data": {
      "application/vnd.jupyter.widget-view+json": {
       "model_id": "59d2e642adea421c8f90fff22028ee83",
       "version_major": 2,
       "version_minor": 0
      },
      "text/plain": [
       "HBox(children=(FloatProgress(value=0.0, description='Train', max=46.0, style=ProgressStyle(description_width='…"
      ]
     },
     "metadata": {},
     "output_type": "display_data"
    },
    {
     "name": "stdout",
     "output_type": "stream",
     "text": [
      "\n",
      "Epoch: 74 | Time: 0m 20s\n",
      "Training Results - Average Loss: 0.4862 | auc/_mean: 0.9838 | auc/healthy: 0.9964 | auc/multiple_diseases: 0.9482, auc/rust: 0.9956, auc/scab: 0.9949\n",
      "Evaluating Results - Average Loss: 0.4726 | auc/_mean: 0.9663 | auc/healthy: 0.9974 | auc/multiple_diseases: 0.8738, auc/rust: 0.9959, auc/scab: 0.9980\n",
      "\n"
     ]
    },
    {
     "data": {
      "application/vnd.jupyter.widget-view+json": {
       "model_id": "1335a74561f7437b91733cbaa5908c4c",
       "version_major": 2,
       "version_minor": 0
      },
      "text/plain": [
       "HBox(children=(FloatProgress(value=0.0, description='Train', max=46.0, style=ProgressStyle(description_width='…"
      ]
     },
     "metadata": {},
     "output_type": "display_data"
    },
    {
     "name": "stdout",
     "output_type": "stream",
     "text": [
      "\n",
      "Epoch: 75 | Time: 0m 20s\n",
      "Training Results - Average Loss: 0.4939 | auc/_mean: 0.9783 | auc/healthy: 0.9946 | auc/multiple_diseases: 0.9328, auc/rust: 0.9917, auc/scab: 0.9942\n",
      "Evaluating Results - Average Loss: 0.4726 | auc/_mean: 0.9672 | auc/healthy: 0.9973 | auc/multiple_diseases: 0.8777, auc/rust: 0.9959, auc/scab: 0.9980\n",
      "\n"
     ]
    },
    {
     "data": {
      "application/vnd.jupyter.widget-view+json": {
       "model_id": "c2a716426ca74c43923627d6dea3dbd9",
       "version_major": 2,
       "version_minor": 0
      },
      "text/plain": [
       "HBox(children=(FloatProgress(value=0.0, description='Train', max=46.0, style=ProgressStyle(description_width='…"
      ]
     },
     "metadata": {},
     "output_type": "display_data"
    },
    {
     "name": "stdout",
     "output_type": "stream",
     "text": [
      "\n",
      "Epoch: 76 | Time: 0m 20s\n",
      "Training Results - Average Loss: 0.4942 | auc/_mean: 0.9822 | auc/healthy: 0.9954 | auc/multiple_diseases: 0.9465, auc/rust: 0.9954, auc/scab: 0.9917\n",
      "Evaluating Results - Average Loss: 0.4717 | auc/_mean: 0.9687 | auc/healthy: 0.9975 | auc/multiple_diseases: 0.8830, auc/rust: 0.9962, auc/scab: 0.9980\n",
      "\n"
     ]
    },
    {
     "data": {
      "application/vnd.jupyter.widget-view+json": {
       "model_id": "354c130547444d8ebd8db2e815b8b385",
       "version_major": 2,
       "version_minor": 0
      },
      "text/plain": [
       "HBox(children=(FloatProgress(value=0.0, description='Train', max=46.0, style=ProgressStyle(description_width='…"
      ]
     },
     "metadata": {},
     "output_type": "display_data"
    },
    {
     "name": "stdout",
     "output_type": "stream",
     "text": [
      "\n",
      "Epoch: 77 | Time: 0m 20s\n",
      "Training Results - Average Loss: 0.4866 | auc/_mean: 0.9762 | auc/healthy: 0.9959 | auc/multiple_diseases: 0.9190, auc/rust: 0.9946, auc/scab: 0.9953\n",
      "Evaluating Results - Average Loss: 0.4712 | auc/_mean: 0.9681 | auc/healthy: 0.9975 | auc/multiple_diseases: 0.8807, auc/rust: 0.9961, auc/scab: 0.9980\n",
      "\n"
     ]
    },
    {
     "data": {
      "application/vnd.jupyter.widget-view+json": {
       "model_id": "b53d2881fe424c2bb5f3440d98c8384f",
       "version_major": 2,
       "version_minor": 0
      },
      "text/plain": [
       "HBox(children=(FloatProgress(value=0.0, description='Train', max=46.0, style=ProgressStyle(description_width='…"
      ]
     },
     "metadata": {},
     "output_type": "display_data"
    },
    {
     "name": "stdout",
     "output_type": "stream",
     "text": [
      "\n",
      "Epoch: 78 | Time: 0m 20s\n",
      "Training Results - Average Loss: 0.4827 | auc/_mean: 0.9827 | auc/healthy: 0.9958 | auc/multiple_diseases: 0.9465, auc/rust: 0.9945, auc/scab: 0.9941\n",
      "Evaluating Results - Average Loss: 0.4712 | auc/_mean: 0.9680 | auc/healthy: 0.9976 | auc/multiple_diseases: 0.8806, auc/rust: 0.9960, auc/scab: 0.9978\n",
      "\n"
     ]
    },
    {
     "data": {
      "application/vnd.jupyter.widget-view+json": {
       "model_id": "161c257a77784c92bd69f6683451109b",
       "version_major": 2,
       "version_minor": 0
      },
      "text/plain": [
       "HBox(children=(FloatProgress(value=0.0, description='Train', max=46.0, style=ProgressStyle(description_width='…"
      ]
     },
     "metadata": {},
     "output_type": "display_data"
    },
    {
     "name": "stdout",
     "output_type": "stream",
     "text": [
      "\n",
      "Epoch: 79 | Time: 0m 19s\n",
      "Training Results - Average Loss: 0.4715 | auc/_mean: 0.9843 | auc/healthy: 0.9975 | auc/multiple_diseases: 0.9466, auc/rust: 0.9960, auc/scab: 0.9969\n",
      "Evaluating Results - Average Loss: 0.4701 | auc/_mean: 0.9688 | auc/healthy: 0.9976 | auc/multiple_diseases: 0.8838, auc/rust: 0.9960, auc/scab: 0.9981\n",
      "\n"
     ]
    },
    {
     "data": {
      "application/vnd.jupyter.widget-view+json": {
       "model_id": "d2207e24b3304bf18448f8ff79cb0f36",
       "version_major": 2,
       "version_minor": 0
      },
      "text/plain": [
       "HBox(children=(FloatProgress(value=0.0, description='Train', max=46.0, style=ProgressStyle(description_width='…"
      ]
     },
     "metadata": {},
     "output_type": "display_data"
    },
    {
     "name": "stdout",
     "output_type": "stream",
     "text": [
      "\n",
      "Epoch: 80 | Time: 0m 20s\n",
      "Training Results - Average Loss: 0.4798 | auc/_mean: 0.9852 | auc/healthy: 0.9961 | auc/multiple_diseases: 0.9550, auc/rust: 0.9965, auc/scab: 0.9934\n",
      "Evaluating Results - Average Loss: 0.4704 | auc/_mean: 0.9690 | auc/healthy: 0.9977 | auc/multiple_diseases: 0.8841, auc/rust: 0.9961, auc/scab: 0.9980\n",
      "\n"
     ]
    },
    {
     "data": {
      "application/vnd.jupyter.widget-view+json": {
       "model_id": "86992993d9ec4a25b5e6dc23cbb46c83",
       "version_major": 2,
       "version_minor": 0
      },
      "text/plain": [
       "HBox(children=(FloatProgress(value=0.0, description='Train', max=46.0, style=ProgressStyle(description_width='…"
      ]
     },
     "metadata": {},
     "output_type": "display_data"
    },
    {
     "name": "stdout",
     "output_type": "stream",
     "text": [
      "\n",
      "Epoch: 81 | Time: 0m 20s\n",
      "Training Results - Average Loss: 0.4815 | auc/_mean: 0.9832 | auc/healthy: 0.9955 | auc/multiple_diseases: 0.9498, auc/rust: 0.9933, auc/scab: 0.9942\n",
      "Evaluating Results - Average Loss: 0.4687 | auc/_mean: 0.9695 | auc/healthy: 0.9978 | auc/multiple_diseases: 0.8862, auc/rust: 0.9959, auc/scab: 0.9981\n",
      "\n"
     ]
    },
    {
     "data": {
      "application/vnd.jupyter.widget-view+json": {
       "model_id": "b8595d5d210247dcad76d09f24d9c2fc",
       "version_major": 2,
       "version_minor": 0
      },
      "text/plain": [
       "HBox(children=(FloatProgress(value=0.0, description='Train', max=46.0, style=ProgressStyle(description_width='…"
      ]
     },
     "metadata": {},
     "output_type": "display_data"
    },
    {
     "name": "stdout",
     "output_type": "stream",
     "text": [
      "\n",
      "Epoch: 82 | Time: 0m 20s\n",
      "Training Results - Average Loss: 0.4844 | auc/_mean: 0.9820 | auc/healthy: 0.9956 | auc/multiple_diseases: 0.9412, auc/rust: 0.9961, auc/scab: 0.9950\n",
      "Evaluating Results - Average Loss: 0.4686 | auc/_mean: 0.9697 | auc/healthy: 0.9979 | auc/multiple_diseases: 0.8871, auc/rust: 0.9960, auc/scab: 0.9978\n",
      "\n"
     ]
    },
    {
     "data": {
      "application/vnd.jupyter.widget-view+json": {
       "model_id": "a2dd843eee514c38bde24b444e8812ee",
       "version_major": 2,
       "version_minor": 0
      },
      "text/plain": [
       "HBox(children=(FloatProgress(value=0.0, description='Train', max=46.0, style=ProgressStyle(description_width='…"
      ]
     },
     "metadata": {},
     "output_type": "display_data"
    },
    {
     "name": "stdout",
     "output_type": "stream",
     "text": [
      "\n",
      "Epoch: 83 | Time: 0m 20s\n",
      "Training Results - Average Loss: 0.4723 | auc/_mean: 0.9906 | auc/healthy: 0.9968 | auc/multiple_diseases: 0.9749, auc/rust: 0.9955, auc/scab: 0.9950\n",
      "Evaluating Results - Average Loss: 0.4676 | auc/_mean: 0.9699 | auc/healthy: 0.9977 | auc/multiple_diseases: 0.8879, auc/rust: 0.9960, auc/scab: 0.9981\n",
      "\n"
     ]
    },
    {
     "data": {
      "application/vnd.jupyter.widget-view+json": {
       "model_id": "3e7895d29bb04675a44c7dbb3c5356a8",
       "version_major": 2,
       "version_minor": 0
      },
      "text/plain": [
       "HBox(children=(FloatProgress(value=0.0, description='Train', max=46.0, style=ProgressStyle(description_width='…"
      ]
     },
     "metadata": {},
     "output_type": "display_data"
    },
    {
     "name": "stdout",
     "output_type": "stream",
     "text": [
      "\n",
      "Epoch: 84 | Time: 0m 21s\n",
      "Training Results - Average Loss: 0.4733 | auc/_mean: 0.9865 | auc/healthy: 0.9968 | auc/multiple_diseases: 0.9580, auc/rust: 0.9962, auc/scab: 0.9951\n",
      "Evaluating Results - Average Loss: 0.4658 | auc/_mean: 0.9700 | auc/healthy: 0.9979 | auc/multiple_diseases: 0.8879, auc/rust: 0.9962, auc/scab: 0.9981\n",
      "\n"
     ]
    },
    {
     "data": {
      "application/vnd.jupyter.widget-view+json": {
       "model_id": "b29580afcb66419b870d9e5f997e5463",
       "version_major": 2,
       "version_minor": 0
      },
      "text/plain": [
       "HBox(children=(FloatProgress(value=0.0, description='Train', max=46.0, style=ProgressStyle(description_width='…"
      ]
     },
     "metadata": {},
     "output_type": "display_data"
    },
    {
     "name": "stdout",
     "output_type": "stream",
     "text": [
      "\n",
      "Epoch: 85 | Time: 0m 20s\n",
      "Training Results - Average Loss: 0.4899 | auc/_mean: 0.9794 | auc/healthy: 0.9959 | auc/multiple_diseases: 0.9388, auc/rust: 0.9897, auc/scab: 0.9930\n",
      "Evaluating Results - Average Loss: 0.4658 | auc/_mean: 0.9714 | auc/healthy: 0.9979 | auc/multiple_diseases: 0.8934, auc/rust: 0.9962, auc/scab: 0.9982\n",
      "\n"
     ]
    },
    {
     "data": {
      "application/vnd.jupyter.widget-view+json": {
       "model_id": "5e299b0dd23e4b42970c6852b97c8898",
       "version_major": 2,
       "version_minor": 0
      },
      "text/plain": [
       "HBox(children=(FloatProgress(value=0.0, description='Train', max=46.0, style=ProgressStyle(description_width='…"
      ]
     },
     "metadata": {},
     "output_type": "display_data"
    },
    {
     "name": "stdout",
     "output_type": "stream",
     "text": [
      "\n",
      "Epoch: 86 | Time: 0m 20s\n",
      "Training Results - Average Loss: 0.4759 | auc/_mean: 0.9824 | auc/healthy: 0.9975 | auc/multiple_diseases: 0.9441, auc/rust: 0.9939, auc/scab: 0.9940\n",
      "Evaluating Results - Average Loss: 0.4643 | auc/_mean: 0.9720 | auc/healthy: 0.9980 | auc/multiple_diseases: 0.8955, auc/rust: 0.9964, auc/scab: 0.9982\n",
      "\n"
     ]
    },
    {
     "data": {
      "application/vnd.jupyter.widget-view+json": {
       "model_id": "d4a7a2ce676244be946c86f2a29c621d",
       "version_major": 2,
       "version_minor": 0
      },
      "text/plain": [
       "HBox(children=(FloatProgress(value=0.0, description='Train', max=46.0, style=ProgressStyle(description_width='…"
      ]
     },
     "metadata": {},
     "output_type": "display_data"
    },
    {
     "name": "stdout",
     "output_type": "stream",
     "text": [
      "\n",
      "Epoch: 87 | Time: 0m 20s\n",
      "Training Results - Average Loss: 0.4625 | auc/_mean: 0.9843 | auc/healthy: 0.9985 | auc/multiple_diseases: 0.9476, auc/rust: 0.9941, auc/scab: 0.9971\n",
      "Evaluating Results - Average Loss: 0.4634 | auc/_mean: 0.9720 | auc/healthy: 0.9980 | auc/multiple_diseases: 0.8951, auc/rust: 0.9967, auc/scab: 0.9980\n",
      "\n"
     ]
    },
    {
     "data": {
      "application/vnd.jupyter.widget-view+json": {
       "model_id": "75798a498cbe4c7e8ca5cc841620b5fe",
       "version_major": 2,
       "version_minor": 0
      },
      "text/plain": [
       "HBox(children=(FloatProgress(value=0.0, description='Train', max=46.0, style=ProgressStyle(description_width='…"
      ]
     },
     "metadata": {},
     "output_type": "display_data"
    },
    {
     "name": "stdout",
     "output_type": "stream",
     "text": [
      "\n",
      "Epoch: 88 | Time: 0m 20s\n",
      "Training Results - Average Loss: 0.4734 | auc/_mean: 0.9834 | auc/healthy: 0.9952 | auc/multiple_diseases: 0.9472, auc/rust: 0.9957, auc/scab: 0.9956\n",
      "Evaluating Results - Average Loss: 0.4637 | auc/_mean: 0.9718 | auc/healthy: 0.9980 | auc/multiple_diseases: 0.8945, auc/rust: 0.9966, auc/scab: 0.9979\n",
      "\n"
     ]
    },
    {
     "data": {
      "application/vnd.jupyter.widget-view+json": {
       "model_id": "034abaae85324ff88c4ea604e62d3a41",
       "version_major": 2,
       "version_minor": 0
      },
      "text/plain": [
       "HBox(children=(FloatProgress(value=0.0, description='Train', max=46.0, style=ProgressStyle(description_width='…"
      ]
     },
     "metadata": {},
     "output_type": "display_data"
    },
    {
     "name": "stdout",
     "output_type": "stream",
     "text": [
      "\n",
      "Epoch: 89 | Time: 0m 20s\n",
      "Training Results - Average Loss: 0.4844 | auc/_mean: 0.9789 | auc/healthy: 0.9958 | auc/multiple_diseases: 0.9303, auc/rust: 0.9949, auc/scab: 0.9945\n",
      "Evaluating Results - Average Loss: 0.4624 | auc/_mean: 0.9718 | auc/healthy: 0.9982 | auc/multiple_diseases: 0.8942, auc/rust: 0.9967, auc/scab: 0.9980\n",
      "\n"
     ]
    },
    {
     "data": {
      "application/vnd.jupyter.widget-view+json": {
       "model_id": "01b3b514cde34a7ab8d5ae90dce7211e",
       "version_major": 2,
       "version_minor": 0
      },
      "text/plain": [
       "HBox(children=(FloatProgress(value=0.0, description='Train', max=46.0, style=ProgressStyle(description_width='…"
      ]
     },
     "metadata": {},
     "output_type": "display_data"
    },
    {
     "name": "stdout",
     "output_type": "stream",
     "text": [
      "\n",
      "Epoch: 90 | Time: 0m 23s\n",
      "Training Results - Average Loss: 0.4605 | auc/_mean: 0.9894 | auc/healthy: 0.9963 | auc/multiple_diseases: 0.9670, auc/rust: 0.9974, auc/scab: 0.9967\n",
      "Evaluating Results - Average Loss: 0.4615 | auc/_mean: 0.9722 | auc/healthy: 0.9982 | auc/multiple_diseases: 0.8959, auc/rust: 0.9965, auc/scab: 0.9982\n",
      "\n"
     ]
    },
    {
     "data": {
      "application/vnd.jupyter.widget-view+json": {
       "model_id": "7c39f2392f544ef994ad6196fe8503c3",
       "version_major": 2,
       "version_minor": 0
      },
      "text/plain": [
       "HBox(children=(FloatProgress(value=0.0, description='Train', max=46.0, style=ProgressStyle(description_width='…"
      ]
     },
     "metadata": {},
     "output_type": "display_data"
    },
    {
     "name": "stdout",
     "output_type": "stream",
     "text": [
      "\n",
      "Epoch: 91 | Time: 0m 20s\n",
      "Training Results - Average Loss: 0.4701 | auc/_mean: 0.9866 | auc/healthy: 0.9970 | auc/multiple_diseases: 0.9580, auc/rust: 0.9968, auc/scab: 0.9944\n",
      "Evaluating Results - Average Loss: 0.4616 | auc/_mean: 0.9730 | auc/healthy: 0.9982 | auc/multiple_diseases: 0.8990, auc/rust: 0.9965, auc/scab: 0.9982\n",
      "\n"
     ]
    },
    {
     "data": {
      "application/vnd.jupyter.widget-view+json": {
       "model_id": "5036074223944cca8d22aaa348c98dac",
       "version_major": 2,
       "version_minor": 0
      },
      "text/plain": [
       "HBox(children=(FloatProgress(value=0.0, description='Train', max=46.0, style=ProgressStyle(description_width='…"
      ]
     },
     "metadata": {},
     "output_type": "display_data"
    },
    {
     "name": "stdout",
     "output_type": "stream",
     "text": [
      "\n",
      "Epoch: 92 | Time: 0m 19s\n",
      "Training Results - Average Loss: 0.4692 | auc/_mean: 0.9866 | auc/healthy: 0.9972 | auc/multiple_diseases: 0.9589, auc/rust: 0.9960, auc/scab: 0.9944\n",
      "Evaluating Results - Average Loss: 0.4585 | auc/_mean: 0.9725 | auc/healthy: 0.9983 | auc/multiple_diseases: 0.8967, auc/rust: 0.9967, auc/scab: 0.9983\n",
      "\n"
     ]
    },
    {
     "data": {
      "application/vnd.jupyter.widget-view+json": {
       "model_id": "91fd0fd9e1c44facaeaf189c2ef0f5fd",
       "version_major": 2,
       "version_minor": 0
      },
      "text/plain": [
       "HBox(children=(FloatProgress(value=0.0, description='Train', max=46.0, style=ProgressStyle(description_width='…"
      ]
     },
     "metadata": {},
     "output_type": "display_data"
    },
    {
     "name": "stdout",
     "output_type": "stream",
     "text": [
      "\n",
      "Epoch: 93 | Time: 0m 20s\n",
      "Training Results - Average Loss: 0.4695 | auc/_mean: 0.9869 | auc/healthy: 0.9949 | auc/multiple_diseases: 0.9621, auc/rust: 0.9934, auc/scab: 0.9971\n",
      "Evaluating Results - Average Loss: 0.4594 | auc/_mean: 0.9726 | auc/healthy: 0.9983 | auc/multiple_diseases: 0.8972, auc/rust: 0.9968, auc/scab: 0.9981\n",
      "\n"
     ]
    },
    {
     "data": {
      "application/vnd.jupyter.widget-view+json": {
       "model_id": "08ff50d7b0c649aa97a88a1906aae4d9",
       "version_major": 2,
       "version_minor": 0
      },
      "text/plain": [
       "HBox(children=(FloatProgress(value=0.0, description='Train', max=46.0, style=ProgressStyle(description_width='…"
      ]
     },
     "metadata": {},
     "output_type": "display_data"
    },
    {
     "name": "stdout",
     "output_type": "stream",
     "text": [
      "\n",
      "Epoch: 94 | Time: 0m 20s\n",
      "Training Results - Average Loss: 0.4560 | auc/_mean: 0.9890 | auc/healthy: 0.9951 | auc/multiple_diseases: 0.9661, auc/rust: 0.9978, auc/scab: 0.9971\n",
      "Evaluating Results - Average Loss: 0.4583 | auc/_mean: 0.9731 | auc/healthy: 0.9984 | auc/multiple_diseases: 0.8990, auc/rust: 0.9968, auc/scab: 0.9982\n",
      "\n"
     ]
    },
    {
     "data": {
      "application/vnd.jupyter.widget-view+json": {
       "model_id": "89a7aa48822049458fd29c13002cb2a9",
       "version_major": 2,
       "version_minor": 0
      },
      "text/plain": [
       "HBox(children=(FloatProgress(value=0.0, description='Train', max=46.0, style=ProgressStyle(description_width='…"
      ]
     },
     "metadata": {},
     "output_type": "display_data"
    },
    {
     "name": "stdout",
     "output_type": "stream",
     "text": [
      "\n",
      "Epoch: 95 | Time: 0m 20s\n",
      "Training Results - Average Loss: 0.4590 | auc/_mean: 0.9898 | auc/healthy: 0.9955 | auc/multiple_diseases: 0.9702, auc/rust: 0.9966, auc/scab: 0.9968\n",
      "Evaluating Results - Average Loss: 0.4595 | auc/_mean: 0.9727 | auc/healthy: 0.9983 | auc/multiple_diseases: 0.8977, auc/rust: 0.9969, auc/scab: 0.9980\n",
      "\n"
     ]
    },
    {
     "data": {
      "application/vnd.jupyter.widget-view+json": {
       "model_id": "dbcef89f98084066b717a8d4d2f0c986",
       "version_major": 2,
       "version_minor": 0
      },
      "text/plain": [
       "HBox(children=(FloatProgress(value=0.0, description='Train', max=46.0, style=ProgressStyle(description_width='…"
      ]
     },
     "metadata": {},
     "output_type": "display_data"
    },
    {
     "name": "stdout",
     "output_type": "stream",
     "text": [
      "\n",
      "Epoch: 96 | Time: 0m 20s\n",
      "Training Results - Average Loss: 0.4625 | auc/_mean: 0.9890 | auc/healthy: 0.9964 | auc/multiple_diseases: 0.9675, auc/rust: 0.9968, auc/scab: 0.9952\n",
      "Evaluating Results - Average Loss: 0.4602 | auc/_mean: 0.9725 | auc/healthy: 0.9982 | auc/multiple_diseases: 0.8974, auc/rust: 0.9967, auc/scab: 0.9977\n",
      "\n"
     ]
    },
    {
     "data": {
      "application/vnd.jupyter.widget-view+json": {
       "model_id": "ffd010ad8d614519867a51f4ce888740",
       "version_major": 2,
       "version_minor": 0
      },
      "text/plain": [
       "HBox(children=(FloatProgress(value=0.0, description='Train', max=46.0, style=ProgressStyle(description_width='…"
      ]
     },
     "metadata": {},
     "output_type": "display_data"
    },
    {
     "name": "stdout",
     "output_type": "stream",
     "text": [
      "\n",
      "Epoch: 97 | Time: 0m 20s\n",
      "Training Results - Average Loss: 0.4721 | auc/_mean: 0.9844 | auc/healthy: 0.9966 | auc/multiple_diseases: 0.9533, auc/rust: 0.9923, auc/scab: 0.9953\n",
      "Evaluating Results - Average Loss: 0.4586 | auc/_mean: 0.9736 | auc/healthy: 0.9982 | auc/multiple_diseases: 0.9014, auc/rust: 0.9971, auc/scab: 0.9979\n",
      "\n"
     ]
    },
    {
     "data": {
      "application/vnd.jupyter.widget-view+json": {
       "model_id": "600941dffe224db8a997c08c00697fd7",
       "version_major": 2,
       "version_minor": 0
      },
      "text/plain": [
       "HBox(children=(FloatProgress(value=0.0, description='Train', max=46.0, style=ProgressStyle(description_width='…"
      ]
     },
     "metadata": {},
     "output_type": "display_data"
    },
    {
     "name": "stdout",
     "output_type": "stream",
     "text": [
      "\n",
      "Epoch: 98 | Time: 0m 20s\n",
      "Training Results - Average Loss: 0.4760 | auc/_mean: 0.9878 | auc/healthy: 0.9955 | auc/multiple_diseases: 0.9650, auc/rust: 0.9967, auc/scab: 0.9940\n",
      "Evaluating Results - Average Loss: 0.4593 | auc/_mean: 0.9731 | auc/healthy: 0.9982 | auc/multiple_diseases: 0.8998, auc/rust: 0.9971, auc/scab: 0.9975\n",
      "\n"
     ]
    },
    {
     "data": {
      "application/vnd.jupyter.widget-view+json": {
       "model_id": "58070d2e89ce490f94341e7254cd88b5",
       "version_major": 2,
       "version_minor": 0
      },
      "text/plain": [
       "HBox(children=(FloatProgress(value=0.0, description='Train', max=46.0, style=ProgressStyle(description_width='…"
      ]
     },
     "metadata": {},
     "output_type": "display_data"
    },
    {
     "name": "stdout",
     "output_type": "stream",
     "text": [
      "\n",
      "Epoch: 99 | Time: 0m 22s\n",
      "Training Results - Average Loss: 0.4586 | auc/_mean: 0.9912 | auc/healthy: 0.9973 | auc/multiple_diseases: 0.9758, auc/rust: 0.9968, auc/scab: 0.9949\n",
      "Evaluating Results - Average Loss: 0.4586 | auc/_mean: 0.9735 | auc/healthy: 0.9982 | auc/multiple_diseases: 0.9012, auc/rust: 0.9972, auc/scab: 0.9975\n",
      "\n"
     ]
    },
    {
     "data": {
      "application/vnd.jupyter.widget-view+json": {
       "model_id": "c74b307a6dbb45aebf9119a70ddca3b4",
       "version_major": 2,
       "version_minor": 0
      },
      "text/plain": [
       "HBox(children=(FloatProgress(value=0.0, description='Train', max=46.0, style=ProgressStyle(description_width='…"
      ]
     },
     "metadata": {},
     "output_type": "display_data"
    },
    {
     "name": "stdout",
     "output_type": "stream",
     "text": [
      "\n",
      "Epoch: 100 | Time: 0m 20s\n",
      "Training Results - Average Loss: 0.4684 | auc/_mean: 0.9885 | auc/healthy: 0.9941 | auc/multiple_diseases: 0.9705, auc/rust: 0.9970, auc/scab: 0.9926\n",
      "Evaluating Results - Average Loss: 0.4588 | auc/_mean: 0.9736 | auc/healthy: 0.9982 | auc/multiple_diseases: 0.9014, auc/rust: 0.9974, auc/scab: 0.9973\n",
      "\n"
     ]
    },
    {
     "data": {
      "application/vnd.jupyter.widget-view+json": {
       "model_id": "cf420016dbf84437bb00b0755bdb7869",
       "version_major": 2,
       "version_minor": 0
      },
      "text/plain": [
       "HBox(children=(FloatProgress(value=0.0, description='Train', max=46.0, style=ProgressStyle(description_width='…"
      ]
     },
     "metadata": {},
     "output_type": "display_data"
    },
    {
     "name": "stdout",
     "output_type": "stream",
     "text": [
      "\n",
      "Epoch: 101 | Time: 0m 20s\n",
      "Training Results - Average Loss: 0.4546 | auc/_mean: 0.9904 | auc/healthy: 0.9954 | auc/multiple_diseases: 0.9717, auc/rust: 0.9982, auc/scab: 0.9964\n",
      "Evaluating Results - Average Loss: 0.4584 | auc/_mean: 0.9740 | auc/healthy: 0.9983 | auc/multiple_diseases: 0.9028, auc/rust: 0.9973, auc/scab: 0.9974\n",
      "\n"
     ]
    },
    {
     "data": {
      "application/vnd.jupyter.widget-view+json": {
       "model_id": "8f23b72585794a4f936c064232c00463",
       "version_major": 2,
       "version_minor": 0
      },
      "text/plain": [
       "HBox(children=(FloatProgress(value=0.0, description='Train', max=46.0, style=ProgressStyle(description_width='…"
      ]
     },
     "metadata": {},
     "output_type": "display_data"
    },
    {
     "name": "stdout",
     "output_type": "stream",
     "text": [
      "\n",
      "Epoch: 102 | Time: 0m 20s\n",
      "Training Results - Average Loss: 0.4571 | auc/_mean: 0.9897 | auc/healthy: 0.9973 | auc/multiple_diseases: 0.9702, auc/rust: 0.9979, auc/scab: 0.9935\n",
      "Evaluating Results - Average Loss: 0.4567 | auc/_mean: 0.9740 | auc/healthy: 0.9982 | auc/multiple_diseases: 0.9030, auc/rust: 0.9973, auc/scab: 0.9977\n",
      "\n"
     ]
    },
    {
     "data": {
      "application/vnd.jupyter.widget-view+json": {
       "model_id": "970ebac089af44309519bd4cdce4be14",
       "version_major": 2,
       "version_minor": 0
      },
      "text/plain": [
       "HBox(children=(FloatProgress(value=0.0, description='Train', max=46.0, style=ProgressStyle(description_width='…"
      ]
     },
     "metadata": {},
     "output_type": "display_data"
    },
    {
     "name": "stdout",
     "output_type": "stream",
     "text": [
      "\n",
      "Epoch: 103 | Time: 0m 19s\n",
      "Training Results - Average Loss: 0.4491 | auc/_mean: 0.9927 | auc/healthy: 0.9976 | auc/multiple_diseases: 0.9802, auc/rust: 0.9973, auc/scab: 0.9956\n",
      "Evaluating Results - Average Loss: 0.4567 | auc/_mean: 0.9748 | auc/healthy: 0.9981 | auc/multiple_diseases: 0.9060, auc/rust: 0.9971, auc/scab: 0.9980\n",
      "\n"
     ]
    },
    {
     "data": {
      "application/vnd.jupyter.widget-view+json": {
       "model_id": "45f3463ea8ce40e18881b2ca041dab65",
       "version_major": 2,
       "version_minor": 0
      },
      "text/plain": [
       "HBox(children=(FloatProgress(value=0.0, description='Train', max=46.0, style=ProgressStyle(description_width='…"
      ]
     },
     "metadata": {},
     "output_type": "display_data"
    },
    {
     "name": "stdout",
     "output_type": "stream",
     "text": [
      "\n",
      "Epoch: 104 | Time: 0m 20s\n",
      "Training Results - Average Loss: 0.4490 | auc/_mean: 0.9904 | auc/healthy: 0.9988 | auc/multiple_diseases: 0.9701, auc/rust: 0.9954, auc/scab: 0.9972\n",
      "Evaluating Results - Average Loss: 0.4571 | auc/_mean: 0.9745 | auc/healthy: 0.9981 | auc/multiple_diseases: 0.9047, auc/rust: 0.9973, auc/scab: 0.9977\n",
      "\n"
     ]
    },
    {
     "data": {
      "application/vnd.jupyter.widget-view+json": {
       "model_id": "4aad9743708f4c579079f9a0b862b621",
       "version_major": 2,
       "version_minor": 0
      },
      "text/plain": [
       "HBox(children=(FloatProgress(value=0.0, description='Train', max=46.0, style=ProgressStyle(description_width='…"
      ]
     },
     "metadata": {},
     "output_type": "display_data"
    },
    {
     "name": "stdout",
     "output_type": "stream",
     "text": [
      "\n",
      "Epoch: 105 | Time: 0m 20s\n",
      "Training Results - Average Loss: 0.4428 | auc/_mean: 0.9948 | auc/healthy: 0.9983 | auc/multiple_diseases: 0.9864, auc/rust: 0.9972, auc/scab: 0.9973\n",
      "Evaluating Results - Average Loss: 0.4557 | auc/_mean: 0.9745 | auc/healthy: 0.9981 | auc/multiple_diseases: 0.9044, auc/rust: 0.9974, auc/scab: 0.9980\n",
      "\n"
     ]
    },
    {
     "data": {
      "application/vnd.jupyter.widget-view+json": {
       "model_id": "5078e21c659048518b67c0ce415eaa1f",
       "version_major": 2,
       "version_minor": 0
      },
      "text/plain": [
       "HBox(children=(FloatProgress(value=0.0, description='Train', max=46.0, style=ProgressStyle(description_width='…"
      ]
     },
     "metadata": {},
     "output_type": "display_data"
    },
    {
     "name": "stdout",
     "output_type": "stream",
     "text": [
      "\n",
      "Epoch: 106 | Time: 0m 20s\n",
      "Training Results - Average Loss: 0.4502 | auc/_mean: 0.9897 | auc/healthy: 0.9973 | auc/multiple_diseases: 0.9684, auc/rust: 0.9967, auc/scab: 0.9966\n",
      "Evaluating Results - Average Loss: 0.4535 | auc/_mean: 0.9746 | auc/healthy: 0.9982 | auc/multiple_diseases: 0.9046, auc/rust: 0.9974, auc/scab: 0.9982\n",
      "\n"
     ]
    },
    {
     "data": {
      "application/vnd.jupyter.widget-view+json": {
       "model_id": "6454055b4efc472bb0545e821b387619",
       "version_major": 2,
       "version_minor": 0
      },
      "text/plain": [
       "HBox(children=(FloatProgress(value=0.0, description='Train', max=46.0, style=ProgressStyle(description_width='…"
      ]
     },
     "metadata": {},
     "output_type": "display_data"
    },
    {
     "name": "stdout",
     "output_type": "stream",
     "text": [
      "\n",
      "Epoch: 107 | Time: 0m 20s\n",
      "Training Results - Average Loss: 0.4702 | auc/_mean: 0.9831 | auc/healthy: 0.9969 | auc/multiple_diseases: 0.9454, auc/rust: 0.9962, auc/scab: 0.9941\n",
      "Evaluating Results - Average Loss: 0.4526 | auc/_mean: 0.9748 | auc/healthy: 0.9984 | auc/multiple_diseases: 0.9051, auc/rust: 0.9975, auc/scab: 0.9982\n",
      "\n"
     ]
    },
    {
     "data": {
      "application/vnd.jupyter.widget-view+json": {
       "model_id": "000751826d6543e3ae08feccea64816f",
       "version_major": 2,
       "version_minor": 0
      },
      "text/plain": [
       "HBox(children=(FloatProgress(value=0.0, description='Train', max=46.0, style=ProgressStyle(description_width='…"
      ]
     },
     "metadata": {},
     "output_type": "display_data"
    },
    {
     "name": "stdout",
     "output_type": "stream",
     "text": [
      "\n",
      "Epoch: 108 | Time: 0m 20s\n",
      "Training Results - Average Loss: 0.4623 | auc/_mean: 0.9846 | auc/healthy: 0.9979 | auc/multiple_diseases: 0.9501, auc/rust: 0.9957, auc/scab: 0.9946\n",
      "Evaluating Results - Average Loss: 0.4526 | auc/_mean: 0.9754 | auc/healthy: 0.9983 | auc/multiple_diseases: 0.9078, auc/rust: 0.9975, auc/scab: 0.9982\n",
      "\n"
     ]
    },
    {
     "data": {
      "application/vnd.jupyter.widget-view+json": {
       "model_id": "d41409d91b754181b72b474d7ce66ae4",
       "version_major": 2,
       "version_minor": 0
      },
      "text/plain": [
       "HBox(children=(FloatProgress(value=0.0, description='Train', max=46.0, style=ProgressStyle(description_width='…"
      ]
     },
     "metadata": {},
     "output_type": "display_data"
    },
    {
     "name": "stdout",
     "output_type": "stream",
     "text": [
      "\n",
      "Epoch: 109 | Time: 0m 20s\n",
      "Training Results - Average Loss: 0.4386 | auc/_mean: 0.9950 | auc/healthy: 0.9984 | auc/multiple_diseases: 0.9864, auc/rust: 0.9983, auc/scab: 0.9970\n",
      "Evaluating Results - Average Loss: 0.4530 | auc/_mean: 0.9752 | auc/healthy: 0.9982 | auc/multiple_diseases: 0.9070, auc/rust: 0.9974, auc/scab: 0.9981\n",
      "\n"
     ]
    },
    {
     "data": {
      "application/vnd.jupyter.widget-view+json": {
       "model_id": "7aeaa4bd81d6443db3820217a3a4c89a",
       "version_major": 2,
       "version_minor": 0
      },
      "text/plain": [
       "HBox(children=(FloatProgress(value=0.0, description='Train', max=46.0, style=ProgressStyle(description_width='…"
      ]
     },
     "metadata": {},
     "output_type": "display_data"
    },
    {
     "name": "stdout",
     "output_type": "stream",
     "text": [
      "\n",
      "Epoch: 110 | Time: 0m 20s\n",
      "Training Results - Average Loss: 0.4401 | auc/_mean: 0.9939 | auc/healthy: 0.9985 | auc/multiple_diseases: 0.9833, auc/rust: 0.9970, auc/scab: 0.9970\n",
      "Evaluating Results - Average Loss: 0.4536 | auc/_mean: 0.9746 | auc/healthy: 0.9981 | auc/multiple_diseases: 0.9051, auc/rust: 0.9974, auc/scab: 0.9978\n",
      "\n"
     ]
    },
    {
     "data": {
      "application/vnd.jupyter.widget-view+json": {
       "model_id": "198cba0a37cf4ce198d69798871ed765",
       "version_major": 2,
       "version_minor": 0
      },
      "text/plain": [
       "HBox(children=(FloatProgress(value=0.0, description='Train', max=46.0, style=ProgressStyle(description_width='…"
      ]
     },
     "metadata": {},
     "output_type": "display_data"
    },
    {
     "name": "stdout",
     "output_type": "stream",
     "text": [
      "\n",
      "Epoch: 111 | Time: 0m 20s\n",
      "Training Results - Average Loss: 0.4467 | auc/_mean: 0.9922 | auc/healthy: 0.9982 | auc/multiple_diseases: 0.9774, auc/rust: 0.9957, auc/scab: 0.9973\n",
      "Evaluating Results - Average Loss: 0.4527 | auc/_mean: 0.9745 | auc/healthy: 0.9981 | auc/multiple_diseases: 0.9046, auc/rust: 0.9973, auc/scab: 0.9978\n",
      "\n"
     ]
    },
    {
     "data": {
      "application/vnd.jupyter.widget-view+json": {
       "model_id": "27ba7374a4fc4948922d0ae482f9cc55",
       "version_major": 2,
       "version_minor": 0
      },
      "text/plain": [
       "HBox(children=(FloatProgress(value=0.0, description='Train', max=46.0, style=ProgressStyle(description_width='…"
      ]
     },
     "metadata": {},
     "output_type": "display_data"
    },
    {
     "name": "stdout",
     "output_type": "stream",
     "text": [
      "\n",
      "Epoch: 112 | Time: 0m 19s\n",
      "Training Results - Average Loss: 0.4529 | auc/_mean: 0.9896 | auc/healthy: 0.9956 | auc/multiple_diseases: 0.9700, auc/rust: 0.9965, auc/scab: 0.9962\n",
      "Evaluating Results - Average Loss: 0.4523 | auc/_mean: 0.9743 | auc/healthy: 0.9981 | auc/multiple_diseases: 0.9041, auc/rust: 0.9973, auc/scab: 0.9979\n",
      "\n"
     ]
    },
    {
     "data": {
      "application/vnd.jupyter.widget-view+json": {
       "model_id": "48257e18183242069bdf8f89cc273890",
       "version_major": 2,
       "version_minor": 0
      },
      "text/plain": [
       "HBox(children=(FloatProgress(value=0.0, description='Train', max=46.0, style=ProgressStyle(description_width='…"
      ]
     },
     "metadata": {},
     "output_type": "display_data"
    },
    {
     "name": "stdout",
     "output_type": "stream",
     "text": [
      "\n",
      "Epoch: 113 | Time: 0m 20s\n",
      "Training Results - Average Loss: 0.4564 | auc/_mean: 0.9904 | auc/healthy: 0.9961 | auc/multiple_diseases: 0.9727, auc/rust: 0.9966, auc/scab: 0.9961\n",
      "Evaluating Results - Average Loss: 0.4530 | auc/_mean: 0.9742 | auc/healthy: 0.9983 | auc/multiple_diseases: 0.9033, auc/rust: 0.9976, auc/scab: 0.9976\n",
      "\n"
     ]
    },
    {
     "data": {
      "application/vnd.jupyter.widget-view+json": {
       "model_id": "98e3d0f1e8854d0faed8dd2f064b2f90",
       "version_major": 2,
       "version_minor": 0
      },
      "text/plain": [
       "HBox(children=(FloatProgress(value=0.0, description='Train', max=46.0, style=ProgressStyle(description_width='…"
      ]
     },
     "metadata": {},
     "output_type": "display_data"
    },
    {
     "name": "stdout",
     "output_type": "stream",
     "text": [
      "\n",
      "Epoch: 114 | Time: 0m 20s\n",
      "Training Results - Average Loss: 0.4426 | auc/_mean: 0.9904 | auc/healthy: 0.9959 | auc/multiple_diseases: 0.9724, auc/rust: 0.9983, auc/scab: 0.9952\n",
      "Evaluating Results - Average Loss: 0.4529 | auc/_mean: 0.9744 | auc/healthy: 0.9980 | auc/multiple_diseases: 0.9043, auc/rust: 0.9976, auc/scab: 0.9977\n",
      "\n"
     ]
    },
    {
     "data": {
      "application/vnd.jupyter.widget-view+json": {
       "model_id": "ca711d2f47e74167875202c482e56de7",
       "version_major": 2,
       "version_minor": 0
      },
      "text/plain": [
       "HBox(children=(FloatProgress(value=0.0, description='Train', max=46.0, style=ProgressStyle(description_width='…"
      ]
     },
     "metadata": {},
     "output_type": "display_data"
    },
    {
     "name": "stdout",
     "output_type": "stream",
     "text": [
      "\n",
      "Epoch: 115 | Time: 0m 21s\n",
      "Training Results - Average Loss: 0.4351 | auc/_mean: 0.9951 | auc/healthy: 0.9988 | auc/multiple_diseases: 0.9875, auc/rust: 0.9974, auc/scab: 0.9966\n",
      "Evaluating Results - Average Loss: 0.4522 | auc/_mean: 0.9747 | auc/healthy: 0.9980 | auc/multiple_diseases: 0.9054, auc/rust: 0.9975, auc/scab: 0.9981\n",
      "\n"
     ]
    },
    {
     "data": {
      "application/vnd.jupyter.widget-view+json": {
       "model_id": "0d91fb4917194a688cd2aa671c9d66eb",
       "version_major": 2,
       "version_minor": 0
      },
      "text/plain": [
       "HBox(children=(FloatProgress(value=0.0, description='Train', max=46.0, style=ProgressStyle(description_width='…"
      ]
     },
     "metadata": {},
     "output_type": "display_data"
    },
    {
     "name": "stdout",
     "output_type": "stream",
     "text": [
      "\n",
      "Epoch: 116 | Time: 0m 20s\n",
      "Training Results - Average Loss: 0.4500 | auc/_mean: 0.9931 | auc/healthy: 0.9970 | auc/multiple_diseases: 0.9831, auc/rust: 0.9978, auc/scab: 0.9945\n",
      "Evaluating Results - Average Loss: 0.4512 | auc/_mean: 0.9746 | auc/healthy: 0.9984 | auc/multiple_diseases: 0.9041, auc/rust: 0.9975, auc/scab: 0.9983\n",
      "\n"
     ]
    },
    {
     "data": {
      "application/vnd.jupyter.widget-view+json": {
       "model_id": "94f7941278ad40b29d707e741a07f553",
       "version_major": 2,
       "version_minor": 0
      },
      "text/plain": [
       "HBox(children=(FloatProgress(value=0.0, description='Train', max=46.0, style=ProgressStyle(description_width='…"
      ]
     },
     "metadata": {},
     "output_type": "display_data"
    },
    {
     "name": "stdout",
     "output_type": "stream",
     "text": [
      "\n",
      "Epoch: 117 | Time: 0m 20s\n",
      "Training Results - Average Loss: 0.4512 | auc/_mean: 0.9921 | auc/healthy: 0.9973 | auc/multiple_diseases: 0.9778, auc/rust: 0.9969, auc/scab: 0.9963\n",
      "Evaluating Results - Average Loss: 0.4494 | auc/_mean: 0.9747 | auc/healthy: 0.9984 | auc/multiple_diseases: 0.9047, auc/rust: 0.9975, auc/scab: 0.9982\n",
      "\n"
     ]
    },
    {
     "data": {
      "application/vnd.jupyter.widget-view+json": {
       "model_id": "d7f3e4e8750348c3811ff7f124b3808a",
       "version_major": 2,
       "version_minor": 0
      },
      "text/plain": [
       "HBox(children=(FloatProgress(value=0.0, description='Train', max=46.0, style=ProgressStyle(description_width='…"
      ]
     },
     "metadata": {},
     "output_type": "display_data"
    },
    {
     "name": "stdout",
     "output_type": "stream",
     "text": [
      "\n",
      "Epoch: 118 | Time: 0m 20s\n",
      "Training Results - Average Loss: 0.4389 | auc/_mean: 0.9917 | auc/healthy: 0.9982 | auc/multiple_diseases: 0.9727, auc/rust: 0.9980, auc/scab: 0.9978\n",
      "Evaluating Results - Average Loss: 0.4522 | auc/_mean: 0.9742 | auc/healthy: 0.9982 | auc/multiple_diseases: 0.9033, auc/rust: 0.9974, auc/scab: 0.9980\n",
      "\n"
     ]
    },
    {
     "data": {
      "application/vnd.jupyter.widget-view+json": {
       "model_id": "a4f941e332594698ac40cacaa073803e",
       "version_major": 2,
       "version_minor": 0
      },
      "text/plain": [
       "HBox(children=(FloatProgress(value=0.0, description='Train', max=46.0, style=ProgressStyle(description_width='…"
      ]
     },
     "metadata": {},
     "output_type": "display_data"
    },
    {
     "name": "stdout",
     "output_type": "stream",
     "text": [
      "\n",
      "Epoch: 119 | Time: 0m 20s\n",
      "Training Results - Average Loss: 0.4379 | auc/_mean: 0.9962 | auc/healthy: 0.9980 | auc/multiple_diseases: 0.9932, auc/rust: 0.9975, auc/scab: 0.9960\n",
      "Evaluating Results - Average Loss: 0.4515 | auc/_mean: 0.9740 | auc/healthy: 0.9981 | auc/multiple_diseases: 0.9027, auc/rust: 0.9974, auc/scab: 0.9978\n",
      "\n"
     ]
    },
    {
     "data": {
      "application/vnd.jupyter.widget-view+json": {
       "model_id": "a8224a1dc7d4474da021edadf8553560",
       "version_major": 2,
       "version_minor": 0
      },
      "text/plain": [
       "HBox(children=(FloatProgress(value=0.0, description='Train', max=46.0, style=ProgressStyle(description_width='…"
      ]
     },
     "metadata": {},
     "output_type": "display_data"
    },
    {
     "name": "stdout",
     "output_type": "stream",
     "text": [
      "\n",
      "Epoch: 120 | Time: 0m 20s\n",
      "Training Results - Average Loss: 0.4446 | auc/_mean: 0.9926 | auc/healthy: 0.9963 | auc/multiple_diseases: 0.9792, auc/rust: 0.9981, auc/scab: 0.9967\n",
      "Evaluating Results - Average Loss: 0.4501 | auc/_mean: 0.9742 | auc/healthy: 0.9983 | auc/multiple_diseases: 0.9030, auc/rust: 0.9975, auc/scab: 0.9979\n",
      "\n"
     ]
    },
    {
     "data": {
      "application/vnd.jupyter.widget-view+json": {
       "model_id": "095884283cce43f79d8818a7c7b46374",
       "version_major": 2,
       "version_minor": 0
      },
      "text/plain": [
       "HBox(children=(FloatProgress(value=0.0, description='Train', max=46.0, style=ProgressStyle(description_width='…"
      ]
     },
     "metadata": {},
     "output_type": "display_data"
    },
    {
     "name": "stdout",
     "output_type": "stream",
     "text": [
      "\n",
      "Epoch: 121 | Time: 0m 21s\n",
      "Training Results - Average Loss: 0.4477 | auc/_mean: 0.9903 | auc/healthy: 0.9979 | auc/multiple_diseases: 0.9716, auc/rust: 0.9962, auc/scab: 0.9952\n",
      "Evaluating Results - Average Loss: 0.4501 | auc/_mean: 0.9744 | auc/healthy: 0.9983 | auc/multiple_diseases: 0.9035, auc/rust: 0.9977, auc/scab: 0.9980\n",
      "\n"
     ]
    },
    {
     "data": {
      "application/vnd.jupyter.widget-view+json": {
       "model_id": "4cae78b0ece9463790eda7521111b211",
       "version_major": 2,
       "version_minor": 0
      },
      "text/plain": [
       "HBox(children=(FloatProgress(value=0.0, description='Train', max=46.0, style=ProgressStyle(description_width='…"
      ]
     },
     "metadata": {},
     "output_type": "display_data"
    },
    {
     "name": "stdout",
     "output_type": "stream",
     "text": [
      "\n",
      "Epoch: 122 | Time: 0m 19s\n",
      "Training Results - Average Loss: 0.4352 | auc/_mean: 0.9944 | auc/healthy: 0.9990 | auc/multiple_diseases: 0.9823, auc/rust: 0.9990, auc/scab: 0.9972\n",
      "Evaluating Results - Average Loss: 0.4492 | auc/_mean: 0.9746 | auc/healthy: 0.9983 | auc/multiple_diseases: 0.9044, auc/rust: 0.9977, auc/scab: 0.9980\n",
      "\n"
     ]
    },
    {
     "data": {
      "application/vnd.jupyter.widget-view+json": {
       "model_id": "a8883960b42d47bd98b1a4af7591094a",
       "version_major": 2,
       "version_minor": 0
      },
      "text/plain": [
       "HBox(children=(FloatProgress(value=0.0, description='Train', max=46.0, style=ProgressStyle(description_width='…"
      ]
     },
     "metadata": {},
     "output_type": "display_data"
    },
    {
     "name": "stdout",
     "output_type": "stream",
     "text": [
      "\n",
      "Epoch: 123 | Time: 0m 20s\n",
      "Training Results - Average Loss: 0.4487 | auc/_mean: 0.9891 | auc/healthy: 0.9976 | auc/multiple_diseases: 0.9669, auc/rust: 0.9959, auc/scab: 0.9959\n",
      "Evaluating Results - Average Loss: 0.4497 | auc/_mean: 0.9743 | auc/healthy: 0.9985 | auc/multiple_diseases: 0.9030, auc/rust: 0.9978, auc/scab: 0.9979\n",
      "\n"
     ]
    },
    {
     "data": {
      "application/vnd.jupyter.widget-view+json": {
       "model_id": "9e9f02fc2b814e1f89a855cf60669b08",
       "version_major": 2,
       "version_minor": 0
      },
      "text/plain": [
       "HBox(children=(FloatProgress(value=0.0, description='Train', max=46.0, style=ProgressStyle(description_width='…"
      ]
     },
     "metadata": {},
     "output_type": "display_data"
    },
    {
     "name": "stdout",
     "output_type": "stream",
     "text": [
      "\n",
      "Epoch: 124 | Time: 0m 19s\n",
      "Training Results - Average Loss: 0.4301 | auc/_mean: 0.9943 | auc/healthy: 0.9987 | auc/multiple_diseases: 0.9816, auc/rust: 0.9989, auc/scab: 0.9980\n",
      "Evaluating Results - Average Loss: 0.4487 | auc/_mean: 0.9757 | auc/healthy: 0.9986 | auc/multiple_diseases: 0.9084, auc/rust: 0.9977, auc/scab: 0.9979\n",
      "\n"
     ]
    },
    {
     "data": {
      "application/vnd.jupyter.widget-view+json": {
       "model_id": "9509dcfabc70489da64a6b9669bdc585",
       "version_major": 2,
       "version_minor": 0
      },
      "text/plain": [
       "HBox(children=(FloatProgress(value=0.0, description='Train', max=46.0, style=ProgressStyle(description_width='…"
      ]
     },
     "metadata": {},
     "output_type": "display_data"
    },
    {
     "name": "stdout",
     "output_type": "stream",
     "text": [
      "\n",
      "Epoch: 125 | Time: 0m 19s\n",
      "Training Results - Average Loss: 0.4353 | auc/_mean: 0.9950 | auc/healthy: 0.9963 | auc/multiple_diseases: 0.9902, auc/rust: 0.9975, auc/scab: 0.9962\n",
      "Evaluating Results - Average Loss: 0.4494 | auc/_mean: 0.9759 | auc/healthy: 0.9986 | auc/multiple_diseases: 0.9095, auc/rust: 0.9976, auc/scab: 0.9980\n",
      "\n"
     ]
    },
    {
     "data": {
      "application/vnd.jupyter.widget-view+json": {
       "model_id": "e3ef717532834a11a114e3b06d461b8a",
       "version_major": 2,
       "version_minor": 0
      },
      "text/plain": [
       "HBox(children=(FloatProgress(value=0.0, description='Train', max=46.0, style=ProgressStyle(description_width='…"
      ]
     },
     "metadata": {},
     "output_type": "display_data"
    },
    {
     "name": "stdout",
     "output_type": "stream",
     "text": [
      "\n",
      "Epoch: 126 | Time: 0m 19s\n",
      "Training Results - Average Loss: 0.4401 | auc/_mean: 0.9914 | auc/healthy: 0.9960 | auc/multiple_diseases: 0.9767, auc/rust: 0.9965, auc/scab: 0.9964\n",
      "Evaluating Results - Average Loss: 0.4515 | auc/_mean: 0.9750 | auc/healthy: 0.9984 | auc/multiple_diseases: 0.9063, auc/rust: 0.9975, auc/scab: 0.9977\n",
      "\n"
     ]
    },
    {
     "data": {
      "application/vnd.jupyter.widget-view+json": {
       "model_id": "615dcdccd14f45759f4ff5d1d8a1677d",
       "version_major": 2,
       "version_minor": 0
      },
      "text/plain": [
       "HBox(children=(FloatProgress(value=0.0, description='Train', max=46.0, style=ProgressStyle(description_width='…"
      ]
     },
     "metadata": {},
     "output_type": "display_data"
    },
    {
     "name": "stdout",
     "output_type": "stream",
     "text": [
      "\n",
      "Epoch: 127 | Time: 0m 19s\n",
      "Training Results - Average Loss: 0.4397 | auc/_mean: 0.9916 | auc/healthy: 0.9973 | auc/multiple_diseases: 0.9753, auc/rust: 0.9973, auc/scab: 0.9963\n",
      "Evaluating Results - Average Loss: 0.4505 | auc/_mean: 0.9741 | auc/healthy: 0.9985 | auc/multiple_diseases: 0.9027, auc/rust: 0.9975, auc/scab: 0.9977\n",
      "\n"
     ]
    },
    {
     "data": {
      "application/vnd.jupyter.widget-view+json": {
       "model_id": "1255ea9103db46009dc344d0b930ef4f",
       "version_major": 2,
       "version_minor": 0
      },
      "text/plain": [
       "HBox(children=(FloatProgress(value=0.0, description='Train', max=46.0, style=ProgressStyle(description_width='…"
      ]
     },
     "metadata": {},
     "output_type": "display_data"
    },
    {
     "name": "stdout",
     "output_type": "stream",
     "text": [
      "\n",
      "Epoch: 128 | Time: 0m 20s\n",
      "Training Results - Average Loss: 0.4428 | auc/_mean: 0.9943 | auc/healthy: 0.9982 | auc/multiple_diseases: 0.9853, auc/rust: 0.9970, auc/scab: 0.9969\n",
      "Evaluating Results - Average Loss: 0.4483 | auc/_mean: 0.9744 | auc/healthy: 0.9988 | auc/multiple_diseases: 0.9033, auc/rust: 0.9977, auc/scab: 0.9976\n",
      "\n"
     ]
    },
    {
     "data": {
      "application/vnd.jupyter.widget-view+json": {
       "model_id": "4a6ff9de31e44bea9fca12a027e381a0",
       "version_major": 2,
       "version_minor": 0
      },
      "text/plain": [
       "HBox(children=(FloatProgress(value=0.0, description='Train', max=46.0, style=ProgressStyle(description_width='…"
      ]
     },
     "metadata": {},
     "output_type": "display_data"
    },
    {
     "name": "stdout",
     "output_type": "stream",
     "text": [
      "\n",
      "Epoch: 129 | Time: 0m 20s\n",
      "Training Results - Average Loss: 0.4488 | auc/_mean: 0.9922 | auc/healthy: 0.9980 | auc/multiple_diseases: 0.9791, auc/rust: 0.9960, auc/scab: 0.9959\n",
      "Evaluating Results - Average Loss: 0.4478 | auc/_mean: 0.9740 | auc/healthy: 0.9989 | auc/multiple_diseases: 0.9020, auc/rust: 0.9975, auc/scab: 0.9976\n",
      "\n"
     ]
    },
    {
     "data": {
      "application/vnd.jupyter.widget-view+json": {
       "model_id": "ffaee6112bf843ec816eef6f02fe23b9",
       "version_major": 2,
       "version_minor": 0
      },
      "text/plain": [
       "HBox(children=(FloatProgress(value=0.0, description='Train', max=46.0, style=ProgressStyle(description_width='…"
      ]
     },
     "metadata": {},
     "output_type": "display_data"
    },
    {
     "name": "stdout",
     "output_type": "stream",
     "text": [
      "\n",
      "Epoch: 130 | Time: 0m 19s\n",
      "Training Results - Average Loss: 0.4273 | auc/_mean: 0.9953 | auc/healthy: 0.9983 | auc/multiple_diseases: 0.9862, auc/rust: 0.9981, auc/scab: 0.9986\n",
      "Evaluating Results - Average Loss: 0.4490 | auc/_mean: 0.9743 | auc/healthy: 0.9989 | auc/multiple_diseases: 0.9030, auc/rust: 0.9976, auc/scab: 0.9976\n",
      "\n"
     ]
    },
    {
     "data": {
      "application/vnd.jupyter.widget-view+json": {
       "model_id": "2dd2ab1cc5a4442a8cc60069eb7f8022",
       "version_major": 2,
       "version_minor": 0
      },
      "text/plain": [
       "HBox(children=(FloatProgress(value=0.0, description='Train', max=46.0, style=ProgressStyle(description_width='…"
      ]
     },
     "metadata": {},
     "output_type": "display_data"
    },
    {
     "name": "stdout",
     "output_type": "stream",
     "text": [
      "\n",
      "Epoch: 131 | Time: 0m 19s\n",
      "Training Results - Average Loss: 0.4344 | auc/_mean: 0.9957 | auc/healthy: 0.9983 | auc/multiple_diseases: 0.9920, auc/rust: 0.9955, auc/scab: 0.9970\n",
      "Evaluating Results - Average Loss: 0.4479 | auc/_mean: 0.9730 | auc/healthy: 0.9990 | auc/multiple_diseases: 0.8983, auc/rust: 0.9976, auc/scab: 0.9973\n",
      "\n"
     ]
    },
    {
     "data": {
      "application/vnd.jupyter.widget-view+json": {
       "model_id": "eab7ca4dd0694e66a1b9225b0d79129e",
       "version_major": 2,
       "version_minor": 0
      },
      "text/plain": [
       "HBox(children=(FloatProgress(value=0.0, description='Train', max=46.0, style=ProgressStyle(description_width='…"
      ]
     },
     "metadata": {},
     "output_type": "display_data"
    },
    {
     "name": "stdout",
     "output_type": "stream",
     "text": [
      "\n",
      "Epoch: 132 | Time: 0m 19s\n",
      "Training Results - Average Loss: 0.4383 | auc/_mean: 0.9922 | auc/healthy: 0.9979 | auc/multiple_diseases: 0.9786, auc/rust: 0.9970, auc/scab: 0.9953\n",
      "Evaluating Results - Average Loss: 0.4470 | auc/_mean: 0.9735 | auc/healthy: 0.9989 | auc/multiple_diseases: 0.9001, auc/rust: 0.9979, auc/scab: 0.9973\n",
      "\n"
     ]
    },
    {
     "data": {
      "application/vnd.jupyter.widget-view+json": {
       "model_id": "ae8919d351594c19bad051b62ebffd86",
       "version_major": 2,
       "version_minor": 0
      },
      "text/plain": [
       "HBox(children=(FloatProgress(value=0.0, description='Train', max=46.0, style=ProgressStyle(description_width='…"
      ]
     },
     "metadata": {},
     "output_type": "display_data"
    },
    {
     "name": "stdout",
     "output_type": "stream",
     "text": [
      "\n",
      "Epoch: 133 | Time: 0m 19s\n",
      "Training Results - Average Loss: 0.4351 | auc/_mean: 0.9951 | auc/healthy: 0.9967 | auc/multiple_diseases: 0.9920, auc/rust: 0.9953, auc/scab: 0.9965\n",
      "Evaluating Results - Average Loss: 0.4472 | auc/_mean: 0.9732 | auc/healthy: 0.9988 | auc/multiple_diseases: 0.8988, auc/rust: 0.9980, auc/scab: 0.9974\n",
      "\n"
     ]
    },
    {
     "data": {
      "application/vnd.jupyter.widget-view+json": {
       "model_id": "aa5f202cb79848738451ee43fc46be17",
       "version_major": 2,
       "version_minor": 0
      },
      "text/plain": [
       "HBox(children=(FloatProgress(value=0.0, description='Train', max=46.0, style=ProgressStyle(description_width='…"
      ]
     },
     "metadata": {},
     "output_type": "display_data"
    },
    {
     "name": "stdout",
     "output_type": "stream",
     "text": [
      "\n",
      "Epoch: 134 | Time: 0m 20s\n",
      "Training Results - Average Loss: 0.4233 | auc/_mean: 0.9948 | auc/healthy: 0.9986 | auc/multiple_diseases: 0.9835, auc/rust: 0.9991, auc/scab: 0.9981\n",
      "Evaluating Results - Average Loss: 0.4468 | auc/_mean: 0.9723 | auc/healthy: 0.9988 | auc/multiple_diseases: 0.8953, auc/rust: 0.9980, auc/scab: 0.9973\n",
      "\n"
     ]
    },
    {
     "data": {
      "application/vnd.jupyter.widget-view+json": {
       "model_id": "23053b2e17fc4ed58a06f732cb314df2",
       "version_major": 2,
       "version_minor": 0
      },
      "text/plain": [
       "HBox(children=(FloatProgress(value=0.0, description='Train', max=46.0, style=ProgressStyle(description_width='…"
      ]
     },
     "metadata": {},
     "output_type": "display_data"
    },
    {
     "name": "stdout",
     "output_type": "stream",
     "text": [
      "\n",
      "Epoch: 135 | Time: 0m 19s\n",
      "Training Results - Average Loss: 0.4177 | auc/_mean: 0.9971 | auc/healthy: 0.9991 | auc/multiple_diseases: 0.9924, auc/rust: 0.9986, auc/scab: 0.9984\n",
      "Evaluating Results - Average Loss: 0.4472 | auc/_mean: 0.9728 | auc/healthy: 0.9988 | auc/multiple_diseases: 0.8972, auc/rust: 0.9982, auc/scab: 0.9969\n",
      "\n"
     ]
    },
    {
     "data": {
      "application/vnd.jupyter.widget-view+json": {
       "model_id": "6965091e673a4c3d84c4fa370b39ded7",
       "version_major": 2,
       "version_minor": 0
      },
      "text/plain": [
       "HBox(children=(FloatProgress(value=0.0, description='Train', max=46.0, style=ProgressStyle(description_width='…"
      ]
     },
     "metadata": {},
     "output_type": "display_data"
    },
    {
     "name": "stdout",
     "output_type": "stream",
     "text": [
      "\n",
      "Epoch: 136 | Time: 0m 19s\n",
      "Training Results - Average Loss: 0.4245 | auc/_mean: 0.9953 | auc/healthy: 0.9991 | auc/multiple_diseases: 0.9852, auc/rust: 0.9984, auc/scab: 0.9985\n",
      "Evaluating Results - Average Loss: 0.4463 | auc/_mean: 0.9738 | auc/healthy: 0.9988 | auc/multiple_diseases: 0.9012, auc/rust: 0.9984, auc/scab: 0.9967\n",
      "\n"
     ]
    },
    {
     "data": {
      "application/vnd.jupyter.widget-view+json": {
       "model_id": "8c754c3a0d224ab98c22f2eb63bfaaf0",
       "version_major": 2,
       "version_minor": 0
      },
      "text/plain": [
       "HBox(children=(FloatProgress(value=0.0, description='Train', max=46.0, style=ProgressStyle(description_width='…"
      ]
     },
     "metadata": {},
     "output_type": "display_data"
    },
    {
     "name": "stdout",
     "output_type": "stream",
     "text": [
      "\n",
      "Epoch: 137 | Time: 0m 19s\n",
      "Training Results - Average Loss: 0.4335 | auc/_mean: 0.9958 | auc/healthy: 0.9967 | auc/multiple_diseases: 0.9923, auc/rust: 0.9969, auc/scab: 0.9973\n",
      "Evaluating Results - Average Loss: 0.4447 | auc/_mean: 0.9751 | auc/healthy: 0.9989 | auc/multiple_diseases: 0.9060, auc/rust: 0.9984, auc/scab: 0.9969\n",
      "\n"
     ]
    },
    {
     "data": {
      "application/vnd.jupyter.widget-view+json": {
       "model_id": "17e10f178d1e4675af6631c2fd0b17a1",
       "version_major": 2,
       "version_minor": 0
      },
      "text/plain": [
       "HBox(children=(FloatProgress(value=0.0, description='Train', max=46.0, style=ProgressStyle(description_width='…"
      ]
     },
     "metadata": {},
     "output_type": "display_data"
    },
    {
     "name": "stdout",
     "output_type": "stream",
     "text": [
      "\n",
      "Epoch: 138 | Time: 0m 19s\n",
      "Training Results - Average Loss: 0.4340 | auc/_mean: 0.9933 | auc/healthy: 0.9990 | auc/multiple_diseases: 0.9818, auc/rust: 0.9951, auc/scab: 0.9975\n",
      "Evaluating Results - Average Loss: 0.4449 | auc/_mean: 0.9747 | auc/healthy: 0.9989 | auc/multiple_diseases: 0.9046, auc/rust: 0.9983, auc/scab: 0.9972\n",
      "\n"
     ]
    },
    {
     "data": {
      "application/vnd.jupyter.widget-view+json": {
       "model_id": "0a7c986b23ca481795ea8f8f651defd5",
       "version_major": 2,
       "version_minor": 0
      },
      "text/plain": [
       "HBox(children=(FloatProgress(value=0.0, description='Train', max=46.0, style=ProgressStyle(description_width='…"
      ]
     },
     "metadata": {},
     "output_type": "display_data"
    },
    {
     "name": "stdout",
     "output_type": "stream",
     "text": [
      "\n",
      "Epoch: 139 | Time: 0m 19s\n",
      "Training Results - Average Loss: 0.4310 | auc/_mean: 0.9937 | auc/healthy: 0.9984 | auc/multiple_diseases: 0.9825, auc/rust: 0.9979, auc/scab: 0.9959\n",
      "Evaluating Results - Average Loss: 0.4450 | auc/_mean: 0.9746 | auc/healthy: 0.9988 | auc/multiple_diseases: 0.9043, auc/rust: 0.9984, auc/scab: 0.9968\n",
      "\n"
     ]
    },
    {
     "data": {
      "application/vnd.jupyter.widget-view+json": {
       "model_id": "5f009707cc4142a6ab05902657cad3a2",
       "version_major": 2,
       "version_minor": 0
      },
      "text/plain": [
       "HBox(children=(FloatProgress(value=0.0, description='Train', max=46.0, style=ProgressStyle(description_width='…"
      ]
     },
     "metadata": {},
     "output_type": "display_data"
    },
    {
     "name": "stdout",
     "output_type": "stream",
     "text": [
      "\n",
      "Epoch: 140 | Time: 0m 19s\n",
      "Training Results - Average Loss: 0.4257 | auc/_mean: 0.9960 | auc/healthy: 0.9974 | auc/multiple_diseases: 0.9901, auc/rust: 0.9987, auc/scab: 0.9978\n",
      "Evaluating Results - Average Loss: 0.4451 | auc/_mean: 0.9736 | auc/healthy: 0.9989 | auc/multiple_diseases: 0.9003, auc/rust: 0.9980, auc/scab: 0.9971\n",
      "\n"
     ]
    },
    {
     "data": {
      "application/vnd.jupyter.widget-view+json": {
       "model_id": "61ce3864c26d419e96aac857dc9e5dfc",
       "version_major": 2,
       "version_minor": 0
      },
      "text/plain": [
       "HBox(children=(FloatProgress(value=0.0, description='Train', max=46.0, style=ProgressStyle(description_width='…"
      ]
     },
     "metadata": {},
     "output_type": "display_data"
    },
    {
     "name": "stdout",
     "output_type": "stream",
     "text": [
      "\n",
      "Epoch: 141 | Time: 0m 20s\n",
      "Training Results - Average Loss: 0.4280 | auc/_mean: 0.9968 | auc/healthy: 0.9976 | auc/multiple_diseases: 0.9936, auc/rust: 0.9987, auc/scab: 0.9972\n",
      "Evaluating Results - Average Loss: 0.4446 | auc/_mean: 0.9741 | auc/healthy: 0.9990 | auc/multiple_diseases: 0.9022, auc/rust: 0.9980, auc/scab: 0.9971\n",
      "\n"
     ]
    },
    {
     "data": {
      "application/vnd.jupyter.widget-view+json": {
       "model_id": "c7bf5636c303423da8028fb5dc42245c",
       "version_major": 2,
       "version_minor": 0
      },
      "text/plain": [
       "HBox(children=(FloatProgress(value=0.0, description='Train', max=46.0, style=ProgressStyle(description_width='…"
      ]
     },
     "metadata": {},
     "output_type": "display_data"
    },
    {
     "name": "stdout",
     "output_type": "stream",
     "text": [
      "\n",
      "Epoch: 142 | Time: 0m 20s\n",
      "Training Results - Average Loss: 0.4348 | auc/_mean: 0.9901 | auc/healthy: 0.9978 | auc/multiple_diseases: 0.9676, auc/rust: 0.9977, auc/scab: 0.9974\n",
      "Evaluating Results - Average Loss: 0.4448 | auc/_mean: 0.9741 | auc/healthy: 0.9991 | auc/multiple_diseases: 0.9022, auc/rust: 0.9980, auc/scab: 0.9971\n",
      "\n"
     ]
    },
    {
     "data": {
      "application/vnd.jupyter.widget-view+json": {
       "model_id": "f63f23505f1e48c38fd08918eb980420",
       "version_major": 2,
       "version_minor": 0
      },
      "text/plain": [
       "HBox(children=(FloatProgress(value=0.0, description='Train', max=46.0, style=ProgressStyle(description_width='…"
      ]
     },
     "metadata": {},
     "output_type": "display_data"
    },
    {
     "name": "stdout",
     "output_type": "stream",
     "text": [
      "\n",
      "Epoch: 143 | Time: 0m 19s\n",
      "Training Results - Average Loss: 0.4234 | auc/_mean: 0.9948 | auc/healthy: 0.9988 | auc/multiple_diseases: 0.9851, auc/rust: 0.9985, auc/scab: 0.9969\n",
      "Evaluating Results - Average Loss: 0.4469 | auc/_mean: 0.9719 | auc/healthy: 0.9990 | auc/multiple_diseases: 0.8940, auc/rust: 0.9980, auc/scab: 0.9964\n",
      "\n"
     ]
    },
    {
     "data": {
      "application/vnd.jupyter.widget-view+json": {
       "model_id": "252a2fd1efbc4b6eb26111d529c6c2eb",
       "version_major": 2,
       "version_minor": 0
      },
      "text/plain": [
       "HBox(children=(FloatProgress(value=0.0, description='Train', max=46.0, style=ProgressStyle(description_width='…"
      ]
     },
     "metadata": {},
     "output_type": "display_data"
    },
    {
     "name": "stdout",
     "output_type": "stream",
     "text": [
      "\n",
      "Epoch: 144 | Time: 0m 19s\n",
      "Training Results - Average Loss: 0.4224 | auc/_mean: 0.9971 | auc/healthy: 0.9990 | auc/multiple_diseases: 0.9926, auc/rust: 0.9987, auc/scab: 0.9980\n",
      "Evaluating Results - Average Loss: 0.4469 | auc/_mean: 0.9722 | auc/healthy: 0.9988 | auc/multiple_diseases: 0.8959, auc/rust: 0.9980, auc/scab: 0.9962\n",
      "\n"
     ]
    },
    {
     "data": {
      "application/vnd.jupyter.widget-view+json": {
       "model_id": "108688d444454b1091a483cc81d2706a",
       "version_major": 2,
       "version_minor": 0
      },
      "text/plain": [
       "HBox(children=(FloatProgress(value=0.0, description='Train', max=46.0, style=ProgressStyle(description_width='…"
      ]
     },
     "metadata": {},
     "output_type": "display_data"
    },
    {
     "name": "stdout",
     "output_type": "stream",
     "text": [
      "\n",
      "Epoch: 145 | Time: 0m 19s\n",
      "Training Results - Average Loss: 0.4168 | auc/_mean: 0.9973 | auc/healthy: 0.9988 | auc/multiple_diseases: 0.9938, auc/rust: 0.9992, auc/scab: 0.9976\n",
      "Evaluating Results - Average Loss: 0.4454 | auc/_mean: 0.9722 | auc/healthy: 0.9987 | auc/multiple_diseases: 0.8955, auc/rust: 0.9983, auc/scab: 0.9964\n",
      "\n"
     ]
    },
    {
     "data": {
      "application/vnd.jupyter.widget-view+json": {
       "model_id": "e32a5061fab34bd49ee5603b23171215",
       "version_major": 2,
       "version_minor": 0
      },
      "text/plain": [
       "HBox(children=(FloatProgress(value=0.0, description='Train', max=46.0, style=ProgressStyle(description_width='…"
      ]
     },
     "metadata": {},
     "output_type": "display_data"
    },
    {
     "name": "stdout",
     "output_type": "stream",
     "text": [
      "\n",
      "Epoch: 146 | Time: 0m 19s\n",
      "Training Results - Average Loss: 0.4167 | auc/_mean: 0.9976 | auc/healthy: 0.9993 | auc/multiple_diseases: 0.9945, auc/rust: 0.9987, auc/scab: 0.9978\n",
      "Evaluating Results - Average Loss: 0.4447 | auc/_mean: 0.9723 | auc/healthy: 0.9988 | auc/multiple_diseases: 0.8955, auc/rust: 0.9982, auc/scab: 0.9965\n",
      "\n"
     ]
    },
    {
     "data": {
      "application/vnd.jupyter.widget-view+json": {
       "model_id": "87a711ec4e8c42f28f64325c59059ec4",
       "version_major": 2,
       "version_minor": 0
      },
      "text/plain": [
       "HBox(children=(FloatProgress(value=0.0, description='Train', max=46.0, style=ProgressStyle(description_width='…"
      ]
     },
     "metadata": {},
     "output_type": "display_data"
    },
    {
     "name": "stdout",
     "output_type": "stream",
     "text": [
      "\n",
      "Epoch: 147 | Time: 0m 20s\n",
      "Training Results - Average Loss: 0.4246 | auc/_mean: 0.9929 | auc/healthy: 0.9992 | auc/multiple_diseases: 0.9750, auc/rust: 0.9989, auc/scab: 0.9983\n",
      "Evaluating Results - Average Loss: 0.4449 | auc/_mean: 0.9722 | auc/healthy: 0.9989 | auc/multiple_diseases: 0.8955, auc/rust: 0.9982, auc/scab: 0.9964\n",
      "\n"
     ]
    },
    {
     "data": {
      "application/vnd.jupyter.widget-view+json": {
       "model_id": "4f4c1e3c971a4846a6b3d68ea8f776aa",
       "version_major": 2,
       "version_minor": 0
      },
      "text/plain": [
       "HBox(children=(FloatProgress(value=0.0, description='Train', max=46.0, style=ProgressStyle(description_width='…"
      ]
     },
     "metadata": {},
     "output_type": "display_data"
    },
    {
     "name": "stdout",
     "output_type": "stream",
     "text": [
      "\n",
      "Epoch: 148 | Time: 0m 19s\n",
      "Training Results - Average Loss: 0.4253 | auc/_mean: 0.9963 | auc/healthy: 0.9981 | auc/multiple_diseases: 0.9906, auc/rust: 0.9985, auc/scab: 0.9982\n",
      "Evaluating Results - Average Loss: 0.4445 | auc/_mean: 0.9721 | auc/healthy: 0.9989 | auc/multiple_diseases: 0.8950, auc/rust: 0.9981, auc/scab: 0.9965\n",
      "\n"
     ]
    },
    {
     "data": {
      "application/vnd.jupyter.widget-view+json": {
       "model_id": "ad1b48aadb154caba65e576ed9d29f72",
       "version_major": 2,
       "version_minor": 0
      },
      "text/plain": [
       "HBox(children=(FloatProgress(value=0.0, description='Train', max=46.0, style=ProgressStyle(description_width='…"
      ]
     },
     "metadata": {},
     "output_type": "display_data"
    },
    {
     "name": "stdout",
     "output_type": "stream",
     "text": [
      "\n",
      "Epoch: 149 | Time: 0m 20s\n",
      "Training Results - Average Loss: 0.4193 | auc/_mean: 0.9959 | auc/healthy: 0.9993 | auc/multiple_diseases: 0.9889, auc/rust: 0.9968, auc/scab: 0.9985\n",
      "Evaluating Results - Average Loss: 0.4431 | auc/_mean: 0.9726 | auc/healthy: 0.9989 | auc/multiple_diseases: 0.8964, auc/rust: 0.9978, auc/scab: 0.9971\n",
      "\n"
     ]
    },
    {
     "data": {
      "application/vnd.jupyter.widget-view+json": {
       "model_id": "2118993d4c9d41beb00ca34d2479ed91",
       "version_major": 2,
       "version_minor": 0
      },
      "text/plain": [
       "HBox(children=(FloatProgress(value=0.0, description='Train', max=46.0, style=ProgressStyle(description_width='…"
      ]
     },
     "metadata": {},
     "output_type": "display_data"
    },
    {
     "name": "stdout",
     "output_type": "stream",
     "text": [
      "\n",
      "Epoch: 150 | Time: 0m 20s\n",
      "Training Results - Average Loss: 0.4283 | auc/_mean: 0.9920 | auc/healthy: 0.9987 | auc/multiple_diseases: 0.9741, auc/rust: 0.9974, auc/scab: 0.9976\n",
      "Evaluating Results - Average Loss: 0.4436 | auc/_mean: 0.9730 | auc/healthy: 0.9989 | auc/multiple_diseases: 0.8980, auc/rust: 0.9980, auc/scab: 0.9969\n",
      "\n"
     ]
    },
    {
     "data": {
      "application/vnd.jupyter.widget-view+json": {
       "model_id": "3454c1a2daed4cc99933af14a01668ff",
       "version_major": 2,
       "version_minor": 0
      },
      "text/plain": [
       "HBox(children=(FloatProgress(value=0.0, description='Train', max=46.0, style=ProgressStyle(description_width='…"
      ]
     },
     "metadata": {},
     "output_type": "display_data"
    },
    {
     "name": "stdout",
     "output_type": "stream",
     "text": [
      "\n",
      "Epoch: 151 | Time: 0m 19s\n",
      "Training Results - Average Loss: 0.4215 | auc/_mean: 0.9958 | auc/healthy: 0.9990 | auc/multiple_diseases: 0.9884, auc/rust: 0.9987, auc/scab: 0.9972\n",
      "Evaluating Results - Average Loss: 0.4438 | auc/_mean: 0.9720 | auc/healthy: 0.9988 | auc/multiple_diseases: 0.8945, auc/rust: 0.9980, auc/scab: 0.9967\n",
      "\n"
     ]
    },
    {
     "data": {
      "application/vnd.jupyter.widget-view+json": {
       "model_id": "c8958cf33f7f42339b4fcea0758599c9",
       "version_major": 2,
       "version_minor": 0
      },
      "text/plain": [
       "HBox(children=(FloatProgress(value=0.0, description='Train', max=46.0, style=ProgressStyle(description_width='…"
      ]
     },
     "metadata": {},
     "output_type": "display_data"
    },
    {
     "name": "stdout",
     "output_type": "stream",
     "text": [
      "\n",
      "Epoch: 152 | Time: 0m 20s\n",
      "Training Results - Average Loss: 0.4252 | auc/_mean: 0.9933 | auc/healthy: 0.9987 | auc/multiple_diseases: 0.9793, auc/rust: 0.9975, auc/scab: 0.9978\n",
      "Evaluating Results - Average Loss: 0.4439 | auc/_mean: 0.9728 | auc/healthy: 0.9987 | auc/multiple_diseases: 0.8979, auc/rust: 0.9982, auc/scab: 0.9965\n",
      "\n"
     ]
    },
    {
     "data": {
      "application/vnd.jupyter.widget-view+json": {
       "model_id": "f6d7b5b8f4f643cfa76ddf145dde1b56",
       "version_major": 2,
       "version_minor": 0
      },
      "text/plain": [
       "HBox(children=(FloatProgress(value=0.0, description='Train', max=46.0, style=ProgressStyle(description_width='…"
      ]
     },
     "metadata": {},
     "output_type": "display_data"
    },
    {
     "name": "stdout",
     "output_type": "stream",
     "text": [
      "\n",
      "Epoch: 153 | Time: 0m 19s\n",
      "Training Results - Average Loss: 0.4403 | auc/_mean: 0.9909 | auc/healthy: 0.9986 | auc/multiple_diseases: 0.9726, auc/rust: 0.9963, auc/scab: 0.9960\n",
      "Evaluating Results - Average Loss: 0.4450 | auc/_mean: 0.9734 | auc/healthy: 0.9987 | auc/multiple_diseases: 0.8998, auc/rust: 0.9983, auc/scab: 0.9967\n",
      "\n"
     ]
    },
    {
     "data": {
      "application/vnd.jupyter.widget-view+json": {
       "model_id": "a2175a57d0374bd2aec7cf1cee8309f5",
       "version_major": 2,
       "version_minor": 0
      },
      "text/plain": [
       "HBox(children=(FloatProgress(value=0.0, description='Train', max=46.0, style=ProgressStyle(description_width='…"
      ]
     },
     "metadata": {},
     "output_type": "display_data"
    },
    {
     "name": "stdout",
     "output_type": "stream",
     "text": [
      "\n",
      "Epoch: 154 | Time: 0m 19s\n",
      "Training Results - Average Loss: 0.4222 | auc/_mean: 0.9971 | auc/healthy: 0.9993 | auc/multiple_diseases: 0.9938, auc/rust: 0.9974, auc/scab: 0.9978\n",
      "Evaluating Results - Average Loss: 0.4453 | auc/_mean: 0.9733 | auc/healthy: 0.9987 | auc/multiple_diseases: 0.8995, auc/rust: 0.9983, auc/scab: 0.9966\n",
      "\n"
     ]
    },
    {
     "data": {
      "application/vnd.jupyter.widget-view+json": {
       "model_id": "8a36308231dd43c590729f2f6a602ced",
       "version_major": 2,
       "version_minor": 0
      },
      "text/plain": [
       "HBox(children=(FloatProgress(value=0.0, description='Train', max=46.0, style=ProgressStyle(description_width='…"
      ]
     },
     "metadata": {},
     "output_type": "display_data"
    },
    {
     "name": "stdout",
     "output_type": "stream",
     "text": [
      "\n",
      "Epoch: 155 | Time: 0m 20s\n",
      "Training Results - Average Loss: 0.4256 | auc/_mean: 0.9949 | auc/healthy: 0.9984 | auc/multiple_diseases: 0.9864, auc/rust: 0.9963, auc/scab: 0.9983\n",
      "Evaluating Results - Average Loss: 0.4440 | auc/_mean: 0.9735 | auc/healthy: 0.9987 | auc/multiple_diseases: 0.8999, auc/rust: 0.9985, auc/scab: 0.9969\n",
      "\n"
     ]
    },
    {
     "data": {
      "application/vnd.jupyter.widget-view+json": {
       "model_id": "16419ba0e32c4889ae84f90d7db1ad63",
       "version_major": 2,
       "version_minor": 0
      },
      "text/plain": [
       "HBox(children=(FloatProgress(value=0.0, description='Train', max=46.0, style=ProgressStyle(description_width='…"
      ]
     },
     "metadata": {},
     "output_type": "display_data"
    },
    {
     "name": "stdout",
     "output_type": "stream",
     "text": [
      "\n",
      "Epoch: 156 | Time: 0m 19s\n",
      "Training Results - Average Loss: 0.4234 | auc/_mean: 0.9960 | auc/healthy: 0.9987 | auc/multiple_diseases: 0.9883, auc/rust: 0.9990, auc/scab: 0.9980\n",
      "Evaluating Results - Average Loss: 0.4438 | auc/_mean: 0.9728 | auc/healthy: 0.9987 | auc/multiple_diseases: 0.8979, auc/rust: 0.9982, auc/scab: 0.9965\n",
      "\n"
     ]
    },
    {
     "data": {
      "application/vnd.jupyter.widget-view+json": {
       "model_id": "e65dae1150484f52b1dd89c653712611",
       "version_major": 2,
       "version_minor": 0
      },
      "text/plain": [
       "HBox(children=(FloatProgress(value=0.0, description='Train', max=46.0, style=ProgressStyle(description_width='…"
      ]
     },
     "metadata": {},
     "output_type": "display_data"
    },
    {
     "name": "stdout",
     "output_type": "stream",
     "text": [
      "\n",
      "Epoch: 157 | Time: 0m 20s\n",
      "Training Results - Average Loss: 0.4097 | auc/_mean: 0.9972 | auc/healthy: 0.9997 | auc/multiple_diseases: 0.9918, auc/rust: 0.9988, auc/scab: 0.9986\n",
      "Evaluating Results - Average Loss: 0.4454 | auc/_mean: 0.9718 | auc/healthy: 0.9988 | auc/multiple_diseases: 0.8940, auc/rust: 0.9982, auc/scab: 0.9963\n",
      "\n"
     ]
    },
    {
     "data": {
      "application/vnd.jupyter.widget-view+json": {
       "model_id": "e7b05aeaa8e346b1a0f77761922568ec",
       "version_major": 2,
       "version_minor": 0
      },
      "text/plain": [
       "HBox(children=(FloatProgress(value=0.0, description='Train', max=46.0, style=ProgressStyle(description_width='…"
      ]
     },
     "metadata": {},
     "output_type": "display_data"
    },
    {
     "name": "stdout",
     "output_type": "stream",
     "text": [
      "\n",
      "Epoch: 158 | Time: 0m 20s\n",
      "Training Results - Average Loss: 0.4212 | auc/_mean: 0.9969 | auc/healthy: 0.9966 | auc/multiple_diseases: 0.9962, auc/rust: 0.9982, auc/scab: 0.9966\n",
      "Evaluating Results - Average Loss: 0.4441 | auc/_mean: 0.9724 | auc/healthy: 0.9988 | auc/multiple_diseases: 0.8959, auc/rust: 0.9983, auc/scab: 0.9964\n",
      "\n"
     ]
    },
    {
     "data": {
      "application/vnd.jupyter.widget-view+json": {
       "model_id": "85dd6bc5ffdc4cae83f1a266b76c34b4",
       "version_major": 2,
       "version_minor": 0
      },
      "text/plain": [
       "HBox(children=(FloatProgress(value=0.0, description='Train', max=46.0, style=ProgressStyle(description_width='…"
      ]
     },
     "metadata": {},
     "output_type": "display_data"
    },
    {
     "name": "stdout",
     "output_type": "stream",
     "text": [
      "\n",
      "Epoch: 159 | Time: 0m 19s\n",
      "Training Results - Average Loss: 0.4168 | auc/_mean: 0.9950 | auc/healthy: 0.9996 | auc/multiple_diseases: 0.9845, auc/rust: 0.9971, auc/scab: 0.9989\n",
      "Evaluating Results - Average Loss: 0.4431 | auc/_mean: 0.9724 | auc/healthy: 0.9989 | auc/multiple_diseases: 0.8959, auc/rust: 0.9981, auc/scab: 0.9964\n",
      "\n"
     ]
    },
    {
     "data": {
      "application/vnd.jupyter.widget-view+json": {
       "model_id": "fbc116934ef3410eb7062a4e779439a0",
       "version_major": 2,
       "version_minor": 0
      },
      "text/plain": [
       "HBox(children=(FloatProgress(value=0.0, description='Train', max=46.0, style=ProgressStyle(description_width='…"
      ]
     },
     "metadata": {},
     "output_type": "display_data"
    },
    {
     "name": "stdout",
     "output_type": "stream",
     "text": [
      "\n",
      "Epoch: 160 | Time: 0m 19s\n",
      "Training Results - Average Loss: 0.4115 | auc/_mean: 0.9982 | auc/healthy: 0.9986 | auc/multiple_diseases: 0.9962, auc/rust: 0.9992, auc/scab: 0.9989\n",
      "Evaluating Results - Average Loss: 0.4432 | auc/_mean: 0.9726 | auc/healthy: 0.9989 | auc/multiple_diseases: 0.8966, auc/rust: 0.9982, auc/scab: 0.9966\n",
      "\n",
      "EarlyStopping\n"
     ]
    }
   ],
   "source": [
    "trainer = Trainer(model, train_dataloader, valid_dataloader, criterion, optimizer, scheduler, device, config)\n",
    "trainer.run();"
   ]
  },
  {
   "cell_type": "code",
   "execution_count": null,
   "metadata": {},
   "outputs": [],
   "source": []
  },
  {
   "cell_type": "code",
   "execution_count": null,
   "metadata": {},
   "outputs": [],
   "source": []
  },
  {
   "cell_type": "code",
   "execution_count": 11,
   "metadata": {},
   "outputs": [],
   "source": [
    "\n",
    "class PlantDatasetTest(Dataset):\n",
    "    \n",
    "    def __init__(self, df, config, transforms=None):\n",
    "    \n",
    "        self.df = df\n",
    "        self.images_dir = config.root_images\n",
    "        self.class_names = config.class_names\n",
    "        self.transforms=transforms\n",
    "        \n",
    "    def __len__(self):\n",
    "        return self.df.shape[0]\n",
    "    \n",
    "    def __getitem__(self, idx):\n",
    "        image_src = self.images_dir + self.df.iloc[idx]['image_id'] + '.jpg'\n",
    "        image = cv2.imread(image_src, cv2.IMREAD_COLOR)\n",
    "        image = cv2.cvtColor(image, cv2.COLOR_BGR2RGB)\n",
    "        \n",
    "        if self.transforms:\n",
    "            transformed = self.transforms(image=image)\n",
    "            image = transformed['image']\n",
    "\n",
    "        return image, idx\n",
    "\n",
    "test_df = pd.read_csv(config.root + 'test.csv')\n",
    "test_dataset = PlantDatasetTest(test_df, config, train_transforms)\n",
    "test_dataloader = DataLoader(test_dataset, batch_size=config.batch_size, shuffle=False, num_workers=config.num_workers)"
   ]
  },
  {
   "cell_type": "code",
   "execution_count": 12,
   "metadata": {},
   "outputs": [],
   "source": [
    "def predict(model, dataloader: DataLoader, device, dataset: Dataset, tta_count: int, config: ConfigExperiment):\n",
    "    n_samples = len(dataset)\n",
    "    y_probas_tta = np.zeros((n_samples, config.num_classes, tta_count), dtype=np.float32)\n",
    "    \n",
    "    model.eval()\n",
    "    model.to(device)\n",
    "    with torch.no_grad():\n",
    "        for i_epoch in tqdm(range(tta_count), desc='TTA', total=tta_count, position=1, leave=True):\n",
    "            for i, (images, idx) in enumerate(dataloader):\n",
    "                images = images.to(device)\n",
    "                outputs = model(images)\n",
    "                y_pred = F.softmax(outputs, dim=1)\n",
    "                \n",
    "                tta_index = i_epoch - 1\n",
    "                start_index = (i % len(dataloader)) * config.batch_size\n",
    "                end_index = min(start_index + config.batch_size, n_samples)\n",
    "                batch_y_probas = y_pred.detach().cpu().numpy()                \n",
    "                y_probas_tta[start_index:end_index, :, tta_index] = batch_y_probas\n",
    "\n",
    "    return y_probas_tta"
   ]
  },
  {
   "cell_type": "code",
   "execution_count": 13,
   "metadata": {},
   "outputs": [
    {
     "name": "stdout",
     "output_type": "stream",
     "text": [
      "Loaded pretrained weights for efficientnet-b0\n"
     ]
    },
    {
     "data": {
      "text/plain": [
       "<All keys matched successfully>"
      ]
     },
     "execution_count": 13,
     "metadata": {},
     "output_type": "execute_result"
    }
   ],
   "source": [
    "model = get_model(config.model_name, config.num_classes)\n",
    "model.load_state_dict(torch.load(f\"{config.save_dirname}/best_model_epoch=125_auc_mean=0.9759388963311403.pth\"))"
   ]
  },
  {
   "cell_type": "code",
   "execution_count": 14,
   "metadata": {},
   "outputs": [
    {
     "data": {
      "application/vnd.jupyter.widget-view+json": {
       "model_id": "c041ef49f0f042c6bcf24d09fce1892f",
       "version_major": 2,
       "version_minor": 0
      },
      "text/plain": [
       "HBox(children=(FloatProgress(value=0.0, description='TTA', max=5.0, style=ProgressStyle(description_width='ini…"
      ]
     },
     "metadata": {},
     "output_type": "display_data"
    },
    {
     "name": "stdout",
     "output_type": "stream",
     "text": [
      "\n"
     ]
    }
   ],
   "source": [
    "result = predict(model, test_dataloader, device, test_dataset, tta_count=5, config=config)"
   ]
  },
  {
   "cell_type": "code",
   "execution_count": 15,
   "metadata": {},
   "outputs": [],
   "source": [
    "y_probas = np.mean(result, axis=-1)"
   ]
  },
  {
   "cell_type": "code",
   "execution_count": 16,
   "metadata": {},
   "outputs": [
    {
     "data": {
      "text/plain": [
       "array([[0.11525081, 0.03328629, 0.794872  , 0.05659093],\n",
       "       [0.02689193, 0.08945929, 0.86251545, 0.02113327],\n",
       "       [0.01418664, 0.03105108, 0.02221094, 0.9325514 ],\n",
       "       [0.9593188 , 0.00964081, 0.01439708, 0.01664325],\n",
       "       [0.01813011, 0.03230838, 0.92921793, 0.02034356],\n",
       "       [0.91774046, 0.01537943, 0.03287008, 0.03401009],\n",
       "       [0.9554141 , 0.01326885, 0.02219261, 0.00912439],\n",
       "       [0.01802489, 0.20799896, 0.04579664, 0.72817945],\n",
       "       [0.01979253, 0.5242635 , 0.03942884, 0.4165151 ],\n",
       "       [0.03681117, 0.08224317, 0.8446248 , 0.03632084]], dtype=float32)"
      ]
     },
     "execution_count": 16,
     "metadata": {},
     "output_type": "execute_result"
    }
   ],
   "source": [
    "y_probas[:10]"
   ]
  },
  {
   "cell_type": "code",
   "execution_count": 17,
   "metadata": {},
   "outputs": [
    {
     "data": {
      "text/html": [
       "<div>\n",
       "<style scoped>\n",
       "    .dataframe tbody tr th:only-of-type {\n",
       "        vertical-align: middle;\n",
       "    }\n",
       "\n",
       "    .dataframe tbody tr th {\n",
       "        vertical-align: top;\n",
       "    }\n",
       "\n",
       "    .dataframe thead th {\n",
       "        text-align: right;\n",
       "    }\n",
       "</style>\n",
       "<table border=\"1\" class=\"dataframe\">\n",
       "  <thead>\n",
       "    <tr style=\"text-align: right;\">\n",
       "      <th></th>\n",
       "      <th>image_id</th>\n",
       "      <th>healthy</th>\n",
       "      <th>multiple_diseases</th>\n",
       "      <th>rust</th>\n",
       "      <th>scab</th>\n",
       "    </tr>\n",
       "  </thead>\n",
       "  <tbody>\n",
       "    <tr>\n",
       "      <th>0</th>\n",
       "      <td>Test_0</td>\n",
       "      <td>0.115251</td>\n",
       "      <td>0.033286</td>\n",
       "      <td>0.794872</td>\n",
       "      <td>0.056591</td>\n",
       "    </tr>\n",
       "    <tr>\n",
       "      <th>1</th>\n",
       "      <td>Test_1</td>\n",
       "      <td>0.026892</td>\n",
       "      <td>0.089459</td>\n",
       "      <td>0.862515</td>\n",
       "      <td>0.021133</td>\n",
       "    </tr>\n",
       "    <tr>\n",
       "      <th>2</th>\n",
       "      <td>Test_2</td>\n",
       "      <td>0.014187</td>\n",
       "      <td>0.031051</td>\n",
       "      <td>0.022211</td>\n",
       "      <td>0.932551</td>\n",
       "    </tr>\n",
       "    <tr>\n",
       "      <th>3</th>\n",
       "      <td>Test_3</td>\n",
       "      <td>0.959319</td>\n",
       "      <td>0.009641</td>\n",
       "      <td>0.014397</td>\n",
       "      <td>0.016643</td>\n",
       "    </tr>\n",
       "    <tr>\n",
       "      <th>4</th>\n",
       "      <td>Test_4</td>\n",
       "      <td>0.018130</td>\n",
       "      <td>0.032308</td>\n",
       "      <td>0.929218</td>\n",
       "      <td>0.020344</td>\n",
       "    </tr>\n",
       "  </tbody>\n",
       "</table>\n",
       "</div>"
      ],
      "text/plain": [
       "  image_id   healthy  multiple_diseases      rust      scab\n",
       "0   Test_0  0.115251           0.033286  0.794872  0.056591\n",
       "1   Test_1  0.026892           0.089459  0.862515  0.021133\n",
       "2   Test_2  0.014187           0.031051  0.022211  0.932551\n",
       "3   Test_3  0.959319           0.009641  0.014397  0.016643\n",
       "4   Test_4  0.018130           0.032308  0.929218  0.020344"
      ]
     },
     "execution_count": 17,
     "metadata": {},
     "output_type": "execute_result"
    }
   ],
   "source": [
    "test_df = pd.read_csv(config.root + 'test.csv')\n",
    "test_df[\"healthy\"] = 0\n",
    "test_df[\"multiple_diseases\"] = 0\n",
    "test_df[\"rust\"] = 0\n",
    "test_df[\"scab\"] = 0\n",
    "test_df[['healthy', 'multiple_diseases', 'rust', 'scab']] = y_probas\n",
    "test_df.to_csv(config.submission_file, index=False)\n",
    "test_df.head()"
   ]
  },
  {
   "cell_type": "code",
   "execution_count": 18,
   "metadata": {},
   "outputs": [
    {
     "data": {
      "text/plain": [
       "'02_starter_code.csv'"
      ]
     },
     "execution_count": 18,
     "metadata": {},
     "output_type": "execute_result"
    }
   ],
   "source": [
    "config.submission_file"
   ]
  },
  {
   "cell_type": "code",
   "execution_count": null,
   "metadata": {},
   "outputs": [],
   "source": []
  },
  {
   "cell_type": "code",
   "execution_count": null,
   "metadata": {},
   "outputs": [],
   "source": []
  },
  {
   "cell_type": "code",
   "execution_count": null,
   "metadata": {},
   "outputs": [],
   "source": []
  },
  {
   "cell_type": "code",
   "execution_count": null,
   "metadata": {},
   "outputs": [],
   "source": []
  },
  {
   "cell_type": "code",
   "execution_count": null,
   "metadata": {},
   "outputs": [],
   "source": []
  },
  {
   "cell_type": "code",
   "execution_count": null,
   "metadata": {},
   "outputs": [],
   "source": []
  },
  {
   "cell_type": "code",
   "execution_count": null,
   "metadata": {},
   "outputs": [],
   "source": []
  },
  {
   "cell_type": "code",
   "execution_count": null,
   "metadata": {},
   "outputs": [],
   "source": []
  },
  {
   "cell_type": "code",
   "execution_count": null,
   "metadata": {},
   "outputs": [],
   "source": []
  },
  {
   "cell_type": "code",
   "execution_count": null,
   "metadata": {},
   "outputs": [],
   "source": []
  },
  {
   "cell_type": "code",
   "execution_count": null,
   "metadata": {},
   "outputs": [],
   "source": []
  },
  {
   "cell_type": "code",
   "execution_count": null,
   "metadata": {},
   "outputs": [],
   "source": []
  },
  {
   "cell_type": "code",
   "execution_count": null,
   "metadata": {},
   "outputs": [],
   "source": []
  },
  {
   "cell_type": "code",
   "execution_count": null,
   "metadata": {},
   "outputs": [],
   "source": []
  }
 ],
 "metadata": {
  "kernelspec": {
   "display_name": "Python 3",
   "language": "python",
   "name": "python3"
  },
  "language_info": {
   "codemirror_mode": {
    "name": "ipython",
    "version": 3
   },
   "file_extension": ".py",
   "mimetype": "text/x-python",
   "name": "python",
   "nbconvert_exporter": "python",
   "pygments_lexer": "ipython3",
   "version": "3.6.9"
  }
 },
 "nbformat": 4,
 "nbformat_minor": 4
}
