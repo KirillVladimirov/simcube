{
 "cells": [
  {
   "cell_type": "code",
   "execution_count": 1,
   "metadata": {},
   "outputs": [],
   "source": [
    "import warnings  \n",
    "\n",
    "import os\n",
    "import time\n",
    "import random\n",
    "import numpy as np\n",
    "import pandas as pd\n",
    "import matplotlib.pyplot as plt\n",
    "\n",
    "import albumentations as A\n",
    "from albumentations.pytorch import ToTensorV2\n",
    "import cv2\n",
    "\n",
    "import torch\n",
    "import torch.nn as nn\n",
    "import torch.nn.functional as F\n",
    "import torchvision\n",
    "import torch.optim as optim\n",
    "from torch.utils.data import Dataset, DataLoader\n",
    "from torch.utils.data.dataset import Subset\n",
    "from torch.nn.functional import softmax\n",
    "\n",
    "from efficientnet_pytorch import EfficientNet\n",
    "\n",
    "from typing import Callable, List, Tuple, Dict\n",
    "from pathlib import Path\n",
    "\n",
    "from transformers import AdamW\n",
    "from transformers import get_cosine_schedule_with_warmup\n",
    "\n",
    "from sklearn.metrics import roc_auc_score, accuracy_score\n",
    "from sklearn.model_selection import train_test_split\n",
    "from collections import defaultdict, OrderedDict\n",
    "from tqdm.notebook import tqdm\n",
    "from torchsummary import summary\n",
    "\n",
    "from fastai2.layers import LabelSmoothingCrossEntropy\n",
    "from transformers import get_cosine_schedule_with_warmup\n",
    "from transformers import AdamW\n",
    "\n",
    "import matplotlib\n",
    "matplotlib.rcParams.update({'figure.figsize': (16, 12), 'font.size': 14})\n",
    "import matplotlib.pyplot as plt\n",
    "%matplotlib inline\n",
    "from IPython.display import clear_output"
   ]
  },
  {
   "cell_type": "code",
   "execution_count": 2,
   "metadata": {},
   "outputs": [],
   "source": [
    "warnings.simplefilter(\"ignore\", UserWarning)\n",
    "warnings.simplefilter(\"ignore\", DeprecationWarning)\n",
    "warnings.filterwarnings('ignore')\n",
    "os.environ[\"PYTHONWARNINGS\"] = \"ignore\""
   ]
  },
  {
   "cell_type": "code",
   "execution_count": 3,
   "metadata": {},
   "outputs": [
    {
     "name": "stdout",
     "output_type": "stream",
     "text": [
      "Directory  02_efficientnet-b0_tts=03  Created \n"
     ]
    }
   ],
   "source": [
    "EXPERIMENT_NAME = \"02_efficientnet-b0_tts=03\"\n",
    "\n",
    "class ConfigExperiment:\n",
    "    logdir = f\"./logs/{EXPERIMENT_NAME}\"\n",
    "    save_dirname = EXPERIMENT_NAME\n",
    "    submission_file = f\"{EXPERIMENT_NAME}.csv\"\n",
    "    seed = 42\n",
    "    batch_size = 32\n",
    "    model_name = 'efficientnet-b0'\n",
    "    size = 512\n",
    "    num_workers = 20\n",
    "    root_images = \"../../../data/raw/plant-pathology-2020-fgvc7/images/\"\n",
    "    root = \"../../../data/raw/plant-pathology-2020-fgvc7/\"\n",
    "    num_classes = 4\n",
    "    patience = 10\n",
    "    early_stopping_delta = 1e-4\n",
    "    num_epochs = 200\n",
    "    lr = 0.003\n",
    "    class_names = [\"healthy\", \"multiple_diseases\", \"rust\", \"scab\"]\n",
    "    is_fp16_used = False\n",
    "    \n",
    "    \n",
    "def set_seed(seed):\n",
    "    torch.manual_seed(seed)\n",
    "    torch.cuda.manual_seed_all(seed)\n",
    "    torch.backends.cudnn.deterministic = True\n",
    "    torch.backends.cudnn.benchmark = False\n",
    "    np.random.seed(seed)\n",
    "    random.seed(seed)\n",
    "    os.environ['PYTHONHASHSEED'] = str(seed)\n",
    "    \n",
    "    \n",
    "config = ConfigExperiment()\n",
    "set_seed(config.seed)\n",
    "config.size = EfficientNet.get_image_size(config.model_name)\n",
    "os.environ[\"CUDA_VISIBLE_DEVICES\"] = \"0\"\n",
    "device = \"cuda\" if torch.cuda.is_available() else \"cpu\"\n",
    "\n",
    "try:\n",
    "    # Create target Directory\n",
    "    os.mkdir(config.save_dirname)\n",
    "    print(\"Directory \" , config.save_dirname ,  \" Created \") \n",
    "except FileExistsError:\n",
    "    print(\"Directory \" , config.save_dirname ,  \" already exists\")"
   ]
  },
  {
   "cell_type": "code",
   "execution_count": 4,
   "metadata": {},
   "outputs": [],
   "source": [
    "class PlantDataset(Dataset):\n",
    "    \n",
    "    def __init__(self, df, config, transforms=None):\n",
    "    \n",
    "        self.df = df\n",
    "        self.images_dir = config.root_images\n",
    "        self.class_names = config.class_names\n",
    "        self.transforms=transforms\n",
    "        \n",
    "    def __len__(self):\n",
    "        return self.df.shape[0]\n",
    "    \n",
    "    def __getitem__(self, idx):\n",
    "        image_src = self.images_dir + self.df.iloc[idx]['image_id'] + '.jpg'\n",
    "        image = cv2.imread(image_src, cv2.IMREAD_COLOR)\n",
    "        image = cv2.cvtColor(image, cv2.COLOR_BGR2RGB)\n",
    "        labels = self.df.iloc[idx][self.class_names].values.astype(np.int8)\n",
    "        label = torch.argmax(torch.from_numpy(labels))\n",
    "        \n",
    "        if self.transforms:\n",
    "            transformed = self.transforms(image=image)\n",
    "            image = transformed['image']\n",
    "\n",
    "        return image, label"
   ]
  },
  {
   "cell_type": "code",
   "execution_count": 5,
   "metadata": {},
   "outputs": [],
   "source": [
    "def pre_transforms(image_size=224):\n",
    "    # Convert the image to a square of size image_size x image_size\n",
    "    # (keeping aspect ratio)\n",
    "    result = [\n",
    "        A.LongestMaxSize(max_size=image_size),\n",
    "        A.PadIfNeeded(image_size, image_size, border_mode=0)\n",
    "    ]\n",
    "    \n",
    "    return result\n",
    "\n",
    "def hard_transforms():\n",
    "    result = [\n",
    "        # Random shifts, stretches and turns with a 50% probability\n",
    "#         A.RandomResizedCrop(height=config.size, width=config.size, p=1.0),\n",
    "        A.OneOf([\n",
    "            A.Rotate(limit=90, p=1),\n",
    "            A.HorizontalFlip(p=1),\n",
    "            A.VerticalFlip(p=1),\n",
    "            A.OpticalDistortion(p=1),\n",
    "            A.ShiftScaleRotate(rotate_limit=90, shift_limit=0.2, scale_limit=0.1, p=1)\n",
    "        ], p=0.8),\n",
    "        \n",
    "        # Pixels\n",
    "        A.OneOf([\n",
    "            A.IAAEmboss(p=1.0),\n",
    "            A.IAASharpen(p=1.0),\n",
    "            A.Blur(p=1.0),\n",
    "        ], p=0.5),\n",
    "\n",
    "        # Affine\n",
    "        A.OneOf([\n",
    "            A.RandomContrast(limit=0.2, p=1),\n",
    "            A.ElasticTransform(p=1),\n",
    "            A.IAAPiecewiseAffine(p=1)\n",
    "        ], p=0.5),\n",
    "    ]\n",
    "    \n",
    "    return result\n",
    "\n",
    "def post_transforms():\n",
    "    # we use ImageNet image normalization\n",
    "    # and convert it to torch.Tensor\n",
    "    return [A.Normalize(p=1.0), ToTensorV2(p=1.0),]\n",
    "\n",
    "def compose(transforms_to_compose):\n",
    "    # combine all augmentations into one single pipeline\n",
    "    result = A.Compose([item for sublist in transforms_to_compose for item in sublist])\n",
    "    return result"
   ]
  },
  {
   "cell_type": "code",
   "execution_count": 6,
   "metadata": {},
   "outputs": [],
   "source": [
    "train_df = pd.read_csv(config.root + 'train.csv')\n",
    "train, valid = train_test_split(train_df, test_size=0.33, random_state=config.seed, shuffle=True, stratify=train_df[config.class_names])\n",
    "\n",
    "train_transforms = compose([\n",
    "    pre_transforms(config.size),\n",
    "    hard_transforms(), \n",
    "    post_transforms()\n",
    "])\n",
    "valid_transforms = compose([\n",
    "    pre_transforms(config.size), \n",
    "    post_transforms()\n",
    "])\n",
    "\n",
    "show_transforms = compose([\n",
    "    pre_transforms(config.size),\n",
    "    hard_transforms()\n",
    "])\n",
    "\n",
    "train_dataset = PlantDataset(train, config, train_transforms)\n",
    "valid_dataset = PlantDataset(valid, config, valid_transforms)\n",
    "\n",
    "train_dataloader = DataLoader(train_dataset, batch_size=config.batch_size, shuffle=True, num_workers=config.num_workers)\n",
    "valid_dataloader = DataLoader(valid_dataset, batch_size=config.batch_size, shuffle=False, num_workers=config.num_workers)"
   ]
  },
  {
   "cell_type": "code",
   "execution_count": 7,
   "metadata": {},
   "outputs": [
    {
     "name": "stdout",
     "output_type": "stream",
     "text": [
      "Loaded pretrained weights for efficientnet-b0\n"
     ]
    }
   ],
   "source": [
    "def get_model(model_name: str, num_classes: int, pretrained: str = \"imagenet\") -> EfficientNet:\n",
    "    model = EfficientNet.from_pretrained(model_name)\n",
    "    for param in model.parameters():\n",
    "        param.requires_grad = False\n",
    "    num_ftrs = model._fc.in_features\n",
    "    model._fc = nn.Sequential(nn.Linear(num_ftrs, num_classes, bias = True))\n",
    "    return model\n",
    "\n",
    "model = get_model(config.model_name, config.num_classes)"
   ]
  },
  {
   "cell_type": "code",
   "execution_count": 8,
   "metadata": {},
   "outputs": [],
   "source": [
    "criterion = LabelSmoothingCrossEntropy()\n",
    "optimizer = AdamW(model.parameters(), lr=config.lr, weight_decay=1e-3)\n",
    "\n",
    "num_train_steps = int(len(train_dataset) / config.batch_size * config.num_epochs)\n",
    "scheduler = get_cosine_schedule_with_warmup(optimizer, num_warmup_steps=len(train_dataset)/config.batch_size*5, num_training_steps=num_train_steps)"
   ]
  },
  {
   "cell_type": "code",
   "execution_count": 9,
   "metadata": {},
   "outputs": [],
   "source": [
    "class Trainer:\n",
    "    def __init__(self, model, train_dataloader: DataLoader, valid_dataloader: DataLoader, criterion, optimizer, scheduler, device, config: ConfigExperiment):\n",
    "        self.model = model\n",
    "        self.train_dataloader = train_dataloader\n",
    "        self.valid_dataloader = valid_dataloader\n",
    "        self.criterion = criterion\n",
    "        self.optimizer = optimizer\n",
    "        self.scheduler = scheduler\n",
    "        self.device = device\n",
    "        self.config = config\n",
    "        self.train_metrics = {\n",
    "            'avg_loss': [],\n",
    "            'auc/_mean': [],\n",
    "            'auc/healthy': [],\n",
    "            'auc/multiple_diseases': [],\n",
    "            'auc/rust': [],\n",
    "            'auc/scab': [],\n",
    "        }\n",
    "        self.valid_metrics = {\n",
    "            'avg_loss': [],\n",
    "            'auc/_mean': [],\n",
    "            'auc/healthy': [],\n",
    "            'auc/multiple_diseases': [],\n",
    "            'auc/rust': [],\n",
    "            'auc/scab': [],\n",
    "        }\n",
    "        self.counter = 0\n",
    "        self.delta = config.early_stopping_delta\n",
    "      \n",
    "    def run(self):\n",
    "        self.model.to(device)\n",
    "        best_valid_loss = float('inf')\n",
    "        best_valid_auc_mean = 0\n",
    "\n",
    "        try:\n",
    "            for i_epoch in tqdm(range(self.config.num_epochs), desc='Epochs', total=config.num_epochs, position=1, leave=True):\n",
    "                start_time = time.time()\n",
    "\n",
    "                train_loss, train_outputs, train_targets = self._train()\n",
    "                valid_loss, valid_outputs, valid_targets = self._evaluate()\n",
    "                    \n",
    "                self.train_metrics[\"avg_loss\"].append(train_loss)\n",
    "                self.train_metrics[\"auc/_mean\"].append(self.comp_metric(train_outputs, train_targets))\n",
    "                self.train_metrics[\"auc/healthy\"].append(self.healthy_roc_auc(train_outputs, train_targets))\n",
    "                self.train_metrics[\"auc/multiple_diseases\"].append(self.multiple_diseases_roc_auc(train_outputs, train_targets))\n",
    "                self.train_metrics[\"auc/rust\"].append(self.rust_roc_auc(train_outputs, train_targets))\n",
    "                self.train_metrics[\"auc/scab\"].append(self.scab_roc_auc(train_outputs, train_targets))\n",
    "                \n",
    "                self.valid_metrics[\"avg_loss\"].append(valid_loss)\n",
    "                self.valid_metrics[\"auc/_mean\"].append(self.comp_metric(valid_outputs, valid_targets))\n",
    "                self.valid_metrics[\"auc/healthy\"].append(self.healthy_roc_auc(valid_outputs, valid_targets))\n",
    "                self.valid_metrics[\"auc/multiple_diseases\"].append(self.multiple_diseases_roc_auc(valid_outputs, valid_targets))\n",
    "                self.valid_metrics[\"auc/rust\"].append(self.rust_roc_auc(valid_outputs, valid_targets))\n",
    "                self.valid_metrics[\"auc/scab\"].append(self.scab_roc_auc(valid_outputs, valid_targets))\n",
    "                \n",
    "                end_time = time.time()\n",
    "                epoch_mins, epoch_secs = self._epoch_time(start_time, end_time)\n",
    "                self.print_progress(i_epoch, epoch_mins, epoch_secs)\n",
    "                \n",
    "                self.scheduler.step(self.valid_metrics[\"auc/_mean\"][-1])\n",
    "                \n",
    "                if valid_loss < best_valid_loss:\n",
    "                    self.counter = 0\n",
    "                    best_valid_loss = valid_loss\n",
    "                    torch.save(model.state_dict(), f\"{config.save_dirname}/best_model_epoch={i_epoch+1}_loss={best_valid_loss}.pth\")\n",
    "                else:\n",
    "                    self.counter += 1\n",
    "                    \n",
    "                if self.valid_metrics[\"auc/_mean\"][-1] > best_valid_auc_mean:\n",
    "                    best_valid_auc_mean = self.valid_metrics[\"auc/_mean\"][-1]\n",
    "                    torch.save(model.state_dict(), f\"{config.save_dirname}/best_model_epoch={i_epoch+1}_auc_mean={best_valid_auc_mean}.pth\")\n",
    "                    \n",
    "                if self.counter > self.config.patience:\n",
    "                    print(\"EarlyStopping\")\n",
    "                    break\n",
    "        except KeyboardInterrupt: \n",
    "            pass\n",
    "        \n",
    "        return self.train_metrics, self.valid_metrics\n",
    "        \n",
    "    def _train(self):\n",
    "        model.train()\n",
    "        epoch_loss = 0\n",
    "        epoch_output = None\n",
    "        epoch_target = None\n",
    "        for i, (images, labels) in tqdm(enumerate(self.train_dataloader), desc='Train', total=len(self.train_dataloader), position=2, leave=True):\n",
    "            loss_iten, outputs = self._train_process(images, labels)\n",
    "            epoch_loss += loss_iten              \n",
    "\n",
    "            if epoch_output is None:\n",
    "                epoch_output = outputs.cpu().data\n",
    "            else:\n",
    "                epoch_output = torch.cat((epoch_output, outputs.cpu().data))\n",
    "\n",
    "            if epoch_target is None:\n",
    "                epoch_target = labels.cpu().data\n",
    "            else:\n",
    "                epoch_target = torch.cat((epoch_target, labels.cpu().data))\n",
    "            \n",
    "        return epoch_loss / len(self.train_dataloader), epoch_output, epoch_target\n",
    "    \n",
    "    def _train_process(self, images, labels):\n",
    "        images = images.to(self.device)\n",
    "        labels = labels.to(self.device)\n",
    "        self.optimizer.zero_grad()\n",
    "        outputs = self.model(images)\n",
    "        loss = self.criterion(outputs, labels)\n",
    "        loss.backward()\n",
    "        self.optimizer.step()\n",
    "        return loss.item(), outputs\n",
    "            \n",
    "    def _evaluate(self):\n",
    "        model.eval()\n",
    "        epoch_loss = 0\n",
    "        epoch_output = None\n",
    "        epoch_target = None\n",
    "        with torch.no_grad():\n",
    "            for i, (images, labels) in enumerate(self.valid_dataloader):\n",
    "                images = images.to(device)\n",
    "                labels = labels.to(device)\n",
    "                outputs = model(images)\n",
    "                loss = criterion(outputs, labels)\n",
    "                epoch_loss += loss.item()\n",
    "                \n",
    "                if epoch_output is None:\n",
    "                    epoch_output = outputs.cpu().data\n",
    "                else:\n",
    "                    epoch_output = torch.cat((epoch_output, outputs.cpu().data))\n",
    "\n",
    "                if epoch_target is None:\n",
    "                    epoch_target = labels.cpu().data\n",
    "                else:\n",
    "                    epoch_target = torch.cat((epoch_target, labels.cpu().data))\n",
    "\n",
    "        return epoch_loss / len(self.valid_dataloader), epoch_output, epoch_target\n",
    "    \n",
    "#     def _evaluate_tta(self):\n",
    "#         n_samples = len(dataset)\n",
    "#         y_probas_tta = np.zeros((n_samples, config.num_classes, tta_count), dtype=np.float32)\n",
    "\n",
    "#         model.eval()\n",
    "#         model.to(device)\n",
    "#         with torch.no_grad():\n",
    "#             for i_epoch in tqdm(range(tta_count), desc='TTA', total=tta_count, position=1, leave=True):\n",
    "#                 for i, (images, idx) in enumerate(dataloader):\n",
    "#                     images = images.to(device)\n",
    "#                     outputs = model(images)\n",
    "#                     y_pred = F.softmax(outputs, dim=1)\n",
    "\n",
    "#                     tta_index = i_epoch - 1\n",
    "#                     start_index = (i % len(dataloader)) * config.batch_size\n",
    "#                     end_index = min(start_index + config.batch_size, n_samples)\n",
    "#                     batch_y_probas = y_pred.detach().cpu().numpy()                \n",
    "#                     y_probas_tta[start_index:end_index, :, tta_index] = batch_y_probas\n",
    "\n",
    "#         return y_probas_tta\n",
    "\n",
    "#     def show_history(self):\n",
    "#         fig, ax = plt.subplots(nrows=1, ncols=2, figsize=(12, 8))\n",
    "#         clear_output(True)\n",
    "#         ax[0].plot(history, label='train loss')\n",
    "#         ax[0].set_xlabel('Batch')\n",
    "#         ax[0].set_title('Train loss')\n",
    "#         if train_history is not None:\n",
    "#             ax[1].plot(train_history, label='general train history')\n",
    "#             ax[1].set_xlabel('Epoch')\n",
    "#         if valid_history is not None:\n",
    "#             ax[1].plot(valid_history, label='general valid history')\n",
    "#         plt.legend()\n",
    "#         plt.show()\n",
    "\n",
    "    \n",
    "    def _epoch_time(self, start_time, end_time):\n",
    "        elapsed_time = end_time - start_time\n",
    "        elapsed_mins = int(elapsed_time / 60)\n",
    "        elapsed_secs = int(elapsed_time - (elapsed_mins * 60))\n",
    "        return elapsed_mins, elapsed_secs\n",
    "\n",
    "    def print_progress(self, i_epoch, epoch_mins, epoch_secs):\n",
    "        i_epoch = i_epoch + 1\n",
    "        print(f\"Epoch: {i_epoch:02} | Time: {epoch_mins}m {epoch_secs}s\")\n",
    "        print(\"Training Results - Average Loss: {:.4f} | auc/_mean: {:.4f} | auc/healthy: {:.4f} | auc/multiple_diseases: {:.4f}, auc/rust: {:.4f}, auc/scab: {:.4f}\"\n",
    "            .format(\n",
    "                self.train_metrics['avg_loss'][-1], \n",
    "                self.train_metrics['auc/_mean'][-1],\n",
    "                self.train_metrics['auc/healthy'][-1],\n",
    "                self.train_metrics['auc/multiple_diseases'][-1],\n",
    "                self.train_metrics['auc/rust'][-1],\n",
    "                self.train_metrics['auc/scab'][-1],\n",
    "            ))\n",
    "        print(\"Evaluating Results - Average Loss: {:.4f} | auc/_mean: {:.4f} | auc/healthy: {:.4f} | auc/multiple_diseases: {:.4f}, auc/rust: {:.4f}, auc/scab: {:.4f}\"\n",
    "            .format( \n",
    "                self.valid_metrics['avg_loss'][-1], \n",
    "                self.valid_metrics['auc/_mean'][-1],\n",
    "                self.valid_metrics['auc/healthy'][-1],\n",
    "                self.valid_metrics['auc/multiple_diseases'][-1],\n",
    "                self.valid_metrics['auc/rust'][-1],\n",
    "                self.valid_metrics['auc/scab'][-1],\n",
    "            ))\n",
    "        print()\n",
    "        \n",
    "    def comp_metric(self, preds, targs, labels=range(4)):\n",
    "        preds = torch.sigmoid(preds)\n",
    "        targs = torch.eye(4)[targs]\n",
    "        return np.mean([roc_auc_score(targs[:,i], preds[:,i]) for i in labels])\n",
    "\n",
    "    def healthy_roc_auc(self, *args):\n",
    "        return self.comp_metric(*args, labels=[0])\n",
    "\n",
    "    def multiple_diseases_roc_auc(self, *args):\n",
    "        return self.comp_metric(*args, labels=[1])\n",
    "\n",
    "    def rust_roc_auc(self, *args):\n",
    "        return self.comp_metric(*args, labels=[2])\n",
    "\n",
    "    def scab_roc_auc(self, *args):\n",
    "        return self.comp_metric(*args, labels=[3])\n",
    "\n"
   ]
  },
  {
   "cell_type": "code",
   "execution_count": 10,
   "metadata": {},
   "outputs": [
    {
     "data": {
      "application/vnd.jupyter.widget-view+json": {
       "model_id": "ddf15267ee5d46b7bda5b84e95826f5d",
       "version_major": 2,
       "version_minor": 0
      },
      "text/plain": [
       "HBox(children=(FloatProgress(value=0.0, description='Epochs', max=200.0, style=ProgressStyle(description_width…"
      ]
     },
     "metadata": {},
     "output_type": "display_data"
    },
    {
     "data": {
      "application/vnd.jupyter.widget-view+json": {
       "model_id": "98b0242bcaf24b40bab76da55ec5d1dd",
       "version_major": 2,
       "version_minor": 0
      },
      "text/plain": [
       "HBox(children=(FloatProgress(value=0.0, description='Train', max=39.0, style=ProgressStyle(description_width='…"
      ]
     },
     "metadata": {},
     "output_type": "display_data"
    },
    {
     "name": "stdout",
     "output_type": "stream",
     "text": [
      "\n",
      "Epoch: 01 | Time: 0m 14s\n",
      "Training Results - Average Loss: 1.3986 | auc/_mean: 0.4870 | auc/healthy: 0.4904 | auc/multiple_diseases: 0.4943, auc/rust: 0.4459, auc/scab: 0.5175\n",
      "Evaluating Results - Average Loss: 1.3815 | auc/_mean: 0.4503 | auc/healthy: 0.5165 | auc/multiple_diseases: 0.5409, auc/rust: 0.2805, auc/scab: 0.4632\n",
      "\n"
     ]
    },
    {
     "data": {
      "application/vnd.jupyter.widget-view+json": {
       "model_id": "81cf1778ad4f45cb963294f19fe3524f",
       "version_major": 2,
       "version_minor": 0
      },
      "text/plain": [
       "HBox(children=(FloatProgress(value=0.0, description='Train', max=39.0, style=ProgressStyle(description_width='…"
      ]
     },
     "metadata": {},
     "output_type": "display_data"
    },
    {
     "name": "stdout",
     "output_type": "stream",
     "text": [
      "\n",
      "Epoch: 02 | Time: 0m 14s\n",
      "Training Results - Average Loss: 1.4057 | auc/_mean: 0.4540 | auc/healthy: 0.4529 | auc/multiple_diseases: 0.4375, auc/rust: 0.4449, auc/scab: 0.4807\n",
      "Evaluating Results - Average Loss: 1.3745 | auc/_mean: 0.4570 | auc/healthy: 0.4774 | auc/multiple_diseases: 0.5663, auc/rust: 0.3099, auc/scab: 0.4745\n",
      "\n"
     ]
    },
    {
     "data": {
      "application/vnd.jupyter.widget-view+json": {
       "model_id": "2bbeca9409294fa59c774a7805398241",
       "version_major": 2,
       "version_minor": 0
      },
      "text/plain": [
       "HBox(children=(FloatProgress(value=0.0, description='Train', max=39.0, style=ProgressStyle(description_width='…"
      ]
     },
     "metadata": {},
     "output_type": "display_data"
    },
    {
     "name": "stdout",
     "output_type": "stream",
     "text": [
      "\n",
      "Epoch: 03 | Time: 0m 13s\n",
      "Training Results - Average Loss: 1.3910 | auc/_mean: 0.4766 | auc/healthy: 0.4746 | auc/multiple_diseases: 0.4855, auc/rust: 0.4557, auc/scab: 0.4907\n",
      "Evaluating Results - Average Loss: 1.3701 | auc/_mean: 0.4620 | auc/healthy: 0.4311 | auc/multiple_diseases: 0.5693, auc/rust: 0.3541, auc/scab: 0.4934\n",
      "\n"
     ]
    },
    {
     "data": {
      "application/vnd.jupyter.widget-view+json": {
       "model_id": "e8b0f09eb2dd4ffe94cc4518351315ac",
       "version_major": 2,
       "version_minor": 0
      },
      "text/plain": [
       "HBox(children=(FloatProgress(value=0.0, description='Train', max=39.0, style=ProgressStyle(description_width='…"
      ]
     },
     "metadata": {},
     "output_type": "display_data"
    },
    {
     "name": "stdout",
     "output_type": "stream",
     "text": [
      "\n",
      "Epoch: 04 | Time: 0m 13s\n",
      "Training Results - Average Loss: 1.3809 | auc/_mean: 0.4711 | auc/healthy: 0.4771 | auc/multiple_diseases: 0.4634, auc/rust: 0.4586, auc/scab: 0.4855\n",
      "Evaluating Results - Average Loss: 1.3613 | auc/_mean: 0.4703 | auc/healthy: 0.4172 | auc/multiple_diseases: 0.5434, auc/rust: 0.3898, auc/scab: 0.5310\n",
      "\n"
     ]
    },
    {
     "data": {
      "application/vnd.jupyter.widget-view+json": {
       "model_id": "c80f5196db064029a83e868b720544ff",
       "version_major": 2,
       "version_minor": 0
      },
      "text/plain": [
       "HBox(children=(FloatProgress(value=0.0, description='Train', max=39.0, style=ProgressStyle(description_width='…"
      ]
     },
     "metadata": {},
     "output_type": "display_data"
    },
    {
     "name": "stdout",
     "output_type": "stream",
     "text": [
      "\n",
      "Epoch: 05 | Time: 0m 13s\n",
      "Training Results - Average Loss: 1.3753 | auc/_mean: 0.4858 | auc/healthy: 0.4688 | auc/multiple_diseases: 0.4729, auc/rust: 0.4670, auc/scab: 0.5343\n",
      "Evaluating Results - Average Loss: 1.3499 | auc/_mean: 0.4829 | auc/healthy: 0.4251 | auc/multiple_diseases: 0.5213, auc/rust: 0.4199, auc/scab: 0.5652\n",
      "\n"
     ]
    },
    {
     "data": {
      "application/vnd.jupyter.widget-view+json": {
       "model_id": "5c77d8fcb03641ca9539883737ebed21",
       "version_major": 2,
       "version_minor": 0
      },
      "text/plain": [
       "HBox(children=(FloatProgress(value=0.0, description='Train', max=39.0, style=ProgressStyle(description_width='…"
      ]
     },
     "metadata": {},
     "output_type": "display_data"
    },
    {
     "name": "stdout",
     "output_type": "stream",
     "text": [
      "\n",
      "Epoch: 06 | Time: 0m 13s\n",
      "Training Results - Average Loss: 1.3651 | auc/_mean: 0.4929 | auc/healthy: 0.4724 | auc/multiple_diseases: 0.4900, auc/rust: 0.4634, auc/scab: 0.5457\n",
      "Evaluating Results - Average Loss: 1.3374 | auc/_mean: 0.4986 | auc/healthy: 0.4408 | auc/multiple_diseases: 0.5079, auc/rust: 0.4518, auc/scab: 0.5940\n",
      "\n"
     ]
    },
    {
     "data": {
      "application/vnd.jupyter.widget-view+json": {
       "model_id": "63da2ffba939434dbc06173839a8cf51",
       "version_major": 2,
       "version_minor": 0
      },
      "text/plain": [
       "HBox(children=(FloatProgress(value=0.0, description='Train', max=39.0, style=ProgressStyle(description_width='…"
      ]
     },
     "metadata": {},
     "output_type": "display_data"
    },
    {
     "name": "stdout",
     "output_type": "stream",
     "text": [
      "\n",
      "Epoch: 07 | Time: 0m 14s\n",
      "Training Results - Average Loss: 1.3494 | auc/_mean: 0.5072 | auc/healthy: 0.5038 | auc/multiple_diseases: 0.4893, auc/rust: 0.4963, auc/scab: 0.5394\n",
      "Evaluating Results - Average Loss: 1.3266 | auc/_mean: 0.5119 | auc/healthy: 0.4515 | auc/multiple_diseases: 0.4985, auc/rust: 0.4793, auc/scab: 0.6183\n",
      "\n"
     ]
    },
    {
     "data": {
      "application/vnd.jupyter.widget-view+json": {
       "model_id": "1d1d95695d6441a6b202d1672aa34b20",
       "version_major": 2,
       "version_minor": 0
      },
      "text/plain": [
       "HBox(children=(FloatProgress(value=0.0, description='Train', max=39.0, style=ProgressStyle(description_width='…"
      ]
     },
     "metadata": {},
     "output_type": "display_data"
    },
    {
     "name": "stdout",
     "output_type": "stream",
     "text": [
      "\n",
      "Epoch: 08 | Time: 0m 14s\n",
      "Training Results - Average Loss: 1.3378 | auc/_mean: 0.5296 | auc/healthy: 0.5324 | auc/multiple_diseases: 0.5274, auc/rust: 0.5110, auc/scab: 0.5477\n",
      "Evaluating Results - Average Loss: 1.3176 | auc/_mean: 0.5214 | auc/healthy: 0.4626 | auc/multiple_diseases: 0.4910, auc/rust: 0.4978, auc/scab: 0.6343\n",
      "\n"
     ]
    },
    {
     "data": {
      "application/vnd.jupyter.widget-view+json": {
       "model_id": "18df62b7284349cca140335d50aa0917",
       "version_major": 2,
       "version_minor": 0
      },
      "text/plain": [
       "HBox(children=(FloatProgress(value=0.0, description='Train', max=39.0, style=ProgressStyle(description_width='…"
      ]
     },
     "metadata": {},
     "output_type": "display_data"
    },
    {
     "name": "stdout",
     "output_type": "stream",
     "text": [
      "\n",
      "Epoch: 09 | Time: 0m 14s\n",
      "Training Results - Average Loss: 1.3387 | auc/_mean: 0.5252 | auc/healthy: 0.5374 | auc/multiple_diseases: 0.4915, auc/rust: 0.5043, auc/scab: 0.5677\n",
      "Evaluating Results - Average Loss: 1.3093 | auc/_mean: 0.5302 | auc/healthy: 0.4722 | auc/multiple_diseases: 0.4848, auc/rust: 0.5136, auc/scab: 0.6502\n",
      "\n"
     ]
    },
    {
     "data": {
      "application/vnd.jupyter.widget-view+json": {
       "model_id": "90a4b182a06e4517af20321f2d8cdde6",
       "version_major": 2,
       "version_minor": 0
      },
      "text/plain": [
       "HBox(children=(FloatProgress(value=0.0, description='Train', max=39.0, style=ProgressStyle(description_width='…"
      ]
     },
     "metadata": {},
     "output_type": "display_data"
    },
    {
     "name": "stdout",
     "output_type": "stream",
     "text": [
      "\n",
      "Epoch: 10 | Time: 0m 14s\n",
      "Training Results - Average Loss: 1.3353 | auc/_mean: 0.5042 | auc/healthy: 0.5171 | auc/multiple_diseases: 0.4574, auc/rust: 0.4932, auc/scab: 0.5491\n",
      "Evaluating Results - Average Loss: 1.3019 | auc/_mean: 0.5375 | auc/healthy: 0.4804 | auc/multiple_diseases: 0.4790, auc/rust: 0.5288, auc/scab: 0.6616\n",
      "\n"
     ]
    },
    {
     "data": {
      "application/vnd.jupyter.widget-view+json": {
       "model_id": "9b8a925e05284260aa36d86b88c552d8",
       "version_major": 2,
       "version_minor": 0
      },
      "text/plain": [
       "HBox(children=(FloatProgress(value=0.0, description='Train', max=39.0, style=ProgressStyle(description_width='…"
      ]
     },
     "metadata": {},
     "output_type": "display_data"
    },
    {
     "name": "stdout",
     "output_type": "stream",
     "text": [
      "\n",
      "Epoch: 11 | Time: 0m 14s\n",
      "Training Results - Average Loss: 1.3318 | auc/_mean: 0.5105 | auc/healthy: 0.4976 | auc/multiple_diseases: 0.4849, auc/rust: 0.5020, auc/scab: 0.5575\n",
      "Evaluating Results - Average Loss: 1.2950 | auc/_mean: 0.5445 | auc/healthy: 0.4880 | auc/multiple_diseases: 0.4741, auc/rust: 0.5409, auc/scab: 0.6751\n",
      "\n"
     ]
    },
    {
     "data": {
      "application/vnd.jupyter.widget-view+json": {
       "model_id": "c590d6a554164774b9b54f77bae9a0e5",
       "version_major": 2,
       "version_minor": 0
      },
      "text/plain": [
       "HBox(children=(FloatProgress(value=0.0, description='Train', max=39.0, style=ProgressStyle(description_width='…"
      ]
     },
     "metadata": {},
     "output_type": "display_data"
    },
    {
     "name": "stdout",
     "output_type": "stream",
     "text": [
      "\n",
      "Epoch: 12 | Time: 0m 14s\n",
      "Training Results - Average Loss: 1.3177 | auc/_mean: 0.5411 | auc/healthy: 0.5385 | auc/multiple_diseases: 0.4937, auc/rust: 0.5499, auc/scab: 0.5825\n",
      "Evaluating Results - Average Loss: 1.2880 | auc/_mean: 0.5521 | auc/healthy: 0.4979 | auc/multiple_diseases: 0.4698, auc/rust: 0.5540, auc/scab: 0.6868\n",
      "\n"
     ]
    },
    {
     "data": {
      "application/vnd.jupyter.widget-view+json": {
       "model_id": "079994fec4614249a619a786fcdd71be",
       "version_major": 2,
       "version_minor": 0
      },
      "text/plain": [
       "HBox(children=(FloatProgress(value=0.0, description='Train', max=39.0, style=ProgressStyle(description_width='…"
      ]
     },
     "metadata": {},
     "output_type": "display_data"
    },
    {
     "name": "stdout",
     "output_type": "stream",
     "text": [
      "\n",
      "Epoch: 13 | Time: 0m 14s\n",
      "Training Results - Average Loss: 1.3152 | auc/_mean: 0.5390 | auc/healthy: 0.5074 | auc/multiple_diseases: 0.5402, auc/rust: 0.5359, auc/scab: 0.5723\n",
      "Evaluating Results - Average Loss: 1.2817 | auc/_mean: 0.5596 | auc/healthy: 0.5068 | auc/multiple_diseases: 0.4702, auc/rust: 0.5633, auc/scab: 0.6980\n",
      "\n"
     ]
    },
    {
     "data": {
      "application/vnd.jupyter.widget-view+json": {
       "model_id": "82d5022b808841a7a17335efb97d597b",
       "version_major": 2,
       "version_minor": 0
      },
      "text/plain": [
       "HBox(children=(FloatProgress(value=0.0, description='Train', max=39.0, style=ProgressStyle(description_width='…"
      ]
     },
     "metadata": {},
     "output_type": "display_data"
    },
    {
     "name": "stdout",
     "output_type": "stream",
     "text": [
      "\n",
      "Epoch: 14 | Time: 0m 14s\n",
      "Training Results - Average Loss: 1.3070 | auc/_mean: 0.5396 | auc/healthy: 0.5269 | auc/multiple_diseases: 0.4903, auc/rust: 0.5281, auc/scab: 0.6132\n",
      "Evaluating Results - Average Loss: 1.2761 | auc/_mean: 0.5649 | auc/healthy: 0.5155 | auc/multiple_diseases: 0.4642, auc/rust: 0.5728, auc/scab: 0.7071\n",
      "\n"
     ]
    },
    {
     "data": {
      "application/vnd.jupyter.widget-view+json": {
       "model_id": "1ce55d8c078c413bbc56400cc542bcce",
       "version_major": 2,
       "version_minor": 0
      },
      "text/plain": [
       "HBox(children=(FloatProgress(value=0.0, description='Train', max=39.0, style=ProgressStyle(description_width='…"
      ]
     },
     "metadata": {},
     "output_type": "display_data"
    },
    {
     "name": "stdout",
     "output_type": "stream",
     "text": [
      "\n",
      "Epoch: 15 | Time: 0m 14s\n",
      "Training Results - Average Loss: 1.3071 | auc/_mean: 0.5361 | auc/healthy: 0.5639 | auc/multiple_diseases: 0.4613, auc/rust: 0.5350, auc/scab: 0.5842\n",
      "Evaluating Results - Average Loss: 1.2701 | auc/_mean: 0.5727 | auc/healthy: 0.5236 | auc/multiple_diseases: 0.4638, auc/rust: 0.5859, auc/scab: 0.7175\n",
      "\n"
     ]
    },
    {
     "data": {
      "application/vnd.jupyter.widget-view+json": {
       "model_id": "9074dc240d86498ba3b67d65ec56e655",
       "version_major": 2,
       "version_minor": 0
      },
      "text/plain": [
       "HBox(children=(FloatProgress(value=0.0, description='Train', max=39.0, style=ProgressStyle(description_width='…"
      ]
     },
     "metadata": {},
     "output_type": "display_data"
    },
    {
     "name": "stdout",
     "output_type": "stream",
     "text": [
      "\n",
      "Epoch: 16 | Time: 0m 14s\n",
      "Training Results - Average Loss: 1.3005 | auc/_mean: 0.5308 | auc/healthy: 0.5399 | auc/multiple_diseases: 0.4428, auc/rust: 0.5587, auc/scab: 0.5819\n",
      "Evaluating Results - Average Loss: 1.2640 | auc/_mean: 0.5793 | auc/healthy: 0.5338 | auc/multiple_diseases: 0.4598, auc/rust: 0.5973, auc/scab: 0.7264\n",
      "\n"
     ]
    },
    {
     "data": {
      "application/vnd.jupyter.widget-view+json": {
       "model_id": "4280dda82485495aae094a33ebeedbff",
       "version_major": 2,
       "version_minor": 0
      },
      "text/plain": [
       "HBox(children=(FloatProgress(value=0.0, description='Train', max=39.0, style=ProgressStyle(description_width='…"
      ]
     },
     "metadata": {},
     "output_type": "display_data"
    },
    {
     "name": "stdout",
     "output_type": "stream",
     "text": [
      "\n",
      "Epoch: 17 | Time: 0m 14s\n",
      "Training Results - Average Loss: 1.2882 | auc/_mean: 0.5739 | auc/healthy: 0.5852 | auc/multiple_diseases: 0.5427, auc/rust: 0.5582, auc/scab: 0.6093\n",
      "Evaluating Results - Average Loss: 1.2582 | auc/_mean: 0.5866 | auc/healthy: 0.5432 | auc/multiple_diseases: 0.4581, auc/rust: 0.6096, auc/scab: 0.7357\n",
      "\n"
     ]
    },
    {
     "data": {
      "application/vnd.jupyter.widget-view+json": {
       "model_id": "48daff433a3d47f4980fd4505a1a3783",
       "version_major": 2,
       "version_minor": 0
      },
      "text/plain": [
       "HBox(children=(FloatProgress(value=0.0, description='Train', max=39.0, style=ProgressStyle(description_width='…"
      ]
     },
     "metadata": {},
     "output_type": "display_data"
    },
    {
     "name": "stdout",
     "output_type": "stream",
     "text": [
      "\n",
      "Epoch: 18 | Time: 0m 14s\n",
      "Training Results - Average Loss: 1.2953 | auc/_mean: 0.5448 | auc/healthy: 0.5458 | auc/multiple_diseases: 0.4785, auc/rust: 0.5687, auc/scab: 0.5862\n",
      "Evaluating Results - Average Loss: 1.2528 | auc/_mean: 0.5937 | auc/healthy: 0.5506 | auc/multiple_diseases: 0.4576, auc/rust: 0.6215, auc/scab: 0.7450\n",
      "\n"
     ]
    },
    {
     "data": {
      "application/vnd.jupyter.widget-view+json": {
       "model_id": "97d3b4442bf84c8d90d59d4b5619eb43",
       "version_major": 2,
       "version_minor": 0
      },
      "text/plain": [
       "HBox(children=(FloatProgress(value=0.0, description='Train', max=39.0, style=ProgressStyle(description_width='…"
      ]
     },
     "metadata": {},
     "output_type": "display_data"
    },
    {
     "name": "stdout",
     "output_type": "stream",
     "text": [
      "\n",
      "Epoch: 19 | Time: 0m 14s\n",
      "Training Results - Average Loss: 1.2883 | auc/_mean: 0.5583 | auc/healthy: 0.5489 | auc/multiple_diseases: 0.5119, auc/rust: 0.5602, auc/scab: 0.6121\n",
      "Evaluating Results - Average Loss: 1.2476 | auc/_mean: 0.5997 | auc/healthy: 0.5576 | auc/multiple_diseases: 0.4571, auc/rust: 0.6323, auc/scab: 0.7518\n",
      "\n"
     ]
    },
    {
     "data": {
      "application/vnd.jupyter.widget-view+json": {
       "model_id": "1d521b4766d046eba60b955ef2234a00",
       "version_major": 2,
       "version_minor": 0
      },
      "text/plain": [
       "HBox(children=(FloatProgress(value=0.0, description='Train', max=39.0, style=ProgressStyle(description_width='…"
      ]
     },
     "metadata": {},
     "output_type": "display_data"
    },
    {
     "name": "stdout",
     "output_type": "stream",
     "text": [
      "\n",
      "Epoch: 20 | Time: 0m 14s\n",
      "Training Results - Average Loss: 1.2799 | auc/_mean: 0.5616 | auc/healthy: 0.5635 | auc/multiple_diseases: 0.4620, auc/rust: 0.5790, auc/scab: 0.6420\n",
      "Evaluating Results - Average Loss: 1.2429 | auc/_mean: 0.6066 | auc/healthy: 0.5643 | auc/multiple_diseases: 0.4595, auc/rust: 0.6414, auc/scab: 0.7612\n",
      "\n"
     ]
    },
    {
     "data": {
      "application/vnd.jupyter.widget-view+json": {
       "model_id": "f8f8d070b50a4d53bc6cf868e50bdd2c",
       "version_major": 2,
       "version_minor": 0
      },
      "text/plain": [
       "HBox(children=(FloatProgress(value=0.0, description='Train', max=39.0, style=ProgressStyle(description_width='…"
      ]
     },
     "metadata": {},
     "output_type": "display_data"
    },
    {
     "name": "stdout",
     "output_type": "stream",
     "text": [
      "\n",
      "Epoch: 21 | Time: 0m 15s\n",
      "Training Results - Average Loss: 1.2733 | auc/_mean: 0.5780 | auc/healthy: 0.5692 | auc/multiple_diseases: 0.5247, auc/rust: 0.5856, auc/scab: 0.6326\n",
      "Evaluating Results - Average Loss: 1.2382 | auc/_mean: 0.6136 | auc/healthy: 0.5748 | auc/multiple_diseases: 0.4596, auc/rust: 0.6514, auc/scab: 0.7685\n",
      "\n"
     ]
    },
    {
     "data": {
      "application/vnd.jupyter.widget-view+json": {
       "model_id": "877db7e2193f425ba1290c81013796ea",
       "version_major": 2,
       "version_minor": 0
      },
      "text/plain": [
       "HBox(children=(FloatProgress(value=0.0, description='Train', max=39.0, style=ProgressStyle(description_width='…"
      ]
     },
     "metadata": {},
     "output_type": "display_data"
    },
    {
     "name": "stdout",
     "output_type": "stream",
     "text": [
      "\n",
      "Epoch: 22 | Time: 0m 14s\n",
      "Training Results - Average Loss: 1.2733 | auc/_mean: 0.5844 | auc/healthy: 0.5432 | auc/multiple_diseases: 0.5396, auc/rust: 0.6093, auc/scab: 0.6455\n",
      "Evaluating Results - Average Loss: 1.2333 | auc/_mean: 0.6206 | auc/healthy: 0.5848 | auc/multiple_diseases: 0.4591, auc/rust: 0.6610, auc/scab: 0.7773\n",
      "\n"
     ]
    },
    {
     "data": {
      "application/vnd.jupyter.widget-view+json": {
       "model_id": "95168f324e2046a8a2a77eb9845b81bb",
       "version_major": 2,
       "version_minor": 0
      },
      "text/plain": [
       "HBox(children=(FloatProgress(value=0.0, description='Train', max=39.0, style=ProgressStyle(description_width='…"
      ]
     },
     "metadata": {},
     "output_type": "display_data"
    },
    {
     "name": "stdout",
     "output_type": "stream",
     "text": [
      "\n",
      "Epoch: 23 | Time: 0m 13s\n",
      "Training Results - Average Loss: 1.2746 | auc/_mean: 0.5765 | auc/healthy: 0.5710 | auc/multiple_diseases: 0.5290, auc/rust: 0.5746, auc/scab: 0.6315\n",
      "Evaluating Results - Average Loss: 1.2285 | auc/_mean: 0.6269 | auc/healthy: 0.5924 | auc/multiple_diseases: 0.4579, auc/rust: 0.6721, auc/scab: 0.7853\n",
      "\n"
     ]
    },
    {
     "data": {
      "application/vnd.jupyter.widget-view+json": {
       "model_id": "fb340b68cb4440c2869d3ad296317651",
       "version_major": 2,
       "version_minor": 0
      },
      "text/plain": [
       "HBox(children=(FloatProgress(value=0.0, description='Train', max=39.0, style=ProgressStyle(description_width='…"
      ]
     },
     "metadata": {},
     "output_type": "display_data"
    },
    {
     "name": "stdout",
     "output_type": "stream",
     "text": [
      "\n",
      "Epoch: 24 | Time: 0m 14s\n",
      "Training Results - Average Loss: 1.2764 | auc/_mean: 0.5555 | auc/healthy: 0.5641 | auc/multiple_diseases: 0.4335, auc/rust: 0.5920, auc/scab: 0.6322\n",
      "Evaluating Results - Average Loss: 1.2244 | auc/_mean: 0.6330 | auc/healthy: 0.6017 | auc/multiple_diseases: 0.4567, auc/rust: 0.6815, auc/scab: 0.7921\n",
      "\n"
     ]
    },
    {
     "data": {
      "application/vnd.jupyter.widget-view+json": {
       "model_id": "e986d1a93b884296ab535ad99d0d369b",
       "version_major": 2,
       "version_minor": 0
      },
      "text/plain": [
       "HBox(children=(FloatProgress(value=0.0, description='Train', max=39.0, style=ProgressStyle(description_width='…"
      ]
     },
     "metadata": {},
     "output_type": "display_data"
    },
    {
     "name": "stdout",
     "output_type": "stream",
     "text": [
      "\n",
      "Epoch: 25 | Time: 0m 14s\n",
      "Training Results - Average Loss: 1.2715 | auc/_mean: 0.5741 | auc/healthy: 0.5826 | auc/multiple_diseases: 0.5071, auc/rust: 0.5923, auc/scab: 0.6143\n",
      "Evaluating Results - Average Loss: 1.2197 | auc/_mean: 0.6398 | auc/healthy: 0.6098 | auc/multiple_diseases: 0.4579, auc/rust: 0.6915, auc/scab: 0.7999\n",
      "\n"
     ]
    },
    {
     "data": {
      "application/vnd.jupyter.widget-view+json": {
       "model_id": "d670ff06de334b298cd09badea6acbd0",
       "version_major": 2,
       "version_minor": 0
      },
      "text/plain": [
       "HBox(children=(FloatProgress(value=0.0, description='Train', max=39.0, style=ProgressStyle(description_width='…"
      ]
     },
     "metadata": {},
     "output_type": "display_data"
    },
    {
     "name": "stdout",
     "output_type": "stream",
     "text": [
      "\n",
      "Epoch: 26 | Time: 0m 15s\n",
      "Training Results - Average Loss: 1.2642 | auc/_mean: 0.5918 | auc/healthy: 0.5681 | auc/multiple_diseases: 0.5343, auc/rust: 0.6060, auc/scab: 0.6589\n",
      "Evaluating Results - Average Loss: 1.2151 | auc/_mean: 0.6455 | auc/healthy: 0.6189 | auc/multiple_diseases: 0.4575, auc/rust: 0.7014, auc/scab: 0.8042\n",
      "\n"
     ]
    },
    {
     "data": {
      "application/vnd.jupyter.widget-view+json": {
       "model_id": "7b62471a08b84076b354756faae32568",
       "version_major": 2,
       "version_minor": 0
      },
      "text/plain": [
       "HBox(children=(FloatProgress(value=0.0, description='Train', max=39.0, style=ProgressStyle(description_width='…"
      ]
     },
     "metadata": {},
     "output_type": "display_data"
    },
    {
     "name": "stdout",
     "output_type": "stream",
     "text": [
      "\n",
      "Epoch: 27 | Time: 0m 14s\n",
      "Training Results - Average Loss: 1.2653 | auc/_mean: 0.5771 | auc/healthy: 0.5933 | auc/multiple_diseases: 0.4608, auc/rust: 0.6097, auc/scab: 0.6445\n",
      "Evaluating Results - Average Loss: 1.2109 | auc/_mean: 0.6513 | auc/healthy: 0.6260 | auc/multiple_diseases: 0.4581, auc/rust: 0.7105, auc/scab: 0.8105\n",
      "\n"
     ]
    },
    {
     "data": {
      "application/vnd.jupyter.widget-view+json": {
       "model_id": "61ce31f1e0104068821b07cb065d7e0e",
       "version_major": 2,
       "version_minor": 0
      },
      "text/plain": [
       "HBox(children=(FloatProgress(value=0.0, description='Train', max=39.0, style=ProgressStyle(description_width='…"
      ]
     },
     "metadata": {},
     "output_type": "display_data"
    },
    {
     "name": "stdout",
     "output_type": "stream",
     "text": [
      "\n",
      "Epoch: 28 | Time: 0m 14s\n",
      "Training Results - Average Loss: 1.2536 | auc/_mean: 0.6027 | auc/healthy: 0.5849 | auc/multiple_diseases: 0.5418, auc/rust: 0.6347, auc/scab: 0.6494\n",
      "Evaluating Results - Average Loss: 1.2063 | auc/_mean: 0.6574 | auc/healthy: 0.6344 | auc/multiple_diseases: 0.4579, auc/rust: 0.7217, auc/scab: 0.8156\n",
      "\n"
     ]
    },
    {
     "data": {
      "application/vnd.jupyter.widget-view+json": {
       "model_id": "233c8d7f75bf40aa83e10dd0637f5b72",
       "version_major": 2,
       "version_minor": 0
      },
      "text/plain": [
       "HBox(children=(FloatProgress(value=0.0, description='Train', max=39.0, style=ProgressStyle(description_width='…"
      ]
     },
     "metadata": {},
     "output_type": "display_data"
    },
    {
     "name": "stdout",
     "output_type": "stream",
     "text": [
      "\n",
      "Epoch: 29 | Time: 0m 15s\n",
      "Training Results - Average Loss: 1.2498 | auc/_mean: 0.6020 | auc/healthy: 0.6074 | auc/multiple_diseases: 0.4919, auc/rust: 0.6199, auc/scab: 0.6887\n",
      "Evaluating Results - Average Loss: 1.2019 | auc/_mean: 0.6635 | auc/healthy: 0.6434 | auc/multiple_diseases: 0.4612, auc/rust: 0.7284, auc/scab: 0.8211\n",
      "\n"
     ]
    },
    {
     "data": {
      "application/vnd.jupyter.widget-view+json": {
       "model_id": "ce555ed8e09048959a265ecd4ad1f442",
       "version_major": 2,
       "version_minor": 0
      },
      "text/plain": [
       "HBox(children=(FloatProgress(value=0.0, description='Train', max=39.0, style=ProgressStyle(description_width='…"
      ]
     },
     "metadata": {},
     "output_type": "display_data"
    },
    {
     "name": "stdout",
     "output_type": "stream",
     "text": [
      "\n",
      "Epoch: 30 | Time: 0m 14s\n",
      "Training Results - Average Loss: 1.2475 | auc/_mean: 0.6155 | auc/healthy: 0.6002 | auc/multiple_diseases: 0.5844, auc/rust: 0.6199, auc/scab: 0.6574\n",
      "Evaluating Results - Average Loss: 1.1974 | auc/_mean: 0.6686 | auc/healthy: 0.6517 | auc/multiple_diseases: 0.4588, auc/rust: 0.7394, auc/scab: 0.8247\n",
      "\n"
     ]
    },
    {
     "data": {
      "application/vnd.jupyter.widget-view+json": {
       "model_id": "96e67fc4ee8044759ce9861b9838b30e",
       "version_major": 2,
       "version_minor": 0
      },
      "text/plain": [
       "HBox(children=(FloatProgress(value=0.0, description='Train', max=39.0, style=ProgressStyle(description_width='…"
      ]
     },
     "metadata": {},
     "output_type": "display_data"
    },
    {
     "name": "stdout",
     "output_type": "stream",
     "text": [
      "\n",
      "Epoch: 31 | Time: 0m 14s\n",
      "Training Results - Average Loss: 1.2503 | auc/_mean: 0.5934 | auc/healthy: 0.5980 | auc/multiple_diseases: 0.4716, auc/rust: 0.6245, auc/scab: 0.6794\n",
      "Evaluating Results - Average Loss: 1.1942 | auc/_mean: 0.6737 | auc/healthy: 0.6570 | auc/multiple_diseases: 0.4614, auc/rust: 0.7467, auc/scab: 0.8299\n",
      "\n"
     ]
    },
    {
     "data": {
      "application/vnd.jupyter.widget-view+json": {
       "model_id": "07e2811a040d40fab1fd7bd34903b909",
       "version_major": 2,
       "version_minor": 0
      },
      "text/plain": [
       "HBox(children=(FloatProgress(value=0.0, description='Train', max=39.0, style=ProgressStyle(description_width='…"
      ]
     },
     "metadata": {},
     "output_type": "display_data"
    },
    {
     "name": "stdout",
     "output_type": "stream",
     "text": [
      "\n",
      "Epoch: 32 | Time: 0m 14s\n",
      "Training Results - Average Loss: 1.2465 | auc/_mean: 0.6102 | auc/healthy: 0.5852 | auc/multiple_diseases: 0.5545, auc/rust: 0.6260, auc/scab: 0.6753\n",
      "Evaluating Results - Average Loss: 1.1903 | auc/_mean: 0.6786 | auc/healthy: 0.6639 | auc/multiple_diseases: 0.4636, auc/rust: 0.7519, auc/scab: 0.8351\n",
      "\n"
     ]
    },
    {
     "data": {
      "application/vnd.jupyter.widget-view+json": {
       "model_id": "7313c7ebd280479cab0e7e67f6420774",
       "version_major": 2,
       "version_minor": 0
      },
      "text/plain": [
       "HBox(children=(FloatProgress(value=0.0, description='Train', max=39.0, style=ProgressStyle(description_width='…"
      ]
     },
     "metadata": {},
     "output_type": "display_data"
    },
    {
     "name": "stdout",
     "output_type": "stream",
     "text": [
      "\n",
      "Epoch: 33 | Time: 0m 14s\n",
      "Training Results - Average Loss: 1.2527 | auc/_mean: 0.5912 | auc/healthy: 0.6233 | auc/multiple_diseases: 0.4316, auc/rust: 0.6386, auc/scab: 0.6711\n",
      "Evaluating Results - Average Loss: 1.1862 | auc/_mean: 0.6830 | auc/healthy: 0.6715 | auc/multiple_diseases: 0.4616, auc/rust: 0.7594, auc/scab: 0.8395\n",
      "\n"
     ]
    },
    {
     "data": {
      "application/vnd.jupyter.widget-view+json": {
       "model_id": "f2cde127949d4dc4a4efceef983513c8",
       "version_major": 2,
       "version_minor": 0
      },
      "text/plain": [
       "HBox(children=(FloatProgress(value=0.0, description='Train', max=39.0, style=ProgressStyle(description_width='…"
      ]
     },
     "metadata": {},
     "output_type": "display_data"
    },
    {
     "name": "stdout",
     "output_type": "stream",
     "text": [
      "\n",
      "Epoch: 34 | Time: 0m 14s\n",
      "Training Results - Average Loss: 1.2360 | auc/_mean: 0.6133 | auc/healthy: 0.6322 | auc/multiple_diseases: 0.4770, auc/rust: 0.6579, auc/scab: 0.6860\n",
      "Evaluating Results - Average Loss: 1.1820 | auc/_mean: 0.6879 | auc/healthy: 0.6794 | auc/multiple_diseases: 0.4616, auc/rust: 0.7670, auc/scab: 0.8437\n",
      "\n"
     ]
    },
    {
     "data": {
      "application/vnd.jupyter.widget-view+json": {
       "model_id": "c559cd5c037848d190739b6ba5382100",
       "version_major": 2,
       "version_minor": 0
      },
      "text/plain": [
       "HBox(children=(FloatProgress(value=0.0, description='Train', max=39.0, style=ProgressStyle(description_width='…"
      ]
     },
     "metadata": {},
     "output_type": "display_data"
    },
    {
     "name": "stdout",
     "output_type": "stream",
     "text": [
      "\n",
      "Epoch: 35 | Time: 0m 14s\n",
      "Training Results - Average Loss: 1.2378 | auc/_mean: 0.6083 | auc/healthy: 0.6200 | auc/multiple_diseases: 0.4507, auc/rust: 0.6694, auc/scab: 0.6932\n",
      "Evaluating Results - Average Loss: 1.1776 | auc/_mean: 0.6937 | auc/healthy: 0.6892 | auc/multiple_diseases: 0.4637, auc/rust: 0.7752, auc/scab: 0.8468\n",
      "\n"
     ]
    },
    {
     "data": {
      "application/vnd.jupyter.widget-view+json": {
       "model_id": "7f350f37c1a044569508755ed493e05f",
       "version_major": 2,
       "version_minor": 0
      },
      "text/plain": [
       "HBox(children=(FloatProgress(value=0.0, description='Train', max=39.0, style=ProgressStyle(description_width='…"
      ]
     },
     "metadata": {},
     "output_type": "display_data"
    },
    {
     "name": "stdout",
     "output_type": "stream",
     "text": [
      "\n",
      "Epoch: 36 | Time: 0m 13s\n",
      "Training Results - Average Loss: 1.2219 | auc/_mean: 0.6464 | auc/healthy: 0.6469 | auc/multiple_diseases: 0.5375, auc/rust: 0.6864, auc/scab: 0.7148\n",
      "Evaluating Results - Average Loss: 1.1739 | auc/_mean: 0.6982 | auc/healthy: 0.6978 | auc/multiple_diseases: 0.4616, auc/rust: 0.7828, auc/scab: 0.8505\n",
      "\n"
     ]
    },
    {
     "data": {
      "application/vnd.jupyter.widget-view+json": {
       "model_id": "e68bb60123df417cb115ac041c383be5",
       "version_major": 2,
       "version_minor": 0
      },
      "text/plain": [
       "HBox(children=(FloatProgress(value=0.0, description='Train', max=39.0, style=ProgressStyle(description_width='…"
      ]
     },
     "metadata": {},
     "output_type": "display_data"
    },
    {
     "name": "stdout",
     "output_type": "stream",
     "text": [
      "\n",
      "Epoch: 37 | Time: 0m 13s\n",
      "Training Results - Average Loss: 1.2325 | auc/_mean: 0.6281 | auc/healthy: 0.6479 | auc/multiple_diseases: 0.4931, auc/rust: 0.6618, auc/scab: 0.7097\n",
      "Evaluating Results - Average Loss: 1.1699 | auc/_mean: 0.7028 | auc/healthy: 0.7053 | auc/multiple_diseases: 0.4615, auc/rust: 0.7906, auc/scab: 0.8538\n",
      "\n"
     ]
    },
    {
     "data": {
      "application/vnd.jupyter.widget-view+json": {
       "model_id": "7c3c3e6b7a844a63a9467fe38d6bf205",
       "version_major": 2,
       "version_minor": 0
      },
      "text/plain": [
       "HBox(children=(FloatProgress(value=0.0, description='Train', max=39.0, style=ProgressStyle(description_width='…"
      ]
     },
     "metadata": {},
     "output_type": "display_data"
    },
    {
     "name": "stdout",
     "output_type": "stream",
     "text": [
      "\n",
      "Epoch: 38 | Time: 0m 13s\n",
      "Training Results - Average Loss: 1.2241 | auc/_mean: 0.6325 | auc/healthy: 0.6483 | auc/multiple_diseases: 0.5021, auc/rust: 0.6769, auc/scab: 0.7028\n",
      "Evaluating Results - Average Loss: 1.1665 | auc/_mean: 0.7064 | auc/healthy: 0.7108 | auc/multiple_diseases: 0.4609, auc/rust: 0.7959, auc/scab: 0.8578\n",
      "\n"
     ]
    },
    {
     "data": {
      "application/vnd.jupyter.widget-view+json": {
       "model_id": "71a986e824ee41b2a91406bddb8a2097",
       "version_major": 2,
       "version_minor": 0
      },
      "text/plain": [
       "HBox(children=(FloatProgress(value=0.0, description='Train', max=39.0, style=ProgressStyle(description_width='…"
      ]
     },
     "metadata": {},
     "output_type": "display_data"
    },
    {
     "name": "stdout",
     "output_type": "stream",
     "text": [
      "\n",
      "Epoch: 39 | Time: 0m 12s\n",
      "Training Results - Average Loss: 1.2242 | auc/_mean: 0.6419 | auc/healthy: 0.6447 | auc/multiple_diseases: 0.5274, auc/rust: 0.6752, auc/scab: 0.7204\n",
      "Evaluating Results - Average Loss: 1.1629 | auc/_mean: 0.7108 | auc/healthy: 0.7173 | auc/multiple_diseases: 0.4618, auc/rust: 0.8040, auc/scab: 0.8601\n",
      "\n"
     ]
    },
    {
     "data": {
      "application/vnd.jupyter.widget-view+json": {
       "model_id": "09a4a4731498408e8cdd2e9b426d2683",
       "version_major": 2,
       "version_minor": 0
      },
      "text/plain": [
       "HBox(children=(FloatProgress(value=0.0, description='Train', max=39.0, style=ProgressStyle(description_width='…"
      ]
     },
     "metadata": {},
     "output_type": "display_data"
    },
    {
     "name": "stdout",
     "output_type": "stream",
     "text": [
      "\n",
      "Epoch: 40 | Time: 0m 13s\n",
      "Training Results - Average Loss: 1.2270 | auc/_mean: 0.6398 | auc/healthy: 0.6360 | auc/multiple_diseases: 0.5453, auc/rust: 0.6854, auc/scab: 0.6923\n",
      "Evaluating Results - Average Loss: 1.1589 | auc/_mean: 0.7146 | auc/healthy: 0.7233 | auc/multiple_diseases: 0.4616, auc/rust: 0.8096, auc/scab: 0.8639\n",
      "\n"
     ]
    },
    {
     "data": {
      "application/vnd.jupyter.widget-view+json": {
       "model_id": "67d297e87ed84716a56d3f71180b44e1",
       "version_major": 2,
       "version_minor": 0
      },
      "text/plain": [
       "HBox(children=(FloatProgress(value=0.0, description='Train', max=39.0, style=ProgressStyle(description_width='…"
      ]
     },
     "metadata": {},
     "output_type": "display_data"
    },
    {
     "name": "stdout",
     "output_type": "stream",
     "text": [
      "\n",
      "Epoch: 41 | Time: 0m 13s\n",
      "Training Results - Average Loss: 1.2135 | auc/_mean: 0.6437 | auc/healthy: 0.6196 | auc/multiple_diseases: 0.5066, auc/rust: 0.7212, auc/scab: 0.7273\n",
      "Evaluating Results - Average Loss: 1.1553 | auc/_mean: 0.7182 | auc/healthy: 0.7317 | auc/multiple_diseases: 0.4605, auc/rust: 0.8148, auc/scab: 0.8657\n",
      "\n"
     ]
    },
    {
     "data": {
      "application/vnd.jupyter.widget-view+json": {
       "model_id": "43193cb9e9554129bdefd7437667920a",
       "version_major": 2,
       "version_minor": 0
      },
      "text/plain": [
       "HBox(children=(FloatProgress(value=0.0, description='Train', max=39.0, style=ProgressStyle(description_width='…"
      ]
     },
     "metadata": {},
     "output_type": "display_data"
    },
    {
     "name": "stdout",
     "output_type": "stream",
     "text": [
      "\n",
      "Epoch: 42 | Time: 0m 13s\n",
      "Training Results - Average Loss: 1.2160 | auc/_mean: 0.6401 | auc/healthy: 0.6589 | auc/multiple_diseases: 0.4886, auc/rust: 0.7013, auc/scab: 0.7117\n",
      "Evaluating Results - Average Loss: 1.1516 | auc/_mean: 0.7218 | auc/healthy: 0.7382 | auc/multiple_diseases: 0.4602, auc/rust: 0.8203, auc/scab: 0.8686\n",
      "\n"
     ]
    },
    {
     "data": {
      "application/vnd.jupyter.widget-view+json": {
       "model_id": "d0293651426043d0998e87ce0cb85ac4",
       "version_major": 2,
       "version_minor": 0
      },
      "text/plain": [
       "HBox(children=(FloatProgress(value=0.0, description='Train', max=39.0, style=ProgressStyle(description_width='…"
      ]
     },
     "metadata": {},
     "output_type": "display_data"
    },
    {
     "name": "stdout",
     "output_type": "stream",
     "text": [
      "\n",
      "Epoch: 43 | Time: 0m 13s\n",
      "Training Results - Average Loss: 1.2182 | auc/_mean: 0.6357 | auc/healthy: 0.6374 | auc/multiple_diseases: 0.4676, auc/rust: 0.7090, auc/scab: 0.7286\n",
      "Evaluating Results - Average Loss: 1.1478 | auc/_mean: 0.7255 | auc/healthy: 0.7443 | auc/multiple_diseases: 0.4619, auc/rust: 0.8240, auc/scab: 0.8716\n",
      "\n"
     ]
    },
    {
     "data": {
      "application/vnd.jupyter.widget-view+json": {
       "model_id": "678b987492114cf58366dfb2a15154c5",
       "version_major": 2,
       "version_minor": 0
      },
      "text/plain": [
       "HBox(children=(FloatProgress(value=0.0, description='Train', max=39.0, style=ProgressStyle(description_width='…"
      ]
     },
     "metadata": {},
     "output_type": "display_data"
    },
    {
     "name": "stdout",
     "output_type": "stream",
     "text": [
      "\n",
      "Epoch: 44 | Time: 0m 13s\n",
      "Training Results - Average Loss: 1.2127 | auc/_mean: 0.6514 | auc/healthy: 0.6550 | auc/multiple_diseases: 0.5087, auc/rust: 0.7205, auc/scab: 0.7215\n",
      "Evaluating Results - Average Loss: 1.1439 | auc/_mean: 0.7291 | auc/healthy: 0.7504 | auc/multiple_diseases: 0.4631, auc/rust: 0.8287, auc/scab: 0.8742\n",
      "\n"
     ]
    },
    {
     "data": {
      "application/vnd.jupyter.widget-view+json": {
       "model_id": "84d215ce1c674b2ababd0f071443f0fd",
       "version_major": 2,
       "version_minor": 0
      },
      "text/plain": [
       "HBox(children=(FloatProgress(value=0.0, description='Train', max=39.0, style=ProgressStyle(description_width='…"
      ]
     },
     "metadata": {},
     "output_type": "display_data"
    },
    {
     "name": "stdout",
     "output_type": "stream",
     "text": [
      "\n",
      "Epoch: 45 | Time: 0m 13s\n",
      "Training Results - Average Loss: 1.2128 | auc/_mean: 0.6471 | auc/healthy: 0.6616 | auc/multiple_diseases: 0.5219, auc/rust: 0.6939, auc/scab: 0.7109\n",
      "Evaluating Results - Average Loss: 1.1395 | auc/_mean: 0.7333 | auc/healthy: 0.7581 | auc/multiple_diseases: 0.4621, auc/rust: 0.8362, auc/scab: 0.8766\n",
      "\n"
     ]
    },
    {
     "data": {
      "application/vnd.jupyter.widget-view+json": {
       "model_id": "5392b50d9b064b728a9e72af96d593bc",
       "version_major": 2,
       "version_minor": 0
      },
      "text/plain": [
       "HBox(children=(FloatProgress(value=0.0, description='Train', max=39.0, style=ProgressStyle(description_width='…"
      ]
     },
     "metadata": {},
     "output_type": "display_data"
    },
    {
     "name": "stdout",
     "output_type": "stream",
     "text": [
      "\n",
      "Epoch: 46 | Time: 0m 13s\n",
      "Training Results - Average Loss: 1.2070 | auc/_mean: 0.6613 | auc/healthy: 0.6773 | auc/multiple_diseases: 0.5278, auc/rust: 0.7158, auc/scab: 0.7242\n",
      "Evaluating Results - Average Loss: 1.1362 | auc/_mean: 0.7368 | auc/healthy: 0.7644 | auc/multiple_diseases: 0.4633, auc/rust: 0.8407, auc/scab: 0.8787\n",
      "\n"
     ]
    },
    {
     "data": {
      "application/vnd.jupyter.widget-view+json": {
       "model_id": "f6beff1fbe6940e2a1a59e7a1b554ede",
       "version_major": 2,
       "version_minor": 0
      },
      "text/plain": [
       "HBox(children=(FloatProgress(value=0.0, description='Train', max=39.0, style=ProgressStyle(description_width='…"
      ]
     },
     "metadata": {},
     "output_type": "display_data"
    },
    {
     "name": "stdout",
     "output_type": "stream",
     "text": [
      "\n",
      "Epoch: 47 | Time: 0m 14s\n",
      "Training Results - Average Loss: 1.2047 | auc/_mean: 0.6549 | auc/healthy: 0.6841 | auc/multiple_diseases: 0.4967, auc/rust: 0.7230, auc/scab: 0.7159\n",
      "Evaluating Results - Average Loss: 1.1324 | auc/_mean: 0.7396 | auc/healthy: 0.7697 | auc/multiple_diseases: 0.4626, auc/rust: 0.8451, auc/scab: 0.8809\n",
      "\n"
     ]
    },
    {
     "data": {
      "application/vnd.jupyter.widget-view+json": {
       "model_id": "ee9baf6eb80a443d838fecf4c3b1ef17",
       "version_major": 2,
       "version_minor": 0
      },
      "text/plain": [
       "HBox(children=(FloatProgress(value=0.0, description='Train', max=39.0, style=ProgressStyle(description_width='…"
      ]
     },
     "metadata": {},
     "output_type": "display_data"
    },
    {
     "name": "stdout",
     "output_type": "stream",
     "text": [
      "\n",
      "Epoch: 48 | Time: 0m 14s\n",
      "Training Results - Average Loss: 1.1996 | auc/_mean: 0.6661 | auc/healthy: 0.6638 | auc/multiple_diseases: 0.5114, auc/rust: 0.7339, auc/scab: 0.7554\n",
      "Evaluating Results - Average Loss: 1.1292 | auc/_mean: 0.7428 | auc/healthy: 0.7746 | auc/multiple_diseases: 0.4646, auc/rust: 0.8483, auc/scab: 0.8839\n",
      "\n"
     ]
    },
    {
     "data": {
      "application/vnd.jupyter.widget-view+json": {
       "model_id": "0a9656455784417b9b74fe75ee565c0b",
       "version_major": 2,
       "version_minor": 0
      },
      "text/plain": [
       "HBox(children=(FloatProgress(value=0.0, description='Train', max=39.0, style=ProgressStyle(description_width='…"
      ]
     },
     "metadata": {},
     "output_type": "display_data"
    },
    {
     "name": "stdout",
     "output_type": "stream",
     "text": [
      "\n",
      "Epoch: 49 | Time: 0m 14s\n",
      "Training Results - Average Loss: 1.1946 | auc/_mean: 0.6738 | auc/healthy: 0.6679 | auc/multiple_diseases: 0.5310, auc/rust: 0.7353, auc/scab: 0.7611\n",
      "Evaluating Results - Average Loss: 1.1252 | auc/_mean: 0.7461 | auc/healthy: 0.7813 | auc/multiple_diseases: 0.4648, auc/rust: 0.8529, auc/scab: 0.8854\n",
      "\n"
     ]
    },
    {
     "data": {
      "application/vnd.jupyter.widget-view+json": {
       "model_id": "4c534aa6937f45fc9dec83db5ea69d53",
       "version_major": 2,
       "version_minor": 0
      },
      "text/plain": [
       "HBox(children=(FloatProgress(value=0.0, description='Train', max=39.0, style=ProgressStyle(description_width='…"
      ]
     },
     "metadata": {},
     "output_type": "display_data"
    },
    {
     "name": "stdout",
     "output_type": "stream",
     "text": [
      "\n",
      "Epoch: 50 | Time: 0m 13s\n",
      "Training Results - Average Loss: 1.1990 | auc/_mean: 0.6587 | auc/healthy: 0.6761 | auc/multiple_diseases: 0.4822, auc/rust: 0.7305, auc/scab: 0.7459\n",
      "Evaluating Results - Average Loss: 1.1220 | auc/_mean: 0.7486 | auc/healthy: 0.7854 | auc/multiple_diseases: 0.4664, auc/rust: 0.8552, auc/scab: 0.8875\n",
      "\n"
     ]
    },
    {
     "data": {
      "application/vnd.jupyter.widget-view+json": {
       "model_id": "d964c60d0dd942c6892a6b55e5680dd8",
       "version_major": 2,
       "version_minor": 0
      },
      "text/plain": [
       "HBox(children=(FloatProgress(value=0.0, description='Train', max=39.0, style=ProgressStyle(description_width='…"
      ]
     },
     "metadata": {},
     "output_type": "display_data"
    },
    {
     "name": "stdout",
     "output_type": "stream",
     "text": [
      "\n",
      "Epoch: 51 | Time: 0m 14s\n",
      "Training Results - Average Loss: 1.1966 | auc/_mean: 0.6606 | auc/healthy: 0.6744 | auc/multiple_diseases: 0.4616, auc/rust: 0.7390, auc/scab: 0.7675\n",
      "Evaluating Results - Average Loss: 1.1191 | auc/_mean: 0.7504 | auc/healthy: 0.7901 | auc/multiple_diseases: 0.4649, auc/rust: 0.8571, auc/scab: 0.8897\n",
      "\n"
     ]
    },
    {
     "data": {
      "application/vnd.jupyter.widget-view+json": {
       "model_id": "7ed525dda537416c926e84dea5655c6f",
       "version_major": 2,
       "version_minor": 0
      },
      "text/plain": [
       "HBox(children=(FloatProgress(value=0.0, description='Train', max=39.0, style=ProgressStyle(description_width='…"
      ]
     },
     "metadata": {},
     "output_type": "display_data"
    },
    {
     "name": "stdout",
     "output_type": "stream",
     "text": [
      "\n",
      "Epoch: 52 | Time: 0m 14s\n",
      "Training Results - Average Loss: 1.1989 | auc/_mean: 0.6589 | auc/healthy: 0.6838 | auc/multiple_diseases: 0.4589, auc/rust: 0.7251, auc/scab: 0.7677\n",
      "Evaluating Results - Average Loss: 1.1151 | auc/_mean: 0.7532 | auc/healthy: 0.7950 | auc/multiple_diseases: 0.4649, auc/rust: 0.8617, auc/scab: 0.8912\n",
      "\n"
     ]
    },
    {
     "data": {
      "application/vnd.jupyter.widget-view+json": {
       "model_id": "0852a651821d4bc69807c87f66f9f18b",
       "version_major": 2,
       "version_minor": 0
      },
      "text/plain": [
       "HBox(children=(FloatProgress(value=0.0, description='Train', max=39.0, style=ProgressStyle(description_width='…"
      ]
     },
     "metadata": {},
     "output_type": "display_data"
    },
    {
     "name": "stdout",
     "output_type": "stream",
     "text": [
      "\n",
      "Epoch: 53 | Time: 0m 14s\n",
      "Training Results - Average Loss: 1.1846 | auc/_mean: 0.6801 | auc/healthy: 0.7015 | auc/multiple_diseases: 0.5114, auc/rust: 0.7479, auc/scab: 0.7596\n",
      "Evaluating Results - Average Loss: 1.1108 | auc/_mean: 0.7563 | auc/healthy: 0.8002 | auc/multiple_diseases: 0.4664, auc/rust: 0.8663, auc/scab: 0.8921\n",
      "\n"
     ]
    },
    {
     "data": {
      "application/vnd.jupyter.widget-view+json": {
       "model_id": "9f48dd27f3b74bee9e9c5c7a1dd3a707",
       "version_major": 2,
       "version_minor": 0
      },
      "text/plain": [
       "HBox(children=(FloatProgress(value=0.0, description='Train', max=39.0, style=ProgressStyle(description_width='…"
      ]
     },
     "metadata": {},
     "output_type": "display_data"
    },
    {
     "name": "stdout",
     "output_type": "stream",
     "text": [
      "\n",
      "Epoch: 54 | Time: 0m 13s\n",
      "Training Results - Average Loss: 1.1868 | auc/_mean: 0.6745 | auc/healthy: 0.6786 | auc/multiple_diseases: 0.5152, auc/rust: 0.7471, auc/scab: 0.7569\n",
      "Evaluating Results - Average Loss: 1.1080 | auc/_mean: 0.7580 | auc/healthy: 0.8039 | auc/multiple_diseases: 0.4664, auc/rust: 0.8687, auc/scab: 0.8930\n",
      "\n"
     ]
    },
    {
     "data": {
      "application/vnd.jupyter.widget-view+json": {
       "model_id": "0fc2d9a877a1455fab011877ca7780ba",
       "version_major": 2,
       "version_minor": 0
      },
      "text/plain": [
       "HBox(children=(FloatProgress(value=0.0, description='Train', max=39.0, style=ProgressStyle(description_width='…"
      ]
     },
     "metadata": {},
     "output_type": "display_data"
    },
    {
     "name": "stdout",
     "output_type": "stream",
     "text": [
      "\n",
      "Epoch: 55 | Time: 0m 14s\n",
      "Training Results - Average Loss: 1.1853 | auc/_mean: 0.6829 | auc/healthy: 0.7217 | auc/multiple_diseases: 0.5041, auc/rust: 0.7348, auc/scab: 0.7710\n",
      "Evaluating Results - Average Loss: 1.1051 | auc/_mean: 0.7602 | auc/healthy: 0.8072 | auc/multiple_diseases: 0.4678, auc/rust: 0.8714, auc/scab: 0.8945\n",
      "\n"
     ]
    },
    {
     "data": {
      "application/vnd.jupyter.widget-view+json": {
       "model_id": "4818bafa873347e3a7ad817d320c038f",
       "version_major": 2,
       "version_minor": 0
      },
      "text/plain": [
       "HBox(children=(FloatProgress(value=0.0, description='Train', max=39.0, style=ProgressStyle(description_width='…"
      ]
     },
     "metadata": {},
     "output_type": "display_data"
    },
    {
     "name": "stdout",
     "output_type": "stream",
     "text": [
      "\n",
      "Epoch: 56 | Time: 0m 15s\n",
      "Training Results - Average Loss: 1.1873 | auc/_mean: 0.6920 | auc/healthy: 0.7151 | auc/multiple_diseases: 0.5502, auc/rust: 0.7358, auc/scab: 0.7669\n",
      "Evaluating Results - Average Loss: 1.1018 | auc/_mean: 0.7616 | auc/healthy: 0.8116 | auc/multiple_diseases: 0.4646, auc/rust: 0.8742, auc/scab: 0.8960\n",
      "\n"
     ]
    },
    {
     "data": {
      "application/vnd.jupyter.widget-view+json": {
       "model_id": "f7fc47bce4ec4bb8b03a62cdc4d03948",
       "version_major": 2,
       "version_minor": 0
      },
      "text/plain": [
       "HBox(children=(FloatProgress(value=0.0, description='Train', max=39.0, style=ProgressStyle(description_width='…"
      ]
     },
     "metadata": {},
     "output_type": "display_data"
    },
    {
     "name": "stdout",
     "output_type": "stream",
     "text": [
      "\n",
      "Epoch: 57 | Time: 0m 14s\n",
      "Training Results - Average Loss: 1.1864 | auc/_mean: 0.6926 | auc/healthy: 0.6820 | auc/multiple_diseases: 0.5514, auc/rust: 0.7585, auc/scab: 0.7787\n",
      "Evaluating Results - Average Loss: 1.0986 | auc/_mean: 0.7641 | auc/healthy: 0.8154 | auc/multiple_diseases: 0.4666, auc/rust: 0.8782, auc/scab: 0.8961\n",
      "\n"
     ]
    },
    {
     "data": {
      "application/vnd.jupyter.widget-view+json": {
       "model_id": "90af19d5a735421096a9304035b840d4",
       "version_major": 2,
       "version_minor": 0
      },
      "text/plain": [
       "HBox(children=(FloatProgress(value=0.0, description='Train', max=39.0, style=ProgressStyle(description_width='…"
      ]
     },
     "metadata": {},
     "output_type": "display_data"
    },
    {
     "name": "stdout",
     "output_type": "stream",
     "text": [
      "\n",
      "Epoch: 58 | Time: 0m 14s\n",
      "Training Results - Average Loss: 1.1791 | auc/_mean: 0.6930 | auc/healthy: 0.7172 | auc/multiple_diseases: 0.5409, auc/rust: 0.7463, auc/scab: 0.7675\n",
      "Evaluating Results - Average Loss: 1.0951 | auc/_mean: 0.7653 | auc/healthy: 0.8184 | auc/multiple_diseases: 0.4633, auc/rust: 0.8812, auc/scab: 0.8982\n",
      "\n"
     ]
    },
    {
     "data": {
      "application/vnd.jupyter.widget-view+json": {
       "model_id": "f5b646b7648f452a8a8ba0f8eb08003d",
       "version_major": 2,
       "version_minor": 0
      },
      "text/plain": [
       "HBox(children=(FloatProgress(value=0.0, description='Train', max=39.0, style=ProgressStyle(description_width='…"
      ]
     },
     "metadata": {},
     "output_type": "display_data"
    },
    {
     "name": "stdout",
     "output_type": "stream",
     "text": [
      "\n",
      "Epoch: 59 | Time: 0m 13s\n",
      "Training Results - Average Loss: 1.1761 | auc/_mean: 0.6823 | auc/healthy: 0.6780 | auc/multiple_diseases: 0.5245, auc/rust: 0.7626, auc/scab: 0.7639\n",
      "Evaluating Results - Average Loss: 1.0919 | auc/_mean: 0.7672 | auc/healthy: 0.8214 | auc/multiple_diseases: 0.4656, auc/rust: 0.8825, auc/scab: 0.8994\n",
      "\n"
     ]
    },
    {
     "data": {
      "application/vnd.jupyter.widget-view+json": {
       "model_id": "910040b225734ad3bfd5776015331832",
       "version_major": 2,
       "version_minor": 0
      },
      "text/plain": [
       "HBox(children=(FloatProgress(value=0.0, description='Train', max=39.0, style=ProgressStyle(description_width='…"
      ]
     },
     "metadata": {},
     "output_type": "display_data"
    },
    {
     "name": "stdout",
     "output_type": "stream",
     "text": [
      "\n",
      "Epoch: 60 | Time: 0m 14s\n",
      "Training Results - Average Loss: 1.1844 | auc/_mean: 0.6957 | auc/healthy: 0.6904 | auc/multiple_diseases: 0.5620, auc/rust: 0.7646, auc/scab: 0.7658\n",
      "Evaluating Results - Average Loss: 1.0889 | auc/_mean: 0.7689 | auc/healthy: 0.8249 | auc/multiple_diseases: 0.4652, auc/rust: 0.8848, auc/scab: 0.9008\n",
      "\n"
     ]
    },
    {
     "data": {
      "application/vnd.jupyter.widget-view+json": {
       "model_id": "d5dbd02e7013446eb770421cfbecfece",
       "version_major": 2,
       "version_minor": 0
      },
      "text/plain": [
       "HBox(children=(FloatProgress(value=0.0, description='Train', max=39.0, style=ProgressStyle(description_width='…"
      ]
     },
     "metadata": {},
     "output_type": "display_data"
    },
    {
     "name": "stdout",
     "output_type": "stream",
     "text": [
      "\n",
      "Epoch: 61 | Time: 0m 14s\n",
      "Training Results - Average Loss: 1.1713 | auc/_mean: 0.7238 | auc/healthy: 0.7314 | auc/multiple_diseases: 0.5965, auc/rust: 0.7918, auc/scab: 0.7754\n",
      "Evaluating Results - Average Loss: 1.0859 | auc/_mean: 0.7699 | auc/healthy: 0.8278 | auc/multiple_diseases: 0.4636, auc/rust: 0.8868, auc/scab: 0.9017\n",
      "\n"
     ]
    },
    {
     "data": {
      "application/vnd.jupyter.widget-view+json": {
       "model_id": "84bc3b4cdb8a45e18d4f871fe12212f4",
       "version_major": 2,
       "version_minor": 0
      },
      "text/plain": [
       "HBox(children=(FloatProgress(value=0.0, description='Train', max=39.0, style=ProgressStyle(description_width='…"
      ]
     },
     "metadata": {},
     "output_type": "display_data"
    },
    {
     "name": "stdout",
     "output_type": "stream",
     "text": [
      "\n",
      "Epoch: 62 | Time: 0m 14s\n",
      "Training Results - Average Loss: 1.1702 | auc/_mean: 0.6970 | auc/healthy: 0.7240 | auc/multiple_diseases: 0.5284, auc/rust: 0.7592, auc/scab: 0.7765\n",
      "Evaluating Results - Average Loss: 1.0824 | auc/_mean: 0.7723 | auc/healthy: 0.8303 | auc/multiple_diseases: 0.4664, auc/rust: 0.8883, auc/scab: 0.9042\n",
      "\n"
     ]
    },
    {
     "data": {
      "application/vnd.jupyter.widget-view+json": {
       "model_id": "8ccc734ff1374df8a9efa8a11b110e2b",
       "version_major": 2,
       "version_minor": 0
      },
      "text/plain": [
       "HBox(children=(FloatProgress(value=0.0, description='Train', max=39.0, style=ProgressStyle(description_width='…"
      ]
     },
     "metadata": {},
     "output_type": "display_data"
    },
    {
     "name": "stdout",
     "output_type": "stream",
     "text": [
      "\n",
      "Epoch: 63 | Time: 0m 15s\n",
      "Training Results - Average Loss: 1.1625 | auc/_mean: 0.7151 | auc/healthy: 0.7337 | auc/multiple_diseases: 0.5644, auc/rust: 0.7753, auc/scab: 0.7870\n",
      "Evaluating Results - Average Loss: 1.0788 | auc/_mean: 0.7737 | auc/healthy: 0.8345 | auc/multiple_diseases: 0.4641, auc/rust: 0.8916, auc/scab: 0.9047\n",
      "\n"
     ]
    },
    {
     "data": {
      "application/vnd.jupyter.widget-view+json": {
       "model_id": "330205b157ff4ea89796822b06295dec",
       "version_major": 2,
       "version_minor": 0
      },
      "text/plain": [
       "HBox(children=(FloatProgress(value=0.0, description='Train', max=39.0, style=ProgressStyle(description_width='…"
      ]
     },
     "metadata": {},
     "output_type": "display_data"
    },
    {
     "name": "stdout",
     "output_type": "stream",
     "text": [
      "\n",
      "Epoch: 64 | Time: 0m 15s\n",
      "Training Results - Average Loss: 1.1646 | auc/_mean: 0.7069 | auc/healthy: 0.7206 | auc/multiple_diseases: 0.5625, auc/rust: 0.7666, auc/scab: 0.7777\n",
      "Evaluating Results - Average Loss: 1.0764 | auc/_mean: 0.7755 | auc/healthy: 0.8360 | auc/multiple_diseases: 0.4671, auc/rust: 0.8932, auc/scab: 0.9055\n",
      "\n"
     ]
    },
    {
     "data": {
      "application/vnd.jupyter.widget-view+json": {
       "model_id": "ac52d5fe444a449584f7ed7147a6d921",
       "version_major": 2,
       "version_minor": 0
      },
      "text/plain": [
       "HBox(children=(FloatProgress(value=0.0, description='Train', max=39.0, style=ProgressStyle(description_width='…"
      ]
     },
     "metadata": {},
     "output_type": "display_data"
    },
    {
     "name": "stdout",
     "output_type": "stream",
     "text": [
      "\n",
      "Epoch: 65 | Time: 0m 14s\n",
      "Training Results - Average Loss: 1.1619 | auc/_mean: 0.6973 | auc/healthy: 0.7348 | auc/multiple_diseases: 0.4820, auc/rust: 0.7841, auc/scab: 0.7883\n",
      "Evaluating Results - Average Loss: 1.0740 | auc/_mean: 0.7771 | auc/healthy: 0.8384 | auc/multiple_diseases: 0.4684, auc/rust: 0.8959, auc/scab: 0.9058\n",
      "\n"
     ]
    },
    {
     "data": {
      "application/vnd.jupyter.widget-view+json": {
       "model_id": "3160a3cd0355407b85f46daeea2df3db",
       "version_major": 2,
       "version_minor": 0
      },
      "text/plain": [
       "HBox(children=(FloatProgress(value=0.0, description='Train', max=39.0, style=ProgressStyle(description_width='…"
      ]
     },
     "metadata": {},
     "output_type": "display_data"
    },
    {
     "name": "stdout",
     "output_type": "stream",
     "text": [
      "\n",
      "Epoch: 66 | Time: 0m 14s\n",
      "Training Results - Average Loss: 1.1672 | auc/_mean: 0.6841 | auc/healthy: 0.7121 | auc/multiple_diseases: 0.4800, auc/rust: 0.7777, auc/scab: 0.7667\n",
      "Evaluating Results - Average Loss: 1.0713 | auc/_mean: 0.7789 | auc/healthy: 0.8405 | auc/multiple_diseases: 0.4705, auc/rust: 0.8980, auc/scab: 0.9067\n",
      "\n"
     ]
    },
    {
     "data": {
      "application/vnd.jupyter.widget-view+json": {
       "model_id": "0a79d87055f9444da2fb00968a0a6c85",
       "version_major": 2,
       "version_minor": 0
      },
      "text/plain": [
       "HBox(children=(FloatProgress(value=0.0, description='Train', max=39.0, style=ProgressStyle(description_width='…"
      ]
     },
     "metadata": {},
     "output_type": "display_data"
    },
    {
     "name": "stdout",
     "output_type": "stream",
     "text": [
      "\n",
      "Epoch: 67 | Time: 0m 15s\n",
      "Training Results - Average Loss: 1.1727 | auc/_mean: 0.6977 | auc/healthy: 0.7210 | auc/multiple_diseases: 0.4843, auc/rust: 0.7906, auc/scab: 0.7950\n",
      "Evaluating Results - Average Loss: 1.0675 | auc/_mean: 0.7802 | auc/healthy: 0.8433 | auc/multiple_diseases: 0.4692, auc/rust: 0.9004, auc/scab: 0.9078\n",
      "\n"
     ]
    },
    {
     "data": {
      "application/vnd.jupyter.widget-view+json": {
       "model_id": "e7dcb0ffcb674accb9157c1ab0f5d301",
       "version_major": 2,
       "version_minor": 0
      },
      "text/plain": [
       "HBox(children=(FloatProgress(value=0.0, description='Train', max=39.0, style=ProgressStyle(description_width='…"
      ]
     },
     "metadata": {},
     "output_type": "display_data"
    },
    {
     "name": "stdout",
     "output_type": "stream",
     "text": [
      "\n",
      "Epoch: 68 | Time: 0m 15s\n",
      "Training Results - Average Loss: 1.1519 | auc/_mean: 0.7224 | auc/healthy: 0.7420 | auc/multiple_diseases: 0.5488, auc/rust: 0.8066, auc/scab: 0.7921\n",
      "Evaluating Results - Average Loss: 1.0643 | auc/_mean: 0.7815 | auc/healthy: 0.8458 | auc/multiple_diseases: 0.4696, auc/rust: 0.9017, auc/scab: 0.9089\n",
      "\n"
     ]
    },
    {
     "data": {
      "application/vnd.jupyter.widget-view+json": {
       "model_id": "8ae0db3999704d98a538844bcd9a0d96",
       "version_major": 2,
       "version_minor": 0
      },
      "text/plain": [
       "HBox(children=(FloatProgress(value=0.0, description='Train', max=39.0, style=ProgressStyle(description_width='…"
      ]
     },
     "metadata": {},
     "output_type": "display_data"
    },
    {
     "name": "stdout",
     "output_type": "stream",
     "text": [
      "\n",
      "Epoch: 69 | Time: 0m 14s\n",
      "Training Results - Average Loss: 1.1667 | auc/_mean: 0.7008 | auc/healthy: 0.7251 | auc/multiple_diseases: 0.5354, auc/rust: 0.7761, auc/scab: 0.7667\n",
      "Evaluating Results - Average Loss: 1.0608 | auc/_mean: 0.7836 | auc/healthy: 0.8481 | auc/multiple_diseases: 0.4724, auc/rust: 0.9038, auc/scab: 0.9102\n",
      "\n"
     ]
    },
    {
     "data": {
      "application/vnd.jupyter.widget-view+json": {
       "model_id": "cd6e51c6704b4346833076a2349dca3b",
       "version_major": 2,
       "version_minor": 0
      },
      "text/plain": [
       "HBox(children=(FloatProgress(value=0.0, description='Train', max=39.0, style=ProgressStyle(description_width='…"
      ]
     },
     "metadata": {},
     "output_type": "display_data"
    },
    {
     "name": "stdout",
     "output_type": "stream",
     "text": [
      "\n",
      "Epoch: 70 | Time: 0m 13s\n",
      "Training Results - Average Loss: 1.1614 | auc/_mean: 0.7070 | auc/healthy: 0.7320 | auc/multiple_diseases: 0.5226, auc/rust: 0.7762, auc/scab: 0.7971\n",
      "Evaluating Results - Average Loss: 1.0584 | auc/_mean: 0.7846 | auc/healthy: 0.8491 | auc/multiple_diseases: 0.4730, auc/rust: 0.9049, auc/scab: 0.9112\n",
      "\n"
     ]
    },
    {
     "data": {
      "application/vnd.jupyter.widget-view+json": {
       "model_id": "429f776c2a514e5fb4423fd6fa224270",
       "version_major": 2,
       "version_minor": 0
      },
      "text/plain": [
       "HBox(children=(FloatProgress(value=0.0, description='Train', max=39.0, style=ProgressStyle(description_width='…"
      ]
     },
     "metadata": {},
     "output_type": "display_data"
    },
    {
     "name": "stdout",
     "output_type": "stream",
     "text": [
      "\n",
      "Epoch: 71 | Time: 0m 13s\n",
      "Training Results - Average Loss: 1.1517 | auc/_mean: 0.7205 | auc/healthy: 0.7380 | auc/multiple_diseases: 0.5402, auc/rust: 0.7869, auc/scab: 0.8168\n",
      "Evaluating Results - Average Loss: 1.0554 | auc/_mean: 0.7858 | auc/healthy: 0.8509 | auc/multiple_diseases: 0.4733, auc/rust: 0.9069, auc/scab: 0.9121\n",
      "\n"
     ]
    },
    {
     "data": {
      "application/vnd.jupyter.widget-view+json": {
       "model_id": "d35e32668aaf44109762dfa258abc092",
       "version_major": 2,
       "version_minor": 0
      },
      "text/plain": [
       "HBox(children=(FloatProgress(value=0.0, description='Train', max=39.0, style=ProgressStyle(description_width='…"
      ]
     },
     "metadata": {},
     "output_type": "display_data"
    },
    {
     "name": "stdout",
     "output_type": "stream",
     "text": [
      "\n",
      "Epoch: 72 | Time: 0m 13s\n",
      "Training Results - Average Loss: 1.1551 | auc/_mean: 0.7140 | auc/healthy: 0.7331 | auc/multiple_diseases: 0.5216, auc/rust: 0.7946, auc/scab: 0.8066\n",
      "Evaluating Results - Average Loss: 1.0526 | auc/_mean: 0.7858 | auc/healthy: 0.8526 | auc/multiple_diseases: 0.4702, auc/rust: 0.9077, auc/scab: 0.9127\n",
      "\n"
     ]
    },
    {
     "data": {
      "application/vnd.jupyter.widget-view+json": {
       "model_id": "9d3e87b0a9f34a138e40fad1b4b3a3b9",
       "version_major": 2,
       "version_minor": 0
      },
      "text/plain": [
       "HBox(children=(FloatProgress(value=0.0, description='Train', max=39.0, style=ProgressStyle(description_width='…"
      ]
     },
     "metadata": {},
     "output_type": "display_data"
    },
    {
     "name": "stdout",
     "output_type": "stream",
     "text": [
      "\n",
      "Epoch: 73 | Time: 0m 13s\n",
      "Training Results - Average Loss: 1.1544 | auc/_mean: 0.6993 | auc/healthy: 0.7209 | auc/multiple_diseases: 0.4929, auc/rust: 0.7989, auc/scab: 0.7844\n",
      "Evaluating Results - Average Loss: 1.0505 | auc/_mean: 0.7881 | auc/healthy: 0.8541 | auc/multiple_diseases: 0.4766, auc/rust: 0.9084, auc/scab: 0.9134\n",
      "\n"
     ]
    },
    {
     "data": {
      "application/vnd.jupyter.widget-view+json": {
       "model_id": "72c4e98261f0471f9d02906acb5f9570",
       "version_major": 2,
       "version_minor": 0
      },
      "text/plain": [
       "HBox(children=(FloatProgress(value=0.0, description='Train', max=39.0, style=ProgressStyle(description_width='…"
      ]
     },
     "metadata": {},
     "output_type": "display_data"
    },
    {
     "name": "stdout",
     "output_type": "stream",
     "text": [
      "\n",
      "Epoch: 74 | Time: 0m 13s\n",
      "Training Results - Average Loss: 1.1371 | auc/_mean: 0.7243 | auc/healthy: 0.7139 | auc/multiple_diseases: 0.5627, auc/rust: 0.8195, auc/scab: 0.8011\n",
      "Evaluating Results - Average Loss: 1.0469 | auc/_mean: 0.7898 | auc/healthy: 0.8577 | auc/multiple_diseases: 0.4773, auc/rust: 0.9102, auc/scab: 0.9141\n",
      "\n"
     ]
    },
    {
     "data": {
      "application/vnd.jupyter.widget-view+json": {
       "model_id": "9912e1c142a54c4a9c1b0697f6f2d4b6",
       "version_major": 2,
       "version_minor": 0
      },
      "text/plain": [
       "HBox(children=(FloatProgress(value=0.0, description='Train', max=39.0, style=ProgressStyle(description_width='…"
      ]
     },
     "metadata": {},
     "output_type": "display_data"
    },
    {
     "name": "stdout",
     "output_type": "stream",
     "text": [
      "\n",
      "Epoch: 75 | Time: 0m 13s\n",
      "Training Results - Average Loss: 1.1382 | auc/_mean: 0.7233 | auc/healthy: 0.7787 | auc/multiple_diseases: 0.4997, auc/rust: 0.8020, auc/scab: 0.8127\n",
      "Evaluating Results - Average Loss: 1.0444 | auc/_mean: 0.7909 | auc/healthy: 0.8585 | auc/multiple_diseases: 0.4800, auc/rust: 0.9105, auc/scab: 0.9147\n",
      "\n"
     ]
    },
    {
     "data": {
      "application/vnd.jupyter.widget-view+json": {
       "model_id": "ffa79f37ef184937aae1e9f180786504",
       "version_major": 2,
       "version_minor": 0
      },
      "text/plain": [
       "HBox(children=(FloatProgress(value=0.0, description='Train', max=39.0, style=ProgressStyle(description_width='…"
      ]
     },
     "metadata": {},
     "output_type": "display_data"
    },
    {
     "name": "stdout",
     "output_type": "stream",
     "text": [
      "\n",
      "Epoch: 76 | Time: 0m 13s\n",
      "Training Results - Average Loss: 1.1420 | auc/_mean: 0.7286 | auc/healthy: 0.7671 | auc/multiple_diseases: 0.5553, auc/rust: 0.7950, auc/scab: 0.7972\n",
      "Evaluating Results - Average Loss: 1.0407 | auc/_mean: 0.7918 | auc/healthy: 0.8608 | auc/multiple_diseases: 0.4778, auc/rust: 0.9127, auc/scab: 0.9157\n",
      "\n"
     ]
    },
    {
     "data": {
      "application/vnd.jupyter.widget-view+json": {
       "model_id": "ab328504e0d945c1919438ce420dabaa",
       "version_major": 2,
       "version_minor": 0
      },
      "text/plain": [
       "HBox(children=(FloatProgress(value=0.0, description='Train', max=39.0, style=ProgressStyle(description_width='…"
      ]
     },
     "metadata": {},
     "output_type": "display_data"
    },
    {
     "name": "stdout",
     "output_type": "stream",
     "text": [
      "\n",
      "Epoch: 77 | Time: 0m 13s\n",
      "Training Results - Average Loss: 1.1418 | auc/_mean: 0.7133 | auc/healthy: 0.7435 | auc/multiple_diseases: 0.5133, auc/rust: 0.7989, auc/scab: 0.7976\n",
      "Evaluating Results - Average Loss: 1.0385 | auc/_mean: 0.7929 | auc/healthy: 0.8627 | auc/multiple_diseases: 0.4779, auc/rust: 0.9140, auc/scab: 0.9168\n",
      "\n"
     ]
    },
    {
     "data": {
      "application/vnd.jupyter.widget-view+json": {
       "model_id": "5525d927a579465d964e3a616e8ab409",
       "version_major": 2,
       "version_minor": 0
      },
      "text/plain": [
       "HBox(children=(FloatProgress(value=0.0, description='Train', max=39.0, style=ProgressStyle(description_width='…"
      ]
     },
     "metadata": {},
     "output_type": "display_data"
    },
    {
     "name": "stdout",
     "output_type": "stream",
     "text": [
      "\n",
      "Epoch: 78 | Time: 0m 13s\n",
      "Training Results - Average Loss: 1.1443 | auc/_mean: 0.7045 | auc/healthy: 0.7265 | auc/multiple_diseases: 0.4616, auc/rust: 0.8150, auc/scab: 0.8147\n",
      "Evaluating Results - Average Loss: 1.0364 | auc/_mean: 0.7938 | auc/healthy: 0.8633 | auc/multiple_diseases: 0.4807, auc/rust: 0.9142, auc/scab: 0.9169\n",
      "\n"
     ]
    },
    {
     "data": {
      "application/vnd.jupyter.widget-view+json": {
       "model_id": "853c0af156da49728f338fc9c9fe350d",
       "version_major": 2,
       "version_minor": 0
      },
      "text/plain": [
       "HBox(children=(FloatProgress(value=0.0, description='Train', max=39.0, style=ProgressStyle(description_width='…"
      ]
     },
     "metadata": {},
     "output_type": "display_data"
    },
    {
     "name": "stdout",
     "output_type": "stream",
     "text": [
      "\n",
      "Epoch: 79 | Time: 0m 13s\n",
      "Training Results - Average Loss: 1.1384 | auc/_mean: 0.7234 | auc/healthy: 0.7720 | auc/multiple_diseases: 0.5269, auc/rust: 0.7998, auc/scab: 0.7950\n",
      "Evaluating Results - Average Loss: 1.0335 | auc/_mean: 0.7949 | auc/healthy: 0.8666 | auc/multiple_diseases: 0.4796, auc/rust: 0.9156, auc/scab: 0.9177\n",
      "\n"
     ]
    },
    {
     "data": {
      "application/vnd.jupyter.widget-view+json": {
       "model_id": "321c248f73574f58bc5f782fc06fbc68",
       "version_major": 2,
       "version_minor": 0
      },
      "text/plain": [
       "HBox(children=(FloatProgress(value=0.0, description='Train', max=39.0, style=ProgressStyle(description_width='…"
      ]
     },
     "metadata": {},
     "output_type": "display_data"
    },
    {
     "name": "stdout",
     "output_type": "stream",
     "text": [
      "\n",
      "Epoch: 80 | Time: 0m 13s\n",
      "Training Results - Average Loss: 1.1303 | auc/_mean: 0.7210 | auc/healthy: 0.7524 | auc/multiple_diseases: 0.5175, auc/rust: 0.7916, auc/scab: 0.8223\n",
      "Evaluating Results - Average Loss: 1.0310 | auc/_mean: 0.7952 | auc/healthy: 0.8675 | auc/multiple_diseases: 0.4781, auc/rust: 0.9172, auc/scab: 0.9182\n",
      "\n"
     ]
    },
    {
     "data": {
      "application/vnd.jupyter.widget-view+json": {
       "model_id": "2b7fc4e672574c99864bfc03e2934374",
       "version_major": 2,
       "version_minor": 0
      },
      "text/plain": [
       "HBox(children=(FloatProgress(value=0.0, description='Train', max=39.0, style=ProgressStyle(description_width='…"
      ]
     },
     "metadata": {},
     "output_type": "display_data"
    },
    {
     "name": "stdout",
     "output_type": "stream",
     "text": [
      "\n",
      "Epoch: 81 | Time: 0m 14s\n",
      "Training Results - Average Loss: 1.1339 | auc/_mean: 0.7175 | auc/healthy: 0.7464 | auc/multiple_diseases: 0.5012, auc/rust: 0.8084, auc/scab: 0.8140\n",
      "Evaluating Results - Average Loss: 1.0287 | auc/_mean: 0.7963 | auc/healthy: 0.8685 | auc/multiple_diseases: 0.4797, auc/rust: 0.9186, auc/scab: 0.9183\n",
      "\n"
     ]
    },
    {
     "data": {
      "application/vnd.jupyter.widget-view+json": {
       "model_id": "048b0c3dbc1046dbbd5909253b5ded8e",
       "version_major": 2,
       "version_minor": 0
      },
      "text/plain": [
       "HBox(children=(FloatProgress(value=0.0, description='Train', max=39.0, style=ProgressStyle(description_width='…"
      ]
     },
     "metadata": {},
     "output_type": "display_data"
    },
    {
     "name": "stdout",
     "output_type": "stream",
     "text": [
      "\n",
      "Epoch: 82 | Time: 0m 14s\n",
      "Training Results - Average Loss: 1.1374 | auc/_mean: 0.7190 | auc/healthy: 0.7616 | auc/multiple_diseases: 0.5025, auc/rust: 0.7962, auc/scab: 0.8158\n",
      "Evaluating Results - Average Loss: 1.0261 | auc/_mean: 0.7969 | auc/healthy: 0.8698 | auc/multiple_diseases: 0.4799, auc/rust: 0.9196, auc/scab: 0.9182\n",
      "\n"
     ]
    },
    {
     "data": {
      "application/vnd.jupyter.widget-view+json": {
       "model_id": "fe0fbf3104c4455cb46ae10c2d974d0f",
       "version_major": 2,
       "version_minor": 0
      },
      "text/plain": [
       "HBox(children=(FloatProgress(value=0.0, description='Train', max=39.0, style=ProgressStyle(description_width='…"
      ]
     },
     "metadata": {},
     "output_type": "display_data"
    },
    {
     "name": "stdout",
     "output_type": "stream",
     "text": [
      "\n",
      "Epoch: 83 | Time: 0m 14s\n",
      "Training Results - Average Loss: 1.1400 | auc/_mean: 0.7192 | auc/healthy: 0.7813 | auc/multiple_diseases: 0.4703, auc/rust: 0.8234, auc/scab: 0.8019\n",
      "Evaluating Results - Average Loss: 1.0228 | auc/_mean: 0.7979 | auc/healthy: 0.8712 | auc/multiple_diseases: 0.4803, auc/rust: 0.9207, auc/scab: 0.9194\n",
      "\n"
     ]
    },
    {
     "data": {
      "application/vnd.jupyter.widget-view+json": {
       "model_id": "f704d717734547349701c5caa6ebbafd",
       "version_major": 2,
       "version_minor": 0
      },
      "text/plain": [
       "HBox(children=(FloatProgress(value=0.0, description='Train', max=39.0, style=ProgressStyle(description_width='…"
      ]
     },
     "metadata": {},
     "output_type": "display_data"
    },
    {
     "name": "stdout",
     "output_type": "stream",
     "text": [
      "\n",
      "Epoch: 84 | Time: 0m 15s\n",
      "Training Results - Average Loss: 1.1282 | auc/_mean: 0.7181 | auc/healthy: 0.7745 | auc/multiple_diseases: 0.4818, auc/rust: 0.8114, auc/scab: 0.8045\n",
      "Evaluating Results - Average Loss: 1.0198 | auc/_mean: 0.7989 | auc/healthy: 0.8733 | auc/multiple_diseases: 0.4805, auc/rust: 0.9218, auc/scab: 0.9200\n",
      "\n"
     ]
    },
    {
     "data": {
      "application/vnd.jupyter.widget-view+json": {
       "model_id": "61a042d3119b46e4814db2f5fdd49fd7",
       "version_major": 2,
       "version_minor": 0
      },
      "text/plain": [
       "HBox(children=(FloatProgress(value=0.0, description='Train', max=39.0, style=ProgressStyle(description_width='…"
      ]
     },
     "metadata": {},
     "output_type": "display_data"
    },
    {
     "name": "stdout",
     "output_type": "stream",
     "text": [
      "\n",
      "Epoch: 85 | Time: 0m 14s\n",
      "Training Results - Average Loss: 1.1232 | auc/_mean: 0.7258 | auc/healthy: 0.7624 | auc/multiple_diseases: 0.5055, auc/rust: 0.8115, auc/scab: 0.8237\n",
      "Evaluating Results - Average Loss: 1.0182 | auc/_mean: 0.7994 | auc/healthy: 0.8730 | auc/multiple_diseases: 0.4828, auc/rust: 0.9221, auc/scab: 0.9196\n",
      "\n"
     ]
    },
    {
     "data": {
      "application/vnd.jupyter.widget-view+json": {
       "model_id": "0fe5219f8a874f17851a188497bcac55",
       "version_major": 2,
       "version_minor": 0
      },
      "text/plain": [
       "HBox(children=(FloatProgress(value=0.0, description='Train', max=39.0, style=ProgressStyle(description_width='…"
      ]
     },
     "metadata": {},
     "output_type": "display_data"
    },
    {
     "name": "stdout",
     "output_type": "stream",
     "text": [
      "\n",
      "Epoch: 86 | Time: 0m 14s\n",
      "Training Results - Average Loss: 1.1307 | auc/_mean: 0.7269 | auc/healthy: 0.7512 | auc/multiple_diseases: 0.5247, auc/rust: 0.8283, auc/scab: 0.8032\n",
      "Evaluating Results - Average Loss: 1.0156 | auc/_mean: 0.8000 | auc/healthy: 0.8747 | auc/multiple_diseases: 0.4817, auc/rust: 0.9232, auc/scab: 0.9203\n",
      "\n"
     ]
    },
    {
     "data": {
      "application/vnd.jupyter.widget-view+json": {
       "model_id": "73edd1ad3804429184602663ebfe93a3",
       "version_major": 2,
       "version_minor": 0
      },
      "text/plain": [
       "HBox(children=(FloatProgress(value=0.0, description='Train', max=39.0, style=ProgressStyle(description_width='…"
      ]
     },
     "metadata": {},
     "output_type": "display_data"
    },
    {
     "name": "stdout",
     "output_type": "stream",
     "text": [
      "\n",
      "Epoch: 87 | Time: 0m 14s\n",
      "Training Results - Average Loss: 1.1286 | auc/_mean: 0.7306 | auc/healthy: 0.7780 | auc/multiple_diseases: 0.5064, auc/rust: 0.8289, auc/scab: 0.8090\n",
      "Evaluating Results - Average Loss: 1.0137 | auc/_mean: 0.8012 | auc/healthy: 0.8756 | auc/multiple_diseases: 0.4849, auc/rust: 0.9238, auc/scab: 0.9204\n",
      "\n"
     ]
    },
    {
     "data": {
      "application/vnd.jupyter.widget-view+json": {
       "model_id": "e2789ab23d0f40ca8c024695dfff4891",
       "version_major": 2,
       "version_minor": 0
      },
      "text/plain": [
       "HBox(children=(FloatProgress(value=0.0, description='Train', max=39.0, style=ProgressStyle(description_width='…"
      ]
     },
     "metadata": {},
     "output_type": "display_data"
    },
    {
     "name": "stdout",
     "output_type": "stream",
     "text": [
      "\n",
      "Epoch: 88 | Time: 0m 14s\n",
      "Training Results - Average Loss: 1.1201 | auc/_mean: 0.7341 | auc/healthy: 0.7574 | auc/multiple_diseases: 0.5375, auc/rust: 0.8245, auc/scab: 0.8168\n",
      "Evaluating Results - Average Loss: 1.0112 | auc/_mean: 0.8022 | auc/healthy: 0.8772 | auc/multiple_diseases: 0.4866, auc/rust: 0.9245, auc/scab: 0.9206\n",
      "\n"
     ]
    },
    {
     "data": {
      "application/vnd.jupyter.widget-view+json": {
       "model_id": "caf8eaf3036242c781db3cdbcbbc11b2",
       "version_major": 2,
       "version_minor": 0
      },
      "text/plain": [
       "HBox(children=(FloatProgress(value=0.0, description='Train', max=39.0, style=ProgressStyle(description_width='…"
      ]
     },
     "metadata": {},
     "output_type": "display_data"
    },
    {
     "name": "stdout",
     "output_type": "stream",
     "text": [
      "\n",
      "Epoch: 89 | Time: 0m 13s\n",
      "Training Results - Average Loss: 1.1271 | auc/_mean: 0.7312 | auc/healthy: 0.7653 | auc/multiple_diseases: 0.5390, auc/rust: 0.8201, auc/scab: 0.8002\n",
      "Evaluating Results - Average Loss: 1.0084 | auc/_mean: 0.8037 | auc/healthy: 0.8790 | auc/multiple_diseases: 0.4892, auc/rust: 0.9253, auc/scab: 0.9212\n",
      "\n"
     ]
    },
    {
     "data": {
      "application/vnd.jupyter.widget-view+json": {
       "model_id": "d8430b36365c42f4a435f6cd739ef722",
       "version_major": 2,
       "version_minor": 0
      },
      "text/plain": [
       "HBox(children=(FloatProgress(value=0.0, description='Train', max=39.0, style=ProgressStyle(description_width='…"
      ]
     },
     "metadata": {},
     "output_type": "display_data"
    },
    {
     "name": "stdout",
     "output_type": "stream",
     "text": [
      "\n",
      "Epoch: 90 | Time: 0m 13s\n",
      "Training Results - Average Loss: 1.1215 | auc/_mean: 0.7349 | auc/healthy: 0.7718 | auc/multiple_diseases: 0.5373, auc/rust: 0.8271, auc/scab: 0.8034\n",
      "Evaluating Results - Average Loss: 1.0067 | auc/_mean: 0.8043 | auc/healthy: 0.8799 | auc/multiple_diseases: 0.4898, auc/rust: 0.9259, auc/scab: 0.9216\n",
      "\n"
     ]
    },
    {
     "data": {
      "application/vnd.jupyter.widget-view+json": {
       "model_id": "840c9e6d7ac94b5798f6322ea01ed1ec",
       "version_major": 2,
       "version_minor": 0
      },
      "text/plain": [
       "HBox(children=(FloatProgress(value=0.0, description='Train', max=39.0, style=ProgressStyle(description_width='…"
      ]
     },
     "metadata": {},
     "output_type": "display_data"
    },
    {
     "name": "stdout",
     "output_type": "stream",
     "text": [
      "\n",
      "Epoch: 91 | Time: 0m 14s\n",
      "Training Results - Average Loss: 1.1045 | auc/_mean: 0.7529 | auc/healthy: 0.7658 | auc/multiple_diseases: 0.5856, auc/rust: 0.8414, auc/scab: 0.8188\n",
      "Evaluating Results - Average Loss: 1.0045 | auc/_mean: 0.8047 | auc/healthy: 0.8817 | auc/multiple_diseases: 0.4886, auc/rust: 0.9270, auc/scab: 0.9216\n",
      "\n"
     ]
    },
    {
     "data": {
      "application/vnd.jupyter.widget-view+json": {
       "model_id": "d536543ff6f14a069cd6778f711326cd",
       "version_major": 2,
       "version_minor": 0
      },
      "text/plain": [
       "HBox(children=(FloatProgress(value=0.0, description='Train', max=39.0, style=ProgressStyle(description_width='…"
      ]
     },
     "metadata": {},
     "output_type": "display_data"
    },
    {
     "name": "stdout",
     "output_type": "stream",
     "text": [
      "\n",
      "Epoch: 92 | Time: 0m 14s\n",
      "Training Results - Average Loss: 1.1118 | auc/_mean: 0.7366 | auc/healthy: 0.7830 | auc/multiple_diseases: 0.5108, auc/rust: 0.8194, auc/scab: 0.8334\n",
      "Evaluating Results - Average Loss: 1.0014 | auc/_mean: 0.8053 | auc/healthy: 0.8842 | auc/multiple_diseases: 0.4865, auc/rust: 0.9282, auc/scab: 0.9222\n",
      "\n"
     ]
    },
    {
     "data": {
      "application/vnd.jupyter.widget-view+json": {
       "model_id": "3d564ffa8a6f43268a170eb75f548d46",
       "version_major": 2,
       "version_minor": 0
      },
      "text/plain": [
       "HBox(children=(FloatProgress(value=0.0, description='Train', max=39.0, style=ProgressStyle(description_width='…"
      ]
     },
     "metadata": {},
     "output_type": "display_data"
    },
    {
     "name": "stdout",
     "output_type": "stream",
     "text": [
      "\n",
      "Epoch: 93 | Time: 0m 14s\n",
      "Training Results - Average Loss: 1.1173 | auc/_mean: 0.7321 | auc/healthy: 0.7828 | auc/multiple_diseases: 0.5038, auc/rust: 0.8314, auc/scab: 0.8105\n",
      "Evaluating Results - Average Loss: 0.9990 | auc/_mean: 0.8059 | auc/healthy: 0.8858 | auc/multiple_diseases: 0.4862, auc/rust: 0.9290, auc/scab: 0.9227\n",
      "\n"
     ]
    },
    {
     "data": {
      "application/vnd.jupyter.widget-view+json": {
       "model_id": "973e56d7a7d84683a9f1e3797e6f32a4",
       "version_major": 2,
       "version_minor": 0
      },
      "text/plain": [
       "HBox(children=(FloatProgress(value=0.0, description='Train', max=39.0, style=ProgressStyle(description_width='…"
      ]
     },
     "metadata": {},
     "output_type": "display_data"
    },
    {
     "name": "stdout",
     "output_type": "stream",
     "text": [
      "\n",
      "Epoch: 94 | Time: 0m 14s\n",
      "Training Results - Average Loss: 1.1060 | auc/_mean: 0.7444 | auc/healthy: 0.7757 | auc/multiple_diseases: 0.5369, auc/rust: 0.8320, auc/scab: 0.8331\n",
      "Evaluating Results - Average Loss: 0.9970 | auc/_mean: 0.8064 | auc/healthy: 0.8859 | auc/multiple_diseases: 0.4883, auc/rust: 0.9290, auc/scab: 0.9225\n",
      "\n"
     ]
    },
    {
     "data": {
      "application/vnd.jupyter.widget-view+json": {
       "model_id": "daf14309e5fa483e91eb8ebcfa018eb8",
       "version_major": 2,
       "version_minor": 0
      },
      "text/plain": [
       "HBox(children=(FloatProgress(value=0.0, description='Train', max=39.0, style=ProgressStyle(description_width='…"
      ]
     },
     "metadata": {},
     "output_type": "display_data"
    },
    {
     "name": "stdout",
     "output_type": "stream",
     "text": [
      "\n",
      "Epoch: 95 | Time: 0m 14s\n",
      "Training Results - Average Loss: 1.1009 | auc/_mean: 0.7452 | auc/healthy: 0.7725 | auc/multiple_diseases: 0.5258, auc/rust: 0.8569, auc/scab: 0.8256\n",
      "Evaluating Results - Average Loss: 0.9943 | auc/_mean: 0.8076 | auc/healthy: 0.8867 | auc/multiple_diseases: 0.4905, auc/rust: 0.9306, auc/scab: 0.9226\n",
      "\n"
     ]
    },
    {
     "data": {
      "application/vnd.jupyter.widget-view+json": {
       "model_id": "ba592c7e06d14212940f54b1297c6d8f",
       "version_major": 2,
       "version_minor": 0
      },
      "text/plain": [
       "HBox(children=(FloatProgress(value=0.0, description='Train', max=39.0, style=ProgressStyle(description_width='…"
      ]
     },
     "metadata": {},
     "output_type": "display_data"
    },
    {
     "name": "stdout",
     "output_type": "stream",
     "text": [
      "\n",
      "Epoch: 96 | Time: 0m 14s\n",
      "Training Results - Average Loss: 1.1012 | auc/_mean: 0.7460 | auc/healthy: 0.7774 | auc/multiple_diseases: 0.5339, auc/rust: 0.8356, auc/scab: 0.8373\n",
      "Evaluating Results - Average Loss: 0.9920 | auc/_mean: 0.8081 | auc/healthy: 0.8880 | auc/multiple_diseases: 0.4906, auc/rust: 0.9313, auc/scab: 0.9225\n",
      "\n"
     ]
    },
    {
     "data": {
      "application/vnd.jupyter.widget-view+json": {
       "model_id": "646a936db3a6400d8e46a93002a04537",
       "version_major": 2,
       "version_minor": 0
      },
      "text/plain": [
       "HBox(children=(FloatProgress(value=0.0, description='Train', max=39.0, style=ProgressStyle(description_width='…"
      ]
     },
     "metadata": {},
     "output_type": "display_data"
    },
    {
     "name": "stdout",
     "output_type": "stream",
     "text": [
      "\n",
      "Epoch: 97 | Time: 0m 14s\n",
      "Training Results - Average Loss: 1.0985 | auc/_mean: 0.7668 | auc/healthy: 0.8062 | auc/multiple_diseases: 0.6014, auc/rust: 0.8171, auc/scab: 0.8427\n",
      "Evaluating Results - Average Loss: 0.9901 | auc/_mean: 0.8079 | auc/healthy: 0.8888 | auc/multiple_diseases: 0.4886, auc/rust: 0.9314, auc/scab: 0.9230\n",
      "\n"
     ]
    },
    {
     "data": {
      "application/vnd.jupyter.widget-view+json": {
       "model_id": "19a3f8a46446487b9d6b18e956f1347c",
       "version_major": 2,
       "version_minor": 0
      },
      "text/plain": [
       "HBox(children=(FloatProgress(value=0.0, description='Train', max=39.0, style=ProgressStyle(description_width='…"
      ]
     },
     "metadata": {},
     "output_type": "display_data"
    },
    {
     "name": "stdout",
     "output_type": "stream",
     "text": [
      "\n",
      "Epoch: 98 | Time: 0m 14s\n",
      "Training Results - Average Loss: 1.1016 | auc/_mean: 0.7524 | auc/healthy: 0.7763 | auc/multiple_diseases: 0.5780, auc/rust: 0.8256, auc/scab: 0.8295\n",
      "Evaluating Results - Average Loss: 0.9878 | auc/_mean: 0.8088 | auc/healthy: 0.8885 | auc/multiple_diseases: 0.4914, auc/rust: 0.9322, auc/scab: 0.9232\n",
      "\n"
     ]
    },
    {
     "data": {
      "application/vnd.jupyter.widget-view+json": {
       "model_id": "a49312437be94d33937bdf93d05fdb6e",
       "version_major": 2,
       "version_minor": 0
      },
      "text/plain": [
       "HBox(children=(FloatProgress(value=0.0, description='Train', max=39.0, style=ProgressStyle(description_width='…"
      ]
     },
     "metadata": {},
     "output_type": "display_data"
    },
    {
     "name": "stdout",
     "output_type": "stream",
     "text": [
      "\n",
      "Epoch: 99 | Time: 0m 14s\n",
      "Training Results - Average Loss: 1.0971 | auc/_mean: 0.7548 | auc/healthy: 0.7925 | auc/multiple_diseases: 0.5603, auc/rust: 0.8490, auc/scab: 0.8175\n",
      "Evaluating Results - Average Loss: 0.9857 | auc/_mean: 0.8093 | auc/healthy: 0.8889 | auc/multiple_diseases: 0.4922, auc/rust: 0.9324, auc/scab: 0.9236\n",
      "\n"
     ]
    },
    {
     "data": {
      "application/vnd.jupyter.widget-view+json": {
       "model_id": "b9603063704f405c8fd63f7e2c435a3b",
       "version_major": 2,
       "version_minor": 0
      },
      "text/plain": [
       "HBox(children=(FloatProgress(value=0.0, description='Train', max=39.0, style=ProgressStyle(description_width='…"
      ]
     },
     "metadata": {},
     "output_type": "display_data"
    },
    {
     "name": "stdout",
     "output_type": "stream",
     "text": [
      "\n",
      "Epoch: 100 | Time: 0m 14s\n",
      "Training Results - Average Loss: 1.1089 | auc/_mean: 0.7246 | auc/healthy: 0.7839 | auc/multiple_diseases: 0.4675, auc/rust: 0.8321, auc/scab: 0.8149\n",
      "Evaluating Results - Average Loss: 0.9829 | auc/_mean: 0.8101 | auc/healthy: 0.8901 | auc/multiple_diseases: 0.4926, auc/rust: 0.9334, auc/scab: 0.9242\n",
      "\n"
     ]
    },
    {
     "data": {
      "application/vnd.jupyter.widget-view+json": {
       "model_id": "3df26532940a43aea46fb7c29d9c41f3",
       "version_major": 2,
       "version_minor": 0
      },
      "text/plain": [
       "HBox(children=(FloatProgress(value=0.0, description='Train', max=39.0, style=ProgressStyle(description_width='…"
      ]
     },
     "metadata": {},
     "output_type": "display_data"
    },
    {
     "name": "stdout",
     "output_type": "stream",
     "text": [
      "\n",
      "Epoch: 101 | Time: 0m 13s\n",
      "Training Results - Average Loss: 1.1149 | auc/_mean: 0.7354 | auc/healthy: 0.7659 | auc/multiple_diseases: 0.5272, auc/rust: 0.8305, auc/scab: 0.8179\n",
      "Evaluating Results - Average Loss: 0.9808 | auc/_mean: 0.8103 | auc/healthy: 0.8919 | auc/multiple_diseases: 0.4917, auc/rust: 0.9334, auc/scab: 0.9242\n",
      "\n"
     ]
    },
    {
     "data": {
      "application/vnd.jupyter.widget-view+json": {
       "model_id": "75279f9153d94e4c8de096e935292782",
       "version_major": 2,
       "version_minor": 0
      },
      "text/plain": [
       "HBox(children=(FloatProgress(value=0.0, description='Train', max=39.0, style=ProgressStyle(description_width='…"
      ]
     },
     "metadata": {},
     "output_type": "display_data"
    },
    {
     "name": "stdout",
     "output_type": "stream",
     "text": [
      "\n",
      "Epoch: 102 | Time: 0m 13s\n",
      "Training Results - Average Loss: 1.0929 | auc/_mean: 0.7595 | auc/healthy: 0.7788 | auc/multiple_diseases: 0.5844, auc/rust: 0.8384, auc/scab: 0.8365\n",
      "Evaluating Results - Average Loss: 0.9784 | auc/_mean: 0.8109 | auc/healthy: 0.8928 | auc/multiple_diseases: 0.4917, auc/rust: 0.9343, auc/scab: 0.9247\n",
      "\n"
     ]
    },
    {
     "data": {
      "application/vnd.jupyter.widget-view+json": {
       "model_id": "b6e39bf5f642461eb638bafd984ce3cb",
       "version_major": 2,
       "version_minor": 0
      },
      "text/plain": [
       "HBox(children=(FloatProgress(value=0.0, description='Train', max=39.0, style=ProgressStyle(description_width='…"
      ]
     },
     "metadata": {},
     "output_type": "display_data"
    },
    {
     "name": "stdout",
     "output_type": "stream",
     "text": [
      "\n",
      "Epoch: 103 | Time: 0m 13s\n",
      "Training Results - Average Loss: 1.1049 | auc/_mean: 0.7282 | auc/healthy: 0.7579 | auc/multiple_diseases: 0.4847, auc/rust: 0.8400, auc/scab: 0.8302\n",
      "Evaluating Results - Average Loss: 0.9764 | auc/_mean: 0.8120 | auc/healthy: 0.8938 | auc/multiple_diseases: 0.4936, auc/rust: 0.9351, auc/scab: 0.9254\n",
      "\n"
     ]
    },
    {
     "data": {
      "application/vnd.jupyter.widget-view+json": {
       "model_id": "4d9c1e7c827f477e892c69b52d1e2eee",
       "version_major": 2,
       "version_minor": 0
      },
      "text/plain": [
       "HBox(children=(FloatProgress(value=0.0, description='Train', max=39.0, style=ProgressStyle(description_width='…"
      ]
     },
     "metadata": {},
     "output_type": "display_data"
    },
    {
     "name": "stdout",
     "output_type": "stream",
     "text": [
      "\n",
      "Epoch: 104 | Time: 0m 13s\n",
      "Training Results - Average Loss: 1.1007 | auc/_mean: 0.7454 | auc/healthy: 0.7863 | auc/multiple_diseases: 0.5141, auc/rust: 0.8447, auc/scab: 0.8364\n",
      "Evaluating Results - Average Loss: 0.9736 | auc/_mean: 0.8128 | auc/healthy: 0.8946 | auc/multiple_diseases: 0.4952, auc/rust: 0.9360, auc/scab: 0.9255\n",
      "\n"
     ]
    },
    {
     "data": {
      "application/vnd.jupyter.widget-view+json": {
       "model_id": "b05eb923741541e4ab618a9124f2cbed",
       "version_major": 2,
       "version_minor": 0
      },
      "text/plain": [
       "HBox(children=(FloatProgress(value=0.0, description='Train', max=39.0, style=ProgressStyle(description_width='…"
      ]
     },
     "metadata": {},
     "output_type": "display_data"
    },
    {
     "name": "stdout",
     "output_type": "stream",
     "text": [
      "\n",
      "Epoch: 105 | Time: 0m 13s\n",
      "Training Results - Average Loss: 1.0996 | auc/_mean: 0.7545 | auc/healthy: 0.8035 | auc/multiple_diseases: 0.5605, auc/rust: 0.8370, auc/scab: 0.8169\n",
      "Evaluating Results - Average Loss: 0.9718 | auc/_mean: 0.8134 | auc/healthy: 0.8945 | auc/multiple_diseases: 0.4963, auc/rust: 0.9370, auc/scab: 0.9258\n",
      "\n"
     ]
    },
    {
     "data": {
      "application/vnd.jupyter.widget-view+json": {
       "model_id": "4839477ec9aa404cbe1a439593ce31b4",
       "version_major": 2,
       "version_minor": 0
      },
      "text/plain": [
       "HBox(children=(FloatProgress(value=0.0, description='Train', max=39.0, style=ProgressStyle(description_width='…"
      ]
     },
     "metadata": {},
     "output_type": "display_data"
    },
    {
     "name": "stdout",
     "output_type": "stream",
     "text": [
      "\n",
      "Epoch: 106 | Time: 0m 13s\n",
      "Training Results - Average Loss: 1.0962 | auc/_mean: 0.7417 | auc/healthy: 0.7947 | auc/multiple_diseases: 0.4993, auc/rust: 0.8483, auc/scab: 0.8244\n",
      "Evaluating Results - Average Loss: 0.9691 | auc/_mean: 0.8138 | auc/healthy: 0.8963 | auc/multiple_diseases: 0.4949, auc/rust: 0.9381, auc/scab: 0.9259\n",
      "\n"
     ]
    },
    {
     "data": {
      "application/vnd.jupyter.widget-view+json": {
       "model_id": "6a90af27bbf842febb6afe5828fd6a7e",
       "version_major": 2,
       "version_minor": 0
      },
      "text/plain": [
       "HBox(children=(FloatProgress(value=0.0, description='Train', max=39.0, style=ProgressStyle(description_width='…"
      ]
     },
     "metadata": {},
     "output_type": "display_data"
    },
    {
     "name": "stdout",
     "output_type": "stream",
     "text": [
      "\n",
      "Epoch: 107 | Time: 0m 13s\n",
      "Training Results - Average Loss: 1.0977 | auc/_mean: 0.7456 | auc/healthy: 0.7779 | auc/multiple_diseases: 0.5341, auc/rust: 0.8370, auc/scab: 0.8332\n",
      "Evaluating Results - Average Loss: 0.9676 | auc/_mean: 0.8138 | auc/healthy: 0.8970 | auc/multiple_diseases: 0.4946, auc/rust: 0.9378, auc/scab: 0.9261\n",
      "\n"
     ]
    },
    {
     "data": {
      "application/vnd.jupyter.widget-view+json": {
       "model_id": "c3b34da7dd90439286c1ee73d879efd6",
       "version_major": 2,
       "version_minor": 0
      },
      "text/plain": [
       "HBox(children=(FloatProgress(value=0.0, description='Train', max=39.0, style=ProgressStyle(description_width='…"
      ]
     },
     "metadata": {},
     "output_type": "display_data"
    },
    {
     "name": "stdout",
     "output_type": "stream",
     "text": [
      "\n",
      "Epoch: 108 | Time: 0m 14s\n",
      "Training Results - Average Loss: 1.1010 | auc/_mean: 0.7463 | auc/healthy: 0.7854 | auc/multiple_diseases: 0.5293, auc/rust: 0.8328, auc/scab: 0.8379\n",
      "Evaluating Results - Average Loss: 0.9664 | auc/_mean: 0.8141 | auc/healthy: 0.8977 | auc/multiple_diseases: 0.4949, auc/rust: 0.9375, auc/scab: 0.9262\n",
      "\n"
     ]
    },
    {
     "data": {
      "application/vnd.jupyter.widget-view+json": {
       "model_id": "6c215d6594344a28bcaf4dce1c31751b",
       "version_major": 2,
       "version_minor": 0
      },
      "text/plain": [
       "HBox(children=(FloatProgress(value=0.0, description='Train', max=39.0, style=ProgressStyle(description_width='…"
      ]
     },
     "metadata": {},
     "output_type": "display_data"
    },
    {
     "name": "stdout",
     "output_type": "stream",
     "text": [
      "\n",
      "Epoch: 109 | Time: 0m 13s\n",
      "Training Results - Average Loss: 1.0950 | auc/_mean: 0.7389 | auc/healthy: 0.7934 | auc/multiple_diseases: 0.4856, auc/rust: 0.8317, auc/scab: 0.8451\n",
      "Evaluating Results - Average Loss: 0.9645 | auc/_mean: 0.8148 | auc/healthy: 0.8985 | auc/multiple_diseases: 0.4966, auc/rust: 0.9379, auc/scab: 0.9264\n",
      "\n"
     ]
    },
    {
     "data": {
      "application/vnd.jupyter.widget-view+json": {
       "model_id": "4da017da32d74e6699d74c1ec975f5ae",
       "version_major": 2,
       "version_minor": 0
      },
      "text/plain": [
       "HBox(children=(FloatProgress(value=0.0, description='Train', max=39.0, style=ProgressStyle(description_width='…"
      ]
     },
     "metadata": {},
     "output_type": "display_data"
    },
    {
     "name": "stdout",
     "output_type": "stream",
     "text": [
      "\n",
      "Epoch: 110 | Time: 0m 13s\n",
      "Training Results - Average Loss: 1.0857 | auc/_mean: 0.7527 | auc/healthy: 0.7924 | auc/multiple_diseases: 0.5421, auc/rust: 0.8340, auc/scab: 0.8422\n",
      "Evaluating Results - Average Loss: 0.9630 | auc/_mean: 0.8156 | auc/healthy: 0.8989 | auc/multiple_diseases: 0.4985, auc/rust: 0.9389, auc/scab: 0.9263\n",
      "\n"
     ]
    },
    {
     "data": {
      "application/vnd.jupyter.widget-view+json": {
       "model_id": "7d88d2d7ac9449a9af1eddcd617c918f",
       "version_major": 2,
       "version_minor": 0
      },
      "text/plain": [
       "HBox(children=(FloatProgress(value=0.0, description='Train', max=39.0, style=ProgressStyle(description_width='…"
      ]
     },
     "metadata": {},
     "output_type": "display_data"
    },
    {
     "name": "stdout",
     "output_type": "stream",
     "text": [
      "\n",
      "Epoch: 111 | Time: 0m 13s\n",
      "Training Results - Average Loss: 1.0813 | auc/_mean: 0.7550 | auc/healthy: 0.8169 | auc/multiple_diseases: 0.5142, auc/rust: 0.8416, auc/scab: 0.8471\n",
      "Evaluating Results - Average Loss: 0.9613 | auc/_mean: 0.8154 | auc/healthy: 0.8993 | auc/multiple_diseases: 0.4966, auc/rust: 0.9389, auc/scab: 0.9269\n",
      "\n"
     ]
    },
    {
     "data": {
      "application/vnd.jupyter.widget-view+json": {
       "model_id": "fc3c590592b54336ad3bb0f146ef787f",
       "version_major": 2,
       "version_minor": 0
      },
      "text/plain": [
       "HBox(children=(FloatProgress(value=0.0, description='Train', max=39.0, style=ProgressStyle(description_width='…"
      ]
     },
     "metadata": {},
     "output_type": "display_data"
    },
    {
     "name": "stdout",
     "output_type": "stream",
     "text": [
      "\n",
      "Epoch: 112 | Time: 0m 13s\n",
      "Training Results - Average Loss: 1.0759 | auc/_mean: 0.7597 | auc/healthy: 0.8132 | auc/multiple_diseases: 0.5348, auc/rust: 0.8461, auc/scab: 0.8444\n",
      "Evaluating Results - Average Loss: 0.9592 | auc/_mean: 0.8161 | auc/healthy: 0.8998 | auc/multiple_diseases: 0.4984, auc/rust: 0.9394, auc/scab: 0.9268\n",
      "\n"
     ]
    },
    {
     "data": {
      "application/vnd.jupyter.widget-view+json": {
       "model_id": "d02835e34cec46519e48af4d9c1b13a2",
       "version_major": 2,
       "version_minor": 0
      },
      "text/plain": [
       "HBox(children=(FloatProgress(value=0.0, description='Train', max=39.0, style=ProgressStyle(description_width='…"
      ]
     },
     "metadata": {},
     "output_type": "display_data"
    },
    {
     "name": "stdout",
     "output_type": "stream",
     "text": [
      "\n",
      "Epoch: 113 | Time: 0m 13s\n",
      "Training Results - Average Loss: 1.0915 | auc/_mean: 0.7390 | auc/healthy: 0.7755 | auc/multiple_diseases: 0.5077, auc/rust: 0.8417, auc/scab: 0.8311\n",
      "Evaluating Results - Average Loss: 0.9573 | auc/_mean: 0.8169 | auc/healthy: 0.9011 | auc/multiple_diseases: 0.5000, auc/rust: 0.9397, auc/scab: 0.9267\n",
      "\n"
     ]
    },
    {
     "data": {
      "application/vnd.jupyter.widget-view+json": {
       "model_id": "5344c76a7ba149c692ecc2b4c0a99b37",
       "version_major": 2,
       "version_minor": 0
      },
      "text/plain": [
       "HBox(children=(FloatProgress(value=0.0, description='Train', max=39.0, style=ProgressStyle(description_width='…"
      ]
     },
     "metadata": {},
     "output_type": "display_data"
    },
    {
     "name": "stdout",
     "output_type": "stream",
     "text": [
      "\n",
      "Epoch: 114 | Time: 0m 13s\n",
      "Training Results - Average Loss: 1.0957 | auc/_mean: 0.7339 | auc/healthy: 0.7762 | auc/multiple_diseases: 0.4872, auc/rust: 0.8496, auc/scab: 0.8228\n",
      "Evaluating Results - Average Loss: 0.9549 | auc/_mean: 0.8175 | auc/healthy: 0.9020 | auc/multiple_diseases: 0.5011, auc/rust: 0.9399, auc/scab: 0.9269\n",
      "\n"
     ]
    },
    {
     "data": {
      "application/vnd.jupyter.widget-view+json": {
       "model_id": "f2678046b0b3441799d01c02f6ae159b",
       "version_major": 2,
       "version_minor": 0
      },
      "text/plain": [
       "HBox(children=(FloatProgress(value=0.0, description='Train', max=39.0, style=ProgressStyle(description_width='…"
      ]
     },
     "metadata": {},
     "output_type": "display_data"
    },
    {
     "name": "stdout",
     "output_type": "stream",
     "text": [
      "\n",
      "Epoch: 115 | Time: 0m 13s\n",
      "Training Results - Average Loss: 1.0966 | auc/_mean: 0.7488 | auc/healthy: 0.7805 | auc/multiple_diseases: 0.5212, auc/rust: 0.8500, auc/scab: 0.8436\n",
      "Evaluating Results - Average Loss: 0.9534 | auc/_mean: 0.8184 | auc/healthy: 0.9025 | auc/multiple_diseases: 0.5036, auc/rust: 0.9399, auc/scab: 0.9275\n",
      "\n"
     ]
    },
    {
     "data": {
      "application/vnd.jupyter.widget-view+json": {
       "model_id": "cfcd76d84bf74188a6ca10afe67311b9",
       "version_major": 2,
       "version_minor": 0
      },
      "text/plain": [
       "HBox(children=(FloatProgress(value=0.0, description='Train', max=39.0, style=ProgressStyle(description_width='…"
      ]
     },
     "metadata": {},
     "output_type": "display_data"
    },
    {
     "name": "stdout",
     "output_type": "stream",
     "text": [
      "\n",
      "Epoch: 116 | Time: 0m 13s\n",
      "Training Results - Average Loss: 1.0878 | auc/_mean: 0.7447 | auc/healthy: 0.7920 | auc/multiple_diseases: 0.5139, auc/rust: 0.8494, auc/scab: 0.8234\n",
      "Evaluating Results - Average Loss: 0.9518 | auc/_mean: 0.8188 | auc/healthy: 0.9033 | auc/multiple_diseases: 0.5039, auc/rust: 0.9401, auc/scab: 0.9279\n",
      "\n"
     ]
    },
    {
     "data": {
      "application/vnd.jupyter.widget-view+json": {
       "model_id": "015a017423524d63bb0ae9c54a4f760b",
       "version_major": 2,
       "version_minor": 0
      },
      "text/plain": [
       "HBox(children=(FloatProgress(value=0.0, description='Train', max=39.0, style=ProgressStyle(description_width='…"
      ]
     },
     "metadata": {},
     "output_type": "display_data"
    },
    {
     "name": "stdout",
     "output_type": "stream",
     "text": [
      "\n",
      "Epoch: 117 | Time: 0m 13s\n",
      "Training Results - Average Loss: 1.0859 | auc/_mean: 0.7519 | auc/healthy: 0.7829 | auc/multiple_diseases: 0.5473, auc/rust: 0.8443, auc/scab: 0.8329\n",
      "Evaluating Results - Average Loss: 0.9494 | auc/_mean: 0.8194 | auc/healthy: 0.9035 | auc/multiple_diseases: 0.5050, auc/rust: 0.9408, auc/scab: 0.9281\n",
      "\n"
     ]
    },
    {
     "data": {
      "application/vnd.jupyter.widget-view+json": {
       "model_id": "f9ba6f0e3b8f41faacdbd0b7eeaf0249",
       "version_major": 2,
       "version_minor": 0
      },
      "text/plain": [
       "HBox(children=(FloatProgress(value=0.0, description='Train', max=39.0, style=ProgressStyle(description_width='…"
      ]
     },
     "metadata": {},
     "output_type": "display_data"
    },
    {
     "name": "stdout",
     "output_type": "stream",
     "text": [
      "\n",
      "Epoch: 118 | Time: 0m 14s\n",
      "Training Results - Average Loss: 1.0832 | auc/_mean: 0.7669 | auc/healthy: 0.8050 | auc/multiple_diseases: 0.5897, auc/rust: 0.8419, auc/scab: 0.8308\n",
      "Evaluating Results - Average Loss: 0.9476 | auc/_mean: 0.8194 | auc/healthy: 0.9043 | auc/multiple_diseases: 0.5040, auc/rust: 0.9412, auc/scab: 0.9281\n",
      "\n"
     ]
    },
    {
     "data": {
      "application/vnd.jupyter.widget-view+json": {
       "model_id": "09169c7464874d06b7893fa3ac9700a7",
       "version_major": 2,
       "version_minor": 0
      },
      "text/plain": [
       "HBox(children=(FloatProgress(value=0.0, description='Train', max=39.0, style=ProgressStyle(description_width='…"
      ]
     },
     "metadata": {},
     "output_type": "display_data"
    },
    {
     "name": "stdout",
     "output_type": "stream",
     "text": [
      "\n",
      "Epoch: 119 | Time: 0m 14s\n",
      "Training Results - Average Loss: 1.0797 | auc/_mean: 0.7531 | auc/healthy: 0.7863 | auc/multiple_diseases: 0.5321, auc/rust: 0.8538, auc/scab: 0.8403\n",
      "Evaluating Results - Average Loss: 0.9450 | auc/_mean: 0.8201 | auc/healthy: 0.9052 | auc/multiple_diseases: 0.5050, auc/rust: 0.9415, auc/scab: 0.9287\n",
      "\n"
     ]
    },
    {
     "data": {
      "application/vnd.jupyter.widget-view+json": {
       "model_id": "5eaf7dc994ee4f3393655f014eeb2bd1",
       "version_major": 2,
       "version_minor": 0
      },
      "text/plain": [
       "HBox(children=(FloatProgress(value=0.0, description='Train', max=39.0, style=ProgressStyle(description_width='…"
      ]
     },
     "metadata": {},
     "output_type": "display_data"
    },
    {
     "name": "stdout",
     "output_type": "stream",
     "text": [
      "\n",
      "Epoch: 120 | Time: 0m 13s\n",
      "Training Results - Average Loss: 1.0816 | auc/_mean: 0.7511 | auc/healthy: 0.7881 | auc/multiple_diseases: 0.5387, auc/rust: 0.8413, auc/scab: 0.8361\n",
      "Evaluating Results - Average Loss: 0.9429 | auc/_mean: 0.8206 | auc/healthy: 0.9061 | auc/multiple_diseases: 0.5054, auc/rust: 0.9419, auc/scab: 0.9289\n",
      "\n"
     ]
    },
    {
     "data": {
      "application/vnd.jupyter.widget-view+json": {
       "model_id": "5018fb30ad3d4e61a6fd2a438d7ce839",
       "version_major": 2,
       "version_minor": 0
      },
      "text/plain": [
       "HBox(children=(FloatProgress(value=0.0, description='Train', max=39.0, style=ProgressStyle(description_width='…"
      ]
     },
     "metadata": {},
     "output_type": "display_data"
    },
    {
     "name": "stdout",
     "output_type": "stream",
     "text": [
      "\n",
      "Epoch: 121 | Time: 0m 13s\n",
      "Training Results - Average Loss: 1.0820 | auc/_mean: 0.7564 | auc/healthy: 0.8012 | auc/multiple_diseases: 0.5537, auc/rust: 0.8440, auc/scab: 0.8268\n",
      "Evaluating Results - Average Loss: 0.9418 | auc/_mean: 0.8208 | auc/healthy: 0.9058 | auc/multiple_diseases: 0.5076, auc/rust: 0.9418, auc/scab: 0.9281\n",
      "\n"
     ]
    },
    {
     "data": {
      "application/vnd.jupyter.widget-view+json": {
       "model_id": "840f0cf246c84a15bb98b44d0a1e0152",
       "version_major": 2,
       "version_minor": 0
      },
      "text/plain": [
       "HBox(children=(FloatProgress(value=0.0, description='Train', max=39.0, style=ProgressStyle(description_width='…"
      ]
     },
     "metadata": {},
     "output_type": "display_data"
    },
    {
     "name": "stdout",
     "output_type": "stream",
     "text": [
      "\n",
      "Epoch: 122 | Time: 0m 13s\n",
      "Training Results - Average Loss: 1.0765 | auc/_mean: 0.7535 | auc/healthy: 0.7967 | auc/multiple_diseases: 0.5344, auc/rust: 0.8544, auc/scab: 0.8283\n",
      "Evaluating Results - Average Loss: 0.9413 | auc/_mean: 0.8204 | auc/healthy: 0.9060 | auc/multiple_diseases: 0.5054, auc/rust: 0.9421, auc/scab: 0.9281\n",
      "\n"
     ]
    },
    {
     "data": {
      "application/vnd.jupyter.widget-view+json": {
       "model_id": "c9c8d4572e48469b8248a24d1ab1c1dc",
       "version_major": 2,
       "version_minor": 0
      },
      "text/plain": [
       "HBox(children=(FloatProgress(value=0.0, description='Train', max=39.0, style=ProgressStyle(description_width='…"
      ]
     },
     "metadata": {},
     "output_type": "display_data"
    },
    {
     "name": "stdout",
     "output_type": "stream",
     "text": [
      "\n",
      "Epoch: 123 | Time: 0m 14s\n",
      "Training Results - Average Loss: 1.0723 | auc/_mean: 0.7669 | auc/healthy: 0.7837 | auc/multiple_diseases: 0.5913, auc/rust: 0.8545, auc/scab: 0.8381\n",
      "Evaluating Results - Average Loss: 0.9384 | auc/_mean: 0.8210 | auc/healthy: 0.9070 | auc/multiple_diseases: 0.5051, auc/rust: 0.9426, auc/scab: 0.9291\n",
      "\n"
     ]
    },
    {
     "data": {
      "application/vnd.jupyter.widget-view+json": {
       "model_id": "80b69fbc2e0149cd8ac172f2fc418560",
       "version_major": 2,
       "version_minor": 0
      },
      "text/plain": [
       "HBox(children=(FloatProgress(value=0.0, description='Train', max=39.0, style=ProgressStyle(description_width='…"
      ]
     },
     "metadata": {},
     "output_type": "display_data"
    },
    {
     "name": "stdout",
     "output_type": "stream",
     "text": [
      "\n",
      "Epoch: 124 | Time: 0m 13s\n",
      "Training Results - Average Loss: 1.0658 | auc/_mean: 0.7714 | auc/healthy: 0.8194 | auc/multiple_diseases: 0.5605, auc/rust: 0.8537, auc/scab: 0.8518\n",
      "Evaluating Results - Average Loss: 0.9368 | auc/_mean: 0.8213 | auc/healthy: 0.9074 | auc/multiple_diseases: 0.5053, auc/rust: 0.9434, auc/scab: 0.9291\n",
      "\n"
     ]
    },
    {
     "data": {
      "application/vnd.jupyter.widget-view+json": {
       "model_id": "9940e9fa59154314a8bbb3edfda9aead",
       "version_major": 2,
       "version_minor": 0
      },
      "text/plain": [
       "HBox(children=(FloatProgress(value=0.0, description='Train', max=39.0, style=ProgressStyle(description_width='…"
      ]
     },
     "metadata": {},
     "output_type": "display_data"
    },
    {
     "name": "stdout",
     "output_type": "stream",
     "text": [
      "\n",
      "Epoch: 125 | Time: 0m 13s\n",
      "Training Results - Average Loss: 1.0808 | auc/_mean: 0.7374 | auc/healthy: 0.7896 | auc/multiple_diseases: 0.4817, auc/rust: 0.8445, auc/scab: 0.8339\n",
      "Evaluating Results - Average Loss: 0.9346 | auc/_mean: 0.8213 | auc/healthy: 0.9081 | auc/multiple_diseases: 0.5033, auc/rust: 0.9442, auc/scab: 0.9295\n",
      "\n"
     ]
    },
    {
     "data": {
      "application/vnd.jupyter.widget-view+json": {
       "model_id": "d011614241c9460b894a07d5e229f3e9",
       "version_major": 2,
       "version_minor": 0
      },
      "text/plain": [
       "HBox(children=(FloatProgress(value=0.0, description='Train', max=39.0, style=ProgressStyle(description_width='…"
      ]
     },
     "metadata": {},
     "output_type": "display_data"
    },
    {
     "name": "stdout",
     "output_type": "stream",
     "text": [
      "\n",
      "Epoch: 126 | Time: 0m 13s\n",
      "Training Results - Average Loss: 1.0604 | auc/_mean: 0.7704 | auc/healthy: 0.8110 | auc/multiple_diseases: 0.5550, auc/rust: 0.8704, auc/scab: 0.8451\n",
      "Evaluating Results - Average Loss: 0.9340 | auc/_mean: 0.8220 | auc/healthy: 0.9075 | auc/multiple_diseases: 0.5069, auc/rust: 0.9443, auc/scab: 0.9294\n",
      "\n"
     ]
    },
    {
     "data": {
      "application/vnd.jupyter.widget-view+json": {
       "model_id": "31358419e08c4017b9c74aef0dde2f4d",
       "version_major": 2,
       "version_minor": 0
      },
      "text/plain": [
       "HBox(children=(FloatProgress(value=0.0, description='Train', max=39.0, style=ProgressStyle(description_width='…"
      ]
     },
     "metadata": {},
     "output_type": "display_data"
    },
    {
     "name": "stdout",
     "output_type": "stream",
     "text": [
      "\n",
      "Epoch: 127 | Time: 0m 13s\n",
      "Training Results - Average Loss: 1.0716 | auc/_mean: 0.7721 | auc/healthy: 0.7943 | auc/multiple_diseases: 0.6130, auc/rust: 0.8538, auc/scab: 0.8275\n",
      "Evaluating Results - Average Loss: 0.9317 | auc/_mean: 0.8227 | auc/healthy: 0.9085 | auc/multiple_diseases: 0.5081, auc/rust: 0.9445, auc/scab: 0.9299\n",
      "\n"
     ]
    },
    {
     "data": {
      "application/vnd.jupyter.widget-view+json": {
       "model_id": "54dc9d8cbd414ecd9ffac8fd818ec15e",
       "version_major": 2,
       "version_minor": 0
      },
      "text/plain": [
       "HBox(children=(FloatProgress(value=0.0, description='Train', max=39.0, style=ProgressStyle(description_width='…"
      ]
     },
     "metadata": {},
     "output_type": "display_data"
    },
    {
     "name": "stdout",
     "output_type": "stream",
     "text": [
      "\n",
      "Epoch: 128 | Time: 0m 13s\n",
      "Training Results - Average Loss: 1.0736 | auc/_mean: 0.7575 | auc/healthy: 0.8032 | auc/multiple_diseases: 0.5426, auc/rust: 0.8528, auc/scab: 0.8313\n",
      "Evaluating Results - Average Loss: 0.9309 | auc/_mean: 0.8228 | auc/healthy: 0.9082 | auc/multiple_diseases: 0.5081, auc/rust: 0.9449, auc/scab: 0.9301\n",
      "\n"
     ]
    },
    {
     "data": {
      "application/vnd.jupyter.widget-view+json": {
       "model_id": "6cd5647438e844748a895b82f866b392",
       "version_major": 2,
       "version_minor": 0
      },
      "text/plain": [
       "HBox(children=(FloatProgress(value=0.0, description='Train', max=39.0, style=ProgressStyle(description_width='…"
      ]
     },
     "metadata": {},
     "output_type": "display_data"
    },
    {
     "name": "stdout",
     "output_type": "stream",
     "text": [
      "\n",
      "Epoch: 129 | Time: 0m 14s\n",
      "Training Results - Average Loss: 1.0700 | auc/_mean: 0.7589 | auc/healthy: 0.7831 | auc/multiple_diseases: 0.5536, auc/rust: 0.8512, auc/scab: 0.8475\n",
      "Evaluating Results - Average Loss: 0.9277 | auc/_mean: 0.8230 | auc/healthy: 0.9095 | auc/multiple_diseases: 0.5063, auc/rust: 0.9456, auc/scab: 0.9305\n",
      "\n"
     ]
    },
    {
     "data": {
      "application/vnd.jupyter.widget-view+json": {
       "model_id": "56612a77718140c39fc1508873a2a4df",
       "version_major": 2,
       "version_minor": 0
      },
      "text/plain": [
       "HBox(children=(FloatProgress(value=0.0, description='Train', max=39.0, style=ProgressStyle(description_width='…"
      ]
     },
     "metadata": {},
     "output_type": "display_data"
    },
    {
     "name": "stdout",
     "output_type": "stream",
     "text": [
      "\n",
      "Epoch: 130 | Time: 0m 13s\n",
      "Training Results - Average Loss: 1.0770 | auc/_mean: 0.7495 | auc/healthy: 0.7875 | auc/multiple_diseases: 0.5143, auc/rust: 0.8489, auc/scab: 0.8475\n",
      "Evaluating Results - Average Loss: 0.9265 | auc/_mean: 0.8234 | auc/healthy: 0.9093 | auc/multiple_diseases: 0.5088, auc/rust: 0.9454, auc/scab: 0.9303\n",
      "\n"
     ]
    },
    {
     "data": {
      "application/vnd.jupyter.widget-view+json": {
       "model_id": "689d3d3b8e1844a9ba41deceb40bcc5e",
       "version_major": 2,
       "version_minor": 0
      },
      "text/plain": [
       "HBox(children=(FloatProgress(value=0.0, description='Train', max=39.0, style=ProgressStyle(description_width='…"
      ]
     },
     "metadata": {},
     "output_type": "display_data"
    },
    {
     "name": "stdout",
     "output_type": "stream",
     "text": [
      "\n",
      "Epoch: 131 | Time: 0m 13s\n",
      "Training Results - Average Loss: 1.0563 | auc/_mean: 0.7628 | auc/healthy: 0.8134 | auc/multiple_diseases: 0.5396, auc/rust: 0.8480, auc/scab: 0.8500\n",
      "Evaluating Results - Average Loss: 0.9251 | auc/_mean: 0.8228 | auc/healthy: 0.9103 | auc/multiple_diseases: 0.5043, auc/rust: 0.9457, auc/scab: 0.9308\n",
      "\n"
     ]
    },
    {
     "data": {
      "application/vnd.jupyter.widget-view+json": {
       "model_id": "864c9f26b1a845df89eedaf64e6e62cc",
       "version_major": 2,
       "version_minor": 0
      },
      "text/plain": [
       "HBox(children=(FloatProgress(value=0.0, description='Train', max=39.0, style=ProgressStyle(description_width='…"
      ]
     },
     "metadata": {},
     "output_type": "display_data"
    },
    {
     "name": "stdout",
     "output_type": "stream",
     "text": [
      "\n",
      "Epoch: 132 | Time: 0m 13s\n",
      "Training Results - Average Loss: 1.0591 | auc/_mean: 0.7748 | auc/healthy: 0.8205 | auc/multiple_diseases: 0.5788, auc/rust: 0.8531, auc/scab: 0.8469\n",
      "Evaluating Results - Average Loss: 0.9235 | auc/_mean: 0.8232 | auc/healthy: 0.9107 | auc/multiple_diseases: 0.5054, auc/rust: 0.9460, auc/scab: 0.9308\n",
      "\n"
     ]
    },
    {
     "data": {
      "application/vnd.jupyter.widget-view+json": {
       "model_id": "a99e9af1bdc044ca88f11dfcf24a7d9d",
       "version_major": 2,
       "version_minor": 0
      },
      "text/plain": [
       "HBox(children=(FloatProgress(value=0.0, description='Train', max=39.0, style=ProgressStyle(description_width='…"
      ]
     },
     "metadata": {},
     "output_type": "display_data"
    },
    {
     "name": "stdout",
     "output_type": "stream",
     "text": [
      "\n",
      "Epoch: 133 | Time: 0m 13s\n",
      "Training Results - Average Loss: 1.0698 | auc/_mean: 0.7617 | auc/healthy: 0.8006 | auc/multiple_diseases: 0.5347, auc/rust: 0.8580, auc/scab: 0.8537\n",
      "Evaluating Results - Average Loss: 0.9226 | auc/_mean: 0.8237 | auc/healthy: 0.9108 | auc/multiple_diseases: 0.5071, auc/rust: 0.9462, auc/scab: 0.9309\n",
      "\n"
     ]
    },
    {
     "data": {
      "application/vnd.jupyter.widget-view+json": {
       "model_id": "eefd9a2e1fe640e2b88af96427aa9b42",
       "version_major": 2,
       "version_minor": 0
      },
      "text/plain": [
       "HBox(children=(FloatProgress(value=0.0, description='Train', max=39.0, style=ProgressStyle(description_width='…"
      ]
     },
     "metadata": {},
     "output_type": "display_data"
    },
    {
     "name": "stdout",
     "output_type": "stream",
     "text": [
      "\n",
      "Epoch: 134 | Time: 0m 13s\n",
      "Training Results - Average Loss: 1.0542 | auc/_mean: 0.7763 | auc/healthy: 0.8089 | auc/multiple_diseases: 0.5725, auc/rust: 0.8634, auc/scab: 0.8605\n",
      "Evaluating Results - Average Loss: 0.9198 | auc/_mean: 0.8244 | auc/healthy: 0.9115 | auc/multiple_diseases: 0.5090, auc/rust: 0.9466, auc/scab: 0.9304\n",
      "\n"
     ]
    },
    {
     "data": {
      "application/vnd.jupyter.widget-view+json": {
       "model_id": "f189481cf09d4884b0f634b982a05b7b",
       "version_major": 2,
       "version_minor": 0
      },
      "text/plain": [
       "HBox(children=(FloatProgress(value=0.0, description='Train', max=39.0, style=ProgressStyle(description_width='…"
      ]
     },
     "metadata": {},
     "output_type": "display_data"
    },
    {
     "name": "stdout",
     "output_type": "stream",
     "text": [
      "\n",
      "Epoch: 135 | Time: 0m 13s\n",
      "Training Results - Average Loss: 1.0442 | auc/_mean: 0.7758 | auc/healthy: 0.8228 | auc/multiple_diseases: 0.5611, auc/rust: 0.8616, auc/scab: 0.8577\n",
      "Evaluating Results - Average Loss: 0.9175 | auc/_mean: 0.8251 | auc/healthy: 0.9125 | auc/multiple_diseases: 0.5104, auc/rust: 0.9465, auc/scab: 0.9310\n",
      "\n"
     ]
    },
    {
     "data": {
      "application/vnd.jupyter.widget-view+json": {
       "model_id": "77fbd7a0d5874e05985925e84714db65",
       "version_major": 2,
       "version_minor": 0
      },
      "text/plain": [
       "HBox(children=(FloatProgress(value=0.0, description='Train', max=39.0, style=ProgressStyle(description_width='…"
      ]
     },
     "metadata": {},
     "output_type": "display_data"
    },
    {
     "name": "stdout",
     "output_type": "stream",
     "text": [
      "\n",
      "Epoch: 136 | Time: 0m 13s\n",
      "Training Results - Average Loss: 1.0688 | auc/_mean: 0.7601 | auc/healthy: 0.8080 | auc/multiple_diseases: 0.5329, auc/rust: 0.8566, auc/scab: 0.8431\n",
      "Evaluating Results - Average Loss: 0.9159 | auc/_mean: 0.8251 | auc/healthy: 0.9130 | auc/multiple_diseases: 0.5092, auc/rust: 0.9470, auc/scab: 0.9310\n",
      "\n"
     ]
    },
    {
     "data": {
      "application/vnd.jupyter.widget-view+json": {
       "model_id": "efac11669764459aa80f2780183e62bc",
       "version_major": 2,
       "version_minor": 0
      },
      "text/plain": [
       "HBox(children=(FloatProgress(value=0.0, description='Train', max=39.0, style=ProgressStyle(description_width='…"
      ]
     },
     "metadata": {},
     "output_type": "display_data"
    },
    {
     "name": "stdout",
     "output_type": "stream",
     "text": [
      "\n",
      "Epoch: 137 | Time: 0m 13s\n",
      "Training Results - Average Loss: 1.0701 | auc/_mean: 0.7508 | auc/healthy: 0.8044 | auc/multiple_diseases: 0.5006, auc/rust: 0.8568, auc/scab: 0.8414\n",
      "Evaluating Results - Average Loss: 0.9148 | auc/_mean: 0.8261 | auc/healthy: 0.9128 | auc/multiple_diseases: 0.5137, auc/rust: 0.9469, auc/scab: 0.9311\n",
      "\n"
     ]
    },
    {
     "data": {
      "application/vnd.jupyter.widget-view+json": {
       "model_id": "07bd1dafea4b4823ab5c2d614fa12aaf",
       "version_major": 2,
       "version_minor": 0
      },
      "text/plain": [
       "HBox(children=(FloatProgress(value=0.0, description='Train', max=39.0, style=ProgressStyle(description_width='…"
      ]
     },
     "metadata": {},
     "output_type": "display_data"
    },
    {
     "name": "stdout",
     "output_type": "stream",
     "text": [
      "\n",
      "Epoch: 138 | Time: 0m 13s\n",
      "Training Results - Average Loss: 1.0397 | auc/_mean: 0.7752 | auc/healthy: 0.8326 | auc/multiple_diseases: 0.5395, auc/rust: 0.8708, auc/scab: 0.8581\n",
      "Evaluating Results - Average Loss: 0.9144 | auc/_mean: 0.8265 | auc/healthy: 0.9127 | auc/multiple_diseases: 0.5155, auc/rust: 0.9468, auc/scab: 0.9309\n",
      "\n"
     ]
    },
    {
     "data": {
      "application/vnd.jupyter.widget-view+json": {
       "model_id": "c2b0df2b0e58453e9b1f2ec5e90889a9",
       "version_major": 2,
       "version_minor": 0
      },
      "text/plain": [
       "HBox(children=(FloatProgress(value=0.0, description='Train', max=39.0, style=ProgressStyle(description_width='…"
      ]
     },
     "metadata": {},
     "output_type": "display_data"
    },
    {
     "name": "stdout",
     "output_type": "stream",
     "text": [
      "\n",
      "Epoch: 139 | Time: 0m 13s\n",
      "Training Results - Average Loss: 1.0527 | auc/_mean: 0.7799 | auc/healthy: 0.8126 | auc/multiple_diseases: 0.5895, auc/rust: 0.8622, auc/scab: 0.8553\n",
      "Evaluating Results - Average Loss: 0.9125 | auc/_mean: 0.8264 | auc/healthy: 0.9136 | auc/multiple_diseases: 0.5131, auc/rust: 0.9473, auc/scab: 0.9318\n",
      "\n"
     ]
    },
    {
     "data": {
      "application/vnd.jupyter.widget-view+json": {
       "model_id": "78bd58c9348c4273bd866a8eaaab6854",
       "version_major": 2,
       "version_minor": 0
      },
      "text/plain": [
       "HBox(children=(FloatProgress(value=0.0, description='Train', max=39.0, style=ProgressStyle(description_width='…"
      ]
     },
     "metadata": {},
     "output_type": "display_data"
    },
    {
     "name": "stdout",
     "output_type": "stream",
     "text": [
      "\n",
      "Epoch: 140 | Time: 0m 14s\n",
      "Training Results - Average Loss: 1.0605 | auc/_mean: 0.7587 | auc/healthy: 0.8153 | auc/multiple_diseases: 0.5198, auc/rust: 0.8563, auc/scab: 0.8434\n",
      "Evaluating Results - Average Loss: 0.9118 | auc/_mean: 0.8260 | auc/healthy: 0.9130 | auc/multiple_diseases: 0.5128, auc/rust: 0.9467, auc/scab: 0.9315\n",
      "\n"
     ]
    },
    {
     "data": {
      "application/vnd.jupyter.widget-view+json": {
       "model_id": "e5428250a17d4216afce5edb4152248b",
       "version_major": 2,
       "version_minor": 0
      },
      "text/plain": [
       "HBox(children=(FloatProgress(value=0.0, description='Train', max=39.0, style=ProgressStyle(description_width='…"
      ]
     },
     "metadata": {},
     "output_type": "display_data"
    },
    {
     "name": "stdout",
     "output_type": "stream",
     "text": [
      "\n",
      "Epoch: 141 | Time: 0m 14s\n",
      "Training Results - Average Loss: 1.0458 | auc/_mean: 0.7664 | auc/healthy: 0.8095 | auc/multiple_diseases: 0.5449, auc/rust: 0.8715, auc/scab: 0.8398\n",
      "Evaluating Results - Average Loss: 0.9110 | auc/_mean: 0.8264 | auc/healthy: 0.9136 | auc/multiple_diseases: 0.5135, auc/rust: 0.9467, auc/scab: 0.9316\n",
      "\n"
     ]
    },
    {
     "data": {
      "application/vnd.jupyter.widget-view+json": {
       "model_id": "81371e707e1c457aa5e1e0aa1caa4cec",
       "version_major": 2,
       "version_minor": 0
      },
      "text/plain": [
       "HBox(children=(FloatProgress(value=0.0, description='Train', max=39.0, style=ProgressStyle(description_width='…"
      ]
     },
     "metadata": {},
     "output_type": "display_data"
    },
    {
     "name": "stdout",
     "output_type": "stream",
     "text": [
      "\n",
      "Epoch: 142 | Time: 0m 13s\n",
      "Training Results - Average Loss: 1.0483 | auc/_mean: 0.7754 | auc/healthy: 0.8147 | auc/multiple_diseases: 0.5723, auc/rust: 0.8556, auc/scab: 0.8592\n",
      "Evaluating Results - Average Loss: 0.9087 | auc/_mean: 0.8265 | auc/healthy: 0.9144 | auc/multiple_diseases: 0.5123, auc/rust: 0.9472, auc/scab: 0.9319\n",
      "\n"
     ]
    },
    {
     "data": {
      "application/vnd.jupyter.widget-view+json": {
       "model_id": "fa6ee2bedf314e42b39c215b72a0b7d3",
       "version_major": 2,
       "version_minor": 0
      },
      "text/plain": [
       "HBox(children=(FloatProgress(value=0.0, description='Train', max=39.0, style=ProgressStyle(description_width='…"
      ]
     },
     "metadata": {},
     "output_type": "display_data"
    },
    {
     "name": "stdout",
     "output_type": "stream",
     "text": [
      "\n",
      "Epoch: 143 | Time: 0m 13s\n",
      "Training Results - Average Loss: 1.0366 | auc/_mean: 0.7754 | auc/healthy: 0.8183 | auc/multiple_diseases: 0.5706, auc/rust: 0.8658, auc/scab: 0.8469\n",
      "Evaluating Results - Average Loss: 0.9089 | auc/_mean: 0.8266 | auc/healthy: 0.9144 | auc/multiple_diseases: 0.5136, auc/rust: 0.9470, auc/scab: 0.9315\n",
      "\n"
     ]
    },
    {
     "data": {
      "application/vnd.jupyter.widget-view+json": {
       "model_id": "b9566a6a8f5247a68fa0c50f1451b1c0",
       "version_major": 2,
       "version_minor": 0
      },
      "text/plain": [
       "HBox(children=(FloatProgress(value=0.0, description='Train', max=39.0, style=ProgressStyle(description_width='…"
      ]
     },
     "metadata": {},
     "output_type": "display_data"
    },
    {
     "name": "stdout",
     "output_type": "stream",
     "text": [
      "\n",
      "Epoch: 144 | Time: 0m 14s\n",
      "Training Results - Average Loss: 1.0504 | auc/_mean: 0.7774 | auc/healthy: 0.8014 | auc/multiple_diseases: 0.6048, auc/rust: 0.8496, auc/scab: 0.8536\n",
      "Evaluating Results - Average Loss: 0.9090 | auc/_mean: 0.8268 | auc/healthy: 0.9140 | auc/multiple_diseases: 0.5149, auc/rust: 0.9470, auc/scab: 0.9311\n",
      "\n"
     ]
    },
    {
     "data": {
      "application/vnd.jupyter.widget-view+json": {
       "model_id": "a0d43264fdeb407a9388facdf3fa3b45",
       "version_major": 2,
       "version_minor": 0
      },
      "text/plain": [
       "HBox(children=(FloatProgress(value=0.0, description='Train', max=39.0, style=ProgressStyle(description_width='…"
      ]
     },
     "metadata": {},
     "output_type": "display_data"
    },
    {
     "name": "stdout",
     "output_type": "stream",
     "text": [
      "\n",
      "Epoch: 145 | Time: 0m 13s\n",
      "Training Results - Average Loss: 1.0398 | auc/_mean: 0.7929 | auc/healthy: 0.8218 | auc/multiple_diseases: 0.6263, auc/rust: 0.8700, auc/scab: 0.8534\n",
      "Evaluating Results - Average Loss: 0.9078 | auc/_mean: 0.8274 | auc/healthy: 0.9139 | auc/multiple_diseases: 0.5170, auc/rust: 0.9472, auc/scab: 0.9314\n",
      "\n"
     ]
    },
    {
     "data": {
      "application/vnd.jupyter.widget-view+json": {
       "model_id": "cbcdb4fd1c4c422088cbab53300e46ca",
       "version_major": 2,
       "version_minor": 0
      },
      "text/plain": [
       "HBox(children=(FloatProgress(value=0.0, description='Train', max=39.0, style=ProgressStyle(description_width='…"
      ]
     },
     "metadata": {},
     "output_type": "display_data"
    },
    {
     "name": "stdout",
     "output_type": "stream",
     "text": [
      "\n",
      "Epoch: 146 | Time: 0m 13s\n",
      "Training Results - Average Loss: 1.0392 | auc/_mean: 0.7785 | auc/healthy: 0.8385 | auc/multiple_diseases: 0.5670, auc/rust: 0.8651, auc/scab: 0.8435\n",
      "Evaluating Results - Average Loss: 0.9053 | auc/_mean: 0.8276 | auc/healthy: 0.9144 | auc/multiple_diseases: 0.5165, auc/rust: 0.9478, auc/scab: 0.9317\n",
      "\n"
     ]
    },
    {
     "data": {
      "application/vnd.jupyter.widget-view+json": {
       "model_id": "6af0e2b8392f4435aaa76cd7cd30288e",
       "version_major": 2,
       "version_minor": 0
      },
      "text/plain": [
       "HBox(children=(FloatProgress(value=0.0, description='Train', max=39.0, style=ProgressStyle(description_width='…"
      ]
     },
     "metadata": {},
     "output_type": "display_data"
    },
    {
     "name": "stdout",
     "output_type": "stream",
     "text": [
      "\n",
      "Epoch: 147 | Time: 0m 13s\n",
      "Training Results - Average Loss: 1.0378 | auc/_mean: 0.7851 | auc/healthy: 0.8135 | auc/multiple_diseases: 0.5977, auc/rust: 0.8552, auc/scab: 0.8739\n",
      "Evaluating Results - Average Loss: 0.9030 | auc/_mean: 0.8280 | auc/healthy: 0.9153 | auc/multiple_diseases: 0.5162, auc/rust: 0.9483, auc/scab: 0.9322\n",
      "\n"
     ]
    },
    {
     "data": {
      "application/vnd.jupyter.widget-view+json": {
       "model_id": "9b41e32d12d04db4841feb9b7d9b1c3c",
       "version_major": 2,
       "version_minor": 0
      },
      "text/plain": [
       "HBox(children=(FloatProgress(value=0.0, description='Train', max=39.0, style=ProgressStyle(description_width='…"
      ]
     },
     "metadata": {},
     "output_type": "display_data"
    },
    {
     "name": "stdout",
     "output_type": "stream",
     "text": [
      "\n",
      "Epoch: 148 | Time: 0m 13s\n",
      "Training Results - Average Loss: 1.0455 | auc/_mean: 0.7859 | auc/healthy: 0.8143 | auc/multiple_diseases: 0.6035, auc/rust: 0.8784, auc/scab: 0.8475\n",
      "Evaluating Results - Average Loss: 0.9016 | auc/_mean: 0.8281 | auc/healthy: 0.9157 | auc/multiple_diseases: 0.5163, auc/rust: 0.9481, auc/scab: 0.9324\n",
      "\n"
     ]
    },
    {
     "data": {
      "application/vnd.jupyter.widget-view+json": {
       "model_id": "c600487dbe6047b6a0b1e43f4ee8298d",
       "version_major": 2,
       "version_minor": 0
      },
      "text/plain": [
       "HBox(children=(FloatProgress(value=0.0, description='Train', max=39.0, style=ProgressStyle(description_width='…"
      ]
     },
     "metadata": {},
     "output_type": "display_data"
    },
    {
     "name": "stdout",
     "output_type": "stream",
     "text": [
      "\n",
      "Epoch: 149 | Time: 0m 14s\n",
      "Training Results - Average Loss: 1.0438 | auc/_mean: 0.7736 | auc/healthy: 0.8147 | auc/multiple_diseases: 0.5777, auc/rust: 0.8570, auc/scab: 0.8451\n",
      "Evaluating Results - Average Loss: 0.9001 | auc/_mean: 0.8295 | auc/healthy: 0.9159 | auc/multiple_diseases: 0.5208, auc/rust: 0.9487, auc/scab: 0.9327\n",
      "\n"
     ]
    },
    {
     "data": {
      "application/vnd.jupyter.widget-view+json": {
       "model_id": "762aa5833a634411bfad52f16521394d",
       "version_major": 2,
       "version_minor": 0
      },
      "text/plain": [
       "HBox(children=(FloatProgress(value=0.0, description='Train', max=39.0, style=ProgressStyle(description_width='…"
      ]
     },
     "metadata": {},
     "output_type": "display_data"
    },
    {
     "name": "stdout",
     "output_type": "stream",
     "text": [
      "\n",
      "Epoch: 150 | Time: 0m 14s\n",
      "Training Results - Average Loss: 1.0515 | auc/_mean: 0.7803 | auc/healthy: 0.8109 | auc/multiple_diseases: 0.5891, auc/rust: 0.8671, auc/scab: 0.8543\n",
      "Evaluating Results - Average Loss: 0.8988 | auc/_mean: 0.8292 | auc/healthy: 0.9169 | auc/multiple_diseases: 0.5183, auc/rust: 0.9490, auc/scab: 0.9327\n",
      "\n"
     ]
    },
    {
     "data": {
      "application/vnd.jupyter.widget-view+json": {
       "model_id": "b3807a9dcb884050bb41514e590dece9",
       "version_major": 2,
       "version_minor": 0
      },
      "text/plain": [
       "HBox(children=(FloatProgress(value=0.0, description='Train', max=39.0, style=ProgressStyle(description_width='…"
      ]
     },
     "metadata": {},
     "output_type": "display_data"
    },
    {
     "name": "stdout",
     "output_type": "stream",
     "text": [
      "\n",
      "Epoch: 151 | Time: 0m 13s\n",
      "Training Results - Average Loss: 1.0419 | auc/_mean: 0.7898 | auc/healthy: 0.8051 | auc/multiple_diseases: 0.6127, auc/rust: 0.8785, auc/scab: 0.8629\n",
      "Evaluating Results - Average Loss: 0.8984 | auc/_mean: 0.8291 | auc/healthy: 0.9166 | auc/multiple_diseases: 0.5182, auc/rust: 0.9490, auc/scab: 0.9327\n",
      "\n"
     ]
    },
    {
     "data": {
      "application/vnd.jupyter.widget-view+json": {
       "model_id": "54d6ef5072584528b1f2728d91d7b610",
       "version_major": 2,
       "version_minor": 0
      },
      "text/plain": [
       "HBox(children=(FloatProgress(value=0.0, description='Train', max=39.0, style=ProgressStyle(description_width='…"
      ]
     },
     "metadata": {},
     "output_type": "display_data"
    },
    {
     "name": "stdout",
     "output_type": "stream",
     "text": [
      "\n",
      "Epoch: 152 | Time: 0m 14s\n",
      "Training Results - Average Loss: 1.0546 | auc/_mean: 0.7625 | auc/healthy: 0.8116 | auc/multiple_diseases: 0.5236, auc/rust: 0.8624, auc/scab: 0.8523\n",
      "Evaluating Results - Average Loss: 0.8977 | auc/_mean: 0.8295 | auc/healthy: 0.9165 | auc/multiple_diseases: 0.5200, auc/rust: 0.9490, auc/scab: 0.9326\n",
      "\n"
     ]
    },
    {
     "data": {
      "application/vnd.jupyter.widget-view+json": {
       "model_id": "a52544c4b1dd4017a7564f364a485c5f",
       "version_major": 2,
       "version_minor": 0
      },
      "text/plain": [
       "HBox(children=(FloatProgress(value=0.0, description='Train', max=39.0, style=ProgressStyle(description_width='…"
      ]
     },
     "metadata": {},
     "output_type": "display_data"
    },
    {
     "name": "stdout",
     "output_type": "stream",
     "text": [
      "\n",
      "Epoch: 153 | Time: 0m 14s\n",
      "Training Results - Average Loss: 1.0422 | auc/_mean: 0.7738 | auc/healthy: 0.8277 | auc/multiple_diseases: 0.5482, auc/rust: 0.8654, auc/scab: 0.8540\n",
      "Evaluating Results - Average Loss: 0.8956 | auc/_mean: 0.8303 | auc/healthy: 0.9173 | auc/multiple_diseases: 0.5211, auc/rust: 0.9498, auc/scab: 0.9329\n",
      "\n"
     ]
    },
    {
     "data": {
      "application/vnd.jupyter.widget-view+json": {
       "model_id": "72f07687767641e895242b96f0adab3a",
       "version_major": 2,
       "version_minor": 0
      },
      "text/plain": [
       "HBox(children=(FloatProgress(value=0.0, description='Train', max=39.0, style=ProgressStyle(description_width='…"
      ]
     },
     "metadata": {},
     "output_type": "display_data"
    },
    {
     "name": "stdout",
     "output_type": "stream",
     "text": [
      "\n",
      "Epoch: 154 | Time: 0m 14s\n",
      "Training Results - Average Loss: 1.0386 | auc/_mean: 0.7675 | auc/healthy: 0.8126 | auc/multiple_diseases: 0.5465, auc/rust: 0.8634, auc/scab: 0.8476\n",
      "Evaluating Results - Average Loss: 0.8948 | auc/_mean: 0.8304 | auc/healthy: 0.9176 | auc/multiple_diseases: 0.5212, auc/rust: 0.9498, auc/scab: 0.9329\n",
      "\n"
     ]
    },
    {
     "data": {
      "application/vnd.jupyter.widget-view+json": {
       "model_id": "46df19ea1584487e9ed990a93ba67bd7",
       "version_major": 2,
       "version_minor": 0
      },
      "text/plain": [
       "HBox(children=(FloatProgress(value=0.0, description='Train', max=39.0, style=ProgressStyle(description_width='…"
      ]
     },
     "metadata": {},
     "output_type": "display_data"
    },
    {
     "name": "stdout",
     "output_type": "stream",
     "text": [
      "\n",
      "Epoch: 155 | Time: 0m 13s\n",
      "Training Results - Average Loss: 1.0410 | auc/_mean: 0.7746 | auc/healthy: 0.8202 | auc/multiple_diseases: 0.5811, auc/rust: 0.8472, auc/scab: 0.8500\n",
      "Evaluating Results - Average Loss: 0.8946 | auc/_mean: 0.8307 | auc/healthy: 0.9169 | auc/multiple_diseases: 0.5234, auc/rust: 0.9499, auc/scab: 0.9328\n",
      "\n"
     ]
    },
    {
     "data": {
      "application/vnd.jupyter.widget-view+json": {
       "model_id": "babe3f37050e4b2bb625bf0b8b75e3b4",
       "version_major": 2,
       "version_minor": 0
      },
      "text/plain": [
       "HBox(children=(FloatProgress(value=0.0, description='Train', max=39.0, style=ProgressStyle(description_width='…"
      ]
     },
     "metadata": {},
     "output_type": "display_data"
    },
    {
     "name": "stdout",
     "output_type": "stream",
     "text": [
      "\n",
      "Epoch: 156 | Time: 0m 13s\n",
      "Training Results - Average Loss: 1.0372 | auc/_mean: 0.7797 | auc/healthy: 0.8144 | auc/multiple_diseases: 0.5668, auc/rust: 0.8743, auc/scab: 0.8632\n",
      "Evaluating Results - Average Loss: 0.8921 | auc/_mean: 0.8308 | auc/healthy: 0.9182 | auc/multiple_diseases: 0.5219, auc/rust: 0.9500, auc/scab: 0.9330\n",
      "\n"
     ]
    },
    {
     "data": {
      "application/vnd.jupyter.widget-view+json": {
       "model_id": "20479a613bb94d12a3d51c2197d2e805",
       "version_major": 2,
       "version_minor": 0
      },
      "text/plain": [
       "HBox(children=(FloatProgress(value=0.0, description='Train', max=39.0, style=ProgressStyle(description_width='…"
      ]
     },
     "metadata": {},
     "output_type": "display_data"
    },
    {
     "name": "stdout",
     "output_type": "stream",
     "text": [
      "\n",
      "Epoch: 157 | Time: 0m 14s\n",
      "Training Results - Average Loss: 1.0348 | auc/_mean: 0.7886 | auc/healthy: 0.8358 | auc/multiple_diseases: 0.6139, auc/rust: 0.8541, auc/scab: 0.8508\n",
      "Evaluating Results - Average Loss: 0.8919 | auc/_mean: 0.8316 | auc/healthy: 0.9177 | auc/multiple_diseases: 0.5259, auc/rust: 0.9503, auc/scab: 0.9326\n",
      "\n"
     ]
    },
    {
     "data": {
      "application/vnd.jupyter.widget-view+json": {
       "model_id": "7cb862ee62ca4c7fa04491825d0015c4",
       "version_major": 2,
       "version_minor": 0
      },
      "text/plain": [
       "HBox(children=(FloatProgress(value=0.0, description='Train', max=39.0, style=ProgressStyle(description_width='…"
      ]
     },
     "metadata": {},
     "output_type": "display_data"
    },
    {
     "name": "stdout",
     "output_type": "stream",
     "text": [
      "\n",
      "Epoch: 158 | Time: 0m 14s\n",
      "Training Results - Average Loss: 1.0311 | auc/_mean: 0.7633 | auc/healthy: 0.7995 | auc/multiple_diseases: 0.5124, auc/rust: 0.8794, auc/scab: 0.8619\n",
      "Evaluating Results - Average Loss: 0.8890 | auc/_mean: 0.8322 | auc/healthy: 0.9184 | auc/multiple_diseases: 0.5263, auc/rust: 0.9511, auc/scab: 0.9331\n",
      "\n"
     ]
    },
    {
     "data": {
      "application/vnd.jupyter.widget-view+json": {
       "model_id": "abe3430e9dd54c76804ca0b92026af74",
       "version_major": 2,
       "version_minor": 0
      },
      "text/plain": [
       "HBox(children=(FloatProgress(value=0.0, description='Train', max=39.0, style=ProgressStyle(description_width='…"
      ]
     },
     "metadata": {},
     "output_type": "display_data"
    },
    {
     "name": "stdout",
     "output_type": "stream",
     "text": [
      "\n",
      "Epoch: 159 | Time: 0m 13s\n",
      "Training Results - Average Loss: 1.0260 | auc/_mean: 0.7779 | auc/healthy: 0.8248 | auc/multiple_diseases: 0.5307, auc/rust: 0.8857, auc/scab: 0.8704\n",
      "Evaluating Results - Average Loss: 0.8891 | auc/_mean: 0.8324 | auc/healthy: 0.9179 | auc/multiple_diseases: 0.5290, auc/rust: 0.9502, auc/scab: 0.9326\n",
      "\n"
     ]
    },
    {
     "data": {
      "application/vnd.jupyter.widget-view+json": {
       "model_id": "d95343990cff4e3f95967e0658ed8ca3",
       "version_major": 2,
       "version_minor": 0
      },
      "text/plain": [
       "HBox(children=(FloatProgress(value=0.0, description='Train', max=39.0, style=ProgressStyle(description_width='…"
      ]
     },
     "metadata": {},
     "output_type": "display_data"
    },
    {
     "name": "stdout",
     "output_type": "stream",
     "text": [
      "\n",
      "Epoch: 160 | Time: 0m 14s\n",
      "Training Results - Average Loss: 1.0350 | auc/_mean: 0.7846 | auc/healthy: 0.8128 | auc/multiple_diseases: 0.6115, auc/rust: 0.8648, auc/scab: 0.8493\n",
      "Evaluating Results - Average Loss: 0.8872 | auc/_mean: 0.8320 | auc/healthy: 0.9184 | auc/multiple_diseases: 0.5256, auc/rust: 0.9504, auc/scab: 0.9335\n",
      "\n"
     ]
    },
    {
     "data": {
      "application/vnd.jupyter.widget-view+json": {
       "model_id": "622eed815c3c4d8ca41aa093fb4b8265",
       "version_major": 2,
       "version_minor": 0
      },
      "text/plain": [
       "HBox(children=(FloatProgress(value=0.0, description='Train', max=39.0, style=ProgressStyle(description_width='…"
      ]
     },
     "metadata": {},
     "output_type": "display_data"
    },
    {
     "name": "stdout",
     "output_type": "stream",
     "text": [
      "\n",
      "Epoch: 161 | Time: 0m 13s\n",
      "Training Results - Average Loss: 1.0577 | auc/_mean: 0.7605 | auc/healthy: 0.8154 | auc/multiple_diseases: 0.5148, auc/rust: 0.8570, auc/scab: 0.8551\n",
      "Evaluating Results - Average Loss: 0.8862 | auc/_mean: 0.8319 | auc/healthy: 0.9184 | auc/multiple_diseases: 0.5250, auc/rust: 0.9504, auc/scab: 0.9337\n",
      "\n"
     ]
    },
    {
     "data": {
      "application/vnd.jupyter.widget-view+json": {
       "model_id": "aca0c5c9ac0d4746a8bd3461d6af14c1",
       "version_major": 2,
       "version_minor": 0
      },
      "text/plain": [
       "HBox(children=(FloatProgress(value=0.0, description='Train', max=39.0, style=ProgressStyle(description_width='…"
      ]
     },
     "metadata": {},
     "output_type": "display_data"
    },
    {
     "name": "stdout",
     "output_type": "stream",
     "text": [
      "\n",
      "Epoch: 162 | Time: 0m 13s\n",
      "Training Results - Average Loss: 1.0308 | auc/_mean: 0.7769 | auc/healthy: 0.8130 | auc/multiple_diseases: 0.5545, auc/rust: 0.8773, auc/scab: 0.8626\n",
      "Evaluating Results - Average Loss: 0.8858 | auc/_mean: 0.8320 | auc/healthy: 0.9182 | auc/multiple_diseases: 0.5267, auc/rust: 0.9499, auc/scab: 0.9333\n",
      "\n"
     ]
    },
    {
     "data": {
      "application/vnd.jupyter.widget-view+json": {
       "model_id": "1168ae737f974c9b94ee68a2080560f2",
       "version_major": 2,
       "version_minor": 0
      },
      "text/plain": [
       "HBox(children=(FloatProgress(value=0.0, description='Train', max=39.0, style=ProgressStyle(description_width='…"
      ]
     },
     "metadata": {},
     "output_type": "display_data"
    },
    {
     "name": "stdout",
     "output_type": "stream",
     "text": [
      "\n",
      "Epoch: 163 | Time: 0m 13s\n",
      "Training Results - Average Loss: 1.0320 | auc/_mean: 0.7798 | auc/healthy: 0.8146 | auc/multiple_diseases: 0.5920, auc/rust: 0.8585, auc/scab: 0.8542\n",
      "Evaluating Results - Average Loss: 0.8854 | auc/_mean: 0.8322 | auc/healthy: 0.9182 | auc/multiple_diseases: 0.5270, auc/rust: 0.9502, auc/scab: 0.9333\n",
      "\n"
     ]
    },
    {
     "data": {
      "application/vnd.jupyter.widget-view+json": {
       "model_id": "ffe59ebf7fdc4b63a45830f31d6c99ef",
       "version_major": 2,
       "version_minor": 0
      },
      "text/plain": [
       "HBox(children=(FloatProgress(value=0.0, description='Train', max=39.0, style=ProgressStyle(description_width='…"
      ]
     },
     "metadata": {},
     "output_type": "display_data"
    },
    {
     "name": "stdout",
     "output_type": "stream",
     "text": [
      "\n",
      "Epoch: 164 | Time: 0m 13s\n",
      "Training Results - Average Loss: 1.0344 | auc/_mean: 0.7885 | auc/healthy: 0.8415 | auc/multiple_diseases: 0.6032, auc/rust: 0.8656, auc/scab: 0.8437\n",
      "Evaluating Results - Average Loss: 0.8837 | auc/_mean: 0.8326 | auc/healthy: 0.9192 | auc/multiple_diseases: 0.5266, auc/rust: 0.9508, auc/scab: 0.9337\n",
      "\n"
     ]
    },
    {
     "data": {
      "application/vnd.jupyter.widget-view+json": {
       "model_id": "5730a5eeb6444c78ad931112e6b6fee7",
       "version_major": 2,
       "version_minor": 0
      },
      "text/plain": [
       "HBox(children=(FloatProgress(value=0.0, description='Train', max=39.0, style=ProgressStyle(description_width='…"
      ]
     },
     "metadata": {},
     "output_type": "display_data"
    },
    {
     "name": "stdout",
     "output_type": "stream",
     "text": [
      "\n",
      "Epoch: 165 | Time: 0m 13s\n",
      "Training Results - Average Loss: 1.0219 | auc/_mean: 0.7922 | auc/healthy: 0.8289 | auc/multiple_diseases: 0.5925, auc/rust: 0.8854, auc/scab: 0.8618\n",
      "Evaluating Results - Average Loss: 0.8826 | auc/_mean: 0.8324 | auc/healthy: 0.9194 | auc/multiple_diseases: 0.5258, auc/rust: 0.9508, auc/scab: 0.9336\n",
      "\n"
     ]
    },
    {
     "data": {
      "application/vnd.jupyter.widget-view+json": {
       "model_id": "447a39185aa24831b8e206889aa24f2a",
       "version_major": 2,
       "version_minor": 0
      },
      "text/plain": [
       "HBox(children=(FloatProgress(value=0.0, description='Train', max=39.0, style=ProgressStyle(description_width='…"
      ]
     },
     "metadata": {},
     "output_type": "display_data"
    },
    {
     "name": "stdout",
     "output_type": "stream",
     "text": [
      "\n",
      "Epoch: 166 | Time: 0m 14s\n",
      "Training Results - Average Loss: 1.0331 | auc/_mean: 0.7678 | auc/healthy: 0.8270 | auc/multiple_diseases: 0.5305, auc/rust: 0.8620, auc/scab: 0.8517\n",
      "Evaluating Results - Average Loss: 0.8809 | auc/_mean: 0.8329 | auc/healthy: 0.9198 | auc/multiple_diseases: 0.5266, auc/rust: 0.9515, auc/scab: 0.9338\n",
      "\n"
     ]
    },
    {
     "data": {
      "application/vnd.jupyter.widget-view+json": {
       "model_id": "5df321851037482192e9cda1d764acee",
       "version_major": 2,
       "version_minor": 0
      },
      "text/plain": [
       "HBox(children=(FloatProgress(value=0.0, description='Train', max=39.0, style=ProgressStyle(description_width='…"
      ]
     },
     "metadata": {},
     "output_type": "display_data"
    },
    {
     "name": "stdout",
     "output_type": "stream",
     "text": [
      "\n",
      "Epoch: 167 | Time: 0m 14s\n",
      "Training Results - Average Loss: 1.0309 | auc/_mean: 0.7768 | auc/healthy: 0.8224 | auc/multiple_diseases: 0.5639, auc/rust: 0.8624, auc/scab: 0.8586\n",
      "Evaluating Results - Average Loss: 0.8797 | auc/_mean: 0.8330 | auc/healthy: 0.9197 | auc/multiple_diseases: 0.5274, auc/rust: 0.9515, auc/scab: 0.9335\n",
      "\n"
     ]
    },
    {
     "data": {
      "application/vnd.jupyter.widget-view+json": {
       "model_id": "06a4220ffad9453592c7ab797b9af59b",
       "version_major": 2,
       "version_minor": 0
      },
      "text/plain": [
       "HBox(children=(FloatProgress(value=0.0, description='Train', max=39.0, style=ProgressStyle(description_width='…"
      ]
     },
     "metadata": {},
     "output_type": "display_data"
    },
    {
     "name": "stdout",
     "output_type": "stream",
     "text": [
      "\n",
      "Epoch: 168 | Time: 0m 13s\n",
      "Training Results - Average Loss: 1.0530 | auc/_mean: 0.7648 | auc/healthy: 0.8067 | auc/multiple_diseases: 0.5454, auc/rust: 0.8542, auc/scab: 0.8530\n",
      "Evaluating Results - Average Loss: 0.8780 | auc/_mean: 0.8333 | auc/healthy: 0.9205 | auc/multiple_diseases: 0.5268, auc/rust: 0.9519, auc/scab: 0.9341\n",
      "\n"
     ]
    },
    {
     "data": {
      "application/vnd.jupyter.widget-view+json": {
       "model_id": "5e519056353944e38711a44a482c2daa",
       "version_major": 2,
       "version_minor": 0
      },
      "text/plain": [
       "HBox(children=(FloatProgress(value=0.0, description='Train', max=39.0, style=ProgressStyle(description_width='…"
      ]
     },
     "metadata": {},
     "output_type": "display_data"
    },
    {
     "name": "stdout",
     "output_type": "stream",
     "text": [
      "\n",
      "Epoch: 169 | Time: 0m 14s\n",
      "Training Results - Average Loss: 1.0352 | auc/_mean: 0.7833 | auc/healthy: 0.8352 | auc/multiple_diseases: 0.5706, auc/rust: 0.8698, auc/scab: 0.8578\n",
      "Evaluating Results - Average Loss: 0.8770 | auc/_mean: 0.8342 | auc/healthy: 0.9201 | auc/multiple_diseases: 0.5307, auc/rust: 0.9520, auc/scab: 0.9338\n",
      "\n"
     ]
    },
    {
     "data": {
      "application/vnd.jupyter.widget-view+json": {
       "model_id": "b4be0bf47cca4163bed843d6e235735d",
       "version_major": 2,
       "version_minor": 0
      },
      "text/plain": [
       "HBox(children=(FloatProgress(value=0.0, description='Train', max=39.0, style=ProgressStyle(description_width='…"
      ]
     },
     "metadata": {},
     "output_type": "display_data"
    },
    {
     "name": "stdout",
     "output_type": "stream",
     "text": [
      "\n",
      "Epoch: 170 | Time: 0m 14s\n",
      "Training Results - Average Loss: 1.0284 | auc/_mean: 0.7932 | auc/healthy: 0.8229 | auc/multiple_diseases: 0.6333, auc/rust: 0.8610, auc/scab: 0.8556\n",
      "Evaluating Results - Average Loss: 0.8751 | auc/_mean: 0.8344 | auc/healthy: 0.9205 | auc/multiple_diseases: 0.5305, auc/rust: 0.9521, auc/scab: 0.9344\n",
      "\n"
     ]
    },
    {
     "data": {
      "application/vnd.jupyter.widget-view+json": {
       "model_id": "c1171b949fef438a8e454bbd00ae5c4e",
       "version_major": 2,
       "version_minor": 0
      },
      "text/plain": [
       "HBox(children=(FloatProgress(value=0.0, description='Train', max=39.0, style=ProgressStyle(description_width='…"
      ]
     },
     "metadata": {},
     "output_type": "display_data"
    },
    {
     "name": "stdout",
     "output_type": "stream",
     "text": [
      "\n",
      "Epoch: 171 | Time: 0m 13s\n",
      "Training Results - Average Loss: 1.0297 | auc/_mean: 0.7630 | auc/healthy: 0.8065 | auc/multiple_diseases: 0.5073, auc/rust: 0.8780, auc/scab: 0.8602\n",
      "Evaluating Results - Average Loss: 0.8737 | auc/_mean: 0.8339 | auc/healthy: 0.9214 | auc/multiple_diseases: 0.5274, auc/rust: 0.9520, auc/scab: 0.9346\n",
      "\n"
     ]
    },
    {
     "data": {
      "application/vnd.jupyter.widget-view+json": {
       "model_id": "43f8626eda7c4d83a7db16fd43cd9b5b",
       "version_major": 2,
       "version_minor": 0
      },
      "text/plain": [
       "HBox(children=(FloatProgress(value=0.0, description='Train', max=39.0, style=ProgressStyle(description_width='…"
      ]
     },
     "metadata": {},
     "output_type": "display_data"
    },
    {
     "name": "stdout",
     "output_type": "stream",
     "text": [
      "\n",
      "Epoch: 172 | Time: 0m 13s\n",
      "Training Results - Average Loss: 1.0129 | auc/_mean: 0.8024 | auc/healthy: 0.8230 | auc/multiple_diseases: 0.6503, auc/rust: 0.8712, auc/scab: 0.8650\n",
      "Evaluating Results - Average Loss: 0.8732 | auc/_mean: 0.8344 | auc/healthy: 0.9214 | auc/multiple_diseases: 0.5296, auc/rust: 0.9518, auc/scab: 0.9348\n",
      "\n"
     ]
    },
    {
     "data": {
      "application/vnd.jupyter.widget-view+json": {
       "model_id": "00d1ee4f1fa0477db319ff08a56a0047",
       "version_major": 2,
       "version_minor": 0
      },
      "text/plain": [
       "HBox(children=(FloatProgress(value=0.0, description='Train', max=39.0, style=ProgressStyle(description_width='…"
      ]
     },
     "metadata": {},
     "output_type": "display_data"
    },
    {
     "name": "stdout",
     "output_type": "stream",
     "text": [
      "\n",
      "Epoch: 173 | Time: 0m 14s\n",
      "Training Results - Average Loss: 1.0330 | auc/_mean: 0.7864 | auc/healthy: 0.8080 | auc/multiple_diseases: 0.5786, auc/rust: 0.8815, auc/scab: 0.8776\n",
      "Evaluating Results - Average Loss: 0.8719 | auc/_mean: 0.8342 | auc/healthy: 0.9218 | auc/multiple_diseases: 0.5284, auc/rust: 0.9518, auc/scab: 0.9349\n",
      "\n"
     ]
    },
    {
     "data": {
      "application/vnd.jupyter.widget-view+json": {
       "model_id": "75f6722d5f834ea4b297a4559166e03e",
       "version_major": 2,
       "version_minor": 0
      },
      "text/plain": [
       "HBox(children=(FloatProgress(value=0.0, description='Train', max=39.0, style=ProgressStyle(description_width='…"
      ]
     },
     "metadata": {},
     "output_type": "display_data"
    },
    {
     "name": "stdout",
     "output_type": "stream",
     "text": [
      "\n",
      "Epoch: 174 | Time: 0m 13s\n",
      "Training Results - Average Loss: 1.0146 | auc/_mean: 0.8039 | auc/healthy: 0.8057 | auc/multiple_diseases: 0.6614, auc/rust: 0.8814, auc/scab: 0.8669\n",
      "Evaluating Results - Average Loss: 0.8697 | auc/_mean: 0.8346 | auc/healthy: 0.9226 | auc/multiple_diseases: 0.5279, auc/rust: 0.9524, auc/scab: 0.9354\n",
      "\n"
     ]
    },
    {
     "data": {
      "application/vnd.jupyter.widget-view+json": {
       "model_id": "a5898f8edc40483b9fdbec53b2db6e4f",
       "version_major": 2,
       "version_minor": 0
      },
      "text/plain": [
       "HBox(children=(FloatProgress(value=0.0, description='Train', max=39.0, style=ProgressStyle(description_width='…"
      ]
     },
     "metadata": {},
     "output_type": "display_data"
    },
    {
     "name": "stdout",
     "output_type": "stream",
     "text": [
      "\n",
      "Epoch: 175 | Time: 0m 13s\n",
      "Training Results - Average Loss: 1.0178 | auc/_mean: 0.7981 | auc/healthy: 0.8273 | auc/multiple_diseases: 0.6260, auc/rust: 0.8730, auc/scab: 0.8663\n",
      "Evaluating Results - Average Loss: 0.8689 | auc/_mean: 0.8352 | auc/healthy: 0.9232 | auc/multiple_diseases: 0.5297, auc/rust: 0.9525, auc/scab: 0.9354\n",
      "\n"
     ]
    },
    {
     "data": {
      "application/vnd.jupyter.widget-view+json": {
       "model_id": "abf05e031ecd41c1acfb98386546abdb",
       "version_major": 2,
       "version_minor": 0
      },
      "text/plain": [
       "HBox(children=(FloatProgress(value=0.0, description='Train', max=39.0, style=ProgressStyle(description_width='…"
      ]
     },
     "metadata": {},
     "output_type": "display_data"
    },
    {
     "name": "stdout",
     "output_type": "stream",
     "text": [
      "\n",
      "Epoch: 176 | Time: 0m 12s\n",
      "Training Results - Average Loss: 1.0109 | auc/_mean: 0.7953 | auc/healthy: 0.8280 | auc/multiple_diseases: 0.5842, auc/rust: 0.8890, auc/scab: 0.8799\n",
      "Evaluating Results - Average Loss: 0.8678 | auc/_mean: 0.8349 | auc/healthy: 0.9228 | auc/multiple_diseases: 0.5281, auc/rust: 0.9528, auc/scab: 0.9358\n",
      "\n"
     ]
    },
    {
     "data": {
      "application/vnd.jupyter.widget-view+json": {
       "model_id": "25d2c7bead324bd8b626e17a34e40484",
       "version_major": 2,
       "version_minor": 0
      },
      "text/plain": [
       "HBox(children=(FloatProgress(value=0.0, description='Train', max=39.0, style=ProgressStyle(description_width='…"
      ]
     },
     "metadata": {},
     "output_type": "display_data"
    },
    {
     "name": "stdout",
     "output_type": "stream",
     "text": [
      "\n",
      "Epoch: 177 | Time: 0m 13s\n",
      "Training Results - Average Loss: 1.0242 | auc/_mean: 0.7780 | auc/healthy: 0.8356 | auc/multiple_diseases: 0.5572, auc/rust: 0.8658, auc/scab: 0.8534\n",
      "Evaluating Results - Average Loss: 0.8673 | auc/_mean: 0.8347 | auc/healthy: 0.9229 | auc/multiple_diseases: 0.5274, auc/rust: 0.9526, auc/scab: 0.9356\n",
      "\n"
     ]
    },
    {
     "data": {
      "application/vnd.jupyter.widget-view+json": {
       "model_id": "d745020adf4b4e3eb0bf94a373e17ef0",
       "version_major": 2,
       "version_minor": 0
      },
      "text/plain": [
       "HBox(children=(FloatProgress(value=0.0, description='Train', max=39.0, style=ProgressStyle(description_width='…"
      ]
     },
     "metadata": {},
     "output_type": "display_data"
    },
    {
     "name": "stdout",
     "output_type": "stream",
     "text": [
      "\n",
      "Epoch: 178 | Time: 0m 13s\n",
      "Training Results - Average Loss: 1.0281 | auc/_mean: 0.7895 | auc/healthy: 0.8211 | auc/multiple_diseases: 0.6021, auc/rust: 0.8731, auc/scab: 0.8616\n",
      "Evaluating Results - Average Loss: 0.8673 | auc/_mean: 0.8344 | auc/healthy: 0.9227 | auc/multiple_diseases: 0.5274, auc/rust: 0.9523, auc/scab: 0.9353\n",
      "\n"
     ]
    },
    {
     "data": {
      "application/vnd.jupyter.widget-view+json": {
       "model_id": "23c7271253454e848bad0681b9d7aaa7",
       "version_major": 2,
       "version_minor": 0
      },
      "text/plain": [
       "HBox(children=(FloatProgress(value=0.0, description='Train', max=39.0, style=ProgressStyle(description_width='…"
      ]
     },
     "metadata": {},
     "output_type": "display_data"
    },
    {
     "name": "stdout",
     "output_type": "stream",
     "text": [
      "\n",
      "Epoch: 179 | Time: 0m 13s\n",
      "Training Results - Average Loss: 1.0213 | auc/_mean: 0.7738 | auc/healthy: 0.8212 | auc/multiple_diseases: 0.5366, auc/rust: 0.8811, auc/scab: 0.8564\n",
      "Evaluating Results - Average Loss: 0.8665 | auc/_mean: 0.8347 | auc/healthy: 0.9223 | auc/multiple_diseases: 0.5292, auc/rust: 0.9522, auc/scab: 0.9352\n",
      "\n"
     ]
    },
    {
     "data": {
      "application/vnd.jupyter.widget-view+json": {
       "model_id": "b331e78f5f34450aa990ab73717296bf",
       "version_major": 2,
       "version_minor": 0
      },
      "text/plain": [
       "HBox(children=(FloatProgress(value=0.0, description='Train', max=39.0, style=ProgressStyle(description_width='…"
      ]
     },
     "metadata": {},
     "output_type": "display_data"
    },
    {
     "name": "stdout",
     "output_type": "stream",
     "text": [
      "\n",
      "Epoch: 180 | Time: 0m 13s\n",
      "Training Results - Average Loss: 1.0176 | auc/_mean: 0.7961 | auc/healthy: 0.8269 | auc/multiple_diseases: 0.6125, auc/rust: 0.8759, auc/scab: 0.8692\n",
      "Evaluating Results - Average Loss: 0.8656 | auc/_mean: 0.8350 | auc/healthy: 0.9226 | auc/multiple_diseases: 0.5295, auc/rust: 0.9525, auc/scab: 0.9353\n",
      "\n"
     ]
    },
    {
     "data": {
      "application/vnd.jupyter.widget-view+json": {
       "model_id": "5d682a9337ab451c965345e6e2fbe52a",
       "version_major": 2,
       "version_minor": 0
      },
      "text/plain": [
       "HBox(children=(FloatProgress(value=0.0, description='Train', max=39.0, style=ProgressStyle(description_width='…"
      ]
     },
     "metadata": {},
     "output_type": "display_data"
    },
    {
     "name": "stdout",
     "output_type": "stream",
     "text": [
      "\n",
      "Epoch: 181 | Time: 0m 13s\n",
      "Training Results - Average Loss: 1.0138 | auc/_mean: 0.7881 | auc/healthy: 0.8319 | auc/multiple_diseases: 0.5946, auc/rust: 0.8778, auc/scab: 0.8483\n",
      "Evaluating Results - Average Loss: 0.8651 | auc/_mean: 0.8357 | auc/healthy: 0.9224 | auc/multiple_diseases: 0.5329, auc/rust: 0.9526, auc/scab: 0.9350\n",
      "\n"
     ]
    },
    {
     "data": {
      "application/vnd.jupyter.widget-view+json": {
       "model_id": "a680840a78c04d60ac4c64128d1f824c",
       "version_major": 2,
       "version_minor": 0
      },
      "text/plain": [
       "HBox(children=(FloatProgress(value=0.0, description='Train', max=39.0, style=ProgressStyle(description_width='…"
      ]
     },
     "metadata": {},
     "output_type": "display_data"
    },
    {
     "name": "stdout",
     "output_type": "stream",
     "text": [
      "\n",
      "Epoch: 182 | Time: 0m 13s\n",
      "Training Results - Average Loss: 1.0106 | auc/_mean: 0.7856 | auc/healthy: 0.8314 | auc/multiple_diseases: 0.5692, auc/rust: 0.8754, auc/scab: 0.8665\n",
      "Evaluating Results - Average Loss: 0.8652 | auc/_mean: 0.8358 | auc/healthy: 0.9224 | auc/multiple_diseases: 0.5335, auc/rust: 0.9524, auc/scab: 0.9349\n",
      "\n"
     ]
    },
    {
     "data": {
      "application/vnd.jupyter.widget-view+json": {
       "model_id": "2a5a2d879e90437d9305b3bb5a37d836",
       "version_major": 2,
       "version_minor": 0
      },
      "text/plain": [
       "HBox(children=(FloatProgress(value=0.0, description='Train', max=39.0, style=ProgressStyle(description_width='…"
      ]
     },
     "metadata": {},
     "output_type": "display_data"
    },
    {
     "name": "stdout",
     "output_type": "stream",
     "text": [
      "\n",
      "Epoch: 183 | Time: 0m 13s\n",
      "Training Results - Average Loss: 1.0138 | auc/_mean: 0.7839 | auc/healthy: 0.8437 | auc/multiple_diseases: 0.5523, auc/rust: 0.8776, auc/scab: 0.8621\n",
      "Evaluating Results - Average Loss: 0.8645 | auc/_mean: 0.8359 | auc/healthy: 0.9225 | auc/multiple_diseases: 0.5340, auc/rust: 0.9521, auc/scab: 0.9350\n",
      "\n"
     ]
    },
    {
     "data": {
      "application/vnd.jupyter.widget-view+json": {
       "model_id": "73d50602aeb74f94991137c76fe53548",
       "version_major": 2,
       "version_minor": 0
      },
      "text/plain": [
       "HBox(children=(FloatProgress(value=0.0, description='Train', max=39.0, style=ProgressStyle(description_width='…"
      ]
     },
     "metadata": {},
     "output_type": "display_data"
    },
    {
     "name": "stdout",
     "output_type": "stream",
     "text": [
      "\n",
      "Epoch: 184 | Time: 0m 13s\n",
      "Training Results - Average Loss: 1.0207 | auc/_mean: 0.7975 | auc/healthy: 0.8153 | auc/multiple_diseases: 0.6364, auc/rust: 0.8722, auc/scab: 0.8660\n",
      "Evaluating Results - Average Loss: 0.8638 | auc/_mean: 0.8366 | auc/healthy: 0.9228 | auc/multiple_diseases: 0.5364, auc/rust: 0.9521, auc/scab: 0.9349\n",
      "\n"
     ]
    },
    {
     "data": {
      "application/vnd.jupyter.widget-view+json": {
       "model_id": "4430aa8b2da641aabd13d8e1f186ee3f",
       "version_major": 2,
       "version_minor": 0
      },
      "text/plain": [
       "HBox(children=(FloatProgress(value=0.0, description='Train', max=39.0, style=ProgressStyle(description_width='…"
      ]
     },
     "metadata": {},
     "output_type": "display_data"
    },
    {
     "name": "stdout",
     "output_type": "stream",
     "text": [
      "\n",
      "Epoch: 185 | Time: 0m 13s\n",
      "Training Results - Average Loss: 1.0422 | auc/_mean: 0.7553 | auc/healthy: 0.8113 | auc/multiple_diseases: 0.4994, auc/rust: 0.8688, auc/scab: 0.8415\n",
      "Evaluating Results - Average Loss: 0.8626 | auc/_mean: 0.8368 | auc/healthy: 0.9231 | auc/multiple_diseases: 0.5368, auc/rust: 0.9524, auc/scab: 0.9350\n",
      "\n"
     ]
    },
    {
     "data": {
      "application/vnd.jupyter.widget-view+json": {
       "model_id": "f7f1da65f0224ab1ba1e15405212de97",
       "version_major": 2,
       "version_minor": 0
      },
      "text/plain": [
       "HBox(children=(FloatProgress(value=0.0, description='Train', max=39.0, style=ProgressStyle(description_width='…"
      ]
     },
     "metadata": {},
     "output_type": "display_data"
    },
    {
     "name": "stdout",
     "output_type": "stream",
     "text": [
      "\n",
      "Epoch: 186 | Time: 0m 15s\n",
      "Training Results - Average Loss: 1.0145 | auc/_mean: 0.7987 | auc/healthy: 0.8393 | auc/multiple_diseases: 0.6210, auc/rust: 0.8754, auc/scab: 0.8591\n",
      "Evaluating Results - Average Loss: 0.8598 | auc/_mean: 0.8372 | auc/healthy: 0.9246 | auc/multiple_diseases: 0.5352, auc/rust: 0.9534, auc/scab: 0.9356\n",
      "\n"
     ]
    },
    {
     "data": {
      "application/vnd.jupyter.widget-view+json": {
       "model_id": "72146d45f35543e8a3b1d8291b0991a8",
       "version_major": 2,
       "version_minor": 0
      },
      "text/plain": [
       "HBox(children=(FloatProgress(value=0.0, description='Train', max=39.0, style=ProgressStyle(description_width='…"
      ]
     },
     "metadata": {},
     "output_type": "display_data"
    },
    {
     "name": "stdout",
     "output_type": "stream",
     "text": [
      "\n",
      "Epoch: 187 | Time: 0m 13s\n",
      "Training Results - Average Loss: 1.0016 | auc/_mean: 0.7948 | auc/healthy: 0.8425 | auc/multiple_diseases: 0.5953, auc/rust: 0.8758, auc/scab: 0.8656\n",
      "Evaluating Results - Average Loss: 0.8591 | auc/_mean: 0.8370 | auc/healthy: 0.9246 | auc/multiple_diseases: 0.5344, auc/rust: 0.9531, auc/scab: 0.9357\n",
      "\n"
     ]
    },
    {
     "data": {
      "application/vnd.jupyter.widget-view+json": {
       "model_id": "f37ae125bc53452aa63029e75f7a50ee",
       "version_major": 2,
       "version_minor": 0
      },
      "text/plain": [
       "HBox(children=(FloatProgress(value=0.0, description='Train', max=39.0, style=ProgressStyle(description_width='…"
      ]
     },
     "metadata": {},
     "output_type": "display_data"
    },
    {
     "name": "stdout",
     "output_type": "stream",
     "text": [
      "\n",
      "Epoch: 188 | Time: 0m 13s\n",
      "Training Results - Average Loss: 1.0065 | auc/_mean: 0.7990 | auc/healthy: 0.8436 | auc/multiple_diseases: 0.6236, auc/rust: 0.8719, auc/scab: 0.8569\n",
      "Evaluating Results - Average Loss: 0.8585 | auc/_mean: 0.8369 | auc/healthy: 0.9244 | auc/multiple_diseases: 0.5342, auc/rust: 0.9533, auc/scab: 0.9358\n",
      "\n"
     ]
    },
    {
     "data": {
      "application/vnd.jupyter.widget-view+json": {
       "model_id": "5b9ca397f62e4f5f94c2896269722a73",
       "version_major": 2,
       "version_minor": 0
      },
      "text/plain": [
       "HBox(children=(FloatProgress(value=0.0, description='Train', max=39.0, style=ProgressStyle(description_width='…"
      ]
     },
     "metadata": {},
     "output_type": "display_data"
    },
    {
     "name": "stdout",
     "output_type": "stream",
     "text": [
      "\n",
      "Epoch: 189 | Time: 0m 13s\n",
      "Training Results - Average Loss: 1.0104 | auc/_mean: 0.8007 | auc/healthy: 0.8409 | auc/multiple_diseases: 0.6237, auc/rust: 0.8735, auc/scab: 0.8647\n",
      "Evaluating Results - Average Loss: 0.8579 | auc/_mean: 0.8363 | auc/healthy: 0.9246 | auc/multiple_diseases: 0.5313, auc/rust: 0.9535, auc/scab: 0.9356\n",
      "\n"
     ]
    },
    {
     "data": {
      "application/vnd.jupyter.widget-view+json": {
       "model_id": "c5a9d4b2fce247a88f0fce3349c76bc7",
       "version_major": 2,
       "version_minor": 0
      },
      "text/plain": [
       "HBox(children=(FloatProgress(value=0.0, description='Train', max=39.0, style=ProgressStyle(description_width='…"
      ]
     },
     "metadata": {},
     "output_type": "display_data"
    },
    {
     "name": "stdout",
     "output_type": "stream",
     "text": [
      "\n",
      "Epoch: 190 | Time: 0m 13s\n",
      "Training Results - Average Loss: 1.0025 | auc/_mean: 0.7951 | auc/healthy: 0.8227 | auc/multiple_diseases: 0.6263, auc/rust: 0.8781, auc/scab: 0.8533\n",
      "Evaluating Results - Average Loss: 0.8560 | auc/_mean: 0.8362 | auc/healthy: 0.9254 | auc/multiple_diseases: 0.5295, auc/rust: 0.9538, auc/scab: 0.9362\n",
      "\n"
     ]
    },
    {
     "data": {
      "application/vnd.jupyter.widget-view+json": {
       "model_id": "d138c7866aba4baca85babc1cb090eaf",
       "version_major": 2,
       "version_minor": 0
      },
      "text/plain": [
       "HBox(children=(FloatProgress(value=0.0, description='Train', max=39.0, style=ProgressStyle(description_width='…"
      ]
     },
     "metadata": {},
     "output_type": "display_data"
    },
    {
     "name": "stdout",
     "output_type": "stream",
     "text": [
      "\n",
      "Epoch: 191 | Time: 0m 13s\n",
      "Training Results - Average Loss: 1.0081 | auc/_mean: 0.8077 | auc/healthy: 0.8284 | auc/multiple_diseases: 0.6636, auc/rust: 0.8719, auc/scab: 0.8667\n",
      "Evaluating Results - Average Loss: 0.8563 | auc/_mean: 0.8374 | auc/healthy: 0.9244 | auc/multiple_diseases: 0.5356, auc/rust: 0.9537, auc/scab: 0.9360\n",
      "\n"
     ]
    },
    {
     "data": {
      "application/vnd.jupyter.widget-view+json": {
       "model_id": "affb17771fae4ea3add387d4a35c1196",
       "version_major": 2,
       "version_minor": 0
      },
      "text/plain": [
       "HBox(children=(FloatProgress(value=0.0, description='Train', max=39.0, style=ProgressStyle(description_width='…"
      ]
     },
     "metadata": {},
     "output_type": "display_data"
    },
    {
     "name": "stdout",
     "output_type": "stream",
     "text": [
      "\n",
      "Epoch: 192 | Time: 0m 13s\n",
      "Training Results - Average Loss: 0.9891 | auc/_mean: 0.8027 | auc/healthy: 0.8334 | auc/multiple_diseases: 0.6123, auc/rust: 0.8865, auc/scab: 0.8786\n",
      "Evaluating Results - Average Loss: 0.8560 | auc/_mean: 0.8370 | auc/healthy: 0.9246 | auc/multiple_diseases: 0.5342, auc/rust: 0.9535, auc/scab: 0.9358\n",
      "\n"
     ]
    },
    {
     "data": {
      "application/vnd.jupyter.widget-view+json": {
       "model_id": "cb0a5d4dfbd143c3bef1b1e81bec31d6",
       "version_major": 2,
       "version_minor": 0
      },
      "text/plain": [
       "HBox(children=(FloatProgress(value=0.0, description='Train', max=39.0, style=ProgressStyle(description_width='…"
      ]
     },
     "metadata": {},
     "output_type": "display_data"
    },
    {
     "name": "stdout",
     "output_type": "stream",
     "text": [
      "\n",
      "Epoch: 193 | Time: 0m 13s\n",
      "Training Results - Average Loss: 0.9956 | auc/_mean: 0.7914 | auc/healthy: 0.8312 | auc/multiple_diseases: 0.5724, auc/rust: 0.8870, auc/scab: 0.8749\n",
      "Evaluating Results - Average Loss: 0.8554 | auc/_mean: 0.8372 | auc/healthy: 0.9243 | auc/multiple_diseases: 0.5353, auc/rust: 0.9535, auc/scab: 0.9356\n",
      "\n"
     ]
    },
    {
     "data": {
      "application/vnd.jupyter.widget-view+json": {
       "model_id": "cbf6806b80f44d328b7c8645a6a40be5",
       "version_major": 2,
       "version_minor": 0
      },
      "text/plain": [
       "HBox(children=(FloatProgress(value=0.0, description='Train', max=39.0, style=ProgressStyle(description_width='…"
      ]
     },
     "metadata": {},
     "output_type": "display_data"
    },
    {
     "name": "stdout",
     "output_type": "stream",
     "text": [
      "\n",
      "Epoch: 194 | Time: 0m 14s\n",
      "Training Results - Average Loss: 1.0090 | auc/_mean: 0.7824 | auc/healthy: 0.8354 | auc/multiple_diseases: 0.5464, auc/rust: 0.8845, auc/scab: 0.8631\n",
      "Evaluating Results - Average Loss: 0.8548 | auc/_mean: 0.8368 | auc/healthy: 0.9244 | auc/multiple_diseases: 0.5337, auc/rust: 0.9534, auc/scab: 0.9356\n",
      "\n"
     ]
    },
    {
     "data": {
      "application/vnd.jupyter.widget-view+json": {
       "model_id": "3e01f8770993418abd6d3c5ca2ac4085",
       "version_major": 2,
       "version_minor": 0
      },
      "text/plain": [
       "HBox(children=(FloatProgress(value=0.0, description='Train', max=39.0, style=ProgressStyle(description_width='…"
      ]
     },
     "metadata": {},
     "output_type": "display_data"
    },
    {
     "name": "stdout",
     "output_type": "stream",
     "text": [
      "\n",
      "Epoch: 195 | Time: 0m 14s\n",
      "Training Results - Average Loss: 1.0203 | auc/_mean: 0.7740 | auc/healthy: 0.8113 | auc/multiple_diseases: 0.5617, auc/rust: 0.8713, auc/scab: 0.8517\n",
      "Evaluating Results - Average Loss: 0.8532 | auc/_mean: 0.8372 | auc/healthy: 0.9248 | auc/multiple_diseases: 0.5349, auc/rust: 0.9534, auc/scab: 0.9359\n",
      "\n"
     ]
    },
    {
     "data": {
      "application/vnd.jupyter.widget-view+json": {
       "model_id": "803f9e227bf641228af58d1438323418",
       "version_major": 2,
       "version_minor": 0
      },
      "text/plain": [
       "HBox(children=(FloatProgress(value=0.0, description='Train', max=39.0, style=ProgressStyle(description_width='…"
      ]
     },
     "metadata": {},
     "output_type": "display_data"
    },
    {
     "name": "stdout",
     "output_type": "stream",
     "text": [
      "\n",
      "Epoch: 196 | Time: 0m 13s\n",
      "Training Results - Average Loss: 0.9892 | auc/_mean: 0.8076 | auc/healthy: 0.8569 | auc/multiple_diseases: 0.6220, auc/rust: 0.8779, auc/scab: 0.8735\n",
      "Evaluating Results - Average Loss: 0.8536 | auc/_mean: 0.8375 | auc/healthy: 0.9242 | auc/multiple_diseases: 0.5368, auc/rust: 0.9530, auc/scab: 0.9360\n",
      "\n"
     ]
    },
    {
     "data": {
      "application/vnd.jupyter.widget-view+json": {
       "model_id": "8a068f46bb0148bfa59ad3c8ec89deb1",
       "version_major": 2,
       "version_minor": 0
      },
      "text/plain": [
       "HBox(children=(FloatProgress(value=0.0, description='Train', max=39.0, style=ProgressStyle(description_width='…"
      ]
     },
     "metadata": {},
     "output_type": "display_data"
    },
    {
     "name": "stdout",
     "output_type": "stream",
     "text": [
      "\n",
      "Epoch: 197 | Time: 0m 13s\n",
      "Training Results - Average Loss: 0.9941 | auc/_mean: 0.7898 | auc/healthy: 0.8288 | auc/multiple_diseases: 0.5749, auc/rust: 0.8819, auc/scab: 0.8736\n",
      "Evaluating Results - Average Loss: 0.8530 | auc/_mean: 0.8390 | auc/healthy: 0.9245 | auc/multiple_diseases: 0.5427, auc/rust: 0.9533, auc/scab: 0.9355\n",
      "\n"
     ]
    },
    {
     "data": {
      "application/vnd.jupyter.widget-view+json": {
       "model_id": "7dc541412d2b4afcae275914919f537d",
       "version_major": 2,
       "version_minor": 0
      },
      "text/plain": [
       "HBox(children=(FloatProgress(value=0.0, description='Train', max=39.0, style=ProgressStyle(description_width='…"
      ]
     },
     "metadata": {},
     "output_type": "display_data"
    },
    {
     "name": "stdout",
     "output_type": "stream",
     "text": [
      "\n",
      "Epoch: 198 | Time: 0m 13s\n",
      "Training Results - Average Loss: 1.0052 | auc/_mean: 0.8044 | auc/healthy: 0.8418 | auc/multiple_diseases: 0.6274, auc/rust: 0.8823, auc/scab: 0.8663\n",
      "Evaluating Results - Average Loss: 0.8531 | auc/_mean: 0.8394 | auc/healthy: 0.9241 | auc/multiple_diseases: 0.5448, auc/rust: 0.9534, auc/scab: 0.9353\n",
      "\n"
     ]
    },
    {
     "data": {
      "application/vnd.jupyter.widget-view+json": {
       "model_id": "da958f4ccb5a4f68a1c532a10dc5f2e6",
       "version_major": 2,
       "version_minor": 0
      },
      "text/plain": [
       "HBox(children=(FloatProgress(value=0.0, description='Train', max=39.0, style=ProgressStyle(description_width='…"
      ]
     },
     "metadata": {},
     "output_type": "display_data"
    },
    {
     "name": "stdout",
     "output_type": "stream",
     "text": [
      "\n",
      "Epoch: 199 | Time: 0m 13s\n",
      "Training Results - Average Loss: 1.0235 | auc/_mean: 0.7819 | auc/healthy: 0.8333 | auc/multiple_diseases: 0.5886, auc/rust: 0.8670, auc/scab: 0.8387\n",
      "Evaluating Results - Average Loss: 0.8510 | auc/_mean: 0.8405 | auc/healthy: 0.9253 | auc/multiple_diseases: 0.5469, auc/rust: 0.9540, auc/scab: 0.9357\n",
      "\n"
     ]
    },
    {
     "data": {
      "application/vnd.jupyter.widget-view+json": {
       "model_id": "ff4d80f8bcf848c8ab5e7ea4c37a4ccd",
       "version_major": 2,
       "version_minor": 0
      },
      "text/plain": [
       "HBox(children=(FloatProgress(value=0.0, description='Train', max=39.0, style=ProgressStyle(description_width='…"
      ]
     },
     "metadata": {},
     "output_type": "display_data"
    },
    {
     "name": "stdout",
     "output_type": "stream",
     "text": [
      "\n",
      "Epoch: 200 | Time: 0m 13s\n",
      "Training Results - Average Loss: 1.0121 | auc/_mean: 0.7891 | auc/healthy: 0.8210 | auc/multiple_diseases: 0.6153, auc/rust: 0.8695, auc/scab: 0.8506\n",
      "Evaluating Results - Average Loss: 0.8486 | auc/_mean: 0.8405 | auc/healthy: 0.9261 | auc/multiple_diseases: 0.5451, auc/rust: 0.9548, auc/scab: 0.9360\n",
      "\n",
      "\n"
     ]
    }
   ],
   "source": [
    "trainer = Trainer(model, train_dataloader, valid_dataloader, criterion, optimizer, scheduler, device, config)\n",
    "trainer.run();"
   ]
  },
  {
   "cell_type": "code",
   "execution_count": null,
   "metadata": {},
   "outputs": [],
   "source": []
  },
  {
   "cell_type": "code",
   "execution_count": null,
   "metadata": {},
   "outputs": [],
   "source": []
  },
  {
   "cell_type": "code",
   "execution_count": 11,
   "metadata": {},
   "outputs": [
    {
     "name": "stdout",
     "output_type": "stream",
     "text": [
      "Loaded pretrained weights for efficientnet-b0\n"
     ]
    }
   ],
   "source": [
    "model = get_model(config.model_name, config.num_classes)\n",
    "model.load_state_dict(torch.load(f\"{config.save_dirname}/best_model_epoch=200_auc_mean=0.8405395713741826.pth\"))\n",
    "for param in model.parameters():\n",
    "    param.requires_grad = True\n",
    "\n",
    "criterion = LabelSmoothingCrossEntropy()\n",
    "optimizer = AdamW(model.parameters(), lr=config.lr, weight_decay=1e-3)\n",
    "num_train_steps = int(len(train_dataset) / config.batch_size * config.num_epochs)\n",
    "scheduler = get_cosine_schedule_with_warmup(optimizer, num_warmup_steps=len(train_dataset)/config.batch_size*5, num_training_steps=num_train_steps)"
   ]
  },
  {
   "cell_type": "code",
   "execution_count": 12,
   "metadata": {},
   "outputs": [
    {
     "data": {
      "application/vnd.jupyter.widget-view+json": {
       "model_id": "08ec74af205b48ccaa6a84754fe48b3e",
       "version_major": 2,
       "version_minor": 0
      },
      "text/plain": [
       "HBox(children=(FloatProgress(value=0.0, description='Epochs', max=200.0, style=ProgressStyle(description_width…"
      ]
     },
     "metadata": {},
     "output_type": "display_data"
    },
    {
     "data": {
      "application/vnd.jupyter.widget-view+json": {
       "model_id": "988f99ee511346fa8f721ffc7b5827b4",
       "version_major": 2,
       "version_minor": 0
      },
      "text/plain": [
       "HBox(children=(FloatProgress(value=0.0, description='Train', max=39.0, style=ProgressStyle(description_width='…"
      ]
     },
     "metadata": {},
     "output_type": "display_data"
    },
    {
     "name": "stdout",
     "output_type": "stream",
     "text": [
      "\n",
      "Epoch: 01 | Time: 0m 19s\n",
      "Training Results - Average Loss: 1.0017 | auc/_mean: 0.8102 | auc/healthy: 0.8540 | auc/multiple_diseases: 0.6370, auc/rust: 0.8753, auc/scab: 0.8744\n",
      "Evaluating Results - Average Loss: 0.8471 | auc/_mean: 0.8399 | auc/healthy: 0.9266 | auc/multiple_diseases: 0.5413, auc/rust: 0.9549, auc/scab: 0.9367\n",
      "\n"
     ]
    },
    {
     "data": {
      "application/vnd.jupyter.widget-view+json": {
       "model_id": "8277106fe4104bd2afb1a1afdda23ec7",
       "version_major": 2,
       "version_minor": 0
      },
      "text/plain": [
       "HBox(children=(FloatProgress(value=0.0, description='Train', max=39.0, style=ProgressStyle(description_width='…"
      ]
     },
     "metadata": {},
     "output_type": "display_data"
    },
    {
     "name": "stdout",
     "output_type": "stream",
     "text": [
      "\n",
      "Epoch: 02 | Time: 0m 18s\n",
      "Training Results - Average Loss: 0.9765 | auc/_mean: 0.8032 | auc/healthy: 0.8493 | auc/multiple_diseases: 0.5903, auc/rust: 0.8911, auc/scab: 0.8822\n",
      "Evaluating Results - Average Loss: 0.8000 | auc/_mean: 0.8477 | auc/healthy: 0.9407 | auc/multiple_diseases: 0.5385, auc/rust: 0.9652, auc/scab: 0.9464\n",
      "\n"
     ]
    },
    {
     "data": {
      "application/vnd.jupyter.widget-view+json": {
       "model_id": "308929510ff646c192830bba8910d5fe",
       "version_major": 2,
       "version_minor": 0
      },
      "text/plain": [
       "HBox(children=(FloatProgress(value=0.0, description='Train', max=39.0, style=ProgressStyle(description_width='…"
      ]
     },
     "metadata": {},
     "output_type": "display_data"
    },
    {
     "name": "stdout",
     "output_type": "stream",
     "text": [
      "\n",
      "Epoch: 03 | Time: 0m 19s\n",
      "Training Results - Average Loss: 0.9393 | auc/_mean: 0.8164 | auc/healthy: 0.8772 | auc/multiple_diseases: 0.5869, auc/rust: 0.9081, auc/scab: 0.8935\n",
      "Evaluating Results - Average Loss: 0.7627 | auc/_mean: 0.8553 | auc/healthy: 0.9518 | auc/multiple_diseases: 0.5438, auc/rust: 0.9720, auc/scab: 0.9535\n",
      "\n"
     ]
    },
    {
     "data": {
      "application/vnd.jupyter.widget-view+json": {
       "model_id": "f30730339fce44cd917bc04fa8c9c8dd",
       "version_major": 2,
       "version_minor": 0
      },
      "text/plain": [
       "HBox(children=(FloatProgress(value=0.0, description='Train', max=39.0, style=ProgressStyle(description_width='…"
      ]
     },
     "metadata": {},
     "output_type": "display_data"
    },
    {
     "name": "stdout",
     "output_type": "stream",
     "text": [
      "\n",
      "Epoch: 04 | Time: 0m 19s\n",
      "Training Results - Average Loss: 0.9189 | auc/_mean: 0.8319 | auc/healthy: 0.8687 | auc/multiple_diseases: 0.6343, auc/rust: 0.9249, auc/scab: 0.8997\n",
      "Evaluating Results - Average Loss: 0.7318 | auc/_mean: 0.8626 | auc/healthy: 0.9593 | auc/multiple_diseases: 0.5553, auc/rust: 0.9767, auc/scab: 0.9590\n",
      "\n"
     ]
    },
    {
     "data": {
      "application/vnd.jupyter.widget-view+json": {
       "model_id": "c2f200a7419a434689f200ece2e4dea3",
       "version_major": 2,
       "version_minor": 0
      },
      "text/plain": [
       "HBox(children=(FloatProgress(value=0.0, description='Train', max=39.0, style=ProgressStyle(description_width='…"
      ]
     },
     "metadata": {},
     "output_type": "display_data"
    },
    {
     "name": "stdout",
     "output_type": "stream",
     "text": [
      "\n",
      "Epoch: 05 | Time: 0m 18s\n",
      "Training Results - Average Loss: 0.8695 | auc/_mean: 0.8544 | auc/healthy: 0.8968 | auc/multiple_diseases: 0.6650, auc/rust: 0.9383, auc/scab: 0.9176\n",
      "Evaluating Results - Average Loss: 0.7060 | auc/_mean: 0.8670 | auc/healthy: 0.9653 | auc/multiple_diseases: 0.5592, auc/rust: 0.9802, auc/scab: 0.9634\n",
      "\n"
     ]
    },
    {
     "data": {
      "application/vnd.jupyter.widget-view+json": {
       "model_id": "7ec4412087dd44399570e205809cff33",
       "version_major": 2,
       "version_minor": 0
      },
      "text/plain": [
       "HBox(children=(FloatProgress(value=0.0, description='Train', max=39.0, style=ProgressStyle(description_width='…"
      ]
     },
     "metadata": {},
     "output_type": "display_data"
    },
    {
     "name": "stdout",
     "output_type": "stream",
     "text": [
      "\n",
      "Epoch: 06 | Time: 0m 18s\n",
      "Training Results - Average Loss: 0.8428 | auc/_mean: 0.8467 | auc/healthy: 0.9081 | auc/multiple_diseases: 0.6075, auc/rust: 0.9487, auc/scab: 0.9226\n",
      "Evaluating Results - Average Loss: 0.6847 | auc/_mean: 0.8709 | auc/healthy: 0.9693 | auc/multiple_diseases: 0.5651, auc/rust: 0.9826, auc/scab: 0.9666\n",
      "\n"
     ]
    },
    {
     "data": {
      "application/vnd.jupyter.widget-view+json": {
       "model_id": "5930bc4560374a4682547234e72d9f87",
       "version_major": 2,
       "version_minor": 0
      },
      "text/plain": [
       "HBox(children=(FloatProgress(value=0.0, description='Train', max=39.0, style=ProgressStyle(description_width='…"
      ]
     },
     "metadata": {},
     "output_type": "display_data"
    },
    {
     "name": "stdout",
     "output_type": "stream",
     "text": [
      "\n",
      "Epoch: 07 | Time: 0m 18s\n",
      "Training Results - Average Loss: 0.8170 | auc/_mean: 0.8577 | auc/healthy: 0.9232 | auc/multiple_diseases: 0.6265, auc/rust: 0.9555, auc/scab: 0.9255\n",
      "Evaluating Results - Average Loss: 0.6661 | auc/_mean: 0.8737 | auc/healthy: 0.9723 | auc/multiple_diseases: 0.5687, auc/rust: 0.9839, auc/scab: 0.9699\n",
      "\n"
     ]
    },
    {
     "data": {
      "application/vnd.jupyter.widget-view+json": {
       "model_id": "2a02fe5159e84121be45192ec4b37483",
       "version_major": 2,
       "version_minor": 0
      },
      "text/plain": [
       "HBox(children=(FloatProgress(value=0.0, description='Train', max=39.0, style=ProgressStyle(description_width='…"
      ]
     },
     "metadata": {},
     "output_type": "display_data"
    },
    {
     "name": "stdout",
     "output_type": "stream",
     "text": [
      "\n",
      "Epoch: 08 | Time: 0m 18s\n",
      "Training Results - Average Loss: 0.7830 | auc/_mean: 0.8703 | auc/healthy: 0.9360 | auc/multiple_diseases: 0.6448, auc/rust: 0.9579, auc/scab: 0.9426\n",
      "Evaluating Results - Average Loss: 0.6520 | auc/_mean: 0.8762 | auc/healthy: 0.9741 | auc/multiple_diseases: 0.5738, auc/rust: 0.9848, auc/scab: 0.9721\n",
      "\n"
     ]
    },
    {
     "data": {
      "application/vnd.jupyter.widget-view+json": {
       "model_id": "60654ce5babb491fada51a4484c0f746",
       "version_major": 2,
       "version_minor": 0
      },
      "text/plain": [
       "HBox(children=(FloatProgress(value=0.0, description='Train', max=39.0, style=ProgressStyle(description_width='…"
      ]
     },
     "metadata": {},
     "output_type": "display_data"
    },
    {
     "name": "stdout",
     "output_type": "stream",
     "text": [
      "\n",
      "Epoch: 09 | Time: 0m 19s\n",
      "Training Results - Average Loss: 0.7582 | auc/_mean: 0.8740 | auc/healthy: 0.9321 | auc/multiple_diseases: 0.6536, auc/rust: 0.9673, auc/scab: 0.9432\n",
      "Evaluating Results - Average Loss: 0.6387 | auc/_mean: 0.8785 | auc/healthy: 0.9762 | auc/multiple_diseases: 0.5775, auc/rust: 0.9863, auc/scab: 0.9739\n",
      "\n"
     ]
    },
    {
     "data": {
      "application/vnd.jupyter.widget-view+json": {
       "model_id": "9e363d1018a242deb727369298558432",
       "version_major": 2,
       "version_minor": 0
      },
      "text/plain": [
       "HBox(children=(FloatProgress(value=0.0, description='Train', max=39.0, style=ProgressStyle(description_width='…"
      ]
     },
     "metadata": {},
     "output_type": "display_data"
    },
    {
     "name": "stdout",
     "output_type": "stream",
     "text": [
      "\n",
      "Epoch: 10 | Time: 0m 18s\n",
      "Training Results - Average Loss: 0.7850 | auc/_mean: 0.8781 | auc/healthy: 0.9435 | auc/multiple_diseases: 0.6631, auc/rust: 0.9636, auc/scab: 0.9422\n",
      "Evaluating Results - Average Loss: 0.6279 | auc/_mean: 0.8799 | auc/healthy: 0.9782 | auc/multiple_diseases: 0.5779, auc/rust: 0.9878, auc/scab: 0.9758\n",
      "\n"
     ]
    },
    {
     "data": {
      "application/vnd.jupyter.widget-view+json": {
       "model_id": "d4ad9eef81a94fd38c679e8c77bb9f15",
       "version_major": 2,
       "version_minor": 0
      },
      "text/plain": [
       "HBox(children=(FloatProgress(value=0.0, description='Train', max=39.0, style=ProgressStyle(description_width='…"
      ]
     },
     "metadata": {},
     "output_type": "display_data"
    },
    {
     "name": "stdout",
     "output_type": "stream",
     "text": [
      "\n",
      "Epoch: 11 | Time: 0m 19s\n",
      "Training Results - Average Loss: 0.7252 | auc/_mean: 0.8937 | auc/healthy: 0.9535 | auc/multiple_diseases: 0.7019, auc/rust: 0.9651, auc/scab: 0.9545\n",
      "Evaluating Results - Average Loss: 0.6166 | auc/_mean: 0.8816 | auc/healthy: 0.9797 | auc/multiple_diseases: 0.5800, auc/rust: 0.9887, auc/scab: 0.9778\n",
      "\n"
     ]
    },
    {
     "data": {
      "application/vnd.jupyter.widget-view+json": {
       "model_id": "20a2fe6edf7e44e7a73cf93e7019c2f5",
       "version_major": 2,
       "version_minor": 0
      },
      "text/plain": [
       "HBox(children=(FloatProgress(value=0.0, description='Train', max=39.0, style=ProgressStyle(description_width='…"
      ]
     },
     "metadata": {},
     "output_type": "display_data"
    },
    {
     "name": "stdout",
     "output_type": "stream",
     "text": [
      "\n",
      "Epoch: 12 | Time: 0m 19s\n",
      "Training Results - Average Loss: 0.7043 | auc/_mean: 0.8906 | auc/healthy: 0.9553 | auc/multiple_diseases: 0.6803, auc/rust: 0.9661, auc/scab: 0.9607\n",
      "Evaluating Results - Average Loss: 0.6049 | auc/_mean: 0.8830 | auc/healthy: 0.9812 | auc/multiple_diseases: 0.5806, auc/rust: 0.9898, auc/scab: 0.9804\n",
      "\n"
     ]
    },
    {
     "data": {
      "application/vnd.jupyter.widget-view+json": {
       "model_id": "47995f3f58934806b795b3fac2b62226",
       "version_major": 2,
       "version_minor": 0
      },
      "text/plain": [
       "HBox(children=(FloatProgress(value=0.0, description='Train', max=39.0, style=ProgressStyle(description_width='…"
      ]
     },
     "metadata": {},
     "output_type": "display_data"
    },
    {
     "name": "stdout",
     "output_type": "stream",
     "text": [
      "\n",
      "Epoch: 13 | Time: 0m 18s\n",
      "Training Results - Average Loss: 0.7077 | auc/_mean: 0.8998 | auc/healthy: 0.9626 | auc/multiple_diseases: 0.7068, auc/rust: 0.9727, auc/scab: 0.9572\n",
      "Evaluating Results - Average Loss: 0.5981 | auc/_mean: 0.8847 | auc/healthy: 0.9825 | auc/multiple_diseases: 0.5838, auc/rust: 0.9908, auc/scab: 0.9818\n",
      "\n"
     ]
    },
    {
     "data": {
      "application/vnd.jupyter.widget-view+json": {
       "model_id": "662cda4d52eb45019f309906137e0c63",
       "version_major": 2,
       "version_minor": 0
      },
      "text/plain": [
       "HBox(children=(FloatProgress(value=0.0, description='Train', max=39.0, style=ProgressStyle(description_width='…"
      ]
     },
     "metadata": {},
     "output_type": "display_data"
    },
    {
     "name": "stdout",
     "output_type": "stream",
     "text": [
      "\n",
      "Epoch: 14 | Time: 0m 19s\n",
      "Training Results - Average Loss: 0.6888 | auc/_mean: 0.9051 | auc/healthy: 0.9669 | auc/multiple_diseases: 0.7186, auc/rust: 0.9774, auc/scab: 0.9576\n",
      "Evaluating Results - Average Loss: 0.5923 | auc/_mean: 0.8863 | auc/healthy: 0.9837 | auc/multiple_diseases: 0.5867, auc/rust: 0.9913, auc/scab: 0.9835\n",
      "\n"
     ]
    },
    {
     "data": {
      "application/vnd.jupyter.widget-view+json": {
       "model_id": "5a8a7daac8fa40769d381c11d25d5f34",
       "version_major": 2,
       "version_minor": 0
      },
      "text/plain": [
       "HBox(children=(FloatProgress(value=0.0, description='Train', max=39.0, style=ProgressStyle(description_width='…"
      ]
     },
     "metadata": {},
     "output_type": "display_data"
    },
    {
     "name": "stdout",
     "output_type": "stream",
     "text": [
      "\n",
      "Epoch: 15 | Time: 0m 19s\n",
      "Training Results - Average Loss: 0.6874 | auc/_mean: 0.8994 | auc/healthy: 0.9625 | auc/multiple_diseases: 0.7038, auc/rust: 0.9723, auc/scab: 0.9590\n",
      "Evaluating Results - Average Loss: 0.5857 | auc/_mean: 0.8885 | auc/healthy: 0.9848 | auc/multiple_diseases: 0.5934, auc/rust: 0.9918, auc/scab: 0.9841\n",
      "\n"
     ]
    },
    {
     "data": {
      "application/vnd.jupyter.widget-view+json": {
       "model_id": "663c1f2c40684cc8b67ae46101f224be",
       "version_major": 2,
       "version_minor": 0
      },
      "text/plain": [
       "HBox(children=(FloatProgress(value=0.0, description='Train', max=39.0, style=ProgressStyle(description_width='…"
      ]
     },
     "metadata": {},
     "output_type": "display_data"
    },
    {
     "name": "stdout",
     "output_type": "stream",
     "text": [
      "\n",
      "Epoch: 16 | Time: 0m 19s\n",
      "Training Results - Average Loss: 0.6626 | auc/_mean: 0.9035 | auc/healthy: 0.9738 | auc/multiple_diseases: 0.6945, auc/rust: 0.9764, auc/scab: 0.9692\n",
      "Evaluating Results - Average Loss: 0.5806 | auc/_mean: 0.8884 | auc/healthy: 0.9859 | auc/multiple_diseases: 0.5902, auc/rust: 0.9925, auc/scab: 0.9848\n",
      "\n"
     ]
    },
    {
     "data": {
      "application/vnd.jupyter.widget-view+json": {
       "model_id": "b233dc0dc74a40d8aa80d25d279bf3e5",
       "version_major": 2,
       "version_minor": 0
      },
      "text/plain": [
       "HBox(children=(FloatProgress(value=0.0, description='Train', max=39.0, style=ProgressStyle(description_width='…"
      ]
     },
     "metadata": {},
     "output_type": "display_data"
    },
    {
     "name": "stdout",
     "output_type": "stream",
     "text": [
      "\n",
      "Epoch: 17 | Time: 0m 19s\n",
      "Training Results - Average Loss: 0.6621 | auc/_mean: 0.8995 | auc/healthy: 0.9687 | auc/multiple_diseases: 0.6889, auc/rust: 0.9748, auc/scab: 0.9654\n",
      "Evaluating Results - Average Loss: 0.5767 | auc/_mean: 0.8898 | auc/healthy: 0.9865 | auc/multiple_diseases: 0.5940, auc/rust: 0.9930, auc/scab: 0.9855\n",
      "\n"
     ]
    },
    {
     "data": {
      "application/vnd.jupyter.widget-view+json": {
       "model_id": "69c52b0ff34648aba2e5858933f87a12",
       "version_major": 2,
       "version_minor": 0
      },
      "text/plain": [
       "HBox(children=(FloatProgress(value=0.0, description='Train', max=39.0, style=ProgressStyle(description_width='…"
      ]
     },
     "metadata": {},
     "output_type": "display_data"
    },
    {
     "name": "stdout",
     "output_type": "stream",
     "text": [
      "\n",
      "Epoch: 18 | Time: 0m 19s\n",
      "Training Results - Average Loss: 0.6522 | auc/_mean: 0.9017 | auc/healthy: 0.9703 | auc/multiple_diseases: 0.6886, auc/rust: 0.9827, auc/scab: 0.9653\n",
      "Evaluating Results - Average Loss: 0.5709 | auc/_mean: 0.8921 | auc/healthy: 0.9872 | auc/multiple_diseases: 0.6010, auc/rust: 0.9937, auc/scab: 0.9866\n",
      "\n"
     ]
    },
    {
     "data": {
      "application/vnd.jupyter.widget-view+json": {
       "model_id": "5d867a06d450487aaa62a02e0b8cdd1c",
       "version_major": 2,
       "version_minor": 0
      },
      "text/plain": [
       "HBox(children=(FloatProgress(value=0.0, description='Train', max=39.0, style=ProgressStyle(description_width='…"
      ]
     },
     "metadata": {},
     "output_type": "display_data"
    },
    {
     "name": "stdout",
     "output_type": "stream",
     "text": [
      "\n",
      "Epoch: 19 | Time: 0m 19s\n",
      "Training Results - Average Loss: 0.6330 | auc/_mean: 0.9236 | auc/healthy: 0.9773 | auc/multiple_diseases: 0.7671, auc/rust: 0.9788, auc/scab: 0.9711\n",
      "Evaluating Results - Average Loss: 0.5655 | auc/_mean: 0.8934 | auc/healthy: 0.9879 | auc/multiple_diseases: 0.6044, auc/rust: 0.9939, auc/scab: 0.9876\n",
      "\n"
     ]
    },
    {
     "data": {
      "application/vnd.jupyter.widget-view+json": {
       "model_id": "8fa9fabc6c054aa1b95cc17f2d22f0f9",
       "version_major": 2,
       "version_minor": 0
      },
      "text/plain": [
       "HBox(children=(FloatProgress(value=0.0, description='Train', max=39.0, style=ProgressStyle(description_width='…"
      ]
     },
     "metadata": {},
     "output_type": "display_data"
    },
    {
     "name": "stdout",
     "output_type": "stream",
     "text": [
      "\n",
      "Epoch: 20 | Time: 0m 18s\n",
      "Training Results - Average Loss: 0.6380 | auc/_mean: 0.9043 | auc/healthy: 0.9714 | auc/multiple_diseases: 0.6900, auc/rust: 0.9858, auc/scab: 0.9699\n",
      "Evaluating Results - Average Loss: 0.5615 | auc/_mean: 0.8958 | auc/healthy: 0.9886 | auc/multiple_diseases: 0.6119, auc/rust: 0.9942, auc/scab: 0.9884\n",
      "\n"
     ]
    },
    {
     "data": {
      "application/vnd.jupyter.widget-view+json": {
       "model_id": "30ab9cc8b7854d688fc3086e87948a9a",
       "version_major": 2,
       "version_minor": 0
      },
      "text/plain": [
       "HBox(children=(FloatProgress(value=0.0, description='Train', max=39.0, style=ProgressStyle(description_width='…"
      ]
     },
     "metadata": {},
     "output_type": "display_data"
    },
    {
     "name": "stdout",
     "output_type": "stream",
     "text": [
      "\n",
      "Epoch: 21 | Time: 0m 18s\n",
      "Training Results - Average Loss: 0.6533 | auc/_mean: 0.9108 | auc/healthy: 0.9749 | auc/multiple_diseases: 0.7151, auc/rust: 0.9827, auc/scab: 0.9706\n",
      "Evaluating Results - Average Loss: 0.5578 | auc/_mean: 0.8964 | auc/healthy: 0.9896 | auc/multiple_diseases: 0.6132, auc/rust: 0.9943, auc/scab: 0.9886\n",
      "\n"
     ]
    },
    {
     "data": {
      "application/vnd.jupyter.widget-view+json": {
       "model_id": "74d053684c644b289d67c5bc81f56100",
       "version_major": 2,
       "version_minor": 0
      },
      "text/plain": [
       "HBox(children=(FloatProgress(value=0.0, description='Train', max=39.0, style=ProgressStyle(description_width='…"
      ]
     },
     "metadata": {},
     "output_type": "display_data"
    },
    {
     "name": "stdout",
     "output_type": "stream",
     "text": [
      "\n",
      "Epoch: 22 | Time: 0m 19s\n",
      "Training Results - Average Loss: 0.6269 | auc/_mean: 0.9155 | auc/healthy: 0.9775 | auc/multiple_diseases: 0.7299, auc/rust: 0.9803, auc/scab: 0.9742\n",
      "Evaluating Results - Average Loss: 0.5554 | auc/_mean: 0.8987 | auc/healthy: 0.9903 | auc/multiple_diseases: 0.6201, auc/rust: 0.9946, auc/scab: 0.9896\n",
      "\n"
     ]
    },
    {
     "data": {
      "application/vnd.jupyter.widget-view+json": {
       "model_id": "6efba14481014b77bc266cd9111e8c41",
       "version_major": 2,
       "version_minor": 0
      },
      "text/plain": [
       "HBox(children=(FloatProgress(value=0.0, description='Train', max=39.0, style=ProgressStyle(description_width='…"
      ]
     },
     "metadata": {},
     "output_type": "display_data"
    },
    {
     "name": "stdout",
     "output_type": "stream",
     "text": [
      "\n",
      "Epoch: 23 | Time: 0m 19s\n",
      "Training Results - Average Loss: 0.6124 | auc/_mean: 0.9177 | auc/healthy: 0.9807 | auc/multiple_diseases: 0.7326, auc/rust: 0.9819, auc/scab: 0.9758\n",
      "Evaluating Results - Average Loss: 0.5520 | auc/_mean: 0.8999 | auc/healthy: 0.9909 | auc/multiple_diseases: 0.6238, auc/rust: 0.9949, auc/scab: 0.9899\n",
      "\n"
     ]
    },
    {
     "data": {
      "application/vnd.jupyter.widget-view+json": {
       "model_id": "0b95c4093128401492b83755fcd413b7",
       "version_major": 2,
       "version_minor": 0
      },
      "text/plain": [
       "HBox(children=(FloatProgress(value=0.0, description='Train', max=39.0, style=ProgressStyle(description_width='…"
      ]
     },
     "metadata": {},
     "output_type": "display_data"
    },
    {
     "name": "stdout",
     "output_type": "stream",
     "text": [
      "\n",
      "Epoch: 24 | Time: 0m 18s\n",
      "Training Results - Average Loss: 0.6206 | auc/_mean: 0.9144 | auc/healthy: 0.9762 | auc/multiple_diseases: 0.7220, auc/rust: 0.9840, auc/scab: 0.9752\n",
      "Evaluating Results - Average Loss: 0.5488 | auc/_mean: 0.9023 | auc/healthy: 0.9912 | auc/multiple_diseases: 0.6323, auc/rust: 0.9951, auc/scab: 0.9907\n",
      "\n"
     ]
    },
    {
     "data": {
      "application/vnd.jupyter.widget-view+json": {
       "model_id": "7bb74391b6594abd96c2306aea4c2dc2",
       "version_major": 2,
       "version_minor": 0
      },
      "text/plain": [
       "HBox(children=(FloatProgress(value=0.0, description='Train', max=39.0, style=ProgressStyle(description_width='…"
      ]
     },
     "metadata": {},
     "output_type": "display_data"
    },
    {
     "name": "stdout",
     "output_type": "stream",
     "text": [
      "\n",
      "Epoch: 25 | Time: 0m 18s\n",
      "Training Results - Average Loss: 0.6152 | auc/_mean: 0.9135 | auc/healthy: 0.9775 | auc/multiple_diseases: 0.7225, auc/rust: 0.9845, auc/scab: 0.9697\n",
      "Evaluating Results - Average Loss: 0.5460 | auc/_mean: 0.9039 | auc/healthy: 0.9916 | auc/multiple_diseases: 0.6375, auc/rust: 0.9953, auc/scab: 0.9912\n",
      "\n"
     ]
    },
    {
     "data": {
      "application/vnd.jupyter.widget-view+json": {
       "model_id": "4b5a40a79c4f4bacb622b1beddab2519",
       "version_major": 2,
       "version_minor": 0
      },
      "text/plain": [
       "HBox(children=(FloatProgress(value=0.0, description='Train', max=39.0, style=ProgressStyle(description_width='…"
      ]
     },
     "metadata": {},
     "output_type": "display_data"
    },
    {
     "name": "stdout",
     "output_type": "stream",
     "text": [
      "\n",
      "Epoch: 26 | Time: 0m 18s\n",
      "Training Results - Average Loss: 0.5963 | auc/_mean: 0.9194 | auc/healthy: 0.9823 | auc/multiple_diseases: 0.7259, auc/rust: 0.9867, auc/scab: 0.9827\n",
      "Evaluating Results - Average Loss: 0.5440 | auc/_mean: 0.9054 | auc/healthy: 0.9920 | auc/multiple_diseases: 0.6428, auc/rust: 0.9955, auc/scab: 0.9915\n",
      "\n"
     ]
    },
    {
     "data": {
      "application/vnd.jupyter.widget-view+json": {
       "model_id": "85d32412cf2f45358375fefc050d6cc8",
       "version_major": 2,
       "version_minor": 0
      },
      "text/plain": [
       "HBox(children=(FloatProgress(value=0.0, description='Train', max=39.0, style=ProgressStyle(description_width='…"
      ]
     },
     "metadata": {},
     "output_type": "display_data"
    },
    {
     "name": "stdout",
     "output_type": "stream",
     "text": [
      "\n",
      "Epoch: 27 | Time: 0m 18s\n",
      "Training Results - Average Loss: 0.6070 | auc/_mean: 0.9220 | auc/healthy: 0.9793 | auc/multiple_diseases: 0.7490, auc/rust: 0.9807, auc/scab: 0.9790\n",
      "Evaluating Results - Average Loss: 0.5418 | auc/_mean: 0.9069 | auc/healthy: 0.9925 | auc/multiple_diseases: 0.6476, auc/rust: 0.9957, auc/scab: 0.9918\n",
      "\n"
     ]
    },
    {
     "data": {
      "application/vnd.jupyter.widget-view+json": {
       "model_id": "a2220c8aff71445abe6ab5ee75c5c698",
       "version_major": 2,
       "version_minor": 0
      },
      "text/plain": [
       "HBox(children=(FloatProgress(value=0.0, description='Train', max=39.0, style=ProgressStyle(description_width='…"
      ]
     },
     "metadata": {},
     "output_type": "display_data"
    },
    {
     "name": "stdout",
     "output_type": "stream",
     "text": [
      "\n",
      "Epoch: 28 | Time: 0m 18s\n",
      "Training Results - Average Loss: 0.6016 | auc/_mean: 0.9276 | auc/healthy: 0.9868 | auc/multiple_diseases: 0.7607, auc/rust: 0.9834, auc/scab: 0.9794\n",
      "Evaluating Results - Average Loss: 0.5391 | auc/_mean: 0.9078 | auc/healthy: 0.9929 | auc/multiple_diseases: 0.6505, auc/rust: 0.9957, auc/scab: 0.9922\n",
      "\n"
     ]
    },
    {
     "data": {
      "application/vnd.jupyter.widget-view+json": {
       "model_id": "fcc4547abaf1409abe96b517922e4871",
       "version_major": 2,
       "version_minor": 0
      },
      "text/plain": [
       "HBox(children=(FloatProgress(value=0.0, description='Train', max=39.0, style=ProgressStyle(description_width='…"
      ]
     },
     "metadata": {},
     "output_type": "display_data"
    },
    {
     "name": "stdout",
     "output_type": "stream",
     "text": [
      "\n",
      "Epoch: 29 | Time: 0m 19s\n",
      "Training Results - Average Loss: 0.6129 | auc/_mean: 0.9251 | auc/healthy: 0.9808 | auc/multiple_diseases: 0.7523, auc/rust: 0.9849, auc/scab: 0.9825\n",
      "Evaluating Results - Average Loss: 0.5366 | auc/_mean: 0.9089 | auc/healthy: 0.9931 | auc/multiple_diseases: 0.6542, auc/rust: 0.9958, auc/scab: 0.9926\n",
      "\n"
     ]
    },
    {
     "data": {
      "application/vnd.jupyter.widget-view+json": {
       "model_id": "ff6cd17a2333437dae8e41d713a3c15a",
       "version_major": 2,
       "version_minor": 0
      },
      "text/plain": [
       "HBox(children=(FloatProgress(value=0.0, description='Train', max=39.0, style=ProgressStyle(description_width='…"
      ]
     },
     "metadata": {},
     "output_type": "display_data"
    },
    {
     "name": "stdout",
     "output_type": "stream",
     "text": [
      "\n",
      "Epoch: 30 | Time: 0m 18s\n",
      "Training Results - Average Loss: 0.5989 | auc/_mean: 0.9355 | auc/healthy: 0.9808 | auc/multiple_diseases: 0.7884, auc/rust: 0.9870, auc/scab: 0.9858\n",
      "Evaluating Results - Average Loss: 0.5347 | auc/_mean: 0.9100 | auc/healthy: 0.9933 | auc/multiple_diseases: 0.6578, auc/rust: 0.9958, auc/scab: 0.9929\n",
      "\n"
     ]
    },
    {
     "data": {
      "application/vnd.jupyter.widget-view+json": {
       "model_id": "65030419769f46349feb1adbf040a34a",
       "version_major": 2,
       "version_minor": 0
      },
      "text/plain": [
       "HBox(children=(FloatProgress(value=0.0, description='Train', max=39.0, style=ProgressStyle(description_width='…"
      ]
     },
     "metadata": {},
     "output_type": "display_data"
    },
    {
     "name": "stdout",
     "output_type": "stream",
     "text": [
      "\n",
      "Epoch: 31 | Time: 0m 18s\n",
      "Training Results - Average Loss: 0.5672 | auc/_mean: 0.9374 | auc/healthy: 0.9861 | auc/multiple_diseases: 0.7878, auc/rust: 0.9907, auc/scab: 0.9849\n",
      "Evaluating Results - Average Loss: 0.5320 | auc/_mean: 0.9125 | auc/healthy: 0.9935 | auc/multiple_diseases: 0.6676, auc/rust: 0.9958, auc/scab: 0.9931\n",
      "\n"
     ]
    },
    {
     "data": {
      "application/vnd.jupyter.widget-view+json": {
       "model_id": "011da02e7dd2408cbf7f53a9c77ae1eb",
       "version_major": 2,
       "version_minor": 0
      },
      "text/plain": [
       "HBox(children=(FloatProgress(value=0.0, description='Train', max=39.0, style=ProgressStyle(description_width='…"
      ]
     },
     "metadata": {},
     "output_type": "display_data"
    },
    {
     "name": "stdout",
     "output_type": "stream",
     "text": [
      "\n",
      "Epoch: 32 | Time: 0m 19s\n",
      "Training Results - Average Loss: 0.5704 | auc/_mean: 0.9229 | auc/healthy: 0.9870 | auc/multiple_diseases: 0.7329, auc/rust: 0.9891, auc/scab: 0.9826\n",
      "Evaluating Results - Average Loss: 0.5310 | auc/_mean: 0.9135 | auc/healthy: 0.9937 | auc/multiple_diseases: 0.6712, auc/rust: 0.9958, auc/scab: 0.9932\n",
      "\n"
     ]
    },
    {
     "data": {
      "application/vnd.jupyter.widget-view+json": {
       "model_id": "0f992a21a19d478db9c3fc66f97443d5",
       "version_major": 2,
       "version_minor": 0
      },
      "text/plain": [
       "HBox(children=(FloatProgress(value=0.0, description='Train', max=39.0, style=ProgressStyle(description_width='…"
      ]
     },
     "metadata": {},
     "output_type": "display_data"
    },
    {
     "name": "stdout",
     "output_type": "stream",
     "text": [
      "\n",
      "Epoch: 33 | Time: 0m 18s\n",
      "Training Results - Average Loss: 0.5857 | auc/_mean: 0.9332 | auc/healthy: 0.9865 | auc/multiple_diseases: 0.7755, auc/rust: 0.9880, auc/scab: 0.9828\n",
      "Evaluating Results - Average Loss: 0.5292 | auc/_mean: 0.9154 | auc/healthy: 0.9939 | auc/multiple_diseases: 0.6783, auc/rust: 0.9958, auc/scab: 0.9936\n",
      "\n"
     ]
    },
    {
     "data": {
      "application/vnd.jupyter.widget-view+json": {
       "model_id": "73cd887ec5674831b5113d1f486dd11c",
       "version_major": 2,
       "version_minor": 0
      },
      "text/plain": [
       "HBox(children=(FloatProgress(value=0.0, description='Train', max=39.0, style=ProgressStyle(description_width='…"
      ]
     },
     "metadata": {},
     "output_type": "display_data"
    },
    {
     "name": "stdout",
     "output_type": "stream",
     "text": [
      "\n",
      "Epoch: 34 | Time: 0m 18s\n",
      "Training Results - Average Loss: 0.5691 | auc/_mean: 0.9282 | auc/healthy: 0.9871 | auc/multiple_diseases: 0.7520, auc/rust: 0.9885, auc/scab: 0.9853\n",
      "Evaluating Results - Average Loss: 0.5268 | auc/_mean: 0.9173 | auc/healthy: 0.9941 | auc/multiple_diseases: 0.6855, auc/rust: 0.9960, auc/scab: 0.9938\n",
      "\n"
     ]
    },
    {
     "data": {
      "application/vnd.jupyter.widget-view+json": {
       "model_id": "2a5c5a664de84aed9e1375e9f677b34c",
       "version_major": 2,
       "version_minor": 0
      },
      "text/plain": [
       "HBox(children=(FloatProgress(value=0.0, description='Train', max=39.0, style=ProgressStyle(description_width='…"
      ]
     },
     "metadata": {},
     "output_type": "display_data"
    },
    {
     "name": "stdout",
     "output_type": "stream",
     "text": [
      "\n",
      "Epoch: 35 | Time: 0m 18s\n",
      "Training Results - Average Loss: 0.5838 | auc/_mean: 0.9341 | auc/healthy: 0.9861 | auc/multiple_diseases: 0.7820, auc/rust: 0.9854, auc/scab: 0.9831\n",
      "Evaluating Results - Average Loss: 0.5263 | auc/_mean: 0.9181 | auc/healthy: 0.9942 | auc/multiple_diseases: 0.6883, auc/rust: 0.9959, auc/scab: 0.9940\n",
      "\n"
     ]
    },
    {
     "data": {
      "application/vnd.jupyter.widget-view+json": {
       "model_id": "098d56eb1a9941478c990bb1fdbed79a",
       "version_major": 2,
       "version_minor": 0
      },
      "text/plain": [
       "HBox(children=(FloatProgress(value=0.0, description='Train', max=39.0, style=ProgressStyle(description_width='…"
      ]
     },
     "metadata": {},
     "output_type": "display_data"
    },
    {
     "name": "stdout",
     "output_type": "stream",
     "text": [
      "\n",
      "Epoch: 36 | Time: 0m 19s\n",
      "Training Results - Average Loss: 0.5850 | auc/_mean: 0.9393 | auc/healthy: 0.9845 | auc/multiple_diseases: 0.8054, auc/rust: 0.9828, auc/scab: 0.9844\n",
      "Evaluating Results - Average Loss: 0.5250 | auc/_mean: 0.9190 | auc/healthy: 0.9943 | auc/multiple_diseases: 0.6916, auc/rust: 0.9959, auc/scab: 0.9941\n",
      "\n"
     ]
    },
    {
     "data": {
      "application/vnd.jupyter.widget-view+json": {
       "model_id": "3e5240f56a0c46f49983075acf7ac6de",
       "version_major": 2,
       "version_minor": 0
      },
      "text/plain": [
       "HBox(children=(FloatProgress(value=0.0, description='Train', max=39.0, style=ProgressStyle(description_width='…"
      ]
     },
     "metadata": {},
     "output_type": "display_data"
    },
    {
     "name": "stdout",
     "output_type": "stream",
     "text": [
      "\n",
      "Epoch: 37 | Time: 0m 19s\n",
      "Training Results - Average Loss: 0.5816 | auc/_mean: 0.9362 | auc/healthy: 0.9882 | auc/multiple_diseases: 0.7868, auc/rust: 0.9839, auc/scab: 0.9857\n",
      "Evaluating Results - Average Loss: 0.5252 | auc/_mean: 0.9195 | auc/healthy: 0.9943 | auc/multiple_diseases: 0.6935, auc/rust: 0.9959, auc/scab: 0.9943\n",
      "\n"
     ]
    },
    {
     "data": {
      "application/vnd.jupyter.widget-view+json": {
       "model_id": "655c06eee1b54b69af57a650d23e0a60",
       "version_major": 2,
       "version_minor": 0
      },
      "text/plain": [
       "HBox(children=(FloatProgress(value=0.0, description='Train', max=39.0, style=ProgressStyle(description_width='…"
      ]
     },
     "metadata": {},
     "output_type": "display_data"
    },
    {
     "name": "stdout",
     "output_type": "stream",
     "text": [
      "\n",
      "Epoch: 38 | Time: 0m 19s\n",
      "Training Results - Average Loss: 0.5659 | auc/_mean: 0.9376 | auc/healthy: 0.9861 | auc/multiple_diseases: 0.7921, auc/rust: 0.9863, auc/scab: 0.9858\n",
      "Evaluating Results - Average Loss: 0.5233 | auc/_mean: 0.9212 | auc/healthy: 0.9943 | auc/multiple_diseases: 0.6999, auc/rust: 0.9958, auc/scab: 0.9946\n",
      "\n"
     ]
    },
    {
     "data": {
      "application/vnd.jupyter.widget-view+json": {
       "model_id": "74624b41e6544490a93403ada44c179a",
       "version_major": 2,
       "version_minor": 0
      },
      "text/plain": [
       "HBox(children=(FloatProgress(value=0.0, description='Train', max=39.0, style=ProgressStyle(description_width='…"
      ]
     },
     "metadata": {},
     "output_type": "display_data"
    },
    {
     "name": "stdout",
     "output_type": "stream",
     "text": [
      "\n",
      "Epoch: 39 | Time: 0m 18s\n",
      "Training Results - Average Loss: 0.5652 | auc/_mean: 0.9329 | auc/healthy: 0.9869 | auc/multiple_diseases: 0.7685, auc/rust: 0.9911, auc/scab: 0.9850\n",
      "Evaluating Results - Average Loss: 0.5214 | auc/_mean: 0.9231 | auc/healthy: 0.9947 | auc/multiple_diseases: 0.7072, auc/rust: 0.9959, auc/scab: 0.9946\n",
      "\n"
     ]
    },
    {
     "data": {
      "application/vnd.jupyter.widget-view+json": {
       "model_id": "ad46ea5cb3f3452da022abf9a88f1b3e",
       "version_major": 2,
       "version_minor": 0
      },
      "text/plain": [
       "HBox(children=(FloatProgress(value=0.0, description='Train', max=39.0, style=ProgressStyle(description_width='…"
      ]
     },
     "metadata": {},
     "output_type": "display_data"
    },
    {
     "name": "stdout",
     "output_type": "stream",
     "text": [
      "\n",
      "Epoch: 40 | Time: 0m 19s\n",
      "Training Results - Average Loss: 0.5593 | auc/_mean: 0.9386 | auc/healthy: 0.9890 | auc/multiple_diseases: 0.7924, auc/rust: 0.9909, auc/scab: 0.9820\n",
      "Evaluating Results - Average Loss: 0.5195 | auc/_mean: 0.9241 | auc/healthy: 0.9947 | auc/multiple_diseases: 0.7110, auc/rust: 0.9960, auc/scab: 0.9948\n",
      "\n"
     ]
    },
    {
     "data": {
      "application/vnd.jupyter.widget-view+json": {
       "model_id": "8172e803d9b94e6cbc6dd05be794ccac",
       "version_major": 2,
       "version_minor": 0
      },
      "text/plain": [
       "HBox(children=(FloatProgress(value=0.0, description='Train', max=39.0, style=ProgressStyle(description_width='…"
      ]
     },
     "metadata": {},
     "output_type": "display_data"
    },
    {
     "name": "stdout",
     "output_type": "stream",
     "text": [
      "\n",
      "Epoch: 41 | Time: 0m 18s\n",
      "Training Results - Average Loss: 0.5609 | auc/_mean: 0.9317 | auc/healthy: 0.9893 | auc/multiple_diseases: 0.7620, auc/rust: 0.9893, auc/scab: 0.9861\n",
      "Evaluating Results - Average Loss: 0.5182 | auc/_mean: 0.9256 | auc/healthy: 0.9948 | auc/multiple_diseases: 0.7167, auc/rust: 0.9961, auc/scab: 0.9948\n",
      "\n"
     ]
    },
    {
     "data": {
      "application/vnd.jupyter.widget-view+json": {
       "model_id": "70d5f4ce826049469279b446e8d7afb5",
       "version_major": 2,
       "version_minor": 0
      },
      "text/plain": [
       "HBox(children=(FloatProgress(value=0.0, description='Train', max=39.0, style=ProgressStyle(description_width='…"
      ]
     },
     "metadata": {},
     "output_type": "display_data"
    },
    {
     "name": "stdout",
     "output_type": "stream",
     "text": [
      "\n",
      "Epoch: 42 | Time: 0m 19s\n",
      "Training Results - Average Loss: 0.5511 | auc/_mean: 0.9424 | auc/healthy: 0.9919 | auc/multiple_diseases: 0.8001, auc/rust: 0.9896, auc/scab: 0.9879\n",
      "Evaluating Results - Average Loss: 0.5165 | auc/_mean: 0.9283 | auc/healthy: 0.9950 | auc/multiple_diseases: 0.7270, auc/rust: 0.9962, auc/scab: 0.9950\n",
      "\n"
     ]
    },
    {
     "data": {
      "application/vnd.jupyter.widget-view+json": {
       "model_id": "25e43124570940e19b38c49ddf4aef5a",
       "version_major": 2,
       "version_minor": 0
      },
      "text/plain": [
       "HBox(children=(FloatProgress(value=0.0, description='Train', max=39.0, style=ProgressStyle(description_width='…"
      ]
     },
     "metadata": {},
     "output_type": "display_data"
    },
    {
     "name": "stdout",
     "output_type": "stream",
     "text": [
      "\n",
      "Epoch: 43 | Time: 0m 18s\n",
      "Training Results - Average Loss: 0.5451 | auc/_mean: 0.9526 | auc/healthy: 0.9945 | auc/multiple_diseases: 0.8356, auc/rust: 0.9902, auc/scab: 0.9901\n",
      "Evaluating Results - Average Loss: 0.5163 | auc/_mean: 0.9287 | auc/healthy: 0.9952 | auc/multiple_diseases: 0.7283, auc/rust: 0.9961, auc/scab: 0.9952\n",
      "\n"
     ]
    },
    {
     "data": {
      "application/vnd.jupyter.widget-view+json": {
       "model_id": "4d4c0fdd995342efb229f3ad9ef72a36",
       "version_major": 2,
       "version_minor": 0
      },
      "text/plain": [
       "HBox(children=(FloatProgress(value=0.0, description='Train', max=39.0, style=ProgressStyle(description_width='…"
      ]
     },
     "metadata": {},
     "output_type": "display_data"
    },
    {
     "name": "stdout",
     "output_type": "stream",
     "text": [
      "\n",
      "Epoch: 44 | Time: 0m 19s\n",
      "Training Results - Average Loss: 0.5593 | auc/_mean: 0.9383 | auc/healthy: 0.9896 | auc/multiple_diseases: 0.7871, auc/rust: 0.9901, auc/scab: 0.9865\n",
      "Evaluating Results - Average Loss: 0.5170 | auc/_mean: 0.9320 | auc/healthy: 0.9952 | auc/multiple_diseases: 0.7416, auc/rust: 0.9963, auc/scab: 0.9951\n",
      "\n"
     ]
    },
    {
     "data": {
      "application/vnd.jupyter.widget-view+json": {
       "model_id": "31a31757b4cf49069343c094de21126b",
       "version_major": 2,
       "version_minor": 0
      },
      "text/plain": [
       "HBox(children=(FloatProgress(value=0.0, description='Train', max=39.0, style=ProgressStyle(description_width='…"
      ]
     },
     "metadata": {},
     "output_type": "display_data"
    },
    {
     "name": "stdout",
     "output_type": "stream",
     "text": [
      "\n",
      "Epoch: 45 | Time: 0m 19s\n",
      "Training Results - Average Loss: 0.5524 | auc/_mean: 0.9445 | auc/healthy: 0.9905 | auc/multiple_diseases: 0.8094, auc/rust: 0.9895, auc/scab: 0.9887\n",
      "Evaluating Results - Average Loss: 0.5140 | auc/_mean: 0.9335 | auc/healthy: 0.9953 | auc/multiple_diseases: 0.7471, auc/rust: 0.9964, auc/scab: 0.9951\n",
      "\n"
     ]
    },
    {
     "data": {
      "application/vnd.jupyter.widget-view+json": {
       "model_id": "7cf8e3d6d182496d9e7b6ee1ae4de3ec",
       "version_major": 2,
       "version_minor": 0
      },
      "text/plain": [
       "HBox(children=(FloatProgress(value=0.0, description='Train', max=39.0, style=ProgressStyle(description_width='…"
      ]
     },
     "metadata": {},
     "output_type": "display_data"
    },
    {
     "name": "stdout",
     "output_type": "stream",
     "text": [
      "\n",
      "Epoch: 46 | Time: 0m 18s\n",
      "Training Results - Average Loss: 0.5510 | auc/_mean: 0.9513 | auc/healthy: 0.9908 | auc/multiple_diseases: 0.8336, auc/rust: 0.9912, auc/scab: 0.9897\n",
      "Evaluating Results - Average Loss: 0.5125 | auc/_mean: 0.9346 | auc/healthy: 0.9954 | auc/multiple_diseases: 0.7514, auc/rust: 0.9965, auc/scab: 0.9952\n",
      "\n"
     ]
    },
    {
     "data": {
      "application/vnd.jupyter.widget-view+json": {
       "model_id": "bd814bfb40dd499fabe7606d1b8411e0",
       "version_major": 2,
       "version_minor": 0
      },
      "text/plain": [
       "HBox(children=(FloatProgress(value=0.0, description='Train', max=39.0, style=ProgressStyle(description_width='…"
      ]
     },
     "metadata": {},
     "output_type": "display_data"
    },
    {
     "name": "stdout",
     "output_type": "stream",
     "text": [
      "\n",
      "Epoch: 47 | Time: 0m 19s\n",
      "Training Results - Average Loss: 0.5292 | auc/_mean: 0.9524 | auc/healthy: 0.9933 | auc/multiple_diseases: 0.8348, auc/rust: 0.9913, auc/scab: 0.9901\n",
      "Evaluating Results - Average Loss: 0.5104 | auc/_mean: 0.9346 | auc/healthy: 0.9955 | auc/multiple_diseases: 0.7513, auc/rust: 0.9965, auc/scab: 0.9951\n",
      "\n"
     ]
    },
    {
     "data": {
      "application/vnd.jupyter.widget-view+json": {
       "model_id": "62522ea06136490aa6cdb33de81a7979",
       "version_major": 2,
       "version_minor": 0
      },
      "text/plain": [
       "HBox(children=(FloatProgress(value=0.0, description='Train', max=39.0, style=ProgressStyle(description_width='…"
      ]
     },
     "metadata": {},
     "output_type": "display_data"
    },
    {
     "name": "stdout",
     "output_type": "stream",
     "text": [
      "\n",
      "Epoch: 48 | Time: 0m 19s\n",
      "Training Results - Average Loss: 0.5541 | auc/_mean: 0.9543 | auc/healthy: 0.9922 | auc/multiple_diseases: 0.8461, auc/rust: 0.9907, auc/scab: 0.9883\n",
      "Evaluating Results - Average Loss: 0.5095 | auc/_mean: 0.9363 | auc/healthy: 0.9956 | auc/multiple_diseases: 0.7579, auc/rust: 0.9964, auc/scab: 0.9952\n",
      "\n"
     ]
    },
    {
     "data": {
      "application/vnd.jupyter.widget-view+json": {
       "model_id": "ffa5f45c11a0448795eed984b4622b0c",
       "version_major": 2,
       "version_minor": 0
      },
      "text/plain": [
       "HBox(children=(FloatProgress(value=0.0, description='Train', max=39.0, style=ProgressStyle(description_width='…"
      ]
     },
     "metadata": {},
     "output_type": "display_data"
    },
    {
     "name": "stdout",
     "output_type": "stream",
     "text": [
      "\n",
      "Epoch: 49 | Time: 0m 19s\n",
      "Training Results - Average Loss: 0.5304 | auc/_mean: 0.9577 | auc/healthy: 0.9928 | auc/multiple_diseases: 0.8548, auc/rust: 0.9932, auc/scab: 0.9902\n",
      "Evaluating Results - Average Loss: 0.5132 | auc/_mean: 0.9381 | auc/healthy: 0.9956 | auc/multiple_diseases: 0.7651, auc/rust: 0.9963, auc/scab: 0.9952\n",
      "\n"
     ]
    },
    {
     "data": {
      "application/vnd.jupyter.widget-view+json": {
       "model_id": "9eb5e0bfcbe3441d8104bbb38af55a7b",
       "version_major": 2,
       "version_minor": 0
      },
      "text/plain": [
       "HBox(children=(FloatProgress(value=0.0, description='Train', max=39.0, style=ProgressStyle(description_width='…"
      ]
     },
     "metadata": {},
     "output_type": "display_data"
    },
    {
     "name": "stdout",
     "output_type": "stream",
     "text": [
      "\n",
      "Epoch: 50 | Time: 0m 18s\n",
      "Training Results - Average Loss: 0.5247 | auc/_mean: 0.9531 | auc/healthy: 0.9932 | auc/multiple_diseases: 0.8355, auc/rust: 0.9934, auc/scab: 0.9903\n",
      "Evaluating Results - Average Loss: 0.5102 | auc/_mean: 0.9391 | auc/healthy: 0.9956 | auc/multiple_diseases: 0.7690, auc/rust: 0.9965, auc/scab: 0.9954\n",
      "\n"
     ]
    },
    {
     "data": {
      "application/vnd.jupyter.widget-view+json": {
       "model_id": "8c3ac7c47e32435e8f1f86a30cb6d7e2",
       "version_major": 2,
       "version_minor": 0
      },
      "text/plain": [
       "HBox(children=(FloatProgress(value=0.0, description='Train', max=39.0, style=ProgressStyle(description_width='…"
      ]
     },
     "metadata": {},
     "output_type": "display_data"
    },
    {
     "name": "stdout",
     "output_type": "stream",
     "text": [
      "\n",
      "Epoch: 51 | Time: 0m 19s\n",
      "Training Results - Average Loss: 0.5358 | auc/_mean: 0.9549 | auc/healthy: 0.9938 | auc/multiple_diseases: 0.8456, auc/rust: 0.9906, auc/scab: 0.9897\n",
      "Evaluating Results - Average Loss: 0.5093 | auc/_mean: 0.9406 | auc/healthy: 0.9957 | auc/multiple_diseases: 0.7748, auc/rust: 0.9964, auc/scab: 0.9954\n",
      "\n"
     ]
    },
    {
     "data": {
      "application/vnd.jupyter.widget-view+json": {
       "model_id": "fbf0459780824b24bb29262bddfa1cb1",
       "version_major": 2,
       "version_minor": 0
      },
      "text/plain": [
       "HBox(children=(FloatProgress(value=0.0, description='Train', max=39.0, style=ProgressStyle(description_width='…"
      ]
     },
     "metadata": {},
     "output_type": "display_data"
    },
    {
     "name": "stdout",
     "output_type": "stream",
     "text": [
      "\n",
      "Epoch: 52 | Time: 0m 18s\n",
      "Training Results - Average Loss: 0.5353 | auc/_mean: 0.9515 | auc/healthy: 0.9913 | auc/multiple_diseases: 0.8344, auc/rust: 0.9907, auc/scab: 0.9894\n",
      "Evaluating Results - Average Loss: 0.5091 | auc/_mean: 0.9419 | auc/healthy: 0.9957 | auc/multiple_diseases: 0.7797, auc/rust: 0.9966, auc/scab: 0.9955\n",
      "\n"
     ]
    },
    {
     "data": {
      "application/vnd.jupyter.widget-view+json": {
       "model_id": "7d9e838d68ab4b23b57fade8d4bb317e",
       "version_major": 2,
       "version_minor": 0
      },
      "text/plain": [
       "HBox(children=(FloatProgress(value=0.0, description='Train', max=39.0, style=ProgressStyle(description_width='…"
      ]
     },
     "metadata": {},
     "output_type": "display_data"
    },
    {
     "name": "stdout",
     "output_type": "stream",
     "text": [
      "\n",
      "Epoch: 53 | Time: 0m 19s\n",
      "Training Results - Average Loss: 0.5233 | auc/_mean: 0.9604 | auc/healthy: 0.9930 | auc/multiple_diseases: 0.8654, auc/rust: 0.9927, auc/scab: 0.9904\n",
      "Evaluating Results - Average Loss: 0.5092 | auc/_mean: 0.9426 | auc/healthy: 0.9959 | auc/multiple_diseases: 0.7824, auc/rust: 0.9966, auc/scab: 0.9954\n",
      "\n"
     ]
    },
    {
     "data": {
      "application/vnd.jupyter.widget-view+json": {
       "model_id": "25c4a9fe964a4ae68787988130b05ab0",
       "version_major": 2,
       "version_minor": 0
      },
      "text/plain": [
       "HBox(children=(FloatProgress(value=0.0, description='Train', max=39.0, style=ProgressStyle(description_width='…"
      ]
     },
     "metadata": {},
     "output_type": "display_data"
    },
    {
     "name": "stdout",
     "output_type": "stream",
     "text": [
      "\n",
      "Epoch: 54 | Time: 0m 18s\n",
      "Training Results - Average Loss: 0.5415 | auc/_mean: 0.9571 | auc/healthy: 0.9938 | auc/multiple_diseases: 0.8504, auc/rust: 0.9925, auc/scab: 0.9918\n",
      "Evaluating Results - Average Loss: 0.5067 | auc/_mean: 0.9441 | auc/healthy: 0.9959 | auc/multiple_diseases: 0.7883, auc/rust: 0.9966, auc/scab: 0.9956\n",
      "\n"
     ]
    },
    {
     "data": {
      "application/vnd.jupyter.widget-view+json": {
       "model_id": "261bddf22cdd4a7ebcd7cf951f0f836c",
       "version_major": 2,
       "version_minor": 0
      },
      "text/plain": [
       "HBox(children=(FloatProgress(value=0.0, description='Train', max=39.0, style=ProgressStyle(description_width='…"
      ]
     },
     "metadata": {},
     "output_type": "display_data"
    },
    {
     "name": "stdout",
     "output_type": "stream",
     "text": [
      "\n",
      "Epoch: 55 | Time: 0m 19s\n",
      "Training Results - Average Loss: 0.5240 | auc/_mean: 0.9617 | auc/healthy: 0.9954 | auc/multiple_diseases: 0.8702, auc/rust: 0.9913, auc/scab: 0.9897\n",
      "Evaluating Results - Average Loss: 0.5061 | auc/_mean: 0.9440 | auc/healthy: 0.9959 | auc/multiple_diseases: 0.7881, auc/rust: 0.9966, auc/scab: 0.9955\n",
      "\n"
     ]
    },
    {
     "data": {
      "application/vnd.jupyter.widget-view+json": {
       "model_id": "4b4294ddb4284807a8a2f4805d521330",
       "version_major": 2,
       "version_minor": 0
      },
      "text/plain": [
       "HBox(children=(FloatProgress(value=0.0, description='Train', max=39.0, style=ProgressStyle(description_width='…"
      ]
     },
     "metadata": {},
     "output_type": "display_data"
    },
    {
     "name": "stdout",
     "output_type": "stream",
     "text": [
      "\n",
      "Epoch: 56 | Time: 0m 18s\n",
      "Training Results - Average Loss: 0.5288 | auc/_mean: 0.9636 | auc/healthy: 0.9934 | auc/multiple_diseases: 0.8767, auc/rust: 0.9928, auc/scab: 0.9914\n",
      "Evaluating Results - Average Loss: 0.5058 | auc/_mean: 0.9441 | auc/healthy: 0.9960 | auc/multiple_diseases: 0.7880, auc/rust: 0.9966, auc/scab: 0.9956\n",
      "\n"
     ]
    },
    {
     "data": {
      "application/vnd.jupyter.widget-view+json": {
       "model_id": "468b2245f99c4a7cb676bdc1f72c349d",
       "version_major": 2,
       "version_minor": 0
      },
      "text/plain": [
       "HBox(children=(FloatProgress(value=0.0, description='Train', max=39.0, style=ProgressStyle(description_width='…"
      ]
     },
     "metadata": {},
     "output_type": "display_data"
    },
    {
     "name": "stdout",
     "output_type": "stream",
     "text": [
      "\n",
      "Epoch: 57 | Time: 0m 18s\n",
      "Training Results - Average Loss: 0.5365 | auc/_mean: 0.9607 | auc/healthy: 0.9942 | auc/multiple_diseases: 0.8672, auc/rust: 0.9899, auc/scab: 0.9914\n",
      "Evaluating Results - Average Loss: 0.5081 | auc/_mean: 0.9447 | auc/healthy: 0.9959 | auc/multiple_diseases: 0.7910, auc/rust: 0.9964, auc/scab: 0.9955\n",
      "\n"
     ]
    },
    {
     "data": {
      "application/vnd.jupyter.widget-view+json": {
       "model_id": "75900ca8b64848e0b244c81a8457f192",
       "version_major": 2,
       "version_minor": 0
      },
      "text/plain": [
       "HBox(children=(FloatProgress(value=0.0, description='Train', max=39.0, style=ProgressStyle(description_width='…"
      ]
     },
     "metadata": {},
     "output_type": "display_data"
    },
    {
     "name": "stdout",
     "output_type": "stream",
     "text": [
      "\n",
      "Epoch: 58 | Time: 0m 18s\n",
      "Training Results - Average Loss: 0.5192 | auc/_mean: 0.9621 | auc/healthy: 0.9926 | auc/multiple_diseases: 0.8712, auc/rust: 0.9910, auc/scab: 0.9935\n",
      "Evaluating Results - Average Loss: 0.5060 | auc/_mean: 0.9464 | auc/healthy: 0.9960 | auc/multiple_diseases: 0.7977, auc/rust: 0.9966, auc/scab: 0.9955\n",
      "\n"
     ]
    },
    {
     "data": {
      "application/vnd.jupyter.widget-view+json": {
       "model_id": "105dc0b272ac4788a3879dad57c98edd",
       "version_major": 2,
       "version_minor": 0
      },
      "text/plain": [
       "HBox(children=(FloatProgress(value=0.0, description='Train', max=39.0, style=ProgressStyle(description_width='…"
      ]
     },
     "metadata": {},
     "output_type": "display_data"
    },
    {
     "name": "stdout",
     "output_type": "stream",
     "text": [
      "\n",
      "Epoch: 59 | Time: 0m 18s\n",
      "Training Results - Average Loss: 0.5141 | auc/_mean: 0.9615 | auc/healthy: 0.9924 | auc/multiple_diseases: 0.8673, auc/rust: 0.9934, auc/scab: 0.9927\n",
      "Evaluating Results - Average Loss: 0.5033 | auc/_mean: 0.9473 | auc/healthy: 0.9960 | auc/multiple_diseases: 0.8010, auc/rust: 0.9967, auc/scab: 0.9955\n",
      "\n"
     ]
    },
    {
     "data": {
      "application/vnd.jupyter.widget-view+json": {
       "model_id": "2722b4e99bc745beadb0092656775618",
       "version_major": 2,
       "version_minor": 0
      },
      "text/plain": [
       "HBox(children=(FloatProgress(value=0.0, description='Train', max=39.0, style=ProgressStyle(description_width='…"
      ]
     },
     "metadata": {},
     "output_type": "display_data"
    },
    {
     "name": "stdout",
     "output_type": "stream",
     "text": [
      "\n",
      "Epoch: 60 | Time: 0m 18s\n",
      "Training Results - Average Loss: 0.5077 | auc/_mean: 0.9625 | auc/healthy: 0.9937 | auc/multiple_diseases: 0.8703, auc/rust: 0.9934, auc/scab: 0.9925\n",
      "Evaluating Results - Average Loss: 0.5026 | auc/_mean: 0.9485 | auc/healthy: 0.9961 | auc/multiple_diseases: 0.8057, auc/rust: 0.9966, auc/scab: 0.9956\n",
      "\n"
     ]
    },
    {
     "data": {
      "application/vnd.jupyter.widget-view+json": {
       "model_id": "0e7f17d8e22b4155b12210273215c73f",
       "version_major": 2,
       "version_minor": 0
      },
      "text/plain": [
       "HBox(children=(FloatProgress(value=0.0, description='Train', max=39.0, style=ProgressStyle(description_width='…"
      ]
     },
     "metadata": {},
     "output_type": "display_data"
    },
    {
     "name": "stdout",
     "output_type": "stream",
     "text": [
      "\n",
      "Epoch: 61 | Time: 0m 19s\n",
      "Training Results - Average Loss: 0.5295 | auc/_mean: 0.9524 | auc/healthy: 0.9938 | auc/multiple_diseases: 0.8328, auc/rust: 0.9924, auc/scab: 0.9906\n",
      "Evaluating Results - Average Loss: 0.5007 | auc/_mean: 0.9492 | auc/healthy: 0.9961 | auc/multiple_diseases: 0.8081, auc/rust: 0.9966, auc/scab: 0.9958\n",
      "\n"
     ]
    },
    {
     "data": {
      "application/vnd.jupyter.widget-view+json": {
       "model_id": "3b73d16a66ba4e77b24d32a9a3a1c4ba",
       "version_major": 2,
       "version_minor": 0
      },
      "text/plain": [
       "HBox(children=(FloatProgress(value=0.0, description='Train', max=39.0, style=ProgressStyle(description_width='…"
      ]
     },
     "metadata": {},
     "output_type": "display_data"
    },
    {
     "name": "stdout",
     "output_type": "stream",
     "text": [
      "\n",
      "Epoch: 62 | Time: 0m 19s\n",
      "Training Results - Average Loss: 0.5285 | auc/_mean: 0.9653 | auc/healthy: 0.9937 | auc/multiple_diseases: 0.8843, auc/rust: 0.9921, auc/scab: 0.9909\n",
      "Evaluating Results - Average Loss: 0.4999 | auc/_mean: 0.9501 | auc/healthy: 0.9961 | auc/multiple_diseases: 0.8120, auc/rust: 0.9966, auc/scab: 0.9959\n",
      "\n"
     ]
    },
    {
     "data": {
      "application/vnd.jupyter.widget-view+json": {
       "model_id": "a8677df4c90141fa921e72e20111c316",
       "version_major": 2,
       "version_minor": 0
      },
      "text/plain": [
       "HBox(children=(FloatProgress(value=0.0, description='Train', max=39.0, style=ProgressStyle(description_width='…"
      ]
     },
     "metadata": {},
     "output_type": "display_data"
    },
    {
     "name": "stdout",
     "output_type": "stream",
     "text": [
      "\n",
      "Epoch: 63 | Time: 0m 18s\n",
      "Training Results - Average Loss: 0.5240 | auc/_mean: 0.9628 | auc/healthy: 0.9933 | auc/multiple_diseases: 0.8749, auc/rust: 0.9939, auc/scab: 0.9893\n",
      "Evaluating Results - Average Loss: 0.4991 | auc/_mean: 0.9514 | auc/healthy: 0.9962 | auc/multiple_diseases: 0.8169, auc/rust: 0.9967, auc/scab: 0.9959\n",
      "\n"
     ]
    },
    {
     "data": {
      "application/vnd.jupyter.widget-view+json": {
       "model_id": "1009a96411ab4c7f8057e7ec84009f93",
       "version_major": 2,
       "version_minor": 0
      },
      "text/plain": [
       "HBox(children=(FloatProgress(value=0.0, description='Train', max=39.0, style=ProgressStyle(description_width='…"
      ]
     },
     "metadata": {},
     "output_type": "display_data"
    },
    {
     "name": "stdout",
     "output_type": "stream",
     "text": [
      "\n",
      "Epoch: 64 | Time: 0m 19s\n",
      "Training Results - Average Loss: 0.5126 | auc/_mean: 0.9626 | auc/healthy: 0.9929 | auc/multiple_diseases: 0.8719, auc/rust: 0.9939, auc/scab: 0.9919\n",
      "Evaluating Results - Average Loss: 0.4983 | auc/_mean: 0.9532 | auc/healthy: 0.9964 | auc/multiple_diseases: 0.8237, auc/rust: 0.9969, auc/scab: 0.9959\n",
      "\n"
     ]
    },
    {
     "data": {
      "application/vnd.jupyter.widget-view+json": {
       "model_id": "86001686c45441609a3d00d23225d6fa",
       "version_major": 2,
       "version_minor": 0
      },
      "text/plain": [
       "HBox(children=(FloatProgress(value=0.0, description='Train', max=39.0, style=ProgressStyle(description_width='…"
      ]
     },
     "metadata": {},
     "output_type": "display_data"
    },
    {
     "name": "stdout",
     "output_type": "stream",
     "text": [
      "\n",
      "Epoch: 65 | Time: 0m 19s\n",
      "Training Results - Average Loss: 0.4980 | auc/_mean: 0.9710 | auc/healthy: 0.9944 | auc/multiple_diseases: 0.9020, auc/rust: 0.9957, auc/scab: 0.9918\n",
      "Evaluating Results - Average Loss: 0.4961 | auc/_mean: 0.9540 | auc/healthy: 0.9965 | auc/multiple_diseases: 0.8269, auc/rust: 0.9969, auc/scab: 0.9960\n",
      "\n"
     ]
    },
    {
     "data": {
      "application/vnd.jupyter.widget-view+json": {
       "model_id": "7ea22e0adcff444baac882ba7e8ee2b0",
       "version_major": 2,
       "version_minor": 0
      },
      "text/plain": [
       "HBox(children=(FloatProgress(value=0.0, description='Train', max=39.0, style=ProgressStyle(description_width='…"
      ]
     },
     "metadata": {},
     "output_type": "display_data"
    },
    {
     "name": "stdout",
     "output_type": "stream",
     "text": [
      "\n",
      "Epoch: 66 | Time: 0m 19s\n",
      "Training Results - Average Loss: 0.5069 | auc/_mean: 0.9680 | auc/healthy: 0.9911 | auc/multiple_diseases: 0.8923, auc/rust: 0.9932, auc/scab: 0.9954\n",
      "Evaluating Results - Average Loss: 0.4962 | auc/_mean: 0.9552 | auc/healthy: 0.9965 | auc/multiple_diseases: 0.8316, auc/rust: 0.9969, auc/scab: 0.9959\n",
      "\n"
     ]
    },
    {
     "data": {
      "application/vnd.jupyter.widget-view+json": {
       "model_id": "dd7550240a514e4ba3682cbee537edac",
       "version_major": 2,
       "version_minor": 0
      },
      "text/plain": [
       "HBox(children=(FloatProgress(value=0.0, description='Train', max=39.0, style=ProgressStyle(description_width='…"
      ]
     },
     "metadata": {},
     "output_type": "display_data"
    },
    {
     "name": "stdout",
     "output_type": "stream",
     "text": [
      "\n",
      "Epoch: 67 | Time: 0m 19s\n",
      "Training Results - Average Loss: 0.5148 | auc/_mean: 0.9686 | auc/healthy: 0.9970 | auc/multiple_diseases: 0.8900, auc/rust: 0.9952, auc/scab: 0.9924\n",
      "Evaluating Results - Average Loss: 0.4945 | auc/_mean: 0.9555 | auc/healthy: 0.9966 | auc/multiple_diseases: 0.8325, auc/rust: 0.9969, auc/scab: 0.9958\n",
      "\n"
     ]
    },
    {
     "data": {
      "application/vnd.jupyter.widget-view+json": {
       "model_id": "435aa7177e4246fd88c728d6a8f38f0f",
       "version_major": 2,
       "version_minor": 0
      },
      "text/plain": [
       "HBox(children=(FloatProgress(value=0.0, description='Train', max=39.0, style=ProgressStyle(description_width='…"
      ]
     },
     "metadata": {},
     "output_type": "display_data"
    },
    {
     "name": "stdout",
     "output_type": "stream",
     "text": [
      "\n",
      "Epoch: 68 | Time: 0m 18s\n",
      "Training Results - Average Loss: 0.5171 | auc/_mean: 0.9684 | auc/healthy: 0.9913 | auc/multiple_diseases: 0.8934, auc/rust: 0.9952, auc/scab: 0.9935\n",
      "Evaluating Results - Average Loss: 0.4955 | auc/_mean: 0.9559 | auc/healthy: 0.9967 | auc/multiple_diseases: 0.8342, auc/rust: 0.9969, auc/scab: 0.9958\n",
      "\n"
     ]
    },
    {
     "data": {
      "application/vnd.jupyter.widget-view+json": {
       "model_id": "9bcacdff35384a029d34cc405cfb5403",
       "version_major": 2,
       "version_minor": 0
      },
      "text/plain": [
       "HBox(children=(FloatProgress(value=0.0, description='Train', max=39.0, style=ProgressStyle(description_width='…"
      ]
     },
     "metadata": {},
     "output_type": "display_data"
    },
    {
     "name": "stdout",
     "output_type": "stream",
     "text": [
      "\n",
      "Epoch: 69 | Time: 0m 19s\n",
      "Training Results - Average Loss: 0.5138 | auc/_mean: 0.9663 | auc/healthy: 0.9951 | auc/multiple_diseases: 0.8829, auc/rust: 0.9935, auc/scab: 0.9936\n",
      "Evaluating Results - Average Loss: 0.4936 | auc/_mean: 0.9561 | auc/healthy: 0.9966 | auc/multiple_diseases: 0.8352, auc/rust: 0.9970, auc/scab: 0.9958\n",
      "\n"
     ]
    },
    {
     "data": {
      "application/vnd.jupyter.widget-view+json": {
       "model_id": "7adc825fdb754f0a8aeb92d44ea18f5a",
       "version_major": 2,
       "version_minor": 0
      },
      "text/plain": [
       "HBox(children=(FloatProgress(value=0.0, description='Train', max=39.0, style=ProgressStyle(description_width='…"
      ]
     },
     "metadata": {},
     "output_type": "display_data"
    },
    {
     "name": "stdout",
     "output_type": "stream",
     "text": [
      "\n",
      "Epoch: 70 | Time: 0m 19s\n",
      "Training Results - Average Loss: 0.4970 | auc/_mean: 0.9720 | auc/healthy: 0.9967 | auc/multiple_diseases: 0.9038, auc/rust: 0.9958, auc/scab: 0.9917\n",
      "Evaluating Results - Average Loss: 0.4940 | auc/_mean: 0.9573 | auc/healthy: 0.9966 | auc/multiple_diseases: 0.8398, auc/rust: 0.9969, auc/scab: 0.9958\n",
      "\n"
     ]
    },
    {
     "data": {
      "application/vnd.jupyter.widget-view+json": {
       "model_id": "6a6d020c67d04adbb1f2489165f16f36",
       "version_major": 2,
       "version_minor": 0
      },
      "text/plain": [
       "HBox(children=(FloatProgress(value=0.0, description='Train', max=39.0, style=ProgressStyle(description_width='…"
      ]
     },
     "metadata": {},
     "output_type": "display_data"
    },
    {
     "name": "stdout",
     "output_type": "stream",
     "text": [
      "\n",
      "Epoch: 71 | Time: 0m 19s\n",
      "Training Results - Average Loss: 0.4954 | auc/_mean: 0.9733 | auc/healthy: 0.9950 | auc/multiple_diseases: 0.9075, auc/rust: 0.9963, auc/scab: 0.9943\n",
      "Evaluating Results - Average Loss: 0.4931 | auc/_mean: 0.9588 | auc/healthy: 0.9966 | auc/multiple_diseases: 0.8459, auc/rust: 0.9968, auc/scab: 0.9959\n",
      "\n"
     ]
    },
    {
     "data": {
      "application/vnd.jupyter.widget-view+json": {
       "model_id": "db972f89188f43e8bf7610e5c286f37c",
       "version_major": 2,
       "version_minor": 0
      },
      "text/plain": [
       "HBox(children=(FloatProgress(value=0.0, description='Train', max=39.0, style=ProgressStyle(description_width='…"
      ]
     },
     "metadata": {},
     "output_type": "display_data"
    },
    {
     "name": "stdout",
     "output_type": "stream",
     "text": [
      "\n",
      "Epoch: 72 | Time: 0m 18s\n",
      "Training Results - Average Loss: 0.4949 | auc/_mean: 0.9690 | auc/healthy: 0.9973 | auc/multiple_diseases: 0.8931, auc/rust: 0.9930, auc/scab: 0.9924\n",
      "Evaluating Results - Average Loss: 0.4938 | auc/_mean: 0.9604 | auc/healthy: 0.9966 | auc/multiple_diseases: 0.8525, auc/rust: 0.9968, auc/scab: 0.9959\n",
      "\n"
     ]
    },
    {
     "data": {
      "application/vnd.jupyter.widget-view+json": {
       "model_id": "23547cf5189044df81ccdd0bdf8d31e3",
       "version_major": 2,
       "version_minor": 0
      },
      "text/plain": [
       "HBox(children=(FloatProgress(value=0.0, description='Train', max=39.0, style=ProgressStyle(description_width='…"
      ]
     },
     "metadata": {},
     "output_type": "display_data"
    },
    {
     "name": "stdout",
     "output_type": "stream",
     "text": [
      "\n",
      "Epoch: 73 | Time: 0m 19s\n",
      "Training Results - Average Loss: 0.5072 | auc/_mean: 0.9697 | auc/healthy: 0.9964 | auc/multiple_diseases: 0.8946, auc/rust: 0.9950, auc/scab: 0.9927\n",
      "Evaluating Results - Average Loss: 0.4919 | auc/_mean: 0.9606 | auc/healthy: 0.9966 | auc/multiple_diseases: 0.8530, auc/rust: 0.9969, auc/scab: 0.9958\n",
      "\n"
     ]
    },
    {
     "data": {
      "application/vnd.jupyter.widget-view+json": {
       "model_id": "e9107a604af948a7a59119365c7a856a",
       "version_major": 2,
       "version_minor": 0
      },
      "text/plain": [
       "HBox(children=(FloatProgress(value=0.0, description='Train', max=39.0, style=ProgressStyle(description_width='…"
      ]
     },
     "metadata": {},
     "output_type": "display_data"
    },
    {
     "name": "stdout",
     "output_type": "stream",
     "text": [
      "\n",
      "Epoch: 74 | Time: 0m 18s\n",
      "Training Results - Average Loss: 0.4905 | auc/_mean: 0.9716 | auc/healthy: 0.9970 | auc/multiple_diseases: 0.9008, auc/rust: 0.9961, auc/scab: 0.9924\n",
      "Evaluating Results - Average Loss: 0.4914 | auc/_mean: 0.9623 | auc/healthy: 0.9967 | auc/multiple_diseases: 0.8597, auc/rust: 0.9968, auc/scab: 0.9959\n",
      "\n"
     ]
    },
    {
     "data": {
      "application/vnd.jupyter.widget-view+json": {
       "model_id": "cefbbabee1624e3b97662fc0b1c9ade6",
       "version_major": 2,
       "version_minor": 0
      },
      "text/plain": [
       "HBox(children=(FloatProgress(value=0.0, description='Train', max=39.0, style=ProgressStyle(description_width='…"
      ]
     },
     "metadata": {},
     "output_type": "display_data"
    },
    {
     "name": "stdout",
     "output_type": "stream",
     "text": [
      "\n",
      "Epoch: 75 | Time: 0m 19s\n",
      "Training Results - Average Loss: 0.4957 | auc/_mean: 0.9774 | auc/healthy: 0.9948 | auc/multiple_diseases: 0.9296, auc/rust: 0.9925, auc/scab: 0.9926\n",
      "Evaluating Results - Average Loss: 0.4909 | auc/_mean: 0.9625 | auc/healthy: 0.9967 | auc/multiple_diseases: 0.8607, auc/rust: 0.9967, auc/scab: 0.9959\n",
      "\n"
     ]
    },
    {
     "data": {
      "application/vnd.jupyter.widget-view+json": {
       "model_id": "099dc445b3df4a6ab5cd9f756c87edba",
       "version_major": 2,
       "version_minor": 0
      },
      "text/plain": [
       "HBox(children=(FloatProgress(value=0.0, description='Train', max=39.0, style=ProgressStyle(description_width='…"
      ]
     },
     "metadata": {},
     "output_type": "display_data"
    },
    {
     "name": "stdout",
     "output_type": "stream",
     "text": [
      "\n",
      "Epoch: 76 | Time: 0m 19s\n",
      "Training Results - Average Loss: 0.4932 | auc/_mean: 0.9785 | auc/healthy: 0.9968 | auc/multiple_diseases: 0.9335, auc/rust: 0.9923, auc/scab: 0.9916\n",
      "Evaluating Results - Average Loss: 0.4894 | auc/_mean: 0.9627 | auc/healthy: 0.9967 | auc/multiple_diseases: 0.8614, auc/rust: 0.9967, auc/scab: 0.9960\n",
      "\n"
     ]
    },
    {
     "data": {
      "application/vnd.jupyter.widget-view+json": {
       "model_id": "533966039d7a48f5a87621b49d03e6ff",
       "version_major": 2,
       "version_minor": 0
      },
      "text/plain": [
       "HBox(children=(FloatProgress(value=0.0, description='Train', max=39.0, style=ProgressStyle(description_width='…"
      ]
     },
     "metadata": {},
     "output_type": "display_data"
    },
    {
     "name": "stdout",
     "output_type": "stream",
     "text": [
      "\n",
      "Epoch: 77 | Time: 0m 19s\n",
      "Training Results - Average Loss: 0.4900 | auc/_mean: 0.9813 | auc/healthy: 0.9957 | auc/multiple_diseases: 0.9397, auc/rust: 0.9952, auc/scab: 0.9947\n",
      "Evaluating Results - Average Loss: 0.4888 | auc/_mean: 0.9646 | auc/healthy: 0.9968 | auc/multiple_diseases: 0.8689, auc/rust: 0.9967, auc/scab: 0.9960\n",
      "\n"
     ]
    },
    {
     "data": {
      "application/vnd.jupyter.widget-view+json": {
       "model_id": "ac9f0c256f574f8691db09dfc3986dc7",
       "version_major": 2,
       "version_minor": 0
      },
      "text/plain": [
       "HBox(children=(FloatProgress(value=0.0, description='Train', max=39.0, style=ProgressStyle(description_width='…"
      ]
     },
     "metadata": {},
     "output_type": "display_data"
    },
    {
     "name": "stdout",
     "output_type": "stream",
     "text": [
      "\n",
      "Epoch: 78 | Time: 0m 20s\n",
      "Training Results - Average Loss: 0.4981 | auc/_mean: 0.9775 | auc/healthy: 0.9956 | auc/multiple_diseases: 0.9265, auc/rust: 0.9937, auc/scab: 0.9942\n",
      "Evaluating Results - Average Loss: 0.4882 | auc/_mean: 0.9645 | auc/healthy: 0.9969 | auc/multiple_diseases: 0.8682, auc/rust: 0.9968, auc/scab: 0.9958\n",
      "\n"
     ]
    },
    {
     "data": {
      "application/vnd.jupyter.widget-view+json": {
       "model_id": "a31459e4b80844b49203a2f601b69455",
       "version_major": 2,
       "version_minor": 0
      },
      "text/plain": [
       "HBox(children=(FloatProgress(value=0.0, description='Train', max=39.0, style=ProgressStyle(description_width='…"
      ]
     },
     "metadata": {},
     "output_type": "display_data"
    },
    {
     "name": "stdout",
     "output_type": "stream",
     "text": [
      "\n",
      "Epoch: 79 | Time: 0m 19s\n",
      "Training Results - Average Loss: 0.4906 | auc/_mean: 0.9713 | auc/healthy: 0.9982 | auc/multiple_diseases: 0.8964, auc/rust: 0.9954, auc/scab: 0.9951\n",
      "Evaluating Results - Average Loss: 0.4866 | auc/_mean: 0.9649 | auc/healthy: 0.9968 | auc/multiple_diseases: 0.8699, auc/rust: 0.9970, auc/scab: 0.9959\n",
      "\n"
     ]
    },
    {
     "data": {
      "application/vnd.jupyter.widget-view+json": {
       "model_id": "5ce41c12b90f4b93850804538e86bd83",
       "version_major": 2,
       "version_minor": 0
      },
      "text/plain": [
       "HBox(children=(FloatProgress(value=0.0, description='Train', max=39.0, style=ProgressStyle(description_width='…"
      ]
     },
     "metadata": {},
     "output_type": "display_data"
    },
    {
     "name": "stdout",
     "output_type": "stream",
     "text": [
      "\n",
      "Epoch: 80 | Time: 0m 19s\n",
      "Training Results - Average Loss: 0.4840 | auc/_mean: 0.9783 | auc/healthy: 0.9957 | auc/multiple_diseases: 0.9285, auc/rust: 0.9936, auc/scab: 0.9954\n",
      "Evaluating Results - Average Loss: 0.4876 | auc/_mean: 0.9652 | auc/healthy: 0.9967 | auc/multiple_diseases: 0.8716, auc/rust: 0.9969, auc/scab: 0.9958\n",
      "\n"
     ]
    },
    {
     "data": {
      "application/vnd.jupyter.widget-view+json": {
       "model_id": "4385ba21ec684f72ada766aea15ac92f",
       "version_major": 2,
       "version_minor": 0
      },
      "text/plain": [
       "HBox(children=(FloatProgress(value=0.0, description='Train', max=39.0, style=ProgressStyle(description_width='…"
      ]
     },
     "metadata": {},
     "output_type": "display_data"
    },
    {
     "name": "stdout",
     "output_type": "stream",
     "text": [
      "\n",
      "Epoch: 81 | Time: 0m 19s\n",
      "Training Results - Average Loss: 0.4968 | auc/_mean: 0.9770 | auc/healthy: 0.9970 | auc/multiple_diseases: 0.9190, auc/rust: 0.9967, auc/scab: 0.9951\n",
      "Evaluating Results - Average Loss: 0.4880 | auc/_mean: 0.9655 | auc/healthy: 0.9967 | auc/multiple_diseases: 0.8726, auc/rust: 0.9970, auc/scab: 0.9957\n",
      "\n"
     ]
    },
    {
     "data": {
      "application/vnd.jupyter.widget-view+json": {
       "model_id": "aa37503bbd074380a1885d74aefc469d",
       "version_major": 2,
       "version_minor": 0
      },
      "text/plain": [
       "HBox(children=(FloatProgress(value=0.0, description='Train', max=39.0, style=ProgressStyle(description_width='…"
      ]
     },
     "metadata": {},
     "output_type": "display_data"
    },
    {
     "name": "stdout",
     "output_type": "stream",
     "text": [
      "\n",
      "Epoch: 82 | Time: 0m 18s\n",
      "Training Results - Average Loss: 0.4859 | auc/_mean: 0.9838 | auc/healthy: 0.9954 | auc/multiple_diseases: 0.9501, auc/rust: 0.9942, auc/scab: 0.9956\n",
      "Evaluating Results - Average Loss: 0.4877 | auc/_mean: 0.9659 | auc/healthy: 0.9967 | auc/multiple_diseases: 0.8740, auc/rust: 0.9970, auc/scab: 0.9957\n",
      "\n"
     ]
    },
    {
     "data": {
      "application/vnd.jupyter.widget-view+json": {
       "model_id": "92ef8031db5d4bcabf0f485b16657601",
       "version_major": 2,
       "version_minor": 0
      },
      "text/plain": [
       "HBox(children=(FloatProgress(value=0.0, description='Train', max=39.0, style=ProgressStyle(description_width='…"
      ]
     },
     "metadata": {},
     "output_type": "display_data"
    },
    {
     "name": "stdout",
     "output_type": "stream",
     "text": [
      "\n",
      "Epoch: 83 | Time: 0m 19s\n",
      "Training Results - Average Loss: 0.4809 | auc/_mean: 0.9765 | auc/healthy: 0.9963 | auc/multiple_diseases: 0.9207, auc/rust: 0.9954, auc/scab: 0.9935\n",
      "Evaluating Results - Average Loss: 0.4849 | auc/_mean: 0.9663 | auc/healthy: 0.9969 | auc/multiple_diseases: 0.8752, auc/rust: 0.9970, auc/scab: 0.9960\n",
      "\n"
     ]
    },
    {
     "data": {
      "application/vnd.jupyter.widget-view+json": {
       "model_id": "77adabe4d1d64387aefd6b1d04630ae3",
       "version_major": 2,
       "version_minor": 0
      },
      "text/plain": [
       "HBox(children=(FloatProgress(value=0.0, description='Train', max=39.0, style=ProgressStyle(description_width='…"
      ]
     },
     "metadata": {},
     "output_type": "display_data"
    },
    {
     "name": "stdout",
     "output_type": "stream",
     "text": [
      "\n",
      "Epoch: 84 | Time: 0m 18s\n",
      "Training Results - Average Loss: 0.4912 | auc/_mean: 0.9723 | auc/healthy: 0.9959 | auc/multiple_diseases: 0.9028, auc/rust: 0.9971, auc/scab: 0.9933\n",
      "Evaluating Results - Average Loss: 0.4843 | auc/_mean: 0.9666 | auc/healthy: 0.9970 | auc/multiple_diseases: 0.8765, auc/rust: 0.9971, auc/scab: 0.9959\n",
      "\n"
     ]
    },
    {
     "data": {
      "application/vnd.jupyter.widget-view+json": {
       "model_id": "ed49fb6c4a034625ab6b1ca6c2da117b",
       "version_major": 2,
       "version_minor": 0
      },
      "text/plain": [
       "HBox(children=(FloatProgress(value=0.0, description='Train', max=39.0, style=ProgressStyle(description_width='…"
      ]
     },
     "metadata": {},
     "output_type": "display_data"
    },
    {
     "name": "stdout",
     "output_type": "stream",
     "text": [
      "\n",
      "Epoch: 85 | Time: 0m 19s\n",
      "Training Results - Average Loss: 0.4776 | auc/_mean: 0.9847 | auc/healthy: 0.9985 | auc/multiple_diseases: 0.9512, auc/rust: 0.9928, auc/scab: 0.9962\n",
      "Evaluating Results - Average Loss: 0.4843 | auc/_mean: 0.9670 | auc/healthy: 0.9970 | auc/multiple_diseases: 0.8779, auc/rust: 0.9973, auc/scab: 0.9957\n",
      "\n"
     ]
    },
    {
     "data": {
      "application/vnd.jupyter.widget-view+json": {
       "model_id": "180e19cf128448c6a31971b54f2cd815",
       "version_major": 2,
       "version_minor": 0
      },
      "text/plain": [
       "HBox(children=(FloatProgress(value=0.0, description='Train', max=39.0, style=ProgressStyle(description_width='…"
      ]
     },
     "metadata": {},
     "output_type": "display_data"
    },
    {
     "name": "stdout",
     "output_type": "stream",
     "text": [
      "\n",
      "Epoch: 86 | Time: 0m 19s\n",
      "Training Results - Average Loss: 0.5043 | auc/_mean: 0.9822 | auc/healthy: 0.9972 | auc/multiple_diseases: 0.9427, auc/rust: 0.9966, auc/scab: 0.9923\n",
      "Evaluating Results - Average Loss: 0.4827 | auc/_mean: 0.9669 | auc/healthy: 0.9971 | auc/multiple_diseases: 0.8775, auc/rust: 0.9973, auc/scab: 0.9958\n",
      "\n"
     ]
    },
    {
     "data": {
      "application/vnd.jupyter.widget-view+json": {
       "model_id": "785065fd7a9c4a90ac4097949d87a1f7",
       "version_major": 2,
       "version_minor": 0
      },
      "text/plain": [
       "HBox(children=(FloatProgress(value=0.0, description='Train', max=39.0, style=ProgressStyle(description_width='…"
      ]
     },
     "metadata": {},
     "output_type": "display_data"
    },
    {
     "name": "stdout",
     "output_type": "stream",
     "text": [
      "\n",
      "Epoch: 87 | Time: 0m 19s\n",
      "Training Results - Average Loss: 0.4894 | auc/_mean: 0.9831 | auc/healthy: 0.9960 | auc/multiple_diseases: 0.9465, auc/rust: 0.9954, auc/scab: 0.9944\n",
      "Evaluating Results - Average Loss: 0.4840 | auc/_mean: 0.9675 | auc/healthy: 0.9971 | auc/multiple_diseases: 0.8800, auc/rust: 0.9972, auc/scab: 0.9957\n",
      "\n"
     ]
    },
    {
     "data": {
      "application/vnd.jupyter.widget-view+json": {
       "model_id": "3a87543c07264c059c62b047f70752b4",
       "version_major": 2,
       "version_minor": 0
      },
      "text/plain": [
       "HBox(children=(FloatProgress(value=0.0, description='Train', max=39.0, style=ProgressStyle(description_width='…"
      ]
     },
     "metadata": {},
     "output_type": "display_data"
    },
    {
     "name": "stdout",
     "output_type": "stream",
     "text": [
      "\n",
      "Epoch: 88 | Time: 0m 18s\n",
      "Training Results - Average Loss: 0.4839 | auc/_mean: 0.9841 | auc/healthy: 0.9954 | auc/multiple_diseases: 0.9493, auc/rust: 0.9961, auc/scab: 0.9957\n",
      "Evaluating Results - Average Loss: 0.4835 | auc/_mean: 0.9682 | auc/healthy: 0.9971 | auc/multiple_diseases: 0.8825, auc/rust: 0.9971, auc/scab: 0.9958\n",
      "\n"
     ]
    },
    {
     "data": {
      "application/vnd.jupyter.widget-view+json": {
       "model_id": "056c216ae664400898d5a35515dc8552",
       "version_major": 2,
       "version_minor": 0
      },
      "text/plain": [
       "HBox(children=(FloatProgress(value=0.0, description='Train', max=39.0, style=ProgressStyle(description_width='…"
      ]
     },
     "metadata": {},
     "output_type": "display_data"
    },
    {
     "name": "stdout",
     "output_type": "stream",
     "text": [
      "\n",
      "Epoch: 89 | Time: 0m 18s\n",
      "Training Results - Average Loss: 0.4844 | auc/_mean: 0.9810 | auc/healthy: 0.9965 | auc/multiple_diseases: 0.9388, auc/rust: 0.9922, auc/scab: 0.9966\n",
      "Evaluating Results - Average Loss: 0.4825 | auc/_mean: 0.9679 | auc/healthy: 0.9970 | auc/multiple_diseases: 0.8819, auc/rust: 0.9969, auc/scab: 0.9958\n",
      "\n"
     ]
    },
    {
     "data": {
      "application/vnd.jupyter.widget-view+json": {
       "model_id": "0a0763022b9c4496842cc7ad3e96b012",
       "version_major": 2,
       "version_minor": 0
      },
      "text/plain": [
       "HBox(children=(FloatProgress(value=0.0, description='Train', max=39.0, style=ProgressStyle(description_width='…"
      ]
     },
     "metadata": {},
     "output_type": "display_data"
    },
    {
     "name": "stdout",
     "output_type": "stream",
     "text": [
      "\n",
      "Epoch: 90 | Time: 0m 19s\n",
      "Training Results - Average Loss: 0.4808 | auc/_mean: 0.9871 | auc/healthy: 0.9959 | auc/multiple_diseases: 0.9619, auc/rust: 0.9955, auc/scab: 0.9949\n",
      "Evaluating Results - Average Loss: 0.4825 | auc/_mean: 0.9685 | auc/healthy: 0.9970 | auc/multiple_diseases: 0.8839, auc/rust: 0.9972, auc/scab: 0.9959\n",
      "\n"
     ]
    },
    {
     "data": {
      "application/vnd.jupyter.widget-view+json": {
       "model_id": "9cb137a7367b48f7a4bfa7ccd241a67b",
       "version_major": 2,
       "version_minor": 0
      },
      "text/plain": [
       "HBox(children=(FloatProgress(value=0.0, description='Train', max=39.0, style=ProgressStyle(description_width='…"
      ]
     },
     "metadata": {},
     "output_type": "display_data"
    },
    {
     "name": "stdout",
     "output_type": "stream",
     "text": [
      "\n",
      "Epoch: 91 | Time: 0m 18s\n",
      "Training Results - Average Loss: 0.4902 | auc/_mean: 0.9824 | auc/healthy: 0.9972 | auc/multiple_diseases: 0.9395, auc/rust: 0.9987, auc/scab: 0.9941\n",
      "Evaluating Results - Average Loss: 0.4835 | auc/_mean: 0.9690 | auc/healthy: 0.9969 | auc/multiple_diseases: 0.8860, auc/rust: 0.9973, auc/scab: 0.9958\n",
      "\n"
     ]
    },
    {
     "data": {
      "application/vnd.jupyter.widget-view+json": {
       "model_id": "e832d3c96a7b44acb31f85f356556a07",
       "version_major": 2,
       "version_minor": 0
      },
      "text/plain": [
       "HBox(children=(FloatProgress(value=0.0, description='Train', max=39.0, style=ProgressStyle(description_width='…"
      ]
     },
     "metadata": {},
     "output_type": "display_data"
    },
    {
     "name": "stdout",
     "output_type": "stream",
     "text": [
      "\n",
      "Epoch: 92 | Time: 0m 18s\n",
      "Training Results - Average Loss: 0.4681 | auc/_mean: 0.9861 | auc/healthy: 0.9974 | auc/multiple_diseases: 0.9535, auc/rust: 0.9973, auc/scab: 0.9961\n",
      "Evaluating Results - Average Loss: 0.4810 | auc/_mean: 0.9690 | auc/healthy: 0.9971 | auc/multiple_diseases: 0.8855, auc/rust: 0.9975, auc/scab: 0.9958\n",
      "\n"
     ]
    },
    {
     "data": {
      "application/vnd.jupyter.widget-view+json": {
       "model_id": "2e52f1513ae9435b94785b597a8924de",
       "version_major": 2,
       "version_minor": 0
      },
      "text/plain": [
       "HBox(children=(FloatProgress(value=0.0, description='Train', max=39.0, style=ProgressStyle(description_width='…"
      ]
     },
     "metadata": {},
     "output_type": "display_data"
    },
    {
     "name": "stdout",
     "output_type": "stream",
     "text": [
      "\n",
      "Epoch: 93 | Time: 0m 19s\n",
      "Training Results - Average Loss: 0.4760 | auc/_mean: 0.9810 | auc/healthy: 0.9949 | auc/multiple_diseases: 0.9388, auc/rust: 0.9941, auc/scab: 0.9960\n",
      "Evaluating Results - Average Loss: 0.4796 | auc/_mean: 0.9692 | auc/healthy: 0.9971 | auc/multiple_diseases: 0.8863, auc/rust: 0.9974, auc/scab: 0.9959\n",
      "\n"
     ]
    },
    {
     "data": {
      "application/vnd.jupyter.widget-view+json": {
       "model_id": "d86220909d0f42999beff3a08bbbaac2",
       "version_major": 2,
       "version_minor": 0
      },
      "text/plain": [
       "HBox(children=(FloatProgress(value=0.0, description='Train', max=39.0, style=ProgressStyle(description_width='…"
      ]
     },
     "metadata": {},
     "output_type": "display_data"
    },
    {
     "name": "stdout",
     "output_type": "stream",
     "text": [
      "\n",
      "Epoch: 94 | Time: 0m 19s\n",
      "Training Results - Average Loss: 0.4747 | auc/_mean: 0.9843 | auc/healthy: 0.9967 | auc/multiple_diseases: 0.9499, auc/rust: 0.9956, auc/scab: 0.9951\n",
      "Evaluating Results - Average Loss: 0.4775 | auc/_mean: 0.9700 | auc/healthy: 0.9972 | auc/multiple_diseases: 0.8893, auc/rust: 0.9975, auc/scab: 0.9961\n",
      "\n"
     ]
    },
    {
     "data": {
      "application/vnd.jupyter.widget-view+json": {
       "model_id": "f92a8ea0dff943ada5feed12dd3cb97e",
       "version_major": 2,
       "version_minor": 0
      },
      "text/plain": [
       "HBox(children=(FloatProgress(value=0.0, description='Train', max=39.0, style=ProgressStyle(description_width='…"
      ]
     },
     "metadata": {},
     "output_type": "display_data"
    },
    {
     "name": "stdout",
     "output_type": "stream",
     "text": [
      "\n",
      "Epoch: 95 | Time: 0m 19s\n",
      "Training Results - Average Loss: 0.4574 | auc/_mean: 0.9885 | auc/healthy: 0.9977 | auc/multiple_diseases: 0.9635, auc/rust: 0.9967, auc/scab: 0.9963\n",
      "Evaluating Results - Average Loss: 0.4781 | auc/_mean: 0.9706 | auc/healthy: 0.9972 | auc/multiple_diseases: 0.8917, auc/rust: 0.9975, auc/scab: 0.9961\n",
      "\n"
     ]
    },
    {
     "data": {
      "application/vnd.jupyter.widget-view+json": {
       "model_id": "62fe0ceaff3f4898b2930a13a14251a0",
       "version_major": 2,
       "version_minor": 0
      },
      "text/plain": [
       "HBox(children=(FloatProgress(value=0.0, description='Train', max=39.0, style=ProgressStyle(description_width='…"
      ]
     },
     "metadata": {},
     "output_type": "display_data"
    },
    {
     "name": "stdout",
     "output_type": "stream",
     "text": [
      "\n",
      "Epoch: 96 | Time: 0m 18s\n",
      "Training Results - Average Loss: 0.4710 | auc/_mean: 0.9840 | auc/healthy: 0.9960 | auc/multiple_diseases: 0.9477, auc/rust: 0.9963, auc/scab: 0.9962\n",
      "Evaluating Results - Average Loss: 0.4795 | auc/_mean: 0.9706 | auc/healthy: 0.9970 | auc/multiple_diseases: 0.8922, auc/rust: 0.9974, auc/scab: 0.9957\n",
      "\n"
     ]
    },
    {
     "data": {
      "application/vnd.jupyter.widget-view+json": {
       "model_id": "29a88b5a13f24dff8a01ff33c2cce5a2",
       "version_major": 2,
       "version_minor": 0
      },
      "text/plain": [
       "HBox(children=(FloatProgress(value=0.0, description='Train', max=39.0, style=ProgressStyle(description_width='…"
      ]
     },
     "metadata": {},
     "output_type": "display_data"
    },
    {
     "name": "stdout",
     "output_type": "stream",
     "text": [
      "\n",
      "Epoch: 97 | Time: 0m 19s\n",
      "Training Results - Average Loss: 0.4801 | auc/_mean: 0.9815 | auc/healthy: 0.9970 | auc/multiple_diseases: 0.9406, auc/rust: 0.9957, auc/scab: 0.9927\n",
      "Evaluating Results - Average Loss: 0.4795 | auc/_mean: 0.9705 | auc/healthy: 0.9971 | auc/multiple_diseases: 0.8918, auc/rust: 0.9975, auc/scab: 0.9954\n",
      "\n"
     ]
    },
    {
     "data": {
      "application/vnd.jupyter.widget-view+json": {
       "model_id": "fb1e5e476c194829adb511121953e9d7",
       "version_major": 2,
       "version_minor": 0
      },
      "text/plain": [
       "HBox(children=(FloatProgress(value=0.0, description='Train', max=39.0, style=ProgressStyle(description_width='…"
      ]
     },
     "metadata": {},
     "output_type": "display_data"
    },
    {
     "name": "stdout",
     "output_type": "stream",
     "text": [
      "\n",
      "Epoch: 98 | Time: 0m 19s\n",
      "Training Results - Average Loss: 0.4522 | auc/_mean: 0.9842 | auc/healthy: 0.9978 | auc/multiple_diseases: 0.9451, auc/rust: 0.9973, auc/scab: 0.9968\n",
      "Evaluating Results - Average Loss: 0.4772 | auc/_mean: 0.9711 | auc/healthy: 0.9971 | auc/multiple_diseases: 0.8941, auc/rust: 0.9975, auc/scab: 0.9956\n",
      "\n"
     ]
    },
    {
     "data": {
      "application/vnd.jupyter.widget-view+json": {
       "model_id": "e37cfbd767d148cb98eea8eb131e5ab7",
       "version_major": 2,
       "version_minor": 0
      },
      "text/plain": [
       "HBox(children=(FloatProgress(value=0.0, description='Train', max=39.0, style=ProgressStyle(description_width='…"
      ]
     },
     "metadata": {},
     "output_type": "display_data"
    },
    {
     "name": "stdout",
     "output_type": "stream",
     "text": [
      "\n",
      "Epoch: 99 | Time: 0m 19s\n",
      "Training Results - Average Loss: 0.4696 | auc/_mean: 0.9874 | auc/healthy: 0.9974 | auc/multiple_diseases: 0.9602, auc/rust: 0.9970, auc/scab: 0.9951\n",
      "Evaluating Results - Average Loss: 0.4795 | auc/_mean: 0.9709 | auc/healthy: 0.9973 | auc/multiple_diseases: 0.8938, auc/rust: 0.9974, auc/scab: 0.9952\n",
      "\n"
     ]
    },
    {
     "data": {
      "application/vnd.jupyter.widget-view+json": {
       "model_id": "9d24ef52cc9e40c6935de1499fa226eb",
       "version_major": 2,
       "version_minor": 0
      },
      "text/plain": [
       "HBox(children=(FloatProgress(value=0.0, description='Train', max=39.0, style=ProgressStyle(description_width='…"
      ]
     },
     "metadata": {},
     "output_type": "display_data"
    },
    {
     "name": "stdout",
     "output_type": "stream",
     "text": [
      "\n",
      "Epoch: 100 | Time: 0m 19s\n",
      "Training Results - Average Loss: 0.4569 | auc/_mean: 0.9918 | auc/healthy: 0.9976 | auc/multiple_diseases: 0.9753, auc/rust: 0.9979, auc/scab: 0.9966\n",
      "Evaluating Results - Average Loss: 0.4766 | auc/_mean: 0.9710 | auc/healthy: 0.9973 | auc/multiple_diseases: 0.8939, auc/rust: 0.9975, auc/scab: 0.9954\n",
      "\n"
     ]
    },
    {
     "data": {
      "application/vnd.jupyter.widget-view+json": {
       "model_id": "36a0ccdb08a14e40bba1e00470a8336d",
       "version_major": 2,
       "version_minor": 0
      },
      "text/plain": [
       "HBox(children=(FloatProgress(value=0.0, description='Train', max=39.0, style=ProgressStyle(description_width='…"
      ]
     },
     "metadata": {},
     "output_type": "display_data"
    },
    {
     "name": "stdout",
     "output_type": "stream",
     "text": [
      "\n",
      "Epoch: 101 | Time: 0m 19s\n",
      "Training Results - Average Loss: 0.4797 | auc/_mean: 0.9916 | auc/healthy: 0.9969 | auc/multiple_diseases: 0.9772, auc/rust: 0.9952, auc/scab: 0.9970\n",
      "Evaluating Results - Average Loss: 0.4761 | auc/_mean: 0.9715 | auc/healthy: 0.9972 | auc/multiple_diseases: 0.8960, auc/rust: 0.9975, auc/scab: 0.9954\n",
      "\n"
     ]
    },
    {
     "data": {
      "application/vnd.jupyter.widget-view+json": {
       "model_id": "3a079120c86e46af98a3f7a23668fbb6",
       "version_major": 2,
       "version_minor": 0
      },
      "text/plain": [
       "HBox(children=(FloatProgress(value=0.0, description='Train', max=39.0, style=ProgressStyle(description_width='…"
      ]
     },
     "metadata": {},
     "output_type": "display_data"
    },
    {
     "name": "stdout",
     "output_type": "stream",
     "text": [
      "\n",
      "Epoch: 102 | Time: 0m 18s\n",
      "Training Results - Average Loss: 0.4567 | auc/_mean: 0.9911 | auc/healthy: 0.9973 | auc/multiple_diseases: 0.9723, auc/rust: 0.9979, auc/scab: 0.9971\n",
      "Evaluating Results - Average Loss: 0.4769 | auc/_mean: 0.9715 | auc/healthy: 0.9971 | auc/multiple_diseases: 0.8957, auc/rust: 0.9975, auc/scab: 0.9955\n",
      "\n"
     ]
    },
    {
     "data": {
      "application/vnd.jupyter.widget-view+json": {
       "model_id": "1703d5dc0bb547c0b18bdd0de3271339",
       "version_major": 2,
       "version_minor": 0
      },
      "text/plain": [
       "HBox(children=(FloatProgress(value=0.0, description='Train', max=39.0, style=ProgressStyle(description_width='…"
      ]
     },
     "metadata": {},
     "output_type": "display_data"
    },
    {
     "name": "stdout",
     "output_type": "stream",
     "text": [
      "\n",
      "Epoch: 103 | Time: 0m 19s\n",
      "Training Results - Average Loss: 0.4538 | auc/_mean: 0.9875 | auc/healthy: 0.9950 | auc/multiple_diseases: 0.9605, auc/rust: 0.9985, auc/scab: 0.9959\n",
      "Evaluating Results - Average Loss: 0.4752 | auc/_mean: 0.9720 | auc/healthy: 0.9972 | auc/multiple_diseases: 0.8975, auc/rust: 0.9975, auc/scab: 0.9958\n",
      "\n"
     ]
    },
    {
     "data": {
      "application/vnd.jupyter.widget-view+json": {
       "model_id": "97f847a4e66c4d58a630efed2d7aafaf",
       "version_major": 2,
       "version_minor": 0
      },
      "text/plain": [
       "HBox(children=(FloatProgress(value=0.0, description='Train', max=39.0, style=ProgressStyle(description_width='…"
      ]
     },
     "metadata": {},
     "output_type": "display_data"
    },
    {
     "name": "stdout",
     "output_type": "stream",
     "text": [
      "\n",
      "Epoch: 104 | Time: 0m 19s\n",
      "Training Results - Average Loss: 0.4508 | auc/_mean: 0.9911 | auc/healthy: 0.9989 | auc/multiple_diseases: 0.9695, auc/rust: 0.9987, auc/scab: 0.9975\n",
      "Evaluating Results - Average Loss: 0.4755 | auc/_mean: 0.9723 | auc/healthy: 0.9972 | auc/multiple_diseases: 0.8988, auc/rust: 0.9974, auc/scab: 0.9959\n",
      "\n"
     ]
    },
    {
     "data": {
      "application/vnd.jupyter.widget-view+json": {
       "model_id": "d31abdb8c17c45ccb8ee6660cf47a3f4",
       "version_major": 2,
       "version_minor": 0
      },
      "text/plain": [
       "HBox(children=(FloatProgress(value=0.0, description='Train', max=39.0, style=ProgressStyle(description_width='…"
      ]
     },
     "metadata": {},
     "output_type": "display_data"
    },
    {
     "name": "stdout",
     "output_type": "stream",
     "text": [
      "\n",
      "Epoch: 105 | Time: 0m 19s\n",
      "Training Results - Average Loss: 0.4591 | auc/_mean: 0.9912 | auc/healthy: 0.9967 | auc/multiple_diseases: 0.9758, auc/rust: 0.9962, auc/scab: 0.9959\n",
      "Evaluating Results - Average Loss: 0.4742 | auc/_mean: 0.9726 | auc/healthy: 0.9972 | auc/multiple_diseases: 0.8998, auc/rust: 0.9975, auc/scab: 0.9959\n",
      "\n"
     ]
    },
    {
     "data": {
      "application/vnd.jupyter.widget-view+json": {
       "model_id": "999dae843d064034b4acef3a9ae0f602",
       "version_major": 2,
       "version_minor": 0
      },
      "text/plain": [
       "HBox(children=(FloatProgress(value=0.0, description='Train', max=39.0, style=ProgressStyle(description_width='…"
      ]
     },
     "metadata": {},
     "output_type": "display_data"
    },
    {
     "name": "stdout",
     "output_type": "stream",
     "text": [
      "\n",
      "Epoch: 106 | Time: 0m 19s\n",
      "Training Results - Average Loss: 0.4574 | auc/_mean: 0.9869 | auc/healthy: 0.9978 | auc/multiple_diseases: 0.9560, auc/rust: 0.9974, auc/scab: 0.9963\n",
      "Evaluating Results - Average Loss: 0.4722 | auc/_mean: 0.9728 | auc/healthy: 0.9973 | auc/multiple_diseases: 0.9007, auc/rust: 0.9975, auc/scab: 0.9958\n",
      "\n"
     ]
    },
    {
     "data": {
      "application/vnd.jupyter.widget-view+json": {
       "model_id": "44f157a3a9ea423394cc81ad202e43bf",
       "version_major": 2,
       "version_minor": 0
      },
      "text/plain": [
       "HBox(children=(FloatProgress(value=0.0, description='Train', max=39.0, style=ProgressStyle(description_width='…"
      ]
     },
     "metadata": {},
     "output_type": "display_data"
    },
    {
     "name": "stdout",
     "output_type": "stream",
     "text": [
      "\n",
      "Epoch: 107 | Time: 0m 19s\n",
      "Training Results - Average Loss: 0.4561 | auc/_mean: 0.9852 | auc/healthy: 0.9962 | auc/multiple_diseases: 0.9545, auc/rust: 0.9952, auc/scab: 0.9951\n",
      "Evaluating Results - Average Loss: 0.4740 | auc/_mean: 0.9724 | auc/healthy: 0.9971 | auc/multiple_diseases: 0.8994, auc/rust: 0.9975, auc/scab: 0.9956\n",
      "\n"
     ]
    },
    {
     "data": {
      "application/vnd.jupyter.widget-view+json": {
       "model_id": "8348dd700b9d4104abc6ef1985659ddc",
       "version_major": 2,
       "version_minor": 0
      },
      "text/plain": [
       "HBox(children=(FloatProgress(value=0.0, description='Train', max=39.0, style=ProgressStyle(description_width='…"
      ]
     },
     "metadata": {},
     "output_type": "display_data"
    },
    {
     "name": "stdout",
     "output_type": "stream",
     "text": [
      "\n",
      "Epoch: 108 | Time: 0m 18s\n",
      "Training Results - Average Loss: 0.4589 | auc/_mean: 0.9872 | auc/healthy: 0.9954 | auc/multiple_diseases: 0.9614, auc/rust: 0.9965, auc/scab: 0.9956\n",
      "Evaluating Results - Average Loss: 0.4745 | auc/_mean: 0.9722 | auc/healthy: 0.9971 | auc/multiple_diseases: 0.8989, auc/rust: 0.9974, auc/scab: 0.9954\n",
      "\n"
     ]
    },
    {
     "data": {
      "application/vnd.jupyter.widget-view+json": {
       "model_id": "473cdd8a03674474b394ac8cb6c4214f",
       "version_major": 2,
       "version_minor": 0
      },
      "text/plain": [
       "HBox(children=(FloatProgress(value=0.0, description='Train', max=39.0, style=ProgressStyle(description_width='…"
      ]
     },
     "metadata": {},
     "output_type": "display_data"
    },
    {
     "name": "stdout",
     "output_type": "stream",
     "text": [
      "\n",
      "Epoch: 109 | Time: 0m 18s\n",
      "Training Results - Average Loss: 0.4621 | auc/_mean: 0.9891 | auc/healthy: 0.9975 | auc/multiple_diseases: 0.9642, auc/rust: 0.9977, auc/scab: 0.9971\n",
      "Evaluating Results - Average Loss: 0.4734 | auc/_mean: 0.9719 | auc/healthy: 0.9971 | auc/multiple_diseases: 0.8977, auc/rust: 0.9975, auc/scab: 0.9953\n",
      "\n"
     ]
    },
    {
     "data": {
      "application/vnd.jupyter.widget-view+json": {
       "model_id": "bc760829d10140ac90cac5b202736422",
       "version_major": 2,
       "version_minor": 0
      },
      "text/plain": [
       "HBox(children=(FloatProgress(value=0.0, description='Train', max=39.0, style=ProgressStyle(description_width='…"
      ]
     },
     "metadata": {},
     "output_type": "display_data"
    },
    {
     "name": "stdout",
     "output_type": "stream",
     "text": [
      "\n",
      "Epoch: 110 | Time: 0m 19s\n",
      "Training Results - Average Loss: 0.4523 | auc/_mean: 0.9897 | auc/healthy: 0.9981 | auc/multiple_diseases: 0.9649, auc/rust: 0.9984, auc/scab: 0.9971\n",
      "Evaluating Results - Average Loss: 0.4740 | auc/_mean: 0.9715 | auc/healthy: 0.9971 | auc/multiple_diseases: 0.8963, auc/rust: 0.9976, auc/scab: 0.9951\n",
      "\n"
     ]
    },
    {
     "data": {
      "application/vnd.jupyter.widget-view+json": {
       "model_id": "0bba2fa025f049848ea1f4d562975cd5",
       "version_major": 2,
       "version_minor": 0
      },
      "text/plain": [
       "HBox(children=(FloatProgress(value=0.0, description='Train', max=39.0, style=ProgressStyle(description_width='…"
      ]
     },
     "metadata": {},
     "output_type": "display_data"
    },
    {
     "name": "stdout",
     "output_type": "stream",
     "text": [
      "\n",
      "Epoch: 111 | Time: 0m 18s\n",
      "Training Results - Average Loss: 0.4597 | auc/_mean: 0.9821 | auc/healthy: 0.9966 | auc/multiple_diseases: 0.9377, auc/rust: 0.9966, auc/scab: 0.9974\n",
      "Evaluating Results - Average Loss: 0.4735 | auc/_mean: 0.9709 | auc/healthy: 0.9972 | auc/multiple_diseases: 0.8936, auc/rust: 0.9977, auc/scab: 0.9952\n",
      "\n"
     ]
    },
    {
     "data": {
      "application/vnd.jupyter.widget-view+json": {
       "model_id": "61cb1f4893c345ad96b7d80f2a05b96b",
       "version_major": 2,
       "version_minor": 0
      },
      "text/plain": [
       "HBox(children=(FloatProgress(value=0.0, description='Train', max=39.0, style=ProgressStyle(description_width='…"
      ]
     },
     "metadata": {},
     "output_type": "display_data"
    },
    {
     "name": "stdout",
     "output_type": "stream",
     "text": [
      "\n",
      "Epoch: 112 | Time: 0m 18s\n",
      "Training Results - Average Loss: 0.4705 | auc/_mean: 0.9876 | auc/healthy: 0.9967 | auc/multiple_diseases: 0.9614, auc/rust: 0.9954, auc/scab: 0.9968\n",
      "Evaluating Results - Average Loss: 0.4754 | auc/_mean: 0.9709 | auc/healthy: 0.9972 | auc/multiple_diseases: 0.8942, auc/rust: 0.9977, auc/scab: 0.9945\n",
      "\n"
     ]
    },
    {
     "data": {
      "application/vnd.jupyter.widget-view+json": {
       "model_id": "a6fbea65299846bda96ae520481b5225",
       "version_major": 2,
       "version_minor": 0
      },
      "text/plain": [
       "HBox(children=(FloatProgress(value=0.0, description='Train', max=39.0, style=ProgressStyle(description_width='…"
      ]
     },
     "metadata": {},
     "output_type": "display_data"
    },
    {
     "name": "stdout",
     "output_type": "stream",
     "text": [
      "\n",
      "Epoch: 113 | Time: 0m 19s\n",
      "Training Results - Average Loss: 0.4603 | auc/_mean: 0.9883 | auc/healthy: 0.9991 | auc/multiple_diseases: 0.9615, auc/rust: 0.9965, auc/scab: 0.9961\n",
      "Evaluating Results - Average Loss: 0.4761 | auc/_mean: 0.9720 | auc/healthy: 0.9972 | auc/multiple_diseases: 0.8989, auc/rust: 0.9977, auc/scab: 0.9942\n",
      "\n"
     ]
    },
    {
     "data": {
      "application/vnd.jupyter.widget-view+json": {
       "model_id": "b48923407c8d4cd6903df69e1f207e3d",
       "version_major": 2,
       "version_minor": 0
      },
      "text/plain": [
       "HBox(children=(FloatProgress(value=0.0, description='Train', max=39.0, style=ProgressStyle(description_width='…"
      ]
     },
     "metadata": {},
     "output_type": "display_data"
    },
    {
     "name": "stdout",
     "output_type": "stream",
     "text": [
      "\n",
      "Epoch: 114 | Time: 0m 18s\n",
      "Training Results - Average Loss: 0.4535 | auc/_mean: 0.9918 | auc/healthy: 0.9974 | auc/multiple_diseases: 0.9746, auc/rust: 0.9976, auc/scab: 0.9978\n",
      "Evaluating Results - Average Loss: 0.4741 | auc/_mean: 0.9736 | auc/healthy: 0.9973 | auc/multiple_diseases: 0.9049, auc/rust: 0.9977, auc/scab: 0.9946\n",
      "\n"
     ]
    },
    {
     "data": {
      "application/vnd.jupyter.widget-view+json": {
       "model_id": "fb5b1a194497406ca81bbb1d8554050d",
       "version_major": 2,
       "version_minor": 0
      },
      "text/plain": [
       "HBox(children=(FloatProgress(value=0.0, description='Train', max=39.0, style=ProgressStyle(description_width='…"
      ]
     },
     "metadata": {},
     "output_type": "display_data"
    },
    {
     "name": "stdout",
     "output_type": "stream",
     "text": [
      "\n",
      "Epoch: 115 | Time: 0m 18s\n",
      "Training Results - Average Loss: 0.4564 | auc/_mean: 0.9860 | auc/healthy: 0.9979 | auc/multiple_diseases: 0.9516, auc/rust: 0.9976, auc/scab: 0.9969\n",
      "Evaluating Results - Average Loss: 0.4739 | auc/_mean: 0.9738 | auc/healthy: 0.9972 | auc/multiple_diseases: 0.9052, auc/rust: 0.9977, auc/scab: 0.9949\n",
      "\n"
     ]
    },
    {
     "data": {
      "application/vnd.jupyter.widget-view+json": {
       "model_id": "b316eb2284e04307b928b081ab06c366",
       "version_major": 2,
       "version_minor": 0
      },
      "text/plain": [
       "HBox(children=(FloatProgress(value=0.0, description='Train', max=39.0, style=ProgressStyle(description_width='…"
      ]
     },
     "metadata": {},
     "output_type": "display_data"
    },
    {
     "name": "stdout",
     "output_type": "stream",
     "text": [
      "\n",
      "Epoch: 116 | Time: 0m 19s\n",
      "Training Results - Average Loss: 0.4397 | auc/_mean: 0.9956 | auc/healthy: 0.9976 | auc/multiple_diseases: 0.9888, auc/rust: 0.9983, auc/scab: 0.9977\n",
      "Evaluating Results - Average Loss: 0.4753 | auc/_mean: 0.9735 | auc/healthy: 0.9973 | auc/multiple_diseases: 0.9044, auc/rust: 0.9978, auc/scab: 0.9944\n",
      "\n"
     ]
    },
    {
     "data": {
      "application/vnd.jupyter.widget-view+json": {
       "model_id": "c07485401f194d79acc30f0d9fd8deb5",
       "version_major": 2,
       "version_minor": 0
      },
      "text/plain": [
       "HBox(children=(FloatProgress(value=0.0, description='Train', max=39.0, style=ProgressStyle(description_width='…"
      ]
     },
     "metadata": {},
     "output_type": "display_data"
    },
    {
     "name": "stdout",
     "output_type": "stream",
     "text": [
      "\n",
      "Epoch: 117 | Time: 0m 19s\n",
      "Training Results - Average Loss: 0.4577 | auc/_mean: 0.9929 | auc/healthy: 0.9971 | auc/multiple_diseases: 0.9792, auc/rust: 0.9986, auc/scab: 0.9966\n",
      "Evaluating Results - Average Loss: 0.4722 | auc/_mean: 0.9737 | auc/healthy: 0.9973 | auc/multiple_diseases: 0.9051, auc/rust: 0.9976, auc/scab: 0.9948\n",
      "\n"
     ]
    },
    {
     "data": {
      "application/vnd.jupyter.widget-view+json": {
       "model_id": "29a98f5d4f2a41299d8ab1ae06159c31",
       "version_major": 2,
       "version_minor": 0
      },
      "text/plain": [
       "HBox(children=(FloatProgress(value=0.0, description='Train', max=39.0, style=ProgressStyle(description_width='…"
      ]
     },
     "metadata": {},
     "output_type": "display_data"
    },
    {
     "name": "stdout",
     "output_type": "stream",
     "text": [
      "\n",
      "Epoch: 118 | Time: 0m 19s\n",
      "Training Results - Average Loss: 0.4546 | auc/_mean: 0.9904 | auc/healthy: 0.9960 | auc/multiple_diseases: 0.9736, auc/rust: 0.9953, auc/scab: 0.9969\n",
      "Evaluating Results - Average Loss: 0.4729 | auc/_mean: 0.9736 | auc/healthy: 0.9972 | auc/multiple_diseases: 0.9047, auc/rust: 0.9978, auc/scab: 0.9946\n",
      "\n"
     ]
    },
    {
     "data": {
      "application/vnd.jupyter.widget-view+json": {
       "model_id": "206c13820e1e4bc6a508e3acc937952e",
       "version_major": 2,
       "version_minor": 0
      },
      "text/plain": [
       "HBox(children=(FloatProgress(value=0.0, description='Train', max=39.0, style=ProgressStyle(description_width='…"
      ]
     },
     "metadata": {},
     "output_type": "display_data"
    },
    {
     "name": "stdout",
     "output_type": "stream",
     "text": [
      "\n",
      "Epoch: 119 | Time: 0m 19s\n",
      "Training Results - Average Loss: 0.4509 | auc/_mean: 0.9895 | auc/healthy: 0.9984 | auc/multiple_diseases: 0.9666, auc/rust: 0.9947, auc/scab: 0.9983\n",
      "Evaluating Results - Average Loss: 0.4714 | auc/_mean: 0.9739 | auc/healthy: 0.9972 | auc/multiple_diseases: 0.9055, auc/rust: 0.9979, auc/scab: 0.9948\n",
      "\n"
     ]
    },
    {
     "data": {
      "application/vnd.jupyter.widget-view+json": {
       "model_id": "914a86fab9c1491c993226ef37a35917",
       "version_major": 2,
       "version_minor": 0
      },
      "text/plain": [
       "HBox(children=(FloatProgress(value=0.0, description='Train', max=39.0, style=ProgressStyle(description_width='…"
      ]
     },
     "metadata": {},
     "output_type": "display_data"
    },
    {
     "name": "stdout",
     "output_type": "stream",
     "text": [
      "\n",
      "Epoch: 120 | Time: 0m 18s\n",
      "Training Results - Average Loss: 0.4567 | auc/_mean: 0.9933 | auc/healthy: 0.9967 | auc/multiple_diseases: 0.9808, auc/rust: 0.9984, auc/scab: 0.9971\n",
      "Evaluating Results - Average Loss: 0.4705 | auc/_mean: 0.9736 | auc/healthy: 0.9972 | auc/multiple_diseases: 0.9043, auc/rust: 0.9980, auc/scab: 0.9949\n",
      "\n"
     ]
    },
    {
     "data": {
      "application/vnd.jupyter.widget-view+json": {
       "model_id": "c6102d714962467fb7d792b409f8dcba",
       "version_major": 2,
       "version_minor": 0
      },
      "text/plain": [
       "HBox(children=(FloatProgress(value=0.0, description='Train', max=39.0, style=ProgressStyle(description_width='…"
      ]
     },
     "metadata": {},
     "output_type": "display_data"
    },
    {
     "name": "stdout",
     "output_type": "stream",
     "text": [
      "\n",
      "Epoch: 121 | Time: 0m 18s\n",
      "Training Results - Average Loss: 0.4462 | auc/_mean: 0.9928 | auc/healthy: 0.9985 | auc/multiple_diseases: 0.9776, auc/rust: 0.9977, auc/scab: 0.9974\n",
      "Evaluating Results - Average Loss: 0.4703 | auc/_mean: 0.9736 | auc/healthy: 0.9972 | auc/multiple_diseases: 0.9042, auc/rust: 0.9980, auc/scab: 0.9949\n",
      "\n"
     ]
    },
    {
     "data": {
      "application/vnd.jupyter.widget-view+json": {
       "model_id": "e02c39b0b57f42eb807cfa8047a5050a",
       "version_major": 2,
       "version_minor": 0
      },
      "text/plain": [
       "HBox(children=(FloatProgress(value=0.0, description='Train', max=39.0, style=ProgressStyle(description_width='…"
      ]
     },
     "metadata": {},
     "output_type": "display_data"
    },
    {
     "name": "stdout",
     "output_type": "stream",
     "text": [
      "\n",
      "Epoch: 122 | Time: 0m 19s\n",
      "Training Results - Average Loss: 0.4539 | auc/_mean: 0.9879 | auc/healthy: 0.9994 | auc/multiple_diseases: 0.9567, auc/rust: 0.9978, auc/scab: 0.9977\n",
      "Evaluating Results - Average Loss: 0.4702 | auc/_mean: 0.9736 | auc/healthy: 0.9972 | auc/multiple_diseases: 0.9044, auc/rust: 0.9978, auc/scab: 0.9949\n",
      "\n"
     ]
    },
    {
     "data": {
      "application/vnd.jupyter.widget-view+json": {
       "model_id": "7d849c66b3604c468e18276d08a0ea17",
       "version_major": 2,
       "version_minor": 0
      },
      "text/plain": [
       "HBox(children=(FloatProgress(value=0.0, description='Train', max=39.0, style=ProgressStyle(description_width='…"
      ]
     },
     "metadata": {},
     "output_type": "display_data"
    },
    {
     "name": "stdout",
     "output_type": "stream",
     "text": [
      "\n",
      "Epoch: 123 | Time: 0m 18s\n",
      "Training Results - Average Loss: 0.4589 | auc/_mean: 0.9929 | auc/healthy: 0.9978 | auc/multiple_diseases: 0.9817, auc/rust: 0.9975, auc/scab: 0.9947\n",
      "Evaluating Results - Average Loss: 0.4729 | auc/_mean: 0.9728 | auc/healthy: 0.9972 | auc/multiple_diseases: 0.9021, auc/rust: 0.9977, auc/scab: 0.9942\n",
      "\n"
     ]
    },
    {
     "data": {
      "application/vnd.jupyter.widget-view+json": {
       "model_id": "42f48c70228d4f258324e3d60ed1a196",
       "version_major": 2,
       "version_minor": 0
      },
      "text/plain": [
       "HBox(children=(FloatProgress(value=0.0, description='Train', max=39.0, style=ProgressStyle(description_width='…"
      ]
     },
     "metadata": {},
     "output_type": "display_data"
    },
    {
     "name": "stdout",
     "output_type": "stream",
     "text": [
      "\n",
      "Epoch: 124 | Time: 0m 18s\n",
      "Training Results - Average Loss: 0.4485 | auc/_mean: 0.9892 | auc/healthy: 0.9981 | auc/multiple_diseases: 0.9637, auc/rust: 0.9981, auc/scab: 0.9968\n",
      "Evaluating Results - Average Loss: 0.4738 | auc/_mean: 0.9735 | auc/healthy: 0.9972 | auc/multiple_diseases: 0.9054, auc/rust: 0.9976, auc/scab: 0.9940\n",
      "\n"
     ]
    },
    {
     "data": {
      "application/vnd.jupyter.widget-view+json": {
       "model_id": "622fcfd2061440e0878b50019c605fb2",
       "version_major": 2,
       "version_minor": 0
      },
      "text/plain": [
       "HBox(children=(FloatProgress(value=0.0, description='Train', max=39.0, style=ProgressStyle(description_width='…"
      ]
     },
     "metadata": {},
     "output_type": "display_data"
    },
    {
     "name": "stdout",
     "output_type": "stream",
     "text": [
      "\n",
      "Epoch: 125 | Time: 0m 19s\n",
      "Training Results - Average Loss: 0.4602 | auc/_mean: 0.9927 | auc/healthy: 0.9986 | auc/multiple_diseases: 0.9782, auc/rust: 0.9967, auc/scab: 0.9971\n",
      "Evaluating Results - Average Loss: 0.4720 | auc/_mean: 0.9744 | auc/healthy: 0.9973 | auc/multiple_diseases: 0.9085, auc/rust: 0.9976, auc/scab: 0.9944\n",
      "\n"
     ]
    },
    {
     "data": {
      "application/vnd.jupyter.widget-view+json": {
       "model_id": "6d7d0f3586204a6c906779374b8e6d08",
       "version_major": 2,
       "version_minor": 0
      },
      "text/plain": [
       "HBox(children=(FloatProgress(value=0.0, description='Train', max=39.0, style=ProgressStyle(description_width='…"
      ]
     },
     "metadata": {},
     "output_type": "display_data"
    },
    {
     "name": "stdout",
     "output_type": "stream",
     "text": [
      "\n",
      "Epoch: 126 | Time: 0m 19s\n",
      "Training Results - Average Loss: 0.4540 | auc/_mean: 0.9931 | auc/healthy: 0.9984 | auc/multiple_diseases: 0.9804, auc/rust: 0.9960, auc/scab: 0.9974\n",
      "Evaluating Results - Average Loss: 0.4709 | auc/_mean: 0.9753 | auc/healthy: 0.9974 | auc/multiple_diseases: 0.9112, auc/rust: 0.9978, auc/scab: 0.9949\n",
      "\n"
     ]
    },
    {
     "data": {
      "application/vnd.jupyter.widget-view+json": {
       "model_id": "2637ec97d7d6428097215f419a9aa3e7",
       "version_major": 2,
       "version_minor": 0
      },
      "text/plain": [
       "HBox(children=(FloatProgress(value=0.0, description='Train', max=39.0, style=ProgressStyle(description_width='…"
      ]
     },
     "metadata": {},
     "output_type": "display_data"
    },
    {
     "name": "stdout",
     "output_type": "stream",
     "text": [
      "\n",
      "Epoch: 127 | Time: 0m 19s\n",
      "Training Results - Average Loss: 0.4478 | auc/_mean: 0.9920 | auc/healthy: 0.9992 | auc/multiple_diseases: 0.9744, auc/rust: 0.9970, auc/scab: 0.9974\n",
      "Evaluating Results - Average Loss: 0.4720 | auc/_mean: 0.9753 | auc/healthy: 0.9975 | auc/multiple_diseases: 0.9113, auc/rust: 0.9977, auc/scab: 0.9946\n",
      "\n"
     ]
    },
    {
     "data": {
      "application/vnd.jupyter.widget-view+json": {
       "model_id": "78eeb9f6fd1d4b7b8e3e7e10607c0840",
       "version_major": 2,
       "version_minor": 0
      },
      "text/plain": [
       "HBox(children=(FloatProgress(value=0.0, description='Train', max=39.0, style=ProgressStyle(description_width='…"
      ]
     },
     "metadata": {},
     "output_type": "display_data"
    },
    {
     "name": "stdout",
     "output_type": "stream",
     "text": [
      "\n",
      "Epoch: 128 | Time: 0m 18s\n",
      "Training Results - Average Loss: 0.4383 | auc/_mean: 0.9956 | auc/healthy: 0.9979 | auc/multiple_diseases: 0.9892, auc/rust: 0.9976, auc/scab: 0.9976\n",
      "Evaluating Results - Average Loss: 0.4715 | auc/_mean: 0.9750 | auc/healthy: 0.9975 | auc/multiple_diseases: 0.9106, auc/rust: 0.9977, auc/scab: 0.9944\n",
      "\n"
     ]
    },
    {
     "data": {
      "application/vnd.jupyter.widget-view+json": {
       "model_id": "362945c98d4947eaa67856d909dfd66e",
       "version_major": 2,
       "version_minor": 0
      },
      "text/plain": [
       "HBox(children=(FloatProgress(value=0.0, description='Train', max=39.0, style=ProgressStyle(description_width='…"
      ]
     },
     "metadata": {},
     "output_type": "display_data"
    },
    {
     "name": "stdout",
     "output_type": "stream",
     "text": [
      "\n",
      "Epoch: 129 | Time: 0m 19s\n",
      "Training Results - Average Loss: 0.4617 | auc/_mean: 0.9903 | auc/healthy: 0.9978 | auc/multiple_diseases: 0.9710, auc/rust: 0.9977, auc/scab: 0.9947\n",
      "Evaluating Results - Average Loss: 0.4701 | auc/_mean: 0.9753 | auc/healthy: 0.9976 | auc/multiple_diseases: 0.9114, auc/rust: 0.9979, auc/scab: 0.9942\n",
      "\n"
     ]
    },
    {
     "data": {
      "application/vnd.jupyter.widget-view+json": {
       "model_id": "2366f1f9827f44b3adc05a81f77fe380",
       "version_major": 2,
       "version_minor": 0
      },
      "text/plain": [
       "HBox(children=(FloatProgress(value=0.0, description='Train', max=39.0, style=ProgressStyle(description_width='…"
      ]
     },
     "metadata": {},
     "output_type": "display_data"
    },
    {
     "name": "stdout",
     "output_type": "stream",
     "text": [
      "\n",
      "Epoch: 130 | Time: 0m 19s\n",
      "Training Results - Average Loss: 0.4453 | auc/_mean: 0.9948 | auc/healthy: 0.9992 | auc/multiple_diseases: 0.9864, auc/rust: 0.9959, auc/scab: 0.9978\n",
      "Evaluating Results - Average Loss: 0.4685 | auc/_mean: 0.9748 | auc/healthy: 0.9978 | auc/multiple_diseases: 0.9091, auc/rust: 0.9979, auc/scab: 0.9944\n",
      "\n"
     ]
    },
    {
     "data": {
      "application/vnd.jupyter.widget-view+json": {
       "model_id": "cb83344ed89443628e9eb75e6cebc56c",
       "version_major": 2,
       "version_minor": 0
      },
      "text/plain": [
       "HBox(children=(FloatProgress(value=0.0, description='Train', max=39.0, style=ProgressStyle(description_width='…"
      ]
     },
     "metadata": {},
     "output_type": "display_data"
    },
    {
     "name": "stdout",
     "output_type": "stream",
     "text": [
      "\n",
      "Epoch: 131 | Time: 0m 19s\n",
      "Training Results - Average Loss: 0.4436 | auc/_mean: 0.9891 | auc/healthy: 0.9956 | auc/multiple_diseases: 0.9654, auc/rust: 0.9972, auc/scab: 0.9982\n",
      "Evaluating Results - Average Loss: 0.4693 | auc/_mean: 0.9745 | auc/healthy: 0.9978 | auc/multiple_diseases: 0.9082, auc/rust: 0.9981, auc/scab: 0.9939\n",
      "\n"
     ]
    },
    {
     "data": {
      "application/vnd.jupyter.widget-view+json": {
       "model_id": "803e83e8f0c943e3a7dd2d648c4b4805",
       "version_major": 2,
       "version_minor": 0
      },
      "text/plain": [
       "HBox(children=(FloatProgress(value=0.0, description='Train', max=39.0, style=ProgressStyle(description_width='…"
      ]
     },
     "metadata": {},
     "output_type": "display_data"
    },
    {
     "name": "stdout",
     "output_type": "stream",
     "text": [
      "\n",
      "Epoch: 132 | Time: 0m 19s\n",
      "Training Results - Average Loss: 0.4472 | auc/_mean: 0.9918 | auc/healthy: 0.9972 | auc/multiple_diseases: 0.9733, auc/rust: 0.9988, auc/scab: 0.9980\n",
      "Evaluating Results - Average Loss: 0.4694 | auc/_mean: 0.9746 | auc/healthy: 0.9978 | auc/multiple_diseases: 0.9086, auc/rust: 0.9981, auc/scab: 0.9940\n",
      "\n"
     ]
    },
    {
     "data": {
      "application/vnd.jupyter.widget-view+json": {
       "model_id": "2c32f7c32c104b52b732e9c5fe37612e",
       "version_major": 2,
       "version_minor": 0
      },
      "text/plain": [
       "HBox(children=(FloatProgress(value=0.0, description='Train', max=39.0, style=ProgressStyle(description_width='…"
      ]
     },
     "metadata": {},
     "output_type": "display_data"
    },
    {
     "name": "stdout",
     "output_type": "stream",
     "text": [
      "\n",
      "Epoch: 133 | Time: 0m 18s\n",
      "Training Results - Average Loss: 0.4505 | auc/_mean: 0.9917 | auc/healthy: 0.9963 | auc/multiple_diseases: 0.9758, auc/rust: 0.9967, auc/scab: 0.9981\n",
      "Evaluating Results - Average Loss: 0.4675 | auc/_mean: 0.9748 | auc/healthy: 0.9979 | auc/multiple_diseases: 0.9088, auc/rust: 0.9980, auc/scab: 0.9943\n",
      "\n"
     ]
    },
    {
     "data": {
      "application/vnd.jupyter.widget-view+json": {
       "model_id": "62be7bc3b7cd4c1a8ed0a5e589888133",
       "version_major": 2,
       "version_minor": 0
      },
      "text/plain": [
       "HBox(children=(FloatProgress(value=0.0, description='Train', max=39.0, style=ProgressStyle(description_width='…"
      ]
     },
     "metadata": {},
     "output_type": "display_data"
    },
    {
     "name": "stdout",
     "output_type": "stream",
     "text": [
      "\n",
      "Epoch: 134 | Time: 0m 19s\n",
      "Training Results - Average Loss: 0.4339 | auc/_mean: 0.9950 | auc/healthy: 0.9984 | auc/multiple_diseases: 0.9879, auc/rust: 0.9950, auc/scab: 0.9987\n",
      "Evaluating Results - Average Loss: 0.4683 | auc/_mean: 0.9748 | auc/healthy: 0.9977 | auc/multiple_diseases: 0.9095, auc/rust: 0.9980, auc/scab: 0.9942\n",
      "\n"
     ]
    },
    {
     "data": {
      "application/vnd.jupyter.widget-view+json": {
       "model_id": "ee31df80ed9a4395a0e2bd2c4b065c99",
       "version_major": 2,
       "version_minor": 0
      },
      "text/plain": [
       "HBox(children=(FloatProgress(value=0.0, description='Train', max=39.0, style=ProgressStyle(description_width='…"
      ]
     },
     "metadata": {},
     "output_type": "display_data"
    },
    {
     "name": "stdout",
     "output_type": "stream",
     "text": [
      "\n",
      "Epoch: 135 | Time: 0m 19s\n",
      "Training Results - Average Loss: 0.4581 | auc/_mean: 0.9871 | auc/healthy: 0.9979 | auc/multiple_diseases: 0.9582, auc/rust: 0.9960, auc/scab: 0.9965\n",
      "Evaluating Results - Average Loss: 0.4680 | auc/_mean: 0.9748 | auc/healthy: 0.9977 | auc/multiple_diseases: 0.9093, auc/rust: 0.9979, auc/scab: 0.9943\n",
      "\n"
     ]
    },
    {
     "data": {
      "application/vnd.jupyter.widget-view+json": {
       "model_id": "0dd39ce37e704c41b2a5ddf1f13d6d17",
       "version_major": 2,
       "version_minor": 0
      },
      "text/plain": [
       "HBox(children=(FloatProgress(value=0.0, description='Train', max=39.0, style=ProgressStyle(description_width='…"
      ]
     },
     "metadata": {},
     "output_type": "display_data"
    },
    {
     "name": "stdout",
     "output_type": "stream",
     "text": [
      "\n",
      "Epoch: 136 | Time: 0m 18s\n",
      "Training Results - Average Loss: 0.4321 | auc/_mean: 0.9915 | auc/healthy: 0.9964 | auc/multiple_diseases: 0.9742, auc/rust: 0.9979, auc/scab: 0.9976\n",
      "Evaluating Results - Average Loss: 0.4681 | auc/_mean: 0.9747 | auc/healthy: 0.9977 | auc/multiple_diseases: 0.9086, auc/rust: 0.9981, auc/scab: 0.9944\n",
      "\n"
     ]
    },
    {
     "data": {
      "application/vnd.jupyter.widget-view+json": {
       "model_id": "5363fc9877704b8fb920291cf4d9a83f",
       "version_major": 2,
       "version_minor": 0
      },
      "text/plain": [
       "HBox(children=(FloatProgress(value=0.0, description='Train', max=39.0, style=ProgressStyle(description_width='…"
      ]
     },
     "metadata": {},
     "output_type": "display_data"
    },
    {
     "name": "stdout",
     "output_type": "stream",
     "text": [
      "\n",
      "Epoch: 137 | Time: 0m 19s\n",
      "Training Results - Average Loss: 0.4468 | auc/_mean: 0.9946 | auc/healthy: 0.9973 | auc/multiple_diseases: 0.9859, auc/rust: 0.9969, auc/scab: 0.9983\n",
      "Evaluating Results - Average Loss: 0.4694 | auc/_mean: 0.9743 | auc/healthy: 0.9978 | auc/multiple_diseases: 0.9071, auc/rust: 0.9981, auc/scab: 0.9943\n",
      "\n"
     ]
    },
    {
     "data": {
      "application/vnd.jupyter.widget-view+json": {
       "model_id": "c7f62aa0574d4294aee7195b1b21c7c0",
       "version_major": 2,
       "version_minor": 0
      },
      "text/plain": [
       "HBox(children=(FloatProgress(value=0.0, description='Train', max=39.0, style=ProgressStyle(description_width='…"
      ]
     },
     "metadata": {},
     "output_type": "display_data"
    },
    {
     "name": "stdout",
     "output_type": "stream",
     "text": [
      "\n",
      "Epoch: 138 | Time: 0m 19s\n",
      "Training Results - Average Loss: 0.4356 | auc/_mean: 0.9952 | auc/healthy: 0.9989 | auc/multiple_diseases: 0.9901, auc/rust: 0.9971, auc/scab: 0.9948\n",
      "Evaluating Results - Average Loss: 0.4698 | auc/_mean: 0.9741 | auc/healthy: 0.9976 | auc/multiple_diseases: 0.9067, auc/rust: 0.9981, auc/scab: 0.9940\n",
      "\n"
     ]
    },
    {
     "data": {
      "application/vnd.jupyter.widget-view+json": {
       "model_id": "27216251b5e24056b59f760a3c417470",
       "version_major": 2,
       "version_minor": 0
      },
      "text/plain": [
       "HBox(children=(FloatProgress(value=0.0, description='Train', max=39.0, style=ProgressStyle(description_width='…"
      ]
     },
     "metadata": {},
     "output_type": "display_data"
    },
    {
     "name": "stdout",
     "output_type": "stream",
     "text": [
      "\n",
      "Epoch: 139 | Time: 0m 19s\n",
      "Training Results - Average Loss: 0.4478 | auc/_mean: 0.9912 | auc/healthy: 0.9984 | auc/multiple_diseases: 0.9742, auc/rust: 0.9950, auc/scab: 0.9973\n",
      "Evaluating Results - Average Loss: 0.4697 | auc/_mean: 0.9742 | auc/healthy: 0.9976 | auc/multiple_diseases: 0.9072, auc/rust: 0.9980, auc/scab: 0.9940\n",
      "\n"
     ]
    },
    {
     "data": {
      "application/vnd.jupyter.widget-view+json": {
       "model_id": "7600d0df68254846be98e376fa654374",
       "version_major": 2,
       "version_minor": 0
      },
      "text/plain": [
       "HBox(children=(FloatProgress(value=0.0, description='Train', max=39.0, style=ProgressStyle(description_width='…"
      ]
     },
     "metadata": {},
     "output_type": "display_data"
    },
    {
     "name": "stdout",
     "output_type": "stream",
     "text": [
      "\n",
      "Epoch: 140 | Time: 0m 18s\n",
      "Training Results - Average Loss: 0.4392 | auc/_mean: 0.9902 | auc/healthy: 0.9975 | auc/multiple_diseases: 0.9712, auc/rust: 0.9943, auc/scab: 0.9979\n",
      "Evaluating Results - Average Loss: 0.4702 | auc/_mean: 0.9746 | auc/healthy: 0.9976 | auc/multiple_diseases: 0.9085, auc/rust: 0.9978, auc/scab: 0.9944\n",
      "\n"
     ]
    },
    {
     "data": {
      "application/vnd.jupyter.widget-view+json": {
       "model_id": "08c56d4f89b2483c949fe6979ab2452a",
       "version_major": 2,
       "version_minor": 0
      },
      "text/plain": [
       "HBox(children=(FloatProgress(value=0.0, description='Train', max=39.0, style=ProgressStyle(description_width='…"
      ]
     },
     "metadata": {},
     "output_type": "display_data"
    },
    {
     "name": "stdout",
     "output_type": "stream",
     "text": [
      "\n",
      "Epoch: 141 | Time: 0m 18s\n",
      "Training Results - Average Loss: 0.4471 | auc/_mean: 0.9912 | auc/healthy: 0.9984 | auc/multiple_diseases: 0.9714, auc/rust: 0.9963, auc/scab: 0.9985\n",
      "Evaluating Results - Average Loss: 0.4680 | auc/_mean: 0.9745 | auc/healthy: 0.9976 | auc/multiple_diseases: 0.9078, auc/rust: 0.9978, auc/scab: 0.9948\n",
      "\n"
     ]
    },
    {
     "data": {
      "application/vnd.jupyter.widget-view+json": {
       "model_id": "f3e4378d83be424c92d847ff37b651e7",
       "version_major": 2,
       "version_minor": 0
      },
      "text/plain": [
       "HBox(children=(FloatProgress(value=0.0, description='Train', max=39.0, style=ProgressStyle(description_width='…"
      ]
     },
     "metadata": {},
     "output_type": "display_data"
    },
    {
     "name": "stdout",
     "output_type": "stream",
     "text": [
      "\n",
      "Epoch: 142 | Time: 0m 19s\n",
      "Training Results - Average Loss: 0.4397 | auc/_mean: 0.9904 | auc/healthy: 0.9981 | auc/multiple_diseases: 0.9695, auc/rust: 0.9973, auc/scab: 0.9967\n",
      "Evaluating Results - Average Loss: 0.4682 | auc/_mean: 0.9740 | auc/healthy: 0.9976 | auc/multiple_diseases: 0.9058, auc/rust: 0.9978, auc/scab: 0.9946\n",
      "\n"
     ]
    },
    {
     "data": {
      "application/vnd.jupyter.widget-view+json": {
       "model_id": "0850cedaa6d44689886113567ca89bfd",
       "version_major": 2,
       "version_minor": 0
      },
      "text/plain": [
       "HBox(children=(FloatProgress(value=0.0, description='Train', max=39.0, style=ProgressStyle(description_width='…"
      ]
     },
     "metadata": {},
     "output_type": "display_data"
    },
    {
     "name": "stdout",
     "output_type": "stream",
     "text": [
      "\n",
      "Epoch: 143 | Time: 0m 19s\n",
      "Training Results - Average Loss: 0.4319 | auc/_mean: 0.9961 | auc/healthy: 0.9980 | auc/multiple_diseases: 0.9919, auc/rust: 0.9985, auc/scab: 0.9959\n",
      "Evaluating Results - Average Loss: 0.4693 | auc/_mean: 0.9750 | auc/healthy: 0.9976 | auc/multiple_diseases: 0.9101, auc/rust: 0.9979, auc/scab: 0.9944\n",
      "\n"
     ]
    },
    {
     "data": {
      "application/vnd.jupyter.widget-view+json": {
       "model_id": "4104fb4a403347479da4dcac12c0d548",
       "version_major": 2,
       "version_minor": 0
      },
      "text/plain": [
       "HBox(children=(FloatProgress(value=0.0, description='Train', max=39.0, style=ProgressStyle(description_width='…"
      ]
     },
     "metadata": {},
     "output_type": "display_data"
    },
    {
     "name": "stdout",
     "output_type": "stream",
     "text": [
      "\n",
      "Epoch: 144 | Time: 0m 18s\n",
      "Training Results - Average Loss: 0.4381 | auc/_mean: 0.9939 | auc/healthy: 0.9964 | auc/multiple_diseases: 0.9835, auc/rust: 0.9984, auc/scab: 0.9974\n",
      "Evaluating Results - Average Loss: 0.4681 | auc/_mean: 0.9752 | auc/healthy: 0.9976 | auc/multiple_diseases: 0.9109, auc/rust: 0.9979, auc/scab: 0.9942\n",
      "\n",
      "EarlyStopping\n"
     ]
    }
   ],
   "source": [
    "trainer = Trainer(model, train_dataloader, valid_dataloader, criterion, optimizer, scheduler, device, config)\n",
    "trainer.run();"
   ]
  },
  {
   "cell_type": "code",
   "execution_count": null,
   "metadata": {},
   "outputs": [],
   "source": []
  },
  {
   "cell_type": "code",
   "execution_count": null,
   "metadata": {},
   "outputs": [],
   "source": []
  },
  {
   "cell_type": "code",
   "execution_count": 13,
   "metadata": {},
   "outputs": [],
   "source": [
    "\n",
    "class PlantDatasetTest(Dataset):\n",
    "    \n",
    "    def __init__(self, df, config, transforms=None):\n",
    "    \n",
    "        self.df = df\n",
    "        self.images_dir = config.root_images\n",
    "        self.class_names = config.class_names\n",
    "        self.transforms=transforms\n",
    "        \n",
    "    def __len__(self):\n",
    "        return self.df.shape[0]\n",
    "    \n",
    "    def __getitem__(self, idx):\n",
    "        image_src = self.images_dir + self.df.iloc[idx]['image_id'] + '.jpg'\n",
    "        image = cv2.imread(image_src, cv2.IMREAD_COLOR)\n",
    "        image = cv2.cvtColor(image, cv2.COLOR_BGR2RGB)\n",
    "        \n",
    "        if self.transforms:\n",
    "            transformed = self.transforms(image=image)\n",
    "            image = transformed['image']\n",
    "\n",
    "        return image, idx\n",
    "\n",
    "test_df = pd.read_csv(config.root + 'test.csv')\n",
    "test_dataset = PlantDatasetTest(test_df, config, train_transforms)\n",
    "test_dataloader = DataLoader(test_dataset, batch_size=config.batch_size, shuffle=False, num_workers=config.num_workers)"
   ]
  },
  {
   "cell_type": "code",
   "execution_count": 14,
   "metadata": {},
   "outputs": [],
   "source": [
    "def predict(model, dataloader: DataLoader, device, dataset: Dataset, tta_count: int, config: ConfigExperiment):\n",
    "    n_samples = len(dataset)\n",
    "    y_probas_tta = np.zeros((n_samples, config.num_classes, tta_count), dtype=np.float32)\n",
    "    \n",
    "    model.eval()\n",
    "    model.to(device)\n",
    "    with torch.no_grad():\n",
    "        for i_epoch in tqdm(range(tta_count), desc='TTA', total=tta_count, position=1, leave=True):\n",
    "            for i, (images, idx) in enumerate(dataloader):\n",
    "                images = images.to(device)\n",
    "                outputs = model(images)\n",
    "                y_pred = F.softmax(outputs, dim=1)\n",
    "                \n",
    "                tta_index = i_epoch - 1\n",
    "                start_index = (i % len(dataloader)) * config.batch_size\n",
    "                end_index = min(start_index + config.batch_size, n_samples)\n",
    "                batch_y_probas = y_pred.detach().cpu().numpy()                \n",
    "                y_probas_tta[start_index:end_index, :, tta_index] = batch_y_probas\n",
    "\n",
    "    return y_probas_tta"
   ]
  },
  {
   "cell_type": "code",
   "execution_count": 15,
   "metadata": {},
   "outputs": [
    {
     "name": "stdout",
     "output_type": "stream",
     "text": [
      "Loaded pretrained weights for efficientnet-b0\n"
     ]
    },
    {
     "data": {
      "text/plain": [
       "<All keys matched successfully>"
      ]
     },
     "execution_count": 15,
     "metadata": {},
     "output_type": "execute_result"
    }
   ],
   "source": [
    "model = get_model(config.model_name, config.num_classes)\n",
    "model.load_state_dict(torch.load(f\"{config.save_dirname}/best_model_epoch=126_auc_mean=0.9753065692644196.pth\"))"
   ]
  },
  {
   "cell_type": "code",
   "execution_count": 16,
   "metadata": {},
   "outputs": [
    {
     "data": {
      "application/vnd.jupyter.widget-view+json": {
       "model_id": "9992cf282c7944f1b222c0f917a9c061",
       "version_major": 2,
       "version_minor": 0
      },
      "text/plain": [
       "HBox(children=(FloatProgress(value=0.0, description='TTA', max=5.0, style=ProgressStyle(description_width='ini…"
      ]
     },
     "metadata": {},
     "output_type": "display_data"
    },
    {
     "name": "stdout",
     "output_type": "stream",
     "text": [
      "\n"
     ]
    }
   ],
   "source": [
    "result = predict(model, test_dataloader, device, test_dataset, tta_count=5, config=config)"
   ]
  },
  {
   "cell_type": "code",
   "execution_count": 17,
   "metadata": {},
   "outputs": [],
   "source": [
    "y_probas = np.mean(result, axis=-1)"
   ]
  },
  {
   "cell_type": "code",
   "execution_count": 18,
   "metadata": {},
   "outputs": [
    {
     "data": {
      "text/plain": [
       "array([[0.04094496, 0.09230677, 0.85037744, 0.01637086],\n",
       "       [0.01575707, 0.04604911, 0.92792654, 0.01026727],\n",
       "       [0.01152406, 0.02910677, 0.01681365, 0.94255555],\n",
       "       [0.95874006, 0.0132782 , 0.01732136, 0.01066045],\n",
       "       [0.01898009, 0.01973237, 0.9515273 , 0.00976023],\n",
       "       [0.81728727, 0.01715877, 0.08577295, 0.07978107],\n",
       "       [0.9641827 , 0.00806555, 0.02274434, 0.00500738],\n",
       "       [0.01878336, 0.20291618, 0.04592507, 0.73237544],\n",
       "       [0.02047195, 0.4191211 , 0.12451655, 0.43589044],\n",
       "       [0.05369949, 0.07008991, 0.83317363, 0.04303695]], dtype=float32)"
      ]
     },
     "execution_count": 18,
     "metadata": {},
     "output_type": "execute_result"
    }
   ],
   "source": [
    "y_probas[:10]"
   ]
  },
  {
   "cell_type": "code",
   "execution_count": 19,
   "metadata": {},
   "outputs": [
    {
     "data": {
      "text/html": [
       "<div>\n",
       "<style scoped>\n",
       "    .dataframe tbody tr th:only-of-type {\n",
       "        vertical-align: middle;\n",
       "    }\n",
       "\n",
       "    .dataframe tbody tr th {\n",
       "        vertical-align: top;\n",
       "    }\n",
       "\n",
       "    .dataframe thead th {\n",
       "        text-align: right;\n",
       "    }\n",
       "</style>\n",
       "<table border=\"1\" class=\"dataframe\">\n",
       "  <thead>\n",
       "    <tr style=\"text-align: right;\">\n",
       "      <th></th>\n",
       "      <th>image_id</th>\n",
       "      <th>healthy</th>\n",
       "      <th>multiple_diseases</th>\n",
       "      <th>rust</th>\n",
       "      <th>scab</th>\n",
       "    </tr>\n",
       "  </thead>\n",
       "  <tbody>\n",
       "    <tr>\n",
       "      <th>0</th>\n",
       "      <td>Test_0</td>\n",
       "      <td>0.040945</td>\n",
       "      <td>0.092307</td>\n",
       "      <td>0.850377</td>\n",
       "      <td>0.016371</td>\n",
       "    </tr>\n",
       "    <tr>\n",
       "      <th>1</th>\n",
       "      <td>Test_1</td>\n",
       "      <td>0.015757</td>\n",
       "      <td>0.046049</td>\n",
       "      <td>0.927927</td>\n",
       "      <td>0.010267</td>\n",
       "    </tr>\n",
       "    <tr>\n",
       "      <th>2</th>\n",
       "      <td>Test_2</td>\n",
       "      <td>0.011524</td>\n",
       "      <td>0.029107</td>\n",
       "      <td>0.016814</td>\n",
       "      <td>0.942556</td>\n",
       "    </tr>\n",
       "    <tr>\n",
       "      <th>3</th>\n",
       "      <td>Test_3</td>\n",
       "      <td>0.958740</td>\n",
       "      <td>0.013278</td>\n",
       "      <td>0.017321</td>\n",
       "      <td>0.010660</td>\n",
       "    </tr>\n",
       "    <tr>\n",
       "      <th>4</th>\n",
       "      <td>Test_4</td>\n",
       "      <td>0.018980</td>\n",
       "      <td>0.019732</td>\n",
       "      <td>0.951527</td>\n",
       "      <td>0.009760</td>\n",
       "    </tr>\n",
       "  </tbody>\n",
       "</table>\n",
       "</div>"
      ],
      "text/plain": [
       "  image_id   healthy  multiple_diseases      rust      scab\n",
       "0   Test_0  0.040945           0.092307  0.850377  0.016371\n",
       "1   Test_1  0.015757           0.046049  0.927927  0.010267\n",
       "2   Test_2  0.011524           0.029107  0.016814  0.942556\n",
       "3   Test_3  0.958740           0.013278  0.017321  0.010660\n",
       "4   Test_4  0.018980           0.019732  0.951527  0.009760"
      ]
     },
     "execution_count": 19,
     "metadata": {},
     "output_type": "execute_result"
    }
   ],
   "source": [
    "test_df = pd.read_csv(config.root + 'test.csv')\n",
    "test_df[\"healthy\"] = 0\n",
    "test_df[\"multiple_diseases\"] = 0\n",
    "test_df[\"rust\"] = 0\n",
    "test_df[\"scab\"] = 0\n",
    "test_df[['healthy', 'multiple_diseases', 'rust', 'scab']] = y_probas\n",
    "test_df.to_csv(config.submission_file, index=False)\n",
    "test_df.head()"
   ]
  },
  {
   "cell_type": "code",
   "execution_count": 20,
   "metadata": {},
   "outputs": [
    {
     "data": {
      "text/plain": [
       "'02_efficientnet-b0_tts=03.csv'"
      ]
     },
     "execution_count": 20,
     "metadata": {},
     "output_type": "execute_result"
    }
   ],
   "source": [
    "config.submission_file"
   ]
  },
  {
   "cell_type": "code",
   "execution_count": null,
   "metadata": {},
   "outputs": [],
   "source": []
  },
  {
   "cell_type": "code",
   "execution_count": null,
   "metadata": {},
   "outputs": [],
   "source": []
  },
  {
   "cell_type": "code",
   "execution_count": null,
   "metadata": {},
   "outputs": [],
   "source": []
  },
  {
   "cell_type": "code",
   "execution_count": null,
   "metadata": {},
   "outputs": [],
   "source": []
  },
  {
   "cell_type": "code",
   "execution_count": null,
   "metadata": {},
   "outputs": [],
   "source": []
  },
  {
   "cell_type": "code",
   "execution_count": null,
   "metadata": {},
   "outputs": [],
   "source": []
  },
  {
   "cell_type": "code",
   "execution_count": null,
   "metadata": {},
   "outputs": [],
   "source": []
  },
  {
   "cell_type": "code",
   "execution_count": null,
   "metadata": {},
   "outputs": [],
   "source": []
  },
  {
   "cell_type": "code",
   "execution_count": null,
   "metadata": {},
   "outputs": [],
   "source": []
  },
  {
   "cell_type": "code",
   "execution_count": null,
   "metadata": {},
   "outputs": [],
   "source": []
  },
  {
   "cell_type": "code",
   "execution_count": null,
   "metadata": {},
   "outputs": [],
   "source": []
  },
  {
   "cell_type": "code",
   "execution_count": null,
   "metadata": {},
   "outputs": [],
   "source": []
  },
  {
   "cell_type": "code",
   "execution_count": null,
   "metadata": {},
   "outputs": [],
   "source": []
  },
  {
   "cell_type": "code",
   "execution_count": null,
   "metadata": {},
   "outputs": [],
   "source": []
  }
 ],
 "metadata": {
  "kernelspec": {
   "display_name": "Python 3",
   "language": "python",
   "name": "python3"
  },
  "language_info": {
   "codemirror_mode": {
    "name": "ipython",
    "version": 3
   },
   "file_extension": ".py",
   "mimetype": "text/x-python",
   "name": "python",
   "nbconvert_exporter": "python",
   "pygments_lexer": "ipython3",
   "version": "3.6.9"
  }
 },
 "nbformat": 4,
 "nbformat_minor": 4
}
