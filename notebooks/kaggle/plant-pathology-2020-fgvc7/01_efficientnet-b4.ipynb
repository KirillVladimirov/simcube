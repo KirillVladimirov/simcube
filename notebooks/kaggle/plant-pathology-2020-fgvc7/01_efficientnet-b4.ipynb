{
 "cells": [
  {
   "cell_type": "code",
   "execution_count": 1,
   "metadata": {},
   "outputs": [],
   "source": [
    "import warnings  \n",
    "\n",
    "import os\n",
    "import time\n",
    "import random\n",
    "import numpy as np\n",
    "import pandas as pd\n",
    "import matplotlib.pyplot as plt\n",
    "\n",
    "import albumentations as A\n",
    "from albumentations.pytorch import ToTensorV2\n",
    "import cv2\n",
    "\n",
    "import torch\n",
    "import torch.nn as nn\n",
    "import torch.nn.functional as F\n",
    "import torchvision\n",
    "import torch.optim as optim\n",
    "from torch.utils.data import Dataset, DataLoader\n",
    "from torch.utils.data.dataset import Subset\n",
    "from torch.nn.functional import softmax\n",
    "\n",
    "from efficientnet_pytorch import EfficientNet\n",
    "\n",
    "from typing import Callable, List, Tuple, Dict\n",
    "from pathlib import Path\n",
    "\n",
    "from transformers import AdamW\n",
    "from transformers import get_cosine_schedule_with_warmup\n",
    "\n",
    "from sklearn.metrics import roc_auc_score, accuracy_score\n",
    "from sklearn.model_selection import train_test_split\n",
    "from collections import defaultdict, OrderedDict\n",
    "from tqdm.notebook import tqdm\n",
    "from torchsummary import summary\n",
    "\n",
    "import matplotlib\n",
    "matplotlib.rcParams.update({'figure.figsize': (16, 12), 'font.size': 14})\n",
    "import matplotlib.pyplot as plt\n",
    "%matplotlib inline\n",
    "from IPython.display import clear_output"
   ]
  },
  {
   "cell_type": "code",
   "execution_count": 2,
   "metadata": {},
   "outputs": [],
   "source": [
    "warnings.simplefilter(\"ignore\", UserWarning)\n",
    "warnings.simplefilter(\"ignore\", DeprecationWarning)\n",
    "warnings.filterwarnings('ignore')\n",
    "os.environ[\"PYTHONWARNINGS\"] = \"ignore\""
   ]
  },
  {
   "cell_type": "code",
   "execution_count": 3,
   "metadata": {},
   "outputs": [
    {
     "name": "stdout",
     "output_type": "stream",
     "text": [
      "Directory  01_efficientnet-b4  Created \n"
     ]
    }
   ],
   "source": [
    "EXPERIMENT_NAME = \"01_efficientnet-b4\"\n",
    "\n",
    "class ConfigExperiment:\n",
    "    logdir = f\"./logs/{EXPERIMENT_NAME}\"\n",
    "    save_dirname = EXPERIMENT_NAME\n",
    "    submission_file = f\"{EXPERIMENT_NAME}.csv\"\n",
    "    seed = 42\n",
    "    batch_size = 8\n",
    "    model_name = 'efficientnet-b4'\n",
    "    size = 512\n",
    "    num_workers = 20\n",
    "    root_images = \"../../../data/raw/plant-pathology-2020-fgvc7/images/\"\n",
    "    root = \"../../../data/raw/plant-pathology-2020-fgvc7/\"\n",
    "    num_classes = 4\n",
    "    patience = 10\n",
    "    early_stopping_delta = 1e-4\n",
    "    num_epochs = 200\n",
    "    lr = 0.003\n",
    "    class_names = [\"healthy\", \"multiple_diseases\", \"rust\", \"scab\"]\n",
    "    is_fp16_used = False\n",
    "    \n",
    "    \n",
    "def set_seed(seed):\n",
    "    torch.manual_seed(seed)\n",
    "    torch.cuda.manual_seed_all(seed)\n",
    "    torch.backends.cudnn.deterministic = True\n",
    "    torch.backends.cudnn.benchmark = False\n",
    "    np.random.seed(seed)\n",
    "    random.seed(seed)\n",
    "    os.environ['PYTHONHASHSEED'] = str(seed)\n",
    "    \n",
    "    \n",
    "config = ConfigExperiment()\n",
    "set_seed(config.seed)\n",
    "config.size = EfficientNet.get_image_size(config.model_name)\n",
    "os.environ[\"CUDA_VISIBLE_DEVICES\"] = \"0\"\n",
    "device = \"cuda\" if torch.cuda.is_available() else \"cpu\"\n",
    "\n",
    "try:\n",
    "    # Create target Directory\n",
    "    os.mkdir(config.save_dirname)\n",
    "    print(\"Directory \" , config.save_dirname ,  \" Created \") \n",
    "except FileExistsError:\n",
    "    print(\"Directory \" , config.save_dirname ,  \" already exists\")"
   ]
  },
  {
   "cell_type": "code",
   "execution_count": 4,
   "metadata": {},
   "outputs": [],
   "source": [
    "class PlantDataset(Dataset):\n",
    "    \n",
    "    def __init__(self, df, config, transforms=None):\n",
    "    \n",
    "        self.df = df\n",
    "        self.images_dir = config.root_images\n",
    "        self.class_names = config.class_names\n",
    "        self.transforms=transforms\n",
    "        \n",
    "    def __len__(self):\n",
    "        return self.df.shape[0]\n",
    "    \n",
    "    def __getitem__(self, idx):\n",
    "        image_src = self.images_dir + self.df.iloc[idx]['image_id'] + '.jpg'\n",
    "        image = cv2.imread(image_src, cv2.IMREAD_COLOR)\n",
    "        image = cv2.cvtColor(image, cv2.COLOR_BGR2RGB)\n",
    "        labels = self.df.iloc[idx][self.class_names].values.astype(np.int8)\n",
    "        label = torch.argmax(torch.from_numpy(labels))\n",
    "        \n",
    "        if self.transforms:\n",
    "            transformed = self.transforms(image=image)\n",
    "            image = transformed['image']\n",
    "\n",
    "        return image, label"
   ]
  },
  {
   "cell_type": "code",
   "execution_count": 5,
   "metadata": {},
   "outputs": [],
   "source": [
    "def pre_transforms(image_size=224):\n",
    "    # Convert the image to a square of size image_size x image_size\n",
    "    # (keeping aspect ratio)\n",
    "    result = [\n",
    "        A.LongestMaxSize(max_size=image_size),\n",
    "        A.PadIfNeeded(image_size, image_size, border_mode=0)\n",
    "    ]\n",
    "    \n",
    "    return result\n",
    "\n",
    "def hard_transforms():\n",
    "    result = [\n",
    "        # Random shifts, stretches and turns with a 50% probability\n",
    "#         A.RandomResizedCrop(height=config.size, width=config.size, p=1.0),\n",
    "        A.OneOf([\n",
    "            A.Rotate(limit=90, p=1),\n",
    "            A.HorizontalFlip(p=1),\n",
    "            A.VerticalFlip(p=1),\n",
    "            A.OpticalDistortion(p=1),\n",
    "            A.ShiftScaleRotate(rotate_limit=90, shift_limit=0.2, scale_limit=0.1, p=1)\n",
    "        ], p=0.8),\n",
    "        \n",
    "        # Pixels\n",
    "        A.OneOf([\n",
    "            A.IAAEmboss(p=1.0),\n",
    "            A.IAASharpen(p=1.0),\n",
    "            A.Blur(p=1.0),\n",
    "        ], p=0.5),\n",
    "\n",
    "        # Affine\n",
    "        A.OneOf([\n",
    "            A.RandomContrast(limit=0.2, p=1),\n",
    "            A.ElasticTransform(p=1),\n",
    "            A.IAAPiecewiseAffine(p=1)\n",
    "        ], p=0.5),\n",
    "    ]\n",
    "    \n",
    "    return result\n",
    "\n",
    "def post_transforms():\n",
    "    # we use ImageNet image normalization\n",
    "    # and convert it to torch.Tensor\n",
    "    return [A.Normalize(p=1.0), ToTensorV2(p=1.0),]\n",
    "\n",
    "def compose(transforms_to_compose):\n",
    "    # combine all augmentations into one single pipeline\n",
    "    result = A.Compose([item for sublist in transforms_to_compose for item in sublist])\n",
    "    return result"
   ]
  },
  {
   "cell_type": "code",
   "execution_count": 6,
   "metadata": {},
   "outputs": [],
   "source": [
    "train_df = pd.read_csv(config.root + 'train.csv')\n",
    "train, valid = train_test_split(train_df, test_size=0.33, random_state=config.seed, shuffle=True, stratify=train_df[config.class_names])\n",
    "\n",
    "train_transforms = compose([\n",
    "    pre_transforms(config.size),\n",
    "    hard_transforms(), \n",
    "    post_transforms()\n",
    "])\n",
    "valid_transforms = compose([\n",
    "    pre_transforms(config.size), \n",
    "    post_transforms()\n",
    "])\n",
    "\n",
    "show_transforms = compose([\n",
    "    pre_transforms(config.size),\n",
    "    hard_transforms()\n",
    "])\n",
    "\n",
    "train_dataset = PlantDataset(train, config, train_transforms)\n",
    "valid_dataset = PlantDataset(valid, config, valid_transforms)\n",
    "\n",
    "train_dataloader = DataLoader(train_dataset, batch_size=config.batch_size, shuffle=True, num_workers=config.num_workers)\n",
    "valid_dataloader = DataLoader(valid_dataset, batch_size=config.batch_size, shuffle=False, num_workers=config.num_workers)"
   ]
  },
  {
   "cell_type": "code",
   "execution_count": 7,
   "metadata": {},
   "outputs": [
    {
     "name": "stdout",
     "output_type": "stream",
     "text": [
      "Loaded pretrained weights for efficientnet-b4\n"
     ]
    }
   ],
   "source": [
    "def get_model(model_name: str, num_classes: int, pretrained: str = \"imagenet\") -> EfficientNet:\n",
    "    model = EfficientNet.from_pretrained(model_name)\n",
    "    for param in model.parameters():\n",
    "        param.requires_grad = False\n",
    "    num_ftrs = model._fc.in_features\n",
    "    model._fc = nn.Sequential(nn.Linear(num_ftrs, num_classes, bias = True))\n",
    "    return model\n",
    "\n",
    "model = get_model(config.model_name, config.num_classes)"
   ]
  },
  {
   "cell_type": "code",
   "execution_count": 8,
   "metadata": {},
   "outputs": [],
   "source": [
    "criterion = nn.CrossEntropyLoss()\n",
    "optimizer = torch.optim.Adam(model.parameters(), lr=config.lr)\n",
    "scheduler = torch.optim.lr_scheduler.ReduceLROnPlateau(optimizer, patience=3, verbose=True, mode=\"min\", factor=0.3)\n",
    "# scheduler = torch.optim.lr_scheduler.ExponentialLR(optimizer, gamma=0.8)\n",
    "\n",
    "# end_lr = 0.1\n",
    "# start_lr = 1e-7\n",
    "# lr_lambda = lambda x: math.exp(x * math.log(end_lr / start_lr) / (lr_find_epochs * len(train_dataloader)))\n",
    "# scheduler = torch.optim.lr_scheduler.LambdaLR(optimizer, lr_lambda)\n",
    "\n",
    "# scheduler_1 = LinearCyclicalScheduler(optimizer, \"lr\", start_value=0.01, end_value=0.005, cycle_size=60)\n",
    "# scheduler_2 = CosineAnnealingScheduler(optimizer, \"lr\", start_value=0.05, end_value=0.001, cycle_size=60)\n",
    "# combined_scheduler = ConcatScheduler(schedulers=[scheduler_1, scheduler_2], durations=[30, ])"
   ]
  },
  {
   "cell_type": "code",
   "execution_count": 9,
   "metadata": {},
   "outputs": [],
   "source": [
    "class Trainer:\n",
    "    def __init__(self, model, train_dataloader: DataLoader, valid_dataloader: DataLoader, criterion, optimizer, scheduler, device, config: ConfigExperiment):\n",
    "        self.model = model\n",
    "        self.train_dataloader = train_dataloader\n",
    "        self.valid_dataloader = valid_dataloader\n",
    "        self.criterion = criterion\n",
    "        self.optimizer = optimizer\n",
    "        self.scheduler = scheduler\n",
    "        self.device = device\n",
    "        self.config = config\n",
    "        self.train_metrics = {\n",
    "            'avg_loss': [],\n",
    "            'auc/_mean': [],\n",
    "            'auc/healthy': [],\n",
    "            'auc/multiple_diseases': [],\n",
    "            'auc/rust': [],\n",
    "            'auc/scab': [],\n",
    "        }\n",
    "        self.valid_metrics = {\n",
    "            'avg_loss': [],\n",
    "            'auc/_mean': [],\n",
    "            'auc/healthy': [],\n",
    "            'auc/multiple_diseases': [],\n",
    "            'auc/rust': [],\n",
    "            'auc/scab': [],\n",
    "        }\n",
    "        self.counter = 0\n",
    "        self.delta = config.early_stopping_delta\n",
    "      \n",
    "    def run(self):\n",
    "        self.model.to(device)\n",
    "        best_valid_loss = float('inf')\n",
    "        best_valid_auc_mean = 0\n",
    "\n",
    "        try:\n",
    "            for i_epoch in tqdm(range(self.config.num_epochs), desc='Epochs', total=config.num_epochs, position=1, leave=True):\n",
    "                start_time = time.time()\n",
    "\n",
    "                train_loss, train_outputs, train_targets = self._train()\n",
    "                valid_loss, valid_outputs, valid_targets = self._evaluate()\n",
    "                    \n",
    "                self.train_metrics[\"avg_loss\"].append(train_loss)\n",
    "                self.train_metrics[\"auc/_mean\"].append(self.comp_metric(train_outputs, train_targets))\n",
    "                self.train_metrics[\"auc/healthy\"].append(self.healthy_roc_auc(train_outputs, train_targets))\n",
    "                self.train_metrics[\"auc/multiple_diseases\"].append(self.multiple_diseases_roc_auc(train_outputs, train_targets))\n",
    "                self.train_metrics[\"auc/rust\"].append(self.rust_roc_auc(train_outputs, train_targets))\n",
    "                self.train_metrics[\"auc/scab\"].append(self.scab_roc_auc(train_outputs, train_targets))\n",
    "                \n",
    "                self.valid_metrics[\"avg_loss\"].append(valid_loss)\n",
    "                self.valid_metrics[\"auc/_mean\"].append(self.comp_metric(valid_outputs, valid_targets))\n",
    "                self.valid_metrics[\"auc/healthy\"].append(self.healthy_roc_auc(valid_outputs, valid_targets))\n",
    "                self.valid_metrics[\"auc/multiple_diseases\"].append(self.multiple_diseases_roc_auc(valid_outputs, valid_targets))\n",
    "                self.valid_metrics[\"auc/rust\"].append(self.rust_roc_auc(valid_outputs, valid_targets))\n",
    "                self.valid_metrics[\"auc/scab\"].append(self.scab_roc_auc(valid_outputs, valid_targets))\n",
    "                \n",
    "                end_time = time.time()\n",
    "                epoch_mins, epoch_secs = self._epoch_time(start_time, end_time)\n",
    "                self.print_progress(i_epoch, epoch_mins, epoch_secs)\n",
    "                \n",
    "                self.scheduler.step(self.valid_metrics[\"auc/_mean\"][-1])\n",
    "                \n",
    "                if valid_loss < best_valid_loss:\n",
    "                    self.counter = 0\n",
    "                    best_valid_loss = valid_loss\n",
    "                    torch.save(model.state_dict(), f\"{config.save_dirname}/best_model_epoch={i_epoch+1}_loss={best_valid_loss}.pth\")\n",
    "                else:\n",
    "                    self.counter += 1\n",
    "                    \n",
    "                if self.valid_metrics[\"auc/_mean\"][-1] > best_valid_auc_mean:\n",
    "                    best_valid_auc_mean = self.valid_metrics[\"auc/_mean\"][-1]\n",
    "                    torch.save(model.state_dict(), f\"{config.save_dirname}/best_model_epoch={i_epoch+1}_auc_mean={best_valid_auc_mean}.pth\")\n",
    "                    \n",
    "                if self.counter > self.config.patience:\n",
    "                    print(\"EarlyStopping\")\n",
    "                    break\n",
    "        except KeyboardInterrupt: \n",
    "            pass\n",
    "        \n",
    "        return self.train_metrics, self.valid_metrics\n",
    "        \n",
    "    def _train(self):\n",
    "        model.train()\n",
    "        epoch_loss = 0\n",
    "        epoch_output = None\n",
    "        epoch_target = None\n",
    "        for i, (images, labels) in tqdm(enumerate(self.train_dataloader), desc='Train', total=len(self.train_dataloader), position=2, leave=True):\n",
    "            loss_iten, outputs = self._train_process(images, labels)\n",
    "            epoch_loss += loss_iten              \n",
    "\n",
    "            if epoch_output is None:\n",
    "                epoch_output = outputs.cpu().data\n",
    "            else:\n",
    "                epoch_output = torch.cat((epoch_output, outputs.cpu().data))\n",
    "\n",
    "            if epoch_target is None:\n",
    "                epoch_target = labels.cpu().data\n",
    "            else:\n",
    "                epoch_target = torch.cat((epoch_target, labels.cpu().data))\n",
    "            \n",
    "        return epoch_loss / len(self.train_dataloader), epoch_output, epoch_target\n",
    "    \n",
    "    def _train_process(self, images, labels):\n",
    "        images = images.to(self.device)\n",
    "        labels = labels.to(self.device)\n",
    "        self.optimizer.zero_grad()\n",
    "        outputs = self.model(images)\n",
    "        loss = self.criterion(outputs, labels)\n",
    "        loss.backward()\n",
    "        self.optimizer.step()\n",
    "        return loss.item(), outputs\n",
    "            \n",
    "    def _evaluate(self):\n",
    "        model.eval()\n",
    "        epoch_loss = 0\n",
    "        epoch_output = None\n",
    "        epoch_target = None\n",
    "        with torch.no_grad():\n",
    "            for i, (images, labels) in enumerate(self.valid_dataloader):\n",
    "                images = images.to(device)\n",
    "                labels = labels.to(device)\n",
    "                outputs = model(images)\n",
    "                loss = criterion(outputs, labels)\n",
    "                epoch_loss += loss.item()\n",
    "                \n",
    "                if epoch_output is None:\n",
    "                    epoch_output = outputs.cpu().data\n",
    "                else:\n",
    "                    epoch_output = torch.cat((epoch_output, outputs.cpu().data))\n",
    "\n",
    "                if epoch_target is None:\n",
    "                    epoch_target = labels.cpu().data\n",
    "                else:\n",
    "                    epoch_target = torch.cat((epoch_target, labels.cpu().data))\n",
    "\n",
    "        return epoch_loss / len(self.valid_dataloader), epoch_output, epoch_target\n",
    "    \n",
    "#     def _evaluate_tta(self):\n",
    "#         n_samples = len(dataset)\n",
    "#         y_probas_tta = np.zeros((n_samples, config.num_classes, tta_count), dtype=np.float32)\n",
    "\n",
    "#         model.eval()\n",
    "#         model.to(device)\n",
    "#         with torch.no_grad():\n",
    "#             for i_epoch in tqdm(range(tta_count), desc='TTA', total=tta_count, position=1, leave=True):\n",
    "#                 for i, (images, idx) in enumerate(dataloader):\n",
    "#                     images = images.to(device)\n",
    "#                     outputs = model(images)\n",
    "#                     y_pred = F.softmax(outputs, dim=1)\n",
    "\n",
    "#                     tta_index = i_epoch - 1\n",
    "#                     start_index = (i % len(dataloader)) * config.batch_size\n",
    "#                     end_index = min(start_index + config.batch_size, n_samples)\n",
    "#                     batch_y_probas = y_pred.detach().cpu().numpy()                \n",
    "#                     y_probas_tta[start_index:end_index, :, tta_index] = batch_y_probas\n",
    "\n",
    "#         return y_probas_tta\n",
    "\n",
    "#     def show_history(self):\n",
    "#         fig, ax = plt.subplots(nrows=1, ncols=2, figsize=(12, 8))\n",
    "#         clear_output(True)\n",
    "#         ax[0].plot(history, label='train loss')\n",
    "#         ax[0].set_xlabel('Batch')\n",
    "#         ax[0].set_title('Train loss')\n",
    "#         if train_history is not None:\n",
    "#             ax[1].plot(train_history, label='general train history')\n",
    "#             ax[1].set_xlabel('Epoch')\n",
    "#         if valid_history is not None:\n",
    "#             ax[1].plot(valid_history, label='general valid history')\n",
    "#         plt.legend()\n",
    "#         plt.show()\n",
    "\n",
    "    \n",
    "    def _epoch_time(self, start_time, end_time):\n",
    "        elapsed_time = end_time - start_time\n",
    "        elapsed_mins = int(elapsed_time / 60)\n",
    "        elapsed_secs = int(elapsed_time - (elapsed_mins * 60))\n",
    "        return elapsed_mins, elapsed_secs\n",
    "\n",
    "    def print_progress(self, i_epoch, epoch_mins, epoch_secs):\n",
    "        i_epoch = i_epoch + 1\n",
    "        print(f\"Epoch: {i_epoch:02} | Time: {epoch_mins}m {epoch_secs}s\")\n",
    "        print(\"Training Results - Average Loss: {:.4f} | auc/_mean: {:.4f} | auc/healthy: {:.4f} | auc/multiple_diseases: {:.4f}, auc/rust: {:.4f}, auc/scab: {:.4f}\"\n",
    "            .format(\n",
    "                self.train_metrics['avg_loss'][-1], \n",
    "                self.train_metrics['auc/_mean'][-1],\n",
    "                self.train_metrics['auc/healthy'][-1],\n",
    "                self.train_metrics['auc/multiple_diseases'][-1],\n",
    "                self.train_metrics['auc/rust'][-1],\n",
    "                self.train_metrics['auc/scab'][-1],\n",
    "            ))\n",
    "        print(\"Evaluating Results - Average Loss: {:.4f} | auc/_mean: {:.4f} | auc/healthy: {:.4f} | auc/multiple_diseases: {:.4f}, auc/rust: {:.4f}, auc/scab: {:.4f}\"\n",
    "            .format( \n",
    "                self.valid_metrics['avg_loss'][-1], \n",
    "                self.valid_metrics['auc/_mean'][-1],\n",
    "                self.valid_metrics['auc/healthy'][-1],\n",
    "                self.valid_metrics['auc/multiple_diseases'][-1],\n",
    "                self.valid_metrics['auc/rust'][-1],\n",
    "                self.valid_metrics['auc/scab'][-1],\n",
    "            ))\n",
    "        print()\n",
    "        \n",
    "    def comp_metric(self, preds, targs, labels=range(4)):\n",
    "        preds = torch.sigmoid(preds)\n",
    "        targs = torch.eye(4)[targs]\n",
    "        return np.mean([roc_auc_score(targs[:,i], preds[:,i]) for i in labels])\n",
    "\n",
    "    def healthy_roc_auc(self, *args):\n",
    "        return self.comp_metric(*args, labels=[0])\n",
    "\n",
    "    def multiple_diseases_roc_auc(self, *args):\n",
    "        return self.comp_metric(*args, labels=[1])\n",
    "\n",
    "    def rust_roc_auc(self, *args):\n",
    "        return self.comp_metric(*args, labels=[2])\n",
    "\n",
    "    def scab_roc_auc(self, *args):\n",
    "        return self.comp_metric(*args, labels=[3])\n",
    "\n"
   ]
  },
  {
   "cell_type": "code",
   "execution_count": 10,
   "metadata": {},
   "outputs": [
    {
     "data": {
      "application/vnd.jupyter.widget-view+json": {
       "model_id": "1a915fd8a55b46bd8e93e0884f90334f",
       "version_major": 2,
       "version_minor": 0
      },
      "text/plain": [
       "HBox(children=(FloatProgress(value=0.0, description='Epochs', max=200.0, style=ProgressStyle(description_width…"
      ]
     },
     "metadata": {},
     "output_type": "display_data"
    },
    {
     "data": {
      "application/vnd.jupyter.widget-view+json": {
       "model_id": "0ff6f77bc0be410fb5361b7baaf2f181",
       "version_major": 2,
       "version_minor": 0
      },
      "text/plain": [
       "HBox(children=(FloatProgress(value=0.0, description='Train', max=153.0, style=ProgressStyle(description_width=…"
      ]
     },
     "metadata": {},
     "output_type": "display_data"
    },
    {
     "name": "stdout",
     "output_type": "stream",
     "text": [
      "\n",
      "Epoch: 01 | Time: 0m 34s\n",
      "Training Results - Average Loss: 0.9242 | auc/_mean: 0.7632 | auc/healthy: 0.8168 | auc/multiple_diseases: 0.5830, auc/rust: 0.8342, auc/scab: 0.8187\n",
      "Evaluating Results - Average Loss: 0.5458 | auc/_mean: 0.8881 | auc/healthy: 0.9550 | auc/multiple_diseases: 0.6667, auc/rust: 0.9828, auc/scab: 0.9480\n",
      "\n"
     ]
    },
    {
     "data": {
      "application/vnd.jupyter.widget-view+json": {
       "model_id": "6ffe58a59d224e918dda3fed7d898edc",
       "version_major": 2,
       "version_minor": 0
      },
      "text/plain": [
       "HBox(children=(FloatProgress(value=0.0, description='Train', max=153.0, style=ProgressStyle(description_width=…"
      ]
     },
     "metadata": {},
     "output_type": "display_data"
    },
    {
     "name": "stdout",
     "output_type": "stream",
     "text": [
      "\n",
      "Epoch: 02 | Time: 0m 34s\n",
      "Training Results - Average Loss: 0.7900 | auc/_mean: 0.8196 | auc/healthy: 0.8818 | auc/multiple_diseases: 0.6824, auc/rust: 0.8712, auc/scab: 0.8431\n",
      "Evaluating Results - Average Loss: 0.4228 | auc/_mean: 0.9170 | auc/healthy: 0.9682 | auc/multiple_diseases: 0.7621, auc/rust: 0.9786, auc/scab: 0.9591\n",
      "\n"
     ]
    },
    {
     "data": {
      "application/vnd.jupyter.widget-view+json": {
       "model_id": "3f080948f6524968af60d9adce7441be",
       "version_major": 2,
       "version_minor": 0
      },
      "text/plain": [
       "HBox(children=(FloatProgress(value=0.0, description='Train', max=153.0, style=ProgressStyle(description_width=…"
      ]
     },
     "metadata": {},
     "output_type": "display_data"
    },
    {
     "name": "stdout",
     "output_type": "stream",
     "text": [
      "\n",
      "Epoch: 03 | Time: 0m 34s\n",
      "Training Results - Average Loss: 0.7192 | auc/_mean: 0.8428 | auc/healthy: 0.8845 | auc/multiple_diseases: 0.7168, auc/rust: 0.8940, auc/scab: 0.8760\n",
      "Evaluating Results - Average Loss: 0.4017 | auc/_mean: 0.9203 | auc/healthy: 0.9723 | auc/multiple_diseases: 0.7736, auc/rust: 0.9750, auc/scab: 0.9602\n",
      "\n"
     ]
    },
    {
     "data": {
      "application/vnd.jupyter.widget-view+json": {
       "model_id": "1d8f48a1f2ab47bb844294c4e65d3f75",
       "version_major": 2,
       "version_minor": 0
      },
      "text/plain": [
       "HBox(children=(FloatProgress(value=0.0, description='Train', max=153.0, style=ProgressStyle(description_width=…"
      ]
     },
     "metadata": {},
     "output_type": "display_data"
    },
    {
     "name": "stdout",
     "output_type": "stream",
     "text": [
      "\n",
      "Epoch: 04 | Time: 0m 34s\n",
      "Training Results - Average Loss: 0.7035 | auc/_mean: 0.8493 | auc/healthy: 0.8747 | auc/multiple_diseases: 0.7307, auc/rust: 0.8974, auc/scab: 0.8943\n",
      "Evaluating Results - Average Loss: 0.3858 | auc/_mean: 0.9187 | auc/healthy: 0.9718 | auc/multiple_diseases: 0.7689, auc/rust: 0.9766, auc/scab: 0.9574\n",
      "\n"
     ]
    },
    {
     "data": {
      "application/vnd.jupyter.widget-view+json": {
       "model_id": "1fa239d05ade458988997872dfbc79dc",
       "version_major": 2,
       "version_minor": 0
      },
      "text/plain": [
       "HBox(children=(FloatProgress(value=0.0, description='Train', max=153.0, style=ProgressStyle(description_width=…"
      ]
     },
     "metadata": {},
     "output_type": "display_data"
    },
    {
     "name": "stdout",
     "output_type": "stream",
     "text": [
      "\n",
      "Epoch: 05 | Time: 0m 34s\n",
      "Training Results - Average Loss: 0.6825 | auc/_mean: 0.8523 | auc/healthy: 0.8942 | auc/multiple_diseases: 0.7149, auc/rust: 0.9099, auc/scab: 0.8899\n",
      "Evaluating Results - Average Loss: 0.3766 | auc/_mean: 0.9211 | auc/healthy: 0.9746 | auc/multiple_diseases: 0.7738, auc/rust: 0.9758, auc/scab: 0.9603\n",
      "\n",
      "Epoch     5: reducing learning rate of group 0 to 9.0000e-04.\n"
     ]
    },
    {
     "data": {
      "application/vnd.jupyter.widget-view+json": {
       "model_id": "56b341d1b1ad43cdac96025f0785f153",
       "version_major": 2,
       "version_minor": 0
      },
      "text/plain": [
       "HBox(children=(FloatProgress(value=0.0, description='Train', max=153.0, style=ProgressStyle(description_width=…"
      ]
     },
     "metadata": {},
     "output_type": "display_data"
    },
    {
     "name": "stdout",
     "output_type": "stream",
     "text": [
      "\n",
      "Epoch: 06 | Time: 0m 34s\n",
      "Training Results - Average Loss: 0.7014 | auc/_mean: 0.8531 | auc/healthy: 0.8817 | auc/multiple_diseases: 0.7490, auc/rust: 0.9087, auc/scab: 0.8731\n",
      "Evaluating Results - Average Loss: 0.3669 | auc/_mean: 0.9237 | auc/healthy: 0.9751 | auc/multiple_diseases: 0.7802, auc/rust: 0.9790, auc/scab: 0.9605\n",
      "\n"
     ]
    },
    {
     "data": {
      "application/vnd.jupyter.widget-view+json": {
       "model_id": "66d085e5e0a0418ba3f50e0739fd8b04",
       "version_major": 2,
       "version_minor": 0
      },
      "text/plain": [
       "HBox(children=(FloatProgress(value=0.0, description='Train', max=153.0, style=ProgressStyle(description_width=…"
      ]
     },
     "metadata": {},
     "output_type": "display_data"
    },
    {
     "name": "stdout",
     "output_type": "stream",
     "text": [
      "\n",
      "Epoch: 07 | Time: 0m 34s\n",
      "Training Results - Average Loss: 0.6717 | auc/_mean: 0.8584 | auc/healthy: 0.8975 | auc/multiple_diseases: 0.7318, auc/rust: 0.9137, auc/scab: 0.8907\n",
      "Evaluating Results - Average Loss: 0.3625 | auc/_mean: 0.9258 | auc/healthy: 0.9725 | auc/multiple_diseases: 0.7889, auc/rust: 0.9781, auc/scab: 0.9636\n",
      "\n"
     ]
    },
    {
     "data": {
      "application/vnd.jupyter.widget-view+json": {
       "model_id": "62bd82e3ce184e1cbd3598b9f014dda3",
       "version_major": 2,
       "version_minor": 0
      },
      "text/plain": [
       "HBox(children=(FloatProgress(value=0.0, description='Train', max=153.0, style=ProgressStyle(description_width=…"
      ]
     },
     "metadata": {},
     "output_type": "display_data"
    },
    {
     "name": "stdout",
     "output_type": "stream",
     "text": [
      "\n",
      "Epoch: 08 | Time: 0m 34s\n",
      "Training Results - Average Loss: 0.6460 | auc/_mean: 0.8702 | auc/healthy: 0.8993 | auc/multiple_diseases: 0.7682, auc/rust: 0.9095, auc/scab: 0.9036\n",
      "Evaluating Results - Average Loss: 0.3604 | auc/_mean: 0.9256 | auc/healthy: 0.9718 | auc/multiple_diseases: 0.7866, auc/rust: 0.9793, auc/scab: 0.9646\n",
      "\n"
     ]
    },
    {
     "data": {
      "application/vnd.jupyter.widget-view+json": {
       "model_id": "8597702169b6484ea6b22068c5654f9b",
       "version_major": 2,
       "version_minor": 0
      },
      "text/plain": [
       "HBox(children=(FloatProgress(value=0.0, description='Train', max=153.0, style=ProgressStyle(description_width=…"
      ]
     },
     "metadata": {},
     "output_type": "display_data"
    },
    {
     "name": "stdout",
     "output_type": "stream",
     "text": [
      "\n",
      "Epoch: 09 | Time: 0m 34s\n",
      "Training Results - Average Loss: 0.6720 | auc/_mean: 0.8587 | auc/healthy: 0.8918 | auc/multiple_diseases: 0.7360, auc/rust: 0.9042, auc/scab: 0.9028\n",
      "Evaluating Results - Average Loss: 0.3645 | auc/_mean: 0.9240 | auc/healthy: 0.9722 | auc/multiple_diseases: 0.7804, auc/rust: 0.9779, auc/scab: 0.9654\n",
      "\n",
      "Epoch     9: reducing learning rate of group 0 to 2.7000e-04.\n"
     ]
    },
    {
     "data": {
      "application/vnd.jupyter.widget-view+json": {
       "model_id": "3bb440e7c164461ba3af4354c51894fc",
       "version_major": 2,
       "version_minor": 0
      },
      "text/plain": [
       "HBox(children=(FloatProgress(value=0.0, description='Train', max=153.0, style=ProgressStyle(description_width=…"
      ]
     },
     "metadata": {},
     "output_type": "display_data"
    },
    {
     "name": "stdout",
     "output_type": "stream",
     "text": [
      "\n",
      "Epoch: 10 | Time: 0m 34s\n",
      "Training Results - Average Loss: 0.6359 | auc/_mean: 0.8669 | auc/healthy: 0.8980 | auc/multiple_diseases: 0.7406, auc/rust: 0.9184, auc/scab: 0.9106\n",
      "Evaluating Results - Average Loss: 0.3640 | auc/_mean: 0.9240 | auc/healthy: 0.9711 | auc/multiple_diseases: 0.7816, auc/rust: 0.9768, auc/scab: 0.9665\n",
      "\n"
     ]
    },
    {
     "data": {
      "application/vnd.jupyter.widget-view+json": {
       "model_id": "19682d82205b4ce3be06d09e5eacd04a",
       "version_major": 2,
       "version_minor": 0
      },
      "text/plain": [
       "HBox(children=(FloatProgress(value=0.0, description='Train', max=153.0, style=ProgressStyle(description_width=…"
      ]
     },
     "metadata": {},
     "output_type": "display_data"
    },
    {
     "name": "stdout",
     "output_type": "stream",
     "text": [
      "\n",
      "Epoch: 11 | Time: 0m 34s\n",
      "Training Results - Average Loss: 0.6728 | auc/_mean: 0.8730 | auc/healthy: 0.8932 | auc/multiple_diseases: 0.8077, auc/rust: 0.8977, auc/scab: 0.8935\n",
      "Evaluating Results - Average Loss: 0.3570 | auc/_mean: 0.9245 | auc/healthy: 0.9720 | auc/multiple_diseases: 0.7805, auc/rust: 0.9784, auc/scab: 0.9670\n",
      "\n"
     ]
    },
    {
     "data": {
      "application/vnd.jupyter.widget-view+json": {
       "model_id": "330189bf205e46b1b0d10cd1fecfe08a",
       "version_major": 2,
       "version_minor": 0
      },
      "text/plain": [
       "HBox(children=(FloatProgress(value=0.0, description='Train', max=153.0, style=ProgressStyle(description_width=…"
      ]
     },
     "metadata": {},
     "output_type": "display_data"
    },
    {
     "name": "stdout",
     "output_type": "stream",
     "text": [
      "\n",
      "Epoch: 12 | Time: 0m 34s\n",
      "Training Results - Average Loss: 0.6487 | auc/_mean: 0.8703 | auc/healthy: 0.8920 | auc/multiple_diseases: 0.7803, auc/rust: 0.9116, auc/scab: 0.8972\n",
      "Evaluating Results - Average Loss: 0.3511 | auc/_mean: 0.9259 | auc/healthy: 0.9729 | auc/multiple_diseases: 0.7844, auc/rust: 0.9796, auc/scab: 0.9666\n",
      "\n"
     ]
    },
    {
     "data": {
      "application/vnd.jupyter.widget-view+json": {
       "model_id": "f68c641720494e92be747faecd895c5d",
       "version_major": 2,
       "version_minor": 0
      },
      "text/plain": [
       "HBox(children=(FloatProgress(value=0.0, description='Train', max=153.0, style=ProgressStyle(description_width=…"
      ]
     },
     "metadata": {},
     "output_type": "display_data"
    },
    {
     "name": "stdout",
     "output_type": "stream",
     "text": [
      "\n",
      "Epoch: 13 | Time: 0m 34s\n",
      "Training Results - Average Loss: 0.6253 | auc/_mean: 0.8744 | auc/healthy: 0.9037 | auc/multiple_diseases: 0.7758, auc/rust: 0.9092, auc/scab: 0.9092\n",
      "Evaluating Results - Average Loss: 0.3506 | auc/_mean: 0.9267 | auc/healthy: 0.9730 | auc/multiple_diseases: 0.7879, auc/rust: 0.9791, auc/scab: 0.9666\n",
      "\n",
      "Epoch    13: reducing learning rate of group 0 to 8.1000e-05.\n"
     ]
    },
    {
     "data": {
      "application/vnd.jupyter.widget-view+json": {
       "model_id": "6f30509eded84ec395738c80116644ca",
       "version_major": 2,
       "version_minor": 0
      },
      "text/plain": [
       "HBox(children=(FloatProgress(value=0.0, description='Train', max=153.0, style=ProgressStyle(description_width=…"
      ]
     },
     "metadata": {},
     "output_type": "display_data"
    },
    {
     "name": "stdout",
     "output_type": "stream",
     "text": [
      "\n",
      "Epoch: 14 | Time: 0m 34s\n",
      "Training Results - Average Loss: 0.6317 | auc/_mean: 0.8770 | auc/healthy: 0.9058 | auc/multiple_diseases: 0.7877, auc/rust: 0.9142, auc/scab: 0.9002\n",
      "Evaluating Results - Average Loss: 0.3541 | auc/_mean: 0.9262 | auc/healthy: 0.9725 | auc/multiple_diseases: 0.7874, auc/rust: 0.9779, auc/scab: 0.9671\n",
      "\n"
     ]
    },
    {
     "data": {
      "application/vnd.jupyter.widget-view+json": {
       "model_id": "899fedb513784307ad91856f6ae0652b",
       "version_major": 2,
       "version_minor": 0
      },
      "text/plain": [
       "HBox(children=(FloatProgress(value=0.0, description='Train', max=153.0, style=ProgressStyle(description_width=…"
      ]
     },
     "metadata": {},
     "output_type": "display_data"
    },
    {
     "name": "stdout",
     "output_type": "stream",
     "text": [
      "\n",
      "Epoch: 15 | Time: 0m 34s\n",
      "Training Results - Average Loss: 0.6171 | auc/_mean: 0.8804 | auc/healthy: 0.8913 | auc/multiple_diseases: 0.7993, auc/rust: 0.9243, auc/scab: 0.9067\n",
      "Evaluating Results - Average Loss: 0.3550 | auc/_mean: 0.9266 | auc/healthy: 0.9726 | auc/multiple_diseases: 0.7889, auc/rust: 0.9779, auc/scab: 0.9670\n",
      "\n"
     ]
    },
    {
     "data": {
      "application/vnd.jupyter.widget-view+json": {
       "model_id": "f5fc22cb391c47fcb28db6507d25ec20",
       "version_major": 2,
       "version_minor": 0
      },
      "text/plain": [
       "HBox(children=(FloatProgress(value=0.0, description='Train', max=153.0, style=ProgressStyle(description_width=…"
      ]
     },
     "metadata": {},
     "output_type": "display_data"
    },
    {
     "name": "stdout",
     "output_type": "stream",
     "text": [
      "\n",
      "Epoch: 16 | Time: 0m 33s\n",
      "Training Results - Average Loss: 0.6228 | auc/_mean: 0.8814 | auc/healthy: 0.8963 | auc/multiple_diseases: 0.8150, auc/rust: 0.9153, auc/scab: 0.8989\n",
      "Evaluating Results - Average Loss: 0.3550 | auc/_mean: 0.9265 | auc/healthy: 0.9727 | auc/multiple_diseases: 0.7890, auc/rust: 0.9782, auc/scab: 0.9662\n",
      "\n"
     ]
    },
    {
     "data": {
      "application/vnd.jupyter.widget-view+json": {
       "model_id": "7824708428ff4f55843e1b97b8598dd6",
       "version_major": 2,
       "version_minor": 0
      },
      "text/plain": [
       "HBox(children=(FloatProgress(value=0.0, description='Train', max=153.0, style=ProgressStyle(description_width=…"
      ]
     },
     "metadata": {},
     "output_type": "display_data"
    },
    {
     "name": "stdout",
     "output_type": "stream",
     "text": [
      "\n",
      "Epoch: 17 | Time: 0m 34s\n",
      "Training Results - Average Loss: 0.6435 | auc/_mean: 0.8749 | auc/healthy: 0.9021 | auc/multiple_diseases: 0.7906, auc/rust: 0.9073, auc/scab: 0.8997\n",
      "Evaluating Results - Average Loss: 0.3521 | auc/_mean: 0.9270 | auc/healthy: 0.9731 | auc/multiple_diseases: 0.7900, auc/rust: 0.9788, auc/scab: 0.9661\n",
      "\n",
      "Epoch    17: reducing learning rate of group 0 to 2.4300e-05.\n"
     ]
    },
    {
     "data": {
      "application/vnd.jupyter.widget-view+json": {
       "model_id": "2dab057c3cf04b54b1ab8a2c76375eec",
       "version_major": 2,
       "version_minor": 0
      },
      "text/plain": [
       "HBox(children=(FloatProgress(value=0.0, description='Train', max=153.0, style=ProgressStyle(description_width=…"
      ]
     },
     "metadata": {},
     "output_type": "display_data"
    },
    {
     "name": "stdout",
     "output_type": "stream",
     "text": [
      "\n",
      "Epoch: 18 | Time: 0m 34s\n",
      "Training Results - Average Loss: 0.6339 | auc/_mean: 0.8765 | auc/healthy: 0.9043 | auc/multiple_diseases: 0.7995, auc/rust: 0.8996, auc/scab: 0.9025\n",
      "Evaluating Results - Average Loss: 0.3510 | auc/_mean: 0.9262 | auc/healthy: 0.9727 | auc/multiple_diseases: 0.7862, auc/rust: 0.9789, auc/scab: 0.9668\n",
      "\n"
     ]
    },
    {
     "data": {
      "application/vnd.jupyter.widget-view+json": {
       "model_id": "00cfa5f2451943d5b3efcf2e45988761",
       "version_major": 2,
       "version_minor": 0
      },
      "text/plain": [
       "HBox(children=(FloatProgress(value=0.0, description='Train', max=153.0, style=ProgressStyle(description_width=…"
      ]
     },
     "metadata": {},
     "output_type": "display_data"
    },
    {
     "name": "stdout",
     "output_type": "stream",
     "text": [
      "\n",
      "Epoch: 19 | Time: 0m 34s\n",
      "Training Results - Average Loss: 0.6625 | auc/_mean: 0.8607 | auc/healthy: 0.8942 | auc/multiple_diseases: 0.7401, auc/rust: 0.9063, auc/scab: 0.9021\n",
      "Evaluating Results - Average Loss: 0.3526 | auc/_mean: 0.9266 | auc/healthy: 0.9724 | auc/multiple_diseases: 0.7887, auc/rust: 0.9787, auc/scab: 0.9666\n",
      "\n"
     ]
    },
    {
     "data": {
      "application/vnd.jupyter.widget-view+json": {
       "model_id": "7bca5a8ba4e843b19924957aa776fe47",
       "version_major": 2,
       "version_minor": 0
      },
      "text/plain": [
       "HBox(children=(FloatProgress(value=0.0, description='Train', max=153.0, style=ProgressStyle(description_width=…"
      ]
     },
     "metadata": {},
     "output_type": "display_data"
    },
    {
     "name": "stdout",
     "output_type": "stream",
     "text": [
      "\n",
      "Epoch: 20 | Time: 0m 34s\n",
      "Training Results - Average Loss: 0.6464 | auc/_mean: 0.8763 | auc/healthy: 0.8990 | auc/multiple_diseases: 0.8019, auc/rust: 0.9161, auc/scab: 0.8882\n",
      "Evaluating Results - Average Loss: 0.3515 | auc/_mean: 0.9262 | auc/healthy: 0.9733 | auc/multiple_diseases: 0.7855, auc/rust: 0.9790, auc/scab: 0.9671\n",
      "\n"
     ]
    },
    {
     "data": {
      "application/vnd.jupyter.widget-view+json": {
       "model_id": "262376c84f7a4efe819f318e423889a0",
       "version_major": 2,
       "version_minor": 0
      },
      "text/plain": [
       "HBox(children=(FloatProgress(value=0.0, description='Train', max=153.0, style=ProgressStyle(description_width=…"
      ]
     },
     "metadata": {},
     "output_type": "display_data"
    },
    {
     "name": "stdout",
     "output_type": "stream",
     "text": [
      "\n",
      "Epoch: 21 | Time: 0m 34s\n",
      "Training Results - Average Loss: 0.6374 | auc/_mean: 0.8761 | auc/healthy: 0.9097 | auc/multiple_diseases: 0.7875, auc/rust: 0.9031, auc/scab: 0.9040\n",
      "Evaluating Results - Average Loss: 0.3524 | auc/_mean: 0.9261 | auc/healthy: 0.9728 | auc/multiple_diseases: 0.7858, auc/rust: 0.9788, auc/scab: 0.9669\n",
      "\n",
      "Epoch    21: reducing learning rate of group 0 to 7.2900e-06.\n"
     ]
    },
    {
     "data": {
      "application/vnd.jupyter.widget-view+json": {
       "model_id": "04351ba898354a37a6640396d5451ba4",
       "version_major": 2,
       "version_minor": 0
      },
      "text/plain": [
       "HBox(children=(FloatProgress(value=0.0, description='Train', max=153.0, style=ProgressStyle(description_width=…"
      ]
     },
     "metadata": {},
     "output_type": "display_data"
    },
    {
     "name": "stdout",
     "output_type": "stream",
     "text": [
      "\n",
      "Epoch: 22 | Time: 0m 34s\n",
      "Training Results - Average Loss: 0.6003 | auc/_mean: 0.8770 | auc/healthy: 0.9111 | auc/multiple_diseases: 0.7692, auc/rust: 0.9204, auc/scab: 0.9074\n",
      "Evaluating Results - Average Loss: 0.3517 | auc/_mean: 0.9268 | auc/healthy: 0.9729 | auc/multiple_diseases: 0.7891, auc/rust: 0.9786, auc/scab: 0.9664\n",
      "\n"
     ]
    },
    {
     "data": {
      "application/vnd.jupyter.widget-view+json": {
       "model_id": "46e4411e762b401facb7f3e40e4a382c",
       "version_major": 2,
       "version_minor": 0
      },
      "text/plain": [
       "HBox(children=(FloatProgress(value=0.0, description='Train', max=153.0, style=ProgressStyle(description_width=…"
      ]
     },
     "metadata": {},
     "output_type": "display_data"
    },
    {
     "name": "stdout",
     "output_type": "stream",
     "text": [
      "\n",
      "Epoch: 23 | Time: 0m 34s\n",
      "Training Results - Average Loss: 0.6544 | auc/_mean: 0.8674 | auc/healthy: 0.8924 | auc/multiple_diseases: 0.7686, auc/rust: 0.9062, auc/scab: 0.9024\n",
      "Evaluating Results - Average Loss: 0.3530 | auc/_mean: 0.9265 | auc/healthy: 0.9726 | auc/multiple_diseases: 0.7871, auc/rust: 0.9788, auc/scab: 0.9674\n",
      "\n"
     ]
    },
    {
     "data": {
      "application/vnd.jupyter.widget-view+json": {
       "model_id": "f271d902e87f46c3a55331a2f141f027",
       "version_major": 2,
       "version_minor": 0
      },
      "text/plain": [
       "HBox(children=(FloatProgress(value=0.0, description='Train', max=153.0, style=ProgressStyle(description_width=…"
      ]
     },
     "metadata": {},
     "output_type": "display_data"
    },
    {
     "name": "stdout",
     "output_type": "stream",
     "text": [
      "\n",
      "Epoch: 24 | Time: 0m 34s\n",
      "Training Results - Average Loss: 0.6001 | auc/_mean: 0.8759 | auc/healthy: 0.9001 | auc/multiple_diseases: 0.7669, auc/rust: 0.9215, auc/scab: 0.9151\n",
      "Evaluating Results - Average Loss: 0.3529 | auc/_mean: 0.9264 | auc/healthy: 0.9726 | auc/multiple_diseases: 0.7871, auc/rust: 0.9785, auc/scab: 0.9675\n",
      "\n",
      "EarlyStopping\n"
     ]
    }
   ],
   "source": [
    "trainer = Trainer(model, train_dataloader, valid_dataloader, criterion, optimizer, scheduler, device, config)\n",
    "trainer.run();"
   ]
  },
  {
   "cell_type": "code",
   "execution_count": null,
   "metadata": {},
   "outputs": [],
   "source": []
  },
  {
   "cell_type": "code",
   "execution_count": null,
   "metadata": {},
   "outputs": [],
   "source": []
  },
  {
   "cell_type": "code",
   "execution_count": 13,
   "metadata": {},
   "outputs": [
    {
     "name": "stdout",
     "output_type": "stream",
     "text": [
      "Loaded pretrained weights for efficientnet-b4\n"
     ]
    }
   ],
   "source": [
    "model = get_model(config.model_name, config.num_classes)\n",
    "model.load_state_dict(torch.load(f\"{config.save_dirname}/best_model_epoch=13_loss=0.3506331098216929.pth\"))\n",
    "for param in model.parameters():\n",
    "    param.requires_grad = True\n",
    "\n",
    "criterion = nn.CrossEntropyLoss()\n",
    "optimizer = torch.optim.Adam(model.parameters(), lr=config.lr)\n",
    "scheduler = torch.optim.lr_scheduler.ReduceLROnPlateau(optimizer, patience=config.patience, verbose=True, mode=\"min\", factor=0.3)"
   ]
  },
  {
   "cell_type": "code",
   "execution_count": 14,
   "metadata": {},
   "outputs": [
    {
     "data": {
      "application/vnd.jupyter.widget-view+json": {
       "model_id": "c16d5a14c1554b92aa24ea9a645f656a",
       "version_major": 2,
       "version_minor": 0
      },
      "text/plain": [
       "HBox(children=(FloatProgress(value=0.0, description='Epochs', max=200.0, style=ProgressStyle(description_width…"
      ]
     },
     "metadata": {},
     "output_type": "display_data"
    },
    {
     "data": {
      "application/vnd.jupyter.widget-view+json": {
       "model_id": "394e6d70c23f4c37a2b9e09273fff0d2",
       "version_major": 2,
       "version_minor": 0
      },
      "text/plain": [
       "HBox(children=(FloatProgress(value=0.0, description='Train', max=153.0, style=ProgressStyle(description_width=…"
      ]
     },
     "metadata": {},
     "output_type": "display_data"
    },
    {
     "name": "stdout",
     "output_type": "stream",
     "text": [
      "\n",
      "Epoch: 01 | Time: 1m 30s\n",
      "Training Results - Average Loss: 1.2435 | auc/_mean: 0.7705 | auc/healthy: 0.7919 | auc/multiple_diseases: 0.6151, auc/rust: 0.8696, auc/scab: 0.8056\n",
      "Evaluating Results - Average Loss: 1.8008 | auc/_mean: 0.8325 | auc/healthy: 0.9320 | auc/multiple_diseases: 0.6655, auc/rust: 0.7981, auc/scab: 0.9345\n",
      "\n"
     ]
    },
    {
     "data": {
      "application/vnd.jupyter.widget-view+json": {
       "model_id": "e8118f7fd86a457cb413b5d9d826435b",
       "version_major": 2,
       "version_minor": 0
      },
      "text/plain": [
       "HBox(children=(FloatProgress(value=0.0, description='Train', max=153.0, style=ProgressStyle(description_width=…"
      ]
     },
     "metadata": {},
     "output_type": "display_data"
    },
    {
     "name": "stdout",
     "output_type": "stream",
     "text": [
      "\n",
      "Epoch: 02 | Time: 1m 29s\n",
      "Training Results - Average Loss: 0.6471 | auc/_mean: 0.8404 | auc/healthy: 0.9153 | auc/multiple_diseases: 0.5916, auc/rust: 0.9502, auc/scab: 0.9044\n",
      "Evaluating Results - Average Loss: 0.2592 | auc/_mean: 0.8941 | auc/healthy: 0.9941 | auc/multiple_diseases: 0.5970, auc/rust: 0.9963, auc/scab: 0.9890\n",
      "\n"
     ]
    },
    {
     "data": {
      "application/vnd.jupyter.widget-view+json": {
       "model_id": "5b768593c64547b097c3925a49314933",
       "version_major": 2,
       "version_minor": 0
      },
      "text/plain": [
       "HBox(children=(FloatProgress(value=0.0, description='Train', max=153.0, style=ProgressStyle(description_width=…"
      ]
     },
     "metadata": {},
     "output_type": "display_data"
    },
    {
     "name": "stdout",
     "output_type": "stream",
     "text": [
      "\n",
      "Epoch: 03 | Time: 1m 29s\n",
      "Training Results - Average Loss: 0.4973 | auc/_mean: 0.8587 | auc/healthy: 0.9576 | auc/multiple_diseases: 0.5665, auc/rust: 0.9734, auc/scab: 0.9372\n",
      "Evaluating Results - Average Loss: 0.3834 | auc/_mean: 0.8689 | auc/healthy: 0.9789 | auc/multiple_diseases: 0.5172, auc/rust: 0.9942, auc/scab: 0.9855\n",
      "\n"
     ]
    },
    {
     "data": {
      "application/vnd.jupyter.widget-view+json": {
       "model_id": "690c4872e32c40439e83d5175fda56f6",
       "version_major": 2,
       "version_minor": 0
      },
      "text/plain": [
       "HBox(children=(FloatProgress(value=0.0, description='Train', max=153.0, style=ProgressStyle(description_width=…"
      ]
     },
     "metadata": {},
     "output_type": "display_data"
    },
    {
     "name": "stdout",
     "output_type": "stream",
     "text": [
      "\n",
      "Epoch: 04 | Time: 1m 29s\n",
      "Training Results - Average Loss: 0.4243 | auc/_mean: 0.8794 | auc/healthy: 0.9736 | auc/multiple_diseases: 0.6103, auc/rust: 0.9712, auc/scab: 0.9627\n",
      "Evaluating Results - Average Loss: 0.7639 | auc/_mean: 0.8930 | auc/healthy: 0.9912 | auc/multiple_diseases: 0.6107, auc/rust: 0.9824, auc/scab: 0.9877\n",
      "\n"
     ]
    },
    {
     "data": {
      "application/vnd.jupyter.widget-view+json": {
       "model_id": "f1df5e9e03074ba4bcbee6e920b0cda9",
       "version_major": 2,
       "version_minor": 0
      },
      "text/plain": [
       "HBox(children=(FloatProgress(value=0.0, description='Train', max=153.0, style=ProgressStyle(description_width=…"
      ]
     },
     "metadata": {},
     "output_type": "display_data"
    },
    {
     "name": "stdout",
     "output_type": "stream",
     "text": [
      "\n",
      "Epoch: 05 | Time: 1m 29s\n",
      "Training Results - Average Loss: 0.4526 | auc/_mean: 0.8714 | auc/healthy: 0.9738 | auc/multiple_diseases: 0.5886, auc/rust: 0.9635, auc/scab: 0.9597\n",
      "Evaluating Results - Average Loss: 0.3116 | auc/_mean: 0.8842 | auc/healthy: 0.9925 | auc/multiple_diseases: 0.5605, auc/rust: 0.9959, auc/scab: 0.9876\n",
      "\n"
     ]
    },
    {
     "data": {
      "application/vnd.jupyter.widget-view+json": {
       "model_id": "3df5083de9254d78a23dc55c2102a63b",
       "version_major": 2,
       "version_minor": 0
      },
      "text/plain": [
       "HBox(children=(FloatProgress(value=0.0, description='Train', max=153.0, style=ProgressStyle(description_width=…"
      ]
     },
     "metadata": {},
     "output_type": "display_data"
    },
    {
     "name": "stdout",
     "output_type": "stream",
     "text": [
      "\n",
      "Epoch: 06 | Time: 1m 29s\n",
      "Training Results - Average Loss: 0.4220 | auc/_mean: 0.8858 | auc/healthy: 0.9701 | auc/multiple_diseases: 0.6383, auc/rust: 0.9723, auc/scab: 0.9623\n",
      "Evaluating Results - Average Loss: 0.2289 | auc/_mean: 0.8845 | auc/healthy: 0.9960 | auc/multiple_diseases: 0.5506, auc/rust: 0.9953, auc/scab: 0.9960\n",
      "\n"
     ]
    },
    {
     "data": {
      "application/vnd.jupyter.widget-view+json": {
       "model_id": "a33f325591014e00b6868bf7f446de12",
       "version_major": 2,
       "version_minor": 0
      },
      "text/plain": [
       "HBox(children=(FloatProgress(value=0.0, description='Train', max=153.0, style=ProgressStyle(description_width=…"
      ]
     },
     "metadata": {},
     "output_type": "display_data"
    },
    {
     "name": "stdout",
     "output_type": "stream",
     "text": [
      "\n",
      "Epoch: 07 | Time: 1m 29s\n",
      "Training Results - Average Loss: 0.3830 | auc/_mean: 0.8764 | auc/healthy: 0.9757 | auc/multiple_diseases: 0.5784, auc/rust: 0.9719, auc/scab: 0.9793\n",
      "Evaluating Results - Average Loss: 0.3364 | auc/_mean: 0.8729 | auc/healthy: 0.9892 | auc/multiple_diseases: 0.5279, auc/rust: 0.9872, auc/scab: 0.9875\n",
      "\n"
     ]
    },
    {
     "data": {
      "application/vnd.jupyter.widget-view+json": {
       "model_id": "5913dfe598f84eddb112d25e85540779",
       "version_major": 2,
       "version_minor": 0
      },
      "text/plain": [
       "HBox(children=(FloatProgress(value=0.0, description='Train', max=153.0, style=ProgressStyle(description_width=…"
      ]
     },
     "metadata": {},
     "output_type": "display_data"
    },
    {
     "name": "stdout",
     "output_type": "stream",
     "text": [
      "\n",
      "Epoch: 08 | Time: 1m 29s\n",
      "Training Results - Average Loss: 0.3993 | auc/_mean: 0.8862 | auc/healthy: 0.9751 | auc/multiple_diseases: 0.6246, auc/rust: 0.9779, auc/scab: 0.9672\n",
      "Evaluating Results - Average Loss: 0.2120 | auc/_mean: 0.8778 | auc/healthy: 0.9951 | auc/multiple_diseases: 0.5271, auc/rust: 0.9952, auc/scab: 0.9937\n",
      "\n"
     ]
    },
    {
     "data": {
      "application/vnd.jupyter.widget-view+json": {
       "model_id": "ca31e09fad794bb092554a19454b2d27",
       "version_major": 2,
       "version_minor": 0
      },
      "text/plain": [
       "HBox(children=(FloatProgress(value=0.0, description='Train', max=153.0, style=ProgressStyle(description_width=…"
      ]
     },
     "metadata": {},
     "output_type": "display_data"
    },
    {
     "name": "stdout",
     "output_type": "stream",
     "text": [
      "\n",
      "Epoch: 09 | Time: 1m 29s\n",
      "Training Results - Average Loss: 0.3705 | auc/_mean: 0.8935 | auc/healthy: 0.9832 | auc/multiple_diseases: 0.6397, auc/rust: 0.9744, auc/scab: 0.9766\n",
      "Evaluating Results - Average Loss: 0.3195 | auc/_mean: 0.9030 | auc/healthy: 0.9972 | auc/multiple_diseases: 0.6248, auc/rust: 0.9957, auc/scab: 0.9940\n",
      "\n"
     ]
    },
    {
     "data": {
      "application/vnd.jupyter.widget-view+json": {
       "model_id": "72dd8e5334164badb5a37d31f6fb720b",
       "version_major": 2,
       "version_minor": 0
      },
      "text/plain": [
       "HBox(children=(FloatProgress(value=0.0, description='Train', max=153.0, style=ProgressStyle(description_width=…"
      ]
     },
     "metadata": {},
     "output_type": "display_data"
    },
    {
     "name": "stdout",
     "output_type": "stream",
     "text": [
      "\n",
      "Epoch: 10 | Time: 1m 28s\n",
      "Training Results - Average Loss: 0.3500 | auc/_mean: 0.8929 | auc/healthy: 0.9793 | auc/multiple_diseases: 0.6341, auc/rust: 0.9770, auc/scab: 0.9813\n",
      "Evaluating Results - Average Loss: 0.3000 | auc/_mean: 0.9095 | auc/healthy: 0.9930 | auc/multiple_diseases: 0.6629, auc/rust: 0.9964, auc/scab: 0.9858\n",
      "\n"
     ]
    },
    {
     "data": {
      "application/vnd.jupyter.widget-view+json": {
       "model_id": "d0b17f3d511045dabd8dd66efadcbc8a",
       "version_major": 2,
       "version_minor": 0
      },
      "text/plain": [
       "HBox(children=(FloatProgress(value=0.0, description='Train', max=153.0, style=ProgressStyle(description_width=…"
      ]
     },
     "metadata": {},
     "output_type": "display_data"
    },
    {
     "name": "stdout",
     "output_type": "stream",
     "text": [
      "\n",
      "Epoch: 11 | Time: 1m 29s\n",
      "Training Results - Average Loss: 0.3188 | auc/_mean: 0.8989 | auc/healthy: 0.9832 | auc/multiple_diseases: 0.6525, auc/rust: 0.9825, auc/scab: 0.9774\n",
      "Evaluating Results - Average Loss: 0.1923 | auc/_mean: 0.9146 | auc/healthy: 0.9944 | auc/multiple_diseases: 0.6733, auc/rust: 0.9973, auc/scab: 0.9936\n",
      "\n"
     ]
    },
    {
     "data": {
      "application/vnd.jupyter.widget-view+json": {
       "model_id": "57c83814f4c94c0cbefba6094ff465ef",
       "version_major": 2,
       "version_minor": 0
      },
      "text/plain": [
       "HBox(children=(FloatProgress(value=0.0, description='Train', max=153.0, style=ProgressStyle(description_width=…"
      ]
     },
     "metadata": {},
     "output_type": "display_data"
    },
    {
     "name": "stdout",
     "output_type": "stream",
     "text": [
      "\n",
      "Epoch: 12 | Time: 1m 30s\n",
      "Training Results - Average Loss: 0.3372 | auc/_mean: 0.9009 | auc/healthy: 0.9846 | auc/multiple_diseases: 0.6588, auc/rust: 0.9823, auc/scab: 0.9780\n",
      "Evaluating Results - Average Loss: 0.2122 | auc/_mean: 0.9495 | auc/healthy: 0.9972 | auc/multiple_diseases: 0.8089, auc/rust: 0.9970, auc/scab: 0.9948\n",
      "\n",
      "Epoch    12: reducing learning rate of group 0 to 9.0000e-04.\n"
     ]
    },
    {
     "data": {
      "application/vnd.jupyter.widget-view+json": {
       "model_id": "34a9cef4a0a1414a8559d172f30950da",
       "version_major": 2,
       "version_minor": 0
      },
      "text/plain": [
       "HBox(children=(FloatProgress(value=0.0, description='Train', max=153.0, style=ProgressStyle(description_width=…"
      ]
     },
     "metadata": {},
     "output_type": "display_data"
    },
    {
     "name": "stdout",
     "output_type": "stream",
     "text": [
      "\n",
      "Epoch: 13 | Time: 1m 28s\n",
      "Training Results - Average Loss: 0.2413 | auc/_mean: 0.9243 | auc/healthy: 0.9928 | auc/multiple_diseases: 0.7284, auc/rust: 0.9859, auc/scab: 0.9900\n",
      "Evaluating Results - Average Loss: 0.1580 | auc/_mean: 0.9006 | auc/healthy: 0.9982 | auc/multiple_diseases: 0.6089, auc/rust: 0.9976, auc/scab: 0.9976\n",
      "\n"
     ]
    },
    {
     "data": {
      "application/vnd.jupyter.widget-view+json": {
       "model_id": "28a74e620ee740f7988e0c5204bc2549",
       "version_major": 2,
       "version_minor": 0
      },
      "text/plain": [
       "HBox(children=(FloatProgress(value=0.0, description='Train', max=153.0, style=ProgressStyle(description_width=…"
      ]
     },
     "metadata": {},
     "output_type": "display_data"
    },
    {
     "name": "stdout",
     "output_type": "stream",
     "text": [
      "\n",
      "Epoch: 14 | Time: 1m 28s\n",
      "Training Results - Average Loss: 0.2073 | auc/_mean: 0.9159 | auc/healthy: 0.9946 | auc/multiple_diseases: 0.6849, auc/rust: 0.9914, auc/scab: 0.9929\n",
      "Evaluating Results - Average Loss: 0.1484 | auc/_mean: 0.9219 | auc/healthy: 0.9970 | auc/multiple_diseases: 0.6949, auc/rust: 0.9981, auc/scab: 0.9976\n",
      "\n"
     ]
    },
    {
     "data": {
      "application/vnd.jupyter.widget-view+json": {
       "model_id": "05259c847ff2472faf8c5b8a222c3ab9",
       "version_major": 2,
       "version_minor": 0
      },
      "text/plain": [
       "HBox(children=(FloatProgress(value=0.0, description='Train', max=153.0, style=ProgressStyle(description_width=…"
      ]
     },
     "metadata": {},
     "output_type": "display_data"
    },
    {
     "name": "stdout",
     "output_type": "stream",
     "text": [
      "\n",
      "Epoch: 15 | Time: 1m 28s\n",
      "Training Results - Average Loss: 0.2175 | auc/_mean: 0.9268 | auc/healthy: 0.9961 | auc/multiple_diseases: 0.7354, auc/rust: 0.9845, auc/scab: 0.9911\n",
      "Evaluating Results - Average Loss: 0.1660 | auc/_mean: 0.9194 | auc/healthy: 0.9973 | auc/multiple_diseases: 0.6859, auc/rust: 0.9975, auc/scab: 0.9970\n",
      "\n"
     ]
    },
    {
     "data": {
      "application/vnd.jupyter.widget-view+json": {
       "model_id": "66135bd250654ec58bc241f73d9783dc",
       "version_major": 2,
       "version_minor": 0
      },
      "text/plain": [
       "HBox(children=(FloatProgress(value=0.0, description='Train', max=153.0, style=ProgressStyle(description_width=…"
      ]
     },
     "metadata": {},
     "output_type": "display_data"
    },
    {
     "name": "stdout",
     "output_type": "stream",
     "text": [
      "\n",
      "Epoch: 16 | Time: 1m 29s\n",
      "Training Results - Average Loss: 0.1832 | auc/_mean: 0.9351 | auc/healthy: 0.9976 | auc/multiple_diseases: 0.7569, auc/rust: 0.9902, auc/scab: 0.9955\n",
      "Evaluating Results - Average Loss: 0.1733 | auc/_mean: 0.9451 | auc/healthy: 0.9974 | auc/multiple_diseases: 0.7897, auc/rust: 0.9965, auc/scab: 0.9969\n",
      "\n"
     ]
    },
    {
     "data": {
      "application/vnd.jupyter.widget-view+json": {
       "model_id": "07427728b6204382abe70993eb99788a",
       "version_major": 2,
       "version_minor": 0
      },
      "text/plain": [
       "HBox(children=(FloatProgress(value=0.0, description='Train', max=153.0, style=ProgressStyle(description_width=…"
      ]
     },
     "metadata": {},
     "output_type": "display_data"
    },
    {
     "name": "stdout",
     "output_type": "stream",
     "text": [
      "\n",
      "Epoch: 17 | Time: 1m 29s\n",
      "Training Results - Average Loss: 0.1625 | auc/_mean: 0.9405 | auc/healthy: 0.9984 | auc/multiple_diseases: 0.7764, auc/rust: 0.9933, auc/scab: 0.9940\n",
      "Evaluating Results - Average Loss: 0.1744 | auc/_mean: 0.9222 | auc/healthy: 0.9973 | auc/multiple_diseases: 0.6955, auc/rust: 0.9989, auc/scab: 0.9970\n",
      "\n"
     ]
    },
    {
     "data": {
      "application/vnd.jupyter.widget-view+json": {
       "model_id": "b651389d06264506a0df0ef20ea572ec",
       "version_major": 2,
       "version_minor": 0
      },
      "text/plain": [
       "HBox(children=(FloatProgress(value=0.0, description='Train', max=153.0, style=ProgressStyle(description_width=…"
      ]
     },
     "metadata": {},
     "output_type": "display_data"
    },
    {
     "name": "stdout",
     "output_type": "stream",
     "text": [
      "\n",
      "Epoch: 18 | Time: 1m 29s\n",
      "Training Results - Average Loss: 0.1761 | auc/_mean: 0.9337 | auc/healthy: 0.9952 | auc/multiple_diseases: 0.7528, auc/rust: 0.9933, auc/scab: 0.9935\n",
      "Evaluating Results - Average Loss: 0.2628 | auc/_mean: 0.9130 | auc/healthy: 0.9969 | auc/multiple_diseases: 0.6622, auc/rust: 0.9980, auc/scab: 0.9951\n",
      "\n"
     ]
    },
    {
     "data": {
      "application/vnd.jupyter.widget-view+json": {
       "model_id": "62f430dc1fd5455fbf5c1a4ea160a2f6",
       "version_major": 2,
       "version_minor": 0
      },
      "text/plain": [
       "HBox(children=(FloatProgress(value=0.0, description='Train', max=153.0, style=ProgressStyle(description_width=…"
      ]
     },
     "metadata": {},
     "output_type": "display_data"
    },
    {
     "name": "stdout",
     "output_type": "stream",
     "text": [
      "\n",
      "Epoch: 19 | Time: 1m 32s\n",
      "Training Results - Average Loss: 0.1845 | auc/_mean: 0.9339 | auc/healthy: 0.9937 | auc/multiple_diseases: 0.7586, auc/rust: 0.9899, auc/scab: 0.9933\n",
      "Evaluating Results - Average Loss: 0.1443 | auc/_mean: 0.9452 | auc/healthy: 0.9985 | auc/multiple_diseases: 0.7865, auc/rust: 0.9986, auc/scab: 0.9972\n",
      "\n"
     ]
    },
    {
     "data": {
      "application/vnd.jupyter.widget-view+json": {
       "model_id": "f5caba916c754657afaa36678032bc8f",
       "version_major": 2,
       "version_minor": 0
      },
      "text/plain": [
       "HBox(children=(FloatProgress(value=0.0, description='Train', max=153.0, style=ProgressStyle(description_width=…"
      ]
     },
     "metadata": {},
     "output_type": "display_data"
    },
    {
     "name": "stdout",
     "output_type": "stream",
     "text": [
      "\n",
      "Epoch: 20 | Time: 1m 31s\n",
      "Training Results - Average Loss: 0.1999 | auc/_mean: 0.9435 | auc/healthy: 0.9945 | auc/multiple_diseases: 0.7961, auc/rust: 0.9923, auc/scab: 0.9911\n",
      "Evaluating Results - Average Loss: 0.1430 | auc/_mean: 0.9161 | auc/healthy: 0.9985 | auc/multiple_diseases: 0.6705, auc/rust: 0.9980, auc/scab: 0.9972\n",
      "\n"
     ]
    },
    {
     "data": {
      "application/vnd.jupyter.widget-view+json": {
       "model_id": "6c03ddcf16f04238b73293d4e5980963",
       "version_major": 2,
       "version_minor": 0
      },
      "text/plain": [
       "HBox(children=(FloatProgress(value=0.0, description='Train', max=153.0, style=ProgressStyle(description_width=…"
      ]
     },
     "metadata": {},
     "output_type": "display_data"
    },
    {
     "name": "stdout",
     "output_type": "stream",
     "text": [
      "\n",
      "Epoch: 21 | Time: 1m 32s\n",
      "Training Results - Average Loss: 0.1592 | auc/_mean: 0.9450 | auc/healthy: 0.9983 | auc/multiple_diseases: 0.7942, auc/rust: 0.9918, auc/scab: 0.9957\n",
      "Evaluating Results - Average Loss: 0.1965 | auc/_mean: 0.9283 | auc/healthy: 0.9991 | auc/multiple_diseases: 0.7205, auc/rust: 0.9979, auc/scab: 0.9956\n",
      "\n"
     ]
    },
    {
     "data": {
      "application/vnd.jupyter.widget-view+json": {
       "model_id": "63d6e737b016485ea8a21fb0f9850eb8",
       "version_major": 2,
       "version_minor": 0
      },
      "text/plain": [
       "HBox(children=(FloatProgress(value=0.0, description='Train', max=153.0, style=ProgressStyle(description_width=…"
      ]
     },
     "metadata": {},
     "output_type": "display_data"
    },
    {
     "name": "stdout",
     "output_type": "stream",
     "text": [
      "\n",
      "Epoch: 22 | Time: 1m 29s\n",
      "Training Results - Average Loss: 0.1774 | auc/_mean: 0.9331 | auc/healthy: 0.9950 | auc/multiple_diseases: 0.7492, auc/rust: 0.9916, auc/scab: 0.9965\n",
      "Evaluating Results - Average Loss: 0.1907 | auc/_mean: 0.9389 | auc/healthy: 0.9978 | auc/multiple_diseases: 0.7635, auc/rust: 0.9974, auc/scab: 0.9970\n",
      "\n"
     ]
    },
    {
     "data": {
      "application/vnd.jupyter.widget-view+json": {
       "model_id": "9ec965c13cb24eef8b55a10a7f531a4d",
       "version_major": 2,
       "version_minor": 0
      },
      "text/plain": [
       "HBox(children=(FloatProgress(value=0.0, description='Train', max=153.0, style=ProgressStyle(description_width=…"
      ]
     },
     "metadata": {},
     "output_type": "display_data"
    },
    {
     "name": "stdout",
     "output_type": "stream",
     "text": [
      "\n",
      "Epoch: 23 | Time: 1m 30s\n",
      "Training Results - Average Loss: 0.1614 | auc/_mean: 0.9468 | auc/healthy: 0.9976 | auc/multiple_diseases: 0.8034, auc/rust: 0.9913, auc/scab: 0.9948\n",
      "Evaluating Results - Average Loss: 0.1980 | auc/_mean: 0.9195 | auc/healthy: 0.9986 | auc/multiple_diseases: 0.6845, auc/rust: 0.9989, auc/scab: 0.9959\n",
      "\n",
      "Epoch    23: reducing learning rate of group 0 to 2.7000e-04.\n"
     ]
    },
    {
     "data": {
      "application/vnd.jupyter.widget-view+json": {
       "model_id": "bfa5d8a65ca846b08387c75d7f518ade",
       "version_major": 2,
       "version_minor": 0
      },
      "text/plain": [
       "HBox(children=(FloatProgress(value=0.0, description='Train', max=153.0, style=ProgressStyle(description_width=…"
      ]
     },
     "metadata": {},
     "output_type": "display_data"
    },
    {
     "name": "stdout",
     "output_type": "stream",
     "text": [
      "\n",
      "Epoch: 24 | Time: 1m 30s\n",
      "Training Results - Average Loss: 0.1166 | auc/_mean: 0.9514 | auc/healthy: 0.9983 | auc/multiple_diseases: 0.8144, auc/rust: 0.9958, auc/scab: 0.9969\n",
      "Evaluating Results - Average Loss: 0.1404 | auc/_mean: 0.9433 | auc/healthy: 0.9984 | auc/multiple_diseases: 0.7792, auc/rust: 0.9981, auc/scab: 0.9976\n",
      "\n"
     ]
    },
    {
     "data": {
      "application/vnd.jupyter.widget-view+json": {
       "model_id": "beed3f751eb34302ba7548dc43e43b73",
       "version_major": 2,
       "version_minor": 0
      },
      "text/plain": [
       "HBox(children=(FloatProgress(value=0.0, description='Train', max=153.0, style=ProgressStyle(description_width=…"
      ]
     },
     "metadata": {},
     "output_type": "display_data"
    },
    {
     "name": "stdout",
     "output_type": "stream",
     "text": [
      "\n",
      "Epoch: 25 | Time: 1m 29s\n",
      "Training Results - Average Loss: 0.1207 | auc/_mean: 0.9478 | auc/healthy: 0.9991 | auc/multiple_diseases: 0.7998, auc/rust: 0.9967, auc/scab: 0.9955\n",
      "Evaluating Results - Average Loss: 0.1291 | auc/_mean: 0.9488 | auc/healthy: 0.9990 | auc/multiple_diseases: 0.8004, auc/rust: 0.9984, auc/scab: 0.9975\n",
      "\n"
     ]
    },
    {
     "data": {
      "application/vnd.jupyter.widget-view+json": {
       "model_id": "c2954c1504a542e4bc257427b79943b8",
       "version_major": 2,
       "version_minor": 0
      },
      "text/plain": [
       "HBox(children=(FloatProgress(value=0.0, description='Train', max=153.0, style=ProgressStyle(description_width=…"
      ]
     },
     "metadata": {},
     "output_type": "display_data"
    },
    {
     "name": "stdout",
     "output_type": "stream",
     "text": [
      "\n",
      "Epoch: 26 | Time: 1m 30s\n",
      "Training Results - Average Loss: 0.0963 | auc/_mean: 0.9566 | auc/healthy: 0.9994 | auc/multiple_diseases: 0.8321, auc/rust: 0.9966, auc/scab: 0.9982\n",
      "Evaluating Results - Average Loss: 0.1445 | auc/_mean: 0.9465 | auc/healthy: 0.9986 | auc/multiple_diseases: 0.7922, auc/rust: 0.9983, auc/scab: 0.9970\n",
      "\n"
     ]
    },
    {
     "data": {
      "application/vnd.jupyter.widget-view+json": {
       "model_id": "9e4d2a1609b348a1b63c66beaffb6456",
       "version_major": 2,
       "version_minor": 0
      },
      "text/plain": [
       "HBox(children=(FloatProgress(value=0.0, description='Train', max=153.0, style=ProgressStyle(description_width=…"
      ]
     },
     "metadata": {},
     "output_type": "display_data"
    },
    {
     "name": "stdout",
     "output_type": "stream",
     "text": [
      "\n",
      "Epoch: 27 | Time: 1m 32s\n",
      "Training Results - Average Loss: 0.0896 | auc/_mean: 0.9673 | auc/healthy: 0.9998 | auc/multiple_diseases: 0.8756, auc/rust: 0.9956, auc/scab: 0.9981\n",
      "Evaluating Results - Average Loss: 0.1318 | auc/_mean: 0.9540 | auc/healthy: 0.9992 | auc/multiple_diseases: 0.8218, auc/rust: 0.9979, auc/scab: 0.9971\n",
      "\n"
     ]
    },
    {
     "data": {
      "application/vnd.jupyter.widget-view+json": {
       "model_id": "fd507877faa64761a82382e676763b1d",
       "version_major": 2,
       "version_minor": 0
      },
      "text/plain": [
       "HBox(children=(FloatProgress(value=0.0, description='Train', max=153.0, style=ProgressStyle(description_width=…"
      ]
     },
     "metadata": {},
     "output_type": "display_data"
    },
    {
     "name": "stdout",
     "output_type": "stream",
     "text": [
      "\n",
      "Epoch: 28 | Time: 1m 30s\n",
      "Training Results - Average Loss: 0.0958 | auc/_mean: 0.9626 | auc/healthy: 0.9994 | auc/multiple_diseases: 0.8570, auc/rust: 0.9971, auc/scab: 0.9969\n",
      "Evaluating Results - Average Loss: 0.1457 | auc/_mean: 0.9590 | auc/healthy: 0.9988 | auc/multiple_diseases: 0.8416, auc/rust: 0.9985, auc/scab: 0.9969\n",
      "\n"
     ]
    },
    {
     "data": {
      "application/vnd.jupyter.widget-view+json": {
       "model_id": "ad50a07145504941ae5658c08aec205e",
       "version_major": 2,
       "version_minor": 0
      },
      "text/plain": [
       "HBox(children=(FloatProgress(value=0.0, description='Train', max=153.0, style=ProgressStyle(description_width=…"
      ]
     },
     "metadata": {},
     "output_type": "display_data"
    },
    {
     "name": "stdout",
     "output_type": "stream",
     "text": [
      "\n",
      "Epoch: 29 | Time: 1m 31s\n",
      "Training Results - Average Loss: 0.0923 | auc/_mean: 0.9747 | auc/healthy: 0.9989 | auc/multiple_diseases: 0.9058, auc/rust: 0.9956, auc/scab: 0.9984\n",
      "Evaluating Results - Average Loss: 0.1410 | auc/_mean: 0.9657 | auc/healthy: 0.9983 | auc/multiple_diseases: 0.8691, auc/rust: 0.9985, auc/scab: 0.9970\n",
      "\n"
     ]
    },
    {
     "data": {
      "application/vnd.jupyter.widget-view+json": {
       "model_id": "f06627d6a881494daf0e6b2c15292624",
       "version_major": 2,
       "version_minor": 0
      },
      "text/plain": [
       "HBox(children=(FloatProgress(value=0.0, description='Train', max=153.0, style=ProgressStyle(description_width=…"
      ]
     },
     "metadata": {},
     "output_type": "display_data"
    },
    {
     "name": "stdout",
     "output_type": "stream",
     "text": [
      "\n",
      "Epoch: 30 | Time: 1m 31s\n",
      "Training Results - Average Loss: 0.0803 | auc/_mean: 0.9776 | auc/healthy: 0.9982 | auc/multiple_diseases: 0.9155, auc/rust: 0.9987, auc/scab: 0.9981\n",
      "Evaluating Results - Average Loss: 0.1668 | auc/_mean: 0.9659 | auc/healthy: 0.9987 | auc/multiple_diseases: 0.8692, auc/rust: 0.9984, auc/scab: 0.9974\n",
      "\n"
     ]
    },
    {
     "data": {
      "application/vnd.jupyter.widget-view+json": {
       "model_id": "290de2d55f364d8487b6c87cbdb89911",
       "version_major": 2,
       "version_minor": 0
      },
      "text/plain": [
       "HBox(children=(FloatProgress(value=0.0, description='Train', max=153.0, style=ProgressStyle(description_width=…"
      ]
     },
     "metadata": {},
     "output_type": "display_data"
    },
    {
     "name": "stdout",
     "output_type": "stream",
     "text": [
      "\n",
      "Epoch: 31 | Time: 1m 30s\n",
      "Training Results - Average Loss: 0.0913 | auc/_mean: 0.9765 | auc/healthy: 0.9992 | auc/multiple_diseases: 0.9116, auc/rust: 0.9960, auc/scab: 0.9991\n",
      "Evaluating Results - Average Loss: 0.1515 | auc/_mean: 0.9683 | auc/healthy: 0.9986 | auc/multiple_diseases: 0.8789, auc/rust: 0.9985, auc/scab: 0.9973\n",
      "\n"
     ]
    },
    {
     "data": {
      "application/vnd.jupyter.widget-view+json": {
       "model_id": "ab8600be108f469cb9f33d93c10fdfbc",
       "version_major": 2,
       "version_minor": 0
      },
      "text/plain": [
       "HBox(children=(FloatProgress(value=0.0, description='Train', max=153.0, style=ProgressStyle(description_width=…"
      ]
     },
     "metadata": {},
     "output_type": "display_data"
    },
    {
     "name": "stdout",
     "output_type": "stream",
     "text": [
      "\n",
      "Epoch: 32 | Time: 1m 30s\n",
      "Training Results - Average Loss: 0.0889 | auc/_mean: 0.9726 | auc/healthy: 0.9992 | auc/multiple_diseases: 0.8958, auc/rust: 0.9966, auc/scab: 0.9988\n",
      "Evaluating Results - Average Loss: 0.1318 | auc/_mean: 0.9777 | auc/healthy: 0.9991 | auc/multiple_diseases: 0.9171, auc/rust: 0.9986, auc/scab: 0.9959\n",
      "\n"
     ]
    },
    {
     "data": {
      "application/vnd.jupyter.widget-view+json": {
       "model_id": "81c407a5a5f341d8b31992547f6a0f3e",
       "version_major": 2,
       "version_minor": 0
      },
      "text/plain": [
       "HBox(children=(FloatProgress(value=0.0, description='Train', max=153.0, style=ProgressStyle(description_width=…"
      ]
     },
     "metadata": {},
     "output_type": "display_data"
    },
    {
     "name": "stdout",
     "output_type": "stream",
     "text": [
      "\n",
      "Epoch: 33 | Time: 1m 32s\n",
      "Training Results - Average Loss: 0.0768 | auc/_mean: 0.9768 | auc/healthy: 0.9997 | auc/multiple_diseases: 0.9116, auc/rust: 0.9975, auc/scab: 0.9985\n",
      "Evaluating Results - Average Loss: 0.1568 | auc/_mean: 0.9610 | auc/healthy: 0.9991 | auc/multiple_diseases: 0.8504, auc/rust: 0.9985, auc/scab: 0.9961\n",
      "\n"
     ]
    },
    {
     "data": {
      "application/vnd.jupyter.widget-view+json": {
       "model_id": "86140b8164144059854d1bdac3b6b544",
       "version_major": 2,
       "version_minor": 0
      },
      "text/plain": [
       "HBox(children=(FloatProgress(value=0.0, description='Train', max=153.0, style=ProgressStyle(description_width=…"
      ]
     },
     "metadata": {},
     "output_type": "display_data"
    },
    {
     "name": "stdout",
     "output_type": "stream",
     "text": [
      "\n",
      "Epoch: 34 | Time: 1m 30s\n",
      "Training Results - Average Loss: 0.0819 | auc/_mean: 0.9744 | auc/healthy: 0.9975 | auc/multiple_diseases: 0.9057, auc/rust: 0.9972, auc/scab: 0.9974\n",
      "Evaluating Results - Average Loss: 0.1716 | auc/_mean: 0.9685 | auc/healthy: 0.9972 | auc/multiple_diseases: 0.8813, auc/rust: 0.9985, auc/scab: 0.9971\n",
      "\n",
      "Epoch    34: reducing learning rate of group 0 to 8.1000e-05.\n"
     ]
    },
    {
     "data": {
      "application/vnd.jupyter.widget-view+json": {
       "model_id": "41f03f5e103f4289838ae444f6e107c0",
       "version_major": 2,
       "version_minor": 0
      },
      "text/plain": [
       "HBox(children=(FloatProgress(value=0.0, description='Train', max=153.0, style=ProgressStyle(description_width=…"
      ]
     },
     "metadata": {},
     "output_type": "display_data"
    },
    {
     "name": "stdout",
     "output_type": "stream",
     "text": [
      "\n",
      "Epoch: 35 | Time: 1m 30s\n",
      "Training Results - Average Loss: 0.0598 | auc/_mean: 0.9842 | auc/healthy: 0.9995 | auc/multiple_diseases: 0.9395, auc/rust: 0.9986, auc/scab: 0.9994\n",
      "Evaluating Results - Average Loss: 0.1655 | auc/_mean: 0.9649 | auc/healthy: 0.9986 | auc/multiple_diseases: 0.8654, auc/rust: 0.9986, auc/scab: 0.9970\n",
      "\n"
     ]
    },
    {
     "data": {
      "application/vnd.jupyter.widget-view+json": {
       "model_id": "e2efb61a22fd46e5b37a9c93772906dc",
       "version_major": 2,
       "version_minor": 0
      },
      "text/plain": [
       "HBox(children=(FloatProgress(value=0.0, description='Train', max=153.0, style=ProgressStyle(description_width=…"
      ]
     },
     "metadata": {},
     "output_type": "display_data"
    },
    {
     "name": "stdout",
     "output_type": "stream",
     "text": [
      "\n",
      "Epoch: 36 | Time: 1m 30s\n",
      "Training Results - Average Loss: 0.0614 | auc/_mean: 0.9802 | auc/healthy: 0.9997 | auc/multiple_diseases: 0.9239, auc/rust: 0.9989, auc/scab: 0.9981\n",
      "Evaluating Results - Average Loss: 0.1541 | auc/_mean: 0.9619 | auc/healthy: 0.9985 | auc/multiple_diseases: 0.8531, auc/rust: 0.9985, auc/scab: 0.9973\n",
      "\n",
      "EarlyStopping\n"
     ]
    }
   ],
   "source": [
    "trainer = Trainer(model, train_dataloader, valid_dataloader, criterion, optimizer, scheduler, device, config)\n",
    "trainer.run();"
   ]
  },
  {
   "cell_type": "code",
   "execution_count": null,
   "metadata": {},
   "outputs": [],
   "source": []
  },
  {
   "cell_type": "code",
   "execution_count": null,
   "metadata": {},
   "outputs": [],
   "source": []
  },
  {
   "cell_type": "code",
   "execution_count": 23,
   "metadata": {},
   "outputs": [],
   "source": [
    "\n",
    "class PlantDatasetTest(Dataset):\n",
    "    \n",
    "    def __init__(self, df, config, transforms=None):\n",
    "    \n",
    "        self.df = df\n",
    "        self.images_dir = config.root_images\n",
    "        self.class_names = config.class_names\n",
    "        self.transforms=transforms\n",
    "        \n",
    "    def __len__(self):\n",
    "        return self.df.shape[0]\n",
    "    \n",
    "    def __getitem__(self, idx):\n",
    "        image_src = self.images_dir + self.df.iloc[idx]['image_id'] + '.jpg'\n",
    "        image = cv2.imread(image_src, cv2.IMREAD_COLOR)\n",
    "        image = cv2.cvtColor(image, cv2.COLOR_BGR2RGB)\n",
    "        \n",
    "        if self.transforms:\n",
    "            transformed = self.transforms(image=image)\n",
    "            image = transformed['image']\n",
    "\n",
    "        return image, idx\n",
    "\n",
    "test_df = pd.read_csv(config.root + 'test.csv')\n",
    "test_dataset = PlantDatasetTest(test_df, config, train_transforms)\n",
    "test_dataloader = DataLoader(test_dataset, batch_size=config.batch_size, shuffle=False, num_workers=config.num_workers)"
   ]
  },
  {
   "cell_type": "code",
   "execution_count": 24,
   "metadata": {},
   "outputs": [],
   "source": [
    "def predict(model, dataloader: DataLoader, device, dataset: Dataset, tta_count: int, config: ConfigExperiment):\n",
    "    n_samples = len(dataset)\n",
    "    y_probas_tta = np.zeros((n_samples, config.num_classes, tta_count), dtype=np.float32)\n",
    "    \n",
    "    model.eval()\n",
    "    model.to(device)\n",
    "    with torch.no_grad():\n",
    "        for i_epoch in tqdm(range(tta_count), desc='TTA', total=tta_count, position=1, leave=True):\n",
    "            for i, (images, idx) in enumerate(dataloader):\n",
    "                images = images.to(device)\n",
    "                outputs = model(images)\n",
    "                y_pred = F.softmax(outputs, dim=1)\n",
    "                \n",
    "                tta_index = i_epoch - 1\n",
    "                start_index = (i % len(dataloader)) * config.batch_size\n",
    "                end_index = min(start_index + config.batch_size, n_samples)\n",
    "                batch_y_probas = y_pred.detach().cpu().numpy()                \n",
    "                y_probas_tta[start_index:end_index, :, tta_index] = batch_y_probas\n",
    "\n",
    "    return y_probas_tta"
   ]
  },
  {
   "cell_type": "code",
   "execution_count": 25,
   "metadata": {},
   "outputs": [
    {
     "name": "stdout",
     "output_type": "stream",
     "text": [
      "Loaded pretrained weights for efficientnet-b4\n"
     ]
    },
    {
     "data": {
      "text/plain": [
       "<All keys matched successfully>"
      ]
     },
     "execution_count": 25,
     "metadata": {},
     "output_type": "execute_result"
    }
   ],
   "source": [
    "model = get_model(config.model_name, config.num_classes)\n",
    "model.load_state_dict(torch.load(f\"{config.save_dirname}/best_model_epoch=32_auc_mean=0.9776760373798699.pth\"))"
   ]
  },
  {
   "cell_type": "code",
   "execution_count": 26,
   "metadata": {},
   "outputs": [
    {
     "data": {
      "application/vnd.jupyter.widget-view+json": {
       "model_id": "42c1634b33f04400b683d091441a39a2",
       "version_major": 2,
       "version_minor": 0
      },
      "text/plain": [
       "HBox(children=(FloatProgress(value=0.0, description='TTA', max=5.0, style=ProgressStyle(description_width='ini…"
      ]
     },
     "metadata": {},
     "output_type": "display_data"
    },
    {
     "name": "stdout",
     "output_type": "stream",
     "text": [
      "\n"
     ]
    }
   ],
   "source": [
    "result = predict(model, test_dataloader, device, test_dataset, tta_count=5, config=config)"
   ]
  },
  {
   "cell_type": "code",
   "execution_count": 27,
   "metadata": {},
   "outputs": [],
   "source": [
    "y_probas = np.mean(result, axis=-1)"
   ]
  },
  {
   "cell_type": "code",
   "execution_count": 28,
   "metadata": {},
   "outputs": [
    {
     "data": {
      "text/plain": [
       "array([[6.3880638e-04, 6.9609387e-03, 9.9238980e-01, 1.0497751e-05],\n",
       "       [1.7404766e-04, 8.8852663e-03, 9.9091434e-01, 2.6263195e-05],\n",
       "       [1.1449547e-02, 4.1036732e-03, 3.0086001e-05, 9.8441678e-01],\n",
       "       [9.9822557e-01, 2.0357803e-04, 5.0409049e-06, 1.5657895e-03],\n",
       "       [3.0939223e-03, 2.4749709e-03, 9.9442291e-01, 8.2185443e-06],\n",
       "       [9.8253727e-01, 1.4549071e-02, 1.6253630e-03, 1.2883531e-03],\n",
       "       [9.9889326e-01, 9.0801048e-05, 6.8565423e-06, 1.0090604e-03],\n",
       "       [1.8453782e-06, 4.8701063e-02, 3.5145411e-05, 9.5126200e-01],\n",
       "       [1.7212449e-03, 1.6756514e-01, 2.1020518e-04, 8.3050334e-01],\n",
       "       [2.2361132e-04, 1.9035389e-03, 9.9786985e-01, 3.0038955e-06]],\n",
       "      dtype=float32)"
      ]
     },
     "execution_count": 28,
     "metadata": {},
     "output_type": "execute_result"
    }
   ],
   "source": [
    "y_probas[:10]"
   ]
  },
  {
   "cell_type": "code",
   "execution_count": 29,
   "metadata": {},
   "outputs": [
    {
     "data": {
      "text/html": [
       "<div>\n",
       "<style scoped>\n",
       "    .dataframe tbody tr th:only-of-type {\n",
       "        vertical-align: middle;\n",
       "    }\n",
       "\n",
       "    .dataframe tbody tr th {\n",
       "        vertical-align: top;\n",
       "    }\n",
       "\n",
       "    .dataframe thead th {\n",
       "        text-align: right;\n",
       "    }\n",
       "</style>\n",
       "<table border=\"1\" class=\"dataframe\">\n",
       "  <thead>\n",
       "    <tr style=\"text-align: right;\">\n",
       "      <th></th>\n",
       "      <th>image_id</th>\n",
       "      <th>healthy</th>\n",
       "      <th>multiple_diseases</th>\n",
       "      <th>rust</th>\n",
       "      <th>scab</th>\n",
       "    </tr>\n",
       "  </thead>\n",
       "  <tbody>\n",
       "    <tr>\n",
       "      <th>0</th>\n",
       "      <td>Test_0</td>\n",
       "      <td>0.000639</td>\n",
       "      <td>0.006961</td>\n",
       "      <td>0.992390</td>\n",
       "      <td>0.000010</td>\n",
       "    </tr>\n",
       "    <tr>\n",
       "      <th>1</th>\n",
       "      <td>Test_1</td>\n",
       "      <td>0.000174</td>\n",
       "      <td>0.008885</td>\n",
       "      <td>0.990914</td>\n",
       "      <td>0.000026</td>\n",
       "    </tr>\n",
       "    <tr>\n",
       "      <th>2</th>\n",
       "      <td>Test_2</td>\n",
       "      <td>0.011450</td>\n",
       "      <td>0.004104</td>\n",
       "      <td>0.000030</td>\n",
       "      <td>0.984417</td>\n",
       "    </tr>\n",
       "    <tr>\n",
       "      <th>3</th>\n",
       "      <td>Test_3</td>\n",
       "      <td>0.998226</td>\n",
       "      <td>0.000204</td>\n",
       "      <td>0.000005</td>\n",
       "      <td>0.001566</td>\n",
       "    </tr>\n",
       "    <tr>\n",
       "      <th>4</th>\n",
       "      <td>Test_4</td>\n",
       "      <td>0.003094</td>\n",
       "      <td>0.002475</td>\n",
       "      <td>0.994423</td>\n",
       "      <td>0.000008</td>\n",
       "    </tr>\n",
       "  </tbody>\n",
       "</table>\n",
       "</div>"
      ],
      "text/plain": [
       "  image_id   healthy  multiple_diseases      rust      scab\n",
       "0   Test_0  0.000639           0.006961  0.992390  0.000010\n",
       "1   Test_1  0.000174           0.008885  0.990914  0.000026\n",
       "2   Test_2  0.011450           0.004104  0.000030  0.984417\n",
       "3   Test_3  0.998226           0.000204  0.000005  0.001566\n",
       "4   Test_4  0.003094           0.002475  0.994423  0.000008"
      ]
     },
     "execution_count": 29,
     "metadata": {},
     "output_type": "execute_result"
    }
   ],
   "source": [
    "test_df = pd.read_csv(config.root + 'test.csv')\n",
    "test_df[\"healthy\"] = 0\n",
    "test_df[\"multiple_diseases\"] = 0\n",
    "test_df[\"rust\"] = 0\n",
    "test_df[\"scab\"] = 0\n",
    "test_df[['healthy', 'multiple_diseases', 'rust', 'scab']] = y_probas\n",
    "test_df.to_csv(config.submission_file, index=False)\n",
    "test_df.head()"
   ]
  },
  {
   "cell_type": "code",
   "execution_count": 30,
   "metadata": {},
   "outputs": [
    {
     "data": {
      "text/plain": [
       "'01_efficientnet-b4.csv'"
      ]
     },
     "execution_count": 30,
     "metadata": {},
     "output_type": "execute_result"
    }
   ],
   "source": [
    "config.submission_file"
   ]
  },
  {
   "cell_type": "code",
   "execution_count": null,
   "metadata": {},
   "outputs": [],
   "source": []
  },
  {
   "cell_type": "code",
   "execution_count": null,
   "metadata": {},
   "outputs": [],
   "source": []
  },
  {
   "cell_type": "code",
   "execution_count": null,
   "metadata": {},
   "outputs": [],
   "source": []
  },
  {
   "cell_type": "code",
   "execution_count": null,
   "metadata": {},
   "outputs": [],
   "source": []
  },
  {
   "cell_type": "code",
   "execution_count": null,
   "metadata": {},
   "outputs": [],
   "source": []
  },
  {
   "cell_type": "code",
   "execution_count": null,
   "metadata": {},
   "outputs": [],
   "source": []
  },
  {
   "cell_type": "code",
   "execution_count": null,
   "metadata": {},
   "outputs": [],
   "source": []
  },
  {
   "cell_type": "code",
   "execution_count": null,
   "metadata": {},
   "outputs": [],
   "source": []
  },
  {
   "cell_type": "code",
   "execution_count": null,
   "metadata": {},
   "outputs": [],
   "source": []
  },
  {
   "cell_type": "code",
   "execution_count": null,
   "metadata": {},
   "outputs": [],
   "source": []
  },
  {
   "cell_type": "code",
   "execution_count": null,
   "metadata": {},
   "outputs": [],
   "source": []
  },
  {
   "cell_type": "code",
   "execution_count": null,
   "metadata": {},
   "outputs": [],
   "source": []
  },
  {
   "cell_type": "code",
   "execution_count": null,
   "metadata": {},
   "outputs": [],
   "source": []
  },
  {
   "cell_type": "code",
   "execution_count": null,
   "metadata": {},
   "outputs": [],
   "source": []
  }
 ],
 "metadata": {
  "kernelspec": {
   "display_name": "Python 3",
   "language": "python",
   "name": "python3"
  },
  "language_info": {
   "codemirror_mode": {
    "name": "ipython",
    "version": 3
   },
   "file_extension": ".py",
   "mimetype": "text/x-python",
   "name": "python",
   "nbconvert_exporter": "python",
   "pygments_lexer": "ipython3",
   "version": "3.6.9"
  }
 },
 "nbformat": 4,
 "nbformat_minor": 4
}
