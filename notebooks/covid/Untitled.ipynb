{
 "cells": [
  {
   "cell_type": "code",
   "execution_count": 1,
   "metadata": {},
   "outputs": [],
   "source": [
    "%load_ext autoreload\n",
    "%autoreload 2\n",
    "\n",
    "import warnings\n",
    "warnings.filterwarnings('ignore')"
   ]
  },
  {
   "cell_type": "code",
   "execution_count": 2,
   "metadata": {},
   "outputs": [],
   "source": [
    "import numpy as np # linear algebra\n",
    "import pandas as pd # data processing, CSV file I/O (e.g. pd.read_csv)\n",
    "import glob\n",
    "import json\n",
    "from tqdm.notebook import tqdm\n",
    "import matplotlib.pyplot as plt\n",
    "plt.style.use('ggplot')"
   ]
  },
  {
   "cell_type": "code",
   "execution_count": 3,
   "metadata": {},
   "outputs": [],
   "source": [
    "tqdm.pandas()"
   ]
  },
  {
   "cell_type": "code",
   "execution_count": 4,
   "metadata": {},
   "outputs": [],
   "source": [
    "root_path = '../../data/raw/covid/'"
   ]
  },
  {
   "cell_type": "code",
   "execution_count": 12,
   "metadata": {},
   "outputs": [
    {
     "data": {
      "text/html": [
       "<div>\n",
       "<style scoped>\n",
       "    .dataframe tbody tr th:only-of-type {\n",
       "        vertical-align: middle;\n",
       "    }\n",
       "\n",
       "    .dataframe tbody tr th {\n",
       "        vertical-align: top;\n",
       "    }\n",
       "\n",
       "    .dataframe thead th {\n",
       "        text-align: right;\n",
       "    }\n",
       "</style>\n",
       "<table border=\"1\" class=\"dataframe\">\n",
       "  <thead>\n",
       "    <tr style=\"text-align: right;\">\n",
       "      <th></th>\n",
       "      <th>cord_uid</th>\n",
       "      <th>sha</th>\n",
       "      <th>source_x</th>\n",
       "      <th>title</th>\n",
       "      <th>doi</th>\n",
       "      <th>pmcid</th>\n",
       "      <th>pubmed_id</th>\n",
       "      <th>license</th>\n",
       "      <th>abstract</th>\n",
       "      <th>publish_time</th>\n",
       "      <th>authors</th>\n",
       "      <th>journal</th>\n",
       "      <th>Microsoft Academic Paper ID</th>\n",
       "      <th>WHO #Covidence</th>\n",
       "      <th>has_full_text</th>\n",
       "      <th>full_text_file</th>\n",
       "      <th>url</th>\n",
       "    </tr>\n",
       "  </thead>\n",
       "  <tbody>\n",
       "    <tr>\n",
       "      <th>0</th>\n",
       "      <td>vho70jcx</td>\n",
       "      <td>f056da9c64fbf00a4645ae326e8a4339d015d155</td>\n",
       "      <td>biorxiv</td>\n",
       "      <td>SIANN: Strain Identification by Alignment to N...</td>\n",
       "      <td>10.1101/001727</td>\n",
       "      <td>NaN</td>\n",
       "      <td>NaN</td>\n",
       "      <td>biorxiv</td>\n",
       "      <td>Next-generation sequencing is increasingly bei...</td>\n",
       "      <td>2014-01-10</td>\n",
       "      <td>Samuel Minot; Stephen D Turner; Krista L Ternu...</td>\n",
       "      <td>NaN</td>\n",
       "      <td>NaN</td>\n",
       "      <td>NaN</td>\n",
       "      <td>True</td>\n",
       "      <td>biorxiv_medrxiv</td>\n",
       "      <td>https://doi.org/10.1101/001727</td>\n",
       "    </tr>\n",
       "    <tr>\n",
       "      <th>1</th>\n",
       "      <td>i9tbix2v</td>\n",
       "      <td>daf32e013d325a6feb80e83d15aabc64a48fae33</td>\n",
       "      <td>biorxiv</td>\n",
       "      <td>Spatial epidemiology of networked metapopulati...</td>\n",
       "      <td>10.1101/003889</td>\n",
       "      <td>NaN</td>\n",
       "      <td>NaN</td>\n",
       "      <td>biorxiv</td>\n",
       "      <td>An emerging disease is one infectious epidemic...</td>\n",
       "      <td>2014-06-04</td>\n",
       "      <td>Lin WANG; Xiang Li</td>\n",
       "      <td>NaN</td>\n",
       "      <td>NaN</td>\n",
       "      <td>NaN</td>\n",
       "      <td>True</td>\n",
       "      <td>biorxiv_medrxiv</td>\n",
       "      <td>https://doi.org/10.1101/003889</td>\n",
       "    </tr>\n",
       "    <tr>\n",
       "      <th>2</th>\n",
       "      <td>62gfisc6</td>\n",
       "      <td>f33c6d94b0efaa198f8f3f20e644625fa3fe10d2</td>\n",
       "      <td>biorxiv</td>\n",
       "      <td>Sequencing of the human IG light chain loci fr...</td>\n",
       "      <td>10.1101/006866</td>\n",
       "      <td>NaN</td>\n",
       "      <td>NaN</td>\n",
       "      <td>biorxiv</td>\n",
       "      <td>Germline variation at immunoglobulin gene (IG)...</td>\n",
       "      <td>2014-07-03</td>\n",
       "      <td>Corey T Watson; Karyn Meltz Steinberg; Tina A ...</td>\n",
       "      <td>NaN</td>\n",
       "      <td>NaN</td>\n",
       "      <td>NaN</td>\n",
       "      <td>True</td>\n",
       "      <td>biorxiv_medrxiv</td>\n",
       "      <td>https://doi.org/10.1101/006866</td>\n",
       "    </tr>\n",
       "    <tr>\n",
       "      <th>3</th>\n",
       "      <td>058r9486</td>\n",
       "      <td>4da8a87e614373d56070ed272487451266dce919</td>\n",
       "      <td>biorxiv</td>\n",
       "      <td>Bayesian mixture analysis for metagenomic comm...</td>\n",
       "      <td>10.1101/007476</td>\n",
       "      <td>NaN</td>\n",
       "      <td>NaN</td>\n",
       "      <td>biorxiv</td>\n",
       "      <td>Deep sequencing of clinical samples is now an ...</td>\n",
       "      <td>2014-07-25</td>\n",
       "      <td>Sofia Morfopoulou; Vincent Plagnol</td>\n",
       "      <td>NaN</td>\n",
       "      <td>NaN</td>\n",
       "      <td>NaN</td>\n",
       "      <td>True</td>\n",
       "      <td>biorxiv_medrxiv</td>\n",
       "      <td>https://doi.org/10.1101/007476</td>\n",
       "    </tr>\n",
       "    <tr>\n",
       "      <th>4</th>\n",
       "      <td>wich35l7</td>\n",
       "      <td>eccef80cfbe078235df22398f195d5db462d8000</td>\n",
       "      <td>biorxiv</td>\n",
       "      <td>Mapping a viral phylogeny onto outbreak trees ...</td>\n",
       "      <td>10.1101/010389</td>\n",
       "      <td>NaN</td>\n",
       "      <td>NaN</td>\n",
       "      <td>biorxiv</td>\n",
       "      <td>Developing methods to reconstruct transmission...</td>\n",
       "      <td>2014-11-11</td>\n",
       "      <td>Stephen P Velsko; Jonathan E Allen</td>\n",
       "      <td>NaN</td>\n",
       "      <td>NaN</td>\n",
       "      <td>NaN</td>\n",
       "      <td>True</td>\n",
       "      <td>biorxiv_medrxiv</td>\n",
       "      <td>https://doi.org/10.1101/010389</td>\n",
       "    </tr>\n",
       "  </tbody>\n",
       "</table>\n",
       "</div>"
      ],
      "text/plain": [
       "   cord_uid                                       sha source_x  \\\n",
       "0  vho70jcx  f056da9c64fbf00a4645ae326e8a4339d015d155  biorxiv   \n",
       "1  i9tbix2v  daf32e013d325a6feb80e83d15aabc64a48fae33  biorxiv   \n",
       "2  62gfisc6  f33c6d94b0efaa198f8f3f20e644625fa3fe10d2  biorxiv   \n",
       "3  058r9486  4da8a87e614373d56070ed272487451266dce919  biorxiv   \n",
       "4  wich35l7  eccef80cfbe078235df22398f195d5db462d8000  biorxiv   \n",
       "\n",
       "                                               title             doi pmcid  \\\n",
       "0  SIANN: Strain Identification by Alignment to N...  10.1101/001727   NaN   \n",
       "1  Spatial epidemiology of networked metapopulati...  10.1101/003889   NaN   \n",
       "2  Sequencing of the human IG light chain loci fr...  10.1101/006866   NaN   \n",
       "3  Bayesian mixture analysis for metagenomic comm...  10.1101/007476   NaN   \n",
       "4  Mapping a viral phylogeny onto outbreak trees ...  10.1101/010389   NaN   \n",
       "\n",
       "  pubmed_id  license                                           abstract  \\\n",
       "0       NaN  biorxiv  Next-generation sequencing is increasingly bei...   \n",
       "1       NaN  biorxiv  An emerging disease is one infectious epidemic...   \n",
       "2       NaN  biorxiv  Germline variation at immunoglobulin gene (IG)...   \n",
       "3       NaN  biorxiv  Deep sequencing of clinical samples is now an ...   \n",
       "4       NaN  biorxiv  Developing methods to reconstruct transmission...   \n",
       "\n",
       "  publish_time                                            authors journal  \\\n",
       "0   2014-01-10  Samuel Minot; Stephen D Turner; Krista L Ternu...     NaN   \n",
       "1   2014-06-04                                 Lin WANG; Xiang Li     NaN   \n",
       "2   2014-07-03  Corey T Watson; Karyn Meltz Steinberg; Tina A ...     NaN   \n",
       "3   2014-07-25                 Sofia Morfopoulou; Vincent Plagnol     NaN   \n",
       "4   2014-11-11                 Stephen P Velsko; Jonathan E Allen     NaN   \n",
       "\n",
       "  Microsoft Academic Paper ID WHO #Covidence  has_full_text   full_text_file  \\\n",
       "0                         NaN            NaN           True  biorxiv_medrxiv   \n",
       "1                         NaN            NaN           True  biorxiv_medrxiv   \n",
       "2                         NaN            NaN           True  biorxiv_medrxiv   \n",
       "3                         NaN            NaN           True  biorxiv_medrxiv   \n",
       "4                         NaN            NaN           True  biorxiv_medrxiv   \n",
       "\n",
       "                              url  \n",
       "0  https://doi.org/10.1101/001727  \n",
       "1  https://doi.org/10.1101/003889  \n",
       "2  https://doi.org/10.1101/006866  \n",
       "3  https://doi.org/10.1101/007476  \n",
       "4  https://doi.org/10.1101/010389  "
      ]
     },
     "execution_count": 12,
     "metadata": {},
     "output_type": "execute_result"
    }
   ],
   "source": [
    "metadata_path = f'{root_path}/metadata.csv'\n",
    "meta_df = pd.read_csv(metadata_path, dtype={\n",
    "    'pubmed_id': str,\n",
    "    'Microsoft Academic Paper ID': str, \n",
    "    'doi': str\n",
    "})\n",
    "meta_df.head()"
   ]
  },
  {
   "cell_type": "code",
   "execution_count": 6,
   "metadata": {},
   "outputs": [
    {
     "data": {
      "text/plain": [
       "33375"
      ]
     },
     "execution_count": 6,
     "metadata": {},
     "output_type": "execute_result"
    }
   ],
   "source": [
    "all_json = glob.glob(f'{root_path}/**/*.json', recursive=True)\n",
    "len(all_json)"
   ]
  },
  {
   "cell_type": "code",
   "execution_count": 8,
   "metadata": {},
   "outputs": [],
   "source": [
    "class FileReader:\n",
    "    def __init__(self, file_path):\n",
    "        with open(file_path) as file:\n",
    "            content = json.load(file)\n",
    "            self.paper_id = content['paper_id']\n",
    "            self.abstract = []\n",
    "            self.body_text = []\n",
    "            # Abstract\n",
    "            for entry in content['abstract']:\n",
    "                self.abstract.append(entry['text'])\n",
    "            # Body text\n",
    "            for entry in content['body_text']:\n",
    "                self.body_text.append(entry['text'])\n",
    "            self.abstract = '\\n'.join(self.abstract)\n",
    "            self.body_text = '\\n'.join(self.body_text)\n",
    "    def __repr__(self):\n",
    "        return f'{self.paper_id}: {self.abstract[:200]}... {self.body_text[:200]}...'\n"
   ]
  },
  {
   "cell_type": "code",
   "execution_count": 10,
   "metadata": {},
   "outputs": [
    {
     "name": "stdout",
     "output_type": "stream",
     "text": [
      "d604508a4de30a622bbe2d59d1f73abaaf9c14d2: ... La pathologic virale du syst6me nerveux, nagubre consid6r6e avec r6ticence, a acquis droit de cit6. Ce ne sont pas tellement la multiplicit6 des affections cliniques maintenant bien ~tudi6es, ni la di...\n"
     ]
    }
   ],
   "source": [
    "first_row = FileReader(all_json[0])\n",
    "print(first_row)"
   ]
  },
  {
   "cell_type": "code",
   "execution_count": 14,
   "metadata": {},
   "outputs": [],
   "source": [
    "def get_breaks(content, length):\n",
    "    data = \"\"\n",
    "    words = content.split(' ')\n",
    "    total_chars = 0\n",
    "\n",
    "    # add break every length characters\n",
    "    for i in range(len(words)):\n",
    "        total_chars += len(words[i])\n",
    "        if total_chars > length:\n",
    "            data = data + \"<br>\" + words[i]\n",
    "            total_chars = 0\n",
    "        else:\n",
    "            data = data + \" \" + words[i]\n",
    "    return data"
   ]
  },
  {
   "cell_type": "code",
   "execution_count": 18,
   "metadata": {},
   "outputs": [
    {
     "data": {
      "application/vnd.jupyter.widget-view+json": {
       "model_id": "b0a18ac5db1e4ae586527208d19a5fb5",
       "version_major": 2,
       "version_minor": 0
      },
      "text/plain": [
       "HBox(children=(FloatProgress(value=0.0, description='Processing files', max=33375.0, style=ProgressStyle(descr…"
      ]
     },
     "metadata": {},
     "output_type": "display_data"
    },
    {
     "name": "stdout",
     "output_type": "stream",
     "text": [
      "\n"
     ]
    },
    {
     "data": {
      "text/html": [
       "<div>\n",
       "<style scoped>\n",
       "    .dataframe tbody tr th:only-of-type {\n",
       "        vertical-align: middle;\n",
       "    }\n",
       "\n",
       "    .dataframe tbody tr th {\n",
       "        vertical-align: top;\n",
       "    }\n",
       "\n",
       "    .dataframe thead th {\n",
       "        text-align: right;\n",
       "    }\n",
       "</style>\n",
       "<table border=\"1\" class=\"dataframe\">\n",
       "  <thead>\n",
       "    <tr style=\"text-align: right;\">\n",
       "      <th></th>\n",
       "      <th>paper_id</th>\n",
       "      <th>abstract</th>\n",
       "      <th>body_text</th>\n",
       "      <th>authors</th>\n",
       "      <th>title</th>\n",
       "      <th>journal</th>\n",
       "      <th>abstract_summary</th>\n",
       "    </tr>\n",
       "  </thead>\n",
       "  <tbody>\n",
       "    <tr>\n",
       "      <th>0</th>\n",
       "      <td>d604508a4de30a622bbe2d59d1f73abaaf9c14d2</td>\n",
       "      <td></td>\n",
       "      <td>La pathologic virale du syst6me nerveux, nagub...</td>\n",
       "      <td>Cathala, F.</td>\n",
       "      <td>Généralités sur l'infection du système&lt;br&gt;ner...</td>\n",
       "      <td>Revue d'Electroencéphalographie et de Neurophy...</td>\n",
       "      <td>Not provided.</td>\n",
       "    </tr>\n",
       "    <tr>\n",
       "      <th>1</th>\n",
       "      <td>7cc9c36dd4de535aabba7346c12be7b470f6797f</td>\n",
       "      <td>Although promotion of safe hygiene is the sing...</td>\n",
       "      <td>Promotion of hygiene might be the single most ...</td>\n",
       "      <td>Curtis, Val.  Schmidt, Wolf...</td>\n",
       "      <td>Hygiene: new hopes, new horizons</td>\n",
       "      <td>The Lancet Infectious Diseases</td>\n",
       "      <td>Although promotion of safe hygiene is the&lt;br&gt;...</td>\n",
       "    </tr>\n",
       "    <tr>\n",
       "      <th>2</th>\n",
       "      <td>b8069299efef2b8cf2d672b0174f6f0a7ef0580e</td>\n",
       "      <td></td>\n",
       "      <td>Oft ist die Unterscheidung zwischen infektiöse...</td>\n",
       "      <td>NaN</td>\n",
       "      <td>KAPITEL 13 Infektionskrankheiten</td>\n",
       "      <td>Innere Medizin</td>\n",
       "      <td>Not provided.</td>\n",
       "    </tr>\n",
       "    <tr>\n",
       "      <th>3</th>\n",
       "      <td>53f7ce0a18de7792f478273f9449e175960563c0</td>\n",
       "      <td>Purpose: To explore factors relating to the pr...</td>\n",
       "      <td>Current global outbreak of severe acute respir...</td>\n",
       "      <td>Wong, Chi-Yan.  Tang, Catherine So-Kum</td>\n",
       "      <td>Practice of habitual and volitional health&lt;br...</td>\n",
       "      <td>Journal of Adolescent Health</td>\n",
       "      <td>Purpose: To explore factors relating to the&lt;b...</td>\n",
       "    </tr>\n",
       "    <tr>\n",
       "      <th>4</th>\n",
       "      <td>e3c2df2221f21ddbb5ece5f094fa307e26b79e9e</td>\n",
       "      <td>Signal-dependent targeting of proteins into an...</td>\n",
       "      <td>The mammalian cell is a highly organised, dyna...</td>\n",
       "      <td>Fulcher, Alex J..  Jans, David A.</td>\n",
       "      <td>Regulation of nucleocytoplasmic trafficking&lt;b...</td>\n",
       "      <td>Biochimica et Biophysica Acta (BBA) - Molecula...</td>\n",
       "      <td>Signal-dependent targeting of proteins into&lt;b...</td>\n",
       "    </tr>\n",
       "  </tbody>\n",
       "</table>\n",
       "</div>"
      ],
      "text/plain": [
       "                                   paper_id  \\\n",
       "0  d604508a4de30a622bbe2d59d1f73abaaf9c14d2   \n",
       "1  7cc9c36dd4de535aabba7346c12be7b470f6797f   \n",
       "2  b8069299efef2b8cf2d672b0174f6f0a7ef0580e   \n",
       "3  53f7ce0a18de7792f478273f9449e175960563c0   \n",
       "4  e3c2df2221f21ddbb5ece5f094fa307e26b79e9e   \n",
       "\n",
       "                                            abstract  \\\n",
       "0                                                      \n",
       "1  Although promotion of safe hygiene is the sing...   \n",
       "2                                                      \n",
       "3  Purpose: To explore factors relating to the pr...   \n",
       "4  Signal-dependent targeting of proteins into an...   \n",
       "\n",
       "                                           body_text  \\\n",
       "0  La pathologic virale du syst6me nerveux, nagub...   \n",
       "1  Promotion of hygiene might be the single most ...   \n",
       "2  Oft ist die Unterscheidung zwischen infektiöse...   \n",
       "3  Current global outbreak of severe acute respir...   \n",
       "4  The mammalian cell is a highly organised, dyna...   \n",
       "\n",
       "                                  authors  \\\n",
       "0                             Cathala, F.   \n",
       "1          Curtis, Val.  Schmidt, Wolf...   \n",
       "2                                     NaN   \n",
       "3  Wong, Chi-Yan.  Tang, Catherine So-Kum   \n",
       "4       Fulcher, Alex J..  Jans, David A.   \n",
       "\n",
       "                                               title  \\\n",
       "0   Généralités sur l'infection du système<br>ner...   \n",
       "1                   Hygiene: new hopes, new horizons   \n",
       "2                   KAPITEL 13 Infektionskrankheiten   \n",
       "3   Practice of habitual and volitional health<br...   \n",
       "4   Regulation of nucleocytoplasmic trafficking<b...   \n",
       "\n",
       "                                             journal  \\\n",
       "0  Revue d'Electroencéphalographie et de Neurophy...   \n",
       "1                     The Lancet Infectious Diseases   \n",
       "2                                     Innere Medizin   \n",
       "3                       Journal of Adolescent Health   \n",
       "4  Biochimica et Biophysica Acta (BBA) - Molecula...   \n",
       "\n",
       "                                    abstract_summary  \n",
       "0                                      Not provided.  \n",
       "1   Although promotion of safe hygiene is the<br>...  \n",
       "2                                      Not provided.  \n",
       "3   Purpose: To explore factors relating to the<b...  \n",
       "4   Signal-dependent targeting of proteins into<b...  "
      ]
     },
     "execution_count": 18,
     "metadata": {},
     "output_type": "execute_result"
    }
   ],
   "source": [
    "dict_ = {\n",
    "    'paper_id': [], \n",
    "    'abstract': [], \n",
    "    'body_text': [], \n",
    "    'authors': [], \n",
    "    'title': [], \n",
    "    'journal': [], \n",
    "    'abstract_summary': []\n",
    "}\n",
    "\n",
    "for entry in tqdm(all_json, desc=\"Processing files\"):\n",
    "    content = FileReader(entry)\n",
    "    \n",
    "    # get metadata information\n",
    "    meta_data = meta_df.loc[meta_df['sha'] == content.paper_id]\n",
    "    # no metadata, skip this paper\n",
    "    if len(meta_data) == 0:\n",
    "        continue\n",
    "    \n",
    "    dict_['paper_id'].append(content.paper_id)\n",
    "    dict_['abstract'].append(content.abstract)\n",
    "    dict_['body_text'].append(content.body_text)\n",
    "    \n",
    "    # also create a column for the summary of abstract to be used in a plot\n",
    "    if len(content.abstract) == 0: \n",
    "        # no abstract provided\n",
    "        dict_['abstract_summary'].append(\"Not provided.\")\n",
    "    elif len(content.abstract.split(' ')) > 100:\n",
    "        # abstract provided is too long for plot, take first 300 words append with ...\n",
    "        info = content.abstract.split(' ')[:100]\n",
    "        summary = get_breaks(' '.join(info), 40)\n",
    "        dict_['abstract_summary'].append(summary + \"...\")\n",
    "    else:\n",
    "        # abstract is short enough\n",
    "        summary = get_breaks(content.abstract, 40)\n",
    "        dict_['abstract_summary'].append(summary)\n",
    "        \n",
    "    # get metadata information\n",
    "    meta_data = meta_df.loc[meta_df['sha'] == content.paper_id]\n",
    "    \n",
    "    try:\n",
    "        # if more than one author\n",
    "        authors = meta_data['authors'].values[0].split(';')\n",
    "        if len(authors) > 2:\n",
    "            # more than 2 authors, may be problem when plotting, so take first 2 append with ...\n",
    "            dict_['authors'].append(\". \".join(authors[:2]) + \"...\")\n",
    "        else:\n",
    "            # authors will fit in plot\n",
    "            dict_['authors'].append(\". \".join(authors))\n",
    "    except Exception as e:\n",
    "        # if only one author - or Null valie\n",
    "        dict_['authors'].append(meta_data['authors'].values[0])\n",
    "    \n",
    "    # add the title information, add breaks when needed\n",
    "    try:\n",
    "        title = get_breaks(meta_data['title'].values[0], 40)\n",
    "        dict_['title'].append(title)\n",
    "    # if title was not provided\n",
    "    except Exception as e:\n",
    "        dict_['title'].append(meta_data['title'].values[0])\n",
    "    \n",
    "    # add the journal information\n",
    "    dict_['journal'].append(meta_data['journal'].values[0])\n",
    "    \n",
    "df_covid = pd.DataFrame(dict_, columns=['paper_id', 'abstract', 'body_text', 'authors', 'title', 'journal', 'abstract_summary'])\n",
    "df_covid.head()"
   ]
  },
  {
   "cell_type": "code",
   "execution_count": 20,
   "metadata": {},
   "outputs": [
    {
     "data": {
      "application/vnd.jupyter.widget-view+json": {
       "model_id": "a0194afad12c4aae97f40a49f2e27059",
       "version_major": 2,
       "version_minor": 0
      },
      "text/plain": [
       "HBox(children=(FloatProgress(value=0.0, max=30197.0), HTML(value='')))"
      ]
     },
     "metadata": {},
     "output_type": "display_data"
    },
    {
     "name": "stdout",
     "output_type": "stream",
     "text": [
      "\n"
     ]
    },
    {
     "data": {
      "application/vnd.jupyter.widget-view+json": {
       "model_id": "1b572fe625df44999b732f8b6c119509",
       "version_major": 2,
       "version_minor": 0
      },
      "text/plain": [
       "HBox(children=(FloatProgress(value=0.0, max=30197.0), HTML(value='')))"
      ]
     },
     "metadata": {},
     "output_type": "display_data"
    },
    {
     "name": "stdout",
     "output_type": "stream",
     "text": [
      "\n"
     ]
    },
    {
     "data": {
      "text/html": [
       "<div>\n",
       "<style scoped>\n",
       "    .dataframe tbody tr th:only-of-type {\n",
       "        vertical-align: middle;\n",
       "    }\n",
       "\n",
       "    .dataframe tbody tr th {\n",
       "        vertical-align: top;\n",
       "    }\n",
       "\n",
       "    .dataframe thead th {\n",
       "        text-align: right;\n",
       "    }\n",
       "</style>\n",
       "<table border=\"1\" class=\"dataframe\">\n",
       "  <thead>\n",
       "    <tr style=\"text-align: right;\">\n",
       "      <th></th>\n",
       "      <th>paper_id</th>\n",
       "      <th>abstract</th>\n",
       "      <th>body_text</th>\n",
       "      <th>authors</th>\n",
       "      <th>title</th>\n",
       "      <th>journal</th>\n",
       "      <th>abstract_summary</th>\n",
       "      <th>abstract_word_count</th>\n",
       "      <th>body_word_count</th>\n",
       "    </tr>\n",
       "  </thead>\n",
       "  <tbody>\n",
       "    <tr>\n",
       "      <th>0</th>\n",
       "      <td>d604508a4de30a622bbe2d59d1f73abaaf9c14d2</td>\n",
       "      <td></td>\n",
       "      <td>La pathologic virale du syst6me nerveux, nagub...</td>\n",
       "      <td>Cathala, F.</td>\n",
       "      <td>Généralités sur l'infection du système&lt;br&gt;ner...</td>\n",
       "      <td>Revue d'Electroencéphalographie et de Neurophy...</td>\n",
       "      <td>Not provided.</td>\n",
       "      <td>0</td>\n",
       "      <td>3899</td>\n",
       "    </tr>\n",
       "    <tr>\n",
       "      <th>1</th>\n",
       "      <td>7cc9c36dd4de535aabba7346c12be7b470f6797f</td>\n",
       "      <td>Although promotion of safe hygiene is the sing...</td>\n",
       "      <td>Promotion of hygiene might be the single most ...</td>\n",
       "      <td>Curtis, Val.  Schmidt, Wolf...</td>\n",
       "      <td>Hygiene: new hopes, new horizons</td>\n",
       "      <td>The Lancet Infectious Diseases</td>\n",
       "      <td>Although promotion of safe hygiene is the&lt;br&gt;...</td>\n",
       "      <td>196</td>\n",
       "      <td>6480</td>\n",
       "    </tr>\n",
       "    <tr>\n",
       "      <th>2</th>\n",
       "      <td>b8069299efef2b8cf2d672b0174f6f0a7ef0580e</td>\n",
       "      <td></td>\n",
       "      <td>Oft ist die Unterscheidung zwischen infektiöse...</td>\n",
       "      <td>NaN</td>\n",
       "      <td>KAPITEL 13 Infektionskrankheiten</td>\n",
       "      <td>Innere Medizin</td>\n",
       "      <td>Not provided.</td>\n",
       "      <td>0</td>\n",
       "      <td>21808</td>\n",
       "    </tr>\n",
       "    <tr>\n",
       "      <th>3</th>\n",
       "      <td>53f7ce0a18de7792f478273f9449e175960563c0</td>\n",
       "      <td>Purpose: To explore factors relating to the pr...</td>\n",
       "      <td>Current global outbreak of severe acute respir...</td>\n",
       "      <td>Wong, Chi-Yan.  Tang, Catherine So-Kum</td>\n",
       "      <td>Practice of habitual and volitional health&lt;br...</td>\n",
       "      <td>Journal of Adolescent Health</td>\n",
       "      <td>Purpose: To explore factors relating to the&lt;b...</td>\n",
       "      <td>203</td>\n",
       "      <td>4004</td>\n",
       "    </tr>\n",
       "    <tr>\n",
       "      <th>4</th>\n",
       "      <td>e3c2df2221f21ddbb5ece5f094fa307e26b79e9e</td>\n",
       "      <td>Signal-dependent targeting of proteins into an...</td>\n",
       "      <td>The mammalian cell is a highly organised, dyna...</td>\n",
       "      <td>Fulcher, Alex J..  Jans, David A.</td>\n",
       "      <td>Regulation of nucleocytoplasmic trafficking&lt;b...</td>\n",
       "      <td>Biochimica et Biophysica Acta (BBA) - Molecula...</td>\n",
       "      <td>Signal-dependent targeting of proteins into&lt;b...</td>\n",
       "      <td>196</td>\n",
       "      <td>8390</td>\n",
       "    </tr>\n",
       "  </tbody>\n",
       "</table>\n",
       "</div>"
      ],
      "text/plain": [
       "                                   paper_id  \\\n",
       "0  d604508a4de30a622bbe2d59d1f73abaaf9c14d2   \n",
       "1  7cc9c36dd4de535aabba7346c12be7b470f6797f   \n",
       "2  b8069299efef2b8cf2d672b0174f6f0a7ef0580e   \n",
       "3  53f7ce0a18de7792f478273f9449e175960563c0   \n",
       "4  e3c2df2221f21ddbb5ece5f094fa307e26b79e9e   \n",
       "\n",
       "                                            abstract  \\\n",
       "0                                                      \n",
       "1  Although promotion of safe hygiene is the sing...   \n",
       "2                                                      \n",
       "3  Purpose: To explore factors relating to the pr...   \n",
       "4  Signal-dependent targeting of proteins into an...   \n",
       "\n",
       "                                           body_text  \\\n",
       "0  La pathologic virale du syst6me nerveux, nagub...   \n",
       "1  Promotion of hygiene might be the single most ...   \n",
       "2  Oft ist die Unterscheidung zwischen infektiöse...   \n",
       "3  Current global outbreak of severe acute respir...   \n",
       "4  The mammalian cell is a highly organised, dyna...   \n",
       "\n",
       "                                  authors  \\\n",
       "0                             Cathala, F.   \n",
       "1          Curtis, Val.  Schmidt, Wolf...   \n",
       "2                                     NaN   \n",
       "3  Wong, Chi-Yan.  Tang, Catherine So-Kum   \n",
       "4       Fulcher, Alex J..  Jans, David A.   \n",
       "\n",
       "                                               title  \\\n",
       "0   Généralités sur l'infection du système<br>ner...   \n",
       "1                   Hygiene: new hopes, new horizons   \n",
       "2                   KAPITEL 13 Infektionskrankheiten   \n",
       "3   Practice of habitual and volitional health<br...   \n",
       "4   Regulation of nucleocytoplasmic trafficking<b...   \n",
       "\n",
       "                                             journal  \\\n",
       "0  Revue d'Electroencéphalographie et de Neurophy...   \n",
       "1                     The Lancet Infectious Diseases   \n",
       "2                                     Innere Medizin   \n",
       "3                       Journal of Adolescent Health   \n",
       "4  Biochimica et Biophysica Acta (BBA) - Molecula...   \n",
       "\n",
       "                                    abstract_summary  abstract_word_count  \\\n",
       "0                                      Not provided.                    0   \n",
       "1   Although promotion of safe hygiene is the<br>...                  196   \n",
       "2                                      Not provided.                    0   \n",
       "3   Purpose: To explore factors relating to the<b...                  203   \n",
       "4   Signal-dependent targeting of proteins into<b...                  196   \n",
       "\n",
       "   body_word_count  \n",
       "0             3899  \n",
       "1             6480  \n",
       "2            21808  \n",
       "3             4004  \n",
       "4             8390  "
      ]
     },
     "execution_count": 20,
     "metadata": {},
     "output_type": "execute_result"
    }
   ],
   "source": [
    "df_covid['abstract_word_count'] = df_covid['abstract'].progress_apply(lambda x: len(x.strip().split()))\n",
    "df_covid['body_word_count'] = df_covid['body_text'].progress_apply(lambda x: len(x.strip().split()))\n",
    "df_covid.head()"
   ]
  },
  {
   "cell_type": "code",
   "execution_count": 21,
   "metadata": {},
   "outputs": [
    {
     "data": {
      "text/plain": [
       "145563452"
      ]
     },
     "execution_count": 21,
     "metadata": {},
     "output_type": "execute_result"
    }
   ],
   "source": [
    "df_covid['body_word_count'].sum()"
   ]
  },
  {
   "cell_type": "code",
   "execution_count": 22,
   "metadata": {},
   "outputs": [
    {
     "name": "stdout",
     "output_type": "stream",
     "text": [
      "<class 'pandas.core.frame.DataFrame'>\n",
      "RangeIndex: 30197 entries, 0 to 30196\n",
      "Data columns (total 9 columns):\n",
      " #   Column               Non-Null Count  Dtype \n",
      "---  ------               --------------  ----- \n",
      " 0   paper_id             30197 non-null  object\n",
      " 1   abstract             30197 non-null  object\n",
      " 2   body_text            30197 non-null  object\n",
      " 3   authors              29646 non-null  object\n",
      " 4   title                30162 non-null  object\n",
      " 5   journal              29077 non-null  object\n",
      " 6   abstract_summary     30197 non-null  object\n",
      " 7   abstract_word_count  30197 non-null  int64 \n",
      " 8   body_word_count      30197 non-null  int64 \n",
      "dtypes: int64(2), object(7)\n",
      "memory usage: 2.1+ MB\n"
     ]
    }
   ],
   "source": [
    "df_covid.info()"
   ]
  },
  {
   "cell_type": "code",
   "execution_count": 90,
   "metadata": {},
   "outputs": [],
   "source": [
    "df_covid.to_csv(\"../../data/processed/covid-2019-scientific-papers.csv\")"
   ]
  },
  {
   "cell_type": "code",
   "execution_count": 25,
   "metadata": {},
   "outputs": [
    {
     "name": "stdout",
     "output_type": "stream",
     "text": [
      "total 958M\n",
      "drwxrwxr-x 2 science science 4,0K Apr  3 19:34 .\n",
      "drwxrwxr-x 8 science science 4,0K Apr  2 17:58 ..\n",
      "-rw-rw-r-- 1 science science 958M Apr  3 19:34 covid-2019-scientific-papers.csv\n",
      "-rw-rw-r-- 1 science science    0 Mar 24 14:36 .gitkeep\n"
     ]
    }
   ],
   "source": [
    "!ls -lah ../../data/processed/"
   ]
  },
  {
   "cell_type": "code",
   "execution_count": 69,
   "metadata": {},
   "outputs": [
    {
     "name": "stdout",
     "output_type": "stream",
     "text": [
      "Collecting langdetect\n",
      "  Downloading langdetect-1.0.8.tar.gz (981 kB)\n",
      "\u001b[K     |████████████████████████████████| 981 kB 1.1 MB/s eta 0:00:01\n",
      "\u001b[?25hRequirement already satisfied: six in /home/science/projects/simcube/venv/lib/python3.8/site-packages (from langdetect) (1.14.0)\n",
      "Installing collected packages: langdetect\n",
      "    Running setup.py install for langdetect ... \u001b[?25ldone\n",
      "\u001b[?25hSuccessfully installed langdetect-1.0.8\n"
     ]
    }
   ],
   "source": [
    "!pip install langdetect"
   ]
  },
  {
   "cell_type": "code",
   "execution_count": 70,
   "metadata": {},
   "outputs": [],
   "source": [
    "from langdetect import detect"
   ]
  },
  {
   "cell_type": "code",
   "execution_count": 71,
   "metadata": {},
   "outputs": [
    {
     "data": {
      "text/plain": [
       "'fr'"
      ]
     },
     "execution_count": 71,
     "metadata": {},
     "output_type": "execute_result"
    }
   ],
   "source": [
    "detect(df_covid.body_text[0])"
   ]
  },
  {
   "cell_type": "code",
   "execution_count": 82,
   "metadata": {},
   "outputs": [
    {
     "data": {
      "text/plain": [
       "'en'"
      ]
     },
     "execution_count": 82,
     "metadata": {},
     "output_type": "execute_result"
    }
   ],
   "source": [
    "detect(df_covid.body_text[1560])"
   ]
  },
  {
   "cell_type": "code",
   "execution_count": 86,
   "metadata": {},
   "outputs": [],
   "source": [
    "def detect_lang(text):\n",
    "    try:\n",
    "        return detect(str(text))\n",
    "    except:\n",
    "        return None"
   ]
  },
  {
   "cell_type": "code",
   "execution_count": 87,
   "metadata": {},
   "outputs": [
    {
     "data": {
      "application/vnd.jupyter.widget-view+json": {
       "model_id": "4746fe62553640ee827108e6ce20ab59",
       "version_major": 2,
       "version_minor": 0
      },
      "text/plain": [
       "HBox(children=(FloatProgress(value=0.0, max=30197.0), HTML(value='')))"
      ]
     },
     "metadata": {},
     "output_type": "display_data"
    },
    {
     "name": "stdout",
     "output_type": "stream",
     "text": [
      "\n"
     ]
    }
   ],
   "source": [
    "df_covid['lang'] = df_covid['body_text'].progress_apply(lambda x: detect_lang(x))"
   ]
  },
  {
   "cell_type": "code",
   "execution_count": 89,
   "metadata": {},
   "outputs": [
    {
     "data": {
      "text/plain": [
       "30197"
      ]
     },
     "execution_count": 89,
     "metadata": {},
     "output_type": "execute_result"
    }
   ],
   "source": [
    "len(df_covid['lang'])"
   ]
  },
  {
   "cell_type": "code",
   "execution_count": 88,
   "metadata": {},
   "outputs": [
    {
     "data": {
      "text/plain": [
       "en       29492\n",
       "fr         315\n",
       "es         274\n",
       "de          67\n",
       "it          14\n",
       "pt          10\n",
       "pl           2\n",
       "ca           2\n",
       "nl           2\n",
       "et           2\n",
       "cy           2\n",
       "no           1\n",
       "id           1\n",
       "da           1\n",
       "lt           1\n",
       "af           1\n",
       "tl           1\n",
       "zh-cn        1\n",
       "so           1\n",
       "Name: lang, dtype: int64"
      ]
     },
     "execution_count": 88,
     "metadata": {},
     "output_type": "execute_result"
    }
   ],
   "source": [
    "df_covid['lang'].value_counts()"
   ]
  },
  {
   "cell_type": "code",
   "execution_count": 85,
   "metadata": {},
   "outputs": [
    {
     "data": {
      "text/plain": [
       "0        None\n",
       "1        None\n",
       "2        None\n",
       "3        None\n",
       "4        None\n",
       "         ... \n",
       "30192    None\n",
       "30193    None\n",
       "30194    None\n",
       "30195    None\n",
       "30196    None\n",
       "Name: lang, Length: 30197, dtype: object"
      ]
     },
     "execution_count": 85,
     "metadata": {},
     "output_type": "execute_result"
    }
   ],
   "source": [
    "df_covid['lang']"
   ]
  },
  {
   "cell_type": "code",
   "execution_count": 26,
   "metadata": {
    "collapsed": true,
    "jupyter": {
     "outputs_hidden": true
    }
   },
   "outputs": [
    {
     "data": {
      "text/plain": [
       "'La pathologic virale du syst6me nerveux, nagubre consid6r6e avec r6ticence, a acquis droit de cit6. Ce ne sont pas tellement la multiplicit6 des affections cliniques maintenant bien ~tudi6es, ni la diver-sit6 des virus << neurotropes >> qui font l\\'int6r6t de ce tr~s vaste domaine d\\'6tude, mais bien plus la r6v61ation de m6canismes physiopathologiques complexes et encore insuffisamment 6clair6s qui semblent avoir une r6elle port6e en pathologie g6n6rale. Ainsi les << infections virales lentes >~ (10) (31) qui nous offrent probablement des exemples de r6actions originales de l\\'organisme/a certaines modalit6s de l\\'infection.\\nParmi beaucoup d\\'autres possibles, indiquons quelques-unes des questions que pose cette physiopathologic :\\n--Quelles sont les voles de pb, n6tration des virus vers le syst6me nerveux ? et comment le virus s\\'y propage-t-il ? Y a-t-il des affinit6s particulibres entre certains virus et certains types cellulaires ? --Quels sont les effets de l\\'infection des cellules du systbme nerveux par un virus ? Leur destruction, qui modifiera l\\'organisation r6ticulaire dn tissu ou des perturbations qui transformeront les performances de ces diff6rents types cellulaires ? Quelles sont les conditions duns lesquelles un virus neurotrope peut acqu6rir des pouvoirs oncog6nes ?\\nEn quoi le virus peut-il agir sur l\\'6quipement g6n6tique de la cellule, de sorte qu\\'une certaine affection puisse ~tre transmise h6r6ditairement et ne s\\'exprimer que si certaines conditions d\\'environnement se trouvent r6alis6es ?\\nOn peut aussi multiplier les questions pour lesquelles nous n\\'avons, le plus souvent, que des 6bauches de r6pouse, et cela justifie un tr~s gros effort de travail, mobilisant de nombreux chercheurs. Pour rester duns les limites d\\'une simple introduction, nous nous contenterons d\\'aborder seulement certains probl6rnes qui, croyons-nous, comportent des implications pratiques, pour le m6decin mis en face d\\'une de ces maladies. On a pu 6tablir le caract6re neurotrope de trSs nombreux virus, pour d\\'autres, il convient de rester vigilants. Nous avons, par exemple, connu l\\'existence des virus ECHO (Enteric cytopathogenic human Orphan) avant de les savoir responsables de syndromes neurologiques. La d6couverte du virus de la Leucoenc6phalopathie multifocale progressive (LEMP) est encore r6cente (32) . Certains virus du groupe Papova ont 6t6 isol6s des urines (12) et n\\'ont pus encore 6t6 trouv6s dans le tissu nerveux. Un peu partout duns le monde, des individus poss6dent, tft duns leur vie, des anticorps pour plusieurs d\\'entre eux, mais on ne connait pas la forme que prend la primo-infection (4). Duns certains groupes de virus, par exemple les Corona virus, on connait des souches animales qui provoquent chez leur hfte, des maladies d6my61inisantes alors que les souches humaines, n\\'entrainent que des affections banales, syndromes ent6ritiques ou rhumes (6) .\\nDe tels exemples sont r6v61ateurs de nos incertitudes actuelles, et nous pensons, pour notre part, que pour commencer ~t les lever, il faut entreprendre l\\'6tude 6pid6miologique des formes les plus fr6quentes, tes mieux typ6es, les plus aigufis.\\nLa manifestation neurologique la plus visible de l\\'infection virale du systSme nerveux est l\\'enc6phalite (avec les m6ningites, ou les my61ites qui peuvent l\\'accompagner ou exister seules). La d6tection syst6matique du virus en cause devrait permettre de se faire une premiere id6e des virus neurotropes. Le tableau n ° 1 montre la frdquence aux USA des diff6rentes enc6phalites virales (5) .\\nEn France, nous ne disposons par d\\'informations g6n6rales permettant d\\'6tablir un tel tableau. Cependant, le Laboratoire National de la Sant6* tente de regrouper les r6sultats (isolements et s6ro-conversions) des diff6rents centres hospitaliers qui sont publi6s dans un bulletin mensuel**. Le Laboratoire de r6f6rence de I\\'OMS ~t Lyon fait de m6me pour les ent6ro-virus. Cependant, l\\'heure actuelle, on a encore beaucoup de peine ~t se faire une id6e du nombre et de la cause des enc6phalites en France. Certains exemples sont surprenants : ainsi le Laboratoire de l\\'Institut Pasteur sp6cialis6 duns les arbovirus, cause la plus fr6quente des enc6phalites duns le monde, dit ne jamais isoler ces virus chez l\\'homme alors que l\\'on suit que certains types comme le virus de l\\'enc6phalite b. Tiques, ou le virus Tahyna (proche du virus California) existent duns la nature en France (14) .\\nOn ne voit doric pus pourquoi l\\'homrne ne serait pus de temps b. autre contamin6 par ceux-ci. Tous s\\'accordent pour dire qu\\'en Europe de l\\'Ouest, en dehors des p6riodes d\\'6pid6mies provo-* M mo le D r CELLERS, Centre International de l\\'Enfance, Chfiteau de Longchamps. ** Docteur NETTER, Ministate de la Sant6 et de la famille. <~ Bulletin de virologie m6dicale du Laboratoire national de la sant6 )), 25 boulevard Saint-Jacques, 75014 Paris. qu6es par des ent6ro-virus, c\\'est le virus de l\\'Herp6s qui est la cause la plus fr6quente des enc6phalites. Les ad6no-virus peuvent 6ire isol6s au cours de syndromes neurologiqnes et ont parfois 6t6 trouv6s dans le tissu nerveux lui-m6me. Nous ne connaissons pas non plus le hombre r6el d\\'enc6phalites post-infectieuses (Rougeole, Varicelle, Vaccine). Leur physiopathologie reste discut6e, et n\\'est pas forc6ment univoque. I1 n\\'est pas de notre propos d\\'exposer ici les m6thodes du diagnostic virologique en pr6sence d\\'une enc6phalite, nous voulons simplernent rappeler que celui-ci doit 6tre discut6, et ne pourra ~tre que le r6sultat d\\'un dialogue avec le laboratoire qui effectuera les pr616vements et les examens.\\nPour des manifestations neurologiques isol6es telles que des monon6vrites ou des polyn6vrites ou encore certaines convulsions, ce n\\'est gu6re que l\\'organisation d\\'une recherche 6tiologique sys-t6matique qui pourra nous dire si certains types sont ou non d\\'origine virale.\\nA. ScMma ~volutif de l\\'infection.\\nEn g6n6ral, la complication neurologique est une exception au cours de l\\'infection virale. Prenons comme exemple une 6pid6mie de poliomy61ite (2) . La majorit6 des sujets sont infect6s d\\'une mani6re cliniquement inapparente (90-95 p. 100) ; une certain nombre fair une pouss6e f6brile ac-compagn6e ou non de sympt6mes en relation avec l\\'un des sites de la multiplication virale, angine, troubles digestifs... La complication neurologique n\\'est observ6e que dans 1 ~t 2 p. 100 des cas. Le diagnostic de la maladie et la surveillance de l\\'6pid6mie se font de deux mani~res : isolement du virus et recherche de l\\'ascension du taux des anticorps s6riques. Le virus pent ~tre isol6 dans le sang, les 4 ou 5 premiers jours apr~s l\\'infection ; dans la gorge un peu plus longtemps ; dans les selles patrols jusqu\\'~t sept semaines apr~s la contamination. Nous savons qu\\'il est pr6sent, dans le cas de complication neurologique, ~t partir du 10 e jour dans le tissu nerveux, et qu\\'on l\\'isole occasionnellement du LCR. Mais nous ne savons pas s\\'il peut s\\'y trouver dans les formes inapparentes ou non compli-qu6es ; il semble disparaitre du tissu nerveux dans les formes neurologiques avec la fin de la maladie. Nous ne pouvons pas affirmer qu\\'il ne persiste pas, parfois, sous une forme quelconque, ni qu\\'il ne puisse ult6rieurement ~tre r6activ6. Les anticorps apparaissent dans le s6rum le 10 ° jour, un peu plus tard dans le LCR. Ils sont de diff6rents types, d6viant le compl6ment, neutralisant etc... Les anticorps d6tect6s par diff6rentes techniques n\\'6voluent pas d\\'une mani6re strictement parall~le. Les anticorps neutralisant persistent route la vie, ceux qui d6vient le compMment disparaissent apr6s 4 ~t 5 ans. I1 ell est de m~me pour des anticorps pr6sents dans le LCR, qui disparaissent rapidement. Comme pour d\\'autres maladies infectieuses du syst~me nerveux, on se pose la question de savoir si les anticorps du LCR sont le r6sultat d\\'une filtration ~t travers la barri~re h6mom6ning6e alt6r6e par l\\'infection, ou s\\'il s\\'agit d\\'une production intrat6chale par des cellules immuno-comp6tentes qui auraient migr6 h la rencontre de l\\'antig~ne. Le rapport naturel des taux d\\'auticorps entre le LCR et le s6rum est &environ 1/300 ° sans alt6ration de la barri6re h6mom6ning6e. Les dosages comparatifs des diff6rentes prot6ines du LCR ainsi que le titrage d\\'un anticorps diff6rent de celui correspondant au virus cens6 produiro la maladie permettra de r6pondre ~t cette question (26) .\\nBien entendu, si le sujet meurt rapidement, il n\\'y aura pas de production d\\'anticorps, de m6me s\\'il est atteint de d6ficience immunitaire cong6nitale, th6rapeutique ou pathologique.\\nLa d6monstration de l\\'atteinte neurologique par le virus n6cessite sa mise en 6vidence dans ce tissu ce qui ne peut se faire que dans des cas exceptionnels ; cependant, l\\'exploration fonctionnelle permet parfois de l\\'envisager. Les manifestations observ6es cliniquement prennent route leur valeur de pouvoir ~tre conlpar6e avec celles que l\\'on observe dans des mod61es exp~.rimentaux. La reproduction exp6rimentale des sympt6mes, la disparition de la maladie apr6s vaccination de la population ou apr~s que l\\'6pid6mie air disparu font partie des r~gles que Koch a 6tablies pour d6finir le r61e d\\'un agent donn6 dans une maladie d6crite. Ces r~gles sont 16g~rement diff6rentes pour les maladies ~ virus de ce quelles sont pour les maladies bact6riennes (21) . Tel est le sch6ma d\\'ensemble qui, naturellement, se trouve modifi6 selon le virus.\\nConnMtre les diff6rentes voies par lesquelles les virus p6n~trent dans le syst~me nerveux n\\'est pas indiff6rent. L\\'interrogatoire peut r6v61er une porte d\\'entr6e qui pourra mettre sur la vole d\\'une source possible de contamination.\\nLa p6n6tration intra-c6r6brale directe ne concerne vraisemblablement que les seuls << virus non conventionnels >> (dont nous parlerons plus loin), en raison de leur exceptionnelle r6sistance aux pro-c6d6s habituels de d6contamination. Elle peut se faire h l\\'occasion d\\'un acre chirurgical ou d\\'une exploration fonctionnelle (1) . Pour les autres virus les voies de p~n6tration din tissu nerveux sont sanguines, cellulaires ou nerveuses. En effet, le syst~me nerveux central est d6pourvu de syst~me lymphatiqne et le syst~me ner\\'~eux p6riph6rique n\\'a qu\\'une vascularisation lymphatique centrifuge.\\nNotre connaissance de la voie de p6n6tration des virus vers le syst~me nerveux a b6n6fici6 des techniques de l\\'immuno-fluorescence utilis6es dans les syst~mes exp6rimentaux. L\\'acc6s vers le syst6me nerveux peut 6tre multiple pour un virus donn6. Dans le cas de l\\'herp~s simplex par exemple, la vole de p~n6tration peut ~tre nasale, olfactive ou viUosit6sarachnoidiennes, h6mato-g6ne (avec ou sans vascularite) et nerveuse. La voie de p6n6tration h6matogbne est la plus fr6quente en virologic. Elle a 6t6 d6montr6e d6s 1965 par Bodian pour la poliomydlite, elle est la seule pour les arbovirus. L\\'infection dzs mSninges ou des plexus choroides peut prdc6der dans ce cas celle du tissu nerveux sous-jacent. Le virus peut, en principe, adsorber sur des globules rouges ou des plaquettes, passer directement par les sinus capillaires, du plasma au tissu nerveux, mais il y a souvent une atteinte de l\\'endoth61ium des petits vaisseaux. Pour qu\\'une telle infection h6matog6ne se r6alise, le taux de la vir6mie doit se maintenir ~t un titre suffisant pendant un temps suffisant. II faut donc que le virus soit ddvers6 dans la circulation en quantit6 notable. Ceci se fait en g6n6ral non pas directement au niveau de laporte d\\'entr6e du virus, off il se multiplie en premier (muqueuses rhinopharing6e, respiratoire, digestive, conjonctive, tissus cellulaires sous-cutan6s, muscles), mais par l\\'interm6diaire d\\'un site secondaire de multiplication virale comme le tissu rdticulo-endoth61ial lymphatique, le foie, la rate, tissus ensemenc6s eux-m6mes par voie lymphatique ou sanguine. Cette constatation permet de comprendre que l\\'atteinte nerveuse se fasse souvent avec retard par rapport au syndrome initial, ou plus rarement que celui-ci (8, 19, 20) .\\nDe nombreux virus se multiplient dans les lign6es blanches des cellules sanguines ou dans les macrophages ; ces cellules migratrices sont d0nc elles aussi des sources de diss6mination du virus. De plus, des virus comme celui de la rougeole, de d\\'Epstein-Barr, ou celui de la varicelle, qui se multiplient volontiers dans les lign~es blanches, vont entra~ner une immunosuppression temporaire qui favorise le maintien d\\'une vir6mie et la diffusion du virus vers le tissu nerveux.\\nLa voie nerveuse peut 6tre utilis6e seule (rage) ou associ6e aux autres voles (herpbs, poliomy6lite). De trbs 616gantes et d61icates exp6riences (Johnson), montrent, par immunofluorescence, apr6s inoculation de diff6rents virus dans l\\'oreille interne du hamster, la susceptibilit6 des diff6rentes structures aux diff6rents virus et les modes de migration de certains de ces virus vers les noyaux de la VIII e paire cranienne (21) . Guillon, b. l\\'Institut Pasteur, utilise une souche peu virulente d\\'un herp6s animal pour r6aliser, chez la souris, des mod61es o~ l\\'on peut voir le virus suivre les nerfs p6riph6riques de la peau h la moelle, puis les voles ascendantes de celles-ci vers le cerveau (13) . Le cas o~ la vole nerveuse est peut-~tre la plus exclusive est la rage. Heaney et Biljenga ont montr6 que ce virus, dans un syst6me exp6rimental utilisant la souris, empruntait tout sirnplement le flux axonal, en bloquant celui-ci avec de la colchicine (15) . Hurst a d\\'autre part montr6 que l\\'infection des cellules de Schwann contamin6es de proche en proche pouvait ~tre la vole de p~n6tration d\\'un virus herp6tique animal (pseudo rage) (17) . Johnson a montr6 le m~me fait avec un herp6s simplex (19) ; la vaccine exp~rimentale est transmise au cerveau par scarification de la corn6e chez le lapin, qui est avasculaire ; la branche nerveuse qui achemine sa sensibilit6 est la branche ophtalmique du trijumeau. La corn6e, b. la suite d\\'une greffe, a aussi 6t6 la vole de transmission au cerveau d\\'un <~ virus lent ~), celui de la maladie de Creutzfeldt-Jakob (7). L\\'innervation des glandes lacrymales et de l\\'uv6e appartient au syst~me vago-sympathique. L\\'infection de ce systbme n\\'a pas 6t6 tr6s 6tudi6e. Les voles de p6n6tration des virus vers le tissu nerveux sont un facteur important darts la localisation nerveuse des 16sions.\\nLes voles d\\'61imination des virus sont des sources de contagion 6ventuelles : elles sont multiples en cas d\\'infection g6n6ralis6e (salive, selles, urines). Le virus de la rage peut aussi se trouver dans les bulbes pileux, dans les cellules desquam6es de la corn6e. Le sperme est pour certa ins virus infectieux (23), le lait 6galement. D\\'autre part, il existe des porteurs sains 61iminant des virus, et des vir6mies persistantes qui peuvent 6tre, par l\\'interm6diaire d\\'un vecteur ou d\\'une seringue, une source de contamination. Pour des infections localis6es au systbme nerveux comme celle de l\\'herp6s (dans v. CATHALA le cas d\\'un herpes r6cidivant), les virus produits s\\'ils tombent dans la circulation sont neutralis6s par les anticorps ; c\\'est une particularit6 du tissu nerveux de pouvoir par les axones, les transporter jusqu\\'au contact du milieu ext6rieur.\\nI1 y a bien 6videmment une susceptibilit6 pr6f6rentielle ou exclusive des diff6rentes cellules nerveuses pour les diff6rents virus. Ceci d6pend, ~t la fois des (< r6cepteurs )~ membranaires de ces cellules qui peuvent commander la p6n6tration du virus, et de l\\'6quipement enzymatique de la cellule qui permettra ou non son d6veloppement total ou partiel.\\nTsiang, ~t l\\'Institut Pasteur, dans le service de la rage, recherche, en utilisant des techniques de s6paration des cellules du cervelet de la souris, h 6tudier la susceptibilit6 au virus de chacune d\\'elles (28) . Nous avons tous en t~te les localisations pr6f6rentielles d\\'un certain hombre de maladies virales. Certains de ces probl6mes peuvent 6tre approch6s in vitro, en cultivant ou maintenant des cellules nerveuses s6par6es. Les tentatives faites, pour 6tudier, par la culture de cellules embryonnaires de souris l\\'affinit6 du virus de la rougeole pour les diff6rentes cellules nerveuses, ont donn6 des r6sultats d6cevants ; au contraire, un virus comme celui de la stomatite v6siculaire n\\'infecte que les neurones dans ces conditions. Pour un m6me virus, selon la souehe, la sp~cifieit6 cellulaire peut varier. Ainsi, pour le virus Ourlien, il existe des souches neurotropes et d\\'autres m6ningotropes. Enfin, un virus comme le virus J.C. de la Leucoenc6phalopathie multifocale progressive est cytolytique pour certaines cellules (neurones et olygodendrocytes qui sont les cellules productrices de my61ines) et transformant pour les cellules voisines (cellules gliales et astrocytes). Un tableau sch6matique (tableau n ° II) montrera la susceptibilit6 cellulaire de certains virus neurotropes. On y voit que celle-ci peut se modifier par adaptation et en fonction de l\\'~tge de l\\'h6te (8) .\\nCellules ct de l\\'6pendyme gliales \\nLa physiopathologie des infections aigu6s dans ses grandes lignes a 6t6 d6crite au d6but de cet article en prenant l\\'exemple de la poliomy61ite. L\\'infection se termine, autant qu\\'on le sache, avec l\\'apparition des anticorps, et il n\\'est pas de notre propos ici de d6velopper tousles m6canismes de d6fense de l\\'h6te ~t l\\'infection virale. I1 suffit de se rappeler que certains sont non sp6cifiques, telles l\\'616vation de la temp6rature, l\\'inflammation e t la production d\\'interferon, d\\'autres sp6cifiques telles la production des anticorps et l\\'immunit6 h m6diation cellulaire.\\nNous ne nous 6tendrons pas non plus sur routes les formes de l\\'infection persistante ; une infection chronique du syst6me nerveux a 6t6 d6crite pour le virus de la rub6ole, l\\'enfant 6tant infects avant la naissance. Dans le cas des arbo-virus, c\\'est h propos de l\\'enc6phalite japonaise B, que l\\'on d6crit une 6volution des signes neurologiques continue, succ6dant ~t la phase aigufi enc6phalitique. Quaiat h l\\'influenza, certains ont soutenu qu\\'un virus de ce groupe aurait pu 6tre ~t l\\'origine de l\\'enc6phalite de Von Economo.\\nNous ne pouvons pas nous 6tendre sur les processus de transformation maligne, et pour les infections latentes, nous ne dirons que quelques roots sur le meilleur exemple qui est celui de l\\'herp~s simplex.\\nOn a montr6 la persistance du g6nome viral, c\\'est4t-dire son acide nucl6ique et non pas la forme figur~e du virus, dans les cellules ganglionnaires sensitives du neff rachidien correspondant au m6-tam6re affect6 par les 6ruptions r6cidivantes. Cette d6monstration a 6t6 obtenue de plusieurs ma-ni6res :\\n--Par hybridation moldculaire in situ, ~ l\\'aide d\\'un acide nucl6ique marqu6, radioactif, de structure compl6mentaire b. celui du virus ; on rdv61e cette hybridation par autoradiographie ; c\\'est ce qu\\'on appelle fabriquer << une sonde ~.\\nOna aussi d6montr6 que, par raise en culture, dans un ganglion au sein duquel on ne voyait pas le virus en 61ectronique, non plus que ses antig6nes en immunofluorescence, le virus se multipliait en culture, alors que l\\'influence inhibitrice des anticorps circulant in vivo s\\'effagait.\\n--De mSme on peut greffer ce ganglion a un animal sans anticorps et en quelques jours on voit apparaitre les antig6nes puis le virus (27) .\\nLes << Enc6phalopathies spongiformes >~ humaines (Kuru, Creutzfeld-Jakob) et animales (tremblante du mouton et enc6phalopathie du vison), sont les seules expressions cliniques que nous connaissons actuellement provoqu6es par les virus non conventionnels (11, 22) .\\nPour ces infections le processus infectieux se d6veloppe d\\'une mani6re tr~s particuli6re, inexorablement vers la progression jusqu\\'~, la destruction des cellules nerveuses et la mort. Mais l\\'infection est une infection g6n6ralis6e, les viscSres 6rant infect6s avant le tissu nerveux et celui-ci avant l\\'apparition des signes cliniques. Des tissus provenant de ces individus peuvent donc 8tre infectieux sans que la maladie soit reconnue. Dans cette forme il n\\'y a pas de stimulation antig6nique, donc pas de ph6nombnes immunologiques.\\nLe mod61e animal le mieux 6tudi6 pour les maladies d6my61inisantes est le Visna, une enc6phalo-my61ite naturelle du mouton, trSs inflammatoire. Le virus Visna est maintenant bien connu. C\\'est un oncorna virus, qui ressemble au virus du sarcome de Rous qui est lui, un virus oncog6ne aviaire. On sait, b. la suite d\\'6tudes fondamentales faites in vitro, que l\\'acide nucldique du Visna est transcrit grace ~ une enzyme, la transcriptase inverse, en un << provirus h A.D.N. ~. Des mol6cules de ce provirus s\\'accumulent dans le noyau des cellules infect6es ; 10 p. 100 environ de celles-ci s\\'int6grent au g6nome cellulaire, les autres suivent le cycle normal de la r6plication virale et la cellule pent soit ~tre lys6e, soit se diviser alors que le virus bourgeonnant h sa surface est d6vers6 dans le milieu extracellulaire et la circulation.\\nCe provirus peut expliquer la persistance de l\\'infection malgr6 les taux 61ev6s d\\'anticorps. Mais il y a plus ; le virus que l\\'on isole d\\'un animal infect6 est 16g6rement diff6rent du virus infectant initial : il y a eu s61ection sous l\\'influence des anticorps ; ceux-ci ne neutralisent pas le nouveau virus. Dans cette maladie il y a donc plusieurs mdcanismes qui s\\'additionnent pour que l\\'infection persiste. La d6my61inisation survient par pouss6e si l\\'on r6inocule h l\\'animal le nouveau virus isol6 alors qu\\'il a des anticorps. Elle n\\'est probablement pas le r6sultat direct de l\\'infection, mais d\\'un m6canisme auto-immun (3).\\nPour d\\'autres maladies d6my61inisantes comme la leuco-enc6phalite scl6rosante subaigu~ (virus de I a rougeole), ou encore une maladie qui lui ressemble et qui est provoqu6e par le virus de la rub6ole (29), des m6canismes associant des modifications du virus et des ph6nom6nes immunitaires sont 6voqu6s, mais la pathog6nie de la d6my61inisation n\\'est pas encore bien connue. En tout cas, on a invoqu6 parfois dans leur ddclenchement une surinfection virale immuno-d6primante comme par exemple une mononucl6ose infectieuse (9) .\\nUne d6pression de l\\'immunit6 s\\'observe en g6n6ral dans les ant6c6dents imm6diats de la leuco-enc6phalopathie multifocale progressive dont le virus est probablement latent (ou intdgr6) depuis l\\'enfance, mais la d6my61inisation n\\'y semble pas expliqu6e par des mdcanismes auto-immuns mais plut6t par la destruction des cellules productrices de la mydline ; de plus, ~ c6t6 du cycle lytique pour ces cellules, le virus semble capable de transformer d\\'autres cellules comme les astrocytes qui prennent alors un aspect monstrueux. Des tumeurs sont parfois observ6es ~t\"cSt6 des zones de d6my61i-niSation. Ainsi nous voyons que des conflits immunologiques ne sont pas n6cessairement 5. l\\'origine de la d6my61inisation (30) .\\nA l\\'oppos6, iI existe un module animal oR l\\'infection virale (virus de la chorio m6ningite lymphocytaire de la souris) peut ~tre 6tablie d~s la naissance, alors que la maturit6 immunologique n\\'est pas acquise, stade dit de ~< tol6rance >> (16) .\\nOn montre que l\\'animal produit constamment des virions, que le tissu nerveux est infect6 chroniquement, cependant que l\\'on n\\'observe pas de dysfonction cons6cutive h cet 6tat. Que l\\'on administre alors h cet animal infect6, mais sain, des anticorps contre le virus, et l\\'on verra dans les 48 hcures apparaitre une maladie aigu~ mortelle.\\nOn volt que la lenteur 6volutive d\\'une maladie neurologique peut 8tre la cons6quence du virus dont les propri6t6s sont particuliSres (virus lents), d\\'une infection latente, ou persistante dans lesquelles les ph6nom~nes biologiques sp6cifiques de la multiplication virale dans les cellules, et les ph6nom~nes immunologiques s\\'intriquent. Le syst~me nerveux est peut-~tre un organe particuli~rement favorable b. ce mode d\\'expression parce que ses cellules pour la plupart ne se renouvellent pas, parce que, en raison de sa situation anatomique il est relativement prot6g6 des agressions p~riph6riques, tout en 6tant pr6sent dans toutes les parties du corps, parce que ses cellules vivent en symbiose et ne peuvent se passer de l\\'int6grit6 de l\\'ensemble, enfin, parce que l\\'expression pathologique peut n\\'~tre que le r6sultat d\\'un dysfonctionnement encore bien plus que d\\'une 16sion destructrice notable (rage ?) (18) .\\nLa richesse des ph6nom~nes pathologiques que nous avons 6voqu6s est tr~s encourageante. Elle permet d\\'int6ressantes 6tudes pour peu que l\\'on s\\'attache au d6veloppement de modules exp6rimentaux. Ceux-ci s\\'ouvrent sur des travaux qui peuvent 8tre tr~s vari6s. Culture de tissus, biochimie, biologie mol6culaire, immunologie, neurophysiologie, morphologie, neuropathologie y auront leur part... Ces modSles seraient de couteuses et vaines fantaisies s\\'ils n\\'6taient pas orient6s vers un seul but : celui de nous faire mieux connaitre les maladies que nous sommes h m~me d\\'observer. Leur connaissance doit nous permettre d\\'envisager des explications pathologiques. Mais l~t ne dolt pas s\\'arr~ter la recherche en neuro-virologie. La recherche clinique et 6pid6miologique a encore de quoi nous 6tonner. I1 est frappant que ce soit la description pr6cise d\\'une maladie neurologique qui ait conduit ~t la d6couverte d\\'urt groupe d\\'agents nouveaux, les virus non conventionnels, dont l\\'6tude ne fait que commencer (11) .\\nL\\'organisati0n ~t l\\'6chelon national de l\\'6pidenaiologie des maladies virales, le d6veloppement et le travail compl6mentaires des laboratoires de sciences fondamentales et des cliniques, l\\'inter-p6n6tration de diff6rentes disciplines autour d\\'un mSme th~me, est un espoir de collaboration sans comp6tition exclusive qui devrait nous permettre d\\'apporter notre part b. la connaissance des maladies du syst~me nerveux.'"
      ]
     },
     "execution_count": 26,
     "metadata": {},
     "output_type": "execute_result"
    }
   ],
   "source": [
    "df_covid.body_text[0]"
   ]
  },
  {
   "cell_type": "code",
   "execution_count": null,
   "metadata": {},
   "outputs": [],
   "source": []
  },
  {
   "cell_type": "code",
   "execution_count": 33,
   "metadata": {},
   "outputs": [],
   "source": [
    "import gensim\n",
    "import nltk"
   ]
  },
  {
   "cell_type": "code",
   "execution_count": 44,
   "metadata": {},
   "outputs": [
    {
     "name": "stderr",
     "output_type": "stream",
     "text": [
      "[nltk_data] Downloading package stopwords to\n",
      "[nltk_data]     /home/science/nltk_data...\n",
      "[nltk_data]   Unzipping corpora/stopwords.zip.\n"
     ]
    },
    {
     "data": {
      "text/plain": [
       "True"
      ]
     },
     "execution_count": 44,
     "metadata": {},
     "output_type": "execute_result"
    }
   ],
   "source": [
    "from nltk.tokenize import sent_tokenize, word_tokenize\n",
    "from nltk.corpus import stopwords\n",
    "nltk.download('stopwords')"
   ]
  },
  {
   "cell_type": "code",
   "execution_count": 91,
   "metadata": {},
   "outputs": [],
   "source": [
    "stopWords = set(stopwords.words('english'))"
   ]
  },
  {
   "cell_type": "code",
   "execution_count": 50,
   "metadata": {},
   "outputs": [
    {
     "data": {
      "text/plain": [
       "810"
      ]
     },
     "execution_count": 50,
     "metadata": {},
     "output_type": "execute_result"
    }
   ],
   "source": [
    "len(stopWords)"
   ]
  },
  {
   "cell_type": "code",
   "execution_count": 52,
   "metadata": {},
   "outputs": [],
   "source": [
    "text = gensim.utils.simple_preprocess(df_covid.body_text[0], deacc=True)"
   ]
  },
  {
   "cell_type": "code",
   "execution_count": 54,
   "metadata": {},
   "outputs": [],
   "source": [
    "clean_text = [w for w in text if w not in stopWords]"
   ]
  },
  {
   "cell_type": "code",
   "execution_count": 55,
   "metadata": {},
   "outputs": [
    {
     "data": {
      "text/plain": [
       "(3907, 2285)"
      ]
     },
     "execution_count": 55,
     "metadata": {},
     "output_type": "execute_result"
    }
   ],
   "source": [
    "len(text), len(clean_text)"
   ]
  },
  {
   "cell_type": "code",
   "execution_count": 118,
   "metadata": {},
   "outputs": [
    {
     "data": {
      "application/vnd.jupyter.widget-view+json": {
       "model_id": "e3845265ddc642d79e462f7e1fe2d637",
       "version_major": 2,
       "version_minor": 0
      },
      "text/plain": [
       "HBox(children=(FloatProgress(value=1.0, bar_style='info', max=1.0), HTML(value='')))"
      ]
     },
     "metadata": {},
     "output_type": "display_data"
    },
    {
     "name": "stdout",
     "output_type": "stream",
     "text": [
      "\n"
     ]
    }
   ],
   "source": [
    "stemmer = SnowballStemmer(\"english\")\n",
    "stop_words = set(stopwords.words('english'))\n",
    "with open('../../data/processed/covid-2019-scientific-papers/vowpal_wabbit_corpus.txt', 'w') as the_file:\n",
    "    for index, row in tqdm(df_covid.iterrows()):\n",
    "        if row['lang'] != \"en\":\n",
    "            continue\n",
    "        title = gensim.utils.simple_preprocess(str(row[\"title\"]), deacc=True)\n",
    "        text = gensim.utils.simple_preprocess(str(row[\"body_text\"]), deacc=True)\n",
    "        clean_title = [w for w in title if w not in stop_words]\n",
    "        clean_text = [w for w in text if w not in stop_words]\n",
    "        bigrams = list(nltk.bigrams(clean_text))\n",
    "        trigrams = list(nltk.trigrams(clean_text))\n",
    "        bigrams = [\"!\".join(b) for b in bigrams]\n",
    "        trigrams = [\"!\".join(t) for t in trigrams]\n",
    "\n",
    "        parts = [f\"{row['paper_id']}\"]\n",
    "        parts += ['|@title']  + clean_title\n",
    "        parts += ['|@text']  + text\n",
    "        parts += ['|@bigrams']  + bigrams\n",
    "        parts += ['|@trigrams']  + trigrams\n",
    "        post = ' '.join(parts)\n",
    "        the_file.write(f\"{post}\\n\")"
   ]
  },
  {
   "cell_type": "code",
   "execution_count": 5,
   "metadata": {},
   "outputs": [
    {
     "name": "stderr",
     "output_type": "stream",
     "text": [
      "/home/science/projects/simcube/venv/lib/python3.8/site-packages/nltk/decorators.py:67: DeprecationWarning: `formatargspec` is deprecated since Python 3.5. Use `signature` and the `Signature` object directly\n",
      "  signature = inspect.formatargspec(\n",
      "/home/science/projects/simcube/venv/lib/python3.8/site-packages/nltk/lm/counter.py:15: DeprecationWarning: Using or importing the ABCs from 'collections' instead of from 'collections.abc' is deprecated since Python 3.3, and in 3.9 it will stop working\n",
      "  from collections import Sequence, defaultdict\n",
      "/home/science/projects/simcube/venv/lib/python3.8/site-packages/nltk/lm/vocabulary.py:13: DeprecationWarning: Using or importing the ABCs from 'collections' instead of from 'collections.abc' is deprecated since Python 3.3, and in 3.9 it will stop working\n",
      "  from collections import Counter, Iterable\n"
     ]
    }
   ],
   "source": [
    "import glob\n",
    "import logging\n",
    "import os\n",
    "import re\n",
    "import uuid\n",
    "from pathlib import Path\n",
    "from pymongo import MongoClient\n",
    "import artm\n",
    "import click\n",
    "import mlflow\n",
    "from tqdm.notebook import tqdm\n",
    "import nltk\n",
    "\n",
    "import multiprocessing as mp"
   ]
  },
  {
   "cell_type": "code",
   "execution_count": null,
   "metadata": {},
   "outputs": [],
   "source": []
  },
  {
   "cell_type": "code",
   "execution_count": 7,
   "metadata": {},
   "outputs": [],
   "source": [
    "batch_vectorizer = artm.BatchVectorizer(\n",
    "    data_path='../../data/processed/covid-2019-scientific-papers/vowpal_wabbit_corpus.txt',\n",
    "    data_format='vowpal_wabbit',\n",
    "    batch_size=5000,\n",
    "    target_folder='../../data/processed/covid-2019-scientific-papers/batches',\n",
    ")"
   ]
  },
  {
   "cell_type": "code",
   "execution_count": 9,
   "metadata": {},
   "outputs": [
    {
     "ename": "InvalidOperationException",
     "evalue": "Unable to serialize the message",
     "output_type": "error",
     "traceback": [
      "\u001b[0;31m---------------------------------------------------------------------------\u001b[0m",
      "\u001b[0;31mInvalidOperationException\u001b[0m                 Traceback (most recent call last)",
      "\u001b[0;32m<ipython-input-9-a22684d5e60e>\u001b[0m in \u001b[0;36m<module>\u001b[0;34m\u001b[0m\n\u001b[1;32m      1\u001b[0m \u001b[0mdictionary\u001b[0m \u001b[0;34m=\u001b[0m \u001b[0mbatch_vectorizer\u001b[0m\u001b[0;34m.\u001b[0m\u001b[0mdictionary\u001b[0m\u001b[0;34m\u001b[0m\u001b[0;34m\u001b[0m\u001b[0m\n\u001b[0;32m----> 2\u001b[0;31m \u001b[0mdictionary\u001b[0m\u001b[0;34m.\u001b[0m\u001b[0msave_text\u001b[0m\u001b[0;34m(\u001b[0m\u001b[0mdictionary_path\u001b[0m\u001b[0;34m=\u001b[0m\u001b[0;34m'../../data/processed/covid-2019-scientific-papers/dictionary.txt'\u001b[0m\u001b[0;34m)\u001b[0m\u001b[0;34m\u001b[0m\u001b[0;34m\u001b[0m\u001b[0m\n\u001b[0m",
      "\u001b[0;32m~/projects/simcube/venv/lib/python3.8/site-packages/artm/dictionary.py\u001b[0m in \u001b[0;36msave_text\u001b[0;34m(self, dictionary_path, encoding)\u001b[0m\n\u001b[1;32m     84\u001b[0m         \u001b[0;34m:\u001b[0m\u001b[0mparam\u001b[0m \u001b[0mstr\u001b[0m \u001b[0mencoding\u001b[0m\u001b[0;34m:\u001b[0m \u001b[0man\u001b[0m \u001b[0mencoding\u001b[0m \u001b[0mof\u001b[0m \u001b[0mtext\u001b[0m \u001b[0;32min\u001b[0m \u001b[0mdiciotnary\u001b[0m\u001b[0;34m\u001b[0m\u001b[0;34m\u001b[0m\u001b[0m\n\u001b[1;32m     85\u001b[0m         \"\"\"\n\u001b[0;32m---> 86\u001b[0;31m         \u001b[0mdictionary_data\u001b[0m \u001b[0;34m=\u001b[0m \u001b[0mself\u001b[0m\u001b[0;34m.\u001b[0m\u001b[0m_master\u001b[0m\u001b[0;34m.\u001b[0m\u001b[0mget_dictionary\u001b[0m\u001b[0;34m(\u001b[0m\u001b[0mself\u001b[0m\u001b[0;34m.\u001b[0m\u001b[0m_name\u001b[0m\u001b[0;34m)\u001b[0m\u001b[0;34m\u001b[0m\u001b[0;34m\u001b[0m\u001b[0m\n\u001b[0m\u001b[1;32m     87\u001b[0m         \u001b[0;32mwith\u001b[0m \u001b[0mcodecs\u001b[0m\u001b[0;34m.\u001b[0m\u001b[0mopen\u001b[0m\u001b[0;34m(\u001b[0m\u001b[0mdictionary_path\u001b[0m\u001b[0;34m,\u001b[0m \u001b[0;34m'w'\u001b[0m\u001b[0;34m,\u001b[0m \u001b[0mencoding\u001b[0m\u001b[0;34m)\u001b[0m \u001b[0;32mas\u001b[0m \u001b[0mfout\u001b[0m\u001b[0;34m:\u001b[0m\u001b[0;34m\u001b[0m\u001b[0;34m\u001b[0m\u001b[0m\n\u001b[1;32m     88\u001b[0m             fout.write(u'name: {} num_items: {}\\n'.format(dictionary_data.name,\n",
      "\u001b[0;32m~/projects/simcube/venv/lib/python3.8/site-packages/artm/master_component.py\u001b[0m in \u001b[0;36mget_dictionary\u001b[0;34m(self, dictionary_name)\u001b[0m\n\u001b[1;32m    335\u001b[0m         \"\"\"\n\u001b[1;32m    336\u001b[0m         \u001b[0margs\u001b[0m \u001b[0;34m=\u001b[0m \u001b[0mmessages\u001b[0m\u001b[0;34m.\u001b[0m\u001b[0mGetDictionaryArgs\u001b[0m\u001b[0;34m(\u001b[0m\u001b[0mdictionary_name\u001b[0m\u001b[0;34m=\u001b[0m\u001b[0mdictionary_name\u001b[0m\u001b[0;34m)\u001b[0m\u001b[0;34m\u001b[0m\u001b[0;34m\u001b[0m\u001b[0m\n\u001b[0;32m--> 337\u001b[0;31m         \u001b[0mdictionary_data\u001b[0m \u001b[0;34m=\u001b[0m \u001b[0mself\u001b[0m\u001b[0;34m.\u001b[0m\u001b[0m_lib\u001b[0m\u001b[0;34m.\u001b[0m\u001b[0mArtmRequestDictionary\u001b[0m\u001b[0;34m(\u001b[0m\u001b[0mself\u001b[0m\u001b[0;34m.\u001b[0m\u001b[0mmaster_id\u001b[0m\u001b[0;34m,\u001b[0m \u001b[0margs\u001b[0m\u001b[0;34m)\u001b[0m\u001b[0;34m\u001b[0m\u001b[0;34m\u001b[0m\u001b[0m\n\u001b[0m\u001b[1;32m    338\u001b[0m         \u001b[0;32mreturn\u001b[0m \u001b[0mdictionary_data\u001b[0m\u001b[0;34m\u001b[0m\u001b[0;34m\u001b[0m\u001b[0m\n\u001b[1;32m    339\u001b[0m \u001b[0;34m\u001b[0m\u001b[0m\n",
      "\u001b[0;32m~/projects/simcube/venv/lib/python3.8/site-packages/artm/wrapper/api.py\u001b[0m in \u001b[0;36martm_api_call\u001b[0;34m(*args)\u001b[0m\n\u001b[1;32m    159\u001b[0m                 \u001b[0mfunc\u001b[0m\u001b[0;34m.\u001b[0m\u001b[0mrestype\u001b[0m \u001b[0;34m=\u001b[0m \u001b[0mspec\u001b[0m\u001b[0;34m.\u001b[0m\u001b[0mresult_type\u001b[0m\u001b[0;34m\u001b[0m\u001b[0;34m\u001b[0m\u001b[0m\n\u001b[1;32m    160\u001b[0m             \u001b[0mresult\u001b[0m \u001b[0;34m=\u001b[0m \u001b[0mfunc\u001b[0m\u001b[0;34m(\u001b[0m\u001b[0;34m*\u001b[0m\u001b[0mc_args\u001b[0m\u001b[0;34m)\u001b[0m\u001b[0;34m\u001b[0m\u001b[0;34m\u001b[0m\u001b[0m\n\u001b[0;32m--> 161\u001b[0;31m             \u001b[0mself\u001b[0m\u001b[0;34m.\u001b[0m\u001b[0m_check_error\u001b[0m\u001b[0;34m(\u001b[0m\u001b[0mresult\u001b[0m\u001b[0;34m)\u001b[0m\u001b[0;34m\u001b[0m\u001b[0;34m\u001b[0m\u001b[0m\n\u001b[0m\u001b[1;32m    162\u001b[0m \u001b[0;34m\u001b[0m\u001b[0m\n\u001b[1;32m    163\u001b[0m             \u001b[0;31m# return result value\u001b[0m\u001b[0;34m\u001b[0m\u001b[0;34m\u001b[0m\u001b[0;34m\u001b[0m\u001b[0m\n",
      "\u001b[0;32m~/projects/simcube/venv/lib/python3.8/site-packages/artm/wrapper/api.py\u001b[0m in \u001b[0;36m_check_error\u001b[0;34m(self, error_code)\u001b[0m\n\u001b[1;32m     95\u001b[0m             \u001b[0mexception_class\u001b[0m \u001b[0;34m=\u001b[0m \u001b[0mARTM_EXCEPTION_BY_CODE\u001b[0m\u001b[0;34m.\u001b[0m\u001b[0mget\u001b[0m\u001b[0;34m(\u001b[0m\u001b[0merror_code\u001b[0m\u001b[0;34m)\u001b[0m\u001b[0;34m\u001b[0m\u001b[0;34m\u001b[0m\u001b[0m\n\u001b[1;32m     96\u001b[0m             \u001b[0;32mif\u001b[0m \u001b[0mexception_class\u001b[0m \u001b[0;32mis\u001b[0m \u001b[0;32mnot\u001b[0m \u001b[0;32mNone\u001b[0m\u001b[0;34m:\u001b[0m\u001b[0;34m\u001b[0m\u001b[0;34m\u001b[0m\u001b[0m\n\u001b[0;32m---> 97\u001b[0;31m                 \u001b[0;32mraise\u001b[0m \u001b[0mexception_class\u001b[0m\u001b[0;34m(\u001b[0m\u001b[0merror_message\u001b[0m\u001b[0;34m)\u001b[0m\u001b[0;34m\u001b[0m\u001b[0;34m\u001b[0m\u001b[0m\n\u001b[0m\u001b[1;32m     98\u001b[0m             \u001b[0;32melse\u001b[0m\u001b[0;34m:\u001b[0m\u001b[0;34m\u001b[0m\u001b[0;34m\u001b[0m\u001b[0m\n\u001b[1;32m     99\u001b[0m                 \u001b[0;32mraise\u001b[0m \u001b[0mRuntimeError\u001b[0m\u001b[0;34m(\u001b[0m\u001b[0merror_message\u001b[0m\u001b[0;34m)\u001b[0m\u001b[0;34m\u001b[0m\u001b[0;34m\u001b[0m\u001b[0m\n",
      "\u001b[0;31mInvalidOperationException\u001b[0m: Unable to serialize the message"
     ]
    }
   ],
   "source": [
    "dictionary = batch_vectorizer.dictionary\n",
    "dictionary.save_text(dictionary_path='../../data/processed/covid-2019-scientific-papers/dictionary.txt')"
   ]
  },
  {
   "cell_type": "code",
   "execution_count": 10,
   "metadata": {},
   "outputs": [
    {
     "data": {
      "text/plain": [
       "artm.Dictionary(name=f28b0602-87d9-48c5-876e-4196f3f0b884, num_entries=80293676)"
      ]
     },
     "execution_count": 10,
     "metadata": {},
     "output_type": "execute_result"
    }
   ],
   "source": [
    "dictionary"
   ]
  },
  {
   "cell_type": "code",
   "execution_count": 115,
   "metadata": {},
   "outputs": [
    {
     "name": "stdout",
     "output_type": "stream",
     "text": [
      "total 4,1G\n",
      "drwxrwxr-x 2 science science 4,0K Apr  3 21:34 .\n",
      "drwxrwxr-x 4 science science 4,0K Apr  3 21:34 ..\n",
      "-rw-rw-r-- 1 science science 709M Apr  3 21:34 aaaaaa.batch\n",
      "-rw-rw-r-- 1 science science 709M Apr  3 21:34 aaaaab.batch\n",
      "-rw-rw-r-- 1 science science 709M Apr  3 21:34 aaaaac.batch\n",
      "-rw-rw-r-- 1 science science 709M Apr  3 21:34 aaaaad.batch\n",
      "-rw-rw-r-- 1 science science 709M Apr  3 21:34 aaaaae.batch\n",
      "-rw-rw-r-- 1 science science 637M Apr  3 21:34 aaaaaf.batch\n"
     ]
    }
   ],
   "source": [
    "!ls -lah ../../data/processed/covid-2019-scientific-papers/batches"
   ]
  },
  {
   "cell_type": "code",
   "execution_count": 31,
   "metadata": {},
   "outputs": [
    {
     "data": {
      "text/plain": [
       "artm.Dictionary(name=f28b0602-87d9-48c5-876e-4196f3f0b884, num_entries=1981509)"
      ]
     },
     "execution_count": 31,
     "metadata": {},
     "output_type": "execute_result"
    }
   ],
   "source": [
    "dictionary.filter(min_df=7, inplace=True)"
   ]
  },
  {
   "cell_type": "code",
   "execution_count": 32,
   "metadata": {},
   "outputs": [],
   "source": [
    "dictionary.save_text(dictionary_path='../../data/processed/covid-2019-scientific-papers/dictionary.txt')"
   ]
  },
  {
   "cell_type": "code",
   "execution_count": null,
   "metadata": {},
   "outputs": [],
   "source": []
  },
  {
   "cell_type": "code",
   "execution_count": null,
   "metadata": {},
   "outputs": [],
   "source": []
  },
  {
   "cell_type": "code",
   "execution_count": null,
   "metadata": {},
   "outputs": [],
   "source": []
  },
  {
   "cell_type": "code",
   "execution_count": 6,
   "metadata": {},
   "outputs": [],
   "source": [
    "batch_vectorizer = artm.BatchVectorizer(\n",
    "    data_path='../../data/processed/covid-2019-scientific-papers/batches',\n",
    "    data_format='batches',\n",
    ")\n",
    "dictionary = artm.Dictionary()\n",
    "dictionary.load_text(dictionary_path='../../data/processed/covid-2019-scientific-papers/dictionary.txt')"
   ]
  },
  {
   "cell_type": "code",
   "execution_count": 7,
   "metadata": {},
   "outputs": [],
   "source": [
    "def create_topic_names(topic_count=220, background_topic_count=20):\n",
    "    objective_topics = ['objective_topic_' + str(x) for x in range(0, topic_count - background_topic_count)]\n",
    "    background_topics = ['background_topic_' + str(x) for x in range(topic_count - background_topic_count, topic_count)]\n",
    "    all_topics = objective_topics + background_topics\n",
    "\n",
    "    return all_topics, objective_topics, background_topics"
   ]
  },
  {
   "cell_type": "code",
   "execution_count": 8,
   "metadata": {},
   "outputs": [],
   "source": [
    "def print_measures(model):\n",
    "    logging.info('Sparsity Title Phi: {0:.3f}'.format(model.score_tracker['SparsityPhiTitleScore'].last_value))\n",
    "    logging.info('Sparsity Text Phi: {0:.3f}'.format(model.score_tracker['SparsityPhiTextScore'].last_value))\n",
    "    logging.info('Sparsity Bigrams Phi: {0:.3f}'.format(model.score_tracker['SparsityPhiBigramsScore'].last_value))\n",
    "    logging.info('Sparsity Trigrams Phi: {0:.3f}'.format(model.score_tracker['SparsityPhiTrigramsScore'].last_value))\n",
    "    logging.info('Sparsity Theta: {0:.3f}'.format(model.score_tracker['SparsityThetaScore'].last_value))\n",
    "    logging.info('Kernel title contrast: {0:.3f}'.format(model.score_tracker['TopicKernelTitleScore'].last_average_contrast))\n",
    "    logging.info('Kernel text contrast: {0:.3f}'.format(model.score_tracker['TopicKernelTextScore'].last_average_contrast))\n",
    "    logging.info('Kernel bigrams contrast: {0:.3f}'.format(model.score_tracker['TopicKernelBigramsScore'].last_average_contrast))\n",
    "    logging.info('Kernel trigrams contrast: {0:.3f}'.format(model.score_tracker['TopicKernelTrigramsScore'].last_average_contrast))\n",
    "    logging.info('Kernel title purity: {0:.3f}'.format(model.score_tracker['TopicKernelTitleScore'].last_average_purity))\n",
    "    logging.info('Kernel text purity: {0:.3f}'.format(model.score_tracker['TopicKernelTextScore'].last_average_purity))\n",
    "    logging.info('Kernel bigrams purity: {0:.3f}'.format(model.score_tracker['TopicKernelBigramsScore'].last_average_purity))\n",
    "    logging.info('Kernel trigrams purity: {0:.3f}'.format(model.score_tracker['TopicKernelTrigramsScore'].last_average_purity))\n",
    "    logging.info('Perplexity: {0:.3f}'.format(model.score_tracker['PerplexityScore'].last_value))"
   ]
  },
  {
   "cell_type": "code",
   "execution_count": 9,
   "metadata": {},
   "outputs": [],
   "source": [
    "def generate_name():\n",
    "    return str(uuid.uuid1())"
   ]
  },
  {
   "cell_type": "code",
   "execution_count": 10,
   "metadata": {},
   "outputs": [],
   "source": [
    "def mlflow_log_metrics(model):\n",
    "    mlflow.log_metrics({\n",
    "        \"DeccorPhi\": model.regularizers['DeccorPhi'].tau,\n",
    "        \"SmoothPhi\": model.regularizers['SmoothPhi'].tau,\n",
    "        \"SmoothTheta\": model.regularizers['SmoothTheta'].tau,\n",
    "        \"SparsePhi\": model.regularizers['SparsePhi'].tau,\n",
    "        \"SparseTheta\": model.regularizers['SparseTheta'].tau,\n",
    "        \"SparsityPhiTitleScore\": model.score_tracker['SparsityPhiTitleScore'].last_value,\n",
    "        \"SparsityPhiTextScore\": model.score_tracker['SparsityPhiTextScore'].last_value,\n",
    "        \"SparsityPhiBigramsScore\": model.score_tracker['SparsityPhiBigramsScore'].last_value,\n",
    "        \"SparsityPhiTrigramsScore\": model.score_tracker['SparsityPhiTrigramsScore'].last_value,\n",
    "        \"SparsityThetaScore\": model.score_tracker['SparsityThetaScore'].last_value,\n",
    "        \"KernelContrastTitleScore\": model.score_tracker['TopicKernelTitleScore'].last_average_contrast,\n",
    "        \"KernelContrastTextScore\": model.score_tracker['TopicKernelTextScore'].last_average_contrast,\n",
    "        \"KernelContrastBigramsScore\": model.score_tracker['TopicKernelBigramsScore'].last_average_contrast,\n",
    "        \"KernelContrastTrigramsScore\": model.score_tracker['TopicKernelTrigramsScore'].last_average_contrast,\n",
    "        \"TopicPurityTitleScore\": model.score_tracker['TopicKernelTitleScore'].last_average_purity,\n",
    "        \"TopicPurityTextScore\": model.score_tracker['TopicKernelTextScore'].last_average_purity,\n",
    "        \"TopicPurityBigramsScore\": model.score_tracker['TopicKernelBigramsScore'].last_average_purity,\n",
    "        \"TopicPurityTrigramsScore\": model.score_tracker['TopicKernelTrigramsScore'].last_average_purity,\n",
    "        \"PerplexityScore\": model.score_tracker['PerplexityScore'].last_value,\n",
    "    }, step=model.num_phi_updates)"
   ]
  },
  {
   "cell_type": "code",
   "execution_count": 11,
   "metadata": {},
   "outputs": [],
   "source": [
    "experiments_path = \"../../data/processed/covid-2019-scientific-papers/\""
   ]
  },
  {
   "cell_type": "code",
   "execution_count": 12,
   "metadata": {},
   "outputs": [],
   "source": [
    "def next_step(i, model, batch_vectorizer, step_size):\n",
    "    model_name = generate_name()\n",
    "    print(model_name)\n",
    "\n",
    "    for _ in tqdm(range(step_size)):\n",
    "        model.fit_offline(batch_vectorizer=batch_vectorizer, num_collection_passes=1)\n",
    "        mlflow_log_metrics(model)\n",
    "    print_measures(model)\n",
    "\n",
    "    Path(os.path.join(experiments_path, 'models')).mkdir(parents=True, exist_ok=True)\n",
    "    model_dir_name = os.path.join(experiments_path, 'models', f\"{model_name}\")\n",
    "    model.dump_artm_model(model_dir_name)\n",
    "    mlflow.set_tag(f\"model_dump_{i}\", model_dir_name)\n",
    "    mlflow.log_artifacts(model_dir_name)"
   ]
  },
  {
   "cell_type": "code",
   "execution_count": 13,
   "metadata": {},
   "outputs": [],
   "source": [
    "import logging"
   ]
  },
  {
   "cell_type": "code",
   "execution_count": 14,
   "metadata": {},
   "outputs": [],
   "source": [
    "min_df = 5\n",
    "num_all_topics = 220\n",
    "num_background_topics = 20\n",
    "step_size = 20"
   ]
  },
  {
   "cell_type": "code",
   "execution_count": 15,
   "metadata": {},
   "outputs": [],
   "source": [
    "all_topics, objective_topics, background_topics = create_topic_names(num_all_topics, num_background_topics)"
   ]
  },
  {
   "cell_type": "code",
   "execution_count": 16,
   "metadata": {},
   "outputs": [],
   "source": [
    "scores_artm = [\n",
    "        artm.PerplexityScore(name='PerplexityScore', dictionary=dictionary, class_ids=[\"@title\", \"@text\", \"@bigrams\", \"@trigrams\"]),\n",
    "        artm.SparsityPhiScore(name='SparsityPhiTitleScore', topic_names=objective_topics, class_id=\"@title\"),\n",
    "        artm.SparsityPhiScore(name='SparsityPhiTextScore', topic_names=objective_topics, class_id=\"@text\"),\n",
    "        artm.SparsityPhiScore(name='SparsityPhiBigramsScore', topic_names=objective_topics, class_id=\"@bigrams\"),\n",
    "        artm.SparsityPhiScore(name='SparsityPhiTrigramsScore', topic_names=objective_topics, class_id=\"@trigrams\"),\n",
    "        artm.SparsityThetaScore(name='SparsityThetaScore', topic_names=objective_topics),\n",
    "        artm.TopTokensScore(name='TopTokensTitleScore', num_tokens=20, topic_names=objective_topics, dictionary=dictionary, class_id=\"@title\"),\n",
    "        artm.TopTokensScore(name='TopTokensTextScore', num_tokens=20, topic_names=objective_topics, dictionary=dictionary, class_id=\"@text\"),\n",
    "        artm.TopTokensScore(name='TopTokensBigramsScore', num_tokens=20, topic_names=objective_topics, dictionary=dictionary, class_id=\"@bigrams\"),\n",
    "        artm.TopTokensScore(name='TopTokensTrigramsScore', num_tokens=20, topic_names=objective_topics, dictionary=dictionary, class_id=\"@trigrams\"),\n",
    "        artm.TopicKernelScore(name='TopicKernelTitleScore', class_id=\"@title\", probability_mass_threshold=0.25,\n",
    "                              topic_names=objective_topics, dictionary=dictionary),\n",
    "        artm.TopicKernelScore(name='TopicKernelTextScore', class_id=\"@text\", probability_mass_threshold=0.25,\n",
    "                              topic_names=objective_topics, dictionary=dictionary),\n",
    "        artm.TopicKernelScore(name='TopicKernelBigramsScore', class_id=\"@bigrams\", probability_mass_threshold=0.25,\n",
    "                              topic_names=objective_topics, dictionary=dictionary),\n",
    "        artm.TopicKernelScore(name='TopicKernelTrigramsScore', class_id=\"@trigrams\", probability_mass_threshold=0.25,\n",
    "                              topic_names=objective_topics, dictionary=dictionary),\n",
    "    ]"
   ]
  },
  {
   "cell_type": "code",
   "execution_count": 17,
   "metadata": {},
   "outputs": [],
   "source": [
    "regularizers_artm = [\n",
    "        artm.DecorrelatorPhiRegularizer(name='DeccorPhi', topic_names=objective_topics, gamma=0, tau=0),\n",
    "        artm.SmoothSparsePhiRegularizer(name='SparsePhi', topic_names=objective_topics, dictionary=dictionary, gamma=0,\n",
    "                                        tau=0),\n",
    "        artm.SmoothSparsePhiRegularizer(name='SmoothPhi', topic_names=background_topics, dictionary=dictionary, gamma=0,\n",
    "                                        tau=0),\n",
    "        artm.SmoothSparseThetaRegularizer(name='SparseTheta', topic_names=objective_topics, tau=0),\n",
    "        artm.SmoothSparseThetaRegularizer(name='SmoothTheta', topic_names=background_topics, tau=0),\n",
    "        artm.TopicSelectionThetaRegularizer(name='TopicSelectionTheta', topic_names=objective_topics, tau=0)\n",
    "    ]"
   ]
  },
  {
   "cell_type": "code",
   "execution_count": 18,
   "metadata": {},
   "outputs": [],
   "source": [
    "model = artm.ARTM(\n",
    "        num_topics=num_all_topics,\n",
    "        topic_names=all_topics,\n",
    "        class_ids={'@title': 3.0, '@text': 1.0, \"@bigrams\": 2.0, \"@trigrams\": 4.0},\n",
    "        num_processors=mp.cpu_count() - 1,\n",
    "        num_document_passes=2,\n",
    "        regularizers=regularizers_artm,\n",
    "        scores=scores_artm,\n",
    "        dictionary=dictionary,\n",
    "        cache_theta=False,\n",
    "        seed=42,\n",
    "        show_progress_bars=False\n",
    "    )"
   ]
  },
  {
   "cell_type": "code",
   "execution_count": null,
   "metadata": {},
   "outputs": [
    {
     "name": "stdout",
     "output_type": "stream",
     "text": [
      "72ee7db2-75e9-11ea-b748-0ae0afb50062\n"
     ]
    },
    {
     "data": {
      "application/vnd.jupyter.widget-view+json": {
       "model_id": "3c0727035e7f4e0d9a82d7d43d95ecd3",
       "version_major": 2,
       "version_minor": 0
      },
      "text/plain": [
       "HBox(children=(FloatProgress(value=0.0, max=20.0), HTML(value='')))"
      ]
     },
     "metadata": {},
     "output_type": "display_data"
    }
   ],
   "source": [
    "mlflow.set_experiment(\"covid-2019-scientific-papers\")\n",
    "with mlflow.start_run():\n",
    "\n",
    "    # этап 1 - сильная декорреляция + сглаживание\n",
    "    # Sparse < 0\n",
    "    # Smooth > 0\n",
    "    model.regularizers['DeccorPhi'].tau = 0.005\n",
    "    model.regularizers['SmoothPhi'].tau = 0.4\n",
    "    model.regularizers['SmoothTheta'].tau = 0.4\n",
    "    next_step(1, model, batch_vectorizer, step_size)\n",
    "\n",
    "    model.regularizers['DeccorPhi'].tau = 0.015\n",
    "    model.regularizers['SmoothPhi'].tau = 0.6\n",
    "    model.regularizers['SmoothTheta'].tau = 0.6\n",
    "    next_step(2, model, batch_vectorizer, step_size)\n",
    "\n",
    "    model.regularizers['DeccorPhi'].tau = 0.03\n",
    "    model.regularizers['SmoothPhi'].tau = 0.8\n",
    "    model.regularizers['SmoothTheta'].tau = 0.8\n",
    "    next_step(3, model, batch_vectorizer, step_size)\n",
    "\n",
    "    # этап 2 - подключение разреживания предметных, постепенное увеличение разреживания\n",
    "    # Sparse < 0\n",
    "    # Smooth > 0\n",
    "    model.regularizers['SparsePhi'].tau = -0.0001\n",
    "    model.regularizers['SparseTheta'].tau = -0.1\n",
    "    next_step(4, model, batch_vectorizer, step_size)\n",
    "\n",
    "    model.regularizers['SparsePhi'].tau = -0.0002\n",
    "    model.regularizers['SparseTheta'].tau = -0.2\n",
    "    next_step(5, model, batch_vectorizer, step_size)\n",
    "\n",
    "    model.regularizers['SparsePhi'].tau = -0.0003\n",
    "    model.regularizers['SparseTheta'].tau = -0.3\n",
    "    next_step(6, model, batch_vectorizer, step_size)\n",
    "\n",
    "    # этап 3\n",
    "    # Sparse < 0\n",
    "    # Smooth > 0\n",
    "    model.regularizers['SparsePhi'].tau = -0.0005\n",
    "    model.regularizers['SparseTheta'].tau = -0.4\n",
    "    next_step(7, model, batch_vectorizer, step_size)\n",
    "\n",
    "    model.regularizers['SparsePhi'].tau = -0.0006\n",
    "    model.regularizers['SparseTheta'].tau = -0.5\n",
    "    next_step(8, model, batch_vectorizer, step_size)\n",
    "\n",
    "    model.regularizers['SparsePhi'].tau = -0.0007\n",
    "    model.regularizers['SparseTheta'].tau = -0.6\n",
    "    next_step(9, model, batch_vectorizer, step_size)"
   ]
  },
  {
   "cell_type": "code",
   "execution_count": null,
   "metadata": {},
   "outputs": [],
   "source": []
  },
  {
   "cell_type": "code",
   "execution_count": null,
   "metadata": {},
   "outputs": [],
   "source": []
  },
  {
   "cell_type": "code",
   "execution_count": null,
   "metadata": {},
   "outputs": [],
   "source": []
  },
  {
   "cell_type": "code",
   "execution_count": null,
   "metadata": {},
   "outputs": [],
   "source": []
  },
  {
   "cell_type": "code",
   "execution_count": null,
   "metadata": {},
   "outputs": [],
   "source": []
  },
  {
   "cell_type": "code",
   "execution_count": null,
   "metadata": {},
   "outputs": [],
   "source": []
  }
 ],
 "metadata": {
  "kernelspec": {
   "display_name": "Python 3",
   "language": "python",
   "name": "python3"
  },
  "language_info": {
   "codemirror_mode": {
    "name": "ipython",
    "version": 3
   },
   "file_extension": ".py",
   "mimetype": "text/x-python",
   "name": "python",
   "nbconvert_exporter": "python",
   "pygments_lexer": "ipython3",
   "version": "3.8.1"
  }
 },
 "nbformat": 4,
 "nbformat_minor": 4
}
